{
 "cells": [
  {
   "cell_type": "markdown",
   "metadata": {},
   "source": [
    "# Выбор локации для скважины\n",
    "____________"
   ]
  },
  {
   "cell_type": "markdown",
   "metadata": {
    "toc": true
   },
   "source": [
    "<h1>Содержание<span class=\"tocSkip\"></span></h1>\n",
    "<div class=\"toc\"><ul class=\"toc-item\"><li><span><a href=\"#Описание-проекта\" data-toc-modified-id=\"Описание-проекта-1\"><span class=\"toc-item-num\">1&nbsp;&nbsp;</span>Описание проекта</a></span><ul class=\"toc-item\"><li><span><a href=\"#Цель-исследования\" data-toc-modified-id=\"Цель-исследования-1.1\"><span class=\"toc-item-num\">1.1&nbsp;&nbsp;</span>Цель исследования</a></span></li><li><span><a href=\"#Задачи\" data-toc-modified-id=\"Задачи-1.2\"><span class=\"toc-item-num\">1.2&nbsp;&nbsp;</span>Задачи</a></span></li><li><span><a href=\"#Описание-данных\" data-toc-modified-id=\"Описание-данных-1.3\"><span class=\"toc-item-num\">1.3&nbsp;&nbsp;</span>Описание данных</a></span></li></ul></li><li><span><a href=\"#Загрузка-и-подготовка-данных\" data-toc-modified-id=\"Загрузка-и-подготовка-данных-2\"><span class=\"toc-item-num\">2&nbsp;&nbsp;</span>Загрузка и подготовка данных</a></span><ul class=\"toc-item\"><li><span><a href=\"#Вывод\" data-toc-modified-id=\"Вывод-2.1\"><span class=\"toc-item-num\">2.1&nbsp;&nbsp;</span>Вывод</a></span></li></ul></li><li><span><a href=\"#Обучение-и-проверка-модели\" data-toc-modified-id=\"Обучение-и-проверка-модели-3\"><span class=\"toc-item-num\">3&nbsp;&nbsp;</span>Обучение и проверка модели</a></span><ul class=\"toc-item\"><li><span><a href=\"#Вывод\" data-toc-modified-id=\"Вывод-3.1\"><span class=\"toc-item-num\">3.1&nbsp;&nbsp;</span>Вывод</a></span></li></ul></li><li><span><a href=\"#Подготовка-к-расчёту-прибыли\" data-toc-modified-id=\"Подготовка-к-расчёту-прибыли-4\"><span class=\"toc-item-num\">4&nbsp;&nbsp;</span>Подготовка к расчёту прибыли</a></span><ul class=\"toc-item\"><li><span><a href=\"#Вывод\" data-toc-modified-id=\"Вывод-4.1\"><span class=\"toc-item-num\">4.1&nbsp;&nbsp;</span>Вывод</a></span></li></ul></li><li><span><a href=\"#Расчёт-прибыли-и-рисков\" data-toc-modified-id=\"Расчёт-прибыли-и-рисков-5\"><span class=\"toc-item-num\">5&nbsp;&nbsp;</span>Расчёт прибыли и рисков</a></span><ul class=\"toc-item\"><li><span><a href=\"#Вывод\" data-toc-modified-id=\"Вывод-5.1\"><span class=\"toc-item-num\">5.1&nbsp;&nbsp;</span>Вывод</a></span></li></ul></li><li><span><a href=\"#Общий-вывод\" data-toc-modified-id=\"Общий-вывод-6\"><span class=\"toc-item-num\">6&nbsp;&nbsp;</span>Общий вывод</a></span></li><li><span><a href=\"#Чек-лист-готовности-проекта\" data-toc-modified-id=\"Чек-лист-готовности-проекта-7\"><span class=\"toc-item-num\">7&nbsp;&nbsp;</span>Чек-лист готовности проекта</a></span></li></ul></div>"
   ]
  },
  {
   "cell_type": "markdown",
   "metadata": {},
   "source": [
    "## Описание проекта\n",
    "\n",
    "Компании «ГлавРосГосНефть» нужно решить, где бурить новую скважину.\n",
    "\n",
    "Вам предоставлены пробы нефти в трёх регионах: в каждом 10 000 месторождений, где измерили качество нефти и объём её запасов. Постройте модель машинного обучения, которая поможет определить регион, где добыча принесёт наибольшую прибыль. Проанализируйте возможную прибыль и риски техникой Bootstrap.\n",
    "\n",
    "Шаги для выбора локации:\n",
    "\n",
    "* В избранном регионе собирают характеристики для скважин: качество нефти и объём её запасов;\n",
    "* Строят модель для предсказания объёма запасов в новых скважинах;\n",
    "* Выбирают скважины с самыми высокими оценками значений;\n",
    "* Определяют регион с максимальной суммарной прибылью отобранных скважин\n",
    "\n",
    "### Цель исследования\n",
    "\n",
    "Построить модель машинного обучения для определения региона, где добыча принесёт наибольшую прибыль. Определить возможную прибыль и риски техникой Bootstrap.\n",
    "\n",
    "### Задачи\n",
    "\n",
    "1. Загрузить и подготовьть данные. \n",
    "2. Обучить и проверить модель для каждого региона:\n",
    " - Разбить данные на обучающую и валидационную выборки в соотношении 75:25.\n",
    " - Обучить модель и сделать предсказания на валидационной выборке.\n",
    " - Сохранить предсказания и правильные ответы на валидационной выборке.\n",
    " - Напечатать на экране средний запас предсказанного сырья и RMSE модели.\n",
    " - Проанализировать результаты.\n",
    "3. Подготовить данные к расчёту прибыли:\n",
    " - Все ключевые значения для расчётов сохранить в отдельных переменных.\n",
    " - Рассчитать достаточный объём сырья для безубыточной разработки новой скважины. Сравнить полученный объём сырья со средним запасом в каждом регионе.\n",
    " - Написать выводы по этапу подготовки расчёта прибыли.\n",
    "4. Написать функцию для расчёта прибыли по выбранным скважинам и предсказаниям модели:\n",
    " - Выбрать скважины с максимальными значениями предсказаний.\n",
    " - Просуммировать целевое значение объёма сырья, соответствующее этим предсказаниям.\n",
    " - Рассчитать прибыль для полученного объёма сырья.\n",
    "5. Посчитать риски и прибыль для каждого региона:\n",
    " -  Применить технику Bootstrap с 1000 выборок, чтобы найти распределение прибыли.\n",
    " -  Найти среднюю прибыль, 95%-й доверительный интервал и риск убытков. Убыток — это отрицательная прибыль.\n",
    "6. Написать выводы: предложить регион для разработки скважин и обосновать выбор.\n",
    "\n",
    "### Описание данных\n",
    "\n",
    "Вам предоставлены пробы нефти в трёх регионах. Характеристики для каждой скважины в регионе уже известны.\n",
    "\n",
    "Данные геологоразведки трёх регионов находятся в файлах:\n",
    "* `/datasets/geo_data_0.csv`;\n",
    "* `/datasets/geo_data_1.csv`; \n",
    "* `/datasets/geo_data_2.csv`, где \n",
    "\n",
    "* `id` — уникальный идентификатор скважины;\n",
    "* `f0`, `f1`, `f2` — три признака точек (неважно, что они означают, но сами признаки значимы);\n",
    "* `product` — объём запасов в скважине (тыс. баррелей).\n",
    "\n",
    "**Условия задачи:**\n",
    "\n",
    "* Для обучения модели подходит только линейная регрессия (остальные — недостаточно предсказуемые).\n",
    "* При разведке региона исследуют 500 точек, из которых с помощью машинного обучения выбирают 200 лучших для разработки.\n",
    "* Бюджет на разработку скважин в регионе — 10 млрд рублей.\n",
    "* При нынешних ценах один баррель сырья приносит 450 рублей дохода. Доход с каждой единицы продукта составляет 450 тыс. рублей, поскольку объём указан в тысячах баррелей.\n",
    "* После оценки рисков нужно оставить лишь те регионы, в которых вероятность убытков меньше 2.5%. Среди них выбирают регион с наибольшей средней прибылью."
   ]
  },
  {
   "cell_type": "markdown",
   "metadata": {},
   "source": [
    "## Загрузка и подготовка данных"
   ]
  },
  {
   "cell_type": "markdown",
   "metadata": {},
   "source": [
    "Для начала импортируем необходимые для работы библиотеки."
   ]
  },
  {
   "cell_type": "code",
   "execution_count": 1,
   "metadata": {},
   "outputs": [],
   "source": [
    "import pandas as pd\n",
    "import numpy as np\n",
    "from sklearn.model_selection import train_test_split\n",
    "from sklearn.linear_model import LinearRegression\n",
    "from sklearn.metrics import mean_squared_error\n",
    "from numpy.random import RandomState\n",
    "import warnings\n",
    "warnings.filterwarnings('ignore') \n",
    "\n",
    "pd.options.mode.chained_assignment = None "
   ]
  },
  {
   "cell_type": "markdown",
   "metadata": {},
   "source": [
    "Сохраним данные о трех скважинах в переменные `df1`, `df2` и `df3`. Выведем основные данные."
   ]
  },
  {
   "cell_type": "code",
   "execution_count": 7,
   "metadata": {},
   "outputs": [
    {
     "name": "stdout",
     "output_type": "stream",
     "text": [
      "\u001b[31m geo_data_0 \u001b[0m\n"
     ]
    },
    {
     "data": {
      "text/html": [
       "<div>\n",
       "<style scoped>\n",
       "    .dataframe tbody tr th:only-of-type {\n",
       "        vertical-align: middle;\n",
       "    }\n",
       "\n",
       "    .dataframe tbody tr th {\n",
       "        vertical-align: top;\n",
       "    }\n",
       "\n",
       "    .dataframe thead th {\n",
       "        text-align: right;\n",
       "    }\n",
       "</style>\n",
       "<table border=\"1\" class=\"dataframe\">\n",
       "  <thead>\n",
       "    <tr style=\"text-align: right;\">\n",
       "      <th></th>\n",
       "      <th>id</th>\n",
       "      <th>f0</th>\n",
       "      <th>f1</th>\n",
       "      <th>f2</th>\n",
       "      <th>product</th>\n",
       "    </tr>\n",
       "  </thead>\n",
       "  <tbody>\n",
       "    <tr>\n",
       "      <th>0</th>\n",
       "      <td>txEyH</td>\n",
       "      <td>0.705745</td>\n",
       "      <td>-0.497823</td>\n",
       "      <td>1.221170</td>\n",
       "      <td>105.280062</td>\n",
       "    </tr>\n",
       "    <tr>\n",
       "      <th>1</th>\n",
       "      <td>2acmU</td>\n",
       "      <td>1.334711</td>\n",
       "      <td>-0.340164</td>\n",
       "      <td>4.365080</td>\n",
       "      <td>73.037750</td>\n",
       "    </tr>\n",
       "    <tr>\n",
       "      <th>2</th>\n",
       "      <td>409Wp</td>\n",
       "      <td>1.022732</td>\n",
       "      <td>0.151990</td>\n",
       "      <td>1.419926</td>\n",
       "      <td>85.265647</td>\n",
       "    </tr>\n",
       "    <tr>\n",
       "      <th>3</th>\n",
       "      <td>iJLyR</td>\n",
       "      <td>-0.032172</td>\n",
       "      <td>0.139033</td>\n",
       "      <td>2.978566</td>\n",
       "      <td>168.620776</td>\n",
       "    </tr>\n",
       "    <tr>\n",
       "      <th>4</th>\n",
       "      <td>Xdl7t</td>\n",
       "      <td>1.988431</td>\n",
       "      <td>0.155413</td>\n",
       "      <td>4.751769</td>\n",
       "      <td>154.036647</td>\n",
       "    </tr>\n",
       "  </tbody>\n",
       "</table>\n",
       "</div>"
      ],
      "text/plain": [
       "      id        f0        f1        f2     product\n",
       "0  txEyH  0.705745 -0.497823  1.221170  105.280062\n",
       "1  2acmU  1.334711 -0.340164  4.365080   73.037750\n",
       "2  409Wp  1.022732  0.151990  1.419926   85.265647\n",
       "3  iJLyR -0.032172  0.139033  2.978566  168.620776\n",
       "4  Xdl7t  1.988431  0.155413  4.751769  154.036647"
      ]
     },
     "metadata": {},
     "output_type": "display_data"
    },
    {
     "name": "stdout",
     "output_type": "stream",
     "text": [
      "<class 'pandas.core.frame.DataFrame'>\n",
      "RangeIndex: 100000 entries, 0 to 99999\n",
      "Data columns (total 5 columns):\n",
      " #   Column   Non-Null Count   Dtype  \n",
      "---  ------   --------------   -----  \n",
      " 0   id       100000 non-null  object \n",
      " 1   f0       100000 non-null  float64\n",
      " 2   f1       100000 non-null  float64\n",
      " 3   f2       100000 non-null  float64\n",
      " 4   product  100000 non-null  float64\n",
      "dtypes: float64(4), object(1)\n",
      "memory usage: 3.8+ MB\n",
      "None \n",
      "\n",
      "\u001b[31m geo_data_1 \u001b[0m\n"
     ]
    },
    {
     "data": {
      "text/html": [
       "<div>\n",
       "<style scoped>\n",
       "    .dataframe tbody tr th:only-of-type {\n",
       "        vertical-align: middle;\n",
       "    }\n",
       "\n",
       "    .dataframe tbody tr th {\n",
       "        vertical-align: top;\n",
       "    }\n",
       "\n",
       "    .dataframe thead th {\n",
       "        text-align: right;\n",
       "    }\n",
       "</style>\n",
       "<table border=\"1\" class=\"dataframe\">\n",
       "  <thead>\n",
       "    <tr style=\"text-align: right;\">\n",
       "      <th></th>\n",
       "      <th>id</th>\n",
       "      <th>f0</th>\n",
       "      <th>f1</th>\n",
       "      <th>f2</th>\n",
       "      <th>product</th>\n",
       "    </tr>\n",
       "  </thead>\n",
       "  <tbody>\n",
       "    <tr>\n",
       "      <th>0</th>\n",
       "      <td>kBEdx</td>\n",
       "      <td>-15.001348</td>\n",
       "      <td>-8.276000</td>\n",
       "      <td>-0.005876</td>\n",
       "      <td>3.179103</td>\n",
       "    </tr>\n",
       "    <tr>\n",
       "      <th>1</th>\n",
       "      <td>62mP7</td>\n",
       "      <td>14.272088</td>\n",
       "      <td>-3.475083</td>\n",
       "      <td>0.999183</td>\n",
       "      <td>26.953261</td>\n",
       "    </tr>\n",
       "    <tr>\n",
       "      <th>2</th>\n",
       "      <td>vyE1P</td>\n",
       "      <td>6.263187</td>\n",
       "      <td>-5.948386</td>\n",
       "      <td>5.001160</td>\n",
       "      <td>134.766305</td>\n",
       "    </tr>\n",
       "    <tr>\n",
       "      <th>3</th>\n",
       "      <td>KcrkZ</td>\n",
       "      <td>-13.081196</td>\n",
       "      <td>-11.506057</td>\n",
       "      <td>4.999415</td>\n",
       "      <td>137.945408</td>\n",
       "    </tr>\n",
       "    <tr>\n",
       "      <th>4</th>\n",
       "      <td>AHL4O</td>\n",
       "      <td>12.702195</td>\n",
       "      <td>-8.147433</td>\n",
       "      <td>5.004363</td>\n",
       "      <td>134.766305</td>\n",
       "    </tr>\n",
       "  </tbody>\n",
       "</table>\n",
       "</div>"
      ],
      "text/plain": [
       "      id         f0         f1        f2     product\n",
       "0  kBEdx -15.001348  -8.276000 -0.005876    3.179103\n",
       "1  62mP7  14.272088  -3.475083  0.999183   26.953261\n",
       "2  vyE1P   6.263187  -5.948386  5.001160  134.766305\n",
       "3  KcrkZ -13.081196 -11.506057  4.999415  137.945408\n",
       "4  AHL4O  12.702195  -8.147433  5.004363  134.766305"
      ]
     },
     "metadata": {},
     "output_type": "display_data"
    },
    {
     "name": "stdout",
     "output_type": "stream",
     "text": [
      "<class 'pandas.core.frame.DataFrame'>\n",
      "RangeIndex: 100000 entries, 0 to 99999\n",
      "Data columns (total 5 columns):\n",
      " #   Column   Non-Null Count   Dtype  \n",
      "---  ------   --------------   -----  \n",
      " 0   id       100000 non-null  object \n",
      " 1   f0       100000 non-null  float64\n",
      " 2   f1       100000 non-null  float64\n",
      " 3   f2       100000 non-null  float64\n",
      " 4   product  100000 non-null  float64\n",
      "dtypes: float64(4), object(1)\n",
      "memory usage: 3.8+ MB\n",
      "None \n",
      "\n",
      "\u001b[31m geo_data_2 \u001b[0m\n"
     ]
    },
    {
     "data": {
      "text/html": [
       "<div>\n",
       "<style scoped>\n",
       "    .dataframe tbody tr th:only-of-type {\n",
       "        vertical-align: middle;\n",
       "    }\n",
       "\n",
       "    .dataframe tbody tr th {\n",
       "        vertical-align: top;\n",
       "    }\n",
       "\n",
       "    .dataframe thead th {\n",
       "        text-align: right;\n",
       "    }\n",
       "</style>\n",
       "<table border=\"1\" class=\"dataframe\">\n",
       "  <thead>\n",
       "    <tr style=\"text-align: right;\">\n",
       "      <th></th>\n",
       "      <th>id</th>\n",
       "      <th>f0</th>\n",
       "      <th>f1</th>\n",
       "      <th>f2</th>\n",
       "      <th>product</th>\n",
       "    </tr>\n",
       "  </thead>\n",
       "  <tbody>\n",
       "    <tr>\n",
       "      <th>0</th>\n",
       "      <td>fwXo0</td>\n",
       "      <td>-1.146987</td>\n",
       "      <td>0.963328</td>\n",
       "      <td>-0.828965</td>\n",
       "      <td>27.758673</td>\n",
       "    </tr>\n",
       "    <tr>\n",
       "      <th>1</th>\n",
       "      <td>WJtFt</td>\n",
       "      <td>0.262778</td>\n",
       "      <td>0.269839</td>\n",
       "      <td>-2.530187</td>\n",
       "      <td>56.069697</td>\n",
       "    </tr>\n",
       "    <tr>\n",
       "      <th>2</th>\n",
       "      <td>ovLUW</td>\n",
       "      <td>0.194587</td>\n",
       "      <td>0.289035</td>\n",
       "      <td>-5.586433</td>\n",
       "      <td>62.871910</td>\n",
       "    </tr>\n",
       "    <tr>\n",
       "      <th>3</th>\n",
       "      <td>q6cA6</td>\n",
       "      <td>2.236060</td>\n",
       "      <td>-0.553760</td>\n",
       "      <td>0.930038</td>\n",
       "      <td>114.572842</td>\n",
       "    </tr>\n",
       "    <tr>\n",
       "      <th>4</th>\n",
       "      <td>WPMUX</td>\n",
       "      <td>-0.515993</td>\n",
       "      <td>1.716266</td>\n",
       "      <td>5.899011</td>\n",
       "      <td>149.600746</td>\n",
       "    </tr>\n",
       "  </tbody>\n",
       "</table>\n",
       "</div>"
      ],
      "text/plain": [
       "      id        f0        f1        f2     product\n",
       "0  fwXo0 -1.146987  0.963328 -0.828965   27.758673\n",
       "1  WJtFt  0.262778  0.269839 -2.530187   56.069697\n",
       "2  ovLUW  0.194587  0.289035 -5.586433   62.871910\n",
       "3  q6cA6  2.236060 -0.553760  0.930038  114.572842\n",
       "4  WPMUX -0.515993  1.716266  5.899011  149.600746"
      ]
     },
     "metadata": {},
     "output_type": "display_data"
    },
    {
     "name": "stdout",
     "output_type": "stream",
     "text": [
      "<class 'pandas.core.frame.DataFrame'>\n",
      "RangeIndex: 100000 entries, 0 to 99999\n",
      "Data columns (total 5 columns):\n",
      " #   Column   Non-Null Count   Dtype  \n",
      "---  ------   --------------   -----  \n",
      " 0   id       100000 non-null  object \n",
      " 1   f0       100000 non-null  float64\n",
      " 2   f1       100000 non-null  float64\n",
      " 3   f2       100000 non-null  float64\n",
      " 4   product  100000 non-null  float64\n",
      "dtypes: float64(4), object(1)\n",
      "memory usage: 3.8+ MB\n",
      "None \n",
      "\n"
     ]
    }
   ],
   "source": [
    "df1 = pd.read_csv('/datasets/geo_data_0.csv')\n",
    "df2 = pd.read_csv('/datasets/geo_data_1.csv')\n",
    "df3 = pd.read_csv('/datasets/geo_data_2.csv')\n",
    "\n",
    "datasets = [df1, df2, df3]\n",
    "_=0\n",
    "for df in datasets:\n",
    "    print('\\033[31m', f'geo_data_{_}', '\\033[0m')\n",
    "    display(df.head())\n",
    "    print(df.info(), '\\n')\n",
    "    _ += 1\n"
   ]
  },
  {
   "cell_type": "markdown",
   "metadata": {},
   "source": [
    "Во всех датасетах данные представлены в 5 столбцах. Пропусков нет.\n",
    "\n",
    "Проверим дублируются ли данные о характеристиках скважин."
   ]
  },
  {
   "cell_type": "code",
   "execution_count": 9,
   "metadata": {},
   "outputs": [
    {
     "name": "stdout",
     "output_type": "stream",
     "text": [
      "\u001b[31m df1 \u001b[0m \n",
      " id\n",
      "Tdehs    2\n",
      "bxg6G    2\n",
      "QcMuo    2\n",
      "HZww2    2\n",
      "TtcGQ    2\n",
      "AGS9W    2\n",
      "fiKDv    2\n",
      "bsk9y    2\n",
      "A5aEY    2\n",
      "74z30    2\n",
      "006OJ    1\n",
      "Name: id, dtype: int64 \n",
      "\n",
      "\u001b[31m df2 \u001b[0m \n",
      " id\n",
      "wt4Uk    2\n",
      "LHZR0    2\n",
      "5ltQ6    2\n",
      "bfPNe    2\n",
      "0022J    1\n",
      "fDlc6    1\n",
      "fDkrz    1\n",
      "fDk0I    1\n",
      "fDj3Z    1\n",
      "fDiBm    1\n",
      "fDebP    1\n",
      "Name: id, dtype: int64 \n",
      "\n",
      "\u001b[31m df3 \u001b[0m \n",
      " id\n",
      "xCHr8    2\n",
      "KUPhW    2\n",
      "Vcm5J    2\n",
      "VF7Jo    2\n",
      "fHfpS    1\n",
      "fHeKc    1\n",
      "fHeFi    1\n",
      "fHYqC    1\n",
      "fHY7n    1\n",
      "fHX3Q    1\n",
      "fHUkS    1\n",
      "Name: id, dtype: int64 \n",
      "\n"
     ]
    }
   ],
   "source": [
    "df_name = ['df1', 'df2', 'df3']\n",
    "i=0\n",
    "\n",
    "for df in datasets:\n",
    "    print('\\033[31m', df_name[i],'\\033[0m', '\\n', df.groupby('id')['id'].count().sort_values(ascending=False).head(11), '\\n')\n",
    "    i += 1"
   ]
  },
  {
   "cell_type": "markdown",
   "metadata": {},
   "source": [
    "Как видно, во всех трех регионах встречаются скважины, данные о которых записаны дважды. \n",
    "\n",
    "Это можно объяснить тем, исследования могли проводиться также дважды - в начале эксплуатации скважины и через какое-то время, когда представленные параметры в исходных данных изменились, так как в процессе нефтедобычи ухудшаются характеристики пласта и продукции вследствие повышения обводненности (образуются водонефтяные эмульсии, которые тяжелее добываются), выпадают соли, образуются асфальтеносмолопарафиновые отложения и т.д.\n",
    "\n",
    "Выведем данные по нескольким таким скважинам."
   ]
  },
  {
   "cell_type": "code",
   "execution_count": 5,
   "metadata": {
    "scrolled": false
   },
   "outputs": [
    {
     "data": {
      "text/html": [
       "<div>\n",
       "<style scoped>\n",
       "    .dataframe tbody tr th:only-of-type {\n",
       "        vertical-align: middle;\n",
       "    }\n",
       "\n",
       "    .dataframe tbody tr th {\n",
       "        vertical-align: top;\n",
       "    }\n",
       "\n",
       "    .dataframe thead th {\n",
       "        text-align: right;\n",
       "    }\n",
       "</style>\n",
       "<table border=\"1\" class=\"dataframe\">\n",
       "  <thead>\n",
       "    <tr style=\"text-align: right;\">\n",
       "      <th></th>\n",
       "      <th>id</th>\n",
       "      <th>f0</th>\n",
       "      <th>f1</th>\n",
       "      <th>f2</th>\n",
       "      <th>product</th>\n",
       "    </tr>\n",
       "  </thead>\n",
       "  <tbody>\n",
       "    <tr>\n",
       "      <td>42529</td>\n",
       "      <td>AGS9W</td>\n",
       "      <td>1.454747</td>\n",
       "      <td>-0.479651</td>\n",
       "      <td>0.683380</td>\n",
       "      <td>126.370504</td>\n",
       "    </tr>\n",
       "    <tr>\n",
       "      <td>69163</td>\n",
       "      <td>AGS9W</td>\n",
       "      <td>-0.933795</td>\n",
       "      <td>0.116194</td>\n",
       "      <td>-3.655896</td>\n",
       "      <td>19.230453</td>\n",
       "    </tr>\n",
       "    <tr>\n",
       "      <td>21426</td>\n",
       "      <td>Tdehs</td>\n",
       "      <td>0.829407</td>\n",
       "      <td>0.298807</td>\n",
       "      <td>-0.049563</td>\n",
       "      <td>96.035308</td>\n",
       "    </tr>\n",
       "    <tr>\n",
       "      <td>75715</td>\n",
       "      <td>Tdehs</td>\n",
       "      <td>0.112079</td>\n",
       "      <td>0.430296</td>\n",
       "      <td>3.218993</td>\n",
       "      <td>60.964018</td>\n",
       "    </tr>\n",
       "  </tbody>\n",
       "</table>\n",
       "</div>"
      ],
      "text/plain": [
       "          id        f0        f1        f2     product\n",
       "42529  AGS9W  1.454747 -0.479651  0.683380  126.370504\n",
       "69163  AGS9W -0.933795  0.116194 -3.655896   19.230453\n",
       "21426  Tdehs  0.829407  0.298807 -0.049563   96.035308\n",
       "75715  Tdehs  0.112079  0.430296  3.218993   60.964018"
      ]
     },
     "metadata": {},
     "output_type": "display_data"
    },
    {
     "data": {
      "text/html": [
       "<div>\n",
       "<style scoped>\n",
       "    .dataframe tbody tr th:only-of-type {\n",
       "        vertical-align: middle;\n",
       "    }\n",
       "\n",
       "    .dataframe tbody tr th {\n",
       "        vertical-align: top;\n",
       "    }\n",
       "\n",
       "    .dataframe thead th {\n",
       "        text-align: right;\n",
       "    }\n",
       "</style>\n",
       "<table border=\"1\" class=\"dataframe\">\n",
       "  <thead>\n",
       "    <tr style=\"text-align: right;\">\n",
       "      <th></th>\n",
       "      <th>id</th>\n",
       "      <th>f0</th>\n",
       "      <th>f1</th>\n",
       "      <th>f2</th>\n",
       "      <th>product</th>\n",
       "    </tr>\n",
       "  </thead>\n",
       "  <tbody>\n",
       "    <tr>\n",
       "      <td>5849</td>\n",
       "      <td>5ltQ6</td>\n",
       "      <td>-3.435401</td>\n",
       "      <td>-12.296043</td>\n",
       "      <td>1.999796</td>\n",
       "      <td>57.085625</td>\n",
       "    </tr>\n",
       "    <tr>\n",
       "      <td>84461</td>\n",
       "      <td>5ltQ6</td>\n",
       "      <td>18.213839</td>\n",
       "      <td>2.191999</td>\n",
       "      <td>3.993869</td>\n",
       "      <td>107.813044</td>\n",
       "    </tr>\n",
       "    <tr>\n",
       "      <td>47591</td>\n",
       "      <td>wt4Uk</td>\n",
       "      <td>-9.091098</td>\n",
       "      <td>-8.109279</td>\n",
       "      <td>-0.002314</td>\n",
       "      <td>3.179103</td>\n",
       "    </tr>\n",
       "    <tr>\n",
       "      <td>82873</td>\n",
       "      <td>wt4Uk</td>\n",
       "      <td>10.259972</td>\n",
       "      <td>-9.376355</td>\n",
       "      <td>4.994297</td>\n",
       "      <td>134.766305</td>\n",
       "    </tr>\n",
       "  </tbody>\n",
       "</table>\n",
       "</div>"
      ],
      "text/plain": [
       "          id         f0         f1        f2     product\n",
       "5849   5ltQ6  -3.435401 -12.296043  1.999796   57.085625\n",
       "84461  5ltQ6  18.213839   2.191999  3.993869  107.813044\n",
       "47591  wt4Uk  -9.091098  -8.109279 -0.002314    3.179103\n",
       "82873  wt4Uk  10.259972  -9.376355  4.994297  134.766305"
      ]
     },
     "metadata": {},
     "output_type": "display_data"
    },
    {
     "data": {
      "text/html": [
       "<div>\n",
       "<style scoped>\n",
       "    .dataframe tbody tr th:only-of-type {\n",
       "        vertical-align: middle;\n",
       "    }\n",
       "\n",
       "    .dataframe tbody tr th {\n",
       "        vertical-align: top;\n",
       "    }\n",
       "\n",
       "    .dataframe thead th {\n",
       "        text-align: right;\n",
       "    }\n",
       "</style>\n",
       "<table border=\"1\" class=\"dataframe\">\n",
       "  <thead>\n",
       "    <tr style=\"text-align: right;\">\n",
       "      <th></th>\n",
       "      <th>id</th>\n",
       "      <th>f0</th>\n",
       "      <th>f1</th>\n",
       "      <th>f2</th>\n",
       "      <th>product</th>\n",
       "    </tr>\n",
       "  </thead>\n",
       "  <tbody>\n",
       "    <tr>\n",
       "      <td>11449</td>\n",
       "      <td>VF7Jo</td>\n",
       "      <td>2.122656</td>\n",
       "      <td>-0.858275</td>\n",
       "      <td>5.746001</td>\n",
       "      <td>181.716817</td>\n",
       "    </tr>\n",
       "    <tr>\n",
       "      <td>49564</td>\n",
       "      <td>VF7Jo</td>\n",
       "      <td>-0.883115</td>\n",
       "      <td>0.560537</td>\n",
       "      <td>0.723601</td>\n",
       "      <td>136.233420</td>\n",
       "    </tr>\n",
       "    <tr>\n",
       "      <td>28039</td>\n",
       "      <td>xCHr8</td>\n",
       "      <td>1.633027</td>\n",
       "      <td>0.368135</td>\n",
       "      <td>-2.378367</td>\n",
       "      <td>6.120525</td>\n",
       "    </tr>\n",
       "    <tr>\n",
       "      <td>43233</td>\n",
       "      <td>xCHr8</td>\n",
       "      <td>-0.847066</td>\n",
       "      <td>2.101796</td>\n",
       "      <td>5.597130</td>\n",
       "      <td>184.388641</td>\n",
       "    </tr>\n",
       "  </tbody>\n",
       "</table>\n",
       "</div>"
      ],
      "text/plain": [
       "          id        f0        f1        f2     product\n",
       "11449  VF7Jo  2.122656 -0.858275  5.746001  181.716817\n",
       "49564  VF7Jo -0.883115  0.560537  0.723601  136.233420\n",
       "28039  xCHr8  1.633027  0.368135 -2.378367    6.120525\n",
       "43233  xCHr8 -0.847066  2.101796  5.597130  184.388641"
      ]
     },
     "metadata": {},
     "output_type": "display_data"
    }
   ],
   "source": [
    "display(df1[(df1['id'] == 'Tdehs') | (df1['id'] == 'AGS9W')].sort_values(by='id'))\n",
    "display(df2[(df2['id'] == '5ltQ6') | (df2['id'] == 'wt4Uk')].sort_values(by='id'))\n",
    "display(df3[(df3['id'] == 'xCHr8') | (df3['id'] == 'VF7Jo')].sort_values(by='id'))"
   ]
  },
  {
   "cell_type": "markdown",
   "metadata": {},
   "source": [
    "Как видно, сделанное предположение справедливо только для первого региона, так как в этом случае параметры `f0`, `f1`, `f2` изменились, а объемы запасов со временем уменьшились.\n",
    "\n",
    "Для второго и третьего регионов объемы запасов увеличились со временем, что дает нам возможность предположить, что в столбце `product` представлены извлекаемые запасы нефти. Увеличение этого параметра может быть связано с применением методов повышения нефтеотдачи (химические обработки, тепловые методы и т.д.), что также влияет на пластовые свойства и свойства получаемой продукции (параметры `f0`, `f1`, `f2`) и, соответственно, увеличивает объемы возмжной для добычи нефти.\n",
    "\n",
    "Так как в каждой \"дублирующейся\" скважине меняется не только параметр `product`, но и сами признаки, удалять их не потребуется - это дополнительные данные позволяющие получить зависимости между признаками и объемами добычи при обучении модели."
   ]
  },
  {
   "cell_type": "markdown",
   "metadata": {},
   "source": [
    "### Вывод"
   ]
  },
  {
   "cell_type": "markdown",
   "metadata": {},
   "source": [
    "Исходные данные с информацией о признаках точек и объемах запасов для трех различных регионов были сохранены в переменные `df1`, `df2`, `df3`.\n",
    "\n",
    "В каждом датасете представлено по 100 тыс. замеров характеристик `f0`, `f1` и `f2`и значений объема извлекаемых запасов нефти `product`.\n",
    "\n",
    "Для некоторых скважин такие замеры делали дважды - в этом случае полученные характиристики отличались. Эти данные были оставлены без изменений для того, чтобы их также можно было использовать в дальнейшем анализе. "
   ]
  },
  {
   "cell_type": "markdown",
   "metadata": {},
   "source": [
    "## Обучение и проверка модели"
   ]
  },
  {
   "cell_type": "markdown",
   "metadata": {},
   "source": [
    "Для каждого региона выделим общие признаки `f0`, `f1`, `f2` и запишем их в переменную features, целевой признак `product` сохраним в переменную target.\n",
    "\n",
    "Данные разобьем на 2 выборки: обучающую и валидационную. Размеры обучающего и валидационного наборов определим в соотношении 75%:25%."
   ]
  },
  {
   "cell_type": "code",
   "execution_count": 6,
   "metadata": {},
   "outputs": [
    {
     "name": "stdout",
     "output_type": "stream",
     "text": [
      "Размеры train1: (75000, 3) Размеры valid1: (25000, 3)\n",
      "Размеры train2: (75000, 3) Размеры valid2: (25000, 3)\n",
      "Размеры train3: (75000, 3) Размеры valid3: (25000, 3)\n"
     ]
    }
   ],
   "source": [
    "# фунуция по выделению общих и целевых признаков\n",
    "def separation (df):\n",
    "    target =  df['product']\n",
    "    features = df.drop(['id', 'product'], axis=1)\n",
    "    return target, features\n",
    "\n",
    "# функция для разбивки данных на обучающую и валидационную выборки\n",
    "def sample (features, target):\n",
    "    features_train, features_valid, target_train, target_valid = train_test_split(\n",
    "        features, target,test_size = 0.25, train_size =0.75, random_state=777)\n",
    "    return features_train, features_valid, target_train, target_valid\n",
    "\n",
    "\n",
    "target1, features1 = separation(df1)    \n",
    "target2, features2 = separation(df2)  \n",
    "target3, features3 = separation(df3)  \n",
    "\n",
    "features_train1, features_valid1, target_train1, target_valid1 = sample(features1, target1)\n",
    "features_train2, features_valid2, target_train2, target_valid2 = sample(features2, target2)\n",
    "features_train3, features_valid3, target_train3, target_valid3 = sample(features3, target3)\n",
    "\n",
    "print('Размеры train1:', features_train1.shape, 'Размеры valid1:', features_valid1.shape)\n",
    "print('Размеры train2:', features_train2.shape, 'Размеры valid2:', features_valid2.shape)\n",
    "print('Размеры train3:', features_train3.shape, 'Размеры valid3:', features_valid3.shape)\n"
   ]
  },
  {
   "cell_type": "markdown",
   "metadata": {},
   "source": [
    "Обучим модель линейной регрессии и сделаем предсказания на валидационной выборке для каждого региона."
   ]
  },
  {
   "cell_type": "code",
   "execution_count": 7,
   "metadata": {},
   "outputs": [
    {
     "name": "stdout",
     "output_type": "stream",
     "text": [
      "\u001b[1mРегион 1\u001b[0m\n",
      "Средний запас продукции:92.71675294828383\n",
      "RMSE модели линейной регрессии:37.99219303094202\n",
      "\n",
      "\u001b[1mРегион 2\u001b[0m\n",
      "Средний запас продукции:69.75032521418684\n",
      "RMSE модели линейной регрессии:0.8911506041453005\n",
      "\n",
      "\u001b[1mРегион 3\u001b[0m\n",
      "Средний запас продукции:94.97788403611848\n",
      "RMSE модели линейной регрессии:40.23018694848326\n",
      "\n"
     ]
    }
   ],
   "source": [
    "# функция по обучению модели\n",
    "def model(features_train, target_train, features_valid, target_valid):\n",
    "    model = LinearRegression()\n",
    "    model.fit(features_train,target_train) \n",
    "    predictions_valid = model.predict(features_valid) \n",
    "    result = mean_squared_error(target_valid, predictions_valid)**0.5\n",
    "    reserve = pd.Series(predictions_valid).mean()\n",
    "    return predictions_valid, result, reserve\n",
    "\n",
    "\n",
    "predictions_valid1, result1, reserve1 = model(features_train1, target_train1, features_valid1, target_valid1)\n",
    "print('\\033[1m', 'Регион 1', '\\033[0m','\\n','Средний запас продукции:', reserve1, '\\n', \n",
    "      'RMSE модели линейной регрессии:', result1, '\\n', sep='')\n",
    "\n",
    "predictions_valid2, result2, reserve2 = model(features_train2, target_train2, features_valid2, target_valid2)\n",
    "print('\\033[1m', 'Регион 2', '\\033[0m','\\n','Средний запас продукции:', reserve2, '\\n', \n",
    "      'RMSE модели линейной регрессии:', result2, '\\n', sep='')\n",
    "\n",
    "predictions_valid3, result3, reserve3 = model(features_train3, target_train3, features_valid3, target_valid3)\n",
    "print('\\033[1m', 'Регион 3', '\\033[0m','\\n','Средний запас продукции:', reserve3, '\\n', \n",
    "      'RMSE модели линейной регрессии:', result3, '\\n', sep='')\n"
   ]
  },
  {
   "cell_type": "markdown",
   "metadata": {},
   "source": [
    "### Вывод"
   ]
  },
  {
   "cell_type": "markdown",
   "metadata": {},
   "source": [
    "Получили, что по обученным моделям средний запас продукции на скважину максимален в 1 и 3 регионах: 92,72 и 94,98 тыс. баррелей соответственно. Меньшими средними запасами характиризуется 2 регион - всего 69,75 тыс. баррелей.\n",
    "\n",
    "Однако меньшим различием между предсказаниями модели и историческими данными характеризуется именно 2 регион - RMSE составил всего 0,89. Для 1 и 3 регионов этот показатель составил 37,99 и 40,23 соответственно. Это говорит о том, что такую модель можно использовать в работе, но она будет не такой точной, как хотелось бы."
   ]
  },
  {
   "cell_type": "markdown",
   "metadata": {},
   "source": [
    "## Подготовка к расчёту прибыли"
   ]
  },
  {
   "cell_type": "markdown",
   "metadata": {},
   "source": [
    "Определим достаточный объем сырья для безубыточной разработки новой скважины. \n",
    "\n",
    "Рассчитаем его как отношение бюджета на разработку скважин в регионе (10 млрд рублей) к произведению количества скважин в этом регионе, которые планируется пробурить, (200 шт.) и доходу с каждой единицы продукта(450 тыс. руб/ тыс. бар.), то есть:\n",
    "\n",
    "${10*10^9\\over 200*450*10^3}$ :\n",
    "\n",
    "\n"
   ]
  },
  {
   "cell_type": "code",
   "execution_count": 8,
   "metadata": {},
   "outputs": [
    {
     "name": "stdout",
     "output_type": "stream",
     "text": [
      "Достаточный объём сырья для безубыточной разработки новой скважины: 111.11111111111111 тыс. баррелей\n"
     ]
    }
   ],
   "source": [
    "BUDGET = 10**10\n",
    "WELLS_COUNT = 200\n",
    "INCOME = 450*10**3\n",
    "\n",
    "volume = BUDGET/WELLS_COUNT/INCOME\n",
    "print('Достаточный объём сырья для безубыточной разработки новой скважины:', volume, 'тыс. баррелей')"
   ]
  },
  {
   "cell_type": "markdown",
   "metadata": {},
   "source": [
    "### Вывод"
   ]
  },
  {
   "cell_type": "markdown",
   "metadata": {},
   "source": [
    "По итогам предварительных расчетов получили, что для того чтобы разработка 1 новой скважины являлась безубыточной, данная скважина должна обеспечивать объем добычи не менее 111.11 тыс. баррелей.\n",
    "\n",
    "Ранее было получено, что средний запас продукции в 1 скважине для 1, 2 и 3 регионов составили соотвественно 92.72, 69.75 и 94.98 тысяч баррелей. Для первого и третьего регионов запасы достаточно близки к ннеобходимому количеству, но все же не дотягивают до него. \n",
    "\n",
    "Но этот показатель является средним и не говорит о том, в этих трех регионах нет скважин, способных дать необходимый объем продукции, поэтому необходимо будет также расчитать прибыль и возможные риски для каждого региона."
   ]
  },
  {
   "cell_type": "markdown",
   "metadata": {},
   "source": [
    "## Расчёт прибыли и рисков "
   ]
  },
  {
   "cell_type": "markdown",
   "metadata": {},
   "source": [
    "Напишем функцию для расчёта прибыли по выбранным скважинам и предсказаниям модели, а также посчитаем риски и прибыль для каждого региона.\n",
    "\n",
    "Для этого:\n",
    " - Выберем скважины с максимальными значениями предсказаний.\n",
    " - Просуммируем целевое значение объёма сырья, соответствующее этим предсказаниям.\n",
    " - Рассчитаем прибыль для полученного объёма сырья.\n",
    " - Применим технику Bootstrap с 1000 выборок, чтобы найти распределение прибыли.\n",
    " - Найдем среднюю прибыль, 95%-й доверительный интервал и риск убытков. \n"
   ]
  },
  {
   "cell_type": "code",
   "execution_count": 11,
   "metadata": {
    "scrolled": true
   },
   "outputs": [
    {
     "name": "stdout",
     "output_type": "stream",
     "text": [
      "\u001b[1m Регион  1 \u001b[0m\n",
      "Предполагаемая средняя прибыль с топ-200 скважин: 489.85 млн. руб.\n",
      "Начало 95% доверительного интервала: -51.51 млн. руб., конец: 1046.14 млн. руб.\n",
      "Риск убытков: 3.7%\n",
      "\n",
      "\u001b[1m Регион  2 \u001b[0m\n",
      "Предполагаемая средняя прибыль с топ-200 скважин: 580.26 млн. руб.\n",
      "Начало 95% доверительного интервала: 189.42 млн. руб., конец: 980.09 млн. руб.\n",
      "Риск убытков: 0.2%\n",
      "\n",
      "\u001b[1m Регион  3 \u001b[0m\n",
      "Предполагаемая средняя прибыль с топ-200 скважин: 393.94 млн. руб.\n",
      "Начало 95% доверительного интервала: -136.53 млн. руб., конец: 958.35 млн. руб.\n",
      "Риск убытков: 8.0%\n",
      "\n"
     ]
    }
   ],
   "source": [
    "# функция по расчету прибыли\n",
    "def revenue(target_valid, predictions_valid, count):\n",
    "    predictions_sorted =  pd.Series(predictions_valid).sort_values(ascending=False)\n",
    "    selected = target_valid[predictions_sorted.index][:count]\n",
    "    profit = selected.sum() * INCOME - BUDGET\n",
    "    return profit\n",
    "\n",
    "# функция для расчета прибыли и рисков для топ-200 скважин\n",
    "def rev_and_risk (target_valid, predictions_valid):\n",
    "    values = []\n",
    "    state = np.random.RandomState(12345)\n",
    "    \n",
    "    for i in range(1000):\n",
    "        target_subsample = pd.Series(target_valid).reset_index(drop=True).sample(n=500, replace=True, random_state=state)\n",
    "        predictions_subsample = pd.Series(predictions_valid)[target_subsample.index]\n",
    "        values.append(revenue(target_subsample,predictions_subsample, WELLS_COUNT))\n",
    "    \n",
    "    values = pd.Series(values)\n",
    "    lower = values.quantile(0.025)/10**6\n",
    "    upper = values.quantile(0.975)/10**6\n",
    "    \n",
    "    risk = (values < 0).mean()*100\n",
    "    val = values.mean()/10**6\n",
    "    \n",
    "    return val, lower, upper, risk\n",
    "\n",
    "targets = [target_valid1, target_valid2, target_valid3]\n",
    "predictions = [predictions_valid1, predictions_valid2, predictions_valid3]\n",
    "\n",
    "\n",
    "for k in range(0,3):\n",
    "    print('\\033[1m', 'Регион ', k+1, '\\033[0m') \n",
    "    val, lower, upper, risk = rev_and_risk(targets[k], predictions[k])\n",
    "    print('Предполагаемая средняя прибыль с топ-200 скважин: ', '%.2f'%(val), ' млн. руб.','\\n', \n",
    "     'Начало 95% доверительного интервала: ', '%.2f'%(lower), ' млн. руб., конец: ', '%.2f'%(upper), ' млн. руб.', '\\n',\n",
    "     'Риск убытков: ', '%.1f'%(risk), '%', '\\n', sep = '')\n"
   ]
  },
  {
   "cell_type": "markdown",
   "metadata": {},
   "source": [
    "### Вывод"
   ]
  },
  {
   "cell_type": "markdown",
   "metadata": {},
   "source": [
    "В 1 регионе риск убытков составил 3.7%, во втором - 0.2%, в третьем - 8%.\n",
    "\n",
    "Необходимо отобрать те регионы, в которых вероятность убытков меньше 2.5%. Этому условию удовлетворяет только 2 регион.\n",
    "Соответствующая ему рассчитанная предположительная прибыль с топ-200 скважин составила 580.26 млн. руб."
   ]
  },
  {
   "cell_type": "markdown",
   "metadata": {},
   "source": [
    "## Общий вывод"
   ]
  },
  {
   "cell_type": "markdown",
   "metadata": {},
   "source": [
    "В рамках произведенных расчетов было получено следующее:\n",
    "\n",
    "* По предсказанию обученных моделей средние запасы продукции на скважину оказались максимальнны в 1 и 3 регионах: 92,72 и 94,98 тыс. баррелей соответственно. Меньшие средние запасы были получены для 2 региона - всего 69,75 тыс. баррелей. \n",
    "\n",
    "* Меньшим различием между предсказаниями модели и историческими данными характеризуется именно 2 регион - RMSE составил всего 0.89. Для 1 и 3 регионов этот показатель составил 37.99 и 40.23 соответственно. Это говорит о том, что такую модель можно использовать в работе, но она будет не такой точной, как хотелось бы.\n",
    "\n",
    "* Для того чтобы разработка 1 новой скважины являлась безубыточной, данная скважина должна обеспечивать объем добычи не менее 111.11 тыс. баррелей.\n",
    "\n",
    "* В 1 регионе риск убытков составил 3.7%, во втором - 0.2%, в третьем - 8%. Потенциальная прибыль - 489.85, 580.26, 393.94 млн. руб. соответственно.\n",
    "_______________\n",
    "\n",
    "При определении региона, где добыча принесёт наибольшую прибыль, отбирались те участки, для которых вероятность убытков составила меньше 2.5%. Этому условию удовлетворяет только 2 регион. Соответствующая ему рассчитанная предположительная прибыль с топ-200 скважин также оказалась максимальной среди рассмотренных трех регионов.\n",
    "\n",
    "**Поэтому делаем вывод о том, что для разработки скважин наиболее перспективен 2 регион.**\n",
    "\n",
    "\n"
   ]
  }
 ],
 "metadata": {
  "ExecuteTimeLog": [
   {
    "duration": 968,
    "start_time": "2022-03-07T12:10:22.805Z"
   },
   {
    "duration": 381,
    "start_time": "2022-03-07T12:13:00.009Z"
   },
   {
    "duration": 380,
    "start_time": "2022-03-07T12:13:45.448Z"
   },
   {
    "duration": 371,
    "start_time": "2022-03-07T12:14:05.650Z"
   },
   {
    "duration": 443,
    "start_time": "2022-03-07T13:08:59.637Z"
   },
   {
    "duration": 38,
    "start_time": "2022-03-07T14:45:47.205Z"
   },
   {
    "duration": 38,
    "start_time": "2022-03-07T14:46:17.594Z"
   },
   {
    "duration": 37,
    "start_time": "2022-03-07T14:46:27.274Z"
   },
   {
    "duration": 38,
    "start_time": "2022-03-07T14:46:40.396Z"
   },
   {
    "duration": 5,
    "start_time": "2022-03-07T14:48:02.858Z"
   },
   {
    "duration": 121,
    "start_time": "2022-03-07T14:48:21.691Z"
   },
   {
    "duration": 317,
    "start_time": "2022-03-07T14:49:52.214Z"
   },
   {
    "duration": 7,
    "start_time": "2022-03-07T14:50:22.417Z"
   },
   {
    "duration": 5,
    "start_time": "2022-03-07T14:52:45.441Z"
   },
   {
    "duration": 122,
    "start_time": "2022-03-07T14:52:53.694Z"
   },
   {
    "duration": 102,
    "start_time": "2022-03-07T14:53:58.585Z"
   },
   {
    "duration": 323,
    "start_time": "2022-03-07T14:55:39.698Z"
   },
   {
    "duration": 126,
    "start_time": "2022-03-07T14:55:47.788Z"
   },
   {
    "duration": 236,
    "start_time": "2022-03-07T14:55:59.361Z"
   },
   {
    "duration": 129,
    "start_time": "2022-03-07T14:56:17.811Z"
   },
   {
    "duration": 358,
    "start_time": "2022-03-07T14:57:13.854Z"
   },
   {
    "duration": 411,
    "start_time": "2022-03-07T14:57:25.779Z"
   },
   {
    "duration": 238,
    "start_time": "2022-03-07T14:59:17.948Z"
   },
   {
    "duration": 536,
    "start_time": "2022-03-07T15:07:38.511Z"
   },
   {
    "duration": 374,
    "start_time": "2022-03-07T15:08:25.993Z"
   },
   {
    "duration": 221,
    "start_time": "2022-03-07T15:11:58.129Z"
   },
   {
    "duration": 367,
    "start_time": "2022-03-07T15:12:35.343Z"
   },
   {
    "duration": 616,
    "start_time": "2022-03-07T15:12:48.651Z"
   },
   {
    "duration": 632,
    "start_time": "2022-03-07T15:13:02.844Z"
   },
   {
    "duration": 14,
    "start_time": "2022-03-07T15:40:11.553Z"
   },
   {
    "duration": 392,
    "start_time": "2022-03-07T15:43:25.604Z"
   },
   {
    "duration": 5,
    "start_time": "2022-03-07T15:47:19.204Z"
   },
   {
    "duration": 9,
    "start_time": "2022-03-07T15:47:31.197Z"
   },
   {
    "duration": 358,
    "start_time": "2022-03-07T15:47:56.678Z"
   },
   {
    "duration": 6128,
    "start_time": "2022-03-07T15:55:29.440Z"
   },
   {
    "duration": 358,
    "start_time": "2022-03-07T15:56:33.233Z"
   },
   {
    "duration": 358,
    "start_time": "2022-03-07T15:57:02.387Z"
   },
   {
    "duration": 335,
    "start_time": "2022-03-07T16:01:25.630Z"
   },
   {
    "duration": 421,
    "start_time": "2022-03-07T16:04:12.529Z"
   },
   {
    "duration": 3052,
    "start_time": "2022-03-07T16:04:41.244Z"
   },
   {
    "duration": 5447,
    "start_time": "2022-03-07T16:30:34.976Z"
   },
   {
    "duration": 5370,
    "start_time": "2022-03-07T16:31:04.586Z"
   },
   {
    "duration": 5378,
    "start_time": "2022-03-07T16:31:25.617Z"
   },
   {
    "duration": 15,
    "start_time": "2022-03-07T16:31:41.910Z"
   },
   {
    "duration": 223,
    "start_time": "2022-03-07T16:32:27.169Z"
   },
   {
    "duration": 233,
    "start_time": "2022-03-07T16:32:34.551Z"
   },
   {
    "duration": 855,
    "start_time": "2022-03-07T16:32:49.310Z"
   },
   {
    "duration": 210,
    "start_time": "2022-03-07T16:32:59.488Z"
   },
   {
    "duration": 875,
    "start_time": "2022-03-07T16:34:02.617Z"
   },
   {
    "duration": 19,
    "start_time": "2022-03-07T16:34:15.954Z"
   },
   {
    "duration": 274,
    "start_time": "2022-03-07T16:35:00.909Z"
   },
   {
    "duration": 20,
    "start_time": "2022-03-07T16:35:09.597Z"
   },
   {
    "duration": 51,
    "start_time": "2022-03-07T16:36:34.718Z"
   },
   {
    "duration": 251,
    "start_time": "2022-03-07T17:08:59.298Z"
   },
   {
    "duration": 391,
    "start_time": "2022-03-07T17:09:05.616Z"
   },
   {
    "duration": 363,
    "start_time": "2022-03-07T17:09:11.417Z"
   },
   {
    "duration": 78,
    "start_time": "2022-03-07T17:28:42.328Z"
   },
   {
    "duration": 111,
    "start_time": "2022-03-07T17:28:50.349Z"
   },
   {
    "duration": 8,
    "start_time": "2022-03-07T17:29:55.954Z"
   },
   {
    "duration": 9,
    "start_time": "2022-03-07T17:30:02.743Z"
   },
   {
    "duration": 28,
    "start_time": "2022-03-07T17:30:11.253Z"
   },
   {
    "duration": 26,
    "start_time": "2022-03-07T17:30:23.563Z"
   },
   {
    "duration": 7,
    "start_time": "2022-03-07T17:33:24.174Z"
   },
   {
    "duration": 27,
    "start_time": "2022-03-07T17:47:58.460Z"
   },
   {
    "duration": 40,
    "start_time": "2022-03-07T17:50:56.191Z"
   },
   {
    "duration": 45,
    "start_time": "2022-03-07T17:51:00.081Z"
   },
   {
    "duration": 41,
    "start_time": "2022-03-07T17:52:34.573Z"
   },
   {
    "duration": 39,
    "start_time": "2022-03-07T17:54:31.324Z"
   },
   {
    "duration": 221,
    "start_time": "2022-03-07T18:09:27.679Z"
   },
   {
    "duration": 16,
    "start_time": "2022-03-07T18:09:33.682Z"
   },
   {
    "duration": 390,
    "start_time": "2022-03-07T18:09:33.700Z"
   },
   {
    "duration": 385,
    "start_time": "2022-03-07T18:09:34.092Z"
   },
   {
    "duration": 52,
    "start_time": "2022-03-07T18:09:34.479Z"
   },
   {
    "duration": 6,
    "start_time": "2022-03-07T18:09:34.533Z"
   },
   {
    "duration": 77,
    "start_time": "2022-03-07T18:09:34.541Z"
   },
   {
    "duration": 234,
    "start_time": "2022-03-07T18:09:34.619Z"
   },
   {
    "duration": 6,
    "start_time": "2022-03-07T18:09:34.850Z"
   },
   {
    "duration": 11,
    "start_time": "2022-03-07T18:11:10.460Z"
   },
   {
    "duration": 8,
    "start_time": "2022-03-07T18:11:18.402Z"
   },
   {
    "duration": 11,
    "start_time": "2022-03-07T18:11:22.298Z"
   },
   {
    "duration": 8,
    "start_time": "2022-03-07T18:12:16.053Z"
   },
   {
    "duration": 10,
    "start_time": "2022-03-07T18:12:17.793Z"
   },
   {
    "duration": 4,
    "start_time": "2022-03-07T18:12:33.762Z"
   },
   {
    "duration": 446,
    "start_time": "2022-03-07T18:12:33.768Z"
   },
   {
    "duration": 473,
    "start_time": "2022-03-07T18:12:34.216Z"
   },
   {
    "duration": 56,
    "start_time": "2022-03-07T18:12:34.691Z"
   },
   {
    "duration": 11,
    "start_time": "2022-03-07T18:12:34.764Z"
   },
   {
    "duration": 61,
    "start_time": "2022-03-07T18:12:34.777Z"
   },
   {
    "duration": 28,
    "start_time": "2022-03-07T18:12:34.840Z"
   },
   {
    "duration": 387,
    "start_time": "2022-03-07T18:12:34.870Z"
   },
   {
    "duration": 3,
    "start_time": "2022-03-07T18:16:59.403Z"
   },
   {
    "duration": 14,
    "start_time": "2022-03-07T18:18:04.816Z"
   },
   {
    "duration": 14,
    "start_time": "2022-03-07T18:18:52.176Z"
   },
   {
    "duration": 49,
    "start_time": "2022-03-07T18:20:13.217Z"
   },
   {
    "duration": 1367,
    "start_time": "2022-03-09T10:08:01.852Z"
   },
   {
    "duration": 673,
    "start_time": "2022-03-09T10:08:03.223Z"
   },
   {
    "duration": 713,
    "start_time": "2022-03-09T10:08:03.900Z"
   },
   {
    "duration": 100,
    "start_time": "2022-03-09T10:08:04.617Z"
   },
   {
    "duration": 14,
    "start_time": "2022-03-09T10:08:04.719Z"
   },
   {
    "duration": 76,
    "start_time": "2022-03-09T10:08:04.736Z"
   },
   {
    "duration": 4,
    "start_time": "2022-03-09T10:08:04.815Z"
   },
   {
    "duration": 365,
    "start_time": "2022-03-09T10:08:04.822Z"
   },
   {
    "duration": 4,
    "start_time": "2022-03-09T12:27:16.149Z"
   },
   {
    "duration": 501,
    "start_time": "2022-03-09T12:27:16.156Z"
   },
   {
    "duration": 537,
    "start_time": "2022-03-09T12:27:16.660Z"
   },
   {
    "duration": 91,
    "start_time": "2022-03-09T12:27:17.199Z"
   },
   {
    "duration": 65,
    "start_time": "2022-03-09T12:27:28.749Z"
   },
   {
    "duration": 55,
    "start_time": "2022-03-09T12:29:09.377Z"
   },
   {
    "duration": 71,
    "start_time": "2022-03-09T12:29:24.652Z"
   },
   {
    "duration": 4,
    "start_time": "2022-03-09T12:29:53.723Z"
   },
   {
    "duration": 128,
    "start_time": "2022-03-09T12:30:10.863Z"
   },
   {
    "duration": 195,
    "start_time": "2022-03-09T13:01:34.495Z"
   },
   {
    "duration": 159,
    "start_time": "2022-03-09T13:03:21.037Z"
   },
   {
    "duration": 70,
    "start_time": "2022-03-09T13:04:08.997Z"
   },
   {
    "duration": 148,
    "start_time": "2022-03-09T13:04:16.544Z"
   },
   {
    "duration": 274,
    "start_time": "2022-03-09T13:07:52.014Z"
   },
   {
    "duration": 282,
    "start_time": "2022-03-09T13:09:16.007Z"
   },
   {
    "duration": 207,
    "start_time": "2022-03-09T13:09:49.086Z"
   },
   {
    "duration": 244,
    "start_time": "2022-03-09T13:11:11.945Z"
   },
   {
    "duration": 272,
    "start_time": "2022-03-09T13:11:34.515Z"
   },
   {
    "duration": 30,
    "start_time": "2022-03-09T13:38:41.522Z"
   },
   {
    "duration": 31,
    "start_time": "2022-03-09T13:38:56.063Z"
   },
   {
    "duration": 86,
    "start_time": "2022-03-09T13:39:25.750Z"
   },
   {
    "duration": 398,
    "start_time": "2022-03-09T14:09:40.173Z"
   },
   {
    "duration": 379,
    "start_time": "2022-03-09T14:10:06.272Z"
   },
   {
    "duration": 4,
    "start_time": "2022-03-09T14:11:34.990Z"
   },
   {
    "duration": 222,
    "start_time": "2022-03-09T14:33:52.764Z"
   },
   {
    "duration": 4,
    "start_time": "2022-03-09T14:33:59.219Z"
   },
   {
    "duration": 4,
    "start_time": "2022-03-09T14:34:41.291Z"
   },
   {
    "duration": 5,
    "start_time": "2022-03-09T14:37:34.856Z"
   },
   {
    "duration": 5,
    "start_time": "2022-03-09T14:38:14.202Z"
   },
   {
    "duration": 5,
    "start_time": "2022-03-09T14:38:21.752Z"
   },
   {
    "duration": 5,
    "start_time": "2022-03-09T15:46:52.344Z"
   },
   {
    "duration": 403,
    "start_time": "2022-03-09T16:40:50.115Z"
   },
   {
    "duration": 15,
    "start_time": "2022-03-09T16:42:04.508Z"
   },
   {
    "duration": 15,
    "start_time": "2022-03-09T16:42:48.646Z"
   },
   {
    "duration": 15,
    "start_time": "2022-03-09T16:42:54.504Z"
   },
   {
    "duration": 16,
    "start_time": "2022-03-09T16:44:27.541Z"
   },
   {
    "duration": 15,
    "start_time": "2022-03-09T16:45:51.059Z"
   },
   {
    "duration": 16,
    "start_time": "2022-03-09T16:45:54.458Z"
   },
   {
    "duration": 15,
    "start_time": "2022-03-09T16:45:57.995Z"
   },
   {
    "duration": 5956,
    "start_time": "2022-03-09T17:16:23.820Z"
   },
   {
    "duration": 6100,
    "start_time": "2022-03-09T17:17:15.839Z"
   },
   {
    "duration": 5808,
    "start_time": "2022-03-09T17:18:15.720Z"
   },
   {
    "duration": 9934,
    "start_time": "2022-03-09T17:19:43.990Z"
   },
   {
    "duration": 6657,
    "start_time": "2022-03-09T17:22:56.697Z"
   },
   {
    "duration": 20126,
    "start_time": "2022-03-09T17:23:26.210Z"
   },
   {
    "duration": 18143,
    "start_time": "2022-03-09T17:29:20.408Z"
   },
   {
    "duration": 17398,
    "start_time": "2022-03-09T17:35:57.626Z"
   },
   {
    "duration": 17383,
    "start_time": "2022-03-09T17:41:31.891Z"
   },
   {
    "duration": 17001,
    "start_time": "2022-03-09T17:43:38.399Z"
   },
   {
    "duration": 17323,
    "start_time": "2022-03-09T17:46:52.618Z"
   },
   {
    "duration": 17234,
    "start_time": "2022-03-09T17:47:42.212Z"
   },
   {
    "duration": 18014,
    "start_time": "2022-03-09T18:01:04.286Z"
   },
   {
    "duration": 12201,
    "start_time": "2022-03-09T18:01:45.574Z"
   },
   {
    "duration": 18968,
    "start_time": "2022-03-09T18:02:38.424Z"
   },
   {
    "duration": 18067,
    "start_time": "2022-03-09T18:03:17.256Z"
   },
   {
    "duration": 18142,
    "start_time": "2022-03-09T18:06:42.657Z"
   },
   {
    "duration": 6,
    "start_time": "2022-03-09T18:48:59.345Z"
   },
   {
    "duration": 573,
    "start_time": "2022-03-09T18:48:59.354Z"
   },
   {
    "duration": 668,
    "start_time": "2022-03-09T18:48:59.931Z"
   },
   {
    "duration": 142,
    "start_time": "2022-03-09T18:49:00.602Z"
   },
   {
    "duration": 73,
    "start_time": "2022-03-09T18:49:00.746Z"
   },
   {
    "duration": 278,
    "start_time": "2022-03-09T18:49:00.822Z"
   },
   {
    "duration": 8,
    "start_time": "2022-03-09T18:49:01.189Z"
   },
   {
    "duration": 17777,
    "start_time": "2022-03-09T18:49:01.203Z"
   },
   {
    "duration": 327,
    "start_time": "2022-03-09T20:20:36.274Z"
   },
   {
    "duration": 1917,
    "start_time": "2022-03-09T20:21:17.756Z"
   },
   {
    "duration": 650,
    "start_time": "2022-03-09T20:21:19.677Z"
   },
   {
    "duration": 596,
    "start_time": "2022-03-09T20:21:20.330Z"
   },
   {
    "duration": 96,
    "start_time": "2022-03-09T20:21:20.929Z"
   },
   {
    "duration": 302,
    "start_time": "2022-03-09T20:21:21.028Z"
   },
   {
    "duration": 650,
    "start_time": "2022-03-09T20:21:21.333Z"
   },
   {
    "duration": 274,
    "start_time": "2022-03-09T20:21:21.988Z"
   },
   {
    "duration": 21261,
    "start_time": "2022-03-09T20:21:51.225Z"
   },
   {
    "duration": 17833,
    "start_time": "2022-03-09T20:22:48.187Z"
   },
   {
    "duration": 19052,
    "start_time": "2022-03-09T20:23:20.864Z"
   },
   {
    "duration": 1649,
    "start_time": "2022-06-19T11:38:12.385Z"
   },
   {
    "duration": 1576,
    "start_time": "2022-06-19T11:38:44.611Z"
   },
   {
    "duration": 953,
    "start_time": "2022-06-19T11:40:52.421Z"
   },
   {
    "duration": 1091,
    "start_time": "2022-06-19T11:43:35.187Z"
   },
   {
    "duration": 1098,
    "start_time": "2022-06-19T11:43:58.649Z"
   },
   {
    "duration": 1146,
    "start_time": "2022-06-19T12:01:02.804Z"
   },
   {
    "duration": 1262,
    "start_time": "2022-06-19T12:01:15.399Z"
   },
   {
    "duration": 13,
    "start_time": "2022-06-19T12:04:06.617Z"
   },
   {
    "duration": 1048,
    "start_time": "2022-06-19T12:04:13.116Z"
   }
  ],
  "kernelspec": {
   "display_name": "Python 3 (ipykernel)",
   "language": "python",
   "name": "python3"
  },
  "language_info": {
   "codemirror_mode": {
    "name": "ipython",
    "version": 3
   },
   "file_extension": ".py",
   "mimetype": "text/x-python",
   "name": "python",
   "nbconvert_exporter": "python",
   "pygments_lexer": "ipython3",
   "version": "3.9.5"
  },
  "toc": {
   "base_numbering": 1,
   "nav_menu": {},
   "number_sections": true,
   "sideBar": true,
   "skip_h1_title": true,
   "title_cell": "Содержание",
   "title_sidebar": "Contents",
   "toc_cell": true,
   "toc_position": {
    "height": "calc(100% - 180px)",
    "left": "10px",
    "top": "150px",
    "width": "263.704px"
   },
   "toc_section_display": true,
   "toc_window_display": true
  }
 },
 "nbformat": 4,
 "nbformat_minor": 2
}
