{
 "cells": [
  {
   "cell_type": "markdown",
   "metadata": {
    "id": "E0vqbgi9ay0H"
   },
   "source": [
    "# Яндекс.Музыка\n",
    "___________"
   ]
  },
  {
   "cell_type": "markdown",
   "metadata": {
    "id": "VUC88oWjTJw2"
   },
   "source": [
    "**Общая информация:**\n",
    "\n",
    "Сравнение Москвы и Петербурга окружено мифами. Например:\n",
    " * Москва — мегаполис, подчинённый жёсткому ритму рабочей недели;\n",
    " * Петербург — культурная столица, со своими вкусами.\n",
    "\n",
    "На данных Яндекс.Музыки необходимо сравнить поведение пользователей двух столиц.\n",
    "\n",
    "**Цель исследования:**\n",
    "\n",
    "Проверить три гипотезы:\n",
    "1. Активность пользователей зависит от дня недели. Причём в Москве и Петербурге это проявляется по-разному.\n",
    "2. В понедельник утром в Москве преобладают одни жанры, а в Петербурге — другие. Так же и вечером пятницы преобладают разные жанры — в зависимости от города. \n",
    "3. Москва и Петербург предпочитают разные жанры музыки. В Москве чаще слушают поп-музыку, в Петербурге — русский рэп.\n",
    "\n",
    "**Ход исследования:**\n",
    "\n",
    "Данные о поведении пользователей находятся в файле `yandex_music_project.csv`. О качестве данных ничего не известно. Поэтому перед проверкой гипотез необходимо произвести обзор данных. \n",
    "Далее - проверить данные на ошибки и оценить их влияние на исследование. Затем на этапе предобработки исправить самые критичные ошибки данных.\n",
    " \n",
    "*Таким образом, исследование пройдёт в три этапа:*\n",
    " 1. Обзор данных.\n",
    " 2. Предобработка данных.\n",
    " 3. Проверка гипотез.\n",
    "\n"
   ]
  },
  {
   "cell_type": "markdown",
   "metadata": {
    "id": "Ml1hmfXC_Zcs"
   },
   "source": [
    "## Обзор данных"
   ]
  },
  {
   "cell_type": "markdown",
   "metadata": {
    "id": "57eAOGIz_Zcs"
   },
   "source": [
    "Импортируем необходимую для работы библиотеку `pandas`."
   ]
  },
  {
   "cell_type": "code",
   "execution_count": 80,
   "metadata": {
    "id": "AXN7PHPN_Zcs"
   },
   "outputs": [],
   "source": [
    "import pandas as pd"
   ]
  },
  {
   "cell_type": "markdown",
   "metadata": {
    "id": "SG23P8tt_Zcs"
   },
   "source": [
    "Прочитаем файл `yandex_music_project.csv` из папки `/datasets` и сохраним его в переменной `df`:"
   ]
  },
  {
   "cell_type": "code",
   "execution_count": 81,
   "metadata": {
    "id": "fFVu7vqh_Zct"
   },
   "outputs": [],
   "source": [
    "df = pd.read_csv('/datasets/yandex_music_project.csv')"
   ]
  },
  {
   "cell_type": "markdown",
   "metadata": {
    "id": "rDoOMd3uTqnZ"
   },
   "source": [
    "Выведем на экран первые десять строк таблицы и общую информацию о ней."
   ]
  },
  {
   "cell_type": "code",
   "execution_count": 82,
   "metadata": {
    "id": "oWTVX3gW_Zct"
   },
   "outputs": [
    {
     "data": {
      "text/html": [
       "<div>\n",
       "<style scoped>\n",
       "    .dataframe tbody tr th:only-of-type {\n",
       "        vertical-align: middle;\n",
       "    }\n",
       "\n",
       "    .dataframe tbody tr th {\n",
       "        vertical-align: top;\n",
       "    }\n",
       "\n",
       "    .dataframe thead th {\n",
       "        text-align: right;\n",
       "    }\n",
       "</style>\n",
       "<table border=\"1\" class=\"dataframe\">\n",
       "  <thead>\n",
       "    <tr style=\"text-align: right;\">\n",
       "      <th></th>\n",
       "      <th>userID</th>\n",
       "      <th>Track</th>\n",
       "      <th>artist</th>\n",
       "      <th>genre</th>\n",
       "      <th>City</th>\n",
       "      <th>time</th>\n",
       "      <th>Day</th>\n",
       "    </tr>\n",
       "  </thead>\n",
       "  <tbody>\n",
       "    <tr>\n",
       "      <th>0</th>\n",
       "      <td>FFB692EC</td>\n",
       "      <td>Kamigata To Boots</td>\n",
       "      <td>The Mass Missile</td>\n",
       "      <td>rock</td>\n",
       "      <td>Saint-Petersburg</td>\n",
       "      <td>20:28:33</td>\n",
       "      <td>Wednesday</td>\n",
       "    </tr>\n",
       "    <tr>\n",
       "      <th>1</th>\n",
       "      <td>55204538</td>\n",
       "      <td>Delayed Because of Accident</td>\n",
       "      <td>Andreas Rönnberg</td>\n",
       "      <td>rock</td>\n",
       "      <td>Moscow</td>\n",
       "      <td>14:07:09</td>\n",
       "      <td>Friday</td>\n",
       "    </tr>\n",
       "    <tr>\n",
       "      <th>2</th>\n",
       "      <td>20EC38</td>\n",
       "      <td>Funiculì funiculà</td>\n",
       "      <td>Mario Lanza</td>\n",
       "      <td>pop</td>\n",
       "      <td>Saint-Petersburg</td>\n",
       "      <td>20:58:07</td>\n",
       "      <td>Wednesday</td>\n",
       "    </tr>\n",
       "    <tr>\n",
       "      <th>3</th>\n",
       "      <td>A3DD03C9</td>\n",
       "      <td>Dragons in the Sunset</td>\n",
       "      <td>Fire + Ice</td>\n",
       "      <td>folk</td>\n",
       "      <td>Saint-Petersburg</td>\n",
       "      <td>08:37:09</td>\n",
       "      <td>Monday</td>\n",
       "    </tr>\n",
       "    <tr>\n",
       "      <th>4</th>\n",
       "      <td>E2DC1FAE</td>\n",
       "      <td>Soul People</td>\n",
       "      <td>Space Echo</td>\n",
       "      <td>dance</td>\n",
       "      <td>Moscow</td>\n",
       "      <td>08:34:34</td>\n",
       "      <td>Monday</td>\n",
       "    </tr>\n",
       "    <tr>\n",
       "      <th>5</th>\n",
       "      <td>842029A1</td>\n",
       "      <td>Преданная</td>\n",
       "      <td>IMPERVTOR</td>\n",
       "      <td>rusrap</td>\n",
       "      <td>Saint-Petersburg</td>\n",
       "      <td>13:09:41</td>\n",
       "      <td>Friday</td>\n",
       "    </tr>\n",
       "    <tr>\n",
       "      <th>6</th>\n",
       "      <td>4CB90AA5</td>\n",
       "      <td>True</td>\n",
       "      <td>Roman Messer</td>\n",
       "      <td>dance</td>\n",
       "      <td>Moscow</td>\n",
       "      <td>13:00:07</td>\n",
       "      <td>Wednesday</td>\n",
       "    </tr>\n",
       "    <tr>\n",
       "      <th>7</th>\n",
       "      <td>F03E1C1F</td>\n",
       "      <td>Feeling This Way</td>\n",
       "      <td>Polina Griffith</td>\n",
       "      <td>dance</td>\n",
       "      <td>Moscow</td>\n",
       "      <td>20:47:49</td>\n",
       "      <td>Wednesday</td>\n",
       "    </tr>\n",
       "    <tr>\n",
       "      <th>8</th>\n",
       "      <td>8FA1D3BE</td>\n",
       "      <td>И вновь продолжается бой</td>\n",
       "      <td>NaN</td>\n",
       "      <td>ruspop</td>\n",
       "      <td>Moscow</td>\n",
       "      <td>09:17:40</td>\n",
       "      <td>Friday</td>\n",
       "    </tr>\n",
       "    <tr>\n",
       "      <th>9</th>\n",
       "      <td>E772D5C0</td>\n",
       "      <td>Pessimist</td>\n",
       "      <td>NaN</td>\n",
       "      <td>dance</td>\n",
       "      <td>Saint-Petersburg</td>\n",
       "      <td>21:20:49</td>\n",
       "      <td>Wednesday</td>\n",
       "    </tr>\n",
       "  </tbody>\n",
       "</table>\n",
       "</div>"
      ],
      "text/plain": [
       "     userID                        Track            artist   genre  \\\n",
       "0  FFB692EC            Kamigata To Boots  The Mass Missile    rock   \n",
       "1  55204538  Delayed Because of Accident  Andreas Rönnberg    rock   \n",
       "2    20EC38            Funiculì funiculà       Mario Lanza     pop   \n",
       "3  A3DD03C9        Dragons in the Sunset        Fire + Ice    folk   \n",
       "4  E2DC1FAE                  Soul People        Space Echo   dance   \n",
       "5  842029A1                    Преданная         IMPERVTOR  rusrap   \n",
       "6  4CB90AA5                         True      Roman Messer   dance   \n",
       "7  F03E1C1F             Feeling This Way   Polina Griffith   dance   \n",
       "8  8FA1D3BE     И вновь продолжается бой               NaN  ruspop   \n",
       "9  E772D5C0                    Pessimist               NaN   dance   \n",
       "\n",
       "             City        time        Day  \n",
       "0  Saint-Petersburg  20:28:33  Wednesday  \n",
       "1            Moscow  14:07:09     Friday  \n",
       "2  Saint-Petersburg  20:58:07  Wednesday  \n",
       "3  Saint-Petersburg  08:37:09     Monday  \n",
       "4            Moscow  08:34:34     Monday  \n",
       "5  Saint-Petersburg  13:09:41     Friday  \n",
       "6            Moscow  13:00:07  Wednesday  \n",
       "7            Moscow  20:47:49  Wednesday  \n",
       "8            Moscow  09:17:40     Friday  \n",
       "9  Saint-Petersburg  21:20:49  Wednesday  "
      ]
     },
     "metadata": {},
     "output_type": "display_data"
    }
   ],
   "source": [
    "display(df.head(10))"
   ]
  },
  {
   "cell_type": "code",
   "execution_count": 83,
   "metadata": {
    "id": "DSf2kIb-_Zct"
   },
   "outputs": [
    {
     "name": "stdout",
     "output_type": "stream",
     "text": [
      "<class 'pandas.core.frame.DataFrame'>\n",
      "RangeIndex: 65079 entries, 0 to 65078\n",
      "Data columns (total 7 columns):\n",
      " #   Column    Non-Null Count  Dtype \n",
      "---  ------    --------------  ----- \n",
      " 0     userID  65079 non-null  object\n",
      " 1   Track     63848 non-null  object\n",
      " 2   artist    57876 non-null  object\n",
      " 3   genre     63881 non-null  object\n",
      " 4     City    65079 non-null  object\n",
      " 5   time      65079 non-null  object\n",
      " 6   Day       65079 non-null  object\n",
      "dtypes: object(7)\n",
      "memory usage: 3.5+ MB\n"
     ]
    }
   ],
   "source": [
    "df.info()"
   ]
  },
  {
   "cell_type": "markdown",
   "metadata": {
    "id": "TaQ2Iwbr_Zct"
   },
   "source": [
    "* Итак, в таблице семь столбцов. Тип данных во всех столбцах — `object`.\n",
    "\n",
    "\n",
    "* Согласно документации к данным:\n",
    "   * `userID` — идентификатор пользователя;\n",
    "   * `Track` — название трека;  \n",
    "   * `artist` — имя исполнителя;\n",
    "   * `genre` — название жанра;\n",
    "   * `City` — город пользователя;\n",
    "   * `time` — время начала прослушивания;\n",
    "   * `Day` — день недели.\n",
    "\n",
    "\n",
    "* Названия колонок записаны с нарушением стиля:\n",
    "   1. Строчные буквы сочетаются с прописными.\n",
    "   2. Встречаются пробелы.\n",
    "   3. Неиспользование \"змеиного регистра\" в наименовании колонок таблицы.\n",
    "\n",
    "\n",
    "* Количество значений в столбцах различается, то есть в данных имеются пропущенные значения.\n"
   ]
  },
  {
   "cell_type": "markdown",
   "metadata": {
    "id": "MCB6-dXG_Zct"
   },
   "source": [
    "**Вывод:**\n",
    "\n",
    "В каждой строке таблицы — данные о прослушанном треке. Часть колонок описывает саму композицию: название, исполнителя и жанр. Остальные данные рассказывают о пользователе: из какого он города, когда он слушал музыку. \n",
    "\n",
    "Предварительно можно утверждать, что данных достаточно для проверки гипотез. Но встречаются пропуски в данных, а в названиях колонок — расхождения с хорошим стилем.\n",
    "\n",
    "Чтобы двигаться дальше, нужно устранить проблемы в данных."
   ]
  },
  {
   "cell_type": "markdown",
   "metadata": {
    "id": "SjYF6Ub9_Zct"
   },
   "source": [
    "## Предобработка данных\n",
    "\n",
    "Исправим стиль в заголовках столбцов, исключим пропуски. Затем проверим данные на дубликаты."
   ]
  },
  {
   "cell_type": "markdown",
   "metadata": {
    "id": "dIaKXr29_Zct"
   },
   "source": [
    "### Стиль заголовков\n",
    "\n",
    "Выведем на экран названия столбцов:"
   ]
  },
  {
   "cell_type": "code",
   "execution_count": 84,
   "metadata": {
    "id": "oKOTdF_Q_Zct"
   },
   "outputs": [
    {
     "name": "stdout",
     "output_type": "stream",
     "text": [
      "['  userID', 'Track', 'artist', 'genre', '  City  ', 'time', 'Day']\n"
     ]
    }
   ],
   "source": [
    "print(list(df.columns))"
   ]
  },
  {
   "cell_type": "markdown",
   "metadata": {
    "id": "zj5534cv_Zct"
   },
   "source": [
    "Исправим стилистические ошибки в названиях столбцов:\n",
    "* несколько слов в названии запишем в «змеином_регистре»,\n",
    "* все символы сделаем строчными,\n",
    "* устраним пробелы."
   ]
  },
  {
   "cell_type": "code",
   "execution_count": 85,
   "metadata": {
    "id": "ISlFqs5y_Zct"
   },
   "outputs": [
    {
     "name": "stdout",
     "output_type": "stream",
     "text": [
      "['user_id', 'track', 'artist', 'genre', 'city', 'time', 'day']\n"
     ]
    }
   ],
   "source": [
    "df = df.rename(columns={'  userID':'user_id', 'Track':'track', '  City  ':'city', 'Day':'day'})\n",
    "print(list(df.columns))"
   ]
  },
  {
   "cell_type": "markdown",
   "metadata": {
    "id": "5ISfbcfY_Zct"
   },
   "source": [
    "### Пропуски значений\n",
    "\n",
    "Определим количество пропусков в процентном соотношении."
   ]
  },
  {
   "cell_type": "code",
   "execution_count": 86,
   "metadata": {
    "id": "RskX29qr_Zct"
   },
   "outputs": [
    {
     "name": "stdout",
     "output_type": "stream",
     "text": [
      "user_id     0.000000\n",
      "track       1.891547\n",
      "artist     11.068086\n",
      "genre       1.840840\n",
      "city        0.000000\n",
      "time        0.000000\n",
      "day         0.000000\n",
      "dtype: float64\n"
     ]
    }
   ],
   "source": [
    "print(df.isna().mean()*100)"
   ]
  },
  {
   "cell_type": "markdown",
   "metadata": {
    "id": "qubhgnlO_Zct"
   },
   "source": [
    "Пропуски имеются в столбцах `track`, `artist`, `genre`.\n",
    "\n",
    "В `track` и `artist` пропуски не важны для работы. Поэтому заменим их явными обозначениями.\n",
    "\n",
    "Пропуски в `genre` могут помешать сравнению музыкальных вкусов в Москве и Санкт-Петербурге. Заполним и эти пропуски явными обозначениями и оценим, насколько они повредят расчётам. "
   ]
  },
  {
   "cell_type": "markdown",
   "metadata": {
    "id": "fSv2laPA_Zct"
   },
   "source": [
    "Заменим пропущенные значения в столбцах `track`, `artist` и `genre` на строку `'unknown'`."
   ]
  },
  {
   "cell_type": "code",
   "execution_count": 87,
   "metadata": {
    "id": "KplB5qWs_Zct"
   },
   "outputs": [
    {
     "name": "stdout",
     "output_type": "stream",
     "text": [
      "user_id    0.0\n",
      "track      0.0\n",
      "artist     0.0\n",
      "genre      0.0\n",
      "city       0.0\n",
      "time       0.0\n",
      "day        0.0\n",
      "dtype: float64\n"
     ]
    }
   ],
   "source": [
    "columns_to_replace = ['track', 'artist', 'genre'] \n",
    "\n",
    "for column in columns_to_replace:\n",
    "    df[column] = df[column].fillna('unknown')\n",
    "    \n",
    "print(df.isna().mean())    "
   ]
  },
  {
   "cell_type": "markdown",
   "metadata": {
    "id": "BWKRtBJ3_Zct"
   },
   "source": [
    "### Дубликаты\n",
    "\n",
    "Посчитаем явные дубликаты в таблице одной командой:"
   ]
  },
  {
   "cell_type": "code",
   "execution_count": 88,
   "metadata": {
    "id": "36eES_S0_Zct"
   },
   "outputs": [
    {
     "name": "stdout",
     "output_type": "stream",
     "text": [
      "Количество дубликатов: 3826\n"
     ]
    }
   ],
   "source": [
    "print('Количество дубликатов:', df.duplicated().sum())"
   ]
  },
  {
   "cell_type": "markdown",
   "metadata": {
    "id": "Ot25h6XR_Zct"
   },
   "source": [
    " Удалим явные дубликаты с удалением старых индексов и формированием новых:"
   ]
  },
  {
   "cell_type": "code",
   "execution_count": 89,
   "metadata": {
    "id": "exFHq6tt_Zct"
   },
   "outputs": [
    {
     "name": "stdout",
     "output_type": "stream",
     "text": [
      "Количество дубликатов: 0\n"
     ]
    }
   ],
   "source": [
    "df = df.drop_duplicates().reset_index(drop=True)\n",
    "\n",
    "print('Количество дубликатов:', df.duplicated().sum())"
   ]
  },
  {
   "cell_type": "markdown",
   "metadata": {
    "id": "QlFBsxAr_Zct"
   },
   "source": [
    "Теперь избавимся от неявных дубликатов в колонке `genre`. Название одного и того же жанра может быть записано немного по-разному. Такие ошибки тоже повлияют на результат исследования."
   ]
  },
  {
   "cell_type": "markdown",
   "metadata": {
    "id": "eSjWwsOh_Zct"
   },
   "source": [
    "Выведем на экран список уникальных названий жанров, отсортированный в алфавитном порядке. "
   ]
  },
  {
   "cell_type": "code",
   "execution_count": 90,
   "metadata": {
    "id": "JIUcqzZN_Zct"
   },
   "outputs": [
    {
     "name": "stdout",
     "output_type": "stream",
     "text": [
      "['acid', 'acoustic', 'action', 'adult', 'africa', 'afrikaans', 'alternative', 'alternativepunk', 'ambient', 'americana', 'animated', 'anime', 'arabesk', 'arabic', 'arena', 'argentinetango', 'art', 'audiobook', 'author', 'avantgarde', 'axé', 'baile', 'balkan', 'beats', 'bigroom', 'black', 'bluegrass', 'blues', 'bollywood', 'bossa', 'brazilian', 'breakbeat', 'breaks', 'broadway', 'cantautori', 'cantopop', 'canzone', 'caribbean', 'caucasian', 'celtic', 'chamber', 'chanson', 'children', 'chill', 'chinese', 'choral', 'christian', 'christmas', 'classical', 'classicmetal', 'club', 'colombian', 'comedy', 'conjazz', 'contemporary', 'country', 'cuban', 'dance', 'dancehall', 'dancepop', 'dark', 'death', 'deep', 'deutschrock', 'deutschspr', 'dirty', 'disco', 'dnb', 'documentary', 'downbeat', 'downtempo', 'drum', 'dub', 'dubstep', 'eastern', 'easy', 'electronic', 'electropop', 'emo', 'entehno', 'epicmetal', 'estrada', 'ethnic', 'eurofolk', 'european', 'experimental', 'extrememetal', 'fado', 'fairytail', 'film', 'fitness', 'flamenco', 'folk', 'folklore', 'folkmetal', 'folkrock', 'folktronica', 'forró', 'frankreich', 'französisch', 'french', 'funk', 'future', 'gangsta', 'garage', 'german', 'ghazal', 'gitarre', 'glitch', 'gospel', 'gothic', 'grime', 'grunge', 'gypsy', 'handsup', \"hard'n'heavy\", 'hardcore', 'hardstyle', 'hardtechno', 'hip', 'hip-hop', 'hiphop', 'historisch', 'holiday', 'hop', 'horror', 'house', 'hymn', 'idm', 'independent', 'indian', 'indie', 'indipop', 'industrial', 'inspirational', 'instrumental', 'international', 'irish', 'jam', 'japanese', 'jazz', 'jewish', 'jpop', 'jungle', 'k-pop', 'karadeniz', 'karaoke', 'kayokyoku', 'korean', 'laiko', 'latin', 'latino', 'leftfield', 'local', 'lounge', 'loungeelectronic', 'lovers', 'malaysian', 'mandopop', 'marschmusik', 'meditative', 'mediterranean', 'melodic', 'metal', 'metalcore', 'mexican', 'middle', 'minimal', 'miscellaneous', 'modern', 'mood', 'mpb', 'muslim', 'native', 'neoklassik', 'neue', 'new', 'newage', 'newwave', 'nu', 'nujazz', 'numetal', 'oceania', 'old', 'opera', 'orchestral', 'other', 'piano', 'podcasts', 'pop', 'popdance', 'popelectronic', 'popeurodance', 'poprussian', 'post', 'posthardcore', 'postrock', 'power', 'progmetal', 'progressive', 'psychedelic', 'punjabi', 'punk', 'quebecois', 'ragga', 'ram', 'rancheras', 'rap', 'rave', 'reggae', 'reggaeton', 'regional', 'relax', 'religious', 'retro', 'rhythm', 'rnb', 'rnr', 'rock', 'rockabilly', 'rockalternative', 'rockindie', 'rockother', 'romance', 'roots', 'ruspop', 'rusrap', 'rusrock', 'russian', 'salsa', 'samba', 'scenic', 'schlager', 'self', 'sertanejo', 'shanson', 'shoegazing', 'showtunes', 'singer', 'ska', 'skarock', 'slow', 'smooth', 'soft', 'soul', 'soulful', 'sound', 'soundtrack', 'southern', 'specialty', 'speech', 'spiritual', 'sport', 'stonerrock', 'surf', 'swing', 'synthpop', 'synthrock', 'sängerportrait', 'tango', 'tanzorchester', 'taraftar', 'tatar', 'tech', 'techno', 'teen', 'thrash', 'top', 'traditional', 'tradjazz', 'trance', 'tribal', 'trip', 'triphop', 'tropical', 'türk', 'türkçe', 'ukrrock', 'unknown', 'urban', 'uzbek', 'variété', 'vi', 'videogame', 'vocal', 'western', 'world', 'worldbeat', 'ïîï', 'электроника']\n"
     ]
    }
   ],
   "source": [
    "print(sorted(df['genre'].unique()))"
   ]
  },
  {
   "cell_type": "markdown",
   "metadata": {
    "id": "qej-Qmuo_Zct"
   },
   "source": [
    "Выше встречаются следующие неявные дубликаты жанра хип-хоп:\n",
    "* *hip*,\n",
    "* *hop*,\n",
    "* *hip-hop*.\n",
    "\n",
    "Чтобы очистить от них таблицу, напишем функцию `replace_wrong_genres()` с двумя параметрами: \n",
    "* `wrong_genres` — список дубликатов,\n",
    "* `correct_genre` — строка с правильным значением."
   ]
  },
  {
   "cell_type": "code",
   "execution_count": 91,
   "metadata": {
    "id": "ErNDkmns_Zct"
   },
   "outputs": [],
   "source": [
    "def replace_wrong_genres(wrong_genres, correct_genre):\n",
    "    for wrong_genre in wrong_genres:\n",
    "        df['genre'] = df['genre'].replace(wrong_genre, correct_genre)"
   ]
  },
  {
   "cell_type": "markdown",
   "metadata": {
    "id": "aDoBJxbA_Zct"
   },
   "source": [
    "Вызовем `replace_wrong_genres()` и передадим ей такие аргументы, чтобы она устранила неявные дубликаты: вместо `hip`, `hop` и `hip-hop` в таблице должно быть значение `hiphop`:"
   ]
  },
  {
   "cell_type": "code",
   "execution_count": 92,
   "metadata": {
    "id": "YN5i2hpmSo09"
   },
   "outputs": [
    {
     "name": "stdout",
     "output_type": "stream",
     "text": [
      "В жанрах встречается только: ['hiphop']\n"
     ]
    }
   ],
   "source": [
    "wrong_genres = ('hip','hop','hip-hop')\n",
    "correct_genre = 'hiphop'\n",
    "\n",
    "replace_wrong_genres(wrong_genres, correct_genre)\n",
    "\n",
    "print('В жанрах встречается только:', \n",
    "      df[df['genre'].isin(['hip'\n",
    "                           ,'hop'\n",
    "                           , 'hip-hop'\n",
    "                           , 'hiphop'])]['genre'].sort_values().unique())"
   ]
  },
  {
   "cell_type": "markdown",
   "metadata": {
    "id": "jz6a9-7HQUDd"
   },
   "source": [
    "**Вывод:**\n",
    "\n",
    "Предобработка обнаружила три проблемы в данных:\n",
    "- нарушения в стиле заголовков,\n",
    "- пропущенные значения,\n",
    "- дубликаты — явные и неявные.\n",
    "\n",
    "Для упрощения работы с таблицей были исправлены заголовки, устранены дубликаты, пропущенные значения заменены на `'unknown'`. \n",
    "\n",
    "Далее перейдем к проверке гипотез. "
   ]
  },
  {
   "cell_type": "markdown",
   "metadata": {
    "id": "WttZHXH0SqKk"
   },
   "source": [
    "## Проверка гипотез"
   ]
  },
  {
   "cell_type": "markdown",
   "metadata": {
    "id": "Im936VVi_Zcu"
   },
   "source": [
    "### Сравнение поведения пользователей двух столиц"
   ]
  },
  {
   "cell_type": "markdown",
   "metadata": {
    "id": "nwt_MuaL_Zcu"
   },
   "source": [
    "Первая гипотеза утверждает, что пользователи по-разному слушают музыку в Москве и Санкт-Петербурге. \n",
    "\n",
    "Проверим это предположение по данным о трёх днях недели — понедельнике, среде и пятнице. \n",
    "\n",
    "Для этого:\n",
    "\n",
    "* Разделим пользователей Москвы и Санкт-Петербурга;\n",
    "* Сравним, сколько треков послушала каждая группа пользователей в понедельник, среду и пятницу."
   ]
  },
  {
   "cell_type": "markdown",
   "metadata": {
    "id": "8Dw_YMmT_Zcu"
   },
   "source": [
    "Оцените активность пользователей в каждом городе. Сгруппируем данные по городу и посчитаем прослушивания в каждой группе."
   ]
  },
  {
   "cell_type": "code",
   "execution_count": 93,
   "metadata": {
    "id": "0_Qs96oh_Zcu"
   },
   "outputs": [
    {
     "name": "stdout",
     "output_type": "stream",
     "text": [
      "city\n",
      "Moscow              42741\n",
      "Saint-Petersburg    18512\n",
      "Name: user_id, dtype: int64\n"
     ]
    }
   ],
   "source": [
    "print(df.groupby('city')['user_id'].count())"
   ]
  },
  {
   "cell_type": "markdown",
   "metadata": {
    "id": "dzli3w8o_Zcu"
   },
   "source": [
    "В Москве прослушиваний больше, чем в Петербурге. Из этого не следует, что московские пользователи чаще слушают музыку. Просто самих пользователей в Москве больше.\n",
    "\n",
    "Теперь сгруппируем данные по дню недели и подсчитаем прослушивания в понедельник, среду и пятницу. "
   ]
  },
  {
   "cell_type": "code",
   "execution_count": 94,
   "metadata": {
    "id": "uZMKjiJz_Zcu"
   },
   "outputs": [
    {
     "name": "stdout",
     "output_type": "stream",
     "text": [
      "day\n",
      "Friday       21840\n",
      "Monday       21354\n",
      "Wednesday    18059\n",
      "Name: user_id, dtype: int64\n"
     ]
    }
   ],
   "source": [
    "print(df.groupby('day')['user_id'].count())"
   ]
  },
  {
   "cell_type": "markdown",
   "metadata": {
    "id": "cC2tNrlL_Zcu"
   },
   "source": [
    "В среднем пользователи из двух городов менее активны по средам. Но картина может измениться, если рассмотреть каждый город в отдельности."
   ]
  },
  {
   "cell_type": "markdown",
   "metadata": {
    "id": "POzs8bGa_Zcu"
   },
   "source": [
    "Напишем функцию, которая объединит два эти расчёта."
   ]
  },
  {
   "cell_type": "code",
   "execution_count": 95,
   "metadata": {
    "id": "Nz3GdQB1_Zcu"
   },
   "outputs": [],
   "source": [
    "def number_tracks (day,city): \n",
    "    track_list = df[df['day'] == day]\n",
    "    track_list = track_list[track_list['city'] == city]\n",
    "    track_list_count = track_list['user_id'].count()\n",
    "    return track_list_count"
   ]
  },
  {
   "cell_type": "markdown",
   "metadata": {
    "id": "ytf7xFrFJQ2r"
   },
   "source": [
    "Вызовите `number_tracks()` шесть раз, меняя значение параметров — так, чтобы получить данные для каждого города в каждый из трёх дней."
   ]
  },
  {
   "cell_type": "code",
   "execution_count": 96,
   "metadata": {},
   "outputs": [
    {
     "name": "stdout",
     "output_type": "stream",
     "text": [
      "Количество прослушиваний в городе Moscow в Monday: 15740\n",
      "Количество прослушиваний в городе Moscow в Wednesday: 11056\n",
      "Количество прослушиваний в городе Moscow в Friday: 15945\n",
      "Количество прослушиваний в городе Saint-Petersburg в Monday: 5614\n",
      "Количество прослушиваний в городе Saint-Petersburg в Wednesday: 7003\n",
      "Количество прослушиваний в городе Saint-Petersburg в Friday: 5895\n"
     ]
    }
   ],
   "source": [
    "cities = ['Moscow', 'Saint-Petersburg']\n",
    "days = ['Monday', 'Wednesday', 'Friday']\n",
    "\n",
    "for city in cities:\n",
    "    for day in days: \n",
    "        print(f'Количество прослушиваний в городе {city} в {day}: {number_tracks(day, city)}')"
   ]
  },
  {
   "cell_type": "markdown",
   "metadata": {
    "id": "7QXffbO-_Zcu"
   },
   "source": [
    "Создадим таблицу с результатами."
   ]
  },
  {
   "cell_type": "code",
   "execution_count": 97,
   "metadata": {
    "id": "APAcLpOr_Zcu"
   },
   "outputs": [
    {
     "data": {
      "text/html": [
       "<div>\n",
       "<style scoped>\n",
       "    .dataframe tbody tr th:only-of-type {\n",
       "        vertical-align: middle;\n",
       "    }\n",
       "\n",
       "    .dataframe tbody tr th {\n",
       "        vertical-align: top;\n",
       "    }\n",
       "\n",
       "    .dataframe thead th {\n",
       "        text-align: right;\n",
       "    }\n",
       "</style>\n",
       "<table border=\"1\" class=\"dataframe\">\n",
       "  <thead>\n",
       "    <tr style=\"text-align: right;\">\n",
       "      <th></th>\n",
       "      <th>city</th>\n",
       "      <th>monday</th>\n",
       "      <th>wednesday</th>\n",
       "      <th>friday</th>\n",
       "    </tr>\n",
       "  </thead>\n",
       "  <tbody>\n",
       "    <tr>\n",
       "      <th>0</th>\n",
       "      <td>Moscow</td>\n",
       "      <td>15740</td>\n",
       "      <td>11056</td>\n",
       "      <td>15945</td>\n",
       "    </tr>\n",
       "    <tr>\n",
       "      <th>1</th>\n",
       "      <td>Saint-Petersburg</td>\n",
       "      <td>5614</td>\n",
       "      <td>7003</td>\n",
       "      <td>5895</td>\n",
       "    </tr>\n",
       "  </tbody>\n",
       "</table>\n",
       "</div>"
      ],
      "text/plain": [
       "               city  monday  wednesday  friday\n",
       "0            Moscow   15740      11056   15945\n",
       "1  Saint-Petersburg    5614       7003    5895"
      ]
     },
     "metadata": {},
     "output_type": "display_data"
    }
   ],
   "source": [
    "columns = ['city', 'monday', 'wednesday', 'friday']\n",
    "values = [\n",
    "    ['Moscow', number_tracks('Monday','Moscow'), number_tracks('Wednesday','Moscow'), number_tracks('Friday','Moscow')],\n",
    "    ['Saint-Petersburg', number_tracks('Monday','Saint-Petersburg'), number_tracks('Wednesday','Saint-Petersburg'), number_tracks('Friday','Saint-Petersburg')]\n",
    "]\n",
    "result = pd.DataFrame(data = values, columns = columns)\n",
    "display(result)"
   ]
  },
  {
   "cell_type": "markdown",
   "metadata": {
    "id": "-EgPIHYu_Zcu"
   },
   "source": [
    "**Вывод:**\n",
    "\n",
    "Данные показывают разницу поведения пользователей:\n",
    "\n",
    "- В Москве пик прослушиваний приходится на понедельник и пятницу, а в среду заметен спад.\n",
    "- В Петербурге, наоборот, больше слушают музыку по средам. Активность в понедельник и пятницу здесь почти в равной мере уступает среде.\n",
    "\n",
    "Значит, данные говорят в пользу первой гипотезы."
   ]
  },
  {
   "cell_type": "markdown",
   "metadata": {
    "id": "atZAxtq4_Zcu"
   },
   "source": [
    "### Музыка в начале и в конце недели"
   ]
  },
  {
   "cell_type": "markdown",
   "metadata": {
    "id": "eXrQqXFH_Zcu"
   },
   "source": [
    "Согласно второй гипотезе, утром в понедельник в Москве преобладают одни жанры, а в Петербурге — другие. Так же и вечером пятницы преобладают разные жанры — в зависимости от города."
   ]
  },
  {
   "cell_type": "markdown",
   "metadata": {
    "id": "S8UcW6Hw_Zcu"
   },
   "source": [
    "Сохраним таблицы с данными в две переменные:\n",
    "* по Москве — в `moscow_general`;\n",
    "* по Санкт-Петербургу — в `spb_general`."
   ]
  },
  {
   "cell_type": "code",
   "execution_count": 98,
   "metadata": {
    "id": "qeaFfM_P_Zcu"
   },
   "outputs": [],
   "source": [
    "moscow_general = df[df['city'] == 'Moscow']\n",
    "spb_general = df[df['city'] == 'Saint-Petersburg']"
   ]
  },
  {
   "cell_type": "markdown",
   "metadata": {
    "id": "MEJV-CX2_Zcu"
   },
   "source": [
    "Создадим функцию `genre_weekday()` с четырьмя параметрами:\n",
    "* таблица (датафрейм) с данными,\n",
    "* день недели,\n",
    "* начальная временная метка в формате 'hh:mm', \n",
    "* последняя временная метка в формате 'hh:mm'.\n",
    "\n",
    "Функция должна вернуть информацию о топ-10 жанров тех треков, которые прослушивали в указанный день, в промежутке между двумя отметками времени."
   ]
  },
  {
   "cell_type": "code",
   "execution_count": 99,
   "metadata": {
    "id": "laJT9BYl_Zcu"
   },
   "outputs": [],
   "source": [
    "def genre_weekday(table, day, time1, time2):\n",
    "    genre_df = table[table['day'] == day]      \n",
    "    genre_df = genre_df[genre_df['time'] > time1]   \n",
    "    genre_df = genre_df[genre_df['time'] < time2]  \n",
    "\n",
    "    genre_df_count = genre_df.groupby('genre')['genre'].count()\n",
    "    genre_df_sorted = genre_df_count.sort_values(ascending = False)\n",
    "   \n",
    "    return (genre_df_sorted.head(10))"
   ]
  },
  {
   "cell_type": "markdown",
   "metadata": {
    "id": "la2s2_PF_Zcu"
   },
   "source": [
    "Cравним результаты функции `genre_weekday()` для Москвы и Санкт-Петербурга в понедельник утром (с 7:00 до 11:00) и в пятницу вечером (с 17:00 до 23:00):"
   ]
  },
  {
   "cell_type": "code",
   "execution_count": 100,
   "metadata": {
    "id": "yz7itPUQ_Zcu"
   },
   "outputs": [
    {
     "name": "stdout",
     "output_type": "stream",
     "text": [
      "Распределение треков по жанрам в городе Moscow в понедельник утром:\n",
      " genre\n",
      "pop            781\n",
      "dance          549\n",
      "electronic     480\n",
      "rock           474\n",
      "hiphop         286\n",
      "ruspop         186\n",
      "world          181\n",
      "rusrap         175\n",
      "alternative    164\n",
      "unknown        161\n",
      "Name: genre, dtype: int64\n",
      "\n",
      "Распределение треков по жанрам в городе Moscow в пятницу вечером:\n",
      " genre\n",
      "pop            713\n",
      "rock           517\n",
      "dance          495\n",
      "electronic     482\n",
      "hiphop         273\n",
      "world          208\n",
      "ruspop         170\n",
      "alternative    163\n",
      "classical      163\n",
      "rusrap         142\n",
      "Name: genre, dtype: int64\n",
      "\n",
      "Распределение треков по жанрам в городе Saint-Petersburg в понедельник утром:\n",
      " genre\n",
      "pop            781\n",
      "dance          549\n",
      "electronic     480\n",
      "rock           474\n",
      "hiphop         286\n",
      "ruspop         186\n",
      "world          181\n",
      "rusrap         175\n",
      "alternative    164\n",
      "unknown        161\n",
      "Name: genre, dtype: int64\n",
      "\n",
      "Распределение треков по жанрам в городе Saint-Petersburg в пятницу вечером:\n",
      " genre\n",
      "pop            713\n",
      "rock           517\n",
      "dance          495\n",
      "electronic     482\n",
      "hiphop         273\n",
      "world          208\n",
      "ruspop         170\n",
      "alternative    163\n",
      "classical      163\n",
      "rusrap         142\n",
      "Name: genre, dtype: int64\n",
      "\n",
      "Распределение треков по жанрам в городе Moscow в понедельник утром:\n",
      " genre\n",
      "pop            218\n",
      "dance          182\n",
      "rock           162\n",
      "electronic     147\n",
      "hiphop          80\n",
      "ruspop          64\n",
      "alternative     58\n",
      "rusrap          55\n",
      "jazz            44\n",
      "classical       40\n",
      "Name: genre, dtype: int64\n",
      "\n",
      "Распределение треков по жанрам в городе Moscow в пятницу вечером:\n",
      " genre\n",
      "pop            256\n",
      "electronic     216\n",
      "rock           216\n",
      "dance          210\n",
      "hiphop          97\n",
      "alternative     63\n",
      "jazz            61\n",
      "classical       60\n",
      "rusrap          59\n",
      "world           54\n",
      "Name: genre, dtype: int64\n",
      "\n",
      "Распределение треков по жанрам в городе Saint-Petersburg в понедельник утром:\n",
      " genre\n",
      "pop            218\n",
      "dance          182\n",
      "rock           162\n",
      "electronic     147\n",
      "hiphop          80\n",
      "ruspop          64\n",
      "alternative     58\n",
      "rusrap          55\n",
      "jazz            44\n",
      "classical       40\n",
      "Name: genre, dtype: int64\n",
      "\n",
      "Распределение треков по жанрам в городе Saint-Petersburg в пятницу вечером:\n",
      " genre\n",
      "pop            256\n",
      "electronic     216\n",
      "rock           216\n",
      "dance          210\n",
      "hiphop          97\n",
      "alternative     63\n",
      "jazz            61\n",
      "classical       60\n",
      "rusrap          59\n",
      "world           54\n",
      "Name: genre, dtype: int64\n",
      "\n"
     ]
    }
   ],
   "source": [
    "generals = [moscow_general, spb_general]\n",
    "\n",
    "for general in generals:\n",
    "    for city in cities:\n",
    "        print(f\"Распределение треков по жанрам в городе {city} в понедельник утром:\\n {genre_weekday(general, 'Monday', '07:00', '11:00')}\\n\")\n",
    "        print(f\"Распределение треков по жанрам в городе {city} в пятницу вечером:\\n {genre_weekday(general, 'Friday', '17:00', '23:00')}\\n\")"
   ]
  },
  {
   "cell_type": "markdown",
   "metadata": {
    "id": "wrCe4MNX_Zcu"
   },
   "source": [
    "**Вывод:**\n",
    "\n",
    "Если сравнить топ-10 жанров в понедельник утром, можно сделать такие выводы:\n",
    "\n",
    "1. В Москве и Петербурге слушают похожую музыку. Единственное отличие — в московский рейтинг вошёл жанр “world”, а в петербургский — джаз и классика.\n",
    "\n",
    "2. В Москве пропущенных значений оказалось так много, что значение `'unknown'` заняло десятое место среди самых популярных жанров. Значит, пропущенные значения занимают существенную долю в данных и угрожают достоверности исследования. Вечер пятницы не меняет эту картину. Некоторые жанры поднимаются немного выше, другие спускаются, но в целом топ-10 остаётся тем же самым.\n",
    "\n",
    "Таким образом, вторая гипотеза подтвердилась лишь частично:\n",
    "* Пользователи слушают похожую музыку в начале недели и в конце.\n",
    "* Разница между Москвой и Петербургом не слишком выражена. В Москве чаще слушают русскую популярную музыку, в Петербурге — джаз.\n",
    "\n",
    "Однако пропуски в данных ставят под сомнение этот результат. В Москве их так много, что рейтинг топ-10 мог бы выглядеть иначе, если бы не утерянные  данные о жанрах."
   ]
  },
  {
   "cell_type": "markdown",
   "metadata": {
    "id": "JolODAqr_Zcu"
   },
   "source": [
    "### Жанровые предпочтения в Москве и Петербурге\n",
    "\n",
    "Гипотеза: Петербург — столица рэпа, музыку этого жанра там слушают чаще, чем в Москве.  А Москва — город контрастов, в котором, тем не менее, преобладает поп-музыка."
   ]
  },
  {
   "cell_type": "markdown",
   "metadata": {
    "id": "DlegSvaT_Zcu"
   },
   "source": [
    "Сгруппируем таблицу `moscow_general` по жанру и посчитаем прослушивания треков каждого жанра методом `count()`. Затем отсортируем результат в порядке убывания и сохраним его в таблице `moscow_genres`."
   ]
  },
  {
   "cell_type": "code",
   "execution_count": 101,
   "metadata": {
    "id": "r19lIPke_Zcu"
   },
   "outputs": [
    {
     "data": {
      "text/plain": [
       "genre\n",
       "pop            5892\n",
       "dance          4435\n",
       "rock           3965\n",
       "electronic     3786\n",
       "hiphop         2096\n",
       "classical      1616\n",
       "world          1432\n",
       "alternative    1379\n",
       "ruspop         1372\n",
       "rusrap         1161\n",
       "Name: genre, dtype: int64"
      ]
     },
     "metadata": {},
     "output_type": "display_data"
    }
   ],
   "source": [
    "moscow_genres = (moscow_general.groupby('genre')['genre'].count()).sort_values(ascending = False)\n",
    "display(moscow_genres.head(10))"
   ]
  },
  {
   "cell_type": "markdown",
   "metadata": {
    "id": "cnPG2vnN_Zcv"
   },
   "source": [
    "Теперь повторим то же и для Петербурга."
   ]
  },
  {
   "cell_type": "code",
   "execution_count": 102,
   "metadata": {
    "id": "gluLIpE7_Zcv"
   },
   "outputs": [
    {
     "data": {
      "text/plain": [
       "genre\n",
       "pop            2431\n",
       "dance          1932\n",
       "rock           1879\n",
       "electronic     1736\n",
       "hiphop          960\n",
       "alternative     649\n",
       "classical       646\n",
       "rusrap          564\n",
       "ruspop          538\n",
       "world           515\n",
       "Name: genre, dtype: int64"
      ]
     },
     "metadata": {},
     "output_type": "display_data"
    }
   ],
   "source": [
    "spb_genres = (spb_general.groupby('genre')['genre'].count()).sort_values(ascending = False)\n",
    "display(spb_genres.head(10))"
   ]
  },
  {
   "cell_type": "markdown",
   "metadata": {
    "id": "RY51YJYu_Zcv"
   },
   "source": [
    "**Вывод:**"
   ]
  },
  {
   "cell_type": "markdown",
   "metadata": {
    "id": "nVhnJEm__Zcv"
   },
   "source": [
    "Гипотеза частично подтвердилась:\n",
    "* Поп-музыка — самый популярный жанр в Москве, как и предполагала гипотеза. Более того, в топ-10 жанров встречается близкий жанр — русская популярная музыка.\n",
    "* Вопреки ожиданиям, рэп одинаково популярен в Москве и Петербурге. \n"
   ]
  },
  {
   "cell_type": "markdown",
   "metadata": {
    "id": "ykKQ0N65_Zcv"
   },
   "source": [
    "## Итоги исследования"
   ]
  },
  {
   "cell_type": "markdown",
   "metadata": {
    "id": "tjUwbHb3_Zcv"
   },
   "source": [
    "Было установлено следующее:\n",
    "\n",
    "1. День недели по-разному влияет на активность пользователей в Москве и Петербурге. \n",
    "   \n",
    "   Первая гипотеза полностью подтвердилась.\n",
    "\n",
    "\n",
    "2. Музыкальные предпочтения не сильно меняются в течение недели — будь то Москва или Петербург. Небольшие различия заметны в начале недели, по понедельникам:\n",
    "* в Москве слушают музыку жанра “world”,\n",
    "* в Петербурге — джаз и классику.\n",
    "\n",
    "  Таким образом, вторая гипотеза подтвердилась лишь отчасти. Этот результат мог оказаться иным, если бы не пропуски в данных.\n",
    "\n",
    "\n",
    "3. Во вкусах пользователей Москвы и Петербурга больше общего чем различий. Вопреки ожиданиям, предпочтения жанров в Петербурге напоминают московские.\n",
    "\n",
    "   Третья гипотеза не подтвердилась. Если различия в предпочтениях и существуют, на основной массе пользователей они незаметны."
   ]
  }
 ],
 "metadata": {
  "ExecuteTimeLog": [
   {
    "duration": 609,
    "start_time": "2021-11-16T17:31:13.077Z"
   },
   {
    "duration": 1996,
    "start_time": "2021-11-16T17:31:16.466Z"
   },
   {
    "duration": 2087,
    "start_time": "2021-11-16T17:31:36.131Z"
   },
   {
    "duration": 3,
    "start_time": "2021-11-16T17:31:45.723Z"
   },
   {
    "duration": 3,
    "start_time": "2021-11-16T17:32:07.116Z"
   },
   {
    "duration": 2013,
    "start_time": "2021-11-16T17:32:07.122Z"
   },
   {
    "duration": 785,
    "start_time": "2021-11-16T17:32:08.352Z"
   },
   {
    "duration": 785,
    "start_time": "2021-11-16T17:32:08.353Z"
   },
   {
    "duration": 784,
    "start_time": "2021-11-16T17:32:08.355Z"
   },
   {
    "duration": 783,
    "start_time": "2021-11-16T17:32:08.357Z"
   },
   {
    "duration": 781,
    "start_time": "2021-11-16T17:32:08.360Z"
   },
   {
    "duration": 777,
    "start_time": "2021-11-16T17:32:08.364Z"
   },
   {
    "duration": 776,
    "start_time": "2021-11-16T17:32:08.366Z"
   },
   {
    "duration": 777,
    "start_time": "2021-11-16T17:32:08.367Z"
   },
   {
    "duration": 777,
    "start_time": "2021-11-16T17:32:08.368Z"
   },
   {
    "duration": 776,
    "start_time": "2021-11-16T17:32:08.370Z"
   },
   {
    "duration": 775,
    "start_time": "2021-11-16T17:32:08.372Z"
   },
   {
    "duration": 763,
    "start_time": "2021-11-16T17:32:08.385Z"
   },
   {
    "duration": 761,
    "start_time": "2021-11-16T17:32:08.387Z"
   },
   {
    "duration": 759,
    "start_time": "2021-11-16T17:32:08.390Z"
   },
   {
    "duration": 758,
    "start_time": "2021-11-16T17:32:08.392Z"
   },
   {
    "duration": 757,
    "start_time": "2021-11-16T17:32:08.394Z"
   },
   {
    "duration": 757,
    "start_time": "2021-11-16T17:32:08.395Z"
   },
   {
    "duration": 756,
    "start_time": "2021-11-16T17:32:08.397Z"
   },
   {
    "duration": 756,
    "start_time": "2021-11-16T17:32:08.398Z"
   },
   {
    "duration": 755,
    "start_time": "2021-11-16T17:32:08.400Z"
   },
   {
    "duration": 754,
    "start_time": "2021-11-16T17:32:08.402Z"
   },
   {
    "duration": 754,
    "start_time": "2021-11-16T17:32:08.403Z"
   },
   {
    "duration": 754,
    "start_time": "2021-11-16T17:32:08.404Z"
   },
   {
    "duration": 754,
    "start_time": "2021-11-16T17:32:08.406Z"
   },
   {
    "duration": 753,
    "start_time": "2021-11-16T17:32:08.408Z"
   },
   {
    "duration": 753,
    "start_time": "2021-11-16T17:32:08.409Z"
   },
   {
    "duration": 752,
    "start_time": "2021-11-16T17:32:08.411Z"
   },
   {
    "duration": 752,
    "start_time": "2021-11-16T17:32:08.412Z"
   },
   {
    "duration": 750,
    "start_time": "2021-11-16T17:32:08.414Z"
   },
   {
    "duration": 749,
    "start_time": "2021-11-16T17:32:08.416Z"
   },
   {
    "duration": 744,
    "start_time": "2021-11-16T17:32:08.422Z"
   },
   {
    "duration": 742,
    "start_time": "2021-11-16T17:32:08.425Z"
   },
   {
    "duration": 742,
    "start_time": "2021-11-16T17:32:08.426Z"
   },
   {
    "duration": 743,
    "start_time": "2021-11-16T17:32:08.427Z"
   },
   {
    "duration": 742,
    "start_time": "2021-11-16T17:32:08.429Z"
   },
   {
    "duration": 742,
    "start_time": "2021-11-16T17:32:08.430Z"
   },
   {
    "duration": 2923,
    "start_time": "2021-11-16T17:33:00.214Z"
   },
   {
    "duration": 2385,
    "start_time": "2021-11-16T17:33:43.515Z"
   },
   {
    "duration": 1956,
    "start_time": "2021-11-16T17:35:52.304Z"
   },
   {
    "duration": 161,
    "start_time": "2021-11-16T17:36:06.024Z"
   },
   {
    "duration": 172,
    "start_time": "2021-11-16T17:36:17.813Z"
   },
   {
    "duration": 170,
    "start_time": "2021-11-16T17:36:46.359Z"
   },
   {
    "duration": 12,
    "start_time": "2021-11-16T17:37:16.664Z"
   },
   {
    "duration": 33,
    "start_time": "2021-11-16T17:38:35.762Z"
   },
   {
    "duration": 46,
    "start_time": "2021-11-16T17:38:49.963Z"
   },
   {
    "duration": 3,
    "start_time": "2021-11-16T17:55:41.825Z"
   },
   {
    "duration": 4,
    "start_time": "2021-11-16T17:55:55.691Z"
   },
   {
    "duration": 4,
    "start_time": "2021-11-16T17:55:59.628Z"
   },
   {
    "duration": 3,
    "start_time": "2021-11-16T17:56:08.589Z"
   },
   {
    "duration": 23,
    "start_time": "2021-11-16T18:03:32.533Z"
   },
   {
    "duration": 32,
    "start_time": "2021-11-16T18:09:16.951Z"
   },
   {
    "duration": 5,
    "start_time": "2021-11-16T18:09:35.812Z"
   },
   {
    "duration": 4,
    "start_time": "2021-11-16T18:10:42.398Z"
   },
   {
    "duration": 15,
    "start_time": "2021-11-16T18:10:46.383Z"
   },
   {
    "duration": 4,
    "start_time": "2021-11-16T18:10:49.243Z"
   },
   {
    "duration": 22,
    "start_time": "2021-11-16T18:14:57.650Z"
   },
   {
    "duration": 23,
    "start_time": "2021-11-16T18:15:08.989Z"
   },
   {
    "duration": 41,
    "start_time": "2021-11-16T18:15:18.891Z"
   },
   {
    "duration": 17,
    "start_time": "2021-11-16T18:19:29.793Z"
   },
   {
    "duration": 32,
    "start_time": "2021-11-16T18:20:13.550Z"
   },
   {
    "duration": 60,
    "start_time": "2021-11-16T18:21:27.269Z"
   },
   {
    "duration": 65,
    "start_time": "2021-11-16T18:22:23.509Z"
   },
   {
    "duration": 50,
    "start_time": "2021-11-16T18:22:48.550Z"
   },
   {
    "duration": 9,
    "start_time": "2021-11-16T18:28:29.144Z"
   },
   {
    "duration": 9,
    "start_time": "2021-11-16T18:28:52.614Z"
   },
   {
    "duration": 2,
    "start_time": "2021-11-16T18:36:29.195Z"
   },
   {
    "duration": 152,
    "start_time": "2021-11-16T18:36:29.199Z"
   },
   {
    "duration": 11,
    "start_time": "2021-11-16T18:36:29.353Z"
   },
   {
    "duration": 31,
    "start_time": "2021-11-16T18:36:29.366Z"
   },
   {
    "duration": 3,
    "start_time": "2021-11-16T18:36:29.399Z"
   },
   {
    "duration": 26,
    "start_time": "2021-11-16T18:36:29.403Z"
   },
   {
    "duration": 3,
    "start_time": "2021-11-16T18:36:29.431Z"
   },
   {
    "duration": 48,
    "start_time": "2021-11-16T18:36:29.436Z"
   },
   {
    "duration": 19,
    "start_time": "2021-11-16T18:36:29.486Z"
   },
   {
    "duration": 25,
    "start_time": "2021-11-16T18:36:29.507Z"
   },
   {
    "duration": 77,
    "start_time": "2021-11-16T18:36:29.534Z"
   },
   {
    "duration": 68,
    "start_time": "2021-11-16T18:36:29.613Z"
   },
   {
    "duration": 49,
    "start_time": "2021-11-16T18:36:29.683Z"
   },
   {
    "duration": 9,
    "start_time": "2021-11-16T18:36:29.734Z"
   },
   {
    "duration": 20,
    "start_time": "2021-11-16T18:36:29.744Z"
   },
   {
    "duration": 6,
    "start_time": "2021-11-16T18:37:20.548Z"
   },
   {
    "duration": 9,
    "start_time": "2021-11-16T18:37:33.119Z"
   },
   {
    "duration": 485,
    "start_time": "2021-11-16T18:38:08.924Z"
   },
   {
    "duration": 10,
    "start_time": "2021-11-16T18:38:21.069Z"
   },
   {
    "duration": 10,
    "start_time": "2021-11-16T18:38:24.787Z"
   },
   {
    "duration": 9,
    "start_time": "2021-11-16T18:38:29.043Z"
   },
   {
    "duration": 609,
    "start_time": "2021-11-21T09:48:12.022Z"
   },
   {
    "duration": 137,
    "start_time": "2021-11-21T09:48:12.633Z"
   },
   {
    "duration": 17,
    "start_time": "2021-11-21T09:48:12.772Z"
   },
   {
    "duration": 34,
    "start_time": "2021-11-21T09:48:12.791Z"
   },
   {
    "duration": 22,
    "start_time": "2021-11-21T09:48:12.826Z"
   },
   {
    "duration": 38,
    "start_time": "2021-11-21T09:48:12.850Z"
   },
   {
    "duration": 17,
    "start_time": "2021-11-21T09:48:12.890Z"
   },
   {
    "duration": 41,
    "start_time": "2021-11-21T09:48:12.908Z"
   },
   {
    "duration": 29,
    "start_time": "2021-11-21T09:48:12.951Z"
   },
   {
    "duration": 33,
    "start_time": "2021-11-21T09:48:12.982Z"
   },
   {
    "duration": 63,
    "start_time": "2021-11-21T09:48:13.016Z"
   },
   {
    "duration": 71,
    "start_time": "2021-11-21T09:48:13.081Z"
   },
   {
    "duration": 51,
    "start_time": "2021-11-21T09:48:13.153Z"
   },
   {
    "duration": 9,
    "start_time": "2021-11-21T09:48:13.205Z"
   },
   {
    "duration": 13,
    "start_time": "2021-11-21T09:48:13.216Z"
   },
   {
    "duration": 18,
    "start_time": "2021-11-21T09:48:13.231Z"
   },
   {
    "duration": 28,
    "start_time": "2021-11-21T09:48:13.250Z"
   },
   {
    "duration": 19,
    "start_time": "2021-11-21T09:48:13.279Z"
   },
   {
    "duration": 9,
    "start_time": "2021-11-21T09:48:13.299Z"
   },
   {
    "duration": 26,
    "start_time": "2021-11-21T09:48:13.310Z"
   },
   {
    "duration": 22,
    "start_time": "2021-11-21T09:48:13.338Z"
   },
   {
    "duration": 20,
    "start_time": "2021-11-21T09:48:13.362Z"
   },
   {
    "duration": 36,
    "start_time": "2021-11-21T09:48:13.383Z"
   },
   {
    "duration": 23,
    "start_time": "2021-11-21T09:48:13.420Z"
   },
   {
    "duration": 16,
    "start_time": "2021-11-21T09:48:13.445Z"
   },
   {
    "duration": 18,
    "start_time": "2021-11-21T09:48:13.463Z"
   },
   {
    "duration": 13,
    "start_time": "2021-11-21T09:48:13.485Z"
   },
   {
    "duration": 15,
    "start_time": "2021-11-21T09:48:13.500Z"
   },
   {
    "duration": 21,
    "start_time": "2021-11-21T09:48:13.516Z"
   },
   {
    "duration": 10,
    "start_time": "2021-11-21T09:48:13.539Z"
   },
   {
    "duration": 19,
    "start_time": "2021-11-21T09:48:13.551Z"
   },
   {
    "duration": 13,
    "start_time": "2021-11-21T09:48:13.572Z"
   },
   {
    "duration": 26,
    "start_time": "2021-11-21T09:48:13.587Z"
   },
   {
    "duration": 17,
    "start_time": "2021-11-21T09:48:13.614Z"
   },
   {
    "duration": 18,
    "start_time": "2021-11-21T09:48:13.632Z"
   },
   {
    "duration": 15,
    "start_time": "2021-11-21T09:48:13.652Z"
   },
   {
    "duration": 20,
    "start_time": "2021-11-21T09:48:13.669Z"
   },
   {
    "duration": 14,
    "start_time": "2021-11-21T09:48:13.691Z"
   },
   {
    "duration": 25,
    "start_time": "2021-11-21T09:48:55.437Z"
   },
   {
    "duration": 23,
    "start_time": "2021-11-21T09:49:06.021Z"
   },
   {
    "duration": 22,
    "start_time": "2021-11-21T09:49:20.557Z"
   },
   {
    "duration": 4,
    "start_time": "2021-11-21T09:50:27.330Z"
   },
   {
    "duration": 4,
    "start_time": "2021-11-21T09:51:33.787Z"
   },
   {
    "duration": 22,
    "start_time": "2021-11-21T10:07:21.574Z"
   },
   {
    "duration": 48,
    "start_time": "2021-11-21T10:07:55.948Z"
   },
   {
    "duration": 49,
    "start_time": "2021-11-21T10:08:06.805Z"
   },
   {
    "duration": 48,
    "start_time": "2021-11-21T10:08:29.708Z"
   },
   {
    "duration": 2,
    "start_time": "2021-11-21T10:08:41.304Z"
   },
   {
    "duration": 179,
    "start_time": "2021-11-21T10:08:41.308Z"
   },
   {
    "duration": 10,
    "start_time": "2021-11-21T10:08:41.489Z"
   },
   {
    "duration": 44,
    "start_time": "2021-11-21T10:08:41.501Z"
   },
   {
    "duration": 21,
    "start_time": "2021-11-21T10:08:41.546Z"
   },
   {
    "duration": 41,
    "start_time": "2021-11-21T10:08:41.569Z"
   },
   {
    "duration": 23,
    "start_time": "2021-11-21T10:08:41.612Z"
   },
   {
    "duration": 38,
    "start_time": "2021-11-21T10:08:41.637Z"
   },
   {
    "duration": 45,
    "start_time": "2021-11-21T10:08:41.677Z"
   },
   {
    "duration": 33,
    "start_time": "2021-11-21T10:08:41.724Z"
   },
   {
    "duration": 54,
    "start_time": "2021-11-21T10:09:03.359Z"
   },
   {
    "duration": 76,
    "start_time": "2021-11-21T10:09:03.415Z"
   },
   {
    "duration": 55,
    "start_time": "2021-11-21T10:09:03.493Z"
   },
   {
    "duration": 10,
    "start_time": "2021-11-21T10:09:03.550Z"
   },
   {
    "duration": 4,
    "start_time": "2021-11-21T10:09:03.562Z"
   },
   {
    "duration": 15,
    "start_time": "2021-11-21T10:09:03.568Z"
   },
   {
    "duration": 11,
    "start_time": "2021-11-21T10:09:03.585Z"
   },
   {
    "duration": 3,
    "start_time": "2021-11-21T10:09:03.600Z"
   },
   {
    "duration": 5,
    "start_time": "2021-11-21T10:09:03.605Z"
   },
   {
    "duration": 3,
    "start_time": "2021-11-21T10:09:03.644Z"
   },
   {
    "duration": 5,
    "start_time": "2021-11-21T10:09:03.649Z"
   },
   {
    "duration": 7,
    "start_time": "2021-11-21T10:09:03.655Z"
   },
   {
    "duration": 5,
    "start_time": "2021-11-21T10:09:03.663Z"
   },
   {
    "duration": 4,
    "start_time": "2021-11-21T10:09:03.669Z"
   },
   {
    "duration": 4,
    "start_time": "2021-11-21T10:09:03.675Z"
   },
   {
    "duration": 5,
    "start_time": "2021-11-21T10:09:03.680Z"
   },
   {
    "duration": 4,
    "start_time": "2021-11-21T10:09:03.687Z"
   },
   {
    "duration": 5,
    "start_time": "2021-11-21T10:09:03.692Z"
   },
   {
    "duration": 4,
    "start_time": "2021-11-21T10:09:03.699Z"
   },
   {
    "duration": 5,
    "start_time": "2021-11-21T10:09:03.705Z"
   },
   {
    "duration": 6,
    "start_time": "2021-11-21T10:09:03.711Z"
   },
   {
    "duration": 27,
    "start_time": "2021-11-21T10:09:03.719Z"
   },
   {
    "duration": 6,
    "start_time": "2021-11-21T10:09:03.749Z"
   },
   {
    "duration": 5,
    "start_time": "2021-11-21T10:09:03.757Z"
   },
   {
    "duration": 4,
    "start_time": "2021-11-21T10:09:03.764Z"
   },
   {
    "duration": 4,
    "start_time": "2021-11-21T10:09:03.769Z"
   },
   {
    "duration": 4,
    "start_time": "2021-11-21T10:09:03.775Z"
   },
   {
    "duration": 5,
    "start_time": "2021-11-21T10:09:03.781Z"
   },
   {
    "duration": 46,
    "start_time": "2021-11-21T10:09:26.324Z"
   },
   {
    "duration": 6,
    "start_time": "2021-11-21T10:18:22.824Z"
   },
   {
    "duration": 9,
    "start_time": "2021-11-21T10:18:39.765Z"
   },
   {
    "duration": 11,
    "start_time": "2021-11-21T10:19:12.391Z"
   },
   {
    "duration": 3,
    "start_time": "2021-11-21T10:19:12.404Z"
   },
   {
    "duration": 11,
    "start_time": "2021-11-21T10:19:12.408Z"
   },
   {
    "duration": 10,
    "start_time": "2021-11-21T10:19:12.421Z"
   },
   {
    "duration": 2,
    "start_time": "2021-11-21T10:19:12.432Z"
   },
   {
    "duration": 4,
    "start_time": "2021-11-21T10:19:12.436Z"
   },
   {
    "duration": 4,
    "start_time": "2021-11-21T10:19:12.442Z"
   },
   {
    "duration": 2,
    "start_time": "2021-11-21T10:19:12.449Z"
   },
   {
    "duration": 4,
    "start_time": "2021-11-21T10:19:12.454Z"
   },
   {
    "duration": 6,
    "start_time": "2021-11-21T10:19:12.459Z"
   },
   {
    "duration": 4,
    "start_time": "2021-11-21T10:19:12.467Z"
   },
   {
    "duration": 3,
    "start_time": "2021-11-21T10:19:12.473Z"
   },
   {
    "duration": 4,
    "start_time": "2021-11-21T10:19:12.478Z"
   },
   {
    "duration": 3,
    "start_time": "2021-11-21T10:19:12.484Z"
   },
   {
    "duration": 4,
    "start_time": "2021-11-21T10:19:12.489Z"
   },
   {
    "duration": 4,
    "start_time": "2021-11-21T10:19:12.495Z"
   },
   {
    "duration": 4,
    "start_time": "2021-11-21T10:19:12.501Z"
   },
   {
    "duration": 7,
    "start_time": "2021-11-21T10:19:12.506Z"
   },
   {
    "duration": 5,
    "start_time": "2021-11-21T10:19:12.515Z"
   },
   {
    "duration": 3,
    "start_time": "2021-11-21T10:19:12.544Z"
   },
   {
    "duration": 8,
    "start_time": "2021-11-21T10:19:12.549Z"
   },
   {
    "duration": 37,
    "start_time": "2021-11-21T10:19:12.559Z"
   },
   {
    "duration": 21,
    "start_time": "2021-11-21T10:19:12.599Z"
   },
   {
    "duration": 10,
    "start_time": "2021-11-21T10:19:12.622Z"
   },
   {
    "duration": 20,
    "start_time": "2021-11-21T10:19:12.633Z"
   },
   {
    "duration": 9,
    "start_time": "2021-11-21T10:19:30.345Z"
   },
   {
    "duration": 8,
    "start_time": "2021-11-21T10:19:30.356Z"
   },
   {
    "duration": 20,
    "start_time": "2021-11-21T10:19:30.366Z"
   },
   {
    "duration": 17,
    "start_time": "2021-11-21T10:19:30.388Z"
   },
   {
    "duration": 9,
    "start_time": "2021-11-21T10:19:30.407Z"
   },
   {
    "duration": 11,
    "start_time": "2021-11-21T10:19:30.418Z"
   },
   {
    "duration": 12,
    "start_time": "2021-11-21T10:19:30.431Z"
   },
   {
    "duration": 14,
    "start_time": "2021-11-21T10:19:30.444Z"
   },
   {
    "duration": 7,
    "start_time": "2021-11-21T10:19:30.461Z"
   },
   {
    "duration": 4,
    "start_time": "2021-11-21T10:19:30.470Z"
   },
   {
    "duration": 10,
    "start_time": "2021-11-21T10:19:30.475Z"
   },
   {
    "duration": 11,
    "start_time": "2021-11-21T10:19:30.486Z"
   },
   {
    "duration": 17,
    "start_time": "2021-11-21T10:19:30.499Z"
   },
   {
    "duration": 8,
    "start_time": "2021-11-21T10:19:30.518Z"
   },
   {
    "duration": 12,
    "start_time": "2021-11-21T10:19:30.528Z"
   },
   {
    "duration": 12,
    "start_time": "2021-11-21T10:19:30.541Z"
   },
   {
    "duration": 7,
    "start_time": "2021-11-21T10:19:30.554Z"
   },
   {
    "duration": 12,
    "start_time": "2021-11-21T10:19:30.562Z"
   },
   {
    "duration": 12,
    "start_time": "2021-11-21T10:19:30.575Z"
   },
   {
    "duration": 11,
    "start_time": "2021-11-21T10:19:30.588Z"
   },
   {
    "duration": 16,
    "start_time": "2021-11-21T10:19:30.601Z"
   },
   {
    "duration": 5,
    "start_time": "2021-11-21T10:19:30.619Z"
   },
   {
    "duration": 7,
    "start_time": "2021-11-21T10:19:30.626Z"
   },
   {
    "duration": 9,
    "start_time": "2021-11-21T10:19:30.635Z"
   },
   {
    "duration": 6,
    "start_time": "2021-11-21T10:19:30.646Z"
   },
   {
    "duration": 58,
    "start_time": "2021-11-21T10:19:46.028Z"
   },
   {
    "duration": 10,
    "start_time": "2021-11-21T10:19:48.430Z"
   },
   {
    "duration": 3,
    "start_time": "2021-11-21T10:19:54.736Z"
   },
   {
    "duration": 9,
    "start_time": "2021-11-21T10:20:12.065Z"
   },
   {
    "duration": 2,
    "start_time": "2021-11-21T10:20:12.076Z"
   },
   {
    "duration": 10,
    "start_time": "2021-11-21T10:20:12.080Z"
   },
   {
    "duration": 9,
    "start_time": "2021-11-21T10:20:12.091Z"
   },
   {
    "duration": 2,
    "start_time": "2021-11-21T10:20:12.101Z"
   },
   {
    "duration": 4,
    "start_time": "2021-11-21T10:20:12.104Z"
   },
   {
    "duration": 5,
    "start_time": "2021-11-21T10:20:12.109Z"
   },
   {
    "duration": 4,
    "start_time": "2021-11-21T10:20:12.116Z"
   },
   {
    "duration": 22,
    "start_time": "2021-11-21T10:20:12.122Z"
   },
   {
    "duration": 5,
    "start_time": "2021-11-21T10:20:12.146Z"
   },
   {
    "duration": 5,
    "start_time": "2021-11-21T10:20:12.152Z"
   },
   {
    "duration": 5,
    "start_time": "2021-11-21T10:20:12.158Z"
   },
   {
    "duration": 4,
    "start_time": "2021-11-21T10:20:12.164Z"
   },
   {
    "duration": 6,
    "start_time": "2021-11-21T10:20:12.170Z"
   },
   {
    "duration": 4,
    "start_time": "2021-11-21T10:20:12.178Z"
   },
   {
    "duration": 4,
    "start_time": "2021-11-21T10:20:12.183Z"
   },
   {
    "duration": 4,
    "start_time": "2021-11-21T10:20:12.189Z"
   },
   {
    "duration": 6,
    "start_time": "2021-11-21T10:20:12.194Z"
   },
   {
    "duration": 3,
    "start_time": "2021-11-21T10:20:12.202Z"
   },
   {
    "duration": 6,
    "start_time": "2021-11-21T10:20:12.207Z"
   },
   {
    "duration": 5,
    "start_time": "2021-11-21T10:20:12.214Z"
   },
   {
    "duration": 4,
    "start_time": "2021-11-21T10:20:12.220Z"
   },
   {
    "duration": 5,
    "start_time": "2021-11-21T10:20:12.246Z"
   },
   {
    "duration": 10,
    "start_time": "2021-11-21T10:20:12.253Z"
   },
   {
    "duration": 7,
    "start_time": "2021-11-21T10:20:12.265Z"
   },
   {
    "duration": 53,
    "start_time": "2021-11-21T10:20:38.544Z"
   },
   {
    "duration": 60,
    "start_time": "2021-11-21T10:20:39.449Z"
   },
   {
    "duration": 52,
    "start_time": "2021-11-21T10:20:40.433Z"
   },
   {
    "duration": 9,
    "start_time": "2021-11-21T10:20:42.597Z"
   },
   {
    "duration": 3,
    "start_time": "2021-11-21T10:21:17.233Z"
   },
   {
    "duration": 132,
    "start_time": "2021-11-21T10:21:17.238Z"
   },
   {
    "duration": 10,
    "start_time": "2021-11-21T10:21:17.372Z"
   },
   {
    "duration": 24,
    "start_time": "2021-11-21T10:21:17.384Z"
   },
   {
    "duration": 3,
    "start_time": "2021-11-21T10:21:17.410Z"
   },
   {
    "duration": 39,
    "start_time": "2021-11-21T10:21:17.415Z"
   },
   {
    "duration": 4,
    "start_time": "2021-11-21T10:21:17.455Z"
   },
   {
    "duration": 23,
    "start_time": "2021-11-21T10:21:17.461Z"
   },
   {
    "duration": 17,
    "start_time": "2021-11-21T10:21:17.486Z"
   },
   {
    "duration": 49,
    "start_time": "2021-11-21T10:21:17.504Z"
   },
   {
    "duration": 2,
    "start_time": "2021-11-21T10:26:02.500Z"
   },
   {
    "duration": 133,
    "start_time": "2021-11-21T10:26:04.764Z"
   },
   {
    "duration": 14,
    "start_time": "2021-11-21T10:26:08.317Z"
   },
   {
    "duration": 26,
    "start_time": "2021-11-21T10:26:11.882Z"
   },
   {
    "duration": 4,
    "start_time": "2021-11-21T10:26:18.336Z"
   },
   {
    "duration": 16,
    "start_time": "2021-11-21T10:26:22.251Z"
   },
   {
    "duration": 3,
    "start_time": "2021-11-21T10:26:23.563Z"
   },
   {
    "duration": 22,
    "start_time": "2021-11-21T10:26:37.983Z"
   },
   {
    "duration": 22,
    "start_time": "2021-11-21T10:26:39.145Z"
   },
   {
    "duration": 18,
    "start_time": "2021-11-21T10:26:42.609Z"
   },
   {
    "duration": 22,
    "start_time": "2021-11-21T10:26:47.491Z"
   },
   {
    "duration": 51,
    "start_time": "2021-11-21T10:26:52.979Z"
   },
   {
    "duration": 59,
    "start_time": "2021-11-21T10:26:59.266Z"
   },
   {
    "duration": 52,
    "start_time": "2021-11-21T10:27:00.988Z"
   },
   {
    "duration": 13,
    "start_time": "2021-11-21T10:27:04.697Z"
   },
   {
    "duration": 3,
    "start_time": "2021-11-21T10:27:20.243Z"
   },
   {
    "duration": 10,
    "start_time": "2021-11-21T10:27:22.074Z"
   },
   {
    "duration": 9,
    "start_time": "2021-11-21T10:27:23.085Z"
   },
   {
    "duration": 8,
    "start_time": "2021-11-21T10:32:10.015Z"
   },
   {
    "duration": 9,
    "start_time": "2021-11-21T10:32:27.468Z"
   },
   {
    "duration": 10,
    "start_time": "2021-11-21T10:33:10.740Z"
   },
   {
    "duration": 12,
    "start_time": "2021-11-21T10:35:58.174Z"
   },
   {
    "duration": 11,
    "start_time": "2021-11-21T10:36:00.374Z"
   },
   {
    "duration": 9,
    "start_time": "2021-11-21T10:37:37.398Z"
   },
   {
    "duration": 11,
    "start_time": "2021-11-21T10:38:21.993Z"
   },
   {
    "duration": 3,
    "start_time": "2021-11-21T10:39:28.941Z"
   },
   {
    "duration": 13,
    "start_time": "2021-11-21T10:40:02.076Z"
   },
   {
    "duration": 13,
    "start_time": "2021-11-21T11:24:22.731Z"
   },
   {
    "duration": 11,
    "start_time": "2021-11-21T11:24:51.813Z"
   },
   {
    "duration": 110,
    "start_time": "2021-11-21T11:27:37.053Z"
   },
   {
    "duration": 3,
    "start_time": "2021-11-21T11:32:58.927Z"
   },
   {
    "duration": 17,
    "start_time": "2021-11-21T11:33:54.446Z"
   },
   {
    "duration": 14,
    "start_time": "2021-11-21T11:35:03.206Z"
   },
   {
    "duration": 15,
    "start_time": "2021-11-21T11:35:33.189Z"
   },
   {
    "duration": 14,
    "start_time": "2021-11-21T11:35:58.363Z"
   },
   {
    "duration": 17,
    "start_time": "2021-11-21T11:36:18.901Z"
   },
   {
    "duration": 15,
    "start_time": "2021-11-21T11:36:40.662Z"
   },
   {
    "duration": 498,
    "start_time": "2021-11-21T11:54:58.698Z"
   },
   {
    "duration": 299,
    "start_time": "2021-11-21T12:01:07.560Z"
   },
   {
    "duration": 2,
    "start_time": "2021-11-21T12:02:11.328Z"
   },
   {
    "duration": 3,
    "start_time": "2021-11-21T12:02:14.231Z"
   },
   {
    "duration": 4,
    "start_time": "2021-11-21T12:02:23.751Z"
   },
   {
    "duration": 85,
    "start_time": "2021-11-21T12:03:39.555Z"
   },
   {
    "duration": 3,
    "start_time": "2021-11-21T12:03:44.600Z"
   },
   {
    "duration": 343,
    "start_time": "2021-11-21T12:05:59.660Z"
   },
   {
    "duration": 317,
    "start_time": "2021-11-21T12:12:25.017Z"
   },
   {
    "duration": 381,
    "start_time": "2021-11-21T12:13:14.435Z"
   },
   {
    "duration": 313,
    "start_time": "2021-11-21T12:13:38.316Z"
   },
   {
    "duration": 15,
    "start_time": "2021-11-21T12:14:10.811Z"
   },
   {
    "duration": 13,
    "start_time": "2021-11-21T12:14:11.443Z"
   },
   {
    "duration": 13,
    "start_time": "2021-11-21T12:14:12.125Z"
   },
   {
    "duration": 14,
    "start_time": "2021-11-21T12:14:13.141Z"
   },
   {
    "duration": 15,
    "start_time": "2021-11-21T12:14:16.884Z"
   },
   {
    "duration": 14,
    "start_time": "2021-11-21T12:14:17.952Z"
   },
   {
    "duration": 358,
    "start_time": "2021-11-21T12:14:20.643Z"
   },
   {
    "duration": 17,
    "start_time": "2021-11-21T12:15:01.637Z"
   },
   {
    "duration": 15,
    "start_time": "2021-11-21T12:15:02.330Z"
   },
   {
    "duration": 14,
    "start_time": "2021-11-21T12:15:02.702Z"
   },
   {
    "duration": 14,
    "start_time": "2021-11-21T12:15:03.030Z"
   },
   {
    "duration": 16,
    "start_time": "2021-11-21T12:15:04.183Z"
   },
   {
    "duration": 15,
    "start_time": "2021-11-21T12:15:06.609Z"
   },
   {
    "duration": 329,
    "start_time": "2021-11-21T12:27:02.399Z"
   },
   {
    "duration": 66,
    "start_time": "2021-11-21T12:34:51.715Z"
   },
   {
    "duration": 18,
    "start_time": "2021-11-21T12:45:30.949Z"
   },
   {
    "duration": 10,
    "start_time": "2021-11-21T12:46:51.446Z"
   },
   {
    "duration": 12,
    "start_time": "2021-11-21T12:48:07.235Z"
   },
   {
    "duration": 12,
    "start_time": "2021-11-21T12:48:08.711Z"
   },
   {
    "duration": 7,
    "start_time": "2021-11-21T13:04:35.289Z"
   },
   {
    "duration": 543,
    "start_time": "2021-11-21T13:07:30.816Z"
   },
   {
    "duration": 16,
    "start_time": "2021-11-21T13:07:59.549Z"
   },
   {
    "duration": 10,
    "start_time": "2021-11-21T13:08:00.104Z"
   },
   {
    "duration": 4,
    "start_time": "2021-11-21T13:08:01.478Z"
   },
   {
    "duration": 562,
    "start_time": "2021-11-21T13:08:02.947Z"
   },
   {
    "duration": 30,
    "start_time": "2021-11-21T13:12:07.650Z"
   },
   {
    "duration": 528,
    "start_time": "2021-11-21T13:15:54.996Z"
   },
   {
    "duration": 4,
    "start_time": "2021-11-21T13:18:12.251Z"
   },
   {
    "duration": 535,
    "start_time": "2021-11-21T13:18:13.527Z"
   },
   {
    "duration": 4,
    "start_time": "2021-11-21T13:18:34.615Z"
   },
   {
    "duration": 24,
    "start_time": "2021-11-21T13:18:37.499Z"
   },
   {
    "duration": 9,
    "start_time": "2021-11-21T13:21:41.552Z"
   },
   {
    "duration": 544,
    "start_time": "2021-11-21T13:21:43.006Z"
   },
   {
    "duration": 4,
    "start_time": "2021-11-21T13:21:56.548Z"
   },
   {
    "duration": 18,
    "start_time": "2021-11-21T13:21:58.220Z"
   },
   {
    "duration": 12,
    "start_time": "2021-11-21T13:22:42.123Z"
   },
   {
    "duration": 18,
    "start_time": "2021-11-21T13:25:14.229Z"
   },
   {
    "duration": 12,
    "start_time": "2021-11-21T13:25:21.611Z"
   },
   {
    "duration": 4,
    "start_time": "2021-11-21T13:25:56.379Z"
   },
   {
    "duration": 18,
    "start_time": "2021-11-21T13:25:58.888Z"
   },
   {
    "duration": 20,
    "start_time": "2021-11-21T13:25:59.640Z"
   },
   {
    "duration": 17,
    "start_time": "2021-11-21T13:26:00.813Z"
   },
   {
    "duration": 13,
    "start_time": "2021-11-21T13:26:02.132Z"
   },
   {
    "duration": 17,
    "start_time": "2021-11-21T13:27:41.955Z"
   },
   {
    "duration": 12,
    "start_time": "2021-11-21T13:27:47.874Z"
   },
   {
    "duration": 15,
    "start_time": "2021-11-21T13:31:03.401Z"
   },
   {
    "duration": 12,
    "start_time": "2021-11-21T13:31:08.567Z"
   },
   {
    "duration": 15,
    "start_time": "2021-11-21T13:32:47.542Z"
   },
   {
    "duration": 12,
    "start_time": "2021-11-21T13:32:55.087Z"
   },
   {
    "duration": 12,
    "start_time": "2021-11-21T13:33:04.852Z"
   },
   {
    "duration": 24,
    "start_time": "2021-11-21T13:39:31.853Z"
   },
   {
    "duration": 8,
    "start_time": "2021-11-21T13:39:33.273Z"
   },
   {
    "duration": 287,
    "start_time": "2021-11-21T13:40:15.576Z"
   },
   {
    "duration": 275,
    "start_time": "2021-11-21T13:41:12.704Z"
   },
   {
    "duration": 284,
    "start_time": "2021-11-21T13:41:34.035Z"
   },
   {
    "duration": 268,
    "start_time": "2021-11-21T13:42:09.406Z"
   },
   {
    "duration": 13,
    "start_time": "2021-11-21T13:42:16.035Z"
   },
   {
    "duration": 288,
    "start_time": "2021-11-21T13:42:41.967Z"
   },
   {
    "duration": 9,
    "start_time": "2021-11-21T13:45:42.875Z"
   },
   {
    "duration": 561,
    "start_time": "2021-11-21T13:45:58.115Z"
   },
   {
    "duration": 24,
    "start_time": "2021-11-21T13:46:23.532Z"
   },
   {
    "duration": 10,
    "start_time": "2021-11-21T13:46:25.971Z"
   },
   {
    "duration": 10,
    "start_time": "2021-11-21T13:48:21.129Z"
   },
   {
    "duration": 4,
    "start_time": "2021-11-21T13:48:22.345Z"
   },
   {
    "duration": 7,
    "start_time": "2021-11-21T13:49:49.535Z"
   },
   {
    "duration": 5,
    "start_time": "2021-11-21T13:50:12.295Z"
   },
   {
    "duration": 10,
    "start_time": "2021-11-21T13:52:46.413Z"
   },
   {
    "duration": 10,
    "start_time": "2021-11-21T13:52:48.637Z"
   },
   {
    "duration": 5,
    "start_time": "2021-11-21T13:52:57.158Z"
   },
   {
    "duration": 19,
    "start_time": "2021-11-21T13:52:59.103Z"
   },
   {
    "duration": 13,
    "start_time": "2021-11-21T13:53:06.871Z"
   },
   {
    "duration": 17,
    "start_time": "2021-11-21T13:53:08.944Z"
   },
   {
    "duration": 12,
    "start_time": "2021-11-21T13:53:10.206Z"
   },
   {
    "duration": 8,
    "start_time": "2021-11-21T13:53:47.725Z"
   },
   {
    "duration": 5,
    "start_time": "2021-11-21T13:53:53.794Z"
   },
   {
    "duration": 6,
    "start_time": "2021-11-21T13:54:03.398Z"
   },
   {
    "duration": 4,
    "start_time": "2021-11-21T13:54:04.574Z"
   },
   {
    "duration": 23,
    "start_time": "2021-11-21T13:56:52.534Z"
   },
   {
    "duration": 4,
    "start_time": "2021-11-21T13:57:04.632Z"
   },
   {
    "duration": 4,
    "start_time": "2021-11-21T13:57:35.736Z"
   },
   {
    "duration": 18,
    "start_time": "2021-11-21T13:57:39.976Z"
   },
   {
    "duration": 4,
    "start_time": "2021-11-21T13:57:47.900Z"
   },
   {
    "duration": 22,
    "start_time": "2021-11-21T13:58:03.778Z"
   },
   {
    "duration": 3,
    "start_time": "2021-11-21T13:58:19.596Z"
   },
   {
    "duration": 128,
    "start_time": "2021-11-21T13:58:24.212Z"
   },
   {
    "duration": 11,
    "start_time": "2021-11-21T13:58:25.663Z"
   },
   {
    "duration": 25,
    "start_time": "2021-11-21T13:58:27.155Z"
   },
   {
    "duration": 4,
    "start_time": "2021-11-21T13:58:31.467Z"
   },
   {
    "duration": 13,
    "start_time": "2021-11-21T13:58:33.028Z"
   },
   {
    "duration": 5,
    "start_time": "2021-11-21T13:58:34.261Z"
   },
   {
    "duration": 22,
    "start_time": "2021-11-21T13:58:35.920Z"
   },
   {
    "duration": 18,
    "start_time": "2021-11-21T13:58:42.219Z"
   },
   {
    "duration": 16,
    "start_time": "2021-11-21T13:58:53.612Z"
   },
   {
    "duration": 21,
    "start_time": "2021-11-21T13:58:54.901Z"
   },
   {
    "duration": 2,
    "start_time": "2021-11-21T13:59:03.484Z"
   },
   {
    "duration": 53,
    "start_time": "2021-11-21T13:59:09.883Z"
   },
   {
    "duration": 58,
    "start_time": "2021-11-21T13:59:13.105Z"
   },
   {
    "duration": 51,
    "start_time": "2021-11-21T13:59:21.276Z"
   },
   {
    "duration": 9,
    "start_time": "2021-11-21T13:59:29.461Z"
   },
   {
    "duration": 2,
    "start_time": "2021-11-21T13:59:53.725Z"
   },
   {
    "duration": 12,
    "start_time": "2021-11-21T13:59:56.855Z"
   },
   {
    "duration": 10,
    "start_time": "2021-11-21T13:59:59.172Z"
   },
   {
    "duration": 17,
    "start_time": "2021-11-21T14:00:21.712Z"
   },
   {
    "duration": 12,
    "start_time": "2021-11-21T14:00:31.646Z"
   },
   {
    "duration": 4,
    "start_time": "2021-11-21T14:00:42.202Z"
   },
   {
    "duration": 17,
    "start_time": "2021-11-21T14:00:44.627Z"
   },
   {
    "duration": 15,
    "start_time": "2021-11-21T14:00:45.167Z"
   },
   {
    "duration": 16,
    "start_time": "2021-11-21T14:00:45.578Z"
   },
   {
    "duration": 14,
    "start_time": "2021-11-21T14:00:45.952Z"
   },
   {
    "duration": 16,
    "start_time": "2021-11-21T14:00:46.574Z"
   },
   {
    "duration": 15,
    "start_time": "2021-11-21T14:00:47.232Z"
   },
   {
    "duration": 71,
    "start_time": "2021-11-21T14:00:50.714Z"
   },
   {
    "duration": 67,
    "start_time": "2021-11-21T14:01:15.972Z"
   },
   {
    "duration": 13,
    "start_time": "2021-11-21T14:01:23.070Z"
   },
   {
    "duration": 12,
    "start_time": "2021-11-21T14:01:23.970Z"
   },
   {
    "duration": 4,
    "start_time": "2021-11-21T14:01:29.491Z"
   },
   {
    "duration": 18,
    "start_time": "2021-11-21T14:01:32.994Z"
   },
   {
    "duration": 13,
    "start_time": "2021-11-21T14:01:33.947Z"
   },
   {
    "duration": 19,
    "start_time": "2021-11-21T14:01:34.973Z"
   },
   {
    "duration": 12,
    "start_time": "2021-11-21T14:01:35.721Z"
   },
   {
    "duration": 12,
    "start_time": "2021-11-21T14:01:47.284Z"
   },
   {
    "duration": 5,
    "start_time": "2021-11-21T14:01:48.512Z"
   },
   {
    "duration": 9,
    "start_time": "2021-11-21T14:01:51.982Z"
   },
   {
    "duration": 6,
    "start_time": "2021-11-21T14:01:53.295Z"
   },
   {
    "duration": 885,
    "start_time": "2021-11-21T14:27:08.818Z"
   },
   {
    "duration": 183,
    "start_time": "2021-11-21T14:27:09.706Z"
   },
   {
    "duration": 26,
    "start_time": "2021-11-21T14:27:09.892Z"
   },
   {
    "duration": 54,
    "start_time": "2021-11-21T14:27:09.921Z"
   },
   {
    "duration": 10,
    "start_time": "2021-11-21T14:27:09.977Z"
   },
   {
    "duration": 32,
    "start_time": "2021-11-21T14:27:09.990Z"
   },
   {
    "duration": 10,
    "start_time": "2021-11-21T14:27:10.025Z"
   },
   {
    "duration": 60,
    "start_time": "2021-11-21T14:27:10.037Z"
   },
   {
    "duration": 24,
    "start_time": "2021-11-21T14:27:10.102Z"
   },
   {
    "duration": 47,
    "start_time": "2021-11-21T14:27:10.129Z"
   },
   {
    "duration": 98,
    "start_time": "2021-11-21T14:27:10.178Z"
   },
   {
    "duration": 103,
    "start_time": "2021-11-21T14:27:10.279Z"
   },
   {
    "duration": 86,
    "start_time": "2021-11-21T14:27:10.384Z"
   },
   {
    "duration": 13,
    "start_time": "2021-11-21T14:27:10.472Z"
   },
   {
    "duration": 4,
    "start_time": "2021-11-21T14:27:10.487Z"
   },
   {
    "duration": 24,
    "start_time": "2021-11-21T14:27:10.493Z"
   },
   {
    "duration": 44,
    "start_time": "2021-11-21T14:27:10.519Z"
   },
   {
    "duration": 20,
    "start_time": "2021-11-21T14:27:10.565Z"
   },
   {
    "duration": 19,
    "start_time": "2021-11-21T14:27:10.588Z"
   },
   {
    "duration": 6,
    "start_time": "2021-11-21T14:27:10.610Z"
   },
   {
    "duration": 66,
    "start_time": "2021-11-21T14:27:10.618Z"
   },
   {
    "duration": 18,
    "start_time": "2021-11-21T14:27:10.686Z"
   },
   {
    "duration": 19,
    "start_time": "2021-11-21T14:27:10.706Z"
   },
   {
    "duration": 48,
    "start_time": "2021-11-21T14:27:10.728Z"
   },
   {
    "duration": 22,
    "start_time": "2021-11-21T14:27:10.779Z"
   },
   {
    "duration": 18,
    "start_time": "2021-11-21T14:27:10.804Z"
   },
   {
    "duration": 106,
    "start_time": "2021-11-21T14:27:10.862Z"
   },
   {
    "duration": 15,
    "start_time": "2021-11-21T14:27:10.971Z"
   },
   {
    "duration": 13,
    "start_time": "2021-11-21T14:27:10.988Z"
   },
   {
    "duration": 6,
    "start_time": "2021-11-21T14:27:11.003Z"
   },
   {
    "duration": 60,
    "start_time": "2021-11-21T14:27:11.011Z"
   },
   {
    "duration": 18,
    "start_time": "2021-11-21T14:27:11.074Z"
   },
   {
    "duration": 22,
    "start_time": "2021-11-21T14:27:11.094Z"
   },
   {
    "duration": 45,
    "start_time": "2021-11-21T14:27:11.118Z"
   },
   {
    "duration": 11,
    "start_time": "2021-11-21T14:27:11.165Z"
   },
   {
    "duration": 6,
    "start_time": "2021-11-21T14:27:11.179Z"
   },
   {
    "duration": 12,
    "start_time": "2021-11-21T14:27:11.188Z"
   },
   {
    "duration": 10,
    "start_time": "2021-11-21T14:27:11.202Z"
   }
  ],
  "colab": {
   "collapsed_sections": [
    "E0vqbgi9ay0H",
    "VUC88oWjTJw2"
   ],
   "name": "yandex_music_project_2021.2.ipynb",
   "provenance": []
  },
  "kernelspec": {
   "display_name": "Python 3 (ipykernel)",
   "language": "python",
   "name": "python3"
  },
  "language_info": {
   "codemirror_mode": {
    "name": "ipython",
    "version": 3
   },
   "file_extension": ".py",
   "mimetype": "text/x-python",
   "name": "python",
   "nbconvert_exporter": "python",
   "pygments_lexer": "ipython3",
   "version": "3.9.7"
  },
  "toc": {
   "base_numbering": 1,
   "nav_menu": {},
   "number_sections": true,
   "sideBar": true,
   "skip_h1_title": true,
   "title_cell": "Table of Contents",
   "title_sidebar": "Contents",
   "toc_cell": false,
   "toc_position": {},
   "toc_section_display": true,
   "toc_window_display": false
  }
 },
 "nbformat": 4,
 "nbformat_minor": 1
}
