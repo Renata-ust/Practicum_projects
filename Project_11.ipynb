{
 "cells": [
  {
   "cell_type": "markdown",
   "metadata": {},
   "source": [
    "# Определение стоимости автомобилей\n",
    "___________________________"
   ]
  },
  {
   "cell_type": "markdown",
   "metadata": {
    "toc": true
   },
   "source": [
    "<h1>Содержание<span class=\"tocSkip\"></span></h1>\n",
    "<div class=\"toc\"><ul class=\"toc-item\"><li><span><a href=\"#Описание-исследования\" data-toc-modified-id=\"Описание-исследования-1\"><span class=\"toc-item-num\">1&nbsp;&nbsp;</span>Описание исследования</a></span><ul class=\"toc-item\"><li><span><a href=\"#Цель-исследования\" data-toc-modified-id=\"Цель-исследования-1.1\"><span class=\"toc-item-num\">1.1&nbsp;&nbsp;</span>Цель исследования</a></span></li><li><span><a href=\"#Задачи-исследования\" data-toc-modified-id=\"Задачи-исследования-1.2\"><span class=\"toc-item-num\">1.2&nbsp;&nbsp;</span>Задачи исследования</a></span></li><li><span><a href=\"#Описание-данных\" data-toc-modified-id=\"Описание-данных-1.3\"><span class=\"toc-item-num\">1.3&nbsp;&nbsp;</span>Описание данных</a></span></li></ul></li><li><span><a href=\"#Подготовка-данных\" data-toc-modified-id=\"Подготовка-данных-2\"><span class=\"toc-item-num\">2&nbsp;&nbsp;</span>Подготовка данных</a></span><ul class=\"toc-item\"><li><span><a href=\"#Вывод\" data-toc-modified-id=\"Вывод-2.1\"><span class=\"toc-item-num\">2.1&nbsp;&nbsp;</span>Вывод</a></span></li></ul></li><li><span><a href=\"#Обучение-моделей\" data-toc-modified-id=\"Обучение-моделей-3\"><span class=\"toc-item-num\">3&nbsp;&nbsp;</span>Обучение моделей</a></span><ul class=\"toc-item\"><li><span><a href=\"#DecisionTreeRegressor\" data-toc-modified-id=\"DecisionTreeRegressor-3.1\"><span class=\"toc-item-num\">3.1&nbsp;&nbsp;</span>DecisionTreeRegressor</a></span></li><li><span><a href=\"#LinearRegression\" data-toc-modified-id=\"LinearRegression-3.2\"><span class=\"toc-item-num\">3.2&nbsp;&nbsp;</span>LinearRegression</a></span></li><li><span><a href=\"#CatBoostRegressor\" data-toc-modified-id=\"CatBoostRegressor-3.3\"><span class=\"toc-item-num\">3.3&nbsp;&nbsp;</span>CatBoostRegressor</a></span></li><li><span><a href=\"#LGBMRegressor\" data-toc-modified-id=\"LGBMRegressor-3.4\"><span class=\"toc-item-num\">3.4&nbsp;&nbsp;</span>LGBMRegressor</a></span></li><li><span><a href=\"#XGBRegressor\" data-toc-modified-id=\"XGBRegressor-3.5\"><span class=\"toc-item-num\">3.5&nbsp;&nbsp;</span><strong>XGBRegressor</strong></a></span></li></ul></li><li><span><a href=\"#Анализ-моделей\" data-toc-modified-id=\"Анализ-моделей-4\"><span class=\"toc-item-num\">4&nbsp;&nbsp;</span>Анализ моделей</a></span></li><li><span><a href=\"#Вывод\" data-toc-modified-id=\"Вывод-5\"><span class=\"toc-item-num\">5&nbsp;&nbsp;</span>Вывод</a></span></li></ul></div>"
   ]
  },
  {
   "cell_type": "markdown",
   "metadata": {},
   "source": [
    "## Описание исследования\n",
    "\n",
    "Сервис по продаже автомобилей с пробегом «Не бит, не крашен» разрабатывает приложение для привлечения новых клиентов. В нём можно быстро узнать рыночную стоимость своего автомобиля. В вашем распоряжении исторические данные: технические характеристики, комплектации и цены автомобилей. Вам нужно построить модель для определения стоимости.\n",
    "\n",
    "Заказчику важны:\n",
    "качество предсказания;\n",
    "скорость предсказания;\n",
    "время обучения.\n",
    "\n",
    "### Цель исследования\n",
    "\n",
    "Построить модель машинного обучения, характеризующуюся наилучшими показателями (скорость работы и точность результата), для прогнозирования стоимости автомобиля.\n",
    "\n",
    "\n",
    "### Задачи исследования\n",
    "\n",
    "1. Загрузить и подготовить данные.\n",
    "2. Обучить разные модели. Для каждой попробовать различные гиперпараметры.\n",
    "3. Проанализировать скорость работы и качество моделей.\n",
    "\n",
    "**Примечания:**\n",
    "Для оценки качества моделей применять метрику RMSE.\n",
    "Самостоятельно освойте библиотеку LightGBM и её средствами постройте модели градиентного бустинга.\n",
    "Время выполнения ячейки кода Jupyter Notebook можно получить специальной командой. Найдите её.\n",
    "Поскольку модель градиентного бустинга может обучаться долго, измените у неё только два-три параметра.\n",
    "Если перестанет работать Jupyter Notebook, удалите лишние переменные оператором del:\n",
    "del features_train \n",
    "\n",
    "\n",
    "### Описание данных\n",
    "\n",
    "Данные находятся в файле `/datasets/autos.csv`.\n",
    "\n",
    "**Признаки:**\n",
    "\n",
    "* `DateCrawled` — дата скачивания анкеты из базы;\n",
    "* `VehicleType` — тип автомобильного кузова;\n",
    "* `RegistrationYear` — год регистрации автомобиля;\n",
    "* `Gearbox` — тип коробки передач;\n",
    "* `Power` — мощность (л. с.);\n",
    "* `Model` — модель автомобиля;\n",
    "* `Kilometer` — пробег (км);\n",
    "* `RegistrationMonth` — месяц регистрации автомобиля;\n",
    "* `FuelType` — тип топлива;\n",
    "* `Brand` — марка автомобиля;\n",
    "* `NotRepaired` — была машина в ремонте или нет;\n",
    "* `DateCreated` — дата создания анкеты;\n",
    "* `NumberOfPictures` — количество фотографий автомобиля;\n",
    "* `PostalCode` — почтовый индекс владельца анкеты (пользователя);\n",
    "* `LastSeen` — дата последней активности пользователя.\n",
    "\n",
    "**Целевой признак:**\n",
    "\n",
    "* `Price` — цена (евро)."
   ]
  },
  {
   "cell_type": "markdown",
   "metadata": {},
   "source": [
    "## Подготовка данных"
   ]
  },
  {
   "cell_type": "markdown",
   "metadata": {},
   "source": [
    "1) Для начала импортируем необходимые для работы библиотеки."
   ]
  },
  {
   "cell_type": "code",
   "execution_count": 36,
   "metadata": {},
   "outputs": [
    {
     "name": "stdout",
     "output_type": "stream",
     "text": [
      "Requirement already satisfied: lightgbm in /opt/conda/lib/python3.9/site-packages (3.3.1)\n",
      "Requirement already satisfied: wheel in /opt/conda/lib/python3.9/site-packages (from lightgbm) (0.36.2)\n",
      "Requirement already satisfied: scipy in /opt/conda/lib/python3.9/site-packages (from lightgbm) (1.8.0)\n",
      "Requirement already satisfied: numpy in /opt/conda/lib/python3.9/site-packages (from lightgbm) (1.21.1)\n",
      "Requirement already satisfied: scikit-learn!=0.22.0 in /opt/conda/lib/python3.9/site-packages (from lightgbm) (0.24.1)\n",
      "Requirement already satisfied: threadpoolctl>=2.0.0 in /opt/conda/lib/python3.9/site-packages (from scikit-learn!=0.22.0->lightgbm) (3.1.0)\n",
      "Requirement already satisfied: joblib>=0.11 in /opt/conda/lib/python3.9/site-packages (from scikit-learn!=0.22.0->lightgbm) (1.1.0)\n",
      "Requirement already satisfied: catboost in /opt/conda/lib/python3.9/site-packages (1.0.3)\n",
      "Requirement already satisfied: six in /opt/conda/lib/python3.9/site-packages (from catboost) (1.16.0)\n",
      "Requirement already satisfied: matplotlib in /opt/conda/lib/python3.9/site-packages (from catboost) (3.3.4)\n",
      "Requirement already satisfied: pandas>=0.24.0 in /opt/conda/lib/python3.9/site-packages (from catboost) (1.2.4)\n",
      "Requirement already satisfied: numpy>=1.16.0 in /opt/conda/lib/python3.9/site-packages (from catboost) (1.21.1)\n",
      "Requirement already satisfied: scipy in /opt/conda/lib/python3.9/site-packages (from catboost) (1.8.0)\n",
      "Requirement already satisfied: graphviz in /opt/conda/lib/python3.9/site-packages (from catboost) (0.20)\n",
      "Requirement already satisfied: plotly in /opt/conda/lib/python3.9/site-packages (from catboost) (5.4.0)\n",
      "Requirement already satisfied: python-dateutil>=2.7.3 in /opt/conda/lib/python3.9/site-packages (from pandas>=0.24.0->catboost) (2.8.1)\n",
      "Requirement already satisfied: pytz>=2017.3 in /opt/conda/lib/python3.9/site-packages (from pandas>=0.24.0->catboost) (2021.1)\n",
      "Requirement already satisfied: cycler>=0.10 in /opt/conda/lib/python3.9/site-packages (from matplotlib->catboost) (0.11.0)\n",
      "Requirement already satisfied: pillow>=6.2.0 in /opt/conda/lib/python3.9/site-packages (from matplotlib->catboost) (8.4.0)\n",
      "Requirement already satisfied: pyparsing!=2.0.4,!=2.1.2,!=2.1.6,>=2.0.3 in /opt/conda/lib/python3.9/site-packages (from matplotlib->catboost) (2.4.7)\n",
      "Requirement already satisfied: kiwisolver>=1.0.1 in /opt/conda/lib/python3.9/site-packages (from matplotlib->catboost) (1.4.2)\n",
      "Requirement already satisfied: tenacity>=6.2.0 in /opt/conda/lib/python3.9/site-packages (from plotly->catboost) (8.0.1)\n",
      "Requirement already satisfied: xgboost in /opt/conda/lib/python3.9/site-packages (1.5.1)\n",
      "Requirement already satisfied: scipy in /opt/conda/lib/python3.9/site-packages (from xgboost) (1.8.0)\n",
      "Requirement already satisfied: numpy in /opt/conda/lib/python3.9/site-packages (from xgboost) (1.21.1)\n"
     ]
    }
   ],
   "source": [
    "!pip install lightgbm\n",
    "!pip install catboost\n",
    "!pip install xgboost\n",
    "\n",
    "import pandas as pd\n",
    "import numpy as np\n",
    "\n",
    "import random\n",
    "import copy\n",
    "\n",
    "from matplotlib import pyplot as plt\n",
    "import matplotlib.ticker as ticker\n",
    "import seaborn as sns\n",
    "\n",
    "import datetime\n",
    "import time\n",
    "\n",
    "from sklearn.model_selection import cross_val_score\n",
    "from sklearn.model_selection import GridSearchCV\n",
    "from sklearn.preprocessing import StandardScaler\n",
    "from sklearn.pipeline import Pipeline\n",
    "from sklearn import preprocessing\n",
    "from sklearn.tree import DecisionTreeRegressor\n",
    "from sklearn.metrics import mean_squared_error\n",
    "from sklearn.model_selection import train_test_split\n",
    "from sklearn.dummy import DummyClassifier\n",
    "from sklearn.linear_model import LinearRegression\n",
    "import xgboost as xgb\n",
    "from catboost import CatBoostRegressor\n",
    "from lightgbm import LGBMRegressor\n",
    "\n",
    "import warnings\n",
    "warnings.filterwarnings('ignore')\n",
    "\n",
    "pd.options.mode.chained_assignment = None"
   ]
  },
  {
   "cell_type": "markdown",
   "metadata": {},
   "source": [
    "2) Выведем и изучим исходные данные."
   ]
  },
  {
   "cell_type": "code",
   "execution_count": 37,
   "metadata": {},
   "outputs": [
    {
     "data": {
      "text/html": [
       "<div>\n",
       "<style scoped>\n",
       "    .dataframe tbody tr th:only-of-type {\n",
       "        vertical-align: middle;\n",
       "    }\n",
       "\n",
       "    .dataframe tbody tr th {\n",
       "        vertical-align: top;\n",
       "    }\n",
       "\n",
       "    .dataframe thead th {\n",
       "        text-align: right;\n",
       "    }\n",
       "</style>\n",
       "<table border=\"1\" class=\"dataframe\">\n",
       "  <thead>\n",
       "    <tr style=\"text-align: right;\">\n",
       "      <th></th>\n",
       "      <th>DateCrawled</th>\n",
       "      <th>Price</th>\n",
       "      <th>VehicleType</th>\n",
       "      <th>RegistrationYear</th>\n",
       "      <th>Gearbox</th>\n",
       "      <th>Power</th>\n",
       "      <th>Model</th>\n",
       "      <th>Kilometer</th>\n",
       "      <th>RegistrationMonth</th>\n",
       "      <th>FuelType</th>\n",
       "      <th>Brand</th>\n",
       "      <th>NotRepaired</th>\n",
       "      <th>DateCreated</th>\n",
       "      <th>NumberOfPictures</th>\n",
       "      <th>PostalCode</th>\n",
       "      <th>LastSeen</th>\n",
       "    </tr>\n",
       "  </thead>\n",
       "  <tbody>\n",
       "    <tr>\n",
       "      <th>0</th>\n",
       "      <td>2016-03-24 11:52:17</td>\n",
       "      <td>480</td>\n",
       "      <td>NaN</td>\n",
       "      <td>1993</td>\n",
       "      <td>manual</td>\n",
       "      <td>0</td>\n",
       "      <td>golf</td>\n",
       "      <td>150000</td>\n",
       "      <td>0</td>\n",
       "      <td>petrol</td>\n",
       "      <td>volkswagen</td>\n",
       "      <td>NaN</td>\n",
       "      <td>2016-03-24 00:00:00</td>\n",
       "      <td>0</td>\n",
       "      <td>70435</td>\n",
       "      <td>2016-04-07 03:16:57</td>\n",
       "    </tr>\n",
       "    <tr>\n",
       "      <th>1</th>\n",
       "      <td>2016-03-24 10:58:45</td>\n",
       "      <td>18300</td>\n",
       "      <td>coupe</td>\n",
       "      <td>2011</td>\n",
       "      <td>manual</td>\n",
       "      <td>190</td>\n",
       "      <td>NaN</td>\n",
       "      <td>125000</td>\n",
       "      <td>5</td>\n",
       "      <td>gasoline</td>\n",
       "      <td>audi</td>\n",
       "      <td>yes</td>\n",
       "      <td>2016-03-24 00:00:00</td>\n",
       "      <td>0</td>\n",
       "      <td>66954</td>\n",
       "      <td>2016-04-07 01:46:50</td>\n",
       "    </tr>\n",
       "    <tr>\n",
       "      <th>2</th>\n",
       "      <td>2016-03-14 12:52:21</td>\n",
       "      <td>9800</td>\n",
       "      <td>suv</td>\n",
       "      <td>2004</td>\n",
       "      <td>auto</td>\n",
       "      <td>163</td>\n",
       "      <td>grand</td>\n",
       "      <td>125000</td>\n",
       "      <td>8</td>\n",
       "      <td>gasoline</td>\n",
       "      <td>jeep</td>\n",
       "      <td>NaN</td>\n",
       "      <td>2016-03-14 00:00:00</td>\n",
       "      <td>0</td>\n",
       "      <td>90480</td>\n",
       "      <td>2016-04-05 12:47:46</td>\n",
       "    </tr>\n",
       "    <tr>\n",
       "      <th>3</th>\n",
       "      <td>2016-03-17 16:54:04</td>\n",
       "      <td>1500</td>\n",
       "      <td>small</td>\n",
       "      <td>2001</td>\n",
       "      <td>manual</td>\n",
       "      <td>75</td>\n",
       "      <td>golf</td>\n",
       "      <td>150000</td>\n",
       "      <td>6</td>\n",
       "      <td>petrol</td>\n",
       "      <td>volkswagen</td>\n",
       "      <td>no</td>\n",
       "      <td>2016-03-17 00:00:00</td>\n",
       "      <td>0</td>\n",
       "      <td>91074</td>\n",
       "      <td>2016-03-17 17:40:17</td>\n",
       "    </tr>\n",
       "    <tr>\n",
       "      <th>4</th>\n",
       "      <td>2016-03-31 17:25:20</td>\n",
       "      <td>3600</td>\n",
       "      <td>small</td>\n",
       "      <td>2008</td>\n",
       "      <td>manual</td>\n",
       "      <td>69</td>\n",
       "      <td>fabia</td>\n",
       "      <td>90000</td>\n",
       "      <td>7</td>\n",
       "      <td>gasoline</td>\n",
       "      <td>skoda</td>\n",
       "      <td>no</td>\n",
       "      <td>2016-03-31 00:00:00</td>\n",
       "      <td>0</td>\n",
       "      <td>60437</td>\n",
       "      <td>2016-04-06 10:17:21</td>\n",
       "    </tr>\n",
       "  </tbody>\n",
       "</table>\n",
       "</div>"
      ],
      "text/plain": [
       "           DateCrawled  Price VehicleType  RegistrationYear Gearbox  Power  \\\n",
       "0  2016-03-24 11:52:17    480         NaN              1993  manual      0   \n",
       "1  2016-03-24 10:58:45  18300       coupe              2011  manual    190   \n",
       "2  2016-03-14 12:52:21   9800         suv              2004    auto    163   \n",
       "3  2016-03-17 16:54:04   1500       small              2001  manual     75   \n",
       "4  2016-03-31 17:25:20   3600       small              2008  manual     69   \n",
       "\n",
       "   Model  Kilometer  RegistrationMonth  FuelType       Brand NotRepaired  \\\n",
       "0   golf     150000                  0    petrol  volkswagen         NaN   \n",
       "1    NaN     125000                  5  gasoline        audi         yes   \n",
       "2  grand     125000                  8  gasoline        jeep         NaN   \n",
       "3   golf     150000                  6    petrol  volkswagen          no   \n",
       "4  fabia      90000                  7  gasoline       skoda          no   \n",
       "\n",
       "           DateCreated  NumberOfPictures  PostalCode             LastSeen  \n",
       "0  2016-03-24 00:00:00                 0       70435  2016-04-07 03:16:57  \n",
       "1  2016-03-24 00:00:00                 0       66954  2016-04-07 01:46:50  \n",
       "2  2016-03-14 00:00:00                 0       90480  2016-04-05 12:47:46  \n",
       "3  2016-03-17 00:00:00                 0       91074  2016-03-17 17:40:17  \n",
       "4  2016-03-31 00:00:00                 0       60437  2016-04-06 10:17:21  "
      ]
     },
     "metadata": {},
     "output_type": "display_data"
    },
    {
     "name": "stdout",
     "output_type": "stream",
     "text": [
      "<class 'pandas.core.frame.DataFrame'>\n",
      "RangeIndex: 354369 entries, 0 to 354368\n",
      "Data columns (total 16 columns):\n",
      " #   Column             Non-Null Count   Dtype \n",
      "---  ------             --------------   ----- \n",
      " 0   DateCrawled        354369 non-null  object\n",
      " 1   Price              354369 non-null  int64 \n",
      " 2   VehicleType        316879 non-null  object\n",
      " 3   RegistrationYear   354369 non-null  int64 \n",
      " 4   Gearbox            334536 non-null  object\n",
      " 5   Power              354369 non-null  int64 \n",
      " 6   Model              334664 non-null  object\n",
      " 7   Kilometer          354369 non-null  int64 \n",
      " 8   RegistrationMonth  354369 non-null  int64 \n",
      " 9   FuelType           321474 non-null  object\n",
      " 10  Brand              354369 non-null  object\n",
      " 11  NotRepaired        283215 non-null  object\n",
      " 12  DateCreated        354369 non-null  object\n",
      " 13  NumberOfPictures   354369 non-null  int64 \n",
      " 14  PostalCode         354369 non-null  int64 \n",
      " 15  LastSeen           354369 non-null  object\n",
      "dtypes: int64(7), object(9)\n",
      "memory usage: 43.3+ MB\n"
     ]
    },
    {
     "data": {
      "text/plain": [
       "None"
      ]
     },
     "metadata": {},
     "output_type": "display_data"
    }
   ],
   "source": [
    "df = pd.read_csv('/datasets/autos.csv')\n",
    "\n",
    "display(df.head())\n",
    "display(df.info())"
   ]
  },
  {
   "cell_type": "markdown",
   "metadata": {},
   "source": [
    "В исходном датасете содержится информация в 16 столбцах и 354369 строках (в некоторых записях есть пропуски).\n",
    "Информация представлена в текстовом и числовом виде.\n",
    "\n"
   ]
  },
  {
   "cell_type": "code",
   "execution_count": 38,
   "metadata": {},
   "outputs": [
    {
     "name": "stdout",
     "output_type": "stream",
     "text": [
      "Выгрузка осуществлялась в период с  2016-03-05 14:06:22 по 2016-04-07 14:36:58\n",
      "Анкеты создавались в период с  2014-03-10 00:00:00 по 2016-04-07 00:00:00\n"
     ]
    }
   ],
   "source": [
    "print('Выгрузка осуществлялась в период с ', df['DateCrawled'].min(), 'по', df['DateCrawled'].max())\n",
    "print('Анкеты создавались в период с ', df['DateCreated'].min(), 'по', df['DateCreated'].max())"
   ]
  },
  {
   "cell_type": "markdown",
   "metadata": {},
   "source": [
    "3) Часть из этих столбцов не пригодится для дальнейших вычислений, так как эти признаки не могут влиять на стоимость автомобилей: `DateCrawled` (дата скачивания анкеты из базы), `DateCreated` (дата создания анкеты), `NumberOfPictures` (количество фотографий автомобиля), `LastSeen` (дата последней активности пользователя). \n",
    "\n",
    "Удалим эти столбцы."
   ]
  },
  {
   "cell_type": "code",
   "execution_count": 39,
   "metadata": {},
   "outputs": [
    {
     "name": "stdout",
     "output_type": "stream",
     "text": [
      "<class 'pandas.core.frame.DataFrame'>\n",
      "RangeIndex: 354369 entries, 0 to 354368\n",
      "Data columns (total 12 columns):\n",
      " #   Column             Non-Null Count   Dtype \n",
      "---  ------             --------------   ----- \n",
      " 0   Price              354369 non-null  int64 \n",
      " 1   VehicleType        316879 non-null  object\n",
      " 2   RegistrationYear   354369 non-null  int64 \n",
      " 3   Gearbox            334536 non-null  object\n",
      " 4   Power              354369 non-null  int64 \n",
      " 5   Model              334664 non-null  object\n",
      " 6   Kilometer          354369 non-null  int64 \n",
      " 7   RegistrationMonth  354369 non-null  int64 \n",
      " 8   FuelType           321474 non-null  object\n",
      " 9   Brand              354369 non-null  object\n",
      " 10  NotRepaired        283215 non-null  object\n",
      " 11  PostalCode         354369 non-null  int64 \n",
      "dtypes: int64(6), object(6)\n",
      "memory usage: 32.4+ MB\n"
     ]
    },
    {
     "data": {
      "text/plain": [
       "None"
      ]
     },
     "metadata": {},
     "output_type": "display_data"
    }
   ],
   "source": [
    "df = df.drop(['DateCrawled',\n",
    "              'DateCreated',\n",
    "              'NumberOfPictures',\n",
    "              'LastSeen'],\n",
    "             axis=1)\n",
    "\n",
    "display(df.info())             "
   ]
  },
  {
   "cell_type": "markdown",
   "metadata": {},
   "source": [
    "4) Определим количество пропусков в каждом столбце в процентах."
   ]
  },
  {
   "cell_type": "code",
   "execution_count": 40,
   "metadata": {},
   "outputs": [
    {
     "data": {
      "text/plain": [
       "Price                 0.000000\n",
       "VehicleType          10.579368\n",
       "RegistrationYear      0.000000\n",
       "Gearbox               5.596709\n",
       "Power                 0.000000\n",
       "Model                 5.560588\n",
       "Kilometer             0.000000\n",
       "RegistrationMonth     0.000000\n",
       "FuelType              9.282697\n",
       "Brand                 0.000000\n",
       "NotRepaired          20.079070\n",
       "PostalCode            0.000000\n",
       "dtype: float64"
      ]
     },
     "execution_count": 40,
     "metadata": {},
     "output_type": "execute_result"
    }
   ],
   "source": [
    "df.isna().mean()*100"
   ]
  },
  {
   "cell_type": "markdown",
   "metadata": {},
   "source": [
    "Пропуски имеются в следующих столбцах:\n",
    "- `VehicleType` - тип автомобильного кузова;\n",
    "- `Gearbox` - тип коробки передач;\n",
    "- `Model` - модель автомобиля;\n",
    "- `FuelType` - тип топлива;\n",
    "- `NotRepaired` - была машина в ремонте или нет.\n",
    "\n",
    "Рассмотрим, какие уникальные значения содержатся в каждом из этих параметров."
   ]
  },
  {
   "cell_type": "code",
   "execution_count": 41,
   "metadata": {},
   "outputs": [
    {
     "name": "stdout",
     "output_type": "stream",
     "text": [
      "VehicleType\n",
      "[nan 'coupe' 'suv' 'small' 'sedan' 'convertible' 'bus' 'wagon' 'other']\n",
      "\n",
      "Gearbox\n",
      "['manual' 'auto' nan]\n",
      "\n",
      "Model\n",
      "['golf' nan 'grand' 'fabia' '3er' '2_reihe' 'other' 'c_max' '3_reihe'\n",
      " 'passat' 'navara' 'ka' 'polo' 'twingo' 'a_klasse' 'scirocco' '5er'\n",
      " 'meriva' 'arosa' 'c4' 'civic' 'transporter' 'punto' 'e_klasse' 'clio'\n",
      " 'kadett' 'kangoo' 'corsa' 'one' 'fortwo' '1er' 'b_klasse' 'signum'\n",
      " 'astra' 'a8' 'jetta' 'fiesta' 'c_klasse' 'micra' 'vito' 'sprinter' '156'\n",
      " 'escort' 'forester' 'xc_reihe' 'scenic' 'a4' 'a1' 'insignia' 'combo'\n",
      " 'focus' 'tt' 'a6' 'jazz' 'omega' 'slk' '7er' '80' '147' '100' 'z_reihe'\n",
      " 'sportage' 'sorento' 'v40' 'ibiza' 'mustang' 'eos' 'touran' 'getz' 'a3'\n",
      " 'almera' 'megane' 'lupo' 'r19' 'zafira' 'caddy' 'mondeo' 'cordoba' 'colt'\n",
      " 'impreza' 'vectra' 'berlingo' 'tiguan' 'i_reihe' 'espace' 'sharan'\n",
      " '6_reihe' 'panda' 'up' 'seicento' 'ceed' '5_reihe' 'yeti' 'octavia' 'mii'\n",
      " 'rx_reihe' '6er' 'modus' 'fox' 'matiz' 'beetle' 'c1' 'rio' 'touareg'\n",
      " 'logan' 'spider' 'cuore' 's_max' 'a2' 'galaxy' 'c3' 'viano' 's_klasse'\n",
      " '1_reihe' 'avensis' 'roomster' 'sl' 'kaefer' 'santa' 'cooper' 'leon'\n",
      " '4_reihe' 'a5' '500' 'laguna' 'ptcruiser' 'clk' 'primera' 'x_reihe'\n",
      " 'exeo' '159' 'transit' 'juke' 'qashqai' 'carisma' 'accord' 'corolla'\n",
      " 'lanos' 'phaeton' 'verso' 'swift' 'rav' 'picanto' 'boxster' 'kalos'\n",
      " 'superb' 'stilo' 'alhambra' 'mx_reihe' 'roadster' 'ypsilon' 'cayenne'\n",
      " 'galant' 'justy' '90' 'sirion' 'crossfire' 'agila' 'duster' 'cr_reihe'\n",
      " 'v50' 'c_reihe' 'v_klasse' 'm_klasse' 'yaris' 'c5' 'aygo' 'cc' 'carnival'\n",
      " 'fusion' '911' 'bora' 'forfour' 'm_reihe' 'cl' 'tigra' '300c' 'spark'\n",
      " 'v70' 'kuga' 'x_type' 'ducato' 's_type' 'x_trail' 'toledo' 'altea'\n",
      " 'voyager' 'calibra' 'bravo' 'antara' 'tucson' 'citigo' 'jimny' 'wrangler'\n",
      " 'lybra' 'q7' 'lancer' 'captiva' 'c2' 'discovery' 'freelander' 'sandero'\n",
      " 'note' '900' 'cherokee' 'clubman' 'samara' 'defender' '601' 'cx_reihe'\n",
      " 'legacy' 'pajero' 'auris' 'niva' 's60' 'nubira' 'vivaro' 'g_klasse'\n",
      " 'lodgy' '850' 'range_rover' 'q3' 'serie_2' 'glk' 'charade' 'croma'\n",
      " 'outlander' 'doblo' 'musa' 'move' '9000' 'v60' '145' 'aveo' '200' 'b_max'\n",
      " 'range_rover_sport' 'terios' 'rangerover' 'q5' 'range_rover_evoque'\n",
      " 'materia' 'delta' 'gl' 'kalina' 'amarok' 'elefantino' 'i3' 'kappa'\n",
      " 'serie_3' 'serie_1']\n",
      "\n",
      "FuelType\n",
      "['petrol' 'gasoline' nan 'lpg' 'other' 'hybrid' 'cng' 'electric']\n",
      "\n",
      "NotRepaired\n",
      "[nan 'yes' 'no']\n",
      "\n"
     ]
    }
   ],
   "source": [
    "param_list = ['VehicleType', 'Gearbox', 'Model', 'FuelType', 'NotRepaired']\n",
    "\n",
    "for param in param_list:\n",
    "    print(param,'\\n', df[param].unique(), '\\n', sep='')"
   ]
  },
  {
   "cell_type": "markdown",
   "metadata": {},
   "source": [
    "Пропуски в категориальных параметрах `VehicleType`, `Gearbox`, `FuelType`, `Model`, `NotRepaired` заполним значением `'unknown'`."
   ]
  },
  {
   "cell_type": "code",
   "execution_count": 42,
   "metadata": {},
   "outputs": [
    {
     "data": {
      "text/plain": [
       "Price                0.0\n",
       "VehicleType          0.0\n",
       "RegistrationYear     0.0\n",
       "Gearbox              0.0\n",
       "Power                0.0\n",
       "Model                0.0\n",
       "Kilometer            0.0\n",
       "RegistrationMonth    0.0\n",
       "FuelType             0.0\n",
       "Brand                0.0\n",
       "NotRepaired          0.0\n",
       "PostalCode           0.0\n",
       "dtype: float64"
      ]
     },
     "execution_count": 42,
     "metadata": {},
     "output_type": "execute_result"
    }
   ],
   "source": [
    "for column in param_list:\n",
    "    df[column] = df[column].fillna('unknown')\n",
    "    \n",
    "df.isna().mean()*100    "
   ]
  },
  {
   "cell_type": "markdown",
   "metadata": {},
   "source": [
    "5) Выведем общую информацию для численных значений и проанализируем каждый параметр."
   ]
  },
  {
   "cell_type": "code",
   "execution_count": 43,
   "metadata": {},
   "outputs": [
    {
     "data": {
      "text/html": [
       "<div>\n",
       "<style scoped>\n",
       "    .dataframe tbody tr th:only-of-type {\n",
       "        vertical-align: middle;\n",
       "    }\n",
       "\n",
       "    .dataframe tbody tr th {\n",
       "        vertical-align: top;\n",
       "    }\n",
       "\n",
       "    .dataframe thead th {\n",
       "        text-align: right;\n",
       "    }\n",
       "</style>\n",
       "<table border=\"1\" class=\"dataframe\">\n",
       "  <thead>\n",
       "    <tr style=\"text-align: right;\">\n",
       "      <th></th>\n",
       "      <th>Price</th>\n",
       "      <th>RegistrationYear</th>\n",
       "      <th>Power</th>\n",
       "      <th>Kilometer</th>\n",
       "      <th>RegistrationMonth</th>\n",
       "      <th>PostalCode</th>\n",
       "    </tr>\n",
       "  </thead>\n",
       "  <tbody>\n",
       "    <tr>\n",
       "      <th>count</th>\n",
       "      <td>354369.000000</td>\n",
       "      <td>354369.000000</td>\n",
       "      <td>354369.000000</td>\n",
       "      <td>354369.000000</td>\n",
       "      <td>354369.000000</td>\n",
       "      <td>354369.000000</td>\n",
       "    </tr>\n",
       "    <tr>\n",
       "      <th>mean</th>\n",
       "      <td>4416.656776</td>\n",
       "      <td>2004.234448</td>\n",
       "      <td>110.094337</td>\n",
       "      <td>128211.172535</td>\n",
       "      <td>5.714645</td>\n",
       "      <td>50508.689087</td>\n",
       "    </tr>\n",
       "    <tr>\n",
       "      <th>std</th>\n",
       "      <td>4514.158514</td>\n",
       "      <td>90.227958</td>\n",
       "      <td>189.850405</td>\n",
       "      <td>37905.341530</td>\n",
       "      <td>3.726421</td>\n",
       "      <td>25783.096248</td>\n",
       "    </tr>\n",
       "    <tr>\n",
       "      <th>min</th>\n",
       "      <td>0.000000</td>\n",
       "      <td>1000.000000</td>\n",
       "      <td>0.000000</td>\n",
       "      <td>5000.000000</td>\n",
       "      <td>0.000000</td>\n",
       "      <td>1067.000000</td>\n",
       "    </tr>\n",
       "    <tr>\n",
       "      <th>25%</th>\n",
       "      <td>1050.000000</td>\n",
       "      <td>1999.000000</td>\n",
       "      <td>69.000000</td>\n",
       "      <td>125000.000000</td>\n",
       "      <td>3.000000</td>\n",
       "      <td>30165.000000</td>\n",
       "    </tr>\n",
       "    <tr>\n",
       "      <th>50%</th>\n",
       "      <td>2700.000000</td>\n",
       "      <td>2003.000000</td>\n",
       "      <td>105.000000</td>\n",
       "      <td>150000.000000</td>\n",
       "      <td>6.000000</td>\n",
       "      <td>49413.000000</td>\n",
       "    </tr>\n",
       "    <tr>\n",
       "      <th>75%</th>\n",
       "      <td>6400.000000</td>\n",
       "      <td>2008.000000</td>\n",
       "      <td>143.000000</td>\n",
       "      <td>150000.000000</td>\n",
       "      <td>9.000000</td>\n",
       "      <td>71083.000000</td>\n",
       "    </tr>\n",
       "    <tr>\n",
       "      <th>max</th>\n",
       "      <td>20000.000000</td>\n",
       "      <td>9999.000000</td>\n",
       "      <td>20000.000000</td>\n",
       "      <td>150000.000000</td>\n",
       "      <td>12.000000</td>\n",
       "      <td>99998.000000</td>\n",
       "    </tr>\n",
       "  </tbody>\n",
       "</table>\n",
       "</div>"
      ],
      "text/plain": [
       "               Price  RegistrationYear          Power      Kilometer  \\\n",
       "count  354369.000000     354369.000000  354369.000000  354369.000000   \n",
       "mean     4416.656776       2004.234448     110.094337  128211.172535   \n",
       "std      4514.158514         90.227958     189.850405   37905.341530   \n",
       "min         0.000000       1000.000000       0.000000    5000.000000   \n",
       "25%      1050.000000       1999.000000      69.000000  125000.000000   \n",
       "50%      2700.000000       2003.000000     105.000000  150000.000000   \n",
       "75%      6400.000000       2008.000000     143.000000  150000.000000   \n",
       "max     20000.000000       9999.000000   20000.000000  150000.000000   \n",
       "\n",
       "       RegistrationMonth     PostalCode  \n",
       "count      354369.000000  354369.000000  \n",
       "mean            5.714645   50508.689087  \n",
       "std             3.726421   25783.096248  \n",
       "min             0.000000    1067.000000  \n",
       "25%             3.000000   30165.000000  \n",
       "50%             6.000000   49413.000000  \n",
       "75%             9.000000   71083.000000  \n",
       "max            12.000000   99998.000000  "
      ]
     },
     "metadata": {},
     "output_type": "display_data"
    }
   ],
   "source": [
    "display(df.describe())"
   ]
  },
  {
   "cell_type": "markdown",
   "metadata": {},
   "source": [
    "* **RegistrationYear**\n",
    "\n",
    "В столбце, содержащем информацию о годе регистрации автомобиля минимальное и максимальное значения далеки от реальности. Посмотрим, как распределяются данные по годам."
   ]
  },
  {
   "cell_type": "code",
   "execution_count": 44,
   "metadata": {},
   "outputs": [
    {
     "data": {
      "image/png": "[encoded data removed]",
      "text/plain": [
       "<Figure size 864x360 with 1 Axes>"
      ]
     },
     "metadata": {
      "needs_background": "light"
     },
     "output_type": "display_data"
    }
   ],
   "source": [
    "df['RegistrationYear'].hist(bins=7000, figsize=(12,5))\n",
    "plt.xlim([1940, 2022])\n",
    "plt.title('Распределение данных по годам')\n",
    "plt.xlabel('Года')\n",
    "plt.show()"
   ]
  },
  {
   "cell_type": "markdown",
   "metadata": {},
   "source": [
    "Видно, что в основном автомобили регистрировались в интервале от 1960 и до 2019 года. Выделим интервал от 1950 до 2015 года (так как выгрузка анкет из баз осуществлялась в 2016 году и анкеты зарегистрированных позже автомобилей в нее попасть не могли), остальные значения будем считать аномальными и рассматривать далее их не будем."
   ]
  },
  {
   "cell_type": "code",
   "execution_count": 45,
   "metadata": {},
   "outputs": [
    {
     "name": "stdout",
     "output_type": "stream",
     "text": [
      "Самая ранняя дата: 1950\n",
      "Самая поздняя дата: 2015\n"
     ]
    }
   ],
   "source": [
    "df = df.query('RegistrationYear>1949 & RegistrationYear<2016')\n",
    "\n",
    "print('Самая ранняя дата:', df['RegistrationYear'].min())\n",
    "print('Самая поздняя дата:', df['RegistrationYear'].max())"
   ]
  },
  {
   "cell_type": "markdown",
   "metadata": {},
   "source": [
    "* **RegistrationMonth**"
   ]
  },
  {
   "cell_type": "markdown",
   "metadata": {},
   "source": [
    "В столбце с месяцем регистрации встречаются 0 значения. Определим количество таких записей."
   ]
  },
  {
   "cell_type": "code",
   "execution_count": 46,
   "metadata": {},
   "outputs": [
    {
     "data": {
      "text/plain": [
       "30770"
      ]
     },
     "execution_count": 46,
     "metadata": {},
     "output_type": "execute_result"
    }
   ],
   "source": [
    "df['RegistrationMonth'][df['RegistrationMonth']==0].count()"
   ]
  },
  {
   "cell_type": "markdown",
   "metadata": {},
   "source": [
    "Посмотрим, как распределяются данные в зависимости от месяца регистрации автомобиля."
   ]
  },
  {
   "cell_type": "code",
   "execution_count": 47,
   "metadata": {},
   "outputs": [
    {
     "data": {
      "image/png": "[encoded data removed]",
      "text/plain": [
       "<Figure size 720x216 with 1 Axes>"
      ]
     },
     "metadata": {
      "needs_background": "light"
     },
     "output_type": "display_data"
    }
   ],
   "source": [
    "df['RegistrationMonth'].hist(bins=25, figsize=(10,3))\n",
    "plt.title('Распределение данных по месяцам')\n",
    "plt.xlabel('Месяц')\n",
    "plt.show()"
   ]
  },
  {
   "cell_type": "markdown",
   "metadata": {},
   "source": [
    "Таких значений достаточно много, поэтому удалять их не стоит.\n",
    "Заменим нулевые значения случайным числом в диапазоне от 1 (январь) до 12 (декабрь)."
   ]
  },
  {
   "cell_type": "code",
   "execution_count": 48,
   "metadata": {},
   "outputs": [
    {
     "name": "stdout",
     "output_type": "stream",
     "text": [
      "[ 7  5  8  6 10  1 12 11  2  3  4  9]\n"
     ]
    }
   ],
   "source": [
    "def month_date(row):\n",
    "    month = row['RegistrationMonth']\n",
    "    if month == 0:\n",
    "        return random.randint(1,12)\n",
    "    else:    \n",
    "        return month\n",
    "\n",
    "df['RegistrationMonth'] = df.apply(month_date, axis=1)\n",
    "print(df['RegistrationMonth'].unique())"
   ]
  },
  {
   "cell_type": "code",
   "execution_count": 49,
   "metadata": {},
   "outputs": [
    {
     "data": {
      "image/png": "[encoded data removed]",
      "text/plain": [
       "<Figure size 720x216 with 1 Axes>"
      ]
     },
     "metadata": {
      "needs_background": "light"
     },
     "output_type": "display_data"
    }
   ],
   "source": [
    "df['RegistrationMonth'].hist(bins=23, figsize=(10,3))\n",
    "plt.title('Распределение данных по месяцам')\n",
    "plt.xlabel('Месяц')\n",
    "plt.show()"
   ]
  },
  {
   "cell_type": "markdown",
   "metadata": {},
   "source": [
    "Получили, что вид распределения остался похож на тот, что был до произведенных изменений."
   ]
  },
  {
   "cell_type": "markdown",
   "metadata": {},
   "source": [
    "* **Power**"
   ]
  },
  {
   "cell_type": "code",
   "execution_count": 50,
   "metadata": {},
   "outputs": [
    {
     "data": {
      "image/png": "[encoded data removed]",
      "text/plain": [
       "<Figure size 1008x360 with 1 Axes>"
      ]
     },
     "metadata": {
      "needs_background": "light"
     },
     "output_type": "display_data"
    }
   ],
   "source": [
    "df['Power'].hist(bins=5000, figsize=(14,5))\n",
    "plt.xlim([0, 500])\n",
    "plt.title('Распределение данных по значению мощности')\n",
    "plt.xlabel('Мощность, л.с.')\n",
    "plt.show()"
   ]
  },
  {
   "cell_type": "markdown",
   "metadata": {},
   "source": [
    "Максимальное значение мощности (20000 л.с.) не может быть реальным. Ограничим их значения сверху средней мощностью грузового автомобиля - 460 л.с. Большое количество нулевых значений обрабатывать не будем, предоставив это модели."
   ]
  },
  {
   "cell_type": "code",
   "execution_count": 51,
   "metadata": {},
   "outputs": [],
   "source": [
    "df = df.query('Power<461')"
   ]
  },
  {
   "cell_type": "markdown",
   "metadata": {},
   "source": [
    "* **Kilometer**"
   ]
  },
  {
   "cell_type": "code",
   "execution_count": 52,
   "metadata": {},
   "outputs": [
    {
     "name": "stdout",
     "output_type": "stream",
     "text": [
      "[150000 125000  90000  40000  30000  70000 100000  60000   5000  20000\n",
      "  80000  50000  10000]\n"
     ]
    }
   ],
   "source": [
    "print(df['Kilometer'].unique())"
   ]
  },
  {
   "cell_type": "markdown",
   "metadata": {},
   "source": [
    "Судя по значениям пробега, они выбираются пользователем из определенного списка при заполнении анкеты, поэтому трогать их не будем. "
   ]
  },
  {
   "cell_type": "markdown",
   "metadata": {},
   "source": [
    "* **Price** \n",
    "\n",
    "Целевой признак (стоимость автомобиля) в среднем составляет 4417 евро, максимальное значение - 20000 евро. Вполне реалистичные значения. Однако встречаются записи с нулевой стоимостью, что для целевого признака критично. Необходимо будет определить количество таких аномальных значений и удалить, если их содержится не так много.\n"
   ]
  },
  {
   "cell_type": "code",
   "execution_count": 53,
   "metadata": {},
   "outputs": [
    {
     "data": {
      "text/plain": [
       "10775"
      ]
     },
     "execution_count": 53,
     "metadata": {},
     "output_type": "execute_result"
    }
   ],
   "source": [
    "df['Price'][df['Price'] < 50].count()"
   ]
  },
  {
   "cell_type": "markdown",
   "metadata": {},
   "source": [
    "Получаем, что данных с аномально низкой стоимостью содержится примерно 3,7% от общего количества данных. Заменять их чем-либо будет нецелесообразно, поэтому удалим такие строки."
   ]
  },
  {
   "cell_type": "code",
   "execution_count": 54,
   "metadata": {},
   "outputs": [],
   "source": [
    "df = df.query('Price>50')"
   ]
  },
  {
   "cell_type": "code",
   "execution_count": 55,
   "metadata": {},
   "outputs": [
    {
     "data": {
      "text/plain": [
       "Text(0.5, 1.0, 'Зависимость стоимости автомобиля от года регистрации')"
      ]
     },
     "execution_count": 55,
     "metadata": {},
     "output_type": "execute_result"
    },
    {
     "data": {
      "image/png": "[encoded data removed]",
      "text/plain": [
       "<Figure size 1008x360 with 1 Axes>"
      ]
     },
     "metadata": {
      "needs_background": "light"
     },
     "output_type": "display_data"
    }
   ],
   "source": [
    "df.groupby('RegistrationYear')['Price'].median().plot(grid=True,figsize=(14,5))\n",
    "plt.xlabel(r'Год')\n",
    "plt.ylabel(r'Цена')\n",
    "plt.title(r'Зависимость стоимости автомобиля от года регистрации')"
   ]
  },
  {
   "cell_type": "markdown",
   "metadata": {},
   "source": [
    "По графику видно, что нет прямой зависимости целевого параметра от года регистрации автомобиля. \n",
    "\n",
    "* Примерно от 1950 до 1995 года более высокая стоимость характерна более возрастным автомобилям - связано с тем, что старые автомобили могут являться коллекционными и, соответсвенно, иметь большую стоимость вне зависимости от мощности и других технических параметров. \n",
    "\n",
    "* От 1995 года и до 2014 цена прямопропорциональна году регистрации - то есть чем новее автомобиль, тем его цена выше, так как в этом случае технические характеристики и состояние автомобиля в целом лучше. В 2015 году наблюдается небольшое снижение стоимости, но не критичное."
   ]
  },
  {
   "cell_type": "markdown",
   "metadata": {},
   "source": [
    "Целесообразно было бы дополнительно выделить категории автомобилей в зависимости от года выпуска.\n",
    "\n",
    "\n",
    "Существуют технический код Международной федерации старинных автомобилей (FIVA) и соответствующая классификация по году выпуска, техническим параметрам и сохранности. Для получения идентификационной карты FIVA, необходимой для участия в международных мероприятиях, проводимых под эгидой федерации, автомобиль должен четко соответствовать этим нормам (http://gaz21.ru/articles/misc/180-klassifikacija-avtomobilejj-fiva.html).\n",
    "\n",
    "**Классификация по году выпуска:**\n",
    "\n",
    "- Класс A (Ancestor) выпуск до 31.12.1904\n",
    "- Класс B (Veteran) выпуск с 01.01.1905 по 31.12.1918\n",
    "- Класс C (Vintage) выпуск с 01.01.1919 по 31.12.1930\n",
    "- Класс D (Post Vintage) выпуск с 01.01.1931 по 31.12.1945\n",
    "- Класс E (Post War) выпуск с 01.01.1946 по 31.12.1960\n",
    "- Класс F - выпуск с 01.01.1961-31.12.1970\n",
    "- Класс G - выпуск с 01.01.1971-31.12.1980\n",
    "\n",
    "В этой классификации категории разделяются между собой с разницей примерно в 10 лет. \n",
    "В соответсвии с этим выделим следующие категории по десятилетиям:\n",
    "1. 1950-1959: \"1950s\"\n",
    "2. 1960-1969: \"1960s\"\n",
    "3. 1970-1979: \"1970s\"\n",
    "4. 1980-1989: \"1980s\"\n",
    "5. 1990-1999: \"1990s\"\n",
    "6. 2000-2009: \"2000s\"\n",
    "7. 2010-2015: \"2010s\""
   ]
  },
  {
   "cell_type": "code",
   "execution_count": 56,
   "metadata": {},
   "outputs": [
    {
     "data": {
      "text/html": [
       "<div>\n",
       "<style scoped>\n",
       "    .dataframe tbody tr th:only-of-type {\n",
       "        vertical-align: middle;\n",
       "    }\n",
       "\n",
       "    .dataframe tbody tr th {\n",
       "        vertical-align: top;\n",
       "    }\n",
       "\n",
       "    .dataframe thead th {\n",
       "        text-align: right;\n",
       "    }\n",
       "</style>\n",
       "<table border=\"1\" class=\"dataframe\">\n",
       "  <thead>\n",
       "    <tr style=\"text-align: right;\">\n",
       "      <th></th>\n",
       "      <th>Price</th>\n",
       "      <th>VehicleType</th>\n",
       "      <th>RegistrationYear</th>\n",
       "      <th>Gearbox</th>\n",
       "      <th>Power</th>\n",
       "      <th>Model</th>\n",
       "      <th>Kilometer</th>\n",
       "      <th>RegistrationMonth</th>\n",
       "      <th>FuelType</th>\n",
       "      <th>Brand</th>\n",
       "      <th>NotRepaired</th>\n",
       "      <th>PostalCode</th>\n",
       "      <th>Category</th>\n",
       "    </tr>\n",
       "  </thead>\n",
       "  <tbody>\n",
       "    <tr>\n",
       "      <th>0</th>\n",
       "      <td>480</td>\n",
       "      <td>unknown</td>\n",
       "      <td>1993</td>\n",
       "      <td>manual</td>\n",
       "      <td>0</td>\n",
       "      <td>golf</td>\n",
       "      <td>150000</td>\n",
       "      <td>7</td>\n",
       "      <td>petrol</td>\n",
       "      <td>volkswagen</td>\n",
       "      <td>unknown</td>\n",
       "      <td>70435</td>\n",
       "      <td>1990s</td>\n",
       "    </tr>\n",
       "    <tr>\n",
       "      <th>1</th>\n",
       "      <td>18300</td>\n",
       "      <td>coupe</td>\n",
       "      <td>2011</td>\n",
       "      <td>manual</td>\n",
       "      <td>190</td>\n",
       "      <td>unknown</td>\n",
       "      <td>125000</td>\n",
       "      <td>5</td>\n",
       "      <td>gasoline</td>\n",
       "      <td>audi</td>\n",
       "      <td>yes</td>\n",
       "      <td>66954</td>\n",
       "      <td>2010s</td>\n",
       "    </tr>\n",
       "    <tr>\n",
       "      <th>2</th>\n",
       "      <td>9800</td>\n",
       "      <td>suv</td>\n",
       "      <td>2004</td>\n",
       "      <td>auto</td>\n",
       "      <td>163</td>\n",
       "      <td>grand</td>\n",
       "      <td>125000</td>\n",
       "      <td>8</td>\n",
       "      <td>gasoline</td>\n",
       "      <td>jeep</td>\n",
       "      <td>unknown</td>\n",
       "      <td>90480</td>\n",
       "      <td>2000s</td>\n",
       "    </tr>\n",
       "    <tr>\n",
       "      <th>3</th>\n",
       "      <td>1500</td>\n",
       "      <td>small</td>\n",
       "      <td>2001</td>\n",
       "      <td>manual</td>\n",
       "      <td>75</td>\n",
       "      <td>golf</td>\n",
       "      <td>150000</td>\n",
       "      <td>6</td>\n",
       "      <td>petrol</td>\n",
       "      <td>volkswagen</td>\n",
       "      <td>no</td>\n",
       "      <td>91074</td>\n",
       "      <td>2000s</td>\n",
       "    </tr>\n",
       "    <tr>\n",
       "      <th>4</th>\n",
       "      <td>3600</td>\n",
       "      <td>small</td>\n",
       "      <td>2008</td>\n",
       "      <td>manual</td>\n",
       "      <td>69</td>\n",
       "      <td>fabia</td>\n",
       "      <td>90000</td>\n",
       "      <td>7</td>\n",
       "      <td>gasoline</td>\n",
       "      <td>skoda</td>\n",
       "      <td>no</td>\n",
       "      <td>60437</td>\n",
       "      <td>2000s</td>\n",
       "    </tr>\n",
       "  </tbody>\n",
       "</table>\n",
       "</div>"
      ],
      "text/plain": [
       "   Price VehicleType  RegistrationYear Gearbox  Power    Model  Kilometer  \\\n",
       "0    480     unknown              1993  manual      0     golf     150000   \n",
       "1  18300       coupe              2011  manual    190  unknown     125000   \n",
       "2   9800         suv              2004    auto    163    grand     125000   \n",
       "3   1500       small              2001  manual     75     golf     150000   \n",
       "4   3600       small              2008  manual     69    fabia      90000   \n",
       "\n",
       "   RegistrationMonth  FuelType       Brand NotRepaired  PostalCode Category  \n",
       "0                  7    petrol  volkswagen     unknown       70435    1990s  \n",
       "1                  5  gasoline        audi         yes       66954    2010s  \n",
       "2                  8  gasoline        jeep     unknown       90480    2000s  \n",
       "3                  6    petrol  volkswagen          no       91074    2000s  \n",
       "4                  7  gasoline       skoda          no       60437    2000s  "
      ]
     },
     "execution_count": 56,
     "metadata": {},
     "output_type": "execute_result"
    }
   ],
   "source": [
    "def year_classification(row):\n",
    "    year = row['RegistrationYear']\n",
    "    if year<1960:\n",
    "        return \"1950s\"\n",
    "    if year>1959 and year<1970:\n",
    "        return \"1960s\"\n",
    "    if year>1969 and year<1980:\n",
    "        return \"1970s\"\n",
    "    if year>1979 and year<1990:\n",
    "        return \"1980s\"\n",
    "    if year>1989 and year<2000:\n",
    "        return \"1990s\"\n",
    "    if year>1999 and year<2010:\n",
    "        return \"2000s\"\n",
    "    if year>2009:\n",
    "        return \"2010s\"\n",
    "    \n",
    "\n",
    "df['Category'] = df.apply(year_classification, axis=1)\n",
    "df.head()"
   ]
  },
  {
   "cell_type": "code",
   "execution_count": 57,
   "metadata": {},
   "outputs": [
    {
     "name": "stdout",
     "output_type": "stream",
     "text": [
      "<class 'pandas.core.frame.DataFrame'>\n",
      "Int64Index: 318457 entries, 0 to 354368\n",
      "Data columns (total 13 columns):\n",
      " #   Column             Non-Null Count   Dtype \n",
      "---  ------             --------------   ----- \n",
      " 0   Price              318457 non-null  int64 \n",
      " 1   VehicleType        318457 non-null  object\n",
      " 2   RegistrationYear   318457 non-null  int64 \n",
      " 3   Gearbox            318457 non-null  object\n",
      " 4   Power              318457 non-null  int64 \n",
      " 5   Model              318457 non-null  object\n",
      " 6   Kilometer          318457 non-null  int64 \n",
      " 7   RegistrationMonth  318457 non-null  int64 \n",
      " 8   FuelType           318457 non-null  object\n",
      " 9   Brand              318457 non-null  object\n",
      " 10  NotRepaired        318457 non-null  object\n",
      " 11  PostalCode         318457 non-null  int64 \n",
      " 12  Category           318457 non-null  object\n",
      "dtypes: int64(6), object(7)\n",
      "memory usage: 34.0+ MB\n"
     ]
    },
    {
     "data": {
      "text/plain": [
       "None"
      ]
     },
     "metadata": {},
     "output_type": "display_data"
    }
   ],
   "source": [
    "display(df.info())"
   ]
  },
  {
   "cell_type": "markdown",
   "metadata": {},
   "source": [
    "### Вывод"
   ]
  },
  {
   "cell_type": "markdown",
   "metadata": {},
   "source": [
    "В процессе подготовки данных было произведено следующее:\n",
    "\n",
    "- Были удалены столбцы `DateCrawled`, `DateCreated`, `NumberOfPictures`и `LastSeen`.\n",
    "\n",
    "- Обработаны пропуски в столбцах: `VehicleType` , `Gearbox`, `Model`, `FuelType`, `NotRepaired`.\n",
    "\n",
    "- Проанализированы численные параметры `Price`,\t`RegistrationYear`,\t`RegistrationMonth`,`Power`, `Kilometer`,  обработаны найденные аномальные значения.\n",
    "\n",
    "\n",
    "Количество всех данных после произведенных действий сократилось примерно на 10%."
   ]
  },
  {
   "cell_type": "markdown",
   "metadata": {},
   "source": [
    "## Обучение моделей"
   ]
  },
  {
   "cell_type": "markdown",
   "metadata": {},
   "source": [
    "Для нашей задачи обучим модели *решающего дерева*, *линейной регресии*, а также *CatBoost* и *LightGBM*.\n",
    "\n",
    "Выделим общие и целевой признак. Разобьем данные на обучающую и тестовую выборки.\n",
    "Преобразуем категориальные признаки в численные с помощью техники прямого кодирования и сохраним их в новых переменных (понадобятся нам для обучения нескольких моделей)."
   ]
  },
  {
   "cell_type": "code",
   "execution_count": 58,
   "metadata": {},
   "outputs": [],
   "source": [
    "features = df.drop('Price', axis=1)\n",
    "ohe_features = pd.get_dummies(features, drop_first=True)\n",
    "\n",
    "target = df['Price']\n",
    "\n",
    "\n",
    "features_train, features_test, target_train, target_test = train_test_split(features, target, \n",
    "                                                                            test_size=0.25, random_state=123)\n",
    "\n",
    "ohe_features_train = ohe_features.loc[features_train.index, :]\n",
    "ohe_features_test = ohe_features.loc[features_test.index, :]"
   ]
  },
  {
   "cell_type": "markdown",
   "metadata": {},
   "source": [
    "Cтандартизируем численные признаки во всех выборках."
   ]
  },
  {
   "cell_type": "code",
   "execution_count": 59,
   "metadata": {},
   "outputs": [],
   "source": [
    "numeric = ['Power', 'Kilometer']\n",
    "\n",
    "scaler = StandardScaler()\n",
    "\n",
    "scaler.fit(features_train[numeric])\n",
    "features_train[numeric] = scaler.transform(ohe_features_train[numeric])\n",
    "features_test[numeric] = scaler.transform(features_test[numeric])\n",
    "\n",
    "scaler.fit(ohe_features_train[numeric])\n",
    "ohe_features_train[numeric] = scaler.transform(ohe_features_train[numeric])\n",
    "ohe_features_test[numeric] = scaler.transform(ohe_features_test[numeric])\n"
   ]
  },
  {
   "cell_type": "markdown",
   "metadata": {},
   "source": [
    "Напишем функции по определению продолжительности обучения модели и формирования предсказаний."
   ]
  },
  {
   "cell_type": "code",
   "execution_count": 60,
   "metadata": {},
   "outputs": [],
   "source": [
    "# функция по подсчету времени обучения\n",
    "def train_time(model, features_train, target_train):\n",
    "    start = time.time()\n",
    "    model.fit(features_train,target_train)\n",
    "    end = time.time()\n",
    "    time_fit = end - start\n",
    "    return time_fit, model\n",
    "\n",
    "# функция по подсчету времени предсказания\n",
    "def predict_time(model,features_test):\n",
    "    start = time.time()\n",
    "    predict = model.predict(features_test)\n",
    "    end = time.time()\n",
    "    time_predict= end - start\n",
    "    return time_predict, predict"
   ]
  },
  {
   "cell_type": "markdown",
   "metadata": {},
   "source": [
    "Создадим датафрейм `results`, в котором будем сохранять полученые результаты по итогам обучения моделей для удобства восприятия. "
   ]
  },
  {
   "cell_type": "code",
   "execution_count": 61,
   "metadata": {},
   "outputs": [],
   "source": [
    "results = pd.DataFrame(columns=['RMSE','Train time','Predict time'])\n",
    "\n",
    "def metrics(RMSE, train_time, predict_time, model_name, df):\n",
    "    df.loc[model_name,'RMSE'] = RMSE\n",
    "    df.loc[model_name,'Train time'] = train_time\n",
    "    df.loc[model_name,'Predict time'] = predict_time\n",
    "    return df"
   ]
  },
  {
   "cell_type": "markdown",
   "metadata": {},
   "source": [
    "### DecisionTreeRegressor"
   ]
  },
  {
   "cell_type": "markdown",
   "metadata": {},
   "source": [
    "Первая модель дерева решений с параметрами `max_depth=20, min_samples_leaf=2, random_state=123`:"
   ]
  },
  {
   "cell_type": "code",
   "execution_count": 62,
   "metadata": {},
   "outputs": [
    {
     "data": {
      "text/html": [
       "<div>\n",
       "<style scoped>\n",
       "    .dataframe tbody tr th:only-of-type {\n",
       "        vertical-align: middle;\n",
       "    }\n",
       "\n",
       "    .dataframe tbody tr th {\n",
       "        vertical-align: top;\n",
       "    }\n",
       "\n",
       "    .dataframe thead th {\n",
       "        text-align: right;\n",
       "    }\n",
       "</style>\n",
       "<table border=\"1\" class=\"dataframe\">\n",
       "  <thead>\n",
       "    <tr style=\"text-align: right;\">\n",
       "      <th></th>\n",
       "      <th>RMSE</th>\n",
       "      <th>Train time</th>\n",
       "      <th>Predict time</th>\n",
       "    </tr>\n",
       "  </thead>\n",
       "  <tbody>\n",
       "    <tr>\n",
       "      <th>Decision Tree 1</th>\n",
       "      <td>1891.305951</td>\n",
       "      <td>14.280446</td>\n",
       "      <td>0.298784</td>\n",
       "    </tr>\n",
       "  </tbody>\n",
       "</table>\n",
       "</div>"
      ],
      "text/plain": [
       "                        RMSE Train time Predict time\n",
       "Decision Tree 1  1891.305951  14.280446     0.298784"
      ]
     },
     "execution_count": 62,
     "metadata": {},
     "output_type": "execute_result"
    }
   ],
   "source": [
    "tree1_train_time, tree1 = train_time(DecisionTreeRegressor(max_depth=20, min_samples_leaf=2, random_state=123), ohe_features_train, target_train)\n",
    "tree1_predict_time, tree1_predict = predict_time(tree1, ohe_features_test)\n",
    "tree1_rmse = np.sqrt(mean_squared_error(target_test, tree1_predict))\n",
    "metrics(tree1_rmse, tree1_train_time, tree1_predict_time, 'Decision Tree 1', results)"
   ]
  },
  {
   "cell_type": "markdown",
   "metadata": {},
   "source": [
    "Вторая модель дерева решений  с параметрами `max_depth=10, min_samples_leaf=3, random_state=123` (уменьшили максимальную глубину и увеличили минимальное количество выборок, необходимых для нахождения в конечном узле):"
   ]
  },
  {
   "cell_type": "code",
   "execution_count": 63,
   "metadata": {},
   "outputs": [
    {
     "data": {
      "text/html": [
       "<div>\n",
       "<style scoped>\n",
       "    .dataframe tbody tr th:only-of-type {\n",
       "        vertical-align: middle;\n",
       "    }\n",
       "\n",
       "    .dataframe tbody tr th {\n",
       "        vertical-align: top;\n",
       "    }\n",
       "\n",
       "    .dataframe thead th {\n",
       "        text-align: right;\n",
       "    }\n",
       "</style>\n",
       "<table border=\"1\" class=\"dataframe\">\n",
       "  <thead>\n",
       "    <tr style=\"text-align: right;\">\n",
       "      <th></th>\n",
       "      <th>RMSE</th>\n",
       "      <th>Train time</th>\n",
       "      <th>Predict time</th>\n",
       "    </tr>\n",
       "  </thead>\n",
       "  <tbody>\n",
       "    <tr>\n",
       "      <th>Decision Tree 1</th>\n",
       "      <td>1891.305951</td>\n",
       "      <td>14.280446</td>\n",
       "      <td>0.298784</td>\n",
       "    </tr>\n",
       "    <tr>\n",
       "      <th>Decision Tree 2</th>\n",
       "      <td>1983.465641</td>\n",
       "      <td>9.503899</td>\n",
       "      <td>0.237671</td>\n",
       "    </tr>\n",
       "  </tbody>\n",
       "</table>\n",
       "</div>"
      ],
      "text/plain": [
       "                        RMSE Train time Predict time\n",
       "Decision Tree 1  1891.305951  14.280446     0.298784\n",
       "Decision Tree 2  1983.465641   9.503899     0.237671"
      ]
     },
     "execution_count": 63,
     "metadata": {},
     "output_type": "execute_result"
    }
   ],
   "source": [
    "tree2_train_time, tree2 = train_time(DecisionTreeRegressor(max_depth=10, min_samples_leaf=3, random_state=123), ohe_features_train, target_train)\n",
    "tree2_predict_time, tree2_predict = predict_time(tree2, ohe_features_test)\n",
    "tree2_rmse = np.sqrt(mean_squared_error(target_test, tree2_predict))\n",
    "metrics(tree2_rmse, tree2_train_time, tree2_predict_time, 'Decision Tree 2', results)"
   ]
  },
  {
   "cell_type": "markdown",
   "metadata": {},
   "source": [
    "### LinearRegression"
   ]
  },
  {
   "cell_type": "code",
   "execution_count": 64,
   "metadata": {},
   "outputs": [
    {
     "data": {
      "text/html": [
       "<div>\n",
       "<style scoped>\n",
       "    .dataframe tbody tr th:only-of-type {\n",
       "        vertical-align: middle;\n",
       "    }\n",
       "\n",
       "    .dataframe tbody tr th {\n",
       "        vertical-align: top;\n",
       "    }\n",
       "\n",
       "    .dataframe thead th {\n",
       "        text-align: right;\n",
       "    }\n",
       "</style>\n",
       "<table border=\"1\" class=\"dataframe\">\n",
       "  <thead>\n",
       "    <tr style=\"text-align: right;\">\n",
       "      <th></th>\n",
       "      <th>RMSE</th>\n",
       "      <th>Train time</th>\n",
       "      <th>Predict time</th>\n",
       "    </tr>\n",
       "  </thead>\n",
       "  <tbody>\n",
       "    <tr>\n",
       "      <th>Decision Tree 1</th>\n",
       "      <td>1891.305951</td>\n",
       "      <td>14.280446</td>\n",
       "      <td>0.298784</td>\n",
       "    </tr>\n",
       "    <tr>\n",
       "      <th>Decision Tree 2</th>\n",
       "      <td>1983.465641</td>\n",
       "      <td>9.503899</td>\n",
       "      <td>0.237671</td>\n",
       "    </tr>\n",
       "    <tr>\n",
       "      <th>Linear regression 1</th>\n",
       "      <td>2254.893778</td>\n",
       "      <td>35.297776</td>\n",
       "      <td>0.312201</td>\n",
       "    </tr>\n",
       "  </tbody>\n",
       "</table>\n",
       "</div>"
      ],
      "text/plain": [
       "                            RMSE Train time Predict time\n",
       "Decision Tree 1      1891.305951  14.280446     0.298784\n",
       "Decision Tree 2      1983.465641   9.503899     0.237671\n",
       "Linear regression 1  2254.893778  35.297776     0.312201"
      ]
     },
     "execution_count": 64,
     "metadata": {},
     "output_type": "execute_result"
    }
   ],
   "source": [
    "linreg1_train_time,linreg1_model = train_time(LinearRegression(), ohe_features_train, target_train)\n",
    "linreg1_predict_time,linreg1_predict = predict_time(linreg1_model, ohe_features_test)\n",
    "linreg1_rmse = np.sqrt(mean_squared_error(target_test, linreg1_predict))\n",
    "metrics(linreg1_rmse, linreg1_train_time, linreg1_predict_time, 'Linear regression 1', results)"
   ]
  },
  {
   "cell_type": "markdown",
   "metadata": {},
   "source": [
    "### CatBoostRegressor"
   ]
  },
  {
   "cell_type": "markdown",
   "metadata": {},
   "source": [
    "Первая модель СatBoost c параметрами `loss_function='RMSE', n_estimators=600, random_state=123, verbose=False, learning_rate=0.3`:"
   ]
  },
  {
   "cell_type": "code",
   "execution_count": 65,
   "metadata": {},
   "outputs": [
    {
     "data": {
      "text/html": [
       "<div>\n",
       "<style scoped>\n",
       "    .dataframe tbody tr th:only-of-type {\n",
       "        vertical-align: middle;\n",
       "    }\n",
       "\n",
       "    .dataframe tbody tr th {\n",
       "        vertical-align: top;\n",
       "    }\n",
       "\n",
       "    .dataframe thead th {\n",
       "        text-align: right;\n",
       "    }\n",
       "</style>\n",
       "<table border=\"1\" class=\"dataframe\">\n",
       "  <thead>\n",
       "    <tr style=\"text-align: right;\">\n",
       "      <th></th>\n",
       "      <th>RMSE</th>\n",
       "      <th>Train time</th>\n",
       "      <th>Predict time</th>\n",
       "    </tr>\n",
       "  </thead>\n",
       "  <tbody>\n",
       "    <tr>\n",
       "      <th>Decision Tree 1</th>\n",
       "      <td>1891.305951</td>\n",
       "      <td>14.280446</td>\n",
       "      <td>0.298784</td>\n",
       "    </tr>\n",
       "    <tr>\n",
       "      <th>Decision Tree 2</th>\n",
       "      <td>1983.465641</td>\n",
       "      <td>9.503899</td>\n",
       "      <td>0.237671</td>\n",
       "    </tr>\n",
       "    <tr>\n",
       "      <th>Linear regression 1</th>\n",
       "      <td>2254.893778</td>\n",
       "      <td>35.297776</td>\n",
       "      <td>0.312201</td>\n",
       "    </tr>\n",
       "    <tr>\n",
       "      <th>Catboost 1</th>\n",
       "      <td>1550.160454</td>\n",
       "      <td>41.062016</td>\n",
       "      <td>0.231479</td>\n",
       "    </tr>\n",
       "  </tbody>\n",
       "</table>\n",
       "</div>"
      ],
      "text/plain": [
       "                            RMSE Train time Predict time\n",
       "Decision Tree 1      1891.305951  14.280446     0.298784\n",
       "Decision Tree 2      1983.465641   9.503899     0.237671\n",
       "Linear regression 1  2254.893778  35.297776     0.312201\n",
       "Catboost 1           1550.160454  41.062016     0.231479"
      ]
     },
     "execution_count": 65,
     "metadata": {},
     "output_type": "execute_result"
    }
   ],
   "source": [
    "cat1_train_time, cat1 = train_time(CatBoostRegressor(loss_function='RMSE', \n",
    "                                                     n_estimators=600, \n",
    "                                                     random_state=123,\n",
    "                                                     verbose=False,\n",
    "                                                     learning_rate=0.3),\n",
    "                                   ohe_features_train,target_train)\n",
    "cat1_predict_time, cat1_predict = predict_time(cat1, ohe_features_test)\n",
    "cat1_rmse = np.sqrt(mean_squared_error(target_test, cat1_predict))\n",
    "metrics(cat1_rmse, cat1_train_time, cat1_predict_time, 'Catboost 1', results)"
   ]
  },
  {
   "cell_type": "markdown",
   "metadata": {},
   "source": [
    "Вторая модель СatBoost с теми же гиперпараметрами, но в качестве аргумента будем брать выборки с незакодированными категориальными признаками, предоставив модели возможность самостоятельно закодировать данные:"
   ]
  },
  {
   "cell_type": "code",
   "execution_count": 66,
   "metadata": {},
   "outputs": [
    {
     "data": {
      "text/html": [
       "<div>\n",
       "<style scoped>\n",
       "    .dataframe tbody tr th:only-of-type {\n",
       "        vertical-align: middle;\n",
       "    }\n",
       "\n",
       "    .dataframe tbody tr th {\n",
       "        vertical-align: top;\n",
       "    }\n",
       "\n",
       "    .dataframe thead th {\n",
       "        text-align: right;\n",
       "    }\n",
       "</style>\n",
       "<table border=\"1\" class=\"dataframe\">\n",
       "  <thead>\n",
       "    <tr style=\"text-align: right;\">\n",
       "      <th></th>\n",
       "      <th>RMSE</th>\n",
       "      <th>Train time</th>\n",
       "      <th>Predict time</th>\n",
       "    </tr>\n",
       "  </thead>\n",
       "  <tbody>\n",
       "    <tr>\n",
       "      <th>Decision Tree 1</th>\n",
       "      <td>1891.305951</td>\n",
       "      <td>14.280446</td>\n",
       "      <td>0.298784</td>\n",
       "    </tr>\n",
       "    <tr>\n",
       "      <th>Decision Tree 2</th>\n",
       "      <td>1983.465641</td>\n",
       "      <td>9.503899</td>\n",
       "      <td>0.237671</td>\n",
       "    </tr>\n",
       "    <tr>\n",
       "      <th>Linear regression 1</th>\n",
       "      <td>2254.893778</td>\n",
       "      <td>35.297776</td>\n",
       "      <td>0.312201</td>\n",
       "    </tr>\n",
       "    <tr>\n",
       "      <th>Catboost 1</th>\n",
       "      <td>1550.160454</td>\n",
       "      <td>41.062016</td>\n",
       "      <td>0.231479</td>\n",
       "    </tr>\n",
       "    <tr>\n",
       "      <th>Catboost 2</th>\n",
       "      <td>1557.309787</td>\n",
       "      <td>484.323302</td>\n",
       "      <td>2.706591</td>\n",
       "    </tr>\n",
       "  </tbody>\n",
       "</table>\n",
       "</div>"
      ],
      "text/plain": [
       "                            RMSE  Train time Predict time\n",
       "Decision Tree 1      1891.305951   14.280446     0.298784\n",
       "Decision Tree 2      1983.465641    9.503899     0.237671\n",
       "Linear regression 1  2254.893778   35.297776     0.312201\n",
       "Catboost 1           1550.160454   41.062016     0.231479\n",
       "Catboost 2           1557.309787  484.323302     2.706591"
      ]
     },
     "execution_count": 66,
     "metadata": {},
     "output_type": "execute_result"
    }
   ],
   "source": [
    "cat2_train_time, cat2 = train_time(CatBoostRegressor(cat_features=['VehicleType','Gearbox','FuelType',\n",
    "                                                                   'Brand','Model','NotRepaired', 'RegistrationYear',\n",
    "                                                                   'RegistrationMonth', 'PostalCode',\n",
    "                                                                   'Category'],# 'RegistrationTime'], \n",
    "                                                     loss_function='RMSE', \n",
    "                                                     n_estimators=600,\n",
    "                                                     verbose=False,\n",
    "                                                     random_state=123,\n",
    "                                                     learning_rate=0.3,), \n",
    "                                   features_train, target_train)\n",
    "cat2_predict_time, cat2_predict = predict_time(cat2, features_test)\n",
    "cat2_rmse = np.sqrt(mean_squared_error(target_test, cat2_predict))\n",
    "metrics(cat2_rmse, cat2_train_time, cat2_predict_time, 'Catboost 2', results)\n"
   ]
  },
  {
   "cell_type": "markdown",
   "metadata": {},
   "source": [
    "### LGBMRegressor"
   ]
  },
  {
   "cell_type": "markdown",
   "metadata": {},
   "source": [
    "Первая модель LightGBM c параметрами `num_leaves=70, max_depth=30, learning_rate=0.1, n_estimators=300, random_state=123`:"
   ]
  },
  {
   "cell_type": "code",
   "execution_count": 67,
   "metadata": {},
   "outputs": [
    {
     "data": {
      "text/html": [
       "<div>\n",
       "<style scoped>\n",
       "    .dataframe tbody tr th:only-of-type {\n",
       "        vertical-align: middle;\n",
       "    }\n",
       "\n",
       "    .dataframe tbody tr th {\n",
       "        vertical-align: top;\n",
       "    }\n",
       "\n",
       "    .dataframe thead th {\n",
       "        text-align: right;\n",
       "    }\n",
       "</style>\n",
       "<table border=\"1\" class=\"dataframe\">\n",
       "  <thead>\n",
       "    <tr style=\"text-align: right;\">\n",
       "      <th></th>\n",
       "      <th>RMSE</th>\n",
       "      <th>Train time</th>\n",
       "      <th>Predict time</th>\n",
       "    </tr>\n",
       "  </thead>\n",
       "  <tbody>\n",
       "    <tr>\n",
       "      <th>Decision Tree 1</th>\n",
       "      <td>1891.305951</td>\n",
       "      <td>14.280446</td>\n",
       "      <td>0.298784</td>\n",
       "    </tr>\n",
       "    <tr>\n",
       "      <th>Decision Tree 2</th>\n",
       "      <td>1983.465641</td>\n",
       "      <td>9.503899</td>\n",
       "      <td>0.237671</td>\n",
       "    </tr>\n",
       "    <tr>\n",
       "      <th>Linear regression 1</th>\n",
       "      <td>2254.893778</td>\n",
       "      <td>35.297776</td>\n",
       "      <td>0.312201</td>\n",
       "    </tr>\n",
       "    <tr>\n",
       "      <th>Catboost 1</th>\n",
       "      <td>1550.160454</td>\n",
       "      <td>41.062016</td>\n",
       "      <td>0.231479</td>\n",
       "    </tr>\n",
       "    <tr>\n",
       "      <th>Catboost 2</th>\n",
       "      <td>1557.309787</td>\n",
       "      <td>484.323302</td>\n",
       "      <td>2.706591</td>\n",
       "    </tr>\n",
       "    <tr>\n",
       "      <th>LightGBM 1</th>\n",
       "      <td>1542.951506</td>\n",
       "      <td>1616.905195</td>\n",
       "      <td>2.111708</td>\n",
       "    </tr>\n",
       "  </tbody>\n",
       "</table>\n",
       "</div>"
      ],
      "text/plain": [
       "                            RMSE   Train time Predict time\n",
       "Decision Tree 1      1891.305951    14.280446     0.298784\n",
       "Decision Tree 2      1983.465641     9.503899     0.237671\n",
       "Linear regression 1  2254.893778    35.297776     0.312201\n",
       "Catboost 1           1550.160454    41.062016     0.231479\n",
       "Catboost 2           1557.309787   484.323302     2.706591\n",
       "LightGBM 1           1542.951506  1616.905195     2.111708"
      ]
     },
     "execution_count": 67,
     "metadata": {},
     "output_type": "execute_result"
    }
   ],
   "source": [
    "lgbm1_train_time, lgbm1 = train_time(LGBMRegressor(num_leaves=70, max_depth=30, learning_rate=0.1, n_estimators=300, random_state=123), ohe_features_train, target_train)\n",
    "\n",
    "lgbm1_predict_time, lgbm1_predict = predict_time(lgbm1, ohe_features_test)\n",
    "lgbm1_rmse = np.sqrt(mean_squared_error(target_test, lgbm1_predict))\n",
    "metrics(lgbm1_rmse, lgbm1_train_time, lgbm1_predict_time, 'LightGBM 1', results)\n"
   ]
  },
  {
   "cell_type": "markdown",
   "metadata": {},
   "source": [
    "Вторая модель LightGBM c большим значением максимальной глубины и коэффициентом скорости обучения:"
   ]
  },
  {
   "cell_type": "code",
   "execution_count": 68,
   "metadata": {},
   "outputs": [
    {
     "data": {
      "text/html": [
       "<div>\n",
       "<style scoped>\n",
       "    .dataframe tbody tr th:only-of-type {\n",
       "        vertical-align: middle;\n",
       "    }\n",
       "\n",
       "    .dataframe tbody tr th {\n",
       "        vertical-align: top;\n",
       "    }\n",
       "\n",
       "    .dataframe thead th {\n",
       "        text-align: right;\n",
       "    }\n",
       "</style>\n",
       "<table border=\"1\" class=\"dataframe\">\n",
       "  <thead>\n",
       "    <tr style=\"text-align: right;\">\n",
       "      <th></th>\n",
       "      <th>RMSE</th>\n",
       "      <th>Train time</th>\n",
       "      <th>Predict time</th>\n",
       "    </tr>\n",
       "  </thead>\n",
       "  <tbody>\n",
       "    <tr>\n",
       "      <th>Decision Tree 1</th>\n",
       "      <td>1891.305951</td>\n",
       "      <td>14.280446</td>\n",
       "      <td>0.298784</td>\n",
       "    </tr>\n",
       "    <tr>\n",
       "      <th>Decision Tree 2</th>\n",
       "      <td>1983.465641</td>\n",
       "      <td>9.503899</td>\n",
       "      <td>0.237671</td>\n",
       "    </tr>\n",
       "    <tr>\n",
       "      <th>Linear regression 1</th>\n",
       "      <td>2254.893778</td>\n",
       "      <td>35.297776</td>\n",
       "      <td>0.312201</td>\n",
       "    </tr>\n",
       "    <tr>\n",
       "      <th>Catboost 1</th>\n",
       "      <td>1550.160454</td>\n",
       "      <td>41.062016</td>\n",
       "      <td>0.231479</td>\n",
       "    </tr>\n",
       "    <tr>\n",
       "      <th>Catboost 2</th>\n",
       "      <td>1557.309787</td>\n",
       "      <td>484.323302</td>\n",
       "      <td>2.706591</td>\n",
       "    </tr>\n",
       "    <tr>\n",
       "      <th>LightGBM 1</th>\n",
       "      <td>1542.951506</td>\n",
       "      <td>1616.905195</td>\n",
       "      <td>2.111708</td>\n",
       "    </tr>\n",
       "    <tr>\n",
       "      <th>LightGBM 2</th>\n",
       "      <td>1533.648063</td>\n",
       "      <td>702.884941</td>\n",
       "      <td>2.397434</td>\n",
       "    </tr>\n",
       "  </tbody>\n",
       "</table>\n",
       "</div>"
      ],
      "text/plain": [
       "                            RMSE   Train time Predict time\n",
       "Decision Tree 1      1891.305951    14.280446     0.298784\n",
       "Decision Tree 2      1983.465641     9.503899     0.237671\n",
       "Linear regression 1  2254.893778    35.297776     0.312201\n",
       "Catboost 1           1550.160454    41.062016     0.231479\n",
       "Catboost 2           1557.309787   484.323302     2.706591\n",
       "LightGBM 1           1542.951506  1616.905195     2.111708\n",
       "LightGBM 2           1533.648063   702.884941     2.397434"
      ]
     },
     "execution_count": 68,
     "metadata": {},
     "output_type": "execute_result"
    }
   ],
   "source": [
    "lgbm2_train_time, lgbm2 = train_time(LGBMRegressor(num_leaves=70, max_depth=50, learning_rate=0.3, n_estimators=300, random_state=123), ohe_features_train, target_train)\n",
    "\n",
    "lgbm2_predict_time, lgbm2_predict = predict_time(lgbm2, ohe_features_test)\n",
    "lgbm2_rmse = np.sqrt(mean_squared_error(target_test, lgbm2_predict))\n",
    "metrics(lgbm2_rmse, lgbm2_train_time, lgbm2_predict_time, 'LightGBM 2', results)"
   ]
  },
  {
   "cell_type": "markdown",
   "metadata": {},
   "source": [
    "### **XGBRegressor**"
   ]
  },
  {
   "cell_type": "markdown",
   "metadata": {},
   "source": [
    "Первая модель XGBoost c гиперпараметрами `n_estimators=50, random_state=123`:"
   ]
  },
  {
   "cell_type": "code",
   "execution_count": 69,
   "metadata": {},
   "outputs": [
    {
     "data": {
      "text/html": [
       "<div>\n",
       "<style scoped>\n",
       "    .dataframe tbody tr th:only-of-type {\n",
       "        vertical-align: middle;\n",
       "    }\n",
       "\n",
       "    .dataframe tbody tr th {\n",
       "        vertical-align: top;\n",
       "    }\n",
       "\n",
       "    .dataframe thead th {\n",
       "        text-align: right;\n",
       "    }\n",
       "</style>\n",
       "<table border=\"1\" class=\"dataframe\">\n",
       "  <thead>\n",
       "    <tr style=\"text-align: right;\">\n",
       "      <th></th>\n",
       "      <th>RMSE</th>\n",
       "      <th>Train time</th>\n",
       "      <th>Predict time</th>\n",
       "    </tr>\n",
       "  </thead>\n",
       "  <tbody>\n",
       "    <tr>\n",
       "      <th>Decision Tree 1</th>\n",
       "      <td>1891.305951</td>\n",
       "      <td>14.280446</td>\n",
       "      <td>0.298784</td>\n",
       "    </tr>\n",
       "    <tr>\n",
       "      <th>Decision Tree 2</th>\n",
       "      <td>1983.465641</td>\n",
       "      <td>9.503899</td>\n",
       "      <td>0.237671</td>\n",
       "    </tr>\n",
       "    <tr>\n",
       "      <th>Linear regression 1</th>\n",
       "      <td>2254.893778</td>\n",
       "      <td>35.297776</td>\n",
       "      <td>0.312201</td>\n",
       "    </tr>\n",
       "    <tr>\n",
       "      <th>Catboost 1</th>\n",
       "      <td>1550.160454</td>\n",
       "      <td>41.062016</td>\n",
       "      <td>0.231479</td>\n",
       "    </tr>\n",
       "    <tr>\n",
       "      <th>Catboost 2</th>\n",
       "      <td>1557.309787</td>\n",
       "      <td>484.323302</td>\n",
       "      <td>2.706591</td>\n",
       "    </tr>\n",
       "    <tr>\n",
       "      <th>LightGBM 1</th>\n",
       "      <td>1542.951506</td>\n",
       "      <td>1616.905195</td>\n",
       "      <td>2.111708</td>\n",
       "    </tr>\n",
       "    <tr>\n",
       "      <th>LightGBM 2</th>\n",
       "      <td>1533.648063</td>\n",
       "      <td>702.884941</td>\n",
       "      <td>2.397434</td>\n",
       "    </tr>\n",
       "    <tr>\n",
       "      <th>XGBoost 1</th>\n",
       "      <td>1668.001097</td>\n",
       "      <td>262.714554</td>\n",
       "      <td>1.27209</td>\n",
       "    </tr>\n",
       "  </tbody>\n",
       "</table>\n",
       "</div>"
      ],
      "text/plain": [
       "                            RMSE   Train time Predict time\n",
       "Decision Tree 1      1891.305951    14.280446     0.298784\n",
       "Decision Tree 2      1983.465641     9.503899     0.237671\n",
       "Linear regression 1  2254.893778    35.297776     0.312201\n",
       "Catboost 1           1550.160454    41.062016     0.231479\n",
       "Catboost 2           1557.309787   484.323302     2.706591\n",
       "LightGBM 1           1542.951506  1616.905195     2.111708\n",
       "LightGBM 2           1533.648063   702.884941     2.397434\n",
       "XGBoost 1            1668.001097   262.714554      1.27209"
      ]
     },
     "execution_count": 69,
     "metadata": {},
     "output_type": "execute_result"
    }
   ],
   "source": [
    "xgbr1_train_time, xgbr1 = train_time(xgb.XGBRegressor(n_estimators=50, random_state=123), ohe_features_train, target_train)\n",
    "xgbr1_predict_time, xgbr1_predict = predict_time(xgbr1, ohe_features_test)\n",
    "xgbr1_rmse = np.sqrt(mean_squared_error(target_test, xgbr1_predict))\n",
    "metrics(xgbr1_rmse, xgbr1_train_time, xgbr1_predict_time, 'XGBoost 1', results)"
   ]
  },
  {
   "cell_type": "markdown",
   "metadata": {},
   "source": [
    "Вторая модель с автоматическим подбором параметров:"
   ]
  },
  {
   "cell_type": "code",
   "execution_count": 70,
   "metadata": {},
   "outputs": [
    {
     "data": {
      "text/html": [
       "<div>\n",
       "<style scoped>\n",
       "    .dataframe tbody tr th:only-of-type {\n",
       "        vertical-align: middle;\n",
       "    }\n",
       "\n",
       "    .dataframe tbody tr th {\n",
       "        vertical-align: top;\n",
       "    }\n",
       "\n",
       "    .dataframe thead th {\n",
       "        text-align: right;\n",
       "    }\n",
       "</style>\n",
       "<table border=\"1\" class=\"dataframe\">\n",
       "  <thead>\n",
       "    <tr style=\"text-align: right;\">\n",
       "      <th></th>\n",
       "      <th>RMSE</th>\n",
       "      <th>Train time</th>\n",
       "      <th>Predict time</th>\n",
       "    </tr>\n",
       "  </thead>\n",
       "  <tbody>\n",
       "    <tr>\n",
       "      <th>Decision Tree 1</th>\n",
       "      <td>1891.305951</td>\n",
       "      <td>14.280446</td>\n",
       "      <td>0.298784</td>\n",
       "    </tr>\n",
       "    <tr>\n",
       "      <th>Decision Tree 2</th>\n",
       "      <td>1983.465641</td>\n",
       "      <td>9.503899</td>\n",
       "      <td>0.237671</td>\n",
       "    </tr>\n",
       "    <tr>\n",
       "      <th>Linear regression 1</th>\n",
       "      <td>2254.893778</td>\n",
       "      <td>35.297776</td>\n",
       "      <td>0.312201</td>\n",
       "    </tr>\n",
       "    <tr>\n",
       "      <th>Catboost 1</th>\n",
       "      <td>1550.160454</td>\n",
       "      <td>41.062016</td>\n",
       "      <td>0.231479</td>\n",
       "    </tr>\n",
       "    <tr>\n",
       "      <th>Catboost 2</th>\n",
       "      <td>1557.309787</td>\n",
       "      <td>484.323302</td>\n",
       "      <td>2.706591</td>\n",
       "    </tr>\n",
       "    <tr>\n",
       "      <th>LightGBM 1</th>\n",
       "      <td>1542.951506</td>\n",
       "      <td>1616.905195</td>\n",
       "      <td>2.111708</td>\n",
       "    </tr>\n",
       "    <tr>\n",
       "      <th>LightGBM 2</th>\n",
       "      <td>1533.648063</td>\n",
       "      <td>702.884941</td>\n",
       "      <td>2.397434</td>\n",
       "    </tr>\n",
       "    <tr>\n",
       "      <th>XGBoost 1</th>\n",
       "      <td>1668.001097</td>\n",
       "      <td>262.714554</td>\n",
       "      <td>1.27209</td>\n",
       "    </tr>\n",
       "    <tr>\n",
       "      <th>XGBoost 2</th>\n",
       "      <td>1617.611069</td>\n",
       "      <td>5586.728452</td>\n",
       "      <td>1.656788</td>\n",
       "    </tr>\n",
       "  </tbody>\n",
       "</table>\n",
       "</div>"
      ],
      "text/plain": [
       "                            RMSE   Train time Predict time\n",
       "Decision Tree 1      1891.305951    14.280446     0.298784\n",
       "Decision Tree 2      1983.465641     9.503899     0.237671\n",
       "Linear regression 1  2254.893778    35.297776     0.312201\n",
       "Catboost 1           1550.160454    41.062016     0.231479\n",
       "Catboost 2           1557.309787   484.323302     2.706591\n",
       "LightGBM 1           1542.951506  1616.905195     2.111708\n",
       "LightGBM 2           1533.648063   702.884941     2.397434\n",
       "XGBoost 1            1668.001097   262.714554      1.27209\n",
       "XGBoost 2            1617.611069  5586.728452     1.656788"
      ]
     },
     "execution_count": 70,
     "metadata": {},
     "output_type": "execute_result"
    }
   ],
   "source": [
    "model = xgb.XGBRegressor() \n",
    "hyperparams = [{'n_estimators':[10, 100], \n",
    "                'learning_rate':[0.1, 0.3],\n",
    "                'random_state':[123]}]\n",
    "crv = GridSearchCV(model, hyperparams, scoring='neg_mean_squared_error')\n",
    "\n",
    "xgbr2_train_time, xgbr2 = train_time(crv, ohe_features_train, target_train)\n",
    "xgbr2_predict_time, xgbr2_predict = predict_time(crv, ohe_features_test)\n",
    "xgbr2_rmse = np.sqrt(mean_squared_error(target_test, xgbr2_predict))\n",
    "metrics(xgbr2_rmse, xgbr2_train_time, xgbr2_predict_time, 'XGBoost 2', results)"
   ]
  },
  {
   "cell_type": "markdown",
   "metadata": {},
   "source": [
    "## Анализ моделей"
   ]
  },
  {
   "cell_type": "markdown",
   "metadata": {},
   "source": [
    "Было рассмотрено 5 моделей с различными гиперпараметрами:\n",
    "- При рассмотрении модели дерева решений получили, что уменьшение максимальной глубины и увеличение минимального количества выборок, необходимых для нахождения в конечном узле, уменьшило время обучения и предсказаний, но увеличило метрику RMSE. Значения этой метрики в обоих случаях больше, чем для основного числа моделей.\n",
    "\n",
    "- Модель линейной регрессии оказалась самой быстрой, но качество предсказаний ниже, чем у других моделей.\n",
    "\n",
    "- На моделях CatBoost значения метрики RMSE ниже, чем у большинства других моделей, но скорость обучения и предсказаний силишком велика. Использование выборок с незакодированными категориальными признаками методом OHE значительно увеличивает время обучения и предсказаний.\n",
    "\n",
    "- Модели LightGBM показали лучшие результаты, если оценивать их качество по RMSE. Время обучения также меньше, чем у большинства других моделей, но время предсказаний больше, чем во всех других рассматриваемых случаях. При увеличении значения максимальной глубины и коэффициента скорости обучения улучшилась как метрика RMSE, так и время на обучение и формирование предсказаний.\n",
    "\n",
    "- Модели XGBoost показали не лучшие результаты ни в плане величины RMSE, ни в длительности вычислений. При использовании GridSearchCV качество модели улучшилось, однако время на обучение увеличилось до 10 минут.\n",
    "\n",
    "\n",
    "С учетом всех полученных значений, лучшей можно назвать модель LightGBM 2(`LGBMRegressor(num_leaves=70, max_depth=50, learning_rate=0.3, n_estimators=300, random_state=123)`), для которой RMSE составила 1533 евро, время обучения - 3 сек., время предсказания - 0.58 сек."
   ]
  },
  {
   "cell_type": "markdown",
   "metadata": {},
   "source": [
    "## Вывод"
   ]
  },
  {
   "cell_type": "markdown",
   "metadata": {},
   "source": [
    "В рамках данной работы было выполнено следующее:\n",
    "\n",
    "* Произведена подготовка данных: заполнены имеющиеся пропуски в категориальных признаках, устранены аномальные значения в числовых параметрах, удалены ненужные для анализа столбцы, добавлен дополнительный признак с указанием категории автомобиля, зависящий от его года выпуска.\n",
    "\n",
    "* Обучены 5 видов моделей с различными гиперпараметрами и произведен анализ плученных результатов.\n",
    "\n",
    "**С учетом всех полученных значений, лучшей можно назвать модель LightGBM 2(`LGBMRegressor(num_leaves=70, max_depth=50, learning_rate=0.3, n_estimators=300, random_state=123)`), для которой RMSE составила 1533 евро, время обучения - 3 сек., время предсказания - 0.58 сек.**"
   ]
  }
 ],
 "metadata": {
  "ExecuteTimeLog": [
   {
    "duration": 432,
    "start_time": "2022-04-10T08:45:32.024Z"
   },
   {
    "duration": 836,
    "start_time": "2022-04-10T08:46:41.164Z"
   },
   {
    "duration": 833,
    "start_time": "2022-04-10T08:47:59.156Z"
   },
   {
    "duration": 875,
    "start_time": "2022-04-10T08:48:14.909Z"
   },
   {
    "duration": 92,
    "start_time": "2022-04-10T08:48:33.936Z"
   },
   {
    "duration": 944,
    "start_time": "2022-04-10T08:49:57.356Z"
   },
   {
    "duration": 67,
    "start_time": "2022-04-10T09:04:22.699Z"
   },
   {
    "duration": 9,
    "start_time": "2022-04-10T09:04:47.719Z"
   },
   {
    "duration": 3,
    "start_time": "2022-04-10T09:04:56.259Z"
   },
   {
    "duration": 865,
    "start_time": "2022-04-10T09:04:56.750Z"
   },
   {
    "duration": 97,
    "start_time": "2022-04-10T09:04:57.617Z"
   },
   {
    "duration": 7,
    "start_time": "2022-04-10T09:05:00.145Z"
   },
   {
    "duration": 6,
    "start_time": "2022-04-10T09:05:09.716Z"
   },
   {
    "duration": 133,
    "start_time": "2022-04-10T09:05:14.428Z"
   },
   {
    "duration": 127,
    "start_time": "2022-04-10T09:05:28.682Z"
   },
   {
    "duration": 131,
    "start_time": "2022-04-10T09:08:49.057Z"
   },
   {
    "duration": 131,
    "start_time": "2022-04-10T12:22:00.634Z"
   },
   {
    "duration": 129,
    "start_time": "2022-04-10T12:39:09.887Z"
   },
   {
    "duration": 89,
    "start_time": "2022-04-10T12:42:13.196Z"
   },
   {
    "duration": 21,
    "start_time": "2022-04-10T12:57:01.631Z"
   },
   {
    "duration": 6,
    "start_time": "2022-04-10T12:57:17.076Z"
   },
   {
    "duration": 6,
    "start_time": "2022-04-10T12:57:23.214Z"
   },
   {
    "duration": 6,
    "start_time": "2022-04-10T12:57:31.644Z"
   },
   {
    "duration": 6,
    "start_time": "2022-04-10T12:57:35.381Z"
   },
   {
    "duration": 5,
    "start_time": "2022-04-10T12:57:40.111Z"
   },
   {
    "duration": 6,
    "start_time": "2022-04-10T12:57:48.251Z"
   },
   {
    "duration": 5,
    "start_time": "2022-04-10T12:57:59.452Z"
   },
   {
    "duration": 10,
    "start_time": "2022-04-10T12:58:25.016Z"
   },
   {
    "duration": 7,
    "start_time": "2022-04-10T12:58:34.493Z"
   },
   {
    "duration": 7,
    "start_time": "2022-04-10T12:58:48.694Z"
   },
   {
    "duration": 6,
    "start_time": "2022-04-10T12:58:53.426Z"
   },
   {
    "duration": 5,
    "start_time": "2022-04-10T12:58:57.639Z"
   },
   {
    "duration": 5,
    "start_time": "2022-04-10T12:59:02.092Z"
   },
   {
    "duration": 5,
    "start_time": "2022-04-10T12:59:14.575Z"
   },
   {
    "duration": 7,
    "start_time": "2022-04-10T12:59:17.912Z"
   },
   {
    "duration": 5,
    "start_time": "2022-04-10T12:59:22.017Z"
   },
   {
    "duration": 5,
    "start_time": "2022-04-10T12:59:48.812Z"
   },
   {
    "duration": 6,
    "start_time": "2022-04-10T13:00:36.491Z"
   },
   {
    "duration": 10,
    "start_time": "2022-04-10T13:02:42.689Z"
   },
   {
    "duration": 10,
    "start_time": "2022-04-10T13:02:50.077Z"
   },
   {
    "duration": 7,
    "start_time": "2022-04-10T13:02:57.271Z"
   },
   {
    "duration": 7,
    "start_time": "2022-04-10T13:03:03.189Z"
   },
   {
    "duration": 6,
    "start_time": "2022-04-10T13:03:09.708Z"
   },
   {
    "duration": 1545,
    "start_time": "2022-04-10T13:14:45.594Z"
   },
   {
    "duration": 968,
    "start_time": "2022-04-10T13:14:48.886Z"
   },
   {
    "duration": 113,
    "start_time": "2022-04-10T13:14:49.856Z"
   },
   {
    "duration": 7,
    "start_time": "2022-04-10T13:14:50.817Z"
   },
   {
    "duration": 6,
    "start_time": "2022-04-10T13:14:52.506Z"
   },
   {
    "duration": 125,
    "start_time": "2022-04-10T13:14:54.297Z"
   },
   {
    "duration": 1552,
    "start_time": "2022-04-10T13:16:27.913Z"
   },
   {
    "duration": 1519,
    "start_time": "2022-04-10T13:21:52.552Z"
   },
   {
    "duration": 1447,
    "start_time": "2022-04-10T13:22:09.205Z"
   },
   {
    "duration": 1396,
    "start_time": "2022-04-10T13:22:47.382Z"
   },
   {
    "duration": 1334,
    "start_time": "2022-04-10T13:23:03.955Z"
   },
   {
    "duration": 1483,
    "start_time": "2022-04-10T13:23:28.379Z"
   },
   {
    "duration": 240,
    "start_time": "2022-04-10T13:24:46.104Z"
   },
   {
    "duration": 223,
    "start_time": "2022-04-10T13:24:56.939Z"
   },
   {
    "duration": 1471,
    "start_time": "2022-04-10T13:25:47.005Z"
   },
   {
    "duration": 449,
    "start_time": "2022-04-10T13:26:49.842Z"
   },
   {
    "duration": 268,
    "start_time": "2022-04-10T13:26:57.847Z"
   },
   {
    "duration": 258,
    "start_time": "2022-04-10T13:27:07.117Z"
   },
   {
    "duration": 258,
    "start_time": "2022-04-10T13:27:11.664Z"
   },
   {
    "duration": 264,
    "start_time": "2022-04-10T13:27:49.120Z"
   },
   {
    "duration": 1396,
    "start_time": "2022-04-10T13:28:06.039Z"
   },
   {
    "duration": 3959,
    "start_time": "2022-04-10T13:28:14.067Z"
   },
   {
    "duration": 4469,
    "start_time": "2022-04-10T13:28:26.580Z"
   },
   {
    "duration": 4120,
    "start_time": "2022-04-10T13:28:40.175Z"
   },
   {
    "duration": 4191,
    "start_time": "2022-04-10T13:29:00.110Z"
   },
   {
    "duration": 4337,
    "start_time": "2022-04-10T13:29:10.697Z"
   },
   {
    "duration": 4439,
    "start_time": "2022-04-10T13:30:11.728Z"
   },
   {
    "duration": 4313,
    "start_time": "2022-04-10T13:30:17.141Z"
   },
   {
    "duration": 7108,
    "start_time": "2022-04-10T13:30:27.850Z"
   },
   {
    "duration": 6811,
    "start_time": "2022-04-10T13:30:44.553Z"
   },
   {
    "duration": 6919,
    "start_time": "2022-04-10T13:31:10.338Z"
   },
   {
    "duration": 9423,
    "start_time": "2022-04-10T13:32:04.753Z"
   },
   {
    "duration": 9999,
    "start_time": "2022-04-10T13:32:25.301Z"
   },
   {
    "duration": 9377,
    "start_time": "2022-04-10T13:33:31.672Z"
   },
   {
    "duration": 140,
    "start_time": "2022-04-10T13:36:30.784Z"
   },
   {
    "duration": 135,
    "start_time": "2022-04-10T13:36:35.882Z"
   },
   {
    "duration": 851,
    "start_time": "2022-04-10T13:38:20.451Z"
   },
   {
    "duration": 7,
    "start_time": "2022-04-10T13:38:35.332Z"
   },
   {
    "duration": 6,
    "start_time": "2022-04-10T13:38:45.794Z"
   },
   {
    "duration": 5,
    "start_time": "2022-04-10T13:38:53.234Z"
   },
   {
    "duration": 1018,
    "start_time": "2022-04-10T13:38:53.245Z"
   },
   {
    "duration": 106,
    "start_time": "2022-04-10T13:38:54.265Z"
   },
   {
    "duration": 7,
    "start_time": "2022-04-10T13:39:18.284Z"
   },
   {
    "duration": 6,
    "start_time": "2022-04-10T13:39:27.516Z"
   },
   {
    "duration": 6,
    "start_time": "2022-04-10T13:39:34.608Z"
   },
   {
    "duration": 7,
    "start_time": "2022-04-10T13:39:37.877Z"
   },
   {
    "duration": 7,
    "start_time": "2022-04-10T13:39:45.803Z"
   },
   {
    "duration": 6,
    "start_time": "2022-04-10T13:40:02.923Z"
   },
   {
    "duration": 161,
    "start_time": "2022-04-10T13:41:02.443Z"
   },
   {
    "duration": 5,
    "start_time": "2022-04-10T13:41:43.322Z"
   },
   {
    "duration": 1010,
    "start_time": "2022-04-10T13:41:43.340Z"
   },
   {
    "duration": 108,
    "start_time": "2022-04-10T13:41:44.352Z"
   },
   {
    "duration": 7,
    "start_time": "2022-04-10T13:41:44.462Z"
   },
   {
    "duration": 6,
    "start_time": "2022-04-10T13:41:45.225Z"
   },
   {
    "duration": 9993,
    "start_time": "2022-04-10T13:41:45.941Z"
   },
   {
    "duration": 2158,
    "start_time": "2022-04-10T13:52:28.931Z"
   },
   {
    "duration": 1014,
    "start_time": "2022-04-10T13:52:34.962Z"
   },
   {
    "duration": 308,
    "start_time": "2022-04-10T13:52:42.392Z"
   },
   {
    "duration": 7,
    "start_time": "2022-04-10T13:55:55.730Z"
   },
   {
    "duration": 70,
    "start_time": "2022-04-10T13:56:48.702Z"
   },
   {
    "duration": 173,
    "start_time": "2022-04-10T14:32:01.352Z"
   },
   {
    "duration": 167,
    "start_time": "2022-04-10T14:32:09.509Z"
   },
   {
    "duration": 23,
    "start_time": "2022-04-10T14:32:17.241Z"
   },
   {
    "duration": 14,
    "start_time": "2022-04-10T14:32:36.673Z"
   },
   {
    "duration": 105,
    "start_time": "2022-04-10T14:33:15.216Z"
   },
   {
    "duration": 13,
    "start_time": "2022-04-10T14:34:28.035Z"
   },
   {
    "duration": 28,
    "start_time": "2022-04-10T14:34:32.686Z"
   },
   {
    "duration": 2218,
    "start_time": "2022-04-10T14:34:32.716Z"
   },
   {
    "duration": 118,
    "start_time": "2022-04-10T14:34:36.509Z"
   },
   {
    "duration": 69,
    "start_time": "2022-04-10T14:34:43.441Z"
   },
   {
    "duration": 37,
    "start_time": "2022-04-10T14:44:06.680Z"
   },
   {
    "duration": 6406,
    "start_time": "2022-04-10T14:44:23.295Z"
   },
   {
    "duration": 93,
    "start_time": "2022-04-10T14:49:44.177Z"
   },
   {
    "duration": 8,
    "start_time": "2022-04-10T14:50:00.620Z"
   },
   {
    "duration": 8,
    "start_time": "2022-04-10T14:50:14.332Z"
   },
   {
    "duration": 8,
    "start_time": "2022-04-10T14:50:22.666Z"
   },
   {
    "duration": 5,
    "start_time": "2022-04-10T14:50:27.860Z"
   },
   {
    "duration": 957,
    "start_time": "2022-04-10T14:50:27.868Z"
   },
   {
    "duration": 629,
    "start_time": "2022-04-10T14:50:28.827Z"
   },
   {
    "duration": 76,
    "start_time": "2022-04-10T14:50:29.458Z"
   },
   {
    "duration": 6,
    "start_time": "2022-04-10T14:50:29.537Z"
   },
   {
    "duration": 37,
    "start_time": "2022-04-10T14:50:29.545Z"
   },
   {
    "duration": 6585,
    "start_time": "2022-04-10T14:50:29.584Z"
   },
   {
    "duration": 28,
    "start_time": "2022-04-10T14:50:39.360Z"
   },
   {
    "duration": 29,
    "start_time": "2022-04-10T14:51:37.328Z"
   },
   {
    "duration": 31,
    "start_time": "2022-04-10T14:52:04.954Z"
   },
   {
    "duration": 30,
    "start_time": "2022-04-10T14:52:12.597Z"
   },
   {
    "duration": 89,
    "start_time": "2022-04-10T14:52:29.469Z"
   },
   {
    "duration": 6,
    "start_time": "2022-04-10T14:54:06.142Z"
   },
   {
    "duration": 7,
    "start_time": "2022-04-10T14:54:13.135Z"
   },
   {
    "duration": 8,
    "start_time": "2022-04-10T14:54:42.739Z"
   },
   {
    "duration": 23,
    "start_time": "2022-04-10T14:55:15.184Z"
   },
   {
    "duration": 11,
    "start_time": "2022-04-10T15:15:33.326Z"
   },
   {
    "duration": 1073,
    "start_time": "2022-04-10T15:15:33.340Z"
   },
   {
    "duration": 165,
    "start_time": "2022-04-10T15:15:34.415Z"
   },
   {
    "duration": 110,
    "start_time": "2022-04-10T15:15:34.582Z"
   },
   {
    "duration": 11,
    "start_time": "2022-04-10T15:15:34.694Z"
   },
   {
    "duration": 75,
    "start_time": "2022-04-10T15:15:34.708Z"
   },
   {
    "duration": 21,
    "start_time": "2022-04-10T15:16:44.389Z"
   },
   {
    "duration": 110,
    "start_time": "2022-04-10T15:19:53.377Z"
   },
   {
    "duration": 98,
    "start_time": "2022-04-10T15:20:10.552Z"
   },
   {
    "duration": 111,
    "start_time": "2022-04-10T15:20:15.517Z"
   },
   {
    "duration": 198,
    "start_time": "2022-04-10T15:20:32.790Z"
   },
   {
    "duration": 107,
    "start_time": "2022-04-10T15:20:59.374Z"
   },
   {
    "duration": 111,
    "start_time": "2022-04-10T15:23:16.510Z"
   },
   {
    "duration": 6,
    "start_time": "2022-04-10T15:24:03.779Z"
   },
   {
    "duration": 1048,
    "start_time": "2022-04-10T15:24:03.788Z"
   },
   {
    "duration": 198,
    "start_time": "2022-04-10T15:24:04.838Z"
   },
   {
    "duration": 94,
    "start_time": "2022-04-10T15:24:05.037Z"
   },
   {
    "duration": 10,
    "start_time": "2022-04-10T15:24:05.134Z"
   },
   {
    "duration": 56,
    "start_time": "2022-04-10T15:24:05.145Z"
   },
   {
    "duration": 138,
    "start_time": "2022-04-10T15:24:07.242Z"
   },
   {
    "duration": 352,
    "start_time": "2022-04-10T15:24:21.912Z"
   },
   {
    "duration": 237,
    "start_time": "2022-04-10T15:24:56.965Z"
   },
   {
    "duration": 223,
    "start_time": "2022-04-10T15:25:07.055Z"
   },
   {
    "duration": 5,
    "start_time": "2022-04-10T15:26:57.902Z"
   },
   {
    "duration": 217,
    "start_time": "2022-04-10T15:27:28.383Z"
   },
   {
    "duration": 14,
    "start_time": "2022-04-10T15:30:01.787Z"
   },
   {
    "duration": 5337,
    "start_time": "2022-04-10T15:35:12.959Z"
   },
   {
    "duration": 2118,
    "start_time": "2022-04-10T15:39:39.283Z"
   },
   {
    "duration": 8,
    "start_time": "2022-04-10T15:43:06.907Z"
   },
   {
    "duration": 1534,
    "start_time": "2022-04-10T15:43:06.918Z"
   },
   {
    "duration": 236,
    "start_time": "2022-04-10T15:43:08.454Z"
   },
   {
    "duration": 105,
    "start_time": "2022-04-10T15:43:08.693Z"
   },
   {
    "duration": 8,
    "start_time": "2022-04-10T15:43:08.801Z"
   },
   {
    "duration": 67,
    "start_time": "2022-04-10T15:43:08.812Z"
   },
   {
    "duration": 8079,
    "start_time": "2022-04-10T15:43:08.882Z"
   },
   {
    "duration": 42,
    "start_time": "2022-04-10T15:43:16.963Z"
   },
   {
    "duration": 34,
    "start_time": "2022-04-10T15:43:17.061Z"
   },
   {
    "duration": 24,
    "start_time": "2022-04-10T16:03:15.036Z"
   },
   {
    "duration": 91,
    "start_time": "2022-04-10T16:03:32.650Z"
   },
   {
    "duration": 22,
    "start_time": "2022-04-10T16:04:45.441Z"
   },
   {
    "duration": 7,
    "start_time": "2022-04-10T16:04:56.237Z"
   },
   {
    "duration": 7602,
    "start_time": "2022-04-10T16:11:13.021Z"
   },
   {
    "duration": 7931,
    "start_time": "2022-04-10T16:11:56.198Z"
   },
   {
    "duration": 5,
    "start_time": "2022-04-10T16:12:29.462Z"
   },
   {
    "duration": 916,
    "start_time": "2022-04-10T16:12:29.469Z"
   },
   {
    "duration": 140,
    "start_time": "2022-04-10T16:12:30.387Z"
   },
   {
    "duration": 71,
    "start_time": "2022-04-10T16:12:30.529Z"
   },
   {
    "duration": 7,
    "start_time": "2022-04-10T16:12:30.602Z"
   },
   {
    "duration": 41,
    "start_time": "2022-04-10T16:12:30.632Z"
   },
   {
    "duration": 7498,
    "start_time": "2022-04-10T16:12:30.675Z"
   },
   {
    "duration": 30,
    "start_time": "2022-04-10T16:12:38.175Z"
   },
   {
    "duration": 26,
    "start_time": "2022-04-10T16:12:38.207Z"
   },
   {
    "duration": 8134,
    "start_time": "2022-04-10T16:12:41.248Z"
   },
   {
    "duration": 7643,
    "start_time": "2022-04-10T16:13:30.192Z"
   },
   {
    "duration": 1524,
    "start_time": "2022-04-10T16:16:33.100Z"
   },
   {
    "duration": 8,
    "start_time": "2022-04-10T16:20:50.682Z"
   },
   {
    "duration": 2286,
    "start_time": "2022-04-10T16:27:09.996Z"
   },
   {
    "duration": 2181,
    "start_time": "2022-04-10T16:29:03.230Z"
   },
   {
    "duration": 2193,
    "start_time": "2022-04-10T16:30:24.149Z"
   },
   {
    "duration": 2191,
    "start_time": "2022-04-10T16:31:00.223Z"
   },
   {
    "duration": 5,
    "start_time": "2022-04-10T16:31:23.583Z"
   },
   {
    "duration": 930,
    "start_time": "2022-04-10T16:31:23.590Z"
   },
   {
    "duration": 135,
    "start_time": "2022-04-10T16:31:24.522Z"
   },
   {
    "duration": 83,
    "start_time": "2022-04-10T16:31:24.659Z"
   },
   {
    "duration": 7,
    "start_time": "2022-04-10T16:31:24.745Z"
   },
   {
    "duration": 46,
    "start_time": "2022-04-10T16:31:24.754Z"
   },
   {
    "duration": 7111,
    "start_time": "2022-04-10T16:31:24.802Z"
   },
   {
    "duration": 38,
    "start_time": "2022-04-10T16:31:31.915Z"
   },
   {
    "duration": 8,
    "start_time": "2022-04-10T16:31:31.956Z"
   },
   {
    "duration": 1919,
    "start_time": "2022-04-10T16:31:31.966Z"
   },
   {
    "duration": 30,
    "start_time": "2022-04-10T16:31:40.734Z"
   },
   {
    "duration": 2235,
    "start_time": "2022-04-10T16:35:48.138Z"
   },
   {
    "duration": 14,
    "start_time": "2022-04-10T16:36:17.590Z"
   },
   {
    "duration": 5,
    "start_time": "2022-04-10T16:36:25.384Z"
   },
   {
    "duration": 921,
    "start_time": "2022-04-10T16:36:25.391Z"
   },
   {
    "duration": 129,
    "start_time": "2022-04-10T16:36:26.314Z"
   },
   {
    "duration": 70,
    "start_time": "2022-04-10T16:36:26.444Z"
   },
   {
    "duration": 20,
    "start_time": "2022-04-10T16:36:26.516Z"
   },
   {
    "duration": 39,
    "start_time": "2022-04-10T16:36:26.538Z"
   },
   {
    "duration": 6596,
    "start_time": "2022-04-10T16:36:26.579Z"
   },
   {
    "duration": 29,
    "start_time": "2022-04-10T16:36:33.176Z"
   },
   {
    "duration": 26,
    "start_time": "2022-04-10T16:36:33.207Z"
   },
   {
    "duration": 1363,
    "start_time": "2022-04-10T16:36:33.235Z"
   },
   {
    "duration": 13,
    "start_time": "2022-04-10T16:36:37.698Z"
   },
   {
    "duration": 2154,
    "start_time": "2022-04-10T16:36:40.920Z"
   },
   {
    "duration": 2079,
    "start_time": "2022-04-10T16:37:23.428Z"
   },
   {
    "duration": 2779,
    "start_time": "2022-04-10T16:44:33.302Z"
   },
   {
    "duration": 553,
    "start_time": "2022-04-10T16:51:24.278Z"
   },
   {
    "duration": 229,
    "start_time": "2022-04-10T16:51:43.653Z"
   },
   {
    "duration": 211,
    "start_time": "2022-04-10T16:52:53.033Z"
   },
   {
    "duration": 161,
    "start_time": "2022-04-10T16:53:06.121Z"
   },
   {
    "duration": 5,
    "start_time": "2022-04-10T16:57:19.548Z"
   },
   {
    "duration": 955,
    "start_time": "2022-04-10T16:57:19.559Z"
   },
   {
    "duration": 143,
    "start_time": "2022-04-10T16:57:20.516Z"
   },
   {
    "duration": 80,
    "start_time": "2022-04-10T16:57:20.661Z"
   },
   {
    "duration": 6,
    "start_time": "2022-04-10T16:57:20.743Z"
   },
   {
    "duration": 45,
    "start_time": "2022-04-10T16:57:20.751Z"
   },
   {
    "duration": 6860,
    "start_time": "2022-04-10T16:57:20.798Z"
   },
   {
    "duration": 30,
    "start_time": "2022-04-10T16:57:27.659Z"
   },
   {
    "duration": 7,
    "start_time": "2022-04-10T16:57:27.690Z"
   },
   {
    "duration": 2179,
    "start_time": "2022-04-10T16:57:27.699Z"
   },
   {
    "duration": 72,
    "start_time": "2022-04-10T17:59:16.740Z"
   },
   {
    "duration": 69,
    "start_time": "2022-04-10T17:59:25.248Z"
   },
   {
    "duration": 48,
    "start_time": "2022-04-10T17:59:42.129Z"
   },
   {
    "duration": 5,
    "start_time": "2022-04-10T18:11:16.066Z"
   },
   {
    "duration": 1042,
    "start_time": "2022-04-10T18:11:16.076Z"
   },
   {
    "duration": 132,
    "start_time": "2022-04-10T18:11:17.120Z"
   },
   {
    "duration": 614,
    "start_time": "2022-04-10T18:11:17.253Z"
   },
   {
    "duration": 6,
    "start_time": "2022-04-10T18:11:17.869Z"
   },
   {
    "duration": 57,
    "start_time": "2022-04-10T18:11:17.877Z"
   },
   {
    "duration": 6315,
    "start_time": "2022-04-10T18:11:17.936Z"
   },
   {
    "duration": 29,
    "start_time": "2022-04-10T18:11:24.253Z"
   },
   {
    "duration": 7,
    "start_time": "2022-04-10T18:11:24.284Z"
   },
   {
    "duration": 2102,
    "start_time": "2022-04-10T18:11:24.293Z"
   },
   {
    "duration": 528,
    "start_time": "2022-04-10T18:11:38.208Z"
   },
   {
    "duration": 89,
    "start_time": "2022-04-10T18:15:19.391Z"
   },
   {
    "duration": 13,
    "start_time": "2022-04-10T18:16:55.574Z"
   },
   {
    "duration": 5,
    "start_time": "2022-04-10T18:16:59.211Z"
   },
   {
    "duration": 899,
    "start_time": "2022-04-10T18:16:59.223Z"
   },
   {
    "duration": 132,
    "start_time": "2022-04-10T18:17:00.124Z"
   },
   {
    "duration": 77,
    "start_time": "2022-04-10T18:17:00.257Z"
   },
   {
    "duration": 7,
    "start_time": "2022-04-10T18:17:00.336Z"
   },
   {
    "duration": 40,
    "start_time": "2022-04-10T18:17:00.345Z"
   },
   {
    "duration": 6947,
    "start_time": "2022-04-10T18:17:00.387Z"
   },
   {
    "duration": 30,
    "start_time": "2022-04-10T18:17:07.335Z"
   },
   {
    "duration": 7,
    "start_time": "2022-04-10T18:17:07.366Z"
   },
   {
    "duration": 2090,
    "start_time": "2022-04-10T18:17:07.375Z"
   },
   {
    "duration": 590,
    "start_time": "2022-04-10T18:17:33.203Z"
   },
   {
    "duration": 7406,
    "start_time": "2022-04-10T18:22:36.960Z"
   },
   {
    "duration": 7117,
    "start_time": "2022-04-10T18:23:08.740Z"
   },
   {
    "duration": 7282,
    "start_time": "2022-04-10T18:23:51.687Z"
   },
   {
    "duration": 6951,
    "start_time": "2022-04-10T18:25:44.524Z"
   },
   {
    "duration": 130,
    "start_time": "2022-04-10T18:27:29.224Z"
   },
   {
    "duration": 657,
    "start_time": "2022-04-10T18:28:52.308Z"
   },
   {
    "duration": 114,
    "start_time": "2022-04-10T18:28:58.691Z"
   },
   {
    "duration": 51,
    "start_time": "2022-04-11T08:45:21.828Z"
   },
   {
    "duration": 2429,
    "start_time": "2022-04-11T08:45:27.131Z"
   },
   {
    "duration": 997,
    "start_time": "2022-04-11T08:45:29.563Z"
   },
   {
    "duration": 154,
    "start_time": "2022-04-11T08:45:30.566Z"
   },
   {
    "duration": 82,
    "start_time": "2022-04-11T08:45:30.722Z"
   },
   {
    "duration": 11,
    "start_time": "2022-04-11T08:45:30.806Z"
   },
   {
    "duration": 60,
    "start_time": "2022-04-11T08:45:30.819Z"
   },
   {
    "duration": 6064,
    "start_time": "2022-04-11T08:45:30.881Z"
   },
   {
    "duration": 40,
    "start_time": "2022-04-11T08:45:36.947Z"
   },
   {
    "duration": 7,
    "start_time": "2022-04-11T08:45:36.988Z"
   },
   {
    "duration": 2200,
    "start_time": "2022-04-11T08:45:36.997Z"
   },
   {
    "duration": 621,
    "start_time": "2022-04-11T08:45:39.199Z"
   },
   {
    "duration": 6212,
    "start_time": "2022-04-11T08:45:57.562Z"
   },
   {
    "duration": 6435,
    "start_time": "2022-04-11T08:46:13.025Z"
   },
   {
    "duration": 86,
    "start_time": "2022-04-11T09:22:46.010Z"
   },
   {
    "duration": 5,
    "start_time": "2022-04-11T09:38:59.210Z"
   },
   {
    "duration": 1491,
    "start_time": "2022-04-11T09:39:01.403Z"
   },
   {
    "duration": 122,
    "start_time": "2022-04-11T09:39:21.016Z"
   },
   {
    "duration": 129,
    "start_time": "2022-04-11T09:39:24.876Z"
   },
   {
    "duration": 91,
    "start_time": "2022-04-11T10:06:54.530Z"
   },
   {
    "duration": 95,
    "start_time": "2022-04-11T10:07:05.388Z"
   },
   {
    "duration": 100,
    "start_time": "2022-04-11T10:07:37.259Z"
   },
   {
    "duration": 47,
    "start_time": "2022-04-11T11:21:22.484Z"
   },
   {
    "duration": 20,
    "start_time": "2022-04-11T11:21:59.921Z"
   },
   {
    "duration": 110,
    "start_time": "2022-04-11T11:29:27.967Z"
   },
   {
    "duration": 11,
    "start_time": "2022-04-11T11:29:45.303Z"
   },
   {
    "duration": 16,
    "start_time": "2022-04-11T11:30:38.845Z"
   },
   {
    "duration": 236,
    "start_time": "2022-04-11T11:30:57.404Z"
   },
   {
    "duration": 275,
    "start_time": "2022-04-11T11:31:12.120Z"
   },
   {
    "duration": 186,
    "start_time": "2022-04-11T11:33:53.738Z"
   },
   {
    "duration": 55,
    "start_time": "2022-04-11T11:34:01.103Z"
   },
   {
    "duration": 44,
    "start_time": "2022-04-11T11:35:19.967Z"
   },
   {
    "duration": 30,
    "start_time": "2022-04-11T11:35:34.382Z"
   },
   {
    "duration": 269,
    "start_time": "2022-04-11T11:37:27.367Z"
   },
   {
    "duration": 34,
    "start_time": "2022-04-11T11:37:59.757Z"
   },
   {
    "duration": 2449,
    "start_time": "2022-04-11T11:38:48.874Z"
   },
   {
    "duration": 2343,
    "start_time": "2022-04-11T11:45:16.816Z"
   },
   {
    "duration": 154,
    "start_time": "2022-04-11T11:45:30.517Z"
   },
   {
    "duration": 587,
    "start_time": "2022-04-11T11:45:49.662Z"
   },
   {
    "duration": 149,
    "start_time": "2022-04-11T11:45:56.978Z"
   },
   {
    "duration": 153,
    "start_time": "2022-04-11T11:47:13.888Z"
   },
   {
    "duration": 147,
    "start_time": "2022-04-11T11:47:20.584Z"
   },
   {
    "duration": 3,
    "start_time": "2022-04-11T11:54:33.360Z"
   },
   {
    "duration": 5,
    "start_time": "2022-04-11T11:54:40.053Z"
   },
   {
    "duration": 4,
    "start_time": "2022-04-11T11:55:14.227Z"
   },
   {
    "duration": 136,
    "start_time": "2022-04-11T11:55:22.038Z"
   },
   {
    "duration": 12,
    "start_time": "2022-04-11T11:55:51.451Z"
   },
   {
    "duration": 11,
    "start_time": "2022-04-11T11:55:54.070Z"
   },
   {
    "duration": 14,
    "start_time": "2022-04-11T11:57:10.592Z"
   },
   {
    "duration": 118,
    "start_time": "2022-04-11T11:59:01.449Z"
   },
   {
    "duration": 2472,
    "start_time": "2022-04-11T11:59:30.886Z"
   },
   {
    "duration": 5,
    "start_time": "2022-04-11T13:04:37.667Z"
   },
   {
    "duration": 956,
    "start_time": "2022-04-11T13:04:40.839Z"
   },
   {
    "duration": 119,
    "start_time": "2022-04-11T13:04:50.500Z"
   },
   {
    "duration": 88,
    "start_time": "2022-04-11T13:04:53.548Z"
   },
   {
    "duration": 96,
    "start_time": "2022-04-11T13:04:56.808Z"
   },
   {
    "duration": 23,
    "start_time": "2022-04-11T13:04:59.989Z"
   },
   {
    "duration": 19,
    "start_time": "2022-04-11T13:07:27.500Z"
   },
   {
    "duration": 26,
    "start_time": "2022-04-11T13:07:36.893Z"
   },
   {
    "duration": 26,
    "start_time": "2022-04-11T13:07:47.776Z"
   },
   {
    "duration": 28,
    "start_time": "2022-04-11T13:10:02.314Z"
   },
   {
    "duration": 11,
    "start_time": "2022-04-11T13:10:23.186Z"
   },
   {
    "duration": 14,
    "start_time": "2022-04-11T13:10:28.651Z"
   },
   {
    "duration": 10,
    "start_time": "2022-04-11T13:10:34.704Z"
   },
   {
    "duration": 37,
    "start_time": "2022-04-11T13:10:53.751Z"
   },
   {
    "duration": 36,
    "start_time": "2022-04-11T13:17:50.421Z"
   },
   {
    "duration": 5,
    "start_time": "2022-04-11T13:20:01.200Z"
   },
   {
    "duration": 129,
    "start_time": "2022-04-11T13:20:30.012Z"
   },
   {
    "duration": 78,
    "start_time": "2022-04-11T13:21:50.755Z"
   },
   {
    "duration": 80,
    "start_time": "2022-04-11T13:22:28.631Z"
   },
   {
    "duration": 81,
    "start_time": "2022-04-11T13:30:20.997Z"
   },
   {
    "duration": 87,
    "start_time": "2022-04-11T13:30:24.028Z"
   },
   {
    "duration": 75,
    "start_time": "2022-04-11T13:33:12.277Z"
   },
   {
    "duration": 6,
    "start_time": "2022-04-11T13:35:54.513Z"
   },
   {
    "duration": 943,
    "start_time": "2022-04-11T13:35:54.521Z"
   },
   {
    "duration": 142,
    "start_time": "2022-04-11T13:35:55.466Z"
   },
   {
    "duration": 165,
    "start_time": "2022-04-11T13:35:55.611Z"
   },
   {
    "duration": 188,
    "start_time": "2022-04-11T13:35:55.778Z"
   },
   {
    "duration": 21,
    "start_time": "2022-04-11T13:36:11.505Z"
   },
   {
    "duration": 5,
    "start_time": "2022-04-11T13:36:14.331Z"
   },
   {
    "duration": 196,
    "start_time": "2022-04-11T13:36:17.721Z"
   },
   {
    "duration": 152,
    "start_time": "2022-04-11T13:37:54.973Z"
   },
   {
    "duration": 11,
    "start_time": "2022-04-11T13:40:24.855Z"
   },
   {
    "duration": 5,
    "start_time": "2022-04-11T13:40:43.311Z"
   },
   {
    "duration": 6,
    "start_time": "2022-04-11T13:41:35.216Z"
   },
   {
    "duration": 966,
    "start_time": "2022-04-11T13:41:35.274Z"
   },
   {
    "duration": 141,
    "start_time": "2022-04-11T13:41:36.242Z"
   },
   {
    "duration": 98,
    "start_time": "2022-04-11T13:41:36.385Z"
   },
   {
    "duration": 138,
    "start_time": "2022-04-11T13:41:36.485Z"
   },
   {
    "duration": 26,
    "start_time": "2022-04-11T13:41:36.625Z"
   },
   {
    "duration": 33,
    "start_time": "2022-04-11T13:41:36.653Z"
   },
   {
    "duration": 5,
    "start_time": "2022-04-11T13:41:41.960Z"
   },
   {
    "duration": 197,
    "start_time": "2022-04-11T13:41:43.177Z"
   },
   {
    "duration": 16,
    "start_time": "2022-04-11T13:42:18.405Z"
   },
   {
    "duration": 183,
    "start_time": "2022-04-11T13:44:52.329Z"
   },
   {
    "duration": 127,
    "start_time": "2022-04-11T13:59:16.684Z"
   },
   {
    "duration": 140,
    "start_time": "2022-04-11T14:02:08.202Z"
   },
   {
    "duration": 2598,
    "start_time": "2022-04-11T14:03:18.672Z"
   },
   {
    "duration": 232,
    "start_time": "2022-04-11T14:04:28.829Z"
   },
   {
    "duration": 197,
    "start_time": "2022-04-11T14:04:36.725Z"
   },
   {
    "duration": 172,
    "start_time": "2022-04-11T14:29:17.277Z"
   },
   {
    "duration": 88,
    "start_time": "2022-04-11T14:30:01.637Z"
   },
   {
    "duration": 6,
    "start_time": "2022-04-11T14:30:55.838Z"
   },
   {
    "duration": 904,
    "start_time": "2022-04-11T14:30:55.846Z"
   },
   {
    "duration": 135,
    "start_time": "2022-04-11T14:30:56.752Z"
   },
   {
    "duration": 95,
    "start_time": "2022-04-11T14:30:56.889Z"
   },
   {
    "duration": 108,
    "start_time": "2022-04-11T14:30:56.986Z"
   },
   {
    "duration": 192,
    "start_time": "2022-04-11T14:30:57.095Z"
   },
   {
    "duration": 265,
    "start_time": "2022-04-11T14:31:29.023Z"
   },
   {
    "duration": 69,
    "start_time": "2022-04-11T14:31:35.074Z"
   },
   {
    "duration": 7,
    "start_time": "2022-04-11T14:38:56.043Z"
   },
   {
    "duration": 40,
    "start_time": "2022-04-11T14:39:02.668Z"
   },
   {
    "duration": 7557,
    "start_time": "2022-04-11T14:39:43.127Z"
   },
   {
    "duration": 29,
    "start_time": "2022-04-11T14:39:59.158Z"
   },
   {
    "duration": 8,
    "start_time": "2022-04-11T14:40:02.209Z"
   },
   {
    "duration": 2167,
    "start_time": "2022-04-11T14:40:07.353Z"
   },
   {
    "duration": 621,
    "start_time": "2022-04-11T14:41:44.493Z"
   },
   {
    "duration": 6494,
    "start_time": "2022-04-11T14:42:49.191Z"
   },
   {
    "duration": 10,
    "start_time": "2022-04-11T14:55:20.026Z"
   },
   {
    "duration": 8,
    "start_time": "2022-04-11T14:55:28.338Z"
   },
   {
    "duration": 25,
    "start_time": "2022-04-11T15:15:01.367Z"
   },
   {
    "duration": 28,
    "start_time": "2022-04-11T15:19:21.911Z"
   },
   {
    "duration": 88,
    "start_time": "2022-04-11T15:19:31.544Z"
   },
   {
    "duration": 6,
    "start_time": "2022-04-11T15:29:25.342Z"
   },
   {
    "duration": 6,
    "start_time": "2022-04-11T15:29:43.111Z"
   },
   {
    "duration": 90,
    "start_time": "2022-04-11T15:33:29.026Z"
   },
   {
    "duration": 1139,
    "start_time": "2022-04-11T16:58:24.751Z"
   },
   {
    "duration": 619,
    "start_time": "2022-04-11T17:01:24.814Z"
   },
   {
    "duration": 348,
    "start_time": "2022-04-11T17:13:32.666Z"
   },
   {
    "duration": 330,
    "start_time": "2022-04-11T17:15:28.899Z"
   },
   {
    "duration": 314,
    "start_time": "2022-04-11T17:16:37.291Z"
   },
   {
    "duration": 9,
    "start_time": "2022-04-11T17:18:35.784Z"
   },
   {
    "duration": 1145,
    "start_time": "2022-04-11T17:18:35.796Z"
   },
   {
    "duration": 140,
    "start_time": "2022-04-11T17:18:36.943Z"
   },
   {
    "duration": 93,
    "start_time": "2022-04-11T17:18:37.085Z"
   },
   {
    "duration": 114,
    "start_time": "2022-04-11T17:18:37.180Z"
   },
   {
    "duration": 191,
    "start_time": "2022-04-11T17:18:37.296Z"
   },
   {
    "duration": 86,
    "start_time": "2022-04-11T17:18:37.489Z"
   },
   {
    "duration": 7,
    "start_time": "2022-04-11T17:18:37.577Z"
   },
   {
    "duration": 67,
    "start_time": "2022-04-11T17:18:37.586Z"
   },
   {
    "duration": 6597,
    "start_time": "2022-04-11T17:18:37.655Z"
   },
   {
    "duration": 36,
    "start_time": "2022-04-11T17:18:44.255Z"
   },
   {
    "duration": 29,
    "start_time": "2022-04-11T17:18:44.292Z"
   },
   {
    "duration": 2273,
    "start_time": "2022-04-11T17:18:44.323Z"
   },
   {
    "duration": 671,
    "start_time": "2022-04-11T17:18:46.597Z"
   },
   {
    "duration": 27,
    "start_time": "2022-04-11T17:18:47.269Z"
   },
   {
    "duration": 22,
    "start_time": "2022-04-11T17:18:47.298Z"
   },
   {
    "duration": 115,
    "start_time": "2022-04-11T17:18:47.322Z"
   },
   {
    "duration": 3863,
    "start_time": "2022-04-11T17:18:47.439Z"
   },
   {
    "duration": 1540,
    "start_time": "2022-04-11T17:18:51.304Z"
   },
   {
    "duration": 207,
    "start_time": "2022-04-11T17:19:13.595Z"
   },
   {
    "duration": 3249,
    "start_time": "2022-04-11T17:19:21.380Z"
   },
   {
    "duration": 1477,
    "start_time": "2022-04-11T17:19:24.632Z"
   },
   {
    "duration": 217,
    "start_time": "2022-04-11T17:19:26.119Z"
   },
   {
    "duration": 111,
    "start_time": "2022-04-11T17:19:26.339Z"
   },
   {
    "duration": 286,
    "start_time": "2022-04-11T17:19:26.452Z"
   },
   {
    "duration": 219,
    "start_time": "2022-04-11T17:19:26.739Z"
   },
   {
    "duration": 105,
    "start_time": "2022-04-11T17:19:26.960Z"
   },
   {
    "duration": 8,
    "start_time": "2022-04-11T17:19:27.067Z"
   },
   {
    "duration": 77,
    "start_time": "2022-04-11T17:19:27.077Z"
   },
   {
    "duration": 6779,
    "start_time": "2022-04-11T17:19:27.161Z"
   },
   {
    "duration": 45,
    "start_time": "2022-04-11T17:19:33.942Z"
   },
   {
    "duration": 8,
    "start_time": "2022-04-11T17:19:33.989Z"
   },
   {
    "duration": 2363,
    "start_time": "2022-04-11T17:19:34.018Z"
   },
   {
    "duration": 648,
    "start_time": "2022-04-11T17:19:36.383Z"
   },
   {
    "duration": 28,
    "start_time": "2022-04-11T17:19:37.033Z"
   },
   {
    "duration": 7,
    "start_time": "2022-04-11T17:19:37.064Z"
   },
   {
    "duration": 127,
    "start_time": "2022-04-11T17:19:37.073Z"
   },
   {
    "duration": 3810,
    "start_time": "2022-04-11T17:19:37.202Z"
   },
   {
    "duration": 1480,
    "start_time": "2022-04-11T17:19:41.014Z"
   },
   {
    "duration": 221,
    "start_time": "2022-04-11T17:20:08.503Z"
   },
   {
    "duration": 2644,
    "start_time": "2022-04-12T11:19:10.574Z"
   },
   {
    "duration": 1331,
    "start_time": "2022-04-12T11:19:13.220Z"
   },
   {
    "duration": 192,
    "start_time": "2022-04-12T11:22:43.832Z"
   },
   {
    "duration": 114,
    "start_time": "2022-04-12T11:22:48.607Z"
   },
   {
    "duration": 130,
    "start_time": "2022-04-12T11:22:50.734Z"
   },
   {
    "duration": 146,
    "start_time": "2022-04-12T11:23:28.759Z"
   },
   {
    "duration": 262,
    "start_time": "2022-04-12T11:23:56.643Z"
   },
   {
    "duration": 102,
    "start_time": "2022-04-12T11:24:00.131Z"
   },
   {
    "duration": 10,
    "start_time": "2022-04-12T11:24:08.686Z"
   },
   {
    "duration": 91,
    "start_time": "2022-04-12T11:24:14.120Z"
   },
   {
    "duration": 11436,
    "start_time": "2022-04-12T11:24:18.499Z"
   },
   {
    "duration": 69,
    "start_time": "2022-04-12T11:24:47.235Z"
   },
   {
    "duration": 10,
    "start_time": "2022-04-12T11:25:00.831Z"
   },
   {
    "duration": 3891,
    "start_time": "2022-04-12T11:25:01.959Z"
   },
   {
    "duration": 895,
    "start_time": "2022-04-12T11:25:05.853Z"
   },
   {
    "duration": 62,
    "start_time": "2022-04-12T11:25:06.750Z"
   },
   {
    "duration": 8,
    "start_time": "2022-04-12T11:25:06.815Z"
   },
   {
    "duration": 129,
    "start_time": "2022-04-12T11:25:06.972Z"
   },
   {
    "duration": 3489,
    "start_time": "2022-04-12T11:29:20.743Z"
   },
   {
    "duration": 1918,
    "start_time": "2022-04-12T11:29:24.234Z"
   },
   {
    "duration": 172,
    "start_time": "2022-04-12T11:29:44.563Z"
   },
   {
    "duration": 2295,
    "start_time": "2022-04-12T11:29:48.728Z"
   },
   {
    "duration": 1290,
    "start_time": "2022-04-12T11:29:51.026Z"
   },
   {
    "duration": 209,
    "start_time": "2022-04-12T11:29:52.318Z"
   },
   {
    "duration": 122,
    "start_time": "2022-04-12T11:29:52.529Z"
   },
   {
    "duration": 146,
    "start_time": "2022-04-12T11:29:52.654Z"
   },
   {
    "duration": 240,
    "start_time": "2022-04-12T11:29:52.803Z"
   },
   {
    "duration": 104,
    "start_time": "2022-04-12T11:29:53.046Z"
   },
   {
    "duration": 28,
    "start_time": "2022-04-12T11:29:53.152Z"
   },
   {
    "duration": 91,
    "start_time": "2022-04-12T11:29:53.182Z"
   },
   {
    "duration": 10029,
    "start_time": "2022-04-12T11:29:53.276Z"
   },
   {
    "duration": 77,
    "start_time": "2022-04-12T11:30:03.307Z"
   },
   {
    "duration": 8,
    "start_time": "2022-04-12T11:30:03.389Z"
   },
   {
    "duration": 3830,
    "start_time": "2022-04-12T11:30:03.399Z"
   },
   {
    "duration": 923,
    "start_time": "2022-04-12T11:30:07.232Z"
   },
   {
    "duration": 51,
    "start_time": "2022-04-12T11:30:08.157Z"
   },
   {
    "duration": 6,
    "start_time": "2022-04-12T11:30:08.211Z"
   },
   {
    "duration": 155,
    "start_time": "2022-04-12T11:30:08.219Z"
   },
   {
    "duration": 2860,
    "start_time": "2022-04-12T11:30:08.376Z"
   },
   {
    "duration": 1924,
    "start_time": "2022-04-12T11:30:11.238Z"
   },
   {
    "duration": 2321,
    "start_time": "2022-04-12T11:31:39.372Z"
   },
   {
    "duration": 1308,
    "start_time": "2022-04-12T11:31:41.695Z"
   },
   {
    "duration": 206,
    "start_time": "2022-04-12T11:31:43.005Z"
   },
   {
    "duration": 123,
    "start_time": "2022-04-12T11:31:43.213Z"
   },
   {
    "duration": 158,
    "start_time": "2022-04-12T11:31:43.339Z"
   },
   {
    "duration": 242,
    "start_time": "2022-04-12T11:31:43.499Z"
   },
   {
    "duration": 104,
    "start_time": "2022-04-12T11:31:43.743Z"
   },
   {
    "duration": 8,
    "start_time": "2022-04-12T11:31:43.849Z"
   },
   {
    "duration": 95,
    "start_time": "2022-04-12T11:31:43.859Z"
   },
   {
    "duration": 10317,
    "start_time": "2022-04-12T11:31:43.956Z"
   },
   {
    "duration": 66,
    "start_time": "2022-04-12T11:31:54.276Z"
   },
   {
    "duration": 8,
    "start_time": "2022-04-12T11:31:54.344Z"
   },
   {
    "duration": 3659,
    "start_time": "2022-04-12T11:31:54.381Z"
   },
   {
    "duration": 860,
    "start_time": "2022-04-12T11:31:58.043Z"
   },
   {
    "duration": 42,
    "start_time": "2022-04-12T11:31:58.905Z"
   },
   {
    "duration": 24,
    "start_time": "2022-04-12T11:31:58.950Z"
   },
   {
    "duration": 143,
    "start_time": "2022-04-12T11:31:58.976Z"
   },
   {
    "duration": 3723,
    "start_time": "2022-04-12T11:31:59.122Z"
   },
   {
    "duration": 1912,
    "start_time": "2022-04-12T11:32:02.847Z"
   },
   {
    "duration": 1574,
    "start_time": "2022-04-12T11:34:16.627Z"
   },
   {
    "duration": 2448,
    "start_time": "2022-04-12T11:41:07.105Z"
   },
   {
    "duration": 1398,
    "start_time": "2022-04-12T11:41:09.556Z"
   },
   {
    "duration": 199,
    "start_time": "2022-04-12T11:41:10.956Z"
   },
   {
    "duration": 123,
    "start_time": "2022-04-12T11:41:11.157Z"
   },
   {
    "duration": 137,
    "start_time": "2022-04-12T11:41:11.283Z"
   },
   {
    "duration": 243,
    "start_time": "2022-04-12T11:41:11.422Z"
   },
   {
    "duration": 98,
    "start_time": "2022-04-12T11:41:11.667Z"
   },
   {
    "duration": 9,
    "start_time": "2022-04-12T11:41:11.767Z"
   },
   {
    "duration": 97,
    "start_time": "2022-04-12T11:41:11.778Z"
   },
   {
    "duration": 11630,
    "start_time": "2022-04-12T11:41:11.877Z"
   },
   {
    "duration": 75,
    "start_time": "2022-04-12T11:41:23.510Z"
   },
   {
    "duration": 9,
    "start_time": "2022-04-12T11:41:23.587Z"
   },
   {
    "duration": 3856,
    "start_time": "2022-04-12T11:41:23.599Z"
   },
   {
    "duration": 916,
    "start_time": "2022-04-12T11:41:27.458Z"
   },
   {
    "duration": 42,
    "start_time": "2022-04-12T11:41:28.376Z"
   },
   {
    "duration": 7,
    "start_time": "2022-04-12T11:41:28.420Z"
   },
   {
    "duration": 147,
    "start_time": "2022-04-12T11:41:28.429Z"
   },
   {
    "duration": 4348,
    "start_time": "2022-04-12T11:41:28.578Z"
   },
   {
    "duration": 2183,
    "start_time": "2022-04-12T11:41:32.928Z"
   },
   {
    "duration": 2386,
    "start_time": "2022-04-12T11:44:10.887Z"
   },
   {
    "duration": 14,
    "start_time": "2022-04-12T12:17:25.230Z"
   },
   {
    "duration": 1781,
    "start_time": "2022-04-12T12:17:25.247Z"
   },
   {
    "duration": 278,
    "start_time": "2022-04-12T12:17:27.031Z"
   },
   {
    "duration": 205,
    "start_time": "2022-04-12T12:17:27.312Z"
   },
   {
    "duration": 182,
    "start_time": "2022-04-12T12:17:27.520Z"
   },
   {
    "duration": 231,
    "start_time": "2022-04-12T12:17:27.704Z"
   },
   {
    "duration": 94,
    "start_time": "2022-04-12T12:17:27.937Z"
   },
   {
    "duration": 25,
    "start_time": "2022-04-12T12:17:28.033Z"
   },
   {
    "duration": 99,
    "start_time": "2022-04-12T12:17:28.060Z"
   },
   {
    "duration": 10622,
    "start_time": "2022-04-12T12:17:28.161Z"
   },
   {
    "duration": 76,
    "start_time": "2022-04-12T12:17:38.787Z"
   },
   {
    "duration": 10,
    "start_time": "2022-04-12T12:17:38.865Z"
   },
   {
    "duration": 3669,
    "start_time": "2022-04-12T12:17:38.878Z"
   },
   {
    "duration": 870,
    "start_time": "2022-04-12T12:17:42.552Z"
   },
   {
    "duration": 57,
    "start_time": "2022-04-12T12:17:43.424Z"
   },
   {
    "duration": 7,
    "start_time": "2022-04-12T12:17:43.484Z"
   },
   {
    "duration": 140,
    "start_time": "2022-04-12T12:17:43.493Z"
   },
   {
    "duration": 3703,
    "start_time": "2022-04-12T12:17:43.636Z"
   },
   {
    "duration": 1875,
    "start_time": "2022-04-12T12:17:47.341Z"
   },
   {
    "duration": 2363,
    "start_time": "2022-04-12T13:01:27.157Z"
   },
   {
    "duration": 1388,
    "start_time": "2022-04-12T13:01:29.523Z"
   },
   {
    "duration": 198,
    "start_time": "2022-04-12T13:01:30.913Z"
   },
   {
    "duration": 118,
    "start_time": "2022-04-12T13:01:31.113Z"
   },
   {
    "duration": 149,
    "start_time": "2022-04-12T13:01:31.234Z"
   },
   {
    "duration": 242,
    "start_time": "2022-04-12T13:01:31.385Z"
   },
   {
    "duration": 102,
    "start_time": "2022-04-12T13:01:31.629Z"
   },
   {
    "duration": 20,
    "start_time": "2022-04-12T13:01:31.733Z"
   },
   {
    "duration": 101,
    "start_time": "2022-04-12T13:01:31.755Z"
   },
   {
    "duration": 15362,
    "start_time": "2022-04-12T13:01:31.858Z"
   },
   {
    "duration": 92,
    "start_time": "2022-04-12T13:01:47.223Z"
   },
   {
    "duration": 9,
    "start_time": "2022-04-12T13:01:47.318Z"
   },
   {
    "duration": 3780,
    "start_time": "2022-04-12T13:01:47.330Z"
   },
   {
    "duration": 883,
    "start_time": "2022-04-12T13:01:51.114Z"
   },
   {
    "duration": 55,
    "start_time": "2022-04-12T13:01:51.999Z"
   },
   {
    "duration": 7,
    "start_time": "2022-04-12T13:01:52.057Z"
   },
   {
    "duration": 134,
    "start_time": "2022-04-12T13:01:52.066Z"
   },
   {
    "duration": 4286,
    "start_time": "2022-04-12T13:01:52.203Z"
   },
   {
    "duration": 1870,
    "start_time": "2022-04-12T13:01:56.491Z"
   },
   {
    "duration": 78,
    "start_time": "2022-04-12T13:48:35.365Z"
   },
   {
    "duration": 8,
    "start_time": "2022-04-12T13:48:45.307Z"
   },
   {
    "duration": 9,
    "start_time": "2022-04-12T13:48:57.666Z"
   },
   {
    "duration": 12,
    "start_time": "2022-04-12T13:49:05.011Z"
   },
   {
    "duration": 2822,
    "start_time": "2022-04-12T13:49:13.965Z"
   },
   {
    "duration": 133,
    "start_time": "2022-04-12T13:49:19.728Z"
   },
   {
    "duration": 13,
    "start_time": "2022-04-12T13:49:41.771Z"
   },
   {
    "duration": 11,
    "start_time": "2022-04-12T13:49:49.595Z"
   },
   {
    "duration": 4,
    "start_time": "2022-04-12T13:50:05.443Z"
   },
   {
    "duration": 12,
    "start_time": "2022-04-12T13:50:07.006Z"
   },
   {
    "duration": 12,
    "start_time": "2022-04-12T13:50:16.523Z"
   },
   {
    "duration": 12,
    "start_time": "2022-04-12T13:50:22.073Z"
   },
   {
    "duration": 11,
    "start_time": "2022-04-12T13:52:56.167Z"
   },
   {
    "duration": 14,
    "start_time": "2022-04-12T13:53:11.890Z"
   },
   {
    "duration": 8,
    "start_time": "2022-04-12T13:53:55.377Z"
   },
   {
    "duration": 13,
    "start_time": "2022-04-12T13:54:00.246Z"
   },
   {
    "duration": 15,
    "start_time": "2022-04-12T13:54:07.979Z"
   },
   {
    "duration": 15,
    "start_time": "2022-04-12T13:54:11.080Z"
   },
   {
    "duration": 8,
    "start_time": "2022-04-12T13:54:19.229Z"
   },
   {
    "duration": 6,
    "start_time": "2022-04-12T13:54:30.745Z"
   },
   {
    "duration": 10,
    "start_time": "2022-04-12T13:54:33.215Z"
   },
   {
    "duration": 8,
    "start_time": "2022-04-12T13:55:00.369Z"
   },
   {
    "duration": 15,
    "start_time": "2022-04-12T13:55:06.064Z"
   },
   {
    "duration": 19,
    "start_time": "2022-04-12T13:55:16.476Z"
   },
   {
    "duration": 14,
    "start_time": "2022-04-12T13:55:22.325Z"
   },
   {
    "duration": 12,
    "start_time": "2022-04-12T13:55:32.685Z"
   },
   {
    "duration": 11,
    "start_time": "2022-04-12T13:55:37.380Z"
   },
   {
    "duration": 12,
    "start_time": "2022-04-12T13:55:41.673Z"
   },
   {
    "duration": 13,
    "start_time": "2022-04-12T13:55:53.230Z"
   },
   {
    "duration": 11,
    "start_time": "2022-04-12T13:55:56.305Z"
   },
   {
    "duration": 13,
    "start_time": "2022-04-12T13:56:00.559Z"
   },
   {
    "duration": 24,
    "start_time": "2022-04-12T13:56:07.263Z"
   },
   {
    "duration": 19,
    "start_time": "2022-04-12T13:56:12.780Z"
   },
   {
    "duration": 96,
    "start_time": "2022-04-12T13:58:07.902Z"
   },
   {
    "duration": 94,
    "start_time": "2022-04-12T13:58:12.615Z"
   },
   {
    "duration": 549,
    "start_time": "2022-04-12T13:58:21.501Z"
   },
   {
    "duration": 18,
    "start_time": "2022-04-12T13:58:46.679Z"
   },
   {
    "duration": 21,
    "start_time": "2022-04-12T13:58:51.319Z"
   },
   {
    "duration": 23,
    "start_time": "2022-04-12T13:58:59.808Z"
   },
   {
    "duration": 11,
    "start_time": "2022-04-12T13:59:07.781Z"
   },
   {
    "duration": 23,
    "start_time": "2022-04-12T14:01:12.898Z"
   },
   {
    "duration": 19,
    "start_time": "2022-04-12T14:01:57.580Z"
   },
   {
    "duration": 403,
    "start_time": "2022-04-12T14:02:13.698Z"
   },
   {
    "duration": 31,
    "start_time": "2022-04-12T14:02:22.415Z"
   },
   {
    "duration": 405,
    "start_time": "2022-04-12T14:02:41.151Z"
   },
   {
    "duration": 20,
    "start_time": "2022-04-12T14:02:47.256Z"
   },
   {
    "duration": 1725,
    "start_time": "2022-04-12T14:02:53.961Z"
   },
   {
    "duration": 15,
    "start_time": "2022-04-12T14:03:02.994Z"
   },
   {
    "duration": 18,
    "start_time": "2022-04-12T14:03:07.768Z"
   },
   {
    "duration": 24,
    "start_time": "2022-04-12T14:03:36.669Z"
   },
   {
    "duration": 30,
    "start_time": "2022-04-12T14:03:51.098Z"
   },
   {
    "duration": 29,
    "start_time": "2022-04-12T14:04:05.761Z"
   },
   {
    "duration": 2315,
    "start_time": "2022-04-12T14:11:20.179Z"
   },
   {
    "duration": 2126,
    "start_time": "2022-04-12T14:14:00.076Z"
   },
   {
    "duration": 1684,
    "start_time": "2022-04-12T14:22:34.031Z"
   },
   {
    "duration": 1357,
    "start_time": "2022-04-12T14:40:03.870Z"
   },
   {
    "duration": 6921,
    "start_time": "2022-04-12T14:40:50.370Z"
   },
   {
    "duration": 10,
    "start_time": "2022-04-12T15:31:42.160Z"
   },
   {
    "duration": 1216,
    "start_time": "2022-04-12T15:31:51.289Z"
   },
   {
    "duration": 10,
    "start_time": "2022-04-12T15:32:11.509Z"
   },
   {
    "duration": 1236,
    "start_time": "2022-04-12T15:32:13.977Z"
   },
   {
    "duration": 165,
    "start_time": "2022-04-12T15:32:18.573Z"
   },
   {
    "duration": 103,
    "start_time": "2022-04-12T15:32:21.789Z"
   },
   {
    "duration": 124,
    "start_time": "2022-04-12T15:32:25.313Z"
   },
   {
    "duration": 217,
    "start_time": "2022-04-12T15:32:56.074Z"
   },
   {
    "duration": 94,
    "start_time": "2022-04-12T15:33:02.240Z"
   },
   {
    "duration": 8,
    "start_time": "2022-04-12T15:33:08.274Z"
   },
   {
    "duration": 87,
    "start_time": "2022-04-12T15:33:13.051Z"
   },
   {
    "duration": 11009,
    "start_time": "2022-04-12T15:35:02.207Z"
   },
   {
    "duration": 71,
    "start_time": "2022-04-12T15:35:13.218Z"
   },
   {
    "duration": 9,
    "start_time": "2022-04-12T15:35:13.291Z"
   },
   {
    "duration": 3990,
    "start_time": "2022-04-12T15:35:13.302Z"
   },
   {
    "duration": 1218,
    "start_time": "2022-04-12T15:35:17.294Z"
   },
   {
    "duration": 15,
    "start_time": "2022-04-12T15:35:50.849Z"
   },
   {
    "duration": 1304,
    "start_time": "2022-04-12T15:35:50.902Z"
   },
   {
    "duration": 186,
    "start_time": "2022-04-12T15:35:52.208Z"
   },
   {
    "duration": 124,
    "start_time": "2022-04-12T15:35:52.396Z"
   },
   {
    "duration": 164,
    "start_time": "2022-04-12T15:35:52.522Z"
   },
   {
    "duration": 280,
    "start_time": "2022-04-12T15:35:52.690Z"
   },
   {
    "duration": 101,
    "start_time": "2022-04-12T15:35:52.972Z"
   },
   {
    "duration": 9,
    "start_time": "2022-04-12T15:35:53.075Z"
   },
   {
    "duration": 102,
    "start_time": "2022-04-12T15:35:53.087Z"
   },
   {
    "duration": 11099,
    "start_time": "2022-04-12T15:35:53.192Z"
   },
   {
    "duration": 73,
    "start_time": "2022-04-12T15:36:04.294Z"
   },
   {
    "duration": 11,
    "start_time": "2022-04-12T15:36:04.370Z"
   },
   {
    "duration": 9,
    "start_time": "2022-04-12T15:36:30.567Z"
   },
   {
    "duration": 11238,
    "start_time": "2022-04-12T15:36:31.933Z"
   },
   {
    "duration": 1345,
    "start_time": "2022-04-12T15:37:04.852Z"
   },
   {
    "duration": 337,
    "start_time": "2022-04-12T15:37:09.438Z"
   },
   {
    "duration": 906,
    "start_time": "2022-04-12T15:37:12.838Z"
   },
   {
    "duration": 229,
    "start_time": "2022-04-12T15:37:17.512Z"
   },
   {
    "duration": 253,
    "start_time": "2022-04-12T15:37:22.636Z"
   },
   {
    "duration": 259,
    "start_time": "2022-04-12T15:37:28.415Z"
   },
   {
    "duration": 276,
    "start_time": "2022-04-12T15:37:36.534Z"
   },
   {
    "duration": 280,
    "start_time": "2022-04-12T15:38:04.161Z"
   },
   {
    "duration": 3690,
    "start_time": "2022-04-12T15:38:15.123Z"
   },
   {
    "duration": 265,
    "start_time": "2022-04-12T15:38:22.021Z"
   },
   {
    "duration": 264,
    "start_time": "2022-04-12T15:38:34.280Z"
   },
   {
    "duration": 398,
    "start_time": "2022-04-12T15:39:07.265Z"
   },
   {
    "duration": 404,
    "start_time": "2022-04-12T15:39:43.243Z"
   },
   {
    "duration": 10,
    "start_time": "2022-04-12T15:39:49.657Z"
   },
   {
    "duration": 1219,
    "start_time": "2022-04-12T15:39:49.670Z"
   },
   {
    "duration": 187,
    "start_time": "2022-04-12T15:39:50.892Z"
   },
   {
    "duration": 114,
    "start_time": "2022-04-12T15:39:51.082Z"
   },
   {
    "duration": 144,
    "start_time": "2022-04-12T15:39:51.199Z"
   },
   {
    "duration": 234,
    "start_time": "2022-04-12T15:39:51.351Z"
   },
   {
    "duration": 94,
    "start_time": "2022-04-12T15:39:51.587Z"
   },
   {
    "duration": 9,
    "start_time": "2022-04-12T15:39:51.683Z"
   },
   {
    "duration": 81,
    "start_time": "2022-04-12T15:39:51.694Z"
   },
   {
    "duration": 10448,
    "start_time": "2022-04-12T15:39:51.777Z"
   },
   {
    "duration": 66,
    "start_time": "2022-04-12T15:40:02.228Z"
   },
   {
    "duration": 9,
    "start_time": "2022-04-12T15:40:02.297Z"
   },
   {
    "duration": 286,
    "start_time": "2022-04-12T15:40:02.308Z"
   },
   {
    "duration": 3814,
    "start_time": "2022-04-12T15:40:02.598Z"
   },
   {
    "duration": 262,
    "start_time": "2022-04-12T15:40:06.414Z"
   },
   {
    "duration": 1028,
    "start_time": "2022-04-12T15:40:06.679Z"
   },
   {
    "duration": 55,
    "start_time": "2022-04-12T15:40:07.710Z"
   },
   {
    "duration": 7,
    "start_time": "2022-04-12T15:40:07.767Z"
   },
   {
    "duration": 138,
    "start_time": "2022-04-12T15:40:07.776Z"
   },
   {
    "duration": 3516,
    "start_time": "2022-04-12T15:40:07.916Z"
   },
   {
    "duration": 1930,
    "start_time": "2022-04-12T15:40:11.434Z"
   },
   {
    "duration": 73,
    "start_time": "2022-04-12T15:44:01.433Z"
   },
   {
    "duration": 2267,
    "start_time": "2022-04-12T15:44:06.202Z"
   },
   {
    "duration": 1270,
    "start_time": "2022-04-12T15:44:08.472Z"
   },
   {
    "duration": 198,
    "start_time": "2022-04-12T15:44:09.744Z"
   },
   {
    "duration": 121,
    "start_time": "2022-04-12T15:44:09.944Z"
   },
   {
    "duration": 147,
    "start_time": "2022-04-12T15:44:10.068Z"
   },
   {
    "duration": 238,
    "start_time": "2022-04-12T15:44:10.217Z"
   },
   {
    "duration": 102,
    "start_time": "2022-04-12T15:44:10.457Z"
   },
   {
    "duration": 8,
    "start_time": "2022-04-12T15:44:10.561Z"
   },
   {
    "duration": 97,
    "start_time": "2022-04-12T15:44:10.571Z"
   },
   {
    "duration": 10468,
    "start_time": "2022-04-12T15:44:15.470Z"
   },
   {
    "duration": 12621,
    "start_time": "2022-04-12T15:45:51.397Z"
   },
   {
    "duration": 274,
    "start_time": "2022-04-12T15:49:00.291Z"
   },
   {
    "duration": 267,
    "start_time": "2022-04-12T15:49:09.306Z"
   },
   {
    "duration": 795,
    "start_time": "2022-04-12T15:49:22.244Z"
   },
   {
    "duration": 18,
    "start_time": "2022-04-12T15:49:41.789Z"
   },
   {
    "duration": 1508,
    "start_time": "2022-04-12T15:49:41.810Z"
   },
   {
    "duration": 183,
    "start_time": "2022-04-12T15:49:43.321Z"
   },
   {
    "duration": 226,
    "start_time": "2022-04-12T15:49:43.506Z"
   },
   {
    "duration": 190,
    "start_time": "2022-04-12T15:49:43.737Z"
   },
   {
    "duration": 425,
    "start_time": "2022-04-12T15:49:43.930Z"
   },
   {
    "duration": 106,
    "start_time": "2022-04-12T15:49:44.357Z"
   },
   {
    "duration": 9,
    "start_time": "2022-04-12T15:49:44.466Z"
   },
   {
    "duration": 108,
    "start_time": "2022-04-12T15:49:44.477Z"
   },
   {
    "duration": 13445,
    "start_time": "2022-04-12T15:49:44.587Z"
   },
   {
    "duration": 70,
    "start_time": "2022-04-12T15:49:58.035Z"
   },
   {
    "duration": 11,
    "start_time": "2022-04-12T15:49:58.108Z"
   },
   {
    "duration": 416,
    "start_time": "2022-04-12T15:49:58.122Z"
   },
   {
    "duration": 5516,
    "start_time": "2022-04-12T15:49:58.542Z"
   },
   {
    "duration": 3883,
    "start_time": "2022-04-12T15:50:08.032Z"
   },
   {
    "duration": 335,
    "start_time": "2022-04-12T15:50:11.917Z"
   },
   {
    "duration": 1006,
    "start_time": "2022-04-12T15:55:13.110Z"
   },
   {
    "duration": 44,
    "start_time": "2022-04-12T15:55:20.477Z"
   },
   {
    "duration": 7,
    "start_time": "2022-04-12T15:56:10.594Z"
   },
   {
    "duration": 123,
    "start_time": "2022-04-12T15:56:15.366Z"
   },
   {
    "duration": 3180,
    "start_time": "2022-04-12T15:59:09.383Z"
   },
   {
    "duration": 2074,
    "start_time": "2022-04-12T16:02:18.647Z"
   },
   {
    "duration": 1826,
    "start_time": "2022-04-12T16:02:43.852Z"
   },
   {
    "duration": 1660,
    "start_time": "2022-04-12T16:02:51.953Z"
   },
   {
    "duration": 176,
    "start_time": "2022-04-12T16:25:09.086Z"
   },
   {
    "duration": 2939,
    "start_time": "2022-04-12T16:25:17.827Z"
   },
   {
    "duration": 1301,
    "start_time": "2022-04-12T16:25:20.769Z"
   },
   {
    "duration": 200,
    "start_time": "2022-04-12T16:25:22.073Z"
   },
   {
    "duration": 115,
    "start_time": "2022-04-12T16:25:22.276Z"
   },
   {
    "duration": 138,
    "start_time": "2022-04-12T16:25:22.394Z"
   },
   {
    "duration": 239,
    "start_time": "2022-04-12T16:25:22.534Z"
   },
   {
    "duration": 105,
    "start_time": "2022-04-12T16:25:22.775Z"
   },
   {
    "duration": 8,
    "start_time": "2022-04-12T16:25:22.882Z"
   },
   {
    "duration": 95,
    "start_time": "2022-04-12T16:25:22.892Z"
   },
   {
    "duration": 9860,
    "start_time": "2022-04-12T16:25:22.989Z"
   },
   {
    "duration": 75,
    "start_time": "2022-04-12T16:25:32.851Z"
   },
   {
    "duration": 28,
    "start_time": "2022-04-12T16:25:32.929Z"
   },
   {
    "duration": 291,
    "start_time": "2022-04-12T16:25:32.960Z"
   },
   {
    "duration": 3652,
    "start_time": "2022-04-12T16:25:33.255Z"
   },
   {
    "duration": 272,
    "start_time": "2022-04-12T16:25:36.910Z"
   },
   {
    "duration": 913,
    "start_time": "2022-04-12T16:25:37.184Z"
   },
   {
    "duration": 58,
    "start_time": "2022-04-12T16:25:38.100Z"
   },
   {
    "duration": 6,
    "start_time": "2022-04-12T16:25:38.161Z"
   },
   {
    "duration": 134,
    "start_time": "2022-04-12T16:25:38.170Z"
   },
   {
    "duration": 4373,
    "start_time": "2022-04-12T16:25:38.306Z"
   },
   {
    "duration": 1986,
    "start_time": "2022-04-12T16:25:42.681Z"
   },
   {
    "duration": 1678,
    "start_time": "2022-04-12T16:26:49.266Z"
   },
   {
    "duration": 53,
    "start_time": "2022-04-16T14:03:32.078Z"
   },
   {
    "duration": 14808,
    "start_time": "2022-04-16T15:59:53.304Z"
   },
   {
    "duration": 1000,
    "start_time": "2022-04-16T16:00:08.114Z"
   },
   {
    "duration": 99,
    "start_time": "2022-04-16T16:00:09.116Z"
   },
   {
    "duration": 133,
    "start_time": "2022-04-16T16:00:16.889Z"
   },
   {
    "duration": 89,
    "start_time": "2022-04-16T16:00:18.734Z"
   },
   {
    "duration": 98,
    "start_time": "2022-04-16T16:00:19.997Z"
   },
   {
    "duration": 184,
    "start_time": "2022-04-16T16:00:21.792Z"
   },
   {
    "duration": 94,
    "start_time": "2022-04-16T16:00:23.869Z"
   },
   {
    "duration": 9249,
    "start_time": "2022-04-16T16:00:24.627Z"
   },
   {
    "duration": 42,
    "start_time": "2022-04-16T16:00:33.878Z"
   },
   {
    "duration": 8,
    "start_time": "2022-04-16T16:00:33.933Z"
   },
   {
    "duration": 196,
    "start_time": "2022-04-16T16:00:33.943Z"
   },
   {
    "duration": 2147,
    "start_time": "2022-04-16T16:00:34.141Z"
   },
   {
    "duration": 184,
    "start_time": "2022-04-16T16:00:36.290Z"
   },
   {
    "duration": 7445,
    "start_time": "2022-04-16T16:00:38.757Z"
   },
   {
    "duration": 25,
    "start_time": "2022-04-16T16:00:47.768Z"
   },
   {
    "duration": 6,
    "start_time": "2022-04-16T16:00:48.307Z"
   },
   {
    "duration": 7,
    "start_time": "2022-04-16T16:00:49.616Z"
   },
   {
    "duration": 25,
    "start_time": "2022-04-16T16:00:50.290Z"
   },
   {
    "duration": 205,
    "start_time": "2022-04-16T16:00:50.632Z"
   },
   {
    "duration": 2131,
    "start_time": "2022-04-16T16:00:52.749Z"
   },
   {
    "duration": 103,
    "start_time": "2022-04-16T16:00:56.841Z"
   },
   {
    "duration": 108,
    "start_time": "2022-04-16T16:00:59.582Z"
   },
   {
    "duration": 969,
    "start_time": "2022-04-16T16:01:04.286Z"
   },
   {
    "duration": 4,
    "start_time": "2022-04-16T16:01:07.106Z"
   },
   {
    "duration": 5,
    "start_time": "2022-04-16T16:01:09.435Z"
   },
   {
    "duration": 8096,
    "start_time": "2022-04-16T16:01:12.386Z"
   },
   {
    "duration": 0,
    "start_time": "2022-04-16T16:01:20.484Z"
   },
   {
    "duration": 0,
    "start_time": "2022-04-16T16:01:20.485Z"
   },
   {
    "duration": 25943,
    "start_time": "2022-04-16T16:01:21.845Z"
   },
   {
    "duration": 0,
    "start_time": "2022-04-16T16:01:47.789Z"
   },
   {
    "duration": 1,
    "start_time": "2022-04-16T16:01:47.790Z"
   },
   {
    "duration": 0,
    "start_time": "2022-04-16T16:01:47.792Z"
   },
   {
    "duration": 0,
    "start_time": "2022-04-16T16:01:47.793Z"
   },
   {
    "duration": 0,
    "start_time": "2022-04-16T16:01:47.794Z"
   },
   {
    "duration": 0,
    "start_time": "2022-04-16T16:01:47.795Z"
   },
   {
    "duration": 922,
    "start_time": "2022-04-16T16:03:18.693Z"
   },
   {
    "duration": 938,
    "start_time": "2022-04-16T16:04:40.019Z"
   },
   {
    "duration": 935,
    "start_time": "2022-04-16T16:04:45.473Z"
   },
   {
    "duration": 949,
    "start_time": "2022-04-16T16:05:18.584Z"
   },
   {
    "duration": 956,
    "start_time": "2022-04-16T16:07:17.564Z"
   },
   {
    "duration": 944,
    "start_time": "2022-04-16T16:07:38.323Z"
   },
   {
    "duration": 983,
    "start_time": "2022-04-16T16:07:47.965Z"
   },
   {
    "duration": 998,
    "start_time": "2022-04-16T16:07:55.091Z"
   },
   {
    "duration": 885,
    "start_time": "2022-04-16T16:08:12.513Z"
   },
   {
    "duration": 940,
    "start_time": "2022-04-16T16:08:25.028Z"
   },
   {
    "duration": 1003,
    "start_time": "2022-04-16T16:08:46.349Z"
   },
   {
    "duration": 942,
    "start_time": "2022-04-16T16:09:12.268Z"
   },
   {
    "duration": 928,
    "start_time": "2022-04-16T16:09:22.375Z"
   },
   {
    "duration": 881,
    "start_time": "2022-04-16T16:09:27.581Z"
   },
   {
    "duration": 11,
    "start_time": "2022-04-16T16:10:44.395Z"
   },
   {
    "duration": 10,
    "start_time": "2022-04-16T16:11:07.181Z"
   },
   {
    "duration": 7258,
    "start_time": "2022-04-16T16:11:30.212Z"
   },
   {
    "duration": 7215,
    "start_time": "2022-04-16T16:16:20.966Z"
   },
   {
    "duration": 924,
    "start_time": "2022-04-16T16:16:28.184Z"
   },
   {
    "duration": 100,
    "start_time": "2022-04-16T16:16:29.110Z"
   },
   {
    "duration": 136,
    "start_time": "2022-04-16T16:16:29.212Z"
   },
   {
    "duration": 96,
    "start_time": "2022-04-16T16:16:29.350Z"
   },
   {
    "duration": 108,
    "start_time": "2022-04-16T16:16:29.448Z"
   },
   {
    "duration": 191,
    "start_time": "2022-04-16T16:16:29.558Z"
   },
   {
    "duration": 88,
    "start_time": "2022-04-16T16:16:29.751Z"
   },
   {
    "duration": 9801,
    "start_time": "2022-04-16T16:16:29.840Z"
   },
   {
    "duration": 32,
    "start_time": "2022-04-16T16:16:39.645Z"
   },
   {
    "duration": 7,
    "start_time": "2022-04-16T16:16:39.679Z"
   },
   {
    "duration": 871,
    "start_time": "2022-04-16T16:16:39.688Z"
   },
   {
    "duration": 2086,
    "start_time": "2022-04-16T16:16:40.561Z"
   },
   {
    "duration": 205,
    "start_time": "2022-04-16T16:16:42.649Z"
   },
   {
    "duration": 6859,
    "start_time": "2022-04-16T16:16:42.856Z"
   },
   {
    "duration": 30,
    "start_time": "2022-04-16T16:16:49.717Z"
   },
   {
    "duration": 8,
    "start_time": "2022-04-16T16:16:49.751Z"
   },
   {
    "duration": 12,
    "start_time": "2022-04-16T16:16:49.761Z"
   },
   {
    "duration": 28,
    "start_time": "2022-04-16T16:16:49.775Z"
   },
   {
    "duration": 240,
    "start_time": "2022-04-16T16:16:49.805Z"
   },
   {
    "duration": 2059,
    "start_time": "2022-04-16T16:16:50.047Z"
   },
   {
    "duration": 104,
    "start_time": "2022-04-16T16:16:52.108Z"
   },
   {
    "duration": 1460,
    "start_time": "2022-04-16T16:16:52.214Z"
   },
   {
    "duration": 1369,
    "start_time": "2022-04-16T16:17:08.154Z"
   },
   {
    "duration": 226,
    "start_time": "2022-04-16T16:17:12.528Z"
   },
   {
    "duration": 208,
    "start_time": "2022-04-16T16:17:19.681Z"
   },
   {
    "duration": 4,
    "start_time": "2022-04-16T16:17:23.915Z"
   },
   {
    "duration": 5,
    "start_time": "2022-04-16T16:17:24.702Z"
   },
   {
    "duration": 8173,
    "start_time": "2022-04-16T16:17:25.968Z"
   },
   {
    "duration": 5407,
    "start_time": "2022-04-16T16:17:34.143Z"
   },
   {
    "duration": 29683,
    "start_time": "2022-04-16T16:17:39.553Z"
   },
   {
    "duration": 23017,
    "start_time": "2022-04-16T16:18:09.239Z"
   },
   {
    "duration": 274337,
    "start_time": "2022-04-16T16:18:32.259Z"
   },
   {
    "duration": 25755,
    "start_time": "2022-04-16T16:23:06.598Z"
   },
   {
    "duration": 22387,
    "start_time": "2022-04-16T16:23:32.355Z"
   },
   {
    "duration": 226213,
    "start_time": "2022-04-16T16:23:54.743Z"
   },
   {
    "duration": 138491,
    "start_time": "2022-04-16T16:27:40.958Z"
   },
   {
    "duration": 4,
    "start_time": "2022-04-16T16:29:59.451Z"
   },
   {
    "duration": 184,
    "start_time": "2022-04-16T16:32:48.362Z"
   },
   {
    "duration": 166,
    "start_time": "2022-04-16T16:33:12.899Z"
   },
   {
    "duration": 7110,
    "start_time": "2022-04-16T16:34:19.136Z"
   },
   {
    "duration": 221,
    "start_time": "2022-04-16T16:35:02.031Z"
   },
   {
    "duration": 101128,
    "start_time": "2022-04-16T16:40:01.613Z"
   },
   {
    "duration": 556100,
    "start_time": "2022-04-16T17:17:05.173Z"
   },
   {
    "duration": 13,
    "start_time": "2022-04-16T17:29:47.235Z"
   },
   {
    "duration": 1301835,
    "start_time": "2022-04-16T17:30:05.733Z"
   },
   {
    "duration": 53,
    "start_time": "2022-04-16T18:46:15.478Z"
   },
   {
    "duration": 57,
    "start_time": "2022-04-25T11:37:03.209Z"
   },
   {
    "duration": 10628,
    "start_time": "2022-06-20T13:10:11.450Z"
   },
   {
    "duration": 3639,
    "start_time": "2022-06-20T13:10:22.080Z"
   },
   {
    "duration": 261,
    "start_time": "2022-06-20T13:13:33.833Z"
   },
   {
    "duration": 9804,
    "start_time": "2022-06-20T13:13:39.138Z"
   },
   {
    "duration": 1560,
    "start_time": "2022-06-20T13:13:48.945Z"
   },
   {
    "duration": 98,
    "start_time": "2022-06-20T13:13:50.507Z"
   },
   {
    "duration": 122,
    "start_time": "2022-06-20T13:13:50.607Z"
   },
   {
    "duration": 75,
    "start_time": "2022-06-20T13:13:50.730Z"
   },
   {
    "duration": 103,
    "start_time": "2022-06-20T13:13:50.807Z"
   },
   {
    "duration": 297,
    "start_time": "2022-06-20T13:13:50.911Z"
   },
   {
    "duration": 125,
    "start_time": "2022-06-20T13:13:51.211Z"
   },
   {
    "duration": 15499,
    "start_time": "2022-06-20T13:13:51.337Z"
   },
   {
    "duration": 82,
    "start_time": "2022-06-20T13:14:06.839Z"
   },
   {
    "duration": 7,
    "start_time": "2022-06-20T13:14:06.923Z"
   },
   {
    "duration": 201,
    "start_time": "2022-06-20T13:14:06.931Z"
   },
   {
    "duration": 3613,
    "start_time": "2022-06-20T13:14:07.134Z"
   },
   {
    "duration": 357,
    "start_time": "2022-06-20T13:14:10.748Z"
   },
   {
    "duration": 11512,
    "start_time": "2022-06-20T13:14:11.109Z"
   },
   {
    "duration": 74,
    "start_time": "2022-06-20T13:14:22.624Z"
   },
   {
    "duration": 7,
    "start_time": "2022-06-20T13:14:22.700Z"
   },
   {
    "duration": 23,
    "start_time": "2022-06-20T13:14:22.708Z"
   },
   {
    "duration": 82,
    "start_time": "2022-06-20T13:14:22.733Z"
   },
   {
    "duration": 1280,
    "start_time": "2022-06-20T13:14:22.820Z"
   },
   {
    "duration": 3604,
    "start_time": "2022-06-20T13:14:24.103Z"
   },
   {
    "duration": 192,
    "start_time": "2022-06-20T13:14:27.711Z"
   },
   {
    "duration": 2508,
    "start_time": "2022-06-20T13:14:27.911Z"
   },
   {
    "duration": 325,
    "start_time": "2022-06-20T13:14:30.421Z"
   },
   {
    "duration": 3,
    "start_time": "2022-06-20T13:14:41.229Z"
   },
   {
    "duration": 5,
    "start_time": "2022-06-20T13:14:43.459Z"
   },
   {
    "duration": 14614,
    "start_time": "2022-06-20T13:14:48.020Z"
   },
   {
    "duration": 10073,
    "start_time": "2022-06-20T13:15:02.636Z"
   },
   {
    "duration": 42590,
    "start_time": "2022-06-20T13:15:12.711Z"
   },
   {
    "duration": 36734,
    "start_time": "2022-06-20T13:15:55.305Z"
   },
   {
    "duration": 482260,
    "start_time": "2022-06-20T13:16:32.041Z"
   },
   {
    "duration": 1916014,
    "start_time": "2022-06-20T13:24:34.305Z"
   },
   {
    "duration": 301504,
    "start_time": "2022-06-20T13:56:30.321Z"
   },
   {
    "duration": 262595,
    "start_time": "2022-06-20T14:01:31.827Z"
   },
   {
    "duration": 8131,
    "start_time": "2022-06-21T09:55:44.094Z"
   },
   {
    "duration": 1223,
    "start_time": "2022-06-21T09:55:52.227Z"
   },
   {
    "duration": 134,
    "start_time": "2022-06-21T09:55:53.452Z"
   },
   {
    "duration": 136,
    "start_time": "2022-06-21T09:55:53.588Z"
   },
   {
    "duration": 82,
    "start_time": "2022-06-21T09:55:53.726Z"
   },
   {
    "duration": 102,
    "start_time": "2022-06-21T09:55:53.810Z"
   },
   {
    "duration": 171,
    "start_time": "2022-06-21T09:55:53.914Z"
   },
   {
    "duration": 99,
    "start_time": "2022-06-21T09:55:54.086Z"
   },
   {
    "duration": 9876,
    "start_time": "2022-06-21T09:55:54.186Z"
   },
   {
    "duration": 39,
    "start_time": "2022-06-21T09:56:04.065Z"
   },
   {
    "duration": 7,
    "start_time": "2022-06-21T09:56:04.106Z"
   },
   {
    "duration": 230,
    "start_time": "2022-06-21T09:56:04.114Z"
   },
   {
    "duration": 2362,
    "start_time": "2022-06-21T09:56:04.345Z"
   },
   {
    "duration": 182,
    "start_time": "2022-06-21T09:56:06.709Z"
   },
   {
    "duration": 7316,
    "start_time": "2022-06-21T09:56:06.893Z"
   },
   {
    "duration": 24,
    "start_time": "2022-06-21T09:56:14.211Z"
   },
   {
    "duration": 15,
    "start_time": "2022-06-21T09:56:14.237Z"
   },
   {
    "duration": 9,
    "start_time": "2022-06-21T09:56:14.254Z"
   },
   {
    "duration": 24,
    "start_time": "2022-06-21T09:56:14.265Z"
   },
   {
    "duration": 722,
    "start_time": "2022-06-21T09:56:14.291Z"
   },
   {
    "duration": 2157,
    "start_time": "2022-06-21T09:56:15.016Z"
   },
   {
    "duration": 88,
    "start_time": "2022-06-21T09:56:17.174Z"
   },
   {
    "duration": 1405,
    "start_time": "2022-06-21T09:56:17.264Z"
   },
   {
    "duration": 201,
    "start_time": "2022-06-21T09:56:18.671Z"
   },
   {
    "duration": 5,
    "start_time": "2022-06-21T09:56:18.874Z"
   },
   {
    "duration": 14,
    "start_time": "2022-06-21T09:56:18.881Z"
   },
   {
    "duration": 8468,
    "start_time": "2022-06-21T09:56:18.897Z"
   },
   {
    "duration": 5494,
    "start_time": "2022-06-21T09:56:27.368Z"
   },
   {
    "duration": 41988,
    "start_time": "2022-06-21T09:56:32.864Z"
   },
   {
    "duration": 50911,
    "start_time": "2022-06-21T09:57:14.856Z"
   },
   {
    "duration": 456958,
    "start_time": "2022-06-21T09:58:05.769Z"
   },
   {
    "duration": 76944,
    "start_time": "2022-06-21T10:05:42.729Z"
   },
   {
    "duration": 34481,
    "start_time": "2022-06-21T10:06:59.676Z"
   },
   {
    "duration": 274815,
    "start_time": "2022-06-21T10:07:34.159Z"
   },
   {
    "duration": 9988,
    "start_time": "2022-06-21T11:42:27.174Z"
   },
   {
    "duration": 1894,
    "start_time": "2022-06-21T11:42:37.163Z"
   },
   {
    "duration": 214,
    "start_time": "2022-06-21T11:42:39.059Z"
   },
   {
    "duration": 180,
    "start_time": "2022-06-21T11:42:39.278Z"
   },
   {
    "duration": 70,
    "start_time": "2022-06-21T11:42:39.459Z"
   },
   {
    "duration": 120,
    "start_time": "2022-06-21T11:42:39.531Z"
   },
   {
    "duration": 135,
    "start_time": "2022-06-21T11:42:39.653Z"
   },
   {
    "duration": 169,
    "start_time": "2022-06-21T11:42:39.789Z"
   },
   {
    "duration": 16293,
    "start_time": "2022-06-21T11:42:39.960Z"
   },
   {
    "duration": 31,
    "start_time": "2022-06-21T11:42:56.254Z"
   },
   {
    "duration": 65,
    "start_time": "2022-06-21T11:42:56.287Z"
   },
   {
    "duration": 1130,
    "start_time": "2022-06-21T11:42:56.354Z"
   },
   {
    "duration": 3700,
    "start_time": "2022-06-21T11:42:57.485Z"
   },
   {
    "duration": 408,
    "start_time": "2022-06-21T11:43:01.187Z"
   },
   {
    "duration": 11455,
    "start_time": "2022-06-21T11:43:01.597Z"
   },
   {
    "duration": 26,
    "start_time": "2022-06-21T11:43:13.054Z"
   },
   {
    "duration": 5,
    "start_time": "2022-06-21T11:43:13.083Z"
   },
   {
    "duration": 66,
    "start_time": "2022-06-21T11:43:13.090Z"
   },
   {
    "duration": 34,
    "start_time": "2022-06-21T11:43:13.158Z"
   },
   {
    "duration": 416,
    "start_time": "2022-06-21T11:43:13.250Z"
   },
   {
    "duration": 3621,
    "start_time": "2022-06-21T11:43:13.667Z"
   },
   {
    "duration": 78,
    "start_time": "2022-06-21T11:43:17.290Z"
   },
   {
    "duration": 2584,
    "start_time": "2022-06-21T11:43:17.370Z"
   },
   {
    "duration": 337,
    "start_time": "2022-06-21T11:43:19.956Z"
   },
   {
    "duration": 59,
    "start_time": "2022-06-21T11:43:20.295Z"
   },
   {
    "duration": 28,
    "start_time": "2022-06-21T11:43:20.356Z"
   },
   {
    "duration": 14667,
    "start_time": "2022-06-21T11:43:20.385Z"
   },
   {
    "duration": 9801,
    "start_time": "2022-06-21T11:43:35.053Z"
   },
   {
    "duration": 35700,
    "start_time": "2022-06-21T11:43:44.856Z"
   },
   {
    "duration": 41305,
    "start_time": "2022-06-21T11:44:20.557Z"
   },
   {
    "duration": 487097,
    "start_time": "2022-06-21T11:45:01.863Z"
   },
   {
    "duration": 1619103,
    "start_time": "2022-06-21T11:53:08.964Z"
   },
   {
    "duration": 705293,
    "start_time": "2022-06-21T12:20:08.069Z"
   },
   {
    "duration": 263998,
    "start_time": "2022-06-21T12:31:53.364Z"
   },
   {
    "duration": 5588398,
    "start_time": "2022-06-21T12:36:17.363Z"
   }
  ],
  "kernelspec": {
   "display_name": "Python 3 (ipykernel)",
   "language": "python",
   "name": "python3"
  },
  "language_info": {
   "codemirror_mode": {
    "name": "ipython",
    "version": 3
   },
   "file_extension": ".py",
   "mimetype": "text/x-python",
   "name": "python",
   "nbconvert_exporter": "python",
   "pygments_lexer": "ipython3",
   "version": "3.9.5"
  },
  "toc": {
   "base_numbering": 1,
   "nav_menu": {},
   "number_sections": true,
   "sideBar": true,
   "skip_h1_title": true,
   "title_cell": "Содержание",
   "title_sidebar": "Contents",
   "toc_cell": true,
   "toc_position": {},
   "toc_section_display": true,
   "toc_window_display": false
  }
 },
 "nbformat": 4,
 "nbformat_minor": 2
}
