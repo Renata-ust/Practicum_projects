{
 "cells": [
  {
   "cell_type": "markdown",
   "id": "cfdbe157",
   "metadata": {
    "id": "cfdbe157"
   },
   "source": [
    "# Проект для \"Викишоп\" с BERT"
   ]
  },
  {
   "cell_type": "markdown",
   "id": "34e15ebf",
   "metadata": {
    "id": "34e15ebf",
    "toc": true
   },
   "source": [
    "<h1>Содержание<span class=\"tocSkip\"></span></h1>\n",
    "<div class=\"toc\"><ul class=\"toc-item\"><li><span><a href=\"#Описание-проекта\" data-toc-modified-id=\"Описание-проекта-1\"><span class=\"toc-item-num\">1&nbsp;&nbsp;</span>Описание проекта</a></span><ul class=\"toc-item\"><li><span><a href=\"#Цель-исследования:\" data-toc-modified-id=\"Цель-исследования:-1.1\"><span class=\"toc-item-num\">1.1&nbsp;&nbsp;</span>Цель исследования:</a></span></li><li><span><a href=\"#Задачи-исследования:\" data-toc-modified-id=\"Задачи-исследования:-1.2\"><span class=\"toc-item-num\">1.2&nbsp;&nbsp;</span>Задачи исследования:</a></span></li></ul></li><li><span><a href=\"#Предисловие\" data-toc-modified-id=\"Предисловие-2\"><span class=\"toc-item-num\">2&nbsp;&nbsp;</span>Предисловие</a></span></li><li><span><a href=\"#Подготовка-данных\" data-toc-modified-id=\"Подготовка-данных-3\"><span class=\"toc-item-num\">3&nbsp;&nbsp;</span>Подготовка данных</a></span></li><li><span><a href=\"#Обучение-моделей\" data-toc-modified-id=\"Обучение-моделей-4\"><span class=\"toc-item-num\">4&nbsp;&nbsp;</span>Обучение моделей</a></span><ul class=\"toc-item\"><li><span><a href=\"#BERT\" data-toc-modified-id=\"BERT-4.1\"><span class=\"toc-item-num\">4.1&nbsp;&nbsp;</span>BERT</a></span><ul class=\"toc-item\"><li><span><a href=\"#Подготовка-входных-данных\" data-toc-modified-id=\"Подготовка-входных-данных-4.1.1\"><span class=\"toc-item-num\">4.1.1&nbsp;&nbsp;</span>Подготовка входных данных</a></span></li><li><span><a href=\"#Обучение\" data-toc-modified-id=\"Обучение-4.1.2\"><span class=\"toc-item-num\">4.1.2&nbsp;&nbsp;</span>Обучение</a></span></li><li><span><a href=\"#Тестирование\" data-toc-modified-id=\"Тестирование-4.1.3\"><span class=\"toc-item-num\">4.1.3&nbsp;&nbsp;</span>Тестирование</a></span></li></ul></li><li><span><a href=\"#Catboost\" data-toc-modified-id=\"Catboost-4.2\"><span class=\"toc-item-num\">4.2&nbsp;&nbsp;</span>Catboost</a></span><ul class=\"toc-item\"><li><span><a href=\"#Подготовка-данных\" data-toc-modified-id=\"Подготовка-данных-4.2.1\"><span class=\"toc-item-num\">4.2.1&nbsp;&nbsp;</span>Подготовка данных</a></span></li><li><span><a href=\"#Обучение\" data-toc-modified-id=\"Обучение-4.2.2\"><span class=\"toc-item-num\">4.2.2&nbsp;&nbsp;</span>Обучение</a></span></li><li><span><a href=\"#Тестирование\" data-toc-modified-id=\"Тестирование-4.2.3\"><span class=\"toc-item-num\">4.2.3&nbsp;&nbsp;</span>Тестирование</a></span></li></ul></li><li><span><a href=\"#TF-IDF\" data-toc-modified-id=\"TF-IDF-4.3\"><span class=\"toc-item-num\">4.3&nbsp;&nbsp;</span>TF-IDF</a></span></li><li><span><a href=\"#Вывод\" data-toc-modified-id=\"Вывод-4.4\"><span class=\"toc-item-num\">4.4&nbsp;&nbsp;</span>Вывод</a></span></li></ul></li></ul></div>"
   ]
  },
  {
   "cell_type": "markdown",
   "id": "c396c8c2",
   "metadata": {
    "id": "c396c8c2"
   },
   "source": [
    "## Описание проекта\n",
    "\n",
    "Интернет-магазин «Викишоп» запускает новый сервис. Теперь пользователи могут редактировать и дополнять описания товаров, как в вики-сообществах. То есть клиенты предлагают свои правки и комментируют изменения других. Магазину нужен инструмент, который будет искать токсичные комментарии и отправлять их на модерацию.\n",
    "\n",
    "### Цель исследования:\n",
    "\n",
    "Построить модель машинного обучения для решения задачи бинарной классификации со значением метрики качества F1 не меньше 0.75.\n",
    "\n",
    "### Задачи исследования:\n",
    "\n",
    "1. Загрузить и подготовить данные.\n",
    "2. Обучить разные модели.\n",
    "3. Сделайть выводы.\n",
    "\n"
   ]
  },
  {
   "cell_type": "markdown",
   "id": "fDf_84wSyHmQ",
   "metadata": {
    "id": "fDf_84wSyHmQ"
   },
   "source": [
    "## Предисловие\n",
    "\n",
    "Работы выполнялась в Google Colab с использованием GPU."
   ]
  },
  {
   "cell_type": "markdown",
   "id": "f8a12980",
   "metadata": {
    "id": "f8a12980"
   },
   "source": [
    "## Подготовка данных"
   ]
  },
  {
   "cell_type": "markdown",
   "id": "e3c64c49",
   "metadata": {
    "id": "e3c64c49"
   },
   "source": [
    "Импортируем необходимые для работы библиотеки."
   ]
  },
  {
   "cell_type": "code",
   "execution_count": 1,
   "id": "c15848cb",
   "metadata": {
    "colab": {
     "base_uri": "https://localhost:8080/"
    },
    "id": "c15848cb",
    "outputId": "f2abbd67-291b-49c8-db39-b97d0c7fd81c"
   },
   "outputs": [
    {
     "name": "stdout",
     "output_type": "stream",
     "text": [
      "Collecting pytorch-transformers\n",
      "  Downloading pytorch_transformers-1.2.0-py3-none-any.whl (176 kB)\n",
      "\u001b[K     |████████████████████████████████| 176 kB 13.6 MB/s \n",
      "\u001b[?25hRequirement already satisfied: tqdm in /usr/local/lib/python3.7/dist-packages (from pytorch-transformers) (4.64.0)\n",
      "Collecting sentencepiece\n",
      "  Downloading sentencepiece-0.1.96-cp37-cp37m-manylinux_2_17_x86_64.manylinux2014_x86_64.whl (1.2 MB)\n",
      "\u001b[K     |████████████████████████████████| 1.2 MB 48.5 MB/s \n",
      "\u001b[?25hCollecting sacremoses\n",
      "  Downloading sacremoses-0.0.53.tar.gz (880 kB)\n",
      "\u001b[K     |████████████████████████████████| 880 kB 42.5 MB/s \n",
      "\u001b[?25hRequirement already satisfied: numpy in /usr/local/lib/python3.7/dist-packages (from pytorch-transformers) (1.21.6)\n",
      "Requirement already satisfied: requests in /usr/local/lib/python3.7/dist-packages (from pytorch-transformers) (2.23.0)\n",
      "Requirement already satisfied: regex in /usr/local/lib/python3.7/dist-packages (from pytorch-transformers) (2019.12.20)\n",
      "Collecting boto3\n",
      "  Downloading boto3-1.22.5-py3-none-any.whl (132 kB)\n",
      "\u001b[K     |████████████████████████████████| 132 kB 52.0 MB/s \n",
      "\u001b[?25hRequirement already satisfied: torch>=1.0.0 in /usr/local/lib/python3.7/dist-packages (from pytorch-transformers) (1.11.0+cu113)\n",
      "Requirement already satisfied: typing-extensions in /usr/local/lib/python3.7/dist-packages (from torch>=1.0.0->pytorch-transformers) (4.2.0)\n",
      "Collecting s3transfer<0.6.0,>=0.5.0\n",
      "  Downloading s3transfer-0.5.2-py3-none-any.whl (79 kB)\n",
      "\u001b[K     |████████████████████████████████| 79 kB 8.4 MB/s \n",
      "\u001b[?25hCollecting botocore<1.26.0,>=1.25.5\n",
      "  Downloading botocore-1.25.5-py3-none-any.whl (8.7 MB)\n",
      "\u001b[K     |████████████████████████████████| 8.7 MB 48.2 MB/s \n",
      "\u001b[?25hCollecting jmespath<2.0.0,>=0.7.1\n",
      "  Downloading jmespath-1.0.0-py3-none-any.whl (23 kB)\n",
      "Collecting urllib3<1.27,>=1.25.4\n",
      "  Downloading urllib3-1.26.9-py2.py3-none-any.whl (138 kB)\n",
      "\u001b[K     |████████████████████████████████| 138 kB 47.8 MB/s \n",
      "\u001b[?25hRequirement already satisfied: python-dateutil<3.0.0,>=2.1 in /usr/local/lib/python3.7/dist-packages (from botocore<1.26.0,>=1.25.5->boto3->pytorch-transformers) (2.8.2)\n",
      "Requirement already satisfied: six>=1.5 in /usr/local/lib/python3.7/dist-packages (from python-dateutil<3.0.0,>=2.1->botocore<1.26.0,>=1.25.5->boto3->pytorch-transformers) (1.15.0)\n",
      "Requirement already satisfied: chardet<4,>=3.0.2 in /usr/local/lib/python3.7/dist-packages (from requests->pytorch-transformers) (3.0.4)\n",
      "  Downloading urllib3-1.25.11-py2.py3-none-any.whl (127 kB)\n",
      "\u001b[K     |████████████████████████████████| 127 kB 63.0 MB/s \n",
      "\u001b[?25hRequirement already satisfied: idna<3,>=2.5 in /usr/local/lib/python3.7/dist-packages (from requests->pytorch-transformers) (2.10)\n",
      "Requirement already satisfied: certifi>=2017.4.17 in /usr/local/lib/python3.7/dist-packages (from requests->pytorch-transformers) (2021.10.8)\n",
      "Requirement already satisfied: click in /usr/local/lib/python3.7/dist-packages (from sacremoses->pytorch-transformers) (7.1.2)\n",
      "Requirement already satisfied: joblib in /usr/local/lib/python3.7/dist-packages (from sacremoses->pytorch-transformers) (1.1.0)\n",
      "Building wheels for collected packages: sacremoses\n",
      "  Building wheel for sacremoses (setup.py) ... \u001b[?25l\u001b[?25hdone\n",
      "  Created wheel for sacremoses: filename=sacremoses-0.0.53-py3-none-any.whl size=895260 sha256=734c0d512c4f02e786eef83bb51693135344bad1ce50d59a8fa21c87b8d934fb\n",
      "  Stored in directory: /root/.cache/pip/wheels/87/39/dd/a83eeef36d0bf98e7a4d1933a4ad2d660295a40613079bafc9\n",
      "Successfully built sacremoses\n",
      "Installing collected packages: urllib3, jmespath, botocore, s3transfer, sentencepiece, sacremoses, boto3, pytorch-transformers\n",
      "  Attempting uninstall: urllib3\n",
      "    Found existing installation: urllib3 1.24.3\n",
      "    Uninstalling urllib3-1.24.3:\n",
      "      Successfully uninstalled urllib3-1.24.3\n",
      "\u001b[31mERROR: pip's dependency resolver does not currently take into account all the packages that are installed. This behaviour is the source of the following dependency conflicts.\n",
      "datascience 0.10.6 requires folium==0.2.1, but you have folium 0.8.3 which is incompatible.\u001b[0m\n",
      "Successfully installed boto3-1.22.5 botocore-1.25.5 jmespath-1.0.0 pytorch-transformers-1.2.0 s3transfer-0.5.2 sacremoses-0.0.53 sentencepiece-0.1.96 urllib3-1.25.11\n",
      "Collecting bert-tensorflow\n",
      "  Downloading bert_tensorflow-1.0.4-py2.py3-none-any.whl (64 kB)\n",
      "\u001b[K     |████████████████████████████████| 64 kB 2.8 MB/s \n",
      "\u001b[?25hRequirement already satisfied: six in /usr/local/lib/python3.7/dist-packages (from bert-tensorflow) (1.15.0)\n",
      "Installing collected packages: bert-tensorflow\n",
      "Successfully installed bert-tensorflow-1.0.4\n",
      "Requirement already satisfied: tensorflow in /usr/local/lib/python3.7/dist-packages (2.8.0)\n",
      "Requirement already satisfied: six>=1.12.0 in /usr/local/lib/python3.7/dist-packages (from tensorflow) (1.15.0)\n",
      "Requirement already satisfied: flatbuffers>=1.12 in /usr/local/lib/python3.7/dist-packages (from tensorflow) (2.0)\n",
      "Requirement already satisfied: astunparse>=1.6.0 in /usr/local/lib/python3.7/dist-packages (from tensorflow) (1.6.3)\n",
      "Requirement already satisfied: grpcio<2.0,>=1.24.3 in /usr/local/lib/python3.7/dist-packages (from tensorflow) (1.44.0)\n",
      "Requirement already satisfied: keras-preprocessing>=1.1.1 in /usr/local/lib/python3.7/dist-packages (from tensorflow) (1.1.2)\n",
      "Requirement already satisfied: libclang>=9.0.1 in /usr/local/lib/python3.7/dist-packages (from tensorflow) (14.0.1)\n",
      "Requirement already satisfied: absl-py>=0.4.0 in /usr/local/lib/python3.7/dist-packages (from tensorflow) (1.0.0)\n",
      "Collecting tf-estimator-nightly==2.8.0.dev2021122109\n",
      "  Downloading tf_estimator_nightly-2.8.0.dev2021122109-py2.py3-none-any.whl (462 kB)\n",
      "\u001b[K     |████████████████████████████████| 462 kB 16.3 MB/s \n",
      "\u001b[?25hRequirement already satisfied: keras<2.9,>=2.8.0rc0 in /usr/local/lib/python3.7/dist-packages (from tensorflow) (2.8.0)\n",
      "Requirement already satisfied: typing-extensions>=3.6.6 in /usr/local/lib/python3.7/dist-packages (from tensorflow) (4.2.0)\n",
      "Requirement already satisfied: google-pasta>=0.1.1 in /usr/local/lib/python3.7/dist-packages (from tensorflow) (0.2.0)\n",
      "Requirement already satisfied: gast>=0.2.1 in /usr/local/lib/python3.7/dist-packages (from tensorflow) (0.5.3)\n",
      "Requirement already satisfied: h5py>=2.9.0 in /usr/local/lib/python3.7/dist-packages (from tensorflow) (3.1.0)\n",
      "Requirement already satisfied: setuptools in /usr/local/lib/python3.7/dist-packages (from tensorflow) (57.4.0)\n",
      "Requirement already satisfied: tensorflow-io-gcs-filesystem>=0.23.1 in /usr/local/lib/python3.7/dist-packages (from tensorflow) (0.25.0)\n",
      "Requirement already satisfied: protobuf>=3.9.2 in /usr/local/lib/python3.7/dist-packages (from tensorflow) (3.17.3)\n",
      "Requirement already satisfied: tensorboard<2.9,>=2.8 in /usr/local/lib/python3.7/dist-packages (from tensorflow) (2.8.0)\n",
      "Requirement already satisfied: opt-einsum>=2.3.2 in /usr/local/lib/python3.7/dist-packages (from tensorflow) (3.3.0)\n",
      "Requirement already satisfied: numpy>=1.20 in /usr/local/lib/python3.7/dist-packages (from tensorflow) (1.21.6)\n",
      "Requirement already satisfied: wrapt>=1.11.0 in /usr/local/lib/python3.7/dist-packages (from tensorflow) (1.14.0)\n",
      "Requirement already satisfied: termcolor>=1.1.0 in /usr/local/lib/python3.7/dist-packages (from tensorflow) (1.1.0)\n",
      "Requirement already satisfied: wheel<1.0,>=0.23.0 in /usr/local/lib/python3.7/dist-packages (from astunparse>=1.6.0->tensorflow) (0.37.1)\n",
      "Requirement already satisfied: cached-property in /usr/local/lib/python3.7/dist-packages (from h5py>=2.9.0->tensorflow) (1.5.2)\n",
      "Requirement already satisfied: tensorboard-plugin-wit>=1.6.0 in /usr/local/lib/python3.7/dist-packages (from tensorboard<2.9,>=2.8->tensorflow) (1.8.1)\n",
      "Requirement already satisfied: markdown>=2.6.8 in /usr/local/lib/python3.7/dist-packages (from tensorboard<2.9,>=2.8->tensorflow) (3.3.6)\n",
      "Requirement already satisfied: tensorboard-data-server<0.7.0,>=0.6.0 in /usr/local/lib/python3.7/dist-packages (from tensorboard<2.9,>=2.8->tensorflow) (0.6.1)\n",
      "Requirement already satisfied: google-auth<3,>=1.6.3 in /usr/local/lib/python3.7/dist-packages (from tensorboard<2.9,>=2.8->tensorflow) (1.35.0)\n",
      "Requirement already satisfied: requests<3,>=2.21.0 in /usr/local/lib/python3.7/dist-packages (from tensorboard<2.9,>=2.8->tensorflow) (2.23.0)\n",
      "Requirement already satisfied: google-auth-oauthlib<0.5,>=0.4.1 in /usr/local/lib/python3.7/dist-packages (from tensorboard<2.9,>=2.8->tensorflow) (0.4.6)\n",
      "Requirement already satisfied: werkzeug>=0.11.15 in /usr/local/lib/python3.7/dist-packages (from tensorboard<2.9,>=2.8->tensorflow) (1.0.1)\n",
      "Requirement already satisfied: pyasn1-modules>=0.2.1 in /usr/local/lib/python3.7/dist-packages (from google-auth<3,>=1.6.3->tensorboard<2.9,>=2.8->tensorflow) (0.2.8)\n",
      "Requirement already satisfied: cachetools<5.0,>=2.0.0 in /usr/local/lib/python3.7/dist-packages (from google-auth<3,>=1.6.3->tensorboard<2.9,>=2.8->tensorflow) (4.2.4)\n",
      "Requirement already satisfied: rsa<5,>=3.1.4 in /usr/local/lib/python3.7/dist-packages (from google-auth<3,>=1.6.3->tensorboard<2.9,>=2.8->tensorflow) (4.8)\n",
      "Requirement already satisfied: requests-oauthlib>=0.7.0 in /usr/local/lib/python3.7/dist-packages (from google-auth-oauthlib<0.5,>=0.4.1->tensorboard<2.9,>=2.8->tensorflow) (1.3.1)\n",
      "Requirement already satisfied: importlib-metadata>=4.4 in /usr/local/lib/python3.7/dist-packages (from markdown>=2.6.8->tensorboard<2.9,>=2.8->tensorflow) (4.11.3)\n",
      "Requirement already satisfied: zipp>=0.5 in /usr/local/lib/python3.7/dist-packages (from importlib-metadata>=4.4->markdown>=2.6.8->tensorboard<2.9,>=2.8->tensorflow) (3.8.0)\n",
      "Requirement already satisfied: pyasn1<0.5.0,>=0.4.6 in /usr/local/lib/python3.7/dist-packages (from pyasn1-modules>=0.2.1->google-auth<3,>=1.6.3->tensorboard<2.9,>=2.8->tensorflow) (0.4.8)\n",
      "Requirement already satisfied: urllib3!=1.25.0,!=1.25.1,<1.26,>=1.21.1 in /usr/local/lib/python3.7/dist-packages (from requests<3,>=2.21.0->tensorboard<2.9,>=2.8->tensorflow) (1.25.11)\n",
      "Requirement already satisfied: certifi>=2017.4.17 in /usr/local/lib/python3.7/dist-packages (from requests<3,>=2.21.0->tensorboard<2.9,>=2.8->tensorflow) (2021.10.8)\n",
      "Requirement already satisfied: idna<3,>=2.5 in /usr/local/lib/python3.7/dist-packages (from requests<3,>=2.21.0->tensorboard<2.9,>=2.8->tensorflow) (2.10)\n",
      "Requirement already satisfied: chardet<4,>=3.0.2 in /usr/local/lib/python3.7/dist-packages (from requests<3,>=2.21.0->tensorboard<2.9,>=2.8->tensorflow) (3.0.4)\n",
      "Requirement already satisfied: oauthlib>=3.0.0 in /usr/local/lib/python3.7/dist-packages (from requests-oauthlib>=0.7.0->google-auth-oauthlib<0.5,>=0.4.1->tensorboard<2.9,>=2.8->tensorflow) (3.2.0)\n",
      "Installing collected packages: tf-estimator-nightly\n",
      "Successfully installed tf-estimator-nightly-2.8.0.dev2021122109\n",
      "Collecting catboost\n",
      "  Downloading catboost-1.0.5-cp37-none-manylinux1_x86_64.whl (76.6 MB)\n",
      "\u001b[K     |████████████████████████████████| 76.6 MB 55 kB/s \n",
      "\u001b[?25hRequirement already satisfied: scipy in /usr/local/lib/python3.7/dist-packages (from catboost) (1.4.1)\n",
      "Requirement already satisfied: plotly in /usr/local/lib/python3.7/dist-packages (from catboost) (5.5.0)\n",
      "Requirement already satisfied: pandas>=0.24.0 in /usr/local/lib/python3.7/dist-packages (from catboost) (1.3.5)\n",
      "Requirement already satisfied: numpy>=1.16.0 in /usr/local/lib/python3.7/dist-packages (from catboost) (1.21.6)\n",
      "Requirement already satisfied: matplotlib in /usr/local/lib/python3.7/dist-packages (from catboost) (3.2.2)\n",
      "Requirement already satisfied: graphviz in /usr/local/lib/python3.7/dist-packages (from catboost) (0.10.1)\n",
      "Requirement already satisfied: six in /usr/local/lib/python3.7/dist-packages (from catboost) (1.15.0)\n",
      "Requirement already satisfied: python-dateutil>=2.7.3 in /usr/local/lib/python3.7/dist-packages (from pandas>=0.24.0->catboost) (2.8.2)\n",
      "Requirement already satisfied: pytz>=2017.3 in /usr/local/lib/python3.7/dist-packages (from pandas>=0.24.0->catboost) (2022.1)\n",
      "Requirement already satisfied: cycler>=0.10 in /usr/local/lib/python3.7/dist-packages (from matplotlib->catboost) (0.11.0)\n",
      "Requirement already satisfied: kiwisolver>=1.0.1 in /usr/local/lib/python3.7/dist-packages (from matplotlib->catboost) (1.4.2)\n",
      "Requirement already satisfied: pyparsing!=2.0.4,!=2.1.2,!=2.1.6,>=2.0.1 in /usr/local/lib/python3.7/dist-packages (from matplotlib->catboost) (3.0.8)\n",
      "Requirement already satisfied: typing-extensions in /usr/local/lib/python3.7/dist-packages (from kiwisolver>=1.0.1->matplotlib->catboost) (4.2.0)\n",
      "Requirement already satisfied: tenacity>=6.2.0 in /usr/local/lib/python3.7/dist-packages (from plotly->catboost) (8.0.1)\n",
      "Installing collected packages: catboost\n",
      "Successfully installed catboost-1.0.5\n"
     ]
    }
   ],
   "source": [
    "!pip install pytorch-transformers\n",
    "!pip install bert-tensorflow\n",
    "!pip install tensorflow\n",
    "!pip install catboost\n",
    "\n",
    "import pandas as pd\n",
    "import numpy as np\n",
    "\n",
    "import matplotlib.pyplot as plt\n",
    "import seaborn as sns\n",
    "\n",
    "from sklearn.model_selection import train_test_split\n",
    "from sklearn.linear_model import LogisticRegression\n",
    "from sklearn.model_selection import GridSearchCV\n",
    "from sklearn.ensemble import RandomForestClassifier\n",
    "from sklearn.metrics import f1_score,make_scorer,accuracy_score\n",
    "from sklearn.svm import SVC,LinearSVC\n",
    "from catboost import Pool, CatBoostClassifier\n",
    "\n",
    "from tqdm import notebook,tqdm, trange\n",
    "import re\n",
    "import nltk\n",
    "from nltk.corpus import stopwords\n",
    "from nltk.stem import WordNetLemmatizer\n",
    "from sklearn.feature_extraction.text import TfidfVectorizer,CountVectorizer\n",
    "from sklearn.dummy import DummyClassifier\n",
    "import lightgbm\n",
    " \n",
    "nltk.download('wordnet','stopwords','punkt','averaged_perceptron_tagger')\n",
    "from nltk.corpus import wordnet\n",
    "\n",
    "import time \n",
    " \n",
    "import warnings\n",
    "warnings.filterwarnings('ignore')\n",
    "\n",
    "from sklearn.base import BaseEstimator, TransformerMixin\n",
    "from sklearn.pipeline import Pipeline\n",
    "\n",
    "from pytorch_transformers import BertTokenizer, BertConfig,AdamW, BertForSequenceClassification\n",
    "\n",
    "from IPython.display import clear_output\n",
    "import matplotlib.pyplot as plt\n",
    "import io\n",
    "\n",
    "import torch\n",
    "from torch.utils.data import TensorDataset, DataLoader, RandomSampler, SequentialSampler\n",
    "from keras.preprocessing.sequence import pad_sequences\n",
    "\n",
    "import warnings\n",
    "warnings.filterwarnings('ignore')\n",
    "\n",
    "pd.options.mode.chained_assignment = None"
   ]
  },
  {
   "cell_type": "markdown",
   "id": "f771fab5",
   "metadata": {
    "id": "f771fab5"
   },
   "source": [
    "Загрузим датасет и выведем первые строки и общую информацию."
   ]
  },
  {
   "cell_type": "code",
   "execution_count": 2,
   "id": "a05a98d6",
   "metadata": {
    "id": "a05a98d6"
   },
   "outputs": [],
   "source": [
    "df = pd.read_csv('toxic_comments.csv')"
   ]
  },
  {
   "cell_type": "code",
   "execution_count": 3,
   "id": "c87f08fa",
   "metadata": {
    "colab": {
     "base_uri": "https://localhost:8080/",
     "height": 536
    },
    "id": "c87f08fa",
    "outputId": "e574cd91-d651-42e6-c113-e18fee05c9c0"
   },
   "outputs": [
    {
     "data": {
      "text/html": [
       "\n",
       "  <div id=\"df-9d1f33a4-981d-4fbe-ba21-5927e34514a4\">\n",
       "    <div class=\"colab-df-container\">\n",
       "      <div>\n",
       "<style scoped>\n",
       "    .dataframe tbody tr th:only-of-type {\n",
       "        vertical-align: middle;\n",
       "    }\n",
       "\n",
       "    .dataframe tbody tr th {\n",
       "        vertical-align: top;\n",
       "    }\n",
       "\n",
       "    .dataframe thead th {\n",
       "        text-align: right;\n",
       "    }\n",
       "</style>\n",
       "<table border=\"1\" class=\"dataframe\">\n",
       "  <thead>\n",
       "    <tr style=\"text-align: right;\">\n",
       "      <th></th>\n",
       "      <th>text</th>\n",
       "      <th>toxic</th>\n",
       "    </tr>\n",
       "  </thead>\n",
       "  <tbody>\n",
       "    <tr>\n",
       "      <th>0</th>\n",
       "      <td>Explanation\\nWhy the edits made under my usern...</td>\n",
       "      <td>0</td>\n",
       "    </tr>\n",
       "    <tr>\n",
       "      <th>1</th>\n",
       "      <td>D'aww! He matches this background colour I'm s...</td>\n",
       "      <td>0</td>\n",
       "    </tr>\n",
       "    <tr>\n",
       "      <th>2</th>\n",
       "      <td>Hey man, I'm really not trying to edit war. It...</td>\n",
       "      <td>0</td>\n",
       "    </tr>\n",
       "    <tr>\n",
       "      <th>3</th>\n",
       "      <td>\"\\nMore\\nI can't make any real suggestions on ...</td>\n",
       "      <td>0</td>\n",
       "    </tr>\n",
       "    <tr>\n",
       "      <th>4</th>\n",
       "      <td>You, sir, are my hero. Any chance you remember...</td>\n",
       "      <td>0</td>\n",
       "    </tr>\n",
       "    <tr>\n",
       "      <th>5</th>\n",
       "      <td>\"\\n\\nCongratulations from me as well, use the ...</td>\n",
       "      <td>0</td>\n",
       "    </tr>\n",
       "    <tr>\n",
       "      <th>6</th>\n",
       "      <td>COCKSUCKER BEFORE YOU PISS AROUND ON MY WORK</td>\n",
       "      <td>1</td>\n",
       "    </tr>\n",
       "    <tr>\n",
       "      <th>7</th>\n",
       "      <td>Your vandalism to the Matt Shirvington article...</td>\n",
       "      <td>0</td>\n",
       "    </tr>\n",
       "    <tr>\n",
       "      <th>8</th>\n",
       "      <td>Sorry if the word 'nonsense' was offensive to ...</td>\n",
       "      <td>0</td>\n",
       "    </tr>\n",
       "    <tr>\n",
       "      <th>9</th>\n",
       "      <td>alignment on this subject and which are contra...</td>\n",
       "      <td>0</td>\n",
       "    </tr>\n",
       "  </tbody>\n",
       "</table>\n",
       "</div>\n",
       "      <button class=\"colab-df-convert\" onclick=\"convertToInteractive('df-9d1f33a4-981d-4fbe-ba21-5927e34514a4')\"\n",
       "              title=\"Convert this dataframe to an interactive table.\"\n",
       "              style=\"display:none;\">\n",
       "        \n",
       "  <svg xmlns=\"http://www.w3.org/2000/svg\" height=\"24px\"viewBox=\"0 0 24 24\"\n",
       "       width=\"24px\">\n",
       "    <path d=\"M0 0h24v24H0V0z\" fill=\"none\"/>\n",
       "    <path d=\"M18.56 5.44l.94 2.06.94-2.06 2.06-.94-2.06-.94-.94-2.06-.94 2.06-2.06.94zm-11 1L8.5 8.5l.94-2.06 2.06-.94-2.06-.94L8.5 2.5l-.94 2.06-2.06.94zm10 10l.94 2.06.94-2.06 2.06-.94-2.06-.94-.94-2.06-.94 2.06-2.06.94z\"/><path d=\"M17.41 7.96l-1.37-1.37c-.4-.4-.92-.59-1.43-.59-.52 0-1.04.2-1.43.59L10.3 9.45l-7.72 7.72c-.78.78-.78 2.05 0 2.83L4 21.41c.39.39.9.59 1.41.59.51 0 1.02-.2 1.41-.59l7.78-7.78 2.81-2.81c.8-.78.8-2.07 0-2.86zM5.41 20L4 18.59l7.72-7.72 1.47 1.35L5.41 20z\"/>\n",
       "  </svg>\n",
       "      </button>\n",
       "      \n",
       "  <style>\n",
       "    .colab-df-container {\n",
       "      display:flex;\n",
       "      flex-wrap:wrap;\n",
       "      gap: 12px;\n",
       "    }\n",
       "\n",
       "    .colab-df-convert {\n",
       "      background-color: #E8F0FE;\n",
       "      border: none;\n",
       "      border-radius: 50%;\n",
       "      cursor: pointer;\n",
       "      display: none;\n",
       "      fill: #1967D2;\n",
       "      height: 32px;\n",
       "      padding: 0 0 0 0;\n",
       "      width: 32px;\n",
       "    }\n",
       "\n",
       "    .colab-df-convert:hover {\n",
       "      background-color: #E2EBFA;\n",
       "      box-shadow: 0px 1px 2px rgba(60, 64, 67, 0.3), 0px 1px 3px 1px rgba(60, 64, 67, 0.15);\n",
       "      fill: #174EA6;\n",
       "    }\n",
       "\n",
       "    [theme=dark] .colab-df-convert {\n",
       "      background-color: #3B4455;\n",
       "      fill: #D2E3FC;\n",
       "    }\n",
       "\n",
       "    [theme=dark] .colab-df-convert:hover {\n",
       "      background-color: #434B5C;\n",
       "      box-shadow: 0px 1px 3px 1px rgba(0, 0, 0, 0.15);\n",
       "      filter: drop-shadow(0px 1px 2px rgba(0, 0, 0, 0.3));\n",
       "      fill: #FFFFFF;\n",
       "    }\n",
       "  </style>\n",
       "\n",
       "      <script>\n",
       "        const buttonEl =\n",
       "          document.querySelector('#df-9d1f33a4-981d-4fbe-ba21-5927e34514a4 button.colab-df-convert');\n",
       "        buttonEl.style.display =\n",
       "          google.colab.kernel.accessAllowed ? 'block' : 'none';\n",
       "\n",
       "        async function convertToInteractive(key) {\n",
       "          const element = document.querySelector('#df-9d1f33a4-981d-4fbe-ba21-5927e34514a4');\n",
       "          const dataTable =\n",
       "            await google.colab.kernel.invokeFunction('convertToInteractive',\n",
       "                                                     [key], {});\n",
       "          if (!dataTable) return;\n",
       "\n",
       "          const docLinkHtml = 'Like what you see? Visit the ' +\n",
       "            '<a target=\"_blank\" href=https://colab.research.google.com/notebooks/data_table.ipynb>data table notebook</a>'\n",
       "            + ' to learn more about interactive tables.';\n",
       "          element.innerHTML = '';\n",
       "          dataTable['output_type'] = 'display_data';\n",
       "          await google.colab.output.renderOutput(dataTable, element);\n",
       "          const docLink = document.createElement('div');\n",
       "          docLink.innerHTML = docLinkHtml;\n",
       "          element.appendChild(docLink);\n",
       "        }\n",
       "      </script>\n",
       "    </div>\n",
       "  </div>\n",
       "  "
      ],
      "text/plain": [
       "                                                text  toxic\n",
       "0  Explanation\\nWhy the edits made under my usern...      0\n",
       "1  D'aww! He matches this background colour I'm s...      0\n",
       "2  Hey man, I'm really not trying to edit war. It...      0\n",
       "3  \"\\nMore\\nI can't make any real suggestions on ...      0\n",
       "4  You, sir, are my hero. Any chance you remember...      0\n",
       "5  \"\\n\\nCongratulations from me as well, use the ...      0\n",
       "6       COCKSUCKER BEFORE YOU PISS AROUND ON MY WORK      1\n",
       "7  Your vandalism to the Matt Shirvington article...      0\n",
       "8  Sorry if the word 'nonsense' was offensive to ...      0\n",
       "9  alignment on this subject and which are contra...      0"
      ]
     },
     "metadata": {},
     "output_type": "display_data"
    },
    {
     "name": "stdout",
     "output_type": "stream",
     "text": [
      "<class 'pandas.core.frame.DataFrame'>\n",
      "RangeIndex: 159571 entries, 0 to 159570\n",
      "Data columns (total 2 columns):\n",
      " #   Column  Non-Null Count   Dtype \n",
      "---  ------  --------------   ----- \n",
      " 0   text    159571 non-null  object\n",
      " 1   toxic   159571 non-null  int64 \n",
      "dtypes: int64(1), object(1)\n",
      "memory usage: 2.4+ MB\n"
     ]
    },
    {
     "data": {
      "text/plain": [
       "None"
      ]
     },
     "metadata": {},
     "output_type": "display_data"
    }
   ],
   "source": [
    "display(df.head(10))\n",
    "display(df.info())"
   ]
  },
  {
   "cell_type": "markdown",
   "id": "99af6a03",
   "metadata": {
    "id": "99af6a03"
   },
   "source": [
    "В датасете представлены 159571 комментарий с положительной или негативной окраской. Информация о том, является ли комментарий негативным отображается в столбце `toxic`.\n",
    "\n",
    "\n",
    "Посмотрим, как соотносятся между собой эти виды комментариев."
   ]
  },
  {
   "cell_type": "code",
   "execution_count": 4,
   "id": "48af1e7a",
   "metadata": {
    "colab": {
     "base_uri": "https://localhost:8080/",
     "height": 368
    },
    "id": "48af1e7a",
    "outputId": "8b452b56-8030-41e6-a421-17f60fec4839"
   },
   "outputs": [
    {
     "name": "stdout",
     "output_type": "stream",
     "text": [
      "\u001b[1m Соотношение классов: \u001b[0m\n",
      "0    89.832112\n",
      "1    10.167888\n",
      "Name: toxic, dtype: float64\n"
     ]
    },
    {
     "data": {
      "text/plain": [
       "Text(0.5, 1.0, 'Количество положительных и отрицательных комментариев')"
      ]
     },
     "execution_count": 4,
     "metadata": {},
     "output_type": "execute_result"
    },
    {
     "data": {
      "image/png": "[encoded data removed]",
      "text/plain": [
       "<Figure size 432x288 with 1 Axes>"
      ]
     },
     "metadata": {
      "needs_background": "light"
     },
     "output_type": "display_data"
    }
   ],
   "source": [
    "print('\\033[1m','Соотношение классов:', '\\033[0m')\n",
    "print(df['toxic'].value_counts()/df['toxic'].shape[0]*100)\n",
    "\n",
    "df['toxic'].hist(bins=3)\n",
    "plt.title('Количество положительных и отрицательных комментариев')"
   ]
  },
  {
   "cell_type": "markdown",
   "id": "cfddfc58",
   "metadata": {
    "id": "cfddfc58"
   },
   "source": [
    "Положительные комментарии составляют почти 90% от их общего числа. При обучении модели будем учитывать балансировку весов каждого класса."
   ]
  },
  {
   "cell_type": "markdown",
   "id": "6Q4Xk21VKdZ_",
   "metadata": {
    "id": "6Q4Xk21VKdZ_"
   },
   "source": [
    "Отформатируем комментарии - приведем текст к нижнему регистру, оставим только английские буквы и цифры."
   ]
  },
  {
   "cell_type": "code",
   "execution_count": 4,
   "id": "Ee1EJ58VK4vg",
   "metadata": {
    "colab": {
     "base_uri": "https://localhost:8080/",
     "height": 320
    },
    "id": "Ee1EJ58VK4vg",
    "outputId": "83127a3f-87da-4ef7-8531-40bcd5e8c6da"
   },
   "outputs": [
    {
     "data": {
      "text/html": [
       "\n",
       "  <div id=\"df-5ef9559b-00e2-4350-861a-01d0c5580d23\">\n",
       "    <div class=\"colab-df-container\">\n",
       "      <div>\n",
       "<style scoped>\n",
       "    .dataframe tbody tr th:only-of-type {\n",
       "        vertical-align: middle;\n",
       "    }\n",
       "\n",
       "    .dataframe tbody tr th {\n",
       "        vertical-align: top;\n",
       "    }\n",
       "\n",
       "    .dataframe thead th {\n",
       "        text-align: right;\n",
       "    }\n",
       "</style>\n",
       "<table border=\"1\" class=\"dataframe\">\n",
       "  <thead>\n",
       "    <tr style=\"text-align: right;\">\n",
       "      <th></th>\n",
       "      <th>text</th>\n",
       "      <th>toxic</th>\n",
       "      <th>clear_text</th>\n",
       "    </tr>\n",
       "  </thead>\n",
       "  <tbody>\n",
       "    <tr>\n",
       "      <th>0</th>\n",
       "      <td>explanation\\nwhy the edits made under my usern...</td>\n",
       "      <td>0</td>\n",
       "      <td>explanation why the edits made under my userna...</td>\n",
       "    </tr>\n",
       "    <tr>\n",
       "      <th>1</th>\n",
       "      <td>d'aww! he matches this background colour i'm s...</td>\n",
       "      <td>0</td>\n",
       "      <td>d aww he matches this background colour i m se...</td>\n",
       "    </tr>\n",
       "    <tr>\n",
       "      <th>2</th>\n",
       "      <td>hey man, i'm really not trying to edit war. it...</td>\n",
       "      <td>0</td>\n",
       "      <td>hey man i m really not trying to edit war it s...</td>\n",
       "    </tr>\n",
       "    <tr>\n",
       "      <th>3</th>\n",
       "      <td>\"\\nmore\\ni can't make any real suggestions on ...</td>\n",
       "      <td>0</td>\n",
       "      <td>more i can t make any real suggestions on impr...</td>\n",
       "    </tr>\n",
       "    <tr>\n",
       "      <th>4</th>\n",
       "      <td>you, sir, are my hero. any chance you remember...</td>\n",
       "      <td>0</td>\n",
       "      <td>you sir are my hero any chance you remember wh...</td>\n",
       "    </tr>\n",
       "  </tbody>\n",
       "</table>\n",
       "</div>\n",
       "      <button class=\"colab-df-convert\" onclick=\"convertToInteractive('df-5ef9559b-00e2-4350-861a-01d0c5580d23')\"\n",
       "              title=\"Convert this dataframe to an interactive table.\"\n",
       "              style=\"display:none;\">\n",
       "        \n",
       "  <svg xmlns=\"http://www.w3.org/2000/svg\" height=\"24px\"viewBox=\"0 0 24 24\"\n",
       "       width=\"24px\">\n",
       "    <path d=\"M0 0h24v24H0V0z\" fill=\"none\"/>\n",
       "    <path d=\"M18.56 5.44l.94 2.06.94-2.06 2.06-.94-2.06-.94-.94-2.06-.94 2.06-2.06.94zm-11 1L8.5 8.5l.94-2.06 2.06-.94-2.06-.94L8.5 2.5l-.94 2.06-2.06.94zm10 10l.94 2.06.94-2.06 2.06-.94-2.06-.94-.94-2.06-.94 2.06-2.06.94z\"/><path d=\"M17.41 7.96l-1.37-1.37c-.4-.4-.92-.59-1.43-.59-.52 0-1.04.2-1.43.59L10.3 9.45l-7.72 7.72c-.78.78-.78 2.05 0 2.83L4 21.41c.39.39.9.59 1.41.59.51 0 1.02-.2 1.41-.59l7.78-7.78 2.81-2.81c.8-.78.8-2.07 0-2.86zM5.41 20L4 18.59l7.72-7.72 1.47 1.35L5.41 20z\"/>\n",
       "  </svg>\n",
       "      </button>\n",
       "      \n",
       "  <style>\n",
       "    .colab-df-container {\n",
       "      display:flex;\n",
       "      flex-wrap:wrap;\n",
       "      gap: 12px;\n",
       "    }\n",
       "\n",
       "    .colab-df-convert {\n",
       "      background-color: #E8F0FE;\n",
       "      border: none;\n",
       "      border-radius: 50%;\n",
       "      cursor: pointer;\n",
       "      display: none;\n",
       "      fill: #1967D2;\n",
       "      height: 32px;\n",
       "      padding: 0 0 0 0;\n",
       "      width: 32px;\n",
       "    }\n",
       "\n",
       "    .colab-df-convert:hover {\n",
       "      background-color: #E2EBFA;\n",
       "      box-shadow: 0px 1px 2px rgba(60, 64, 67, 0.3), 0px 1px 3px 1px rgba(60, 64, 67, 0.15);\n",
       "      fill: #174EA6;\n",
       "    }\n",
       "\n",
       "    [theme=dark] .colab-df-convert {\n",
       "      background-color: #3B4455;\n",
       "      fill: #D2E3FC;\n",
       "    }\n",
       "\n",
       "    [theme=dark] .colab-df-convert:hover {\n",
       "      background-color: #434B5C;\n",
       "      box-shadow: 0px 1px 3px 1px rgba(0, 0, 0, 0.15);\n",
       "      filter: drop-shadow(0px 1px 2px rgba(0, 0, 0, 0.3));\n",
       "      fill: #FFFFFF;\n",
       "    }\n",
       "  </style>\n",
       "\n",
       "      <script>\n",
       "        const buttonEl =\n",
       "          document.querySelector('#df-5ef9559b-00e2-4350-861a-01d0c5580d23 button.colab-df-convert');\n",
       "        buttonEl.style.display =\n",
       "          google.colab.kernel.accessAllowed ? 'block' : 'none';\n",
       "\n",
       "        async function convertToInteractive(key) {\n",
       "          const element = document.querySelector('#df-5ef9559b-00e2-4350-861a-01d0c5580d23');\n",
       "          const dataTable =\n",
       "            await google.colab.kernel.invokeFunction('convertToInteractive',\n",
       "                                                     [key], {});\n",
       "          if (!dataTable) return;\n",
       "\n",
       "          const docLinkHtml = 'Like what you see? Visit the ' +\n",
       "            '<a target=\"_blank\" href=https://colab.research.google.com/notebooks/data_table.ipynb>data table notebook</a>'\n",
       "            + ' to learn more about interactive tables.';\n",
       "          element.innerHTML = '';\n",
       "          dataTable['output_type'] = 'display_data';\n",
       "          await google.colab.output.renderOutput(dataTable, element);\n",
       "          const docLink = document.createElement('div');\n",
       "          docLink.innerHTML = docLinkHtml;\n",
       "          element.appendChild(docLink);\n",
       "        }\n",
       "      </script>\n",
       "    </div>\n",
       "  </div>\n",
       "  "
      ],
      "text/plain": [
       "                                                text  toxic  \\\n",
       "0  explanation\\nwhy the edits made under my usern...      0   \n",
       "1  d'aww! he matches this background colour i'm s...      0   \n",
       "2  hey man, i'm really not trying to edit war. it...      0   \n",
       "3  \"\\nmore\\ni can't make any real suggestions on ...      0   \n",
       "4  you, sir, are my hero. any chance you remember...      0   \n",
       "\n",
       "                                          clear_text  \n",
       "0  explanation why the edits made under my userna...  \n",
       "1  d aww he matches this background colour i m se...  \n",
       "2  hey man i m really not trying to edit war it s...  \n",
       "3  more i can t make any real suggestions on impr...  \n",
       "4  you sir are my hero any chance you remember wh...  "
      ]
     },
     "execution_count": 4,
     "metadata": {},
     "output_type": "execute_result"
    }
   ],
   "source": [
    "df['text'] = df['text'].values.astype('U')\n",
    "df['text'] = df['text'].str.lower()\n",
    "\n",
    "text_new = []\n",
    "pattern = r'[^a-zA-Z0-9]' \n",
    "for sentence in df.text:\n",
    "    cleared_text = re.sub(pattern, \" \", sentence)\n",
    "    text_new.append(\" \". join(cleared_text.split()))\n",
    "\n",
    "df['clear_text'] = text_new\n",
    "df.head() "
   ]
  },
  {
   "cell_type": "markdown",
   "id": "3svXKMcf4uTW",
   "metadata": {
    "id": "3svXKMcf4uTW"
   },
   "source": [
    "Также предварительно создадим функцию для записи результатов работы моделей."
   ]
  },
  {
   "cell_type": "code",
   "execution_count": 5,
   "id": "ZzxtWHhQ4sqt",
   "metadata": {
    "id": "ZzxtWHhQ4sqt"
   },
   "outputs": [],
   "source": [
    "results = pd.DataFrame(columns=['F1-score'])\n",
    "\n",
    "def metrics(f1,  model_name, df=results):\n",
    "    df.loc[model_name,'F1-score'] = f1\n",
    "    return df"
   ]
  },
  {
   "cell_type": "markdown",
   "id": "Lmk0T0Kw0fmg",
   "metadata": {
    "id": "Lmk0T0Kw0fmg"
   },
   "source": [
    "## Обучение моделей\n",
    "\n",
    "В этом разделе рассмотрим 3 метода и сравним результаты их работы:\n",
    "1. BERT\n",
    "2. Catboost\n",
    "3. TF-IDF "
   ]
  },
  {
   "cell_type": "markdown",
   "id": "plsZX-0r1Jeq",
   "metadata": {
    "id": "plsZX-0r1Jeq"
   },
   "source": [
    "### BERT"
   ]
  },
  {
   "cell_type": "markdown",
   "id": "RnToBYHD3__B",
   "metadata": {
    "id": "RnToBYHD3__B"
   },
   "source": [
    "#### Подготовка входных данных"
   ]
  },
  {
   "cell_type": "markdown",
   "id": "6aY3vIShzxqD",
   "metadata": {
    "id": "6aY3vIShzxqD"
   },
   "source": [
    "Чтобы `torch` мог использовать GPU, нам нужно идентифицировать и указать графический процессор в качестве используемого устройства `device`, чтобы в цикле обучения данные грузились на него."
   ]
  },
  {
   "cell_type": "code",
   "execution_count": 6,
   "id": "wCgDeUJdz1OZ",
   "metadata": {
    "colab": {
     "base_uri": "https://localhost:8080/"
    },
    "id": "wCgDeUJdz1OZ",
    "outputId": "4090431c-fa36-46c8-92df-8bfa2cd9db47"
   },
   "outputs": [
    {
     "name": "stdout",
     "output_type": "stream",
     "text": [
      "Используется CPU\n"
     ]
    }
   ],
   "source": [
    "device = torch.device(\"cuda\" if torch.cuda.is_available() else \"cpu\")\n",
    "\n",
    "if device == torch.device('cpu'):\n",
    "    print('Используется CPU')\n",
    "else:\n",
    "    n_gpu = torch.cuda.device_count()\n",
    "    print('Используется {} GPU'.format(torch.cuda.get_device_name(0)))"
   ]
  },
  {
   "cell_type": "markdown",
   "id": "B-QfrYiTywId",
   "metadata": {
    "id": "B-QfrYiTywId"
   },
   "source": [
    "Для оптимизации работы модели, выделим из датасета выборку величиной, равной `SAMPLE_SIZE`. Также проверим, чтобы после выделения выборки, соотношение классов продолжало оставаться примерно таким же, как и до этого."
   ]
  },
  {
   "cell_type": "code",
   "execution_count": 7,
   "id": "b37469b4",
   "metadata": {
    "colab": {
     "base_uri": "https://localhost:8080/"
    },
    "id": "b37469b4",
    "outputId": "a8d81f4e-ba3b-4044-bd4d-4c1d3aa4f966"
   },
   "outputs": [
    {
     "name": "stdout",
     "output_type": "stream",
     "text": [
      "\u001b[1mСоотношение классов:\u001b[0m\n",
      "0    90.235\n",
      "1     9.765\n",
      "Name: toxic, dtype: float64\n"
     ]
    }
   ],
   "source": [
    "SAMPLE_SIZE = 20000\n",
    "corpus = df.sample(n=SAMPLE_SIZE,random_state=123).reset_index(drop=True)\n",
    "print('\\033[1m', 'Соотношение классов:','\\033[0m','\\n', \n",
    "      corpus.toxic.value_counts()/corpus.shape[0]*100, \n",
    "      sep='')"
   ]
  },
  {
   "cell_type": "markdown",
   "id": "rtBXBimP2cGk",
   "metadata": {
    "id": "rtBXBimP2cGk"
   },
   "source": [
    "Выделим общий и целевой признаки. Также дополнительно добавим специальные токены в начало(`CLS`) и конец (`SEP`) каждого предложения, чтобы `BERT` работал правильно."
   ]
  },
  {
   "cell_type": "code",
   "execution_count": 9,
   "id": "a595ce79",
   "metadata": {
    "id": "a595ce79"
   },
   "outputs": [],
   "source": [
    "sentences = corpus['text'].values \n",
    "sentences = [\"[CLS] \" + sentence + \" [SEP]\" for sentence in sentences]\n",
    "\n",
    "labels = corpus['toxic'].values"
   ]
  },
  {
   "cell_type": "markdown",
   "id": "9kkK9CWWBwwH",
   "metadata": {
    "id": "9kkK9CWWBwwH"
   },
   "source": [
    "Выделим обучающую и тестовую выборки."
   ]
  },
  {
   "cell_type": "code",
   "execution_count": 10,
   "id": "dde64314",
   "metadata": {
    "id": "dde64314"
   },
   "outputs": [],
   "source": [
    "train_sentences, test_sentences, train_lab, test_lab = train_test_split(sentences, \n",
    "                                       labels, \n",
    "                                       test_size=0.2)"
   ]
  },
  {
   "cell_type": "markdown",
   "id": "moWuAiLk00Yy",
   "metadata": {
    "id": "moWuAiLk00Yy"
   },
   "source": [
    "Импортируем токенизатор `BERT` для преобразования нашего текста в токены."
   ]
  },
  {
   "cell_type": "code",
   "execution_count": 11,
   "id": "63353d33",
   "metadata": {
    "colab": {
     "base_uri": "https://localhost:8080/"
    },
    "id": "63353d33",
    "outputId": "2ae65ce5-eee2-4a25-c8bf-4d82884f06db"
   },
   "outputs": [
    {
     "name": "stdout",
     "output_type": "stream",
     "text": [
      "['[CLS]', '\"', ',', '28', 'november', '2014', '(', 'utc', ')', 'i', 'think', 'this', 'one', 'is', 'an', 'overseas', 'filipino', 'broad', '##sh', '##eet', 'made', 'by', 'of', '##ws', 'in', 'another', 'country', '.', \"'\", \"'\", \"'\", \"'\", \"'\", \"'\", '10', ':', '44', '\"', '[SEP]']\n"
     ]
    }
   ],
   "source": [
    "tokenizer = BertTokenizer.from_pretrained('bert-base-uncased', do_lower_case=True)\n",
    "\n",
    "tokenized_texts = [tokenizer.tokenize(sentence) for sentence in train_sentences]\n",
    "print (tokenized_texts[10])"
   ]
  },
  {
   "cell_type": "markdown",
   "id": "z_yinXIIGqCe",
   "metadata": {
    "id": "z_yinXIIGqCe"
   },
   "source": [
    "На вход `BERT` принимает определенным образом отформатированные данные. Для каждого токенизированного предложения нам нужно создать:\n",
    "\n",
    "* **input ids:** последовательность целых чисел, идентифицирующая каждый входной токен по его порядковому номеру в словаре токенизатора BERT.\n",
    "* **segment mask:** (необязательно) последовательность 1 и 0, используемая для определения того, состоит ли входной текст из одного или двух предложений. Для одного предложения это вектор, состоящий из нулей, для двух предложений - из 0 и 1.\n",
    "***attention mask:** (необязательно) последовательность 1 и 0, где 1 соответствуют входным токенам и 0 для всех паддингов (padding tokens). \n",
    "* **labels:** единичное значение 1 или 0. В нашей задаче 1 отражает негативную тональность комментария, а 0 - положительную.\n",
    "\n",
    "__________\n",
    "Для BERT необходимо, чтобы наши входные комментарии были одинакового размера. Решим эту проблему, выбрав максимальную длину предложения, а затем дополняя и усекая наши входные данные, пока все комментари не будут иметь одинаковую длину.\n",
    "\n",
    "Если предложение короче максимальной длины предложения, в конец последовательности будут добавляться 0, пока не будет достигнута максимальная длина предложения.\n",
    "\n",
    "Если предложение длиннее максимальной длины предложения, конец последовательности будет обрезаться, а все, что не укладывается в нашу максимальную длину предложения, будет отбрасываться.\n",
    "\n",
    "Таким образом, мы дополняем и обрезаем наши последовательности так, чтобы все они имели длину MAX_LEN.\n",
    "\n",
    "`post` означает, что мы хотим дополнить и обрезать данные в конце последовательности, а не в ее начале. \n",
    "\n",
    "`pad_sequences` — это служебная функция, которую мы импортируем из Keras для обработки списков Python.\n"
   ]
  },
  {
   "cell_type": "code",
   "execution_count": 12,
   "id": "023deadc",
   "metadata": {
    "id": "023deadc"
   },
   "outputs": [],
   "source": [
    "MAX_LEN = 160\n",
    "BATCH_SIZE = 32\n",
    "\n",
    "input_ids = [tokenizer.convert_tokens_to_ids(x[:160]) for x in tokenized_texts]\n",
    "input_ids = pad_sequences(\n",
    "    input_ids,\n",
    "    maxlen=MAX_LEN, \n",
    "    dtype=\"long\",\n",
    "    truncating=\"post\",\n",
    "    padding=\"post\"\n",
    ")\n",
    "attention_masks = [[float(i>0) for i in seq] for seq in input_ids]"
   ]
  },
  {
   "cell_type": "markdown",
   "id": "xYP8khQHGpV2",
   "metadata": {
    "id": "xYP8khQHGpV2"
   },
   "source": [
    "Делим данные на обучающую и валидационную выборки."
   ]
  },
  {
   "cell_type": "code",
   "execution_count": 13,
   "id": "e4b4cbc0",
   "metadata": {
    "id": "e4b4cbc0"
   },
   "outputs": [],
   "source": [
    "train_inputs, validation_inputs, train_labels, validation_labels = train_test_split(\n",
    "    input_ids, train_lab, \n",
    "    random_state=123,\n",
    "    test_size=0.1\n",
    ")\n",
    "\n",
    "train_masks, validation_masks, _, _ = train_test_split(\n",
    "    attention_masks,\n",
    "    input_ids,\n",
    "    random_state=123,\n",
    "    test_size=0.1\n",
    ")"
   ]
  },
  {
   "cell_type": "markdown",
   "id": "Y3eCuP49PH5L",
   "metadata": {
    "id": "Y3eCuP49PH5L"
   },
   "source": [
    "Преобразуем данные в torch тензоры."
   ]
  },
  {
   "cell_type": "code",
   "execution_count": 14,
   "id": "5ba921ca",
   "metadata": {
    "id": "5ba921ca"
   },
   "outputs": [],
   "source": [
    "train_inputs = torch.tensor(train_inputs)\n",
    "train_labels = torch.tensor(train_labels)\n",
    "train_masks = torch.tensor(train_masks)"
   ]
  },
  {
   "cell_type": "code",
   "execution_count": 15,
   "id": "ed7c92e7",
   "metadata": {
    "id": "ed7c92e7"
   },
   "outputs": [],
   "source": [
    "validation_inputs = torch.tensor(validation_inputs)\n",
    "validation_labels = torch.tensor(validation_labels)\n",
    "validation_masks = torch.tensor(validation_masks)"
   ]
  },
  {
   "cell_type": "markdown",
   "id": "3tdXQSJ6P1n_",
   "metadata": {
    "id": "3tdXQSJ6P1n_"
   },
   "source": [
    "Для более эффективного использования памяти во время тренировки модели используем `DataLoader`. Данные по батчам будем разбивать произвольно с помощью RandomSampler. "
   ]
  },
  {
   "cell_type": "code",
   "execution_count": 16,
   "id": "387c6150",
   "metadata": {
    "id": "387c6150"
   },
   "outputs": [],
   "source": [
    "train_data = TensorDataset(train_inputs, train_masks, train_labels)\n",
    "train_dataloader = DataLoader(\n",
    "    train_data,\n",
    "    sampler=RandomSampler(train_data),\n",
    "    batch_size=BATCH_SIZE \n",
    ")\n",
    "validation_data = TensorDataset(validation_inputs, \n",
    "                                validation_masks, validation_labels)\n",
    "validation_dataloader = DataLoader(\n",
    "    validation_data,\n",
    "    sampler=SequentialSampler(validation_data),\n",
    "    batch_size=BATCH_SIZE \n",
    ")"
   ]
  },
  {
   "cell_type": "markdown",
   "id": "sY9a9QKm4LTC",
   "metadata": {
    "id": "sY9a9QKm4LTC"
   },
   "source": [
    "#### Обучение"
   ]
  },
  {
   "cell_type": "markdown",
   "id": "yCH1Acxt5DHQ",
   "metadata": {
    "id": "yCH1Acxt5DHQ"
   },
   "source": [
    "Используем готовую модификацию BERT для классификации из `pytorch-transformers` с добавленным линейным слоем для классификации - `BertForSequenceClassification`."
   ]
  },
  {
   "cell_type": "code",
   "execution_count": 17,
   "id": "428adb04",
   "metadata": {
    "colab": {
     "base_uri": "https://localhost:8080/"
    },
    "id": "428adb04",
    "outputId": "7a97e7d6-7eb2-417d-d9e2-6e76e0f00503"
   },
   "outputs": [
    {
     "data": {
      "text/plain": [
       "BertForSequenceClassification(\n",
       "  (bert): BertModel(\n",
       "    (embeddings): BertEmbeddings(\n",
       "      (word_embeddings): Embedding(30522, 768, padding_idx=0)\n",
       "      (position_embeddings): Embedding(512, 768)\n",
       "      (token_type_embeddings): Embedding(2, 768)\n",
       "      (LayerNorm): LayerNorm((768,), eps=1e-12, elementwise_affine=True)\n",
       "      (dropout): Dropout(p=0.1, inplace=False)\n",
       "    )\n",
       "    (encoder): BertEncoder(\n",
       "      (layer): ModuleList(\n",
       "        (0): BertLayer(\n",
       "          (attention): BertAttention(\n",
       "            (self): BertSelfAttention(\n",
       "              (query): Linear(in_features=768, out_features=768, bias=True)\n",
       "              (key): Linear(in_features=768, out_features=768, bias=True)\n",
       "              (value): Linear(in_features=768, out_features=768, bias=True)\n",
       "              (dropout): Dropout(p=0.1, inplace=False)\n",
       "            )\n",
       "            (output): BertSelfOutput(\n",
       "              (dense): Linear(in_features=768, out_features=768, bias=True)\n",
       "              (LayerNorm): LayerNorm((768,), eps=1e-12, elementwise_affine=True)\n",
       "              (dropout): Dropout(p=0.1, inplace=False)\n",
       "            )\n",
       "          )\n",
       "          (intermediate): BertIntermediate(\n",
       "            (dense): Linear(in_features=768, out_features=3072, bias=True)\n",
       "          )\n",
       "          (output): BertOutput(\n",
       "            (dense): Linear(in_features=3072, out_features=768, bias=True)\n",
       "            (LayerNorm): LayerNorm((768,), eps=1e-12, elementwise_affine=True)\n",
       "            (dropout): Dropout(p=0.1, inplace=False)\n",
       "          )\n",
       "        )\n",
       "        (1): BertLayer(\n",
       "          (attention): BertAttention(\n",
       "            (self): BertSelfAttention(\n",
       "              (query): Linear(in_features=768, out_features=768, bias=True)\n",
       "              (key): Linear(in_features=768, out_features=768, bias=True)\n",
       "              (value): Linear(in_features=768, out_features=768, bias=True)\n",
       "              (dropout): Dropout(p=0.1, inplace=False)\n",
       "            )\n",
       "            (output): BertSelfOutput(\n",
       "              (dense): Linear(in_features=768, out_features=768, bias=True)\n",
       "              (LayerNorm): LayerNorm((768,), eps=1e-12, elementwise_affine=True)\n",
       "              (dropout): Dropout(p=0.1, inplace=False)\n",
       "            )\n",
       "          )\n",
       "          (intermediate): BertIntermediate(\n",
       "            (dense): Linear(in_features=768, out_features=3072, bias=True)\n",
       "          )\n",
       "          (output): BertOutput(\n",
       "            (dense): Linear(in_features=3072, out_features=768, bias=True)\n",
       "            (LayerNorm): LayerNorm((768,), eps=1e-12, elementwise_affine=True)\n",
       "            (dropout): Dropout(p=0.1, inplace=False)\n",
       "          )\n",
       "        )\n",
       "        (2): BertLayer(\n",
       "          (attention): BertAttention(\n",
       "            (self): BertSelfAttention(\n",
       "              (query): Linear(in_features=768, out_features=768, bias=True)\n",
       "              (key): Linear(in_features=768, out_features=768, bias=True)\n",
       "              (value): Linear(in_features=768, out_features=768, bias=True)\n",
       "              (dropout): Dropout(p=0.1, inplace=False)\n",
       "            )\n",
       "            (output): BertSelfOutput(\n",
       "              (dense): Linear(in_features=768, out_features=768, bias=True)\n",
       "              (LayerNorm): LayerNorm((768,), eps=1e-12, elementwise_affine=True)\n",
       "              (dropout): Dropout(p=0.1, inplace=False)\n",
       "            )\n",
       "          )\n",
       "          (intermediate): BertIntermediate(\n",
       "            (dense): Linear(in_features=768, out_features=3072, bias=True)\n",
       "          )\n",
       "          (output): BertOutput(\n",
       "            (dense): Linear(in_features=3072, out_features=768, bias=True)\n",
       "            (LayerNorm): LayerNorm((768,), eps=1e-12, elementwise_affine=True)\n",
       "            (dropout): Dropout(p=0.1, inplace=False)\n",
       "          )\n",
       "        )\n",
       "        (3): BertLayer(\n",
       "          (attention): BertAttention(\n",
       "            (self): BertSelfAttention(\n",
       "              (query): Linear(in_features=768, out_features=768, bias=True)\n",
       "              (key): Linear(in_features=768, out_features=768, bias=True)\n",
       "              (value): Linear(in_features=768, out_features=768, bias=True)\n",
       "              (dropout): Dropout(p=0.1, inplace=False)\n",
       "            )\n",
       "            (output): BertSelfOutput(\n",
       "              (dense): Linear(in_features=768, out_features=768, bias=True)\n",
       "              (LayerNorm): LayerNorm((768,), eps=1e-12, elementwise_affine=True)\n",
       "              (dropout): Dropout(p=0.1, inplace=False)\n",
       "            )\n",
       "          )\n",
       "          (intermediate): BertIntermediate(\n",
       "            (dense): Linear(in_features=768, out_features=3072, bias=True)\n",
       "          )\n",
       "          (output): BertOutput(\n",
       "            (dense): Linear(in_features=3072, out_features=768, bias=True)\n",
       "            (LayerNorm): LayerNorm((768,), eps=1e-12, elementwise_affine=True)\n",
       "            (dropout): Dropout(p=0.1, inplace=False)\n",
       "          )\n",
       "        )\n",
       "        (4): BertLayer(\n",
       "          (attention): BertAttention(\n",
       "            (self): BertSelfAttention(\n",
       "              (query): Linear(in_features=768, out_features=768, bias=True)\n",
       "              (key): Linear(in_features=768, out_features=768, bias=True)\n",
       "              (value): Linear(in_features=768, out_features=768, bias=True)\n",
       "              (dropout): Dropout(p=0.1, inplace=False)\n",
       "            )\n",
       "            (output): BertSelfOutput(\n",
       "              (dense): Linear(in_features=768, out_features=768, bias=True)\n",
       "              (LayerNorm): LayerNorm((768,), eps=1e-12, elementwise_affine=True)\n",
       "              (dropout): Dropout(p=0.1, inplace=False)\n",
       "            )\n",
       "          )\n",
       "          (intermediate): BertIntermediate(\n",
       "            (dense): Linear(in_features=768, out_features=3072, bias=True)\n",
       "          )\n",
       "          (output): BertOutput(\n",
       "            (dense): Linear(in_features=3072, out_features=768, bias=True)\n",
       "            (LayerNorm): LayerNorm((768,), eps=1e-12, elementwise_affine=True)\n",
       "            (dropout): Dropout(p=0.1, inplace=False)\n",
       "          )\n",
       "        )\n",
       "        (5): BertLayer(\n",
       "          (attention): BertAttention(\n",
       "            (self): BertSelfAttention(\n",
       "              (query): Linear(in_features=768, out_features=768, bias=True)\n",
       "              (key): Linear(in_features=768, out_features=768, bias=True)\n",
       "              (value): Linear(in_features=768, out_features=768, bias=True)\n",
       "              (dropout): Dropout(p=0.1, inplace=False)\n",
       "            )\n",
       "            (output): BertSelfOutput(\n",
       "              (dense): Linear(in_features=768, out_features=768, bias=True)\n",
       "              (LayerNorm): LayerNorm((768,), eps=1e-12, elementwise_affine=True)\n",
       "              (dropout): Dropout(p=0.1, inplace=False)\n",
       "            )\n",
       "          )\n",
       "          (intermediate): BertIntermediate(\n",
       "            (dense): Linear(in_features=768, out_features=3072, bias=True)\n",
       "          )\n",
       "          (output): BertOutput(\n",
       "            (dense): Linear(in_features=3072, out_features=768, bias=True)\n",
       "            (LayerNorm): LayerNorm((768,), eps=1e-12, elementwise_affine=True)\n",
       "            (dropout): Dropout(p=0.1, inplace=False)\n",
       "          )\n",
       "        )\n",
       "        (6): BertLayer(\n",
       "          (attention): BertAttention(\n",
       "            (self): BertSelfAttention(\n",
       "              (query): Linear(in_features=768, out_features=768, bias=True)\n",
       "              (key): Linear(in_features=768, out_features=768, bias=True)\n",
       "              (value): Linear(in_features=768, out_features=768, bias=True)\n",
       "              (dropout): Dropout(p=0.1, inplace=False)\n",
       "            )\n",
       "            (output): BertSelfOutput(\n",
       "              (dense): Linear(in_features=768, out_features=768, bias=True)\n",
       "              (LayerNorm): LayerNorm((768,), eps=1e-12, elementwise_affine=True)\n",
       "              (dropout): Dropout(p=0.1, inplace=False)\n",
       "            )\n",
       "          )\n",
       "          (intermediate): BertIntermediate(\n",
       "            (dense): Linear(in_features=768, out_features=3072, bias=True)\n",
       "          )\n",
       "          (output): BertOutput(\n",
       "            (dense): Linear(in_features=3072, out_features=768, bias=True)\n",
       "            (LayerNorm): LayerNorm((768,), eps=1e-12, elementwise_affine=True)\n",
       "            (dropout): Dropout(p=0.1, inplace=False)\n",
       "          )\n",
       "        )\n",
       "        (7): BertLayer(\n",
       "          (attention): BertAttention(\n",
       "            (self): BertSelfAttention(\n",
       "              (query): Linear(in_features=768, out_features=768, bias=True)\n",
       "              (key): Linear(in_features=768, out_features=768, bias=True)\n",
       "              (value): Linear(in_features=768, out_features=768, bias=True)\n",
       "              (dropout): Dropout(p=0.1, inplace=False)\n",
       "            )\n",
       "            (output): BertSelfOutput(\n",
       "              (dense): Linear(in_features=768, out_features=768, bias=True)\n",
       "              (LayerNorm): LayerNorm((768,), eps=1e-12, elementwise_affine=True)\n",
       "              (dropout): Dropout(p=0.1, inplace=False)\n",
       "            )\n",
       "          )\n",
       "          (intermediate): BertIntermediate(\n",
       "            (dense): Linear(in_features=768, out_features=3072, bias=True)\n",
       "          )\n",
       "          (output): BertOutput(\n",
       "            (dense): Linear(in_features=3072, out_features=768, bias=True)\n",
       "            (LayerNorm): LayerNorm((768,), eps=1e-12, elementwise_affine=True)\n",
       "            (dropout): Dropout(p=0.1, inplace=False)\n",
       "          )\n",
       "        )\n",
       "        (8): BertLayer(\n",
       "          (attention): BertAttention(\n",
       "            (self): BertSelfAttention(\n",
       "              (query): Linear(in_features=768, out_features=768, bias=True)\n",
       "              (key): Linear(in_features=768, out_features=768, bias=True)\n",
       "              (value): Linear(in_features=768, out_features=768, bias=True)\n",
       "              (dropout): Dropout(p=0.1, inplace=False)\n",
       "            )\n",
       "            (output): BertSelfOutput(\n",
       "              (dense): Linear(in_features=768, out_features=768, bias=True)\n",
       "              (LayerNorm): LayerNorm((768,), eps=1e-12, elementwise_affine=True)\n",
       "              (dropout): Dropout(p=0.1, inplace=False)\n",
       "            )\n",
       "          )\n",
       "          (intermediate): BertIntermediate(\n",
       "            (dense): Linear(in_features=768, out_features=3072, bias=True)\n",
       "          )\n",
       "          (output): BertOutput(\n",
       "            (dense): Linear(in_features=3072, out_features=768, bias=True)\n",
       "            (LayerNorm): LayerNorm((768,), eps=1e-12, elementwise_affine=True)\n",
       "            (dropout): Dropout(p=0.1, inplace=False)\n",
       "          )\n",
       "        )\n",
       "        (9): BertLayer(\n",
       "          (attention): BertAttention(\n",
       "            (self): BertSelfAttention(\n",
       "              (query): Linear(in_features=768, out_features=768, bias=True)\n",
       "              (key): Linear(in_features=768, out_features=768, bias=True)\n",
       "              (value): Linear(in_features=768, out_features=768, bias=True)\n",
       "              (dropout): Dropout(p=0.1, inplace=False)\n",
       "            )\n",
       "            (output): BertSelfOutput(\n",
       "              (dense): Linear(in_features=768, out_features=768, bias=True)\n",
       "              (LayerNorm): LayerNorm((768,), eps=1e-12, elementwise_affine=True)\n",
       "              (dropout): Dropout(p=0.1, inplace=False)\n",
       "            )\n",
       "          )\n",
       "          (intermediate): BertIntermediate(\n",
       "            (dense): Linear(in_features=768, out_features=3072, bias=True)\n",
       "          )\n",
       "          (output): BertOutput(\n",
       "            (dense): Linear(in_features=3072, out_features=768, bias=True)\n",
       "            (LayerNorm): LayerNorm((768,), eps=1e-12, elementwise_affine=True)\n",
       "            (dropout): Dropout(p=0.1, inplace=False)\n",
       "          )\n",
       "        )\n",
       "        (10): BertLayer(\n",
       "          (attention): BertAttention(\n",
       "            (self): BertSelfAttention(\n",
       "              (query): Linear(in_features=768, out_features=768, bias=True)\n",
       "              (key): Linear(in_features=768, out_features=768, bias=True)\n",
       "              (value): Linear(in_features=768, out_features=768, bias=True)\n",
       "              (dropout): Dropout(p=0.1, inplace=False)\n",
       "            )\n",
       "            (output): BertSelfOutput(\n",
       "              (dense): Linear(in_features=768, out_features=768, bias=True)\n",
       "              (LayerNorm): LayerNorm((768,), eps=1e-12, elementwise_affine=True)\n",
       "              (dropout): Dropout(p=0.1, inplace=False)\n",
       "            )\n",
       "          )\n",
       "          (intermediate): BertIntermediate(\n",
       "            (dense): Linear(in_features=768, out_features=3072, bias=True)\n",
       "          )\n",
       "          (output): BertOutput(\n",
       "            (dense): Linear(in_features=3072, out_features=768, bias=True)\n",
       "            (LayerNorm): LayerNorm((768,), eps=1e-12, elementwise_affine=True)\n",
       "            (dropout): Dropout(p=0.1, inplace=False)\n",
       "          )\n",
       "        )\n",
       "        (11): BertLayer(\n",
       "          (attention): BertAttention(\n",
       "            (self): BertSelfAttention(\n",
       "              (query): Linear(in_features=768, out_features=768, bias=True)\n",
       "              (key): Linear(in_features=768, out_features=768, bias=True)\n",
       "              (value): Linear(in_features=768, out_features=768, bias=True)\n",
       "              (dropout): Dropout(p=0.1, inplace=False)\n",
       "            )\n",
       "            (output): BertSelfOutput(\n",
       "              (dense): Linear(in_features=768, out_features=768, bias=True)\n",
       "              (LayerNorm): LayerNorm((768,), eps=1e-12, elementwise_affine=True)\n",
       "              (dropout): Dropout(p=0.1, inplace=False)\n",
       "            )\n",
       "          )\n",
       "          (intermediate): BertIntermediate(\n",
       "            (dense): Linear(in_features=768, out_features=3072, bias=True)\n",
       "          )\n",
       "          (output): BertOutput(\n",
       "            (dense): Linear(in_features=3072, out_features=768, bias=True)\n",
       "            (LayerNorm): LayerNorm((768,), eps=1e-12, elementwise_affine=True)\n",
       "            (dropout): Dropout(p=0.1, inplace=False)\n",
       "          )\n",
       "        )\n",
       "      )\n",
       "    )\n",
       "    (pooler): BertPooler(\n",
       "      (dense): Linear(in_features=768, out_features=768, bias=True)\n",
       "      (activation): Tanh()\n",
       "    )\n",
       "  )\n",
       "  (dropout): Dropout(p=0.1, inplace=False)\n",
       "  (classifier): Linear(in_features=768, out_features=2, bias=True)\n",
       ")"
      ]
     },
     "execution_count": 17,
     "metadata": {},
     "output_type": "execute_result"
    }
   ],
   "source": [
    "model = BertForSequenceClassification.from_pretrained(\n",
    "    \"bert-base-uncased\", num_labels=2)  \n",
    "\n",
    "model.to(device)"
   ]
  },
  {
   "cell_type": "markdown",
   "id": "PSTPCZy39mzq",
   "metadata": {
    "id": "PSTPCZy39mzq"
   },
   "source": [
    "Для обучения сети создим функцию ошибки (то, что следует минимизировать) и оптимизатор (который будет минимизировать ошибку). Оптимизатору передадим параметры модели. \n",
    "\n",
    "На каждой итерации из обучающих примеров формируется массив батчей, рассчитываются предсказания и вычисляется ошибка `loss` (из сравнения выхода модели с \"правильными\" значениями).\n",
    "\n",
    "На вычислительном графе ошибки метод `loss.backward()` даёт градиенты параметров модели, при помощи которых оптимизатор `optimizer` в методе `step()` получает новые значения параметров."
   ]
  },
  {
   "cell_type": "code",
   "execution_count": 18,
   "id": "84e42010",
   "metadata": {
    "id": "84e42010"
   },
   "outputs": [],
   "source": [
    "param_optimizer = list(model.named_parameters())\n",
    "no_decay = ['bias', 'gamma', 'beta']\n",
    "optimizer_grouped_parameters = [\n",
    "    {'params': [p for n, p in param_optimizer if not any(nd in n for nd in no_decay)],\n",
    "     'weight_decay_rate': 0.01},\n",
    "    {'params': [p for n, p in param_optimizer if any(nd in n for nd in no_decay)],\n",
    "     'weight_decay_rate': 0.0}\n",
    "]\n",
    "\n",
    "optimizer = AdamW(optimizer_grouped_parameters,lr=3e-5)"
   ]
  },
  {
   "cell_type": "code",
   "execution_count": 19,
   "id": "60a13911",
   "metadata": {
    "colab": {
     "base_uri": "https://localhost:8080/",
     "height": 330
    },
    "id": "60a13911",
    "outputId": "7f83b877-010b-4706-f59b-5a15e9f6d376"
   },
   "outputs": [
    {
     "data": {
      "image/png": "[encoded data removed]",
      "text/plain": [
       "<Figure size 432x288 with 1 Axes>"
      ]
     },
     "metadata": {
      "needs_background": "light"
     },
     "output_type": "display_data"
    },
    {
     "name": "stdout",
     "output_type": "stream",
     "text": [
      "Loss на обучающей выборке: 0.13207\n",
      "Процент правильных предсказаний на валидационной выборке: 95.69%\n"
     ]
    }
   ],
   "source": [
    "# loss сохраняется во время обучения\n",
    "# и отображается в виде графика\n",
    "train_loss_set = []\n",
    "train_loss = 0\n",
    "\n",
    "\n",
    "# обучение\n",
    "model.train()\n",
    "\n",
    "for step, batch in enumerate(train_dataloader):\n",
    "    # добавляем батч для вычисления на GPU\n",
    "    batch = tuple(t.to(device) for t in batch)\n",
    "    # распаковываем данные из dataloader\n",
    "    b_input_ids, b_input_mask, b_labels = batch\n",
    "    b_input_ids = torch. tensor(b_input_ids). to (torch. int64)\n",
    "    # если не сделать .zero_grad(), градиенты будут накапливаться\n",
    "    optimizer.zero_grad()\n",
    "     \n",
    "     # Forward pass\n",
    "    loss = model(b_input_ids, token_type_ids=None, attention_mask=b_input_mask, labels=b_labels)\n",
    "    train_loss_set.append(loss[0].item())  \n",
    "    \n",
    "    # Backward pass\n",
    "    loss[0].backward()\n",
    "    \n",
    "    # обновляем параметры и делаем шаг используя посчитанные градиенты\n",
    "    optimizer.step()\n",
    "\n",
    "    # обновляем loss\n",
    "    train_loss += loss[0].item()\n",
    "    \n",
    "    # рисуем график\n",
    "    clear_output(True)\n",
    "    plt.plot(train_loss_set)\n",
    "    plt.title(\"Training loss\")\n",
    "    plt.xlabel(\"Batch\")\n",
    "    plt.ylabel(\"Loss\")\n",
    "    plt.show()\n",
    "    \n",
    "print(\"Loss на обучающей выборке: {0:.5f}\".format(train_loss / len(train_dataloader)))\n",
    "\n",
    "\n",
    "# Валидация\n",
    "model.eval()\n",
    "\n",
    "valid_preds, valid_labels = [], []\n",
    "\n",
    "for batch in validation_dataloader:   \n",
    "    # добавляем батч для вычисления на GPU\n",
    "    batch = tuple(t.to(device) for t in batch)\n",
    "    \n",
    "    # распаковываем данные из dataloader\n",
    "    b_input_ids, b_input_mask, b_labels = batch\n",
    "    b_input_ids = torch. tensor(b_input_ids). to (torch. int64)\n",
    "\n",
    "    # при использовании .no_grad() модель не будет считать и хранить градиенты\n",
    "    with torch.no_grad():\n",
    "        logits = model(b_input_ids, token_type_ids=None, attention_mask=b_input_mask)\n",
    "\n",
    "    # перемещаем logits и метки классов на CPU для дальнейшей работы\n",
    "    logits = logits[0].detach().cpu().numpy()\n",
    "    label_ids = b_labels.to('cpu').numpy()\n",
    "    \n",
    "    batch_preds = np.argmax(logits, axis=1)\n",
    "    batch_labels = np.array(label_ids)     \n",
    "    valid_preds.extend(batch_preds)\n",
    "    valid_labels.extend(batch_labels)\n",
    "print(\"Процент правильных предсказаний на валидационной выборке: {0:.2f}%\".format(\n",
    "    accuracy_score(valid_labels, valid_preds) * 100\n",
    "))\n"
   ]
  },
  {
   "cell_type": "markdown",
   "id": "OK9H674-Djhw",
   "metadata": {
    "id": "OK9H674-Djhw"
   },
   "source": [
    "Также определим метрику F1 для валидационного набора данных."
   ]
  },
  {
   "cell_type": "code",
   "execution_count": 20,
   "id": "e41ee7ae",
   "metadata": {
    "colab": {
     "base_uri": "https://localhost:8080/"
    },
    "id": "e41ee7ae",
    "outputId": "87108afc-8bd7-4329-808d-a1b3966996d7"
   },
   "outputs": [
    {
     "name": "stdout",
     "output_type": "stream",
     "text": [
      "f1_score для валидационного набора: 0.75%\n"
     ]
    }
   ],
   "source": [
    "print(\"f1_score для валидационного набора: {0:.2f}%\".format(\n",
    "    f1_score(valid_labels, valid_preds)))"
   ]
  },
  {
   "cell_type": "markdown",
   "id": "Sn-hXrNTEBgg",
   "metadata": {
    "id": "Sn-hXrNTEBgg"
   },
   "source": [
    "#### Тестирование\n",
    "\n",
    "Повторим процедуру подготовки данных для тестового набора."
   ]
  },
  {
   "cell_type": "code",
   "execution_count": 21,
   "id": "0425d327",
   "metadata": {
    "id": "0425d327"
   },
   "outputs": [],
   "source": [
    "tokenized_texts = [tokenizer.tokenize(sent) for sent in test_sentences]\n",
    "input_ids = [tokenizer.convert_tokens_to_ids(x[:MAX_LEN]) for x in tokenized_texts]\n",
    "\n",
    "input_ids = pad_sequences(\n",
    "    input_ids,\n",
    "    maxlen=MAX_LEN,\n",
    "    dtype=\"long\",\n",
    "    truncating=\"post\",\n",
    "    padding=\"post\"\n",
    ")"
   ]
  },
  {
   "cell_type": "code",
   "execution_count": 22,
   "id": "19db8743",
   "metadata": {
    "id": "19db8743"
   },
   "outputs": [],
   "source": [
    "attention_masks = [[float(i>0) for i in seq] for seq in input_ids]\n",
    "\n",
    "prediction_inputs = torch.tensor(input_ids)\n",
    "prediction_masks = torch.tensor(attention_masks)\n",
    "prediction_labels = torch.tensor(test_lab)\n",
    "\n",
    "prediction_data = TensorDataset(\n",
    "    prediction_inputs,\n",
    "    prediction_masks,\n",
    "    prediction_labels\n",
    ")\n",
    "\n",
    "prediction_dataloader = DataLoader(\n",
    "    prediction_data, \n",
    "    sampler=SequentialSampler(prediction_data),\n",
    "    batch_size=BATCH_SIZE\n",
    ")"
   ]
  },
  {
   "cell_type": "markdown",
   "id": "yFhVGn9yE2HI",
   "metadata": {
    "id": "yFhVGn9yE2HI"
   },
   "source": [
    "Рассчитаем предсказания для тестовых данных."
   ]
  },
  {
   "cell_type": "code",
   "execution_count": 23,
   "id": "5ff27b88",
   "metadata": {
    "colab": {
     "base_uri": "https://localhost:8080/"
    },
    "id": "5ff27b88",
    "outputId": "168c08d4-190b-4420-9f58-5083b4e6c7ed"
   },
   "outputs": [
    {
     "name": "stdout",
     "output_type": "stream",
     "text": [
      "Процент правильных предсказаний на отложенной выборке составил: 96.92%\n"
     ]
    }
   ],
   "source": [
    "model.eval()\n",
    "test_preds, test_labels = [], []\n",
    "\n",
    "for batch in prediction_dataloader:\n",
    "    # добавляем батч для вычисления на GPU\n",
    "    batch = tuple(t.to(device) for t in batch)\n",
    "    \n",
    "    # Распаковываем данные из dataloader\n",
    "    b_input_ids, b_input_mask, b_labels = batch\n",
    "    b_input_ids = torch. tensor(b_input_ids). to (torch. int64)\n",
    "    # При использовании .no_grad() модель не будет считать и хранить градиенты.\n",
    "    # Это ускорит процесс предсказания меток для тестовых данных.\n",
    "    with torch.no_grad():\n",
    "        logits = model(b_input_ids, token_type_ids=None, attention_mask=b_input_mask)\n",
    "\n",
    "    # Перемещаем logits и метки классов на CPU для дальнейшей работы\n",
    "    logits = logits[0].detach().cpu().numpy()\n",
    "    label_ids = b_labels.to('cpu').numpy()\n",
    "\n",
    "    # Сохраняем предсказанные классы и ground truth\n",
    "    batch_preds = np.argmax(logits, axis=1)\n",
    "    batch_labels = np.array(label_ids)  \n",
    "    test_preds.extend(batch_preds)\n",
    "    test_labels.extend(batch_labels)\n",
    "\n",
    "acc_score = accuracy_score(test_labels, test_preds)\n",
    "print('Процент правильных предсказаний на отложенной выборке составил: {0:.2f}%'.format(\n",
    "    acc_score*100\n",
    "))"
   ]
  },
  {
   "cell_type": "markdown",
   "id": "Wi1M0DfnFGEQ",
   "metadata": {
    "id": "Wi1M0DfnFGEQ"
   },
   "source": [
    "Определим метрику F1 и запишем результаты в таблицу."
   ]
  },
  {
   "cell_type": "code",
   "execution_count": 24,
   "id": "10468a58",
   "metadata": {
    "colab": {
     "base_uri": "https://localhost:8080/",
     "height": 81
    },
    "id": "10468a58",
    "outputId": "7594986e-5d23-44c0-a036-30e0491582e3"
   },
   "outputs": [
    {
     "data": {
      "text/html": [
       "\n",
       "  <div id=\"df-65114364-757a-47e5-9aac-7e9d9e4e68e4\">\n",
       "    <div class=\"colab-df-container\">\n",
       "      <div>\n",
       "<style scoped>\n",
       "    .dataframe tbody tr th:only-of-type {\n",
       "        vertical-align: middle;\n",
       "    }\n",
       "\n",
       "    .dataframe tbody tr th {\n",
       "        vertical-align: top;\n",
       "    }\n",
       "\n",
       "    .dataframe thead th {\n",
       "        text-align: right;\n",
       "    }\n",
       "</style>\n",
       "<table border=\"1\" class=\"dataframe\">\n",
       "  <thead>\n",
       "    <tr style=\"text-align: right;\">\n",
       "      <th></th>\n",
       "      <th>F1-score</th>\n",
       "    </tr>\n",
       "  </thead>\n",
       "  <tbody>\n",
       "    <tr>\n",
       "      <th>BERT</th>\n",
       "      <td>0.830812</td>\n",
       "    </tr>\n",
       "  </tbody>\n",
       "</table>\n",
       "</div>\n",
       "      <button class=\"colab-df-convert\" onclick=\"convertToInteractive('df-65114364-757a-47e5-9aac-7e9d9e4e68e4')\"\n",
       "              title=\"Convert this dataframe to an interactive table.\"\n",
       "              style=\"display:none;\">\n",
       "        \n",
       "  <svg xmlns=\"http://www.w3.org/2000/svg\" height=\"24px\"viewBox=\"0 0 24 24\"\n",
       "       width=\"24px\">\n",
       "    <path d=\"M0 0h24v24H0V0z\" fill=\"none\"/>\n",
       "    <path d=\"M18.56 5.44l.94 2.06.94-2.06 2.06-.94-2.06-.94-.94-2.06-.94 2.06-2.06.94zm-11 1L8.5 8.5l.94-2.06 2.06-.94-2.06-.94L8.5 2.5l-.94 2.06-2.06.94zm10 10l.94 2.06.94-2.06 2.06-.94-2.06-.94-.94-2.06-.94 2.06-2.06.94z\"/><path d=\"M17.41 7.96l-1.37-1.37c-.4-.4-.92-.59-1.43-.59-.52 0-1.04.2-1.43.59L10.3 9.45l-7.72 7.72c-.78.78-.78 2.05 0 2.83L4 21.41c.39.39.9.59 1.41.59.51 0 1.02-.2 1.41-.59l7.78-7.78 2.81-2.81c.8-.78.8-2.07 0-2.86zM5.41 20L4 18.59l7.72-7.72 1.47 1.35L5.41 20z\"/>\n",
       "  </svg>\n",
       "      </button>\n",
       "      \n",
       "  <style>\n",
       "    .colab-df-container {\n",
       "      display:flex;\n",
       "      flex-wrap:wrap;\n",
       "      gap: 12px;\n",
       "    }\n",
       "\n",
       "    .colab-df-convert {\n",
       "      background-color: #E8F0FE;\n",
       "      border: none;\n",
       "      border-radius: 50%;\n",
       "      cursor: pointer;\n",
       "      display: none;\n",
       "      fill: #1967D2;\n",
       "      height: 32px;\n",
       "      padding: 0 0 0 0;\n",
       "      width: 32px;\n",
       "    }\n",
       "\n",
       "    .colab-df-convert:hover {\n",
       "      background-color: #E2EBFA;\n",
       "      box-shadow: 0px 1px 2px rgba(60, 64, 67, 0.3), 0px 1px 3px 1px rgba(60, 64, 67, 0.15);\n",
       "      fill: #174EA6;\n",
       "    }\n",
       "\n",
       "    [theme=dark] .colab-df-convert {\n",
       "      background-color: #3B4455;\n",
       "      fill: #D2E3FC;\n",
       "    }\n",
       "\n",
       "    [theme=dark] .colab-df-convert:hover {\n",
       "      background-color: #434B5C;\n",
       "      box-shadow: 0px 1px 3px 1px rgba(0, 0, 0, 0.15);\n",
       "      filter: drop-shadow(0px 1px 2px rgba(0, 0, 0, 0.3));\n",
       "      fill: #FFFFFF;\n",
       "    }\n",
       "  </style>\n",
       "\n",
       "      <script>\n",
       "        const buttonEl =\n",
       "          document.querySelector('#df-65114364-757a-47e5-9aac-7e9d9e4e68e4 button.colab-df-convert');\n",
       "        buttonEl.style.display =\n",
       "          google.colab.kernel.accessAllowed ? 'block' : 'none';\n",
       "\n",
       "        async function convertToInteractive(key) {\n",
       "          const element = document.querySelector('#df-65114364-757a-47e5-9aac-7e9d9e4e68e4');\n",
       "          const dataTable =\n",
       "            await google.colab.kernel.invokeFunction('convertToInteractive',\n",
       "                                                     [key], {});\n",
       "          if (!dataTable) return;\n",
       "\n",
       "          const docLinkHtml = 'Like what you see? Visit the ' +\n",
       "            '<a target=\"_blank\" href=https://colab.research.google.com/notebooks/data_table.ipynb>data table notebook</a>'\n",
       "            + ' to learn more about interactive tables.';\n",
       "          element.innerHTML = '';\n",
       "          dataTable['output_type'] = 'display_data';\n",
       "          await google.colab.output.renderOutput(dataTable, element);\n",
       "          const docLink = document.createElement('div');\n",
       "          docLink.innerHTML = docLinkHtml;\n",
       "          element.appendChild(docLink);\n",
       "        }\n",
       "      </script>\n",
       "    </div>\n",
       "  </div>\n",
       "  "
      ],
      "text/plain": [
       "      F1-score\n",
       "BERT  0.830812"
      ]
     },
     "execution_count": 24,
     "metadata": {},
     "output_type": "execute_result"
    }
   ],
   "source": [
    "bert_f1 = f1_score(test_labels, test_preds)\n",
    "\n",
    "metrics(bert_f1, 'BERT')"
   ]
  },
  {
   "cell_type": "markdown",
   "id": "s9-gqgzx69Ez",
   "metadata": {
    "id": "s9-gqgzx69Ez"
   },
   "source": [
    "Необходимое значение метрики F1 было достигнуто (0.75) и составило 0.83. Попробуем вместо этой нейронной сети попробовать использовать другие более простые методы для того, чтобы убедиться в необходимости применения BERT в нашем случае."
   ]
  },
  {
   "cell_type": "markdown",
   "id": "iiYC6D_dGmgH",
   "metadata": {
    "id": "iiYC6D_dGmgH"
   },
   "source": [
    "### Catboost"
   ]
  },
  {
   "cell_type": "markdown",
   "id": "7ba35638",
   "metadata": {
    "id": "7ba35638"
   },
   "source": [
    "Попробуем выполнить ту же задачу с помощью Catboost и оценить, насколько качество хорошее по сравнению с другими методами."
   ]
  },
  {
   "cell_type": "markdown",
   "id": "0w0OjhNKQhw_",
   "metadata": {
    "id": "0w0OjhNKQhw_"
   },
   "source": [
    "#### Подготовка данных"
   ]
  },
  {
   "cell_type": "markdown",
   "id": "7d8be6a2",
   "metadata": {
    "id": "7d8be6a2"
   },
   "source": [
    "Для начала подготовим входные данные: лемматизируем и токенизируем текст, добавим pos-теги и удалим стоп-слова."
   ]
  },
  {
   "cell_type": "code",
   "execution_count": 12,
   "id": "Hf_4U4HjJuPY",
   "metadata": {
    "id": "Hf_4U4HjJuPY"
   },
   "outputs": [],
   "source": [
    "# инициализация Wordnet Lemmatizer\n",
    "L = WordNetLemmatizer()"
   ]
  },
  {
   "cell_type": "code",
   "execution_count": 13,
   "id": "IkTp1EwkJ_yA",
   "metadata": {
    "colab": {
     "base_uri": "https://localhost:8080/"
    },
    "id": "IkTp1EwkJ_yA",
    "outputId": "e4538543-3bc0-45f3-8e44-d19ff07d0281"
   },
   "outputs": [
    {
     "name": "stdout",
     "output_type": "stream",
     "text": [
      "[nltk_data] Downloading package stopwords to /root/nltk_data...\n",
      "[nltk_data]   Unzipping corpora/stopwords.zip.\n"
     ]
    },
    {
     "data": {
      "text/plain": [
       "True"
      ]
     },
     "execution_count": 13,
     "metadata": {},
     "output_type": "execute_result"
    }
   ],
   "source": [
    "nltk.download('stopwords')"
   ]
  },
  {
   "cell_type": "code",
   "execution_count": 14,
   "id": "RCWa65uVgHLs",
   "metadata": {
    "id": "RCWa65uVgHLs"
   },
   "outputs": [],
   "source": [
    "# функция сопоставляет POS-теги NLTK с форматом, принятым лемматизатором wordnet\n",
    "def get_wordnet_pos(word):\n",
    "    tag = nltk.pos_tag([word])[0][1][0].upper()\n",
    "    tag_dict = {\"J\": wordnet.ADJ,\n",
    "                \"N\": wordnet.NOUN,\n",
    "                \"V\": wordnet.VERB,\n",
    "                \"R\": wordnet.ADV}\n",
    " \n",
    "    return tag_dict.get(tag, wordnet.NOUN)"
   ]
  },
  {
   "cell_type": "code",
   "execution_count": 15,
   "id": "HnB92WSGKEgI",
   "metadata": {
    "id": "HnB92WSGKEgI"
   },
   "outputs": [],
   "source": [
    "#  функция выполняет токенизациию и лемматизацию массива текстов c учетом pos_tag и удалением стоп-слов\n",
    "def get_word_text(corpus):\n",
    "    corpus_new = []\n",
    "    for sentence in corpus:\n",
    "        corpus_new.append(' '.join([L.lemmatize(w, get_wordnet_pos(w)) for w in nltk.word_tokenize(sentence) if not w in stopwords.words('english')]))\n",
    "    return corpus_new"
   ]
  },
  {
   "cell_type": "code",
   "execution_count": 19,
   "id": "mQd6d99oKNMg",
   "metadata": {
    "colab": {
     "base_uri": "https://localhost:8080/"
    },
    "id": "mQd6d99oKNMg",
    "outputId": "654459ec-d39d-48f6-c3b0-728d05626db5"
   },
   "outputs": [
    {
     "name": "stdout",
     "output_type": "stream",
     "text": [
      "[nltk_data] Downloading package punkt to /root/nltk_data...\n",
      "[nltk_data]   Package punkt is already up-to-date!\n",
      "[nltk_data] Downloading package averaged_perceptron_tagger to\n",
      "[nltk_data]     /root/nltk_data...\n",
      "[nltk_data]   Package averaged_perceptron_tagger is already up-to-\n",
      "[nltk_data]       date!\n",
      "[nltk_data] Downloading package wordnet to /root/nltk_data...\n",
      "[nltk_data]   Unzipping corpora/wordnet.zip.\n"
     ]
    }
   ],
   "source": [
    "nltk.download('punkt')\n",
    "nltk.download('averaged_perceptron_tagger')\n",
    "nltk.download('wordnet')\n",
    " \n",
    "corpus['lemma_text_no_sw'] = get_word_text(corpus['clear_text'])"
   ]
  },
  {
   "cell_type": "markdown",
   "id": "d8543f49",
   "metadata": {
    "id": "d8543f49"
   },
   "source": [
    "Теперь выполним лемматизацию корпуса c учетом `pos_tag`."
   ]
  },
  {
   "cell_type": "code",
   "execution_count": 20,
   "id": "vtk6oOChJYeB",
   "metadata": {
    "id": "vtk6oOChJYeB"
   },
   "outputs": [],
   "source": [
    "train_corpus,test_corpus = train_test_split(corpus, test_size=0.2, random_state =0,stratify = corpus['toxic'])\n",
    "\n",
    "text_features = ['lemma_text_no_sw'] \n",
    "\n",
    "target = 'toxic'"
   ]
  },
  {
   "cell_type": "markdown",
   "id": "105bbc66",
   "metadata": {
    "id": "105bbc66"
   },
   "source": [
    "#### Обучение"
   ]
  },
  {
   "cell_type": "markdown",
   "id": "8950c014",
   "metadata": {
    "id": "8950c014"
   },
   "source": [
    "В процессе обучения модели будем производить токенизацию, создавать словари и подсчитывать признаки через `text_processing`.\n",
    "В ходе добавления словарей также будут создаваться n-граммы."
   ]
  },
  {
   "cell_type": "code",
   "execution_count": 31,
   "id": "eypHNrqcJkHD",
   "metadata": {
    "id": "eypHNrqcJkHD"
   },
   "outputs": [],
   "source": [
    "cat = CatBoostClassifier( \n",
    "    text_features=text_features,\n",
    "    verbose=50,\n",
    "    loss_function='Logloss',\n",
    "    eval_metric='F1',\n",
    "    task_type=\"GPU\",\n",
    "    iterations=1000,\n",
    "    learning_rate=0.1,\n",
    "    random_seed = 0,\n",
    "    auto_class_weights = 'Balanced',\n",
    "    text_processing = {\n",
    "        \"tokenizers\" : [{\n",
    "            \"tokenizer_id\" : \"Space\",\n",
    "            \"separator_type\" : \"ByDelimiter\",\n",
    "            \"delimiter\" : \" \"\n",
    "        }],\n",
    "\n",
    "        \"dictionaries\" : [{\n",
    "            \"dictionary_id\" : \"BiGram\",\n",
    "            \"token_level_type\": \"Letter\",\n",
    "            \"max_dictionary_size\" : \"150000\",\n",
    "            \"occurrence_lower_bound\" : \"1\",\n",
    "            \"gram_order\" : \"2\"\n",
    "        },{\n",
    "            \"dictionary_id\" : \"Trigram\",\n",
    "            \"max_dictionary_size\" : \"150000\",\n",
    "            \"token_level_type\": \"Letter\",\n",
    "            \"occurrence_lower_bound\" : \"1\",\n",
    "            \"gram_order\" : \"3\"\n",
    "        },{\n",
    "            \"dictionary_id\" : \"Fourgram\",\n",
    "            \"max_dictionary_size\" : \"150000\",\n",
    "            \"token_level_type\": \"Letter\",\n",
    "            \"occurrence_lower_bound\" : \"1\",\n",
    "            \"gram_order\" : \"4\"\n",
    "        },{\n",
    "            \"dictionary_id\" : \"Fivegram\",\n",
    "            \"max_dictionary_size\" : \"150000\",\n",
    "            \"token_level_type\": \"Letter\",\n",
    "            \"occurrence_lower_bound\" : \"1\",\n",
    "            \"gram_order\" : \"5\"\n",
    "        },{\n",
    "            \"dictionary_id\" : \"Sixgram\",\n",
    "            \"max_dictionary_size\" : \"150000\",\n",
    "            \"token_level_type\": \"Letter\",\n",
    "            \"occurrence_lower_bound\" : \"1\",\n",
    "            \"gram_order\" : \"6\"\n",
    "        #},{\n",
    "        #    \"dictionary_id\" : \"Sevengram\",\n",
    "        #    \"max_dictionary_size\" : \"150000\",\n",
    "        #    \"token_level_type\": \"Letter\",\n",
    "        #    \"occurrence_lower_bound\" : \"1\",\n",
    "        #   \"gram_order\" : \"7\"\n",
    "        }\n",
    "        ],\n",
    "\n",
    "        \"feature_processing\" : {\n",
    "            \"default\" : [\n",
    "                    {\n",
    "                    \"dictionaries_names\" : [\"BiGram\", \"Trigram\", \"Fourgram\", \"Fivegram\", \"Sixgram\"],#,\"Sevengram\"],\n",
    "                    \"feature_calcers\" : [\"BoW\"],\n",
    "                    \"tokenizers_names\" : [\"Space\"]\n",
    "                },\n",
    "                    {\n",
    "                \"dictionaries_names\" : [\"BiGram\", \"Trigram\", \"Fourgram\", \"Fivegram\", \"Sixgram\"],#,\"Sevengram\"],\n",
    "                \"feature_calcers\" : [\"NaiveBayes\"],\n",
    "                \"tokenizers_names\" : [\"Space\"]\n",
    "            },{\n",
    "                \"dictionaries_names\" : [ \"BiGram\", \"Trigram\", \"Fourgram\", \"Fivegram\", \"Sixgram\"],#,\"Sevengram\"],\n",
    "                \"feature_calcers\" : [\"BM25\"],\n",
    "                \"tokenizers_names\" : [\"Space\"]\n",
    "            },\n",
    "            ],\n",
    "        }\n",
    "    }\n",
    ")"
   ]
  },
  {
   "cell_type": "markdown",
   "id": "ce20e87e",
   "metadata": {
    "id": "ce20e87e"
   },
   "source": [
    "Обучаем на тестовых данных."
   ]
  },
  {
   "cell_type": "code",
   "execution_count": 32,
   "id": "E1HABpnKNiv4",
   "metadata": {
    "colab": {
     "base_uri": "https://localhost:8080/",
     "height": 488,
     "referenced_widgets": [
      "62cbf3a448894106957853804fe41b8a"
     ]
    },
    "id": "E1HABpnKNiv4",
    "outputId": "3977fc42-ec82-4568-d496-2e0a6ba16525"
   },
   "outputs": [
    {
     "data": {
      "application/vnd.jupyter.widget-view+json": {
       "model_id": "62cbf3a448894106957853804fe41b8a",
       "version_major": 2,
       "version_minor": 0
      },
      "text/plain": [
       "MetricVisualizer(layout=Layout(align_self='stretch', height='500px'))"
      ]
     },
     "metadata": {},
     "output_type": "display_data"
    },
    {
     "name": "stderr",
     "output_type": "stream",
     "text": [
      "Warning: less than 75% gpu memory available for training. Free: 3050.1875 Total: 11441.1875\n"
     ]
    },
    {
     "name": "stdout",
     "output_type": "stream",
     "text": [
      "0:\tlearn: 0.8127289\ttest: 0.8313439\tbest: 0.8313439 (0)\ttotal: 118ms\tremaining: 1m 57s\n",
      "50:\tlearn: 0.8656332\ttest: 0.8603156\tbest: 0.8608243 (49)\ttotal: 4.42s\tremaining: 1m 22s\n",
      "100:\tlearn: 0.8857896\ttest: 0.8596474\tbest: 0.8613336 (83)\ttotal: 8.56s\tremaining: 1m 16s\n",
      "150:\tlearn: 0.9022704\ttest: 0.8626335\tbest: 0.8632708 (133)\ttotal: 12.7s\tremaining: 1m 11s\n",
      "200:\tlearn: 0.9108395\ttest: 0.8658574\tbest: 0.8658574 (200)\ttotal: 16.6s\tremaining: 1m 6s\n",
      "250:\tlearn: 0.9214726\ttest: 0.8653322\tbest: 0.8663678 (238)\ttotal: 20.7s\tremaining: 1m 1s\n",
      "300:\tlearn: 0.9327303\ttest: 0.8609224\tbest: 0.8685491 (254)\ttotal: 24.9s\tremaining: 57.8s\n",
      "350:\tlearn: 0.9386704\ttest: 0.8611778\tbest: 0.8685491 (254)\ttotal: 29.1s\tremaining: 53.7s\n",
      "400:\tlearn: 0.9457329\ttest: 0.8619451\tbest: 0.8685491 (254)\ttotal: 33.2s\tremaining: 49.6s\n",
      "450:\tlearn: 0.9500001\ttest: 0.8580073\tbest: 0.8685491 (254)\ttotal: 37.4s\tremaining: 45.5s\n",
      "500:\tlearn: 0.9518843\ttest: 0.8548479\tbest: 0.8685491 (254)\ttotal: 41.6s\tremaining: 41.4s\n",
      "550:\tlearn: 0.9563057\ttest: 0.8541577\tbest: 0.8685491 (254)\ttotal: 45.8s\tremaining: 37.3s\n",
      "600:\tlearn: 0.9603122\ttest: 0.8498834\tbest: 0.8685491 (254)\ttotal: 50s\tremaining: 33.2s\n",
      "650:\tlearn: 0.9633526\ttest: 0.8523817\tbest: 0.8685491 (254)\ttotal: 54.3s\tremaining: 29.1s\n",
      "700:\tlearn: 0.9641153\ttest: 0.8493043\tbest: 0.8685491 (254)\ttotal: 58.4s\tremaining: 24.9s\n",
      "750:\tlearn: 0.9678089\ttest: 0.8463370\tbest: 0.8685491 (254)\ttotal: 1m 2s\tremaining: 20.8s\n",
      "800:\tlearn: 0.9699787\ttest: 0.8370675\tbest: 0.8685491 (254)\ttotal: 1m 7s\tremaining: 16.7s\n",
      "850:\tlearn: 0.9720515\ttest: 0.8394789\tbest: 0.8685491 (254)\ttotal: 1m 11s\tremaining: 12.5s\n",
      "900:\tlearn: 0.9739641\ttest: 0.8378365\tbest: 0.8685491 (254)\ttotal: 1m 15s\tremaining: 8.32s\n",
      "950:\tlearn: 0.9757427\ttest: 0.8368309\tbest: 0.8685491 (254)\ttotal: 1m 20s\tremaining: 4.13s\n",
      "999:\tlearn: 0.9775319\ttest: 0.8336502\tbest: 0.8685491 (254)\ttotal: 1m 24s\tremaining: 0us\n",
      "bestTest = 0.8685490631\n",
      "bestIteration = 254\n",
      "Shrink model to first 255 iterations.\n"
     ]
    },
    {
     "data": {
      "text/plain": [
       "<catboost.core.CatBoostClassifier at 0x7f80c6651dd0>"
      ]
     },
     "execution_count": 32,
     "metadata": {},
     "output_type": "execute_result"
    }
   ],
   "source": [
    "cat.fit(\n",
    "    train_corpus[text_features], train_corpus[target],\n",
    "    eval_set=(test_corpus[text_features], test_corpus[target]),\n",
    "    plot=True\n",
    ")"
   ]
  },
  {
   "cell_type": "markdown",
   "id": "5a6b51d7",
   "metadata": {
    "id": "5a6b51d7"
   },
   "source": [
    "#### Тестирование"
   ]
  },
  {
   "cell_type": "code",
   "execution_count": 33,
   "id": "Whr3Y4MMNo2X",
   "metadata": {
    "colab": {
     "base_uri": "https://localhost:8080/",
     "height": 112
    },
    "id": "Whr3Y4MMNo2X",
    "outputId": "20ea8930-9af5-4131-8621-d85995ab2db6"
   },
   "outputs": [
    {
     "data": {
      "text/html": [
       "\n",
       "  <div id=\"df-d040655f-2534-4f6c-83f2-add44cace9bf\">\n",
       "    <div class=\"colab-df-container\">\n",
       "      <div>\n",
       "<style scoped>\n",
       "    .dataframe tbody tr th:only-of-type {\n",
       "        vertical-align: middle;\n",
       "    }\n",
       "\n",
       "    .dataframe tbody tr th {\n",
       "        vertical-align: top;\n",
       "    }\n",
       "\n",
       "    .dataframe thead th {\n",
       "        text-align: right;\n",
       "    }\n",
       "</style>\n",
       "<table border=\"1\" class=\"dataframe\">\n",
       "  <thead>\n",
       "    <tr style=\"text-align: right;\">\n",
       "      <th></th>\n",
       "      <th>F1-score</th>\n",
       "    </tr>\n",
       "  </thead>\n",
       "  <tbody>\n",
       "    <tr>\n",
       "      <th>BERT</th>\n",
       "      <td>0.830812</td>\n",
       "    </tr>\n",
       "    <tr>\n",
       "      <th>Catboost</th>\n",
       "      <td>0.680896</td>\n",
       "    </tr>\n",
       "  </tbody>\n",
       "</table>\n",
       "</div>\n",
       "      <button class=\"colab-df-convert\" onclick=\"convertToInteractive('df-d040655f-2534-4f6c-83f2-add44cace9bf')\"\n",
       "              title=\"Convert this dataframe to an interactive table.\"\n",
       "              style=\"display:none;\">\n",
       "        \n",
       "  <svg xmlns=\"http://www.w3.org/2000/svg\" height=\"24px\"viewBox=\"0 0 24 24\"\n",
       "       width=\"24px\">\n",
       "    <path d=\"M0 0h24v24H0V0z\" fill=\"none\"/>\n",
       "    <path d=\"M18.56 5.44l.94 2.06.94-2.06 2.06-.94-2.06-.94-.94-2.06-.94 2.06-2.06.94zm-11 1L8.5 8.5l.94-2.06 2.06-.94-2.06-.94L8.5 2.5l-.94 2.06-2.06.94zm10 10l.94 2.06.94-2.06 2.06-.94-2.06-.94-.94-2.06-.94 2.06-2.06.94z\"/><path d=\"M17.41 7.96l-1.37-1.37c-.4-.4-.92-.59-1.43-.59-.52 0-1.04.2-1.43.59L10.3 9.45l-7.72 7.72c-.78.78-.78 2.05 0 2.83L4 21.41c.39.39.9.59 1.41.59.51 0 1.02-.2 1.41-.59l7.78-7.78 2.81-2.81c.8-.78.8-2.07 0-2.86zM5.41 20L4 18.59l7.72-7.72 1.47 1.35L5.41 20z\"/>\n",
       "  </svg>\n",
       "      </button>\n",
       "      \n",
       "  <style>\n",
       "    .colab-df-container {\n",
       "      display:flex;\n",
       "      flex-wrap:wrap;\n",
       "      gap: 12px;\n",
       "    }\n",
       "\n",
       "    .colab-df-convert {\n",
       "      background-color: #E8F0FE;\n",
       "      border: none;\n",
       "      border-radius: 50%;\n",
       "      cursor: pointer;\n",
       "      display: none;\n",
       "      fill: #1967D2;\n",
       "      height: 32px;\n",
       "      padding: 0 0 0 0;\n",
       "      width: 32px;\n",
       "    }\n",
       "\n",
       "    .colab-df-convert:hover {\n",
       "      background-color: #E2EBFA;\n",
       "      box-shadow: 0px 1px 2px rgba(60, 64, 67, 0.3), 0px 1px 3px 1px rgba(60, 64, 67, 0.15);\n",
       "      fill: #174EA6;\n",
       "    }\n",
       "\n",
       "    [theme=dark] .colab-df-convert {\n",
       "      background-color: #3B4455;\n",
       "      fill: #D2E3FC;\n",
       "    }\n",
       "\n",
       "    [theme=dark] .colab-df-convert:hover {\n",
       "      background-color: #434B5C;\n",
       "      box-shadow: 0px 1px 3px 1px rgba(0, 0, 0, 0.15);\n",
       "      filter: drop-shadow(0px 1px 2px rgba(0, 0, 0, 0.3));\n",
       "      fill: #FFFFFF;\n",
       "    }\n",
       "  </style>\n",
       "\n",
       "      <script>\n",
       "        const buttonEl =\n",
       "          document.querySelector('#df-d040655f-2534-4f6c-83f2-add44cace9bf button.colab-df-convert');\n",
       "        buttonEl.style.display =\n",
       "          google.colab.kernel.accessAllowed ? 'block' : 'none';\n",
       "\n",
       "        async function convertToInteractive(key) {\n",
       "          const element = document.querySelector('#df-d040655f-2534-4f6c-83f2-add44cace9bf');\n",
       "          const dataTable =\n",
       "            await google.colab.kernel.invokeFunction('convertToInteractive',\n",
       "                                                     [key], {});\n",
       "          if (!dataTable) return;\n",
       "\n",
       "          const docLinkHtml = 'Like what you see? Visit the ' +\n",
       "            '<a target=\"_blank\" href=https://colab.research.google.com/notebooks/data_table.ipynb>data table notebook</a>'\n",
       "            + ' to learn more about interactive tables.';\n",
       "          element.innerHTML = '';\n",
       "          dataTable['output_type'] = 'display_data';\n",
       "          await google.colab.output.renderOutput(dataTable, element);\n",
       "          const docLink = document.createElement('div');\n",
       "          docLink.innerHTML = docLinkHtml;\n",
       "          element.appendChild(docLink);\n",
       "        }\n",
       "      </script>\n",
       "    </div>\n",
       "  </div>\n",
       "  "
      ],
      "text/plain": [
       "          F1-score\n",
       "BERT      0.830812\n",
       "Catboost  0.680896"
      ]
     },
     "execution_count": 33,
     "metadata": {},
     "output_type": "execute_result"
    }
   ],
   "source": [
    "cat_f1 = f1_score(cat.predict(test_corpus[text_features]),test_corpus[target])\n",
    "\n",
    "metrics(cat_f1, 'Catboost')"
   ]
  },
  {
   "cell_type": "markdown",
   "id": "KDUn7JEk8CQF",
   "metadata": {
    "id": "KDUn7JEk8CQF"
   },
   "source": [
    "Получившийся результат получился ниже, чем в первом случае. \n",
    "\n",
    "Попробуем выполнить задачу, используя TF-IDF."
   ]
  },
  {
   "cell_type": "markdown",
   "id": "uJyw-Nv9NsEp",
   "metadata": {
    "id": "uJyw-Nv9NsEp"
   },
   "source": [
    "### TF-IDF"
   ]
  },
  {
   "cell_type": "markdown",
   "id": "r5k9vA0XN59o",
   "metadata": {
    "id": "r5k9vA0XN59o"
   },
   "source": [
    "Используем класс `TfidfVectorizer` из библиотеки `sklearn`, чтобы вычислить TF-IDF."
   ]
  },
  {
   "cell_type": "code",
   "execution_count": 21,
   "id": "PX7b_alJN2w5",
   "metadata": {
    "id": "PX7b_alJN2w5"
   },
   "outputs": [],
   "source": [
    "count_tf_idf = TfidfVectorizer(stop_words = 'english') \n",
    "tf_idf = count_tf_idf.fit(train_corpus['lemma_text_no_sw'])\n",
    "tf_idf_train = tf_idf.transform(train_corpus['lemma_text_no_sw'])\n",
    "test_tf_idf = tf_idf.transform(test_corpus['lemma_text_no_sw'])"
   ]
  },
  {
   "cell_type": "code",
   "execution_count": 22,
   "id": "UzlkEw19OGx_",
   "metadata": {
    "colab": {
     "base_uri": "https://localhost:8080/"
    },
    "id": "UzlkEw19OGx_",
    "outputId": "8887de8c-5656-4cd0-de5c-cc49ef9a4c5a"
   },
   "outputs": [
    {
     "name": "stdout",
     "output_type": "stream",
     "text": [
      "Размер матрицы train: (16000, 40101) Размер матрицы test: (4000, 40101)\n"
     ]
    }
   ],
   "source": [
    "print(\"Размер матрицы train:\", tf_idf_train.shape,\"Размер матрицы test:\", test_tf_idf.shape)"
   ]
  },
  {
   "cell_type": "markdown",
   "id": "99664574",
   "metadata": {
    "id": "99664574"
   },
   "source": [
    "Выделим обучающую/тестовую выборки."
   ]
  },
  {
   "cell_type": "code",
   "execution_count": 23,
   "id": "2SuhPlAPOKW_",
   "metadata": {
    "id": "2SuhPlAPOKW_"
   },
   "outputs": [],
   "source": [
    "X_train = tf_idf_train\n",
    "X_test = test_tf_idf\n",
    "y_train = train_corpus['toxic'].values\n",
    "y_test = test_corpus['toxic'].values"
   ]
  },
  {
   "cell_type": "markdown",
   "id": "e5e18316",
   "metadata": {
    "id": "e5e18316"
   },
   "source": [
    "Осуществим подбор параметров и обучим модель логистической регресии."
   ]
  },
  {
   "cell_type": "code",
   "execution_count": 24,
   "id": "K-aY1ZzJOLcg",
   "metadata": {
    "colab": {
     "base_uri": "https://localhost:8080/"
    },
    "id": "K-aY1ZzJOLcg",
    "outputId": "c0edbc97-2968-442e-bac8-ae07949b224d"
   },
   "outputs": [
    {
     "data": {
      "text/plain": [
       "{'C': 25.225125628140702, 'class_weight': 'balanced'}"
      ]
     },
     "execution_count": 24,
     "metadata": {},
     "output_type": "execute_result"
    }
   ],
   "source": [
    "parameters = {'C': np.linspace(0.1, 5000, 200),'class_weight':['balanced']}\n",
    "grid_search = GridSearchCV(estimator=LogisticRegression(),param_grid = parameters, n_jobs=-1,cv=5) \n",
    "grid_search.fit(X_train, y_train)\n",
    "grid_search.best_params_ "
   ]
  },
  {
   "cell_type": "code",
   "execution_count": 25,
   "id": "gjGpFZJiOrhh",
   "metadata": {
    "colab": {
     "base_uri": "https://localhost:8080/"
    },
    "id": "gjGpFZJiOrhh",
    "outputId": "7f49ab0e-dd84-492b-deab-65409e1a97c0"
   },
   "outputs": [
    {
     "data": {
      "text/plain": [
       "LogisticRegression(C=25.225125628140702, class_weight='balanced',\n",
       "                   random_state=0)"
      ]
     },
     "execution_count": 25,
     "metadata": {},
     "output_type": "execute_result"
    }
   ],
   "source": [
    "lr_clf_TF_IDF = LogisticRegression(**grid_search.best_params_,random_state = 0)\n",
    "\n",
    "lr_clf_TF_IDF.fit(X_train, y_train)"
   ]
  },
  {
   "cell_type": "markdown",
   "id": "2af80c02",
   "metadata": {
    "id": "2af80c02"
   },
   "source": [
    "Рассчитаем необходимые метрики."
   ]
  },
  {
   "cell_type": "code",
   "execution_count": 26,
   "id": "P5-Snt_uOxaP",
   "metadata": {
    "colab": {
     "base_uri": "https://localhost:8080/",
     "height": 81
    },
    "id": "P5-Snt_uOxaP",
    "outputId": "f8614912-f60e-4d46-907f-71033947e442"
   },
   "outputs": [
    {
     "data": {
      "text/html": [
       "\n",
       "  <div id=\"df-2a64abc9-4b3d-4385-9712-2b32ab8c50c9\">\n",
       "    <div class=\"colab-df-container\">\n",
       "      <div>\n",
       "<style scoped>\n",
       "    .dataframe tbody tr th:only-of-type {\n",
       "        vertical-align: middle;\n",
       "    }\n",
       "\n",
       "    .dataframe tbody tr th {\n",
       "        vertical-align: top;\n",
       "    }\n",
       "\n",
       "    .dataframe thead th {\n",
       "        text-align: right;\n",
       "    }\n",
       "</style>\n",
       "<table border=\"1\" class=\"dataframe\">\n",
       "  <thead>\n",
       "    <tr style=\"text-align: right;\">\n",
       "      <th></th>\n",
       "      <th>F1-score</th>\n",
       "    </tr>\n",
       "  </thead>\n",
       "  <tbody>\n",
       "    <tr>\n",
       "      <th>TF-IDF</th>\n",
       "      <td>0.743555</td>\n",
       "    </tr>\n",
       "  </tbody>\n",
       "</table>\n",
       "</div>\n",
       "      <button class=\"colab-df-convert\" onclick=\"convertToInteractive('df-2a64abc9-4b3d-4385-9712-2b32ab8c50c9')\"\n",
       "              title=\"Convert this dataframe to an interactive table.\"\n",
       "              style=\"display:none;\">\n",
       "        \n",
       "  <svg xmlns=\"http://www.w3.org/2000/svg\" height=\"24px\"viewBox=\"0 0 24 24\"\n",
       "       width=\"24px\">\n",
       "    <path d=\"M0 0h24v24H0V0z\" fill=\"none\"/>\n",
       "    <path d=\"M18.56 5.44l.94 2.06.94-2.06 2.06-.94-2.06-.94-.94-2.06-.94 2.06-2.06.94zm-11 1L8.5 8.5l.94-2.06 2.06-.94-2.06-.94L8.5 2.5l-.94 2.06-2.06.94zm10 10l.94 2.06.94-2.06 2.06-.94-2.06-.94-.94-2.06-.94 2.06-2.06.94z\"/><path d=\"M17.41 7.96l-1.37-1.37c-.4-.4-.92-.59-1.43-.59-.52 0-1.04.2-1.43.59L10.3 9.45l-7.72 7.72c-.78.78-.78 2.05 0 2.83L4 21.41c.39.39.9.59 1.41.59.51 0 1.02-.2 1.41-.59l7.78-7.78 2.81-2.81c.8-.78.8-2.07 0-2.86zM5.41 20L4 18.59l7.72-7.72 1.47 1.35L5.41 20z\"/>\n",
       "  </svg>\n",
       "      </button>\n",
       "      \n",
       "  <style>\n",
       "    .colab-df-container {\n",
       "      display:flex;\n",
       "      flex-wrap:wrap;\n",
       "      gap: 12px;\n",
       "    }\n",
       "\n",
       "    .colab-df-convert {\n",
       "      background-color: #E8F0FE;\n",
       "      border: none;\n",
       "      border-radius: 50%;\n",
       "      cursor: pointer;\n",
       "      display: none;\n",
       "      fill: #1967D2;\n",
       "      height: 32px;\n",
       "      padding: 0 0 0 0;\n",
       "      width: 32px;\n",
       "    }\n",
       "\n",
       "    .colab-df-convert:hover {\n",
       "      background-color: #E2EBFA;\n",
       "      box-shadow: 0px 1px 2px rgba(60, 64, 67, 0.3), 0px 1px 3px 1px rgba(60, 64, 67, 0.15);\n",
       "      fill: #174EA6;\n",
       "    }\n",
       "\n",
       "    [theme=dark] .colab-df-convert {\n",
       "      background-color: #3B4455;\n",
       "      fill: #D2E3FC;\n",
       "    }\n",
       "\n",
       "    [theme=dark] .colab-df-convert:hover {\n",
       "      background-color: #434B5C;\n",
       "      box-shadow: 0px 1px 3px 1px rgba(0, 0, 0, 0.15);\n",
       "      filter: drop-shadow(0px 1px 2px rgba(0, 0, 0, 0.3));\n",
       "      fill: #FFFFFF;\n",
       "    }\n",
       "  </style>\n",
       "\n",
       "      <script>\n",
       "        const buttonEl =\n",
       "          document.querySelector('#df-2a64abc9-4b3d-4385-9712-2b32ab8c50c9 button.colab-df-convert');\n",
       "        buttonEl.style.display =\n",
       "          google.colab.kernel.accessAllowed ? 'block' : 'none';\n",
       "\n",
       "        async function convertToInteractive(key) {\n",
       "          const element = document.querySelector('#df-2a64abc9-4b3d-4385-9712-2b32ab8c50c9');\n",
       "          const dataTable =\n",
       "            await google.colab.kernel.invokeFunction('convertToInteractive',\n",
       "                                                     [key], {});\n",
       "          if (!dataTable) return;\n",
       "\n",
       "          const docLinkHtml = 'Like what you see? Visit the ' +\n",
       "            '<a target=\"_blank\" href=https://colab.research.google.com/notebooks/data_table.ipynb>data table notebook</a>'\n",
       "            + ' to learn more about interactive tables.';\n",
       "          element.innerHTML = '';\n",
       "          dataTable['output_type'] = 'display_data';\n",
       "          await google.colab.output.renderOutput(dataTable, element);\n",
       "          const docLink = document.createElement('div');\n",
       "          docLink.innerHTML = docLinkHtml;\n",
       "          element.appendChild(docLink);\n",
       "        }\n",
       "      </script>\n",
       "    </div>\n",
       "  </div>\n",
       "  "
      ],
      "text/plain": [
       "        F1-score\n",
       "TF-IDF  0.743555"
      ]
     },
     "execution_count": 26,
     "metadata": {},
     "output_type": "execute_result"
    }
   ],
   "source": [
    "f1_lr_clf = f1_score(lr_clf_TF_IDF.predict(X_test),y_test)\n",
    "\n",
    "metrics(f1_lr_clf, 'TF-IDF')\n"
   ]
  },
  {
   "cell_type": "markdown",
   "id": "Wu_p28Lk81K8",
   "metadata": {
    "id": "Wu_p28Lk81K8"
   },
   "source": [
    "Результат оказался ближе к 0.75, чем Catboost, но все же чуть ниже.\n",
    "\n",
    "Так как необходимым условием является достижение метрики F1 значения 0.75, приоритетным методом выбирается BERT."
   ]
  },
  {
   "cell_type": "markdown",
   "id": "cCf1I2JVMnaj",
   "metadata": {
    "id": "cCf1I2JVMnaj"
   },
   "source": [
    "### Вывод"
   ]
  },
  {
   "cell_type": "markdown",
   "id": "i299GldzMpf7",
   "metadata": {
    "id": "i299GldzMpf7"
   },
   "source": [
    "Исследование проводилось в Google Colab, использовалось GPU Tesla K80.\n",
    "\n",
    "В ходе данной работы была произведена подготовка исходных данных (текст был преобразован в строчный вид, удалены посторонние символы, токенизирован), выделена выборка для анализа величиной 20000 единиц с целью оптимизации работы моделей. Для моделей без встроенной лемматизации она производилась вручную.\n",
    "\n",
    "Среди рассмотренных методов в качестве инструмента для поиска токсичных комментариев лучшим себя показала нейронная сеть BERT. Для нее значение метрики качества F1 составило 0.83.\n",
    "\n",
    "В зависимости от того, какие вычислительные мощности нам доступны, можно выбрать либо более точную BERT, либо более простой метод TF-IDF."
   ]
  }
 ],
 "metadata": {
  "ExecuteTimeLog": [
   {
    "duration": 47,
    "start_time": "2022-05-02T20:21:02.187Z"
   },
   {
    "duration": 0,
    "start_time": "2022-05-03T11:53:34.296Z"
   },
   {
    "duration": 0,
    "start_time": "2022-05-03T11:53:34.296Z"
   },
   {
    "duration": 0,
    "start_time": "2022-05-03T11:53:34.298Z"
   },
   {
    "duration": 0,
    "start_time": "2022-05-03T11:53:34.299Z"
   },
   {
    "duration": 0,
    "start_time": "2022-05-03T11:53:34.308Z"
   },
   {
    "duration": 0,
    "start_time": "2022-05-03T11:53:34.310Z"
   },
   {
    "duration": 0,
    "start_time": "2022-05-03T11:53:34.311Z"
   },
   {
    "duration": 0,
    "start_time": "2022-05-03T11:53:34.313Z"
   },
   {
    "duration": 0,
    "start_time": "2022-05-03T11:53:34.318Z"
   },
   {
    "duration": 0,
    "start_time": "2022-05-03T11:53:34.319Z"
   },
   {
    "duration": 0,
    "start_time": "2022-05-03T11:53:34.321Z"
   },
   {
    "duration": 0,
    "start_time": "2022-05-03T11:53:34.323Z"
   },
   {
    "duration": 0,
    "start_time": "2022-05-03T11:53:34.327Z"
   },
   {
    "duration": 0,
    "start_time": "2022-05-03T11:53:34.328Z"
   },
   {
    "duration": 0,
    "start_time": "2022-05-03T11:53:34.329Z"
   },
   {
    "duration": 0,
    "start_time": "2022-05-03T11:53:34.331Z"
   },
   {
    "duration": 0,
    "start_time": "2022-05-03T11:53:34.332Z"
   },
   {
    "duration": 0,
    "start_time": "2022-05-03T11:53:34.334Z"
   },
   {
    "duration": 0,
    "start_time": "2022-05-03T11:53:34.335Z"
   },
   {
    "duration": 0,
    "start_time": "2022-05-03T11:53:34.336Z"
   },
   {
    "duration": 0,
    "start_time": "2022-05-03T11:53:34.338Z"
   },
   {
    "duration": 0,
    "start_time": "2022-05-03T11:53:34.340Z"
   },
   {
    "duration": 150253,
    "start_time": "2022-05-03T11:53:52.393Z"
   },
   {
    "duration": 0,
    "start_time": "2022-05-03T11:56:22.648Z"
   },
   {
    "duration": 0,
    "start_time": "2022-05-03T11:56:22.649Z"
   },
   {
    "duration": 0,
    "start_time": "2022-05-03T11:56:22.650Z"
   },
   {
    "duration": 1947836,
    "start_time": "2022-05-03T11:56:28.674Z"
   },
   {
    "duration": 0,
    "start_time": "2022-05-03T12:28:56.512Z"
   },
   {
    "duration": 0,
    "start_time": "2022-05-03T12:28:56.513Z"
   },
   {
    "duration": 0,
    "start_time": "2022-05-03T12:28:56.514Z"
   },
   {
    "duration": 0,
    "start_time": "2022-05-03T12:28:56.515Z"
   },
   {
    "duration": 0,
    "start_time": "2022-05-03T12:28:56.516Z"
   },
   {
    "duration": 0,
    "start_time": "2022-05-03T12:28:56.518Z"
   }
  ],
  "accelerator": "GPU",
  "colab": {
   "collapsed_sections": [],
   "name": "Ustinova_Wikishop_BERT_(3) (1).ipynb",
   "provenance": []
  },
  "kernelspec": {
   "display_name": "Python 3 (ipykernel)",
   "language": "python",
   "name": "python3"
  },
  "language_info": {
   "codemirror_mode": {
    "name": "ipython",
    "version": 3
   },
   "file_extension": ".py",
   "mimetype": "text/x-python",
   "name": "python",
   "nbconvert_exporter": "python",
   "pygments_lexer": "ipython3",
   "version": "3.9.5"
  },
  "toc": {
   "base_numbering": 1,
   "nav_menu": {},
   "number_sections": true,
   "sideBar": true,
   "skip_h1_title": true,
   "title_cell": "Содержание",
   "title_sidebar": "Contents",
   "toc_cell": true,
   "toc_position": {
    "height": "calc(100% - 180px)",
    "left": "10px",
    "top": "150px",
    "width": "165px"
   },
   "toc_section_display": true,
   "toc_window_display": true
  },
  "widgets": {
   "application/vnd.jupyter.widget-state+json": {
    "62cbf3a448894106957853804fe41b8a": {
     "model_module": "catboost-widget",
     "model_module_version": "^1.0.0",
     "model_name": "CatboostWidgetModel",
     "state": {
      "_dom_classes": [],
      "_model_module": "catboost-widget",
      "_model_module_version": "^1.0.0",
      "_model_name": "CatboostWidgetModel",
      "_view_count": null,
      "_view_module": "catboost-widget",
      "_view_module_version": "^1.0.0",
      "_view_name": "CatboostWidgetView",
      "data": {
       "catboost_info": {
        "content": {
         "data": {
          "iterations": [
           {
            "iteration": 0,
            "learn": [
             0.8127288556,
             0.6141787433
            ],
            "passed_time": 0.1178156344,
            "remaining_time": 117.6978188,
            "test": [
             0.831343905,
             0.6100268824
            ]
           },
           {
            "iteration": 1,
            "learn": [
             0.8223544785,
             0.5605785974
            ],
            "passed_time": 0.235986499,
            "remaining_time": 117.757263,
            "test": [
             0.8375331608,
             0.5542372439
            ]
           },
           {
            "iteration": 2,
            "learn": [
             0.8211681772,
             0.5205776153
            ],
            "passed_time": 0.3494499577,
            "remaining_time": 116.1338693,
            "test": [
             0.8441967469,
             0.5114685689
            ]
           },
           {
            "iteration": 3,
            "learn": [
             0.8263199475,
             0.4920901346
            ],
            "passed_time": 0.4542842279,
            "remaining_time": 113.1167727,
            "test": [
             0.8421558963,
             0.4824384962
            ]
           },
           {
            "iteration": 4,
            "learn": [
             0.8246702575,
             0.4721711139
            ],
            "passed_time": 0.5572585019,
            "remaining_time": 110.8944419,
            "test": [
             0.8486454712,
             0.460637609
            ]
           },
           {
            "iteration": 5,
            "learn": [
             0.8201696605,
             0.4554474304
            ],
            "passed_time": 0.653799957,
            "remaining_time": 108.3128595,
            "test": [
             0.8409168405,
             0.4416125705
            ]
           },
           {
            "iteration": 6,
            "learn": [
             0.8273359125,
             0.4391503419
            ],
            "passed_time": 0.7429992473,
            "remaining_time": 105.3997504,
            "test": [
             0.8511480642,
             0.4245721933
            ]
           },
           {
            "iteration": 7,
            "learn": [
             0.830253664,
             0.4278320448
            ],
            "passed_time": 0.8346402245,
            "remaining_time": 103.4953878,
            "test": [
             0.8530242742,
             0.4125269309
            ]
           },
           {
            "iteration": 8,
            "learn": [
             0.830709573,
             0.4192360898
            ],
            "passed_time": 0.9171671779,
            "remaining_time": 100.990297,
            "test": [
             0.8547884739,
             0.4044021501
            ]
           },
           {
            "iteration": 9,
            "learn": [
             0.8327912624,
             0.4116119626
            ],
            "passed_time": 0.9971985528,
            "remaining_time": 98.72265673,
            "test": [
             0.8537277385,
             0.3968039377
            ]
           },
           {
            "iteration": 10,
            "learn": [
             0.8337718473,
             0.4037092668
            ],
            "passed_time": 1.088168525,
            "remaining_time": 97.83624285,
            "test": [
             0.8512740896,
             0.3885991526
            ]
           },
           {
            "iteration": 11,
            "learn": [
             0.8332226731,
             0.3954490686
            ],
            "passed_time": 1.179127338,
            "remaining_time": 97.08148415,
            "test": [
             0.8517785647,
             0.3811954584
            ]
           },
           {
            "iteration": 12,
            "learn": [
             0.836422711,
             0.3902135897
            ],
            "passed_time": 1.265237392,
            "remaining_time": 96.06071587,
            "test": [
             0.8486251357,
             0.3763608591
            ]
           },
           {
            "iteration": 13,
            "learn": [
             0.8359082615,
             0.3855990309
            ],
            "passed_time": 1.346489046,
            "remaining_time": 94.83129996,
            "test": [
             0.8502040123,
             0.3716793057
            ]
           },
           {
            "iteration": 14,
            "learn": [
             0.8377919886,
             0.380796911
            ],
            "passed_time": 1.429293848,
            "remaining_time": 93.85696268,
            "test": [
             0.8542836727,
             0.3673840848
            ]
           },
           {
            "iteration": 15,
            "learn": [
             0.8368580297,
             0.3768111859
            ],
            "passed_time": 1.518546779,
            "remaining_time": 93.39062688,
            "test": [
             0.8521573136,
             0.3643624434
            ]
           },
           {
            "iteration": 16,
            "learn": [
             0.8398370929,
             0.3737357378
            ],
            "passed_time": 1.604397149,
            "remaining_time": 92.77190572,
            "test": [
             0.8502040123,
             0.3615086859
            ]
           },
           {
            "iteration": 17,
            "learn": [
             0.8399224321,
             0.3691985572
            ],
            "passed_time": 1.684439207,
            "remaining_time": 91.89551672,
            "test": [
             0.8519047769,
             0.3574497262
            ]
           },
           {
            "iteration": 18,
            "learn": [
             0.8406009788,
             0.3658633102
            ],
            "passed_time": 1.770487196,
            "remaining_time": 91.41304946,
            "test": [
             0.853222576,
             0.3549409641
            ]
           },
           {
            "iteration": 19,
            "learn": [
             0.8399623995,
             0.363642777
            ],
            "passed_time": 1.848566023,
            "remaining_time": 90.5797351,
            "test": [
             0.8517785647,
             0.3530548634
            ]
           },
           {
            "iteration": 20,
            "learn": [
             0.8393063862,
             0.3607261775
            ],
            "passed_time": 1.931752149,
            "remaining_time": 90.05644544,
            "test": [
             0.8534750825,
             0.3506247536
            ]
           },
           {
            "iteration": 21,
            "learn": [
             0.8405548184,
             0.3576929357
            ],
            "passed_time": 2.008552401,
            "remaining_time": 89.28928403,
            "test": [
             0.8508351453,
             0.3479395223
            ]
           },
           {
            "iteration": 22,
            "learn": [
             0.8416263683,
             0.3541160168
            ],
            "passed_time": 2.094039422,
            "remaining_time": 88.95115282,
            "test": [
             0.8541070031,
             0.3458152338
            ]
           },
           {
            "iteration": 23,
            "learn": [
             0.8431645312,
             0.3509296756
            ],
            "passed_time": 2.181090814,
            "remaining_time": 88.69769309,
            "test": [
             0.8526628364,
             0.3440035941
            ]
           },
           {
            "iteration": 24,
            "learn": [
             0.8436488145,
             0.3485931088
            ],
            "passed_time": 2.261177267,
            "remaining_time": 88.18591342,
            "test": [
             0.8541070031,
             0.3422833494
            ]
           },
           {
            "iteration": 25,
            "learn": [
             0.8438856686,
             0.345476638
            ],
            "passed_time": 2.355412043,
            "remaining_time": 88.23735885,
            "test": [
             0.8555467954,
             0.3399512592
            ]
           },
           {
            "iteration": 26,
            "learn": [
             0.845838316,
             0.3429955618
            ],
            "passed_time": 2.434605549,
            "remaining_time": 87.73597034,
            "test": [
             0.8512142751,
             0.3388344099
            ]
           },
           {
            "iteration": 27,
            "learn": [
             0.8463826569,
             0.3413737633
            ],
            "passed_time": 2.518079592,
            "remaining_time": 87.41333442,
            "test": [
             0.8526628364,
             0.3387772543
            ]
           },
           {
            "iteration": 28,
            "learn": [
             0.8473602286,
             0.3405146886
            ],
            "passed_time": 2.601326904,
            "remaining_time": 87.09960082,
            "test": [
             0.8530423722,
             0.3381937332
            ]
           },
           {
            "iteration": 29,
            "learn": [
             0.8469396947,
             0.3382334838
            ],
            "passed_time": 2.686600138,
            "remaining_time": 86.8667378,
            "test": [
             0.8517203074,
             0.3371705433
            ]
           },
           {
            "iteration": 30,
            "learn": [
             0.8491474855,
             0.3363031867
            ],
            "passed_time": 2.765499105,
            "remaining_time": 86.44414946,
            "test": [
             0.856053091,
             0.335767916
            ]
           },
           {
            "iteration": 31,
            "learn": [
             0.8491164571,
             0.3336860561
            ],
            "passed_time": 2.856214584,
            "remaining_time": 86.40049116,
            "test": [
             0.8577420239,
             0.333611281
            ]
           },
           {
            "iteration": 32,
            "learn": [
             0.849380937,
             0.3323615957
            ],
            "passed_time": 2.931003995,
            "remaining_time": 85.88729889,
            "test": [
             0.8573619601,
             0.3329666497
            ]
           },
           {
            "iteration": 33,
            "learn": [
             0.8503589194,
             0.3306798696
            ],
            "passed_time": 3.01518565,
            "remaining_time": 85.66674524,
            "test": [
             0.8561797585,
             0.3321207064
            ]
           },
           {
            "iteration": 34,
            "learn": [
             0.8499711568,
             0.3291328791
            ],
            "passed_time": 3.109979436,
            "remaining_time": 85.74657588,
            "test": [
             0.8577420239,
             0.3315243752
            ]
           },
           {
            "iteration": 35,
            "learn": [
             0.8517689555,
             0.327155641
            ],
            "passed_time": 3.19560628,
            "remaining_time": 85.57123482,
            "test": [
             0.8565599861,
             0.3311099887
            ]
           },
           {
            "iteration": 36,
            "learn": [
             0.8540544712,
             0.3245521732
            ],
            "passed_time": 3.273747299,
            "remaining_time": 85.20590942,
            "test": [
             0.8566868037,
             0.3289741068
            ]
           },
           {
            "iteration": 37,
            "learn": [
             0.8548867376,
             0.3229794125
            ],
            "passed_time": 3.345608226,
            "remaining_time": 84.69671352,
            "test": [
             0.8594268474,
             0.3279475369
            ]
           },
           {
            "iteration": 38,
            "learn": [
             0.8563821155,
             0.3214308325
            ],
            "passed_time": 3.426595269,
            "remaining_time": 84.43482189,
            "test": [
             0.8596805994,
             0.3268475537
            ]
           },
           {
            "iteration": 39,
            "learn": [
             0.8562468822,
             0.3206796071
            ],
            "passed_time": 3.498290602,
            "remaining_time": 83.95897445,
            "test": [
             0.8596805994,
             0.3264922156
            ]
           },
           {
            "iteration": 40,
            "learn": [
             0.8564025581,
             0.3193882896
            ],
            "passed_time": 3.584583896,
            "remaining_time": 83.84429161,
            "test": [
             0.8598075317,
             0.3257840405
            ]
           },
           {
            "iteration": 41,
            "learn": [
             0.8568490942,
             0.3178466763
            ],
            "passed_time": 3.66619112,
            "remaining_time": 83.62407363,
            "test": [
             0.8600615085,
             0.3257974253
            ]
           },
           {
            "iteration": 42,
            "learn": [
             0.856589444,
             0.3164081439
            ],
            "passed_time": 3.743024015,
            "remaining_time": 83.3040461,
            "test": [
             0.8601885533,
             0.3246277805
            ]
           },
           {
            "iteration": 43,
            "learn": [
             0.8583835146,
             0.3147855675
            ],
            "passed_time": 3.827470708,
            "remaining_time": 83.16049994,
            "test": [
             0.8587571767,
             0.3238075927
            ]
           },
           {
            "iteration": 44,
            "learn": [
             0.8585393568,
             0.3136377109
            ],
            "passed_time": 3.914568182,
            "remaining_time": 83.07583587,
            "test": [
             0.8591384788,
             0.3233363886
            ]
           },
           {
            "iteration": 45,
            "learn": [
             0.8602568996,
             0.3123770673
            ],
            "passed_time": 4.002987894,
            "remaining_time": 83.01848806,
            "test": [
             0.8605699127,
             0.3227074405
            ]
           },
           {
            "iteration": 46,
            "learn": [
             0.8618392347,
             0.3111880866
            ],
            "passed_time": 4.094186725,
            "remaining_time": 83.01616912,
            "test": [
             0.8606971077,
             0.3224504938
            ]
           },
           {
            "iteration": 47,
            "learn": [
             0.8630079256,
             0.3098545627
            ],
            "passed_time": 4.181299456,
            "remaining_time": 82.92910588,
            "test": [
             0.8606971077,
             0.3224106776
            ]
           },
           {
            "iteration": 48,
            "learn": [
             0.8637016516,
             0.3091741209
            ],
            "passed_time": 4.256945539,
            "remaining_time": 82.61949403,
            "test": [
             0.8606971077,
             0.3222495874
            ]
           },
           {
            "iteration": 49,
            "learn": [
             0.8641135255,
             0.3079414119
            ],
            "passed_time": 4.340216064,
            "remaining_time": 82.46410521,
            "test": [
             0.8608243403,
             0.321960328
            ]
           },
           {
            "iteration": 50,
            "learn": [
             0.865633249,
             0.3068393465
            ],
            "passed_time": 4.41878605,
            "remaining_time": 82.22407768,
            "test": [
             0.8603156355,
             0.3216497747
            ]
           },
           {
            "iteration": 51,
            "learn": [
             0.8652223798,
             0.3057383632
            ],
            "passed_time": 4.49850309,
            "remaining_time": 82.01117172,
            "test": [
             0.8601885533,
             0.3221122247
            ]
           },
           {
            "iteration": 52,
            "learn": [
             0.8657272312,
             0.3046446511
            ],
            "passed_time": 4.59157097,
            "remaining_time": 82.04184356,
            "test": [
             0.8599345013,
             0.321947484
            ]
           },
           {
            "iteration": 53,
            "learn": [
             0.8666423034,
             0.3036453621
            ],
            "passed_time": 4.67658411,
            "remaining_time": 81.92682533,
            "test": [
             0.8603156355,
             0.322297786
            ]
           },
           {
            "iteration": 54,
            "learn": [
             0.8686279515,
             0.3020210948
            ],
            "passed_time": 4.770731652,
            "remaining_time": 81.96984385,
            "test": [
             0.8600615085,
             0.3211408838
            ]
           },
           {
            "iteration": 55,
            "learn": [
             0.8690682661,
             0.3008768568
            ],
            "passed_time": 4.850270503,
            "remaining_time": 81.76170276,
            "test": [
             0.8600615085,
             0.3210139314
            ]
           },
           {
            "iteration": 56,
            "learn": [
             0.8693821707,
             0.2999717204
            ],
            "passed_time": 4.92717817,
            "remaining_time": 81.51454411,
            "test": [
             0.8601885533,
             0.3208936039
            ]
           },
           {
            "iteration": 57,
            "learn": [
             0.8701052055,
             0.2985944007
            ],
            "passed_time": 5.022050726,
            "remaining_time": 81.56503076,
            "test": [
             0.8585031633,
             0.3202242649
            ]
           },
           {
            "iteration": 58,
            "learn": [
             0.8701052055,
             0.2984363637
            ],
            "passed_time": 5.07957652,
            "remaining_time": 81.01494077,
            "test": [
             0.8585031633,
             0.320304979
            ]
           },
           {
            "iteration": 59,
            "learn": [
             0.8704820457,
             0.2980403411
            ],
            "passed_time": 5.16261608,
            "remaining_time": 80.88098525,
            "test": [
             0.8585031633,
             0.3201779929
            ]
           },
           {
            "iteration": 60,
            "learn": [
             0.8717996101,
             0.296650576
            ],
            "passed_time": 5.248676509,
            "remaining_time": 80.79520069,
            "test": [
             0.858376213,
             0.3206643055
            ]
           },
           {
            "iteration": 61,
            "learn": [
             0.8719253555,
             0.295658761
            ],
            "passed_time": 5.330672425,
            "remaining_time": 80.64791508,
            "test": [
             0.8586301512,
             0.3203543268
            ]
           },
           {
            "iteration": 62,
            "learn": [
             0.8723641154,
             0.2947760805
            ],
            "passed_time": 5.414329562,
            "remaining_time": 80.52740952,
            "test": [
             0.8588842398,
             0.3204730658
            ]
           },
           {
            "iteration": 63,
            "learn": [
             0.873083658,
             0.2940771396
            ],
            "passed_time": 5.505762515,
            "remaining_time": 80.52177678,
            "test": [
             0.8590113405,
             0.320480637
            ]
           },
           {
            "iteration": 64,
            "learn": [
             0.8749252979,
             0.2929876549
            ],
            "passed_time": 5.605009814,
            "remaining_time": 80.6259104,
            "test": [
             0.8588842398,
             0.3200189306
            ]
           },
           {
            "iteration": 65,
            "learn": [
             0.8753306384,
             0.2918902227
            ],
            "passed_time": 5.685839893,
            "remaining_time": 80.4632494,
            "test": [
             0.8588842398,
             0.3193055842
            ]
           },
           {
            "iteration": 66,
            "learn": [
             0.8752991692,
             0.2917587676
            ],
            "passed_time": 5.750313973,
            "remaining_time": 80.07526771,
            "test": [
             0.8588842398,
             0.3192374437
            ]
           },
           {
            "iteration": 67,
            "learn": [
             0.8745826413,
             0.2906657995
            ],
            "passed_time": 5.83727488,
            "remaining_time": 80.00500277,
            "test": [
             0.8587571767,
             0.3184525767
            ]
           },
           {
            "iteration": 68,
            "learn": [
             0.8745511779,
             0.2891829639
            ],
            "passed_time": 5.923762913,
            "remaining_time": 79.92787351,
            "test": [
             0.8592656548,
             0.3178753424
            ]
           },
           {
            "iteration": 69,
            "learn": [
             0.874239732,
             0.2882088026
            ],
            "passed_time": 6.019660153,
            "remaining_time": 79.97548489,
            "test": [
             0.8592656548,
             0.3180234873
            ]
           },
           {
            "iteration": 70,
            "learn": [
             0.8742711968,
             0.2875703304
            ],
            "passed_time": 6.100615741,
            "remaining_time": 79.82354962,
            "test": [
             0.8592656548,
             0.317532206
            ]
           },
           {
            "iteration": 71,
            "learn": [
             0.8752085761,
             0.286306102
            ],
            "passed_time": 6.198171618,
            "remaining_time": 79.8875453,
            "test": [
             0.8578298542,
             0.3160802309
            ]
           },
           {
            "iteration": 72,
            "learn": [
             0.8746455747,
             0.2856666152
            ],
            "passed_time": 6.280802754,
            "remaining_time": 79.75759113,
            "test": [
             0.8591384788,
             0.3157362496
            ]
           },
           {
            "iteration": 73,
            "learn": [
             0.8751770917,
             0.2848590809
            ],
            "passed_time": 6.359721129,
            "remaining_time": 79.58245629,
            "test": [
             0.8591384788,
             0.3151681412
            ]
           },
           {
            "iteration": 74,
            "learn": [
             0.8743970788,
             0.2842030565
            ],
            "passed_time": 6.450128893,
            "remaining_time": 79.55158968,
            "test": [
             0.8608243403,
             0.314718738
            ]
           },
           {
            "iteration": 75,
            "learn": [
             0.8743026639,
             0.2840538125
            ],
            "passed_time": 6.51148284,
            "remaining_time": 79.16592295,
            "test": [
             0.8608243403,
             0.3147531125
            ]
           },
           {
            "iteration": 76,
            "learn": [
             0.8751456095,
             0.283113724
            ],
            "passed_time": 6.611692467,
            "remaining_time": 79.25444347,
            "test": [
             0.8591384788,
             0.3141563081
            ]
           },
           {
            "iteration": 77,
            "learn": [
             0.876239639,
             0.281846621
            ],
            "passed_time": 6.700495091,
            "remaining_time": 79.20328813,
            "test": [
             0.8593928684,
             0.3139804811
            ]
           },
           {
            "iteration": 78,
            "learn": [
             0.8770808104,
             0.2813843467
            ],
            "passed_time": 6.777366553,
            "remaining_time": 79.01208349,
            "test": [
             0.8595201196,
             0.3136528589
            ]
           },
           {
            "iteration": 79,
            "learn": [
             0.878791898,
             0.2802714253
            ],
            "passed_time": 6.869320824,
            "remaining_time": 78.99718948,
            "test": [
             0.8612062638,
             0.3135183692
            ]
           },
           {
            "iteration": 80,
            "learn": [
             0.8793532406,
             0.2798063271
            ],
            "passed_time": 6.945026369,
            "remaining_time": 78.79603992,
            "test": [
             0.8610789183,
             0.3131085795
            ]
           },
           {
            "iteration": 81,
            "learn": [
             0.880191212,
             0.2787212219
            ],
            "passed_time": 7.041481028,
            "remaining_time": 78.83023883,
            "test": [
             0.8612062638,
             0.3136380546
            ]
           },
           {
            "iteration": 82,
            "learn": [
             0.8804361525,
             0.2779210602
            ],
            "passed_time": 7.121903233,
            "remaining_time": 78.68415982,
            "test": [
             0.8612062638,
             0.3130985747
            ]
           },
           {
            "iteration": 83,
            "learn": [
             0.8804045787,
             0.277822359
            ],
            "passed_time": 7.197617213,
            "remaining_time": 78.48830199,
            "test": [
             0.861333647,
             0.3131143592
            ]
           },
           {
            "iteration": 84,
            "learn": [
             0.8804045787,
             0.27779598
            ],
            "passed_time": 7.261856182,
            "remaining_time": 78.17174596,
            "test": [
             0.861333647,
             0.3130911387
            ]
           },
           {
            "iteration": 85,
            "learn": [
             0.8812410737,
             0.2772191771
            ],
            "passed_time": 7.342592696,
            "remaining_time": 78.03639215,
            "test": [
             0.861333647,
             0.3124530646
            ]
           },
           {
            "iteration": 86,
            "learn": [
             0.8819502687,
             0.2765649282
            ],
            "passed_time": 7.426904695,
            "remaining_time": 77.93981594,
            "test": [
             0.8610789183,
             0.3120124156
            ]
           },
           {
            "iteration": 87,
            "learn": [
             0.8819502687,
             0.2756093674
            ],
            "passed_time": 7.517444076,
            "remaining_time": 77.90805679,
            "test": [
             0.8595201196,
             0.3120054529
            ]
           },
           {
            "iteration": 88,
            "learn": [
             0.8827216625,
             0.2746894182
            ],
            "passed_time": 7.616124946,
            "remaining_time": 77.95831265,
            "test": [
             0.8592656548,
             0.3112406968
            ]
           },
           {
            "iteration": 89,
            "learn": [
             0.8835869136,
             0.2746088102
            ],
            "passed_time": 7.681664551,
            "remaining_time": 77.67016379,
            "test": [
             0.8592656548,
             0.311020592
            ]
           },
           {
            "iteration": 90,
            "learn": [
             0.8836185256,
             0.2733933322
            ],
            "passed_time": 7.771208,
            "remaining_time": 77.62668211,
            "test": [
             0.8609516105,
             0.3098083256
            ]
           },
           {
            "iteration": 91,
            "learn": [
             0.8839347698,
             0.2726476701
            ],
            "passed_time": 7.855899333,
            "remaining_time": 77.53431081,
            "test": [
             0.8609516105,
             0.3098880257
            ]
           },
           {
            "iteration": 92,
            "learn": [
             0.8838715028,
             0.2725296073
            ],
            "passed_time": 7.919988436,
            "remaining_time": 77.24117755,
            "test": [
             0.8609516105,
             0.3099015119
            ]
           },
           {
            "iteration": 93,
            "learn": [
             0.8838715028,
             0.2718392396
            ],
            "passed_time": 7.999371226,
            "remaining_time": 77.10032267,
            "test": [
             0.8610789183,
             0.3100622979
            ]
           },
           {
            "iteration": 94,
            "learn": [
             0.8840296872,
             0.2712887818
            ],
            "passed_time": 8.078723112,
            "remaining_time": 76.96046754,
            "test": [
             0.8609516105,
             0.3094398732
            ]
           },
           {
            "iteration": 95,
            "learn": [
             0.8854413055,
             0.2703665329
            ],
            "passed_time": 8.168819763,
            "remaining_time": 76.92305277,
            "test": [
             0.8609516105,
             0.3085035152
            ]
           },
           {
            "iteration": 96,
            "learn": [
             0.8858410741,
             0.2698922866
            ],
            "passed_time": 8.249782361,
            "remaining_time": 76.79952033,
            "test": [
             0.8593928684,
             0.3084567361
            ]
           },
           {
            "iteration": 97,
            "learn": [
             0.8865573086,
             0.2692191497
            ],
            "passed_time": 8.332806555,
            "remaining_time": 76.69583176,
            "test": [
             0.8596474086,
             0.3085184209
            ]
           },
           {
            "iteration": 98,
            "learn": [
             0.8861260506,
             0.2690345309
            ],
            "passed_time": 8.404059929,
            "remaining_time": 76.4854343,
            "test": [
             0.8596474086,
             0.3083761572
            ]
           },
           {
            "iteration": 99,
            "learn": [
             0.8857262374,
             0.269015051
            ],
            "passed_time": 8.471035034,
            "remaining_time": 76.2393153,
            "test": [
             0.8596474086,
             0.3085027716
            ]
           },
           {
            "iteration": 100,
            "learn": [
             0.8857895805,
             0.2683339836
            ],
            "passed_time": 8.559445985,
            "remaining_time": 76.18754396,
            "test": [
             0.8596474086,
             0.308771751
            ]
           },
           {
            "iteration": 101,
            "learn": [
             0.8850208917,
             0.267380063
            ],
            "passed_time": 8.654963994,
            "remaining_time": 76.19762418,
            "test": [
             0.8595201196,
             0.3089895574
            ]
           },
           {
            "iteration": 102,
            "learn": [
             0.8850842285,
             0.266626149
            ],
            "passed_time": 8.738342168,
            "remaining_time": 76.09993131,
            "test": [
             0.8596474086,
             0.3089898278
            ]
           },
           {
            "iteration": 103,
            "learn": [
             0.8851159003,
             0.2664898916
            ],
            "passed_time": 8.812515116,
            "remaining_time": 75.92320715,
            "test": [
             0.8596474086,
             0.3089549125
            ]
           },
           {
            "iteration": 104,
            "learn": [
             0.8862844501,
             0.2657218919
            ],
            "passed_time": 8.90331703,
            "remaining_time": 75.89017849,
            "test": [
             0.8595201196,
             0.3092685416
            ]
           },
           {
            "iteration": 105,
            "learn": [
             0.8866840525,
             0.2648480721
            ],
            "passed_time": 8.993180684,
            "remaining_time": 75.84814652,
            "test": [
             0.8612062638,
             0.3087468067
            ]
           },
           {
            "iteration": 106,
            "learn": [
             0.8868932876,
             0.2643015373
            ],
            "passed_time": 9.07606388,
            "remaining_time": 75.74696304,
            "test": [
             0.8610789183,
             0.3084294258
            ]
           },
           {
            "iteration": 107,
            "learn": [
             0.8872607042,
             0.2631172405
            ],
            "passed_time": 9.167806734,
            "remaining_time": 75.71929265,
            "test": [
             0.8609516105,
             0.3079147889
            ]
           },
           {
            "iteration": 108,
            "learn": [
             0.8873874604,
             0.2623722886
            ],
            "passed_time": 9.25992976,
            "remaining_time": 75.69355428,
            "test": [
             0.8608243403,
             0.3078970102
            ]
           },
           {
            "iteration": 109,
            "learn": [
             0.8880265011,
             0.2614485517
            ],
            "passed_time": 9.339895856,
            "remaining_time": 75.56824829,
            "test": [
             0.8608243403,
             0.3077873971
            ]
           },
           {
            "iteration": 110,
            "learn": [
             0.8884565876,
             0.2607256161
            ],
            "passed_time": 9.419407083,
            "remaining_time": 75.44011619,
            "test": [
             0.8608243403,
             0.3070620856
            ]
           },
           {
            "iteration": 111,
            "learn": [
             0.8883118215,
             0.2601066914
            ],
            "passed_time": 9.49645379,
            "remaining_time": 75.29331219,
            "test": [
             0.8608243403,
             0.3069247905
            ]
           },
           {
            "iteration": 112,
            "learn": [
             0.8886151121,
             0.2593015414
            ],
            "passed_time": 9.58554013,
            "remaining_time": 75.24224863,
            "test": [
             0.8626334617,
             0.3062816464
            ]
           },
           {
            "iteration": 113,
            "learn": [
             0.8896820776,
             0.2589382558
            ],
            "passed_time": 9.669596098,
            "remaining_time": 75.1514223,
            "test": [
             0.8623787721,
             0.3060593784
            ]
           },
           {
            "iteration": 114,
            "learn": [
             0.8890132955,
             0.2583126856
            ],
            "passed_time": 9.76008233,
            "remaining_time": 75.1101988,
            "test": [
             0.8625060981,
             0.3061488467
            ]
           },
           {
            "iteration": 115,
            "learn": [
             0.8894429662,
             0.2577673852
            ],
            "passed_time": 9.850436406,
            "remaining_time": 75.06711882,
            "test": [
             0.8626334617,
             0.3060076308
            ]
           },
           {
            "iteration": 116,
            "learn": [
             0.8913340021,
             0.257011645
            ],
            "passed_time": 9.937859802,
            "remaining_time": 75.00111286,
            "test": [
             0.8626334617,
             0.3061460751
            ]
           },
           {
            "iteration": 117,
            "learn": [
             0.890905496,
             0.2568491946
            ],
            "passed_time": 10.00445328,
            "remaining_time": 74.77904912,
            "test": [
             0.8626334617,
             0.3061031154
            ]
           },
           {
            "iteration": 118,
            "learn": [
             0.8913022633,
             0.2567920064
            ],
            "passed_time": 10.07049765,
            "remaining_time": 74.55553305,
            "test": [
             0.8626334617,
             0.3061499283
            ]
           },
           {
            "iteration": 119,
            "learn": [
             0.8910959339,
             0.2563729192
            ],
            "passed_time": 10.15309885,
            "remaining_time": 74.45605823,
            "test": [
             0.8626334617,
             0.3064112351
            ]
           },
           {
            "iteration": 120,
            "learn": [
             0.8907306474,
             0.2559133504
            ],
            "passed_time": 10.23826217,
            "remaining_time": 74.37547478,
            "test": [
             0.8626334617,
             0.3063766579
            ]
           },
           {
            "iteration": 121,
            "learn": [
             0.8917150444,
             0.2551837355
            ],
            "passed_time": 10.319064,
            "remaining_time": 74.26342781,
            "test": [
             0.8628883019,
             0.3059230297
            ]
           },
           {
            "iteration": 122,
            "learn": [
             0.8924762297,
             0.2541416653
            ],
            "passed_time": 10.40111263,
            "remaining_time": 74.16077869,
            "test": [
             0.862760863,
             0.3058047639
            ]
           },
           {
            "iteration": 123,
            "learn": [
             0.8928088025,
             0.2540737226
            ],
            "passed_time": 10.46804455,
            "remaining_time": 73.95166956,
            "test": [
             0.862760863,
             0.3057648125
            ]
           },
           {
            "iteration": 124,
            "learn": [
             0.8932364679,
             0.2532938016
            ],
            "passed_time": 10.55893381,
            "remaining_time": 73.91253664,
            "test": [
             0.8630157784,
             0.3053917632
            ]
           },
           {
            "iteration": 125,
            "learn": [
             0.8932364679,
             0.2532281079
            ],
            "passed_time": 10.62314825,
            "remaining_time": 73.68755216,
            "test": [
             0.8630157784,
             0.3053844963
            ]
           },
           {
            "iteration": 126,
            "learn": [
             0.8942955787,
             0.2525960444
            ],
            "passed_time": 10.72542566,
            "remaining_time": 73.72674488,
            "test": [
             0.8630157784,
             0.3049466864
            ]
           },
           {
            "iteration": 127,
            "learn": [
             0.8951170314,
             0.2521460127
            ],
            "passed_time": 10.80981788,
            "remaining_time": 73.64188429,
            "test": [
             0.862760863,
             0.3048922686
            ]
           },
           {
            "iteration": 128,
            "learn": [
             0.8948495083,
             0.2516024878
            ],
            "passed_time": 10.89107442,
            "remaining_time": 73.53585909,
            "test": [
             0.8626334617,
             0.3048731717
            ]
           },
           {
            "iteration": 129,
            "learn": [
             0.8962997955,
             0.2507551991
            ],
            "passed_time": 10.98045982,
            "remaining_time": 73.48461572,
            "test": [
             0.8628883019,
             0.3055312215
            ]
           },
           {
            "iteration": 130,
            "learn": [
             0.8965862009,
             0.2499389395
            ],
            "passed_time": 11.06701841,
            "remaining_time": 73.41403818,
            "test": [
             0.8630157784,
             0.3049619978
            ]
           },
           {
            "iteration": 131,
            "learn": [
             0.8973736414,
             0.2489109549
            ],
            "passed_time": 11.15061798,
            "remaining_time": 73.32376064,
            "test": [
             0.8630157784,
             0.3052018079
            ]
           },
           {
            "iteration": 132,
            "learn": [
             0.8978307146,
             0.2483539193
            ],
            "passed_time": 11.23547273,
            "remaining_time": 73.24176582,
            "test": [
             0.8628883019,
             0.305061944
            ]
           },
           {
            "iteration": 133,
            "learn": [
             0.8985530761,
             0.2478298404
            ],
            "passed_time": 11.31720066,
            "remaining_time": 73.13952071,
            "test": [
             0.8632708445,
             0.3048071605
            ]
           },
           {
            "iteration": 134,
            "learn": [
             0.8989139019,
             0.2476199756
            ],
            "passed_time": 11.38993697,
            "remaining_time": 72.97996654,
            "test": [
             0.8632708445,
             0.3049872125
            ]
           },
           {
            "iteration": 135,
            "learn": [
             0.8992107741,
             0.2475505279
            ],
            "passed_time": 11.45499226,
            "remaining_time": 72.77289199,
            "test": [
             0.8632708445,
             0.3049757881
            ]
           },
           {
            "iteration": 136,
            "learn": [
             0.8988820445,
             0.2470248764
            ],
            "passed_time": 11.53642024,
            "remaining_time": 72.6710268,
            "test": [
             0.8632708445,
             0.3048778699
            ]
           },
           {
            "iteration": 137,
            "learn": [
             0.8984893682,
             0.2469837523
            ],
            "passed_time": 11.60415814,
            "remaining_time": 72.48394434,
            "test": [
             0.8632708445,
             0.3048360932
            ]
           },
           {
            "iteration": 138,
            "learn": [
             0.8988501893,
             0.2461302747
            ],
            "passed_time": 11.70856907,
            "remaining_time": 72.52574078,
            "test": [
             0.8631432926,
             0.3048105405
            ]
           },
           {
            "iteration": 139,
            "learn": [
             0.8996985757,
             0.2459439649
            ],
            "passed_time": 11.78114019,
            "remaining_time": 72.36986117,
            "test": [
             0.8631432926,
             0.3047036991
            ]
           },
           {
            "iteration": 140,
            "learn": [
             0.8998356626,
             0.2452614939
            ],
            "passed_time": 11.8592099,
            "remaining_time": 72.24866171,
            "test": [
             0.8631432926,
             0.3038810439
            ]
           },
           {
            "iteration": 141,
            "learn": [
             0.9002592506,
             0.2446147022
            ],
            "passed_time": 11.94177545,
            "remaining_time": 72.15523477,
            "test": [
             0.8628883019,
             0.3043312245
            ]
           },
           {
            "iteration": 142,
            "learn": [
             0.9005142116,
             0.2440632298
            ],
            "passed_time": 12.03170336,
            "remaining_time": 72.10608238,
            "test": [
             0.8628883019,
             0.3044388433
            ]
           },
           {
            "iteration": 143,
            "learn": [
             0.9006736355,
             0.2437119331
            ],
            "passed_time": 12.10882982,
            "remaining_time": 71.98026615,
            "test": [
             0.8628883019,
             0.3043325089
            ]
           },
           {
            "iteration": 144,
            "learn": [
             0.9006736355,
             0.2436837618
            ],
            "passed_time": 12.1746061,
            "remaining_time": 71.78819458,
            "test": [
             0.8628883019,
             0.3043196987
            ]
           },
           {
            "iteration": 145,
            "learn": [
             0.9014565337,
             0.2430452388
            ],
            "passed_time": 12.26395843,
            "remaining_time": 71.73575684,
            "test": [
             0.8628883019,
             0.3035989839
            ]
           },
           {
            "iteration": 146,
            "learn": [
             0.9014884344,
             0.2424525578
            ],
            "passed_time": 12.34984481,
            "remaining_time": 71.66270494,
            "test": [
             0.8628883019,
             0.3035061357
            ]
           },
           {
            "iteration": 147,
            "learn": [
             0.9018795456,
             0.2419497512
            ],
            "passed_time": 12.4288715,
            "remaining_time": 71.54998997,
            "test": [
             0.8628883019,
             0.3039361715
            ]
           },
           {
            "iteration": 148,
            "learn": [
             0.9017519383,
             0.2415250331
            ],
            "passed_time": 12.50867253,
            "remaining_time": 71.4421498,
            "test": [
             0.862760863,
             0.3033636016
            ]
           },
           {
            "iteration": 149,
            "learn": [
             0.9018795456,
             0.2410758975
            ],
            "passed_time": 12.58569542,
            "remaining_time": 71.31894071,
            "test": [
             0.8626334617,
             0.3033653254
            ]
           },
           {
            "iteration": 150,
            "learn": [
             0.9022704287,
             0.2410244247
            ],
            "passed_time": 12.65444627,
            "remaining_time": 71.14983366,
            "test": [
             0.8626334617,
             0.3033387249
            ]
           },
           {
            "iteration": 151,
            "learn": [
             0.9023342549,
             0.2407325822
            ],
            "passed_time": 12.75267048,
            "remaining_time": 71.14647739,
            "test": [
             0.8626334617,
             0.3037244491
            ]
           },
           {
            "iteration": 152,
            "learn": [
             0.9028845468,
             0.2399748297
            ],
            "passed_time": 12.84211887,
            "remaining_time": 71.09329859,
            "test": [
             0.862760863,
             0.3039897443
            ]
           },
           {
            "iteration": 153,
            "learn": [
             0.902820689,
             0.2393725779
            ],
            "passed_time": 12.91933397,
            "remaining_time": 70.97244506,
            "test": [
             0.8626334617,
             0.303841329
            ]
           },
           {
            "iteration": 154,
            "learn": [
             0.9033708231,
             0.2387190054
            ],
            "passed_time": 13.00076918,
            "remaining_time": 70.875161,
            "test": [
             0.8643112235,
             0.3035472025
            ]
           },
           {
            "iteration": 155,
            "learn": [
             0.9033708231,
             0.2386340685
            ],
            "passed_time": 13.06954003,
            "remaining_time": 70.70956274,
            "test": [
             0.8644387173,
             0.3034769664
            ]
           },
           {
            "iteration": 156,
            "learn": [
             0.9034666605,
             0.2379535253
            ],
            "passed_time": 13.16082262,
            "remaining_time": 70.66607306,
            "test": [
             0.862760863,
             0.3038108078
            ]
           },
           {
            "iteration": 157,
            "learn": [
             0.903856919,
             0.2376120531
            ],
            "passed_time": 13.24001827,
            "remaining_time": 70.55756573,
            "test": [
             0.861333647,
             0.303806718
            ]
           },
           {
            "iteration": 158,
            "learn": [
             0.9047006839,
             0.2372036189
            ],
            "passed_time": 13.32215631,
            "remaining_time": 70.4649903,
            "test": [
             0.861333647,
             0.3036915956
            ]
           },
           {
            "iteration": 159,
            "learn": [
             0.9050902697,
             0.2368058885
            ],
            "passed_time": 13.408827,
            "remaining_time": 70.39634173,
            "test": [
             0.8612062638,
             0.303302728
            ]
           },
           {
            "iteration": 160,
            "learn": [
             0.9057728298,
             0.2359100693
            ],
            "passed_time": 13.5044055,
            "remaining_time": 70.37388951,
            "test": [
             0.862760863,
             0.3039276201
            ]
           },
           {
            "iteration": 161,
            "learn": [
             0.9058687611,
             0.2358763854
            ],
            "passed_time": 13.57147343,
            "remaining_time": 70.20305392,
            "test": [
             0.862760863,
             0.3039164662
            ]
           },
           {
            "iteration": 162,
            "learn": [
             0.9063216414,
             0.2355490158
            ],
            "passed_time": 13.64432051,
            "remaining_time": 70.06316728,
            "test": [
             0.8643112235,
             0.3039826125
            ]
           },
           {
            "iteration": 163,
            "learn": [
             0.9064176199,
             0.2352048887
            ],
            "passed_time": 13.74341462,
            "remaining_time": 70.05789405,
            "test": [
             0.8643112235,
             0.303960068
            ]
           },
           {
            "iteration": 164,
            "learn": [
             0.9060926799,
             0.234961137
            ],
            "passed_time": 13.82014576,
            "remaining_time": 69.9383134,
            "test": [
             0.862760863,
             0.3035342234
            ]
           },
           {
            "iteration": 165,
            "learn": [
             0.9063856248,
             0.2347432401
            ],
            "passed_time": 13.89978539,
            "remaining_time": 69.83386153,
            "test": [
             0.862760863,
             0.3033916555
            ]
           },
           {
            "iteration": 166,
            "learn": [
             0.9063856248,
             0.2343629942
            ],
            "passed_time": 13.99585466,
            "remaining_time": 69.81165828,
            "test": [
             0.862760863,
             0.3035075215
            ]
           },
           {
            "iteration": 167,
            "learn": [
             0.9064176199,
             0.2343128911
            ],
            "passed_time": 14.06646436,
            "remaining_time": 69.66249018,
            "test": [
             0.862760863,
             0.3034876133
            ]
           },
           {
            "iteration": 168,
            "learn": [
             0.9063856248,
             0.2342878818
            ],
            "passed_time": 14.13464038,
            "remaining_time": 69.50228493,
            "test": [
             0.862760863,
             0.3034951169
            ]
           },
           {
            "iteration": 169,
            "learn": [
             0.9063856248,
             0.2341998167
            ],
            "passed_time": 14.20708928,
            "remaining_time": 69.36402411,
            "test": [
             0.8643112235,
             0.3035003559
            ]
           },
           {
            "iteration": 170,
            "learn": [
             0.90671033,
             0.2339405589
            ],
            "passed_time": 14.29875801,
            "remaining_time": 69.31970991,
            "test": [
             0.862760863,
             0.3037548014
            ]
           },
           {
            "iteration": 171,
            "learn": [
             0.9078110307,
             0.2333648551
            ],
            "passed_time": 14.39097829,
            "remaining_time": 69.27750015,
            "test": [
             0.8640563486,
             0.3038286541
            ]
           },
           {
            "iteration": 172,
            "learn": [
             0.9078110307,
             0.2333448172
            ],
            "passed_time": 14.4548311,
            "remaining_time": 69.0991059,
            "test": [
             0.8640563486,
             0.3038208125
            ]
           },
           {
            "iteration": 173,
            "learn": [
             0.9074870292,
             0.233274338
            ],
            "passed_time": 14.51995288,
            "remaining_time": 68.92805216,
            "test": [
             0.8640563486,
             0.303756728
            ]
           },
           {
            "iteration": 174,
            "learn": [
             0.9090057023,
             0.2325304176
            ],
            "passed_time": 14.60379262,
            "remaining_time": 68.84645094,
            "test": [
             0.8641837673,
             0.3038463652
            ]
           },
           {
            "iteration": 175,
            "learn": [
             0.9090057023,
             0.2325099063
            ],
            "passed_time": 14.67110153,
            "remaining_time": 68.6874299,
            "test": [
             0.8640563486,
             0.3038326425
            ]
           },
           {
            "iteration": 176,
            "learn": [
             0.9090377212,
             0.232312284
            ],
            "passed_time": 14.76516216,
            "remaining_time": 68.6538331,
            "test": [
             0.8641837673,
             0.3037182299
            ]
           },
           {
            "iteration": 177,
            "learn": [
             0.9090057023,
             0.232222139
            ],
            "passed_time": 14.83599078,
            "remaining_time": 68.51227201,
            "test": [
             0.8641837673,
             0.3035728904
            ]
           },
           {
            "iteration": 178,
            "learn": [
             0.9093928083,
             0.2321580854
            ],
            "passed_time": 14.90473801,
            "remaining_time": 68.36195479,
            "test": [
             0.8641837673,
             0.3035703554
            ]
           },
           {
            "iteration": 179,
            "learn": [
             0.90835887,
             0.2319926758
            ],
            "passed_time": 14.98481583,
            "remaining_time": 68.26416102,
            "test": [
             0.8640563486,
             0.3034807182
            ]
           },
           {
            "iteration": 180,
            "learn": [
             0.90835887,
             0.2319677849
            ],
            "passed_time": 15.05083645,
            "remaining_time": 68.10295607,
            "test": [
             0.8640563486,
             0.3034850107
            ]
           },
           {
            "iteration": 181,
            "learn": [
             0.908842521,
             0.2315446056
            ],
            "passed_time": 15.13439531,
            "remaining_time": 68.02162286,
            "test": [
             0.8639289676,
             0.3033981112
            ]
           },
           {
            "iteration": 182,
            "learn": [
             0.9092939541,
             0.2312062109
            ],
            "passed_time": 15.21192079,
            "remaining_time": 67.91332941,
            "test": [
             0.8640563486,
             0.3031691847
            ]
           },
           {
            "iteration": 183,
            "learn": [
             0.9092939541,
             0.2311827235
            ],
            "passed_time": 15.2758375,
            "remaining_time": 67.74501847,
            "test": [
             0.8640563486,
             0.3031260898
            ]
           },
           {
            "iteration": 184,
            "learn": [
             0.9093259933,
             0.2309279806
            ],
            "passed_time": 15.36907823,
            "remaining_time": 67.7070203,
            "test": [
             0.8641837673,
             0.3031134149
            ]
           },
           {
            "iteration": 185,
            "learn": [
             0.9093259933,
             0.230912559
            ],
            "passed_time": 15.43267946,
            "remaining_time": 67.53871547,
            "test": [
             0.8641837673,
             0.3031103391
            ]
           },
           {
            "iteration": 186,
            "learn": [
             0.9093580348,
             0.2305380286
            ],
            "passed_time": 15.51163597,
            "remaining_time": 67.43828898,
            "test": [
             0.8643112235,
             0.3028084724
            ]
           },
           {
            "iteration": 187,
            "learn": [
             0.9097131427,
             0.2301238113
            ],
            "passed_time": 15.60004972,
            "remaining_time": 67.37893816,
            "test": [
             0.8643112235,
             0.3027204913
            ]
           },
           {
            "iteration": 188,
            "learn": [
             0.9096810991,
             0.2300830423
            ],
            "passed_time": 15.66469166,
            "remaining_time": 67.21727481,
            "test": [
             0.8641837673,
             0.3027270823
            ]
           },
           {
            "iteration": 189,
            "learn": [
             0.9101641699,
             0.2296842635
            ],
            "passed_time": 15.76946927,
            "remaining_time": 67.22773743,
            "test": [
             0.8641837673,
             0.3028226683
            ]
           },
           {
            "iteration": 190,
            "learn": [
             0.9096810991,
             0.2294595013
            ],
            "passed_time": 15.85156246,
            "remaining_time": 67.14091113,
            "test": [
             0.8641837673,
             0.3025423659
            ]
           },
           {
            "iteration": 191,
            "learn": [
             0.9098757792,
             0.2290885556
            ],
            "passed_time": 15.93397407,
            "remaining_time": 67.05547422,
            "test": [
             0.8641837673,
             0.3025335104
            ]
           },
           {
            "iteration": 192,
            "learn": [
             0.9099078136,
             0.2290519971
            ],
            "passed_time": 16.00557001,
            "remaining_time": 66.92484455,
            "test": [
             0.8641837673,
             0.3025427039
            ]
           },
           {
            "iteration": 193,
            "learn": [
             0.9098757792,
             0.2290381482
            ],
            "passed_time": 16.07101127,
            "remaining_time": 66.76925299,
            "test": [
             0.8643112235,
             0.3025419942
            ]
           },
           {
            "iteration": 194,
            "learn": [
             0.9105188218,
             0.2280309962
            ],
            "passed_time": 16.16888985,
            "remaining_time": 66.74849399,
            "test": [
             0.8643112235,
             0.302243744
            ]
           },
           {
            "iteration": 195,
            "learn": [
             0.9105188218,
             0.2280092843
            ],
            "passed_time": 16.23465043,
            "remaining_time": 66.5951987,
            "test": [
             0.8643112235,
             0.3022254245
            ]
           },
           {
            "iteration": 196,
            "learn": [
             0.9105508786,
             0.2279943701
            ],
            "passed_time": 16.29824716,
            "remaining_time": 66.43397194,
            "test": [
             0.8643112235,
             0.3022127157
            ]
           },
           {
            "iteration": 197,
            "learn": [
             0.9102603408,
             0.2276319469
            ],
            "passed_time": 16.39357022,
            "remaining_time": 66.40223897,
            "test": [
             0.8657298522,
             0.3023662686
            ]
           },
           {
            "iteration": 198,
            "learn": [
             0.9102603408,
             0.2275877114
            ],
            "passed_time": 16.46531417,
            "remaining_time": 66.27495805,
            "test": [
             0.8657298522,
             0.3023051922
            ]
           },
           {
            "iteration": 199,
            "learn": [
             0.910775339,
             0.2270679614
            ],
            "passed_time": 16.5478173,
            "remaining_time": 66.19126921,
            "test": [
             0.8657298522,
             0.3023819517
            ]
           },
           {
            "iteration": 200,
            "learn": [
             0.9108394909,
             0.2267490973
            ],
            "passed_time": 16.62717114,
            "remaining_time": 66.09507332,
            "test": [
             0.8658573626,
             0.3024001361
            ]
           },
           {
            "iteration": 201,
            "learn": [
             0.9108394909,
             0.2267260495
            ],
            "passed_time": 16.69023859,
            "remaining_time": 65.93470491,
            "test": [
             0.8657298522,
             0.3023951337
            ]
           },
           {
            "iteration": 202,
            "learn": [
             0.9108074138,
             0.226426902
            ],
            "passed_time": 16.78592976,
            "remaining_time": 65.90337939,
            "test": [
             0.8658573626,
             0.3024891987
            ]
           },
           {
            "iteration": 203,
            "learn": [
             0.9108074138,
             0.2264068642
            ],
            "passed_time": 16.8541123,
            "remaining_time": 65.76408525,
            "test": [
             0.8658573626,
             0.3024805798
            ]
           },
           {
            "iteration": 204,
            "learn": [
             0.9109678218,
             0.2260175378
            ],
            "passed_time": 16.9405731,
            "remaining_time": 65.69636886,
            "test": [
             0.8658573626,
             0.3021624215
            ]
           },
           {
            "iteration": 205,
            "learn": [
             0.9109678218,
             0.2259957752
            ],
            "passed_time": 17.00804382,
            "remaining_time": 65.5552757,
            "test": [
             0.8658573626,
             0.3021640101
            ]
           },
           {
            "iteration": 206,
            "learn": [
             0.9107094069,
             0.2251600526
            ],
            "passed_time": 17.10224152,
            "remaining_time": 65.51728271,
            "test": [
             0.8640563486,
             0.3019641852
            ]
           },
           {
            "iteration": 207,
            "learn": [
             0.9110640937,
             0.2248701716
            ],
            "passed_time": 17.18431079,
            "remaining_time": 65.432568,
            "test": [
             0.8640563486,
             0.3020578447
            ]
           },
           {
            "iteration": 208,
            "learn": [
             0.910450769,
             0.2244403806
            ],
            "passed_time": 17.27516812,
            "remaining_time": 65.38113866,
            "test": [
             0.8639289676,
             0.3021442034
            ]
           },
           {
            "iteration": 209,
            "learn": [
             0.9104186734,
             0.2240618426
            ],
            "passed_time": 17.36445064,
            "remaining_time": 65.32340954,
            "test": [
             0.8640563486,
             0.3023366599
            ]
           },
           {
            "iteration": 210,
            "learn": [
             0.9106452275,
             0.2238148104
            ],
            "passed_time": 17.44322989,
            "remaining_time": 65.22610606,
            "test": [
             0.8640563486,
             0.3020676805
            ]
           },
           {
            "iteration": 211,
            "learn": [
             0.9113543619,
             0.2231849959
            ],
            "passed_time": 17.52789084,
            "remaining_time": 65.15083953,
            "test": [
             0.8641837673,
             0.3019556339
            ]
           },
           {
            "iteration": 212,
            "learn": [
             0.9118048739,
             0.2228182269
            ],
            "passed_time": 17.60311394,
            "remaining_time": 65.04061347,
            "test": [
             0.8657298522,
             0.3017391119
            ]
           },
           {
            "iteration": 213,
            "learn": [
             0.9118048739,
             0.2227861325
            ],
            "passed_time": 17.67130628,
            "remaining_time": 64.9048913,
            "test": [
             0.8657298522,
             0.3017073738
            ]
           },
           {
            "iteration": 214,
            "learn": [
             0.9133479318,
             0.222282937
            ],
            "passed_time": 17.75446931,
            "remaining_time": 64.82445771,
            "test": [
             0.8657298522,
             0.3018126266
            ]
           },
           {
            "iteration": 215,
            "learn": [
             0.9138616418,
             0.2217131347
            ],
            "passed_time": 17.84827406,
            "remaining_time": 64.78262437,
            "test": [
             0.8658573626,
             0.3016712755
            ]
           },
           {
            "iteration": 216,
            "learn": [
             0.9138616418,
             0.2217013825
            ],
            "passed_time": 17.91099679,
            "remaining_time": 64.62815894,
            "test": [
             0.8658573626,
             0.3016550854
            ]
           },
           {
            "iteration": 217,
            "learn": [
             0.9135406767,
             0.2212869116
            ],
            "passed_time": 17.992013,
            "remaining_time": 64.54015673,
            "test": [
             0.8658573626,
             0.3022924835
            ]
           },
           {
            "iteration": 218,
            "learn": [
             0.9135406767,
             0.2212663326
            ],
            "passed_time": 18.05838311,
            "remaining_time": 64.39998726,
            "test": [
             0.8658573626,
             0.3022854531
            ]
           },
           {
            "iteration": 219,
            "learn": [
             0.9135085469,
             0.2212612598
            ],
            "passed_time": 18.12234889,
            "remaining_time": 64.25196425,
            "test": [
             0.8658573626,
             0.3022777129
            ]
           },
           {
            "iteration": 220,
            "learn": [
             0.9145671436,
             0.2206096995
            ],
            "passed_time": 18.2098451,
            "remaining_time": 64.18764404,
            "test": [
             0.8658573626,
             0.3021319678
            ]
           },
           {
            "iteration": 221,
            "learn": [
             0.9145992793,
             0.2203619403
            ],
            "passed_time": 18.28870085,
            "remaining_time": 64.09283452,
            "test": [
             0.8659849106,
             0.3021969312
            ]
           },
           {
            "iteration": 222,
            "learn": [
             0.9145671436,
             0.2203517945
            ],
            "passed_time": 18.35100116,
            "remaining_time": 63.94048387,
            "test": [
             0.8658573626,
             0.3021894952
            ]
           },
           {
            "iteration": 223,
            "learn": [
             0.9146314172,
             0.2197880289
            ],
            "passed_time": 18.44338013,
            "remaining_time": 63.89313831,
            "test": [
             0.8659849106,
             0.3023389921
            ]
           },
           {
            "iteration": 224,
            "learn": [
             0.9148242924,
             0.2192851715
            ],
            "passed_time": 18.52741013,
            "remaining_time": 63.81663488,
            "test": [
             0.8644387173,
             0.3028561302
            ]
           },
           {
            "iteration": 225,
            "learn": [
             0.9147278447,
             0.218797685
            ],
            "passed_time": 18.60711719,
            "remaining_time": 63.72525977,
            "test": [
             0.8643112235,
             0.3028588342
            ]
           },
           {
            "iteration": 226,
            "learn": [
             0.9147599917,
             0.2184324041
            ],
            "passed_time": 18.68613527,
            "remaining_time": 63.63164125,
            "test": [
             0.8643112235,
             0.302746213
            ]
           },
           {
            "iteration": 227,
            "learn": [
             0.9144073437,
             0.2181563889
            ],
            "passed_time": 18.77042687,
            "remaining_time": 63.55600677,
            "test": [
             0.8643112235,
             0.302518537
            ]
           },
           {
            "iteration": 228,
            "learn": [
             0.9151124106,
             0.2177150994
            ],
            "passed_time": 18.87129325,
            "remaining_time": 63.53610084,
            "test": [
             0.8643112235,
             0.302480208
            ]
           },
           {
            "iteration": 229,
            "learn": [
             0.9159130342,
             0.216938273
            ],
            "passed_time": 18.95563749,
            "remaining_time": 63.46017768,
            "test": [
             0.8645662487,
             0.3024111548
            ]
           },
           {
            "iteration": 230,
            "learn": [
             0.9165841205,
             0.2163476718
            ],
            "passed_time": 19.04383328,
            "remaining_time": 63.39700341,
            "test": [
             0.8645662487,
             0.3026593473
            ]
           },
           {
            "iteration": 231,
            "learn": [
             0.9167127876,
             0.2159434988
            ],
            "passed_time": 19.13320899,
            "remaining_time": 63.33751943,
            "test": [
             0.8646938178,
             0.3033618778
            ]
           },
           {
            "iteration": 232,
            "learn": [
             0.9167127876,
             0.2158431235
            ],
            "passed_time": 19.21022024,
            "remaining_time": 63.23707694,
            "test": [
             0.8648214245,
             0.3033695166
            ]
           },
           {
            "iteration": 233,
            "learn": [
             0.9175116721,
             0.2153565671
            ],
            "passed_time": 19.30268365,
            "remaining_time": 63.18741741,
            "test": [
             0.8649490689,
             0.3030390552
            ]
           },
           {
            "iteration": 234,
            "learn": [
             0.9179268828,
             0.2151301646
            ],
            "passed_time": 19.38208912,
            "remaining_time": 63.09488587,
            "test": [
             0.865076751,
             0.302919167
            ]
           },
           {
            "iteration": 235,
            "learn": [
             0.9179590722,
             0.214777735
            ],
            "passed_time": 19.47061177,
            "remaining_time": 63.03198048,
            "test": [
             0.8649490689,
             0.3035183036
            ]
           },
           {
            "iteration": 236,
            "learn": [
             0.9184706791,
             0.2142067658
            ],
            "passed_time": 19.55138615,
            "remaining_time": 62.94391406,
            "test": [
             0.8646938178,
             0.3034251512
            ]
           },
           {
            "iteration": 237,
            "learn": [
             0.9186961598,
             0.2137989066
            ],
            "passed_time": 19.63085729,
            "remaining_time": 62.85173637,
            "test": [
             0.8649490689,
             0.3034776086
            ]
           },
           {
            "iteration": 238,
            "learn": [
             0.9191432459,
             0.2133512253
            ],
            "passed_time": 19.70437245,
            "remaining_time": 62.74070056,
            "test": [
             0.8663677801,
             0.3027043012
            ]
           },
           {
            "iteration": 239,
            "learn": [
             0.9193645349,
             0.2129320197
            ],
            "passed_time": 19.78171281,
            "remaining_time": 62.64209058,
            "test": [
             0.8648214245,
             0.3030319572
            ]
           },
           {
            "iteration": 240,
            "learn": [
             0.9200045869,
             0.2125329534
            ],
            "passed_time": 19.88243355,
            "remaining_time": 62.61729072,
            "test": [
             0.8648214245,
             0.303125887
            ]
           },
           {
            "iteration": 241,
            "learn": [
             0.9196546141,
             0.2120440634
            ],
            "passed_time": 19.95899167,
            "remaining_time": 62.51618052,
            "test": [
             0.8649490689,
             0.3028750243
            ]
           },
           {
            "iteration": 242,
            "learn": [
             0.919719101,
             0.2118998415
            ],
            "passed_time": 20.04115914,
            "remaining_time": 62.43274679,
            "test": [
             0.8652044707,
             0.3027708869
            ]
           },
           {
            "iteration": 243,
            "learn": [
             0.9197513479,
             0.2116964699
            ],
            "passed_time": 20.12185542,
            "remaining_time": 62.34476517,
            "test": [
             0.8653322282,
             0.3030170852
            ]
           },
           {
            "iteration": 244,
            "learn": [
             0.920644628,
             0.2109535979
            ],
            "passed_time": 20.20181205,
            "remaining_time": 62.25456368,
            "test": [
             0.8653322282,
             0.302707377
            ]
           },
           {
            "iteration": 245,
            "learn": [
             0.9205155854,
             0.2106277671
            ],
            "passed_time": 20.27583485,
            "remaining_time": 62.14625805,
            "test": [
             0.8653322282,
             0.3027235333
            ]
           },
           {
            "iteration": 246,
            "learn": [
             0.9206768943,
             0.2102954599
            ],
            "passed_time": 20.35582865,
            "remaining_time": 62.05643308,
            "test": [
             0.8653322282,
             0.302802963
            ]
           },
           {
            "iteration": 247,
            "learn": [
             0.921026432,
             0.2099856931
            ],
            "passed_time": 20.43934229,
            "remaining_time": 61.97736048,
            "test": [
             0.8653322282,
             0.3027864011
            ]
           },
           {
            "iteration": 248,
            "learn": [
             0.9205530449,
             0.2096424454
            ],
            "passed_time": 20.51430084,
            "remaining_time": 61.87244951,
            "test": [
             0.8653322282,
             0.3026639441
            ]
           },
           {
            "iteration": 249,
            "learn": [
             0.9211232498,
             0.2089961272
            ],
            "passed_time": 20.61118273,
            "remaining_time": 61.83354818,
            "test": [
             0.8653322282,
             0.3026745235
            ]
           },
           {
            "iteration": 250,
            "learn": [
             0.9214725665,
             0.2087323376
            ],
            "passed_time": 20.69794916,
            "remaining_time": 61.76399968,
            "test": [
             0.8653322282,
             0.302539662
            ]
           },
           {
            "iteration": 251,
            "learn": [
             0.9215694101,
             0.2086706007
            ],
            "passed_time": 20.76529388,
            "remaining_time": 61.63666597,
            "test": [
             0.8653322282,
             0.3024421493
            ]
           },
           {
            "iteration": 252,
            "learn": [
             0.9219830832,
             0.2085086745
            ],
            "passed_time": 20.83626719,
            "remaining_time": 61.52052012,
            "test": [
             0.8653322282,
             0.3025681891
            ]
           },
           {
            "iteration": 253,
            "learn": [
             0.9216016958,
             0.2083209612
            ],
            "passed_time": 20.93102983,
            "remaining_time": 61.47459943,
            "test": [
             0.8653322282,
             0.3024539117
            ]
           },
           {
            "iteration": 254,
            "learn": [
             0.9216985665,
             0.2078521936
            ],
            "passed_time": 21.01632173,
            "remaining_time": 61.40062623,
            "test": [
             0.8685490631,
             0.3025027525
            ]
           },
           {
            "iteration": 255,
            "learn": [
             0.9220799661,
             0.2074969908
            ],
            "passed_time": 21.09532252,
            "remaining_time": 61.30828106,
            "test": [
             0.8670066488,
             0.3022250865
            ]
           },
           {
            "iteration": 256,
            "learn": [
             0.9229390321,
             0.2070365089
            ],
            "passed_time": 21.18888426,
            "remaining_time": 61.25813622,
            "test": [
             0.8639091698,
             0.3023851965
            ]
           },
           {
            "iteration": 257,
            "learn": [
             0.9225903703,
             0.2067824592
            ],
            "passed_time": 21.26587625,
            "remaining_time": 61.16000069,
            "test": [
             0.8639091698,
             0.3025085999
            ]
           },
           {
            "iteration": 258,
            "learn": [
             0.9224611454,
             0.2064900925
            ],
            "passed_time": 21.34549136,
            "remaining_time": 61.06953319,
            "test": [
             0.8624817935,
             0.3029834544
            ]
           },
           {
            "iteration": 259,
            "learn": [
             0.9224611454,
             0.2061978272
            ],
            "passed_time": 21.43537276,
            "remaining_time": 61.00836861,
            "test": [
             0.8626095543,
             0.3029953181
            ]
           },
           {
            "iteration": 260,
            "learn": [
             0.9227451978,
             0.2059190895
            ],
            "passed_time": 21.51858561,
            "remaining_time": 60.92810255,
            "test": [
             0.8641647644,
             0.3027810607
            ]
           },
           {
            "iteration": 261,
            "learn": [
             0.9229067207,
             0.2054508292
            ],
            "passed_time": 21.59996768,
            "remaining_time": 60.84265706,
            "test": [
             0.8641647644,
             0.3026701295
            ]
           },
           {
            "iteration": 262,
            "learn": [
             0.9234741275,
             0.2050099117
            ],
            "passed_time": 21.67553284,
            "remaining_time": 60.74094185,
            "test": [
             0.8657157272,
             0.3025385466
            ]
           },
           {
            "iteration": 263,
            "learn": [
             0.9235064333,
             0.2049312652
            ],
            "passed_time": 21.74863659,
            "remaining_time": 60.6325626,
            "test": [
             0.8641647644,
             0.3023484223
            ]
           },
           {
            "iteration": 264,
            "learn": [
             0.9236033643,
             0.2044761437
            ],
            "passed_time": 21.84235739,
            "remaining_time": 60.58163277,
            "test": [
             0.8641647644,
             0.302352681
            ]
           },
           {
            "iteration": 265,
            "learn": [
             0.9231582294,
             0.2043848488
            ],
            "passed_time": 21.93963361,
            "remaining_time": 60.54019199,
            "test": [
             0.8641647644,
             0.3021507606
            ]
           },
           {
            "iteration": 266,
            "learn": [
             0.9232551552,
             0.2041606784
            ],
            "passed_time": 22.02366207,
            "remaining_time": 60.46196366,
            "test": [
             0.8640369482,
             0.3024608406
            ]
           },
           {
            "iteration": 267,
            "learn": [
             0.9233197836,
             0.2037210291
            ],
            "passed_time": 22.11683197,
            "remaining_time": 60.40866047,
            "test": [
             0.8640369482,
             0.3028122918
            ]
           },
           {
            "iteration": 268,
            "learn": [
             0.9233521013,
             0.2032827495
            ],
            "passed_time": 22.19992069,
            "remaining_time": 60.32766551,
            "test": [
             0.8640369482,
             0.3031163555
            ]
           },
           {
            "iteration": 269,
            "learn": [
             0.9234490677,
             0.2027982222
            ],
            "passed_time": 22.2796405,
            "remaining_time": 60.23754653,
            "test": [
             0.8640369482,
             0.3032738629
            ]
           },
           {
            "iteration": 270,
            "learn": [
             0.9237649611,
             0.2023674336
            ],
            "passed_time": 22.3597405,
            "remaining_time": 60.14852702,
            "test": [
             0.8655878564,
             0.303291405
            ]
           },
           {
            "iteration": 271,
            "learn": [
             0.9244607212,
             0.2020082739
            ],
            "passed_time": 22.43881127,
            "remaining_time": 60.05681841,
            "test": [
             0.8624817935,
             0.3034763242
            ]
           },
           {
            "iteration": 272,
            "learn": [
             0.9244930508,
             0.2018335303
            ],
            "passed_time": 22.51774389,
            "remaining_time": 59.96483446,
            "test": [
             0.8609223749,
             0.3036744252
            ]
           },
           {
            "iteration": 273,
            "learn": [
             0.9253496142,
             0.2011662441
            ],
            "passed_time": 22.60563117,
            "remaining_time": 59.89667238,
            "test": [
             0.8610500796,
             0.3038769203
            ]
           },
           {
            "iteration": 274,
            "learn": [
             0.9254143095,
             0.2008320768
            ],
            "passed_time": 22.69024467,
            "remaining_time": 59.81973595,
            "test": [
             0.8626095543,
             0.3038338593
            ]
           },
           {
            "iteration": 275,
            "learn": [
             0.9258261247,
             0.2005038956
            ],
            "passed_time": 22.77403961,
            "remaining_time": 59.74059665,
            "test": [
             0.8626095543,
             0.3037005188
            ]
           },
           {
            "iteration": 276,
            "learn": [
             0.9257937697,
             0.2000257262
            ],
            "passed_time": 22.85628394,
            "remaining_time": 59.65737648,
            "test": [
             0.8628651895,
             0.3040135394
            ]
           },
           {
            "iteration": 277,
            "learn": [
             0.9256967183,
             0.199881014
            ],
            "passed_time": 22.94609995,
            "remaining_time": 59.59382793,
            "test": [
             0.8628651895,
             0.3039155536
            ]
           },
           {
            "iteration": 278,
            "learn": [
             0.9261083003,
             0.1996357912
            ],
            "passed_time": 23.03650559,
            "remaining_time": 59.5316148,
            "test": [
             0.8628651895,
             0.304175745
            ]
           },
           {
            "iteration": 279,
            "learn": [
             0.9261730113,
             0.1993906867
            ],
            "passed_time": 23.11770143,
            "remaining_time": 59.44551797,
            "test": [
             0.862993064,
             0.3043051648
            ]
           },
           {
            "iteration": 280,
            "learn": [
             0.9259789052,
             0.1990856885
            ],
            "passed_time": 23.19569038,
            "remaining_time": 59.35125047,
            "test": [
             0.8628651895,
             0.3039579048
            ]
           },
           {
            "iteration": 281,
            "learn": [
             0.9267690397,
             0.1987484436
            ],
            "passed_time": 23.27477098,
            "remaining_time": 59.25987789,
            "test": [
             0.8628651895,
             0.3041769956
            ]
           },
           {
            "iteration": 282,
            "learn": [
             0.9271152501,
             0.1985951244
            ],
            "passed_time": 23.35483292,
            "remaining_time": 59.17107845,
            "test": [
             0.8644205102,
             0.3042775503
            ]
           },
           {
            "iteration": 283,
            "learn": [
             0.9267690397,
             0.1982521811
            ],
            "passed_time": 23.43168045,
            "remaining_time": 59.07423662,
            "test": [
             0.8631209763,
             0.3039855869
            ]
           },
           {
            "iteration": 284,
            "learn": [
             0.9271799666,
             0.1980866531
            ],
            "passed_time": 23.51566266,
            "remaining_time": 58.99543439,
            "test": [
             0.8631209763,
             0.3040750552
            ]
           },
           {
            "iteration": 285,
            "learn": [
             0.9274065456,
             0.1975779282
            ],
            "passed_time": 23.59639704,
            "remaining_time": 58.90848772,
            "test": [
             0.8631209763,
             0.3043307851
            ]
           },
           {
            "iteration": 286,
            "learn": [
             0.9288863734,
             0.1968081868
            ],
            "passed_time": 23.67959768,
            "remaining_time": 58.82771132,
            "test": [
             0.8646764074,
             0.3041811868
            ]
           },
           {
            "iteration": 287,
            "learn": [
             0.9286382097,
             0.1962943721
            ],
            "passed_time": 23.76946716,
            "remaining_time": 58.76340492,
            "test": [
             0.862993064,
             0.3047146841
            ]
           },
           {
            "iteration": 288,
            "learn": [
             0.929835596,
             0.1955497584
            ],
            "passed_time": 23.86159846,
            "remaining_time": 58.70448617,
            "test": [
             0.8626095543,
             0.3045926665
            ]
           },
           {
            "iteration": 289,
            "learn": [
             0.9296851864,
             0.1953902334
            ],
            "passed_time": 23.93980274,
            "remaining_time": 58.6112412,
            "test": [
             0.8624817935,
             0.3042652809
            ]
           },
           {
            "iteration": 290,
            "learn": [
             0.9296851864,
             0.1952766179
            ],
            "passed_time": 24.03339637,
            "remaining_time": 58.55559459,
            "test": [
             0.8623540706,
             0.3042119447
            ]
           },
           {
            "iteration": 291,
            "learn": [
             0.9300301015,
             0.1949114722
            ],
            "passed_time": 24.11946805,
            "remaining_time": 58.48144992,
            "test": [
             0.8624817935,
             0.3040675178
            ]
           },
           {
            "iteration": 292,
            "learn": [
             0.9300301015,
             0.1944710789
            ],
            "passed_time": 24.19975475,
            "remaining_time": 58.39326487,
            "test": [
             0.8626095543,
             0.3042492598
            ]
           },
           {
            "iteration": 293,
            "learn": [
             0.9301598172,
             0.1939938735
            ],
            "passed_time": 24.28387179,
            "remaining_time": 58.31433158,
            "test": [
             0.8641647644,
             0.3036253478
            ]
           },
           {
            "iteration": 294,
            "learn": [
             0.9304720824,
             0.1937608762
            ],
            "passed_time": 24.3619969,
            "remaining_time": 58.22104343,
            "test": [
             0.8641647644,
             0.3041925436
            ]
           },
           {
            "iteration": 295,
            "learn": [
             0.9305693908,
             0.193514791
            ],
            "passed_time": 24.44382247,
            "remaining_time": 58.13665885,
            "test": [
             0.8640369482,
             0.3040384161
            ]
           },
           {
            "iteration": 296,
            "learn": [
             0.9308814311,
             0.1932924299
            ],
            "passed_time": 24.52652135,
            "remaining_time": 58.05435861,
            "test": [
             0.8640369482,
             0.3043968638
            ]
           },
           {
            "iteration": 297,
            "learn": [
             0.9312581294,
             0.1929438388
            ],
            "passed_time": 24.60642326,
            "remaining_time": 57.96546687,
            "test": [
             0.8642926184,
             0.3046201796
            ]
           },
           {
            "iteration": 298,
            "learn": [
             0.9312905731,
             0.1926057654
            ],
            "passed_time": 24.69311291,
            "remaining_time": 57.89254901,
            "test": [
             0.8626095543,
             0.3048133797
            ]
           },
           {
            "iteration": 299,
            "learn": [
             0.9323544744,
             0.1920945548
            ],
            "passed_time": 24.78145978,
            "remaining_time": 57.82340614,
            "test": [
             0.8624817935,
             0.3051739906
            ]
           },
           {
            "iteration": 300,
            "learn": [
             0.9327303048,
             0.1915932024
            ],
            "passed_time": 24.87078243,
            "remaining_time": 57.75640173,
            "test": [
             0.8609223749,
             0.3053787841
            ]
           },
           {
            "iteration": 301,
            "learn": [
             0.9335462498,
             0.1911241135
            ],
            "passed_time": 24.9580362,
            "remaining_time": 57.68446777,
            "test": [
             0.8609223749,
             0.3055051956
            ]
           },
           {
            "iteration": 302,
            "learn": [
             0.9336436625,
             0.1909137921
            ],
            "passed_time": 25.0531066,
            "remaining_time": 57.63041354,
            "test": [
             0.8609223749,
             0.3054765333
            ]
           },
           {
            "iteration": 303,
            "learn": [
             0.933676138,
             0.1907575137
            ],
            "passed_time": 25.13478759,
            "remaining_time": 57.54543475,
            "test": [
             0.8609223749,
             0.3054246167
            ]
           },
           {
            "iteration": 304,
            "learn": [
             0.9341163099,
             0.1904541049
            ],
            "passed_time": 25.21917864,
            "remaining_time": 57.46665296,
            "test": [
             0.8626095543,
             0.3056229544
            ]
           },
           {
            "iteration": 305,
            "learn": [
             0.9344263366,
             0.1899628983
            ],
            "passed_time": 25.31775548,
            "remaining_time": 57.42000753,
            "test": [
             0.8626095543,
             0.3057478787
            ]
           },
           {
            "iteration": 306,
            "learn": [
             0.9344263366,
             0.1899166337
            ],
            "passed_time": 25.38652473,
            "remaining_time": 57.30573822,
            "test": [
             0.8626095543,
             0.3057559907
            ]
           },
           {
            "iteration": 307,
            "learn": [
             0.9344263366,
             0.1897853308
            ],
            "passed_time": 25.46885083,
            "remaining_time": 57.22222329,
            "test": [
             0.8626095543,
             0.3062768468
            ]
           },
           {
            "iteration": 308,
            "learn": [
             0.9340513448,
             0.1895744682
            ],
            "passed_time": 25.5512564,
            "remaining_time": 57.13889375,
            "test": [
             0.8626095543,
             0.3064260395
            ]
           },
           {
            "iteration": 309,
            "learn": [
             0.9340513448,
             0.1894785232
            ],
            "passed_time": 25.63067891,
            "remaining_time": 57.04893048,
            "test": [
             0.8626095543,
             0.3063684445
            ]
           },
           {
            "iteration": 310,
            "learn": [
             0.9340838262,
             0.1889472578
            ],
            "passed_time": 25.72202206,
            "remaining_time": 56.98544438,
            "test": [
             0.8624817935,
             0.306846341
            ]
           },
           {
            "iteration": 311,
            "learn": [
             0.9340838262,
             0.1888799914
            ],
            "passed_time": 25.79616791,
            "remaining_time": 56.88385745,
            "test": [
             0.8624817935,
             0.3068664181
            ]
           },
           {
            "iteration": 312,
            "learn": [
             0.9343938537,
             0.1884805363
            ],
            "passed_time": 25.88156399,
            "remaining_time": 56.80713885,
            "test": [
             0.8626095543,
             0.3072480863
            ]
           },
           {
            "iteration": 313,
            "learn": [
             0.9344588217,
             0.1884015854
            ],
            "passed_time": 25.95309856,
            "remaining_time": 56.70008157,
            "test": [
             0.8624817935,
             0.3071437461
            ]
           },
           {
            "iteration": 314,
            "learn": [
             0.9348336024,
             0.1879079607
            ],
            "passed_time": 26.04460052,
            "remaining_time": 56.63667097,
            "test": [
             0.8624817935,
             0.3076550706
            ]
           },
           {
            "iteration": 315,
            "learn": [
             0.9348011135,
             0.1878685106
            ],
            "passed_time": 26.13020412,
            "remaining_time": 56.56031524,
            "test": [
             0.8624817935,
             0.307542855
            ]
           },
           {
            "iteration": 316,
            "learn": [
             0.9353381612,
             0.1872909468
            ],
            "passed_time": 26.21999502,
            "remaining_time": 56.49292303,
            "test": [
             0.8609223749,
             0.3074210741
            ]
           },
           {
            "iteration": 317,
            "learn": [
             0.9353056596,
             0.1870547875
            ],
            "passed_time": 26.29765842,
            "remaining_time": 56.39938064,
            "test": [
             0.8626095543,
             0.3076379341
            ]
           },
           {
            "iteration": 318,
            "learn": [
             0.9353706651,
             0.1866413311
            ],
            "passed_time": 26.39027165,
            "remaining_time": 56.33785265,
            "test": [
             0.862737353,
             0.3078044999
            ]
           },
           {
            "iteration": 319,
            "learn": [
             0.9360866794,
             0.1863246822
            ],
            "passed_time": 26.46727454,
            "remaining_time": 56.24295839,
            "test": [
             0.8611778222,
             0.3079161409
            ]
           },
           {
            "iteration": 320,
            "learn": [
             0.9361517041,
             0.1856752357
            ],
            "passed_time": 26.56518695,
            "remaining_time": 56.1924048,
            "test": [
             0.8611778222,
             0.3077451473
            ]
           },
           {
            "iteration": 321,
            "learn": [
             0.9357775449,
             0.1855273952
            ],
            "passed_time": 26.64335827,
            "remaining_time": 56.0999904,
            "test": [
             0.8611778222,
             0.307822211
            ]
           },
           {
            "iteration": 322,
            "learn": [
             0.9358100569,
             0.1854549207
            ],
            "passed_time": 26.72037833,
            "remaining_time": 56.00525117,
            "test": [
             0.8611778222,
             0.3079202983
            ]
           },
           {
            "iteration": 323,
            "learn": [
             0.9362492582,
             0.185181425
            ],
            "passed_time": 26.80430943,
            "remaining_time": 55.92504065,
            "test": [
             0.862737353,
             0.3079172225
            ]
           },
           {
            "iteration": 324,
            "learn": [
             0.9365581687,
             0.184699451
            ],
            "passed_time": 26.89561084,
            "remaining_time": 55.86011482,
            "test": [
             0.8611778222,
             0.3078957258
            ]
           },
           {
            "iteration": 325,
            "learn": [
             0.9365906904,
             0.1844307408
            ],
            "passed_time": 26.9816707,
            "remaining_time": 55.78419034,
            "test": [
             0.8610500796,
             0.3080160871
            ]
           },
           {
            "iteration": 326,
            "learn": [
             0.9367207998,
             0.1841561798
            ],
            "passed_time": 27.06583869,
            "remaining_time": 55.70431021,
            "test": [
             0.8610500796,
             0.3083399237
            ]
           },
           {
            "iteration": 327,
            "learn": [
             0.9374030182,
             0.1839342922
            ],
            "passed_time": 27.16429948,
            "remaining_time": 55.65368674,
            "test": [
             0.8610500796,
             0.3078587487
            ]
           },
           {
            "iteration": 328,
            "learn": [
             0.9371270895,
             0.1836731743
            ],
            "passed_time": 27.25152081,
            "remaining_time": 55.57984944,
            "test": [
             0.8626095543,
             0.3076431731
            ]
           },
           {
            "iteration": 329,
            "learn": [
             0.9367858681,
             0.1834317562
            ],
            "passed_time": 27.33674981,
            "remaining_time": 55.50188597,
            "test": [
             0.8626095543,
             0.3076642642
            ]
           },
           {
            "iteration": 330,
            "learn": [
             0.936379362,
             0.1833518753
            ],
            "passed_time": 27.41477499,
            "remaining_time": 55.40931863,
            "test": [
             0.8626095543,
             0.3078369478
            ]
           },
           {
            "iteration": 331,
            "learn": [
             0.9371270895,
             0.1824491738
            ],
            "passed_time": 27.50936709,
            "remaining_time": 55.35017233,
            "test": [
             0.862737353,
             0.307987391
            ]
           },
           {
            "iteration": 332,
            "learn": [
             0.9376633679,
             0.1820080703
            ],
            "passed_time": 27.58993987,
            "remaining_time": 55.26273241,
            "test": [
             0.862737353,
             0.3074587609
            ]
           },
           {
            "iteration": 333,
            "learn": [
             0.9376308163,
             0.1819868657
            ],
            "passed_time": 27.65989857,
            "remaining_time": 55.154169,
            "test": [
             0.862737353,
             0.307451325
            ]
           },
           {
            "iteration": 334,
            "learn": [
             0.9377284779,
             0.1817895139
            ],
            "passed_time": 27.74016923,
            "remaining_time": 55.06630608,
            "test": [
             0.862737353,
             0.3075915269
            ]
           },
           {
            "iteration": 335,
            "learn": [
             0.9380692728,
             0.1816818337
            ],
            "passed_time": 27.81599942,
            "remaining_time": 54.96971315,
            "test": [
             0.862737353,
             0.3076856257
            ]
           },
           {
            "iteration": 336,
            "learn": [
             0.9383447336,
             0.1812244124
            ],
            "passed_time": 27.91123903,
            "remaining_time": 54.91142871,
            "test": [
             0.861433421,
             0.3076220481
            ]
           },
           {
            "iteration": 337,
            "learn": [
             0.9383772902,
             0.1811354003
            ],
            "passed_time": 27.98784912,
            "remaining_time": 54.81643821,
            "test": [
             0.861433421,
             0.3074922904
            ]
           },
           {
            "iteration": 338,
            "learn": [
             0.9383772902,
             0.1810236618
            ],
            "passed_time": 28.06565515,
            "remaining_time": 54.72388807,
            "test": [
             0.861433421,
             0.3074739371
            ]
           },
           {
            "iteration": 339,
            "learn": [
             0.9384098491,
             0.1808815367
            ],
            "passed_time": 28.15104332,
            "remaining_time": 54.64614291,
            "test": [
             0.862993064,
             0.3074668391
            ]
           },
           {
            "iteration": 340,
            "learn": [
             0.9380367153,
             0.1803938811
            ],
            "passed_time": 28.25278323,
            "remaining_time": 54.59995352,
            "test": [
             0.8628651895,
             0.3082716142
            ]
           },
           {
            "iteration": 341,
            "learn": [
             0.9382320944,
             0.180300016
            ],
            "passed_time": 28.33150562,
            "remaining_time": 54.5091541,
            "test": [
             0.8628651895,
             0.3084583585
            ]
           },
           {
            "iteration": 342,
            "learn": [
             0.9385075394,
             0.1799941723
            ],
            "passed_time": 28.41666663,
            "remaining_time": 54.43075794,
            "test": [
             0.862737353,
             0.3088287376
            ]
           },
           {
            "iteration": 343,
            "learn": [
             0.9385726775,
             0.1798436093
            ],
            "passed_time": 28.50132667,
            "remaining_time": 54.35136714,
            "test": [
             0.862737353,
             0.3089062745
            ]
           },
           {
            "iteration": 344,
            "learn": [
             0.9386704017,
             0.1796144844
            ],
            "passed_time": 28.59106115,
            "remaining_time": 54.28157987,
            "test": [
             0.8611778222,
             0.3089555547
            ]
           },
           {
            "iteration": 345,
            "learn": [
             0.9386704017,
             0.1793331765
            ],
            "passed_time": 28.67148879,
            "remaining_time": 54.19408576,
            "test": [
             0.8613056026,
             0.3090144679
            ]
           },
           {
            "iteration": 346,
            "learn": [
             0.9386704017,
             0.1792220298
            ],
            "passed_time": 28.74399578,
            "remaining_time": 54.09172692,
            "test": [
             0.8613056026,
             0.309151594
            ]
           },
           {
            "iteration": 347,
            "learn": [
             0.9387681462,
             0.1787920528
            ],
            "passed_time": 28.83044293,
            "remaining_time": 54.01565744,
            "test": [
             0.8613056026,
             0.309371158
            ]
           },
           {
            "iteration": 348,
            "learn": [
             0.9384275548,
             0.1786276409
            ],
            "passed_time": 28.90838642,
            "remaining_time": 53.92366635,
            "test": [
             0.8611778222,
             0.3094704959
            ]
           },
           {
            "iteration": 349,
            "learn": [
             0.9387029809,
             0.1784141573
            ],
            "passed_time": 28.98465629,
            "remaining_time": 53.82864739,
            "test": [
             0.8610500796,
             0.3092851711
            ]
           },
           {
            "iteration": 350,
            "learn": [
             0.9386704017,
             0.1783116345
            ],
            "passed_time": 29.05900433,
            "remaining_time": 53.7301818,
            "test": [
             0.8611778222,
             0.3094491681
            ]
           },
           {
            "iteration": 351,
            "learn": [
             0.9387355625,
             0.1782585553
            ],
            "passed_time": 29.13552785,
            "remaining_time": 53.63585808,
            "test": [
             0.8613056026,
             0.3094890858
            ]
           },
           {
            "iteration": 352,
            "learn": [
             0.9387355625,
             0.1780444123
            ],
            "passed_time": 29.23128689,
            "remaining_time": 53.57689127,
            "test": [
             0.8628651895,
             0.3090432316
            ]
           },
           {
            "iteration": 353,
            "learn": [
             0.9386378247,
             0.1777933218
            ],
            "passed_time": 29.31162187,
            "remaining_time": 53.48956985,
            "test": [
             0.862993064,
             0.308996892
            ]
           },
           {
            "iteration": 354,
            "learn": [
             0.9393509211,
             0.1775764564
            ],
            "passed_time": 29.39160325,
            "remaining_time": 53.40164533,
            "test": [
             0.8631209763,
             0.3090522224
            ]
           },
           {
            "iteration": 355,
            "learn": [
             0.9396256938,
             0.1774636863
            ],
            "passed_time": 29.46436335,
            "remaining_time": 53.30070224,
            "test": [
             0.8631209763,
             0.3093009219
            ]
           },
           {
            "iteration": 356,
            "learn": [
             0.9396256938,
             0.1774010194
            ],
            "passed_time": 29.53760256,
            "remaining_time": 53.20077997,
            "test": [
             0.8631209763,
             0.3094176666
            ]
           },
           {
            "iteration": 357,
            "learn": [
             0.9398212004,
             0.1770324242
            ],
            "passed_time": 29.6313575,
            "remaining_time": 53.13779753,
            "test": [
             0.8631209763,
             0.3091162393
            ]
           },
           {
            "iteration": 358,
            "learn": [
             0.9398863874,
             0.1769839782
            ],
            "passed_time": 29.70505646,
            "remaining_time": 53.0388334,
            "test": [
             0.8632489266,
             0.3092357219
            ]
           },
           {
            "iteration": 359,
            "learn": [
             0.9399189842,
             0.1768126503
            ],
            "passed_time": 29.78682078,
            "remaining_time": 52.95434806,
            "test": [
             0.8615612774,
             0.3094957106
            ]
           },
           {
            "iteration": 360,
            "learn": [
             0.9395138535,
             0.1767091805
            ],
            "passed_time": 29.86176153,
            "remaining_time": 52.8577995,
            "test": [
             0.8615612774,
             0.3095245419
            ]
           },
           {
            "iteration": 361,
            "learn": [
             0.9398863874,
             0.1763105877
            ],
            "passed_time": 29.95902308,
            "remaining_time": 52.80070919,
            "test": [
             0.8615612774,
             0.3098370555
            ]
           },
           {
            "iteration": 362,
            "learn": [
             0.9399515834,
             0.1761949938
            ],
            "passed_time": 30.03531948,
            "remaining_time": 52.70660746,
            "test": [
             0.8615612774,
             0.3101269233
            ]
           },
           {
            "iteration": 363,
            "learn": [
             0.9401935142,
             0.1759585808
            ],
            "passed_time": 30.11969205,
            "remaining_time": 52.62671467,
            "test": [
             0.8616891716,
             0.3099643121
            ]
           },
           {
            "iteration": 364,
            "learn": [
             0.9401935142,
             0.175714863
            ],
            "passed_time": 30.21323363,
            "remaining_time": 52.56274891,
            "test": [
             0.8616891716,
             0.3103218134
            ]
           },
           {
            "iteration": 365,
            "learn": [
             0.9402261101,
             0.1750210457
            ],
            "passed_time": 30.30971566,
            "remaining_time": 52.50371511,
            "test": [
             0.8616891716,
             0.3112186593
            ]
           },
           {
            "iteration": 366,
            "learn": [
             0.9409049028,
             0.1747502894
            ],
            "passed_time": 30.39582724,
            "remaining_time": 52.42659031,
            "test": [
             0.8602530061,
             0.3115104537
            ]
           },
           {
            "iteration": 367,
            "learn": [
             0.9413743953,
             0.1745616798
            ],
            "passed_time": 30.47560316,
            "remaining_time": 52.33853586,
            "test": [
             0.8602530061,
             0.3115351614
            ]
           },
           {
            "iteration": 368,
            "learn": [
             0.9413417864,
             0.1744083437
            ],
            "passed_time": 30.55437328,
            "remaining_time": 52.24880633,
            "test": [
             0.8603809196,
             0.3118162412
            ]
           },
           {
            "iteration": 369,
            "learn": [
             0.9414396199,
             0.1742853095
            ],
            "passed_time": 30.6413109,
            "remaining_time": 52.17304288,
            "test": [
             0.8602530061,
             0.3114909173
            ]
           },
           {
            "iteration": 370,
            "learn": [
             0.9410353197,
             0.1741538375
            ],
            "passed_time": 30.71789842,
            "remaining_time": 52.07967145,
            "test": [
             0.8602530061,
             0.3115169094
            ]
           },
           {
            "iteration": 371,
            "learn": [
             0.9414070065,
             0.1738803418
            ],
            "passed_time": 30.79362987,
            "remaining_time": 51.98494504,
            "test": [
             0.8603809196,
             0.3119029378
            ]
           },
           {
            "iteration": 372,
            "learn": [
             0.9413091797,
             0.1735462591
            ],
            "passed_time": 30.8905766,
            "remaining_time": 51.92598265,
            "test": [
             0.8589403538,
             0.3122743647
            ]
           },
           {
            "iteration": 373,
            "learn": [
             0.9414722356,
             0.1731288121
            ],
            "passed_time": 30.97405111,
            "remaining_time": 51.84426737,
            "test": [
             0.8588124596,
             0.3123470682
            ]
           },
           {
            "iteration": 374,
            "learn": [
             0.9417458663,
             0.1728651071
            ],
            "passed_time": 31.05104676,
            "remaining_time": 51.7517446,
            "test": [
             0.859068286,
             0.3123337173
            ]
           },
           {
            "iteration": 375,
            "learn": [
             0.9415374738,
             0.1726764637
            ],
            "passed_time": 31.1406034,
            "remaining_time": 51.68015032,
            "test": [
             0.8589403538,
             0.31235082
            ]
           },
           {
            "iteration": 376,
            "learn": [
             0.9425860446,
             0.1724459015
            ],
            "passed_time": 31.20863824,
            "remaining_time": 51.57289555,
            "test": [
             0.8605088713,
             0.3123998298
            ]
           },
           {
            "iteration": 377,
            "learn": [
             0.9422149868,
             0.172280475
            ],
            "passed_time": 31.29407897,
            "remaining_time": 51.49448974,
            "test": [
             0.8605088713,
             0.3124131132
            ]
           },
           {
            "iteration": 378,
            "learn": [
             0.9418763388,
             0.1720879255
            ],
            "passed_time": 31.38030093,
            "remaining_time": 51.41732686,
            "test": [
             0.8606368609,
             0.312366706
            ]
           },
           {
            "iteration": 379,
            "learn": [
             0.9418763388,
             0.1719451241
            ],
            "passed_time": 31.4661473,
            "remaining_time": 51.33950349,
            "test": [
             0.859068286,
             0.3124252135
            ]
           },
           {
            "iteration": 380,
            "learn": [
             0.9419742169,
             0.1717844999
            ],
            "passed_time": 31.54317103,
            "remaining_time": 51.24730411,
            "test": [
             0.8606368609,
             0.3124516789
            ]
           },
           {
            "iteration": 381,
            "learn": [
             0.9424760506,
             0.1713727007
            ],
            "passed_time": 31.63882644,
            "remaining_time": 51.18532655,
            "test": [
             0.8606368609,
             0.3124147356
            ]
           },
           {
            "iteration": 382,
            "learn": [
             0.9431527172,
             0.1711623793
            ],
            "passed_time": 31.72144344,
            "remaining_time": 51.10216868,
            "test": [
             0.8606368609,
             0.3128238493
            ]
           },
           {
            "iteration": 383,
            "learn": [
             0.943893817,
             0.1709756467
            ],
            "passed_time": 31.81000867,
            "remaining_time": 51.02855558,
            "test": [
             0.8605088713,
             0.3127216723
            ]
           },
           {
            "iteration": 384,
            "learn": [
             0.9439264697,
             0.1709228549
            ],
            "passed_time": 31.88246909,
            "remaining_time": 50.92913893,
            "test": [
             0.8605088713,
             0.3126544105
            ]
           },
           {
            "iteration": 385,
            "learn": [
             0.9440244413,
             0.1707197201
            ],
            "passed_time": 31.96798367,
            "remaining_time": 50.85062687,
            "test": [
             0.8605088713,
             0.3131284876
            ]
           },
           {
            "iteration": 386,
            "learn": [
             0.94426405,
             0.1702773145
            ],
            "passed_time": 32.04750381,
            "remaining_time": 50.76258355,
            "test": [
             0.8607648887,
             0.3131036447
            ]
           },
           {
            "iteration": 387,
            "learn": [
             0.9448300639,
             0.1698677136
            ],
            "passed_time": 32.13428827,
            "remaining_time": 50.68604233,
            "test": [
             0.8622011288,
             0.313466047
            ]
           },
           {
            "iteration": 388,
            "learn": [
             0.9448300639,
             0.1695690903
            ],
            "passed_time": 32.22726046,
            "remaining_time": 50.61916746,
            "test": [
             0.8618171039,
             0.313669556
            ]
           },
           {
            "iteration": 389,
            "learn": [
             0.9452325726,
             0.1692492454
            ],
            "passed_time": 32.33687754,
            "remaining_time": 50.57819307,
            "test": [
             0.8618171039,
             0.3139857201
            ]
           },
           {
            "iteration": 390,
            "learn": [
             0.9451998959,
             0.1688155145
            ],
            "passed_time": 32.42999002,
            "remaining_time": 50.51116093,
            "test": [
             0.8616891716,
             0.3140756954
            ]
           },
           {
            "iteration": 391,
            "learn": [
             0.9451998959,
             0.1685773768
            ],
            "passed_time": 32.51107637,
            "remaining_time": 50.42534295,
            "test": [
             0.8618171039,
             0.3142352984
            ]
           },
           {
            "iteration": 392,
            "learn": [
             0.9451672215,
             0.1684104961
            ],
            "passed_time": 32.59558824,
            "remaining_time": 50.34483985,
            "test": [
             0.8619450742,
             0.3146015539
            ]
           },
           {
            "iteration": 393,
            "learn": [
             0.9452325726,
             0.1682526451
            ],
            "passed_time": 32.67577076,
            "remaining_time": 50.25765756,
            "test": [
             0.8619450742,
             0.3144809221
            ]
           },
           {
            "iteration": 394,
            "learn": [
             0.9451998959,
             0.1681882026
            ],
            "passed_time": 32.75435879,
            "remaining_time": 50.16806853,
            "test": [
             0.8619450742,
             0.3142969832
            ]
           },
           {
            "iteration": 395,
            "learn": [
             0.9455368393,
             0.1678791968
            ],
            "passed_time": 32.84078164,
            "remaining_time": 50.09048513,
            "test": [
             0.8620730825,
             0.3141996733
            ]
           },
           {
            "iteration": 396,
            "learn": [
             0.9455368393,
             0.1674434875
            ],
            "passed_time": 32.92485707,
            "remaining_time": 50.00929172,
            "test": [
             0.8616891716,
             0.3139312347
            ]
           },
           {
            "iteration": 397,
            "learn": [
             0.9455695172,
             0.1673683075
            ],
            "passed_time": 33.00732538,
            "remaining_time": 49.92565296,
            "test": [
             0.8602530061,
             0.314232155
            ]
           },
           {
            "iteration": 398,
            "learn": [
             0.9456021973,
             0.1673527337
            ],
            "passed_time": 33.06997195,
            "remaining_time": 49.81216327,
            "test": [
             0.8601251305,
             0.3142410782
            ]
           },
           {
            "iteration": 399,
            "learn": [
             0.9455368393,
             0.1672877333
            ],
            "passed_time": 33.14044832,
            "remaining_time": 49.71067248,
            "test": [
             0.8602530061,
             0.3142395572
            ]
           },
           {
            "iteration": 400,
            "learn": [
             0.9457329406,
             0.166960296
            ],
            "passed_time": 33.22935001,
            "remaining_time": 49.63685949,
            "test": [
             0.8619450742,
             0.3142137341
            ]
           },
           {
            "iteration": 401,
            "learn": [
             0.9460696759,
             0.1668906116
            ],
            "passed_time": 33.30415329,
            "remaining_time": 49.54199917,
            "test": [
             0.8619450742,
             0.3142644339
            ]
           },
           {
            "iteration": 402,
            "learn": [
             0.9464715862,
             0.1666941053
            ],
            "passed_time": 33.4034187,
            "remaining_time": 49.48347634,
            "test": [
             0.8620730825,
             0.3143175673
            ]
           },
           {
            "iteration": 403,
            "learn": [
             0.946807894,
             0.1663176979
            ],
            "passed_time": 33.49093047,
            "remaining_time": 49.40741228,
            "test": [
             0.8619450742,
             0.3138043837
            ]
           },
           {
            "iteration": 404,
            "learn": [
             0.9467425017,
             0.1662049955
            ],
            "passed_time": 33.56645654,
            "remaining_time": 49.31368306,
            "test": [
             0.8619450742,
             0.3142126525
            ]
           },
           {
            "iteration": 405,
            "learn": [
             0.9467425017,
             0.1661535396
            ],
            "passed_time": 33.6430196,
            "remaining_time": 49.22156069,
            "test": [
             0.8618171039,
             0.3143271665
            ]
           },
           {
            "iteration": 406,
            "learn": [
             0.9468732953,
             0.1659184625
            ],
            "passed_time": 33.73334312,
            "remaining_time": 49.14956381,
            "test": [
             0.8619450742,
             0.3143736751
            ]
           },
           {
            "iteration": 407,
            "learn": [
             0.9471766879,
             0.1656168124
            ],
            "passed_time": 33.81848602,
            "remaining_time": 49.06996011,
            "test": [
             0.8585567855,
             0.314446987
            ]
           },
           {
            "iteration": 408,
            "learn": [
             0.9464388901,
             0.1653219768
            ],
            "passed_time": 33.90093328,
            "remaining_time": 48.98643415,
            "test": [
             0.8605088713,
             0.3145270251
            ]
           },
           {
            "iteration": 409,
            "learn": [
             0.9467751967,
             0.1646897104
            ],
            "passed_time": 33.99270729,
            "remaining_time": 48.91633488,
            "test": [
             0.8605088713,
             0.3147868786
            ]
           },
           {
            "iteration": 410,
            "learn": [
             0.946807894,
             0.1646394213
            ],
            "passed_time": 34.06367971,
            "remaining_time": 48.81631958,
            "test": [
             0.8605088713,
             0.3148088147
            ]
           },
           {
            "iteration": 411,
            "learn": [
             0.9468405935,
             0.1641964747
            ],
            "passed_time": 34.1518231,
            "remaining_time": 48.74095142,
            "test": [
             0.8602530061,
             0.3149403638
            ]
           },
           {
            "iteration": 412,
            "learn": [
             0.9469059994,
             0.1640562435
            ],
            "passed_time": 34.2255437,
            "remaining_time": 48.64502216,
            "test": [
             0.8605088713,
             0.3145501104
            ]
           },
           {
            "iteration": 413,
            "learn": [
             0.9469387057,
             0.1638180212
            ],
            "passed_time": 34.30823027,
            "remaining_time": 48.56189115,
            "test": [
             0.8605088713,
             0.3145786375
            ]
           },
           {
            "iteration": 414,
            "learn": [
             0.9469387057,
             0.1637529362
            ],
            "passed_time": 34.3931702,
            "remaining_time": 48.48193871,
            "test": [
             0.8605088713,
             0.3144745339
            ]
           },
           {
            "iteration": 415,
            "learn": [
             0.9470368382,
             0.163239392
            ],
            "passed_time": 34.48990595,
            "remaining_time": 48.41852182,
            "test": [
             0.8603809196,
             0.3149759551
            ]
           },
           {
            "iteration": 416,
            "learn": [
             0.9471022712,
             0.1631232401
            ],
            "passed_time": 34.5707232,
            "remaining_time": 48.33268975,
            "test": [
             0.8605088713,
             0.3151844665
            ]
           },
           {
            "iteration": 417,
            "learn": [
             0.9471022712,
             0.1630942063
            ],
            "passed_time": 34.63961318,
            "remaining_time": 48.23027481,
            "test": [
             0.8605088713,
             0.3152011637
            ]
           },
           {
            "iteration": 418,
            "learn": [
             0.947134991,
             0.1629176533
            ],
            "passed_time": 34.73038427,
            "remaining_time": 48.15836101,
            "test": [
             0.8605088713,
             0.3151236944
            ]
           },
           {
            "iteration": 419,
            "learn": [
             0.947134991,
             0.1628963134
            ],
            "passed_time": 34.79727946,
            "remaining_time": 48.05338592,
            "test": [
             0.8605088713,
             0.3150663022
            ]
           },
           {
            "iteration": 420,
            "learn": [
             0.9472331642,
             0.1626867529
            ],
            "passed_time": 34.88351091,
            "remaining_time": 47.97518484,
            "test": [
             0.8605088713,
             0.3152620711
            ]
           },
           {
            "iteration": 421,
            "learn": [
             0.9472986243,
             0.1623341372
            ],
            "passed_time": 34.97057075,
            "remaining_time": 47.89808031,
            "test": [
             0.8605088713,
             0.3148531601
            ]
           },
           {
            "iteration": 422,
            "learn": [
             0.9473640935,
             0.1620488387
            ],
            "passed_time": 35.05575881,
            "remaining_time": 47.81837549,
            "test": [
             0.8605088713,
             0.3151986625
            ]
           },
           {
            "iteration": 423,
            "learn": [
             0.9473968314,
             0.1620041466
            ],
            "passed_time": 35.13462814,
            "remaining_time": 47.73006087,
            "test": [
             0.8605088713,
             0.3154034222
            ]
           },
           {
            "iteration": 424,
            "learn": [
             0.9473968314,
             0.161925145
            ],
            "passed_time": 35.20808627,
            "remaining_time": 47.63446966,
            "test": [
             0.8605088713,
             0.3154515532
            ]
           },
           {
            "iteration": 425,
            "learn": [
             0.9475605552,
             0.1614234376
            ],
            "passed_time": 35.29711316,
            "remaining_time": 47.55995999,
            "test": [
             0.8605088713,
             0.3160456874
            ]
           },
           {
            "iteration": 426,
            "learn": [
             0.9475605552,
             0.1613443176
            ],
            "passed_time": 35.36716116,
            "remaining_time": 47.45991416,
            "test": [
             0.8605088713,
             0.3159168423
            ]
           },
           {
            "iteration": 427,
            "learn": [
             0.9474950589,
             0.1612669732
            ],
            "passed_time": 35.44546396,
            "remaining_time": 47.37104061,
            "test": [
             0.8606368609,
             0.3160098596
            ]
           },
           {
            "iteration": 428,
            "learn": [
             0.9477984306,
             0.1611419099
            ],
            "passed_time": 35.53098625,
            "remaining_time": 47.29182553,
            "test": [
             0.8605088713,
             0.3160003956
            ]
           },
           {
            "iteration": 429,
            "learn": [
             0.9478311765,
             0.1609848874
            ],
            "passed_time": 35.61461344,
            "remaining_time": 47.21006898,
            "test": [
             0.8605088713,
             0.3165221981
            ]
           },
           {
            "iteration": 430,
            "learn": [
             0.9479294278,
             0.1604903665
            ],
            "passed_time": 35.7196641,
            "remaining_time": 47.15658672,
            "test": [
             0.8605088713,
             0.3166754467
            ]
           },
           {
            "iteration": 431,
            "learn": [
             0.9482325804,
             0.1603849014
            ],
            "passed_time": 35.79924483,
            "remaining_time": 47.06937746,
            "test": [
             0.8606368609,
             0.3162748168
            ]
           },
           {
            "iteration": 432,
            "learn": [
             0.9486337835,
             0.1601320862
            ],
            "passed_time": 35.88531235,
            "remaining_time": 46.9906977,
            "test": [
             0.8607648887,
             0.3159170451
            ]
           },
           {
            "iteration": 433,
            "learn": [
             0.9489692624,
             0.1599836369
            ],
            "passed_time": 35.96180749,
            "remaining_time": 46.89950009,
            "test": [
             0.8608929546,
             0.3157826568
            ]
           },
           {
            "iteration": 434,
            "learn": [
             0.949002023,
             0.1598864913
            ],
            "passed_time": 36.04024527,
            "remaining_time": 46.81089329,
            "test": [
             0.8608929546,
             0.3158366014
            ]
           },
           {
            "iteration": 435,
            "learn": [
             0.9487648351,
             0.1595776716
            ],
            "passed_time": 36.12883603,
            "remaining_time": 46.73546679,
            "test": [
             0.8608929546,
             0.315991033
            ]
           },
           {
            "iteration": 436,
            "learn": [
             0.9485274465,
             0.1591934519
            ],
            "passed_time": 36.21243285,
            "remaining_time": 46.65354622,
            "test": [
             0.8607648887,
             0.3162019105
            ]
           },
           {
            "iteration": 437,
            "learn": [
             0.9496723411,
             0.1586277755
            ],
            "passed_time": 36.30871961,
            "remaining_time": 46.5879005,
            "test": [
             0.8611492006,
             0.3166542204
            ]
           },
           {
            "iteration": 438,
            "learn": [
             0.9500399459,
             0.1585568567
            ],
            "passed_time": 36.38265594,
            "remaining_time": 46.49355349,
            "test": [
             0.8611492006,
             0.3167358133
            ]
           },
           {
            "iteration": 439,
            "learn": [
             0.9484946745,
             0.1580670197
            ],
            "passed_time": 36.47906869,
            "remaining_time": 46.4279056,
            "test": [
             0.8611492006,
             0.3169040015
            ]
           },
           {
            "iteration": 440,
            "learn": [
             0.9484946745,
             0.1578086412
            ],
            "passed_time": 36.57427211,
            "remaining_time": 46.36058528,
            "test": [
             0.8611492006,
             0.3169589939
            ]
           },
           {
            "iteration": 441,
            "learn": [
             0.9491986343,
             0.1574264507
            ],
            "passed_time": 36.66838228,
            "remaining_time": 46.29175863,
            "test": [
             0.8614055993,
             0.3175191593
            ]
           },
           {
            "iteration": 442,
            "learn": [
             0.9499345255,
             0.1571450414
            ],
            "passed_time": 36.76546406,
            "remaining_time": 46.22655413,
            "test": [
             0.8598366807,
             0.3178604029
            ]
           },
           {
            "iteration": 443,
            "learn": [
             0.9500000942,
             0.1567225046
            ],
            "passed_time": 36.85683515,
            "remaining_time": 46.15405483,
            "test": [
             0.8598366807,
             0.3180224733
            ]
           },
           {
            "iteration": 444,
            "learn": [
             0.9500000942,
             0.1566502161
            ],
            "passed_time": 36.92419863,
            "remaining_time": 46.05152863,
            "test": [
             0.8582634323,
             0.3181128203
            ]
           },
           {
            "iteration": 445,
            "learn": [
             0.9499673087,
             0.1564966432
            ],
            "passed_time": 37.00471735,
            "remaining_time": 45.96550093,
            "test": [
             0.8582634323,
             0.3178026051
            ]
           },
           {
            "iteration": 446,
            "learn": [
             0.9499673087,
             0.1564030656
            ],
            "passed_time": 37.0800423,
            "remaining_time": 45.87307247,
            "test": [
             0.8581353291,
             0.3177266229
            ]
           },
           {
            "iteration": 447,
            "learn": [
             0.9496322466,
             0.1563802376
            ],
            "passed_time": 37.1538472,
            "remaining_time": 45.77884745,
            "test": [
             0.8581353291,
             0.3175203423
            ]
           },
           {
            "iteration": 448,
            "learn": [
             0.9500000942,
             0.1562388397
            ],
            "passed_time": 37.24764232,
            "remaining_time": 45.70924481,
            "test": [
             0.8578792374,
             0.3172144872
            ]
           },
           {
            "iteration": 449,
            "learn": [
             0.9500000942,
             0.1562260222
            ],
            "passed_time": 37.3193451,
            "remaining_time": 45.6125329,
            "test": [
             0.8578792374,
             0.3170912528
            ]
           },
           {
            "iteration": 450,
            "learn": [
             0.9500000942,
             0.1558690608
            ],
            "passed_time": 37.39875847,
            "remaining_time": 45.52531796,
            "test": [
             0.8580072641,
             0.3170601232
            ]
           },
           {
            "iteration": 451,
            "learn": [
             0.9501312588,
             0.1557016052
            ],
            "passed_time": 37.47897442,
            "remaining_time": 45.43911057,
            "test": [
             0.8597085195,
             0.3171099104
            ]
           },
           {
            "iteration": 452,
            "learn": [
             0.9502624596,
             0.1554535584
            ],
            "passed_time": 37.58694382,
            "remaining_time": 45.3864421,
            "test": [
             0.8597085195,
             0.3174944516
            ]
           },
           {
            "iteration": 453,
            "learn": [
             0.9501968546,
             0.1553839586
            ],
            "passed_time": 37.66989023,
            "remaining_time": 45.30343627,
            "test": [
             0.8597085195,
             0.3173880496
            ]
           },
           {
            "iteration": 454,
            "learn": [
             0.9501640556,
             0.1553295266
            ],
            "passed_time": 37.76280104,
            "remaining_time": 45.23236608,
            "test": [
             0.8612773809,
             0.317822885
            ]
           },
           {
            "iteration": 455,
            "learn": [
             0.9501640556,
             0.155115485
            ],
            "passed_time": 37.85084078,
            "remaining_time": 45.155389,
            "test": [
             0.8612773809,
             0.3176085938
            ]
           },
           {
            "iteration": 456,
            "learn": [
             0.9505973178,
             0.1547756362
            ],
            "passed_time": 37.94038492,
            "remaining_time": 45.08015101,
            "test": [
             0.8612773809,
             0.3183083526
            ]
           },
           {
            "iteration": 457,
            "learn": [
             0.9505973178,
             0.1545687473
            ],
            "passed_time": 38.02781839,
            "remaining_time": 45.00235277,
            "test": [
             0.8612773809,
             0.3176639918
            ]
           },
           {
            "iteration": 458,
            "learn": [
             0.9505317107,
             0.1541544963
            ],
            "passed_time": 38.11491641,
            "remaining_time": 44.92411717,
            "test": [
             0.8612773809,
             0.3174373636
            ]
           },
           {
            "iteration": 459,
            "learn": [
             0.9505645132,
             0.1539838785
            ],
            "passed_time": 38.19455397,
            "remaining_time": 44.8370851,
            "test": [
             0.8611492006,
             0.317261469
            ]
           },
           {
            "iteration": 460,
            "learn": [
             0.9502952654,
             0.1538560759
            ],
            "passed_time": 38.27724567,
            "remaining_time": 44.753656,
            "test": [
             0.8610210585,
             0.3169653145
            ]
           },
           {
            "iteration": 461,
            "learn": [
             0.9503280736,
             0.1537705472
            ],
            "passed_time": 38.35873521,
            "remaining_time": 44.66883018,
            "test": [
             0.8611492006,
             0.3170357534
            ]
           },
           {
            "iteration": 462,
            "learn": [
             0.9502624596,
             0.1536921205
            ],
            "passed_time": 38.43312309,
            "remaining_time": 44.57578207,
            "test": [
             0.8610210585,
             0.3170160143
            ]
           },
           {
            "iteration": 463,
            "learn": [
             0.9502952654,
             0.1534641624
            ],
            "passed_time": 38.50832459,
            "remaining_time": 44.48375426,
            "test": [
             0.8614055993,
             0.3173166304
            ]
           },
           {
            "iteration": 464,
            "learn": [
             0.9506301248,
             0.1532067815
            ],
            "passed_time": 38.6155609,
            "remaining_time": 44.42865609,
            "test": [
             0.8614055993,
             0.3170369026
            ]
           },
           {
            "iteration": 465,
            "learn": [
             0.9505973178,
             0.1530923882
            ],
            "passed_time": 38.7156227,
            "remaining_time": 44.36511271,
            "test": [
             0.8614055993,
             0.3168998441
            ]
           },
           {
            "iteration": 466,
            "learn": [
             0.950662934,
             0.1529019693
            ],
            "passed_time": 38.80895156,
            "remaining_time": 44.29372844,
            "test": [
             0.8614055993,
             0.3167637658
            ]
           },
           {
            "iteration": 467,
            "learn": [
             0.9510303935,
             0.1526992233
            ],
            "passed_time": 38.88771561,
            "remaining_time": 44.20569381,
            "test": [
             0.8612773809,
             0.3167790772
            ]
           },
           {
            "iteration": 468,
            "learn": [
             0.9507613753,
             0.1525533951
            ],
            "passed_time": 38.97060842,
            "remaining_time": 44.12237329,
            "test": [
             0.8612773809,
             0.3164887024
            ]
           },
           {
            "iteration": 469,
            "learn": [
             0.9505249699,
             0.1523070055
            ],
            "passed_time": 39.06062217,
            "remaining_time": 44.04708458,
            "test": [
             0.8598366807,
             0.3165818211
            ]
           },
           {
            "iteration": 470,
            "learn": [
             0.9504921482,
             0.1522596248
            ],
            "passed_time": 39.13825493,
            "remaining_time": 43.95782772,
            "test": [
             0.8598366807,
             0.3164566939
            ]
           },
           {
            "iteration": 471,
            "learn": [
             0.9504593287,
             0.1521093662
            ],
            "passed_time": 39.22360078,
            "remaining_time": 43.87724833,
            "test": [
             0.8595803964,
             0.3167235102
            ]
           },
           {
            "iteration": 472,
            "learn": [
             0.950892662,
             0.1518418734
            ],
            "passed_time": 39.31208788,
            "remaining_time": 43.80014866,
            "test": [
             0.8597085195,
             0.3166627718
            ]
           },
           {
            "iteration": 473,
            "learn": [
             0.9509583189,
             0.1516173141
            ],
            "passed_time": 39.40155011,
            "remaining_time": 43.72408304,
            "test": [
             0.8595803964,
             0.3168654021
            ]
           },
           {
            "iteration": 474,
            "learn": [
             0.9509911508,
             0.1515877223
            ],
            "passed_time": 39.47760944,
            "remaining_time": 43.63314728,
            "test": [
             0.8597085195,
             0.3169295204
            ]
           },
           {
            "iteration": 475,
            "learn": [
             0.9510239849,
             0.151475578
            ],
            "passed_time": 39.55955209,
            "remaining_time": 43.54875062,
            "test": [
             0.8595803964,
             0.3170568108
            ]
           },
           {
            "iteration": 476,
            "learn": [
             0.9509911508,
             0.151080012
            ],
            "passed_time": 39.65411651,
            "remaining_time": 43.47820321,
            "test": [
             0.8593242649,
             0.3176471256
            ]
           },
           {
            "iteration": 477,
            "learn": [
             0.9510239849,
             0.1510000973
            ],
            "passed_time": 39.73809524,
            "remaining_time": 43.39599522,
            "test": [
             0.8593242649,
             0.3173955869
            ]
           },
           {
            "iteration": 478,
            "learn": [
             0.95108966,
             0.1508276364
            ],
            "passed_time": 39.83193689,
            "remaining_time": 43.32450756,
            "test": [
             0.8594523116,
             0.3174674117
            ]
           },
           {
            "iteration": 479,
            "learn": [
             0.95108966,
             0.1507877128
            ],
            "passed_time": 39.90425736,
            "remaining_time": 43.22961214,
            "test": [
             0.8594523116,
             0.3174754898
            ]
           },
           {
            "iteration": 480,
            "learn": [
             0.9510568214,
             0.1506888256
            ],
            "passed_time": 39.9887465,
            "remaining_time": 43.14794061,
            "test": [
             0.8595803964,
             0.3174098505
            ]
           },
           {
            "iteration": 481,
            "learn": [
             0.951122501,
             0.1505404778
            ],
            "passed_time": 40.06328012,
            "remaining_time": 43.0555583,
            "test": [
             0.8595803964,
             0.3171324211
            ]
           },
           {
            "iteration": 482,
            "learn": [
             0.9514900072,
             0.1503290741
            ],
            "passed_time": 40.15100987,
            "remaining_time": 42.97737496,
            "test": [
             0.8595803964,
             0.3169077195
            ]
           },
           {
            "iteration": 483,
            "learn": [
             0.9514900072,
             0.1502748958
            ],
            "passed_time": 40.22353658,
            "remaining_time": 42.88294396,
            "test": [
             0.8595803964,
             0.3169604135
            ]
           },
           {
            "iteration": 484,
            "learn": [
             0.9515885537,
             0.1501509316
            ],
            "passed_time": 40.29669807,
            "remaining_time": 42.78927733,
            "test": [
             0.8595803964,
             0.3169085983
            ]
           },
           {
            "iteration": 485,
            "learn": [
             0.9516214071,
             0.1500121208
            ],
            "passed_time": 40.37617559,
            "remaining_time": 42.702375,
            "test": [
             0.8597085195,
             0.316927391
            ]
           },
           {
            "iteration": 486,
            "learn": [
             0.9517199808,
             0.1499376171
            ],
            "passed_time": 40.44968501,
            "remaining_time": 42.60921645,
            "test": [
             0.8597085195,
             0.3169048465
            ]
           },
           {
            "iteration": 487,
            "learn": [
             0.9517199808,
             0.1499268288
            ],
            "passed_time": 40.51076338,
            "remaining_time": 42.50309601,
            "test": [
             0.8597085195,
             0.3169032917
            ]
           },
           {
            "iteration": 488,
            "learn": [
             0.9516214071,
             0.1496834322
            ],
            "passed_time": 40.59527612,
            "remaining_time": 42.42164846,
            "test": [
             0.8580072641,
             0.317437634
            ]
           },
           {
            "iteration": 489,
            "learn": [
             0.9516542627,
             0.1495652004
            ],
            "passed_time": 40.68336872,
            "remaining_time": 42.34391438,
            "test": [
             0.8580072641,
             0.3175943978
            ]
           },
           {
            "iteration": 490,
            "learn": [
             0.9516871206,
             0.1494487441
            ],
            "passed_time": 40.77703539,
            "remaining_time": 42.27191653,
            "test": [
             0.8581353291,
             0.3178205866
            ]
           },
           {
            "iteration": 491,
            "learn": [
             0.9517528432,
             0.1493835576
            ],
            "passed_time": 40.8594883,
            "remaining_time": 42.18825215,
            "test": [
             0.8581353291,
             0.3178510741
            ]
           },
           {
            "iteration": 492,
            "learn": [
             0.9517857079,
             0.1493262003
            ],
            "passed_time": 40.93485837,
            "remaining_time": 42.09730871,
            "test": [
             0.8580072641,
             0.3180283882
            ]
           },
           {
            "iteration": 493,
            "learn": [
             0.9517528432,
             0.1492395048
            ],
            "passed_time": 41.01362499,
            "remaining_time": 42.00990738,
            "test": [
             0.8580072641,
             0.3181758909
            ]
           },
           {
            "iteration": 494,
            "learn": [
             0.9517528432,
             0.1492299002
            ],
            "passed_time": 41.07844157,
            "remaining_time": 41.90830908,
            "test": [
             0.8580072641,
             0.3181573686
            ]
           },
           {
            "iteration": 495,
            "learn": [
             0.9518514441,
             0.149054497
            ],
            "passed_time": 41.15349707,
            "remaining_time": 41.81726315,
            "test": [
             0.8580072641,
             0.3185919336
            ]
           },
           {
            "iteration": 496,
            "learn": [
             0.9518185749,
             0.1488683901
            ],
            "passed_time": 41.24829436,
            "remaining_time": 41.74626169,
            "test": [
             0.8580072641,
             0.3193337733
            ]
           },
           {
            "iteration": 497,
            "learn": [
             0.9518185749,
             0.1488437867
            ],
            "passed_time": 41.32317116,
            "remaining_time": 41.65508418,
            "test": [
             0.8564297857,
             0.3195743608
            ]
           },
           {
            "iteration": 498,
            "learn": [
             0.9518185749,
             0.1486479736
            ],
            "passed_time": 41.41766126,
            "remaining_time": 41.58366391,
            "test": [
             0.8564297857,
             0.3199250346
            ]
           },
           {
            "iteration": 499,
            "learn": [
             0.9518514441,
             0.148494722
            ],
            "passed_time": 41.50686781,
            "remaining_time": 41.50686781,
            "test": [
             0.8565577919,
             0.3197290629
            ]
           },
           {
            "iteration": 500,
            "learn": [
             0.9518843156,
             0.1484258155
            ],
            "passed_time": 41.5802607,
            "remaining_time": 41.41427164,
            "test": [
             0.8548479433,
             0.3196140419
            ]
           },
           {
            "iteration": 501,
            "learn": [
             0.9522516527,
             0.1482266374
            ],
            "passed_time": 41.66828322,
            "remaining_time": 41.33626503,
            "test": [
             0.8549758897,
             0.3196880974
            ]
           },
           {
            "iteration": 502,
            "learn": [
             0.9522516527,
             0.1481448965
            ],
            "passed_time": 41.77246113,
            "remaining_time": 41.27418127,
            "test": [
             0.8549758897,
             0.3201199247
            ]
           },
           {
            "iteration": 503,
            "learn": [
             0.9522845299,
             0.1480376897
            ],
            "passed_time": 41.85493971,
            "remaining_time": 41.19057558,
            "test": [
             0.8548479433,
             0.319907729
            ]
           },
           {
            "iteration": 504,
            "learn": [
             0.9523174092,
             0.148032211
            ],
            "passed_time": 41.91728129,
            "remaining_time": 41.08723611,
            "test": [
             0.8548479433,
             0.3199110414
            ]
           },
           {
            "iteration": 505,
            "learn": [
             0.9523831748,
             0.1476902653
            ],
            "passed_time": 41.99164284,
            "remaining_time": 40.9957936,
            "test": [
             0.8549758897,
             0.3207782111
            ]
           },
           {
            "iteration": 506,
            "learn": [
             0.9528489915,
             0.147389393
            ],
            "passed_time": 42.07893508,
            "remaining_time": 40.9169921,
            "test": [
             0.8549758897,
             0.3207896692
            ]
           },
           {
            "iteration": 507,
            "learn": [
             0.9531830366,
             0.1472120791
            ],
            "passed_time": 42.16159696,
            "remaining_time": 40.83367265,
            "test": [
             0.8548479433,
             0.3206840108
            ]
           },
           {
            "iteration": 508,
            "learn": [
             0.9532159339,
             0.1470931709
            ],
            "passed_time": 42.23974755,
            "remaining_time": 40.74600402,
            "test": [
             0.8548479433,
             0.3206077245
            ]
           },
           {
            "iteration": 509,
            "learn": [
             0.9535826676,
             0.1467497541
            ],
            "passed_time": 42.3357607,
            "remaining_time": 40.67553479,
            "test": [
             0.8548479433,
             0.3208528074
            ]
           },
           {
            "iteration": 510,
            "learn": [
             0.9536155705,
             0.1465037534
            ],
            "passed_time": 42.4165507,
            "remaining_time": 40.59039783,
            "test": [
             0.8547200351,
             0.3210569587
            ]
           },
           {
            "iteration": 511,
            "learn": [
             0.9535826676,
             0.1464129489
            ],
            "passed_time": 42.49421798,
            "remaining_time": 40.50230151,
            "test": [
             0.8547200351,
             0.321018731
            ]
           },
           {
            "iteration": 512,
            "learn": [
             0.9535497669,
             0.1463201322
            ],
            "passed_time": 42.56801694,
            "remaining_time": 40.41057358,
            "test": [
             0.8547200351,
             0.3206790422
            ]
           },
           {
            "iteration": 513,
            "learn": [
             0.9535826676,
             0.1460288138
            ],
            "passed_time": 42.65769944,
            "remaining_time": 40.33393371,
            "test": [
             0.8548479433,
             0.3213277633
            ]
           },
           {
            "iteration": 514,
            "learn": [
             0.9539491927,
             0.1456982145
            ],
            "passed_time": 42.74730201,
            "remaining_time": 40.25716791,
            "test": [
             0.8533896046,
             0.3210266402
            ]
           },
           {
            "iteration": 515,
            "learn": [
             0.9539820989,
             0.145666695
            ],
            "passed_time": 42.8401082,
            "remaining_time": 40.1833573,
            "test": [
             0.8533896046,
             0.3209573166
            ]
           },
           {
            "iteration": 516,
            "learn": [
             0.9539820989,
             0.1455911091
            ],
            "passed_time": 42.93661487,
            "remaining_time": 40.11293033,
            "test": [
             0.8533896046,
             0.3209945979
            ]
           },
           {
            "iteration": 517,
            "learn": [
             0.9537801192,
             0.1453754273
            ],
            "passed_time": 43.02165986,
            "remaining_time": 40.03173755,
            "test": [
             0.8533896046,
             0.320967896
            ]
           },
           {
            "iteration": 518,
            "learn": [
             0.9538788757,
             0.1452342661
            ],
            "passed_time": 43.10113967,
            "remaining_time": 39.94537222,
            "test": [
             0.8532617186,
             0.3208779883
            ]
           },
           {
            "iteration": 519,
            "learn": [
             0.953911799,
             0.1450632256
            ],
            "passed_time": 43.19223525,
            "remaining_time": 39.86975561,
            "test": [
             0.8532617186,
             0.3208701468
            ]
           },
           {
            "iteration": 520,
            "learn": [
             0.953911799,
             0.1450379458
            ],
            "passed_time": 43.26975641,
            "remaining_time": 39.78159946,
            "test": [
             0.8532617186,
             0.320803561
            ]
           },
           {
            "iteration": 521,
            "learn": [
             0.9539776526,
             0.1448826312
            ],
            "passed_time": 43.35475255,
            "remaining_time": 39.70032896,
            "test": [
             0.8533896046,
             0.3209737772
            ]
           },
           {
            "iteration": 522,
            "learn": [
             0.9539776526,
             0.1447077354
            ],
            "passed_time": 43.44213969,
            "remaining_time": 39.62122492,
            "test": [
             0.8535175289,
             0.3211228008
            ]
           },
           {
            "iteration": 523,
            "learn": [
             0.9540105828,
             0.144619535
            ],
            "passed_time": 43.52800596,
            "remaining_time": 39.5407077,
            "test": [
             0.8535175289,
             0.321133921
            ]
           },
           {
            "iteration": 524,
            "learn": [
             0.9539776526,
             0.1446028114
            ],
            "passed_time": 43.59208643,
            "remaining_time": 39.44045915,
            "test": [
             0.8535175289,
             0.3211561613
            ]
           },
           {
            "iteration": 525,
            "learn": [
             0.9539447247,
             0.1443319705
            ],
            "passed_time": 43.68242213,
            "remaining_time": 39.36400778,
            "test": [
             0.8535175289,
             0.321253167
            ]
           },
           {
            "iteration": 526,
            "learn": [
             0.9546447065,
             0.1442579572
            ],
            "passed_time": 43.76594603,
            "remaining_time": 39.28138989,
            "test": [
             0.8533896046,
             0.3212179475
            ]
           },
           {
            "iteration": 527,
            "learn": [
             0.9543442171,
             0.1441891352
            ],
            "passed_time": 43.8532461,
            "remaining_time": 39.20214424,
            "test": [
             0.8535175289,
             0.3214884817
            ]
           },
           {
            "iteration": 528,
            "learn": [
             0.9544100863,
             0.1441659353
            ],
            "passed_time": 43.93272442,
            "remaining_time": 39.11590397,
            "test": [
             0.8533896046,
             0.3215159272
            ]
           },
           {
            "iteration": 529,
            "learn": [
             0.9544100863,
             0.1440758072
            ],
            "passed_time": 44.0207616,
            "remaining_time": 39.03727916,
            "test": [
             0.8535175289,
             0.3219463349
            ]
           },
           {
            "iteration": 530,
            "learn": [
             0.9544430243,
             0.14399897
            ],
            "passed_time": 44.11016835,
            "remaining_time": 38.95982854,
            "test": [
             0.8536454915,
             0.3221133062
            ]
           },
           {
            "iteration": 531,
            "learn": [
             0.9544100863,
             0.1439355421
            ],
            "passed_time": 44.19360967,
            "remaining_time": 38.8770852,
            "test": [
             0.8537734926,
             0.3221973327
            ]
           },
           {
            "iteration": 532,
            "learn": [
             0.9543771506,
             0.1438295021
            ],
            "passed_time": 44.28125537,
            "remaining_time": 38.798023,
            "test": [
             0.8537734926,
             0.3225638924
            ]
           },
           {
            "iteration": 533,
            "learn": [
             0.9547105732,
             0.1435387418
            ],
            "passed_time": 44.37422329,
            "remaining_time": 38.72357313,
            "test": [
             0.8536454915,
             0.3227948808
            ]
           },
           {
            "iteration": 534,
            "learn": [
             0.9547105732,
             0.1434020785
            ],
            "passed_time": 44.46130444,
            "remaining_time": 38.6439375,
            "test": [
             0.8536454915,
             0.3229798337
            ]
           },
           {
            "iteration": 535,
            "learn": [
             0.9550108477,
             0.1432555569
            ],
            "passed_time": 44.54400289,
            "remaining_time": 38.56048011,
            "test": [
             0.8537734926,
             0.3232367804
            ]
           },
           {
            "iteration": 536,
            "learn": [
             0.9551426032,
             0.1430756727
            ],
            "passed_time": 44.62676585,
            "remaining_time": 38.47708117,
            "test": [
             0.8537734926,
             0.3234936256
            ]
           },
           {
            "iteration": 537,
            "learn": [
             0.9548423338,
             0.1428732142
            ],
            "passed_time": 44.70654217,
            "remaining_time": 38.39111986,
            "test": [
             0.8537734926,
             0.3232949838
            ]
           },
           {
            "iteration": 538,
            "learn": [
             0.9552414437,
             0.1427226343
            ],
            "passed_time": 44.78958763,
            "remaining_time": 38.30797755,
            "test": [
             0.8537734926,
             0.3237643627
            ]
           },
           {
            "iteration": 539,
            "learn": [
             0.9549411781,
             0.1426775703
            ],
            "passed_time": 44.86351917,
            "remaining_time": 38.21707188,
            "test": [
             0.8537734926,
             0.3237210988
            ]
           },
           {
            "iteration": 540,
            "learn": [
             0.9549411781,
             0.1425493111
            ],
            "passed_time": 44.98113379,
            "remaining_time": 38.16329096,
            "test": [
             0.853901532,
             0.3238496736
            ]
           },
           {
            "iteration": 541,
            "learn": [
             0.9554756038,
             0.1423088905
            ],
            "passed_time": 45.06925998,
            "remaining_time": 38.08435622,
            "test": [
             0.8540296099,
             0.3241951083
            ]
           },
           {
            "iteration": 542,
            "learn": [
             0.9554756038,
             0.1422616113
            ],
            "passed_time": 45.14224455,
            "remaining_time": 37.99264413,
            "test": [
             0.8540296099,
             0.3242907282
            ]
           },
           {
            "iteration": 543,
            "learn": [
             0.9556403542,
             0.1420816764
            ],
            "passed_time": 45.23182371,
            "remaining_time": 37.91491105,
            "test": [
             0.8540296099,
             0.3243163147
            ]
           },
           {
            "iteration": 544,
            "learn": [
             0.9556403542,
             0.1417857417
            ],
            "passed_time": 45.31613223,
            "remaining_time": 37.83273425,
            "test": [
             0.8540296099,
             0.3252372937
            ]
           },
           {
            "iteration": 545,
            "learn": [
             0.9556073995,
             0.141740052
            ],
            "passed_time": 45.38705781,
            "remaining_time": 37.7394217,
            "test": [
             0.8541577261,
             0.3254507738
            ]
           },
           {
            "iteration": 546,
            "learn": [
             0.9560390654,
             0.1415715818
            ],
            "passed_time": 45.46899391,
            "remaining_time": 37.6553094,
            "test": [
             0.8541577261,
             0.325936816
            ]
           },
           {
            "iteration": 547,
            "learn": [
             0.9560390654,
             0.1414895534
            ],
            "passed_time": 45.55094127,
            "remaining_time": 37.57121433,
            "test": [
             0.8542858808,
             0.3257797818
            ]
           },
           {
            "iteration": 548,
            "learn": [
             0.9560390654,
             0.1414064935
            ],
            "passed_time": 45.63093046,
            "remaining_time": 37.48551846,
            "test": [
             0.8542858808,
             0.3259452322
            ]
           },
           {
            "iteration": 549,
            "learn": [
             0.9561049925,
             0.1412474757
            ],
            "passed_time": 45.70933264,
            "remaining_time": 37.39854489,
            "test": [
             0.8542858808,
             0.3256819649
            ]
           },
           {
            "iteration": 550,
            "learn": [
             0.9563057287,
             0.140884503
            ],
            "passed_time": 45.79882092,
            "remaining_time": 37.32063629,
            "test": [
             0.8541577261,
             0.3262875573
            ]
           },
           {
            "iteration": 551,
            "learn": [
             0.9567369842,
             0.1406545664
            ],
            "passed_time": 45.88338774,
            "remaining_time": 37.2386915,
            "test": [
             0.8540296099,
             0.3265460926
            ]
           },
           {
            "iteration": 552,
            "learn": [
             0.9570361796,
             0.1404467307
            ],
            "passed_time": 45.98640873,
            "remaining_time": 37.17165407,
            "test": [
             0.853901532,
             0.3272982075
            ]
           },
           {
            "iteration": 553,
            "learn": [
             0.9570361796,
             0.1403796081
            ],
            "passed_time": 46.0743,
            "remaining_time": 37.0923065,
            "test": [
             0.853901532,
             0.3270530232
            ]
           },
           {
            "iteration": 554,
            "learn": [
             0.9571350822,
             0.1402382608
            ],
            "passed_time": 46.15550765,
            "remaining_time": 37.0075692,
            "test": [
             0.853901532,
             0.3271190005
            ]
           },
           {
            "iteration": 555,
            "learn": [
             0.9572010287,
             0.1401421298
            ],
            "passed_time": 46.245063,
            "remaining_time": 36.92951074,
            "test": [
             0.853901532,
             0.326874526
            ]
           },
           {
            "iteration": 556,
            "learn": [
             0.9571680543,
             0.1399010836
            ],
            "passed_time": 46.32141855,
            "remaining_time": 36.84091277,
            "test": [
             0.853901532,
             0.3272251321
            ]
           },
           {
            "iteration": 557,
            "learn": [
             0.9572669842,
             0.1397813215
            ],
            "passed_time": 46.39872006,
            "remaining_time": 36.75310801,
            "test": [
             0.8523106006,
             0.3270587691
            ]
           },
           {
            "iteration": 558,
            "learn": [
             0.9572340053,
             0.1395676773
            ],
            "passed_time": 46.48415552,
            "remaining_time": 36.67175776,
            "test": [
             0.8523106006,
             0.327323963
            ]
           },
           {
            "iteration": 559,
            "learn": [
             0.9566684008,
             0.1394284522
            ],
            "passed_time": 46.56152376,
            "remaining_time": 36.58405438,
            "test": [
             0.8523106006,
             0.3271136263
            ]
           },
           {
            "iteration": 560,
            "learn": [
             0.9566684008,
             0.139270263
            ],
            "passed_time": 46.64416073,
            "remaining_time": 36.50051081,
            "test": [
             0.8523106006,
             0.3272283769
            ]
           },
           {
            "iteration": 561,
            "learn": [
             0.9567673591,
             0.1390322352
            ],
            "passed_time": 46.73464158,
            "remaining_time": 36.42308365,
            "test": [
             0.8524386173,
             0.3278489089
            ]
           },
           {
            "iteration": 562,
            "learn": [
             0.9568003498,
             0.1389461823
            ],
            "passed_time": 46.82297482,
            "remaining_time": 36.34394316,
            "test": [
             0.8524386173,
             0.3284790062
            ]
           },
           {
            "iteration": 563,
            "learn": [
             0.9568663379,
             0.1388273502
            ],
            "passed_time": 46.90853518,
            "remaining_time": 36.26262649,
            "test": [
             0.8524386173,
             0.3284501749
            ]
           },
           {
            "iteration": 564,
            "learn": [
             0.9569983415,
             0.1386970618
            ],
            "passed_time": 46.99745856,
            "remaining_time": 36.18388402,
            "test": [
             0.8524386173,
             0.3285815888
            ]
           },
           {
            "iteration": 565,
            "learn": [
             0.9568993354,
             0.1386593027
            ],
            "passed_time": 47.07311059,
            "remaining_time": 36.09492932,
            "test": [
             0.8524386173,
             0.3287159433
            ]
           },
           {
            "iteration": 566,
            "learn": [
             0.9568993354,
             0.1384384804
            ],
            "passed_time": 47.18074102,
            "remaining_time": 36.03044244,
            "test": [
             0.8523106006,
             0.3288436055
            ]
           },
           {
            "iteration": 567,
            "learn": [
             0.9568663379,
             0.1382757172
            ],
            "passed_time": 47.25730965,
            "remaining_time": 35.94217917,
            "test": [
             0.8523106006,
             0.3293614196
            ]
           },
           {
            "iteration": 568,
            "learn": [
             0.9568663379,
             0.1382152654
            ],
            "passed_time": 47.33475301,
            "remaining_time": 35.85461959,
            "test": [
             0.8523106006,
             0.3293242735
            ]
           },
           {
            "iteration": 569,
            "learn": [
             0.9572977256,
             0.1378332186
            ],
            "passed_time": 47.42704151,
            "remaining_time": 35.77829447,
            "test": [
             0.8540296099,
             0.329201749
            ]
           },
           {
            "iteration": 570,
            "learn": [
             0.9573307309,
             0.1376032144
            ],
            "passed_time": 47.50854237,
            "remaining_time": 35.69380854,
            "test": [
             0.853901532,
             0.3294146882
            ]
           },
           {
            "iteration": 571,
            "learn": [
             0.9573967482,
             0.1375781375
            ],
            "passed_time": 47.58217037,
            "remaining_time": 35.60344217,
            "test": [
             0.853901532,
             0.3295050691
            ]
           },
           {
            "iteration": 572,
            "learn": [
             0.9573967482,
             0.1375284741
            ],
            "passed_time": 47.66501709,
            "remaining_time": 35.52000401,
            "test": [
             0.853901532,
             0.3297173661
            ]
           },
           {
            "iteration": 573,
            "learn": [
             0.9574297603,
             0.1375015963
            ],
            "passed_time": 47.73562964,
            "remaining_time": 35.4274882,
            "test": [
             0.853901532,
             0.3296203267
            ]
           },
           {
            "iteration": 574,
            "learn": [
             0.9573307309,
             0.1373089369
            ],
            "passed_time": 47.82095885,
            "remaining_time": 35.34592611,
            "test": [
             0.8541577261,
             0.3295060831
            ]
           },
           {
            "iteration": 575,
            "learn": [
             0.9574297603,
             0.1369681918
            ],
            "passed_time": 47.90695372,
            "remaining_time": 35.26484093,
            "test": [
             0.8525666725,
             0.3316996275
            ]
           },
           {
            "iteration": 576,
            "learn": [
             0.9573637384,
             0.1368021312
            ],
            "passed_time": 48.0095736,
            "remaining_time": 35.19592658,
            "test": [
             0.8525666725,
             0.332563958
            ]
           },
           {
            "iteration": 577,
            "learn": [
             0.9577949559,
             0.1366423187
            ],
            "passed_time": 48.10887966,
            "remaining_time": 35.12447615,
            "test": [
             0.8523106006,
             0.3324672227
            ]
           },
           {
            "iteration": 578,
            "learn": [
             0.9581269256,
             0.1366212578
            ],
            "passed_time": 48.19337658,
            "remaining_time": 35.04216155,
            "test": [
             0.8523106006,
             0.332342366
            ]
           },
           {
            "iteration": 579,
            "learn": [
             0.9586238036,
             0.136424557
            ],
            "passed_time": 48.27753666,
            "remaining_time": 34.95959551,
            "test": [
             0.8523106006,
             0.3323658231
            ]
           },
           {
            "iteration": 580,
            "learn": [
             0.9586568344,
             0.1362219886
            ],
            "passed_time": 48.356809,
            "remaining_time": 34.87349909,
            "test": [
             0.8523106006,
             0.3320382685
            ]
           },
           {
            "iteration": 581,
            "learn": [
             0.9587902308,
             0.1360546682
            ],
            "passed_time": 48.43903255,
            "remaining_time": 34.78954572,
            "test": [
             0.8525666725,
             0.3325308341
            ]
           },
           {
            "iteration": 582,
            "learn": [
             0.9584586838,
             0.1358609097
            ],
            "passed_time": 48.52952965,
            "remaining_time": 34.71151606,
            "test": [
             0.8525666725,
             0.33273894
            ]
           },
           {
            "iteration": 583,
            "learn": [
             0.9585247249,
             0.1357889932
            ],
            "passed_time": 48.61084117,
            "remaining_time": 34.62690056,
            "test": [
             0.8541577261,
             0.3324490046
            ]
           },
           {
            "iteration": 584,
            "learn": [
             0.9588232511,
             0.1351257739
            ],
            "passed_time": 48.70329572,
            "remaining_time": 34.55020124,
            "test": [
             0.8526947661,
             0.332215515
            ]
           },
           {
            "iteration": 585,
            "learn": [
             0.9588232511,
             0.1351177418
            ],
            "passed_time": 48.77414412,
            "remaining_time": 34.45818373,
            "test": [
             0.8526947661,
             0.3319940921
            ]
           },
           {
            "iteration": 586,
            "learn": [
             0.9588892986,
             0.1349790155
            ],
            "passed_time": 48.85560664,
            "remaining_time": 34.3737062,
            "test": [
             0.8528228983,
             0.331964551
            ]
           },
           {
            "iteration": 587,
            "learn": [
             0.9589883868,
             0.1348334832
            ],
            "passed_time": 48.93279103,
            "remaining_time": 34.28624134,
            "test": [
             0.8526947661,
             0.3318506792
            ]
           },
           {
            "iteration": 588,
            "learn": [
             0.959054457,
             0.13480658
            ],
            "passed_time": 49.0135034,
            "remaining_time": 34.20127317,
            "test": [
             0.8526947661,
             0.3317543157
            ]
           },
           {
            "iteration": 589,
            "learn": [
             0.959054457,
             0.1347113368
            ],
            "passed_time": 49.09579088,
            "remaining_time": 34.117414,
            "test": [
             0.8526947661,
             0.331842263
            ]
           },
           {
            "iteration": 590,
            "learn": [
             0.9590214208,
             0.1346958899
            ],
            "passed_time": 49.17524963,
            "remaining_time": 34.03160253,
            "test": [
             0.8526947661,
             0.3318908672
            ]
           },
           {
            "iteration": 591,
            "learn": [
             0.9595179715,
             0.1343381253
            ],
            "passed_time": 49.2656628,
            "remaining_time": 33.9533622,
            "test": [
             0.8528228983,
             0.332340169
            ]
           },
           {
            "iteration": 592,
            "learn": [
             0.9594849253,
             0.13421942
            ],
            "passed_time": 49.35014599,
            "remaining_time": 33.87101083,
            "test": [
             0.8528228983,
             0.3324902067
            ]
           },
           {
            "iteration": 593,
            "learn": [
             0.9592196724,
             0.1338645723
            ],
            "passed_time": 49.43693885,
            "remaining_time": 33.79023093,
            "test": [
             0.8512272962,
             0.3326250682
            ]
           },
           {
            "iteration": 594,
            "learn": [
             0.9592196724,
             0.1335132333
            ],
            "passed_time": 49.52512519,
            "remaining_time": 33.71037933,
            "test": [
             0.851355405,
             0.3322403242
            ]
           },
           {
            "iteration": 595,
            "learn": [
             0.9596171239,
             0.1333510957
            ],
            "passed_time": 49.60521563,
            "remaining_time": 33.62501193,
            "test": [
             0.8512272962,
             0.3317445138
            ]
           },
           {
            "iteration": 596,
            "learn": [
             0.9596171239,
             0.1333053384
            ],
            "passed_time": 49.68330015,
            "remaining_time": 33.53830814,
            "test": [
             0.8512272962,
             0.331798526
            ]
           },
           {
            "iteration": 597,
            "learn": [
             0.95955102,
             0.1331873095
            ],
            "passed_time": 49.77119524,
            "remaining_time": 33.45822824,
            "test": [
             0.851355405,
             0.332005246
            ]
           },
           {
            "iteration": 598,
            "learn": [
             0.9599152084,
             0.1330676149
            ],
            "passed_time": 49.85655874,
            "remaining_time": 33.37642747,
            "test": [
             0.8497552955,
             0.3321323674
            ]
           },
           {
            "iteration": 599,
            "learn": [
             0.9598821568,
             0.1328632541
            ],
            "passed_time": 49.95355534,
            "remaining_time": 33.30237023,
            "test": [
             0.8498833802,
             0.3321764762
            ]
           },
           {
            "iteration": 600,
            "learn": [
             0.9603122473,
             0.1327542549
            ],
            "passed_time": 50.04649116,
            "remaining_time": 33.22554072,
            "test": [
             0.8498833802,
             0.3323441574
            ]
           },
           {
            "iteration": 601,
            "learn": [
             0.9603453067,
             0.1324617952
            ],
            "passed_time": 50.13937072,
            "remaining_time": 33.14862051,
            "test": [
             0.8500115036,
             0.3329552254
            ]
           },
           {
            "iteration": 602,
            "learn": [
             0.9603122473,
             0.1322102989
            ],
            "passed_time": 50.24110725,
            "remaining_time": 33.07747857,
            "test": [
             0.8502678662,
             0.3327543865
            ]
           },
           {
            "iteration": 603,
            "learn": [
             0.9603783683,
             0.132122369
            ],
            "passed_time": 50.34402335,
            "remaining_time": 33.00700868,
            "test": [
             0.8502678662,
             0.3331603906
            ]
           },
           {
            "iteration": 604,
            "learn": [
             0.9603122473,
             0.1318128644
            ],
            "passed_time": 50.43334375,
            "remaining_time": 32.92755501,
            "test": [
             0.8516117384,
             0.3338551809
            ]
           },
           {
            "iteration": 605,
            "learn": [
             0.9603783683,
             0.1316395834
            ],
            "passed_time": 50.52713091,
            "remaining_time": 32.8509729,
            "test": [
             0.851739963,
             0.3342215378
            ]
           },
           {
            "iteration": 606,
            "learn": [
             0.9605106377,
             0.1314024602
            ],
            "passed_time": 50.60519497,
            "remaining_time": 32.76415424,
            "test": [
             0.8503961055,
             0.3346978119
            ]
           },
           {
            "iteration": 607,
            "learn": [
             0.9614691033,
             0.1309862984
            ],
            "passed_time": 50.70270103,
            "remaining_time": 32.68989935,
            "test": [
             0.8503961055,
             0.3356614464
            ]
           },
           {
            "iteration": 608,
            "learn": [
             0.9618984246,
             0.1306649824
            ],
            "passed_time": 50.79523549,
            "remaining_time": 32.61237615,
            "test": [
             0.8503961055,
             0.3360163451
            ]
           },
           {
            "iteration": 609,
            "learn": [
             0.9616344927,
             0.1305026503
            ],
            "passed_time": 50.88172034,
            "remaining_time": 32.53093595,
            "test": [
             0.8505243835,
             0.3360852968
            ]
           },
           {
            "iteration": 610,
            "learn": [
             0.9621621524,
             0.1302302623
            ],
            "passed_time": 50.96219291,
            "remaining_time": 32.44565146,
            "test": [
             0.8502678662,
             0.3368462673
            ]
           },
           {
            "iteration": 611,
            "learn": [
             0.962261391,
             0.1299784278
            ],
            "passed_time": 51.04647982,
            "remaining_time": 32.36280093,
            "test": [
             0.8521248684,
             0.336908797
            ]
           },
           {
            "iteration": 612,
            "learn": [
             0.9622283092,
             0.1299678339
            ],
            "passed_time": 51.11458709,
            "remaining_time": 32.26973117,
            "test": [
             0.8505243835,
             0.3370436924
            ]
           },
           {
            "iteration": 613,
            "learn": [
             0.9620307622,
             0.1295734093
            ],
            "passed_time": 51.20494096,
            "remaining_time": 32.19072835,
            "test": [
             0.8487912146,
             0.3371167339
            ]
           },
           {
            "iteration": 614,
            "learn": [
             0.9621300393,
             0.1293869727
            ],
            "passed_time": 51.30567553,
            "remaining_time": 32.11818712,
            "test": [
             0.8506527003,
             0.3373929127
            ]
           },
           {
            "iteration": 615,
            "learn": [
             0.9624599297,
             0.129234482
            ],
            "passed_time": 51.39430434,
            "remaining_time": 32.0380079,
            "test": [
             0.8506527003,
             0.3376692943
            ]
           },
           {
            "iteration": 616,
            "learn": [
             0.9624599297,
             0.1292246237
            ],
            "passed_time": 51.45909839,
            "remaining_time": 31.94300597,
            "test": [
             0.8506527003,
             0.3376690239
            ]
           },
           {
            "iteration": 617,
            "learn": [
             0.9625592298,
             0.1290737056
            ],
            "passed_time": 51.54626889,
            "remaining_time": 31.86193319,
            "test": [
             0.8537209026,
             0.3373930817
            ]
           },
           {
            "iteration": 618,
            "learn": [
             0.9625592298,
             0.1289912376
            ],
            "passed_time": 51.63277973,
            "remaining_time": 31.7804347,
            "test": [
             0.8537209026,
             0.3376972806
            ]
           },
           {
            "iteration": 619,
            "learn": [
             0.9625592298,
             0.1289063599
            ],
            "passed_time": 51.72984742,
            "remaining_time": 31.70539036,
            "test": [
             0.8537209026,
             0.3376895742
            ]
           },
           {
            "iteration": 620,
            "learn": [
             0.9625592298,
             0.1288637478
            ],
            "passed_time": 51.80837705,
            "remaining_time": 31.61896119,
            "test": [
             0.8535925005,
             0.3376183241
            ]
           },
           {
            "iteration": 621,
            "learn": [
             0.9626254412,
             0.128828263
            ],
            "passed_time": 51.8842145,
            "remaining_time": 31.53092135,
            "test": [
             0.8535925005,
             0.3377637649
            ]
           },
           {
            "iteration": 622,
            "learn": [
             0.9626254412,
             0.1287248609
            ],
            "passed_time": 51.96227831,
            "remaining_time": 31.44426793,
            "test": [
             0.8535925005,
             0.3381905222
            ]
           },
           {
            "iteration": 623,
            "learn": [
             0.9625261275,
             0.128376033
            ],
            "passed_time": 52.04964513,
            "remaining_time": 31.36324771,
            "test": [
             0.8522532476,
             0.3384952281
            ]
           },
           {
            "iteration": 624,
            "learn": [
             0.9626585503,
             0.1280192491
            ],
            "passed_time": 52.14210394,
            "remaining_time": 31.28526237,
            "test": [
             0.8506527003,
             0.3393143343
            ]
           },
           {
            "iteration": 625,
            "learn": [
             0.9627247754,
             0.1279624921
            ],
            "passed_time": 52.22523729,
            "remaining_time": 31.20165934,
            "test": [
             0.8506527003,
             0.3397871946
            ]
           },
           {
            "iteration": 626,
            "learn": [
             0.9623286549,
             0.1279350478
            ],
            "passed_time": 52.29166087,
            "remaining_time": 31.10811723,
            "test": [
             0.8506527003,
             0.339793211
            ]
           },
           {
            "iteration": 627,
            "learn": [
             0.9624279935,
             0.1277621135
            ],
            "passed_time": 52.38806036,
            "remaining_time": 31.03241792,
            "test": [
             0.8522532476,
             0.3400246388
            ]
           },
           {
            "iteration": 628,
            "learn": [
             0.9623948784,
             0.1277518916
            ],
            "passed_time": 52.47837906,
            "remaining_time": 30.95306619,
            "test": [
             0.8506527003,
             0.3399278021
            ]
           },
           {
            "iteration": 629,
            "learn": [
             0.9624279935,
             0.1276369825
            ],
            "passed_time": 52.56415065,
            "remaining_time": 30.87100911,
            "test": [
             0.8507810557,
             0.3399541322
            ]
           },
           {
            "iteration": 630,
            "learn": [
             0.9624279935,
             0.1275017904
            ],
            "passed_time": 52.65202335,
            "remaining_time": 30.79016896,
            "test": [
             0.8506527003,
             0.3397225355
            ]
           },
           {
            "iteration": 631,
            "learn": [
             0.9623617655,
             0.1273371925
            ],
            "passed_time": 52.74428031,
            "remaining_time": 30.71185942,
            "test": [
             0.8506527003,
             0.3403096731
            ]
           },
           {
            "iteration": 632,
            "learn": [
             0.962461111,
             0.1271180865
            ],
            "passed_time": 52.83162214,
            "remaining_time": 30.63065612,
            "test": [
             0.8506527003,
             0.3406368559
            ]
           },
           {
            "iteration": 633,
            "learn": [
             0.9623617655,
             0.1270281106
            ],
            "passed_time": 52.9203789,
            "remaining_time": 30.55025028,
            "test": [
             0.8507810557,
             0.3410106488
            ]
           },
           {
            "iteration": 634,
            "learn": [
             0.9627247754,
             0.1268921744
            ],
            "passed_time": 53.00679843,
            "remaining_time": 30.46847469,
            "test": [
             0.8490476827,
             0.3407548851
            ]
           },
           {
            "iteration": 635,
            "learn": [
             0.9627910096,
             0.1268452165
            ],
            "passed_time": 53.08699758,
            "remaining_time": 30.3831244,
            "test": [
             0.8490476827,
             0.3406595019
            ]
           },
           {
            "iteration": 636,
            "learn": [
             0.9628241301,
             0.126634709
            ],
            "passed_time": 53.16962818,
            "remaining_time": 30.29917587,
            "test": [
             0.8507810557,
             0.3410906869
            ]
           },
           {
            "iteration": 637,
            "learn": [
             0.962890378,
             0.1265329894
            ],
            "passed_time": 53.25617996,
            "remaining_time": 30.21745634,
            "test": [
             0.8509094499,
             0.3415390085
            ]
           },
           {
            "iteration": 638,
            "learn": [
             0.962890378,
             0.1264646577
            ],
            "passed_time": 53.34153703,
            "remaining_time": 30.13504674,
            "test": [
             0.8509094499,
             0.3413080539
            ]
           },
           {
            "iteration": 639,
            "learn": [
             0.9628572529,
             0.1263067053
            ],
            "passed_time": 53.43161913,
            "remaining_time": 30.05528576,
            "test": [
             0.8509094499,
             0.3419414636
            ]
           },
           {
            "iteration": 640,
            "learn": [
             0.9632531975,
             0.1261924049
            ],
            "passed_time": 53.51384581,
            "remaining_time": 29.97109305,
            "test": [
             0.8509094499,
             0.3417512379
            ]
           },
           {
            "iteration": 641,
            "learn": [
             0.9632531975,
             0.1261402219
            ],
            "passed_time": 53.59138649,
            "remaining_time": 29.8842934,
            "test": [
             0.8493043059,
             0.3416738362
            ]
           },
           {
            "iteration": 642,
            "learn": [
             0.9632531975,
             0.1261323167
            ],
            "passed_time": 53.6557829,
            "remaining_time": 29.79022472,
            "test": [
             0.8493043059,
             0.3417906824
            ]
           },
           {
            "iteration": 643,
            "learn": [
             0.9636158114,
             0.1260790938
            ],
            "passed_time": 53.7395919,
            "remaining_time": 29.70697937,
            "test": [
             0.8493043059,
             0.3416766416
            ]
           },
           {
            "iteration": 644,
            "learn": [
             0.9636158114,
             0.125931676
            ],
            "passed_time": 53.82073351,
            "remaining_time": 29.62226418,
            "test": [
             0.8476946712,
             0.3416270572
            ]
           },
           {
            "iteration": 645,
            "learn": [
             0.9636489449,
             0.1258854367
            ],
            "passed_time": 53.90863652,
            "remaining_time": 29.54126522,
            "test": [
             0.8476946712,
             0.3415655414
            ]
           },
           {
            "iteration": 646,
            "learn": [
             0.9637815018,
             0.1256764765
            ],
            "passed_time": 54.00428383,
            "remaining_time": 29.46447016,
            "test": [
             0.8493043059,
             0.3419323038
            ]
           },
           {
            "iteration": 647,
            "learn": [
             0.9637483591,
             0.1255494094
            ],
            "passed_time": 54.09090361,
            "remaining_time": 29.38271307,
            "test": [
             0.8507810557,
             0.3423139383
            ]
           },
           {
            "iteration": 648,
            "learn": [
             0.9637815018,
             0.1255297351
            ],
            "passed_time": 54.16484788,
            "remaining_time": 29.29408568,
            "test": [
             0.8506527003,
             0.3423319874
            ]
           },
           {
            "iteration": 649,
            "learn": [
             0.9636489449,
             0.1251570224
            ],
            "passed_time": 54.24418709,
            "remaining_time": 29.20840843,
            "test": [
             0.8507810557,
             0.342728291
            ]
           },
           {
            "iteration": 650,
            "learn": [
             0.9633525957,
             0.1251140805
            ],
            "passed_time": 54.32708183,
            "remaining_time": 29.12465677,
            "test": [
             0.8523816654,
             0.3424336574
            ]
           },
           {
            "iteration": 651,
            "learn": [
             0.9636158114,
             0.1249552657
            ],
            "passed_time": 54.41359576,
            "remaining_time": 29.04283945,
            "test": [
             0.8523816654,
             0.3427679382
            ]
           },
           {
            "iteration": 652,
            "learn": [
             0.9636489449,
             0.1249142177
            ],
            "passed_time": 54.50175978,
            "remaining_time": 28.9618846,
            "test": [
             0.8523816654,
             0.3428761992
            ]
           },
           {
            "iteration": 653,
            "learn": [
             0.9636489449,
             0.1247895686
            ],
            "passed_time": 54.5889393,
            "remaining_time": 28.88038685,
            "test": [
             0.8523816654,
             0.3427380253
            ]
           },
           {
            "iteration": 654,
            "learn": [
             0.9636489449,
             0.1247745107
            ],
            "passed_time": 54.65354787,
            "remaining_time": 28.78698323,
            "test": [
             0.8507810557,
             0.3427956541
            ]
           },
           {
            "iteration": 655,
            "learn": [
             0.9636158114,
             0.1247511247
            ],
            "passed_time": 54.73245482,
            "remaining_time": 28.70116533,
            "test": [
             0.8507810557,
             0.342838073
            ]
           },
           {
            "iteration": 656,
            "learn": [
             0.9637815018,
             0.124704505
            ],
            "passed_time": 54.81596689,
            "remaining_time": 28.61777267,
            "test": [
             0.8507810557,
             0.3428746106
            ]
           },
           {
            "iteration": 657,
            "learn": [
             0.9638146467,
             0.1246934799
            ],
            "passed_time": 54.88674292,
            "remaining_time": 28.52776,
            "test": [
             0.8523816654,
             0.3427502947
            ]
           },
           {
            "iteration": 658,
            "learn": [
             0.9642765311,
             0.1244994424
            ],
            "passed_time": 54.97318443,
            "remaining_time": 28.44591182,
            "test": [
             0.8506527003,
             0.3433067083
            ]
           },
           {
            "iteration": 659,
            "learn": [
             0.9642433762,
             0.1244695293
            ],
            "passed_time": 55.04854759,
            "remaining_time": 28.3583427,
            "test": [
             0.8490476827,
             0.3437062228
            ]
           },
           {
            "iteration": 660,
            "learn": [
             0.9642102237,
             0.1243524135
            ],
            "passed_time": 55.12948869,
            "remaining_time": 28.2736712,
            "test": [
             0.8490476827,
             0.3440572683
            ]
           },
           {
            "iteration": 661,
            "learn": [
             0.9642765311,
             0.1242746379
            ],
            "passed_time": 55.2123742,
            "remaining_time": 28.19000375,
            "test": [
             0.8490476827,
             0.3440295524
            ]
           },
           {
            "iteration": 662,
            "learn": [
             0.9643096882,
             0.1242306138
            ],
            "passed_time": 55.28917984,
            "remaining_time": 28.10324828,
            "test": [
             0.8490476827,
             0.3443010331
            ]
           },
           {
            "iteration": 663,
            "learn": [
             0.9643428475,
             0.1241013146
            ],
            "passed_time": 55.38024811,
            "remaining_time": 28.02374001,
            "test": [
             0.8490476827,
             0.3444298106
            ]
           },
           {
            "iteration": 664,
            "learn": [
             0.9643428475,
             0.1240195229
            ],
            "passed_time": 55.457097,
            "remaining_time": 27.93703383,
            "test": [
             0.8489194293,
             0.3444922052
            ]
           },
           {
            "iteration": 665,
            "learn": [
             0.9643428475,
             0.1239563318
            ],
            "passed_time": 55.55116638,
            "remaining_time": 27.85899335,
            "test": [
             0.8489194293,
             0.3449307924
            ]
           },
           {
            "iteration": 666,
            "learn": [
             0.9643428475,
             0.1237537888
            ],
            "passed_time": 55.65020137,
            "remaining_time": 27.78338389,
            "test": [
             0.8489194293,
             0.3453217218
            ]
           },
           {
            "iteration": 667,
            "learn": [
             0.9643760092,
             0.1237086824
            ],
            "passed_time": 55.72382915,
            "remaining_time": 27.69507676,
            "test": [
             0.8489194293,
             0.3452943101
            ]
           },
           {
            "iteration": 668,
            "learn": [
             0.9643760092,
             0.1236779239
            ],
            "passed_time": 55.80220894,
            "remaining_time": 27.60916466,
            "test": [
             0.8489194293,
             0.3452285693
            ]
           },
           {
            "iteration": 669,
            "learn": [
             0.9644091731,
             0.1236249969
            ],
            "passed_time": 55.87615324,
            "remaining_time": 27.5210904,
            "test": [
             0.8489194293,
             0.3457663254
            ]
           },
           {
            "iteration": 670,
            "learn": [
             0.9644423394,
             0.1235790028
            ],
            "passed_time": 55.95816673,
            "remaining_time": 27.43701469,
            "test": [
             0.8489194293,
             0.3455450376
            ]
           },
           {
            "iteration": 671,
            "learn": [
             0.9644423394,
             0.1235142729
            ],
            "passed_time": 56.04073662,
            "remaining_time": 27.35321668,
            "test": [
             0.8489194293,
             0.3457509464
            ]
           },
           {
            "iteration": 672,
            "learn": [
             0.9643760092,
             0.1233737542
            ],
            "passed_time": 56.11631234,
            "remaining_time": 27.26602397,
            "test": [
             0.8489194293,
             0.3457347563
            ]
           },
           {
            "iteration": 673,
            "learn": [
             0.9639804055,
             0.1232546685
            ],
            "passed_time": 56.19318479,
            "remaining_time": 27.17949294,
            "test": [
             0.8489194293,
             0.3456589431
            ]
           },
           {
            "iteration": 674,
            "learn": [
             0.964013564,
             0.1232497478
            ],
            "passed_time": 56.2628617,
            "remaining_time": 27.089526,
            "test": [
             0.8489194293,
             0.3456528254
            ]
           },
           {
            "iteration": 675,
            "learn": [
             0.9641130535,
             0.1230275896
            ],
            "passed_time": 56.355165,
            "remaining_time": 27.0104637,
            "test": [
             0.8489194293,
             0.3454015571
            ]
           },
           {
            "iteration": 676,
            "learn": [
             0.9641130535,
             0.1229367344
            ],
            "passed_time": 56.43681147,
            "remaining_time": 26.92627785,
            "test": [
             0.8489194293,
             0.3452378643
            ]
           },
           {
            "iteration": 677,
            "learn": [
             0.9641462213,
             0.1228901992
            ],
            "passed_time": 56.51333184,
            "remaining_time": 26.83966497,
            "test": [
             0.8489194293,
             0.3453622816
            ]
           },
           {
            "iteration": 678,
            "learn": [
             0.9641130535,
             0.1228725541
            ],
            "passed_time": 56.57982483,
            "remaining_time": 26.74834134,
            "test": [
             0.8489194293,
             0.3455134685
            ]
           },
           {
            "iteration": 679,
            "learn": [
             0.9641130535,
             0.1227688729
            ],
            "passed_time": 56.68600973,
            "remaining_time": 26.67576929,
            "test": [
             0.8489194293,
             0.3455383114
            ]
           },
           {
            "iteration": 680,
            "learn": [
             0.964278915,
             0.1226879098
            ],
            "passed_time": 56.75997513,
            "remaining_time": 26.58800597,
            "test": [
             0.8489194293,
             0.3453682304
            ]
           },
           {
            "iteration": 681,
            "learn": [
             0.964278915,
             0.1225691115
            ],
            "passed_time": 56.8485638,
            "remaining_time": 26.50710159,
            "test": [
             0.8489194293,
             0.3451062475
            ]
           },
           {
            "iteration": 682,
            "learn": [
             0.9642457381,
             0.1224505922
            ],
            "passed_time": 56.93739777,
            "remaining_time": 26.42628857,
            "test": [
             0.8489194293,
             0.3456582671
            ]
           },
           {
            "iteration": 683,
            "learn": [
             0.9642125636,
             0.1223528125
            ],
            "passed_time": 57.02320757,
            "remaining_time": 26.34405496,
            "test": [
             0.8489194293,
             0.3458359193
            ]
           },
           {
            "iteration": 684,
            "learn": [
             0.9642125636,
             0.1223210479
            ],
            "passed_time": 57.10249,
            "remaining_time": 26.25880927,
            "test": [
             0.8489194293,
             0.3457778173
            ]
           },
           {
            "iteration": 685,
            "learn": [
             0.9642125636,
             0.1222994543
            ],
            "passed_time": 57.17721467,
            "remaining_time": 26.17149476,
            "test": [
             0.8489194293,
             0.3456793245
            ]
           },
           {
            "iteration": 686,
            "learn": [
             0.9642125636,
             0.1221240681
            ],
            "passed_time": 57.25528048,
            "remaining_time": 26.08573914,
            "test": [
             0.8490476827,
             0.3467357058
            ]
           },
           {
            "iteration": 687,
            "learn": [
             0.9642125636,
             0.1220832737
            ],
            "passed_time": 57.3255241,
            "remaining_time": 25.9964586,
            "test": [
             0.8490476827,
             0.3467017708
            ]
           },
           {
            "iteration": 688,
            "learn": [
             0.964278915,
             0.1220243184
            ],
            "passed_time": 57.40475825,
            "remaining_time": 25.91129146,
            "test": [
             0.8490476827,
             0.3464920087
            ]
           },
           {
            "iteration": 689,
            "learn": [
             0.9642457381,
             0.1218194588
            ],
            "passed_time": 57.49468353,
            "remaining_time": 25.83094478,
            "test": [
             0.8490476827,
             0.3465652193
            ]
           },
           {
            "iteration": 690,
            "learn": [
             0.9638167252,
             0.1216838946
            ],
            "passed_time": 57.58210531,
            "remaining_time": 25.74945085,
            "test": [
             0.8490476827,
             0.3468026296
            ]
           },
           {
            "iteration": 691,
            "learn": [
             0.9641793913,
             0.1213736121
            ],
            "passed_time": 57.68902491,
            "remaining_time": 25.67661802,
            "test": [
             0.8491759749,
             0.3471022317
            ]
           },
           {
            "iteration": 692,
            "learn": [
             0.9641793913,
             0.1213425239
            ],
            "passed_time": 57.77101995,
            "remaining_time": 25.5926452,
            "test": [
             0.8491759749,
             0.346961996
            ]
           },
           {
            "iteration": 693,
            "learn": [
             0.9636197068,
             0.1212935791
            ],
            "passed_time": 57.85728514,
            "remaining_time": 25.51056088,
            "test": [
             0.8493043059,
             0.3469028462
            ]
           },
           {
            "iteration": 694,
            "learn": [
             0.9636528843,
             0.1212058859
            ],
            "passed_time": 57.93857698,
            "remaining_time": 25.42628198,
            "test": [
             0.8493043059,
             0.3468305145
            ]
           },
           {
            "iteration": 695,
            "learn": [
             0.9639825941,
             0.1211645758
            ],
            "passed_time": 58.02135271,
            "remaining_time": 25.3426598,
            "test": [
             0.8491759749,
             0.3469431695
            ]
           },
           {
            "iteration": 696,
            "learn": [
             0.9640489576,
             0.120821624
            ],
            "passed_time": 58.11487217,
            "remaining_time": 25.26371057,
            "test": [
             0.8493043059,
             0.3481208248
            ]
           },
           {
            "iteration": 697,
            "learn": [
             0.9641153303,
             0.1207649346
            ],
            "passed_time": 58.21089783,
            "remaining_time": 25.18580393,
            "test": [
             0.8491759749,
             0.3480219264
            ]
           },
           {
            "iteration": 698,
            "learn": [
             0.9641485201,
             0.1207386571
            ],
            "passed_time": 58.28997374,
            "remaining_time": 25.10054663,
            "test": [
             0.8491759749,
             0.3481079133
            ]
           },
           {
            "iteration": 699,
            "learn": [
             0.9641485201,
             0.1206624033
            ],
            "passed_time": 58.36883713,
            "remaining_time": 25.01521591,
            "test": [
             0.8491759749,
             0.3480994971
            ]
           },
           {
            "iteration": 700,
            "learn": [
             0.9641153303,
             0.120548847
            ],
            "passed_time": 58.44645571,
            "remaining_time": 24.92937269,
            "test": [
             0.8493043059,
             0.3478909181
            ]
           },
           {
            "iteration": 701,
            "learn": [
             0.9641153303,
             0.1205052118
            ],
            "passed_time": 58.52559322,
            "remaining_time": 24.84419769,
            "test": [
             0.8493043059,
             0.3480147608
            ]
           },
           {
            "iteration": 702,
            "learn": [
             0.9641485201,
             0.1203911397
            ],
            "passed_time": 58.59711886,
            "remaining_time": 24.75582404,
            "test": [
             0.8493043059,
             0.347951386
            ]
           },
           {
            "iteration": 703,
            "learn": [
             0.9644780241,
             0.1201909978
            ],
            "passed_time": 58.68990807,
            "remaining_time": 24.67643862,
            "test": [
             0.8493043059,
             0.3484978287
            ]
           },
           {
            "iteration": 704,
            "learn": [
             0.9645112169,
             0.1201114721
            ],
            "passed_time": 58.78268658,
            "remaining_time": 24.5970107,
            "test": [
             0.8493043059,
             0.348617007
            ]
           },
           {
            "iteration": 705,
            "learn": [
             0.9644448335,
             0.119803819
            ],
            "passed_time": 58.88330443,
            "remaining_time": 24.52080949,
            "test": [
             0.845952325,
             0.3488645235
            ]
           },
           {
            "iteration": 706,
            "learn": [
             0.9644448335,
             0.1197908578
            ],
            "passed_time": 58.953956,
            "remaining_time": 24.43212038,
            "test": [
             0.845952325,
             0.349062557
            ]
           },
           {
            "iteration": 707,
            "learn": [
             0.9645112169,
             0.119701051
            ],
            "passed_time": 59.03883366,
            "remaining_time": 24.34934947,
            "test": [
             0.845952325,
             0.3493007448
            ]
           },
           {
            "iteration": 708,
            "learn": [
             0.9645776094,
             0.1196181095
            ],
            "passed_time": 59.12143117,
            "remaining_time": 24.26563677,
            "test": [
             0.845952325,
             0.3493797013
            ]
           },
           {
            "iteration": 709,
            "learn": [
             0.9646108091,
             0.1194990829
            ],
            "passed_time": 59.20067524,
            "remaining_time": 24.18055749,
            "test": [
             0.845952325,
             0.3496641948
            ]
           },
           {
            "iteration": 710,
            "learn": [
             0.9649401066,
             0.1194056236
            ],
            "passed_time": 59.28850465,
            "remaining_time": 24.09898431,
            "test": [
             0.845952325,
             0.349778844
            ]
           },
           {
            "iteration": 711,
            "learn": [
             0.9657309044,
             0.1191294985
            ],
            "passed_time": 59.38177091,
            "remaining_time": 24.01959273,
            "test": [
             0.845952325,
             0.3495788839
            ]
           },
           {
            "iteration": 712,
            "learn": [
             0.9657641178,
             0.1190607526
            ],
            "passed_time": 59.45994456,
            "remaining_time": 23.93408708,
            "test": [
             0.845952325,
             0.3495619502
            ]
           },
           {
            "iteration": 713,
            "learn": [
             0.9657641178,
             0.1190460581
            ],
            "passed_time": 59.54041372,
            "remaining_time": 23.84952146,
            "test": [
             0.8476946712,
             0.3491885292
            ]
           },
           {
            "iteration": 714,
            "learn": [
             0.9658305515,
             0.1189831798
            ],
            "passed_time": 59.61838828,
            "remaining_time": 23.76397295,
            "test": [
             0.8475664043,
             0.3492327394
            ]
           },
           {
            "iteration": 715,
            "learn": [
             0.9657973335,
             0.1189312167
            ],
            "passed_time": 59.70130597,
            "remaining_time": 23.68040628,
            "test": [
             0.8475664043,
             0.349392241
            ]
           },
           {
            "iteration": 716,
            "learn": [
             0.9657973335,
             0.1188572034
            ],
            "passed_time": 59.78315684,
            "remaining_time": 23.59642034,
            "test": [
             0.8475664043,
             0.3492585287
            ]
           },
           {
            "iteration": 717,
            "learn": [
             0.9657973335,
             0.1188166288
            ],
            "passed_time": 59.90573612,
            "remaining_time": 23.52843675,
            "test": [
             0.8475664043,
             0.3491129864
            ]
           },
           {
            "iteration": 718,
            "learn": [
             0.9658637717,
             0.1187693074
            ],
            "passed_time": 60.00125877,
            "remaining_time": 23.449727,
            "test": [
             0.8475664043,
             0.3498984956
            ]
           },
           {
            "iteration": 719,
            "learn": [
             0.9654684501,
             0.1184983143
            ],
            "passed_time": 60.09444488,
            "remaining_time": 23.3700619,
            "test": [
             0.8442056208,
             0.3506206638
            ]
           },
           {
            "iteration": 720,
            "learn": [
             0.9657973335,
             0.1184674881
            ],
            "passed_time": 60.17236507,
            "remaining_time": 23.28445195,
            "test": [
             0.8442056208,
             0.3509603187
            ]
           },
           {
            "iteration": 721,
            "learn": [
             0.9658637717,
             0.1184213081
            ],
            "passed_time": 60.25075964,
            "remaining_time": 23.19904596,
            "test": [
             0.8442056208,
             0.3510079766
            ]
           },
           {
            "iteration": 722,
            "learn": [
             0.9658969943,
             0.118242895
            ],
            "passed_time": 60.34218142,
            "remaining_time": 23.11865042,
            "test": [
             0.8443337181,
             0.3516167462
            ]
           },
           {
            "iteration": 723,
            "learn": [
             0.9662256709,
             0.1180548773
            ],
            "passed_time": 60.43899685,
            "remaining_time": 23.04028057,
            "test": [
             0.8442056208,
             0.3518736252
            ]
           },
           {
            "iteration": 724,
            "learn": [
             0.9662256709,
             0.117933179
            ],
            "passed_time": 60.53486395,
            "remaining_time": 22.96150012,
            "test": [
             0.8443337181,
             0.3523395903
            ]
           },
           {
            "iteration": 725,
            "learn": [
             0.9661592266,
             0.1177096934
            ],
            "passed_time": 60.62041998,
            "remaining_time": 22.8787811,
            "test": [
             0.8443337181,
             0.352315491
            ]
           },
           {
            "iteration": 726,
            "learn": [
             0.9662588964,
             0.1176729996
            ],
            "passed_time": 60.70346585,
            "remaining_time": 22.79511166,
            "test": [
             0.8443337181,
             0.3525207239
            ]
           },
           {
            "iteration": 727,
            "learn": [
             0.9662588964,
             0.1176252723
            ],
            "passed_time": 60.78467009,
            "remaining_time": 22.71075586,
            "test": [
             0.8443337181,
             0.3524788796
            ]
           },
           {
            "iteration": 728,
            "learn": [
             0.9663253544,
             0.1175558585
            ],
            "passed_time": 60.89015536,
            "remaining_time": 22.63543498,
            "test": [
             0.8445900293,
             0.352558208
            ]
           },
           {
            "iteration": 729,
            "learn": [
             0.9662921243,
             0.1173329309
            ],
            "passed_time": 60.99194384,
            "remaining_time": 22.55866416,
            "test": [
             0.8444618543,
             0.3531423712
            ]
           },
           {
            "iteration": 730,
            "learn": [
             0.966720293,
             0.1172006641
            ],
            "passed_time": 61.08746489,
            "remaining_time": 22.47951854,
            "test": [
             0.8445900293,
             0.3533085652
            ]
           },
           {
            "iteration": 731,
            "learn": [
             0.967343373,
             0.1168366683
            ],
            "passed_time": 61.17106468,
            "remaining_time": 22.39596357,
            "test": [
             0.8444618543,
             0.3534101677
            ]
           },
           {
            "iteration": 732,
            "learn": [
             0.9670153195,
             0.1166425632
            ],
            "passed_time": 61.24846828,
            "remaining_time": 22.31015148,
            "test": [
             0.8444618543,
             0.3535891718
            ]
           },
           {
            "iteration": 733,
            "learn": [
             0.9674098491,
             0.1162866079
            ],
            "passed_time": 61.3405567,
            "remaining_time": 22.22968404,
            "test": [
             0.846080527,
             0.3536082349
            ]
           },
           {
            "iteration": 734,
            "learn": [
             0.9677044558,
             0.1159579278
            ],
            "passed_time": 61.42216615,
            "remaining_time": 22.14540684,
            "test": [
             0.846080527,
             0.3531764415
            ]
           },
           {
            "iteration": 735,
            "learn": [
             0.9677709378,
             0.1159337471
            ],
            "passed_time": 61.49735832,
            "remaining_time": 22.05883505,
            "test": [
             0.8462087678,
             0.3530718309
            ]
           },
           {
            "iteration": 736,
            "learn": [
             0.967837429,
             0.1158160479
            ],
            "passed_time": 61.58313364,
            "remaining_time": 21.97607076,
            "test": [
             0.8476946712,
             0.3531501114
            ]
           },
           {
            "iteration": 737,
            "learn": [
             0.967837429,
             0.1157314577
            ],
            "passed_time": 61.66799083,
            "remaining_time": 21.89297235,
            "test": [
             0.8478229769,
             0.3534459617
            ]
           },
           {
            "iteration": 738,
            "learn": [
             0.9679039293,
             0.1155919029
            ],
            "passed_time": 61.75743516,
            "remaining_time": 21.81148928,
            "test": [
             0.8478229769,
             0.3532812887
            ]
           },
           {
            "iteration": 739,
            "learn": [
             0.9679371829,
             0.115542307
            ],
            "passed_time": 61.83151576,
            "remaining_time": 21.72458662,
            "test": [
             0.8463370475,
             0.3537827099
            ]
           },
           {
            "iteration": 740,
            "learn": [
             0.9679704388,
             0.1153724756
            ],
            "passed_time": 61.91622447,
            "remaining_time": 21.64143338,
            "test": [
             0.8464653661,
             0.3538456791
            ]
           },
           {
            "iteration": 741,
            "learn": [
             0.9679371829,
             0.1152959005
            ],
            "passed_time": 61.99701421,
            "remaining_time": 21.5569133,
            "test": [
             0.8464653661,
             0.3542026396
            ]
           },
           {
            "iteration": 742,
            "learn": [
             0.9679704388,
             0.1151602856
            ],
            "passed_time": 62.10083361,
            "remaining_time": 21.4803691,
            "test": [
             0.8479513215,
             0.3549214616
            ]
           },
           {
            "iteration": 743,
            "learn": [
             0.9680702201,
             0.1150788913
            ],
            "passed_time": 62.19027303,
            "remaining_time": 21.39880362,
            "test": [
             0.8482081272,
             0.355316278
            ]
           },
           {
            "iteration": 744,
            "learn": [
             0.9680702201,
             0.1149552315
            ],
            "passed_time": 62.27360434,
            "remaining_time": 21.31512632,
            "test": [
             0.8482081272,
             0.3549899739
            ]
           },
           {
            "iteration": 745,
            "learn": [
             0.9680369574,
             0.1148701763
            ],
            "passed_time": 62.36819434,
            "remaining_time": 21.23528333,
            "test": [
             0.8482081272,
             0.3554852773
            ]
           },
           {
            "iteration": 746,
            "learn": [
             0.9680036969,
             0.1147837091
            ],
            "passed_time": 62.44864443,
            "remaining_time": 21.15061184,
            "test": [
             0.8482081272,
             0.355530265
            ]
           },
           {
            "iteration": 747,
            "learn": [
             0.9681034851,
             0.1147220568
            ],
            "passed_time": 62.5349011,
            "remaining_time": 21.06790786,
            "test": [
             0.8464653661,
             0.3556832094
            ]
           },
           {
            "iteration": 748,
            "learn": [
             0.9677756308,
             0.1146582484
            ],
            "passed_time": 62.62519838,
            "remaining_time": 20.98654845,
            "test": [
             0.8462087678,
             0.3559335651
            ]
           },
           {
            "iteration": 749,
            "learn": [
             0.9677756308,
             0.1146473079
            ],
            "passed_time": 62.69947511,
            "remaining_time": 20.89982504,
            "test": [
             0.8462087678,
             0.3561566781
            ]
           },
           {
            "iteration": 750,
            "learn": [
             0.9678088974,
             0.11447981
            ],
            "passed_time": 62.79305589,
            "remaining_time": 20.81953518,
            "test": [
             0.8463370475,
             0.3561542445
            ]
           },
           {
            "iteration": 751,
            "learn": [
             0.9679087109,
             0.1141607937
            ],
            "passed_time": 62.90031984,
            "remaining_time": 20.7437225,
            "test": [
             0.8448464962,
             0.3565505819
            ]
           },
           {
            "iteration": 752,
            "learn": [
             0.9679087109,
             0.1140273264
            ],
            "passed_time": 62.99112912,
            "remaining_time": 20.66242881,
            "test": [
             0.8452314887,
             0.3567170463
            ]
           },
           {
            "iteration": 753,
            "learn": [
             0.9682032938,
             0.1138685792
            ],
            "passed_time": 63.08619423,
            "remaining_time": 20.58249838,
            "test": [
             0.8451031189,
             0.3568169925
            ]
           },
           {
            "iteration": 754,
            "learn": [
             0.968236568,
             0.1138198119
            ],
            "passed_time": 63.17652221,
            "remaining_time": 20.50099065,
            "test": [
             0.8451031189,
             0.3566731402
            ]
           },
           {
            "iteration": 755,
            "learn": [
             0.9682032938,
             0.1136179875
            ],
            "passed_time": 63.27393707,
            "remaining_time": 20.42174688,
            "test": [
             0.8451031189,
             0.357465477
            ]
           },
           {
            "iteration": 756,
            "learn": [
             0.968170022,
             0.1135318755
            ],
            "passed_time": 63.34897702,
            "remaining_time": 20.33527268,
            "test": [
             0.844974788,
             0.3576083491
            ]
           },
           {
            "iteration": 757,
            "learn": [
             0.9684976695,
             0.1132513792
            ],
            "passed_time": 63.43675624,
            "remaining_time": 20.25289579,
            "test": [
             0.844974788,
             0.3581124742
            ]
           },
           {
            "iteration": 758,
            "learn": [
             0.9685309421,
             0.113178668
            ],
            "passed_time": 63.52020401,
            "remaining_time": 20.16912934,
            "test": [
             0.844974788,
             0.3579395203
            ]
           },
           {
            "iteration": 759,
            "learn": [
             0.9686307735,
             0.1128266865
            ],
            "passed_time": 63.60726461,
            "remaining_time": 20.08650461,
            "test": [
             0.8464653661,
             0.3582478427
            ]
           },
           {
            "iteration": 760,
            "learn": [
             0.9685309421,
             0.1127526817
            ],
            "passed_time": 63.68245236,
            "remaining_time": 20.00013944,
            "test": [
             0.843223076,
             0.3588558349
            ]
           },
           {
            "iteration": 761,
            "learn": [
             0.9685309421,
             0.1127451907
            ],
            "passed_time": 63.74803486,
            "remaining_time": 19.91080354,
            "test": [
             0.843223076,
             0.3586851118
            ]
           },
           {
            "iteration": 762,
            "learn": [
             0.9685309421,
             0.112628616
            ],
            "passed_time": 63.84363176,
            "remaining_time": 19.83085285,
            "test": [
             0.8433513014,
             0.3588207845
            ]
           },
           {
            "iteration": 763,
            "learn": [
             0.9685642169,
             0.1125772447
            ],
            "passed_time": 63.92593889,
            "remaining_time": 19.74675599,
            "test": [
             0.8433513014,
             0.3587087717
            ]
           },
           {
            "iteration": 764,
            "learn": [
             0.9686640552,
             0.112519118
            ],
            "passed_time": 64.00204646,
            "remaining_time": 19.66075937,
            "test": [
             0.8417232443,
             0.3585149294
            ]
           },
           {
            "iteration": 765,
            "learn": [
             0.968597494,
             0.1124933985
            ],
            "passed_time": 64.07889925,
            "remaining_time": 19.57501622,
            "test": [
             0.8417232443,
             0.3583818593
            ]
           },
           {
            "iteration": 766,
            "learn": [
             0.9686307735,
             0.1124615916
            ],
            "passed_time": 64.15891627,
            "remaining_time": 19.49025748,
            "test": [
             0.8417232443,
             0.3585302069
            ]
           },
           {
            "iteration": 767,
            "learn": [
             0.9687306254,
             0.1124053334
            ],
            "passed_time": 64.24219942,
            "remaining_time": 19.40649774,
            "test": [
             0.8417232443,
             0.3584931285
            ]
           },
           {
            "iteration": 768,
            "learn": [
             0.9686640552,
             0.1123021595
            ],
            "passed_time": 64.32732192,
            "remaining_time": 19.32329176,
            "test": [
             0.8417232443,
             0.3583933174
            ]
           },
           {
            "iteration": 769,
            "learn": [
             0.9686640552,
             0.1122290763
            ],
            "passed_time": 64.41126365,
            "remaining_time": 19.2397281,
            "test": [
             0.8417232443,
             0.3584720373
            ]
           },
           {
            "iteration": 770,
            "learn": [
             0.9683031232,
             0.1121542006
            ],
            "passed_time": 64.50034505,
            "remaining_time": 19.15769003,
            "test": [
             0.8400905977,
             0.3583031731
            ]
           },
           {
            "iteration": 771,
            "learn": [
             0.9683364042,
             0.1121250231
            ],
            "passed_time": 64.58353067,
            "remaining_time": 19.07389248,
            "test": [
             0.8400905977,
             0.3584716993
            ]
           },
           {
            "iteration": 772,
            "learn": [
             0.9686307735,
             0.1119845383
            ],
            "passed_time": 64.66782717,
            "remaining_time": 18.99042273,
            "test": [
             0.8417232443,
             0.3585274353
            ]
           },
           {
            "iteration": 773,
            "learn": [
             0.9686640552,
             0.1119613468
            ],
            "passed_time": 64.73831721,
            "remaining_time": 18.9029195,
            "test": [
             0.8417232443,
             0.3582501411
            ]
           },
           {
            "iteration": 774,
            "learn": [
             0.9684029731,
             0.1118503438
            ],
            "passed_time": 64.81972477,
            "remaining_time": 18.81862977,
            "test": [
             0.8417232443,
             0.3582369254
            ]
           },
           {
            "iteration": 775,
            "learn": [
             0.9684029731,
             0.1117496134
            ],
            "passed_time": 64.89809797,
            "remaining_time": 18.73347158,
            "test": [
             0.8417232443,
             0.3585156392
            ]
           },
           {
            "iteration": 776,
            "learn": [
             0.9684029731,
             0.1115861315
            ],
            "passed_time": 64.9831628,
            "remaining_time": 18.65025136,
            "test": [
             0.8417232443,
             0.3586608096
            ]
           },
           {
            "iteration": 777,
            "learn": [
             0.968763914,
             0.1114476335
            ],
            "passed_time": 65.0658149,
            "remaining_time": 18.56633793,
            "test": [
             0.8417232443,
             0.3586569227
            ]
           },
           {
            "iteration": 778,
            "learn": [
             0.9687306254,
             0.1113865054
            ],
            "passed_time": 65.14602242,
            "remaining_time": 18.48173422,
            "test": [
             0.8417232443,
             0.3585432199
            ]
           },
           {
            "iteration": 779,
            "learn": [
             0.9687306254,
             0.1113770191
            ],
            "passed_time": 65.22594045,
            "remaining_time": 18.39706013,
            "test": [
             0.8417232443,
             0.358514659
            ]
           },
           {
            "iteration": 780,
            "learn": [
             0.9686973392,
             0.111332885
            ],
            "passed_time": 65.32814471,
            "remaining_time": 18.31864749,
            "test": [
             0.8417232443,
             0.3588192297
            ]
           },
           {
            "iteration": 781,
            "learn": [
             0.9687306254,
             0.1112716723
            ],
            "passed_time": 65.41468329,
            "remaining_time": 18.23580685,
            "test": [
             0.8417232443,
             0.3590415315
            ]
           },
           {
            "iteration": 782,
            "learn": [
             0.9687306254,
             0.1112487429
            ],
            "passed_time": 65.48585181,
            "remaining_time": 18.14869712,
            "test": [
             0.8417232443,
             0.3591754804
            ]
           },
           {
            "iteration": 783,
            "learn": [
             0.968763914,
             0.1111215406
            ],
            "passed_time": 65.57130089,
            "remaining_time": 18.06556249,
            "test": [
             0.8400905977,
             0.3593349482
            ]
           },
           {
            "iteration": 784,
            "learn": [
             0.9691246505,
             0.110949215
            ],
            "passed_time": 65.66613199,
            "remaining_time": 17.98499156,
            "test": [
             0.8400905977,
             0.3599296908
            ]
           },
           {
            "iteration": 785,
            "learn": [
             0.9691246505,
             0.1108903527
            ],
            "passed_time": 65.74476937,
            "remaining_time": 17.89997537,
            "test": [
             0.8400905977,
             0.3602792492
            ]
           },
           {
            "iteration": 786,
            "learn": [
             0.969091359,
             0.1108348047
            ],
            "passed_time": 65.82545977,
            "remaining_time": 17.81553104,
            "test": [
             0.8400905977,
             0.360116807
            ]
           },
           {
            "iteration": 787,
            "learn": [
             0.9687972049,
             0.1107333556
            ],
            "passed_time": 65.91103007,
            "remaining_time": 17.73240911,
            "test": [
             0.8400905977,
             0.3603415424
            ]
           },
           {
            "iteration": 788,
            "learn": [
             0.9687972049,
             0.1106807584
            ],
            "passed_time": 66.01181187,
            "remaining_time": 17.65334893,
            "test": [
             0.8400905977,
             0.3607875317
            ]
           },
           {
            "iteration": 789,
            "learn": [
             0.968763914,
             0.1106243649
            ],
            "passed_time": 66.09732,
            "remaining_time": 17.57017367,
            "test": [
             0.8399625081,
             0.360982219
            ]
           },
           {
            "iteration": 790,
            "learn": [
             0.968763914,
             0.1105803661
            ],
            "passed_time": 66.17677732,
            "remaining_time": 17.48539375,
            "test": [
             0.8399625081,
             0.3608517177
            ]
           },
           {
            "iteration": 791,
            "learn": [
             0.9687972049,
             0.1103148011
            ],
            "passed_time": 66.27099683,
            "remaining_time": 17.40450422,
            "test": [
             0.8381973403,
             0.3610837539
            ]
           },
           {
            "iteration": 792,
            "learn": [
             0.9687972049,
             0.1103026346
            ],
            "passed_time": 66.38203124,
            "remaining_time": 17.32797032,
            "test": [
             0.8381973403,
             0.3611383407
            ]
           },
           {
            "iteration": 793,
            "learn": [
             0.9687972049,
             0.1102751481
            ],
            "passed_time": 66.453397,
            "remaining_time": 17.24105766,
            "test": [
             0.8381973403,
             0.3613496237
            ]
           },
           {
            "iteration": 794,
            "learn": [
             0.9687972049,
             0.1101849777
            ],
            "passed_time": 66.53607632,
            "remaining_time": 17.15710144,
            "test": [
             0.8381973403,
             0.3613241724
            ]
           },
           {
            "iteration": 795,
            "learn": [
             0.9687972049,
             0.1101798879
            ],
            "passed_time": 66.59957239,
            "remaining_time": 17.06823212,
            "test": [
             0.8381973403,
             0.361272222
            ]
           },
           {
            "iteration": 796,
            "learn": [
             0.968830498,
             0.1101294551
            ],
            "passed_time": 66.67835709,
            "remaining_time": 16.98332056,
            "test": [
             0.8381973403,
             0.3612449793
            ]
           },
           {
            "iteration": 797,
            "learn": [
             0.9688637935,
             0.1099694058
            ],
            "passed_time": 66.77240899,
            "remaining_time": 16.90228899,
            "test": [
             0.8384533419,
             0.3619667419
            ]
           },
           {
            "iteration": 798,
            "learn": [
             0.9695517786,
             0.1097603441
            ],
            "passed_time": 66.85713438,
            "remaining_time": 16.81887861,
            "test": [
             0.8370674755,
             0.3622734758
            ]
           },
           {
            "iteration": 799,
            "learn": [
             0.9695517786,
             0.109611675
            ],
            "passed_time": 66.93578166,
            "remaining_time": 16.73394542,
            "test": [
             0.8370674755,
             0.3628474991
            ]
           },
           {
            "iteration": 800,
            "learn": [
             0.9699787235,
             0.1094407107
            ],
            "passed_time": 67.03058,
            "remaining_time": 16.65304047,
            "test": [
             0.8370674755,
             0.3628969821
            ]
           },
           {
            "iteration": 801,
            "learn": [
             0.9699787235,
             0.109399037
            ],
            "passed_time": 67.09975826,
            "remaining_time": 16.56577573,
            "test": [
             0.8370674755,
             0.3631336488
            ]
           },
           {
            "iteration": 802,
            "learn": [
             0.97030555,
             0.1091767774
            ],
            "passed_time": 67.17647463,
            "remaining_time": 16.48040536,
            "test": [
             0.8370674755,
             0.3630116313
            ]
           },
           {
            "iteration": 803,
            "learn": [
             0.97030555,
             0.1091106947
            ],
            "passed_time": 67.25898575,
            "remaining_time": 16.39646916,
            "test": [
             0.8370674755,
             0.3628219464
            ]
           },
           {
            "iteration": 804,
            "learn": [
             0.9703388595,
             0.1090446797
            ],
            "passed_time": 67.34560977,
            "remaining_time": 16.3135328,
            "test": [
             0.8369394469,
             0.3625447874
            ]
           },
           {
            "iteration": 805,
            "learn": [
             0.9703721713,
             0.1089681722
            ],
            "passed_time": 67.45550818,
            "remaining_time": 16.23618931,
            "test": [
             0.8385814014,
             0.3624419681
            ]
           },
           {
            "iteration": 806,
            "learn": [
             0.9708320645,
             0.1087287832
            ],
            "passed_time": 67.53505598,
            "remaining_time": 16.15150657,
            "test": [
             0.8385814014,
             0.3627936221
            ]
           },
           {
            "iteration": 807,
            "learn": [
             0.9705054415,
             0.1086807853
            ],
            "passed_time": 67.61556397,
            "remaining_time": 16.06706471,
            "test": [
             0.8385814014,
             0.3630563823
            ]
           },
           {
            "iteration": 808,
            "learn": [
             0.9704721205,
             0.10859688
            ],
            "passed_time": 67.69835339,
            "remaining_time": 15.9831712,
            "test": [
             0.8385814014,
             0.3630293424
            ]
           },
           {
            "iteration": 809,
            "learn": [
             0.9704721205,
             0.1085640162
            ],
            "passed_time": 67.77566605,
            "remaining_time": 15.89799574,
            "test": [
             0.8400905977,
             0.363026875
            ]
           },
           {
            "iteration": 810,
            "learn": [
             0.9701119728,
             0.1083283134
            ],
            "passed_time": 67.85901435,
            "remaining_time": 15.81424625,
            "test": [
             0.8384533419,
             0.3626616335
            ]
           },
           {
            "iteration": 811,
            "learn": [
             0.9701786111,
             0.1082948578
            ],
            "passed_time": 67.93859169,
            "remaining_time": 15.72962468,
            "test": [
             0.8384533419,
             0.3628670354
            ]
           },
           {
            "iteration": 812,
            "learn": [
             0.9701452908,
             0.1081812169
            ],
            "passed_time": 68.03072671,
            "remaining_time": 15.64790393,
            "test": [
             0.8385814014,
             0.3632365019
            ]
           },
           {
            "iteration": 813,
            "learn": [
             0.9705720903,
             0.1079144936
            ],
            "passed_time": 68.11397182,
            "remaining_time": 15.56412624,
            "test": [
             0.8385814014,
             0.3635560797
            ]
           },
           {
            "iteration": 814,
            "learn": [
             0.9707054153,
             0.1074265759
            ],
            "passed_time": 68.20668146,
            "remaining_time": 15.48249825,
            "test": [
             0.8387095,
             0.3640964722
            ]
           },
           {
            "iteration": 815,
            "learn": [
             0.9710320421,
             0.107169584
            ],
            "passed_time": 68.29813572,
            "remaining_time": 15.40056002,
            "test": [
             0.8387095,
             0.3644711776
            ]
           },
           {
            "iteration": 816,
            "learn": [
             0.9707387523,
             0.1070983016
            ],
            "passed_time": 68.38125935,
            "remaining_time": 15.31673251,
            "test": [
             0.8388376377,
             0.3642944718
            ]
           },
           {
            "iteration": 817,
            "learn": [
             0.9707387523,
             0.1069427334
            ],
            "passed_time": 68.48789757,
            "remaining_time": 15.23813858,
            "test": [
             0.8388376377,
             0.3647713205
            ]
           },
           {
            "iteration": 818,
            "learn": [
             0.9707387523,
             0.1069332386
            ],
            "passed_time": 68.55706535,
            "remaining_time": 15.15119515,
            "test": [
             0.8388376377,
             0.3646655607
            ]
           },
           {
            "iteration": 819,
            "learn": [
             0.9707720916,
             0.1068175348
            ],
            "passed_time": 68.64227958,
            "remaining_time": 15.06781747,
            "test": [
             0.8388376377,
             0.3646053969
            ]
           },
           {
            "iteration": 820,
            "learn": [
             0.9707720916,
             0.1067910628
            ],
            "passed_time": 68.7262279,
            "remaining_time": 14.98415931,
            "test": [
             0.8388376377,
             0.3648032614
            ]
           },
           {
            "iteration": 821,
            "learn": [
             0.9707387523,
             0.1066379973
            ],
            "passed_time": 68.81444641,
            "remaining_time": 14.90142513,
            "test": [
             0.8387095,
             0.365239246
            ]
           },
           {
            "iteration": 822,
            "learn": [
             0.9707720916,
             0.1065756601
            ],
            "passed_time": 68.90097736,
            "remaining_time": 14.81831469,
            "test": [
             0.8388376377,
             0.365404426
            ]
           },
           {
            "iteration": 823,
            "learn": [
             0.9707720916,
             0.1065173473
            ],
            "passed_time": 68.99586615,
            "remaining_time": 14.73698112,
            "test": [
             0.8388376377,
             0.365617399
            ]
           },
           {
            "iteration": 824,
            "learn": [
             0.9708054331,
             0.1063584057
            ],
            "passed_time": 69.07937851,
            "remaining_time": 14.6532015,
            "test": [
             0.8388376377,
             0.3659452241
            ]
           },
           {
            "iteration": 825,
            "learn": [
             0.9707720916,
             0.1062595015
            ],
            "passed_time": 69.17227883,
            "remaining_time": 14.57140014,
            "test": [
             0.8388376377,
             0.3660418241
            ]
           },
           {
            "iteration": 826,
            "learn": [
             0.9708054331,
             0.10617366
            ],
            "passed_time": 69.25651852,
            "remaining_time": 14.48776022,
            "test": [
             0.8388376377,
             0.3664190645
            ]
           },
           {
            "iteration": 827,
            "learn": [
             0.9708054331,
             0.1060178635
            ],
            "passed_time": 69.33868497,
            "remaining_time": 14.40368818,
            "test": [
             0.8388376377,
             0.3665646068
            ]
           },
           {
            "iteration": 828,
            "learn": [
             0.9708054331,
             0.1058637241
            ],
            "passed_time": 69.4275656,
            "remaining_time": 14.32100569,
            "test": [
             0.8388376377,
             0.3664574274
            ]
           },
           {
            "iteration": 829,
            "learn": [
             0.970838777,
             0.1058117018
            ],
            "passed_time": 69.52153235,
            "remaining_time": 14.23935,
            "test": [
             0.8388376377,
             0.3664724007
            ]
           },
           {
            "iteration": 830,
            "learn": [
             0.9708721232,
             0.1057881806
            ],
            "passed_time": 69.63195806,
            "remaining_time": 14.16101193,
            "test": [
             0.8388376377,
             0.3666812502
            ]
           },
           {
            "iteration": 831,
            "learn": [
             0.9709054716,
             0.1057367078
            ],
            "passed_time": 69.72869704,
            "remaining_time": 14.07983306,
            "test": [
             0.8388376377,
             0.3666529259
            ]
           },
           {
            "iteration": 832,
            "learn": [
             0.9709054716,
             0.1054609209
            ],
            "passed_time": 69.81848046,
            "remaining_time": 13.99722237,
            "test": [
             0.8390940307,
             0.3666300434
            ]
           },
           {
            "iteration": 833,
            "learn": [
             0.9709388223,
             0.1054295451
            ],
            "passed_time": 69.90481205,
            "remaining_time": 13.91390743,
            "test": [
             0.8392222859,
             0.3665228978
            ]
           },
           {
            "iteration": 834,
            "learn": [
             0.9708721232,
             0.1053221185
            ],
            "passed_time": 69.99149144,
            "remaining_time": 13.830654,
            "test": [
             0.8392222859,
             0.366336728
            ]
           },
           {
            "iteration": 835,
            "learn": [
             0.9709054716,
             0.1052240936
            ],
            "passed_time": 70.08253637,
            "remaining_time": 13.74824876,
            "test": [
             0.8392222859,
             0.3661243634
            ]
           },
           {
            "iteration": 836,
            "learn": [
             0.9708721232,
             0.105076735
            ],
            "passed_time": 70.17228318,
            "remaining_time": 13.66557008,
            "test": [
             0.8392222859,
             0.3664677364
            ]
           },
           {
            "iteration": 837,
            "learn": [
             0.9709054716,
             0.1050523852
            ],
            "passed_time": 70.24748035,
            "remaining_time": 13.58006183,
            "test": [
             0.8392222859,
             0.3661976077
            ]
           },
           {
            "iteration": 838,
            "learn": [
             0.9712321022,
             0.1049420333
            ],
            "passed_time": 70.33813786,
            "remaining_time": 13.49754493,
            "test": [
             0.8392222859,
             0.3666212554
            ]
           },
           {
            "iteration": 839,
            "learn": [
             0.9711987531,
             0.1048246723
            ],
            "passed_time": 70.42811077,
            "remaining_time": 13.41487824,
            "test": [
             0.8392222859,
             0.3666715834
            ]
           },
           {
            "iteration": 840,
            "learn": [
             0.9714918284,
             0.1045180338
            ],
            "passed_time": 70.51027004,
            "remaining_time": 13.33071693,
            "test": [
             0.8393505804,
             0.3672795418
            ]
           },
           {
            "iteration": 841,
            "learn": [
             0.9715251758,
             0.1044526613
            ],
            "passed_time": 70.60225113,
            "remaining_time": 13.24840342,
            "test": [
             0.8393505804,
             0.3670849559
            ]
           },
           {
            "iteration": 842,
            "learn": [
             0.9715251758,
             0.1043871874
            ],
            "passed_time": 70.71636821,
            "remaining_time": 13.17018957,
            "test": [
             0.8394789141,
             0.3668669467
            ]
           },
           {
            "iteration": 843,
            "learn": [
             0.9715918775,
             0.10430395
            ],
            "passed_time": 70.79958198,
            "remaining_time": 13.08617866,
            "test": [
             0.8394789141,
             0.3666351134
            ]
           },
           {
            "iteration": 844,
            "learn": [
             0.9718847418,
             0.1041383967
            ],
            "passed_time": 70.88955185,
            "remaining_time": 13.00340892,
            "test": [
             0.8396072871,
             0.3669191675
            ]
           },
           {
            "iteration": 845,
            "learn": [
             0.9719514492,
             0.1040521408
            ],
            "passed_time": 70.97830568,
            "remaining_time": 12.9204008,
            "test": [
             0.8396072871,
             0.3671753706
            ]
           },
           {
            "iteration": 846,
            "learn": [
             0.9719514492,
             0.1039659442
            ],
            "passed_time": 71.07491356,
            "remaining_time": 12.83879784,
            "test": [
             0.8396072871,
             0.3670501421
            ]
           },
           {
            "iteration": 847,
            "learn": [
             0.9718847418,
             0.1039051458
            ],
            "passed_time": 71.15290311,
            "remaining_time": 12.75382226,
            "test": [
             0.8394789141,
             0.3672828204
            ]
           },
           {
            "iteration": 848,
            "learn": [
             0.9719848064,
             0.1038348273
            ],
            "passed_time": 71.23187485,
            "remaining_time": 12.66903781,
            "test": [
             0.8394789141,
             0.3672188034
            ]
           },
           {
            "iteration": 849,
            "learn": [
             0.9720515277,
             0.1036608614
            ],
            "passed_time": 71.326454,
            "remaining_time": 12.58702129,
            "test": [
             0.8394789141,
             0.3674043986
            ]
           },
           {
            "iteration": 850,
            "learn": [
             0.9720515277,
             0.1035679686
            ],
            "passed_time": 71.41290483,
            "remaining_time": 12.50355208,
            "test": [
             0.8394789141,
             0.3676384289
            ]
           },
           {
            "iteration": 851,
            "learn": [
             0.9722183708,
             0.1033268802
            ],
            "passed_time": 71.5115938,
            "remaining_time": 12.42220174,
            "test": [
             0.8393505804,
             0.3677983023
            ]
           },
           {
            "iteration": 852,
            "learn": [
             0.9725110124,
             0.1031575222
            ],
            "passed_time": 71.59399672,
            "remaining_time": 12.33800412,
            "test": [
             0.8393505804,
             0.3679805513
            ]
           },
           {
            "iteration": 853,
            "learn": [
             0.9724776409,
             0.1029357614
            ],
            "passed_time": 71.70061656,
            "remaining_time": 12.25795084,
            "test": [
             0.8393505804,
             0.368395918
            ]
           },
           {
            "iteration": 854,
            "learn": [
             0.9724776409,
             0.1028323508
            ],
            "passed_time": 71.79051432,
            "remaining_time": 12.17499951,
            "test": [
             0.8412451642,
             0.3686795665
            ]
           },
           {
            "iteration": 855,
            "learn": [
             0.9725777623,
             0.1026258848
            ],
            "passed_time": 71.88460861,
            "remaining_time": 12.0927379,
            "test": [
             0.8412451642,
             0.3687751526
            ]
           },
           {
            "iteration": 856,
            "learn": [
             0.9726111407,
             0.1025994974
            ],
            "passed_time": 71.95159655,
            "remaining_time": 12.00592568,
            "test": [
             0.8412451642,
             0.3687433469
            ]
           },
           {
            "iteration": 857,
            "learn": [
             0.9722851241,
             0.1024481143
            ],
            "passed_time": 72.0479614,
            "remaining_time": 11.92402158,
            "test": [
             0.8412451642,
             0.3690506554
            ]
           },
           {
            "iteration": 858,
            "learn": [
             0.9722851241,
             0.1024383828
            ],
            "passed_time": 72.11639215,
            "remaining_time": 11.8374986,
            "test": [
             0.8412451642,
             0.3690504864
            ]
           },
           {
            "iteration": 859,
            "learn": [
             0.9723185042,
             0.1023523722
            ],
            "passed_time": 72.19761742,
            "remaining_time": 11.75310051,
            "test": [
             0.8413736453,
             0.3692070812
            ]
           },
           {
            "iteration": 860,
            "learn": [
             0.9723518865,
             0.1022607307
            ],
            "passed_time": 72.27875625,
            "remaining_time": 11.66869584,
            "test": [
             0.8413736453,
             0.3690252717
            ]
           },
           {
            "iteration": 861,
            "learn": [
             0.9723518865,
             0.1021738408
            ],
            "passed_time": 72.36352785,
            "remaining_time": 11.58488033,
            "test": [
             0.8412451642,
             0.3688632351
            ]
           },
           {
            "iteration": 862,
            "learn": [
             0.9726779044,
             0.1020622206
            ],
            "passed_time": 72.44968378,
            "remaining_time": 11.50128236,
            "test": [
             0.8393505804,
             0.3695581944
            ]
           },
           {
            "iteration": 863,
            "learn": [
             0.9726779044,
             0.1020175962
            ],
            "passed_time": 72.53042779,
            "remaining_time": 11.4168266,
            "test": [
             0.8411167223,
             0.3697366577
            ]
           },
           {
            "iteration": 864,
            "learn": [
             0.9726445214,
             0.1019244244
            ],
            "passed_time": 72.60936666,
            "remaining_time": 11.33209769,
            "test": [
             0.8394789141,
             0.3696407675
            ]
           },
           {
            "iteration": 865,
            "learn": [
             0.9726445214,
             0.1018606752
            ],
            "passed_time": 72.68635485,
            "remaining_time": 11.24708031,
            "test": [
             0.8394789141,
             0.3696419843
            ]
           },
           {
            "iteration": 866,
            "learn": [
             0.9726445214,
             0.1017864675
            ],
            "passed_time": 72.77873284,
            "remaining_time": 11.16444229,
            "test": [
             0.8394789141,
             0.3693757426
            ]
           },
           {
            "iteration": 867,
            "learn": [
             0.9726445214,
             0.1017843876
            ],
            "passed_time": 72.86928069,
            "remaining_time": 11.08150352,
            "test": [
             0.8394789141,
             0.3694297548
            ]
           },
           {
            "iteration": 868,
            "learn": [
             0.9726779044,
             0.1016779079
            ],
            "passed_time": 72.95654648,
            "remaining_time": 10.99805246,
            "test": [
             0.8394789141,
             0.3694881272
            ]
           },
           {
            "iteration": 869,
            "learn": [
             0.9731038798,
             0.1015713183
            ],
            "passed_time": 73.04121319,
            "remaining_time": 10.91420427,
            "test": [
             0.8396072871,
             0.3695121589
            ]
           },
           {
            "iteration": 870,
            "learn": [
             0.9731372726,
             0.1015128619
            ],
            "passed_time": 73.13928041,
            "remaining_time": 10.83233889,
            "test": [
             0.8394789141,
             0.3699070091
            ]
           },
           {
            "iteration": 871,
            "learn": [
             0.9730704894,
             0.1014721183
            ],
            "passed_time": 73.22934009,
            "remaining_time": 10.74926093,
            "test": [
             0.8394789141,
             0.3703033127
            ]
           },
           {
            "iteration": 872,
            "learn": [
             0.9731038798,
             0.1013947146
            ],
            "passed_time": 73.32242048,
            "remaining_time": 10.66660642,
            "test": [
             0.8361893704,
             0.3707908759
            ]
           },
           {
            "iteration": 873,
            "learn": [
             0.9731038798,
             0.1013882382
            ],
            "passed_time": 73.39156444,
            "remaining_time": 10.58047725,
            "test": [
             0.8360611773,
             0.3708672636
            ]
           },
           {
            "iteration": 874,
            "learn": [
             0.9730704894,
             0.1013305512
            ],
            "passed_time": 73.46627018,
            "remaining_time": 10.49518145,
            "test": [
             0.8378364701,
             0.3709522703
            ]
           },
           {
            "iteration": 875,
            "learn": [
             0.9730704894,
             0.1013089661
            ],
            "passed_time": 73.54428063,
            "remaining_time": 10.41037762,
            "test": [
             0.8378364701,
             0.3711138675
            ]
           },
           {
            "iteration": 876,
            "learn": [
             0.9730704894,
             0.101093707
            ],
            "passed_time": 73.63260211,
            "remaining_time": 10.32703542,
            "test": [
             0.8378364701,
             0.3707609292
            ]
           },
           {
            "iteration": 877,
            "learn": [
             0.9731038798,
             0.1009959612
            ],
            "passed_time": 73.71524509,
            "remaining_time": 10.24289283,
            "test": [
             0.8379647732,
             0.3709403052
            ]
           },
           {
            "iteration": 878,
            "learn": [
             0.9731372726,
             0.1007184748
            ],
            "passed_time": 73.80784916,
            "remaining_time": 10.16012486,
            "test": [
             0.8380931157,
             0.3711716991
            ]
           },
           {
            "iteration": 879,
            "learn": [
             0.9731372726,
             0.100708067
            ],
            "passed_time": 73.88762064,
            "remaining_time": 10.07558463,
            "test": [
             0.8363176028,
             0.3714023833
            ]
           },
           {
            "iteration": 880,
            "learn": [
             0.9731706676,
             0.1006102704
            ],
            "passed_time": 73.98367638,
            "remaining_time": 9.993254811,
            "test": [
             0.8379647732,
             0.3713624656
            ]
           },
           {
            "iteration": 881,
            "learn": [
             0.9731372726,
             0.1005545279
            ],
            "passed_time": 74.07864767,
            "remaining_time": 9.910748782,
            "test": [
             0.8363176028,
             0.3715770611
            ]
           },
           {
            "iteration": 882,
            "learn": [
             0.9731706676,
             0.1005441116
            ],
            "passed_time": 74.14763861,
            "remaining_time": 9.824772047,
            "test": [
             0.8346657562,
             0.3714449711
            ]
           },
           {
            "iteration": 883,
            "learn": [
             0.9730704894,
             0.1004364314
            ],
            "passed_time": 74.23797359,
            "remaining_time": 9.741634544,
            "test": [
             0.8379647732,
             0.3717624196
            ]
           },
           {
            "iteration": 884,
            "learn": [
             0.9731706676,
             0.100273609
            ],
            "passed_time": 74.31389153,
            "remaining_time": 9.656607374,
            "test": [
             0.8363176028,
             0.3720680043
            ]
           },
           {
            "iteration": 885,
            "learn": [
             0.9732040649,
             0.1001969663
            ],
            "passed_time": 74.39425811,
            "remaining_time": 9.572173166,
            "test": [
             0.8361893704,
             0.3723254579
            ]
           },
           {
            "iteration": 886,
            "learn": [
             0.9733376771,
             0.1000258412
            ],
            "passed_time": 74.48026942,
            "remaining_time": 9.488467242,
            "test": [
             0.8363176028,
             0.3729075256
            ]
           },
           {
            "iteration": 887,
            "learn": [
             0.973404497,
             0.09990475168
            ],
            "passed_time": 74.5737622,
            "remaining_time": 9.405699736,
            "test": [
             0.8363176028,
             0.3725647611
            ]
           },
           {
            "iteration": 888,
            "learn": [
             0.9733710859,
             0.09960474177
            ],
            "passed_time": 74.67133754,
            "remaining_time": 9.323417848,
            "test": [
             0.8379647732,
             0.3731056943
            ]
           },
           {
            "iteration": 889,
            "learn": [
             0.9733376771,
             0.09959063072
            ],
            "passed_time": 74.74613194,
            "remaining_time": 9.23828597,
            "test": [
             0.8363176028,
             0.3732969678
            ]
           },
           {
            "iteration": 890,
            "learn": [
             0.973404497,
             0.09941892232
            ],
            "passed_time": 74.83358943,
            "remaining_time": 9.154726429,
            "test": [
             0.8364458746,
             0.3738448976
            ]
           },
           {
            "iteration": 891,
            "learn": [
             0.9737301083,
             0.09935879182
            ],
            "passed_time": 74.91649134,
            "remaining_time": 9.070606574,
            "test": [
             0.8363176028,
             0.3738387461
            ]
           },
           {
            "iteration": 892,
            "learn": [
             0.9737635223,
             0.09922614456
            ],
            "passed_time": 75.00722118,
            "remaining_time": 8.987427398,
            "test": [
             0.8364458746,
             0.3736175935
            ]
           },
           {
            "iteration": 893,
            "learn": [
             0.9737969385,
             0.09917027529
            ],
            "passed_time": 75.11055848,
            "remaining_time": 8.905726173,
            "test": [
             0.8364458746,
             0.3731754235
            ]
           },
           {
            "iteration": 894,
            "learn": [
             0.9738637779,
             0.09906240903
            ],
            "passed_time": 75.19582856,
            "remaining_time": 8.821856982,
            "test": [
             0.8363176028,
             0.3736636289
            ]
           },
           {
            "iteration": 895,
            "learn": [
             0.9739640541,
             0.09901596684
            ],
            "passed_time": 75.27086897,
            "remaining_time": 8.736797291,
            "test": [
             0.8363176028,
             0.3736746139
            ]
           },
           {
            "iteration": 896,
            "learn": [
             0.9739306264,
             0.09884078352
            ],
            "passed_time": 75.36227036,
            "remaining_time": 8.653638626,
            "test": [
             0.8361893704,
             0.3737037493
            ]
           },
           {
            "iteration": 897,
            "learn": [
             0.9739306264,
             0.09870614093
            ],
            "passed_time": 75.44968178,
            "remaining_time": 8.570008398,
            "test": [
             0.8361893704,
             0.3738440188
            ]
           },
           {
            "iteration": 898,
            "learn": [
             0.9739306264,
             0.09862438307
            ],
            "passed_time": 75.54018938,
            "remaining_time": 8.486717605,
            "test": [
             0.8378364701,
             0.3743101529
            ]
           },
           {
            "iteration": 899,
            "learn": [
             0.9739306264,
             0.09846450292
            ],
            "passed_time": 75.63381965,
            "remaining_time": 8.403757739,
            "test": [
             0.8378364701,
             0.3748134331
            ]
           },
           {
            "iteration": 900,
            "learn": [
             0.9739640541,
             0.0983202895
            ],
            "passed_time": 75.72216689,
            "remaining_time": 8.320193698,
            "test": [
             0.8378364701,
             0.3748897194
            ]
           },
           {
            "iteration": 901,
            "learn": [
             0.9739306264,
             0.09824959052
            ],
            "passed_time": 75.80565562,
            "remaining_time": 8.236091187,
            "test": [
             0.8378364701,
             0.3746586973
            ]
           },
           {
            "iteration": 902,
            "learn": [
             0.9739640541,
             0.09815941169
            ],
            "passed_time": 75.89535649,
            "remaining_time": 8.152657341,
            "test": [
             0.8378364701,
             0.374891815
            ]
           },
           {
            "iteration": 903,
            "learn": [
             0.9739974841,
             0.09806211392
            ],
            "passed_time": 75.98453685,
            "remaining_time": 8.069154355,
            "test": [
             0.8361893704,
             0.3748358424
            ]
           },
           {
            "iteration": 904,
            "learn": [
             0.974064351,
             0.09788553555
            ],
            "passed_time": 76.11907476,
            "remaining_time": 7.990400113,
            "test": [
             0.8378364701,
             0.3746866498
            ]
           },
           {
            "iteration": 905,
            "learn": [
             0.974064351,
             0.09781551295
            ],
            "passed_time": 76.21585336,
            "remaining_time": 7.907605095,
            "test": [
             0.8378364701,
             0.3750416837
            ]
           },
           {
            "iteration": 906,
            "learn": [
             0.9737387339,
             0.09773447375
            ],
            "passed_time": 76.308305,
            "remaining_time": 7.824335573,
            "test": [
             0.8378364701,
             0.3750532433
            ]
           },
           {
            "iteration": 907,
            "learn": [
             0.9737721702,
             0.09764524186
            ],
            "passed_time": 76.38967928,
            "remaining_time": 7.739923451,
            "test": [
             0.8378364701,
             0.375004977
            ]
           },
           {
            "iteration": 908,
            "learn": [
             0.9737721702,
             0.09752024619
            ],
            "passed_time": 76.48672156,
            "remaining_time": 7.657086537,
            "test": [
             0.8378364701,
             0.3756743498
            ]
           },
           {
            "iteration": 909,
            "learn": [
             0.9738056088,
             0.09747099701
            ],
            "passed_time": 76.56720653,
            "remaining_time": 7.572580866,
            "test": [
             0.8378364701,
             0.3754880111
            ]
           },
           {
            "iteration": 910,
            "learn": [
             0.974064351,
             0.09726227352
            ],
            "passed_time": 76.65654996,
            "remaining_time": 7.488949448,
            "test": [
             0.8378364701,
             0.3759314993
            ]
           },
           {
            "iteration": 911,
            "learn": [
             0.9743897615,
             0.09716336934
            ],
            "passed_time": 76.74722147,
            "remaining_time": 7.405433651,
            "test": [
             0.8378364701,
             0.3756509603
            ]
           },
           {
            "iteration": 912,
            "learn": [
             0.9743897615,
             0.09713032801
            ],
            "passed_time": 76.82775066,
            "remaining_time": 7.320935715,
            "test": [
             0.8378364701,
             0.3756269624
            ]
           },
           {
            "iteration": 913,
            "learn": [
             0.9743897615,
             0.09702902267
            ],
            "passed_time": 76.91473428,
            "remaining_time": 7.237053772,
            "test": [
             0.8394789141,
             0.3752664529
            ]
           },
           {
            "iteration": 914,
            "learn": [
             0.9743897615,
             0.09699509358
            ],
            "passed_time": 76.99359064,
            "remaining_time": 7.152410059,
            "test": [
             0.8394789141,
             0.3754822313
            ]
           },
           {
            "iteration": 915,
            "learn": [
             0.9743897615,
             0.09695154294
            ],
            "passed_time": 77.08335683,
            "remaining_time": 7.068779447,
            "test": [
             0.8393505804,
             0.3755052152
            ]
           },
           {
            "iteration": 916,
            "learn": [
             0.9743897615,
             0.09673455066
            ],
            "passed_time": 77.20130075,
            "remaining_time": 6.987685891,
            "test": [
             0.8393505804,
             0.3761074614
            ]
           },
           {
            "iteration": 917,
            "learn": [
             0.9743897615,
             0.09669189622
            ],
            "passed_time": 77.30232206,
            "remaining_time": 6.905000445,
            "test": [
             0.8393505804,
             0.3762469873
            ]
           },
           {
            "iteration": 918,
            "learn": [
             0.974781844,
             0.09665463595
            ],
            "passed_time": 77.3870572,
            "remaining_time": 6.820839644,
            "test": [
             0.8393505804,
             0.3764197047
            ]
           },
           {
            "iteration": 919,
            "learn": [
             0.974423199,
             0.09657404485
            ],
            "passed_time": 77.48072133,
            "remaining_time": 6.737454029,
            "test": [
             0.8393505804,
             0.3768150281
            ]
           },
           {
            "iteration": 920,
            "learn": [
             0.9748487315,
             0.09632769753
            ],
            "passed_time": 77.57112624,
            "remaining_time": 6.653766528,
            "test": [
             0.8379647732,
             0.3769219033
            ]
           },
           {
            "iteration": 921,
            "learn": [
             0.9748821787,
             0.09621963681
            ],
            "passed_time": 77.66527663,
            "remaining_time": 6.57038132,
            "test": [
             0.8380931157,
             0.377008431
            ]
           },
           {
            "iteration": 922,
            "learn": [
             0.9748487315,
             0.09615559174
            ],
            "passed_time": 77.74295725,
            "remaining_time": 6.485598817,
            "test": [
             0.8380931157,
             0.3770253309
            ]
           },
           {
            "iteration": 923,
            "learn": [
             0.9748487315,
             0.09610143879
            ],
            "passed_time": 77.82175348,
            "remaining_time": 6.400923447,
            "test": [
             0.8380931157,
             0.3772035239
            ]
           },
           {
            "iteration": 924,
            "learn": [
             0.9748821787,
             0.09596474168
            ],
            "passed_time": 77.89827267,
            "remaining_time": 6.316076162,
            "test": [
             0.8364458746,
             0.3773945946
            ]
           },
           {
            "iteration": 925,
            "learn": [
             0.9749156281,
             0.09586713109
            ],
            "passed_time": 77.98550091,
            "remaining_time": 6.232102665,
            "test": [
             0.8365741857,
             0.3773586991
            ]
           },
           {
            "iteration": 926,
            "learn": [
             0.9749490799,
             0.09583009064
            ],
            "passed_time": 78.0658628,
            "remaining_time": 6.147581428,
            "test": [
             0.8367025362,
             0.377056224
            ]
           },
           {
            "iteration": 927,
            "learn": [
             0.974982534,
             0.09577581932
            ],
            "passed_time": 78.14642772,
            "remaining_time": 6.063084909,
            "test": [
             0.8367025362,
             0.3768441298
            ]
           },
           {
            "iteration": 928,
            "learn": [
             0.9749490799,
             0.09569943871
            ],
            "passed_time": 78.25171975,
            "remaining_time": 5.980486654,
            "test": [
             0.8368309261,
             0.3770482472
            ]
           },
           {
            "iteration": 929,
            "learn": [
             0.9750159903,
             0.09555568185
            ],
            "passed_time": 78.35159235,
            "remaining_time": 5.897431682,
            "test": [
             0.8369593554,
             0.3774276847
            ]
           },
           {
            "iteration": 930,
            "learn": [
             0.9749490799,
             0.0954209378
            ],
            "passed_time": 78.44110783,
            "remaining_time": 5.813572975,
            "test": [
             0.8369593554,
             0.3770435152
            ]
           },
           {
            "iteration": 931,
            "learn": [
             0.9749490799,
             0.09536916065
            ],
            "passed_time": 78.51438638,
            "remaining_time": 5.728517461,
            "test": [
             0.8369593554,
             0.3769108507
            ]
           },
           {
            "iteration": 932,
            "learn": [
             0.974982534,
             0.09527157542
            ],
            "passed_time": 78.59766886,
            "remaining_time": 5.644205588,
            "test": [
             0.8368309261,
             0.3765993849
            ]
           },
           {
            "iteration": 933,
            "learn": [
             0.974982534,
             0.09525201102
            ],
            "passed_time": 78.67381546,
            "remaining_time": 5.55939167,
            "test": [
             0.8368309261,
             0.3764824035
            ]
           },
           {
            "iteration": 934,
            "learn": [
             0.9750159903,
             0.09510085622
            ],
            "passed_time": 78.75961083,
            "remaining_time": 5.475267063,
            "test": [
             0.8368309261,
             0.3771951077
            ]
           },
           {
            "iteration": 935,
            "learn": [
             0.9750159903,
             0.09501936046
            ],
            "passed_time": 78.84056879,
            "remaining_time": 5.390808123,
            "test": [
             0.8368309261,
             0.3774329236
            ]
           },
           {
            "iteration": 936,
            "learn": [
             0.975049449,
             0.09478639708
            ],
            "passed_time": 78.92339027,
            "remaining_time": 5.30648195,
            "test": [
             0.8383499185,
             0.3780595396
            ]
           },
           {
            "iteration": 937,
            "learn": [
             0.97508291,
             0.09475516507
            ],
            "passed_time": 79.00284943,
            "remaining_time": 5.221936743,
            "test": [
             0.8383499185,
             0.3779716937
            ]
           },
           {
            "iteration": 938,
            "learn": [
             0.9753744524,
             0.09463133616
            ],
            "passed_time": 79.0827116,
            "remaining_time": 5.137428549,
            "test": [
             0.8383499185,
             0.3781761491
            ]
           },
           {
            "iteration": 939,
            "learn": [
             0.9754413777,
             0.09449415713
            ],
            "passed_time": 79.18115389,
            "remaining_time": 5.054116206,
            "test": [
             0.8383499185,
             0.3789345846
            ]
           },
           {
            "iteration": 940,
            "learn": [
             0.9754748438,
             0.09444021554
            ],
            "passed_time": 79.28576595,
            "remaining_time": 4.971158545,
            "test": [
             0.8383499185,
             0.3789873462
            ]
           },
           {
            "iteration": 941,
            "learn": [
             0.9754748438,
             0.09437414979
            ],
            "passed_time": 79.38453931,
            "remaining_time": 4.887795414,
            "test": [
             0.8383499185,
             0.3790830675
            ]
           },
           {
            "iteration": 942,
            "learn": [
             0.9752167767,
             0.09428582256
            ],
            "passed_time": 79.4819684,
            "remaining_time": 4.804318345,
            "test": [
             0.8383499185,
             0.3788991961
            ]
           },
           {
            "iteration": 943,
            "learn": [
             0.9752167767,
             0.09422303726
            ],
            "passed_time": 79.56648898,
            "remaining_time": 4.720045957,
            "test": [
             0.8383499185,
             0.3791839263
            ]
           },
           {
            "iteration": 944,
            "learn": [
             0.9757661762,
             0.09404535131
            ],
            "passed_time": 79.66578786,
            "remaining_time": 4.636633156,
            "test": [
             0.8383499185,
             0.3794282318
            ]
           },
           {
            "iteration": 945,
            "learn": [
             0.9757661762,
             0.09401062747
            ],
            "passed_time": 79.75078749,
            "remaining_time": 4.552370533,
            "test": [
             0.8383499185,
             0.3796776749
            ]
           },
           {
            "iteration": 946,
            "learn": [
             0.9755752559,
             0.09389461925
            ],
            "passed_time": 79.84505658,
            "remaining_time": 4.468625131,
            "test": [
             0.838478379,
             0.3796367771
            ]
           },
           {
            "iteration": 947,
            "learn": [
             0.9756087311,
             0.09386445254
            ],
            "passed_time": 79.92782024,
            "remaining_time": 4.384226427,
            "test": [
             0.838478379,
             0.3797525754
            ]
           },
           {
            "iteration": 948,
            "learn": [
             0.9752837239,
             0.09375098921
            ],
            "passed_time": 80.0086034,
            "remaining_time": 4.299724735,
            "test": [
             0.8386068788,
             0.3796681771
            ]
           },
           {
            "iteration": 949,
            "learn": [
             0.9753506803,
             0.09366861416
            ],
            "passed_time": 80.08978522,
            "remaining_time": 4.215251853,
            "test": [
             0.8368309261,
             0.3796703741
            ]
           },
           {
            "iteration": 950,
            "learn": [
             0.9757426552,
             0.09360425626
            ],
            "passed_time": 80.17280626,
            "remaining_time": 4.130880659,
            "test": [
             0.8368309261,
             0.3795904712
            ]
           },
           {
            "iteration": 951,
            "learn": [
             0.975776142,
             0.09354071003
            ],
            "passed_time": 80.26699571,
            "remaining_time": 4.047075414,
            "test": [
             0.838478379,
             0.3797648786
            ]
           },
           {
            "iteration": 952,
            "learn": [
             0.975776142,
             0.09349911245
            ],
            "passed_time": 80.36943338,
            "remaining_time": 3.963655162,
            "test": [
             0.8386068788,
             0.3799656837
            ]
           },
           {
            "iteration": 953,
            "learn": [
             0.975876616,
             0.09334066961
            ],
            "passed_time": 80.50077571,
            "remaining_time": 3.881588766,
            "test": [
             0.8403783501,
             0.3802192165
            ]
           },
           {
            "iteration": 954,
            "learn": [
             0.9759436103,
             0.09328625456
            ],
            "passed_time": 80.58907192,
            "remaining_time": 3.797390823,
            "test": [
             0.8402497413,
             0.380201235
            ]
           },
           {
            "iteration": 955,
            "learn": [
             0.9759436103,
             0.09327755458
            ],
            "passed_time": 80.66541232,
            "remaining_time": 3.71263404,
            "test": [
             0.8402497413,
             0.3800702605
            ]
           },
           {
            "iteration": 956,
            "learn": [
             0.976335421,
             0.09314101811
            ],
            "passed_time": 80.76432937,
            "remaining_time": 3.628909261,
            "test": [
             0.8420166399,
             0.3809426691
            ]
           },
           {
            "iteration": 957,
            "learn": [
             0.976335421,
             0.09309384036
            ],
            "passed_time": 80.84192838,
            "remaining_time": 3.544218154,
            "test": [
             0.8420166399,
             0.3809961405
            ]
           },
           {
            "iteration": 958,
            "learn": [
             0.9767270371,
             0.09273765681
            ],
            "passed_time": 80.93320615,
            "remaining_time": 3.460126645,
            "test": [
             0.8403783501,
             0.3812237489
            ]
           },
           {
            "iteration": 959,
            "learn": [
             0.9767605479,
             0.09265172229
            ],
            "passed_time": 81.01825485,
            "remaining_time": 3.375760619,
            "test": [
             0.8402497413,
             0.3813258921
            ]
           },
           {
            "iteration": 960,
            "learn": [
             0.9767605479,
             0.09256302305
            ],
            "passed_time": 81.10410641,
            "remaining_time": 3.291425754,
            "test": [
             0.8401211718,
             0.3813878811
            ]
           },
           {
            "iteration": 961,
            "learn": [
             0.9767605479,
             0.09248274478
            ],
            "passed_time": 81.18450481,
            "remaining_time": 3.206872332,
            "test": [
             0.8403783501,
             0.3813878135
            ]
           },
           {
            "iteration": 962,
            "learn": [
             0.9767605479,
             0.09247293722
            ],
            "passed_time": 81.2661189,
            "remaining_time": 3.122374246,
            "test": [
             0.8402497413,
             0.3813902471
            ]
           },
           {
            "iteration": 963,
            "learn": [
             0.9768275764,
             0.09241568981
            ],
            "passed_time": 81.35593915,
            "remaining_time": 3.038188599,
            "test": [
             0.8403783501,
             0.3813915315
            ]
           },
           {
            "iteration": 964,
            "learn": [
             0.976861094,
             0.09234001095
            ],
            "passed_time": 81.43898253,
            "remaining_time": 2.95374548,
            "test": [
             0.8402497413,
             0.3815268662
            ]
           },
           {
            "iteration": 965,
            "learn": [
             0.976894614,
             0.09233536082
            ],
            "passed_time": 81.51268179,
            "remaining_time": 2.868976378,
            "test": [
             0.8402497413,
             0.3813970071
            ]
           },
           {
            "iteration": 966,
            "learn": [
             0.9768275764,
             0.09227282071
            ],
            "passed_time": 81.62092,
            "remaining_time": 2.785408852,
            "test": [
             0.8386068788,
             0.3818700702
            ]
           },
           {
            "iteration": 967,
            "learn": [
             0.9768275764,
             0.09227090147
            ],
            "passed_time": 81.69259641,
            "remaining_time": 2.7005817,
            "test": [
             0.8386068788,
             0.3818699688
            ]
           },
           {
            "iteration": 968,
            "learn": [
             0.976894614,
             0.09217966579
            ],
            "passed_time": 81.77622948,
            "remaining_time": 2.616164204,
            "test": [
             0.8386068788,
             0.3818856857
            ]
           },
           {
            "iteration": 969,
            "learn": [
             0.9769281363,
             0.09217150691
            ],
            "passed_time": 81.83895291,
            "remaining_time": 2.531101636,
            "test": [
             0.8386068788,
             0.3818229531
            ]
           },
           {
            "iteration": 970,
            "learn": [
             0.9769616609,
             0.09209893096
            ],
            "passed_time": 81.92107377,
            "remaining_time": 2.446664407,
            "test": [
             0.8386068788,
             0.3814462197
            ]
           },
           {
            "iteration": 971,
            "learn": [
             0.9769951878,
             0.09206214415
            ],
            "passed_time": 81.99160363,
            "remaining_time": 2.361898047,
            "test": [
             0.8386068788,
             0.3810439674
            ]
           },
           {
            "iteration": 972,
            "learn": [
             0.9769616609,
             0.09204130309
            ],
            "passed_time": 82.06456147,
            "remaining_time": 2.277228324,
            "test": [
             0.8386068788,
             0.3810302108
            ]
           },
           {
            "iteration": 973,
            "learn": [
             0.9769951878,
             0.09196597933
            ],
            "passed_time": 82.14369487,
            "remaining_time": 2.192747502,
            "test": [
             0.8386068788,
             0.3810156093
            ]
           },
           {
            "iteration": 974,
            "learn": [
             0.9769951878,
             0.09187547922
            ],
            "passed_time": 82.23721534,
            "remaining_time": 2.108646547,
            "test": [
             0.8386068788,
             0.3813286975
            ]
           },
           {
            "iteration": 975,
            "learn": [
             0.9773195884,
             0.09174250222
            ],
            "passed_time": 82.32354874,
            "remaining_time": 2.024349559,
            "test": [
             0.8387354181,
             0.3815501205
            ]
           },
           {
            "iteration": 976,
            "learn": [
             0.9770622485,
             0.09169565421
            ],
            "passed_time": 82.40573133,
            "remaining_time": 1.939950686,
            "test": [
             0.8387354181,
             0.3816235339
            ]
           },
           {
            "iteration": 977,
            "learn": [
             0.9770622485,
             0.09157765065
            ],
            "passed_time": 82.49475683,
            "remaining_time": 1.855710276,
            "test": [
             0.8386068788,
             0.3819489253
            ]
           },
           {
            "iteration": 978,
            "learn": [
             0.9770622485,
             0.09155501717
            ],
            "passed_time": 82.57663241,
            "remaining_time": 1.771306722,
            "test": [
             0.8386068788,
             0.3819704896
            ]
           },
           {
            "iteration": 979,
            "learn": [
             0.9770622485,
             0.09143922031
            ],
            "passed_time": 82.65377835,
            "remaining_time": 1.686811803,
            "test": [
             0.838478379,
             0.3821109281
            ]
           },
           {
            "iteration": 980,
            "learn": [
             0.9774537209,
             0.09111799733
            ],
            "passed_time": 82.77632477,
            "remaining_time": 1.603211183,
            "test": [
             0.8386068788,
             0.3829551138
            ]
           },
           {
            "iteration": 981,
            "learn": [
             0.9774537209,
             0.09109099272
            ],
            "passed_time": 82.8548296,
            "remaining_time": 1.518723964,
            "test": [
             0.8386068788,
             0.3829236799
            ]
           },
           {
            "iteration": 982,
            "learn": [
             0.9774537209,
             0.09100322351
            ],
            "passed_time": 82.94192324,
            "remaining_time": 1.434397452,
            "test": [
             0.8368309261,
             0.3833052806
            ]
           },
           {
            "iteration": 983,
            "learn": [
             0.9774201843,
             0.09091886158
            ],
            "passed_time": 83.02101508,
            "remaining_time": 1.349935205,
            "test": [
             0.8368309261,
             0.3835437049
            ]
           },
           {
            "iteration": 984,
            "learn": [
             0.9774201843,
             0.09087459228
            ],
            "passed_time": 83.10404291,
            "remaining_time": 1.265543801,
            "test": [
             0.8368309261,
             0.3837665475
            ]
           },
           {
            "iteration": 985,
            "learn": [
             0.9774537209,
             0.09072259199
            ],
            "passed_time": 83.18579068,
            "remaining_time": 1.181136987,
            "test": [
             0.8351787932,
             0.3839895253
            ]
           },
           {
            "iteration": 986,
            "learn": [
             0.9774872598,
             0.09062879451
            ],
            "passed_time": 83.28489786,
            "remaining_time": 1.096964207,
            "test": [
             0.8351787932,
             0.3842253808
            ]
           },
           {
            "iteration": 987,
            "learn": [
             0.9774537209,
             0.09043241502
            ],
            "passed_time": 83.3708715,
            "remaining_time": 1.012601678,
            "test": [
             0.8351787932,
             0.384511463
            ]
           },
           {
            "iteration": 988,
            "learn": [
             0.9771628568,
             0.09032322135
            ],
            "passed_time": 83.45166923,
            "remaining_time": 0.928178323,
            "test": [
             0.8351787932,
             0.3843441536
            ]
           },
           {
            "iteration": 989,
            "learn": [
             0.9771963974,
             0.09031239076
            ],
            "passed_time": 83.53584479,
            "remaining_time": 0.843796412,
            "test": [
             0.8351787932,
             0.3844011064
            ]
           },
           {
            "iteration": 990,
            "learn": [
             0.9772634858,
             0.09017772281
            ],
            "passed_time": 83.62421804,
            "remaining_time": 0.7594530397,
            "test": [
             0.8368309261,
             0.3845126798
            ]
           },
           {
            "iteration": 991,
            "learn": [
             0.9772970334,
             0.0900711755
            ],
            "passed_time": 83.71947576,
            "remaining_time": 0.6751570626,
            "test": [
             0.835307151,
             0.3845656104
            ]
           },
           {
            "iteration": 992,
            "learn": [
             0.9772970334,
             0.08995179381
            ],
            "passed_time": 83.82190328,
            "remaining_time": 0.5908895498,
            "test": [
             0.835307151,
             0.3847625285
            ]
           },
           {
            "iteration": 993,
            "learn": [
             0.9773305833,
             0.08989373474
            ],
            "passed_time": 83.92562251,
            "remaining_time": 0.5065932949,
            "test": [
             0.8336502458,
             0.3847498535
            ]
           },
           {
            "iteration": 994,
            "learn": [
             0.9772634858,
             0.08987023887
            ],
            "passed_time": 83.99961882,
            "remaining_time": 0.4221086373,
            "test": [
             0.8336502458,
             0.3849836473
            ]
           },
           {
            "iteration": 995,
            "learn": [
             0.9772970334,
             0.08975836504
            ],
            "passed_time": 84.07931535,
            "remaining_time": 0.3376679331,
            "test": [
             0.8336502458,
             0.3851994257
            ]
           },
           {
            "iteration": 996,
            "learn": [
             0.9773305833,
             0.08973590911
            ],
            "passed_time": 84.16736084,
            "remaining_time": 0.2532618681,
            "test": [
             0.8336502458,
             0.3854994334
            ]
           },
           {
            "iteration": 997,
            "learn": [
             0.9773305833,
             0.08966635997
            ],
            "passed_time": 84.26154513,
            "remaining_time": 0.1688608119,
            "test": [
             0.8336502458,
             0.3859108455
            ]
           },
           {
            "iteration": 998,
            "learn": [
             0.9773641355,
             0.08965121744
            ],
            "passed_time": 84.34675364,
            "remaining_time": 0.08443118482,
            "test": [
             0.8336502458,
             0.3859384938
            ]
           },
           {
            "iteration": 999,
            "learn": [
             0.9775319311,
             0.08958154994
            ],
            "passed_time": 84.42013156,
            "remaining_time": 0,
            "test": [
             0.8336502458,
             0.3858333086
            ]
           }
          ],
          "meta": {
           "iteration_count": 1000,
           "launch_mode": "Train",
           "learn_metrics": [
            {
             "best_value": "Max",
             "name": "F1"
            },
            {
             "best_value": "Min",
             "name": "Logloss"
            }
           ],
           "learn_sets": [
            "learn"
           ],
           "name": "experiment",
           "parameters": "",
           "test_metrics": [
            {
             "best_value": "Max",
             "name": "F1"
            },
            {
             "best_value": "Min",
             "name": "Logloss"
            }
           ],
           "test_sets": [
            "test"
           ]
          }
         },
         "passed_iterations": 999,
         "total_iterations": 1000
        },
        "name": "catboost_info",
        "path": "catboost_info"
       }
      },
      "layout": "IPY_MODEL_eeeb151b656b41ccb8898209b67357b8"
     }
    }
   }
  }
 },
 "nbformat": 4,
 "nbformat_minor": 5
}
