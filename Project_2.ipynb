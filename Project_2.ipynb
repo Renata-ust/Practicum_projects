{
 "cells": [
  {
   "cell_type": "markdown",
   "metadata": {},
   "source": [
    "# Исследование надёжности заёмщиков\n",
    "__________\n"
   ]
  },
  {
   "cell_type": "markdown",
   "metadata": {
    "toc": true
   },
   "source": [
    "<h1>Содержание<span class=\"tocSkip\"></span></h1>\n",
    "<div class=\"toc\"><ul class=\"toc-item\"><li><span><a href=\"#Описание-исследования\" data-toc-modified-id=\"Описание-исследования-1\"><span class=\"toc-item-num\">1&nbsp;&nbsp;</span>Описание исследования</a></span><ul class=\"toc-item\"><li><span><a href=\"#Цель-исследования\" data-toc-modified-id=\"Цель-исследования-1.1\"><span class=\"toc-item-num\">1.1&nbsp;&nbsp;</span>Цель исследования</a></span></li><li><span><a href=\"#Задачи-исследования\" data-toc-modified-id=\"Задачи-исследования-1.2\"><span class=\"toc-item-num\">1.2&nbsp;&nbsp;</span>Задачи исследования</a></span></li></ul></li><li><span><a href=\"#Изучение-входных-данных\" data-toc-modified-id=\"Изучение-входных-данных-2\"><span class=\"toc-item-num\">2&nbsp;&nbsp;</span>Изучение входных данных</a></span><ul class=\"toc-item\"><li><span><a href=\"#Вывод\" data-toc-modified-id=\"Вывод-2.1\"><span class=\"toc-item-num\">2.1&nbsp;&nbsp;</span>Вывод</a></span></li></ul></li><li><span><a href=\"#Предобработка-данных\" data-toc-modified-id=\"Предобработка-данных-3\"><span class=\"toc-item-num\">3&nbsp;&nbsp;</span>Предобработка данных</a></span><ul class=\"toc-item\"><li><span><a href=\"#Устранение-аномальных-значений\" data-toc-modified-id=\"Устранение-аномальных-значений-3.1\"><span class=\"toc-item-num\">3.1&nbsp;&nbsp;</span>Устранение аномальных значений</a></span><ul class=\"toc-item\"><li><span><a href=\"#Вывод\" data-toc-modified-id=\"Вывод-3.1.1\"><span class=\"toc-item-num\">3.1.1&nbsp;&nbsp;</span>Вывод</a></span></li></ul></li><li><span><a href=\"#Обработка-дубликатов\" data-toc-modified-id=\"Обработка-дубликатов-3.2\"><span class=\"toc-item-num\">3.2&nbsp;&nbsp;</span>Обработка дубликатов</a></span><ul class=\"toc-item\"><li><span><a href=\"#Вывод\" data-toc-modified-id=\"Вывод-3.2.1\"><span class=\"toc-item-num\">3.2.1&nbsp;&nbsp;</span>Вывод</a></span></li></ul></li><li><span><a href=\"#Обработка-пропусков\" data-toc-modified-id=\"Обработка-пропусков-3.3\"><span class=\"toc-item-num\">3.3&nbsp;&nbsp;</span>Обработка пропусков</a></span><ul class=\"toc-item\"><li><span><a href=\"#Вывод\" data-toc-modified-id=\"Вывод-3.3.1\"><span class=\"toc-item-num\">3.3.1&nbsp;&nbsp;</span>Вывод</a></span></li></ul></li><li><span><a href=\"#Замена-типа-данных\" data-toc-modified-id=\"Замена-типа-данных-3.4\"><span class=\"toc-item-num\">3.4&nbsp;&nbsp;</span>Замена типа данных</a></span><ul class=\"toc-item\"><li><span><a href=\"#Вывод\" data-toc-modified-id=\"Вывод-3.4.1\"><span class=\"toc-item-num\">3.4.1&nbsp;&nbsp;</span>Вывод</a></span></li></ul></li><li><span><a href=\"#Лемматизация\" data-toc-modified-id=\"Лемматизация-3.5\"><span class=\"toc-item-num\">3.5&nbsp;&nbsp;</span>Лемматизация</a></span><ul class=\"toc-item\"><li><span><a href=\"#Вывод\" data-toc-modified-id=\"Вывод-3.5.1\"><span class=\"toc-item-num\">3.5.1&nbsp;&nbsp;</span>Вывод</a></span></li></ul></li><li><span><a href=\"#Категоризация-данных\" data-toc-modified-id=\"Категоризация-данных-3.6\"><span class=\"toc-item-num\">3.6&nbsp;&nbsp;</span>Категоризация данных</a></span><ul class=\"toc-item\"><li><span><a href=\"#Вывод\" data-toc-modified-id=\"Вывод-3.6.1\"><span class=\"toc-item-num\">3.6.1&nbsp;&nbsp;</span>Вывод</a></span></li></ul></li></ul></li><li><span><a href=\"#Анализ-данных\" data-toc-modified-id=\"Анализ-данных-4\"><span class=\"toc-item-num\">4&nbsp;&nbsp;</span>Анализ данных</a></span><ul class=\"toc-item\"><li><span><a href=\"#Есть-ли-зависимость-между-наличием-детей-и-возвратом-кредита-в-срок?\" data-toc-modified-id=\"Есть-ли-зависимость-между-наличием-детей-и-возвратом-кредита-в-срок?-4.1\"><span class=\"toc-item-num\">4.1&nbsp;&nbsp;</span><strong>Есть ли зависимость между наличием детей и возвратом кредита в срок?</strong></a></span><ul class=\"toc-item\"><li><span><a href=\"#Вывод\" data-toc-modified-id=\"Вывод-4.1.1\"><span class=\"toc-item-num\">4.1.1&nbsp;&nbsp;</span>Вывод</a></span></li></ul></li><li><span><a href=\"#Есть-ли-зависимость-между-семейным-положением-и-возвратом-кредита-в-срок?\" data-toc-modified-id=\"Есть-ли-зависимость-между-семейным-положением-и-возвратом-кредита-в-срок?-4.2\"><span class=\"toc-item-num\">4.2&nbsp;&nbsp;</span><strong>Есть ли зависимость между семейным положением и возвратом кредита в срок?</strong></a></span><ul class=\"toc-item\"><li><span><a href=\"#Вывод\" data-toc-modified-id=\"Вывод-4.2.1\"><span class=\"toc-item-num\">4.2.1&nbsp;&nbsp;</span>Вывод</a></span></li></ul></li><li><span><a href=\"#Есть-ли-зависимость-между-уровнем-дохода-и-возвратом-кредита-в-срок?\" data-toc-modified-id=\"Есть-ли-зависимость-между-уровнем-дохода-и-возвратом-кредита-в-срок?-4.3\"><span class=\"toc-item-num\">4.3&nbsp;&nbsp;</span><strong>Есть ли зависимость между уровнем дохода и возвратом кредита в срок?</strong></a></span><ul class=\"toc-item\"><li><span><a href=\"#Вывод\" data-toc-modified-id=\"Вывод-4.3.1\"><span class=\"toc-item-num\">4.3.1&nbsp;&nbsp;</span>Вывод</a></span></li></ul></li><li><span><a href=\"#Как-разные-цели-кредита-влияют-на-его-возврат-в-срок?\" data-toc-modified-id=\"Как-разные-цели-кредита-влияют-на-его-возврат-в-срок?-4.4\"><span class=\"toc-item-num\">4.4&nbsp;&nbsp;</span><strong>Как разные цели кредита влияют на его возврат в срок?</strong></a></span><ul class=\"toc-item\"><li><span><a href=\"#Вывод\" data-toc-modified-id=\"Вывод-4.4.1\"><span class=\"toc-item-num\">4.4.1&nbsp;&nbsp;</span>Вывод</a></span></li></ul></li></ul></li><li><span><a href=\"#Общий-вывод\" data-toc-modified-id=\"Общий-вывод-5\"><span class=\"toc-item-num\">5&nbsp;&nbsp;</span>Общий вывод</a></span></li></ul></div>"
   ]
  },
  {
   "cell_type": "markdown",
   "metadata": {},
   "source": [
    "## Описание исследования\n",
    "\n",
    "Заказчик — кредитный отдел банка. В качестве входных данных предоставлены данные о платежеспособности клиентов.  \n",
    "Провести исследование, результаты которого будут учтены при построении модели **кредитного скоринга** — специальной системы, которая оценивает способность потенциального заёмщика вернуть кредит банку.\n",
    "\n",
    "### Цель исследования\n",
    "\n",
    "Определить, влияет ли семейное положение и количество детей клиента на факт погашения кредита в срок по статистике о платёжеспособности клиентов для построения в дальнейшем модели кредитного скоринга.\n",
    "\n",
    "\n",
    "### Задачи исследования\n",
    "\n",
    "1. Изучить входные данные.\n",
    "\n",
    "\n",
    "2. Произвести подготовку данных:\n",
    "\n",
    "   - Определить и заполнить пропущенные значения;\n",
    "   - Изменить типы данных там, где это необходимо;\n",
    "   - Проверить данные на наличие дубликатов и обработать их;\n",
    "   - Выделить леммы в значениях столбца с целями получения кредита;\n",
    "   - Произвести категоризацию данных.\n",
    "   \n",
    " \n",
    "3. Произвести анализ данных и ответить на следующие вопросы:\n",
    "   - Есть ли зависимость между наличием детей и возвратом кредита в срок?\n",
    "   - Есть ли зависимость между семейным положением и возвратом кредита в срок?\n",
    "   - Есть ли зависимость между уровнем дохода и возвратом кредита в срок?\n",
    "   - Как разные цели кредита влияют на его возврат в срок?\n",
    "\n",
    "\n",
    "4. Сформировать выводы по итогам исследования. "
   ]
  },
  {
   "cell_type": "markdown",
   "metadata": {},
   "source": [
    "##  Изучение входных данных"
   ]
  },
  {
   "cell_type": "markdown",
   "metadata": {},
   "source": [
    "Для начала импортируем необходимые для работы библиотеки.\n",
    "\n",
    "Для получения общей информации о данных вызовем метод `info()` и выведем первые 10 строк для ознакомления с таблицей."
   ]
  },
  {
   "cell_type": "code",
   "execution_count": 316,
   "metadata": {},
   "outputs": [],
   "source": [
    "import pandas as pd\n",
    "\n",
    "import matplotlib.pyplot as plt\n",
    "import seaborn as sns\n",
    "from pymystem3 import Mystem\n",
    "\n",
    "\n",
    "pd.options.mode.chained_assignment = None"
   ]
  },
  {
   "cell_type": "code",
   "execution_count": 317,
   "metadata": {},
   "outputs": [
    {
     "name": "stdout",
     "output_type": "stream",
     "text": [
      "<class 'pandas.core.frame.DataFrame'>\n",
      "RangeIndex: 21525 entries, 0 to 21524\n",
      "Data columns (total 12 columns):\n",
      " #   Column            Non-Null Count  Dtype  \n",
      "---  ------            --------------  -----  \n",
      " 0   children          21525 non-null  int64  \n",
      " 1   days_employed     19351 non-null  float64\n",
      " 2   dob_years         21525 non-null  int64  \n",
      " 3   education         21525 non-null  object \n",
      " 4   education_id      21525 non-null  int64  \n",
      " 5   family_status     21525 non-null  object \n",
      " 6   family_status_id  21525 non-null  int64  \n",
      " 7   gender            21525 non-null  object \n",
      " 8   income_type       21525 non-null  object \n",
      " 9   debt              21525 non-null  int64  \n",
      " 10  total_income      19351 non-null  float64\n",
      " 11  purpose           21525 non-null  object \n",
      "dtypes: float64(2), int64(5), object(5)\n",
      "memory usage: 2.0+ MB\n"
     ]
    },
    {
     "data": {
      "text/plain": [
       "None"
      ]
     },
     "metadata": {},
     "output_type": "display_data"
    },
    {
     "data": {
      "text/html": [
       "<div>\n",
       "<style scoped>\n",
       "    .dataframe tbody tr th:only-of-type {\n",
       "        vertical-align: middle;\n",
       "    }\n",
       "\n",
       "    .dataframe tbody tr th {\n",
       "        vertical-align: top;\n",
       "    }\n",
       "\n",
       "    .dataframe thead th {\n",
       "        text-align: right;\n",
       "    }\n",
       "</style>\n",
       "<table border=\"1\" class=\"dataframe\">\n",
       "  <thead>\n",
       "    <tr style=\"text-align: right;\">\n",
       "      <th></th>\n",
       "      <th>children</th>\n",
       "      <th>days_employed</th>\n",
       "      <th>dob_years</th>\n",
       "      <th>education</th>\n",
       "      <th>education_id</th>\n",
       "      <th>family_status</th>\n",
       "      <th>family_status_id</th>\n",
       "      <th>gender</th>\n",
       "      <th>income_type</th>\n",
       "      <th>debt</th>\n",
       "      <th>total_income</th>\n",
       "      <th>purpose</th>\n",
       "    </tr>\n",
       "  </thead>\n",
       "  <tbody>\n",
       "    <tr>\n",
       "      <th>0</th>\n",
       "      <td>1</td>\n",
       "      <td>-8437.673028</td>\n",
       "      <td>42</td>\n",
       "      <td>высшее</td>\n",
       "      <td>0</td>\n",
       "      <td>женат / замужем</td>\n",
       "      <td>0</td>\n",
       "      <td>F</td>\n",
       "      <td>сотрудник</td>\n",
       "      <td>0</td>\n",
       "      <td>253875.639453</td>\n",
       "      <td>покупка жилья</td>\n",
       "    </tr>\n",
       "    <tr>\n",
       "      <th>1</th>\n",
       "      <td>1</td>\n",
       "      <td>-4024.803754</td>\n",
       "      <td>36</td>\n",
       "      <td>среднее</td>\n",
       "      <td>1</td>\n",
       "      <td>женат / замужем</td>\n",
       "      <td>0</td>\n",
       "      <td>F</td>\n",
       "      <td>сотрудник</td>\n",
       "      <td>0</td>\n",
       "      <td>112080.014102</td>\n",
       "      <td>приобретение автомобиля</td>\n",
       "    </tr>\n",
       "    <tr>\n",
       "      <th>2</th>\n",
       "      <td>0</td>\n",
       "      <td>-5623.422610</td>\n",
       "      <td>33</td>\n",
       "      <td>Среднее</td>\n",
       "      <td>1</td>\n",
       "      <td>женат / замужем</td>\n",
       "      <td>0</td>\n",
       "      <td>M</td>\n",
       "      <td>сотрудник</td>\n",
       "      <td>0</td>\n",
       "      <td>145885.952297</td>\n",
       "      <td>покупка жилья</td>\n",
       "    </tr>\n",
       "    <tr>\n",
       "      <th>3</th>\n",
       "      <td>3</td>\n",
       "      <td>-4124.747207</td>\n",
       "      <td>32</td>\n",
       "      <td>среднее</td>\n",
       "      <td>1</td>\n",
       "      <td>женат / замужем</td>\n",
       "      <td>0</td>\n",
       "      <td>M</td>\n",
       "      <td>сотрудник</td>\n",
       "      <td>0</td>\n",
       "      <td>267628.550329</td>\n",
       "      <td>дополнительное образование</td>\n",
       "    </tr>\n",
       "    <tr>\n",
       "      <th>4</th>\n",
       "      <td>0</td>\n",
       "      <td>340266.072047</td>\n",
       "      <td>53</td>\n",
       "      <td>среднее</td>\n",
       "      <td>1</td>\n",
       "      <td>гражданский брак</td>\n",
       "      <td>1</td>\n",
       "      <td>F</td>\n",
       "      <td>пенсионер</td>\n",
       "      <td>0</td>\n",
       "      <td>158616.077870</td>\n",
       "      <td>сыграть свадьбу</td>\n",
       "    </tr>\n",
       "    <tr>\n",
       "      <th>5</th>\n",
       "      <td>0</td>\n",
       "      <td>-926.185831</td>\n",
       "      <td>27</td>\n",
       "      <td>высшее</td>\n",
       "      <td>0</td>\n",
       "      <td>гражданский брак</td>\n",
       "      <td>1</td>\n",
       "      <td>M</td>\n",
       "      <td>компаньон</td>\n",
       "      <td>0</td>\n",
       "      <td>255763.565419</td>\n",
       "      <td>покупка жилья</td>\n",
       "    </tr>\n",
       "    <tr>\n",
       "      <th>6</th>\n",
       "      <td>0</td>\n",
       "      <td>-2879.202052</td>\n",
       "      <td>43</td>\n",
       "      <td>высшее</td>\n",
       "      <td>0</td>\n",
       "      <td>женат / замужем</td>\n",
       "      <td>0</td>\n",
       "      <td>F</td>\n",
       "      <td>компаньон</td>\n",
       "      <td>0</td>\n",
       "      <td>240525.971920</td>\n",
       "      <td>операции с жильем</td>\n",
       "    </tr>\n",
       "    <tr>\n",
       "      <th>7</th>\n",
       "      <td>0</td>\n",
       "      <td>-152.779569</td>\n",
       "      <td>50</td>\n",
       "      <td>СРЕДНЕЕ</td>\n",
       "      <td>1</td>\n",
       "      <td>женат / замужем</td>\n",
       "      <td>0</td>\n",
       "      <td>M</td>\n",
       "      <td>сотрудник</td>\n",
       "      <td>0</td>\n",
       "      <td>135823.934197</td>\n",
       "      <td>образование</td>\n",
       "    </tr>\n",
       "    <tr>\n",
       "      <th>8</th>\n",
       "      <td>2</td>\n",
       "      <td>-6929.865299</td>\n",
       "      <td>35</td>\n",
       "      <td>ВЫСШЕЕ</td>\n",
       "      <td>0</td>\n",
       "      <td>гражданский брак</td>\n",
       "      <td>1</td>\n",
       "      <td>F</td>\n",
       "      <td>сотрудник</td>\n",
       "      <td>0</td>\n",
       "      <td>95856.832424</td>\n",
       "      <td>на проведение свадьбы</td>\n",
       "    </tr>\n",
       "    <tr>\n",
       "      <th>9</th>\n",
       "      <td>0</td>\n",
       "      <td>-2188.756445</td>\n",
       "      <td>41</td>\n",
       "      <td>среднее</td>\n",
       "      <td>1</td>\n",
       "      <td>женат / замужем</td>\n",
       "      <td>0</td>\n",
       "      <td>M</td>\n",
       "      <td>сотрудник</td>\n",
       "      <td>0</td>\n",
       "      <td>144425.938277</td>\n",
       "      <td>покупка жилья для семьи</td>\n",
       "    </tr>\n",
       "  </tbody>\n",
       "</table>\n",
       "</div>"
      ],
      "text/plain": [
       "   children  days_employed  dob_years education  education_id  \\\n",
       "0         1   -8437.673028         42    высшее             0   \n",
       "1         1   -4024.803754         36   среднее             1   \n",
       "2         0   -5623.422610         33   Среднее             1   \n",
       "3         3   -4124.747207         32   среднее             1   \n",
       "4         0  340266.072047         53   среднее             1   \n",
       "5         0    -926.185831         27    высшее             0   \n",
       "6         0   -2879.202052         43    высшее             0   \n",
       "7         0    -152.779569         50   СРЕДНЕЕ             1   \n",
       "8         2   -6929.865299         35    ВЫСШЕЕ             0   \n",
       "9         0   -2188.756445         41   среднее             1   \n",
       "\n",
       "      family_status  family_status_id gender income_type  debt   total_income  \\\n",
       "0   женат / замужем                 0      F   сотрудник     0  253875.639453   \n",
       "1   женат / замужем                 0      F   сотрудник     0  112080.014102   \n",
       "2   женат / замужем                 0      M   сотрудник     0  145885.952297   \n",
       "3   женат / замужем                 0      M   сотрудник     0  267628.550329   \n",
       "4  гражданский брак                 1      F   пенсионер     0  158616.077870   \n",
       "5  гражданский брак                 1      M   компаньон     0  255763.565419   \n",
       "6   женат / замужем                 0      F   компаньон     0  240525.971920   \n",
       "7   женат / замужем                 0      M   сотрудник     0  135823.934197   \n",
       "8  гражданский брак                 1      F   сотрудник     0   95856.832424   \n",
       "9   женат / замужем                 0      M   сотрудник     0  144425.938277   \n",
       "\n",
       "                      purpose  \n",
       "0               покупка жилья  \n",
       "1     приобретение автомобиля  \n",
       "2               покупка жилья  \n",
       "3  дополнительное образование  \n",
       "4             сыграть свадьбу  \n",
       "5               покупка жилья  \n",
       "6           операции с жильем  \n",
       "7                 образование  \n",
       "8       на проведение свадьбы  \n",
       "9     покупка жилья для семьи  "
      ]
     },
     "metadata": {},
     "output_type": "display_data"
    }
   ],
   "source": [
    "df = pd.read_csv('/datasets/data.csv')       \n",
    "\n",
    "display(df.info())                           \n",
    "display(df.head(10))                         "
   ]
  },
  {
   "cell_type": "markdown",
   "metadata": {},
   "source": [
    "Далее выведем уникальные значения, содержащиеся в каждом столбце, для поиска аномалий.\n",
    "Для этого используем цикл и метод `value_counts()`, подсчитывающий уникальные значения."
   ]
  },
  {
   "cell_type": "code",
   "execution_count": 318,
   "metadata": {
    "scrolled": false
   },
   "outputs": [
    {
     "name": "stdout",
     "output_type": "stream",
     "text": [
      "\u001b[31mchildren\n",
      "\u001b[0m 5         9\n",
      " 4        41\n",
      "-1        47\n",
      " 20       76\n",
      " 3       330\n",
      " 2      2055\n",
      " 1      4818\n",
      " 0     14149\n",
      "Name: children, dtype: int64\n",
      "\n",
      "\u001b[31meducation\n",
      "\u001b[0mУченая степень             1\n",
      "УЧЕНАЯ СТЕПЕНЬ             1\n",
      "ученая степень             4\n",
      "Начальное                 15\n",
      "НАЧАЛЬНОЕ                 17\n",
      "НЕОКОНЧЕННОЕ ВЫСШЕЕ       29\n",
      "Неоконченное высшее       47\n",
      "начальное                250\n",
      "Высшее                   268\n",
      "ВЫСШЕЕ                   274\n",
      "неоконченное высшее      668\n",
      "Среднее                  711\n",
      "СРЕДНЕЕ                  772\n",
      "высшее                  4718\n",
      "среднее                13750\n",
      "Name: education, dtype: int64\n",
      "\n",
      "\u001b[31meducation_id\n",
      "\u001b[0m4        6\n",
      "3      282\n",
      "2      744\n",
      "0     5260\n",
      "1    15233\n",
      "Name: education_id, dtype: int64\n",
      "\n",
      "\u001b[31mfamily_status\n",
      "\u001b[0mвдовец / вдова             960\n",
      "в разводе                 1195\n",
      "Не женат / не замужем     2813\n",
      "гражданский брак          4177\n",
      "женат / замужем          12380\n",
      "Name: family_status, dtype: int64\n",
      "\n",
      "\u001b[31mfamily_status_id\n",
      "\u001b[0m2      960\n",
      "3     1195\n",
      "4     2813\n",
      "1     4177\n",
      "0    12380\n",
      "Name: family_status_id, dtype: int64\n",
      "\n",
      "\u001b[31mgender\n",
      "\u001b[0mXNA        1\n",
      "M       7288\n",
      "F      14236\n",
      "Name: gender, dtype: int64\n",
      "\n",
      "\u001b[31mincome_type\n",
      "\u001b[0mстудент                1\n",
      "в декрете              1\n",
      "безработный            2\n",
      "предприниматель        2\n",
      "госслужащий         1459\n",
      "пенсионер           3856\n",
      "компаньон           5085\n",
      "сотрудник          11119\n",
      "Name: income_type, dtype: int64\n",
      "\n",
      "\u001b[31mdebt\n",
      "\u001b[0m1     1741\n",
      "0    19784\n",
      "Name: debt, dtype: int64\n",
      "\n",
      "\u001b[31mpurpose\n",
      "\u001b[0mзаняться образованием                     412\n",
      "получение высшего образования             426\n",
      "профильное образование                    436\n",
      "получение образования                     443\n",
      "образование                               447\n",
      "получение дополнительного образования     447\n",
      "высшее образование                        453\n",
      "сделка с автомобилем                      455\n",
      "приобретение автомобиля                   462\n",
      "дополнительное образование                462\n",
      "на покупку автомобиля                     472\n",
      "автомобили                                478\n",
      "на покупку подержанного автомобиля        479\n",
      "свой автомобиль                           480\n",
      "сделка с подержанным автомобилем          489\n",
      "автомобиль                                495\n",
      "заняться высшим образованием              496\n",
      "на покупку своего автомобиля              505\n",
      "покупка жилой недвижимости                607\n",
      "ремонт жилью                              612\n",
      "строительство недвижимости                620\n",
      "покупка своего жилья                      620\n",
      "покупка недвижимости                      624\n",
      "строительство жилой недвижимости          626\n",
      "операции со своей недвижимостью           630\n",
      "недвижимость                              634\n",
      "строительство собственной недвижимости    635\n",
      "покупка жилья для семьи                   641\n",
      "покупка жилья                             647\n",
      "жилье                                     647\n",
      "операции с коммерческой недвижимостью     651\n",
      "операции с жильем                         653\n",
      "покупка жилья для сдачи                   653\n",
      "покупка коммерческой недвижимости         664\n",
      "операции с недвижимостью                  676\n",
      "сыграть свадьбу                           774\n",
      "на проведение свадьбы                     777\n",
      "свадьба                                   797\n",
      "Name: purpose, dtype: int64\n",
      "\n"
     ]
    }
   ],
   "source": [
    "columns = [\n",
    "    'children',\n",
    "    'education',\n",
    "    'education_id',\n",
    "    'family_status',\n",
    "    'family_status_id',\n",
    "    'gender',\n",
    "    'income_type',\n",
    "    'debt',\n",
    "    'purpose'\n",
    "]\n",
    "\n",
    "for column in columns:                                        \n",
    "    print('\\033[31m{}'.format(column),'\\n',\n",
    "          '\\033[0m', df[column].value_counts().sort_values(),\n",
    "         '\\n', sep='')                                                            "
   ]
  },
  {
   "cell_type": "code",
   "execution_count": 319,
   "metadata": {},
   "outputs": [
    {
     "data": {
      "text/plain": [
       "Text(0.5, 0, 'Трудовой стаж в днях')"
      ]
     },
     "execution_count": 319,
     "metadata": {},
     "output_type": "execute_result"
    },
    {
     "data": {
      "image/png": "[encoded data removed]",
      "text/plain": [
       "<Figure size 432x288 with 1 Axes>"
      ]
     },
     "metadata": {
      "needs_background": "light"
     },
     "output_type": "display_data"
    }
   ],
   "source": [
    "df['days_employed'].hist(bins=100)\n",
    "plt.title('Распределение значений трудового стажа клиентов')\n",
    "plt.xlabel('Трудовой стаж в днях')"
   ]
  },
  {
   "cell_type": "code",
   "execution_count": 320,
   "metadata": {},
   "outputs": [
    {
     "data": {
      "text/plain": [
       "Text(0.5, 0, 'Возраст клиента в годах')"
      ]
     },
     "execution_count": 320,
     "metadata": {},
     "output_type": "execute_result"
    },
    {
     "data": {
      "image/png": "[encoded data removed]",
      "text/plain": [
       "<Figure size 432x288 with 1 Axes>"
      ]
     },
     "metadata": {
      "needs_background": "light"
     },
     "output_type": "display_data"
    }
   ],
   "source": [
    "df['dob_years'].hist(bins=30)\n",
    "plt.title('Распределение значений возраста клиентов')\n",
    "plt.xlabel('Возраст клиента в годах')"
   ]
  },
  {
   "cell_type": "markdown",
   "metadata": {},
   "source": [
    "### Вывод"
   ]
  },
  {
   "cell_type": "markdown",
   "metadata": {},
   "source": [
    "1) Итак, в таблице двенадцать столбцов. Типы данных в стобцах встречаются трех видов:\n",
    "* `object` - текст;\n",
    "* `int64` - целочисленные значения;\n",
    "* `float64` - вещественные значения.\n",
    "\n",
    "2) Согласно документации к данным:\n",
    "\n",
    "* `children` — количество детей в семье;\n",
    "* `days_employed` — общий трудовой стаж в днях;\n",
    "* `dob_years` — возраст клиента в годах;\n",
    "* `education` — уровень образования клиента;\n",
    "* `education_id` — идентификатор уровня образования;\n",
    "* `family_status` — семейное положение;\n",
    "* `family_status_id` — идентификатор семейного положения;\n",
    "* `gender` — пол клиента;\n",
    "* `income_type` — тип занятости;\n",
    "* `debt` — имел ли задолженность по возврату кредитов;\n",
    "* `total_income` — ежемесячный доход;\n",
    "* `purpose` — цель получения кредита.\n",
    "\n",
    "3) Колонки `education`/`education_id` и `family_status`/`family_status_id` несут в себе одну и ту же информацию, записанную в различных видах. Эта информация понадобится нам для проверки гипотез. Проводить анализ будет проще, работая с целочисленными значениями, поэтому в дальнейшем будем обращаться к колонкам с информацией об идентификаторах уровня образования и семейного положения.\n",
    "\n",
    "4) Из общей информации о таблице видно, что всего по каждой колонке представлено **21525** значений, однако в столбцах `days_employed` и `total_income` значений всего **19351**, значит, в данных имеются пропуски.\n",
    "\n",
    "5) **Найдены аномальные значения:**\n",
    "- В стобце `children`: в **76** семьях встречается по `20` детей,а в **47** семьях - по `-1` ребенку. \n",
    "Скорее всего ошибка здесь вызвана человеческим фактором: вместо `20` детей планировалось записать `2` ребенка, а вместо `-1`  -  `1`.\n",
    "- В столбце `days_employed`: общий трудовой стаж имеет отрицательные значения.\n",
    "Похоже, что при подсчете стажа вычиталось большее значение из меньшего. Такая ошибка решается, если взять модуль числа. \n",
    "А для части пенсионеров, у которых трудовой стаж отображается положительным и составляет более 1000 лет, скорректируем значения, поделив их на **24**, так как похоже, что данные представлены не в днях, а в часах.\n",
    "- В столбце `dob_years`: встречается возраст клиента `0`лет, похоже, что в этих случаях информацию просто не внесли.\n",
    "- В столбце `gender` в 1 ячеейке неверно отображается пол клиента - `XNA`. \n",
    "Учитывая количество последних двух аномальных значений, их можно удалить.\n",
    "\n",
    "Исходя из того, что у нас есть 4 определенные гипотезы для их проверки, нам понадобятся только данные о наличии детей, семейном статусе, доходе, цели на получение кредита и наличия задолженностей по кредиту, то столбцы `days_employed`, `dob_years` и `gender` можно отбросить.\n",
    " \n",
    "6) Предварительно можно утверждать, что, данных достаточно для проверки гипотез. Но чтобы двигаться дальше, нужно устранить проблемы в данных, то есть выполнить их предобработку."
   ]
  },
  {
   "cell_type": "markdown",
   "metadata": {},
   "source": [
    "## Предобработка данных"
   ]
  },
  {
   "cell_type": "markdown",
   "metadata": {},
   "source": [
    "### Устранение аномальных значений\n",
    "\n",
    "Далее разберемся со столбцами, в которых нам встретились артефакты.\n",
    "Исходя из тех выводов, которые были получены в 1 пункте корректируем аномальные значения за 4 шага:\n"
   ]
  },
  {
   "cell_type": "markdown",
   "metadata": {},
   "source": [
    "1) В стобце `children`: ***20*** детей меняем на ***2*** ребенка, а ***-1*** на ***1***. \n",
    "\n",
    "Создаем функцию `child_count` и применяем ее к датасету:"
   ]
  },
  {
   "cell_type": "code",
   "execution_count": 321,
   "metadata": {},
   "outputs": [
    {
     "name": "stdout",
     "output_type": "stream",
     "text": [
      "Кол-во детей: [1 0 3 2 4 5]\n"
     ]
    }
   ],
   "source": [
    "def child_count(row):                                        \n",
    "    children = row['children']\n",
    "    \n",
    "    if children == 20:\n",
    "        children = 2 \n",
    "          \n",
    "    elif children == (-1):\n",
    "        children = 1   \n",
    "     \n",
    "    return children\n",
    "\n",
    "df['children'] = df.apply(child_count, axis = 1)            \n",
    "\n",
    "print('Кол-во детей:', df['children'].unique())            "
   ]
  },
  {
   "cell_type": "markdown",
   "metadata": {},
   "source": [
    "Как видно, значения ***-1*** и ***20*** были успешно исправлены, информация о количестве детей отображается корректно."
   ]
  },
  {
   "cell_type": "markdown",
   "metadata": {},
   "source": [
    "2) В столбце `days_employed`: для подсчета общего трудового стажа считаем модуль представленного значения, а положительные значения стажа, представленные в часах, делим на 24, чтобы привести их из часов к дням. \n",
    "\n",
    "Создаем функцию `employment` и применяем ее к датасету:"
   ]
  },
  {
   "cell_type": "code",
   "execution_count": 322,
   "metadata": {},
   "outputs": [],
   "source": [
    "def employment(row):    \n",
    "    days_employed = row['days_employed']\n",
    "    \n",
    "    if days_employed < 0:\n",
    "        days_employed = abs(days_employed) \n",
    "          \n",
    "    elif days_employed > 0:\n",
    "        days_employed = days_employed/24   \n",
    "     \n",
    "    return days_employed"
   ]
  },
  {
   "cell_type": "code",
   "execution_count": 323,
   "metadata": {},
   "outputs": [
    {
     "data": {
      "text/plain": [
       "Text(0.5, 1.0, 'Распределение трудоого стажа клиентов в днях')"
      ]
     },
     "execution_count": 323,
     "metadata": {},
     "output_type": "execute_result"
    },
    {
     "data": {
      "image/png": "[encoded data removed]",
      "text/plain": [
       "<Figure size 432x288 with 1 Axes>"
      ]
     },
     "metadata": {
      "needs_background": "light"
     },
     "output_type": "display_data"
    }
   ],
   "source": [
    "df['days_employed'] = df.apply(employment, axis = 1)    \n",
    "\n",
    "df['days_employed'].hist(bins=50)\n",
    "plt.title('Распределение трудоого стажа клиентов в днях')"
   ]
  },
  {
   "cell_type": "code",
   "execution_count": 324,
   "metadata": {},
   "outputs": [
    {
     "name": "stdout",
     "output_type": "stream",
     "text": [
      "Максимальный стаж в годах: 50.38068465909146\n",
      "Минимальный стаж в годах: 0.06614146093282515\n"
     ]
    }
   ],
   "source": [
    "print('Максимальный стаж в годах:',df['days_employed'].max()/365)\n",
    "print('Минимальный стаж в годах:', df['days_employed'].min()/365)"
   ]
  },
  {
   "cell_type": "markdown",
   "metadata": {},
   "source": [
    "После применения функции значения трудового стажа стали отображаться в диапазоне от 0 до 50 лет."
   ]
  },
  {
   "cell_type": "markdown",
   "metadata": {},
   "source": [
    "3) В столбце с данными о возрасте клиентов в годах `dob_years` вместо `0` принимаем медианное значение.\n",
    "\n",
    "Для того, чтобы найти медианные значения по типу трудоустройства, сначала сохраняем таблицу без 0-х значений возраста и даем ей имя `age_drop_null`. Затем для каждой категории клиентов по типу трудоустройства рассчитываем медианные значения возраста в сводной таблице и с помощью функции заполняем пропуски."
   ]
  },
  {
   "cell_type": "code",
   "execution_count": 325,
   "metadata": {},
   "outputs": [
    {
     "data": {
      "text/html": [
       "<div>\n",
       "<style scoped>\n",
       "    .dataframe tbody tr th:only-of-type {\n",
       "        vertical-align: middle;\n",
       "    }\n",
       "\n",
       "    .dataframe tbody tr th {\n",
       "        vertical-align: top;\n",
       "    }\n",
       "\n",
       "    .dataframe thead tr th {\n",
       "        text-align: left;\n",
       "    }\n",
       "\n",
       "    .dataframe thead tr:last-of-type th {\n",
       "        text-align: right;\n",
       "    }\n",
       "</style>\n",
       "<table border=\"1\" class=\"dataframe\">\n",
       "  <thead>\n",
       "    <tr>\n",
       "      <th></th>\n",
       "      <th>count</th>\n",
       "      <th>median</th>\n",
       "    </tr>\n",
       "    <tr>\n",
       "      <th></th>\n",
       "      <th>dob_years</th>\n",
       "      <th>dob_years</th>\n",
       "    </tr>\n",
       "    <tr>\n",
       "      <th>income_type</th>\n",
       "      <th></th>\n",
       "      <th></th>\n",
       "    </tr>\n",
       "  </thead>\n",
       "  <tbody>\n",
       "    <tr>\n",
       "      <th>безработный</th>\n",
       "      <td>2</td>\n",
       "      <td>38.0</td>\n",
       "    </tr>\n",
       "    <tr>\n",
       "      <th>в декрете</th>\n",
       "      <td>1</td>\n",
       "      <td>39.0</td>\n",
       "    </tr>\n",
       "    <tr>\n",
       "      <th>госслужащий</th>\n",
       "      <td>1459</td>\n",
       "      <td>40.0</td>\n",
       "    </tr>\n",
       "    <tr>\n",
       "      <th>компаньон</th>\n",
       "      <td>5085</td>\n",
       "      <td>39.0</td>\n",
       "    </tr>\n",
       "    <tr>\n",
       "      <th>пенсионер</th>\n",
       "      <td>3856</td>\n",
       "      <td>60.0</td>\n",
       "    </tr>\n",
       "    <tr>\n",
       "      <th>предприниматель</th>\n",
       "      <td>2</td>\n",
       "      <td>42.5</td>\n",
       "    </tr>\n",
       "    <tr>\n",
       "      <th>сотрудник</th>\n",
       "      <td>11119</td>\n",
       "      <td>39.0</td>\n",
       "    </tr>\n",
       "    <tr>\n",
       "      <th>студент</th>\n",
       "      <td>1</td>\n",
       "      <td>22.0</td>\n",
       "    </tr>\n",
       "  </tbody>\n",
       "</table>\n",
       "</div>"
      ],
      "text/plain": [
       "                    count    median\n",
       "                dob_years dob_years\n",
       "income_type                        \n",
       "безработный             2      38.0\n",
       "в декрете               1      39.0\n",
       "госслужащий          1459      40.0\n",
       "компаньон            5085      39.0\n",
       "пенсионер            3856      60.0\n",
       "предприниматель         2      42.5\n",
       "сотрудник           11119      39.0\n",
       "студент                 1      22.0"
      ]
     },
     "metadata": {},
     "output_type": "display_data"
    }
   ],
   "source": [
    "age_drop_null = df[df['dob_years']!=0]\n",
    "\n",
    "dob_years_grouped = df.pivot_table(index='income_type',\n",
    "                                   values='dob_years',\n",
    "                                   aggfunc=['count','median'])\n",
    "display(dob_years_grouped)"
   ]
  },
  {
   "cell_type": "code",
   "execution_count": 326,
   "metadata": {},
   "outputs": [],
   "source": [
    "def age(row):                                                               \n",
    "    dob_years = row['dob_years']                                           \n",
    "    income_type = row['income_type'] \n",
    "    \n",
    "    if dob_years == 0: \n",
    "        dob_years = dob_years_grouped['median','dob_years'][income_type]\n",
    "    \n",
    "    return dob_years   "
   ]
  },
  {
   "cell_type": "code",
   "execution_count": 327,
   "metadata": {},
   "outputs": [
    {
     "name": "stdout",
     "output_type": "stream",
     "text": [
      "Максимальный возраст: 75.0\n",
      "Минимальный возраст: 19.0\n"
     ]
    }
   ],
   "source": [
    "df['dob_years'] = df.apply(age, axis = 1)                               \n",
    "\n",
    "print('Максимальный возраст:', df['dob_years'].max())\n",
    "print('Минимальный возраст:', df['dob_years'].min())"
   ]
  },
  {
   "cell_type": "markdown",
   "metadata": {},
   "source": [
    "После внесения изменений возраст отображается в диапазоне от 19 до 75 лет."
   ]
  },
  {
   "cell_type": "markdown",
   "metadata": {},
   "source": [
    "4) В столбце `gender` в 1 ячейке встречается некорректное значение пола - `XNA`. \n",
    "Так как строка всего одна, удалим ее."
   ]
  },
  {
   "cell_type": "code",
   "execution_count": 328,
   "metadata": {},
   "outputs": [
    {
     "name": "stdout",
     "output_type": "stream",
     "text": [
      "F      14236\n",
      "M       7288\n",
      "XNA        1\n",
      "Name: gender, dtype: int64\n"
     ]
    }
   ],
   "source": [
    "print(df['gender'].value_counts()) "
   ]
  },
  {
   "cell_type": "code",
   "execution_count": 329,
   "metadata": {},
   "outputs": [
    {
     "name": "stdout",
     "output_type": "stream",
     "text": [
      "F    14236\n",
      "M     7288\n",
      "Name: gender, dtype: int64\n"
     ]
    }
   ],
   "source": [
    "df = df[(df['gender']=='M') | (df['gender']=='F')]\n",
    "\n",
    "print(df['gender'].value_counts()) "
   ]
  },
  {
   "cell_type": "markdown",
   "metadata": {},
   "source": [
    "#### Вывод\n",
    "\n",
    "После произведенных действий:\n",
    "- Диапазон значений количества детей у клиенов больше похож на реальные значения и меняется от 0 до 5 детей.\n",
    "- Общий трудовой стаж в днях отображается корректно.\n",
    "- Возраст клиентов теперь варьируется от 19 до 75 лет. \n",
    "- Теперь в выборке встречаются только клиенты мужского и женского пола."
   ]
  },
  {
   "cell_type": "markdown",
   "metadata": {},
   "source": [
    "### Обработка дубликатов"
   ]
  },
  {
   "cell_type": "markdown",
   "metadata": {},
   "source": [
    "Определим количество явных дубликатов:"
   ]
  },
  {
   "cell_type": "code",
   "execution_count": 330,
   "metadata": {},
   "outputs": [
    {
     "name": "stdout",
     "output_type": "stream",
     "text": [
      "Дубликатов в таблице: 54\n"
     ]
    }
   ],
   "source": [
    "print('Дубликатов в таблице:', df.duplicated().sum())"
   ]
  },
  {
   "cell_type": "markdown",
   "metadata": {},
   "source": [
    "Далее посмотрим каждое уникальное значение и подсчитаем частоту его встречаемости в списке методом `value_counts()` в столбцах, где на появление дубликатов может влиять регистр записываемых данных."
   ]
  },
  {
   "cell_type": "code",
   "execution_count": 331,
   "metadata": {},
   "outputs": [
    {
     "name": "stdout",
     "output_type": "stream",
     "text": [
      "\u001b[31mУровень образования:\u001b[0m\n",
      "среднее                13750\n",
      "высшее                  4718\n",
      "СРЕДНЕЕ                  772\n",
      "Среднее                  711\n",
      "неоконченное высшее      667\n",
      "ВЫСШЕЕ                   274\n",
      "Высшее                   268\n",
      "начальное                250\n",
      "Неоконченное высшее       47\n",
      "НЕОКОНЧЕННОЕ ВЫСШЕЕ       29\n",
      "НАЧАЛЬНОЕ                 17\n",
      "Начальное                 15\n",
      "ученая степень             4\n",
      "Ученая степень             1\n",
      "УЧЕНАЯ СТЕПЕНЬ             1\n",
      "Name: education, dtype: int64\n",
      "\n",
      "\u001b[31mСемейное положение:\u001b[0m\n",
      "женат / замужем          12380\n",
      "гражданский брак          4176\n",
      "Не женат / не замужем     2813\n",
      "в разводе                 1195\n",
      "вдовец / вдова             960\n",
      "Name: family_status, dtype: int64\n",
      "\n",
      "\u001b[31mЦель:\u001b[0m\n",
      "свадьба                                   797\n",
      "на проведение свадьбы                     777\n",
      "сыграть свадьбу                           774\n",
      "операции с недвижимостью                  676\n",
      "покупка коммерческой недвижимости         664\n",
      "покупка жилья для сдачи                   653\n",
      "операции с жильем                         653\n",
      "операции с коммерческой недвижимостью     651\n",
      "покупка жилья                             647\n",
      "жилье                                     647\n",
      "покупка жилья для семьи                   641\n",
      "строительство собственной недвижимости    635\n",
      "недвижимость                              634\n",
      "операции со своей недвижимостью           630\n",
      "строительство жилой недвижимости          626\n",
      "покупка недвижимости                      623\n",
      "строительство недвижимости                620\n",
      "покупка своего жилья                      620\n",
      "ремонт жилью                              612\n",
      "покупка жилой недвижимости                607\n",
      "на покупку своего автомобиля              505\n",
      "заняться высшим образованием              496\n",
      "автомобиль                                495\n",
      "сделка с подержанным автомобилем          489\n",
      "свой автомобиль                           480\n",
      "на покупку подержанного автомобиля        479\n",
      "автомобили                                478\n",
      "на покупку автомобиля                     472\n",
      "дополнительное образование                462\n",
      "приобретение автомобиля                   462\n",
      "сделка с автомобилем                      455\n",
      "высшее образование                        453\n",
      "получение дополнительного образования     447\n",
      "образование                               447\n",
      "получение образования                     443\n",
      "профильное образование                    436\n",
      "получение высшего образования             426\n",
      "заняться образованием                     412\n",
      "Name: purpose, dtype: int64\n"
     ]
    }
   ],
   "source": [
    "print('\\033[31m','Уровень образования:', '\\033[0m', '\\n', df['education'].value_counts(), '\\n', sep='')\n",
    "print('\\033[31m', 'Семейное положение:','\\033[0m', '\\n', df['family_status'].value_counts(), '\\n',sep='')\n",
    "print('\\033[31m', 'Цель:', '\\033[0m', '\\n', df['purpose'].value_counts(), sep='')"
   ]
  },
  {
   "cell_type": "markdown",
   "metadata": {},
   "source": [
    "Видно, что одинаковые данные, записанные в различных регистрах, встречаются в столбце, содержащем данные об уровне образования.\n",
    "Приведем эти данные к единому регистру методом `lower()`."
   ]
  },
  {
   "cell_type": "code",
   "execution_count": 332,
   "metadata": {},
   "outputs": [
    {
     "name": "stdout",
     "output_type": "stream",
     "text": [
      "Дубликатов в таблице: 71\n"
     ]
    }
   ],
   "source": [
    "df['education'] = df['education'].str.lower()\n",
    "\n",
    "print('Дубликатов в таблице:', df.duplicated().sum())"
   ]
  },
  {
   "cell_type": "markdown",
   "metadata": {},
   "source": [
    "Количество дубликатов увеличилось с 54 до 71. Удалим их c обновлением индексации и повторно подсчитаем их количество в качестве проверки."
   ]
  },
  {
   "cell_type": "code",
   "execution_count": 333,
   "metadata": {},
   "outputs": [
    {
     "name": "stdout",
     "output_type": "stream",
     "text": [
      "Дубликатов в таблице: 0\n"
     ]
    }
   ],
   "source": [
    "df = df.drop_duplicates().reset_index(drop=True)\n",
    "\n",
    "print('Дубликатов в таблице:', df.duplicated().sum())"
   ]
  },
  {
   "cell_type": "markdown",
   "metadata": {},
   "source": [
    "#### Вывод"
   ]
  },
  {
   "cell_type": "markdown",
   "metadata": {},
   "source": [
    "Дубликаты в нашем случае могут появляться по причине того, что один и тот же клиент оформлял несколько кредитов, обращался несколько раз (например, на пенсии, когда стаж, уровень дохода и другие характеристики - напр., кол-во детей, оставались неизменными). Также наличие дубликатов можно объяснить совпадением параметров (заявку подают несколько клиентов, имеющих идентичные характеристики) или технической ошибкой, дублирующей некоторые строки. Такая проблема решается при добавлении еще одного столбца к данным - ФИО или ID клиента.\n",
    "\n",
    "\n",
    "Дубликаты также могут появиться из-за записи определенных характеристик в разном регистре, что и произошло в столбце `education`. \n",
    "\n",
    "Поэтому мы привели значения в этом столбце к единому регистру и применили метод `drop_duplicates()`, благодаря которому явных дубликатов в таблице не осталось.\n",
    "\n"
   ]
  },
  {
   "cell_type": "markdown",
   "metadata": {},
   "source": [
    "### Обработка пропусков"
   ]
  },
  {
   "cell_type": "markdown",
   "metadata": {},
   "source": [
    "Подсчитаем количество пропусков."
   ]
  },
  {
   "cell_type": "code",
   "execution_count": 334,
   "metadata": {},
   "outputs": [
    {
     "name": "stdout",
     "output_type": "stream",
     "text": [
      "children            0.000000\n",
      "days_employed       9.802825\n",
      "dob_years           0.000000\n",
      "education           0.000000\n",
      "education_id        0.000000\n",
      "family_status       0.000000\n",
      "family_status_id    0.000000\n",
      "gender              0.000000\n",
      "income_type         0.000000\n",
      "debt                0.000000\n",
      "total_income        9.802825\n",
      "purpose             0.000000\n",
      "dtype: float64\n"
     ]
    }
   ],
   "source": [
    "print(df.isna().mean()*100) "
   ]
  },
  {
   "cell_type": "markdown",
   "metadata": {},
   "source": [
    "Видно что пропуски имеются в стобцах `days_employed` и `total_income`.\n",
    "\n",
    "Отсутсвие подобной информации может говорить о том, что человек работает неофициально (соответсвенно, нет данных о том, на протяжении какого времени он трудоустроен и каков его доход), не работает на текущий момент (пенсионер, в декрете, студент, безработный) или не подавал информацию о трудоустройстве и официальном доходе при подаче заявки на кредит.\n",
    "\n",
    "Количество пропусков составляет **10%** от всех данных, поэтому просто убрать такие строчки из таблицы нельзя.  \n",
    "\n",
    "Пропуски в стобце `total_income` можно заменять на **0**  для неработающих категорий (безработный, студент), на сумму минимального размера пенсии для пенсионеров - **13 496 рублей**, на минимальную сумму ежемесячных декретных выплат для клиентов в декрете - **12 392 рублей**, а для предпринимателей, госслужащих, компаньонов, сотрудников - на медианные значения дохода в каждой из категорий (хотя могли бы тоже использовать МРОТ).\n",
    "\n",
    "Пропуски в стоблце `days_employed` заменяем на медианное значение. "
   ]
  },
  {
   "cell_type": "code",
   "execution_count": 335,
   "metadata": {
    "scrolled": true
   },
   "outputs": [],
   "source": [
    "df['days_employed'] = df['days_employed'].fillna(df['days_employed'].median())    "
   ]
  },
  {
   "cell_type": "markdown",
   "metadata": {},
   "source": [
    "Посчитаем медианные значения ежемесячного дохода по каждой категории клиентов по типу трудоустройства."
   ]
  },
  {
   "cell_type": "code",
   "execution_count": 336,
   "metadata": {
    "scrolled": true
   },
   "outputs": [
    {
     "data": {
      "text/plain": [
       "income_type\n",
       "безработный        131339.751676\n",
       "в декрете           53829.130729\n",
       "госслужащий        150447.935283\n",
       "компаньон          172319.266339\n",
       "пенсионер          118514.486412\n",
       "предприниматель    499163.144947\n",
       "сотрудник          142594.396847\n",
       "студент             98201.625314\n",
       "Name: total_income, dtype: float64"
      ]
     },
     "metadata": {},
     "output_type": "display_data"
    }
   ],
   "source": [
    "display(df.groupby('income_type')['total_income'].median())"
   ]
  },
  {
   "cell_type": "markdown",
   "metadata": {},
   "source": [
    "Напишем функцию, заменяющую пропуски в столбце `total_income` в зависимости от рода деятельности клиента:"
   ]
  },
  {
   "cell_type": "code",
   "execution_count": 337,
   "metadata": {},
   "outputs": [],
   "source": [
    "df['total_income'] = df['total_income'].fillna(0)                      \n",
    "\n",
    "# Минимальный доход для категорий: безработные, пенсионеры, в декрете\n",
    "UNEMPLOYED_INCOME = 0         \n",
    "PENSIONER_INCOME = 13496      \n",
    "DECREE_INCOME = 12392"
   ]
  },
  {
   "cell_type": "code",
   "execution_count": 338,
   "metadata": {},
   "outputs": [],
   "source": [
    "def fill_income(row):                                                                                                                                                     \n",
    "    \n",
    "    income_type = row['income_type']\n",
    "    total_income = row['total_income']\n",
    "    \n",
    "    if total_income == 0 and income_type == 'безработный':\n",
    "        return UNEMPLOYED_INCOME\n",
    "    \n",
    "    if total_income == 0 and income_type == 'пенсионер':   \n",
    "        return PENSIONER_INCOME\n",
    "    \n",
    "    if total_income == 0 and income_type == 'в декрете':\n",
    "        return DECREE_INCOME\n",
    "          \n",
    "    if  total_income == 0 and income_type in ['госслужащий',\n",
    "                                              'компаньон',\n",
    "                                              'предприниматель',\n",
    "                                              'сотрудник',\n",
    "                                              'студент']:\n",
    "         return df[df['income_type']==income_type]['total_income'].median()\n",
    "        \n",
    "    if total_income != 0:\n",
    "        return total_income"
   ]
  },
  {
   "cell_type": "markdown",
   "metadata": {},
   "source": [
    "А теперь применим функцию к каждой строке таблицы с помощью метода `apply()`."
   ]
  },
  {
   "cell_type": "code",
   "execution_count": 339,
   "metadata": {},
   "outputs": [
    {
     "data": {
      "text/html": [
       "<div>\n",
       "<style scoped>\n",
       "    .dataframe tbody tr th:only-of-type {\n",
       "        vertical-align: middle;\n",
       "    }\n",
       "\n",
       "    .dataframe tbody tr th {\n",
       "        vertical-align: top;\n",
       "    }\n",
       "\n",
       "    .dataframe thead th {\n",
       "        text-align: right;\n",
       "    }\n",
       "</style>\n",
       "<table border=\"1\" class=\"dataframe\">\n",
       "  <thead>\n",
       "    <tr style=\"text-align: right;\">\n",
       "      <th></th>\n",
       "      <th>children</th>\n",
       "      <th>days_employed</th>\n",
       "      <th>dob_years</th>\n",
       "      <th>education</th>\n",
       "      <th>education_id</th>\n",
       "      <th>family_status</th>\n",
       "      <th>family_status_id</th>\n",
       "      <th>gender</th>\n",
       "      <th>income_type</th>\n",
       "      <th>debt</th>\n",
       "      <th>total_income</th>\n",
       "      <th>purpose</th>\n",
       "    </tr>\n",
       "  </thead>\n",
       "  <tbody>\n",
       "    <tr>\n",
       "      <th>0</th>\n",
       "      <td>1</td>\n",
       "      <td>8437.673028</td>\n",
       "      <td>42.0</td>\n",
       "      <td>высшее</td>\n",
       "      <td>0</td>\n",
       "      <td>женат / замужем</td>\n",
       "      <td>0</td>\n",
       "      <td>F</td>\n",
       "      <td>сотрудник</td>\n",
       "      <td>0</td>\n",
       "      <td>253875.639453</td>\n",
       "      <td>покупка жилья</td>\n",
       "    </tr>\n",
       "    <tr>\n",
       "      <th>1</th>\n",
       "      <td>1</td>\n",
       "      <td>4024.803754</td>\n",
       "      <td>36.0</td>\n",
       "      <td>среднее</td>\n",
       "      <td>1</td>\n",
       "      <td>женат / замужем</td>\n",
       "      <td>0</td>\n",
       "      <td>F</td>\n",
       "      <td>сотрудник</td>\n",
       "      <td>0</td>\n",
       "      <td>112080.014102</td>\n",
       "      <td>приобретение автомобиля</td>\n",
       "    </tr>\n",
       "    <tr>\n",
       "      <th>2</th>\n",
       "      <td>0</td>\n",
       "      <td>5623.422610</td>\n",
       "      <td>33.0</td>\n",
       "      <td>среднее</td>\n",
       "      <td>1</td>\n",
       "      <td>женат / замужем</td>\n",
       "      <td>0</td>\n",
       "      <td>M</td>\n",
       "      <td>сотрудник</td>\n",
       "      <td>0</td>\n",
       "      <td>145885.952297</td>\n",
       "      <td>покупка жилья</td>\n",
       "    </tr>\n",
       "    <tr>\n",
       "      <th>3</th>\n",
       "      <td>3</td>\n",
       "      <td>4124.747207</td>\n",
       "      <td>32.0</td>\n",
       "      <td>среднее</td>\n",
       "      <td>1</td>\n",
       "      <td>женат / замужем</td>\n",
       "      <td>0</td>\n",
       "      <td>M</td>\n",
       "      <td>сотрудник</td>\n",
       "      <td>0</td>\n",
       "      <td>267628.550329</td>\n",
       "      <td>дополнительное образование</td>\n",
       "    </tr>\n",
       "    <tr>\n",
       "      <th>4</th>\n",
       "      <td>0</td>\n",
       "      <td>14177.753002</td>\n",
       "      <td>53.0</td>\n",
       "      <td>среднее</td>\n",
       "      <td>1</td>\n",
       "      <td>гражданский брак</td>\n",
       "      <td>1</td>\n",
       "      <td>F</td>\n",
       "      <td>пенсионер</td>\n",
       "      <td>0</td>\n",
       "      <td>158616.077870</td>\n",
       "      <td>сыграть свадьбу</td>\n",
       "    </tr>\n",
       "    <tr>\n",
       "      <th>5</th>\n",
       "      <td>0</td>\n",
       "      <td>926.185831</td>\n",
       "      <td>27.0</td>\n",
       "      <td>высшее</td>\n",
       "      <td>0</td>\n",
       "      <td>гражданский брак</td>\n",
       "      <td>1</td>\n",
       "      <td>M</td>\n",
       "      <td>компаньон</td>\n",
       "      <td>0</td>\n",
       "      <td>255763.565419</td>\n",
       "      <td>покупка жилья</td>\n",
       "    </tr>\n",
       "    <tr>\n",
       "      <th>6</th>\n",
       "      <td>0</td>\n",
       "      <td>2879.202052</td>\n",
       "      <td>43.0</td>\n",
       "      <td>высшее</td>\n",
       "      <td>0</td>\n",
       "      <td>женат / замужем</td>\n",
       "      <td>0</td>\n",
       "      <td>F</td>\n",
       "      <td>компаньон</td>\n",
       "      <td>0</td>\n",
       "      <td>240525.971920</td>\n",
       "      <td>операции с жильем</td>\n",
       "    </tr>\n",
       "    <tr>\n",
       "      <th>7</th>\n",
       "      <td>0</td>\n",
       "      <td>152.779569</td>\n",
       "      <td>50.0</td>\n",
       "      <td>среднее</td>\n",
       "      <td>1</td>\n",
       "      <td>женат / замужем</td>\n",
       "      <td>0</td>\n",
       "      <td>M</td>\n",
       "      <td>сотрудник</td>\n",
       "      <td>0</td>\n",
       "      <td>135823.934197</td>\n",
       "      <td>образование</td>\n",
       "    </tr>\n",
       "    <tr>\n",
       "      <th>8</th>\n",
       "      <td>2</td>\n",
       "      <td>6929.865299</td>\n",
       "      <td>35.0</td>\n",
       "      <td>высшее</td>\n",
       "      <td>0</td>\n",
       "      <td>гражданский брак</td>\n",
       "      <td>1</td>\n",
       "      <td>F</td>\n",
       "      <td>сотрудник</td>\n",
       "      <td>0</td>\n",
       "      <td>95856.832424</td>\n",
       "      <td>на проведение свадьбы</td>\n",
       "    </tr>\n",
       "    <tr>\n",
       "      <th>9</th>\n",
       "      <td>0</td>\n",
       "      <td>2188.756445</td>\n",
       "      <td>41.0</td>\n",
       "      <td>среднее</td>\n",
       "      <td>1</td>\n",
       "      <td>женат / замужем</td>\n",
       "      <td>0</td>\n",
       "      <td>M</td>\n",
       "      <td>сотрудник</td>\n",
       "      <td>0</td>\n",
       "      <td>144425.938277</td>\n",
       "      <td>покупка жилья для семьи</td>\n",
       "    </tr>\n",
       "    <tr>\n",
       "      <th>10</th>\n",
       "      <td>2</td>\n",
       "      <td>4171.483647</td>\n",
       "      <td>36.0</td>\n",
       "      <td>высшее</td>\n",
       "      <td>0</td>\n",
       "      <td>женат / замужем</td>\n",
       "      <td>0</td>\n",
       "      <td>M</td>\n",
       "      <td>компаньон</td>\n",
       "      <td>0</td>\n",
       "      <td>113943.491460</td>\n",
       "      <td>покупка недвижимости</td>\n",
       "    </tr>\n",
       "    <tr>\n",
       "      <th>11</th>\n",
       "      <td>0</td>\n",
       "      <td>792.701887</td>\n",
       "      <td>40.0</td>\n",
       "      <td>среднее</td>\n",
       "      <td>1</td>\n",
       "      <td>женат / замужем</td>\n",
       "      <td>0</td>\n",
       "      <td>F</td>\n",
       "      <td>сотрудник</td>\n",
       "      <td>0</td>\n",
       "      <td>77069.234271</td>\n",
       "      <td>покупка коммерческой недвижимости</td>\n",
       "    </tr>\n",
       "    <tr>\n",
       "      <th>12</th>\n",
       "      <td>0</td>\n",
       "      <td>2194.218768</td>\n",
       "      <td>65.0</td>\n",
       "      <td>среднее</td>\n",
       "      <td>1</td>\n",
       "      <td>гражданский брак</td>\n",
       "      <td>1</td>\n",
       "      <td>M</td>\n",
       "      <td>пенсионер</td>\n",
       "      <td>0</td>\n",
       "      <td>13496.000000</td>\n",
       "      <td>сыграть свадьбу</td>\n",
       "    </tr>\n",
       "  </tbody>\n",
       "</table>\n",
       "</div>"
      ],
      "text/plain": [
       "    children  days_employed  dob_years education  education_id  \\\n",
       "0          1    8437.673028       42.0    высшее             0   \n",
       "1          1    4024.803754       36.0   среднее             1   \n",
       "2          0    5623.422610       33.0   среднее             1   \n",
       "3          3    4124.747207       32.0   среднее             1   \n",
       "4          0   14177.753002       53.0   среднее             1   \n",
       "5          0     926.185831       27.0    высшее             0   \n",
       "6          0    2879.202052       43.0    высшее             0   \n",
       "7          0     152.779569       50.0   среднее             1   \n",
       "8          2    6929.865299       35.0    высшее             0   \n",
       "9          0    2188.756445       41.0   среднее             1   \n",
       "10         2    4171.483647       36.0    высшее             0   \n",
       "11         0     792.701887       40.0   среднее             1   \n",
       "12         0    2194.218768       65.0   среднее             1   \n",
       "\n",
       "       family_status  family_status_id gender income_type  debt  \\\n",
       "0    женат / замужем                 0      F   сотрудник     0   \n",
       "1    женат / замужем                 0      F   сотрудник     0   \n",
       "2    женат / замужем                 0      M   сотрудник     0   \n",
       "3    женат / замужем                 0      M   сотрудник     0   \n",
       "4   гражданский брак                 1      F   пенсионер     0   \n",
       "5   гражданский брак                 1      M   компаньон     0   \n",
       "6    женат / замужем                 0      F   компаньон     0   \n",
       "7    женат / замужем                 0      M   сотрудник     0   \n",
       "8   гражданский брак                 1      F   сотрудник     0   \n",
       "9    женат / замужем                 0      M   сотрудник     0   \n",
       "10   женат / замужем                 0      M   компаньон     0   \n",
       "11   женат / замужем                 0      F   сотрудник     0   \n",
       "12  гражданский брак                 1      M   пенсионер     0   \n",
       "\n",
       "     total_income                            purpose  \n",
       "0   253875.639453                      покупка жилья  \n",
       "1   112080.014102            приобретение автомобиля  \n",
       "2   145885.952297                      покупка жилья  \n",
       "3   267628.550329         дополнительное образование  \n",
       "4   158616.077870                    сыграть свадьбу  \n",
       "5   255763.565419                      покупка жилья  \n",
       "6   240525.971920                  операции с жильем  \n",
       "7   135823.934197                        образование  \n",
       "8    95856.832424              на проведение свадьбы  \n",
       "9   144425.938277            покупка жилья для семьи  \n",
       "10  113943.491460               покупка недвижимости  \n",
       "11   77069.234271  покупка коммерческой недвижимости  \n",
       "12   13496.000000                    сыграть свадьбу  "
      ]
     },
     "metadata": {},
     "output_type": "display_data"
    }
   ],
   "source": [
    "df['total_income'] = df.apply(fill_income, axis = 1)    \n",
    "\n",
    "display(df.head(13))\n"
   ]
  },
  {
   "cell_type": "markdown",
   "metadata": {},
   "source": [
    "В качестве проверки снова отобразим количество пропусков в данных:"
   ]
  },
  {
   "cell_type": "code",
   "execution_count": 340,
   "metadata": {},
   "outputs": [
    {
     "name": "stdout",
     "output_type": "stream",
     "text": [
      "children            0.0\n",
      "days_employed       0.0\n",
      "dob_years           0.0\n",
      "education           0.0\n",
      "education_id        0.0\n",
      "family_status       0.0\n",
      "family_status_id    0.0\n",
      "gender              0.0\n",
      "income_type         0.0\n",
      "debt                0.0\n",
      "total_income        0.0\n",
      "purpose             0.0\n",
      "dtype: float64\n"
     ]
    }
   ],
   "source": [
    "print(df.isna().mean())"
   ]
  },
  {
   "cell_type": "markdown",
   "metadata": {},
   "source": [
    "#### Вывод\n",
    "\n",
    "Как видно, пропусков больше нет, а в стобце `total_income` отображаются нужные нам данные на месте пропусков (напр., строка 12)."
   ]
  },
  {
   "cell_type": "markdown",
   "metadata": {},
   "source": [
    "### Замена типа данных"
   ]
  },
  {
   "cell_type": "markdown",
   "metadata": {},
   "source": [
    "Теперь заменим вещественный тип данных на целочисленный в столбцах `days_employed`- так как количество дней - целое значение, и `total_income`- округляя значения дохода до целых рублей:\n"
   ]
  },
  {
   "cell_type": "code",
   "execution_count": 341,
   "metadata": {},
   "outputs": [
    {
     "name": "stdout",
     "output_type": "stream",
     "text": [
      "<class 'pandas.core.frame.DataFrame'>\n",
      "RangeIndex: 21453 entries, 0 to 21452\n",
      "Data columns (total 12 columns):\n",
      " #   Column            Non-Null Count  Dtype  \n",
      "---  ------            --------------  -----  \n",
      " 0   children          21453 non-null  int64  \n",
      " 1   days_employed     21453 non-null  int64  \n",
      " 2   dob_years         21453 non-null  float64\n",
      " 3   education         21453 non-null  object \n",
      " 4   education_id      21453 non-null  int64  \n",
      " 5   family_status     21453 non-null  object \n",
      " 6   family_status_id  21453 non-null  int64  \n",
      " 7   gender            21453 non-null  object \n",
      " 8   income_type       21453 non-null  object \n",
      " 9   debt              21453 non-null  int64  \n",
      " 10  total_income      21453 non-null  int64  \n",
      " 11  purpose           21453 non-null  object \n",
      "dtypes: float64(1), int64(6), object(5)\n",
      "memory usage: 2.0+ MB\n"
     ]
    }
   ],
   "source": [
    "df['days_employed'] = df['days_employed'].astype('int')\n",
    "df['total_income'] = df['total_income'].astype('int')\n",
    "\n",
    "df.info()"
   ]
  },
  {
   "cell_type": "markdown",
   "metadata": {},
   "source": [
    "#### Вывод"
   ]
  },
  {
   "cell_type": "markdown",
   "metadata": {},
   "source": [
    "Применив метод `astype()`, мы произвели замену типа данных в двух столбцах, что видно из основной информации по таблице."
   ]
  },
  {
   "cell_type": "markdown",
   "metadata": {},
   "source": [
    "### Лемматизация"
   ]
  },
  {
   "cell_type": "markdown",
   "metadata": {},
   "source": [
    "Из предыдущих пунктов видно, что в столбце, содержащем информацию о цели взятия кредита, похожие данные записаны в различных вариантах. \n",
    "\n",
    "Чтобы исправить это, воспользуемся лемматизацией, или приведение слова к его словарной форме (лемме).\n",
    "\n",
    "Вызовем библиотеку с функцией лемматизации на русском языке — pymystem3 и осуществим процесс лемматизации. Для этого создаем функцию `lemmas`, применим ее к значения столбца `purpose`, приводя эти значения к их словарной форме.\n",
    "\n",
    "Созданные леммы поместим в отдельный столбец `lemmas`."
   ]
  },
  {
   "cell_type": "code",
   "execution_count": 342,
   "metadata": {},
   "outputs": [
    {
     "data": {
      "text/html": [
       "<div>\n",
       "<style scoped>\n",
       "    .dataframe tbody tr th:only-of-type {\n",
       "        vertical-align: middle;\n",
       "    }\n",
       "\n",
       "    .dataframe tbody tr th {\n",
       "        vertical-align: top;\n",
       "    }\n",
       "\n",
       "    .dataframe thead th {\n",
       "        text-align: right;\n",
       "    }\n",
       "</style>\n",
       "<table border=\"1\" class=\"dataframe\">\n",
       "  <thead>\n",
       "    <tr style=\"text-align: right;\">\n",
       "      <th></th>\n",
       "      <th>children</th>\n",
       "      <th>days_employed</th>\n",
       "      <th>dob_years</th>\n",
       "      <th>education</th>\n",
       "      <th>education_id</th>\n",
       "      <th>family_status</th>\n",
       "      <th>family_status_id</th>\n",
       "      <th>gender</th>\n",
       "      <th>income_type</th>\n",
       "      <th>debt</th>\n",
       "      <th>total_income</th>\n",
       "      <th>purpose</th>\n",
       "      <th>lemmas</th>\n",
       "    </tr>\n",
       "  </thead>\n",
       "  <tbody>\n",
       "    <tr>\n",
       "      <th>0</th>\n",
       "      <td>1</td>\n",
       "      <td>8437</td>\n",
       "      <td>42.0</td>\n",
       "      <td>высшее</td>\n",
       "      <td>0</td>\n",
       "      <td>женат / замужем</td>\n",
       "      <td>0</td>\n",
       "      <td>F</td>\n",
       "      <td>сотрудник</td>\n",
       "      <td>0</td>\n",
       "      <td>253875</td>\n",
       "      <td>покупка жилья</td>\n",
       "      <td>[покупка,  , жилье, \\n]</td>\n",
       "    </tr>\n",
       "    <tr>\n",
       "      <th>1</th>\n",
       "      <td>1</td>\n",
       "      <td>4024</td>\n",
       "      <td>36.0</td>\n",
       "      <td>среднее</td>\n",
       "      <td>1</td>\n",
       "      <td>женат / замужем</td>\n",
       "      <td>0</td>\n",
       "      <td>F</td>\n",
       "      <td>сотрудник</td>\n",
       "      <td>0</td>\n",
       "      <td>112080</td>\n",
       "      <td>приобретение автомобиля</td>\n",
       "      <td>[приобретение,  , автомобиль, \\n]</td>\n",
       "    </tr>\n",
       "    <tr>\n",
       "      <th>2</th>\n",
       "      <td>0</td>\n",
       "      <td>5623</td>\n",
       "      <td>33.0</td>\n",
       "      <td>среднее</td>\n",
       "      <td>1</td>\n",
       "      <td>женат / замужем</td>\n",
       "      <td>0</td>\n",
       "      <td>M</td>\n",
       "      <td>сотрудник</td>\n",
       "      <td>0</td>\n",
       "      <td>145885</td>\n",
       "      <td>покупка жилья</td>\n",
       "      <td>[покупка,  , жилье, \\n]</td>\n",
       "    </tr>\n",
       "    <tr>\n",
       "      <th>3</th>\n",
       "      <td>3</td>\n",
       "      <td>4124</td>\n",
       "      <td>32.0</td>\n",
       "      <td>среднее</td>\n",
       "      <td>1</td>\n",
       "      <td>женат / замужем</td>\n",
       "      <td>0</td>\n",
       "      <td>M</td>\n",
       "      <td>сотрудник</td>\n",
       "      <td>0</td>\n",
       "      <td>267628</td>\n",
       "      <td>дополнительное образование</td>\n",
       "      <td>[дополнительный,  , образование, \\n]</td>\n",
       "    </tr>\n",
       "    <tr>\n",
       "      <th>4</th>\n",
       "      <td>0</td>\n",
       "      <td>14177</td>\n",
       "      <td>53.0</td>\n",
       "      <td>среднее</td>\n",
       "      <td>1</td>\n",
       "      <td>гражданский брак</td>\n",
       "      <td>1</td>\n",
       "      <td>F</td>\n",
       "      <td>пенсионер</td>\n",
       "      <td>0</td>\n",
       "      <td>158616</td>\n",
       "      <td>сыграть свадьбу</td>\n",
       "      <td>[сыграть,  , свадьба, \\n]</td>\n",
       "    </tr>\n",
       "  </tbody>\n",
       "</table>\n",
       "</div>"
      ],
      "text/plain": [
       "   children  days_employed  dob_years education  education_id  \\\n",
       "0         1           8437       42.0    высшее             0   \n",
       "1         1           4024       36.0   среднее             1   \n",
       "2         0           5623       33.0   среднее             1   \n",
       "3         3           4124       32.0   среднее             1   \n",
       "4         0          14177       53.0   среднее             1   \n",
       "\n",
       "      family_status  family_status_id gender income_type  debt  total_income  \\\n",
       "0   женат / замужем                 0      F   сотрудник     0        253875   \n",
       "1   женат / замужем                 0      F   сотрудник     0        112080   \n",
       "2   женат / замужем                 0      M   сотрудник     0        145885   \n",
       "3   женат / замужем                 0      M   сотрудник     0        267628   \n",
       "4  гражданский брак                 1      F   пенсионер     0        158616   \n",
       "\n",
       "                      purpose                                lemmas  \n",
       "0               покупка жилья               [покупка,  , жилье, \\n]  \n",
       "1     приобретение автомобиля     [приобретение,  , автомобиль, \\n]  \n",
       "2               покупка жилья               [покупка,  , жилье, \\n]  \n",
       "3  дополнительное образование  [дополнительный,  , образование, \\n]  \n",
       "4             сыграть свадьбу             [сыграть,  , свадьба, \\n]  "
      ]
     },
     "metadata": {},
     "output_type": "display_data"
    }
   ],
   "source": [
    "m = Mystem() \n",
    "\n",
    "def lemmas(row):\n",
    "    purpose = row['purpose']\n",
    "    lemma = m.lemmatize(purpose)\n",
    "    return lemma\n",
    "\n",
    "df['lemmas'] = df.apply(lemmas, axis = 1)\n",
    "\n",
    "display(df.head())"
   ]
  },
  {
   "cell_type": "markdown",
   "metadata": {},
   "source": [
    "А теперь определим уникальные цели на взятие кредита и выведем их на экран:"
   ]
  },
  {
   "cell_type": "code",
   "execution_count": 343,
   "metadata": {},
   "outputs": [
    {
     "name": "stdout",
     "output_type": "stream",
     "text": [
      "['покупка', 'жилье', 'приобретение', 'автомобиль', 'дополнительный', 'образование', 'сыграть', 'свадьба', 'операция', 'проведение', 'семья', 'недвижимость', 'коммерческий', 'жилой', 'строительство', 'собственный', 'подержать', 'свой', 'заниматься', 'сделка', 'подержанный', 'получение', 'высокий', 'профильный', 'сдача', 'ремонт']\n"
     ]
    }
   ],
   "source": [
    "bag = []\n",
    "\n",
    "for row in df['lemmas']:\n",
    "    for i in row:\n",
    "        if i not in bag and i!=' ' and i!='\\n' and len(i)>3: \n",
    "            bag.append(i)\n",
    "            \n",
    "print(bag)            "
   ]
  },
  {
   "cell_type": "markdown",
   "metadata": {},
   "source": [
    "#### Вывод"
   ]
  },
  {
   "cell_type": "markdown",
   "metadata": {},
   "source": [
    "По итогам лемматизации нам удалось выделить несколько уникальных целей на взятие кредита:\n",
    "* недвижимость/жилье\n",
    "* автобомиль\n",
    "* образование\n",
    "* свадьба\n",
    "* ремонт\n",
    "\n",
    "Это нам поможет в дальнейшем выделить категории клиентов по цели взятия кредита."
   ]
  },
  {
   "cell_type": "markdown",
   "metadata": {},
   "source": [
    "### Категоризация данных"
   ]
  },
  {
   "cell_type": "markdown",
   "metadata": {},
   "source": [
    "Перед тем, как приступать к категоризации данных, создадим новую таблицу `df_new`, добавив в нее данные, которые понадобятся нам для анализа: столбцы о количестве детей, о семейном положении, наличии задолженностей, доходе, целях на взятие кредита."
   ]
  },
  {
   "cell_type": "code",
   "execution_count": 344,
   "metadata": {},
   "outputs": [
    {
     "data": {
      "text/html": [
       "<div>\n",
       "<style scoped>\n",
       "    .dataframe tbody tr th:only-of-type {\n",
       "        vertical-align: middle;\n",
       "    }\n",
       "\n",
       "    .dataframe tbody tr th {\n",
       "        vertical-align: top;\n",
       "    }\n",
       "\n",
       "    .dataframe thead th {\n",
       "        text-align: right;\n",
       "    }\n",
       "</style>\n",
       "<table border=\"1\" class=\"dataframe\">\n",
       "  <thead>\n",
       "    <tr style=\"text-align: right;\">\n",
       "      <th></th>\n",
       "      <th>children</th>\n",
       "      <th>family_status_id</th>\n",
       "      <th>debt</th>\n",
       "      <th>total_income</th>\n",
       "      <th>lemmas</th>\n",
       "    </tr>\n",
       "  </thead>\n",
       "  <tbody>\n",
       "    <tr>\n",
       "      <th>0</th>\n",
       "      <td>1</td>\n",
       "      <td>0</td>\n",
       "      <td>0</td>\n",
       "      <td>253875</td>\n",
       "      <td>[покупка,  , жилье, \\n]</td>\n",
       "    </tr>\n",
       "    <tr>\n",
       "      <th>1</th>\n",
       "      <td>1</td>\n",
       "      <td>0</td>\n",
       "      <td>0</td>\n",
       "      <td>112080</td>\n",
       "      <td>[приобретение,  , автомобиль, \\n]</td>\n",
       "    </tr>\n",
       "    <tr>\n",
       "      <th>2</th>\n",
       "      <td>0</td>\n",
       "      <td>0</td>\n",
       "      <td>0</td>\n",
       "      <td>145885</td>\n",
       "      <td>[покупка,  , жилье, \\n]</td>\n",
       "    </tr>\n",
       "    <tr>\n",
       "      <th>3</th>\n",
       "      <td>3</td>\n",
       "      <td>0</td>\n",
       "      <td>0</td>\n",
       "      <td>267628</td>\n",
       "      <td>[дополнительный,  , образование, \\n]</td>\n",
       "    </tr>\n",
       "    <tr>\n",
       "      <th>4</th>\n",
       "      <td>0</td>\n",
       "      <td>1</td>\n",
       "      <td>0</td>\n",
       "      <td>158616</td>\n",
       "      <td>[сыграть,  , свадьба, \\n]</td>\n",
       "    </tr>\n",
       "  </tbody>\n",
       "</table>\n",
       "</div>"
      ],
      "text/plain": [
       "   children  family_status_id  debt  total_income  \\\n",
       "0         1                 0     0        253875   \n",
       "1         1                 0     0        112080   \n",
       "2         0                 0     0        145885   \n",
       "3         3                 0     0        267628   \n",
       "4         0                 1     0        158616   \n",
       "\n",
       "                                 lemmas  \n",
       "0               [покупка,  , жилье, \\n]  \n",
       "1     [приобретение,  , автомобиль, \\n]  \n",
       "2               [покупка,  , жилье, \\n]  \n",
       "3  [дополнительный,  , образование, \\n]  \n",
       "4             [сыграть,  , свадьба, \\n]  "
      ]
     },
     "metadata": {},
     "output_type": "display_data"
    }
   ],
   "source": [
    "df_new = df[['children', 'family_status_id', 'debt', 'total_income', 'lemmas']]\n",
    "\n",
    "display(df_new.head())"
   ]
  },
  {
   "cell_type": "markdown",
   "metadata": {},
   "source": [
    "Далее напишем функцию `purposes_id` для того, чтобы выделить новый столбец, в котором цель взятия кредита обозначалась бы 1 словом."
   ]
  },
  {
   "cell_type": "code",
   "execution_count": 345,
   "metadata": {
    "scrolled": true
   },
   "outputs": [
    {
     "name": "stdout",
     "output_type": "stream",
     "text": [
      "\u001b[31mНа что берут кредиты?\u001b[0m\n",
      "жилье          10203\n",
      "автомобиль      4306\n",
      "образование     4013\n",
      "свадьба         2324\n",
      "ремонт           607\n",
      "Name: purpose_id, dtype: int64\n"
     ]
    }
   ],
   "source": [
    "def purposes_id(row):\n",
    "    lemmas = row['lemmas']\n",
    "    \n",
    "    if ('недвижимость' in lemmas) or ('жилье' in lemmas and 'ремонт' not in lemmas):\n",
    "        return 'жилье'\n",
    "    if 'автомобиль' in lemmas:    \n",
    "        return 'автомобиль'\n",
    "    if 'образование' in lemmas:    \n",
    "        return 'образование'\n",
    "    if 'свадьба' in lemmas:\n",
    "        return 'свадьба'\n",
    "    if 'ремонт' in lemmas:\n",
    "         return 'ремонт'\n",
    "\n",
    "df_new['purpose_id'] = df_new.apply(purposes_id, axis = 1)    \n",
    "\n",
    "print('\\033[31m','На что берут кредиты?','\\033[0m', '\\n', df_new['purpose_id'].value_counts(), sep='')"
   ]
  },
  {
   "cell_type": "markdown",
   "metadata": {},
   "source": [
    "Видно, что чаще всего клиенты берут жилищные кредиты, далее по частоте встречаются кредиты на автомобиль, образование и свадьбу, реже всего - на ремонт."
   ]
  },
  {
   "cell_type": "markdown",
   "metadata": {},
   "source": [
    "Разделим клиентов на категории по уровню дохода. Вначале определим для понимания минимальный, средний и максимальный ежемесячный доход:"
   ]
  },
  {
   "cell_type": "code",
   "execution_count": 346,
   "metadata": {},
   "outputs": [
    {
     "name": "stdout",
     "output_type": "stream",
     "text": [
      "\u001b[31mЕжемесячный доход, тыс.руб.\u001b[0m\n",
      "count    21453.000000\n",
      "mean       162.676609\n",
      "std        100.151083\n",
      "min         13.496000\n",
      "25%        104.288000\n",
      "50%        140.212000\n",
      "75%        195.818000\n",
      "max       2265.604000\n",
      "Name: total_income, dtype: float64\n"
     ]
    }
   ],
   "source": [
    "print('\\033[31m','Ежемесячный доход, тыс.руб.','\\033[0m','\\n', (df_new['total_income']/1000).describe(),sep='')"
   ]
  },
  {
   "cell_type": "markdown",
   "metadata": {},
   "source": [
    "Размер пороговых значений вхождения в категорию определим следующим образом:"
   ]
  },
  {
   "cell_type": "markdown",
   "metadata": {},
   "source": [
    "* категория 1 - \"низкий доход\" - доход до 50 тыс. руб.\n",
    "* категория 2 - \"средний доход\" - от 50 тыс. руб. до 100 тыс. руб.\n",
    "* категория 3 - \"средне-высокий доход\" - от 100 тыс. руб. до 500 тыс. руб.\n",
    "* категория 4 - \"высокий доход\" - от 500 тыс. руб. до 1 млн. руб.\n",
    "* категория 5 - \"очень высокий доход\" - более 1 млн. руб.\n",
    "\n",
    "Пять категорий выделялись, чтобы выполнить анализ более подробно в разрезе каждого класса, выделение большего количества категорий было бы лишним и только усложняло бы восприятие информации. "
   ]
  },
  {
   "cell_type": "code",
   "execution_count": 347,
   "metadata": {},
   "outputs": [
    {
     "name": "stdout",
     "output_type": "stream",
     "text": [
      "\u001b[31mКоличество оформленных кредитов по категориям клиентов\u001b[0m\n",
      "средне-высокий доход    16382\n",
      "средний доход            4091\n",
      "низкий доход              758\n",
      "высокий доход             197\n",
      "очень высокий доход        25\n",
      "Name: income_id, dtype: int64\n"
     ]
    }
   ],
   "source": [
    "def income_id (row):\n",
    "    income = row['total_income']\n",
    "    \n",
    "    if income <= 50000:\n",
    "        return 'низкий доход'\n",
    "    \n",
    "    if income > 50000 and income <= 100000:\n",
    "        return 'средний доход'\n",
    "    \n",
    "    if income > 100000 and income <= 500000:\n",
    "        return 'средне-высокий доход'\n",
    "    \n",
    "    if income > 500000 and income <= 1000000:\n",
    "        return 'высокий доход'\n",
    "    \n",
    "    if income > 1000000:\n",
    "        return 'очень высокий доход'\n",
    "    \n",
    "    \n",
    "\n",
    "df_new['income_id'] = df_new.apply(income_id, axis = 1)\n",
    "    \n",
    "print('\\033[31m','Количество оформленных кредитов по категориям клиентов','\\033[0m','\\n',\n",
    "      df_new['income_id'].value_counts(), sep='')   \n",
    "    "
   ]
  },
  {
   "cell_type": "code",
   "execution_count": 348,
   "metadata": {},
   "outputs": [
    {
     "name": "stdout",
     "output_type": "stream",
     "text": [
      "\u001b[31mЧисло оформленных кредитов в зависимости от количества детей у клиента\u001b[0m\n",
      "0    14090\n",
      "1     4855\n",
      "2     2128\n",
      "3      330\n",
      "4       41\n",
      "5        9\n",
      "Name: children, dtype: int64\n"
     ]
    }
   ],
   "source": [
    "    \n",
    "print('\\033[31m','Число оформленных кредитов в зависимости от количества детей у клиента','\\033[0m', '\\n',\n",
    "      df_new['children'].value_counts(), sep='')   \n",
    "    "
   ]
  },
  {
   "cell_type": "markdown",
   "metadata": {},
   "source": [
    "#### Вывод"
   ]
  },
  {
   "cell_type": "markdown",
   "metadata": {},
   "source": [
    "Мы разделили клиентов по нескольким категориям:\n",
    "* по целям на взятие кредита - столбец `purpose_id`: чаще всего кредит берут на покупку недвижимости, реже всего - на ремонт.\n",
    "* по уровеню дохода - столбец `income_id`: чаще всего в нашей выборке кредиты берут клиенты с доходом от 100 до 500 тыс. рублей, реже всего клиенты с ддоходом от 1 млн. руб.\n",
    "* по количеству детей - столбец `children`. В этом случае создавать отдельный столбец не пришлось, принимаем, что отсутствие детей соответствует категории **0**, 1 ребенок - категории **1** и так далее. \n",
    "\n",
    "Оказалось, что большее количество кредитов из нашей выборки брали клиенты, не имеющие детей, меньшее - многодетные клиенты. Что на самом деле объясняется тем, что таких клиентов в выборке встречается меньшее количество. "
   ]
  },
  {
   "cell_type": "markdown",
   "metadata": {},
   "source": [
    "## Анализ данных"
   ]
  },
  {
   "cell_type": "markdown",
   "metadata": {},
   "source": [
    "### **Есть ли зависимость между наличием детей и возвратом кредита в срок?**"
   ]
  },
  {
   "cell_type": "markdown",
   "metadata": {},
   "source": [
    "Чтобы ответить на этот вопрос, сгруппируем данные методом `groupby()`по количеству детей и найдем отношение суммы показателей наличия задолженности (`debt`) по каждой категории к общему количеству этих показателей по каждой категории. \n",
    "\n",
    "Получаем долю должников по каждой категории, где 0 - в данной категории не было клиентов с задолженностью, 1 - в данной категории у всех были задолженности.  \n",
    "\n",
    "Если это значение домножить на 100, то получим значения наличия задолженностей в процентах для клиентов с различным количеством детей."
   ]
  },
  {
   "cell_type": "code",
   "execution_count": 349,
   "metadata": {},
   "outputs": [
    {
     "data": {
      "text/html": [
       "<div>\n",
       "<style scoped>\n",
       "    .dataframe tbody tr th:only-of-type {\n",
       "        vertical-align: middle;\n",
       "    }\n",
       "\n",
       "    .dataframe tbody tr th {\n",
       "        vertical-align: top;\n",
       "    }\n",
       "\n",
       "    .dataframe thead tr th {\n",
       "        text-align: left;\n",
       "    }\n",
       "\n",
       "    .dataframe thead tr:last-of-type th {\n",
       "        text-align: right;\n",
       "    }\n",
       "</style>\n",
       "<table border=\"1\" class=\"dataframe\">\n",
       "  <thead>\n",
       "    <tr>\n",
       "      <th></th>\n",
       "      <th>sum</th>\n",
       "      <th>count</th>\n",
       "      <th>ratio,%</th>\n",
       "    </tr>\n",
       "    <tr>\n",
       "      <th></th>\n",
       "      <th>debt</th>\n",
       "      <th>debt</th>\n",
       "      <th></th>\n",
       "    </tr>\n",
       "    <tr>\n",
       "      <th>children</th>\n",
       "      <th></th>\n",
       "      <th></th>\n",
       "      <th></th>\n",
       "    </tr>\n",
       "  </thead>\n",
       "  <tbody>\n",
       "    <tr>\n",
       "      <th>0</th>\n",
       "      <td>1063</td>\n",
       "      <td>14090</td>\n",
       "      <td>7.544358</td>\n",
       "    </tr>\n",
       "    <tr>\n",
       "      <th>1</th>\n",
       "      <td>445</td>\n",
       "      <td>4855</td>\n",
       "      <td>9.165808</td>\n",
       "    </tr>\n",
       "    <tr>\n",
       "      <th>2</th>\n",
       "      <td>202</td>\n",
       "      <td>2128</td>\n",
       "      <td>9.492481</td>\n",
       "    </tr>\n",
       "    <tr>\n",
       "      <th>3</th>\n",
       "      <td>27</td>\n",
       "      <td>330</td>\n",
       "      <td>8.181818</td>\n",
       "    </tr>\n",
       "    <tr>\n",
       "      <th>4</th>\n",
       "      <td>4</td>\n",
       "      <td>41</td>\n",
       "      <td>9.756098</td>\n",
       "    </tr>\n",
       "    <tr>\n",
       "      <th>5</th>\n",
       "      <td>0</td>\n",
       "      <td>9</td>\n",
       "      <td>0.000000</td>\n",
       "    </tr>\n",
       "  </tbody>\n",
       "</table>\n",
       "</div>"
      ],
      "text/plain": [
       "           sum  count   ratio,%\n",
       "          debt   debt          \n",
       "children                       \n",
       "0         1063  14090  7.544358\n",
       "1          445   4855  9.165808\n",
       "2          202   2128  9.492481\n",
       "3           27    330  8.181818\n",
       "4            4     41  9.756098\n",
       "5            0      9  0.000000"
      ]
     },
     "execution_count": 349,
     "metadata": {},
     "output_type": "execute_result"
    }
   ],
   "source": [
    "child_pivot = df.pivot_table(index=['children'],  values='debt', aggfunc=['sum', 'count'])\n",
    "child_pivot['ratio,%'] = child_pivot['sum']['debt']/child_pivot['count']['debt']*100\n",
    "child_pivot"
   ]
  },
  {
   "cell_type": "markdown",
   "metadata": {},
   "source": [
    "Построим диаграмму для визуализации результатов:"
   ]
  },
  {
   "cell_type": "code",
   "execution_count": 354,
   "metadata": {},
   "outputs": [
    {
     "data": {
      "text/plain": [
       "Text(0.5, 1.0, 'Зависимость между наличием детей и возвратом кредита в срок')"
      ]
     },
     "execution_count": 354,
     "metadata": {},
     "output_type": "execute_result"
    },
    {
     "data": {
      "image/png": "[encoded data removed]",
      "text/plain": [
       "<Figure size 432x288 with 1 Axes>"
      ]
     },
     "metadata": {
      "needs_background": "light"
     },
     "output_type": "display_data"
    }
   ],
   "source": [
    "children = child_pivot.index\n",
    "percent_of_debt = child_pivot['ratio,%']\n",
    "\n",
    "sns.barplot(x = children, y = percent_of_debt)\n",
    "plt.title('Зависимость между наличием детей и возвратом кредита в срок')"
   ]
  },
  {
   "cell_type": "markdown",
   "metadata": {},
   "source": [
    "#### Вывод"
   ]
  },
  {
   "cell_type": "markdown",
   "metadata": {},
   "source": [
    "Исходя из результатов, видно, что пусть и небольшая, зависимость между количеством детей и наличием задолженностей по выплате кредита существует: чем больше детей в семье, тем больше среди клиентов встречается должников. \n",
    "\n",
    "Выбиваются только данные двух категорий клиентов: с 3 и 5 детьми, что можно объяснить тем что клиентов в выборке с более чем 2 детьми существенно меньше, что может давать подобное отклонение.\n",
    "\n",
    "Можно сделать вывод, что вероятнее всего вернут кредит в срок клиенты без детей."
   ]
  },
  {
   "cell_type": "markdown",
   "metadata": {},
   "source": [
    "### **Есть ли зависимость между семейным положением и возвратом кредита в срок?**"
   ]
  },
  {
   "cell_type": "markdown",
   "metadata": {},
   "source": [
    "Чтобы ответить на этот вопрос, поступаем аналогично предыдущему пункту.\n",
    "\n",
    "Cгруппируем данные методом groupby() по категориям семейного положения и найдем отношение суммы показателей наличия задолженности (debt) по каждой категории к общему количеству этих показателей по каждой категории.\n",
    "\n",
    "Получаем долю должников по каждой категории, где 0 - в данной категории не было клиентов с задолженностью, 1 - в данной категории у всех были задолженности.\n",
    "\n",
    "Если это значение домножить на 100, то получим значения наличия задолженностей в процентах для клиентов с различным семейным положением."
   ]
  },
  {
   "cell_type": "code",
   "execution_count": 351,
   "metadata": {},
   "outputs": [
    {
     "name": "stdout",
     "output_type": "stream",
     "text": [
      "\u001b[31mНаличие задолженностей в зависимости от семейного положения,%:\u001b[0m\n",
      "family_status\n",
      "вдовец / вдова           6.569343\n",
      "в разводе                7.112971\n",
      "женат / замужем          7.545182\n",
      "гражданский брак         9.349398\n",
      "Не женат / не замужем    9.750890\n",
      "Name: debt, dtype: float64\n"
     ]
    }
   ],
   "source": [
    "family_df = df[['family_status','debt']]\n",
    "family_groupped = (family_df.groupby('family_status')['debt'].sum()/family_df.groupby('family_status')['debt'].count())*100 \n",
    "\n",
    "\n",
    "print('\\033[31m','Наличие задолженностей в зависимости от семейного положения,%:','\\033[0m','\\n',\n",
    "      family_groupped.sort_values(), sep='')"
   ]
  },
  {
   "cell_type": "markdown",
   "metadata": {},
   "source": [
    "#### Вывод"
   ]
  },
  {
   "cell_type": "markdown",
   "metadata": {},
   "source": [
    "Четкой зависимости здесь мы не получили. \n",
    "\n",
    "Но можно сделать вывод о том, что среди вдовцов, разведенных и состоящих в официальном браке должников меньше, чем состоящих в гражданском браке и неженатых клиентов. \n",
    "\n",
    "Больше всего  должников среди тех, кто не состоит в официальном браке может быть потому, что в случае сокращения дохода у такого клиента (больничные, увольнение, смена работы и т.д.) растет вероятность совершить просрочку по платежу, так как нет супруга, который бы \"подстраховал\" в этой ситуации. Либо у семей есть общий бюджет, либо партнер старается помочь другому за свои средства, чтобы в случае задолженности не приставы не арестовали общее имущество."
   ]
  },
  {
   "cell_type": "markdown",
   "metadata": {},
   "source": [
    "### **Есть ли зависимость между уровнем дохода и возвратом кредита в срок?**"
   ]
  },
  {
   "cell_type": "markdown",
   "metadata": {},
   "source": [
    "Чтобы ответить на этот вопрос, поступаем аналогично предыдущим пунктам:\n",
    "\n",
    "Сгруппируем данные методом groupby() по различным уровням дохода и найдем отношение суммы показателей наличия задолженности (debt) по каждой категории к общему количеству этих показателей по каждой категории.\n",
    "\n",
    "Получаем долю должников по каждой категории, где 0 - в данной категории не было клиентов с задолженностью, 1 - в данной категории у всех были задолженности.\n",
    "\n",
    "Если это значение домножить на 100, то получим значения наличия задолженностей в процентах для клиентов с различным доходом."
   ]
  },
  {
   "cell_type": "markdown",
   "metadata": {},
   "source": [
    "Уровни ежемесячного дохода мы выделяли ранее:\n",
    "* категория 1 - \"низкий доход\" - доход до 50 тыс. руб.\n",
    "* категория 2 - \"средний доход\" - от 50 тыс. руб. до 100 тыс. руб.\n",
    "* категория 3 - \"средне-высокий доход\" - от 100 тыс. руб. до 500 тыс. руб.\n",
    "* категория 4 - \"высокий доход\" - от 500 тыс. руб. до 1 млн. руб.\n",
    "* категория 5 - \"очень высокий доход\" - более 1 млн. руб."
   ]
  },
  {
   "cell_type": "code",
   "execution_count": 352,
   "metadata": {},
   "outputs": [
    {
     "name": "stdout",
     "output_type": "stream",
     "text": [
      "\u001b[31mНаличие задолженностей в зависимости от уровня дохода,%:\u001b[0m\n",
      "income_id\n",
      "высокий доход           6.091371\n",
      "низкий доход            7.651715\n",
      "очень высокий доход     8.000000\n",
      "средний доход           8.090931\n",
      "средне-высокий доход    8.167501\n",
      "Name: debt, dtype: float64\n"
     ]
    }
   ],
   "source": [
    "income_df = df_new[['income_id','debt']]\n",
    "income_grouped = (income_df.groupby('income_id')['debt'].sum()/income_df.groupby('income_id')['debt'].count())*100 \n",
    "\n",
    "\n",
    "print('\\033[31m','Наличие задолженностей в зависимости от уровня дохода,%:','\\033[0m','\\n',\n",
    "      income_grouped.sort_values(),sep='')"
   ]
  },
  {
   "cell_type": "markdown",
   "metadata": {},
   "source": [
    "Построим диаграмму для визуализации результатов:"
   ]
  },
  {
   "cell_type": "code",
   "execution_count": 355,
   "metadata": {},
   "outputs": [
    {
     "data": {
      "text/plain": [
       "Text(0.5, 1.0, 'Зависимость между уровнем дохода и возвратом кредита в срок')"
      ]
     },
     "execution_count": 355,
     "metadata": {},
     "output_type": "execute_result"
    },
    {
     "data": {
      "image/png": "[encoded data removed]",
      "text/plain": [
       "<Figure size 432x288 with 1 Axes>"
      ]
     },
     "metadata": {
      "needs_background": "light"
     },
     "output_type": "display_data"
    }
   ],
   "source": [
    "income = [1,2,3,4,5] \n",
    "percent_of_debt = [7.65, 8.09, 8.17, 6.09, 8]\n",
    "\n",
    "sns.barplot(x = income, y = percent_of_debt)\n",
    "plt.title('Зависимость между уровнем дохода и возвратом кредита в срок')"
   ]
  },
  {
   "cell_type": "markdown",
   "metadata": {},
   "source": [
    "#### Вывод"
   ]
  },
  {
   "cell_type": "markdown",
   "metadata": {},
   "source": [
    "Из графика видно, что прямой зависимости между уровнем дохода и наличием задолженностей нет. \n",
    "Видно, что процент должников в 4 категории гораздо выше, чем ожидается, что можно связать с тем, что данных о клиентах с доходом более 1 млн. рублей гораздо меньше, чем данных в других категориях, поэтому мы видим резкий скачок результата в конце.\n",
    "\n",
    "Если брать во внимание первые 4 категории клиентов по доходу, то с увеличением дохода, также растет и вероятность задолженности, до тех пор, пока доход не достигнет значения 500 тыс. руб. Клиенты с доходом от 500 тыс. руб. до 1 млн.руб. реже сталкиваются с задолженностями."
   ]
  },
  {
   "cell_type": "markdown",
   "metadata": {},
   "source": [
    "### **Как разные цели кредита влияют на его возврат в срок?**"
   ]
  },
  {
   "cell_type": "markdown",
   "metadata": {},
   "source": [
    "Чтобы ответить на этот вопрос, поступаем аналогично предыдущим пунктам:\n",
    "\n",
    "Сгруппируем данные методом groupby() по различным целям на взятие кредита и найдем отношение суммы показателей наличия задолженности (debt) по каждой категории к общему количеству этих показателей по каждой категории.\n",
    "\n",
    "Получаем долю должников по каждой категории, где 0 - в данной категории не было клиентов с задолженностью, 1 - в данной категории у всех были задолженности.\n",
    "\n",
    "Если это значение домножить на 100, то получим значения наличия задолженностей в процентах по разным целям кредита."
   ]
  },
  {
   "cell_type": "code",
   "execution_count": 315,
   "metadata": {},
   "outputs": [
    {
     "name": "stdout",
     "output_type": "stream",
     "text": [
      "\u001b[31mНаличие задолженностей в зависимости от цели кредита,%:\n",
      "\u001b[0mpurpose_id\n",
      "ремонт         5.766063\n",
      "жилье          7.321376\n",
      "свадьба        8.003442\n",
      "образование    9.220035\n",
      "автомобиль     9.359034\n",
      "Name: debt, dtype: float64\n"
     ]
    }
   ],
   "source": [
    "purpose_df = df_new[['purpose_id','debt']]\n",
    "purpose_grouped = (purpose_df.groupby('purpose_id')['debt'].sum()/purpose_df.groupby('purpose_id')['debt'].count())*100 \n",
    "\n",
    "\n",
    "print('\\033[31m','Наличие задолженностей в зависимости от цели кредита,%:','\\n','\\033[0m',\n",
    "      purpose_grouped.sort_values(),sep='')"
   ]
  },
  {
   "cell_type": "markdown",
   "metadata": {},
   "source": [
    "#### Вывод"
   ]
  },
  {
   "cell_type": "markdown",
   "metadata": {},
   "source": [
    "Чаще всего с задолженностями сталкивались те, кто брал кредит на покупку автомобиля, на оплату образования и на свадьбу, реже всего те, кто брал кредет на жилье и ремонт.\n",
    "\n",
    "Это можно объяснить тем, что на ремонт обычно берут небольшие денежные суммы, которые легче возвращать, а соответственно меньше вероятность просрочить платеж по кредиту; кредиты на недвижимость обычно выдаются на большие временные сроки, что также позволяет уменьшить вероятность задолженности; в случае взятия кредита для оплаты свадебных расходов часть долга перекрывается подаренными деньгами, но, к сожалению, не всегда и не полностью; в случае взятия кредита на оплату образования платежи обычно небольшие, но так как тяжело совмещать учебу и работу, иногда возникают трудности со своевременным погашением кредита из-за отсутсвия стабильно высокого заработка; и, наконец, в случае покупки автомобиля в кредит, часто люди сталкиваются с тем, что их расходы увеличиваются не только из-за необходимости выплачивать кредит, но и с тем, что появляются новые затраты - на бензин, обслуживание автомобиля, страхование и т.д., что повышает выроятность просрочек по выплатам."
   ]
  },
  {
   "cell_type": "markdown",
   "metadata": {},
   "source": [
    "##  Общий вывод"
   ]
  },
  {
   "cell_type": "markdown",
   "metadata": {},
   "source": [
    "Исходя из совокупности всех предыдущих выводов, мы получаем портреты наиболее и наименее желаемых заемщиков кредитных средств:\n",
    "* Вероятность того, что кредитные средства будут возвращены заемщиком в срок, максимальна, если заемщиком является бездетный вдовец/вдова или разведенный бездетный клиент, который берет кредит для ремонта своего жилья, с официальным доходом более 500 тыс. рублей.\n",
    "\n",
    "\n",
    "* И, напротив, вероятность того, что кредитные средства будут возвращены заемщиком в срок, минимальна, если заемщиком является многодетный клиент, не состоящий в официальном браке, который берет кредит на покупку автомобиля или на оплату образования, с официальным доходом менее 500 тысяч рублей."
   ]
  }
 ],
 "metadata": {
  "ExecuteTimeLog": [
   {
    "duration": 785,
    "start_time": "2021-12-01T12:08:11.668Z"
   },
   {
    "duration": 87,
    "start_time": "2021-12-01T12:08:37.938Z"
   },
   {
    "duration": 76,
    "start_time": "2021-12-01T12:09:08.955Z"
   },
   {
    "duration": 77,
    "start_time": "2021-12-01T12:09:42.991Z"
   },
   {
    "duration": 70,
    "start_time": "2021-12-01T12:13:37.121Z"
   },
   {
    "duration": 543,
    "start_time": "2021-12-01T12:16:21.713Z"
   },
   {
    "duration": 83,
    "start_time": "2021-12-01T12:16:33.754Z"
   },
   {
    "duration": 72,
    "start_time": "2021-12-01T12:16:52.416Z"
   },
   {
    "duration": 74,
    "start_time": "2021-12-01T12:17:14.911Z"
   },
   {
    "duration": 11,
    "start_time": "2021-12-01T12:57:33.764Z"
   },
   {
    "duration": 11,
    "start_time": "2021-12-01T12:57:54.291Z"
   },
   {
    "duration": 11,
    "start_time": "2021-12-01T12:57:59.588Z"
   },
   {
    "duration": 77,
    "start_time": "2021-12-01T13:14:26.135Z"
   },
   {
    "duration": 79,
    "start_time": "2021-12-01T13:14:47.088Z"
   },
   {
    "duration": 62,
    "start_time": "2021-12-01T13:15:43.920Z"
   },
   {
    "duration": 61,
    "start_time": "2021-12-01T13:23:41.817Z"
   },
   {
    "duration": 516,
    "start_time": "2021-12-01T13:24:21.269Z"
   },
   {
    "duration": 83,
    "start_time": "2021-12-01T13:25:01.554Z"
   },
   {
    "duration": 76,
    "start_time": "2021-12-01T13:25:22.263Z"
   },
   {
    "duration": 76,
    "start_time": "2021-12-01T13:27:08.270Z"
   },
   {
    "duration": 69,
    "start_time": "2021-12-01T13:29:48.283Z"
   },
   {
    "duration": 58,
    "start_time": "2021-12-01T13:30:04.500Z"
   },
   {
    "duration": 60,
    "start_time": "2021-12-01T13:30:18.697Z"
   },
   {
    "duration": 70,
    "start_time": "2021-12-01T13:31:35.836Z"
   },
   {
    "duration": 71,
    "start_time": "2021-12-01T13:33:24.665Z"
   },
   {
    "duration": 73,
    "start_time": "2021-12-01T13:34:02.768Z"
   },
   {
    "duration": 89,
    "start_time": "2021-12-01T13:34:31.059Z"
   },
   {
    "duration": 516,
    "start_time": "2021-12-01T13:38:07.887Z"
   },
   {
    "duration": 6,
    "start_time": "2021-12-01T13:38:13.238Z"
   },
   {
    "duration": 55,
    "start_time": "2021-12-01T13:39:20.373Z"
   },
   {
    "duration": 36,
    "start_time": "2021-12-01T13:39:49.841Z"
   },
   {
    "duration": 79,
    "start_time": "2021-12-01T13:40:02.859Z"
   },
   {
    "duration": 68,
    "start_time": "2021-12-01T13:40:08.860Z"
   },
   {
    "duration": 67,
    "start_time": "2021-12-01T13:41:49.572Z"
   },
   {
    "duration": 77,
    "start_time": "2021-12-01T13:50:28.441Z"
   },
   {
    "duration": 451,
    "start_time": "2021-12-01T14:07:24.873Z"
   },
   {
    "duration": 153,
    "start_time": "2021-12-01T14:07:29.276Z"
   },
   {
    "duration": 393,
    "start_time": "2021-12-01T14:08:25.765Z"
   },
   {
    "duration": 145,
    "start_time": "2021-12-01T14:08:38.599Z"
   },
   {
    "duration": 109,
    "start_time": "2021-12-01T14:09:21.536Z"
   },
   {
    "duration": 38,
    "start_time": "2021-12-01T14:10:11.521Z"
   },
   {
    "duration": 367,
    "start_time": "2021-12-01T14:10:29.251Z"
   },
   {
    "duration": 67,
    "start_time": "2021-12-01T14:11:17.253Z"
   },
   {
    "duration": 72,
    "start_time": "2021-12-01T14:22:08.029Z"
   },
   {
    "duration": 80,
    "start_time": "2021-12-01T14:22:45.115Z"
   },
   {
    "duration": 78,
    "start_time": "2021-12-01T14:23:24.820Z"
   },
   {
    "duration": 71,
    "start_time": "2021-12-01T14:23:41.225Z"
   },
   {
    "duration": 74,
    "start_time": "2021-12-01T14:27:15.938Z"
   },
   {
    "duration": 40,
    "start_time": "2021-12-01T14:31:37.885Z"
   },
   {
    "duration": 83,
    "start_time": "2021-12-01T14:31:54.328Z"
   },
   {
    "duration": 75,
    "start_time": "2021-12-01T15:01:23.140Z"
   },
   {
    "duration": 72,
    "start_time": "2021-12-01T15:14:27.904Z"
   },
   {
    "duration": 19,
    "start_time": "2021-12-01T15:24:37.052Z"
   },
   {
    "duration": 19,
    "start_time": "2021-12-01T15:25:10.235Z"
   },
   {
    "duration": 12,
    "start_time": "2021-12-01T15:42:43.957Z"
   },
   {
    "duration": 11,
    "start_time": "2021-12-01T15:42:46.110Z"
   },
   {
    "duration": 123,
    "start_time": "2021-12-01T15:43:05.271Z"
   },
   {
    "duration": 79,
    "start_time": "2021-12-01T15:43:26.593Z"
   },
   {
    "duration": 26,
    "start_time": "2021-12-01T15:44:04.182Z"
   },
   {
    "duration": 33,
    "start_time": "2021-12-01T15:44:34.420Z"
   },
   {
    "duration": 14,
    "start_time": "2021-12-01T15:45:09.791Z"
   },
   {
    "duration": -30,
    "start_time": "2021-12-01T15:50:14.003Z"
   },
   {
    "duration": 443,
    "start_time": "2021-12-01T15:51:36.883Z"
   },
   {
    "duration": -38,
    "start_time": "2021-12-01T15:52:25.861Z"
   },
   {
    "duration": 7905,
    "start_time": "2021-12-01T15:52:30.127Z"
   },
   {
    "duration": 25,
    "start_time": "2021-12-01T15:54:23.766Z"
   },
   {
    "duration": 10826,
    "start_time": "2021-12-01T15:58:12.331Z"
   },
   {
    "duration": 9437,
    "start_time": "2021-12-01T15:58:45.549Z"
   },
   {
    "duration": 9709,
    "start_time": "2021-12-01T15:59:16.590Z"
   },
   {
    "duration": 9142,
    "start_time": "2021-12-01T16:03:48.651Z"
   },
   {
    "duration": 9558,
    "start_time": "2021-12-01T16:04:26.065Z"
   },
   {
    "duration": -37,
    "start_time": "2021-12-01T16:09:09.745Z"
   },
   {
    "duration": -37,
    "start_time": "2021-12-01T16:09:09.746Z"
   },
   {
    "duration": 661,
    "start_time": "2021-12-03T15:02:32.653Z"
   },
   {
    "duration": 983,
    "start_time": "2021-12-04T13:04:28.688Z"
   },
   {
    "duration": 136,
    "start_time": "2021-12-04T13:04:34.869Z"
   },
   {
    "duration": 174,
    "start_time": "2021-12-04T13:05:34.112Z"
   },
   {
    "duration": 142,
    "start_time": "2021-12-04T13:05:39.589Z"
   },
   {
    "duration": 167,
    "start_time": "2021-12-04T13:05:47.421Z"
   },
   {
    "duration": 12,
    "start_time": "2021-12-04T13:59:36.612Z"
   },
   {
    "duration": 5,
    "start_time": "2021-12-04T14:37:21.765Z"
   },
   {
    "duration": 9,
    "start_time": "2021-12-04T14:52:54.900Z"
   },
   {
    "duration": 18,
    "start_time": "2021-12-04T14:53:15.868Z"
   },
   {
    "duration": 12,
    "start_time": "2021-12-04T14:54:59.221Z"
   },
   {
    "duration": 11,
    "start_time": "2021-12-04T14:55:59.252Z"
   },
   {
    "duration": 12,
    "start_time": "2021-12-04T14:57:11.369Z"
   },
   {
    "duration": 496,
    "start_time": "2021-12-04T15:13:20.143Z"
   },
   {
    "duration": 670,
    "start_time": "2021-12-04T15:13:28.764Z"
   },
   {
    "duration": 507,
    "start_time": "2021-12-04T15:15:00.996Z"
   },
   {
    "duration": 137,
    "start_time": "2021-12-04T15:20:40.695Z"
   },
   {
    "duration": 154,
    "start_time": "2021-12-04T15:20:53.438Z"
   },
   {
    "duration": 95,
    "start_time": "2021-12-04T15:20:58.544Z"
   },
   {
    "duration": 13,
    "start_time": "2021-12-04T15:21:10.888Z"
   },
   {
    "duration": 14,
    "start_time": "2021-12-04T15:21:15.808Z"
   },
   {
    "duration": 5,
    "start_time": "2021-12-04T15:21:28.502Z"
   },
   {
    "duration": 11,
    "start_time": "2021-12-04T15:21:38.483Z"
   },
   {
    "duration": 12,
    "start_time": "2021-12-04T15:27:23.520Z"
   },
   {
    "duration": 296,
    "start_time": "2021-12-04T15:27:25.585Z"
   },
   {
    "duration": 7,
    "start_time": "2021-12-04T15:27:51.796Z"
   },
   {
    "duration": 306,
    "start_time": "2021-12-04T15:27:53.318Z"
   },
   {
    "duration": 8,
    "start_time": "2021-12-04T15:28:46.237Z"
   },
   {
    "duration": 452,
    "start_time": "2021-12-04T15:28:47.493Z"
   },
   {
    "duration": 4,
    "start_time": "2021-12-04T15:29:00.550Z"
   },
   {
    "duration": 805,
    "start_time": "2021-12-04T15:29:01.645Z"
   },
   {
    "duration": 104,
    "start_time": "2021-12-04T15:29:39.822Z"
   },
   {
    "duration": 177,
    "start_time": "2021-12-04T15:29:39.929Z"
   },
   {
    "duration": 14,
    "start_time": "2021-12-04T15:29:40.110Z"
   },
   {
    "duration": 4,
    "start_time": "2021-12-04T15:29:40.127Z"
   },
   {
    "duration": 58,
    "start_time": "2021-12-04T15:29:40.134Z"
   },
   {
    "duration": 134,
    "start_time": "2021-12-04T15:29:40.194Z"
   },
   {
    "duration": -284,
    "start_time": "2021-12-04T15:29:40.614Z"
   },
   {
    "duration": 6,
    "start_time": "2021-12-04T15:31:58.528Z"
   },
   {
    "duration": 1123,
    "start_time": "2021-12-04T15:32:09.376Z"
   },
   {
    "duration": 105,
    "start_time": "2021-12-04T15:32:18.370Z"
   },
   {
    "duration": 90,
    "start_time": "2021-12-04T15:32:33.001Z"
   },
   {
    "duration": 5,
    "start_time": "2021-12-04T15:32:49.244Z"
   },
   {
    "duration": 870,
    "start_time": "2021-12-04T15:32:50.208Z"
   },
   {
    "duration": 9,
    "start_time": "2021-12-04T15:33:20.244Z"
   },
   {
    "duration": 539,
    "start_time": "2021-12-04T15:34:40.779Z"
   },
   {
    "duration": 743,
    "start_time": "2021-12-04T15:35:19.177Z"
   },
   {
    "duration": 649,
    "start_time": "2021-12-04T15:36:14.338Z"
   },
   {
    "duration": 6,
    "start_time": "2021-12-04T15:36:43.528Z"
   },
   {
    "duration": 786,
    "start_time": "2021-12-04T15:37:02.666Z"
   },
   {
    "duration": 622,
    "start_time": "2021-12-04T15:38:53.315Z"
   },
   {
    "duration": 725,
    "start_time": "2021-12-04T15:41:19.708Z"
   },
   {
    "duration": 617,
    "start_time": "2021-12-04T15:42:25.133Z"
   },
   {
    "duration": 36,
    "start_time": "2021-12-04T15:42:44.607Z"
   },
   {
    "duration": 151,
    "start_time": "2021-12-04T15:42:54.120Z"
   },
   {
    "duration": 152,
    "start_time": "2021-12-04T15:42:54.440Z"
   },
   {
    "duration": 18,
    "start_time": "2021-12-04T15:42:56.234Z"
   },
   {
    "duration": 5,
    "start_time": "2021-12-04T15:42:56.760Z"
   },
   {
    "duration": 13,
    "start_time": "2021-12-04T15:42:57.267Z"
   },
   {
    "duration": 50,
    "start_time": "2021-12-04T15:43:02.261Z"
   },
   {
    "duration": 1070,
    "start_time": "2021-12-04T15:43:08.738Z"
   },
   {
    "duration": 615,
    "start_time": "2021-12-04T15:44:49.711Z"
   },
   {
    "duration": 686,
    "start_time": "2021-12-04T15:45:21.640Z"
   },
   {
    "duration": 637,
    "start_time": "2021-12-04T15:46:08.913Z"
   },
   {
    "duration": 1081,
    "start_time": "2021-12-04T15:49:24.766Z"
   },
   {
    "duration": 1022,
    "start_time": "2021-12-04T15:50:29.713Z"
   },
   {
    "duration": 691,
    "start_time": "2021-12-04T15:52:23.981Z"
   },
   {
    "duration": 127,
    "start_time": "2021-12-04T15:53:17.051Z"
   },
   {
    "duration": 103,
    "start_time": "2021-12-04T15:53:28.852Z"
   },
   {
    "duration": 105,
    "start_time": "2021-12-04T15:53:29.940Z"
   },
   {
    "duration": 18,
    "start_time": "2021-12-04T15:53:33.772Z"
   },
   {
    "duration": 6,
    "start_time": "2021-12-04T15:53:35.645Z"
   },
   {
    "duration": 11,
    "start_time": "2021-12-04T15:53:36.539Z"
   },
   {
    "duration": 39,
    "start_time": "2021-12-04T15:53:41.134Z"
   },
   {
    "duration": 37,
    "start_time": "2021-12-04T15:54:11.525Z"
   },
   {
    "duration": 104,
    "start_time": "2021-12-04T15:54:24.430Z"
   },
   {
    "duration": 168,
    "start_time": "2021-12-04T15:54:24.536Z"
   },
   {
    "duration": 14,
    "start_time": "2021-12-04T15:54:24.707Z"
   },
   {
    "duration": 6,
    "start_time": "2021-12-04T15:54:24.724Z"
   },
   {
    "duration": 54,
    "start_time": "2021-12-04T15:54:24.733Z"
   },
   {
    "duration": 55,
    "start_time": "2021-12-04T15:54:24.790Z"
   },
   {
    "duration": 1142,
    "start_time": "2021-12-04T15:54:24.848Z"
   },
   {
    "duration": 201,
    "start_time": "2021-12-04T15:54:25.994Z"
   },
   {
    "duration": 684,
    "start_time": "2021-12-04T15:55:48.550Z"
   },
   {
    "duration": 790,
    "start_time": "2021-12-04T16:01:01.059Z"
   },
   {
    "duration": 814,
    "start_time": "2021-12-04T16:01:10.074Z"
   },
   {
    "duration": 158,
    "start_time": "2021-12-04T16:01:27.177Z"
   },
   {
    "duration": 182,
    "start_time": "2021-12-04T16:01:27.339Z"
   },
   {
    "duration": 14,
    "start_time": "2021-12-04T16:01:27.524Z"
   },
   {
    "duration": 6,
    "start_time": "2021-12-04T16:01:27.582Z"
   },
   {
    "duration": 25,
    "start_time": "2021-12-04T16:01:27.591Z"
   },
   {
    "duration": 1107,
    "start_time": "2021-12-04T16:01:27.619Z"
   },
   {
    "duration": 196,
    "start_time": "2021-12-04T16:01:28.729Z"
   },
   {
    "duration": 1001,
    "start_time": "2021-12-04T16:01:47.006Z"
   },
   {
    "duration": 156,
    "start_time": "2021-12-04T16:01:51.817Z"
   },
   {
    "duration": 141,
    "start_time": "2021-12-04T16:01:51.983Z"
   },
   {
    "duration": 56,
    "start_time": "2021-12-04T16:01:52.128Z"
   },
   {
    "duration": 7,
    "start_time": "2021-12-04T16:01:52.188Z"
   },
   {
    "duration": 27,
    "start_time": "2021-12-04T16:01:52.198Z"
   },
   {
    "duration": 1085,
    "start_time": "2021-12-04T16:01:52.228Z"
   },
   {
    "duration": 196,
    "start_time": "2021-12-04T16:01:53.316Z"
   },
   {
    "duration": 152,
    "start_time": "2021-12-04T16:02:06.094Z"
   },
   {
    "duration": 161,
    "start_time": "2021-12-04T16:02:07.379Z"
   },
   {
    "duration": 19,
    "start_time": "2021-12-04T16:02:11.157Z"
   },
   {
    "duration": 4,
    "start_time": "2021-12-04T16:02:13.253Z"
   },
   {
    "duration": 14,
    "start_time": "2021-12-04T16:02:14.922Z"
   },
   {
    "duration": 714,
    "start_time": "2021-12-04T16:02:30.123Z"
   },
   {
    "duration": 644,
    "start_time": "2021-12-04T16:03:27.343Z"
   },
   {
    "duration": 158,
    "start_time": "2021-12-04T16:03:43.775Z"
   },
   {
    "duration": 160,
    "start_time": "2021-12-04T16:03:43.936Z"
   },
   {
    "duration": 17,
    "start_time": "2021-12-04T16:03:44.100Z"
   },
   {
    "duration": 5,
    "start_time": "2021-12-04T16:03:44.120Z"
   },
   {
    "duration": 54,
    "start_time": "2021-12-04T16:03:44.128Z"
   },
   {
    "duration": 9,
    "start_time": "2021-12-04T16:03:44.185Z"
   },
   {
    "duration": 752,
    "start_time": "2021-12-04T16:03:44.197Z"
   },
   {
    "duration": 145,
    "start_time": "2021-12-04T16:03:44.951Z"
   },
   {
    "duration": 9,
    "start_time": "2021-12-04T16:04:18.628Z"
   },
   {
    "duration": 839,
    "start_time": "2021-12-04T16:04:20.684Z"
   },
   {
    "duration": 135,
    "start_time": "2021-12-04T16:04:47.595Z"
   },
   {
    "duration": 964,
    "start_time": "2021-12-04T16:05:11.083Z"
   },
   {
    "duration": 9,
    "start_time": "2021-12-04T16:05:22.988Z"
   },
   {
    "duration": 603,
    "start_time": "2021-12-04T16:05:23.792Z"
   },
   {
    "duration": 5,
    "start_time": "2021-12-04T16:05:36.206Z"
   },
   {
    "duration": 12,
    "start_time": "2021-12-04T16:05:37.571Z"
   },
   {
    "duration": 12,
    "start_time": "2021-12-04T16:05:41.832Z"
   },
   {
    "duration": 611,
    "start_time": "2021-12-04T16:05:43.009Z"
   },
   {
    "duration": 621,
    "start_time": "2021-12-04T16:07:41.953Z"
   },
   {
    "duration": 19,
    "start_time": "2021-12-04T16:09:13.829Z"
   },
   {
    "duration": 108,
    "start_time": "2021-12-04T16:18:10.026Z"
   },
   {
    "duration": 105,
    "start_time": "2021-12-04T16:18:25.643Z"
   },
   {
    "duration": 192,
    "start_time": "2021-12-04T16:18:41.992Z"
   },
   {
    "duration": 18,
    "start_time": "2021-12-04T16:18:46.558Z"
   },
   {
    "duration": 5,
    "start_time": "2021-12-04T16:18:48.329Z"
   },
   {
    "duration": 13,
    "start_time": "2021-12-04T16:18:49.506Z"
   },
   {
    "duration": 9,
    "start_time": "2021-12-04T16:18:50.788Z"
   },
   {
    "duration": 634,
    "start_time": "2021-12-04T16:18:52.231Z"
   },
   {
    "duration": 12,
    "start_time": "2021-12-04T16:19:00.549Z"
   },
   {
    "duration": 457,
    "start_time": "2021-12-04T16:20:01.786Z"
   },
   {
    "duration": 377,
    "start_time": "2021-12-04T16:21:08.014Z"
   },
   {
    "duration": 379,
    "start_time": "2021-12-04T16:22:06.054Z"
   },
   {
    "duration": 903,
    "start_time": "2021-12-04T16:22:30.685Z"
   },
   {
    "duration": 380,
    "start_time": "2021-12-04T16:22:37.730Z"
   },
   {
    "duration": 650,
    "start_time": "2021-12-05T11:02:31.598Z"
   },
   {
    "duration": 58,
    "start_time": "2021-12-05T11:02:33.576Z"
   },
   {
    "duration": 10,
    "start_time": "2021-12-05T11:02:41.650Z"
   },
   {
    "duration": 4,
    "start_time": "2021-12-05T11:02:43.847Z"
   },
   {
    "duration": 8,
    "start_time": "2021-12-05T11:02:51.428Z"
   },
   {
    "duration": 8,
    "start_time": "2021-12-05T11:02:54.668Z"
   },
   {
    "duration": 346,
    "start_time": "2021-12-05T11:02:58.418Z"
   },
   {
    "duration": 8,
    "start_time": "2021-12-05T11:03:07.866Z"
   },
   {
    "duration": 233,
    "start_time": "2021-12-05T11:06:26.139Z"
   },
   {
    "duration": 247,
    "start_time": "2021-12-05T11:11:53.478Z"
   },
   {
    "duration": 90,
    "start_time": "2021-12-05T11:15:26.523Z"
   },
   {
    "duration": 246,
    "start_time": "2021-12-05T11:15:31.898Z"
   },
   {
    "duration": 73,
    "start_time": "2021-12-05T11:16:42.993Z"
   },
   {
    "duration": 55,
    "start_time": "2021-12-05T11:16:43.222Z"
   },
   {
    "duration": 9,
    "start_time": "2021-12-05T11:16:44.719Z"
   },
   {
    "duration": 4,
    "start_time": "2021-12-05T11:16:45.312Z"
   },
   {
    "duration": 7,
    "start_time": "2021-12-05T11:16:46.005Z"
   },
   {
    "duration": 6,
    "start_time": "2021-12-05T11:16:47.650Z"
   },
   {
    "duration": 353,
    "start_time": "2021-12-05T11:16:48.760Z"
   },
   {
    "duration": 8,
    "start_time": "2021-12-05T11:16:49.295Z"
   },
   {
    "duration": 222,
    "start_time": "2021-12-05T11:16:51.781Z"
   },
   {
    "duration": 234,
    "start_time": "2021-12-05T11:16:54.126Z"
   },
   {
    "duration": 315,
    "start_time": "2021-12-05T11:28:13.849Z"
   },
   {
    "duration": 7,
    "start_time": "2021-12-05T11:28:21.498Z"
   },
   {
    "duration": 8,
    "start_time": "2021-12-05T11:39:16.843Z"
   },
   {
    "duration": 8,
    "start_time": "2021-12-05T11:39:20.688Z"
   },
   {
    "duration": 9,
    "start_time": "2021-12-05T11:39:26.280Z"
   },
   {
    "duration": 10,
    "start_time": "2021-12-05T11:39:33.641Z"
   },
   {
    "duration": 10,
    "start_time": "2021-12-05T11:39:40.215Z"
   },
   {
    "duration": 11,
    "start_time": "2021-12-05T11:39:43.344Z"
   },
   {
    "duration": 5,
    "start_time": "2021-12-05T11:44:41.572Z"
   },
   {
    "duration": 120,
    "start_time": "2021-12-05T11:49:11.947Z"
   },
   {
    "duration": 8,
    "start_time": "2021-12-05T11:54:01.577Z"
   },
   {
    "duration": 469,
    "start_time": "2021-12-05T11:55:40.574Z"
   },
   {
    "duration": 533,
    "start_time": "2021-12-05T11:56:34.462Z"
   },
   {
    "duration": 75,
    "start_time": "2021-12-05T11:56:49.916Z"
   },
   {
    "duration": 85,
    "start_time": "2021-12-05T11:56:49.992Z"
   },
   {
    "duration": 9,
    "start_time": "2021-12-05T11:56:50.079Z"
   },
   {
    "duration": 13,
    "start_time": "2021-12-05T11:56:50.090Z"
   },
   {
    "duration": 44,
    "start_time": "2021-12-05T11:56:50.104Z"
   },
   {
    "duration": 6,
    "start_time": "2021-12-05T11:56:50.150Z"
   },
   {
    "duration": 355,
    "start_time": "2021-12-05T11:56:50.157Z"
   },
   {
    "duration": 8,
    "start_time": "2021-12-05T11:56:50.513Z"
   },
   {
    "duration": 222,
    "start_time": "2021-12-05T11:56:50.523Z"
   },
   {
    "duration": 235,
    "start_time": "2021-12-05T11:56:50.747Z"
   },
   {
    "duration": 497,
    "start_time": "2021-12-05T11:56:50.984Z"
   },
   {
    "duration": 502,
    "start_time": "2021-12-05T11:59:34.304Z"
   },
   {
    "duration": 97,
    "start_time": "2021-12-05T12:02:30.388Z"
   },
   {
    "duration": 59,
    "start_time": "2021-12-05T12:02:30.895Z"
   },
   {
    "duration": 9,
    "start_time": "2021-12-05T12:02:32.764Z"
   },
   {
    "duration": 4,
    "start_time": "2021-12-05T12:02:33.765Z"
   },
   {
    "duration": 6,
    "start_time": "2021-12-05T12:02:34.763Z"
   },
   {
    "duration": 7,
    "start_time": "2021-12-05T12:02:36.091Z"
   },
   {
    "duration": 350,
    "start_time": "2021-12-05T12:02:39.312Z"
   },
   {
    "duration": 12,
    "start_time": "2021-12-05T12:02:47.132Z"
   },
   {
    "duration": 225,
    "start_time": "2021-12-05T12:02:53.090Z"
   },
   {
    "duration": 226,
    "start_time": "2021-12-05T12:03:02.410Z"
   },
   {
    "duration": 442,
    "start_time": "2021-12-05T12:03:12.679Z"
   },
   {
    "duration": 475,
    "start_time": "2021-12-05T12:04:23.821Z"
   },
   {
    "duration": 366,
    "start_time": "2021-12-05T12:05:18.298Z"
   },
   {
    "duration": 376,
    "start_time": "2021-12-05T12:05:22.510Z"
   },
   {
    "duration": 394,
    "start_time": "2021-12-05T12:05:51.150Z"
   },
   {
    "duration": 356,
    "start_time": "2021-12-05T12:06:31.579Z"
   },
   {
    "duration": 371,
    "start_time": "2021-12-05T12:07:09.698Z"
   },
   {
    "duration": 354,
    "start_time": "2021-12-05T12:07:32.825Z"
   },
   {
    "duration": 364,
    "start_time": "2021-12-05T12:08:01.308Z"
   },
   {
    "duration": 361,
    "start_time": "2021-12-05T12:08:37.278Z"
   },
   {
    "duration": 100,
    "start_time": "2021-12-05T12:11:03.192Z"
   },
   {
    "duration": 370,
    "start_time": "2021-12-05T12:11:13.987Z"
   },
   {
    "duration": 359,
    "start_time": "2021-12-05T12:11:54.044Z"
   },
   {
    "duration": 226,
    "start_time": "2021-12-05T12:14:57.441Z"
   },
   {
    "duration": 3,
    "start_time": "2021-12-05T12:20:35.234Z"
   },
   {
    "duration": 267,
    "start_time": "2021-12-05T12:21:34.342Z"
   },
   {
    "duration": 218,
    "start_time": "2021-12-05T12:21:45.103Z"
   },
   {
    "duration": 222,
    "start_time": "2021-12-05T12:21:56.446Z"
   },
   {
    "duration": 74,
    "start_time": "2021-12-05T12:22:02.908Z"
   },
   {
    "duration": 87,
    "start_time": "2021-12-05T12:22:02.983Z"
   },
   {
    "duration": 9,
    "start_time": "2021-12-05T12:22:03.071Z"
   },
   {
    "duration": 12,
    "start_time": "2021-12-05T12:22:03.082Z"
   },
   {
    "duration": 28,
    "start_time": "2021-12-05T12:22:03.096Z"
   },
   {
    "duration": 6,
    "start_time": "2021-12-05T12:22:03.126Z"
   },
   {
    "duration": 365,
    "start_time": "2021-12-05T12:22:03.145Z"
   },
   {
    "duration": 8,
    "start_time": "2021-12-05T12:22:03.512Z"
   },
   {
    "duration": 233,
    "start_time": "2021-12-05T12:22:03.522Z"
   },
   {
    "duration": 239,
    "start_time": "2021-12-05T12:22:03.757Z"
   },
   {
    "duration": 368,
    "start_time": "2021-12-05T12:22:03.998Z"
   },
   {
    "duration": 231,
    "start_time": "2021-12-05T12:22:04.369Z"
   },
   {
    "duration": 157,
    "start_time": "2021-12-05T12:22:47.986Z"
   },
   {
    "duration": 121,
    "start_time": "2021-12-05T12:26:31.058Z"
   },
   {
    "duration": 352,
    "start_time": "2021-12-05T12:26:40.721Z"
   },
   {
    "duration": 369,
    "start_time": "2021-12-05T12:27:00.600Z"
   },
   {
    "duration": 149,
    "start_time": "2021-12-05T12:30:42.153Z"
   },
   {
    "duration": 14,
    "start_time": "2021-12-05T12:35:48.361Z"
   },
   {
    "duration": 16,
    "start_time": "2021-12-05T12:38:46.020Z"
   },
   {
    "duration": 17,
    "start_time": "2021-12-05T12:39:14.952Z"
   },
   {
    "duration": 16,
    "start_time": "2021-12-05T12:39:25.515Z"
   },
   {
    "duration": 24,
    "start_time": "2021-12-05T12:41:18.372Z"
   },
   {
    "duration": 24,
    "start_time": "2021-12-05T12:41:32.909Z"
   },
   {
    "duration": 32,
    "start_time": "2021-12-05T12:41:46.212Z"
   },
   {
    "duration": 40,
    "start_time": "2021-12-05T12:42:13.708Z"
   },
   {
    "duration": 15,
    "start_time": "2021-12-05T12:42:52.494Z"
   },
   {
    "duration": 14,
    "start_time": "2021-12-05T12:44:43.941Z"
   },
   {
    "duration": 27,
    "start_time": "2021-12-05T12:44:54.120Z"
   },
   {
    "duration": 13,
    "start_time": "2021-12-05T13:02:40.691Z"
   },
   {
    "duration": 80,
    "start_time": "2021-12-05T13:02:45.185Z"
   },
   {
    "duration": 96,
    "start_time": "2021-12-05T13:02:45.266Z"
   },
   {
    "duration": 9,
    "start_time": "2021-12-05T13:02:45.365Z"
   },
   {
    "duration": 7,
    "start_time": "2021-12-05T13:02:45.375Z"
   },
   {
    "duration": 10,
    "start_time": "2021-12-05T13:02:45.383Z"
   },
   {
    "duration": 6,
    "start_time": "2021-12-05T13:02:45.394Z"
   },
   {
    "duration": 392,
    "start_time": "2021-12-05T13:02:45.401Z"
   },
   {
    "duration": 8,
    "start_time": "2021-12-05T13:02:45.795Z"
   },
   {
    "duration": 241,
    "start_time": "2021-12-05T13:02:45.805Z"
   },
   {
    "duration": 254,
    "start_time": "2021-12-05T13:02:46.048Z"
   },
   {
    "duration": 363,
    "start_time": "2021-12-05T13:02:46.304Z"
   },
   {
    "duration": 243,
    "start_time": "2021-12-05T13:02:46.669Z"
   },
   {
    "duration": 14,
    "start_time": "2021-12-05T13:02:46.914Z"
   },
   {
    "duration": 29,
    "start_time": "2021-12-05T13:02:46.930Z"
   },
   {
    "duration": 31,
    "start_time": "2021-12-05T13:02:46.961Z"
   },
   {
    "duration": 40,
    "start_time": "2021-12-05T13:03:07.374Z"
   },
   {
    "duration": 6,
    "start_time": "2021-12-05T13:09:34.755Z"
   },
   {
    "duration": 11,
    "start_time": "2021-12-05T13:10:22.618Z"
   },
   {
    "duration": 13,
    "start_time": "2021-12-05T13:10:56.101Z"
   },
   {
    "duration": 14,
    "start_time": "2021-12-05T13:12:27.297Z"
   },
   {
    "duration": 360,
    "start_time": "2021-12-05T13:12:48.699Z"
   },
   {
    "duration": 14,
    "start_time": "2021-12-05T13:14:33.955Z"
   },
   {
    "duration": 18,
    "start_time": "2021-12-05T13:15:10.285Z"
   },
   {
    "duration": 632,
    "start_time": "2021-12-05T13:22:03.582Z"
   },
   {
    "duration": 267,
    "start_time": "2021-12-05T13:22:53.043Z"
   },
   {
    "duration": 241,
    "start_time": "2021-12-05T13:24:14.947Z"
   },
   {
    "duration": 238,
    "start_time": "2021-12-05T13:24:33.191Z"
   },
   {
    "duration": 251,
    "start_time": "2021-12-05T13:25:44.927Z"
   },
   {
    "duration": 82,
    "start_time": "2021-12-05T13:25:56.579Z"
   },
   {
    "duration": 97,
    "start_time": "2021-12-05T13:25:56.663Z"
   },
   {
    "duration": 8,
    "start_time": "2021-12-05T13:25:56.762Z"
   },
   {
    "duration": 9,
    "start_time": "2021-12-05T13:25:56.772Z"
   },
   {
    "duration": 13,
    "start_time": "2021-12-05T13:25:56.782Z"
   },
   {
    "duration": 7,
    "start_time": "2021-12-05T13:25:56.797Z"
   },
   {
    "duration": 371,
    "start_time": "2021-12-05T13:25:56.805Z"
   },
   {
    "duration": 8,
    "start_time": "2021-12-05T13:25:57.178Z"
   },
   {
    "duration": 233,
    "start_time": "2021-12-05T13:25:57.188Z"
   },
   {
    "duration": 244,
    "start_time": "2021-12-05T13:25:57.423Z"
   },
   {
    "duration": 348,
    "start_time": "2021-12-05T13:25:57.668Z"
   },
   {
    "duration": 220,
    "start_time": "2021-12-05T13:25:58.017Z"
   },
   {
    "duration": 16,
    "start_time": "2021-12-05T13:25:58.239Z"
   },
   {
    "duration": 12,
    "start_time": "2021-12-05T13:25:58.257Z"
   },
   {
    "duration": 13,
    "start_time": "2021-12-05T13:25:58.271Z"
   },
   {
    "duration": 254,
    "start_time": "2021-12-05T13:25:58.286Z"
   },
   {
    "duration": 29,
    "start_time": "2021-12-05T13:29:34.902Z"
   },
   {
    "duration": 7,
    "start_time": "2021-12-05T13:47:39.149Z"
   },
   {
    "duration": 4401,
    "start_time": "2021-12-05T13:51:18.824Z"
   },
   {
    "duration": 453,
    "start_time": "2021-12-05T13:52:38.285Z"
   },
   {
    "duration": 504,
    "start_time": "2021-12-05T13:52:53.731Z"
   },
   {
    "duration": 543,
    "start_time": "2021-12-05T13:54:10.353Z"
   },
   {
    "duration": 82,
    "start_time": "2021-12-05T13:54:30.870Z"
   },
   {
    "duration": 100,
    "start_time": "2021-12-05T13:54:30.954Z"
   },
   {
    "duration": 9,
    "start_time": "2021-12-05T13:54:31.056Z"
   },
   {
    "duration": 26,
    "start_time": "2021-12-05T13:54:31.067Z"
   },
   {
    "duration": 31,
    "start_time": "2021-12-05T13:54:31.095Z"
   },
   {
    "duration": 29,
    "start_time": "2021-12-05T13:54:31.128Z"
   },
   {
    "duration": 378,
    "start_time": "2021-12-05T13:54:31.158Z"
   },
   {
    "duration": 13,
    "start_time": "2021-12-05T13:54:31.537Z"
   },
   {
    "duration": 241,
    "start_time": "2021-12-05T13:54:31.553Z"
   },
   {
    "duration": 238,
    "start_time": "2021-12-05T13:54:31.796Z"
   },
   {
    "duration": 373,
    "start_time": "2021-12-05T13:54:32.035Z"
   },
   {
    "duration": 230,
    "start_time": "2021-12-05T13:54:32.410Z"
   },
   {
    "duration": 12,
    "start_time": "2021-12-05T13:54:32.642Z"
   },
   {
    "duration": 22,
    "start_time": "2021-12-05T13:54:32.656Z"
   },
   {
    "duration": 29,
    "start_time": "2021-12-05T13:54:32.680Z"
   },
   {
    "duration": 268,
    "start_time": "2021-12-05T13:54:32.710Z"
   },
   {
    "duration": 28,
    "start_time": "2021-12-05T13:54:32.979Z"
   },
   {
    "duration": 7277,
    "start_time": "2021-12-05T13:54:33.009Z"
   },
   {
    "duration": 702,
    "start_time": "2021-12-07T10:36:08.503Z"
   },
   {
    "duration": 77,
    "start_time": "2021-12-07T10:36:10.171Z"
   },
   {
    "duration": 11,
    "start_time": "2021-12-07T10:36:14.454Z"
   },
   {
    "duration": 4,
    "start_time": "2021-12-07T10:36:16.459Z"
   },
   {
    "duration": 9,
    "start_time": "2021-12-07T10:36:20.164Z"
   },
   {
    "duration": 6,
    "start_time": "2021-12-07T10:36:24.019Z"
   },
   {
    "duration": 362,
    "start_time": "2021-12-07T10:36:26.651Z"
   },
   {
    "duration": 9,
    "start_time": "2021-12-07T10:36:28.172Z"
   },
   {
    "duration": 227,
    "start_time": "2021-12-07T10:36:30.499Z"
   },
   {
    "duration": 250,
    "start_time": "2021-12-07T10:36:33.215Z"
   },
   {
    "duration": 341,
    "start_time": "2021-12-07T10:36:34.327Z"
   },
   {
    "duration": 214,
    "start_time": "2021-12-07T10:36:35.533Z"
   },
   {
    "duration": 14,
    "start_time": "2021-12-07T10:36:39.309Z"
   },
   {
    "duration": 14,
    "start_time": "2021-12-07T10:36:43.041Z"
   },
   {
    "duration": 13,
    "start_time": "2021-12-07T10:36:44.954Z"
   },
   {
    "duration": 247,
    "start_time": "2021-12-07T10:36:48.417Z"
   },
   {
    "duration": 31,
    "start_time": "2021-12-07T10:36:50.422Z"
   },
   {
    "duration": 7530,
    "start_time": "2021-12-07T10:36:54.434Z"
   },
   {
    "duration": 572,
    "start_time": "2021-12-07T10:37:19.421Z"
   },
   {
    "duration": 470,
    "start_time": "2021-12-07T10:38:46.322Z"
   },
   {
    "duration": 555,
    "start_time": "2021-12-07T10:39:21.309Z"
   },
   {
    "duration": 538,
    "start_time": "2021-12-07T10:39:30.293Z"
   },
   {
    "duration": 533,
    "start_time": "2021-12-07T10:40:23.722Z"
   },
   {
    "duration": 83,
    "start_time": "2021-12-07T10:40:45.204Z"
   },
   {
    "duration": 96,
    "start_time": "2021-12-07T10:40:45.289Z"
   },
   {
    "duration": 11,
    "start_time": "2021-12-07T10:40:45.388Z"
   },
   {
    "duration": 4,
    "start_time": "2021-12-07T10:40:45.443Z"
   },
   {
    "duration": 10,
    "start_time": "2021-12-07T10:40:45.449Z"
   },
   {
    "duration": 7,
    "start_time": "2021-12-07T10:40:45.461Z"
   },
   {
    "duration": 389,
    "start_time": "2021-12-07T10:40:45.470Z"
   },
   {
    "duration": 9,
    "start_time": "2021-12-07T10:40:45.861Z"
   },
   {
    "duration": 253,
    "start_time": "2021-12-07T10:40:45.873Z"
   },
   {
    "duration": 248,
    "start_time": "2021-12-07T10:40:46.129Z"
   },
   {
    "duration": 367,
    "start_time": "2021-12-07T10:40:46.379Z"
   },
   {
    "duration": 228,
    "start_time": "2021-12-07T10:40:46.748Z"
   },
   {
    "duration": 13,
    "start_time": "2021-12-07T10:40:46.978Z"
   },
   {
    "duration": 14,
    "start_time": "2021-12-07T10:40:46.993Z"
   },
   {
    "duration": 38,
    "start_time": "2021-12-07T10:40:47.009Z"
   },
   {
    "duration": 245,
    "start_time": "2021-12-07T10:40:47.050Z"
   },
   {
    "duration": 30,
    "start_time": "2021-12-07T10:40:47.297Z"
   },
   {
    "duration": 7878,
    "start_time": "2021-12-07T10:40:47.329Z"
   },
   {
    "duration": 512,
    "start_time": "2021-12-07T10:41:21.609Z"
   },
   {
    "duration": 81,
    "start_time": "2021-12-07T10:41:28.240Z"
   },
   {
    "duration": 73,
    "start_time": "2021-12-07T10:41:28.323Z"
   },
   {
    "duration": 47,
    "start_time": "2021-12-07T10:41:28.398Z"
   },
   {
    "duration": 3,
    "start_time": "2021-12-07T10:41:28.447Z"
   },
   {
    "duration": 33,
    "start_time": "2021-12-07T10:41:28.452Z"
   },
   {
    "duration": 15,
    "start_time": "2021-12-07T10:41:28.487Z"
   },
   {
    "duration": 369,
    "start_time": "2021-12-07T10:41:28.504Z"
   },
   {
    "duration": 9,
    "start_time": "2021-12-07T10:41:28.875Z"
   },
   {
    "duration": 259,
    "start_time": "2021-12-07T10:41:28.886Z"
   },
   {
    "duration": 256,
    "start_time": "2021-12-07T10:41:29.147Z"
   },
   {
    "duration": 369,
    "start_time": "2021-12-07T10:41:29.404Z"
   },
   {
    "duration": 244,
    "start_time": "2021-12-07T10:41:29.775Z"
   },
   {
    "duration": 23,
    "start_time": "2021-12-07T10:41:30.021Z"
   },
   {
    "duration": 16,
    "start_time": "2021-12-07T10:41:30.046Z"
   },
   {
    "duration": 14,
    "start_time": "2021-12-07T10:41:30.064Z"
   },
   {
    "duration": 268,
    "start_time": "2021-12-07T10:41:30.080Z"
   },
   {
    "duration": 32,
    "start_time": "2021-12-07T10:41:30.350Z"
   },
   {
    "duration": 4409,
    "start_time": "2021-12-07T10:41:30.383Z"
   },
   {
    "duration": 11791,
    "start_time": "2021-12-07T10:43:07.372Z"
   },
   {
    "duration": 5,
    "start_time": "2021-12-07T10:43:24.563Z"
   },
   {
    "duration": 6,
    "start_time": "2021-12-07T10:43:34.014Z"
   },
   {
    "duration": 81,
    "start_time": "2021-12-07T10:43:41.248Z"
   },
   {
    "duration": 66,
    "start_time": "2021-12-07T10:43:41.332Z"
   },
   {
    "duration": 53,
    "start_time": "2021-12-07T10:43:41.399Z"
   },
   {
    "duration": 3,
    "start_time": "2021-12-07T10:43:41.454Z"
   },
   {
    "duration": 9,
    "start_time": "2021-12-07T10:43:41.459Z"
   },
   {
    "duration": 6,
    "start_time": "2021-12-07T10:43:41.469Z"
   },
   {
    "duration": 468,
    "start_time": "2021-12-07T10:43:41.477Z"
   },
   {
    "duration": 8,
    "start_time": "2021-12-07T10:43:41.947Z"
   },
   {
    "duration": 234,
    "start_time": "2021-12-07T10:43:41.958Z"
   },
   {
    "duration": 238,
    "start_time": "2021-12-07T10:43:42.194Z"
   },
   {
    "duration": 365,
    "start_time": "2021-12-07T10:43:42.434Z"
   },
   {
    "duration": 238,
    "start_time": "2021-12-07T10:43:42.801Z"
   },
   {
    "duration": 14,
    "start_time": "2021-12-07T10:43:43.041Z"
   },
   {
    "duration": 15,
    "start_time": "2021-12-07T10:43:43.057Z"
   },
   {
    "duration": 14,
    "start_time": "2021-12-07T10:43:43.074Z"
   },
   {
    "duration": 266,
    "start_time": "2021-12-07T10:43:43.089Z"
   },
   {
    "duration": 33,
    "start_time": "2021-12-07T10:43:43.357Z"
   },
   {
    "duration": 748,
    "start_time": "2021-12-07T10:43:47.983Z"
   },
   {
    "duration": 54,
    "start_time": "2021-12-07T10:43:48.679Z"
   },
   {
    "duration": 80,
    "start_time": "2021-12-07T10:44:18.385Z"
   },
   {
    "duration": 59,
    "start_time": "2021-12-07T10:44:18.900Z"
   },
   {
    "duration": 11,
    "start_time": "2021-12-07T10:44:20.868Z"
   },
   {
    "duration": 4,
    "start_time": "2021-12-07T10:44:21.536Z"
   },
   {
    "duration": 7,
    "start_time": "2021-12-07T10:44:22.036Z"
   },
   {
    "duration": 7,
    "start_time": "2021-12-07T10:44:22.782Z"
   },
   {
    "duration": 353,
    "start_time": "2021-12-07T10:44:23.654Z"
   },
   {
    "duration": 8,
    "start_time": "2021-12-07T10:44:24.009Z"
   },
   {
    "duration": 217,
    "start_time": "2021-12-07T10:44:26.212Z"
   },
   {
    "duration": 245,
    "start_time": "2021-12-07T10:44:27.359Z"
   },
   {
    "duration": 346,
    "start_time": "2021-12-07T10:44:28.892Z"
   },
   {
    "duration": 225,
    "start_time": "2021-12-07T10:44:30.038Z"
   },
   {
    "duration": 15,
    "start_time": "2021-12-07T10:44:32.073Z"
   },
   {
    "duration": 15,
    "start_time": "2021-12-07T10:44:33.728Z"
   },
   {
    "duration": 15,
    "start_time": "2021-12-07T10:44:34.264Z"
   },
   {
    "duration": 233,
    "start_time": "2021-12-07T10:44:34.902Z"
   },
   {
    "duration": 31,
    "start_time": "2021-12-07T10:44:36.476Z"
   },
   {
    "duration": 4439,
    "start_time": "2021-12-07T10:44:40.150Z"
   },
   {
    "duration": 5,
    "start_time": "2021-12-07T10:45:08.086Z"
   },
   {
    "duration": 5,
    "start_time": "2021-12-07T10:45:22.440Z"
   },
   {
    "duration": 121,
    "start_time": "2021-12-07T10:45:56.873Z"
   },
   {
    "duration": 1986,
    "start_time": "2021-12-07T10:46:29.708Z"
   },
   {
    "duration": 82,
    "start_time": "2021-12-07T10:47:01.833Z"
   },
   {
    "duration": 81,
    "start_time": "2021-12-07T10:47:01.917Z"
   },
   {
    "duration": 52,
    "start_time": "2021-12-07T10:47:02.000Z"
   },
   {
    "duration": 5,
    "start_time": "2021-12-07T10:47:02.054Z"
   },
   {
    "duration": 21,
    "start_time": "2021-12-07T10:47:02.061Z"
   },
   {
    "duration": 8,
    "start_time": "2021-12-07T10:47:02.084Z"
   },
   {
    "duration": 363,
    "start_time": "2021-12-07T10:47:02.094Z"
   },
   {
    "duration": 10,
    "start_time": "2021-12-07T10:47:02.459Z"
   },
   {
    "duration": 237,
    "start_time": "2021-12-07T10:47:02.472Z"
   },
   {
    "duration": 236,
    "start_time": "2021-12-07T10:47:02.711Z"
   },
   {
    "duration": 372,
    "start_time": "2021-12-07T10:47:02.948Z"
   },
   {
    "duration": 246,
    "start_time": "2021-12-07T10:47:03.322Z"
   },
   {
    "duration": 14,
    "start_time": "2021-12-07T10:47:03.569Z"
   },
   {
    "duration": 14,
    "start_time": "2021-12-07T10:47:03.585Z"
   },
   {
    "duration": 13,
    "start_time": "2021-12-07T10:47:03.601Z"
   },
   {
    "duration": 272,
    "start_time": "2021-12-07T10:47:03.616Z"
   },
   {
    "duration": 29,
    "start_time": "2021-12-07T10:47:03.890Z"
   },
   {
    "duration": 4179,
    "start_time": "2021-12-07T10:47:03.921Z"
   },
   {
    "duration": 1885,
    "start_time": "2021-12-07T10:47:08.102Z"
   },
   {
    "duration": 114,
    "start_time": "2021-12-07T10:49:26.065Z"
   },
   {
    "duration": 480,
    "start_time": "2021-12-07T10:49:46.498Z"
   },
   {
    "duration": 78,
    "start_time": "2021-12-07T10:50:07.103Z"
   },
   {
    "duration": 89,
    "start_time": "2021-12-07T10:50:07.183Z"
   },
   {
    "duration": 9,
    "start_time": "2021-12-07T10:50:07.274Z"
   },
   {
    "duration": 3,
    "start_time": "2021-12-07T10:50:07.285Z"
   },
   {
    "duration": 8,
    "start_time": "2021-12-07T10:50:07.290Z"
   },
   {
    "duration": 6,
    "start_time": "2021-12-07T10:50:07.299Z"
   },
   {
    "duration": 389,
    "start_time": "2021-12-07T10:50:07.307Z"
   },
   {
    "duration": 9,
    "start_time": "2021-12-07T10:50:07.697Z"
   },
   {
    "duration": 231,
    "start_time": "2021-12-07T10:50:07.709Z"
   },
   {
    "duration": 234,
    "start_time": "2021-12-07T10:50:07.942Z"
   },
   {
    "duration": 367,
    "start_time": "2021-12-07T10:50:08.178Z"
   },
   {
    "duration": 235,
    "start_time": "2021-12-07T10:50:08.547Z"
   },
   {
    "duration": 13,
    "start_time": "2021-12-07T10:50:08.784Z"
   },
   {
    "duration": 14,
    "start_time": "2021-12-07T10:50:08.800Z"
   },
   {
    "duration": 33,
    "start_time": "2021-12-07T10:50:08.818Z"
   },
   {
    "duration": 243,
    "start_time": "2021-12-07T10:50:08.853Z"
   },
   {
    "duration": 29,
    "start_time": "2021-12-07T10:50:09.098Z"
   },
   {
    "duration": 7322,
    "start_time": "2021-12-07T10:50:09.128Z"
   },
   {
    "duration": 92,
    "start_time": "2021-12-07T10:50:44.969Z"
   },
   {
    "duration": 499,
    "start_time": "2021-12-07T10:51:10.773Z"
   },
   {
    "duration": 443,
    "start_time": "2021-12-07T10:58:44.574Z"
   },
   {
    "duration": 76,
    "start_time": "2021-12-07T10:58:56.257Z"
   },
   {
    "duration": 84,
    "start_time": "2021-12-07T10:58:57.061Z"
   },
   {
    "duration": 10,
    "start_time": "2021-12-07T10:58:59.598Z"
   },
   {
    "duration": 3,
    "start_time": "2021-12-07T10:59:00.169Z"
   },
   {
    "duration": 8,
    "start_time": "2021-12-07T10:59:01.098Z"
   },
   {
    "duration": 7,
    "start_time": "2021-12-07T10:59:02.694Z"
   },
   {
    "duration": 342,
    "start_time": "2021-12-07T10:59:03.948Z"
   },
   {
    "duration": 9,
    "start_time": "2021-12-07T10:59:04.999Z"
   },
   {
    "duration": 224,
    "start_time": "2021-12-07T10:59:07.114Z"
   },
   {
    "duration": 230,
    "start_time": "2021-12-07T10:59:08.313Z"
   },
   {
    "duration": 403,
    "start_time": "2021-12-07T10:59:09.577Z"
   },
   {
    "duration": 225,
    "start_time": "2021-12-07T10:59:21.486Z"
   },
   {
    "duration": 13,
    "start_time": "2021-12-07T10:59:23.509Z"
   },
   {
    "duration": 14,
    "start_time": "2021-12-07T10:59:25.378Z"
   },
   {
    "duration": 13,
    "start_time": "2021-12-07T10:59:26.207Z"
   },
   {
    "duration": 232,
    "start_time": "2021-12-07T10:59:27.460Z"
   },
   {
    "duration": 30,
    "start_time": "2021-12-07T10:59:28.682Z"
   },
   {
    "duration": 4625,
    "start_time": "2021-12-07T10:59:38.161Z"
   },
   {
    "duration": 508,
    "start_time": "2021-12-07T11:01:58.925Z"
   },
   {
    "duration": 501,
    "start_time": "2021-12-07T11:02:44.002Z"
   },
   {
    "duration": 77,
    "start_time": "2021-12-07T11:02:57.774Z"
   },
   {
    "duration": 96,
    "start_time": "2021-12-07T11:02:57.853Z"
   },
   {
    "duration": 9,
    "start_time": "2021-12-07T11:02:57.951Z"
   },
   {
    "duration": 8,
    "start_time": "2021-12-07T11:02:57.962Z"
   },
   {
    "duration": 8,
    "start_time": "2021-12-07T11:02:57.971Z"
   },
   {
    "duration": 5,
    "start_time": "2021-12-07T11:02:57.981Z"
   },
   {
    "duration": 363,
    "start_time": "2021-12-07T11:02:57.988Z"
   },
   {
    "duration": 8,
    "start_time": "2021-12-07T11:02:58.353Z"
   },
   {
    "duration": 225,
    "start_time": "2021-12-07T11:02:58.363Z"
   },
   {
    "duration": 235,
    "start_time": "2021-12-07T11:02:58.590Z"
   },
   {
    "duration": 341,
    "start_time": "2021-12-07T11:02:58.826Z"
   },
   {
    "duration": 221,
    "start_time": "2021-12-07T11:02:59.169Z"
   },
   {
    "duration": 13,
    "start_time": "2021-12-07T11:02:59.392Z"
   },
   {
    "duration": 15,
    "start_time": "2021-12-07T11:02:59.407Z"
   },
   {
    "duration": 14,
    "start_time": "2021-12-07T11:02:59.445Z"
   },
   {
    "duration": 244,
    "start_time": "2021-12-07T11:02:59.461Z"
   },
   {
    "duration": 42,
    "start_time": "2021-12-07T11:02:59.707Z"
   },
   {
    "duration": 4159,
    "start_time": "2021-12-07T11:02:59.751Z"
   },
   {
    "duration": 486,
    "start_time": "2021-12-07T11:05:17.543Z"
   },
   {
    "duration": 81,
    "start_time": "2021-12-07T11:05:23.331Z"
   },
   {
    "duration": 85,
    "start_time": "2021-12-07T11:05:23.414Z"
   },
   {
    "duration": 47,
    "start_time": "2021-12-07T11:05:23.500Z"
   },
   {
    "duration": 20,
    "start_time": "2021-12-07T11:05:23.549Z"
   },
   {
    "duration": 30,
    "start_time": "2021-12-07T11:05:23.571Z"
   },
   {
    "duration": 10,
    "start_time": "2021-12-07T11:05:23.603Z"
   },
   {
    "duration": 353,
    "start_time": "2021-12-07T11:05:23.614Z"
   },
   {
    "duration": 9,
    "start_time": "2021-12-07T11:05:23.969Z"
   },
   {
    "duration": 246,
    "start_time": "2021-12-07T11:05:23.980Z"
   },
   {
    "duration": 242,
    "start_time": "2021-12-07T11:05:24.228Z"
   },
   {
    "duration": 463,
    "start_time": "2021-12-07T11:05:24.472Z"
   },
   {
    "duration": 228,
    "start_time": "2021-12-07T11:05:24.937Z"
   },
   {
    "duration": 14,
    "start_time": "2021-12-07T11:05:25.166Z"
   },
   {
    "duration": 15,
    "start_time": "2021-12-07T11:05:25.181Z"
   },
   {
    "duration": 13,
    "start_time": "2021-12-07T11:05:25.198Z"
   },
   {
    "duration": 282,
    "start_time": "2021-12-07T11:05:25.212Z"
   },
   {
    "duration": 32,
    "start_time": "2021-12-07T11:05:25.495Z"
   },
   {
    "duration": 4399,
    "start_time": "2021-12-07T11:05:25.528Z"
   },
   {
    "duration": 856,
    "start_time": "2021-12-07T11:05:44.997Z"
   },
   {
    "duration": 106,
    "start_time": "2021-12-07T11:05:49.366Z"
   },
   {
    "duration": 114,
    "start_time": "2021-12-07T11:05:49.475Z"
   },
   {
    "duration": 13,
    "start_time": "2021-12-07T11:05:49.591Z"
   },
   {
    "duration": 37,
    "start_time": "2021-12-07T11:05:49.607Z"
   },
   {
    "duration": 7,
    "start_time": "2021-12-07T11:05:49.646Z"
   },
   {
    "duration": 6,
    "start_time": "2021-12-07T11:05:49.655Z"
   },
   {
    "duration": 375,
    "start_time": "2021-12-07T11:05:49.663Z"
   },
   {
    "duration": 9,
    "start_time": "2021-12-07T11:05:50.044Z"
   },
   {
    "duration": 238,
    "start_time": "2021-12-07T11:05:50.056Z"
   },
   {
    "duration": 249,
    "start_time": "2021-12-07T11:05:50.296Z"
   },
   {
    "duration": 367,
    "start_time": "2021-12-07T11:05:50.548Z"
   },
   {
    "duration": 237,
    "start_time": "2021-12-07T11:05:50.917Z"
   },
   {
    "duration": 14,
    "start_time": "2021-12-07T11:05:51.156Z"
   },
   {
    "duration": 15,
    "start_time": "2021-12-07T11:05:51.171Z"
   },
   {
    "duration": 13,
    "start_time": "2021-12-07T11:05:51.188Z"
   },
   {
    "duration": 268,
    "start_time": "2021-12-07T11:05:51.203Z"
   },
   {
    "duration": 30,
    "start_time": "2021-12-07T11:05:51.473Z"
   },
   {
    "duration": 4585,
    "start_time": "2021-12-07T11:05:51.505Z"
   },
   {
    "duration": 81,
    "start_time": "2021-12-07T11:16:57.987Z"
   },
   {
    "duration": 93,
    "start_time": "2021-12-07T11:16:58.070Z"
   },
   {
    "duration": 10,
    "start_time": "2021-12-07T11:16:58.164Z"
   },
   {
    "duration": 6,
    "start_time": "2021-12-07T11:16:58.175Z"
   },
   {
    "duration": 10,
    "start_time": "2021-12-07T11:16:58.182Z"
   },
   {
    "duration": 6,
    "start_time": "2021-12-07T11:16:58.194Z"
   },
   {
    "duration": 382,
    "start_time": "2021-12-07T11:16:58.202Z"
   },
   {
    "duration": 9,
    "start_time": "2021-12-07T11:16:58.586Z"
   },
   {
    "duration": 243,
    "start_time": "2021-12-07T11:16:58.598Z"
   },
   {
    "duration": 228,
    "start_time": "2021-12-07T11:16:58.845Z"
   },
   {
    "duration": 397,
    "start_time": "2021-12-07T11:16:59.075Z"
   },
   {
    "duration": 277,
    "start_time": "2021-12-07T11:16:59.475Z"
   },
   {
    "duration": 13,
    "start_time": "2021-12-07T11:16:59.754Z"
   },
   {
    "duration": 15,
    "start_time": "2021-12-07T11:16:59.769Z"
   },
   {
    "duration": 14,
    "start_time": "2021-12-07T11:16:59.786Z"
   },
   {
    "duration": 264,
    "start_time": "2021-12-07T11:16:59.802Z"
   },
   {
    "duration": 31,
    "start_time": "2021-12-07T11:17:00.067Z"
   },
   {
    "duration": 4695,
    "start_time": "2021-12-07T11:17:00.099Z"
   },
   {
    "duration": 1173,
    "start_time": "2021-12-07T11:18:14.852Z"
   },
   {
    "duration": 84,
    "start_time": "2021-12-07T11:18:28.478Z"
   },
   {
    "duration": 94,
    "start_time": "2021-12-07T11:18:28.564Z"
   },
   {
    "duration": 11,
    "start_time": "2021-12-07T11:18:28.661Z"
   },
   {
    "duration": 25,
    "start_time": "2021-12-07T11:18:28.673Z"
   },
   {
    "duration": 28,
    "start_time": "2021-12-07T11:18:28.700Z"
   },
   {
    "duration": 29,
    "start_time": "2021-12-07T11:18:28.730Z"
   },
   {
    "duration": 371,
    "start_time": "2021-12-07T11:18:28.761Z"
   },
   {
    "duration": 10,
    "start_time": "2021-12-07T11:18:29.134Z"
   },
   {
    "duration": 244,
    "start_time": "2021-12-07T11:18:29.147Z"
   },
   {
    "duration": 238,
    "start_time": "2021-12-07T11:18:29.393Z"
   },
   {
    "duration": 355,
    "start_time": "2021-12-07T11:18:29.633Z"
   },
   {
    "duration": 217,
    "start_time": "2021-12-07T11:18:29.990Z"
   },
   {
    "duration": 13,
    "start_time": "2021-12-07T11:18:30.208Z"
   },
   {
    "duration": 37,
    "start_time": "2021-12-07T11:18:30.223Z"
   },
   {
    "duration": 21,
    "start_time": "2021-12-07T11:18:30.262Z"
   },
   {
    "duration": 269,
    "start_time": "2021-12-07T11:18:30.285Z"
   },
   {
    "duration": 28,
    "start_time": "2021-12-07T11:18:30.556Z"
   },
   {
    "duration": 4366,
    "start_time": "2021-12-07T11:18:30.586Z"
   },
   {
    "duration": 533,
    "start_time": "2021-12-07T11:18:34.953Z"
   },
   {
    "duration": 538,
    "start_time": "2021-12-07T11:20:32.493Z"
   },
   {
    "duration": 82,
    "start_time": "2021-12-07T11:20:37.184Z"
   },
   {
    "duration": 99,
    "start_time": "2021-12-07T11:20:37.269Z"
   },
   {
    "duration": 9,
    "start_time": "2021-12-07T11:20:37.370Z"
   },
   {
    "duration": 38,
    "start_time": "2021-12-07T11:20:37.382Z"
   },
   {
    "duration": 39,
    "start_time": "2021-12-07T11:20:37.421Z"
   },
   {
    "duration": 15,
    "start_time": "2021-12-07T11:20:37.461Z"
   },
   {
    "duration": 368,
    "start_time": "2021-12-07T11:20:37.478Z"
   },
   {
    "duration": 8,
    "start_time": "2021-12-07T11:20:37.848Z"
   },
   {
    "duration": 264,
    "start_time": "2021-12-07T11:20:37.859Z"
   },
   {
    "duration": 235,
    "start_time": "2021-12-07T11:20:38.125Z"
   },
   {
    "duration": 341,
    "start_time": "2021-12-07T11:20:38.362Z"
   },
   {
    "duration": 212,
    "start_time": "2021-12-07T11:20:38.704Z"
   },
   {
    "duration": 11,
    "start_time": "2021-12-07T11:20:38.918Z"
   },
   {
    "duration": 26,
    "start_time": "2021-12-07T11:20:38.931Z"
   },
   {
    "duration": 32,
    "start_time": "2021-12-07T11:20:38.959Z"
   },
   {
    "duration": 253,
    "start_time": "2021-12-07T11:20:38.992Z"
   },
   {
    "duration": 27,
    "start_time": "2021-12-07T11:20:39.247Z"
   },
   {
    "duration": 4420,
    "start_time": "2021-12-07T11:20:39.276Z"
   },
   {
    "duration": 637,
    "start_time": "2021-12-07T11:20:43.698Z"
   },
   {
    "duration": 88,
    "start_time": "2021-12-07T11:22:28.343Z"
   },
   {
    "duration": 32,
    "start_time": "2021-12-07T11:24:40.273Z"
   },
   {
    "duration": 49,
    "start_time": "2021-12-07T11:25:49.392Z"
   },
   {
    "duration": 303,
    "start_time": "2021-12-07T11:26:16.521Z"
   },
   {
    "duration": 50,
    "start_time": "2021-12-07T11:26:26.307Z"
   },
   {
    "duration": 38,
    "start_time": "2021-12-07T11:30:02.841Z"
   },
   {
    "duration": 4373,
    "start_time": "2021-12-07T11:32:52.933Z"
   },
   {
    "duration": 4449,
    "start_time": "2021-12-07T11:34:10.185Z"
   },
   {
    "duration": 4313,
    "start_time": "2021-12-07T11:35:37.220Z"
   },
   {
    "duration": 40,
    "start_time": "2021-12-07T11:50:57.969Z"
   },
   {
    "duration": 14,
    "start_time": "2021-12-07T12:02:57.276Z"
   },
   {
    "duration": 13,
    "start_time": "2021-12-07T12:04:17.425Z"
   },
   {
    "duration": 316,
    "start_time": "2021-12-07T12:05:14.388Z"
   },
   {
    "duration": 15,
    "start_time": "2021-12-07T12:05:20.539Z"
   },
   {
    "duration": 305,
    "start_time": "2021-12-07T12:13:22.826Z"
   },
   {
    "duration": 291,
    "start_time": "2021-12-07T12:14:13.653Z"
   },
   {
    "duration": 81,
    "start_time": "2021-12-07T12:14:48.145Z"
   },
   {
    "duration": 114,
    "start_time": "2021-12-07T12:14:48.244Z"
   },
   {
    "duration": 10,
    "start_time": "2021-12-07T12:14:48.361Z"
   },
   {
    "duration": 21,
    "start_time": "2021-12-07T12:14:48.373Z"
   },
   {
    "duration": 23,
    "start_time": "2021-12-07T12:14:48.395Z"
   },
   {
    "duration": 24,
    "start_time": "2021-12-07T12:14:48.420Z"
   },
   {
    "duration": 400,
    "start_time": "2021-12-07T12:14:48.445Z"
   },
   {
    "duration": 9,
    "start_time": "2021-12-07T12:14:48.848Z"
   },
   {
    "duration": 250,
    "start_time": "2021-12-07T12:14:48.858Z"
   },
   {
    "duration": 243,
    "start_time": "2021-12-07T12:14:49.110Z"
   },
   {
    "duration": 377,
    "start_time": "2021-12-07T12:14:49.355Z"
   },
   {
    "duration": 236,
    "start_time": "2021-12-07T12:14:49.734Z"
   },
   {
    "duration": 14,
    "start_time": "2021-12-07T12:14:49.971Z"
   },
   {
    "duration": 33,
    "start_time": "2021-12-07T12:14:49.987Z"
   },
   {
    "duration": 21,
    "start_time": "2021-12-07T12:14:50.023Z"
   },
   {
    "duration": 271,
    "start_time": "2021-12-07T12:14:50.046Z"
   },
   {
    "duration": 40,
    "start_time": "2021-12-07T12:14:50.319Z"
   },
   {
    "duration": 4352,
    "start_time": "2021-12-07T12:14:50.361Z"
   },
   {
    "duration": 46,
    "start_time": "2021-12-07T12:14:54.715Z"
   },
   {
    "duration": 29,
    "start_time": "2021-12-07T12:14:54.763Z"
   },
   {
    "duration": 320,
    "start_time": "2021-12-07T12:14:54.794Z"
   },
   {
    "duration": 87,
    "start_time": "2021-12-07T12:15:30.031Z"
   },
   {
    "duration": 83,
    "start_time": "2021-12-07T12:15:30.120Z"
   },
   {
    "duration": 11,
    "start_time": "2021-12-07T12:15:30.245Z"
   },
   {
    "duration": 13,
    "start_time": "2021-12-07T12:15:30.258Z"
   },
   {
    "duration": 24,
    "start_time": "2021-12-07T12:15:30.273Z"
   },
   {
    "duration": 11,
    "start_time": "2021-12-07T12:15:30.299Z"
   },
   {
    "duration": 370,
    "start_time": "2021-12-07T12:15:30.312Z"
   },
   {
    "duration": 9,
    "start_time": "2021-12-07T12:15:30.683Z"
   },
   {
    "duration": 243,
    "start_time": "2021-12-07T12:15:30.695Z"
   },
   {
    "duration": 241,
    "start_time": "2021-12-07T12:15:30.944Z"
   },
   {
    "duration": 365,
    "start_time": "2021-12-07T12:15:31.186Z"
   },
   {
    "duration": 231,
    "start_time": "2021-12-07T12:15:31.553Z"
   },
   {
    "duration": 15,
    "start_time": "2021-12-07T12:15:31.786Z"
   },
   {
    "duration": 15,
    "start_time": "2021-12-07T12:15:31.803Z"
   },
   {
    "duration": 35,
    "start_time": "2021-12-07T12:15:31.820Z"
   },
   {
    "duration": 242,
    "start_time": "2021-12-07T12:15:31.856Z"
   },
   {
    "duration": 28,
    "start_time": "2021-12-07T12:15:32.100Z"
   },
   {
    "duration": 4945,
    "start_time": "2021-12-07T12:15:32.130Z"
   },
   {
    "duration": 37,
    "start_time": "2021-12-07T12:15:37.077Z"
   },
   {
    "duration": 30,
    "start_time": "2021-12-07T12:15:37.115Z"
   },
   {
    "duration": 303,
    "start_time": "2021-12-07T12:15:37.147Z"
   },
   {
    "duration": 161,
    "start_time": "2021-12-07T12:19:50.164Z"
   },
   {
    "duration": 226,
    "start_time": "2021-12-07T12:20:03.481Z"
   },
   {
    "duration": 118,
    "start_time": "2021-12-07T12:20:09.577Z"
   },
   {
    "duration": 89,
    "start_time": "2021-12-07T12:20:09.697Z"
   },
   {
    "duration": 11,
    "start_time": "2021-12-07T12:20:09.789Z"
   },
   {
    "duration": 44,
    "start_time": "2021-12-07T12:20:09.802Z"
   },
   {
    "duration": 10,
    "start_time": "2021-12-07T12:20:09.848Z"
   },
   {
    "duration": 6,
    "start_time": "2021-12-07T12:20:09.860Z"
   },
   {
    "duration": 378,
    "start_time": "2021-12-07T12:20:09.867Z"
   },
   {
    "duration": 14,
    "start_time": "2021-12-07T12:20:10.247Z"
   },
   {
    "duration": 449,
    "start_time": "2021-12-07T12:20:10.264Z"
   },
   {
    "duration": 241,
    "start_time": "2021-12-07T12:20:10.716Z"
   },
   {
    "duration": 454,
    "start_time": "2021-12-07T12:20:10.959Z"
   },
   {
    "duration": 233,
    "start_time": "2021-12-07T12:20:11.415Z"
   },
   {
    "duration": 13,
    "start_time": "2021-12-07T12:20:11.650Z"
   },
   {
    "duration": 19,
    "start_time": "2021-12-07T12:20:11.665Z"
   },
   {
    "duration": 22,
    "start_time": "2021-12-07T12:20:11.686Z"
   },
   {
    "duration": 288,
    "start_time": "2021-12-07T12:20:11.710Z"
   },
   {
    "duration": 31,
    "start_time": "2021-12-07T12:20:12.000Z"
   },
   {
    "duration": 5001,
    "start_time": "2021-12-07T12:20:12.033Z"
   },
   {
    "duration": 46,
    "start_time": "2021-12-07T12:20:17.035Z"
   },
   {
    "duration": 30,
    "start_time": "2021-12-07T12:20:17.083Z"
   },
   {
    "duration": 336,
    "start_time": "2021-12-07T12:20:17.115Z"
   },
   {
    "duration": 80,
    "start_time": "2021-12-07T12:25:22.159Z"
   },
   {
    "duration": 107,
    "start_time": "2021-12-07T12:25:22.241Z"
   },
   {
    "duration": 10,
    "start_time": "2021-12-07T12:25:22.350Z"
   },
   {
    "duration": 18,
    "start_time": "2021-12-07T12:25:22.362Z"
   },
   {
    "duration": 21,
    "start_time": "2021-12-07T12:25:22.382Z"
   },
   {
    "duration": 6,
    "start_time": "2021-12-07T12:25:22.405Z"
   },
   {
    "duration": 373,
    "start_time": "2021-12-07T12:25:22.413Z"
   },
   {
    "duration": 10,
    "start_time": "2021-12-07T12:25:22.788Z"
   },
   {
    "duration": 236,
    "start_time": "2021-12-07T12:25:22.801Z"
   },
   {
    "duration": 228,
    "start_time": "2021-12-07T12:25:23.039Z"
   },
   {
    "duration": 366,
    "start_time": "2021-12-07T12:25:23.269Z"
   },
   {
    "duration": 219,
    "start_time": "2021-12-07T12:25:23.636Z"
   },
   {
    "duration": 13,
    "start_time": "2021-12-07T12:25:23.857Z"
   },
   {
    "duration": 15,
    "start_time": "2021-12-07T12:25:23.872Z"
   },
   {
    "duration": 13,
    "start_time": "2021-12-07T12:25:23.888Z"
   },
   {
    "duration": 265,
    "start_time": "2021-12-07T12:25:23.903Z"
   },
   {
    "duration": 28,
    "start_time": "2021-12-07T12:25:24.170Z"
   },
   {
    "duration": 4318,
    "start_time": "2021-12-07T12:25:24.200Z"
   },
   {
    "duration": 46,
    "start_time": "2021-12-07T12:25:28.520Z"
   },
   {
    "duration": 18,
    "start_time": "2021-12-07T12:25:28.568Z"
   },
   {
    "duration": 308,
    "start_time": "2021-12-07T12:25:28.588Z"
   },
   {
    "duration": 298,
    "start_time": "2021-12-07T12:26:05.718Z"
   },
   {
    "duration": 85,
    "start_time": "2021-12-07T12:29:38.879Z"
   },
   {
    "duration": 477,
    "start_time": "2021-12-07T12:30:52.827Z"
   },
   {
    "duration": 124,
    "start_time": "2021-12-07T12:31:19.193Z"
   },
   {
    "duration": 2813,
    "start_time": "2021-12-07T12:31:32.451Z"
   },
   {
    "duration": 14,
    "start_time": "2021-12-07T12:31:51.445Z"
   },
   {
    "duration": 2730,
    "start_time": "2021-12-07T12:33:28.116Z"
   },
   {
    "duration": 2564,
    "start_time": "2021-12-07T12:34:33.841Z"
   },
   {
    "duration": 79,
    "start_time": "2021-12-07T12:34:40.177Z"
   },
   {
    "duration": 95,
    "start_time": "2021-12-07T12:34:40.258Z"
   },
   {
    "duration": 9,
    "start_time": "2021-12-07T12:34:40.355Z"
   },
   {
    "duration": 3,
    "start_time": "2021-12-07T12:34:40.366Z"
   },
   {
    "duration": 9,
    "start_time": "2021-12-07T12:34:40.371Z"
   },
   {
    "duration": 8,
    "start_time": "2021-12-07T12:34:40.382Z"
   },
   {
    "duration": 373,
    "start_time": "2021-12-07T12:34:40.391Z"
   },
   {
    "duration": 10,
    "start_time": "2021-12-07T12:34:40.766Z"
   },
   {
    "duration": 242,
    "start_time": "2021-12-07T12:34:40.779Z"
   },
   {
    "duration": 233,
    "start_time": "2021-12-07T12:34:41.023Z"
   },
   {
    "duration": 346,
    "start_time": "2021-12-07T12:34:41.258Z"
   },
   {
    "duration": 214,
    "start_time": "2021-12-07T12:34:41.606Z"
   },
   {
    "duration": 12,
    "start_time": "2021-12-07T12:34:41.822Z"
   },
   {
    "duration": 13,
    "start_time": "2021-12-07T12:34:41.845Z"
   },
   {
    "duration": 13,
    "start_time": "2021-12-07T12:34:41.859Z"
   },
   {
    "duration": 246,
    "start_time": "2021-12-07T12:34:41.874Z"
   },
   {
    "duration": 37,
    "start_time": "2021-12-07T12:34:42.122Z"
   },
   {
    "duration": 4497,
    "start_time": "2021-12-07T12:34:42.161Z"
   },
   {
    "duration": 34,
    "start_time": "2021-12-07T12:34:46.660Z"
   },
   {
    "duration": 19,
    "start_time": "2021-12-07T12:34:46.695Z"
   },
   {
    "duration": 2860,
    "start_time": "2021-12-07T12:34:46.715Z"
   },
   {
    "duration": 314,
    "start_time": "2021-12-07T12:34:49.577Z"
   },
   {
    "duration": 2741,
    "start_time": "2021-12-07T12:38:07.531Z"
   },
   {
    "duration": 84,
    "start_time": "2021-12-07T12:38:27.301Z"
   },
   {
    "duration": 97,
    "start_time": "2021-12-07T12:38:27.387Z"
   },
   {
    "duration": 10,
    "start_time": "2021-12-07T12:38:27.486Z"
   },
   {
    "duration": 47,
    "start_time": "2021-12-07T12:38:27.498Z"
   },
   {
    "duration": 37,
    "start_time": "2021-12-07T12:38:27.546Z"
   },
   {
    "duration": 8,
    "start_time": "2021-12-07T12:38:27.584Z"
   },
   {
    "duration": 381,
    "start_time": "2021-12-07T12:38:27.594Z"
   },
   {
    "duration": 10,
    "start_time": "2021-12-07T12:38:27.977Z"
   },
   {
    "duration": 272,
    "start_time": "2021-12-07T12:38:27.990Z"
   },
   {
    "duration": 249,
    "start_time": "2021-12-07T12:38:28.266Z"
   },
   {
    "duration": 374,
    "start_time": "2021-12-07T12:38:28.518Z"
   },
   {
    "duration": 235,
    "start_time": "2021-12-07T12:38:28.894Z"
   },
   {
    "duration": 22,
    "start_time": "2021-12-07T12:38:29.131Z"
   },
   {
    "duration": 15,
    "start_time": "2021-12-07T12:38:29.155Z"
   },
   {
    "duration": 15,
    "start_time": "2021-12-07T12:38:29.171Z"
   },
   {
    "duration": 283,
    "start_time": "2021-12-07T12:38:29.187Z"
   },
   {
    "duration": 30,
    "start_time": "2021-12-07T12:38:29.473Z"
   },
   {
    "duration": 4543,
    "start_time": "2021-12-07T12:38:29.504Z"
   },
   {
    "duration": 36,
    "start_time": "2021-12-07T12:38:34.049Z"
   },
   {
    "duration": 18,
    "start_time": "2021-12-07T12:38:34.087Z"
   },
   {
    "duration": 2763,
    "start_time": "2021-12-07T12:38:34.107Z"
   },
   {
    "duration": 317,
    "start_time": "2021-12-07T12:38:36.872Z"
   },
   {
    "duration": 348,
    "start_time": "2021-12-07T12:48:00.429Z"
   },
   {
    "duration": 318,
    "start_time": "2021-12-07T12:48:21.501Z"
   },
   {
    "duration": 303,
    "start_time": "2021-12-07T12:48:35.358Z"
   },
   {
    "duration": 79,
    "start_time": "2021-12-07T12:48:40.546Z"
   },
   {
    "duration": 126,
    "start_time": "2021-12-07T12:48:40.627Z"
   },
   {
    "duration": 9,
    "start_time": "2021-12-07T12:48:40.755Z"
   },
   {
    "duration": 19,
    "start_time": "2021-12-07T12:48:40.767Z"
   },
   {
    "duration": 19,
    "start_time": "2021-12-07T12:48:40.788Z"
   },
   {
    "duration": 13,
    "start_time": "2021-12-07T12:48:40.809Z"
   },
   {
    "duration": 389,
    "start_time": "2021-12-07T12:48:40.823Z"
   },
   {
    "duration": 10,
    "start_time": "2021-12-07T12:48:41.216Z"
   },
   {
    "duration": 238,
    "start_time": "2021-12-07T12:48:41.228Z"
   },
   {
    "duration": 237,
    "start_time": "2021-12-07T12:48:41.468Z"
   },
   {
    "duration": 363,
    "start_time": "2021-12-07T12:48:41.706Z"
   },
   {
    "duration": 224,
    "start_time": "2021-12-07T12:48:42.070Z"
   },
   {
    "duration": 13,
    "start_time": "2021-12-07T12:48:42.297Z"
   },
   {
    "duration": 16,
    "start_time": "2021-12-07T12:48:42.312Z"
   },
   {
    "duration": 26,
    "start_time": "2021-12-07T12:48:42.330Z"
   },
   {
    "duration": 250,
    "start_time": "2021-12-07T12:48:42.357Z"
   },
   {
    "duration": 42,
    "start_time": "2021-12-07T12:48:42.609Z"
   },
   {
    "duration": 4529,
    "start_time": "2021-12-07T12:48:42.653Z"
   },
   {
    "duration": 40,
    "start_time": "2021-12-07T12:48:47.185Z"
   },
   {
    "duration": 30,
    "start_time": "2021-12-07T12:48:47.227Z"
   },
   {
    "duration": 319,
    "start_time": "2021-12-07T12:48:47.258Z"
   },
   {
    "duration": 82,
    "start_time": "2021-12-07T12:50:50.656Z"
   },
   {
    "duration": 69,
    "start_time": "2021-12-07T12:50:51.628Z"
   },
   {
    "duration": 10,
    "start_time": "2021-12-07T12:50:53.342Z"
   },
   {
    "duration": 4,
    "start_time": "2021-12-07T12:50:53.881Z"
   },
   {
    "duration": 8,
    "start_time": "2021-12-07T12:50:54.844Z"
   },
   {
    "duration": 7,
    "start_time": "2021-12-07T12:50:55.372Z"
   },
   {
    "duration": 375,
    "start_time": "2021-12-07T12:50:56.103Z"
   },
   {
    "duration": 10,
    "start_time": "2021-12-07T12:50:57.119Z"
   },
   {
    "duration": 231,
    "start_time": "2021-12-07T12:50:59.464Z"
   },
   {
    "duration": 225,
    "start_time": "2021-12-07T12:51:01.567Z"
   },
   {
    "duration": 387,
    "start_time": "2021-12-07T12:51:03.147Z"
   },
   {
    "duration": 220,
    "start_time": "2021-12-07T12:51:07.839Z"
   },
   {
    "duration": 13,
    "start_time": "2021-12-07T12:51:10.980Z"
   },
   {
    "duration": 15,
    "start_time": "2021-12-07T12:51:20.474Z"
   },
   {
    "duration": 17,
    "start_time": "2021-12-07T12:51:22.028Z"
   },
   {
    "duration": 78,
    "start_time": "2021-12-07T12:51:56.740Z"
   },
   {
    "duration": 76,
    "start_time": "2021-12-07T12:51:56.820Z"
   },
   {
    "duration": 47,
    "start_time": "2021-12-07T12:51:56.898Z"
   },
   {
    "duration": 4,
    "start_time": "2021-12-07T12:51:56.947Z"
   },
   {
    "duration": 10,
    "start_time": "2021-12-07T12:51:56.952Z"
   },
   {
    "duration": 6,
    "start_time": "2021-12-07T12:51:56.963Z"
   },
   {
    "duration": 378,
    "start_time": "2021-12-07T12:51:56.970Z"
   },
   {
    "duration": 9,
    "start_time": "2021-12-07T12:51:57.351Z"
   },
   {
    "duration": 239,
    "start_time": "2021-12-07T12:51:57.363Z"
   },
   {
    "duration": 230,
    "start_time": "2021-12-07T12:51:57.604Z"
   },
   {
    "duration": 337,
    "start_time": "2021-12-07T12:51:57.844Z"
   },
   {
    "duration": 217,
    "start_time": "2021-12-07T12:51:58.183Z"
   },
   {
    "duration": 12,
    "start_time": "2021-12-07T12:51:58.402Z"
   },
   {
    "duration": 29,
    "start_time": "2021-12-07T12:51:58.416Z"
   },
   {
    "duration": 13,
    "start_time": "2021-12-07T12:51:58.446Z"
   },
   {
    "duration": 232,
    "start_time": "2021-12-07T12:51:58.461Z"
   },
   {
    "duration": 29,
    "start_time": "2021-12-07T12:51:58.694Z"
   },
   {
    "duration": 4306,
    "start_time": "2021-12-07T12:51:58.725Z"
   },
   {
    "duration": 45,
    "start_time": "2021-12-07T12:52:03.033Z"
   },
   {
    "duration": 20,
    "start_time": "2021-12-07T12:52:03.080Z"
   },
   {
    "duration": 329,
    "start_time": "2021-12-07T12:52:03.102Z"
   },
   {
    "duration": 309,
    "start_time": "2021-12-07T12:52:47.575Z"
   },
   {
    "duration": 85,
    "start_time": "2021-12-07T12:55:22.392Z"
   },
   {
    "duration": 94,
    "start_time": "2021-12-07T12:55:22.479Z"
   },
   {
    "duration": 9,
    "start_time": "2021-12-07T12:55:22.576Z"
   },
   {
    "duration": 18,
    "start_time": "2021-12-07T12:55:22.587Z"
   },
   {
    "duration": 17,
    "start_time": "2021-12-07T12:55:22.607Z"
   },
   {
    "duration": 31,
    "start_time": "2021-12-07T12:55:22.626Z"
   },
   {
    "duration": 364,
    "start_time": "2021-12-07T12:55:22.659Z"
   },
   {
    "duration": 18,
    "start_time": "2021-12-07T12:55:23.026Z"
   },
   {
    "duration": 217,
    "start_time": "2021-12-07T12:55:23.046Z"
   },
   {
    "duration": 239,
    "start_time": "2021-12-07T12:55:23.265Z"
   },
   {
    "duration": 356,
    "start_time": "2021-12-07T12:55:23.505Z"
   },
   {
    "duration": 218,
    "start_time": "2021-12-07T12:55:23.863Z"
   },
   {
    "duration": 14,
    "start_time": "2021-12-07T12:55:24.082Z"
   },
   {
    "duration": 24,
    "start_time": "2021-12-07T12:55:24.098Z"
   },
   {
    "duration": 29,
    "start_time": "2021-12-07T12:55:24.124Z"
   },
   {
    "duration": 250,
    "start_time": "2021-12-07T12:55:24.155Z"
   },
   {
    "duration": 30,
    "start_time": "2021-12-07T12:55:24.407Z"
   },
   {
    "duration": 4372,
    "start_time": "2021-12-07T12:55:24.444Z"
   },
   {
    "duration": 47,
    "start_time": "2021-12-07T12:55:28.818Z"
   },
   {
    "duration": 17,
    "start_time": "2021-12-07T12:55:28.866Z"
   },
   {
    "duration": 302,
    "start_time": "2021-12-07T12:55:28.884Z"
   },
   {
    "duration": 82,
    "start_time": "2021-12-07T12:56:45.514Z"
   },
   {
    "duration": 83,
    "start_time": "2021-12-07T12:56:45.598Z"
   },
   {
    "duration": 9,
    "start_time": "2021-12-07T12:56:45.684Z"
   },
   {
    "duration": 14,
    "start_time": "2021-12-07T12:56:45.695Z"
   },
   {
    "duration": 36,
    "start_time": "2021-12-07T12:56:45.711Z"
   },
   {
    "duration": 7,
    "start_time": "2021-12-07T12:56:45.749Z"
   },
   {
    "duration": 472,
    "start_time": "2021-12-07T12:56:45.758Z"
   },
   {
    "duration": 13,
    "start_time": "2021-12-07T12:56:46.233Z"
   },
   {
    "duration": 226,
    "start_time": "2021-12-07T12:56:46.248Z"
   },
   {
    "duration": 226,
    "start_time": "2021-12-07T12:56:46.476Z"
   },
   {
    "duration": 370,
    "start_time": "2021-12-07T12:56:46.704Z"
   },
   {
    "duration": 216,
    "start_time": "2021-12-07T12:56:47.076Z"
   },
   {
    "duration": 14,
    "start_time": "2021-12-07T12:56:47.300Z"
   },
   {
    "duration": 15,
    "start_time": "2021-12-07T12:56:47.316Z"
   },
   {
    "duration": 13,
    "start_time": "2021-12-07T12:56:47.345Z"
   },
   {
    "duration": 253,
    "start_time": "2021-12-07T12:56:47.360Z"
   },
   {
    "duration": 36,
    "start_time": "2021-12-07T12:56:47.614Z"
   },
   {
    "duration": 4412,
    "start_time": "2021-12-07T12:56:47.651Z"
   },
   {
    "duration": 39,
    "start_time": "2021-12-07T12:56:52.065Z"
   },
   {
    "duration": 25,
    "start_time": "2021-12-07T12:56:52.106Z"
   },
   {
    "duration": 306,
    "start_time": "2021-12-07T12:56:52.145Z"
   },
   {
    "duration": 86,
    "start_time": "2021-12-07T13:04:18.820Z"
   },
   {
    "duration": 82,
    "start_time": "2021-12-07T13:07:25.878Z"
   },
   {
    "duration": 99,
    "start_time": "2021-12-07T13:07:25.962Z"
   },
   {
    "duration": 10,
    "start_time": "2021-12-07T13:07:26.063Z"
   },
   {
    "duration": 4,
    "start_time": "2021-12-07T13:07:26.075Z"
   },
   {
    "duration": 24,
    "start_time": "2021-12-07T13:07:26.080Z"
   },
   {
    "duration": 7,
    "start_time": "2021-12-07T13:07:26.106Z"
   },
   {
    "duration": 394,
    "start_time": "2021-12-07T13:07:26.115Z"
   },
   {
    "duration": 9,
    "start_time": "2021-12-07T13:07:26.512Z"
   },
   {
    "duration": 241,
    "start_time": "2021-12-07T13:07:26.523Z"
   },
   {
    "duration": 255,
    "start_time": "2021-12-07T13:07:26.766Z"
   },
   {
    "duration": 366,
    "start_time": "2021-12-07T13:07:27.023Z"
   },
   {
    "duration": 234,
    "start_time": "2021-12-07T13:07:27.391Z"
   },
   {
    "duration": 22,
    "start_time": "2021-12-07T13:07:27.627Z"
   },
   {
    "duration": 15,
    "start_time": "2021-12-07T13:07:27.650Z"
   },
   {
    "duration": 15,
    "start_time": "2021-12-07T13:07:27.666Z"
   },
   {
    "duration": 249,
    "start_time": "2021-12-07T13:07:27.683Z"
   },
   {
    "duration": 35,
    "start_time": "2021-12-07T13:07:27.934Z"
   },
   {
    "duration": 4495,
    "start_time": "2021-12-07T13:07:27.971Z"
   },
   {
    "duration": 39,
    "start_time": "2021-12-07T13:07:32.468Z"
   },
   {
    "duration": 20,
    "start_time": "2021-12-07T13:07:32.508Z"
   },
   {
    "duration": 309,
    "start_time": "2021-12-07T13:07:32.529Z"
   },
   {
    "duration": 301,
    "start_time": "2021-12-07T13:08:06.508Z"
   },
   {
    "duration": 84,
    "start_time": "2021-12-07T13:08:45.233Z"
   },
   {
    "duration": 85,
    "start_time": "2021-12-07T13:08:45.319Z"
   },
   {
    "duration": 10,
    "start_time": "2021-12-07T13:08:45.446Z"
   },
   {
    "duration": 4,
    "start_time": "2021-12-07T13:08:45.458Z"
   },
   {
    "duration": 10,
    "start_time": "2021-12-07T13:08:45.464Z"
   },
   {
    "duration": 8,
    "start_time": "2021-12-07T13:08:45.476Z"
   },
   {
    "duration": 380,
    "start_time": "2021-12-07T13:08:45.486Z"
   },
   {
    "duration": 10,
    "start_time": "2021-12-07T13:08:45.869Z"
   },
   {
    "duration": 243,
    "start_time": "2021-12-07T13:08:45.881Z"
   },
   {
    "duration": 239,
    "start_time": "2021-12-07T13:08:46.126Z"
   },
   {
    "duration": 350,
    "start_time": "2021-12-07T13:08:46.367Z"
   },
   {
    "duration": 217,
    "start_time": "2021-12-07T13:08:46.719Z"
   },
   {
    "duration": 17,
    "start_time": "2021-12-07T13:08:46.938Z"
   },
   {
    "duration": 17,
    "start_time": "2021-12-07T13:08:46.956Z"
   },
   {
    "duration": 13,
    "start_time": "2021-12-07T13:08:46.975Z"
   },
   {
    "duration": 256,
    "start_time": "2021-12-07T13:08:46.989Z"
   },
   {
    "duration": 29,
    "start_time": "2021-12-07T13:08:47.247Z"
   },
   {
    "duration": 4348,
    "start_time": "2021-12-07T13:08:47.278Z"
   },
   {
    "duration": 46,
    "start_time": "2021-12-07T13:08:51.628Z"
   },
   {
    "duration": 22,
    "start_time": "2021-12-07T13:08:51.676Z"
   },
   {
    "duration": 326,
    "start_time": "2021-12-07T13:08:51.700Z"
   },
   {
    "duration": 306,
    "start_time": "2021-12-07T13:12:10.075Z"
   },
   {
    "duration": 544,
    "start_time": "2021-12-07T13:13:33.114Z"
   },
   {
    "duration": 277,
    "start_time": "2021-12-07T13:13:46.499Z"
   },
   {
    "duration": 292,
    "start_time": "2021-12-07T13:19:02.679Z"
   },
   {
    "duration": 91,
    "start_time": "2021-12-07T13:20:11.367Z"
   },
   {
    "duration": 299,
    "start_time": "2021-12-07T13:20:19.468Z"
   },
   {
    "duration": 282,
    "start_time": "2021-12-07T13:20:38.942Z"
   },
   {
    "duration": 6,
    "start_time": "2021-12-07T13:28:23.603Z"
   },
   {
    "duration": 5,
    "start_time": "2021-12-07T13:30:18.683Z"
   },
   {
    "duration": 5,
    "start_time": "2021-12-07T13:32:01.678Z"
   },
   {
    "duration": 5,
    "start_time": "2021-12-07T13:32:26.129Z"
   },
   {
    "duration": 398,
    "start_time": "2021-12-07T13:41:55.105Z"
   },
   {
    "duration": 5,
    "start_time": "2021-12-07T13:46:46.395Z"
   },
   {
    "duration": 4,
    "start_time": "2021-12-07T13:46:48.797Z"
   },
   {
    "duration": 1250,
    "start_time": "2021-12-07T13:56:45.723Z"
   },
   {
    "duration": 8,
    "start_time": "2021-12-07T13:58:38.296Z"
   },
   {
    "duration": 535,
    "start_time": "2021-12-07T14:00:04.496Z"
   },
   {
    "duration": 489,
    "start_time": "2021-12-07T14:00:31.082Z"
   },
   {
    "duration": 605,
    "start_time": "2021-12-07T14:00:34.697Z"
   },
   {
    "duration": 4,
    "start_time": "2021-12-07T14:05:19.111Z"
   },
   {
    "duration": 5,
    "start_time": "2021-12-07T14:05:29.452Z"
   },
   {
    "duration": 6,
    "start_time": "2021-12-07T14:05:44.882Z"
   },
   {
    "duration": 7,
    "start_time": "2021-12-07T14:06:13.869Z"
   },
   {
    "duration": 12,
    "start_time": "2021-12-07T14:14:47.469Z"
   },
   {
    "duration": 16,
    "start_time": "2021-12-07T14:15:05.625Z"
   },
   {
    "duration": 14,
    "start_time": "2021-12-07T14:16:44.745Z"
   },
   {
    "duration": 12,
    "start_time": "2021-12-07T14:17:43.650Z"
   },
   {
    "duration": 14,
    "start_time": "2021-12-07T14:18:05.961Z"
   },
   {
    "duration": 108,
    "start_time": "2021-12-07T14:18:25.631Z"
   },
   {
    "duration": 87,
    "start_time": "2021-12-07T14:19:08.577Z"
   },
   {
    "duration": 15,
    "start_time": "2021-12-07T14:19:11.848Z"
   },
   {
    "duration": 1042,
    "start_time": "2021-12-07T14:19:29.713Z"
   },
   {
    "duration": 717,
    "start_time": "2021-12-07T14:19:38.771Z"
   },
   {
    "duration": 15,
    "start_time": "2021-12-07T14:20:29.430Z"
   },
   {
    "duration": 16,
    "start_time": "2021-12-07T14:20:39.923Z"
   },
   {
    "duration": 4,
    "start_time": "2021-12-07T14:22:19.328Z"
   },
   {
    "duration": 10,
    "start_time": "2021-12-07T14:22:31.279Z"
   },
   {
    "duration": 8,
    "start_time": "2021-12-07T14:23:36.308Z"
   },
   {
    "duration": 14,
    "start_time": "2021-12-07T14:24:56.345Z"
   },
   {
    "duration": 90,
    "start_time": "2021-12-07T14:27:20.443Z"
   },
   {
    "duration": 8,
    "start_time": "2021-12-07T14:27:53.369Z"
   },
   {
    "duration": 6,
    "start_time": "2021-12-07T14:32:13.960Z"
   },
   {
    "duration": 8,
    "start_time": "2021-12-07T14:32:34.130Z"
   },
   {
    "duration": 9,
    "start_time": "2021-12-07T14:33:29.885Z"
   },
   {
    "duration": 10,
    "start_time": "2021-12-07T14:33:41.621Z"
   },
   {
    "duration": 9,
    "start_time": "2021-12-07T14:34:30.698Z"
   },
   {
    "duration": 10,
    "start_time": "2021-12-07T14:39:59.758Z"
   },
   {
    "duration": 304,
    "start_time": "2021-12-07T14:40:25.163Z"
   },
   {
    "duration": 11,
    "start_time": "2021-12-07T14:40:32.852Z"
   },
   {
    "duration": 281,
    "start_time": "2021-12-07T14:41:51.989Z"
   },
   {
    "duration": 289,
    "start_time": "2021-12-07T14:43:50.862Z"
   },
   {
    "duration": 151,
    "start_time": "2021-12-07T14:45:34.686Z"
   },
   {
    "duration": 117,
    "start_time": "2021-12-07T14:47:50.605Z"
   },
   {
    "duration": 9,
    "start_time": "2021-12-07T14:48:56.643Z"
   },
   {
    "duration": 9,
    "start_time": "2021-12-07T14:49:08.027Z"
   },
   {
    "duration": 308,
    "start_time": "2021-12-08T10:20:06.284Z"
   },
   {
    "duration": 280,
    "start_time": "2021-12-08T10:20:30.214Z"
   },
   {
    "duration": 256,
    "start_time": "2021-12-08T10:20:44.741Z"
   },
   {
    "duration": 275,
    "start_time": "2021-12-08T10:21:23.396Z"
   },
   {
    "duration": 694,
    "start_time": "2021-12-08T10:21:29.505Z"
   },
   {
    "duration": 81,
    "start_time": "2021-12-08T10:21:30.201Z"
   },
   {
    "duration": 9,
    "start_time": "2021-12-08T10:21:30.284Z"
   },
   {
    "duration": 15,
    "start_time": "2021-12-08T10:21:30.295Z"
   },
   {
    "duration": 37,
    "start_time": "2021-12-08T10:21:30.312Z"
   },
   {
    "duration": 12,
    "start_time": "2021-12-08T10:21:30.350Z"
   },
   {
    "duration": 381,
    "start_time": "2021-12-08T10:21:30.364Z"
   },
   {
    "duration": 9,
    "start_time": "2021-12-08T10:21:30.748Z"
   },
   {
    "duration": 244,
    "start_time": "2021-12-08T10:21:30.759Z"
   },
   {
    "duration": 242,
    "start_time": "2021-12-08T10:21:31.005Z"
   },
   {
    "duration": 382,
    "start_time": "2021-12-08T10:21:31.248Z"
   },
   {
    "duration": 235,
    "start_time": "2021-12-08T10:21:31.632Z"
   },
   {
    "duration": 15,
    "start_time": "2021-12-08T10:21:31.869Z"
   },
   {
    "duration": 15,
    "start_time": "2021-12-08T10:21:31.886Z"
   },
   {
    "duration": 15,
    "start_time": "2021-12-08T10:21:31.902Z"
   },
   {
    "duration": 256,
    "start_time": "2021-12-08T10:21:31.945Z"
   },
   {
    "duration": 28,
    "start_time": "2021-12-08T10:21:32.203Z"
   },
   {
    "duration": 4201,
    "start_time": "2021-12-08T10:21:32.233Z"
   },
   {
    "duration": 38,
    "start_time": "2021-12-08T10:21:36.435Z"
   },
   {
    "duration": 18,
    "start_time": "2021-12-08T10:21:36.475Z"
   },
   {
    "duration": 310,
    "start_time": "2021-12-08T10:21:36.494Z"
   },
   {
    "duration": 4,
    "start_time": "2021-12-08T10:21:36.805Z"
   },
   {
    "duration": 247,
    "start_time": "2021-12-08T10:21:36.812Z"
   },
   {
    "duration": 13,
    "start_time": "2021-12-08T10:21:37.061Z"
   },
   {
    "duration": 674,
    "start_time": "2021-12-08T10:21:37.076Z"
   },
   {
    "duration": 8,
    "start_time": "2021-12-08T10:21:37.752Z"
   },
   {
    "duration": 78,
    "start_time": "2021-12-08T10:24:59.358Z"
   },
   {
    "duration": 12,
    "start_time": "2021-12-08T10:30:15.023Z"
   },
   {
    "duration": 13,
    "start_time": "2021-12-08T10:30:55.607Z"
   },
   {
    "duration": 12,
    "start_time": "2021-12-08T10:31:10.857Z"
   },
   {
    "duration": 11,
    "start_time": "2021-12-08T10:33:12.849Z"
   },
   {
    "duration": 10,
    "start_time": "2021-12-08T10:38:19.084Z"
   },
   {
    "duration": 14,
    "start_time": "2021-12-08T10:38:52.301Z"
   },
   {
    "duration": 243,
    "start_time": "2021-12-08T10:49:48.958Z"
   },
   {
    "duration": 113,
    "start_time": "2021-12-08T10:49:52.902Z"
   },
   {
    "duration": 83,
    "start_time": "2021-12-08T10:49:53.017Z"
   },
   {
    "duration": 46,
    "start_time": "2021-12-08T10:49:53.103Z"
   },
   {
    "duration": 18,
    "start_time": "2021-12-08T10:49:53.151Z"
   },
   {
    "duration": 20,
    "start_time": "2021-12-08T10:49:53.170Z"
   },
   {
    "duration": 16,
    "start_time": "2021-12-08T10:49:53.191Z"
   },
   {
    "duration": 404,
    "start_time": "2021-12-08T10:49:53.208Z"
   },
   {
    "duration": 10,
    "start_time": "2021-12-08T10:49:53.613Z"
   },
   {
    "duration": 245,
    "start_time": "2021-12-08T10:49:53.625Z"
   },
   {
    "duration": 256,
    "start_time": "2021-12-08T10:49:53.872Z"
   },
   {
    "duration": 396,
    "start_time": "2021-12-08T10:49:54.130Z"
   },
   {
    "duration": 252,
    "start_time": "2021-12-08T10:49:54.528Z"
   },
   {
    "duration": 19,
    "start_time": "2021-12-08T10:49:54.782Z"
   },
   {
    "duration": 16,
    "start_time": "2021-12-08T10:49:54.803Z"
   },
   {
    "duration": 38,
    "start_time": "2021-12-08T10:49:54.820Z"
   },
   {
    "duration": 266,
    "start_time": "2021-12-08T10:49:54.860Z"
   },
   {
    "duration": 35,
    "start_time": "2021-12-08T10:49:55.127Z"
   },
   {
    "duration": 5006,
    "start_time": "2021-12-08T10:49:55.163Z"
   },
   {
    "duration": 41,
    "start_time": "2021-12-08T10:50:00.170Z"
   },
   {
    "duration": 34,
    "start_time": "2021-12-08T10:50:00.213Z"
   },
   {
    "duration": 334,
    "start_time": "2021-12-08T10:50:00.249Z"
   },
   {
    "duration": 5,
    "start_time": "2021-12-08T10:50:00.585Z"
   },
   {
    "duration": 274,
    "start_time": "2021-12-08T10:50:00.591Z"
   },
   {
    "duration": 11,
    "start_time": "2021-12-08T10:50:00.867Z"
   },
   {
    "duration": 245,
    "start_time": "2021-12-08T10:50:00.880Z"
   },
   {
    "duration": 18,
    "start_time": "2021-12-08T10:50:01.127Z"
   },
   {
    "duration": 20,
    "start_time": "2021-12-08T10:50:01.148Z"
   },
   {
    "duration": 11,
    "start_time": "2021-12-08T10:51:11.496Z"
   },
   {
    "duration": 92,
    "start_time": "2021-12-08T10:54:53.247Z"
   },
   {
    "duration": 79,
    "start_time": "2021-12-08T10:55:17.648Z"
   },
   {
    "duration": 72,
    "start_time": "2021-12-08T10:55:17.729Z"
   },
   {
    "duration": 46,
    "start_time": "2021-12-08T10:55:17.803Z"
   },
   {
    "duration": 3,
    "start_time": "2021-12-08T10:55:17.851Z"
   },
   {
    "duration": 8,
    "start_time": "2021-12-08T10:55:17.856Z"
   },
   {
    "duration": 5,
    "start_time": "2021-12-08T10:55:17.866Z"
   },
   {
    "duration": 381,
    "start_time": "2021-12-08T10:55:17.873Z"
   },
   {
    "duration": 10,
    "start_time": "2021-12-08T10:55:18.257Z"
   },
   {
    "duration": 365,
    "start_time": "2021-12-08T10:55:18.269Z"
   },
   {
    "duration": 245,
    "start_time": "2021-12-08T10:55:18.643Z"
   },
   {
    "duration": 362,
    "start_time": "2021-12-08T10:55:18.890Z"
   },
   {
    "duration": 243,
    "start_time": "2021-12-08T10:55:19.254Z"
   },
   {
    "duration": 14,
    "start_time": "2021-12-08T10:55:19.500Z"
   },
   {
    "duration": 34,
    "start_time": "2021-12-08T10:55:19.517Z"
   },
   {
    "duration": 14,
    "start_time": "2021-12-08T10:55:19.553Z"
   },
   {
    "duration": 253,
    "start_time": "2021-12-08T10:55:19.569Z"
   },
   {
    "duration": 37,
    "start_time": "2021-12-08T10:55:19.824Z"
   },
   {
    "duration": 4339,
    "start_time": "2021-12-08T10:55:19.863Z"
   },
   {
    "duration": 42,
    "start_time": "2021-12-08T10:55:24.204Z"
   },
   {
    "duration": 18,
    "start_time": "2021-12-08T10:55:24.248Z"
   },
   {
    "duration": 308,
    "start_time": "2021-12-08T10:55:24.268Z"
   },
   {
    "duration": 4,
    "start_time": "2021-12-08T10:55:24.578Z"
   },
   {
    "duration": 262,
    "start_time": "2021-12-08T10:55:24.585Z"
   },
   {
    "duration": 10,
    "start_time": "2021-12-08T10:55:24.849Z"
   },
   {
    "duration": 165,
    "start_time": "2021-12-08T10:55:24.861Z"
   },
   {
    "duration": 20,
    "start_time": "2021-12-08T10:55:25.028Z"
   },
   {
    "duration": 8,
    "start_time": "2021-12-08T10:55:25.050Z"
   },
   {
    "duration": 157,
    "start_time": "2021-12-08T10:59:52.205Z"
   },
   {
    "duration": 10,
    "start_time": "2021-12-08T11:04:32.364Z"
   },
   {
    "duration": 11,
    "start_time": "2021-12-08T11:09:29.538Z"
   },
   {
    "duration": 69,
    "start_time": "2021-12-08T11:13:09.058Z"
   },
   {
    "duration": 66,
    "start_time": "2021-12-08T11:15:29.708Z"
   },
   {
    "duration": 9,
    "start_time": "2021-12-08T11:18:34.113Z"
   },
   {
    "duration": 8,
    "start_time": "2021-12-08T11:19:07.412Z"
   },
   {
    "duration": 7,
    "start_time": "2021-12-08T11:24:05.582Z"
   },
   {
    "duration": 335,
    "start_time": "2021-12-08T11:24:57.356Z"
   },
   {
    "duration": 335,
    "start_time": "2021-12-08T11:24:57.358Z"
   },
   {
    "duration": 334,
    "start_time": "2021-12-08T11:24:57.360Z"
   },
   {
    "duration": 79,
    "start_time": "2021-12-08T11:25:02.570Z"
   },
   {
    "duration": 109,
    "start_time": "2021-12-08T11:25:02.651Z"
   },
   {
    "duration": 9,
    "start_time": "2021-12-08T11:25:02.762Z"
   },
   {
    "duration": 19,
    "start_time": "2021-12-08T11:25:02.773Z"
   },
   {
    "duration": 13,
    "start_time": "2021-12-08T11:25:02.793Z"
   },
   {
    "duration": 17,
    "start_time": "2021-12-08T11:25:02.808Z"
   },
   {
    "duration": 10367,
    "start_time": "2021-12-08T11:25:02.827Z"
   },
   {
    "duration": 282,
    "start_time": "2021-12-08T11:25:12.915Z"
   },
   {
    "duration": 281,
    "start_time": "2021-12-08T11:25:12.917Z"
   },
   {
    "duration": 281,
    "start_time": "2021-12-08T11:25:12.918Z"
   },
   {
    "duration": 281,
    "start_time": "2021-12-08T11:25:12.920Z"
   },
   {
    "duration": 264,
    "start_time": "2021-12-08T11:25:12.938Z"
   },
   {
    "duration": 263,
    "start_time": "2021-12-08T11:25:12.940Z"
   },
   {
    "duration": 261,
    "start_time": "2021-12-08T11:25:12.944Z"
   },
   {
    "duration": 260,
    "start_time": "2021-12-08T11:25:12.946Z"
   },
   {
    "duration": 259,
    "start_time": "2021-12-08T11:25:12.948Z"
   },
   {
    "duration": 260,
    "start_time": "2021-12-08T11:25:12.949Z"
   },
   {
    "duration": 259,
    "start_time": "2021-12-08T11:25:12.951Z"
   },
   {
    "duration": 259,
    "start_time": "2021-12-08T11:25:12.952Z"
   },
   {
    "duration": 257,
    "start_time": "2021-12-08T11:25:12.956Z"
   },
   {
    "duration": 252,
    "start_time": "2021-12-08T11:25:12.963Z"
   },
   {
    "duration": 250,
    "start_time": "2021-12-08T11:25:12.966Z"
   },
   {
    "duration": 250,
    "start_time": "2021-12-08T11:25:12.968Z"
   },
   {
    "duration": 249,
    "start_time": "2021-12-08T11:25:12.970Z"
   },
   {
    "duration": 249,
    "start_time": "2021-12-08T11:25:12.971Z"
   },
   {
    "duration": 248,
    "start_time": "2021-12-08T11:25:12.973Z"
   },
   {
    "duration": 248,
    "start_time": "2021-12-08T11:25:12.974Z"
   },
   {
    "duration": 247,
    "start_time": "2021-12-08T11:25:12.976Z"
   },
   {
    "duration": 247,
    "start_time": "2021-12-08T11:25:12.977Z"
   },
   {
    "duration": 102,
    "start_time": "2021-12-08T11:25:55.518Z"
   },
   {
    "duration": 96,
    "start_time": "2021-12-08T11:25:55.862Z"
   },
   {
    "duration": 11,
    "start_time": "2021-12-08T11:25:56.977Z"
   },
   {
    "duration": 5,
    "start_time": "2021-12-08T11:25:57.385Z"
   },
   {
    "duration": 9,
    "start_time": "2021-12-08T11:25:57.805Z"
   },
   {
    "duration": 6,
    "start_time": "2021-12-08T11:25:58.239Z"
   },
   {
    "duration": 9888,
    "start_time": "2021-12-08T11:25:59.618Z"
   },
   {
    "duration": 579,
    "start_time": "2021-12-08T11:26:19.328Z"
   },
   {
    "duration": 362,
    "start_time": "2021-12-08T11:26:31.156Z"
   },
   {
    "duration": 9,
    "start_time": "2021-12-08T11:26:46.582Z"
   },
   {
    "duration": 15,
    "start_time": "2021-12-08T11:27:28.870Z"
   },
   {
    "duration": 228,
    "start_time": "2021-12-08T11:30:12.771Z"
   },
   {
    "duration": 232,
    "start_time": "2021-12-08T11:33:57.949Z"
   },
   {
    "duration": 6,
    "start_time": "2021-12-08T11:35:20.632Z"
   },
   {
    "duration": 6,
    "start_time": "2021-12-08T11:35:33.250Z"
   },
   {
    "duration": 6,
    "start_time": "2021-12-08T11:35:36.327Z"
   },
   {
    "duration": 5,
    "start_time": "2021-12-08T11:36:06.478Z"
   },
   {
    "duration": 359,
    "start_time": "2021-12-08T11:48:11.307Z"
   },
   {
    "duration": 224,
    "start_time": "2021-12-08T11:49:08.725Z"
   },
   {
    "duration": 13,
    "start_time": "2021-12-08T11:51:13.670Z"
   },
   {
    "duration": 15,
    "start_time": "2021-12-08T11:53:32.061Z"
   },
   {
    "duration": 15,
    "start_time": "2021-12-08T11:53:45.018Z"
   },
   {
    "duration": 14,
    "start_time": "2021-12-08T11:53:46.772Z"
   },
   {
    "duration": 42,
    "start_time": "2021-12-08T11:55:56.217Z"
   },
   {
    "duration": 4396,
    "start_time": "2021-12-08T11:56:31.775Z"
   },
   {
    "duration": 4458,
    "start_time": "2021-12-08T11:56:48.487Z"
   },
   {
    "duration": 37,
    "start_time": "2021-12-08T12:00:01.284Z"
   },
   {
    "duration": 15,
    "start_time": "2021-12-08T12:01:54.594Z"
   },
   {
    "duration": 13,
    "start_time": "2021-12-08T12:02:07.667Z"
   },
   {
    "duration": 296,
    "start_time": "2021-12-08T12:04:32.088Z"
   },
   {
    "duration": 4,
    "start_time": "2021-12-08T12:05:06.071Z"
   },
   {
    "duration": 5,
    "start_time": "2021-12-08T12:09:03.672Z"
   },
   {
    "duration": 587,
    "start_time": "2021-12-08T12:09:15.073Z"
   },
   {
    "duration": 231,
    "start_time": "2021-12-08T12:43:25.910Z"
   },
   {
    "duration": 6,
    "start_time": "2021-12-08T12:47:59.742Z"
   },
   {
    "duration": 9,
    "start_time": "2021-12-08T12:56:17.894Z"
   },
   {
    "duration": 147,
    "start_time": "2021-12-08T12:56:21.007Z"
   },
   {
    "duration": 13,
    "start_time": "2021-12-08T12:59:36.079Z"
   },
   {
    "duration": 10,
    "start_time": "2021-12-08T13:12:53.814Z"
   },
   {
    "duration": 146,
    "start_time": "2021-12-08T13:14:03.090Z"
   },
   {
    "duration": 251,
    "start_time": "2021-12-08T13:20:59.919Z"
   },
   {
    "duration": 69,
    "start_time": "2021-12-08T13:21:03.770Z"
   },
   {
    "duration": 123,
    "start_time": "2021-12-08T13:21:03.841Z"
   },
   {
    "duration": 11,
    "start_time": "2021-12-08T13:21:03.966Z"
   },
   {
    "duration": 3,
    "start_time": "2021-12-08T13:21:03.979Z"
   },
   {
    "duration": 15,
    "start_time": "2021-12-08T13:21:03.984Z"
   },
   {
    "duration": 42,
    "start_time": "2021-12-08T13:21:04.002Z"
   },
   {
    "duration": 387,
    "start_time": "2021-12-08T13:21:04.046Z"
   },
   {
    "duration": 14,
    "start_time": "2021-12-08T13:21:04.435Z"
   },
   {
    "duration": 258,
    "start_time": "2021-12-08T13:21:04.452Z"
   },
   {
    "duration": 260,
    "start_time": "2021-12-08T13:21:04.712Z"
   },
   {
    "duration": 6,
    "start_time": "2021-12-08T13:21:04.974Z"
   },
   {
    "duration": 408,
    "start_time": "2021-12-08T13:21:04.981Z"
   },
   {
    "duration": 244,
    "start_time": "2021-12-08T13:21:05.390Z"
   },
   {
    "duration": 19,
    "start_time": "2021-12-08T13:21:05.636Z"
   },
   {
    "duration": 15,
    "start_time": "2021-12-08T13:21:05.657Z"
   },
   {
    "duration": 14,
    "start_time": "2021-12-08T13:21:05.673Z"
   },
   {
    "duration": 408,
    "start_time": "2021-12-08T13:21:05.688Z"
   },
   {
    "duration": 47,
    "start_time": "2021-12-08T13:21:06.098Z"
   },
   {
    "duration": 5007,
    "start_time": "2021-12-08T13:21:06.147Z"
   },
   {
    "duration": 40,
    "start_time": "2021-12-08T13:21:11.156Z"
   },
   {
    "duration": 55,
    "start_time": "2021-12-08T13:21:11.198Z"
   },
   {
    "duration": 326,
    "start_time": "2021-12-08T13:21:11.255Z"
   },
   {
    "duration": 4,
    "start_time": "2021-12-08T13:21:11.584Z"
   },
   {
    "duration": 254,
    "start_time": "2021-12-08T13:21:11.590Z"
   },
   {
    "duration": 6,
    "start_time": "2021-12-08T13:21:11.846Z"
   },
   {
    "duration": 25,
    "start_time": "2021-12-08T13:21:11.853Z"
   },
   {
    "duration": 166,
    "start_time": "2021-12-08T13:21:11.880Z"
   },
   {
    "duration": 16,
    "start_time": "2021-12-08T13:21:12.049Z"
   },
   {
    "duration": 32,
    "start_time": "2021-12-08T13:21:12.067Z"
   },
   {
    "duration": 255,
    "start_time": "2021-12-08T13:21:12.101Z"
   },
   {
    "duration": 13,
    "start_time": "2021-12-08T13:21:12.358Z"
   },
   {
    "duration": 72,
    "start_time": "2021-12-08T13:23:57.655Z"
   },
   {
    "duration": 75,
    "start_time": "2021-12-08T13:23:57.728Z"
   },
   {
    "duration": 11,
    "start_time": "2021-12-08T13:23:57.847Z"
   },
   {
    "duration": 4,
    "start_time": "2021-12-08T13:23:57.860Z"
   },
   {
    "duration": 10,
    "start_time": "2021-12-08T13:23:57.866Z"
   },
   {
    "duration": 6,
    "start_time": "2021-12-08T13:23:57.878Z"
   },
   {
    "duration": 386,
    "start_time": "2021-12-08T13:23:57.885Z"
   },
   {
    "duration": 8,
    "start_time": "2021-12-08T13:23:58.274Z"
   },
   {
    "duration": 235,
    "start_time": "2021-12-08T13:23:58.284Z"
   },
   {
    "duration": 239,
    "start_time": "2021-12-08T13:23:58.520Z"
   },
   {
    "duration": 4,
    "start_time": "2021-12-08T13:23:58.761Z"
   },
   {
    "duration": 405,
    "start_time": "2021-12-08T13:23:58.767Z"
   },
   {
    "duration": 236,
    "start_time": "2021-12-08T13:23:59.174Z"
   },
   {
    "duration": 14,
    "start_time": "2021-12-08T13:23:59.412Z"
   },
   {
    "duration": 29,
    "start_time": "2021-12-08T13:23:59.428Z"
   },
   {
    "duration": 14,
    "start_time": "2021-12-08T13:23:59.459Z"
   },
   {
    "duration": 270,
    "start_time": "2021-12-08T13:23:59.474Z"
   },
   {
    "duration": 29,
    "start_time": "2021-12-08T13:23:59.746Z"
   },
   {
    "duration": 4360,
    "start_time": "2021-12-08T13:23:59.776Z"
   },
   {
    "duration": 39,
    "start_time": "2021-12-08T13:24:04.138Z"
   },
   {
    "duration": 20,
    "start_time": "2021-12-08T13:24:04.179Z"
   },
   {
    "duration": 324,
    "start_time": "2021-12-08T13:24:04.200Z"
   },
   {
    "duration": 5,
    "start_time": "2021-12-08T13:24:04.527Z"
   },
   {
    "duration": 234,
    "start_time": "2021-12-08T13:24:04.544Z"
   },
   {
    "duration": 6,
    "start_time": "2021-12-08T13:24:04.780Z"
   },
   {
    "duration": 12,
    "start_time": "2021-12-08T13:24:04.787Z"
   },
   {
    "duration": 172,
    "start_time": "2021-12-08T13:24:04.801Z"
   },
   {
    "duration": 13,
    "start_time": "2021-12-08T13:24:04.975Z"
   },
   {
    "duration": 9,
    "start_time": "2021-12-08T13:24:04.989Z"
   },
   {
    "duration": 169,
    "start_time": "2021-12-08T13:24:05.000Z"
   },
   {
    "duration": 12,
    "start_time": "2021-12-08T13:24:05.170Z"
   },
   {
    "duration": 85,
    "start_time": "2021-12-08T13:26:25.245Z"
   },
   {
    "duration": 116,
    "start_time": "2021-12-08T13:26:25.332Z"
   },
   {
    "duration": 10,
    "start_time": "2021-12-08T13:26:25.450Z"
   },
   {
    "duration": 5,
    "start_time": "2021-12-08T13:26:25.462Z"
   },
   {
    "duration": 11,
    "start_time": "2021-12-08T13:26:25.468Z"
   },
   {
    "duration": 6,
    "start_time": "2021-12-08T13:26:25.481Z"
   },
   {
    "duration": 418,
    "start_time": "2021-12-08T13:26:25.489Z"
   },
   {
    "duration": 8,
    "start_time": "2021-12-08T13:26:25.908Z"
   },
   {
    "duration": 238,
    "start_time": "2021-12-08T13:26:25.918Z"
   },
   {
    "duration": 239,
    "start_time": "2021-12-08T13:26:26.158Z"
   },
   {
    "duration": 5,
    "start_time": "2021-12-08T13:26:26.399Z"
   },
   {
    "duration": 443,
    "start_time": "2021-12-08T13:26:26.406Z"
   },
   {
    "duration": 256,
    "start_time": "2021-12-08T13:26:26.850Z"
   },
   {
    "duration": 14,
    "start_time": "2021-12-08T13:26:27.107Z"
   },
   {
    "duration": 26,
    "start_time": "2021-12-08T13:26:27.123Z"
   },
   {
    "duration": 14,
    "start_time": "2021-12-08T13:26:27.151Z"
   },
   {
    "duration": 315,
    "start_time": "2021-12-08T13:26:27.167Z"
   },
   {
    "duration": 32,
    "start_time": "2021-12-08T13:26:27.484Z"
   },
   {
    "duration": 4199,
    "start_time": "2021-12-08T13:26:27.518Z"
   },
   {
    "duration": 47,
    "start_time": "2021-12-08T13:26:31.719Z"
   },
   {
    "duration": 22,
    "start_time": "2021-12-08T13:26:31.767Z"
   },
   {
    "duration": 310,
    "start_time": "2021-12-08T13:26:31.790Z"
   },
   {
    "duration": 5,
    "start_time": "2021-12-08T13:26:32.102Z"
   },
   {
    "duration": 244,
    "start_time": "2021-12-08T13:26:32.108Z"
   },
   {
    "duration": 5,
    "start_time": "2021-12-08T13:26:32.354Z"
   },
   {
    "duration": 27,
    "start_time": "2021-12-08T13:26:32.361Z"
   },
   {
    "duration": 157,
    "start_time": "2021-12-08T13:26:32.392Z"
   },
   {
    "duration": 13,
    "start_time": "2021-12-08T13:26:32.550Z"
   },
   {
    "duration": 15,
    "start_time": "2021-12-08T13:26:32.564Z"
   },
   {
    "duration": 158,
    "start_time": "2021-12-08T13:26:32.580Z"
   },
   {
    "duration": 11,
    "start_time": "2021-12-08T13:26:32.740Z"
   },
   {
    "duration": 227,
    "start_time": "2021-12-08T13:27:20.873Z"
   },
   {
    "duration": 68,
    "start_time": "2021-12-08T13:28:35.508Z"
   },
   {
    "duration": 93,
    "start_time": "2021-12-08T13:28:35.578Z"
   },
   {
    "duration": 10,
    "start_time": "2021-12-08T13:28:35.673Z"
   },
   {
    "duration": 7,
    "start_time": "2021-12-08T13:28:35.685Z"
   },
   {
    "duration": 13,
    "start_time": "2021-12-08T13:28:35.693Z"
   },
   {
    "duration": 144,
    "start_time": "2021-12-08T13:28:35.708Z"
   },
   {
    "duration": 381,
    "start_time": "2021-12-08T13:28:35.854Z"
   },
   {
    "duration": 12,
    "start_time": "2021-12-08T13:28:36.238Z"
   },
   {
    "duration": 235,
    "start_time": "2021-12-08T13:28:36.252Z"
   },
   {
    "duration": 235,
    "start_time": "2021-12-08T13:28:36.489Z"
   },
   {
    "duration": 5,
    "start_time": "2021-12-08T13:28:36.726Z"
   },
   {
    "duration": 363,
    "start_time": "2021-12-08T13:28:36.732Z"
   },
   {
    "duration": 248,
    "start_time": "2021-12-08T13:28:37.096Z"
   },
   {
    "duration": 13,
    "start_time": "2021-12-08T13:28:37.346Z"
   },
   {
    "duration": 13,
    "start_time": "2021-12-08T13:28:37.361Z"
   },
   {
    "duration": 13,
    "start_time": "2021-12-08T13:28:37.376Z"
   },
   {
    "duration": 271,
    "start_time": "2021-12-08T13:28:37.390Z"
   },
   {
    "duration": 30,
    "start_time": "2021-12-08T13:28:37.662Z"
   },
   {
    "duration": 4429,
    "start_time": "2021-12-08T13:28:37.694Z"
   },
   {
    "duration": 47,
    "start_time": "2021-12-08T13:28:42.125Z"
   },
   {
    "duration": 23,
    "start_time": "2021-12-08T13:28:42.174Z"
   },
   {
    "duration": 326,
    "start_time": "2021-12-08T13:28:42.199Z"
   },
   {
    "duration": 5,
    "start_time": "2021-12-08T13:28:42.528Z"
   },
   {
    "duration": 251,
    "start_time": "2021-12-08T13:28:42.543Z"
   },
   {
    "duration": 5,
    "start_time": "2021-12-08T13:28:42.796Z"
   },
   {
    "duration": 11,
    "start_time": "2021-12-08T13:28:42.803Z"
   },
   {
    "duration": 175,
    "start_time": "2021-12-08T13:28:42.815Z"
   },
   {
    "duration": 13,
    "start_time": "2021-12-08T13:28:42.992Z"
   },
   {
    "duration": 10,
    "start_time": "2021-12-08T13:28:43.007Z"
   },
   {
    "duration": 176,
    "start_time": "2021-12-08T13:28:43.018Z"
   },
   {
    "duration": 12,
    "start_time": "2021-12-08T13:28:43.196Z"
   },
   {
    "duration": 134,
    "start_time": "2021-12-08T13:29:36.988Z"
   },
   {
    "duration": 76,
    "start_time": "2021-12-08T13:31:38.705Z"
   },
   {
    "duration": 99,
    "start_time": "2021-12-08T13:31:38.783Z"
   },
   {
    "duration": 9,
    "start_time": "2021-12-08T13:31:38.885Z"
   },
   {
    "duration": 4,
    "start_time": "2021-12-08T13:31:38.896Z"
   },
   {
    "duration": 47,
    "start_time": "2021-12-08T13:31:38.902Z"
   },
   {
    "duration": 6,
    "start_time": "2021-12-08T13:31:38.951Z"
   },
   {
    "duration": 374,
    "start_time": "2021-12-08T13:31:38.958Z"
   },
   {
    "duration": 18,
    "start_time": "2021-12-08T13:31:39.334Z"
   },
   {
    "duration": 243,
    "start_time": "2021-12-08T13:31:39.354Z"
   },
   {
    "duration": 241,
    "start_time": "2021-12-08T13:31:39.599Z"
   },
   {
    "duration": 6,
    "start_time": "2021-12-08T13:31:39.841Z"
   },
   {
    "duration": 396,
    "start_time": "2021-12-08T13:31:39.848Z"
   },
   {
    "duration": 232,
    "start_time": "2021-12-08T13:31:40.247Z"
   },
   {
    "duration": 14,
    "start_time": "2021-12-08T13:31:40.481Z"
   },
   {
    "duration": 16,
    "start_time": "2021-12-08T13:31:40.496Z"
   },
   {
    "duration": 39,
    "start_time": "2021-12-08T13:31:40.513Z"
   },
   {
    "duration": 254,
    "start_time": "2021-12-08T13:31:40.553Z"
   },
   {
    "duration": 39,
    "start_time": "2021-12-08T13:31:40.809Z"
   },
   {
    "duration": 4877,
    "start_time": "2021-12-08T13:31:40.850Z"
   },
   {
    "duration": 47,
    "start_time": "2021-12-08T13:31:45.729Z"
   },
   {
    "duration": 17,
    "start_time": "2021-12-08T13:31:45.778Z"
   },
   {
    "duration": 337,
    "start_time": "2021-12-08T13:31:45.797Z"
   },
   {
    "duration": 11,
    "start_time": "2021-12-08T13:31:46.135Z"
   },
   {
    "duration": 255,
    "start_time": "2021-12-08T13:31:46.148Z"
   },
   {
    "duration": 7,
    "start_time": "2021-12-08T13:31:46.405Z"
   },
   {
    "duration": 30,
    "start_time": "2021-12-08T13:31:46.413Z"
   },
   {
    "duration": 236,
    "start_time": "2021-12-08T13:31:46.448Z"
   },
   {
    "duration": 16,
    "start_time": "2021-12-08T13:31:46.686Z"
   },
   {
    "duration": 27,
    "start_time": "2021-12-08T13:31:46.704Z"
   },
   {
    "duration": 162,
    "start_time": "2021-12-08T13:31:46.733Z"
   },
   {
    "duration": 12,
    "start_time": "2021-12-08T13:31:46.897Z"
   },
   {
    "duration": 150,
    "start_time": "2021-12-08T13:32:25.636Z"
   },
   {
    "duration": 74,
    "start_time": "2021-12-08T13:33:41.747Z"
   },
   {
    "duration": 77,
    "start_time": "2021-12-08T13:33:41.823Z"
   },
   {
    "duration": 46,
    "start_time": "2021-12-08T13:33:41.902Z"
   },
   {
    "duration": 20,
    "start_time": "2021-12-08T13:33:41.950Z"
   },
   {
    "duration": 25,
    "start_time": "2021-12-08T13:33:41.971Z"
   },
   {
    "duration": 14,
    "start_time": "2021-12-08T13:33:41.998Z"
   },
   {
    "duration": 395,
    "start_time": "2021-12-08T13:33:42.014Z"
   },
   {
    "duration": 9,
    "start_time": "2021-12-08T13:33:42.411Z"
   },
   {
    "duration": 286,
    "start_time": "2021-12-08T13:33:42.424Z"
   },
   {
    "duration": 250,
    "start_time": "2021-12-08T13:33:42.712Z"
   },
   {
    "duration": 5,
    "start_time": "2021-12-08T13:33:42.964Z"
   },
   {
    "duration": 374,
    "start_time": "2021-12-08T13:33:42.971Z"
   },
   {
    "duration": 241,
    "start_time": "2021-12-08T13:33:43.347Z"
   },
   {
    "duration": 13,
    "start_time": "2021-12-08T13:33:43.591Z"
   },
   {
    "duration": 13,
    "start_time": "2021-12-08T13:33:43.606Z"
   },
   {
    "duration": 32,
    "start_time": "2021-12-08T13:33:43.621Z"
   },
   {
    "duration": 254,
    "start_time": "2021-12-08T13:33:43.655Z"
   },
   {
    "duration": 33,
    "start_time": "2021-12-08T13:33:43.911Z"
   },
   {
    "duration": 4641,
    "start_time": "2021-12-08T13:33:43.946Z"
   },
   {
    "duration": 44,
    "start_time": "2021-12-08T13:33:48.589Z"
   },
   {
    "duration": 15,
    "start_time": "2021-12-08T13:33:48.645Z"
   },
   {
    "duration": 319,
    "start_time": "2021-12-08T13:33:48.662Z"
   },
   {
    "duration": 4,
    "start_time": "2021-12-08T13:33:48.983Z"
   },
   {
    "duration": 244,
    "start_time": "2021-12-08T13:33:48.989Z"
   },
   {
    "duration": 12,
    "start_time": "2021-12-08T13:33:49.235Z"
   },
   {
    "duration": 16,
    "start_time": "2021-12-08T13:33:49.249Z"
   },
   {
    "duration": 165,
    "start_time": "2021-12-08T13:33:49.268Z"
   },
   {
    "duration": 12,
    "start_time": "2021-12-08T13:33:49.434Z"
   },
   {
    "duration": 24,
    "start_time": "2021-12-08T13:33:49.448Z"
   },
   {
    "duration": 146,
    "start_time": "2021-12-08T13:33:49.474Z"
   },
   {
    "duration": 12,
    "start_time": "2021-12-08T13:33:49.623Z"
   },
   {
    "duration": 73,
    "start_time": "2021-12-08T13:35:19.288Z"
   },
   {
    "duration": 99,
    "start_time": "2021-12-08T13:35:19.363Z"
   },
   {
    "duration": 11,
    "start_time": "2021-12-08T13:35:19.465Z"
   },
   {
    "duration": 5,
    "start_time": "2021-12-08T13:35:19.478Z"
   },
   {
    "duration": 9,
    "start_time": "2021-12-08T13:35:19.484Z"
   },
   {
    "duration": 7,
    "start_time": "2021-12-08T13:35:19.495Z"
   },
   {
    "duration": 621,
    "start_time": "2021-12-08T13:35:19.504Z"
   },
   {
    "duration": 19,
    "start_time": "2021-12-08T13:35:20.128Z"
   },
   {
    "duration": 251,
    "start_time": "2021-12-08T13:35:20.149Z"
   },
   {
    "duration": 306,
    "start_time": "2021-12-08T13:35:20.401Z"
   },
   {
    "duration": 4,
    "start_time": "2021-12-08T13:35:20.709Z"
   },
   {
    "duration": 381,
    "start_time": "2021-12-08T13:35:20.715Z"
   },
   {
    "duration": 255,
    "start_time": "2021-12-08T13:35:21.099Z"
   },
   {
    "duration": 14,
    "start_time": "2021-12-08T13:35:21.356Z"
   },
   {
    "duration": 15,
    "start_time": "2021-12-08T13:35:21.372Z"
   },
   {
    "duration": 14,
    "start_time": "2021-12-08T13:35:21.389Z"
   },
   {
    "duration": 288,
    "start_time": "2021-12-08T13:35:21.405Z"
   },
   {
    "duration": 29,
    "start_time": "2021-12-08T13:35:21.695Z"
   },
   {
    "duration": 4704,
    "start_time": "2021-12-08T13:35:21.726Z"
   },
   {
    "duration": 47,
    "start_time": "2021-12-08T13:35:26.433Z"
   },
   {
    "duration": 18,
    "start_time": "2021-12-08T13:35:26.482Z"
   },
   {
    "duration": 318,
    "start_time": "2021-12-08T13:35:26.502Z"
   },
   {
    "duration": 4,
    "start_time": "2021-12-08T13:35:26.824Z"
   },
   {
    "duration": 264,
    "start_time": "2021-12-08T13:35:26.830Z"
   },
   {
    "duration": 6,
    "start_time": "2021-12-08T13:35:27.095Z"
   },
   {
    "duration": 11,
    "start_time": "2021-12-08T13:35:27.102Z"
   },
   {
    "duration": 170,
    "start_time": "2021-12-08T13:35:27.115Z"
   },
   {
    "duration": 15,
    "start_time": "2021-12-08T13:35:27.287Z"
   },
   {
    "duration": 9,
    "start_time": "2021-12-08T13:35:27.304Z"
   },
   {
    "duration": 182,
    "start_time": "2021-12-08T13:35:27.315Z"
   },
   {
    "duration": 12,
    "start_time": "2021-12-08T13:35:27.499Z"
   },
   {
    "duration": 277,
    "start_time": "2021-12-08T13:36:20.459Z"
   },
   {
    "duration": 76,
    "start_time": "2021-12-08T13:36:29.151Z"
   },
   {
    "duration": 60,
    "start_time": "2021-12-08T13:36:29.245Z"
   },
   {
    "duration": 10,
    "start_time": "2021-12-08T13:36:29.346Z"
   },
   {
    "duration": 3,
    "start_time": "2021-12-08T13:36:29.358Z"
   },
   {
    "duration": 10,
    "start_time": "2021-12-08T13:36:29.363Z"
   },
   {
    "duration": 7,
    "start_time": "2021-12-08T13:36:29.375Z"
   },
   {
    "duration": 560,
    "start_time": "2021-12-08T13:36:29.384Z"
   },
   {
    "duration": 8,
    "start_time": "2021-12-08T13:36:29.947Z"
   },
   {
    "duration": 242,
    "start_time": "2021-12-08T13:36:29.958Z"
   },
   {
    "duration": 322,
    "start_time": "2021-12-08T13:36:30.202Z"
   },
   {
    "duration": 5,
    "start_time": "2021-12-08T13:36:30.526Z"
   },
   {
    "duration": 384,
    "start_time": "2021-12-08T13:36:30.545Z"
   },
   {
    "duration": 237,
    "start_time": "2021-12-08T13:36:30.931Z"
   },
   {
    "duration": 13,
    "start_time": "2021-12-08T13:36:31.170Z"
   },
   {
    "duration": 15,
    "start_time": "2021-12-08T13:36:31.185Z"
   },
   {
    "duration": 13,
    "start_time": "2021-12-08T13:36:31.202Z"
   },
   {
    "duration": 252,
    "start_time": "2021-12-08T13:36:31.245Z"
   },
   {
    "duration": 30,
    "start_time": "2021-12-08T13:36:31.498Z"
   },
   {
    "duration": 4490,
    "start_time": "2021-12-08T13:36:31.530Z"
   },
   {
    "duration": 49,
    "start_time": "2021-12-08T13:36:36.022Z"
   },
   {
    "duration": 35,
    "start_time": "2021-12-08T13:36:36.073Z"
   },
   {
    "duration": 317,
    "start_time": "2021-12-08T13:36:36.110Z"
   },
   {
    "duration": 4,
    "start_time": "2021-12-08T13:36:36.430Z"
   },
   {
    "duration": 251,
    "start_time": "2021-12-08T13:36:36.445Z"
   },
   {
    "duration": 5,
    "start_time": "2021-12-08T13:36:36.698Z"
   },
   {
    "duration": 12,
    "start_time": "2021-12-08T13:36:36.705Z"
   },
   {
    "duration": 172,
    "start_time": "2021-12-08T13:36:36.719Z"
   },
   {
    "duration": 12,
    "start_time": "2021-12-08T13:36:36.893Z"
   },
   {
    "duration": 10,
    "start_time": "2021-12-08T13:36:36.907Z"
   },
   {
    "duration": 289,
    "start_time": "2021-12-08T13:36:36.918Z"
   },
   {
    "duration": 322,
    "start_time": "2021-12-08T13:36:36.887Z"
   },
   {
    "duration": 154,
    "start_time": "2021-12-08T13:36:52.145Z"
   },
   {
    "duration": 260,
    "start_time": "2021-12-08T13:37:18.118Z"
   },
   {
    "duration": 75,
    "start_time": "2021-12-08T13:37:22.333Z"
   },
   {
    "duration": 138,
    "start_time": "2021-12-08T13:37:22.410Z"
   },
   {
    "duration": 10,
    "start_time": "2021-12-08T13:37:22.550Z"
   },
   {
    "duration": 15,
    "start_time": "2021-12-08T13:37:22.562Z"
   },
   {
    "duration": 22,
    "start_time": "2021-12-08T13:37:22.579Z"
   },
   {
    "duration": 10,
    "start_time": "2021-12-08T13:37:22.602Z"
   },
   {
    "duration": 410,
    "start_time": "2021-12-08T13:37:22.614Z"
   },
   {
    "duration": 9,
    "start_time": "2021-12-08T13:37:23.025Z"
   },
   {
    "duration": 328,
    "start_time": "2021-12-08T13:37:23.045Z"
   },
   {
    "duration": 370,
    "start_time": "2021-12-08T13:37:23.376Z"
   },
   {
    "duration": 5,
    "start_time": "2021-12-08T13:37:23.747Z"
   },
   {
    "duration": 398,
    "start_time": "2021-12-08T13:37:23.754Z"
   },
   {
    "duration": 244,
    "start_time": "2021-12-08T13:37:24.153Z"
   },
   {
    "duration": 15,
    "start_time": "2021-12-08T13:37:24.399Z"
   },
   {
    "duration": 32,
    "start_time": "2021-12-08T13:37:24.416Z"
   },
   {
    "duration": 15,
    "start_time": "2021-12-08T13:37:24.450Z"
   },
   {
    "duration": 265,
    "start_time": "2021-12-08T13:37:24.468Z"
   },
   {
    "duration": 39,
    "start_time": "2021-12-08T13:37:24.735Z"
   },
   {
    "duration": 4569,
    "start_time": "2021-12-08T13:37:24.775Z"
   },
   {
    "duration": 39,
    "start_time": "2021-12-08T13:37:29.347Z"
   },
   {
    "duration": 21,
    "start_time": "2021-12-08T13:37:29.388Z"
   },
   {
    "duration": 408,
    "start_time": "2021-12-08T13:37:29.411Z"
   },
   {
    "duration": 4,
    "start_time": "2021-12-08T13:37:29.820Z"
   },
   {
    "duration": 269,
    "start_time": "2021-12-08T13:37:29.826Z"
   },
   {
    "duration": 6,
    "start_time": "2021-12-08T13:37:30.096Z"
   },
   {
    "duration": 32,
    "start_time": "2021-12-08T13:37:30.103Z"
   },
   {
    "duration": 164,
    "start_time": "2021-12-08T13:37:30.139Z"
   },
   {
    "duration": 14,
    "start_time": "2021-12-08T13:37:30.305Z"
   },
   {
    "duration": 26,
    "start_time": "2021-12-08T13:37:30.321Z"
   },
   {
    "duration": 328,
    "start_time": "2021-12-08T13:37:30.349Z"
   },
   {
    "duration": 13,
    "start_time": "2021-12-08T13:37:30.679Z"
   },
   {
    "duration": 148,
    "start_time": "2021-12-08T13:38:52.082Z"
   },
   {
    "duration": 12,
    "start_time": "2021-12-08T13:40:29.632Z"
   },
   {
    "duration": 13,
    "start_time": "2021-12-08T14:10:54.196Z"
   },
   {
    "duration": 131,
    "start_time": "2021-12-09T07:10:02.444Z"
   },
   {
    "duration": -372,
    "start_time": "2021-12-09T07:10:02.951Z"
   },
   {
    "duration": -374,
    "start_time": "2021-12-09T07:10:02.954Z"
   },
   {
    "duration": -376,
    "start_time": "2021-12-09T07:10:02.958Z"
   },
   {
    "duration": -378,
    "start_time": "2021-12-09T07:10:02.961Z"
   },
   {
    "duration": -379,
    "start_time": "2021-12-09T07:10:02.964Z"
   },
   {
    "duration": -381,
    "start_time": "2021-12-09T07:10:02.967Z"
   },
   {
    "duration": -381,
    "start_time": "2021-12-09T07:10:02.969Z"
   },
   {
    "duration": -385,
    "start_time": "2021-12-09T07:10:02.974Z"
   },
   {
    "duration": 425,
    "start_time": "2021-12-09T07:10:02.611Z"
   },
   {
    "duration": -344,
    "start_time": "2021-12-09T07:10:03.384Z"
   },
   {
    "duration": -347,
    "start_time": "2021-12-09T07:10:03.388Z"
   },
   {
    "duration": -349,
    "start_time": "2021-12-09T07:10:03.392Z"
   },
   {
    "duration": -351,
    "start_time": "2021-12-09T07:10:03.395Z"
   },
   {
    "duration": -352,
    "start_time": "2021-12-09T07:10:03.398Z"
   },
   {
    "duration": -355,
    "start_time": "2021-12-09T07:10:03.402Z"
   },
   {
    "duration": -356,
    "start_time": "2021-12-09T07:10:03.405Z"
   },
   {
    "duration": -359,
    "start_time": "2021-12-09T07:10:03.409Z"
   },
   {
    "duration": -360,
    "start_time": "2021-12-09T07:10:03.412Z"
   },
   {
    "duration": -362,
    "start_time": "2021-12-09T07:10:03.415Z"
   },
   {
    "duration": -363,
    "start_time": "2021-12-09T07:10:03.418Z"
   },
   {
    "duration": -365,
    "start_time": "2021-12-09T07:10:03.421Z"
   },
   {
    "duration": -367,
    "start_time": "2021-12-09T07:10:03.425Z"
   },
   {
    "duration": -389,
    "start_time": "2021-12-09T07:10:03.448Z"
   },
   {
    "duration": -420,
    "start_time": "2021-12-09T07:10:03.481Z"
   },
   {
    "duration": -470,
    "start_time": "2021-12-09T07:10:03.533Z"
   },
   {
    "duration": -507,
    "start_time": "2021-12-09T07:10:03.571Z"
   },
   {
    "duration": -534,
    "start_time": "2021-12-09T07:10:03.600Z"
   },
   {
    "duration": -537,
    "start_time": "2021-12-09T07:10:03.604Z"
   },
   {
    "duration": -538,
    "start_time": "2021-12-09T07:10:03.607Z"
   },
   {
    "duration": -558,
    "start_time": "2021-12-09T07:10:03.629Z"
   },
   {
    "duration": -579,
    "start_time": "2021-12-09T07:10:03.651Z"
   },
   {
    "duration": -658,
    "start_time": "2021-12-09T07:10:03.732Z"
   },
   {
    "duration": 1769,
    "start_time": "2021-12-09T07:10:26.435Z"
   },
   {
    "duration": 136,
    "start_time": "2021-12-09T07:10:28.206Z"
   },
   {
    "duration": 27,
    "start_time": "2021-12-09T07:10:28.319Z"
   },
   {
    "duration": 24,
    "start_time": "2021-12-09T07:10:28.323Z"
   },
   {
    "duration": -121,
    "start_time": "2021-12-09T07:10:28.470Z"
   },
   {
    "duration": -123,
    "start_time": "2021-12-09T07:10:28.473Z"
   },
   {
    "duration": -132,
    "start_time": "2021-12-09T07:10:28.484Z"
   },
   {
    "duration": -138,
    "start_time": "2021-12-09T07:10:28.491Z"
   },
   {
    "duration": -146,
    "start_time": "2021-12-09T07:10:28.501Z"
   },
   {
    "duration": -148,
    "start_time": "2021-12-09T07:10:28.504Z"
   },
   {
    "duration": -163,
    "start_time": "2021-12-09T07:10:28.521Z"
   },
   {
    "duration": -166,
    "start_time": "2021-12-09T07:10:28.525Z"
   },
   {
    "duration": -173,
    "start_time": "2021-12-09T07:10:28.534Z"
   },
   {
    "duration": -176,
    "start_time": "2021-12-09T07:10:28.538Z"
   },
   {
    "duration": -177,
    "start_time": "2021-12-09T07:10:28.541Z"
   },
   {
    "duration": -187,
    "start_time": "2021-12-09T07:10:28.552Z"
   },
   {
    "duration": -188,
    "start_time": "2021-12-09T07:10:28.555Z"
   },
   {
    "duration": -190,
    "start_time": "2021-12-09T07:10:28.558Z"
   },
   {
    "duration": -440,
    "start_time": "2021-12-09T07:10:28.810Z"
   },
   {
    "duration": -441,
    "start_time": "2021-12-09T07:10:28.813Z"
   },
   {
    "duration": -443,
    "start_time": "2021-12-09T07:10:28.816Z"
   },
   {
    "duration": -445,
    "start_time": "2021-12-09T07:10:28.819Z"
   },
   {
    "duration": -446,
    "start_time": "2021-12-09T07:10:28.822Z"
   },
   {
    "duration": -449,
    "start_time": "2021-12-09T07:10:28.826Z"
   },
   {
    "duration": -451,
    "start_time": "2021-12-09T07:10:28.829Z"
   },
   {
    "duration": -452,
    "start_time": "2021-12-09T07:10:28.832Z"
   },
   {
    "duration": -454,
    "start_time": "2021-12-09T07:10:28.835Z"
   },
   {
    "duration": -455,
    "start_time": "2021-12-09T07:10:28.838Z"
   },
   {
    "duration": -458,
    "start_time": "2021-12-09T07:10:28.842Z"
   },
   {
    "duration": -468,
    "start_time": "2021-12-09T07:10:28.853Z"
   },
   {
    "duration": -471,
    "start_time": "2021-12-09T07:10:28.857Z"
   },
   {
    "duration": -473,
    "start_time": "2021-12-09T07:10:28.861Z"
   },
   {
    "duration": 988,
    "start_time": "2021-12-09T07:10:43.243Z"
   },
   {
    "duration": 159,
    "start_time": "2021-12-09T07:10:44.233Z"
   },
   {
    "duration": 13,
    "start_time": "2021-12-09T07:10:44.396Z"
   },
   {
    "duration": 4,
    "start_time": "2021-12-09T07:10:44.412Z"
   },
   {
    "duration": 56,
    "start_time": "2021-12-09T07:10:44.419Z"
   },
   {
    "duration": 8,
    "start_time": "2021-12-09T07:10:44.477Z"
   },
   {
    "duration": 797,
    "start_time": "2021-12-09T07:10:44.488Z"
   },
   {
    "duration": 11,
    "start_time": "2021-12-09T07:10:45.289Z"
   },
   {
    "duration": 444,
    "start_time": "2021-12-09T07:10:45.303Z"
   },
   {
    "duration": 455,
    "start_time": "2021-12-09T07:10:45.749Z"
   },
   {
    "duration": 6,
    "start_time": "2021-12-09T07:10:46.207Z"
   },
   {
    "duration": 724,
    "start_time": "2021-12-09T07:10:46.216Z"
   },
   {
    "duration": 457,
    "start_time": "2021-12-09T07:10:46.943Z"
   },
   {
    "duration": 17,
    "start_time": "2021-12-09T07:10:47.403Z"
   },
   {
    "duration": 45,
    "start_time": "2021-12-09T07:10:47.423Z"
   },
   {
    "duration": 19,
    "start_time": "2021-12-09T07:10:47.471Z"
   },
   {
    "duration": 447,
    "start_time": "2021-12-09T07:10:47.492Z"
   },
   {
    "duration": 54,
    "start_time": "2021-12-09T07:10:47.942Z"
   },
   {
    "duration": 5943,
    "start_time": "2021-12-09T07:10:47.999Z"
   },
   {
    "duration": 75,
    "start_time": "2021-12-09T07:10:53.945Z"
   },
   {
    "duration": 21,
    "start_time": "2021-12-09T07:10:54.022Z"
   },
   {
    "duration": 566,
    "start_time": "2021-12-09T07:10:54.046Z"
   },
   {
    "duration": 6,
    "start_time": "2021-12-09T07:10:54.618Z"
   },
   {
    "duration": 430,
    "start_time": "2021-12-09T07:10:54.627Z"
   },
   {
    "duration": 7,
    "start_time": "2021-12-09T07:10:55.068Z"
   },
   {
    "duration": 20,
    "start_time": "2021-12-09T07:10:55.077Z"
   },
   {
    "duration": 1015,
    "start_time": "2021-12-09T07:10:55.099Z"
   },
   {
    "duration": 17,
    "start_time": "2021-12-09T07:10:56.117Z"
   },
   {
    "duration": 33,
    "start_time": "2021-12-09T07:10:56.137Z"
   },
   {
    "duration": 285,
    "start_time": "2021-12-09T07:10:56.173Z"
   },
   {
    "duration": 21,
    "start_time": "2021-12-09T07:10:56.460Z"
   },
   {
    "duration": 995,
    "start_time": "2021-12-09T07:36:05.294Z"
   },
   {
    "duration": 122,
    "start_time": "2021-12-09T07:36:06.292Z"
   },
   {
    "duration": 54,
    "start_time": "2021-12-09T07:36:06.417Z"
   },
   {
    "duration": 5,
    "start_time": "2021-12-09T07:36:06.473Z"
   },
   {
    "duration": 16,
    "start_time": "2021-12-09T07:36:06.480Z"
   },
   {
    "duration": 8,
    "start_time": "2021-12-09T07:36:06.498Z"
   },
   {
    "duration": 654,
    "start_time": "2021-12-09T07:36:06.508Z"
   },
   {
    "duration": 12,
    "start_time": "2021-12-09T07:36:07.167Z"
   },
   {
    "duration": 407,
    "start_time": "2021-12-09T07:36:07.183Z"
   },
   {
    "duration": 427,
    "start_time": "2021-12-09T07:36:07.593Z"
   },
   {
    "duration": 5,
    "start_time": "2021-12-09T07:36:08.023Z"
   },
   {
    "duration": 646,
    "start_time": "2021-12-09T07:36:08.031Z"
   },
   {
    "duration": 396,
    "start_time": "2021-12-09T07:36:08.679Z"
   },
   {
    "duration": 25,
    "start_time": "2021-12-09T07:36:09.077Z"
   },
   {
    "duration": 21,
    "start_time": "2021-12-09T07:36:09.105Z"
   },
   {
    "duration": 51,
    "start_time": "2021-12-09T07:36:09.129Z"
   },
   {
    "duration": 423,
    "start_time": "2021-12-09T07:36:09.183Z"
   },
   {
    "duration": 41,
    "start_time": "2021-12-09T07:36:09.609Z"
   },
   {
    "duration": 5924,
    "start_time": "2021-12-09T07:36:09.668Z"
   },
   {
    "duration": 75,
    "start_time": "2021-12-09T07:36:15.596Z"
   },
   {
    "duration": 22,
    "start_time": "2021-12-09T07:36:15.674Z"
   },
   {
    "duration": 548,
    "start_time": "2021-12-09T07:36:15.699Z"
   },
   {
    "duration": 6,
    "start_time": "2021-12-09T07:36:16.249Z"
   },
   {
    "duration": 420,
    "start_time": "2021-12-09T07:36:16.268Z"
   },
   {
    "duration": 7,
    "start_time": "2021-12-09T07:36:16.690Z"
   },
   {
    "duration": 27,
    "start_time": "2021-12-09T07:36:16.699Z"
   },
   {
    "duration": 1001,
    "start_time": "2021-12-09T07:36:16.731Z"
   },
   {
    "duration": 18,
    "start_time": "2021-12-09T07:36:17.734Z"
   },
   {
    "duration": 15,
    "start_time": "2021-12-09T07:36:17.768Z"
   },
   {
    "duration": 289,
    "start_time": "2021-12-09T07:36:17.785Z"
   },
   {
    "duration": 17,
    "start_time": "2021-12-09T07:36:18.076Z"
   },
   {
    "duration": 912,
    "start_time": "2021-12-09T07:46:35.271Z"
   },
   {
    "duration": 139,
    "start_time": "2021-12-09T07:46:36.186Z"
   },
   {
    "duration": 14,
    "start_time": "2021-12-09T07:46:36.369Z"
   },
   {
    "duration": 6,
    "start_time": "2021-12-09T07:46:36.386Z"
   },
   {
    "duration": 17,
    "start_time": "2021-12-09T07:46:36.394Z"
   },
   {
    "duration": 8,
    "start_time": "2021-12-09T07:46:36.414Z"
   },
   {
    "duration": 693,
    "start_time": "2021-12-09T07:46:36.424Z"
   },
   {
    "duration": 11,
    "start_time": "2021-12-09T07:46:37.120Z"
   },
   {
    "duration": 418,
    "start_time": "2021-12-09T07:46:37.134Z"
   },
   {
    "duration": 424,
    "start_time": "2021-12-09T07:46:37.554Z"
   },
   {
    "duration": 6,
    "start_time": "2021-12-09T07:46:37.981Z"
   },
   {
    "duration": 659,
    "start_time": "2021-12-09T07:46:37.990Z"
   },
   {
    "duration": 515,
    "start_time": "2021-12-09T07:46:38.651Z"
   },
   {
    "duration": 19,
    "start_time": "2021-12-09T07:46:39.168Z"
   },
   {
    "duration": 21,
    "start_time": "2021-12-09T07:46:39.190Z"
   },
   {
    "duration": 20,
    "start_time": "2021-12-09T07:46:39.214Z"
   },
   {
    "duration": 459,
    "start_time": "2021-12-09T07:46:39.268Z"
   },
   {
    "duration": 61,
    "start_time": "2021-12-09T07:46:39.729Z"
   },
   {
    "duration": 6259,
    "start_time": "2021-12-09T07:46:39.792Z"
   },
   {
    "duration": 75,
    "start_time": "2021-12-09T07:46:46.055Z"
   },
   {
    "duration": 44,
    "start_time": "2021-12-09T07:46:46.134Z"
   },
   {
    "duration": 559,
    "start_time": "2021-12-09T07:46:46.182Z"
   },
   {
    "duration": 18,
    "start_time": "2021-12-09T07:46:46.748Z"
   },
   {
    "duration": 424,
    "start_time": "2021-12-09T07:46:46.770Z"
   },
   {
    "duration": 10,
    "start_time": "2021-12-09T07:46:47.197Z"
   },
   {
    "duration": 26,
    "start_time": "2021-12-09T07:46:47.210Z"
   },
   {
    "duration": 1003,
    "start_time": "2021-12-09T07:46:47.239Z"
   },
   {
    "duration": 32,
    "start_time": "2021-12-09T07:46:48.245Z"
   },
   {
    "duration": 14,
    "start_time": "2021-12-09T07:46:48.279Z"
   },
   {
    "duration": 311,
    "start_time": "2021-12-09T07:46:48.296Z"
   },
   {
    "duration": 16,
    "start_time": "2021-12-09T07:46:48.610Z"
   },
   {
    "duration": 872,
    "start_time": "2021-12-09T07:59:05.621Z"
   },
   {
    "duration": 182,
    "start_time": "2021-12-09T07:59:06.496Z"
   },
   {
    "duration": 13,
    "start_time": "2021-12-09T07:59:06.681Z"
   },
   {
    "duration": 4,
    "start_time": "2021-12-09T07:59:06.698Z"
   },
   {
    "duration": 62,
    "start_time": "2021-12-09T07:59:06.705Z"
   },
   {
    "duration": 8,
    "start_time": "2021-12-09T07:59:06.770Z"
   },
   {
    "duration": 645,
    "start_time": "2021-12-09T07:59:06.780Z"
   },
   {
    "duration": 12,
    "start_time": "2021-12-09T07:59:07.428Z"
   },
   {
    "duration": 406,
    "start_time": "2021-12-09T07:59:07.442Z"
   },
   {
    "duration": 423,
    "start_time": "2021-12-09T07:59:07.851Z"
   },
   {
    "duration": 6,
    "start_time": "2021-12-09T07:59:08.277Z"
   },
   {
    "duration": 655,
    "start_time": "2021-12-09T07:59:08.286Z"
   },
   {
    "duration": 407,
    "start_time": "2021-12-09T07:59:08.943Z"
   },
   {
    "duration": 29,
    "start_time": "2021-12-09T07:59:09.352Z"
   },
   {
    "duration": 22,
    "start_time": "2021-12-09T07:59:09.383Z"
   },
   {
    "duration": 20,
    "start_time": "2021-12-09T07:59:09.407Z"
   },
   {
    "duration": 583,
    "start_time": "2021-12-09T07:59:09.430Z"
   },
   {
    "duration": 78,
    "start_time": "2021-12-09T07:59:10.016Z"
   },
   {
    "duration": 5979,
    "start_time": "2021-12-09T07:59:10.099Z"
   },
   {
    "duration": 63,
    "start_time": "2021-12-09T07:59:16.081Z"
   },
   {
    "duration": 49,
    "start_time": "2021-12-09T07:59:16.147Z"
   },
   {
    "duration": 532,
    "start_time": "2021-12-09T07:59:16.199Z"
   },
   {
    "duration": 6,
    "start_time": "2021-12-09T07:59:16.736Z"
   },
   {
    "duration": 394,
    "start_time": "2021-12-09T07:59:16.767Z"
   },
   {
    "duration": 8,
    "start_time": "2021-12-09T07:59:17.167Z"
   },
   {
    "duration": 39,
    "start_time": "2021-12-09T07:59:17.177Z"
   },
   {
    "duration": 1022,
    "start_time": "2021-12-09T07:59:17.218Z"
   },
   {
    "duration": 27,
    "start_time": "2021-12-09T07:59:18.242Z"
   },
   {
    "duration": 15,
    "start_time": "2021-12-09T07:59:18.272Z"
   },
   {
    "duration": 299,
    "start_time": "2021-12-09T07:59:18.289Z"
   },
   {
    "duration": 18,
    "start_time": "2021-12-09T07:59:18.591Z"
   },
   {
    "duration": 1074,
    "start_time": "2021-12-09T07:59:30.275Z"
   },
   {
    "duration": 238,
    "start_time": "2021-12-09T07:59:31.351Z"
   },
   {
    "duration": 17,
    "start_time": "2021-12-09T07:59:31.593Z"
   },
   {
    "duration": 58,
    "start_time": "2021-12-09T07:59:31.614Z"
   },
   {
    "duration": 16,
    "start_time": "2021-12-09T07:59:31.675Z"
   },
   {
    "duration": 11,
    "start_time": "2021-12-09T07:59:31.695Z"
   },
   {
    "duration": 680,
    "start_time": "2021-12-09T07:59:31.709Z"
   },
   {
    "duration": 14,
    "start_time": "2021-12-09T07:59:32.395Z"
   },
   {
    "duration": 431,
    "start_time": "2021-12-09T07:59:32.413Z"
   },
   {
    "duration": 436,
    "start_time": "2021-12-09T07:59:32.847Z"
   },
   {
    "duration": 9,
    "start_time": "2021-12-09T07:59:33.286Z"
   },
   {
    "duration": 658,
    "start_time": "2021-12-09T07:59:33.298Z"
   },
   {
    "duration": 398,
    "start_time": "2021-12-09T07:59:33.960Z"
   },
   {
    "duration": 23,
    "start_time": "2021-12-09T07:59:34.361Z"
   },
   {
    "duration": 26,
    "start_time": "2021-12-09T07:59:34.387Z"
   },
   {
    "duration": 65,
    "start_time": "2021-12-09T07:59:34.416Z"
   },
   {
    "duration": 461,
    "start_time": "2021-12-09T07:59:34.485Z"
   },
   {
    "duration": 46,
    "start_time": "2021-12-09T07:59:34.948Z"
   },
   {
    "duration": 5795,
    "start_time": "2021-12-09T07:59:34.996Z"
   },
   {
    "duration": 77,
    "start_time": "2021-12-09T07:59:40.794Z"
   },
   {
    "duration": 24,
    "start_time": "2021-12-09T07:59:40.873Z"
   },
   {
    "duration": 577,
    "start_time": "2021-12-09T07:59:40.899Z"
   },
   {
    "duration": 6,
    "start_time": "2021-12-09T07:59:41.480Z"
   },
   {
    "duration": 429,
    "start_time": "2021-12-09T07:59:41.489Z"
   },
   {
    "duration": 10,
    "start_time": "2021-12-09T07:59:41.921Z"
   },
   {
    "duration": 59,
    "start_time": "2021-12-09T07:59:41.934Z"
   },
   {
    "duration": 1041,
    "start_time": "2021-12-09T07:59:41.996Z"
   },
   {
    "duration": 29,
    "start_time": "2021-12-09T07:59:43.040Z"
   },
   {
    "duration": 13,
    "start_time": "2021-12-09T07:59:43.071Z"
   },
   {
    "duration": 308,
    "start_time": "2021-12-09T07:59:43.086Z"
   },
   {
    "duration": 17,
    "start_time": "2021-12-09T07:59:43.397Z"
   },
   {
    "duration": 921,
    "start_time": "2021-12-09T08:57:24.968Z"
   },
   {
    "duration": 129,
    "start_time": "2021-12-09T08:57:25.892Z"
   },
   {
    "duration": 53,
    "start_time": "2021-12-09T08:57:26.024Z"
   },
   {
    "duration": 5,
    "start_time": "2021-12-09T08:57:26.080Z"
   },
   {
    "duration": 13,
    "start_time": "2021-12-09T08:57:26.087Z"
   },
   {
    "duration": 8,
    "start_time": "2021-12-09T08:57:26.103Z"
   },
   {
    "duration": 687,
    "start_time": "2021-12-09T08:57:26.113Z"
   },
   {
    "duration": 12,
    "start_time": "2021-12-09T08:57:26.803Z"
   },
   {
    "duration": 435,
    "start_time": "2021-12-09T08:57:26.818Z"
   },
   {
    "duration": 447,
    "start_time": "2021-12-09T08:57:27.256Z"
   },
   {
    "duration": 7,
    "start_time": "2021-12-09T08:57:27.706Z"
   },
   {
    "duration": 659,
    "start_time": "2021-12-09T08:57:27.715Z"
   },
   {
    "duration": 419,
    "start_time": "2021-12-09T08:57:28.377Z"
   },
   {
    "duration": 20,
    "start_time": "2021-12-09T08:57:28.798Z"
   },
   {
    "duration": 48,
    "start_time": "2021-12-09T08:57:28.820Z"
   },
   {
    "duration": 21,
    "start_time": "2021-12-09T08:57:28.870Z"
   },
   {
    "duration": 452,
    "start_time": "2021-12-09T08:57:28.894Z"
   },
   {
    "duration": 55,
    "start_time": "2021-12-09T08:57:29.349Z"
   },
   {
    "duration": 6107,
    "start_time": "2021-12-09T08:57:29.407Z"
   },
   {
    "duration": 70,
    "start_time": "2021-12-09T08:57:35.516Z"
   },
   {
    "duration": 25,
    "start_time": "2021-12-09T08:57:35.588Z"
   },
   {
    "duration": 566,
    "start_time": "2021-12-09T08:57:35.616Z"
   },
   {
    "duration": 6,
    "start_time": "2021-12-09T08:57:36.187Z"
   },
   {
    "duration": 450,
    "start_time": "2021-12-09T08:57:36.196Z"
   },
   {
    "duration": 18,
    "start_time": "2021-12-09T08:57:36.649Z"
   },
   {
    "duration": 20,
    "start_time": "2021-12-09T08:57:36.670Z"
   },
   {
    "duration": 1039,
    "start_time": "2021-12-09T08:57:36.692Z"
   },
   {
    "duration": 17,
    "start_time": "2021-12-09T08:57:37.733Z"
   },
   {
    "duration": 14,
    "start_time": "2021-12-09T08:57:37.768Z"
   },
   {
    "duration": 279,
    "start_time": "2021-12-09T08:57:37.784Z"
   },
   {
    "duration": 18,
    "start_time": "2021-12-09T08:57:38.067Z"
   },
   {
    "duration": 913,
    "start_time": "2021-12-09T08:59:56.765Z"
   },
   {
    "duration": 146,
    "start_time": "2021-12-09T08:59:57.681Z"
   },
   {
    "duration": 17,
    "start_time": "2021-12-09T08:59:57.869Z"
   },
   {
    "duration": 12,
    "start_time": "2021-12-09T08:59:57.889Z"
   },
   {
    "duration": 12,
    "start_time": "2021-12-09T08:59:57.904Z"
   },
   {
    "duration": 9,
    "start_time": "2021-12-09T08:59:57.918Z"
   },
   {
    "duration": 615,
    "start_time": "2021-12-09T08:59:57.968Z"
   },
   {
    "duration": 12,
    "start_time": "2021-12-09T08:59:58.587Z"
   },
   {
    "duration": 408,
    "start_time": "2021-12-09T08:59:58.602Z"
   },
   {
    "duration": 407,
    "start_time": "2021-12-09T08:59:59.012Z"
   },
   {
    "duration": 7,
    "start_time": "2021-12-09T08:59:59.421Z"
   },
   {
    "duration": 647,
    "start_time": "2021-12-09T08:59:59.430Z"
   },
   {
    "duration": 402,
    "start_time": "2021-12-09T09:00:00.081Z"
   },
   {
    "duration": 26,
    "start_time": "2021-12-09T09:00:00.486Z"
   },
   {
    "duration": 57,
    "start_time": "2021-12-09T09:00:00.515Z"
   },
   {
    "duration": 29,
    "start_time": "2021-12-09T09:00:00.575Z"
   },
   {
    "duration": 479,
    "start_time": "2021-12-09T09:00:00.607Z"
   },
   {
    "duration": 50,
    "start_time": "2021-12-09T09:00:01.089Z"
   },
   {
    "duration": 7628,
    "start_time": "2021-12-09T09:00:01.142Z"
   },
   {
    "duration": 119,
    "start_time": "2021-12-09T09:00:08.773Z"
   },
   {
    "duration": 23,
    "start_time": "2021-12-09T09:00:08.895Z"
   },
   {
    "duration": 547,
    "start_time": "2021-12-09T09:00:08.920Z"
   },
   {
    "duration": 6,
    "start_time": "2021-12-09T09:00:09.472Z"
   },
   {
    "duration": 415,
    "start_time": "2021-12-09T09:00:09.481Z"
   },
   {
    "duration": 9,
    "start_time": "2021-12-09T09:00:09.899Z"
   },
   {
    "duration": 23,
    "start_time": "2021-12-09T09:00:09.910Z"
   },
   {
    "duration": 978,
    "start_time": "2021-12-09T09:00:09.935Z"
   },
   {
    "duration": 19,
    "start_time": "2021-12-09T09:00:10.917Z"
   },
   {
    "duration": 37,
    "start_time": "2021-12-09T09:00:10.939Z"
   },
   {
    "duration": 290,
    "start_time": "2021-12-09T09:00:10.978Z"
   },
   {
    "duration": 16,
    "start_time": "2021-12-09T09:00:11.271Z"
   },
   {
    "duration": 927,
    "start_time": "2021-12-09T09:51:28.742Z"
   },
   {
    "duration": 134,
    "start_time": "2021-12-09T09:51:29.672Z"
   },
   {
    "duration": 13,
    "start_time": "2021-12-09T09:51:29.809Z"
   },
   {
    "duration": 43,
    "start_time": "2021-12-09T09:51:29.825Z"
   },
   {
    "duration": 11,
    "start_time": "2021-12-09T09:51:29.871Z"
   },
   {
    "duration": 19,
    "start_time": "2021-12-09T09:51:29.884Z"
   },
   {
    "duration": 697,
    "start_time": "2021-12-09T09:51:29.905Z"
   },
   {
    "duration": 12,
    "start_time": "2021-12-09T09:51:30.606Z"
   },
   {
    "duration": 409,
    "start_time": "2021-12-09T09:51:30.621Z"
   },
   {
    "duration": 434,
    "start_time": "2021-12-09T09:51:31.033Z"
   },
   {
    "duration": 8,
    "start_time": "2021-12-09T09:51:31.469Z"
   },
   {
    "duration": 635,
    "start_time": "2021-12-09T09:51:31.480Z"
   },
   {
    "duration": 402,
    "start_time": "2021-12-09T09:51:32.118Z"
   },
   {
    "duration": 17,
    "start_time": "2021-12-09T09:51:32.523Z"
   },
   {
    "duration": 37,
    "start_time": "2021-12-09T09:51:32.542Z"
   },
   {
    "duration": 19,
    "start_time": "2021-12-09T09:51:32.581Z"
   },
   {
    "duration": 439,
    "start_time": "2021-12-09T09:51:32.603Z"
   },
   {
    "duration": 59,
    "start_time": "2021-12-09T09:51:33.045Z"
   },
   {
    "duration": 6162,
    "start_time": "2021-12-09T09:51:33.107Z"
   },
   {
    "duration": 64,
    "start_time": "2021-12-09T09:51:39.274Z"
   },
   {
    "duration": 43,
    "start_time": "2021-12-09T09:51:39.341Z"
   },
   {
    "duration": 534,
    "start_time": "2021-12-09T09:51:39.387Z"
   },
   {
    "duration": 6,
    "start_time": "2021-12-09T09:51:39.926Z"
   },
   {
    "duration": 492,
    "start_time": "2021-12-09T09:51:39.934Z"
   },
   {
    "duration": 9,
    "start_time": "2021-12-09T09:51:40.428Z"
   },
   {
    "duration": 55,
    "start_time": "2021-12-09T09:51:40.440Z"
   },
   {
    "duration": 1011,
    "start_time": "2021-12-09T09:51:40.498Z"
   },
   {
    "duration": 17,
    "start_time": "2021-12-09T09:51:41.511Z"
   },
   {
    "duration": 37,
    "start_time": "2021-12-09T09:51:41.531Z"
   },
   {
    "duration": 297,
    "start_time": "2021-12-09T09:51:41.570Z"
   },
   {
    "duration": 19,
    "start_time": "2021-12-09T09:51:41.870Z"
   },
   {
    "duration": 338,
    "start_time": "2021-12-10T11:10:51.807Z"
   },
   {
    "duration": 714,
    "start_time": "2021-12-10T11:13:32.437Z"
   },
   {
    "duration": 91,
    "start_time": "2021-12-10T11:13:33.789Z"
   },
   {
    "duration": 10,
    "start_time": "2021-12-10T11:13:39.305Z"
   },
   {
    "duration": 221,
    "start_time": "2021-12-10T11:13:46.358Z"
   },
   {
    "duration": 250,
    "start_time": "2021-12-10T11:14:00.580Z"
   },
   {
    "duration": 6,
    "start_time": "2021-12-10T11:14:01.475Z"
   },
   {
    "duration": 9,
    "start_time": "2021-12-10T11:17:24.431Z"
   },
   {
    "duration": 79,
    "start_time": "2021-12-10T11:24:30.658Z"
   },
   {
    "duration": 1185,
    "start_time": "2021-12-10T11:24:54.946Z"
   },
   {
    "duration": 252,
    "start_time": "2021-12-10T11:32:52.383Z"
   },
   {
    "duration": 9,
    "start_time": "2021-12-10T11:37:42.428Z"
   },
   {
    "duration": 10,
    "start_time": "2021-12-10T11:37:55.780Z"
   },
   {
    "duration": 30,
    "start_time": "2021-12-10T11:53:34.635Z"
   },
   {
    "duration": 28,
    "start_time": "2021-12-10T11:54:59.961Z"
   },
   {
    "duration": 352,
    "start_time": "2021-12-10T11:56:40.936Z"
   },
   {
    "duration": 332,
    "start_time": "2021-12-10T12:04:30.027Z"
   },
   {
    "duration": 32,
    "start_time": "2021-12-10T12:21:10.101Z"
   },
   {
    "duration": 26,
    "start_time": "2021-12-10T12:21:17.410Z"
   },
   {
    "duration": 344,
    "start_time": "2021-12-10T12:21:25.542Z"
   },
   {
    "duration": 255,
    "start_time": "2021-12-10T12:30:55.045Z"
   },
   {
    "duration": 82,
    "start_time": "2021-12-10T12:31:56.487Z"
   },
   {
    "duration": 87,
    "start_time": "2021-12-10T12:32:04.205Z"
   },
   {
    "duration": 11,
    "start_time": "2021-12-10T12:37:22.153Z"
   },
   {
    "duration": 65,
    "start_time": "2021-12-10T12:37:53.944Z"
   },
   {
    "duration": 65,
    "start_time": "2021-12-10T12:37:55.031Z"
   },
   {
    "duration": 11,
    "start_time": "2021-12-10T12:37:58.031Z"
   },
   {
    "duration": 253,
    "start_time": "2021-12-10T12:38:00.722Z"
   },
   {
    "duration": 225,
    "start_time": "2021-12-10T12:38:02.111Z"
   },
   {
    "duration": 5,
    "start_time": "2021-12-10T12:38:03.116Z"
   },
   {
    "duration": 25,
    "start_time": "2021-12-10T12:38:07.305Z"
   },
   {
    "duration": 344,
    "start_time": "2021-12-10T12:38:08.548Z"
   },
   {
    "duration": 11,
    "start_time": "2021-12-10T12:38:13.844Z"
   },
   {
    "duration": 12,
    "start_time": "2021-12-10T12:39:41.325Z"
   },
   {
    "duration": 12,
    "start_time": "2021-12-10T12:39:43.215Z"
   },
   {
    "duration": 12,
    "start_time": "2021-12-10T12:40:55.626Z"
   },
   {
    "duration": 12,
    "start_time": "2021-12-10T12:41:56.018Z"
   },
   {
    "duration": 8,
    "start_time": "2021-12-10T12:45:17.636Z"
   },
   {
    "duration": 78,
    "start_time": "2021-12-10T12:49:55.769Z"
   },
   {
    "duration": 82,
    "start_time": "2021-12-10T12:50:54.305Z"
   },
   {
    "duration": 93,
    "start_time": "2021-12-10T12:51:23.335Z"
   },
   {
    "duration": 81,
    "start_time": "2021-12-10T12:51:39.119Z"
   },
   {
    "duration": 72,
    "start_time": "2021-12-10T12:53:31.542Z"
   },
   {
    "duration": 60,
    "start_time": "2021-12-10T12:53:33.224Z"
   },
   {
    "duration": 10,
    "start_time": "2021-12-10T12:53:36.747Z"
   },
   {
    "duration": 218,
    "start_time": "2021-12-10T12:53:46.529Z"
   },
   {
    "duration": 217,
    "start_time": "2021-12-10T12:53:53.894Z"
   },
   {
    "duration": 5,
    "start_time": "2021-12-10T12:53:54.643Z"
   },
   {
    "duration": 25,
    "start_time": "2021-12-10T12:54:29.789Z"
   },
   {
    "duration": 331,
    "start_time": "2021-12-10T12:54:30.700Z"
   },
   {
    "duration": 13,
    "start_time": "2021-12-10T12:56:05.061Z"
   },
   {
    "duration": 1082,
    "start_time": "2021-12-10T12:56:37.303Z"
   },
   {
    "duration": 253,
    "start_time": "2021-12-10T12:56:44.833Z"
   },
   {
    "duration": 9,
    "start_time": "2021-12-10T13:05:43.517Z"
   },
   {
    "duration": 271,
    "start_time": "2021-12-10T13:11:30.670Z"
   },
   {
    "duration": 71,
    "start_time": "2021-12-10T13:11:52.301Z"
   },
   {
    "duration": 105,
    "start_time": "2021-12-10T13:11:54.272Z"
   },
   {
    "duration": 10,
    "start_time": "2021-12-10T13:11:57.533Z"
   },
   {
    "duration": 222,
    "start_time": "2021-12-10T13:12:00.722Z"
   },
   {
    "duration": 228,
    "start_time": "2021-12-10T13:12:02.206Z"
   },
   {
    "duration": 5,
    "start_time": "2021-12-10T13:12:02.512Z"
   },
   {
    "duration": 26,
    "start_time": "2021-12-10T13:12:16.187Z"
   },
   {
    "duration": 340,
    "start_time": "2021-12-10T13:12:17.624Z"
   },
   {
    "duration": 13,
    "start_time": "2021-12-10T13:12:21.569Z"
   },
   {
    "duration": 16,
    "start_time": "2021-12-10T13:12:36.137Z"
   },
   {
    "duration": 14,
    "start_time": "2021-12-10T13:12:40.520Z"
   },
   {
    "duration": 237,
    "start_time": "2021-12-10T13:12:48.445Z"
   },
   {
    "duration": 33,
    "start_time": "2021-12-10T13:12:58.732Z"
   },
   {
    "duration": 5,
    "start_time": "2021-12-10T13:13:08.299Z"
   },
   {
    "duration": 8,
    "start_time": "2021-12-10T13:13:14.691Z"
   },
   {
    "duration": 4,
    "start_time": "2021-12-10T13:18:59.742Z"
   },
   {
    "duration": 7,
    "start_time": "2021-12-10T13:19:02.516Z"
   },
   {
    "duration": 8,
    "start_time": "2021-12-10T13:22:31.459Z"
   },
   {
    "duration": 318,
    "start_time": "2021-12-10T13:22:44.557Z"
   },
   {
    "duration": 8,
    "start_time": "2021-12-10T13:23:12.518Z"
   },
   {
    "duration": 5262,
    "start_time": "2021-12-10T13:23:18.239Z"
   },
   {
    "duration": 351,
    "start_time": "2021-12-10T13:24:02.943Z"
   },
   {
    "duration": 343,
    "start_time": "2021-12-10T13:24:34.815Z"
   },
   {
    "duration": 3,
    "start_time": "2021-12-10T13:25:12.291Z"
   },
   {
    "duration": 8,
    "start_time": "2021-12-10T13:25:15.454Z"
   },
   {
    "duration": 6,
    "start_time": "2021-12-10T13:25:28.351Z"
   },
   {
    "duration": 10,
    "start_time": "2021-12-10T13:26:35.010Z"
   },
   {
    "duration": 13,
    "start_time": "2021-12-10T13:26:41.372Z"
   },
   {
    "duration": 12,
    "start_time": "2021-12-10T13:26:56.719Z"
   },
   {
    "duration": 89,
    "start_time": "2021-12-10T13:27:27.896Z"
   },
   {
    "duration": 4517,
    "start_time": "2021-12-10T13:27:48.631Z"
   },
   {
    "duration": 4617,
    "start_time": "2021-12-10T13:28:56.975Z"
   },
   {
    "duration": 147,
    "start_time": "2021-12-10T13:29:38.883Z"
   },
   {
    "duration": 12,
    "start_time": "2021-12-10T13:30:30.397Z"
   },
   {
    "duration": 10,
    "start_time": "2021-12-10T13:31:57.083Z"
   },
   {
    "duration": 9,
    "start_time": "2021-12-10T13:32:19.901Z"
   },
   {
    "duration": 127,
    "start_time": "2021-12-10T13:32:54.958Z"
   },
   {
    "duration": 243,
    "start_time": "2021-12-10T13:33:16.252Z"
   },
   {
    "duration": 240,
    "start_time": "2021-12-10T13:34:11.134Z"
   },
   {
    "duration": 9,
    "start_time": "2021-12-10T13:34:16.205Z"
   },
   {
    "duration": 4451,
    "start_time": "2021-12-10T13:36:03.587Z"
   },
   {
    "duration": 24,
    "start_time": "2021-12-10T13:36:36.769Z"
   },
   {
    "duration": 81,
    "start_time": "2021-12-10T13:39:20.042Z"
   },
   {
    "duration": 24,
    "start_time": "2021-12-10T13:39:51.531Z"
   },
   {
    "duration": 29,
    "start_time": "2021-12-10T13:40:03.161Z"
   },
   {
    "duration": 25,
    "start_time": "2021-12-10T13:40:17.323Z"
   },
   {
    "duration": 32,
    "start_time": "2021-12-10T13:41:35.089Z"
   },
   {
    "duration": 40,
    "start_time": "2021-12-10T13:41:38.907Z"
   },
   {
    "duration": 42,
    "start_time": "2021-12-10T13:42:17.592Z"
   },
   {
    "duration": 42,
    "start_time": "2021-12-10T13:42:36.892Z"
   },
   {
    "duration": 38,
    "start_time": "2021-12-10T13:47:48.900Z"
   },
   {
    "duration": 1113,
    "start_time": "2021-12-10T13:50:18.141Z"
   },
   {
    "duration": 4230,
    "start_time": "2021-12-10T13:50:35.056Z"
   },
   {
    "duration": 4315,
    "start_time": "2021-12-10T13:51:13.624Z"
   },
   {
    "duration": 4307,
    "start_time": "2021-12-10T13:51:40.513Z"
   },
   {
    "duration": 4473,
    "start_time": "2021-12-10T13:51:56.113Z"
   },
   {
    "duration": 71,
    "start_time": "2021-12-10T13:53:55.396Z"
   },
   {
    "duration": 62,
    "start_time": "2021-12-10T13:53:57.406Z"
   },
   {
    "duration": 11,
    "start_time": "2021-12-10T13:53:59.367Z"
   },
   {
    "duration": 263,
    "start_time": "2021-12-10T13:54:01.562Z"
   },
   {
    "duration": 227,
    "start_time": "2021-12-10T13:54:04.334Z"
   },
   {
    "duration": 5,
    "start_time": "2021-12-10T13:54:04.661Z"
   },
   {
    "duration": 27,
    "start_time": "2021-12-10T13:54:06.903Z"
   },
   {
    "duration": 333,
    "start_time": "2021-12-10T13:54:07.419Z"
   },
   {
    "duration": 14,
    "start_time": "2021-12-10T13:54:10.611Z"
   },
   {
    "duration": 16,
    "start_time": "2021-12-10T13:54:14.335Z"
   },
   {
    "duration": 16,
    "start_time": "2021-12-10T13:54:14.845Z"
   },
   {
    "duration": 227,
    "start_time": "2021-12-10T13:54:16.150Z"
   },
   {
    "duration": 32,
    "start_time": "2021-12-10T13:54:17.117Z"
   },
   {
    "duration": 4,
    "start_time": "2021-12-10T13:54:19.417Z"
   },
   {
    "duration": 8,
    "start_time": "2021-12-10T13:54:20.238Z"
   },
   {
    "duration": 8,
    "start_time": "2021-12-10T13:54:21.207Z"
   },
   {
    "duration": 4957,
    "start_time": "2021-12-10T13:54:24.950Z"
   },
   {
    "duration": 8,
    "start_time": "2021-12-10T13:54:29.909Z"
   },
   {
    "duration": 13,
    "start_time": "2021-12-10T13:54:36.467Z"
   },
   {
    "duration": 4408,
    "start_time": "2021-12-10T13:54:41.931Z"
   },
   {
    "duration": 46,
    "start_time": "2021-12-10T13:54:46.341Z"
   },
   {
    "duration": 16,
    "start_time": "2021-12-10T13:54:53.960Z"
   },
   {
    "duration": 280,
    "start_time": "2021-12-10T13:54:56.011Z"
   },
   {
    "duration": 5,
    "start_time": "2021-12-10T13:56:09.148Z"
   },
   {
    "duration": 6,
    "start_time": "2021-12-10T13:59:00.431Z"
   },
   {
    "duration": 234,
    "start_time": "2021-12-10T14:09:51.500Z"
   },
   {
    "duration": 7,
    "start_time": "2021-12-10T14:12:59.358Z"
   },
   {
    "duration": 224,
    "start_time": "2021-12-10T14:16:18.934Z"
   },
   {
    "duration": 7,
    "start_time": "2021-12-10T14:16:53.428Z"
   },
   {
    "duration": 18,
    "start_time": "2021-12-10T14:18:32.184Z"
   },
   {
    "duration": 265,
    "start_time": "2021-12-10T14:19:13.872Z"
   },
   {
    "duration": 682,
    "start_time": "2021-12-10T14:19:26.975Z"
   },
   {
    "duration": 12,
    "start_time": "2021-12-10T14:19:32.268Z"
   },
   {
    "duration": 13,
    "start_time": "2021-12-10T14:19:35.224Z"
   },
   {
    "duration": 141,
    "start_time": "2021-12-10T14:19:36.303Z"
   },
   {
    "duration": 11,
    "start_time": "2021-12-10T14:20:11.042Z"
   },
   {
    "duration": 287,
    "start_time": "2021-12-10T14:32:19.618Z"
   },
   {
    "duration": 266,
    "start_time": "2021-12-10T14:32:26.216Z"
   },
   {
    "duration": 442,
    "start_time": "2021-12-10T14:33:42.719Z"
   },
   {
    "duration": 13,
    "start_time": "2021-12-10T14:33:58.402Z"
   },
   {
    "duration": 113,
    "start_time": "2021-12-10T14:35:16.936Z"
   },
   {
    "duration": 317,
    "start_time": "2021-12-10T14:37:25.618Z"
   },
   {
    "duration": 19,
    "start_time": "2021-12-10T14:37:33.419Z"
   },
   {
    "duration": 7,
    "start_time": "2021-12-10T14:39:37.344Z"
   },
   {
    "duration": 12,
    "start_time": "2021-12-10T14:39:46.236Z"
   },
   {
    "duration": 18,
    "start_time": "2021-12-10T14:39:58.870Z"
   },
   {
    "duration": 22,
    "start_time": "2021-12-10T14:40:06.386Z"
   },
   {
    "duration": 20,
    "start_time": "2021-12-10T14:40:17.210Z"
   },
   {
    "duration": 19,
    "start_time": "2021-12-10T14:40:34.962Z"
   },
   {
    "duration": 9,
    "start_time": "2021-12-10T14:40:56.049Z"
   },
   {
    "duration": 11,
    "start_time": "2021-12-10T14:41:01.301Z"
   },
   {
    "duration": 11,
    "start_time": "2021-12-10T14:41:11.523Z"
   },
   {
    "duration": 19,
    "start_time": "2021-12-10T14:41:18.085Z"
   },
   {
    "duration": 9,
    "start_time": "2021-12-10T14:41:18.774Z"
   },
   {
    "duration": 21,
    "start_time": "2021-12-10T14:41:54.457Z"
   },
   {
    "duration": 12,
    "start_time": "2021-12-10T14:42:05.964Z"
   },
   {
    "duration": 14,
    "start_time": "2021-12-10T14:42:09.919Z"
   },
   {
    "duration": 23,
    "start_time": "2021-12-10T14:42:28.035Z"
   },
   {
    "duration": 6,
    "start_time": "2021-12-10T14:43:20.639Z"
   },
   {
    "duration": 11,
    "start_time": "2021-12-10T14:43:26.924Z"
   },
   {
    "duration": 12,
    "start_time": "2021-12-10T14:52:59.139Z"
   },
   {
    "duration": 144,
    "start_time": "2021-12-10T14:53:03.644Z"
   },
   {
    "duration": 150,
    "start_time": "2021-12-10T14:53:16.986Z"
   },
   {
    "duration": 12,
    "start_time": "2021-12-10T14:53:20.455Z"
   },
   {
    "duration": 69,
    "start_time": "2021-12-10T14:55:10.445Z"
   },
   {
    "duration": 86,
    "start_time": "2021-12-10T14:55:10.516Z"
   },
   {
    "duration": 9,
    "start_time": "2021-12-10T14:55:10.604Z"
   },
   {
    "duration": 267,
    "start_time": "2021-12-10T14:55:10.615Z"
   },
   {
    "duration": 249,
    "start_time": "2021-12-10T14:55:10.884Z"
   },
   {
    "duration": 4,
    "start_time": "2021-12-10T14:55:11.135Z"
   },
   {
    "duration": 39,
    "start_time": "2021-12-10T14:55:11.140Z"
   },
   {
    "duration": 344,
    "start_time": "2021-12-10T14:55:11.181Z"
   },
   {
    "duration": 12,
    "start_time": "2021-12-10T14:55:11.527Z"
   },
   {
    "duration": 29,
    "start_time": "2021-12-10T14:55:11.540Z"
   },
   {
    "duration": 12,
    "start_time": "2021-12-10T14:55:11.571Z"
   },
   {
    "duration": 250,
    "start_time": "2021-12-10T14:55:11.584Z"
   },
   {
    "duration": 37,
    "start_time": "2021-12-10T14:55:11.836Z"
   },
   {
    "duration": 3,
    "start_time": "2021-12-10T14:55:11.875Z"
   },
   {
    "duration": 11,
    "start_time": "2021-12-10T14:55:11.880Z"
   },
   {
    "duration": 7,
    "start_time": "2021-12-10T14:55:11.893Z"
   },
   {
    "duration": 4885,
    "start_time": "2021-12-10T14:55:11.901Z"
   },
   {
    "duration": 9,
    "start_time": "2021-12-10T14:55:16.787Z"
   },
   {
    "duration": 15,
    "start_time": "2021-12-10T14:55:16.797Z"
   },
   {
    "duration": 4500,
    "start_time": "2021-12-10T14:55:16.814Z"
   },
   {
    "duration": 47,
    "start_time": "2021-12-10T14:55:21.316Z"
   },
   {
    "duration": 17,
    "start_time": "2021-12-10T14:55:21.366Z"
   },
   {
    "duration": 310,
    "start_time": "2021-12-10T14:55:21.386Z"
   },
   {
    "duration": 5,
    "start_time": "2021-12-10T14:55:21.698Z"
   },
   {
    "duration": 248,
    "start_time": "2021-12-10T14:55:21.705Z"
   },
   {
    "duration": 10,
    "start_time": "2021-12-10T14:55:21.955Z"
   },
   {
    "duration": 15,
    "start_time": "2021-12-10T14:55:21.967Z"
   },
   {
    "duration": 24,
    "start_time": "2021-12-10T14:55:21.984Z"
   },
   {
    "duration": 190,
    "start_time": "2021-12-10T14:55:22.010Z"
   },
   {
    "duration": 14,
    "start_time": "2021-12-10T14:55:22.201Z"
   },
   {
    "duration": 14,
    "start_time": "2021-12-10T14:55:22.217Z"
   },
   {
    "duration": 173,
    "start_time": "2021-12-10T14:55:22.232Z"
   },
   {
    "duration": 13,
    "start_time": "2021-12-10T14:55:22.407Z"
   },
   {
    "duration": 218,
    "start_time": "2021-12-10T14:59:23.490Z"
   },
   {
    "duration": 219,
    "start_time": "2021-12-10T14:59:30.535Z"
   },
   {
    "duration": 225,
    "start_time": "2021-12-10T14:59:38.630Z"
   },
   {
    "duration": 214,
    "start_time": "2021-12-10T14:59:42.620Z"
   },
   {
    "duration": 6,
    "start_time": "2021-12-10T15:00:05.226Z"
   },
   {
    "duration": 6,
    "start_time": "2021-12-10T15:00:13.775Z"
   },
   {
    "duration": 6,
    "start_time": "2021-12-10T15:00:27.168Z"
   },
   {
    "duration": 905,
    "start_time": "2021-12-11T08:37:09.305Z"
   },
   {
    "duration": 137,
    "start_time": "2021-12-11T08:37:10.213Z"
   },
   {
    "duration": 14,
    "start_time": "2021-12-11T08:37:10.353Z"
   },
   {
    "duration": 431,
    "start_time": "2021-12-11T08:37:10.370Z"
   },
   {
    "duration": 420,
    "start_time": "2021-12-11T08:37:10.803Z"
   },
   {
    "duration": 6,
    "start_time": "2021-12-11T08:37:11.225Z"
   },
   {
    "duration": 37,
    "start_time": "2021-12-11T08:37:11.233Z"
   },
   {
    "duration": 624,
    "start_time": "2021-12-11T08:37:11.273Z"
   },
   {
    "duration": 27,
    "start_time": "2021-12-11T08:37:11.901Z"
   },
   {
    "duration": 24,
    "start_time": "2021-12-11T08:37:11.931Z"
   },
   {
    "duration": 18,
    "start_time": "2021-12-11T08:37:11.958Z"
   },
   {
    "duration": 452,
    "start_time": "2021-12-11T08:37:11.979Z"
   },
   {
    "duration": 44,
    "start_time": "2021-12-11T08:37:12.434Z"
   },
   {
    "duration": 5,
    "start_time": "2021-12-11T08:37:12.481Z"
   },
   {
    "duration": 37,
    "start_time": "2021-12-11T08:37:12.489Z"
   },
   {
    "duration": 11,
    "start_time": "2021-12-11T08:37:12.529Z"
   },
   {
    "duration": 7458,
    "start_time": "2021-12-11T08:37:12.542Z"
   },
   {
    "duration": 19,
    "start_time": "2021-12-11T08:37:20.002Z"
   },
   {
    "duration": 18,
    "start_time": "2021-12-11T08:37:20.023Z"
   },
   {
    "duration": 6182,
    "start_time": "2021-12-11T08:37:20.043Z"
   },
   {
    "duration": 67,
    "start_time": "2021-12-11T08:37:26.228Z"
   },
   {
    "duration": 22,
    "start_time": "2021-12-11T08:37:26.318Z"
   },
   {
    "duration": 532,
    "start_time": "2021-12-11T08:37:26.342Z"
   },
   {
    "duration": 8,
    "start_time": "2021-12-11T08:37:26.876Z"
   },
   {
    "duration": 429,
    "start_time": "2021-12-11T08:37:26.887Z"
   },
   {
    "duration": 7,
    "start_time": "2021-12-11T08:37:27.319Z"
   },
   {
    "duration": 21,
    "start_time": "2021-12-11T08:37:27.331Z"
   },
   {
    "duration": 69,
    "start_time": "2021-12-11T08:37:27.355Z"
   },
   {
    "duration": 993,
    "start_time": "2021-12-11T08:37:27.426Z"
   },
   {
    "duration": 18,
    "start_time": "2021-12-11T08:37:28.422Z"
   },
   {
    "duration": 17,
    "start_time": "2021-12-11T08:37:28.442Z"
   },
   {
    "duration": 285,
    "start_time": "2021-12-11T08:37:28.461Z"
   },
   {
    "duration": 16,
    "start_time": "2021-12-11T08:37:28.748Z"
   },
   {
    "duration": 950,
    "start_time": "2021-12-11T09:12:35.428Z"
   },
   {
    "duration": 166,
    "start_time": "2021-12-11T09:12:36.381Z"
   },
   {
    "duration": 13,
    "start_time": "2021-12-11T09:12:36.549Z"
   },
   {
    "duration": 440,
    "start_time": "2021-12-11T09:12:36.566Z"
   },
   {
    "duration": 418,
    "start_time": "2021-12-11T09:12:37.008Z"
   },
   {
    "duration": 7,
    "start_time": "2021-12-11T09:12:37.429Z"
   },
   {
    "duration": 36,
    "start_time": "2021-12-11T09:12:37.438Z"
   },
   {
    "duration": 945,
    "start_time": "2021-12-11T09:12:37.479Z"
   },
   {
    "duration": 21,
    "start_time": "2021-12-11T09:12:38.428Z"
   },
   {
    "duration": 27,
    "start_time": "2021-12-11T09:12:38.453Z"
   },
   {
    "duration": 21,
    "start_time": "2021-12-11T09:12:38.518Z"
   },
   {
    "duration": 439,
    "start_time": "2021-12-11T09:12:38.542Z"
   },
   {
    "duration": 67,
    "start_time": "2021-12-11T09:12:38.984Z"
   },
   {
    "duration": 6,
    "start_time": "2021-12-11T09:12:39.054Z"
   },
   {
    "duration": 16,
    "start_time": "2021-12-11T09:12:39.063Z"
   },
   {
    "duration": 37,
    "start_time": "2021-12-11T09:12:39.082Z"
   },
   {
    "duration": 8284,
    "start_time": "2021-12-11T09:12:39.123Z"
   },
   {
    "duration": 17,
    "start_time": "2021-12-11T09:12:47.409Z"
   },
   {
    "duration": 20,
    "start_time": "2021-12-11T09:12:47.429Z"
   },
   {
    "duration": 628,
    "start_time": "2021-12-19T11:14:32.937Z"
   },
   {
    "duration": 75,
    "start_time": "2021-12-19T11:14:33.567Z"
   },
   {
    "duration": 44,
    "start_time": "2021-12-19T11:14:33.645Z"
   },
   {
    "duration": 251,
    "start_time": "2021-12-19T11:14:33.691Z"
   },
   {
    "duration": 228,
    "start_time": "2021-12-19T11:14:33.944Z"
   },
   {
    "duration": 16,
    "start_time": "2021-12-19T11:14:34.174Z"
   },
   {
    "duration": 25,
    "start_time": "2021-12-19T11:14:34.192Z"
   },
   {
    "duration": 402,
    "start_time": "2021-12-19T11:14:34.219Z"
   },
   {
    "duration": 14,
    "start_time": "2021-12-19T11:14:34.625Z"
   },
   {
    "duration": 20,
    "start_time": "2021-12-19T11:14:34.641Z"
   },
   {
    "duration": 38,
    "start_time": "2021-12-19T11:14:34.662Z"
   },
   {
    "duration": 316,
    "start_time": "2021-12-19T11:14:34.702Z"
   },
   {
    "duration": 29,
    "start_time": "2021-12-19T11:14:35.020Z"
   },
   {
    "duration": 4,
    "start_time": "2021-12-19T11:14:35.051Z"
   },
   {
    "duration": 14,
    "start_time": "2021-12-19T11:14:35.056Z"
   },
   {
    "duration": 19,
    "start_time": "2021-12-19T11:14:35.071Z"
   },
   {
    "duration": 5388,
    "start_time": "2021-12-19T11:14:35.092Z"
   },
   {
    "duration": 9,
    "start_time": "2021-12-19T11:14:40.481Z"
   },
   {
    "duration": 14,
    "start_time": "2021-12-19T11:14:40.491Z"
   },
   {
    "duration": 4167,
    "start_time": "2021-12-19T11:14:40.506Z"
   },
   {
    "duration": 46,
    "start_time": "2021-12-19T11:14:44.675Z"
   },
   {
    "duration": 16,
    "start_time": "2021-12-19T11:14:44.723Z"
   },
   {
    "duration": 286,
    "start_time": "2021-12-19T11:14:44.741Z"
   },
   {
    "duration": 6,
    "start_time": "2021-12-19T11:14:45.028Z"
   },
   {
    "duration": 225,
    "start_time": "2021-12-19T11:14:45.036Z"
   },
   {
    "duration": 4,
    "start_time": "2021-12-19T11:14:45.263Z"
   },
   {
    "duration": 20,
    "start_time": "2021-12-19T11:14:45.270Z"
   },
   {
    "duration": 21,
    "start_time": "2021-12-19T11:14:45.291Z"
   },
   {
    "duration": 655,
    "start_time": "2021-12-19T11:14:45.314Z"
   },
   {
    "duration": 22,
    "start_time": "2021-12-19T11:14:45.970Z"
   },
   {
    "duration": 14,
    "start_time": "2021-12-19T11:14:45.994Z"
   },
   {
    "duration": 212,
    "start_time": "2021-12-19T11:14:46.010Z"
   },
   {
    "duration": 12,
    "start_time": "2021-12-19T11:14:46.224Z"
   },
   {
    "duration": 395,
    "start_time": "2022-05-14T09:29:39.894Z"
   },
   {
    "duration": 83,
    "start_time": "2022-05-14T09:29:42.653Z"
   },
   {
    "duration": 68,
    "start_time": "2022-05-14T09:31:34.139Z"
   },
   {
    "duration": 48,
    "start_time": "2022-05-14T09:32:38.666Z"
   },
   {
    "duration": 206,
    "start_time": "2022-05-14T09:33:00.017Z"
   },
   {
    "duration": 201,
    "start_time": "2022-05-14T09:33:07.128Z"
   },
   {
    "duration": 195,
    "start_time": "2022-05-14T09:33:18.351Z"
   },
   {
    "duration": 28,
    "start_time": "2022-05-14T09:33:24.328Z"
   },
   {
    "duration": 29,
    "start_time": "2022-05-14T09:34:10.350Z"
   },
   {
    "duration": 33,
    "start_time": "2022-05-14T09:34:22.295Z"
   },
   {
    "duration": 31,
    "start_time": "2022-05-14T09:34:55.557Z"
   },
   {
    "duration": 31,
    "start_time": "2022-05-14T09:35:29.749Z"
   },
   {
    "duration": 27,
    "start_time": "2022-05-14T09:41:43.235Z"
   },
   {
    "duration": 3130,
    "start_time": "2022-05-14T09:46:40.561Z"
   },
   {
    "duration": 2950,
    "start_time": "2022-05-14T09:46:46.878Z"
   },
   {
    "duration": 560,
    "start_time": "2022-05-14T09:47:15.828Z"
   },
   {
    "duration": 1094,
    "start_time": "2022-05-14T09:47:32.053Z"
   },
   {
    "duration": 227,
    "start_time": "2022-05-14T09:47:42.972Z"
   },
   {
    "duration": 390,
    "start_time": "2022-05-14T09:48:20.103Z"
   },
   {
    "duration": 196,
    "start_time": "2022-05-14T09:48:41.726Z"
   },
   {
    "duration": 156,
    "start_time": "2022-05-14T09:48:50.249Z"
   },
   {
    "duration": 133,
    "start_time": "2022-05-14T09:48:55.534Z"
   },
   {
    "duration": 148,
    "start_time": "2022-05-14T09:49:38.986Z"
   },
   {
    "duration": 3,
    "start_time": "2022-05-14T09:50:05.299Z"
   },
   {
    "duration": 83,
    "start_time": "2022-05-14T09:50:05.898Z"
   },
   {
    "duration": 27,
    "start_time": "2022-05-14T09:50:06.790Z"
   },
   {
    "duration": 205,
    "start_time": "2022-05-14T09:50:07.277Z"
   },
   {
    "duration": 165,
    "start_time": "2022-05-14T09:50:07.906Z"
   },
   {
    "duration": 291,
    "start_time": "2022-05-14T09:50:48.087Z"
   },
   {
    "duration": 206,
    "start_time": "2022-05-14T09:51:29.024Z"
   },
   {
    "duration": 204,
    "start_time": "2022-05-14T09:51:37.307Z"
   },
   {
    "duration": 152,
    "start_time": "2022-05-14T09:52:12.893Z"
   },
   {
    "duration": 8,
    "start_time": "2022-05-14T09:55:25.719Z"
   },
   {
    "duration": 13,
    "start_time": "2022-05-14T09:55:32.679Z"
   },
   {
    "duration": 133,
    "start_time": "2022-05-14T10:02:15.017Z"
   },
   {
    "duration": 134,
    "start_time": "2022-05-14T10:05:21.222Z"
   },
   {
    "duration": 3,
    "start_time": "2022-05-14T10:05:42.054Z"
   },
   {
    "duration": 276,
    "start_time": "2022-05-14T10:06:05.448Z"
   },
   {
    "duration": 284,
    "start_time": "2022-05-14T10:06:27.606Z"
   },
   {
    "duration": 235,
    "start_time": "2022-05-14T10:06:32.220Z"
   },
   {
    "duration": 271,
    "start_time": "2022-05-14T10:06:42.435Z"
   },
   {
    "duration": 134,
    "start_time": "2022-05-14T10:07:28.830Z"
   },
   {
    "duration": 3,
    "start_time": "2022-05-14T10:07:29.933Z"
   },
   {
    "duration": 403,
    "start_time": "2022-05-14T10:07:30.923Z"
   },
   {
    "duration": 284,
    "start_time": "2022-05-14T10:07:39.477Z"
   },
   {
    "duration": 3,
    "start_time": "2022-05-14T10:07:47.878Z"
   },
   {
    "duration": 85,
    "start_time": "2022-05-14T10:07:47.883Z"
   },
   {
    "duration": 35,
    "start_time": "2022-05-14T10:07:47.970Z"
   },
   {
    "duration": 227,
    "start_time": "2022-05-14T10:07:48.007Z"
   },
   {
    "duration": 169,
    "start_time": "2022-05-14T10:07:48.236Z"
   },
   {
    "duration": 10,
    "start_time": "2022-05-14T10:07:48.407Z"
   },
   {
    "duration": 145,
    "start_time": "2022-05-14T10:07:48.418Z"
   },
   {
    "duration": 3,
    "start_time": "2022-05-14T10:07:50.986Z"
   },
   {
    "duration": 348,
    "start_time": "2022-05-14T10:07:50.990Z"
   },
   {
    "duration": 297,
    "start_time": "2022-05-14T10:08:36.621Z"
   },
   {
    "duration": 5,
    "start_time": "2022-05-14T10:08:43.420Z"
   },
   {
    "duration": 3,
    "start_time": "2022-05-14T10:08:49.747Z"
   },
   {
    "duration": 99,
    "start_time": "2022-05-14T10:08:49.752Z"
   },
   {
    "duration": 24,
    "start_time": "2022-05-14T10:08:49.853Z"
   },
   {
    "duration": 253,
    "start_time": "2022-05-14T10:08:49.879Z"
   },
   {
    "duration": 183,
    "start_time": "2022-05-14T10:08:50.134Z"
   },
   {
    "duration": 11,
    "start_time": "2022-05-14T10:08:50.318Z"
   },
   {
    "duration": 147,
    "start_time": "2022-05-14T10:08:50.331Z"
   },
   {
    "duration": 4,
    "start_time": "2022-05-14T10:08:50.480Z"
   },
   {
    "duration": 303,
    "start_time": "2022-05-14T10:08:50.485Z"
   },
   {
    "duration": 12,
    "start_time": "2022-05-14T10:08:50.789Z"
   },
   {
    "duration": 14,
    "start_time": "2022-05-14T10:14:02.500Z"
   },
   {
    "duration": 21,
    "start_time": "2022-05-14T10:14:47.380Z"
   },
   {
    "duration": 26,
    "start_time": "2022-05-14T10:15:02.653Z"
   },
   {
    "duration": 3,
    "start_time": "2022-05-14T10:15:16.997Z"
   },
   {
    "duration": 86,
    "start_time": "2022-05-14T10:15:17.002Z"
   },
   {
    "duration": 30,
    "start_time": "2022-05-14T10:15:17.090Z"
   },
   {
    "duration": 394,
    "start_time": "2022-05-14T10:15:17.122Z"
   },
   {
    "duration": 178,
    "start_time": "2022-05-14T10:15:17.519Z"
   },
   {
    "duration": 11,
    "start_time": "2022-05-14T10:15:17.700Z"
   },
   {
    "duration": 154,
    "start_time": "2022-05-14T10:15:17.713Z"
   },
   {
    "duration": 4,
    "start_time": "2022-05-14T10:15:17.869Z"
   },
   {
    "duration": 322,
    "start_time": "2022-05-14T10:15:17.875Z"
   },
   {
    "duration": 6,
    "start_time": "2022-05-14T10:15:18.200Z"
   },
   {
    "duration": 24,
    "start_time": "2022-05-14T10:15:23.973Z"
   },
   {
    "duration": 25,
    "start_time": "2022-05-14T10:16:15.246Z"
   },
   {
    "duration": 8,
    "start_time": "2022-05-14T10:17:44.974Z"
   },
   {
    "duration": 4,
    "start_time": "2022-05-14T10:17:54.782Z"
   },
   {
    "duration": 7,
    "start_time": "2022-05-14T10:19:53.405Z"
   },
   {
    "duration": 5,
    "start_time": "2022-05-14T10:20:02.333Z"
   },
   {
    "duration": 186,
    "start_time": "2022-05-14T10:22:01.921Z"
   },
   {
    "duration": 3,
    "start_time": "2022-05-14T10:24:16.348Z"
   },
   {
    "duration": 92,
    "start_time": "2022-05-14T10:24:16.353Z"
   },
   {
    "duration": 25,
    "start_time": "2022-05-14T10:24:16.447Z"
   },
   {
    "duration": 235,
    "start_time": "2022-05-14T10:24:16.474Z"
   },
   {
    "duration": 156,
    "start_time": "2022-05-14T10:24:16.712Z"
   },
   {
    "duration": 10,
    "start_time": "2022-05-14T10:24:16.870Z"
   },
   {
    "duration": 146,
    "start_time": "2022-05-14T10:24:16.882Z"
   },
   {
    "duration": 4,
    "start_time": "2022-05-14T10:24:17.030Z"
   },
   {
    "duration": 309,
    "start_time": "2022-05-14T10:24:17.036Z"
   },
   {
    "duration": 5,
    "start_time": "2022-05-14T10:24:17.346Z"
   },
   {
    "duration": 25,
    "start_time": "2022-05-14T10:24:20.440Z"
   },
   {
    "duration": 194,
    "start_time": "2022-05-14T10:24:22.217Z"
   },
   {
    "duration": 3,
    "start_time": "2022-05-14T10:24:53.990Z"
   },
   {
    "duration": 182,
    "start_time": "2022-05-14T10:24:59.956Z"
   },
   {
    "duration": 14,
    "start_time": "2022-05-14T10:28:43.042Z"
   },
   {
    "duration": 7,
    "start_time": "2022-05-14T10:28:56.594Z"
   },
   {
    "duration": 5,
    "start_time": "2022-05-14T10:32:02.735Z"
   },
   {
    "duration": 9,
    "start_time": "2022-05-14T10:32:18.650Z"
   },
   {
    "duration": 12,
    "start_time": "2022-05-14T10:33:32.470Z"
   },
   {
    "duration": 10,
    "start_time": "2022-05-14T10:33:55.001Z"
   },
   {
    "duration": 744,
    "start_time": "2022-05-14T10:34:06.078Z"
   },
   {
    "duration": 9,
    "start_time": "2022-05-14T10:34:32.378Z"
   },
   {
    "duration": 9,
    "start_time": "2022-05-14T10:34:50.072Z"
   },
   {
    "duration": 3,
    "start_time": "2022-05-14T10:35:33.000Z"
   },
   {
    "duration": 90,
    "start_time": "2022-05-14T10:35:33.004Z"
   },
   {
    "duration": 21,
    "start_time": "2022-05-14T10:35:33.096Z"
   },
   {
    "duration": 209,
    "start_time": "2022-05-14T10:35:33.119Z"
   },
   {
    "duration": 162,
    "start_time": "2022-05-14T10:35:33.330Z"
   },
   {
    "duration": 9,
    "start_time": "2022-05-14T10:35:33.494Z"
   },
   {
    "duration": 135,
    "start_time": "2022-05-14T10:35:33.504Z"
   },
   {
    "duration": 3,
    "start_time": "2022-05-14T10:35:33.641Z"
   },
   {
    "duration": 289,
    "start_time": "2022-05-14T10:35:33.645Z"
   },
   {
    "duration": 4,
    "start_time": "2022-05-14T10:35:33.935Z"
   },
   {
    "duration": 25,
    "start_time": "2022-05-14T10:35:33.941Z"
   },
   {
    "duration": 3,
    "start_time": "2022-05-14T10:35:33.967Z"
   },
   {
    "duration": 201,
    "start_time": "2022-05-14T10:35:33.972Z"
   },
   {
    "duration": 8,
    "start_time": "2022-05-14T10:35:47.553Z"
   },
   {
    "duration": 8,
    "start_time": "2022-05-14T10:36:31.201Z"
   },
   {
    "duration": 6,
    "start_time": "2022-05-14T10:37:13.922Z"
   },
   {
    "duration": 12,
    "start_time": "2022-05-14T10:37:26.349Z"
   },
   {
    "duration": 12,
    "start_time": "2022-05-14T10:41:08.536Z"
   },
   {
    "duration": 13,
    "start_time": "2022-05-14T10:41:42.701Z"
   },
   {
    "duration": 18,
    "start_time": "2022-05-14T10:42:23.524Z"
   },
   {
    "duration": 13,
    "start_time": "2022-05-14T10:42:25.420Z"
   },
   {
    "duration": 9,
    "start_time": "2022-05-14T10:43:01.446Z"
   },
   {
    "duration": 27,
    "start_time": "2022-05-14T10:43:39.629Z"
   },
   {
    "duration": 33,
    "start_time": "2022-05-14T10:44:01.204Z"
   },
   {
    "duration": 10,
    "start_time": "2022-05-14T10:51:08.053Z"
   },
   {
    "duration": 3,
    "start_time": "2022-05-14T10:51:20.015Z"
   },
   {
    "duration": 82,
    "start_time": "2022-05-14T10:51:20.023Z"
   },
   {
    "duration": 25,
    "start_time": "2022-05-14T10:51:20.108Z"
   },
   {
    "duration": 237,
    "start_time": "2022-05-14T10:51:20.135Z"
   },
   {
    "duration": 160,
    "start_time": "2022-05-14T10:51:20.374Z"
   },
   {
    "duration": 128,
    "start_time": "2022-05-14T10:51:33.635Z"
   },
   {
    "duration": 3,
    "start_time": "2022-05-14T10:51:36.346Z"
   },
   {
    "duration": 283,
    "start_time": "2022-05-14T10:51:41.717Z"
   },
   {
    "duration": 5,
    "start_time": "2022-05-14T10:51:42.265Z"
   },
   {
    "duration": 24,
    "start_time": "2022-05-14T10:51:43.840Z"
   },
   {
    "duration": 3,
    "start_time": "2022-05-14T10:51:44.384Z"
   },
   {
    "duration": 192,
    "start_time": "2022-05-14T10:51:45.043Z"
   },
   {
    "duration": 5,
    "start_time": "2022-05-14T10:51:51.592Z"
   },
   {
    "duration": 10,
    "start_time": "2022-05-14T10:51:51.698Z"
   },
   {
    "duration": 16,
    "start_time": "2022-05-14T10:51:56.975Z"
   },
   {
    "duration": 13,
    "start_time": "2022-05-14T10:51:58.814Z"
   },
   {
    "duration": 26,
    "start_time": "2022-05-14T10:51:59.680Z"
   },
   {
    "duration": 29,
    "start_time": "2022-05-14T10:52:01.958Z"
   },
   {
    "duration": 10,
    "start_time": "2022-05-14T10:52:06.415Z"
   },
   {
    "duration": 5,
    "start_time": "2022-05-14T10:53:39.806Z"
   },
   {
    "duration": 2,
    "start_time": "2022-05-14T11:02:02.606Z"
   },
   {
    "duration": 91,
    "start_time": "2022-05-14T11:02:02.610Z"
   },
   {
    "duration": 24,
    "start_time": "2022-05-14T11:02:02.703Z"
   },
   {
    "duration": 416,
    "start_time": "2022-05-14T11:02:02.729Z"
   },
   {
    "duration": 161,
    "start_time": "2022-05-14T11:02:03.147Z"
   },
   {
    "duration": 140,
    "start_time": "2022-05-14T11:02:03.310Z"
   },
   {
    "duration": 3,
    "start_time": "2022-05-14T11:02:03.451Z"
   },
   {
    "duration": 296,
    "start_time": "2022-05-14T11:02:03.456Z"
   },
   {
    "duration": 5,
    "start_time": "2022-05-14T11:02:03.753Z"
   },
   {
    "duration": 24,
    "start_time": "2022-05-14T11:02:03.759Z"
   },
   {
    "duration": 15,
    "start_time": "2022-05-14T11:02:03.785Z"
   },
   {
    "duration": 188,
    "start_time": "2022-05-14T11:02:03.802Z"
   },
   {
    "duration": 10,
    "start_time": "2022-05-14T11:02:03.992Z"
   },
   {
    "duration": 19,
    "start_time": "2022-05-14T11:02:04.003Z"
   },
   {
    "duration": 15,
    "start_time": "2022-05-14T11:02:04.024Z"
   },
   {
    "duration": 12,
    "start_time": "2022-05-14T11:02:04.040Z"
   },
   {
    "duration": 29,
    "start_time": "2022-05-14T11:02:04.053Z"
   },
   {
    "duration": 45,
    "start_time": "2022-05-14T11:02:04.083Z"
   },
   {
    "duration": 8,
    "start_time": "2022-05-14T11:02:04.130Z"
   },
   {
    "duration": 5,
    "start_time": "2022-05-14T11:02:04.140Z"
   },
   {
    "duration": 9,
    "start_time": "2022-05-14T11:02:04.146Z"
   },
   {
    "duration": 3,
    "start_time": "2022-05-14T11:02:16.492Z"
   },
   {
    "duration": 4,
    "start_time": "2022-05-14T11:02:18.968Z"
   },
   {
    "duration": 4034,
    "start_time": "2022-05-14T11:02:39.797Z"
   },
   {
    "duration": 9,
    "start_time": "2022-05-14T11:04:09.669Z"
   },
   {
    "duration": 9,
    "start_time": "2022-05-14T11:04:16.874Z"
   },
   {
    "duration": 5,
    "start_time": "2022-05-14T11:06:38.097Z"
   },
   {
    "duration": 14,
    "start_time": "2022-05-14T11:07:57.298Z"
   },
   {
    "duration": 3881,
    "start_time": "2022-05-14T11:08:48.198Z"
   },
   {
    "duration": 36,
    "start_time": "2022-05-14T11:09:02.918Z"
   },
   {
    "duration": 12,
    "start_time": "2022-05-14T11:10:10.501Z"
   },
   {
    "duration": 13,
    "start_time": "2022-05-14T11:12:41.306Z"
   },
   {
    "duration": 3212,
    "start_time": "2022-05-14T11:13:07.962Z"
   },
   {
    "duration": 10,
    "start_time": "2022-05-14T11:13:15.498Z"
   },
   {
    "duration": 126,
    "start_time": "2022-05-14T11:14:37.075Z"
   },
   {
    "duration": 132,
    "start_time": "2022-05-14T11:14:47.556Z"
   },
   {
    "duration": 217,
    "start_time": "2022-05-14T11:15:04.291Z"
   },
   {
    "duration": 132,
    "start_time": "2022-05-14T11:15:16.059Z"
   },
   {
    "duration": 8,
    "start_time": "2022-05-14T11:16:12.397Z"
   },
   {
    "duration": 7,
    "start_time": "2022-05-14T11:16:25.350Z"
   },
   {
    "duration": 8,
    "start_time": "2022-05-14T11:16:30.700Z"
   },
   {
    "duration": 9,
    "start_time": "2022-05-14T11:17:48.813Z"
   },
   {
    "duration": 21,
    "start_time": "2022-05-14T11:17:56.853Z"
   },
   {
    "duration": 9,
    "start_time": "2022-05-14T11:18:09.043Z"
   },
   {
    "duration": 11,
    "start_time": "2022-05-14T11:20:13.434Z"
   },
   {
    "duration": 7,
    "start_time": "2022-05-14T11:20:31.863Z"
   },
   {
    "duration": 8,
    "start_time": "2022-05-14T11:20:42.044Z"
   },
   {
    "duration": 8,
    "start_time": "2022-05-14T11:20:47.749Z"
   },
   {
    "duration": 11,
    "start_time": "2022-05-14T11:20:50.846Z"
   },
   {
    "duration": 7,
    "start_time": "2022-05-14T11:21:08.802Z"
   },
   {
    "duration": 8,
    "start_time": "2022-05-14T11:21:16.018Z"
   },
   {
    "duration": 7,
    "start_time": "2022-05-14T11:21:27.255Z"
   },
   {
    "duration": 7,
    "start_time": "2022-05-14T11:21:33.570Z"
   },
   {
    "duration": 7,
    "start_time": "2022-05-14T11:21:39.899Z"
   },
   {
    "duration": 187,
    "start_time": "2022-05-14T11:22:36.024Z"
   },
   {
    "duration": 9,
    "start_time": "2022-05-14T11:22:41.606Z"
   },
   {
    "duration": 7,
    "start_time": "2022-05-14T11:23:37.528Z"
   },
   {
    "duration": 8,
    "start_time": "2022-05-14T11:24:19.940Z"
   },
   {
    "duration": 8,
    "start_time": "2022-05-14T11:24:29.783Z"
   },
   {
    "duration": 8,
    "start_time": "2022-05-14T11:24:36.262Z"
   },
   {
    "duration": 127,
    "start_time": "2022-05-14T11:30:12.526Z"
   },
   {
    "duration": 4,
    "start_time": "2022-05-14T11:30:12.655Z"
   },
   {
    "duration": 83,
    "start_time": "2022-05-14T11:30:12.661Z"
   },
   {
    "duration": 24,
    "start_time": "2022-05-14T11:30:12.746Z"
   },
   {
    "duration": 332,
    "start_time": "2022-05-14T11:30:12.773Z"
   },
   {
    "duration": 167,
    "start_time": "2022-05-14T11:30:13.107Z"
   },
   {
    "duration": 134,
    "start_time": "2022-05-14T11:30:13.276Z"
   },
   {
    "duration": 4,
    "start_time": "2022-05-14T11:30:13.412Z"
   },
   {
    "duration": 298,
    "start_time": "2022-05-14T11:30:13.417Z"
   },
   {
    "duration": 6,
    "start_time": "2022-05-14T11:30:13.716Z"
   },
   {
    "duration": 24,
    "start_time": "2022-05-14T11:30:13.723Z"
   },
   {
    "duration": 3,
    "start_time": "2022-05-14T11:30:13.749Z"
   },
   {
    "duration": 218,
    "start_time": "2022-05-14T11:30:13.754Z"
   },
   {
    "duration": 5,
    "start_time": "2022-05-14T11:30:13.976Z"
   },
   {
    "duration": 25,
    "start_time": "2022-05-14T11:30:13.983Z"
   },
   {
    "duration": 15,
    "start_time": "2022-05-14T11:30:14.010Z"
   },
   {
    "duration": 12,
    "start_time": "2022-05-14T11:30:14.027Z"
   },
   {
    "duration": 24,
    "start_time": "2022-05-14T11:30:14.041Z"
   },
   {
    "duration": 54,
    "start_time": "2022-05-14T11:30:14.066Z"
   },
   {
    "duration": 9,
    "start_time": "2022-05-14T11:30:14.122Z"
   },
   {
    "duration": 4,
    "start_time": "2022-05-14T11:30:14.132Z"
   },
   {
    "duration": 8,
    "start_time": "2022-05-14T11:30:14.137Z"
   },
   {
    "duration": 4,
    "start_time": "2022-05-14T11:30:14.146Z"
   },
   {
    "duration": 7,
    "start_time": "2022-05-14T11:30:14.151Z"
   },
   {
    "duration": 4162,
    "start_time": "2022-05-14T11:30:14.160Z"
   },
   {
    "duration": 10,
    "start_time": "2022-05-14T11:30:18.324Z"
   },
   {
    "duration": 16,
    "start_time": "2022-05-14T11:30:18.335Z"
   },
   {
    "duration": 3,
    "start_time": "2022-05-14T11:30:22.563Z"
   },
   {
    "duration": 98,
    "start_time": "2022-05-14T11:30:22.567Z"
   },
   {
    "duration": 41,
    "start_time": "2022-05-14T11:30:22.667Z"
   },
   {
    "duration": 231,
    "start_time": "2022-05-14T11:30:22.710Z"
   },
   {
    "duration": 155,
    "start_time": "2022-05-14T11:30:22.943Z"
   },
   {
    "duration": 133,
    "start_time": "2022-05-14T11:30:23.100Z"
   },
   {
    "duration": 4,
    "start_time": "2022-05-14T11:30:23.234Z"
   },
   {
    "duration": 618,
    "start_time": "2022-05-14T11:30:23.240Z"
   },
   {
    "duration": 5,
    "start_time": "2022-05-14T11:30:23.860Z"
   },
   {
    "duration": 42,
    "start_time": "2022-05-14T11:30:23.867Z"
   },
   {
    "duration": 3,
    "start_time": "2022-05-14T11:30:23.911Z"
   },
   {
    "duration": 190,
    "start_time": "2022-05-14T11:30:23.916Z"
   },
   {
    "duration": 6,
    "start_time": "2022-05-14T11:30:24.108Z"
   },
   {
    "duration": 11,
    "start_time": "2022-05-14T11:30:24.116Z"
   },
   {
    "duration": 15,
    "start_time": "2022-05-14T11:30:24.128Z"
   },
   {
    "duration": 12,
    "start_time": "2022-05-14T11:30:24.145Z"
   },
   {
    "duration": 52,
    "start_time": "2022-05-14T11:30:24.158Z"
   },
   {
    "duration": 28,
    "start_time": "2022-05-14T11:30:24.212Z"
   },
   {
    "duration": 9,
    "start_time": "2022-05-14T11:30:24.241Z"
   },
   {
    "duration": 4,
    "start_time": "2022-05-14T11:30:24.251Z"
   },
   {
    "duration": 11,
    "start_time": "2022-05-14T11:30:24.256Z"
   },
   {
    "duration": 7,
    "start_time": "2022-05-14T11:30:24.268Z"
   },
   {
    "duration": 25,
    "start_time": "2022-05-14T11:30:24.276Z"
   },
   {
    "duration": 4350,
    "start_time": "2022-05-14T11:30:24.303Z"
   },
   {
    "duration": 8,
    "start_time": "2022-05-14T11:30:28.655Z"
   },
   {
    "duration": 16,
    "start_time": "2022-05-14T11:30:28.664Z"
   },
   {
    "duration": 3630,
    "start_time": "2022-05-14T11:30:28.681Z"
   },
   {
    "duration": 37,
    "start_time": "2022-05-14T11:30:32.313Z"
   },
   {
    "duration": 23,
    "start_time": "2022-05-14T11:30:32.351Z"
   },
   {
    "duration": 143,
    "start_time": "2022-05-14T11:30:32.376Z"
   },
   {
    "duration": 8,
    "start_time": "2022-05-14T11:30:32.520Z"
   },
   {
    "duration": 124,
    "start_time": "2022-05-14T11:30:39.724Z"
   },
   {
    "duration": 5,
    "start_time": "2022-05-14T11:32:34.723Z"
   },
   {
    "duration": 11,
    "start_time": "2022-05-14T11:35:36.725Z"
   },
   {
    "duration": 415,
    "start_time": "2022-05-14T11:37:29.110Z"
   },
   {
    "duration": 34,
    "start_time": "2022-05-14T11:39:15.761Z"
   },
   {
    "duration": 21,
    "start_time": "2022-05-14T11:39:20.434Z"
   },
   {
    "duration": 113,
    "start_time": "2022-05-14T11:39:23.347Z"
   },
   {
    "duration": 12,
    "start_time": "2022-05-14T11:42:00.896Z"
   },
   {
    "duration": 12,
    "start_time": "2022-05-14T11:42:10.433Z"
   },
   {
    "duration": 13,
    "start_time": "2022-05-14T11:44:13.363Z"
   },
   {
    "duration": 15,
    "start_time": "2022-05-14T11:45:45.984Z"
   },
   {
    "duration": 24,
    "start_time": "2022-05-14T11:46:13.687Z"
   },
   {
    "duration": 8,
    "start_time": "2022-05-14T11:47:06.676Z"
   },
   {
    "duration": 8,
    "start_time": "2022-05-14T11:47:19.334Z"
   },
   {
    "duration": 11,
    "start_time": "2022-05-14T11:47:29.543Z"
   },
   {
    "duration": 111,
    "start_time": "2022-05-14T11:47:34.235Z"
   },
   {
    "duration": 134,
    "start_time": "2022-05-14T11:48:50.347Z"
   },
   {
    "duration": 132,
    "start_time": "2022-05-14T11:48:54.876Z"
   },
   {
    "duration": 106,
    "start_time": "2022-05-14T11:49:00.756Z"
   },
   {
    "duration": 123,
    "start_time": "2022-05-14T11:49:44.833Z"
   },
   {
    "duration": 120,
    "start_time": "2022-05-14T11:49:52.330Z"
   },
   {
    "duration": 25,
    "start_time": "2022-05-14T11:55:01.576Z"
   },
   {
    "duration": 26,
    "start_time": "2022-05-14T11:55:14.810Z"
   },
   {
    "duration": 28,
    "start_time": "2022-05-14T11:55:22.682Z"
   },
   {
    "duration": 30,
    "start_time": "2022-05-14T11:55:27.621Z"
   },
   {
    "duration": 28,
    "start_time": "2022-05-14T11:55:30.683Z"
   },
   {
    "duration": 26,
    "start_time": "2022-05-14T11:55:39.110Z"
   },
   {
    "duration": 23,
    "start_time": "2022-05-14T11:57:20.944Z"
   },
   {
    "duration": 25,
    "start_time": "2022-05-14T11:57:23.570Z"
   },
   {
    "duration": 28,
    "start_time": "2022-05-14T11:57:28.779Z"
   },
   {
    "duration": 23,
    "start_time": "2022-05-14T11:58:37.755Z"
   },
   {
    "duration": 8,
    "start_time": "2022-05-14T12:01:07.488Z"
   },
   {
    "duration": 12,
    "start_time": "2022-05-14T12:01:12.395Z"
   },
   {
    "duration": 7,
    "start_time": "2022-05-14T12:01:13.397Z"
   },
   {
    "duration": 104,
    "start_time": "2022-05-14T12:01:21.609Z"
   },
   {
    "duration": 105,
    "start_time": "2022-05-14T12:01:54.961Z"
   },
   {
    "duration": 15,
    "start_time": "2022-05-14T12:03:33.582Z"
   },
   {
    "duration": 11,
    "start_time": "2022-05-14T12:03:38.086Z"
   },
   {
    "duration": 2,
    "start_time": "2022-05-14T12:05:42.726Z"
   },
   {
    "duration": 78,
    "start_time": "2022-05-14T12:05:44.456Z"
   },
   {
    "duration": 24,
    "start_time": "2022-05-14T12:05:46.142Z"
   },
   {
    "duration": 194,
    "start_time": "2022-05-14T12:05:55.128Z"
   },
   {
    "duration": 151,
    "start_time": "2022-05-14T12:05:55.898Z"
   },
   {
    "duration": 131,
    "start_time": "2022-05-14T12:06:04.127Z"
   },
   {
    "duration": 3,
    "start_time": "2022-05-14T12:06:05.152Z"
   },
   {
    "duration": 290,
    "start_time": "2022-05-14T12:06:05.619Z"
   },
   {
    "duration": 4,
    "start_time": "2022-05-14T12:06:06.155Z"
   },
   {
    "duration": 25,
    "start_time": "2022-05-14T12:06:07.273Z"
   },
   {
    "duration": 3,
    "start_time": "2022-05-14T12:06:07.885Z"
   },
   {
    "duration": 184,
    "start_time": "2022-05-14T12:06:08.432Z"
   },
   {
    "duration": 6,
    "start_time": "2022-05-14T12:06:11.747Z"
   },
   {
    "duration": 11,
    "start_time": "2022-05-14T12:06:12.771Z"
   },
   {
    "duration": 16,
    "start_time": "2022-05-14T12:06:20.114Z"
   },
   {
    "duration": 13,
    "start_time": "2022-05-14T12:06:21.288Z"
   },
   {
    "duration": 24,
    "start_time": "2022-05-14T12:06:27.016Z"
   },
   {
    "duration": 28,
    "start_time": "2022-05-14T12:06:27.938Z"
   },
   {
    "duration": 10,
    "start_time": "2022-05-14T12:06:33.186Z"
   },
   {
    "duration": 4,
    "start_time": "2022-05-14T12:06:35.782Z"
   },
   {
    "duration": 8,
    "start_time": "2022-05-14T12:06:36.706Z"
   },
   {
    "duration": 3,
    "start_time": "2022-05-14T12:06:39.062Z"
   },
   {
    "duration": 5,
    "start_time": "2022-05-14T12:06:43.214Z"
   },
   {
    "duration": 4194,
    "start_time": "2022-05-14T12:06:44.516Z"
   },
   {
    "duration": 11,
    "start_time": "2022-05-14T12:06:49.458Z"
   },
   {
    "duration": 16,
    "start_time": "2022-05-14T12:06:52.695Z"
   },
   {
    "duration": 3922,
    "start_time": "2022-05-14T12:06:55.101Z"
   },
   {
    "duration": 35,
    "start_time": "2022-05-14T12:06:59.025Z"
   },
   {
    "duration": 20,
    "start_time": "2022-05-14T12:06:59.061Z"
   },
   {
    "duration": 124,
    "start_time": "2022-05-14T12:07:01.148Z"
   },
   {
    "duration": 9,
    "start_time": "2022-05-14T12:07:02.640Z"
   },
   {
    "duration": 127,
    "start_time": "2022-05-14T12:07:03.777Z"
   },
   {
    "duration": 5,
    "start_time": "2022-05-14T12:07:04.309Z"
   },
   {
    "duration": 21,
    "start_time": "2022-05-14T12:07:08.705Z"
   },
   {
    "duration": 381,
    "start_time": "2022-05-14T12:07:09.656Z"
   },
   {
    "duration": 12,
    "start_time": "2022-05-14T12:07:12.092Z"
   },
   {
    "duration": 14,
    "start_time": "2022-05-14T12:07:15.125Z"
   },
   {
    "duration": 105,
    "start_time": "2022-05-14T12:07:17.626Z"
   },
   {
    "duration": 109,
    "start_time": "2022-05-14T12:07:52.560Z"
   },
   {
    "duration": 114,
    "start_time": "2022-05-14T12:08:30.977Z"
   }
  ],
  "kernelspec": {
   "display_name": "Python 3 (ipykernel)",
   "language": "python",
   "name": "python3"
  },
  "language_info": {
   "codemirror_mode": {
    "name": "ipython",
    "version": 3
   },
   "file_extension": ".py",
   "mimetype": "text/x-python",
   "name": "python",
   "nbconvert_exporter": "python",
   "pygments_lexer": "ipython3",
   "version": "3.9.5"
  },
  "toc": {
   "base_numbering": 1,
   "nav_menu": {},
   "number_sections": true,
   "sideBar": true,
   "skip_h1_title": true,
   "title_cell": "Содержание",
   "title_sidebar": "Contents",
   "toc_cell": true,
   "toc_position": {},
   "toc_section_display": true,
   "toc_window_display": true
  }
 },
 "nbformat": 4,
 "nbformat_minor": 2
}
