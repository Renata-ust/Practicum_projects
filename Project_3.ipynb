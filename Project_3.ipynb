{
 "cells": [
  {
   "cell_type": "markdown",
   "metadata": {},
   "source": [
    "# Исследование объявлений о продаже квартир\n",
    "_____"
   ]
  },
  {
   "cell_type": "markdown",
   "metadata": {
    "toc": true
   },
   "source": [
    "<h1>Содержание<span class=\"tocSkip\"></span></h1>\n",
    "<div class=\"toc\"><ul class=\"toc-item\"><li><span><a href=\"#Описание-исследования\" data-toc-modified-id=\"Описание-исследования-1\"><span class=\"toc-item-num\">1&nbsp;&nbsp;</span>Описание исследования</a></span><ul class=\"toc-item\"><li><span><a href=\"#Цель-исследования\" data-toc-modified-id=\"Цель-исследования-1.1\"><span class=\"toc-item-num\">1.1&nbsp;&nbsp;</span>Цель исследования</a></span></li><li><span><a href=\"#Задачи-исследования\" data-toc-modified-id=\"Задачи-исследования-1.2\"><span class=\"toc-item-num\">1.2&nbsp;&nbsp;</span>Задачи исследования</a></span></li><li><span><a href=\"#Исходные-данные\" data-toc-modified-id=\"Исходные-данные-1.3\"><span class=\"toc-item-num\">1.3&nbsp;&nbsp;</span>Исходные данные</a></span></li></ul></li><li><span><a href=\"#Изучение-данных-из-файла\" data-toc-modified-id=\"Изучение-данных-из-файла-2\"><span class=\"toc-item-num\">2&nbsp;&nbsp;</span>Изучение данных из файла</a></span><ul class=\"toc-item\"><li><span><a href=\"#Получение-общей-информации\" data-toc-modified-id=\"Получение-общей-информации-2.1\"><span class=\"toc-item-num\">2.1&nbsp;&nbsp;</span>Получение общей информации</a></span></li><li><span><a href=\"#Вывод\" data-toc-modified-id=\"Вывод-2.2\"><span class=\"toc-item-num\">2.2&nbsp;&nbsp;</span>Вывод</a></span></li></ul></li><li><span><a href=\"#Предобработка-данных\" data-toc-modified-id=\"Предобработка-данных-3\"><span class=\"toc-item-num\">3&nbsp;&nbsp;</span>Предобработка данных</a></span><ul class=\"toc-item\"><li><span><a href=\"#Поиск-аномальных-значений\" data-toc-modified-id=\"Поиск-аномальных-значений-3.1\"><span class=\"toc-item-num\">3.1&nbsp;&nbsp;</span>Поиск аномальных значений</a></span><ul class=\"toc-item\"><li><span><a href=\"#Вывод\" data-toc-modified-id=\"Вывод-3.1.1\"><span class=\"toc-item-num\">3.1.1&nbsp;&nbsp;</span>Вывод</a></span></li></ul></li><li><span><a href=\"#Определение-пропущенных-значений\" data-toc-modified-id=\"Определение-пропущенных-значений-3.2\"><span class=\"toc-item-num\">3.2&nbsp;&nbsp;</span>Определение пропущенных значений</a></span><ul class=\"toc-item\"><li><span><a href=\"#Вывод\" data-toc-modified-id=\"Вывод-3.2.1\"><span class=\"toc-item-num\">3.2.1&nbsp;&nbsp;</span>Вывод</a></span></li></ul></li><li><span><a href=\"#Заполнение-пропущенных-значений\" data-toc-modified-id=\"Заполнение-пропущенных-значений-3.3\"><span class=\"toc-item-num\">3.3&nbsp;&nbsp;</span>Заполнение пропущенных значений</a></span><ul class=\"toc-item\"><li><span><a href=\"#Заполнение-пропусков-в-столбце--ceiling_height\" data-toc-modified-id=\"Заполнение-пропусков-в-столбце--ceiling_height-3.3.1\"><span class=\"toc-item-num\">3.3.1&nbsp;&nbsp;</span>Заполнение пропусков в столбце  <code>ceiling_height</code></a></span></li><li><span><a href=\"#Заполнение-пропусков-в-столбцах-living_area-и-kitchen_area\" data-toc-modified-id=\"Заполнение-пропусков-в-столбцах-living_area-и-kitchen_area-3.3.2\"><span class=\"toc-item-num\">3.3.2&nbsp;&nbsp;</span>Заполнение пропусков в столбцах <code>living_area</code> и <code>kitchen_area</code></a></span></li><li><span><a href=\"#Заполнение-пропусков-в-столбце-is_apartment\" data-toc-modified-id=\"Заполнение-пропусков-в-столбце-is_apartment-3.3.3\"><span class=\"toc-item-num\">3.3.3&nbsp;&nbsp;</span>Заполнение пропусков в столбце <code>is_apartment</code></a></span></li><li><span><a href=\"#Заполнение-пропусков-в-столбце-balcony\" data-toc-modified-id=\"Заполнение-пропусков-в-столбце-balcony-3.3.4\"><span class=\"toc-item-num\">3.3.4&nbsp;&nbsp;</span>Заполнение пропусков в столбце <code>balcony</code></a></span></li><li><span><a href=\"#Заполнение-пропусков-в-столбце-locality_name\" data-toc-modified-id=\"Заполнение-пропусков-в-столбце-locality_name-3.3.5\"><span class=\"toc-item-num\">3.3.5&nbsp;&nbsp;</span>Заполнение пропусков в столбце <code>locality_name</code></a></span></li><li><span><a href=\"#Вывод\" data-toc-modified-id=\"Вывод-3.3.6\"><span class=\"toc-item-num\">3.3.6&nbsp;&nbsp;</span>Вывод</a></span></li></ul></li><li><span><a href=\"#Приведение-данных-к-нужным-типам\" data-toc-modified-id=\"Приведение-данных-к-нужным-типам-3.4\"><span class=\"toc-item-num\">3.4&nbsp;&nbsp;</span>Приведение данных к нужным типам</a></span><ul class=\"toc-item\"><li><span><a href=\"#Вывод\" data-toc-modified-id=\"Вывод-3.4.1\"><span class=\"toc-item-num\">3.4.1&nbsp;&nbsp;</span>Вывод</a></span></li></ul></li></ul></li><li><span><a href=\"#Расчёты-и-добавление-результатов-в-таблицу\" data-toc-modified-id=\"Расчёты-и-добавление-результатов-в-таблицу-4\"><span class=\"toc-item-num\">4&nbsp;&nbsp;</span>Расчёты и добавление результатов в таблицу</a></span><ul class=\"toc-item\"><li><span><a href=\"#Вывод\" data-toc-modified-id=\"Вывод-4.1\"><span class=\"toc-item-num\">4.1&nbsp;&nbsp;</span>Вывод</a></span></li></ul></li><li><span><a href=\"#Исследовательский-анализ-данных\" data-toc-modified-id=\"Исследовательский-анализ-данных-5\"><span class=\"toc-item-num\">5&nbsp;&nbsp;</span>Исследовательский анализ данных</a></span><ul class=\"toc-item\"><li><span><a href=\"#Изучение-параметров\" data-toc-modified-id=\"Изучение-параметров-5.1\"><span class=\"toc-item-num\">5.1&nbsp;&nbsp;</span>Изучение параметров</a></span><ul class=\"toc-item\"><li><span><a href=\"#Вывод\" data-toc-modified-id=\"Вывод-5.1.1\"><span class=\"toc-item-num\">5.1.1&nbsp;&nbsp;</span>Вывод</a></span></li></ul></li><li><span><a href=\"#Изучение-времени-продажи-квартиры\" data-toc-modified-id=\"Изучение-времени-продажи-квартиры-5.2\"><span class=\"toc-item-num\">5.2&nbsp;&nbsp;</span>Изучение времени продажи квартиры</a></span><ul class=\"toc-item\"><li><span><a href=\"#Вывод\" data-toc-modified-id=\"Вывод-5.2.1\"><span class=\"toc-item-num\">5.2.1&nbsp;&nbsp;</span>Вывод</a></span></li></ul></li><li><span><a href=\"#Обработка-редких-и-выбивающихся-значений\" data-toc-modified-id=\"Обработка-редких-и-выбивающихся-значений-5.3\"><span class=\"toc-item-num\">5.3&nbsp;&nbsp;</span>Обработка редких и выбивающихся значений</a></span><ul class=\"toc-item\"><li><span><a href=\"#Вывод\" data-toc-modified-id=\"Вывод-5.3.1\"><span class=\"toc-item-num\">5.3.1&nbsp;&nbsp;</span>Вывод</a></span></li></ul></li><li><span><a href=\"#Определение-факторов,-влияющих-на-стоимость-квартиры\" data-toc-modified-id=\"Определение-факторов,-влияющих-на-стоимость-квартиры-5.4\"><span class=\"toc-item-num\">5.4&nbsp;&nbsp;</span>Определение факторов, влияющих на стоимость квартиры</a></span><ul class=\"toc-item\"><li><span><a href=\"#Зависимость-цены-от-площади,-числа-комнат,-удаленности-от-центра\" data-toc-modified-id=\"Зависимость-цены-от-площади,-числа-комнат,-удаленности-от-центра-5.4.1\"><span class=\"toc-item-num\">5.4.1&nbsp;&nbsp;</span>Зависимость цены от площади, числа комнат, удаленности от центра</a></span><ul class=\"toc-item\"><li><span><a href=\"#Вывод\" data-toc-modified-id=\"Вывод-5.4.1.1\"><span class=\"toc-item-num\">5.4.1.1&nbsp;&nbsp;</span>Вывод</a></span></li></ul></li><li><span><a href=\"#Зависимость-цены-от-этажа\" data-toc-modified-id=\"Зависимость-цены-от-этажа-5.4.2\"><span class=\"toc-item-num\">5.4.2&nbsp;&nbsp;</span>Зависимость цены от этажа</a></span><ul class=\"toc-item\"><li><span><a href=\"#Вывод\" data-toc-modified-id=\"Вывод-5.4.2.1\"><span class=\"toc-item-num\">5.4.2.1&nbsp;&nbsp;</span>Вывод</a></span></li></ul></li><li><span><a href=\"#Зависимость-цены-от-даты-размещения\" data-toc-modified-id=\"Зависимость-цены-от-даты-размещения-5.4.3\"><span class=\"toc-item-num\">5.4.3&nbsp;&nbsp;</span>Зависимость цены от даты размещения</a></span><ul class=\"toc-item\"><li><span><a href=\"#Вывод\" data-toc-modified-id=\"Вывод-5.4.3.1\"><span class=\"toc-item-num\">5.4.3.1&nbsp;&nbsp;</span>Вывод</a></span></li></ul></li></ul></li><li><span><a href=\"#Анализ-цены-в-зависимости-от-населенного-пункта\" data-toc-modified-id=\"Анализ-цены-в-зависимости-от-населенного-пункта-5.5\"><span class=\"toc-item-num\">5.5&nbsp;&nbsp;</span>Анализ цены в зависимости от населенного пункта</a></span><ul class=\"toc-item\"><li><span><a href=\"#Вывод\" data-toc-modified-id=\"Вывод-5.5.1\"><span class=\"toc-item-num\">5.5.1&nbsp;&nbsp;</span>Вывод</a></span></li></ul></li><li><span><a href=\"#Определение-области,-относящейся-к-центру-Санкт-Петербурга\" data-toc-modified-id=\"Определение-области,-относящейся-к-центру-Санкт-Петербурга-5.6\"><span class=\"toc-item-num\">5.6&nbsp;&nbsp;</span>Определение области, относящейся к центру Санкт-Петербурга</a></span><ul class=\"toc-item\"><li><span><a href=\"#Вывод\" data-toc-modified-id=\"Вывод-5.6.1\"><span class=\"toc-item-num\">5.6.1&nbsp;&nbsp;</span>Вывод</a></span></li></ul></li><li><span><a href=\"#Анализ-квартир,-размещенных-в-центре\" data-toc-modified-id=\"Анализ-квартир,-размещенных-в-центре-5.7\"><span class=\"toc-item-num\">5.7&nbsp;&nbsp;</span>Анализ квартир, размещенных в центре</a></span><ul class=\"toc-item\"><li><span><a href=\"#Вывод\" data-toc-modified-id=\"Вывод-5.7.1\"><span class=\"toc-item-num\">5.7.1&nbsp;&nbsp;</span>Вывод</a></span></li></ul></li></ul></li><li><span><a href=\"#Общий-вывод\" data-toc-modified-id=\"Общий-вывод-6\"><span class=\"toc-item-num\">6&nbsp;&nbsp;</span>Общий вывод</a></span></li></ul></div>"
   ]
  },
  {
   "cell_type": "markdown",
   "metadata": {},
   "source": [
    "\n",
    "## Описание исследования\n",
    "В нашем распоряжении данные сервиса Яндекс.Недвижимость — архив объявлений о продаже квартир в Санкт-Петербурге и соседних населённых пунктах за несколько лет. Нужно научиться определять рыночную стоимость объектов недвижимости. Наша задача — установить параметры. Это позволит построить автоматизированную систему: она отследит аномалии и мошенническую деятельность.\n",
    "\n",
    "По каждой квартире на продажу доступны два вида данных. Первые вписаны пользователем, вторые — получены автоматически на основе картографических данных. Например, расстояние до центра, аэропорта, ближайшего парка и водоёма.    \n",
    "_____\n",
    "### Цель исследования\n",
    "\n",
    "Провести анализ данных с целью определения параметров, влияющих на стоимость квартир, на основе которого сервис построит автоматизированную систему для отслеживания аномалий и мошеннической деятельности.\n",
    "    \n",
    "_____\n",
    "### Задачи исследования\n",
    "\n",
    "**1. Изучить общую информацию.**\n",
    "\n",
    "**2. Осуществить предобработку данных.**\n",
    "   \n",
    "   - Определить и изучить пропущенные значения.\n",
    "   \n",
    "   - Заполнить пропуски.\n",
    "  \n",
    "   - Привести данные к нужным типам.\n",
    "\n",
    "**3. Посчитать и добавить в таблицу цену квадратного метра; день недели, месяц и год публикации объявления; этаж квартиры; варианты — первый, последний, другой; соотношение жилой и общей площади, а также отношение площади кухни к общей.**\n",
    "\n",
    "**4. Провести исследовательский анализ данных.**\n",
    "   \n",
    "   - Изучить следующие параметры: площадь, цена, число комнат, высота потолков. Построить гистограммы для      каждого параметра.\n",
    "   \n",
    "   - Изучить время продажи квартиры. Построить гистограмму. Определить среднее и медиану. Описать сколько      обычно занимает продажа.\n",
    "   \n",
    "   - Убрать редкие и выбивающиеся значения. \n",
    "   \n",
    "   - Оценить какие факторы больше всего влияют на стоимость квартиры. Изучить, зависит ли цена от площади,    числа комнат, удалённости от центра. Изучить зависимость цены от того, на каком этаже расположена            квартира: первом, последнем или другом. Также изучить зависимость от даты размещения: дня недели, месяца и    года.\n",
    "   \n",
    "   - Выбрать 10 населённых пунктов с наибольшим числом объявлений. Посчитать среднюю цену квадратного метра    в этих населённых пунктах. Выделить населённые пункты с самой высокой и низкой стоимостью жилья. \n",
    "   \n",
    "   - Выделить квартиры в Санкт-Петербурге (locality_name). Выяснить, какая область входит в центр. Создать    столбец с расстоянием до центра в километрах и посчитайть среднюю цену для каждого километра. Постройте      график: он должен показывать, как цена зависит от удалённости от центра. Определите границу, где график      сильно меняется, — это и будет центральная зона.\n",
    "   \n",
    "   - Выделить сегмент квартир в центре. Изучить следующие параметры: площадь, цена, число комнат, высота      потолков. Выделить факторы, которые влияют на стоимость квартиры (число комнат, этаж, удалённость от          центра, дата размещения объявления). \n",
    "\n",
    "_____\n",
    "### Исходные данные\n",
    "\n",
    "В качестве исходных данных дана таблица с 22 колонками:\n",
    "    \n",
    "`airports_nearest` — расстояние до ближайшего аэропорта в метрах (м)\n",
    "\n",
    "`balcony` — число балконов\n",
    "\n",
    "`ceiling_height` — высота потолков (м)\n",
    "\n",
    "`cityCenters_nearest` — расстояние до центра города (м)\n",
    "\n",
    "`days_exposition` — сколько дней было размещено объявление (от публикации до снятия)\n",
    "\n",
    "`first_day_exposition` — дата публикации\n",
    "\n",
    "`floor` — этаж\n",
    "\n",
    "`floors_total` — всего этажей в доме\n",
    "\n",
    "`is_apartment` — апартаменты (булев тип)\n",
    "\n",
    "`kitchen_area` — площадь кухни в квадратных метрах (м²)\n",
    "\n",
    "`last_price` — цена на момент снятия с публикации\n",
    "\n",
    "`living_area` — жилая площадь в квадратных метрах (м²)\n",
    "\n",
    "`locality_name` — название населённого пункта\n",
    "\n",
    "`open_plan` — свободная планировка (булев тип)\n",
    "\n",
    "`parks_around3000` — число парков в радиусе 3 км\n",
    "\n",
    "`parks_nearest` — расстояние до ближайшего парка (м)\n",
    "\n",
    "`ponds_around3000` — число водоёмов в радиусе 3 км\n",
    "\n",
    "`ponds_nearest` — расстояние до ближайшего водоёма (м)\n",
    "\n",
    "`rooms` — число комнат\n",
    "\n",
    "\n",
    "`studio` — квартира-студия (булев тип)\n",
    "\n",
    "`total_area` — площадь квартиры в квадратных метрах (м²)\n",
    "\n",
    "`total_images` — число фотографий квартиры в объявлении\n",
    "______\n"
   ]
  },
  {
   "cell_type": "markdown",
   "metadata": {},
   "source": [
    "## Изучение данных из файла"
   ]
  },
  {
   "cell_type": "markdown",
   "metadata": {},
   "source": [
    "### Получение общей информации"
   ]
  },
  {
   "cell_type": "markdown",
   "metadata": {},
   "source": [
    "Для начала импортируем необходимые для работы библиотеки, прочитаем файл и сохраним его в переменной `df`. \n",
    "\n",
    "Для получения общей информации о данных вызовем метод `info()` и выведем первые строки для ознакомления с таблицей."
   ]
  },
  {
   "cell_type": "code",
   "execution_count": 184,
   "metadata": {},
   "outputs": [],
   "source": [
    "import pandas as pd\n",
    "import numpy as np\n",
    "\n",
    "import calendar  \n",
    "import datetime as dt\n",
    "\n",
    "import matplotlib.pyplot as plt\n",
    "import seaborn as sns\n",
    "\n",
    "pd.options.mode.chained_assignment = None"
   ]
  },
  {
   "cell_type": "code",
   "execution_count": 185,
   "metadata": {},
   "outputs": [
    {
     "name": "stdout",
     "output_type": "stream",
     "text": [
      "<class 'pandas.core.frame.DataFrame'>\n",
      "RangeIndex: 23699 entries, 0 to 23698\n",
      "Data columns (total 22 columns):\n",
      " #   Column                Non-Null Count  Dtype  \n",
      "---  ------                --------------  -----  \n",
      " 0   total_images          23699 non-null  int64  \n",
      " 1   last_price            23699 non-null  float64\n",
      " 2   total_area            23699 non-null  float64\n",
      " 3   first_day_exposition  23699 non-null  object \n",
      " 4   rooms                 23699 non-null  int64  \n",
      " 5   ceiling_height        14504 non-null  float64\n",
      " 6   floors_total          23613 non-null  float64\n",
      " 7   living_area           21796 non-null  float64\n",
      " 8   floor                 23699 non-null  int64  \n",
      " 9   is_apartment          2775 non-null   object \n",
      " 10  studio                23699 non-null  bool   \n",
      " 11  open_plan             23699 non-null  bool   \n",
      " 12  kitchen_area          21421 non-null  float64\n",
      " 13  balcony               12180 non-null  float64\n",
      " 14  locality_name         23650 non-null  object \n",
      " 15  airports_nearest      18157 non-null  float64\n",
      " 16  cityCenters_nearest   18180 non-null  float64\n",
      " 17  parks_around3000      18181 non-null  float64\n",
      " 18  parks_nearest         8079 non-null   float64\n",
      " 19  ponds_around3000      18181 non-null  float64\n",
      " 20  ponds_nearest         9110 non-null   float64\n",
      " 21  days_exposition       20518 non-null  float64\n",
      "dtypes: bool(2), float64(14), int64(3), object(3)\n",
      "memory usage: 3.7+ MB\n"
     ]
    },
    {
     "data": {
      "text/html": [
       "<div>\n",
       "<style scoped>\n",
       "    .dataframe tbody tr th:only-of-type {\n",
       "        vertical-align: middle;\n",
       "    }\n",
       "\n",
       "    .dataframe tbody tr th {\n",
       "        vertical-align: top;\n",
       "    }\n",
       "\n",
       "    .dataframe thead th {\n",
       "        text-align: right;\n",
       "    }\n",
       "</style>\n",
       "<table border=\"1\" class=\"dataframe\">\n",
       "  <thead>\n",
       "    <tr style=\"text-align: right;\">\n",
       "      <th></th>\n",
       "      <th>total_images</th>\n",
       "      <th>last_price</th>\n",
       "      <th>total_area</th>\n",
       "      <th>first_day_exposition</th>\n",
       "      <th>rooms</th>\n",
       "      <th>ceiling_height</th>\n",
       "      <th>floors_total</th>\n",
       "      <th>living_area</th>\n",
       "      <th>floor</th>\n",
       "      <th>is_apartment</th>\n",
       "      <th>studio</th>\n",
       "      <th>open_plan</th>\n",
       "      <th>kitchen_area</th>\n",
       "      <th>balcony</th>\n",
       "      <th>locality_name</th>\n",
       "      <th>airports_nearest</th>\n",
       "      <th>cityCenters_nearest</th>\n",
       "      <th>parks_around3000</th>\n",
       "      <th>parks_nearest</th>\n",
       "      <th>ponds_around3000</th>\n",
       "      <th>ponds_nearest</th>\n",
       "      <th>days_exposition</th>\n",
       "    </tr>\n",
       "  </thead>\n",
       "  <tbody>\n",
       "    <tr>\n",
       "      <th>0</th>\n",
       "      <td>20</td>\n",
       "      <td>13000000.0</td>\n",
       "      <td>108.0</td>\n",
       "      <td>2019-03-07T00:00:00</td>\n",
       "      <td>3</td>\n",
       "      <td>2.70</td>\n",
       "      <td>16.0</td>\n",
       "      <td>51.0</td>\n",
       "      <td>8</td>\n",
       "      <td>NaN</td>\n",
       "      <td>False</td>\n",
       "      <td>False</td>\n",
       "      <td>25.0</td>\n",
       "      <td>NaN</td>\n",
       "      <td>Санкт-Петербург</td>\n",
       "      <td>18863.0</td>\n",
       "      <td>16028.0</td>\n",
       "      <td>1.0</td>\n",
       "      <td>482.0</td>\n",
       "      <td>2.0</td>\n",
       "      <td>755.0</td>\n",
       "      <td>NaN</td>\n",
       "    </tr>\n",
       "    <tr>\n",
       "      <th>1</th>\n",
       "      <td>7</td>\n",
       "      <td>3350000.0</td>\n",
       "      <td>40.4</td>\n",
       "      <td>2018-12-04T00:00:00</td>\n",
       "      <td>1</td>\n",
       "      <td>NaN</td>\n",
       "      <td>11.0</td>\n",
       "      <td>18.6</td>\n",
       "      <td>1</td>\n",
       "      <td>NaN</td>\n",
       "      <td>False</td>\n",
       "      <td>False</td>\n",
       "      <td>11.0</td>\n",
       "      <td>2.0</td>\n",
       "      <td>посёлок Шушары</td>\n",
       "      <td>12817.0</td>\n",
       "      <td>18603.0</td>\n",
       "      <td>0.0</td>\n",
       "      <td>NaN</td>\n",
       "      <td>0.0</td>\n",
       "      <td>NaN</td>\n",
       "      <td>81.0</td>\n",
       "    </tr>\n",
       "    <tr>\n",
       "      <th>2</th>\n",
       "      <td>10</td>\n",
       "      <td>5196000.0</td>\n",
       "      <td>56.0</td>\n",
       "      <td>2015-08-20T00:00:00</td>\n",
       "      <td>2</td>\n",
       "      <td>NaN</td>\n",
       "      <td>5.0</td>\n",
       "      <td>34.3</td>\n",
       "      <td>4</td>\n",
       "      <td>NaN</td>\n",
       "      <td>False</td>\n",
       "      <td>False</td>\n",
       "      <td>8.3</td>\n",
       "      <td>0.0</td>\n",
       "      <td>Санкт-Петербург</td>\n",
       "      <td>21741.0</td>\n",
       "      <td>13933.0</td>\n",
       "      <td>1.0</td>\n",
       "      <td>90.0</td>\n",
       "      <td>2.0</td>\n",
       "      <td>574.0</td>\n",
       "      <td>558.0</td>\n",
       "    </tr>\n",
       "    <tr>\n",
       "      <th>3</th>\n",
       "      <td>0</td>\n",
       "      <td>64900000.0</td>\n",
       "      <td>159.0</td>\n",
       "      <td>2015-07-24T00:00:00</td>\n",
       "      <td>3</td>\n",
       "      <td>NaN</td>\n",
       "      <td>14.0</td>\n",
       "      <td>NaN</td>\n",
       "      <td>9</td>\n",
       "      <td>NaN</td>\n",
       "      <td>False</td>\n",
       "      <td>False</td>\n",
       "      <td>NaN</td>\n",
       "      <td>0.0</td>\n",
       "      <td>Санкт-Петербург</td>\n",
       "      <td>28098.0</td>\n",
       "      <td>6800.0</td>\n",
       "      <td>2.0</td>\n",
       "      <td>84.0</td>\n",
       "      <td>3.0</td>\n",
       "      <td>234.0</td>\n",
       "      <td>424.0</td>\n",
       "    </tr>\n",
       "    <tr>\n",
       "      <th>4</th>\n",
       "      <td>2</td>\n",
       "      <td>10000000.0</td>\n",
       "      <td>100.0</td>\n",
       "      <td>2018-06-19T00:00:00</td>\n",
       "      <td>2</td>\n",
       "      <td>3.03</td>\n",
       "      <td>14.0</td>\n",
       "      <td>32.0</td>\n",
       "      <td>13</td>\n",
       "      <td>NaN</td>\n",
       "      <td>False</td>\n",
       "      <td>False</td>\n",
       "      <td>41.0</td>\n",
       "      <td>NaN</td>\n",
       "      <td>Санкт-Петербург</td>\n",
       "      <td>31856.0</td>\n",
       "      <td>8098.0</td>\n",
       "      <td>2.0</td>\n",
       "      <td>112.0</td>\n",
       "      <td>1.0</td>\n",
       "      <td>48.0</td>\n",
       "      <td>121.0</td>\n",
       "    </tr>\n",
       "  </tbody>\n",
       "</table>\n",
       "</div>"
      ],
      "text/plain": [
       "   total_images  last_price  total_area first_day_exposition  rooms  \\\n",
       "0            20  13000000.0       108.0  2019-03-07T00:00:00      3   \n",
       "1             7   3350000.0        40.4  2018-12-04T00:00:00      1   \n",
       "2            10   5196000.0        56.0  2015-08-20T00:00:00      2   \n",
       "3             0  64900000.0       159.0  2015-07-24T00:00:00      3   \n",
       "4             2  10000000.0       100.0  2018-06-19T00:00:00      2   \n",
       "\n",
       "   ceiling_height  floors_total  living_area  floor is_apartment  studio  \\\n",
       "0            2.70          16.0         51.0      8          NaN   False   \n",
       "1             NaN          11.0         18.6      1          NaN   False   \n",
       "2             NaN           5.0         34.3      4          NaN   False   \n",
       "3             NaN          14.0          NaN      9          NaN   False   \n",
       "4            3.03          14.0         32.0     13          NaN   False   \n",
       "\n",
       "   open_plan  kitchen_area  balcony    locality_name  airports_nearest  \\\n",
       "0      False          25.0      NaN  Санкт-Петербург           18863.0   \n",
       "1      False          11.0      2.0   посёлок Шушары           12817.0   \n",
       "2      False           8.3      0.0  Санкт-Петербург           21741.0   \n",
       "3      False           NaN      0.0  Санкт-Петербург           28098.0   \n",
       "4      False          41.0      NaN  Санкт-Петербург           31856.0   \n",
       "\n",
       "   cityCenters_nearest  parks_around3000  parks_nearest  ponds_around3000  \\\n",
       "0              16028.0               1.0          482.0               2.0   \n",
       "1              18603.0               0.0            NaN               0.0   \n",
       "2              13933.0               1.0           90.0               2.0   \n",
       "3               6800.0               2.0           84.0               3.0   \n",
       "4               8098.0               2.0          112.0               1.0   \n",
       "\n",
       "   ponds_nearest  days_exposition  \n",
       "0          755.0              NaN  \n",
       "1            NaN             81.0  \n",
       "2          574.0            558.0  \n",
       "3          234.0            424.0  \n",
       "4           48.0            121.0  "
      ]
     },
     "metadata": {},
     "output_type": "display_data"
    }
   ],
   "source": [
    "df = pd.read_csv('/datasets/real_estate_data.csv', sep = '\\t')\n",
    "\n",
    "df.info()\n",
    "display(df.head())"
   ]
  },
  {
   "cell_type": "markdown",
   "metadata": {},
   "source": [
    "### Вывод"
   ]
  },
  {
   "cell_type": "markdown",
   "metadata": {},
   "source": [
    "* Из полученной общей информации видно, что пропуски встречаются в 14 столбцах. В дальнейшем часть пропусков необходимо будет заполнить в тех случаях, где можно предположить логичную замену.\n",
    "\n",
    "\n",
    "* Данные в таблице встречаются 4 различных типов: целые, вещественные, логические и тексовые значения. В некоторых столбцах необходимо будет произвести замену типов данных на целый, где целые данные представлены вещественными значениями: данные об общем количестве этажей `floors_total`, количество балконов `balcony`, число парков `parks_around3000` и прудов `ponds_around3000`в радиусе 3 км от дома и количество дней, в течение которых было размещено объявление, `days_exposition`.\n",
    "\n",
    "\n",
    "* Предварительно можно утверждать, что, данных достаточно для выполнения расчетов. Но чтобы двигаться дальше, нужно устранить проблемы в данных, то есть выполнить их предобработку."
   ]
  },
  {
   "cell_type": "markdown",
   "metadata": {},
   "source": [
    "## Предобработка данных"
   ]
  },
  {
   "cell_type": "markdown",
   "metadata": {},
   "source": [
    "### Поиск аномальных значений"
   ]
  },
  {
   "cell_type": "markdown",
   "metadata": {},
   "source": [
    "Перед тем, как приступать к работе с пропущенными данными, проанализируем выбивающиеся значения, чтобы при заполнении пропусков средними значениями в дальнейшем результаты были корректными."
   ]
  },
  {
   "cell_type": "markdown",
   "metadata": {},
   "source": [
    "Выведем минимальные и максимальные значения, содержащиеся в каждом столбце, для поиска аномальных значений. "
   ]
  },
  {
   "cell_type": "code",
   "execution_count": 186,
   "metadata": {},
   "outputs": [
    {
     "data": {
      "text/html": [
       "<div>\n",
       "<style scoped>\n",
       "    .dataframe tbody tr th:only-of-type {\n",
       "        vertical-align: middle;\n",
       "    }\n",
       "\n",
       "    .dataframe tbody tr th {\n",
       "        vertical-align: top;\n",
       "    }\n",
       "\n",
       "    .dataframe thead th {\n",
       "        text-align: right;\n",
       "    }\n",
       "</style>\n",
       "<table border=\"1\" class=\"dataframe\">\n",
       "  <thead>\n",
       "    <tr style=\"text-align: right;\">\n",
       "      <th></th>\n",
       "      <th>total_images</th>\n",
       "      <th>last_price</th>\n",
       "      <th>total_area</th>\n",
       "      <th>rooms</th>\n",
       "      <th>ceiling_height</th>\n",
       "      <th>floors_total</th>\n",
       "      <th>living_area</th>\n",
       "      <th>floor</th>\n",
       "      <th>kitchen_area</th>\n",
       "      <th>balcony</th>\n",
       "      <th>airports_nearest</th>\n",
       "      <th>cityCenters_nearest</th>\n",
       "      <th>parks_around3000</th>\n",
       "      <th>parks_nearest</th>\n",
       "      <th>ponds_around3000</th>\n",
       "      <th>ponds_nearest</th>\n",
       "      <th>days_exposition</th>\n",
       "    </tr>\n",
       "  </thead>\n",
       "  <tbody>\n",
       "    <tr>\n",
       "      <th>min</th>\n",
       "      <td>0.0</td>\n",
       "      <td>12190.0</td>\n",
       "      <td>12.0</td>\n",
       "      <td>0.0</td>\n",
       "      <td>1.0</td>\n",
       "      <td>1.0</td>\n",
       "      <td>2.0</td>\n",
       "      <td>1.0</td>\n",
       "      <td>1.3</td>\n",
       "      <td>0.0</td>\n",
       "      <td>0.0</td>\n",
       "      <td>181.0</td>\n",
       "      <td>0.0</td>\n",
       "      <td>1.0</td>\n",
       "      <td>0.0</td>\n",
       "      <td>13.0</td>\n",
       "      <td>1.0</td>\n",
       "    </tr>\n",
       "    <tr>\n",
       "      <th>max</th>\n",
       "      <td>50.0</td>\n",
       "      <td>763000000.0</td>\n",
       "      <td>900.0</td>\n",
       "      <td>19.0</td>\n",
       "      <td>100.0</td>\n",
       "      <td>60.0</td>\n",
       "      <td>409.7</td>\n",
       "      <td>33.0</td>\n",
       "      <td>112.0</td>\n",
       "      <td>5.0</td>\n",
       "      <td>84869.0</td>\n",
       "      <td>65968.0</td>\n",
       "      <td>3.0</td>\n",
       "      <td>3190.0</td>\n",
       "      <td>3.0</td>\n",
       "      <td>1344.0</td>\n",
       "      <td>1580.0</td>\n",
       "    </tr>\n",
       "  </tbody>\n",
       "</table>\n",
       "</div>"
      ],
      "text/plain": [
       "     total_images   last_price  total_area  rooms  ceiling_height  \\\n",
       "min           0.0      12190.0        12.0    0.0             1.0   \n",
       "max          50.0  763000000.0       900.0   19.0           100.0   \n",
       "\n",
       "     floors_total  living_area  floor  kitchen_area  balcony  \\\n",
       "min           1.0          2.0    1.0           1.3      0.0   \n",
       "max          60.0        409.7   33.0         112.0      5.0   \n",
       "\n",
       "     airports_nearest  cityCenters_nearest  parks_around3000  parks_nearest  \\\n",
       "min               0.0                181.0               0.0            1.0   \n",
       "max           84869.0              65968.0               3.0         3190.0   \n",
       "\n",
       "     ponds_around3000  ponds_nearest  days_exposition  \n",
       "min               0.0           13.0              1.0  \n",
       "max               3.0         1344.0           1580.0  "
      ]
     },
     "metadata": {},
     "output_type": "display_data"
    }
   ],
   "source": [
    "pd.set_option('display.max_columns', None)\n",
    "display(df.describe().loc[['min', 'max']])"
   ]
  },
  {
   "cell_type": "markdown",
   "metadata": {},
   "source": [
    "Из полученных значений видно, что встречаются объявления, где число комнат равно 0 - либо пользователи не указали количество комнат, либо данные квартиры являются студиями или имеют свободную планировку. \n",
    "\n",
    "Чтобы это проверить, сравним количество объявлений, где число комнат соответвует 0, и число объявлений, в которых 0 комнат и тип квартиры студия или имеется открытая планировка. \n",
    "\n"
   ]
  },
  {
   "cell_type": "code",
   "execution_count": 187,
   "metadata": {},
   "outputs": [
    {
     "name": "stdout",
     "output_type": "stream",
     "text": [
      "Число объявлений, в которых указано 0 комнат, открытая планировка или квартира является студией:\n",
      "197\n"
     ]
    }
   ],
   "source": [
    "print('Число объявлений, в которых указано 0 комнат, открытая планировка или квартира является студией:')\n",
    "print(df[(df['rooms'] == 0) & ((df['studio']==True)| (df['open_plan']==True))]['rooms'].count())"
   ]
  },
  {
   "cell_type": "code",
   "execution_count": 188,
   "metadata": {},
   "outputs": [
    {
     "name": "stdout",
     "output_type": "stream",
     "text": [
      "Число объявлений, в которых указано 0 комнат:\n",
      "197\n"
     ]
    }
   ],
   "source": [
    "print('Число объявлений, в которых указано 0 комнат:')\n",
    "print(df[df['rooms']==0]['rooms'].count())"
   ]
  },
  {
   "cell_type": "markdown",
   "metadata": {},
   "source": [
    "Количество объявлений в обоих случаях совпадают, значит количество комнат во всех объявлениях указано корректно.\n",
    "\n",
    "Помимо этого видно, что высота потолков в некоторых случаях имеет нереалистичные значения (минимум - 1 метр, максимум - 100 м).\n",
    "В общих случаях минимальные значения высоты потолков встречаются в квартирах-хрущевках и составляют от 2,45м до 2,6м.\n",
    "Максимальные значения высоты потолков в встречаются в квартирах-сталинках и составляют до 3,5 м. \n",
    "Исключение - пентхаусы, где высота увеличивается до 12 м.\n",
    "\n",
    "Поэтому вручную выделим диапазон значений от 2,45 до 3,5 м и определим, какое количество объявлений в этот диапазон не входят."
   ]
  },
  {
   "cell_type": "code",
   "execution_count": 189,
   "metadata": {},
   "outputs": [
    {
     "name": "stdout",
     "output_type": "stream",
     "text": [
      "348\n"
     ]
    }
   ],
   "source": [
    "print(df[(df['ceiling_height']<2.45) | (df['ceiling_height']>3.5)]['ceiling_height'].count())"
   ]
  },
  {
   "cell_type": "markdown",
   "metadata": {},
   "source": [
    "Получаем, что количество объявлений с указанной нестандартной высотой потолка - 348, что составляет 1,5% от общего числа объявлений. \n",
    "\n",
    "Хотя их число небольшое, даже такое количество аномальных значений может оказать большое влияние на расчет медианных значений высот потолка на следующем этапе при заполнении пропусков. Поэтому пропуски в этом столбце заполняться медианными значениями не будут."
   ]
  },
  {
   "cell_type": "markdown",
   "metadata": {},
   "source": [
    "#### Вывод"
   ]
  },
  {
   "cell_type": "markdown",
   "metadata": {},
   "source": [
    "Проанализировав исходные данные, получили, что аномально низкие и высокие значения встречаются в нескольких столбцах.\n",
    "Так как в столбцах, данные которых понадобятся при осуществлении предобработки данных, количество аномальных значений небольшое, оставляем их без изменений."
   ]
  },
  {
   "cell_type": "markdown",
   "metadata": {},
   "source": [
    "### Определение пропущенных значений"
   ]
  },
  {
   "cell_type": "markdown",
   "metadata": {},
   "source": [
    "Для начала подсчитаем количество пропусков. "
   ]
  },
  {
   "cell_type": "code",
   "execution_count": 190,
   "metadata": {},
   "outputs": [
    {
     "name": "stdout",
     "output_type": "stream",
     "text": [
      "total_images             0.000000\n",
      "last_price               0.000000\n",
      "total_area               0.000000\n",
      "first_day_exposition     0.000000\n",
      "rooms                    0.000000\n",
      "ceiling_height          38.799105\n",
      "floors_total             0.362885\n",
      "living_area              8.029875\n",
      "floor                    0.000000\n",
      "is_apartment            88.290645\n",
      "studio                   0.000000\n",
      "open_plan                0.000000\n",
      "kitchen_area             9.612220\n",
      "balcony                 48.605426\n",
      "locality_name            0.206760\n",
      "airports_nearest        23.384953\n",
      "cityCenters_nearest     23.287902\n",
      "parks_around3000        23.283683\n",
      "parks_nearest           65.909954\n",
      "ponds_around3000        23.283683\n",
      "ponds_nearest           61.559559\n",
      "days_exposition         13.422507\n",
      "dtype: float64\n"
     ]
    }
   ],
   "source": [
    "print(df.isna().mean()*100) "
   ]
  },
  {
   "cell_type": "markdown",
   "metadata": {},
   "source": [
    "#### Вывод"
   ]
  },
  {
   "cell_type": "markdown",
   "metadata": {},
   "source": [
    "Анализируя полученную информацию, видим, что пропуски встречаются в 14 столбцах.\n",
    "\n",
    "Наиболее вероятно, что пропуски появились вследствие того, что пользователи при формировании объявлений по какой-то причине (забыли, не захотели указывать информацию и т.д.) не внесли данные о квартире и доме в необязательные для заполнения поля.\n",
    "Заполнять пропуски будем следующим образом:\n",
    "\n",
    "* `ceiling_height`- данные о высоте потолков заменим медианными значениями.\n",
    "\n",
    "* `floors_total`- заполнять данные об общем количестве этажей в доме средними значениями было бы некорректно, а с учетом того, что эта информация в дальнейших расчетах и анализе нам не понадобится, пропуски оставим без изменений.\n",
    "\n",
    "* `living_area`- жилую площадь можно расчитать как разность общей площади (эта информация заполнена по всем объявлениям) и площади кухни. \n",
    "Для объявлений, в которых нет информации ни по размеру жилой площади, ни по площади кухни, пропуски можно было бы заполнить медианными значениями для выделенной категории жилья. Но тут можно столкнуться с тем, что медианное значение жилой площади в большом количестве случаев оказывается больше общей площади, что не только нелогично, но и искажает данные. Поэтому в этих случаях пропуски оставим.\n",
    "\n",
    "* `kitchen_area`- тут пропуски будем заполнять аналогично предыдущему пункту.\n",
    "\n",
    "* `is_apartment`- если данные не заполнены в этом случае, то логично было бы предположить, что такие квартиры не являются апартаментами. Пропуски в этом столбце будем заменять на `False`.\n",
    "\n",
    "* `balcony` если данные не заполнены в этом случае, то логично было бы предположить, что в этих квартирах нет балконов. Пропуски в этом столбце будем заменять на **0**.\n",
    "\n",
    "* `locality_name`- данные пропуски можно было бы заполнить исходя из информации о расстоянии до центра города и до ближайшего аэропорта. Название населенного пункта для такого объявления можно принять такое же, как для квартиры размещенной примерно в той же локации. \n",
    "В нашем случае нам может не хватить данных о расстоянии до центра города или до ближайшего аэропорта, а с учетом того, что количество объявлений с пропусками в названиях населенного пункта небольшое и составляет меньше половины процента от общего количества объявлений, целесообразнее будет в пропуски вписать вместо названия населенного пункта **\"Нет данных\"**. \n",
    "\n",
    "* `airports_nearest` - в этом случае оставим пропуски, как есть, так как расстояние зависит от конкретного адреса, где находится квартира.\n",
    "\n",
    "* `cityCenters_nearest`- в этом случае оставим пропуски, как есть, так как расстояние зависит от конкретного адреса, где находится квартира.\n",
    "\n",
    "* `parks_around3000` - так как данные нам не понадобятся в дальнейшем анализе, оставим пропуски.\n",
    "\n",
    "* `parks_nearest`- так как данные нам не понадобятся в дальнейшем анализе, оставим пропуски.\n",
    "\n",
    "* `ponds_around3000` - так как данные нам не понадобятся в дальнейшем анализе, оставим пропуски.\n",
    "\n",
    "* `ponds_nearest` - так как данные нам не понадобятся в дальнейшем анализе, оставим пропуски.\n",
    "\n",
    "* `days_exposition`- эти данные необходимы будут для дальнейшего анализа, но заполнять пропуски средними значениями будет некорректно, поэтому на текущем этапе пропуски оставляем."
   ]
  },
  {
   "cell_type": "markdown",
   "metadata": {},
   "source": [
    "### Заполнение пропущенных значений"
   ]
  },
  {
   "cell_type": "markdown",
   "metadata": {},
   "source": [
    "#### Заполнение пропусков в столбце  `ceiling_height` "
   ]
  },
  {
   "cell_type": "code",
   "execution_count": 191,
   "metadata": {},
   "outputs": [],
   "source": [
    "df['ceiling_height'] = df['ceiling_height'].fillna(df['ceiling_height'].median())"
   ]
  },
  {
   "cell_type": "markdown",
   "metadata": {},
   "source": [
    "#### Заполнение пропусков в столбцах `living_area` и `kitchen_area`"
   ]
  },
  {
   "cell_type": "markdown",
   "metadata": {},
   "source": [
    "Чтобы при заполнении пропусков в столбцах, содержащих информацию о жилой площади и площади кухни, учитывалась и остальная нежилая площадь поступим следующим образом:\n",
    "    \n",
    "1. Группируем  данные по комнатам. \n",
    "2. Для каждой группы вычисляем отношение медианы жилой площади к медиане общей. С кухней то же самое.\n",
    "3. Заполняем жилую также в группировке по комнатам, умножая общую площадь на полученный ранее коэффициент отношения. Кухню заполняем так же."
   ]
  },
  {
   "cell_type": "code",
   "execution_count": 192,
   "metadata": {},
   "outputs": [
    {
     "data": {
      "text/html": [
       "<div>\n",
       "<style scoped>\n",
       "    .dataframe tbody tr th:only-of-type {\n",
       "        vertical-align: middle;\n",
       "    }\n",
       "\n",
       "    .dataframe tbody tr th {\n",
       "        vertical-align: top;\n",
       "    }\n",
       "\n",
       "    .dataframe thead th {\n",
       "        text-align: right;\n",
       "    }\n",
       "</style>\n",
       "<table border=\"1\" class=\"dataframe\">\n",
       "  <thead>\n",
       "    <tr style=\"text-align: right;\">\n",
       "      <th></th>\n",
       "      <th>kitchen_area</th>\n",
       "      <th>living_area</th>\n",
       "      <th>total_area</th>\n",
       "    </tr>\n",
       "    <tr>\n",
       "      <th>rooms</th>\n",
       "      <th></th>\n",
       "      <th></th>\n",
       "      <th></th>\n",
       "    </tr>\n",
       "  </thead>\n",
       "  <tbody>\n",
       "    <tr>\n",
       "      <th>0</th>\n",
       "      <td>0.00</td>\n",
       "      <td>18.000</td>\n",
       "      <td>26.05</td>\n",
       "    </tr>\n",
       "    <tr>\n",
       "      <th>1</th>\n",
       "      <td>9.04</td>\n",
       "      <td>17.600</td>\n",
       "      <td>36.56</td>\n",
       "    </tr>\n",
       "    <tr>\n",
       "      <th>2</th>\n",
       "      <td>8.80</td>\n",
       "      <td>30.500</td>\n",
       "      <td>53.00</td>\n",
       "    </tr>\n",
       "    <tr>\n",
       "      <th>3</th>\n",
       "      <td>9.50</td>\n",
       "      <td>45.000</td>\n",
       "      <td>73.00</td>\n",
       "    </tr>\n",
       "    <tr>\n",
       "      <th>4</th>\n",
       "      <td>11.10</td>\n",
       "      <td>63.600</td>\n",
       "      <td>99.30</td>\n",
       "    </tr>\n",
       "    <tr>\n",
       "      <th>5</th>\n",
       "      <td>15.10</td>\n",
       "      <td>91.785</td>\n",
       "      <td>146.45</td>\n",
       "    </tr>\n",
       "    <tr>\n",
       "      <th>6</th>\n",
       "      <td>19.50</td>\n",
       "      <td>123.900</td>\n",
       "      <td>184.30</td>\n",
       "    </tr>\n",
       "    <tr>\n",
       "      <th>7</th>\n",
       "      <td>20.00</td>\n",
       "      <td>145.000</td>\n",
       "      <td>214.00</td>\n",
       "    </tr>\n",
       "    <tr>\n",
       "      <th>8</th>\n",
       "      <td>25.00</td>\n",
       "      <td>161.000</td>\n",
       "      <td>235.70</td>\n",
       "    </tr>\n",
       "    <tr>\n",
       "      <th>9</th>\n",
       "      <td>14.30</td>\n",
       "      <td>179.200</td>\n",
       "      <td>300.95</td>\n",
       "    </tr>\n",
       "    <tr>\n",
       "      <th>10</th>\n",
       "      <td>19.80</td>\n",
       "      <td>161.400</td>\n",
       "      <td>272.60</td>\n",
       "    </tr>\n",
       "    <tr>\n",
       "      <th>11</th>\n",
       "      <td>12.60</td>\n",
       "      <td>133.900</td>\n",
       "      <td>188.90</td>\n",
       "    </tr>\n",
       "    <tr>\n",
       "      <th>12</th>\n",
       "      <td>112.00</td>\n",
       "      <td>409.700</td>\n",
       "      <td>900.00</td>\n",
       "    </tr>\n",
       "    <tr>\n",
       "      <th>14</th>\n",
       "      <td>21.25</td>\n",
       "      <td>195.150</td>\n",
       "      <td>304.20</td>\n",
       "    </tr>\n",
       "    <tr>\n",
       "      <th>15</th>\n",
       "      <td>100.00</td>\n",
       "      <td>409.000</td>\n",
       "      <td>590.00</td>\n",
       "    </tr>\n",
       "    <tr>\n",
       "      <th>16</th>\n",
       "      <td>13.00</td>\n",
       "      <td>180.000</td>\n",
       "      <td>270.00</td>\n",
       "    </tr>\n",
       "    <tr>\n",
       "      <th>19</th>\n",
       "      <td>27.60</td>\n",
       "      <td>264.500</td>\n",
       "      <td>374.60</td>\n",
       "    </tr>\n",
       "  </tbody>\n",
       "</table>\n",
       "</div>"
      ],
      "text/plain": [
       "       kitchen_area  living_area  total_area\n",
       "rooms                                       \n",
       "0              0.00       18.000       26.05\n",
       "1              9.04       17.600       36.56\n",
       "2              8.80       30.500       53.00\n",
       "3              9.50       45.000       73.00\n",
       "4             11.10       63.600       99.30\n",
       "5             15.10       91.785      146.45\n",
       "6             19.50      123.900      184.30\n",
       "7             20.00      145.000      214.00\n",
       "8             25.00      161.000      235.70\n",
       "9             14.30      179.200      300.95\n",
       "10            19.80      161.400      272.60\n",
       "11            12.60      133.900      188.90\n",
       "12           112.00      409.700      900.00\n",
       "14            21.25      195.150      304.20\n",
       "15           100.00      409.000      590.00\n",
       "16            13.00      180.000      270.00\n",
       "19            27.60      264.500      374.60"
      ]
     },
     "metadata": {},
     "output_type": "display_data"
    }
   ],
   "source": [
    "df_grouped = pd.pivot_table(df, index=['rooms'],\n",
    "                            values=['living_area','kitchen_area','total_area'],\n",
    "                            aggfunc='median',\n",
    "                            fill_value=0)\n",
    "display(df_grouped)"
   ]
  },
  {
   "cell_type": "code",
   "execution_count": 193,
   "metadata": {},
   "outputs": [
    {
     "data": {
      "text/html": [
       "<div>\n",
       "<style scoped>\n",
       "    .dataframe tbody tr th:only-of-type {\n",
       "        vertical-align: middle;\n",
       "    }\n",
       "\n",
       "    .dataframe tbody tr th {\n",
       "        vertical-align: top;\n",
       "    }\n",
       "\n",
       "    .dataframe thead th {\n",
       "        text-align: right;\n",
       "    }\n",
       "</style>\n",
       "<table border=\"1\" class=\"dataframe\">\n",
       "  <thead>\n",
       "    <tr style=\"text-align: right;\">\n",
       "      <th></th>\n",
       "      <th>kitchen_area</th>\n",
       "      <th>living_area</th>\n",
       "      <th>total_area</th>\n",
       "      <th>kitchen_ratio</th>\n",
       "      <th>living_ratio</th>\n",
       "    </tr>\n",
       "    <tr>\n",
       "      <th>rooms</th>\n",
       "      <th></th>\n",
       "      <th></th>\n",
       "      <th></th>\n",
       "      <th></th>\n",
       "      <th></th>\n",
       "    </tr>\n",
       "  </thead>\n",
       "  <tbody>\n",
       "    <tr>\n",
       "      <th>0</th>\n",
       "      <td>0.00</td>\n",
       "      <td>18.000</td>\n",
       "      <td>26.05</td>\n",
       "      <td>0.000000</td>\n",
       "      <td>0.690979</td>\n",
       "    </tr>\n",
       "    <tr>\n",
       "      <th>1</th>\n",
       "      <td>9.04</td>\n",
       "      <td>17.600</td>\n",
       "      <td>36.56</td>\n",
       "      <td>0.247265</td>\n",
       "      <td>0.481400</td>\n",
       "    </tr>\n",
       "    <tr>\n",
       "      <th>2</th>\n",
       "      <td>8.80</td>\n",
       "      <td>30.500</td>\n",
       "      <td>53.00</td>\n",
       "      <td>0.166038</td>\n",
       "      <td>0.575472</td>\n",
       "    </tr>\n",
       "    <tr>\n",
       "      <th>3</th>\n",
       "      <td>9.50</td>\n",
       "      <td>45.000</td>\n",
       "      <td>73.00</td>\n",
       "      <td>0.130137</td>\n",
       "      <td>0.616438</td>\n",
       "    </tr>\n",
       "    <tr>\n",
       "      <th>4</th>\n",
       "      <td>11.10</td>\n",
       "      <td>63.600</td>\n",
       "      <td>99.30</td>\n",
       "      <td>0.111782</td>\n",
       "      <td>0.640483</td>\n",
       "    </tr>\n",
       "    <tr>\n",
       "      <th>5</th>\n",
       "      <td>15.10</td>\n",
       "      <td>91.785</td>\n",
       "      <td>146.45</td>\n",
       "      <td>0.103107</td>\n",
       "      <td>0.626733</td>\n",
       "    </tr>\n",
       "    <tr>\n",
       "      <th>6</th>\n",
       "      <td>19.50</td>\n",
       "      <td>123.900</td>\n",
       "      <td>184.30</td>\n",
       "      <td>0.105806</td>\n",
       "      <td>0.672273</td>\n",
       "    </tr>\n",
       "    <tr>\n",
       "      <th>7</th>\n",
       "      <td>20.00</td>\n",
       "      <td>145.000</td>\n",
       "      <td>214.00</td>\n",
       "      <td>0.093458</td>\n",
       "      <td>0.677570</td>\n",
       "    </tr>\n",
       "    <tr>\n",
       "      <th>8</th>\n",
       "      <td>25.00</td>\n",
       "      <td>161.000</td>\n",
       "      <td>235.70</td>\n",
       "      <td>0.106067</td>\n",
       "      <td>0.683072</td>\n",
       "    </tr>\n",
       "    <tr>\n",
       "      <th>9</th>\n",
       "      <td>14.30</td>\n",
       "      <td>179.200</td>\n",
       "      <td>300.95</td>\n",
       "      <td>0.047516</td>\n",
       "      <td>0.595448</td>\n",
       "    </tr>\n",
       "    <tr>\n",
       "      <th>10</th>\n",
       "      <td>19.80</td>\n",
       "      <td>161.400</td>\n",
       "      <td>272.60</td>\n",
       "      <td>0.072634</td>\n",
       "      <td>0.592076</td>\n",
       "    </tr>\n",
       "    <tr>\n",
       "      <th>11</th>\n",
       "      <td>12.60</td>\n",
       "      <td>133.900</td>\n",
       "      <td>188.90</td>\n",
       "      <td>0.066702</td>\n",
       "      <td>0.708841</td>\n",
       "    </tr>\n",
       "    <tr>\n",
       "      <th>12</th>\n",
       "      <td>112.00</td>\n",
       "      <td>409.700</td>\n",
       "      <td>900.00</td>\n",
       "      <td>0.124444</td>\n",
       "      <td>0.455222</td>\n",
       "    </tr>\n",
       "    <tr>\n",
       "      <th>14</th>\n",
       "      <td>21.25</td>\n",
       "      <td>195.150</td>\n",
       "      <td>304.20</td>\n",
       "      <td>0.069855</td>\n",
       "      <td>0.641519</td>\n",
       "    </tr>\n",
       "    <tr>\n",
       "      <th>15</th>\n",
       "      <td>100.00</td>\n",
       "      <td>409.000</td>\n",
       "      <td>590.00</td>\n",
       "      <td>0.169492</td>\n",
       "      <td>0.693220</td>\n",
       "    </tr>\n",
       "    <tr>\n",
       "      <th>16</th>\n",
       "      <td>13.00</td>\n",
       "      <td>180.000</td>\n",
       "      <td>270.00</td>\n",
       "      <td>0.048148</td>\n",
       "      <td>0.666667</td>\n",
       "    </tr>\n",
       "    <tr>\n",
       "      <th>19</th>\n",
       "      <td>27.60</td>\n",
       "      <td>264.500</td>\n",
       "      <td>374.60</td>\n",
       "      <td>0.073679</td>\n",
       "      <td>0.706086</td>\n",
       "    </tr>\n",
       "  </tbody>\n",
       "</table>\n",
       "</div>"
      ],
      "text/plain": [
       "       kitchen_area  living_area  total_area  kitchen_ratio  living_ratio\n",
       "rooms                                                                    \n",
       "0              0.00       18.000       26.05       0.000000      0.690979\n",
       "1              9.04       17.600       36.56       0.247265      0.481400\n",
       "2              8.80       30.500       53.00       0.166038      0.575472\n",
       "3              9.50       45.000       73.00       0.130137      0.616438\n",
       "4             11.10       63.600       99.30       0.111782      0.640483\n",
       "5             15.10       91.785      146.45       0.103107      0.626733\n",
       "6             19.50      123.900      184.30       0.105806      0.672273\n",
       "7             20.00      145.000      214.00       0.093458      0.677570\n",
       "8             25.00      161.000      235.70       0.106067      0.683072\n",
       "9             14.30      179.200      300.95       0.047516      0.595448\n",
       "10            19.80      161.400      272.60       0.072634      0.592076\n",
       "11            12.60      133.900      188.90       0.066702      0.708841\n",
       "12           112.00      409.700      900.00       0.124444      0.455222\n",
       "14            21.25      195.150      304.20       0.069855      0.641519\n",
       "15           100.00      409.000      590.00       0.169492      0.693220\n",
       "16            13.00      180.000      270.00       0.048148      0.666667\n",
       "19            27.60      264.500      374.60       0.073679      0.706086"
      ]
     },
     "metadata": {},
     "output_type": "display_data"
    }
   ],
   "source": [
    "df_grouped['kitchen_ratio'] = df_grouped['kitchen_area'] / df_grouped['total_area']\n",
    "df_grouped['living_ratio'] = df_grouped['living_area'] / df_grouped['total_area']\n",
    "\n",
    "display(df_grouped)"
   ]
  },
  {
   "cell_type": "code",
   "execution_count": 194,
   "metadata": {},
   "outputs": [],
   "source": [
    "def living_area(row):                                \n",
    "    total_area = row['total_area']\n",
    "    living_area = row['living_area']\n",
    "    rooms = row['rooms']\n",
    "    \n",
    "    if np.isnan(living_area) == True:\n",
    "        living_area = total_area * (df_grouped['living_ratio'][rooms])\n",
    "        return living_area\n",
    "    else:\n",
    "        return living_area\n",
    "\n",
    "    \n",
    "def kitchen_area(row):                               \n",
    "    total_area = row['total_area']\n",
    "    kitchen_area = row['kitchen_area']\n",
    "    rooms = row['rooms']\n",
    "    \n",
    "    if np.isnan(kitchen_area) == True:\n",
    "        kitchen_area = total_area * (df_grouped['kitchen_ratio'][rooms])\n",
    "        return kitchen_area\n",
    "    else:\n",
    "        return kitchen_area"
   ]
  },
  {
   "cell_type": "code",
   "execution_count": 195,
   "metadata": {},
   "outputs": [],
   "source": [
    "df['living_area'] = df.apply(living_area, axis = 1)  \n",
    "df['kitchen_area'] = df.apply(kitchen_area, axis = 1)  "
   ]
  },
  {
   "cell_type": "code",
   "execution_count": 196,
   "metadata": {},
   "outputs": [
    {
     "data": {
      "text/html": [
       "<div>\n",
       "<style scoped>\n",
       "    .dataframe tbody tr th:only-of-type {\n",
       "        vertical-align: middle;\n",
       "    }\n",
       "\n",
       "    .dataframe tbody tr th {\n",
       "        vertical-align: top;\n",
       "    }\n",
       "\n",
       "    .dataframe thead th {\n",
       "        text-align: right;\n",
       "    }\n",
       "</style>\n",
       "<table border=\"1\" class=\"dataframe\">\n",
       "  <thead>\n",
       "    <tr style=\"text-align: right;\">\n",
       "      <th></th>\n",
       "      <th>total_images</th>\n",
       "      <th>last_price</th>\n",
       "      <th>total_area</th>\n",
       "      <th>first_day_exposition</th>\n",
       "      <th>rooms</th>\n",
       "      <th>ceiling_height</th>\n",
       "      <th>floors_total</th>\n",
       "      <th>living_area</th>\n",
       "      <th>floor</th>\n",
       "      <th>is_apartment</th>\n",
       "      <th>studio</th>\n",
       "      <th>open_plan</th>\n",
       "      <th>kitchen_area</th>\n",
       "      <th>balcony</th>\n",
       "      <th>locality_name</th>\n",
       "      <th>airports_nearest</th>\n",
       "      <th>cityCenters_nearest</th>\n",
       "      <th>parks_around3000</th>\n",
       "      <th>parks_nearest</th>\n",
       "      <th>ponds_around3000</th>\n",
       "      <th>ponds_nearest</th>\n",
       "      <th>days_exposition</th>\n",
       "    </tr>\n",
       "  </thead>\n",
       "  <tbody>\n",
       "    <tr>\n",
       "      <th>0</th>\n",
       "      <td>20</td>\n",
       "      <td>13000000.0</td>\n",
       "      <td>108.0</td>\n",
       "      <td>2019-03-07T00:00:00</td>\n",
       "      <td>3</td>\n",
       "      <td>2.70</td>\n",
       "      <td>16.0</td>\n",
       "      <td>51.000000</td>\n",
       "      <td>8</td>\n",
       "      <td>NaN</td>\n",
       "      <td>False</td>\n",
       "      <td>False</td>\n",
       "      <td>25.000000</td>\n",
       "      <td>NaN</td>\n",
       "      <td>Санкт-Петербург</td>\n",
       "      <td>18863.0</td>\n",
       "      <td>16028.0</td>\n",
       "      <td>1.0</td>\n",
       "      <td>482.0</td>\n",
       "      <td>2.0</td>\n",
       "      <td>755.0</td>\n",
       "      <td>NaN</td>\n",
       "    </tr>\n",
       "    <tr>\n",
       "      <th>1</th>\n",
       "      <td>7</td>\n",
       "      <td>3350000.0</td>\n",
       "      <td>40.4</td>\n",
       "      <td>2018-12-04T00:00:00</td>\n",
       "      <td>1</td>\n",
       "      <td>2.65</td>\n",
       "      <td>11.0</td>\n",
       "      <td>18.600000</td>\n",
       "      <td>1</td>\n",
       "      <td>NaN</td>\n",
       "      <td>False</td>\n",
       "      <td>False</td>\n",
       "      <td>11.000000</td>\n",
       "      <td>2.0</td>\n",
       "      <td>посёлок Шушары</td>\n",
       "      <td>12817.0</td>\n",
       "      <td>18603.0</td>\n",
       "      <td>0.0</td>\n",
       "      <td>NaN</td>\n",
       "      <td>0.0</td>\n",
       "      <td>NaN</td>\n",
       "      <td>81.0</td>\n",
       "    </tr>\n",
       "    <tr>\n",
       "      <th>2</th>\n",
       "      <td>10</td>\n",
       "      <td>5196000.0</td>\n",
       "      <td>56.0</td>\n",
       "      <td>2015-08-20T00:00:00</td>\n",
       "      <td>2</td>\n",
       "      <td>2.65</td>\n",
       "      <td>5.0</td>\n",
       "      <td>34.300000</td>\n",
       "      <td>4</td>\n",
       "      <td>NaN</td>\n",
       "      <td>False</td>\n",
       "      <td>False</td>\n",
       "      <td>8.300000</td>\n",
       "      <td>0.0</td>\n",
       "      <td>Санкт-Петербург</td>\n",
       "      <td>21741.0</td>\n",
       "      <td>13933.0</td>\n",
       "      <td>1.0</td>\n",
       "      <td>90.0</td>\n",
       "      <td>2.0</td>\n",
       "      <td>574.0</td>\n",
       "      <td>558.0</td>\n",
       "    </tr>\n",
       "    <tr>\n",
       "      <th>3</th>\n",
       "      <td>0</td>\n",
       "      <td>64900000.0</td>\n",
       "      <td>159.0</td>\n",
       "      <td>2015-07-24T00:00:00</td>\n",
       "      <td>3</td>\n",
       "      <td>2.65</td>\n",
       "      <td>14.0</td>\n",
       "      <td>98.013699</td>\n",
       "      <td>9</td>\n",
       "      <td>NaN</td>\n",
       "      <td>False</td>\n",
       "      <td>False</td>\n",
       "      <td>20.691781</td>\n",
       "      <td>0.0</td>\n",
       "      <td>Санкт-Петербург</td>\n",
       "      <td>28098.0</td>\n",
       "      <td>6800.0</td>\n",
       "      <td>2.0</td>\n",
       "      <td>84.0</td>\n",
       "      <td>3.0</td>\n",
       "      <td>234.0</td>\n",
       "      <td>424.0</td>\n",
       "    </tr>\n",
       "    <tr>\n",
       "      <th>4</th>\n",
       "      <td>2</td>\n",
       "      <td>10000000.0</td>\n",
       "      <td>100.0</td>\n",
       "      <td>2018-06-19T00:00:00</td>\n",
       "      <td>2</td>\n",
       "      <td>3.03</td>\n",
       "      <td>14.0</td>\n",
       "      <td>32.000000</td>\n",
       "      <td>13</td>\n",
       "      <td>NaN</td>\n",
       "      <td>False</td>\n",
       "      <td>False</td>\n",
       "      <td>41.000000</td>\n",
       "      <td>NaN</td>\n",
       "      <td>Санкт-Петербург</td>\n",
       "      <td>31856.0</td>\n",
       "      <td>8098.0</td>\n",
       "      <td>2.0</td>\n",
       "      <td>112.0</td>\n",
       "      <td>1.0</td>\n",
       "      <td>48.0</td>\n",
       "      <td>121.0</td>\n",
       "    </tr>\n",
       "  </tbody>\n",
       "</table>\n",
       "</div>"
      ],
      "text/plain": [
       "   total_images  last_price  total_area first_day_exposition  rooms  \\\n",
       "0            20  13000000.0       108.0  2019-03-07T00:00:00      3   \n",
       "1             7   3350000.0        40.4  2018-12-04T00:00:00      1   \n",
       "2            10   5196000.0        56.0  2015-08-20T00:00:00      2   \n",
       "3             0  64900000.0       159.0  2015-07-24T00:00:00      3   \n",
       "4             2  10000000.0       100.0  2018-06-19T00:00:00      2   \n",
       "\n",
       "   ceiling_height  floors_total  living_area  floor is_apartment  studio  \\\n",
       "0            2.70          16.0    51.000000      8          NaN   False   \n",
       "1            2.65          11.0    18.600000      1          NaN   False   \n",
       "2            2.65           5.0    34.300000      4          NaN   False   \n",
       "3            2.65          14.0    98.013699      9          NaN   False   \n",
       "4            3.03          14.0    32.000000     13          NaN   False   \n",
       "\n",
       "   open_plan  kitchen_area  balcony    locality_name  airports_nearest  \\\n",
       "0      False     25.000000      NaN  Санкт-Петербург           18863.0   \n",
       "1      False     11.000000      2.0   посёлок Шушары           12817.0   \n",
       "2      False      8.300000      0.0  Санкт-Петербург           21741.0   \n",
       "3      False     20.691781      0.0  Санкт-Петербург           28098.0   \n",
       "4      False     41.000000      NaN  Санкт-Петербург           31856.0   \n",
       "\n",
       "   cityCenters_nearest  parks_around3000  parks_nearest  ponds_around3000  \\\n",
       "0              16028.0               1.0          482.0               2.0   \n",
       "1              18603.0               0.0            NaN               0.0   \n",
       "2              13933.0               1.0           90.0               2.0   \n",
       "3               6800.0               2.0           84.0               3.0   \n",
       "4               8098.0               2.0          112.0               1.0   \n",
       "\n",
       "   ponds_nearest  days_exposition  \n",
       "0          755.0              NaN  \n",
       "1            NaN             81.0  \n",
       "2          574.0            558.0  \n",
       "3          234.0            424.0  \n",
       "4           48.0            121.0  "
      ]
     },
     "metadata": {},
     "output_type": "display_data"
    }
   ],
   "source": [
    "display(df.head())"
   ]
  },
  {
   "cell_type": "markdown",
   "metadata": {},
   "source": [
    "#### Заполнение пропусков в столбце `is_apartment`"
   ]
  },
  {
   "cell_type": "markdown",
   "metadata": {},
   "source": [
    "Принимаем, что при наличии пропуска значений в этом столбце такие квартиры не являются апартаментами. Пропуски будем заменять на False."
   ]
  },
  {
   "cell_type": "code",
   "execution_count": 197,
   "metadata": {},
   "outputs": [],
   "source": [
    "df['is_apartment'] = df['is_apartment'].fillna(False)"
   ]
  },
  {
   "cell_type": "markdown",
   "metadata": {},
   "source": [
    "#### Заполнение пропусков в столбце `balcony`"
   ]
  },
  {
   "cell_type": "markdown",
   "metadata": {},
   "source": [
    "Принимаем, что при наличии пропуска значений в этом столбце балконов не имеется. Пропуски будем заменять на 0."
   ]
  },
  {
   "cell_type": "code",
   "execution_count": 198,
   "metadata": {},
   "outputs": [],
   "source": [
    "df['balcony'] = df['balcony'].fillna(0)"
   ]
  },
  {
   "cell_type": "markdown",
   "metadata": {},
   "source": [
    "#### Заполнение пропусков в столбце `locality_name `"
   ]
  },
  {
   "cell_type": "markdown",
   "metadata": {},
   "source": [
    "В столбце с наименованием населенных пунктов пропуски заполним текстом \"Нет данных\"."
   ]
  },
  {
   "cell_type": "code",
   "execution_count": 199,
   "metadata": {},
   "outputs": [],
   "source": [
    "df['locality_name'] = df['locality_name'].fillna('Нет данных')"
   ]
  },
  {
   "cell_type": "markdown",
   "metadata": {},
   "source": [
    "Снова отобразим количество пропусков после произведенных действий."
   ]
  },
  {
   "cell_type": "code",
   "execution_count": 200,
   "metadata": {},
   "outputs": [
    {
     "data": {
      "text/plain": [
       "total_images            0.000000\n",
       "last_price              0.000000\n",
       "total_area              0.000000\n",
       "first_day_exposition    0.000000\n",
       "rooms                   0.000000\n",
       "ceiling_height          0.000000\n",
       "floors_total            0.003629\n",
       "living_area             0.000000\n",
       "floor                   0.000000\n",
       "is_apartment            0.000000\n",
       "studio                  0.000000\n",
       "open_plan               0.000000\n",
       "kitchen_area            0.000000\n",
       "balcony                 0.000000\n",
       "locality_name           0.000000\n",
       "airports_nearest        0.233850\n",
       "cityCenters_nearest     0.232879\n",
       "parks_around3000        0.232837\n",
       "parks_nearest           0.659100\n",
       "ponds_around3000        0.232837\n",
       "ponds_nearest           0.615596\n",
       "days_exposition         0.134225\n",
       "dtype: float64"
      ]
     },
     "execution_count": 200,
     "metadata": {},
     "output_type": "execute_result"
    }
   ],
   "source": [
    "df.isna().mean() "
   ]
  },
  {
   "cell_type": "markdown",
   "metadata": {},
   "source": [
    "#### Вывод"
   ]
  },
  {
   "cell_type": "markdown",
   "metadata": {},
   "source": [
    "Мы произвели заполнение пропусков в 5 столбцах:\n",
    "\n",
    "* В столбце `ceiling_height` пропуски были заполнены медианными значениями.\n",
    "* В столбцах `living_area` и `kitchen_area` пропуски были заполнены произведением общей площади квартиры на коэффициент, зависящий от числа комнат в квартире и медианной общей площади.\n",
    "* В столбце `is_apartment` все пропуски были заполнены булевыми значениями **False**.  \n",
    "* В столбце `balcony` все пропуски были заполнены нулями.\n",
    "* И, наконец, в столбце `locality_name `пропуски заполнены текстом **\"Нет данных\"**."
   ]
  },
  {
   "cell_type": "markdown",
   "metadata": {},
   "source": [
    "### Приведение данных к нужным типам"
   ]
  },
  {
   "cell_type": "markdown",
   "metadata": {},
   "source": [
    "Для того чтобы понять, какие именно данные необходимо привести к другому типу, повторно выведем общую информацию."
   ]
  },
  {
   "cell_type": "code",
   "execution_count": 201,
   "metadata": {},
   "outputs": [
    {
     "name": "stdout",
     "output_type": "stream",
     "text": [
      "<class 'pandas.core.frame.DataFrame'>\n",
      "RangeIndex: 23699 entries, 0 to 23698\n",
      "Data columns (total 22 columns):\n",
      " #   Column                Non-Null Count  Dtype  \n",
      "---  ------                --------------  -----  \n",
      " 0   total_images          23699 non-null  int64  \n",
      " 1   last_price            23699 non-null  float64\n",
      " 2   total_area            23699 non-null  float64\n",
      " 3   first_day_exposition  23699 non-null  object \n",
      " 4   rooms                 23699 non-null  int64  \n",
      " 5   ceiling_height        23699 non-null  float64\n",
      " 6   floors_total          23613 non-null  float64\n",
      " 7   living_area           23699 non-null  float64\n",
      " 8   floor                 23699 non-null  int64  \n",
      " 9   is_apartment          23699 non-null  bool   \n",
      " 10  studio                23699 non-null  bool   \n",
      " 11  open_plan             23699 non-null  bool   \n",
      " 12  kitchen_area          23699 non-null  float64\n",
      " 13  balcony               23699 non-null  float64\n",
      " 14  locality_name         23699 non-null  object \n",
      " 15  airports_nearest      18157 non-null  float64\n",
      " 16  cityCenters_nearest   18180 non-null  float64\n",
      " 17  parks_around3000      18181 non-null  float64\n",
      " 18  parks_nearest         8079 non-null   float64\n",
      " 19  ponds_around3000      18181 non-null  float64\n",
      " 20  ponds_nearest         9110 non-null   float64\n",
      " 21  days_exposition       20518 non-null  float64\n",
      "dtypes: bool(3), float64(14), int64(3), object(2)\n",
      "memory usage: 3.5+ MB\n"
     ]
    }
   ],
   "source": [
    "df.info()"
   ]
  },
  {
   "cell_type": "markdown",
   "metadata": {},
   "source": [
    "Данные об общем количестве этажей в доме, количестве балконов являются целыми, но записаны в формате вещественных данных, поэтому в этих стобцах можно было бы произвести замену типа данных на целый. Так как в части столбцов имеются NaN, замену типа данных на целый произведем только в столбце `balcony`.\n",
    "\n",
    "В столбце `last_price` данные представлены достаточно большим значениями, поэтому для удобства может тип данных также заменить на целый."
   ]
  },
  {
   "cell_type": "code",
   "execution_count": 202,
   "metadata": {},
   "outputs": [],
   "source": [
    "df['last_price'] = df['last_price'].astype('int')\n",
    "df['balcony'] = df['balcony'].astype('int')"
   ]
  },
  {
   "cell_type": "markdown",
   "metadata": {},
   "source": [
    "Также заменим тип данных в колонке с датами публикации объявлений:"
   ]
  },
  {
   "cell_type": "code",
   "execution_count": 203,
   "metadata": {},
   "outputs": [],
   "source": [
    "df['first_day_exposition'] = pd.to_datetime(df['first_day_exposition'], format='%Y-%m-%dT%H:%M:%S')"
   ]
  },
  {
   "cell_type": "code",
   "execution_count": 204,
   "metadata": {},
   "outputs": [
    {
     "name": "stdout",
     "output_type": "stream",
     "text": [
      "<class 'pandas.core.frame.DataFrame'>\n",
      "RangeIndex: 23699 entries, 0 to 23698\n",
      "Data columns (total 22 columns):\n",
      " #   Column                Non-Null Count  Dtype         \n",
      "---  ------                --------------  -----         \n",
      " 0   total_images          23699 non-null  int64         \n",
      " 1   last_price            23699 non-null  int64         \n",
      " 2   total_area            23699 non-null  float64       \n",
      " 3   first_day_exposition  23699 non-null  datetime64[ns]\n",
      " 4   rooms                 23699 non-null  int64         \n",
      " 5   ceiling_height        23699 non-null  float64       \n",
      " 6   floors_total          23613 non-null  float64       \n",
      " 7   living_area           23699 non-null  float64       \n",
      " 8   floor                 23699 non-null  int64         \n",
      " 9   is_apartment          23699 non-null  bool          \n",
      " 10  studio                23699 non-null  bool          \n",
      " 11  open_plan             23699 non-null  bool          \n",
      " 12  kitchen_area          23699 non-null  float64       \n",
      " 13  balcony               23699 non-null  int64         \n",
      " 14  locality_name         23699 non-null  object        \n",
      " 15  airports_nearest      18157 non-null  float64       \n",
      " 16  cityCenters_nearest   18180 non-null  float64       \n",
      " 17  parks_around3000      18181 non-null  float64       \n",
      " 18  parks_nearest         8079 non-null   float64       \n",
      " 19  ponds_around3000      18181 non-null  float64       \n",
      " 20  ponds_nearest         9110 non-null   float64       \n",
      " 21  days_exposition       20518 non-null  float64       \n",
      "dtypes: bool(3), datetime64[ns](1), float64(12), int64(5), object(1)\n",
      "memory usage: 3.5+ MB\n"
     ]
    }
   ],
   "source": [
    "df.info()"
   ]
  },
  {
   "cell_type": "markdown",
   "metadata": {},
   "source": [
    "#### Вывод"
   ]
  },
  {
   "cell_type": "markdown",
   "metadata": {},
   "source": [
    "Как видно из повторно выведенной общей информации, мы успешно заменили типы данных в столбцах `last_price`, `balcony` и `first_day_exposition`."
   ]
  },
  {
   "cell_type": "markdown",
   "metadata": {},
   "source": [
    "## Расчёты и добавление результатов в таблицу"
   ]
  },
  {
   "cell_type": "markdown",
   "metadata": {},
   "source": [
    "1) Рассчитаем и добавим в таблицу цену квадратного метра:"
   ]
  },
  {
   "cell_type": "code",
   "execution_count": 205,
   "metadata": {},
   "outputs": [],
   "source": [
    "df['price_per_m2'] = df['last_price']/df['total_area']"
   ]
  },
  {
   "cell_type": "markdown",
   "metadata": {},
   "source": [
    "2) Добавим день недели, месяц и год публикации объявления:"
   ]
  },
  {
   "cell_type": "code",
   "execution_count": 206,
   "metadata": {},
   "outputs": [
    {
     "data": {
      "text/html": [
       "<div>\n",
       "<style scoped>\n",
       "    .dataframe tbody tr th:only-of-type {\n",
       "        vertical-align: middle;\n",
       "    }\n",
       "\n",
       "    .dataframe tbody tr th {\n",
       "        vertical-align: top;\n",
       "    }\n",
       "\n",
       "    .dataframe thead th {\n",
       "        text-align: right;\n",
       "    }\n",
       "</style>\n",
       "<table border=\"1\" class=\"dataframe\">\n",
       "  <thead>\n",
       "    <tr style=\"text-align: right;\">\n",
       "      <th></th>\n",
       "      <th>total_images</th>\n",
       "      <th>last_price</th>\n",
       "      <th>total_area</th>\n",
       "      <th>first_day_exposition</th>\n",
       "      <th>rooms</th>\n",
       "      <th>ceiling_height</th>\n",
       "      <th>floors_total</th>\n",
       "      <th>living_area</th>\n",
       "      <th>floor</th>\n",
       "      <th>is_apartment</th>\n",
       "      <th>studio</th>\n",
       "      <th>open_plan</th>\n",
       "      <th>kitchen_area</th>\n",
       "      <th>balcony</th>\n",
       "      <th>locality_name</th>\n",
       "      <th>airports_nearest</th>\n",
       "      <th>cityCenters_nearest</th>\n",
       "      <th>parks_around3000</th>\n",
       "      <th>parks_nearest</th>\n",
       "      <th>ponds_around3000</th>\n",
       "      <th>ponds_nearest</th>\n",
       "      <th>days_exposition</th>\n",
       "      <th>price_per_m2</th>\n",
       "      <th>weekday</th>\n",
       "      <th>month</th>\n",
       "      <th>year</th>\n",
       "    </tr>\n",
       "  </thead>\n",
       "  <tbody>\n",
       "    <tr>\n",
       "      <th>0</th>\n",
       "      <td>20</td>\n",
       "      <td>13000000</td>\n",
       "      <td>108.0</td>\n",
       "      <td>2019-03-07</td>\n",
       "      <td>3</td>\n",
       "      <td>2.70</td>\n",
       "      <td>16.0</td>\n",
       "      <td>51.000000</td>\n",
       "      <td>8</td>\n",
       "      <td>False</td>\n",
       "      <td>False</td>\n",
       "      <td>False</td>\n",
       "      <td>25.000000</td>\n",
       "      <td>0</td>\n",
       "      <td>Санкт-Петербург</td>\n",
       "      <td>18863.0</td>\n",
       "      <td>16028.0</td>\n",
       "      <td>1.0</td>\n",
       "      <td>482.0</td>\n",
       "      <td>2.0</td>\n",
       "      <td>755.0</td>\n",
       "      <td>NaN</td>\n",
       "      <td>120370.370370</td>\n",
       "      <td>3</td>\n",
       "      <td>3</td>\n",
       "      <td>2019</td>\n",
       "    </tr>\n",
       "    <tr>\n",
       "      <th>1</th>\n",
       "      <td>7</td>\n",
       "      <td>3350000</td>\n",
       "      <td>40.4</td>\n",
       "      <td>2018-12-04</td>\n",
       "      <td>1</td>\n",
       "      <td>2.65</td>\n",
       "      <td>11.0</td>\n",
       "      <td>18.600000</td>\n",
       "      <td>1</td>\n",
       "      <td>False</td>\n",
       "      <td>False</td>\n",
       "      <td>False</td>\n",
       "      <td>11.000000</td>\n",
       "      <td>2</td>\n",
       "      <td>посёлок Шушары</td>\n",
       "      <td>12817.0</td>\n",
       "      <td>18603.0</td>\n",
       "      <td>0.0</td>\n",
       "      <td>NaN</td>\n",
       "      <td>0.0</td>\n",
       "      <td>NaN</td>\n",
       "      <td>81.0</td>\n",
       "      <td>82920.792079</td>\n",
       "      <td>1</td>\n",
       "      <td>12</td>\n",
       "      <td>2018</td>\n",
       "    </tr>\n",
       "    <tr>\n",
       "      <th>2</th>\n",
       "      <td>10</td>\n",
       "      <td>5196000</td>\n",
       "      <td>56.0</td>\n",
       "      <td>2015-08-20</td>\n",
       "      <td>2</td>\n",
       "      <td>2.65</td>\n",
       "      <td>5.0</td>\n",
       "      <td>34.300000</td>\n",
       "      <td>4</td>\n",
       "      <td>False</td>\n",
       "      <td>False</td>\n",
       "      <td>False</td>\n",
       "      <td>8.300000</td>\n",
       "      <td>0</td>\n",
       "      <td>Санкт-Петербург</td>\n",
       "      <td>21741.0</td>\n",
       "      <td>13933.0</td>\n",
       "      <td>1.0</td>\n",
       "      <td>90.0</td>\n",
       "      <td>2.0</td>\n",
       "      <td>574.0</td>\n",
       "      <td>558.0</td>\n",
       "      <td>92785.714286</td>\n",
       "      <td>3</td>\n",
       "      <td>8</td>\n",
       "      <td>2015</td>\n",
       "    </tr>\n",
       "    <tr>\n",
       "      <th>3</th>\n",
       "      <td>0</td>\n",
       "      <td>64900000</td>\n",
       "      <td>159.0</td>\n",
       "      <td>2015-07-24</td>\n",
       "      <td>3</td>\n",
       "      <td>2.65</td>\n",
       "      <td>14.0</td>\n",
       "      <td>98.013699</td>\n",
       "      <td>9</td>\n",
       "      <td>False</td>\n",
       "      <td>False</td>\n",
       "      <td>False</td>\n",
       "      <td>20.691781</td>\n",
       "      <td>0</td>\n",
       "      <td>Санкт-Петербург</td>\n",
       "      <td>28098.0</td>\n",
       "      <td>6800.0</td>\n",
       "      <td>2.0</td>\n",
       "      <td>84.0</td>\n",
       "      <td>3.0</td>\n",
       "      <td>234.0</td>\n",
       "      <td>424.0</td>\n",
       "      <td>408176.100629</td>\n",
       "      <td>4</td>\n",
       "      <td>7</td>\n",
       "      <td>2015</td>\n",
       "    </tr>\n",
       "    <tr>\n",
       "      <th>4</th>\n",
       "      <td>2</td>\n",
       "      <td>10000000</td>\n",
       "      <td>100.0</td>\n",
       "      <td>2018-06-19</td>\n",
       "      <td>2</td>\n",
       "      <td>3.03</td>\n",
       "      <td>14.0</td>\n",
       "      <td>32.000000</td>\n",
       "      <td>13</td>\n",
       "      <td>False</td>\n",
       "      <td>False</td>\n",
       "      <td>False</td>\n",
       "      <td>41.000000</td>\n",
       "      <td>0</td>\n",
       "      <td>Санкт-Петербург</td>\n",
       "      <td>31856.0</td>\n",
       "      <td>8098.0</td>\n",
       "      <td>2.0</td>\n",
       "      <td>112.0</td>\n",
       "      <td>1.0</td>\n",
       "      <td>48.0</td>\n",
       "      <td>121.0</td>\n",
       "      <td>100000.000000</td>\n",
       "      <td>1</td>\n",
       "      <td>6</td>\n",
       "      <td>2018</td>\n",
       "    </tr>\n",
       "  </tbody>\n",
       "</table>\n",
       "</div>"
      ],
      "text/plain": [
       "   total_images  last_price  total_area first_day_exposition  rooms  \\\n",
       "0            20    13000000       108.0           2019-03-07      3   \n",
       "1             7     3350000        40.4           2018-12-04      1   \n",
       "2            10     5196000        56.0           2015-08-20      2   \n",
       "3             0    64900000       159.0           2015-07-24      3   \n",
       "4             2    10000000       100.0           2018-06-19      2   \n",
       "\n",
       "   ceiling_height  floors_total  living_area  floor  is_apartment  studio  \\\n",
       "0            2.70          16.0    51.000000      8         False   False   \n",
       "1            2.65          11.0    18.600000      1         False   False   \n",
       "2            2.65           5.0    34.300000      4         False   False   \n",
       "3            2.65          14.0    98.013699      9         False   False   \n",
       "4            3.03          14.0    32.000000     13         False   False   \n",
       "\n",
       "   open_plan  kitchen_area  balcony    locality_name  airports_nearest  \\\n",
       "0      False     25.000000        0  Санкт-Петербург           18863.0   \n",
       "1      False     11.000000        2   посёлок Шушары           12817.0   \n",
       "2      False      8.300000        0  Санкт-Петербург           21741.0   \n",
       "3      False     20.691781        0  Санкт-Петербург           28098.0   \n",
       "4      False     41.000000        0  Санкт-Петербург           31856.0   \n",
       "\n",
       "   cityCenters_nearest  parks_around3000  parks_nearest  ponds_around3000  \\\n",
       "0              16028.0               1.0          482.0               2.0   \n",
       "1              18603.0               0.0            NaN               0.0   \n",
       "2              13933.0               1.0           90.0               2.0   \n",
       "3               6800.0               2.0           84.0               3.0   \n",
       "4               8098.0               2.0          112.0               1.0   \n",
       "\n",
       "   ponds_nearest  days_exposition   price_per_m2  weekday  month  year  \n",
       "0          755.0              NaN  120370.370370        3      3  2019  \n",
       "1            NaN             81.0   82920.792079        1     12  2018  \n",
       "2          574.0            558.0   92785.714286        3      8  2015  \n",
       "3          234.0            424.0  408176.100629        4      7  2015  \n",
       "4           48.0            121.0  100000.000000        1      6  2018  "
      ]
     },
     "metadata": {},
     "output_type": "display_data"
    }
   ],
   "source": [
    "df['weekday'] = df['first_day_exposition'].dt.dayofweek\n",
    "df['month'] = df['first_day_exposition'].dt.month\n",
    "df['year'] = df['first_day_exposition'].dt.year\n",
    "\n",
    "display(df.head())"
   ]
  },
  {
   "cell_type": "markdown",
   "metadata": {},
   "source": [
    "3) Добавим по каждому объявлению этаж квартиры, варианты: первый, последний, другой."
   ]
  },
  {
   "cell_type": "code",
   "execution_count": 207,
   "metadata": {},
   "outputs": [],
   "source": [
    "def floor(row):\n",
    "    floor = row['floor']\n",
    "    floors_total = row['floors_total']\n",
    "    storey = 0\n",
    "    \n",
    "    if floor == 1:\n",
    "        return 'Первый'\n",
    "   \n",
    "    if floor == floors_total:\n",
    "        return 'Последний'\n",
    "    \n",
    "    return 'Другой'\n",
    "\n",
    "df['storey'] = df.apply(floor, axis = 1)"
   ]
  },
  {
   "cell_type": "markdown",
   "metadata": {},
   "source": [
    "4) Рассчитаем и добавим соотношение жилой и общей площади, а также отношение площади кухни к общей."
   ]
  },
  {
   "cell_type": "code",
   "execution_count": 208,
   "metadata": {},
   "outputs": [
    {
     "data": {
      "text/html": [
       "<div>\n",
       "<style scoped>\n",
       "    .dataframe tbody tr th:only-of-type {\n",
       "        vertical-align: middle;\n",
       "    }\n",
       "\n",
       "    .dataframe tbody tr th {\n",
       "        vertical-align: top;\n",
       "    }\n",
       "\n",
       "    .dataframe thead th {\n",
       "        text-align: right;\n",
       "    }\n",
       "</style>\n",
       "<table border=\"1\" class=\"dataframe\">\n",
       "  <thead>\n",
       "    <tr style=\"text-align: right;\">\n",
       "      <th></th>\n",
       "      <th>total_images</th>\n",
       "      <th>last_price</th>\n",
       "      <th>total_area</th>\n",
       "      <th>first_day_exposition</th>\n",
       "      <th>rooms</th>\n",
       "      <th>ceiling_height</th>\n",
       "      <th>floors_total</th>\n",
       "      <th>living_area</th>\n",
       "      <th>floor</th>\n",
       "      <th>is_apartment</th>\n",
       "      <th>studio</th>\n",
       "      <th>open_plan</th>\n",
       "      <th>kitchen_area</th>\n",
       "      <th>balcony</th>\n",
       "      <th>locality_name</th>\n",
       "      <th>airports_nearest</th>\n",
       "      <th>cityCenters_nearest</th>\n",
       "      <th>parks_around3000</th>\n",
       "      <th>parks_nearest</th>\n",
       "      <th>ponds_around3000</th>\n",
       "      <th>ponds_nearest</th>\n",
       "      <th>days_exposition</th>\n",
       "      <th>price_per_m2</th>\n",
       "      <th>weekday</th>\n",
       "      <th>month</th>\n",
       "      <th>year</th>\n",
       "      <th>storey</th>\n",
       "      <th>living_ratio</th>\n",
       "      <th>kitchen_ratio</th>\n",
       "    </tr>\n",
       "  </thead>\n",
       "  <tbody>\n",
       "    <tr>\n",
       "      <th>0</th>\n",
       "      <td>20</td>\n",
       "      <td>13000000</td>\n",
       "      <td>108.0</td>\n",
       "      <td>2019-03-07</td>\n",
       "      <td>3</td>\n",
       "      <td>2.70</td>\n",
       "      <td>16.0</td>\n",
       "      <td>51.000000</td>\n",
       "      <td>8</td>\n",
       "      <td>False</td>\n",
       "      <td>False</td>\n",
       "      <td>False</td>\n",
       "      <td>25.000000</td>\n",
       "      <td>0</td>\n",
       "      <td>Санкт-Петербург</td>\n",
       "      <td>18863.0</td>\n",
       "      <td>16028.0</td>\n",
       "      <td>1.0</td>\n",
       "      <td>482.0</td>\n",
       "      <td>2.0</td>\n",
       "      <td>755.0</td>\n",
       "      <td>NaN</td>\n",
       "      <td>120370.370370</td>\n",
       "      <td>3</td>\n",
       "      <td>3</td>\n",
       "      <td>2019</td>\n",
       "      <td>Другой</td>\n",
       "      <td>0.472222</td>\n",
       "      <td>0.231481</td>\n",
       "    </tr>\n",
       "    <tr>\n",
       "      <th>1</th>\n",
       "      <td>7</td>\n",
       "      <td>3350000</td>\n",
       "      <td>40.4</td>\n",
       "      <td>2018-12-04</td>\n",
       "      <td>1</td>\n",
       "      <td>2.65</td>\n",
       "      <td>11.0</td>\n",
       "      <td>18.600000</td>\n",
       "      <td>1</td>\n",
       "      <td>False</td>\n",
       "      <td>False</td>\n",
       "      <td>False</td>\n",
       "      <td>11.000000</td>\n",
       "      <td>2</td>\n",
       "      <td>посёлок Шушары</td>\n",
       "      <td>12817.0</td>\n",
       "      <td>18603.0</td>\n",
       "      <td>0.0</td>\n",
       "      <td>NaN</td>\n",
       "      <td>0.0</td>\n",
       "      <td>NaN</td>\n",
       "      <td>81.0</td>\n",
       "      <td>82920.792079</td>\n",
       "      <td>1</td>\n",
       "      <td>12</td>\n",
       "      <td>2018</td>\n",
       "      <td>Первый</td>\n",
       "      <td>0.460396</td>\n",
       "      <td>0.272277</td>\n",
       "    </tr>\n",
       "    <tr>\n",
       "      <th>2</th>\n",
       "      <td>10</td>\n",
       "      <td>5196000</td>\n",
       "      <td>56.0</td>\n",
       "      <td>2015-08-20</td>\n",
       "      <td>2</td>\n",
       "      <td>2.65</td>\n",
       "      <td>5.0</td>\n",
       "      <td>34.300000</td>\n",
       "      <td>4</td>\n",
       "      <td>False</td>\n",
       "      <td>False</td>\n",
       "      <td>False</td>\n",
       "      <td>8.300000</td>\n",
       "      <td>0</td>\n",
       "      <td>Санкт-Петербург</td>\n",
       "      <td>21741.0</td>\n",
       "      <td>13933.0</td>\n",
       "      <td>1.0</td>\n",
       "      <td>90.0</td>\n",
       "      <td>2.0</td>\n",
       "      <td>574.0</td>\n",
       "      <td>558.0</td>\n",
       "      <td>92785.714286</td>\n",
       "      <td>3</td>\n",
       "      <td>8</td>\n",
       "      <td>2015</td>\n",
       "      <td>Другой</td>\n",
       "      <td>0.612500</td>\n",
       "      <td>0.148214</td>\n",
       "    </tr>\n",
       "    <tr>\n",
       "      <th>3</th>\n",
       "      <td>0</td>\n",
       "      <td>64900000</td>\n",
       "      <td>159.0</td>\n",
       "      <td>2015-07-24</td>\n",
       "      <td>3</td>\n",
       "      <td>2.65</td>\n",
       "      <td>14.0</td>\n",
       "      <td>98.013699</td>\n",
       "      <td>9</td>\n",
       "      <td>False</td>\n",
       "      <td>False</td>\n",
       "      <td>False</td>\n",
       "      <td>20.691781</td>\n",
       "      <td>0</td>\n",
       "      <td>Санкт-Петербург</td>\n",
       "      <td>28098.0</td>\n",
       "      <td>6800.0</td>\n",
       "      <td>2.0</td>\n",
       "      <td>84.0</td>\n",
       "      <td>3.0</td>\n",
       "      <td>234.0</td>\n",
       "      <td>424.0</td>\n",
       "      <td>408176.100629</td>\n",
       "      <td>4</td>\n",
       "      <td>7</td>\n",
       "      <td>2015</td>\n",
       "      <td>Другой</td>\n",
       "      <td>0.616438</td>\n",
       "      <td>0.130137</td>\n",
       "    </tr>\n",
       "    <tr>\n",
       "      <th>4</th>\n",
       "      <td>2</td>\n",
       "      <td>10000000</td>\n",
       "      <td>100.0</td>\n",
       "      <td>2018-06-19</td>\n",
       "      <td>2</td>\n",
       "      <td>3.03</td>\n",
       "      <td>14.0</td>\n",
       "      <td>32.000000</td>\n",
       "      <td>13</td>\n",
       "      <td>False</td>\n",
       "      <td>False</td>\n",
       "      <td>False</td>\n",
       "      <td>41.000000</td>\n",
       "      <td>0</td>\n",
       "      <td>Санкт-Петербург</td>\n",
       "      <td>31856.0</td>\n",
       "      <td>8098.0</td>\n",
       "      <td>2.0</td>\n",
       "      <td>112.0</td>\n",
       "      <td>1.0</td>\n",
       "      <td>48.0</td>\n",
       "      <td>121.0</td>\n",
       "      <td>100000.000000</td>\n",
       "      <td>1</td>\n",
       "      <td>6</td>\n",
       "      <td>2018</td>\n",
       "      <td>Другой</td>\n",
       "      <td>0.320000</td>\n",
       "      <td>0.410000</td>\n",
       "    </tr>\n",
       "  </tbody>\n",
       "</table>\n",
       "</div>"
      ],
      "text/plain": [
       "   total_images  last_price  total_area first_day_exposition  rooms  \\\n",
       "0            20    13000000       108.0           2019-03-07      3   \n",
       "1             7     3350000        40.4           2018-12-04      1   \n",
       "2            10     5196000        56.0           2015-08-20      2   \n",
       "3             0    64900000       159.0           2015-07-24      3   \n",
       "4             2    10000000       100.0           2018-06-19      2   \n",
       "\n",
       "   ceiling_height  floors_total  living_area  floor  is_apartment  studio  \\\n",
       "0            2.70          16.0    51.000000      8         False   False   \n",
       "1            2.65          11.0    18.600000      1         False   False   \n",
       "2            2.65           5.0    34.300000      4         False   False   \n",
       "3            2.65          14.0    98.013699      9         False   False   \n",
       "4            3.03          14.0    32.000000     13         False   False   \n",
       "\n",
       "   open_plan  kitchen_area  balcony    locality_name  airports_nearest  \\\n",
       "0      False     25.000000        0  Санкт-Петербург           18863.0   \n",
       "1      False     11.000000        2   посёлок Шушары           12817.0   \n",
       "2      False      8.300000        0  Санкт-Петербург           21741.0   \n",
       "3      False     20.691781        0  Санкт-Петербург           28098.0   \n",
       "4      False     41.000000        0  Санкт-Петербург           31856.0   \n",
       "\n",
       "   cityCenters_nearest  parks_around3000  parks_nearest  ponds_around3000  \\\n",
       "0              16028.0               1.0          482.0               2.0   \n",
       "1              18603.0               0.0            NaN               0.0   \n",
       "2              13933.0               1.0           90.0               2.0   \n",
       "3               6800.0               2.0           84.0               3.0   \n",
       "4               8098.0               2.0          112.0               1.0   \n",
       "\n",
       "   ponds_nearest  days_exposition   price_per_m2  weekday  month  year  \\\n",
       "0          755.0              NaN  120370.370370        3      3  2019   \n",
       "1            NaN             81.0   82920.792079        1     12  2018   \n",
       "2          574.0            558.0   92785.714286        3      8  2015   \n",
       "3          234.0            424.0  408176.100629        4      7  2015   \n",
       "4           48.0            121.0  100000.000000        1      6  2018   \n",
       "\n",
       "   storey  living_ratio  kitchen_ratio  \n",
       "0  Другой      0.472222       0.231481  \n",
       "1  Первый      0.460396       0.272277  \n",
       "2  Другой      0.612500       0.148214  \n",
       "3  Другой      0.616438       0.130137  \n",
       "4  Другой      0.320000       0.410000  "
      ]
     },
     "execution_count": 208,
     "metadata": {},
     "output_type": "execute_result"
    }
   ],
   "source": [
    "df['living_ratio'] = df['living_area']/df['total_area']\n",
    "df['kitchen_ratio'] = df['kitchen_area']/df['total_area']\n",
    "  \n",
    "df.head()    "
   ]
  },
  {
   "cell_type": "markdown",
   "metadata": {},
   "source": [
    "### Вывод"
   ]
  },
  {
   "cell_type": "markdown",
   "metadata": {},
   "source": [
    "По выведенным первым строкам таблицы видно, что такие параметры, как цена квадратного метра, день недели, месяц и год публикации объявления, этаж квартиры, соотношение жилой и общей площади, а также отношение площади кухни к общей, были успено рассчитаны и добавлены в таблицу. "
   ]
  },
  {
   "cell_type": "markdown",
   "metadata": {},
   "source": [
    "## Исследовательский анализ данных"
   ]
  },
  {
   "cell_type": "markdown",
   "metadata": {},
   "source": [
    "### Изучение параметров"
   ]
  },
  {
   "cell_type": "markdown",
   "metadata": {},
   "source": [
    "В этом разделе изучим такие параметры, как площадь, цена, число комнат, высота потолков и построим гистограммы для каждого параметра."
   ]
  },
  {
   "cell_type": "markdown",
   "metadata": {},
   "source": [
    "Выведем для каждого параметра основные данные: минимальные, медианные, максимальные значения и т.д."
   ]
  },
  {
   "cell_type": "code",
   "execution_count": 209,
   "metadata": {},
   "outputs": [
    {
     "name": "stdout",
     "output_type": "stream",
     "text": [
      "\u001b[31mОбщая площадь:\u001b[0m\n",
      "count    23699.000000\n",
      "mean        60.348651\n",
      "std         35.654083\n",
      "min         12.000000\n",
      "25%         40.000000\n",
      "50%         52.000000\n",
      "75%         69.900000\n",
      "max        900.000000\n",
      "Name: total_area, dtype: float64\n",
      "\n",
      "\u001b[31mЦена:\u001b[0m\n",
      "count    2.369900e+04\n",
      "mean     6.541549e+06\n",
      "std      1.088701e+07\n",
      "min      1.219000e+04\n",
      "25%      3.400000e+06\n",
      "50%      4.650000e+06\n",
      "75%      6.800000e+06\n",
      "max      7.630000e+08\n",
      "Name: last_price, dtype: float64\n",
      "\n",
      "\u001b[31mЧисло комнат:\u001b[0m\n",
      "count    23699.000000\n",
      "mean         2.070636\n",
      "std          1.078405\n",
      "min          0.000000\n",
      "25%          1.000000\n",
      "50%          2.000000\n",
      "75%          3.000000\n",
      "max         19.000000\n",
      "Name: rooms, dtype: float64\n",
      "\n",
      "\u001b[31mВысота потолков:\u001b[0m\n",
      "count    23699.000000\n",
      "mean         2.724358\n",
      "std          0.988298\n",
      "min          1.000000\n",
      "25%          2.600000\n",
      "50%          2.650000\n",
      "75%          2.700000\n",
      "max        100.000000\n",
      "Name: ceiling_height, dtype: float64\n"
     ]
    }
   ],
   "source": [
    "print('\\033[31m','Общая площадь:','\\033[0m', '\\n', df['total_area'].describe(),'\\n', sep='')\n",
    "print('\\033[31m','Цена:', '\\033[0m', '\\n', df['last_price'].describe(),'\\n', sep='')\n",
    "print('\\033[31m','Число комнат:', '\\033[0m', '\\n', df['rooms'].describe(),'\\n', sep='')\n",
    "print('\\033[31m','Высота потолков:', '\\033[0m','\\n', df['ceiling_height'].describe(), sep='')"
   ]
  },
  {
   "cell_type": "markdown",
   "metadata": {},
   "source": [
    "* Минимальные и максимальные значения общей площади очень далеки от медианного значения, но  вполне могут быть реальными.\n",
    "* Минимальная цена квартиры не кажется правдободобной, а максимальная вполне себе может быть реальной при условии большой площади квартиры.\n",
    "* Данные по количеству комнат похожи на достоверные.\n",
    "* И минимальная высота потолков, и максимальная точно не являются реальными. В предыдущем разделе мы определили, что таких аномальных значений высоты - 348, что составляет 1,5% от всех данных."
   ]
  },
  {
   "cell_type": "markdown",
   "metadata": {},
   "source": [
    "Построим гистограммы для каждого параметра:"
   ]
  },
  {
   "cell_type": "code",
   "execution_count": 210,
   "metadata": {},
   "outputs": [
    {
     "data": {
      "text/plain": [
       "Text(0.5, 1.0, 'Высота потолков')"
      ]
     },
     "execution_count": 210,
     "metadata": {},
     "output_type": "execute_result"
    },
    {
     "data": {
      "image/png": "[encoded data removed]",
      "text/plain": [
       "<Figure size 936x720 with 4 Axes>"
      ]
     },
     "metadata": {
      "needs_background": "light"
     },
     "output_type": "display_data"
    }
   ],
   "source": [
    "plt.figure(figsize=(13,10))\n",
    "plt.subplot (2,2,1)\n",
    "df['total_area'].hist(bins=50, range=(15, 200))\n",
    "plt.xlabel(r'площадь, $м^{2}$')\n",
    "plt.ylabel(r'частота появления параметра')\n",
    "plt.title(r'Общая площадь')\n",
    "\n",
    "plt.subplot (2,2,2)\n",
    "df['last_price'].hist(bins=50, range=(400000, 30000000))\n",
    "plt.xlabel(r'цена квартиры, $10^{8}$ руб.')\n",
    "plt.ylabel(r'частота появления параметра')\n",
    "plt.title(r'Цены квартир')\n",
    "\n",
    "plt.subplot (2,2,3)\n",
    "df['rooms'].hist(bins=10, range=(0, 9))\n",
    "plt.xlabel('кол-во комнат')\n",
    "plt.ylabel(r'частота появления параметра')\n",
    "plt.title(r'Количество комнат')\n",
    "\n",
    "plt.subplot (2,2,4)\n",
    "df['ceiling_height'].hist(bins=15, range=(2.2, 5))\n",
    "plt.xlabel('высота потолков, м')\n",
    "plt.ylabel(r'частота появления параметра')\n",
    "plt.title(r'Высота потолков')"
   ]
  },
  {
   "cell_type": "markdown",
   "metadata": {},
   "source": [
    "#### Вывод"
   ]
  },
  {
   "cell_type": "markdown",
   "metadata": {},
   "source": [
    "Проанализируем полученные гистограммы:\n",
    "* Для значений площади узкий пик приходится примерно на 45 м2. Имеются также небольшие пики - 35 м2 и 55 м2. Остальные значения площади встечаются реже. Для дальнейшего анализа будем рассматривать значения от 12 до 175 м2. \n",
    "* По значениям стоимости тоже можно отметить узкий пик стоимости квартир приходится на 3 млн. руб. Для анализа выделим диапазон от 400 тыс. до 20 млн. руб.\n",
    "* В среднем наибольшее количество значений приходится на квартиры с 0-9 комнатами. На гистограмме наблюдается широкий пик в районе значений 1,2,3 комнат. Нормальные значения находятся в промежутке от 0 до 8 комнат.\n",
    "* Не такая красивая, как остальные, у нас получилась гистограмма для значений высоты потолка. Узкий пик приходится на значение 2,5 м, небольшие пики есть на промежутках 2,7 и 3 м. Для анализа будем рассматривать значения от 2,4 до 4 м."
   ]
  },
  {
   "cell_type": "markdown",
   "metadata": {},
   "source": [
    "### Изучение времени продажи квартиры"
   ]
  },
  {
   "cell_type": "markdown",
   "metadata": {},
   "source": [
    "Изучим время продажи квартиры, для этого:\n",
    "* Посчитаем среднее и медиану. \n",
    "* Построим гистограмму. \n",
    "* Определим, сколько обычно занимает продажа - когда можно считать, что продажи прошли очень быстро, а когда необычно долго."
   ]
  },
  {
   "cell_type": "code",
   "execution_count": 211,
   "metadata": {},
   "outputs": [
    {
     "name": "stdout",
     "output_type": "stream",
     "text": [
      "count    20518.000000\n",
      "mean       180.888634\n",
      "std        219.727988\n",
      "min          1.000000\n",
      "25%         45.000000\n",
      "50%         95.000000\n",
      "75%        232.000000\n",
      "max       1580.000000\n",
      "Name: days_exposition, dtype: float64\n"
     ]
    },
    {
     "data": {
      "image/png": "[encoded data removed]",
      "text/plain": [
       "<Figure size 720x432 with 1 Axes>"
      ]
     },
     "metadata": {
      "needs_background": "light"
     },
     "output_type": "display_data"
    }
   ],
   "source": [
    "print(df['days_exposition'].describe())     \n",
    "\n",
    "plt.figure(figsize=(10,6))\n",
    "df['days_exposition'].hist(bins=200)         \n",
    "plt.ylabel(r'частота появления параметра')\n",
    "plt.title(r'Количество дней от публикации до снятия объявления')\n",
    "plt.show()"
   ]
  },
  {
   "cell_type": "markdown",
   "metadata": {},
   "source": [
    "Получили, что среднее значение времени продажи квартиры составляет 180 дней. Медиана составляет 95 дней. Такая разница объясняется длинным хвостом больших значений.\n",
    "\n",
    "На отрезке более 800 дней количество объявлений достаточно не большое, поэтому для дальнейшего анализа будем рассматривать значения меньше этого значения.\n",
    "\n",
    "Построенная гистограмма не визуализирует необходимые нам данные достаточно подробно. "
   ]
  },
  {
   "cell_type": "markdown",
   "metadata": {},
   "source": [
    "Визуально оценим характеристики распределения с помощью диаграммы размаха."
   ]
  },
  {
   "cell_type": "code",
   "execution_count": 212,
   "metadata": {
    "scrolled": true
   },
   "outputs": [
    {
     "data": {
      "text/plain": [
       "(0.0, 1600.0)"
      ]
     },
     "execution_count": 212,
     "metadata": {},
     "output_type": "execute_result"
    },
    {
     "data": {
      "image/png": "[encoded data removed]",
      "text/plain": [
       "<Figure size 216x360 with 1 Axes>"
      ]
     },
     "metadata": {
      "needs_background": "light"
     },
     "output_type": "display_data"
    }
   ],
   "source": [
    "df.boxplot(column=['days_exposition'],figsize=(3,5))\n",
    "plt.ylim(0, 1600)"
   ]
  },
  {
   "cell_type": "markdown",
   "metadata": {},
   "source": [
    "Видно, что основная часть данных лежит в диапазоне от 50 до 220 дней, нормальные значения лежат в промежутке до 500 дней."
   ]
  },
  {
   "cell_type": "markdown",
   "metadata": {},
   "source": [
    "Чтобы подробнее изучить данные слева от пика, построим дополнительную гистограмму."
   ]
  },
  {
   "cell_type": "code",
   "execution_count": 213,
   "metadata": {
    "scrolled": false
   },
   "outputs": [
    {
     "data": {
      "image/png": "[encoded data removed]",
      "text/plain": [
       "<Figure size 720x360 with 1 Axes>"
      ]
     },
     "metadata": {
      "needs_background": "light"
     },
     "output_type": "display_data"
    }
   ],
   "source": [
    "plt.figure(figsize=(10,5))\n",
    "df['days_exposition'].hist(bins=30, range=(0, 50))\n",
    "plt.ylabel(r'частота появления параметра')\n",
    "plt.title(r'Количество дней от публикации до снятия объявления')\n",
    "plt.show()"
   ]
  },
  {
   "cell_type": "markdown",
   "metadata": {},
   "source": [
    "Видно, что значения до 3 дней встречаются гораздо реже, чем другие."
   ]
  },
  {
   "cell_type": "markdown",
   "metadata": {},
   "source": [
    "#### Вывод"
   ]
  },
  {
   "cell_type": "markdown",
   "metadata": {},
   "source": [
    "Получили, что в среднем продажа занимает от 3 до 500 дней, чаще всего - от 50 до 220 дней.\n",
    "\n",
    "Объявления, выставленные сроком меньше 3 дней, могут удаляться самими пользователями по какой-то причине или модераторами площадки (например, при наличии жалоб на продавца от других пользователей площадки). А те объявления, которые были выставлены более 500 дней, могут содержать в себе информацию о цене, намного превышающей рыночную, о неудобном территориальном размещении дома или каких-либо других нюансах, делающих покупку таких квартир непривлекательной.\n",
    "\n",
    "Примем, что продажи прошли очень быстро, если срок публикации объявления составляет менее 3 дней, а необычно долго - если более 800 дней."
   ]
  },
  {
   "cell_type": "markdown",
   "metadata": {},
   "source": [
    "### Обработка редких и выбивающихся значений"
   ]
  },
  {
   "cell_type": "markdown",
   "metadata": {},
   "source": [
    "Создадим новую таблицу `good_data`, в которую поместим данные из `df` за исключением раннее найденных выбивающихся значений в столбцах `total_area`, `rooms`, `ceiling_height`, `days_exposition` и `last_price`.\n",
    "\n",
    "Скорректируем рассматриваемые диапазоны значений, чтобы не потрерять важную информацию.\n",
    "    Площадь ограничим значениями от 12 до 175 м2, количество комнат от 0 до 8, высоту потолков - от 2,4 до 4 м, стоимость квартир - от 400 тысяч рублей до 20 миллионов рублей и время продажи квартир от 3 до 800 дней."
   ]
  },
  {
   "cell_type": "code",
   "execution_count": 214,
   "metadata": {},
   "outputs": [
    {
     "name": "stdout",
     "output_type": "stream",
     "text": [
      "<class 'pandas.core.frame.DataFrame'>\n",
      "Int64Index: 19317 entries, 1 to 23697\n",
      "Data columns (total 29 columns):\n",
      " #   Column                Non-Null Count  Dtype         \n",
      "---  ------                --------------  -----         \n",
      " 0   total_images          19317 non-null  int64         \n",
      " 1   last_price            19317 non-null  int64         \n",
      " 2   total_area            19317 non-null  float64       \n",
      " 3   first_day_exposition  19317 non-null  datetime64[ns]\n",
      " 4   rooms                 19317 non-null  int64         \n",
      " 5   ceiling_height        19317 non-null  float64       \n",
      " 6   floors_total          19245 non-null  float64       \n",
      " 7   living_area           19317 non-null  float64       \n",
      " 8   floor                 19317 non-null  int64         \n",
      " 9   is_apartment          19317 non-null  bool          \n",
      " 10  studio                19317 non-null  bool          \n",
      " 11  open_plan             19317 non-null  bool          \n",
      " 12  kitchen_area          19317 non-null  float64       \n",
      " 13  balcony               19317 non-null  int64         \n",
      " 14  locality_name         19317 non-null  object        \n",
      " 15  airports_nearest      14791 non-null  float64       \n",
      " 16  cityCenters_nearest   14808 non-null  float64       \n",
      " 17  parks_around3000      14808 non-null  float64       \n",
      " 18  parks_nearest         6281 non-null   float64       \n",
      " 19  ponds_around3000      14808 non-null  float64       \n",
      " 20  ponds_nearest         7190 non-null   float64       \n",
      " 21  days_exposition       19317 non-null  float64       \n",
      " 22  price_per_m2          19317 non-null  float64       \n",
      " 23  weekday               19317 non-null  int64         \n",
      " 24  month                 19317 non-null  int64         \n",
      " 25  year                  19317 non-null  int64         \n",
      " 26  storey                19317 non-null  object        \n",
      " 27  living_ratio          19317 non-null  float64       \n",
      " 28  kitchen_ratio         19317 non-null  float64       \n",
      "dtypes: bool(3), datetime64[ns](1), float64(15), int64(8), object(2)\n",
      "memory usage: 4.0+ MB\n"
     ]
    },
    {
     "data": {
      "text/plain": [
       "None"
      ]
     },
     "metadata": {},
     "output_type": "display_data"
    }
   ],
   "source": [
    "good_data = df.query('(total_area >= 12 and total_area <= 175) and (rooms <= 8) and (ceiling_height >= 2.4 and ceiling_height <= 4) and (days_exposition >= 3 and days_exposition <= 800) and (last_price >= 4*10**5 and last_price <= 2*10**7)')\n",
    "display(good_data.info())"
   ]
  },
  {
   "cell_type": "markdown",
   "metadata": {},
   "source": [
    "Проверим себя:"
   ]
  },
  {
   "cell_type": "code",
   "execution_count": 215,
   "metadata": {},
   "outputs": [
    {
     "data": {
      "text/html": [
       "<div>\n",
       "<style scoped>\n",
       "    .dataframe tbody tr th:only-of-type {\n",
       "        vertical-align: middle;\n",
       "    }\n",
       "\n",
       "    .dataframe tbody tr th {\n",
       "        vertical-align: top;\n",
       "    }\n",
       "\n",
       "    .dataframe thead th {\n",
       "        text-align: right;\n",
       "    }\n",
       "</style>\n",
       "<table border=\"1\" class=\"dataframe\">\n",
       "  <thead>\n",
       "    <tr style=\"text-align: right;\">\n",
       "      <th></th>\n",
       "      <th>last_price</th>\n",
       "      <th>total_area</th>\n",
       "      <th>ceiling_height</th>\n",
       "    </tr>\n",
       "  </thead>\n",
       "  <tbody>\n",
       "    <tr>\n",
       "      <th>min</th>\n",
       "      <td>430000.0</td>\n",
       "      <td>12.0</td>\n",
       "      <td>2.4</td>\n",
       "    </tr>\n",
       "    <tr>\n",
       "      <th>max</th>\n",
       "      <td>20000000.0</td>\n",
       "      <td>175.0</td>\n",
       "      <td>4.0</td>\n",
       "    </tr>\n",
       "  </tbody>\n",
       "</table>\n",
       "</div>"
      ],
      "text/plain": [
       "     last_price  total_area  ceiling_height\n",
       "min    430000.0        12.0             2.4\n",
       "max  20000000.0       175.0             4.0"
      ]
     },
     "execution_count": 215,
     "metadata": {},
     "output_type": "execute_result"
    }
   ],
   "source": [
    "good_data[['last_price', 'total_area','ceiling_height' ]].describe().loc[['min', 'max']]"
   ]
  },
  {
   "cell_type": "markdown",
   "metadata": {},
   "source": [
    "#### Вывод"
   ]
  },
  {
   "cell_type": "markdown",
   "metadata": {},
   "source": [
    "Как видно, после того, как были отброшены выбивающиеся значения, данные сократились больше, чем в 2 раза. Однако теперь возможно провести анализ параметров без учета выбросов, что сделает данный анализ более точным."
   ]
  },
  {
   "cell_type": "markdown",
   "metadata": {},
   "source": [
    "### Определение факторов, влияющих на стоимость квартиры"
   ]
  },
  {
   "cell_type": "markdown",
   "metadata": {},
   "source": [
    "В этом разделе мы изучим следующее:\n",
    "* зависит ли цена от площади, числа комнат, удалённости от центра;\n",
    "* зависимость цены от того, на каком этаже расположена квартира: первом, последнем или другом;\n",
    "* зависимость от даты размещения: дня недели, месяца и года."
   ]
  },
  {
   "cell_type": "markdown",
   "metadata": {},
   "source": [
    "#### Зависимость цены от площади, числа комнат, удаленности от центра"
   ]
  },
  {
   "cell_type": "markdown",
   "metadata": {},
   "source": [
    "Для начала посторим графики зависимости цены от общей площади, количества комнат от расстояния до центра."
   ]
  },
  {
   "cell_type": "code",
   "execution_count": 216,
   "metadata": {
    "scrolled": false
   },
   "outputs": [
    {
     "data": {
      "image/png": "[encoded data removed]",
      "text/plain": [
       "<Figure size 432x288 with 1 Axes>"
      ]
     },
     "metadata": {
      "needs_background": "light"
     },
     "output_type": "display_data"
    },
    {
     "data": {
      "image/png": "[encoded data removed]",
      "text/plain": [
       "<Figure size 432x288 with 1 Axes>"
      ]
     },
     "metadata": {
      "needs_background": "light"
     },
     "output_type": "display_data"
    },
    {
     "data": {
      "image/png": "[encoded data removed]",
      "text/plain": [
       "<Figure size 432x288 with 1 Axes>"
      ]
     },
     "metadata": {
      "needs_background": "light"
     },
     "output_type": "display_data"
    }
   ],
   "source": [
    "good_data.plot(x='total_area', y='last_price', style='o', alpha=0.1, grid=True)\n",
    "plt.xlabel(r'Площадь, $м^{2}$')\n",
    "plt.ylabel(r'Цена, руб.')\n",
    "plt.title(r'Зависимость стоимости квартиры от общей площади')\n",
    "plt.show()\n",
    "\n",
    "good_data.groupby('rooms')['last_price'].median().plot(grid=True)\n",
    "plt.xlabel(r'Количество комнат')\n",
    "plt.ylabel(r'Цена, руб.')\n",
    "plt.title(r'Зависимость стоимости квартиры от количества комнат')\n",
    "plt.show()\n",
    "\n",
    "good_data.plot(x='cityCenters_nearest', y='last_price', style='o', alpha=0.1, grid=True)\n",
    "plt.xlabel(r'Расстояние до центра, м')\n",
    "plt.ylabel(r'Цена, руб.')\n",
    "plt.title(r'Зависимость стоимости квартиры от удаленности от центра города')\n",
    "plt.show()"
   ]
  },
  {
   "cell_type": "markdown",
   "metadata": {},
   "source": [
    "Как видно из построенных выше графиков, цена прямопропорционально увеличивается с ростом общей площади и количеством комнат и уменьшается с увеличением расстояния до центра.\n",
    "\n",
    "Более точно наличие корреляции нам поможет определить коэффициент корреляции Пирсона."
   ]
  },
  {
   "cell_type": "code",
   "execution_count": 217,
   "metadata": {},
   "outputs": [
    {
     "name": "stdout",
     "output_type": "stream",
     "text": [
      "К-т Пирсона для цены и общей площади: 0.7670840651438924\n",
      "К-т Пирсона для цены и количества комнат: 0.49693027791665\n",
      "К-т Пирсона для цены и удаленности от центра: -0.3576373860464641\n"
     ]
    }
   ],
   "source": [
    "print('К-т Пирсона для цены и общей площади:', good_data['last_price'].corr(good_data['total_area']))\n",
    "print('К-т Пирсона для цены и количества комнат:', good_data['last_price'].corr(good_data['rooms']))\n",
    "print('К-т Пирсона для цены и удаленности от центра:', good_data['last_price'].corr(good_data['cityCenters_nearest']))\n"
   ]
  },
  {
   "cell_type": "markdown",
   "metadata": {},
   "source": [
    "##### Вывод\n",
    "\n",
    "Получили следующее:\n",
    "* Коэффициент корреляции Пирсона для таких величин как цена квартиры и общая площадь положителен и близок к 1, что говорит о том, что с ростом одной величины достаточно сильно влияет и на рост другой величины. \n",
    "* Цена также увеличивается с увеличением числа комнат, но зависимость меньше, чем в первом случае, так как рассчитанный коэфициент по своему значению ближе к 0.\n",
    "* В третьем случае связь между стоимостью квартиры и расстоянием до центра оказалась еще более слабой. При этом коэффициент Пирсона равен отрицательной величине, то есть с увеличением расстояния до центра уменьшается цена."
   ]
  },
  {
   "cell_type": "markdown",
   "metadata": {},
   "source": [
    "#### Зависимость цены от этажа "
   ]
  },
  {
   "cell_type": "markdown",
   "metadata": {},
   "source": [
    "Для определения зависимости цены квартиры от этажа построим сводную таблицу, сгруппировав данные по этажам и рассчитав среднюю стоимость квартиры. "
   ]
  },
  {
   "cell_type": "code",
   "execution_count": 218,
   "metadata": {},
   "outputs": [
    {
     "data": {
      "text/html": [
       "<div>\n",
       "<style scoped>\n",
       "    .dataframe tbody tr th:only-of-type {\n",
       "        vertical-align: middle;\n",
       "    }\n",
       "\n",
       "    .dataframe tbody tr th {\n",
       "        vertical-align: top;\n",
       "    }\n",
       "\n",
       "    .dataframe thead th {\n",
       "        text-align: right;\n",
       "    }\n",
       "</style>\n",
       "<table border=\"1\" class=\"dataframe\">\n",
       "  <thead>\n",
       "    <tr style=\"text-align: right;\">\n",
       "      <th></th>\n",
       "      <th>last_price</th>\n",
       "    </tr>\n",
       "    <tr>\n",
       "      <th>storey</th>\n",
       "      <th></th>\n",
       "    </tr>\n",
       "  </thead>\n",
       "  <tbody>\n",
       "    <tr>\n",
       "      <th>Другой</th>\n",
       "      <td>5.411887e+06</td>\n",
       "    </tr>\n",
       "    <tr>\n",
       "      <th>Первый</th>\n",
       "      <td>4.192202e+06</td>\n",
       "    </tr>\n",
       "    <tr>\n",
       "      <th>Последний</th>\n",
       "      <td>4.892056e+06</td>\n",
       "    </tr>\n",
       "  </tbody>\n",
       "</table>\n",
       "</div>"
      ],
      "text/plain": [
       "             last_price\n",
       "storey                 \n",
       "Другой     5.411887e+06\n",
       "Первый     4.192202e+06\n",
       "Последний  4.892056e+06"
      ]
     },
     "execution_count": 218,
     "metadata": {},
     "output_type": "execute_result"
    }
   ],
   "source": [
    "good_data.pivot_table(index='storey', values='last_price', aggfunc='mean')"
   ]
  },
  {
   "cell_type": "markdown",
   "metadata": {},
   "source": [
    "##### Вывод\n",
    "\n",
    "Анализируя полученную сводную таблицу, получаем, что максимальная средняя стоимость у квартир, размещенных на любых этажах, кроме первого и последнего, минимальная средняя стоимость у квартир на 1 этаже."
   ]
  },
  {
   "cell_type": "markdown",
   "metadata": {},
   "source": [
    "#### Зависимость цены от даты размещения"
   ]
  },
  {
   "cell_type": "markdown",
   "metadata": {},
   "source": [
    "Построим сводные таблицы для определения зависимости цены квартиры от года, месяца, даты размещения объявления."
   ]
  },
  {
   "cell_type": "code",
   "execution_count": 219,
   "metadata": {},
   "outputs": [
    {
     "data": {
      "text/html": [
       "<div>\n",
       "<style scoped>\n",
       "    .dataframe tbody tr th:only-of-type {\n",
       "        vertical-align: middle;\n",
       "    }\n",
       "\n",
       "    .dataframe tbody tr th {\n",
       "        vertical-align: top;\n",
       "    }\n",
       "\n",
       "    .dataframe thead th {\n",
       "        text-align: right;\n",
       "    }\n",
       "</style>\n",
       "<table border=\"1\" class=\"dataframe\">\n",
       "  <thead>\n",
       "    <tr style=\"text-align: right;\">\n",
       "      <th></th>\n",
       "      <th>last_price</th>\n",
       "    </tr>\n",
       "    <tr>\n",
       "      <th>year</th>\n",
       "      <th></th>\n",
       "    </tr>\n",
       "  </thead>\n",
       "  <tbody>\n",
       "    <tr>\n",
       "      <th>2014</th>\n",
       "      <td>8.075364e+06</td>\n",
       "    </tr>\n",
       "    <tr>\n",
       "      <th>2015</th>\n",
       "      <td>5.598218e+06</td>\n",
       "    </tr>\n",
       "    <tr>\n",
       "      <th>2016</th>\n",
       "      <td>5.286435e+06</td>\n",
       "    </tr>\n",
       "    <tr>\n",
       "      <th>2017</th>\n",
       "      <td>5.199773e+06</td>\n",
       "    </tr>\n",
       "    <tr>\n",
       "      <th>2018</th>\n",
       "      <td>5.085148e+06</td>\n",
       "    </tr>\n",
       "    <tr>\n",
       "      <th>2019</th>\n",
       "      <td>5.280518e+06</td>\n",
       "    </tr>\n",
       "  </tbody>\n",
       "</table>\n",
       "</div>"
      ],
      "text/plain": [
       "        last_price\n",
       "year              \n",
       "2014  8.075364e+06\n",
       "2015  5.598218e+06\n",
       "2016  5.286435e+06\n",
       "2017  5.199773e+06\n",
       "2018  5.085148e+06\n",
       "2019  5.280518e+06"
      ]
     },
     "metadata": {},
     "output_type": "display_data"
    },
    {
     "data": {
      "image/png": "[encoded data removed]",
      "text/plain": [
       "<Figure size 432x288 with 1 Axes>"
      ]
     },
     "metadata": {
      "needs_background": "light"
     },
     "output_type": "display_data"
    }
   ],
   "source": [
    "display(good_data.pivot_table(index='year', values='last_price', aggfunc='mean'))\n",
    "\n",
    "good_data.groupby('year')['last_price'].median().plot()\n",
    "plt.title('Зависимость цены от года размещения объявления')\n",
    "plt.xlabel('Год')\n",
    "plt.ylabel('Среднегодовая стоимость, руб.')\n",
    "plt.show()"
   ]
  },
  {
   "cell_type": "markdown",
   "metadata": {},
   "source": [
    "После построения графика зависимости стоимости квартиры от года размещения объявления получили, что с 2014 по 2018 год цена постоянно падала. К 2019 году средняя стомость квартиры немного увеличилась. "
   ]
  },
  {
   "cell_type": "markdown",
   "metadata": {},
   "source": [
    "Построим сводную таблицу и для месяцов размещения объявлений."
   ]
  },
  {
   "cell_type": "code",
   "execution_count": 220,
   "metadata": {},
   "outputs": [
    {
     "data": {
      "text/html": [
       "<div>\n",
       "<style scoped>\n",
       "    .dataframe tbody tr th:only-of-type {\n",
       "        vertical-align: middle;\n",
       "    }\n",
       "\n",
       "    .dataframe tbody tr th {\n",
       "        vertical-align: top;\n",
       "    }\n",
       "\n",
       "    .dataframe thead th {\n",
       "        text-align: right;\n",
       "    }\n",
       "</style>\n",
       "<table border=\"1\" class=\"dataframe\">\n",
       "  <thead>\n",
       "    <tr style=\"text-align: right;\">\n",
       "      <th></th>\n",
       "      <th>last_price</th>\n",
       "    </tr>\n",
       "    <tr>\n",
       "      <th>month</th>\n",
       "      <th></th>\n",
       "    </tr>\n",
       "  </thead>\n",
       "  <tbody>\n",
       "    <tr>\n",
       "      <th>1</th>\n",
       "      <td>5.161415e+06</td>\n",
       "    </tr>\n",
       "    <tr>\n",
       "      <th>2</th>\n",
       "      <td>5.190086e+06</td>\n",
       "    </tr>\n",
       "    <tr>\n",
       "      <th>3</th>\n",
       "      <td>5.118665e+06</td>\n",
       "    </tr>\n",
       "    <tr>\n",
       "      <th>4</th>\n",
       "      <td>5.209738e+06</td>\n",
       "    </tr>\n",
       "    <tr>\n",
       "      <th>5</th>\n",
       "      <td>5.240149e+06</td>\n",
       "    </tr>\n",
       "    <tr>\n",
       "      <th>6</th>\n",
       "      <td>5.081087e+06</td>\n",
       "    </tr>\n",
       "    <tr>\n",
       "      <th>7</th>\n",
       "      <td>5.149824e+06</td>\n",
       "    </tr>\n",
       "    <tr>\n",
       "      <th>8</th>\n",
       "      <td>5.196804e+06</td>\n",
       "    </tr>\n",
       "    <tr>\n",
       "      <th>9</th>\n",
       "      <td>5.398971e+06</td>\n",
       "    </tr>\n",
       "    <tr>\n",
       "      <th>10</th>\n",
       "      <td>5.179623e+06</td>\n",
       "    </tr>\n",
       "    <tr>\n",
       "      <th>11</th>\n",
       "      <td>5.251999e+06</td>\n",
       "    </tr>\n",
       "    <tr>\n",
       "      <th>12</th>\n",
       "      <td>5.113427e+06</td>\n",
       "    </tr>\n",
       "  </tbody>\n",
       "</table>\n",
       "</div>"
      ],
      "text/plain": [
       "         last_price\n",
       "month              \n",
       "1      5.161415e+06\n",
       "2      5.190086e+06\n",
       "3      5.118665e+06\n",
       "4      5.209738e+06\n",
       "5      5.240149e+06\n",
       "6      5.081087e+06\n",
       "7      5.149824e+06\n",
       "8      5.196804e+06\n",
       "9      5.398971e+06\n",
       "10     5.179623e+06\n",
       "11     5.251999e+06\n",
       "12     5.113427e+06"
      ]
     },
     "execution_count": 220,
     "metadata": {},
     "output_type": "execute_result"
    }
   ],
   "source": [
    "good_data.pivot_table(index= 'month', values='last_price', aggfunc='mean')"
   ]
  },
  {
   "cell_type": "markdown",
   "metadata": {},
   "source": [
    "Четкой связи между месяцем размещения объявления и стоимостью квартиры не прослеживается. Чтобы в этом убедиться, постороим также график, отображающий эту зависимость."
   ]
  },
  {
   "cell_type": "code",
   "execution_count": 221,
   "metadata": {},
   "outputs": [
    {
     "data": {
      "image/png": "[encoded data removed]",
      "text/plain": [
       "<Figure size 432x288 with 1 Axes>"
      ]
     },
     "metadata": {
      "needs_background": "light"
     },
     "output_type": "display_data"
    }
   ],
   "source": [
    "good_data.groupby('month')['last_price'].median().plot()\n",
    "plt.title('Зависимость цены от года размещения объявления')\n",
    "plt.xlabel('Год')\n",
    "plt.ylabel('Среднегодовая стоимость, руб.')\n",
    "plt.show()"
   ]
  },
  {
   "cell_type": "markdown",
   "metadata": {},
   "source": [
    "Здесь также сложно проследить зависимость между месяцем размещения объявления и стоимостью квартиры. Также нельзя выделить сезоны года, когда цена бы возрастала или уменьшалась. \n",
    "\n",
    "Коэффициент корреляции Пирсона также показывает практически отсутствие линейной зависимости между этими показателями:"
   ]
  },
  {
   "cell_type": "code",
   "execution_count": 222,
   "metadata": {},
   "outputs": [
    {
     "name": "stdout",
     "output_type": "stream",
     "text": [
      "К-т Пирсона: 0.007107561077571428\n"
     ]
    }
   ],
   "source": [
    "print('К-т Пирсона:', good_data['month'].corr(good_data['last_price']))"
   ]
  },
  {
   "cell_type": "markdown",
   "metadata": {},
   "source": [
    "Сводную таблицу также построим для нахождения средних цен на квартиры в зависимости от дня недели."
   ]
  },
  {
   "cell_type": "code",
   "execution_count": 223,
   "metadata": {},
   "outputs": [
    {
     "data": {
      "text/html": [
       "<div>\n",
       "<style scoped>\n",
       "    .dataframe tbody tr th:only-of-type {\n",
       "        vertical-align: middle;\n",
       "    }\n",
       "\n",
       "    .dataframe tbody tr th {\n",
       "        vertical-align: top;\n",
       "    }\n",
       "\n",
       "    .dataframe thead th {\n",
       "        text-align: right;\n",
       "    }\n",
       "</style>\n",
       "<table border=\"1\" class=\"dataframe\">\n",
       "  <thead>\n",
       "    <tr style=\"text-align: right;\">\n",
       "      <th></th>\n",
       "      <th>last_price</th>\n",
       "    </tr>\n",
       "    <tr>\n",
       "      <th>weekday</th>\n",
       "      <th></th>\n",
       "    </tr>\n",
       "  </thead>\n",
       "  <tbody>\n",
       "    <tr>\n",
       "      <th>0</th>\n",
       "      <td>5.141605e+06</td>\n",
       "    </tr>\n",
       "    <tr>\n",
       "      <th>1</th>\n",
       "      <td>5.257391e+06</td>\n",
       "    </tr>\n",
       "    <tr>\n",
       "      <th>2</th>\n",
       "      <td>5.202239e+06</td>\n",
       "    </tr>\n",
       "    <tr>\n",
       "      <th>3</th>\n",
       "      <td>5.283388e+06</td>\n",
       "    </tr>\n",
       "    <tr>\n",
       "      <th>4</th>\n",
       "      <td>5.178371e+06</td>\n",
       "    </tr>\n",
       "    <tr>\n",
       "      <th>5</th>\n",
       "      <td>5.092196e+06</td>\n",
       "    </tr>\n",
       "    <tr>\n",
       "      <th>6</th>\n",
       "      <td>5.047672e+06</td>\n",
       "    </tr>\n",
       "  </tbody>\n",
       "</table>\n",
       "</div>"
      ],
      "text/plain": [
       "           last_price\n",
       "weekday              \n",
       "0        5.141605e+06\n",
       "1        5.257391e+06\n",
       "2        5.202239e+06\n",
       "3        5.283388e+06\n",
       "4        5.178371e+06\n",
       "5        5.092196e+06\n",
       "6        5.047672e+06"
      ]
     },
     "execution_count": 223,
     "metadata": {},
     "output_type": "execute_result"
    }
   ],
   "source": [
    "good_data.pivot_table(index='weekday', values='last_price', aggfunc='mean')"
   ]
  },
  {
   "cell_type": "markdown",
   "metadata": {},
   "source": [
    "Из полученной таблицы можно отметить, что минимальная стоимость соответствует объявлениям, размещенным на выходных. Но цены меняются очень незначительно."
   ]
  },
  {
   "cell_type": "markdown",
   "metadata": {},
   "source": [
    "##### Вывод\n",
    "\n",
    "Дата размещения практически не влияет на стоимость размещаемой в объявлении квартиры. Но можно отметить, что в объявлениях, опубликованных на выходных, цены чуть ниже, чем в другие дни.\n",
    "\n",
    "Картина с месяцем и днем недели похожа на случайность. Ведь речь идет о дате размещения и о цене продажи. Разместить можно во вторник в мае, а продать в пятницу в ноябре, по более низкой цене. А вот год - да, вполне может влиять. Из года в год экономическая ситуация меняется, а вместе с ней и покупательская способность."
   ]
  },
  {
   "cell_type": "markdown",
   "metadata": {},
   "source": [
    "### Анализ цены в зависимости от населенного пункта"
   ]
  },
  {
   "cell_type": "markdown",
   "metadata": {},
   "source": [
    "Выберем 10 населённых пунктов с наибольшим числом объявлений. Посчитаем среднюю цену квадратного метра в этих населённых пунктах и выделим населённые пункты с самой высокой и низкой стоимостью жилья."
   ]
  },
  {
   "cell_type": "code",
   "execution_count": 224,
   "metadata": {},
   "outputs": [
    {
     "data": {
      "text/html": [
       "<div>\n",
       "<style scoped>\n",
       "    .dataframe tbody tr th:only-of-type {\n",
       "        vertical-align: middle;\n",
       "    }\n",
       "\n",
       "    .dataframe tbody tr th {\n",
       "        vertical-align: top;\n",
       "    }\n",
       "\n",
       "    .dataframe thead tr th {\n",
       "        text-align: left;\n",
       "    }\n",
       "\n",
       "    .dataframe thead tr:last-of-type th {\n",
       "        text-align: right;\n",
       "    }\n",
       "</style>\n",
       "<table border=\"1\" class=\"dataframe\">\n",
       "  <thead>\n",
       "    <tr>\n",
       "      <th></th>\n",
       "      <th>count</th>\n",
       "      <th>mean</th>\n",
       "    </tr>\n",
       "    <tr>\n",
       "      <th></th>\n",
       "      <th>price_per_m2</th>\n",
       "      <th>price_per_m2</th>\n",
       "    </tr>\n",
       "    <tr>\n",
       "      <th>locality_name</th>\n",
       "      <th></th>\n",
       "      <th></th>\n",
       "    </tr>\n",
       "  </thead>\n",
       "  <tbody>\n",
       "    <tr>\n",
       "      <th>Санкт-Петербург</th>\n",
       "      <td>12656</td>\n",
       "      <td>107029.156432</td>\n",
       "    </tr>\n",
       "    <tr>\n",
       "      <th>посёлок Мурино</th>\n",
       "      <td>502</td>\n",
       "      <td>85946.851819</td>\n",
       "    </tr>\n",
       "    <tr>\n",
       "      <th>посёлок Шушары</th>\n",
       "      <td>401</td>\n",
       "      <td>77916.291231</td>\n",
       "    </tr>\n",
       "    <tr>\n",
       "      <th>Всеволожск</th>\n",
       "      <td>328</td>\n",
       "      <td>66813.210005</td>\n",
       "    </tr>\n",
       "    <tr>\n",
       "      <th>Колпино</th>\n",
       "      <td>303</td>\n",
       "      <td>74692.665926</td>\n",
       "    </tr>\n",
       "    <tr>\n",
       "      <th>посёлок Парголово</th>\n",
       "      <td>296</td>\n",
       "      <td>89556.308065</td>\n",
       "    </tr>\n",
       "    <tr>\n",
       "      <th>деревня Кудрово</th>\n",
       "      <td>290</td>\n",
       "      <td>92521.241126</td>\n",
       "    </tr>\n",
       "    <tr>\n",
       "      <th>Пушкин</th>\n",
       "      <td>287</td>\n",
       "      <td>100469.488216</td>\n",
       "    </tr>\n",
       "    <tr>\n",
       "      <th>Гатчина</th>\n",
       "      <td>258</td>\n",
       "      <td>68111.997936</td>\n",
       "    </tr>\n",
       "    <tr>\n",
       "      <th>Выборг</th>\n",
       "      <td>198</td>\n",
       "      <td>57234.478435</td>\n",
       "    </tr>\n",
       "  </tbody>\n",
       "</table>\n",
       "</div>"
      ],
      "text/plain": [
       "                         count           mean\n",
       "                  price_per_m2   price_per_m2\n",
       "locality_name                                \n",
       "Санкт-Петербург          12656  107029.156432\n",
       "посёлок Мурино             502   85946.851819\n",
       "посёлок Шушары             401   77916.291231\n",
       "Всеволожск                 328   66813.210005\n",
       "Колпино                    303   74692.665926\n",
       "посёлок Парголово          296   89556.308065\n",
       "деревня Кудрово            290   92521.241126\n",
       "Пушкин                     287  100469.488216\n",
       "Гатчина                    258   68111.997936\n",
       "Выборг                     198   57234.478435"
      ]
     },
     "execution_count": 224,
     "metadata": {},
     "output_type": "execute_result"
    }
   ],
   "source": [
    "good_data.pivot_table(index='locality_name', values='price_per_m2', aggfunc=['count','mean']).sort_values(('count','price_per_m2'), ascending=False).head(10)"
   ]
  },
  {
   "cell_type": "markdown",
   "metadata": {},
   "source": [
    "#### Вывод\n",
    "\n",
    "Получили, что наибольшее количество объявлений размещено в Санкт-Петербурге, а 10 место по количеству объявлений заняла деревня Кудрово.\n",
    "\n",
    "Стоимость квадратного метра также оказалась наибольшей для Санкт-Петербурга и составила чуть больше 107 тысяч рублей. Чуть меньшая стоимость квадратного метра соответствует городу Пушкин.\n",
    "Наименьшая средняя стоимость квадратного метра среди выделенных населенных пунктов оказалась в городе Всеволожск и составила чуть больше 66 тысяч рублей, несмотря на то, что по количеству выставленных объявлений этот город занял второе место."
   ]
  },
  {
   "cell_type": "markdown",
   "metadata": {},
   "source": [
    "### Определение области, относящейся к центру Санкт-Петербурга"
   ]
  },
  {
   "cell_type": "markdown",
   "metadata": {},
   "source": [
    "Выделим квартиры в Санкт-Петербурге и выясним, какая область входит в центр. Для этого создадим столбец с расстоянием до центра в километрах, округляя до целых значений. После этого посчитайте среднюю цену для каждого километра. Постройте график: он должен показывать, как цена зависит от удалённости от центра. Определите границу, где график сильно меняется, — это и будет центральная зона."
   ]
  },
  {
   "cell_type": "code",
   "execution_count": 225,
   "metadata": {},
   "outputs": [
    {
     "data": {
      "text/html": [
       "<div>\n",
       "<style scoped>\n",
       "    .dataframe tbody tr th:only-of-type {\n",
       "        vertical-align: middle;\n",
       "    }\n",
       "\n",
       "    .dataframe tbody tr th {\n",
       "        vertical-align: top;\n",
       "    }\n",
       "\n",
       "    .dataframe thead th {\n",
       "        text-align: right;\n",
       "    }\n",
       "</style>\n",
       "<table border=\"1\" class=\"dataframe\">\n",
       "  <thead>\n",
       "    <tr style=\"text-align: right;\">\n",
       "      <th></th>\n",
       "      <th>last_price</th>\n",
       "    </tr>\n",
       "    <tr>\n",
       "      <th>distance</th>\n",
       "      <th></th>\n",
       "    </tr>\n",
       "  </thead>\n",
       "  <tbody>\n",
       "    <tr>\n",
       "      <th>0</th>\n",
       "      <td>9.527760e+06</td>\n",
       "    </tr>\n",
       "    <tr>\n",
       "      <th>1</th>\n",
       "      <td>1.005160e+07</td>\n",
       "    </tr>\n",
       "    <tr>\n",
       "      <th>2</th>\n",
       "      <td>8.820994e+06</td>\n",
       "    </tr>\n",
       "    <tr>\n",
       "      <th>3</th>\n",
       "      <td>8.531960e+06</td>\n",
       "    </tr>\n",
       "    <tr>\n",
       "      <th>4</th>\n",
       "      <td>9.212573e+06</td>\n",
       "    </tr>\n",
       "    <tr>\n",
       "      <th>5</th>\n",
       "      <td>8.314035e+06</td>\n",
       "    </tr>\n",
       "    <tr>\n",
       "      <th>6</th>\n",
       "      <td>7.897282e+06</td>\n",
       "    </tr>\n",
       "    <tr>\n",
       "      <th>7</th>\n",
       "      <td>7.841339e+06</td>\n",
       "    </tr>\n",
       "    <tr>\n",
       "      <th>8</th>\n",
       "      <td>6.974950e+06</td>\n",
       "    </tr>\n",
       "    <tr>\n",
       "      <th>9</th>\n",
       "      <td>5.842176e+06</td>\n",
       "    </tr>\n",
       "    <tr>\n",
       "      <th>10</th>\n",
       "      <td>5.773539e+06</td>\n",
       "    </tr>\n",
       "    <tr>\n",
       "      <th>11</th>\n",
       "      <td>5.465270e+06</td>\n",
       "    </tr>\n",
       "    <tr>\n",
       "      <th>12</th>\n",
       "      <td>5.669279e+06</td>\n",
       "    </tr>\n",
       "    <tr>\n",
       "      <th>13</th>\n",
       "      <td>5.745674e+06</td>\n",
       "    </tr>\n",
       "    <tr>\n",
       "      <th>14</th>\n",
       "      <td>5.383210e+06</td>\n",
       "    </tr>\n",
       "    <tr>\n",
       "      <th>15</th>\n",
       "      <td>5.225230e+06</td>\n",
       "    </tr>\n",
       "    <tr>\n",
       "      <th>16</th>\n",
       "      <td>5.156196e+06</td>\n",
       "    </tr>\n",
       "    <tr>\n",
       "      <th>17</th>\n",
       "      <td>4.749717e+06</td>\n",
       "    </tr>\n",
       "    <tr>\n",
       "      <th>18</th>\n",
       "      <td>4.899057e+06</td>\n",
       "    </tr>\n",
       "    <tr>\n",
       "      <th>19</th>\n",
       "      <td>4.429575e+06</td>\n",
       "    </tr>\n",
       "    <tr>\n",
       "      <th>20</th>\n",
       "      <td>5.812268e+06</td>\n",
       "    </tr>\n",
       "    <tr>\n",
       "      <th>21</th>\n",
       "      <td>4.950778e+06</td>\n",
       "    </tr>\n",
       "    <tr>\n",
       "      <th>22</th>\n",
       "      <td>4.968686e+06</td>\n",
       "    </tr>\n",
       "    <tr>\n",
       "      <th>23</th>\n",
       "      <td>4.119417e+06</td>\n",
       "    </tr>\n",
       "    <tr>\n",
       "      <th>24</th>\n",
       "      <td>3.862235e+06</td>\n",
       "    </tr>\n",
       "    <tr>\n",
       "      <th>25</th>\n",
       "      <td>3.974709e+06</td>\n",
       "    </tr>\n",
       "    <tr>\n",
       "      <th>26</th>\n",
       "      <td>3.575000e+06</td>\n",
       "    </tr>\n",
       "    <tr>\n",
       "      <th>27</th>\n",
       "      <td>8.300000e+06</td>\n",
       "    </tr>\n",
       "    <tr>\n",
       "      <th>28</th>\n",
       "      <td>4.970556e+06</td>\n",
       "    </tr>\n",
       "    <tr>\n",
       "      <th>29</th>\n",
       "      <td>3.325000e+06</td>\n",
       "    </tr>\n",
       "  </tbody>\n",
       "</table>\n",
       "</div>"
      ],
      "text/plain": [
       "            last_price\n",
       "distance              \n",
       "0         9.527760e+06\n",
       "1         1.005160e+07\n",
       "2         8.820994e+06\n",
       "3         8.531960e+06\n",
       "4         9.212573e+06\n",
       "5         8.314035e+06\n",
       "6         7.897282e+06\n",
       "7         7.841339e+06\n",
       "8         6.974950e+06\n",
       "9         5.842176e+06\n",
       "10        5.773539e+06\n",
       "11        5.465270e+06\n",
       "12        5.669279e+06\n",
       "13        5.745674e+06\n",
       "14        5.383210e+06\n",
       "15        5.225230e+06\n",
       "16        5.156196e+06\n",
       "17        4.749717e+06\n",
       "18        4.899057e+06\n",
       "19        4.429575e+06\n",
       "20        5.812268e+06\n",
       "21        4.950778e+06\n",
       "22        4.968686e+06\n",
       "23        4.119417e+06\n",
       "24        3.862235e+06\n",
       "25        3.974709e+06\n",
       "26        3.575000e+06\n",
       "27        8.300000e+06\n",
       "28        4.970556e+06\n",
       "29        3.325000e+06"
      ]
     },
     "metadata": {},
     "output_type": "display_data"
    },
    {
     "data": {
      "text/plain": [
       "<AxesSubplot:xlabel='distance'>"
      ]
     },
     "execution_count": 225,
     "metadata": {},
     "output_type": "execute_result"
    },
    {
     "data": {
      "image/png": "[encoded data removed]",
      "text/plain": [
       "<Figure size 576x216 with 1 Axes>"
      ]
     },
     "metadata": {
      "needs_background": "light"
     },
     "output_type": "display_data"
    }
   ],
   "source": [
    "#Выделяем квартиры в Санкт-Петербурге\n",
    "city = good_data.query('locality_name == \"Санкт-Петербург\"')         \n",
    "\n",
    "#Отбрасываем строки без информации о расстоянии до центра\n",
    "city=city.dropna(subset=['cityCenters_nearest'])     \n",
    "\n",
    "#Переводим расстояние в км и записываем в виде целого числа\n",
    "city['distance'] = (city['cityCenters_nearest']/1000).astype('int') \n",
    "\n",
    "#Выводим сводную таблицу со значениями средних цен квартир для каждого км\n",
    "table = city.pivot_table(index='distance', values='last_price', aggfunc='mean')\n",
    "display(table)\n",
    "\n",
    "#Строим график зависимости цены квартиры от удаленности от центра \n",
    "table.plot(style='ro',figsize=(8,3), mew=5)\n"
   ]
  },
  {
   "cell_type": "markdown",
   "metadata": {},
   "source": [
    "#### Вывод"
   ]
  },
  {
   "cell_type": "markdown",
   "metadata": {},
   "source": [
    "Как видно из полученного графика, резкий скачок вниз цены происходит после отметки в 3 км. То есть центральной зоной города будем считать области, удаленные от центра города на расстояние не более 3 км."
   ]
  },
  {
   "cell_type": "markdown",
   "metadata": {},
   "source": [
    "### Анализ квартир, размещенных в центре"
   ]
  },
  {
   "cell_type": "markdown",
   "metadata": {},
   "source": [
    "Выделим сегмент квартир в центре, для этого присвоим каждому объявлению категорию в зависимости от принадлежности к центральной области: центр или периферия. \n",
    "\n",
    "Проанализируем эти территории и изучим следующие параметры: площадь, цена, число комнат, высота потолков. "
   ]
  },
  {
   "cell_type": "code",
   "execution_count": 226,
   "metadata": {},
   "outputs": [
    {
     "data": {
      "text/html": [
       "<div>\n",
       "<style scoped>\n",
       "    .dataframe tbody tr th:only-of-type {\n",
       "        vertical-align: middle;\n",
       "    }\n",
       "\n",
       "    .dataframe tbody tr th {\n",
       "        vertical-align: top;\n",
       "    }\n",
       "\n",
       "    .dataframe thead th {\n",
       "        text-align: right;\n",
       "    }\n",
       "</style>\n",
       "<table border=\"1\" class=\"dataframe\">\n",
       "  <thead>\n",
       "    <tr style=\"text-align: right;\">\n",
       "      <th></th>\n",
       "      <th>ceiling_height</th>\n",
       "      <th>last_price</th>\n",
       "      <th>rooms</th>\n",
       "      <th>total_area</th>\n",
       "    </tr>\n",
       "    <tr>\n",
       "      <th>type</th>\n",
       "      <th></th>\n",
       "      <th></th>\n",
       "      <th></th>\n",
       "      <th></th>\n",
       "    </tr>\n",
       "  </thead>\n",
       "  <tbody>\n",
       "    <tr>\n",
       "      <th>Периферия</th>\n",
       "      <td>2.686246</td>\n",
       "      <td>6.011760e+06</td>\n",
       "      <td>1.996813</td>\n",
       "      <td>56.538754</td>\n",
       "    </tr>\n",
       "    <tr>\n",
       "      <th>Центр</th>\n",
       "      <td>3.006095</td>\n",
       "      <td>9.380326e+06</td>\n",
       "      <td>2.788557</td>\n",
       "      <td>80.250174</td>\n",
       "    </tr>\n",
       "  </tbody>\n",
       "</table>\n",
       "</div>"
      ],
      "text/plain": [
       "           ceiling_height    last_price     rooms  total_area\n",
       "type                                                         \n",
       "Периферия        2.686246  6.011760e+06  1.996813   56.538754\n",
       "Центр            3.006095  9.380326e+06  2.788557   80.250174"
      ]
     },
     "metadata": {},
     "output_type": "display_data"
    }
   ],
   "source": [
    "#Функция по выделению категории в зависимости от размещения квартиры\n",
    "def center(row):              \n",
    "    distance = row['cityCenters_nearest']\n",
    "    \n",
    "    if distance <= 3000:\n",
    "        return 'Центр'\n",
    "    \n",
    "    if distance > 3000:\n",
    "        return 'Периферия'\n",
    "   \n",
    "\n",
    "city['type'] = city.apply(center, axis = 1)    \n",
    "\n",
    "\n",
    "display(city.pivot_table(index='type',values=['total_area','last_price','rooms', 'ceiling_height'], aggfunc='mean'))"
   ]
  },
  {
   "cell_type": "markdown",
   "metadata": {},
   "source": [
    "Получаем, что для квартир, размещенных в центре города все анализируемые параметры больше по значению, чем для квартир, размещенных на периферии: средняя высота потолков уже больше 3 метров, средняя цена составляет более 18 млн рублей, количетсво комнат в среднем 3, а общая площадь составляет больше 100 кв. метров."
   ]
  },
  {
   "cell_type": "markdown",
   "metadata": {},
   "source": [
    "Также выделим факторы, которые сильнее всего влияют на стоимость квартиры (площадь, число комнат, этаж, удалённость от центра, дата размещения объявления). \n",
    "\n",
    "Для численных значений расчитаем коэффициент корреляции Пирсона:"
   ]
  },
  {
   "cell_type": "code",
   "execution_count": 227,
   "metadata": {},
   "outputs": [
    {
     "name": "stdout",
     "output_type": "stream",
     "text": [
      "К-т Пирсона для цены и общей площади: 0.6588198024574135\n",
      "К-т Пирсона для цены и кол-ва комнат: 0.476656198765855\n",
      "К-т Пирсона для цены и удаленности от центра: -0.1621097234709185\n"
     ]
    }
   ],
   "source": [
    "city_center = city.query('type == \"Центр\"')\n",
    "print('К-т Пирсона для цены и общей площади:', city_center['last_price'].corr(city_center['total_area']))\n",
    "print('К-т Пирсона для цены и кол-ва комнат:', city_center['last_price'].corr(city_center['rooms']))\n",
    "print('К-т Пирсона для цены и удаленности от центра:', city_center['last_price'].corr(city_center['cityCenters_nearest']))\n"
   ]
  },
  {
   "cell_type": "code",
   "execution_count": 228,
   "metadata": {},
   "outputs": [
    {
     "data": {
      "image/png": "[encoded data removed]",
      "text/plain": [
       "<Figure size 432x288 with 1 Axes>"
      ]
     },
     "metadata": {
      "needs_background": "light"
     },
     "output_type": "display_data"
    },
    {
     "data": {
      "image/png": "[encoded data removed]",
      "text/plain": [
       "<Figure size 432x288 with 1 Axes>"
      ]
     },
     "metadata": {
      "needs_background": "light"
     },
     "output_type": "display_data"
    },
    {
     "data": {
      "image/png": "[encoded data removed]",
      "text/plain": [
       "<Figure size 432x288 with 1 Axes>"
      ]
     },
     "metadata": {
      "needs_background": "light"
     },
     "output_type": "display_data"
    }
   ],
   "source": [
    "city_center.plot(x='total_area', y='last_price', style='o', alpha=0.5, grid=True)\n",
    "plt.xlim([0, 200])\n",
    "plt.ylim([0, 10**8])\n",
    "plt.xlabel(r'Площадь, $м^{2}$')\n",
    "plt.ylabel(r'Цена, руб.')\n",
    "plt.title(r'Зависимость стоимости квартиры от общей площади')\n",
    "plt.show()\n",
    "\n",
    "city_center.groupby('rooms')['last_price'].median().plot(grid=True)\n",
    "plt.xlabel(r'Количество комнат')\n",
    "plt.ylabel(r'Цена, руб.')\n",
    "plt.title(r'Зависимость стоимости квартиры от количества комнат')\n",
    "plt.show()\n",
    "\n",
    "city_center.groupby('cityCenters_nearest')['last_price'].median().plot(grid=True)\n",
    "#city_center.plot(x='cityCenters_nearest', y='last_price', style='o', alpha=0.5, grid=True)\n",
    "plt.xlabel(r'Расстояние до центра, м')\n",
    "plt.ylabel(r'Цена, руб.')\n",
    "plt.title(r'Зависимость стоимости квартиры от удаленности от центра города')\n",
    "plt.show()"
   ]
  },
  {
   "cell_type": "markdown",
   "metadata": {},
   "source": [
    " Видно, что сильнее всего на стоимость квартиры влияет общая площадь и количество комнат. Причем стоимость тем больше, чем больше площадь квартиры и число комнат в ней. Удаленность от центра практически не влияет на стоимость.\n",
    "\n",
    "Посмотрим также, как меняется стоимость квартир, расположенных в центральной части города, в зависимости от того, на каком этаже они находятся:"
   ]
  },
  {
   "cell_type": "code",
   "execution_count": 229,
   "metadata": {},
   "outputs": [
    {
     "data": {
      "text/html": [
       "<div>\n",
       "<style scoped>\n",
       "    .dataframe tbody tr th:only-of-type {\n",
       "        vertical-align: middle;\n",
       "    }\n",
       "\n",
       "    .dataframe tbody tr th {\n",
       "        vertical-align: top;\n",
       "    }\n",
       "\n",
       "    .dataframe thead th {\n",
       "        text-align: right;\n",
       "    }\n",
       "</style>\n",
       "<table border=\"1\" class=\"dataframe\">\n",
       "  <thead>\n",
       "    <tr style=\"text-align: right;\">\n",
       "      <th></th>\n",
       "      <th>last_price</th>\n",
       "    </tr>\n",
       "    <tr>\n",
       "      <th>storey</th>\n",
       "      <th></th>\n",
       "    </tr>\n",
       "  </thead>\n",
       "  <tbody>\n",
       "    <tr>\n",
       "      <th>Другой</th>\n",
       "      <td>9.909286e+06</td>\n",
       "    </tr>\n",
       "    <tr>\n",
       "      <th>Первый</th>\n",
       "      <td>7.595150e+06</td>\n",
       "    </tr>\n",
       "    <tr>\n",
       "      <th>Последний</th>\n",
       "      <td>9.321941e+06</td>\n",
       "    </tr>\n",
       "  </tbody>\n",
       "</table>\n",
       "</div>"
      ],
      "text/plain": [
       "             last_price\n",
       "storey                 \n",
       "Другой     9.909286e+06\n",
       "Первый     7.595150e+06\n",
       "Последний  9.321941e+06"
      ]
     },
     "execution_count": 229,
     "metadata": {},
     "output_type": "execute_result"
    }
   ],
   "source": [
    "city_center.pivot_table(index='storey', values='last_price', aggfunc='mean')"
   ]
  },
  {
   "cell_type": "markdown",
   "metadata": {},
   "source": [
    "Получили, что цена минимальная для квартир, размещенных на первом этаже, а выше всего стоимость у квартир, размещенных на этажах, не относящихся ни к первому, ни к последнему.  "
   ]
  },
  {
   "cell_type": "markdown",
   "metadata": {},
   "source": [
    "Также посмотрим, как будет влиять на цену дата размещения объявления:"
   ]
  },
  {
   "cell_type": "code",
   "execution_count": 230,
   "metadata": {},
   "outputs": [
    {
     "name": "stdout",
     "output_type": "stream",
     "text": [
      "Связь цены и года размещения: -0.02917121539901504\n",
      "Связь цены и месяца размещения: -0.07286818009759086\n"
     ]
    }
   ],
   "source": [
    "print('Связь цены и года размещения:', city_center['year'].corr(city_center['last_price']))\n",
    "print('Связь цены и месяца размещения:', city_center['month'].corr(city_center['last_price']))"
   ]
  },
  {
   "cell_type": "markdown",
   "metadata": {},
   "source": [
    "Дополнительно построим графики для визуальной оценки зависимости данных параметров."
   ]
  },
  {
   "cell_type": "code",
   "execution_count": 231,
   "metadata": {},
   "outputs": [
    {
     "data": {
      "image/png": "[encoded data removed]",
      "text/plain": [
       "<Figure size 432x288 with 1 Axes>"
      ]
     },
     "metadata": {
      "needs_background": "light"
     },
     "output_type": "display_data"
    },
    {
     "data": {
      "image/png": "[encoded data removed]",
      "text/plain": [
       "<Figure size 432x288 with 1 Axes>"
      ]
     },
     "metadata": {
      "needs_background": "light"
     },
     "output_type": "display_data"
    }
   ],
   "source": [
    "city_center.groupby('year')['last_price'].median().plot(grid=True)\n",
    "plt.xlabel(r'Год')\n",
    "plt.ylabel(r'Цена, $10^{7}$ руб.')\n",
    "plt.title(r'Зависимость стоимости квартиры от года размещения объявления')\n",
    "plt.show()\n",
    "\n",
    "city_center.groupby('month')['last_price'].median().plot(grid=True)\n",
    "plt.xlabel(r'Месяц')\n",
    "plt.ylabel(r'Цена, $10^{7}$  руб.')\n",
    "plt.title(r'Зависимость стоимости квартиры от месяца размещения объявления')\n",
    "plt.show()"
   ]
  },
  {
   "cell_type": "markdown",
   "metadata": {},
   "source": [
    "Получили, что месяц размещения объявлений практически не влияет на величину стоимости квартиры.\n",
    "В 2015-2016 годах среднегодовая стоимость квартир оставалась практически на одном уровне, ближе к 2017 году произошел резкий скачок стоимости квартир вниз, далее виден небольшой рост стоимости квартир до 2019 года.\n",
    "\n",
    "Посмотрим, как влияет на цену день недели:"
   ]
  },
  {
   "cell_type": "code",
   "execution_count": 232,
   "metadata": {},
   "outputs": [
    {
     "data": {
      "text/html": [
       "<div>\n",
       "<style scoped>\n",
       "    .dataframe tbody tr th:only-of-type {\n",
       "        vertical-align: middle;\n",
       "    }\n",
       "\n",
       "    .dataframe tbody tr th {\n",
       "        vertical-align: top;\n",
       "    }\n",
       "\n",
       "    .dataframe thead th {\n",
       "        text-align: right;\n",
       "    }\n",
       "</style>\n",
       "<table border=\"1\" class=\"dataframe\">\n",
       "  <thead>\n",
       "    <tr style=\"text-align: right;\">\n",
       "      <th></th>\n",
       "      <th>last_price</th>\n",
       "    </tr>\n",
       "    <tr>\n",
       "      <th>weekday</th>\n",
       "      <th></th>\n",
       "    </tr>\n",
       "  </thead>\n",
       "  <tbody>\n",
       "    <tr>\n",
       "      <th>5</th>\n",
       "      <td>8.867469e+06</td>\n",
       "    </tr>\n",
       "    <tr>\n",
       "      <th>1</th>\n",
       "      <td>8.925325e+06</td>\n",
       "    </tr>\n",
       "    <tr>\n",
       "      <th>3</th>\n",
       "      <td>9.246329e+06</td>\n",
       "    </tr>\n",
       "    <tr>\n",
       "      <th>4</th>\n",
       "      <td>9.298100e+06</td>\n",
       "    </tr>\n",
       "    <tr>\n",
       "      <th>6</th>\n",
       "      <td>9.512786e+06</td>\n",
       "    </tr>\n",
       "    <tr>\n",
       "      <th>0</th>\n",
       "      <td>9.782792e+06</td>\n",
       "    </tr>\n",
       "    <tr>\n",
       "      <th>2</th>\n",
       "      <td>9.878362e+06</td>\n",
       "    </tr>\n",
       "  </tbody>\n",
       "</table>\n",
       "</div>"
      ],
      "text/plain": [
       "           last_price\n",
       "weekday              \n",
       "5        8.867469e+06\n",
       "1        8.925325e+06\n",
       "3        9.246329e+06\n",
       "4        9.298100e+06\n",
       "6        9.512786e+06\n",
       "0        9.782792e+06\n",
       "2        9.878362e+06"
      ]
     },
     "execution_count": 232,
     "metadata": {},
     "output_type": "execute_result"
    }
   ],
   "source": [
    "city_center.pivot_table(index='weekday', values='last_price', aggfunc='mean').sort_values(by='last_price')"
   ]
  },
  {
   "cell_type": "markdown",
   "metadata": {},
   "source": [
    "Исходя из данных, вывыденных в сводной таблице, связи между днем недели выставления объявления и стоимостью квартиры нет. "
   ]
  },
  {
   "cell_type": "markdown",
   "metadata": {},
   "source": [
    "#### Вывод\n",
    "\n",
    "На стоимость квартир, размещенных в центре, больше всего влияют значения общей площади и количества комнат, причем с увеличением одной величины увеличивается и другая.\n",
    "\n",
    "Цена также постепенно снижалась с 2014 по 2018 год, и лишь в 2019 году виден ее небольшой рост.\n",
    "\n",
    "Также стоимость, указанная в объявлении, максимальна для квартир, размещенных на последних этажах и выставленных на продажу в выходные дни."
   ]
  },
  {
   "cell_type": "markdown",
   "metadata": {},
   "source": [
    "## Общий вывод\n"
   ]
  },
  {
   "cell_type": "markdown",
   "metadata": {},
   "source": [
    "По итогам проведенного исследования было получено следующее:\n",
    "\n",
    "1) Были определены нормальные значения параметров для всех объявлений по продаже квартир:\n",
    "\n",
    "* общей площади: от 12 до 175 м2. Среднее значение - 60 м2, медианное - 52 м2.\n",
    "* стоимости квартир: от 400 тыс. до 20 млн. руб. Среднее значение - 6,5 млн. руб., медианное - 4,6 млн. руб.\n",
    "* количества комнат: от 0 до 8. Среднее и медианное значения - 2 комнаты.\n",
    "* высоты потолка: от 2,4 до 4 м. Среднее значение - 2,77 м, медианное - 2,65 м.\n",
    "* времени продажи квартиры: от 3 до 800 дней. Среднее значение - 180 дней, медианное - 95 дней.\n",
    "\n",
    "2) Были выделены 10 основных населенных пунктов, в которых чаще всего выкладывали объявления о продаже квартир, и определены средние значения цены за квадратный метр для каждого населенного пункта:\n",
    "\n",
    " * Санкт-Петербург - 108 тыс. руб.\n",
    " * Всеволожск - 66 тыс.руб.\n",
    " * пос. Мурино - 87 тыс. руб.\n",
    " * пос. Шушары - 79 тыс. руб.\n",
    " * Колпино - 75 тыс. руб.\n",
    " * Пушкин - 100 тыс. руб.\n",
    " * Петергоф - 83 тыс. руб.\n",
    " * Гатчина - 70 тыс.руб.\n",
    " * пос. Парголово - 90 тыс. руб.\n",
    " * дер. Кудрово - 91 тыс. руб.\n",
    " \n",
    "Стоимость квадратного метра также оказалась наибольшей для Санкт-Петербурга. Наименьшая средняя стоимость квадратного метра среди выделенных населенных пунктов оказалась в городе Всеволожск, несмотря на то, что по количеству выставленных объявлений этот город занял второе место. \n",
    "\n",
    "3) Все квартиры, находящиеся в Санкт-Петербурге, были поделены на две категории: квартиры, размещенные в центре и на периферии. Для них были расчитаны средние значения для основных параметров:\n",
    "\n",
    "| Тип квартиры  | Высота потолка,м| Цена, млн. руб |Кол-во комнат|Общая площадь, м2|\n",
    "| ------------- |:---------------:| :--------------:|:----------:|:---------------:|\n",
    "| Периферия     | 2,7            | 6,09           |2            |57|\n",
    "| Центр         | 3,2            | 9,54           |3            |81|\n",
    "\n",
    "Оказалось, что для квартир, размещенных в центре города, такие значения, как количество комнат, высота потолков, общая площадь и стоимость, оказались выше, чем для квартир на периферии.\n",
    "\n",
    "\n",
    "3) Были определены параметры, оказывающие влияние на стоимость квартир:\n",
    "* Сильнее всего на стоимость квартир влияет их общая площадь, чуть менее значительно - количество комнат. Причем, с увеличением этих параметров, увеличивается и стоимость квартир.\n",
    "\n",
    "* При анализе всех объявлений (без выделения категорий по размещению квартир - центр/периферия) также получили наличие связи между ценой и удаленностью квартиры от центра города. Рассчитанный при этом коэффициент корреляции Пирсона оказался отрицательным, то есть цена квартир растет с уменьшением расстояния до центра города. При этом для квартир в центре Петербурга этот параметр не оказывает значительного влияния на стоимость.\n",
    "\n",
    "* Этаж, на котором находится квартира, также оказывает влияние на ее стоимость: минимальная цена соответсвует квартирам на 1 этаже, максимальная - на этажах, не относящихся ни к первому, ни к последнему этажамю. Это касается как квартир в центре Санкт-Петербурга, так и в районах, не относящихся к центральному. \n",
    "\n",
    "* Четкой связи стоимости и месяцем размещения не было определено. Однако, можно отметить, что в период с 2014 по 2018 год среднегодовая стоимость квартир для квартир различных сегментов достаточно резко снижалась, а в 2019 заметен небольшой подъем стоимости. \n",
    "Стоимость квартир, расположенных в центре Санкт-Петербурга, также резко снизилась к 2017 году, а далее заметен небольшой рост цены вплоть до 2019 года.\n"
   ]
  }
 ],
 "metadata": {
  "ExecuteTimeLog": [
   {
    "duration": 654,
    "start_time": "2021-12-19T11:33:00.274Z"
   },
   {
    "duration": 64,
    "start_time": "2021-12-19T11:33:14.274Z"
   },
   {
    "duration": 738,
    "start_time": "2021-12-21T12:35:55.701Z"
   },
   {
    "duration": 12,
    "start_time": "2021-12-21T12:48:51.345Z"
   },
   {
    "duration": 405,
    "start_time": "2021-12-21T12:53:01.832Z"
   },
   {
    "duration": 130,
    "start_time": "2021-12-21T12:53:32.728Z"
   },
   {
    "duration": 110,
    "start_time": "2021-12-21T12:53:53.927Z"
   },
   {
    "duration": 122,
    "start_time": "2021-12-21T12:55:14.516Z"
   },
   {
    "duration": 162,
    "start_time": "2021-12-21T12:55:36.757Z"
   },
   {
    "duration": 99,
    "start_time": "2021-12-21T12:57:53.842Z"
   },
   {
    "duration": 103,
    "start_time": "2021-12-21T12:59:57.355Z"
   },
   {
    "duration": 202,
    "start_time": "2021-12-21T13:09:06.021Z"
   },
   {
    "duration": 133,
    "start_time": "2021-12-21T13:09:26.288Z"
   },
   {
    "duration": 511,
    "start_time": "2021-12-21T13:10:32.400Z"
   },
   {
    "duration": 561,
    "start_time": "2021-12-21T13:11:31.585Z"
   },
   {
    "duration": 877,
    "start_time": "2021-12-23T07:45:37.795Z"
   },
   {
    "duration": 140,
    "start_time": "2021-12-23T07:46:43.448Z"
   },
   {
    "duration": 37,
    "start_time": "2021-12-23T07:46:49.706Z"
   },
   {
    "duration": 5,
    "start_time": "2021-12-23T09:02:14.228Z"
   },
   {
    "duration": 97,
    "start_time": "2021-12-23T09:02:25.296Z"
   },
   {
    "duration": 41,
    "start_time": "2021-12-23T09:02:25.967Z"
   },
   {
    "duration": 205,
    "start_time": "2021-12-23T09:02:26.583Z"
   },
   {
    "duration": 4,
    "start_time": "2021-12-23T09:02:28.277Z"
   },
   {
    "duration": 5,
    "start_time": "2021-12-23T09:05:54.763Z"
   },
   {
    "duration": 6,
    "start_time": "2021-12-23T09:07:09.782Z"
   },
   {
    "duration": 343,
    "start_time": "2021-12-23T09:20:59.057Z"
   },
   {
    "duration": 398,
    "start_time": "2021-12-23T09:21:38.577Z"
   },
   {
    "duration": 138,
    "start_time": "2021-12-23T09:21:47.555Z"
   },
   {
    "duration": 378,
    "start_time": "2021-12-23T09:21:58.597Z"
   },
   {
    "duration": 411,
    "start_time": "2021-12-23T09:22:05.265Z"
   },
   {
    "duration": 341,
    "start_time": "2021-12-23T09:36:01.252Z"
   },
   {
    "duration": 289,
    "start_time": "2021-12-23T09:39:48.303Z"
   },
   {
    "duration": 274,
    "start_time": "2021-12-23T09:42:25.522Z"
   },
   {
    "duration": 50,
    "start_time": "2021-12-23T11:12:06.173Z"
   },
   {
    "duration": 126,
    "start_time": "2021-12-23T11:48:23.589Z"
   },
   {
    "duration": 139,
    "start_time": "2021-12-23T11:48:31.537Z"
   },
   {
    "duration": 122,
    "start_time": "2021-12-23T11:51:39.341Z"
   },
   {
    "duration": 127,
    "start_time": "2021-12-23T12:04:15.729Z"
   },
   {
    "duration": 124,
    "start_time": "2021-12-23T12:04:26.515Z"
   },
   {
    "duration": 439,
    "start_time": "2021-12-23T12:04:40.505Z"
   },
   {
    "duration": 55,
    "start_time": "2021-12-23T12:07:27.924Z"
   },
   {
    "duration": 460,
    "start_time": "2021-12-23T12:13:38.998Z"
   },
   {
    "duration": 76,
    "start_time": "2021-12-23T12:14:03.489Z"
   },
   {
    "duration": 60,
    "start_time": "2021-12-23T12:15:00.721Z"
   },
   {
    "duration": 60,
    "start_time": "2021-12-23T12:16:47.729Z"
   },
   {
    "duration": 53,
    "start_time": "2021-12-23T12:17:16.495Z"
   },
   {
    "duration": 13,
    "start_time": "2021-12-23T12:20:38.918Z"
   },
   {
    "duration": 460,
    "start_time": "2021-12-23T12:23:07.385Z"
   },
   {
    "duration": 368,
    "start_time": "2021-12-23T12:23:26.349Z"
   },
   {
    "duration": 12,
    "start_time": "2021-12-23T12:32:07.310Z"
   },
   {
    "duration": 11,
    "start_time": "2021-12-23T12:32:16.464Z"
   },
   {
    "duration": 11,
    "start_time": "2021-12-23T12:32:43.013Z"
   },
   {
    "duration": 8,
    "start_time": "2021-12-23T12:33:10.706Z"
   },
   {
    "duration": 11,
    "start_time": "2021-12-23T12:46:36.680Z"
   },
   {
    "duration": 11,
    "start_time": "2021-12-23T12:47:36.103Z"
   },
   {
    "duration": 435,
    "start_time": "2021-12-23T12:54:58.032Z"
   },
   {
    "duration": 59,
    "start_time": "2021-12-23T12:56:54.659Z"
   },
   {
    "duration": 45,
    "start_time": "2021-12-23T12:57:27.977Z"
   },
   {
    "duration": 51,
    "start_time": "2021-12-23T12:57:57.922Z"
   },
   {
    "duration": 64,
    "start_time": "2021-12-23T12:58:02.176Z"
   },
   {
    "duration": 55,
    "start_time": "2021-12-23T12:58:30.704Z"
   },
   {
    "duration": 57,
    "start_time": "2021-12-23T12:59:15.331Z"
   },
   {
    "duration": 8,
    "start_time": "2021-12-23T13:05:14.972Z"
   },
   {
    "duration": 14,
    "start_time": "2021-12-23T13:05:55.025Z"
   },
   {
    "duration": 62,
    "start_time": "2021-12-23T13:06:52.083Z"
   },
   {
    "duration": 9,
    "start_time": "2021-12-23T13:07:09.333Z"
   },
   {
    "duration": 10,
    "start_time": "2021-12-23T13:07:46.182Z"
   },
   {
    "duration": 11,
    "start_time": "2021-12-23T13:09:06.010Z"
   },
   {
    "duration": 10,
    "start_time": "2021-12-23T13:10:35.059Z"
   },
   {
    "duration": 9,
    "start_time": "2021-12-23T13:17:55.884Z"
   },
   {
    "duration": 12,
    "start_time": "2021-12-23T13:18:19.572Z"
   },
   {
    "duration": 12,
    "start_time": "2021-12-23T13:18:36.166Z"
   },
   {
    "duration": 28,
    "start_time": "2021-12-23T13:27:40.147Z"
   },
   {
    "duration": 56,
    "start_time": "2021-12-23T13:27:46.808Z"
   },
   {
    "duration": 12,
    "start_time": "2021-12-23T13:28:31.706Z"
   },
   {
    "duration": 9,
    "start_time": "2021-12-23T13:28:53.795Z"
   },
   {
    "duration": 55,
    "start_time": "2021-12-23T13:34:44.973Z"
   },
   {
    "duration": 619,
    "start_time": "2021-12-24T11:36:08.509Z"
   },
   {
    "duration": 780,
    "start_time": "2021-12-24T11:36:17.219Z"
   },
   {
    "duration": 24,
    "start_time": "2021-12-24T11:36:21.406Z"
   },
   {
    "duration": 8,
    "start_time": "2021-12-24T11:42:09.553Z"
   },
   {
    "duration": 8,
    "start_time": "2021-12-24T11:43:44.072Z"
   },
   {
    "duration": 400,
    "start_time": "2021-12-24T11:58:27.279Z"
   },
   {
    "duration": 342,
    "start_time": "2021-12-24T11:58:32.760Z"
   },
   {
    "duration": 6,
    "start_time": "2021-12-24T11:59:38.940Z"
   },
   {
    "duration": 334,
    "start_time": "2021-12-24T11:59:54.545Z"
   },
   {
    "duration": 123,
    "start_time": "2021-12-24T12:01:41.969Z"
   },
   {
    "duration": 4,
    "start_time": "2021-12-24T12:01:48.208Z"
   },
   {
    "duration": 20,
    "start_time": "2021-12-24T12:02:17.781Z"
   },
   {
    "duration": 33,
    "start_time": "2021-12-24T12:02:28.575Z"
   },
   {
    "duration": 33,
    "start_time": "2021-12-24T12:04:06.440Z"
   },
   {
    "duration": 362,
    "start_time": "2021-12-24T12:04:54.595Z"
   },
   {
    "duration": 9,
    "start_time": "2021-12-24T12:05:07.272Z"
   },
   {
    "duration": 9209,
    "start_time": "2021-12-24T12:06:10.817Z"
   },
   {
    "duration": 8,
    "start_time": "2021-12-24T12:06:25.540Z"
   },
   {
    "duration": 5,
    "start_time": "2021-12-24T12:27:40.763Z"
   },
   {
    "duration": 9,
    "start_time": "2021-12-24T12:27:58.625Z"
   },
   {
    "duration": 8495,
    "start_time": "2021-12-24T12:30:33.137Z"
   },
   {
    "duration": 20,
    "start_time": "2021-12-24T12:30:50.276Z"
   },
   {
    "duration": 12,
    "start_time": "2021-12-24T12:31:18.735Z"
   },
   {
    "duration": 5,
    "start_time": "2021-12-24T12:32:16.415Z"
   },
   {
    "duration": 5,
    "start_time": "2021-12-24T12:32:42.534Z"
   },
   {
    "duration": 5,
    "start_time": "2021-12-24T12:32:52.150Z"
   },
   {
    "duration": 5,
    "start_time": "2021-12-24T12:33:17.603Z"
   },
   {
    "duration": 5,
    "start_time": "2021-12-24T12:34:25.686Z"
   },
   {
    "duration": 371,
    "start_time": "2021-12-24T12:35:18.093Z"
   },
   {
    "duration": 125,
    "start_time": "2021-12-24T12:35:57.813Z"
   },
   {
    "duration": 72,
    "start_time": "2021-12-24T12:36:01.634Z"
   },
   {
    "duration": 42,
    "start_time": "2021-12-24T12:36:37.354Z"
   },
   {
    "duration": 90,
    "start_time": "2021-12-24T12:42:43.872Z"
   },
   {
    "duration": 36,
    "start_time": "2021-12-24T12:42:46.777Z"
   },
   {
    "duration": 27,
    "start_time": "2021-12-24T12:55:55.074Z"
   },
   {
    "duration": 22,
    "start_time": "2021-12-24T12:56:43.839Z"
   },
   {
    "duration": 20,
    "start_time": "2021-12-24T12:59:15.301Z"
   },
   {
    "duration": 20,
    "start_time": "2021-12-24T13:00:02.124Z"
   },
   {
    "duration": 34,
    "start_time": "2021-12-24T13:00:12.056Z"
   },
   {
    "duration": 30,
    "start_time": "2021-12-24T13:00:33.195Z"
   },
   {
    "duration": 90,
    "start_time": "2021-12-24T13:11:25.356Z"
   },
   {
    "duration": 365,
    "start_time": "2021-12-24T13:38:34.226Z"
   },
   {
    "duration": 345,
    "start_time": "2021-12-24T13:39:24.561Z"
   },
   {
    "duration": 5,
    "start_time": "2021-12-24T13:40:06.601Z"
   },
   {
    "duration": 8,
    "start_time": "2021-12-24T13:40:29.012Z"
   },
   {
    "duration": 8,
    "start_time": "2021-12-24T13:41:05.665Z"
   },
   {
    "duration": 7,
    "start_time": "2021-12-24T13:41:25.027Z"
   },
   {
    "duration": 4,
    "start_time": "2021-12-24T13:48:13.708Z"
   },
   {
    "duration": 4,
    "start_time": "2021-12-24T13:48:56.821Z"
   },
   {
    "duration": 6,
    "start_time": "2021-12-24T13:49:22.839Z"
   },
   {
    "duration": 8,
    "start_time": "2021-12-24T13:54:50.768Z"
   },
   {
    "duration": 6,
    "start_time": "2021-12-24T13:55:01.383Z"
   },
   {
    "duration": 7,
    "start_time": "2021-12-24T14:19:11.598Z"
   },
   {
    "duration": 32,
    "start_time": "2021-12-24T14:20:19.543Z"
   },
   {
    "duration": 6,
    "start_time": "2021-12-24T14:28:42.546Z"
   },
   {
    "duration": 35,
    "start_time": "2021-12-24T14:30:32.515Z"
   },
   {
    "duration": 32,
    "start_time": "2021-12-24T14:31:08.286Z"
   },
   {
    "duration": 36,
    "start_time": "2021-12-24T14:41:12.791Z"
   },
   {
    "duration": 7,
    "start_time": "2021-12-24T14:41:14.438Z"
   },
   {
    "duration": 5,
    "start_time": "2021-12-24T14:41:15.022Z"
   },
   {
    "duration": 6,
    "start_time": "2021-12-24T14:41:15.880Z"
   },
   {
    "duration": 9,
    "start_time": "2021-12-24T14:41:28.765Z"
   },
   {
    "duration": 10,
    "start_time": "2021-12-24T14:54:24.699Z"
   },
   {
    "duration": 14,
    "start_time": "2021-12-24T14:54:40.036Z"
   },
   {
    "duration": 513,
    "start_time": "2021-12-24T14:55:34.422Z"
   },
   {
    "duration": 13,
    "start_time": "2021-12-24T14:55:42.387Z"
   },
   {
    "duration": 8405,
    "start_time": "2021-12-24T14:55:57.049Z"
   },
   {
    "duration": 133,
    "start_time": "2021-12-24T14:56:05.322Z"
   },
   {
    "duration": 13,
    "start_time": "2021-12-24T14:56:11.346Z"
   },
   {
    "duration": 347,
    "start_time": "2021-12-24T14:56:33.953Z"
   },
   {
    "duration": 10,
    "start_time": "2021-12-24T14:56:41.856Z"
   },
   {
    "duration": 646,
    "start_time": "2021-12-24T15:08:33.642Z"
   },
   {
    "duration": 97,
    "start_time": "2021-12-24T15:08:49.108Z"
   },
   {
    "duration": 35,
    "start_time": "2021-12-24T15:08:51.124Z"
   },
   {
    "duration": 7,
    "start_time": "2021-12-24T15:08:51.512Z"
   },
   {
    "duration": 5,
    "start_time": "2021-12-24T15:08:51.735Z"
   },
   {
    "duration": 7,
    "start_time": "2021-12-24T15:08:52.181Z"
   },
   {
    "duration": 8,
    "start_time": "2021-12-24T15:08:53.094Z"
   },
   {
    "duration": 10,
    "start_time": "2021-12-24T15:08:54.470Z"
   },
   {
    "duration": 7135,
    "start_time": "2021-12-24T15:08:55.701Z"
   },
   {
    "duration": 573,
    "start_time": "2021-12-24T15:11:10.145Z"
   },
   {
    "duration": 14,
    "start_time": "2021-12-24T15:11:24.062Z"
   },
   {
    "duration": 15,
    "start_time": "2021-12-24T15:21:37.427Z"
   },
   {
    "duration": 14,
    "start_time": "2021-12-24T15:28:46.769Z"
   },
   {
    "duration": 7167,
    "start_time": "2021-12-24T15:34:55.664Z"
   },
   {
    "duration": 95,
    "start_time": "2021-12-24T15:36:55.708Z"
   },
   {
    "duration": 37,
    "start_time": "2021-12-24T15:36:58.166Z"
   },
   {
    "duration": 8,
    "start_time": "2021-12-24T15:36:59.084Z"
   },
   {
    "duration": 6,
    "start_time": "2021-12-24T15:36:59.565Z"
   },
   {
    "duration": 9,
    "start_time": "2021-12-24T15:37:00.453Z"
   },
   {
    "duration": 9,
    "start_time": "2021-12-24T15:37:02.169Z"
   },
   {
    "duration": 12,
    "start_time": "2021-12-24T15:37:05.434Z"
   },
   {
    "duration": 8589,
    "start_time": "2021-12-24T15:37:06.964Z"
   },
   {
    "duration": 523,
    "start_time": "2021-12-24T15:42:45.212Z"
   },
   {
    "duration": 8,
    "start_time": "2021-12-24T16:00:05.195Z"
   },
   {
    "duration": 417,
    "start_time": "2021-12-24T16:00:43.571Z"
   },
   {
    "duration": 8,
    "start_time": "2021-12-24T16:00:57.199Z"
   },
   {
    "duration": 14,
    "start_time": "2021-12-24T16:13:23.167Z"
   },
   {
    "duration": 13,
    "start_time": "2021-12-24T16:14:42.406Z"
   },
   {
    "duration": 14,
    "start_time": "2021-12-24T16:15:23.196Z"
   },
   {
    "duration": 88,
    "start_time": "2021-12-24T17:14:09.012Z"
   },
   {
    "duration": 40,
    "start_time": "2021-12-24T17:14:12.954Z"
   },
   {
    "duration": 7,
    "start_time": "2021-12-24T17:14:14.243Z"
   },
   {
    "duration": 5,
    "start_time": "2021-12-24T17:14:14.635Z"
   },
   {
    "duration": 7,
    "start_time": "2021-12-24T17:14:15.511Z"
   },
   {
    "duration": 11,
    "start_time": "2021-12-24T17:14:17.277Z"
   },
   {
    "duration": 20,
    "start_time": "2021-12-24T17:14:19.566Z"
   },
   {
    "duration": 568,
    "start_time": "2021-12-24T17:14:20.447Z"
   },
   {
    "duration": 16,
    "start_time": "2021-12-24T17:14:32.039Z"
   },
   {
    "duration": 4,
    "start_time": "2021-12-24T17:15:39.394Z"
   },
   {
    "duration": 6,
    "start_time": "2021-12-24T17:16:00.838Z"
   },
   {
    "duration": 37,
    "start_time": "2021-12-24T17:16:17.600Z"
   },
   {
    "duration": 4,
    "start_time": "2021-12-24T17:16:38.712Z"
   },
   {
    "duration": 4966,
    "start_time": "2021-12-24T17:31:30.230Z"
   },
   {
    "duration": 1515,
    "start_time": "2021-12-24T17:32:52.184Z"
   },
   {
    "duration": 1295,
    "start_time": "2021-12-24T17:33:08.670Z"
   },
   {
    "duration": 507,
    "start_time": "2021-12-24T17:38:10.792Z"
   },
   {
    "duration": 559,
    "start_time": "2021-12-24T17:38:25.655Z"
   },
   {
    "duration": 495,
    "start_time": "2021-12-24T17:38:39.703Z"
   },
   {
    "duration": 512,
    "start_time": "2021-12-24T17:39:16.215Z"
   },
   {
    "duration": 518,
    "start_time": "2021-12-24T17:39:32.536Z"
   },
   {
    "duration": 492,
    "start_time": "2021-12-24T17:40:30.790Z"
   },
   {
    "duration": 1711,
    "start_time": "2021-12-24T17:42:10.298Z"
   },
   {
    "duration": 531,
    "start_time": "2021-12-24T17:42:12.010Z"
   },
   {
    "duration": 85,
    "start_time": "2021-12-24T17:42:56.273Z"
   },
   {
    "duration": 34,
    "start_time": "2021-12-24T17:42:57.908Z"
   },
   {
    "duration": 7,
    "start_time": "2021-12-24T17:42:58.963Z"
   },
   {
    "duration": 5,
    "start_time": "2021-12-24T17:42:59.337Z"
   },
   {
    "duration": 7,
    "start_time": "2021-12-24T17:42:59.993Z"
   },
   {
    "duration": 8,
    "start_time": "2021-12-24T17:43:01.282Z"
   },
   {
    "duration": 12,
    "start_time": "2021-12-24T17:43:03.344Z"
   },
   {
    "duration": 579,
    "start_time": "2021-12-24T17:43:04.995Z"
   },
   {
    "duration": 14,
    "start_time": "2021-12-24T17:43:09.146Z"
   },
   {
    "duration": 1328,
    "start_time": "2021-12-24T17:43:34.289Z"
   },
   {
    "duration": 490,
    "start_time": "2021-12-24T17:43:35.660Z"
   },
   {
    "duration": 523,
    "start_time": "2021-12-24T17:46:28.427Z"
   },
   {
    "duration": 28,
    "start_time": "2021-12-24T17:47:58.074Z"
   },
   {
    "duration": 6,
    "start_time": "2021-12-24T17:51:25.280Z"
   },
   {
    "duration": 7,
    "start_time": "2021-12-24T17:51:32.896Z"
   },
   {
    "duration": 6,
    "start_time": "2021-12-24T17:52:08.980Z"
   },
   {
    "duration": 6,
    "start_time": "2021-12-24T17:52:26.123Z"
   },
   {
    "duration": 317,
    "start_time": "2021-12-24T17:52:40.545Z"
   },
   {
    "duration": 6,
    "start_time": "2021-12-24T17:52:48.421Z"
   },
   {
    "duration": 5,
    "start_time": "2021-12-24T17:52:57.809Z"
   },
   {
    "duration": 4,
    "start_time": "2021-12-24T17:53:37.486Z"
   },
   {
    "duration": 3,
    "start_time": "2021-12-24T17:54:27.534Z"
   },
   {
    "duration": 6,
    "start_time": "2021-12-24T17:54:57.749Z"
   },
   {
    "duration": 18,
    "start_time": "2021-12-24T17:56:50.031Z"
   },
   {
    "duration": 1552,
    "start_time": "2021-12-24T18:00:39.639Z"
   },
   {
    "duration": 507,
    "start_time": "2021-12-24T18:00:41.889Z"
   },
   {
    "duration": 1359,
    "start_time": "2021-12-24T18:01:22.631Z"
   },
   {
    "duration": 517,
    "start_time": "2021-12-24T18:01:23.991Z"
   },
   {
    "duration": 87,
    "start_time": "2021-12-24T18:04:04.145Z"
   },
   {
    "duration": 35,
    "start_time": "2021-12-24T18:04:04.234Z"
   },
   {
    "duration": 6,
    "start_time": "2021-12-24T18:04:04.271Z"
   },
   {
    "duration": 7,
    "start_time": "2021-12-24T18:04:04.279Z"
   },
   {
    "duration": 40,
    "start_time": "2021-12-24T18:04:04.288Z"
   },
   {
    "duration": 7,
    "start_time": "2021-12-24T18:04:04.329Z"
   },
   {
    "duration": 11,
    "start_time": "2021-12-24T18:04:04.338Z"
   },
   {
    "duration": 594,
    "start_time": "2021-12-24T18:04:04.351Z"
   },
   {
    "duration": 16,
    "start_time": "2021-12-24T18:04:04.947Z"
   },
   {
    "duration": 19,
    "start_time": "2021-12-24T18:04:04.964Z"
   },
   {
    "duration": 611,
    "start_time": "2021-12-24T18:04:04.985Z"
   },
   {
    "duration": 87,
    "start_time": "2021-12-24T18:04:05.511Z"
   },
   {
    "duration": 21,
    "start_time": "2021-12-24T18:13:45.022Z"
   },
   {
    "duration": 25,
    "start_time": "2021-12-24T18:21:17.780Z"
   },
   {
    "duration": 31,
    "start_time": "2021-12-24T18:22:06.453Z"
   },
   {
    "duration": 50,
    "start_time": "2021-12-24T18:25:10.454Z"
   },
   {
    "duration": 45,
    "start_time": "2021-12-24T18:38:59.103Z"
   },
   {
    "duration": 28,
    "start_time": "2021-12-24T18:39:13.478Z"
   },
   {
    "duration": 28,
    "start_time": "2021-12-24T18:39:43.335Z"
   },
   {
    "duration": 1175,
    "start_time": "2021-12-24T19:07:34.280Z"
   },
   {
    "duration": 508,
    "start_time": "2021-12-24T19:07:46.738Z"
   },
   {
    "duration": 9,
    "start_time": "2021-12-24T19:08:15.721Z"
   },
   {
    "duration": 94,
    "start_time": "2021-12-24T19:09:48.990Z"
   },
   {
    "duration": 67,
    "start_time": "2021-12-24T19:09:49.086Z"
   },
   {
    "duration": 8,
    "start_time": "2021-12-24T19:09:49.156Z"
   },
   {
    "duration": 7,
    "start_time": "2021-12-24T19:09:49.166Z"
   },
   {
    "duration": 8,
    "start_time": "2021-12-24T19:09:49.175Z"
   },
   {
    "duration": 46,
    "start_time": "2021-12-24T19:09:49.185Z"
   },
   {
    "duration": 12,
    "start_time": "2021-12-24T19:09:49.233Z"
   },
   {
    "duration": 596,
    "start_time": "2021-12-24T19:09:49.248Z"
   },
   {
    "duration": 1182,
    "start_time": "2021-12-24T19:09:49.845Z"
   },
   {
    "duration": 9,
    "start_time": "2021-12-24T19:09:51.028Z"
   },
   {
    "duration": 945,
    "start_time": "2021-12-24T19:10:31.399Z"
   },
   {
    "duration": 40,
    "start_time": "2021-12-24T19:10:32.345Z"
   },
   {
    "duration": 7,
    "start_time": "2021-12-24T19:10:32.386Z"
   },
   {
    "duration": 6,
    "start_time": "2021-12-24T19:10:32.427Z"
   },
   {
    "duration": 19,
    "start_time": "2021-12-24T19:10:32.435Z"
   },
   {
    "duration": 8,
    "start_time": "2021-12-24T19:10:32.456Z"
   },
   {
    "duration": 12,
    "start_time": "2021-12-24T19:10:32.465Z"
   },
   {
    "duration": 8360,
    "start_time": "2021-12-24T19:10:32.478Z"
   },
   {
    "duration": 71,
    "start_time": "2021-12-24T19:10:40.769Z"
   },
   {
    "duration": 69,
    "start_time": "2021-12-24T19:10:40.772Z"
   },
   {
    "duration": 8015,
    "start_time": "2021-12-24T19:14:30.192Z"
   },
   {
    "duration": 90,
    "start_time": "2021-12-24T19:15:26.029Z"
   },
   {
    "duration": 34,
    "start_time": "2021-12-24T19:15:27.737Z"
   },
   {
    "duration": 8,
    "start_time": "2021-12-24T19:15:28.447Z"
   },
   {
    "duration": 6,
    "start_time": "2021-12-24T19:15:28.770Z"
   },
   {
    "duration": 6,
    "start_time": "2021-12-24T19:15:29.259Z"
   },
   {
    "duration": 8,
    "start_time": "2021-12-24T19:15:30.919Z"
   },
   {
    "duration": 15,
    "start_time": "2021-12-24T19:15:33.276Z"
   },
   {
    "duration": 8142,
    "start_time": "2021-12-24T19:15:34.333Z"
   },
   {
    "duration": 88,
    "start_time": "2021-12-24T19:16:45.802Z"
   },
   {
    "duration": 48,
    "start_time": "2021-12-24T19:16:45.891Z"
   },
   {
    "duration": 8,
    "start_time": "2021-12-24T19:16:45.941Z"
   },
   {
    "duration": 12,
    "start_time": "2021-12-24T19:16:45.951Z"
   },
   {
    "duration": 9,
    "start_time": "2021-12-24T19:16:45.965Z"
   },
   {
    "duration": 10,
    "start_time": "2021-12-24T19:16:45.976Z"
   },
   {
    "duration": 50,
    "start_time": "2021-12-24T19:16:45.988Z"
   },
   {
    "duration": 7834,
    "start_time": "2021-12-24T19:16:46.041Z"
   },
   {
    "duration": 65,
    "start_time": "2021-12-24T19:16:53.813Z"
   },
   {
    "duration": 65,
    "start_time": "2021-12-24T19:16:53.814Z"
   },
   {
    "duration": 8254,
    "start_time": "2021-12-24T19:19:29.718Z"
   },
   {
    "duration": 8291,
    "start_time": "2021-12-24T19:24:18.273Z"
   },
   {
    "duration": 7995,
    "start_time": "2021-12-24T19:26:13.715Z"
   },
   {
    "duration": 7660,
    "start_time": "2021-12-24T19:26:49.929Z"
   },
   {
    "duration": 74,
    "start_time": "2021-12-24T19:32:50.136Z"
   },
   {
    "duration": 1189,
    "start_time": "2021-12-24T19:32:58.873Z"
   },
   {
    "duration": 8,
    "start_time": "2021-12-24T19:33:00.063Z"
   },
   {
    "duration": 93,
    "start_time": "2021-12-24T19:33:14.263Z"
   },
   {
    "duration": 36,
    "start_time": "2021-12-24T19:33:17.391Z"
   },
   {
    "duration": 7,
    "start_time": "2021-12-24T19:33:18.136Z"
   },
   {
    "duration": 6,
    "start_time": "2021-12-24T19:33:18.671Z"
   },
   {
    "duration": 7,
    "start_time": "2021-12-24T19:33:19.560Z"
   },
   {
    "duration": 8,
    "start_time": "2021-12-24T19:33:22.331Z"
   },
   {
    "duration": 13,
    "start_time": "2021-12-24T19:33:32.323Z"
   },
   {
    "duration": 7986,
    "start_time": "2021-12-24T19:33:37.608Z"
   },
   {
    "duration": 102,
    "start_time": "2021-12-24T19:34:17.860Z"
   },
   {
    "duration": 87,
    "start_time": "2021-12-24T19:34:33.585Z"
   },
   {
    "duration": 10301,
    "start_time": "2021-12-24T19:35:10.623Z"
   },
   {
    "duration": 5,
    "start_time": "2021-12-24T19:36:51.832Z"
   },
   {
    "duration": 5668,
    "start_time": "2021-12-24T19:40:08.851Z"
   },
   {
    "duration": 13,
    "start_time": "2021-12-24T19:40:25.566Z"
   },
   {
    "duration": 5510,
    "start_time": "2021-12-24T19:40:30.571Z"
   },
   {
    "duration": 4,
    "start_time": "2021-12-24T19:40:51.355Z"
   },
   {
    "duration": 4,
    "start_time": "2021-12-24T19:40:59.383Z"
   },
   {
    "duration": 3,
    "start_time": "2021-12-24T19:41:05.369Z"
   },
   {
    "duration": 4,
    "start_time": "2021-12-24T19:42:53.908Z"
   },
   {
    "duration": 527,
    "start_time": "2021-12-24T19:44:56.043Z"
   },
   {
    "duration": 1234,
    "start_time": "2021-12-24T19:45:32.382Z"
   },
   {
    "duration": 12,
    "start_time": "2021-12-24T19:45:33.618Z"
   },
   {
    "duration": 6,
    "start_time": "2021-12-24T19:51:09.328Z"
   },
   {
    "duration": 10,
    "start_time": "2021-12-24T19:51:26.338Z"
   },
   {
    "duration": 3,
    "start_time": "2021-12-24T19:54:36.445Z"
   },
   {
    "duration": 1147,
    "start_time": "2021-12-24T20:17:41.256Z"
   },
   {
    "duration": 3,
    "start_time": "2021-12-24T20:17:45.169Z"
   },
   {
    "duration": 3,
    "start_time": "2021-12-24T20:17:46.787Z"
   },
   {
    "duration": 5,
    "start_time": "2021-12-24T20:18:38.312Z"
   },
   {
    "duration": 9,
    "start_time": "2021-12-24T20:19:04.658Z"
   },
   {
    "duration": 2,
    "start_time": "2021-12-24T20:19:29.744Z"
   },
   {
    "duration": 10,
    "start_time": "2021-12-24T20:37:18.643Z"
   },
   {
    "duration": 8925,
    "start_time": "2021-12-24T20:58:34.634Z"
   },
   {
    "duration": 369,
    "start_time": "2021-12-24T21:02:21.734Z"
   },
   {
    "duration": 365,
    "start_time": "2021-12-24T21:03:32.842Z"
   },
   {
    "duration": 392,
    "start_time": "2021-12-24T21:07:12.092Z"
   },
   {
    "duration": 624,
    "start_time": "2021-12-25T11:23:35.230Z"
   },
   {
    "duration": 96,
    "start_time": "2021-12-25T11:26:30.873Z"
   },
   {
    "duration": 39,
    "start_time": "2021-12-25T11:26:47.201Z"
   },
   {
    "duration": 8,
    "start_time": "2021-12-25T11:26:58.303Z"
   },
   {
    "duration": 5,
    "start_time": "2021-12-25T11:26:58.884Z"
   },
   {
    "duration": 7,
    "start_time": "2021-12-25T11:27:16.566Z"
   },
   {
    "duration": 9,
    "start_time": "2021-12-25T11:27:45.548Z"
   },
   {
    "duration": 13,
    "start_time": "2021-12-25T11:27:53.300Z"
   },
   {
    "duration": 551,
    "start_time": "2021-12-25T11:28:15.231Z"
   },
   {
    "duration": 1211,
    "start_time": "2021-12-25T11:28:18.551Z"
   },
   {
    "duration": 254,
    "start_time": "2021-12-25T12:35:11.472Z"
   },
   {
    "duration": 96,
    "start_time": "2021-12-25T12:35:36.642Z"
   },
   {
    "duration": 35,
    "start_time": "2021-12-25T12:35:38.324Z"
   },
   {
    "duration": 8,
    "start_time": "2021-12-25T12:35:38.715Z"
   },
   {
    "duration": 5,
    "start_time": "2021-12-25T12:35:38.943Z"
   },
   {
    "duration": 7,
    "start_time": "2021-12-25T12:35:39.485Z"
   },
   {
    "duration": 8,
    "start_time": "2021-12-25T12:35:42.235Z"
   },
   {
    "duration": 12,
    "start_time": "2021-12-25T12:35:47.440Z"
   },
   {
    "duration": 540,
    "start_time": "2021-12-25T12:35:48.300Z"
   },
   {
    "duration": 1224,
    "start_time": "2021-12-25T12:35:50.522Z"
   },
   {
    "duration": 6,
    "start_time": "2021-12-25T12:35:51.917Z"
   },
   {
    "duration": 6,
    "start_time": "2021-12-25T12:35:53.196Z"
   },
   {
    "duration": 5,
    "start_time": "2021-12-25T12:35:54.303Z"
   },
   {
    "duration": 10,
    "start_time": "2021-12-25T12:35:55.413Z"
   },
   {
    "duration": 11,
    "start_time": "2021-12-25T12:36:00.228Z"
   },
   {
    "duration": 14,
    "start_time": "2021-12-25T12:36:02.019Z"
   },
   {
    "duration": 4,
    "start_time": "2021-12-25T12:36:25.486Z"
   },
   {
    "duration": 20,
    "start_time": "2021-12-25T12:54:57.741Z"
   },
   {
    "duration": 8,
    "start_time": "2021-12-25T12:57:16.391Z"
   },
   {
    "duration": 20,
    "start_time": "2021-12-25T12:57:26.702Z"
   },
   {
    "duration": 9,
    "start_time": "2021-12-25T13:03:22.413Z"
   },
   {
    "duration": 6,
    "start_time": "2021-12-25T13:04:10.839Z"
   },
   {
    "duration": 10,
    "start_time": "2021-12-25T13:04:11.272Z"
   },
   {
    "duration": 64,
    "start_time": "2021-12-25T13:08:23.154Z"
   },
   {
    "duration": 228,
    "start_time": "2021-12-25T13:12:21.951Z"
   },
   {
    "duration": 23,
    "start_time": "2021-12-25T13:16:39.933Z"
   },
   {
    "duration": 24,
    "start_time": "2021-12-25T13:17:45.296Z"
   },
   {
    "duration": 187,
    "start_time": "2021-12-25T13:28:10.072Z"
   },
   {
    "duration": 420,
    "start_time": "2021-12-25T13:31:14.693Z"
   },
   {
    "duration": 538,
    "start_time": "2021-12-25T13:31:32.947Z"
   },
   {
    "duration": 495,
    "start_time": "2021-12-25T13:32:55.397Z"
   },
   {
    "duration": 447,
    "start_time": "2021-12-25T13:34:05.819Z"
   },
   {
    "duration": 461,
    "start_time": "2021-12-25T13:36:46.407Z"
   },
   {
    "duration": 102,
    "start_time": "2021-12-25T13:36:53.829Z"
   },
   {
    "duration": 69,
    "start_time": "2021-12-25T13:36:53.933Z"
   },
   {
    "duration": 8,
    "start_time": "2021-12-25T13:36:54.005Z"
   },
   {
    "duration": 12,
    "start_time": "2021-12-25T13:36:54.014Z"
   },
   {
    "duration": 13,
    "start_time": "2021-12-25T13:36:54.028Z"
   },
   {
    "duration": 16,
    "start_time": "2021-12-25T13:36:54.042Z"
   },
   {
    "duration": 13,
    "start_time": "2021-12-25T13:36:54.059Z"
   },
   {
    "duration": 589,
    "start_time": "2021-12-25T13:36:54.093Z"
   },
   {
    "duration": 1241,
    "start_time": "2021-12-25T13:36:54.684Z"
   },
   {
    "duration": 5,
    "start_time": "2021-12-25T13:36:55.927Z"
   },
   {
    "duration": 9,
    "start_time": "2021-12-25T13:36:55.933Z"
   },
   {
    "duration": 23,
    "start_time": "2021-12-25T13:36:55.943Z"
   },
   {
    "duration": 21,
    "start_time": "2021-12-25T13:36:55.967Z"
   },
   {
    "duration": 25,
    "start_time": "2021-12-25T13:36:55.990Z"
   },
   {
    "duration": 7,
    "start_time": "2021-12-25T13:36:56.017Z"
   },
   {
    "duration": 8,
    "start_time": "2021-12-25T13:36:56.026Z"
   },
   {
    "duration": 13,
    "start_time": "2021-12-25T13:36:56.036Z"
   },
   {
    "duration": 27,
    "start_time": "2021-12-25T13:36:56.051Z"
   },
   {
    "duration": 470,
    "start_time": "2021-12-25T13:36:56.080Z"
   },
   {
    "duration": 497,
    "start_time": "2021-12-25T13:38:49.923Z"
   },
   {
    "duration": 193,
    "start_time": "2021-12-25T13:39:22.725Z"
   },
   {
    "duration": 29,
    "start_time": "2021-12-25T13:39:37.548Z"
   },
   {
    "duration": 25,
    "start_time": "2021-12-25T13:39:42.387Z"
   },
   {
    "duration": 457,
    "start_time": "2021-12-25T13:39:44.062Z"
   },
   {
    "duration": 4,
    "start_time": "2021-12-25T13:40:45.445Z"
   },
   {
    "duration": 4,
    "start_time": "2021-12-25T13:41:09.736Z"
   },
   {
    "duration": 196,
    "start_time": "2021-12-25T13:41:13.927Z"
   },
   {
    "duration": 4,
    "start_time": "2021-12-25T13:41:16.271Z"
   },
   {
    "duration": 4,
    "start_time": "2021-12-25T13:41:20.883Z"
   },
   {
    "duration": 807,
    "start_time": "2021-12-25T13:42:54.858Z"
   },
   {
    "duration": 806,
    "start_time": "2021-12-25T13:44:34.950Z"
   },
   {
    "duration": 844,
    "start_time": "2021-12-25T13:47:15.823Z"
   },
   {
    "duration": 1142,
    "start_time": "2021-12-25T13:49:27.593Z"
   },
   {
    "duration": 1150,
    "start_time": "2021-12-25T13:56:04.298Z"
   },
   {
    "duration": 4,
    "start_time": "2021-12-25T13:57:17.441Z"
   },
   {
    "duration": 508,
    "start_time": "2021-12-25T14:05:56.306Z"
   },
   {
    "duration": 496,
    "start_time": "2021-12-25T14:06:26.814Z"
   },
   {
    "duration": 460,
    "start_time": "2021-12-25T14:07:57.182Z"
   },
   {
    "duration": 513,
    "start_time": "2021-12-25T14:08:03.899Z"
   },
   {
    "duration": 60,
    "start_time": "2021-12-25T14:11:15.727Z"
   },
   {
    "duration": 104,
    "start_time": "2021-12-25T14:12:01.951Z"
   },
   {
    "duration": 4,
    "start_time": "2021-12-25T14:12:15.634Z"
   },
   {
    "duration": 25,
    "start_time": "2021-12-25T14:12:33.801Z"
   },
   {
    "duration": 41,
    "start_time": "2021-12-25T14:12:45.165Z"
   },
   {
    "duration": 40,
    "start_time": "2021-12-25T14:13:47.169Z"
   },
   {
    "duration": 3,
    "start_time": "2021-12-25T14:14:30.871Z"
   },
   {
    "duration": 1194,
    "start_time": "2021-12-25T14:14:49.924Z"
   },
   {
    "duration": 517,
    "start_time": "2021-12-25T14:14:55.396Z"
   },
   {
    "duration": 29,
    "start_time": "2021-12-25T14:15:06.440Z"
   },
   {
    "duration": 198,
    "start_time": "2021-12-25T14:51:51.829Z"
   },
   {
    "duration": 192,
    "start_time": "2021-12-25T14:52:08.693Z"
   },
   {
    "duration": 193,
    "start_time": "2021-12-25T14:52:27.789Z"
   },
   {
    "duration": 196,
    "start_time": "2021-12-25T14:56:16.640Z"
   },
   {
    "duration": 194,
    "start_time": "2021-12-25T14:56:49.678Z"
   },
   {
    "duration": 194,
    "start_time": "2021-12-25T14:57:22.171Z"
   },
   {
    "duration": 191,
    "start_time": "2021-12-25T14:58:11.724Z"
   },
   {
    "duration": 190,
    "start_time": "2021-12-25T14:58:20.079Z"
   },
   {
    "duration": 77,
    "start_time": "2021-12-25T14:58:58.504Z"
   },
   {
    "duration": 47,
    "start_time": "2021-12-25T14:59:54.711Z"
   },
   {
    "duration": 6,
    "start_time": "2021-12-25T15:04:48.683Z"
   },
   {
    "duration": 7,
    "start_time": "2021-12-25T15:05:48.546Z"
   },
   {
    "duration": 6,
    "start_time": "2021-12-25T15:06:01.744Z"
   },
   {
    "duration": 6,
    "start_time": "2021-12-25T15:06:37.651Z"
   },
   {
    "duration": 16,
    "start_time": "2021-12-25T15:11:37.525Z"
   },
   {
    "duration": 15,
    "start_time": "2021-12-25T15:11:57.230Z"
   },
   {
    "duration": 15,
    "start_time": "2021-12-25T15:12:36.438Z"
   },
   {
    "duration": 391,
    "start_time": "2021-12-25T15:38:02.645Z"
   },
   {
    "duration": 1947,
    "start_time": "2021-12-25T15:38:25.285Z"
   },
   {
    "duration": 203,
    "start_time": "2021-12-25T15:38:34.390Z"
   },
   {
    "duration": 187,
    "start_time": "2021-12-25T15:42:42.037Z"
   },
   {
    "duration": 76,
    "start_time": "2021-12-25T15:42:49.336Z"
   },
   {
    "duration": 5419,
    "start_time": "2021-12-25T15:45:02.753Z"
   },
   {
    "duration": 5288,
    "start_time": "2021-12-25T15:45:22.957Z"
   },
   {
    "duration": 186,
    "start_time": "2021-12-25T15:51:36.015Z"
   },
   {
    "duration": 11,
    "start_time": "2021-12-25T15:51:50.454Z"
   },
   {
    "duration": 8,
    "start_time": "2021-12-25T15:52:30.865Z"
   },
   {
    "duration": 9,
    "start_time": "2021-12-25T15:53:03.897Z"
   },
   {
    "duration": 22,
    "start_time": "2021-12-25T15:54:43.136Z"
   },
   {
    "duration": 21,
    "start_time": "2021-12-25T15:55:34.565Z"
   },
   {
    "duration": 21,
    "start_time": "2021-12-25T15:56:01.634Z"
   },
   {
    "duration": 22,
    "start_time": "2021-12-25T15:56:27.184Z"
   },
   {
    "duration": 21,
    "start_time": "2021-12-25T15:58:26.873Z"
   },
   {
    "duration": 381,
    "start_time": "2021-12-25T16:05:42.594Z"
   },
   {
    "duration": 86,
    "start_time": "2021-12-25T16:08:53.141Z"
   },
   {
    "duration": 39,
    "start_time": "2021-12-25T16:08:57.026Z"
   },
   {
    "duration": 8,
    "start_time": "2021-12-25T16:08:57.484Z"
   },
   {
    "duration": 6,
    "start_time": "2021-12-25T16:08:57.845Z"
   },
   {
    "duration": 7,
    "start_time": "2021-12-25T16:08:58.564Z"
   },
   {
    "duration": 9,
    "start_time": "2021-12-25T16:09:00.334Z"
   },
   {
    "duration": 14,
    "start_time": "2021-12-25T16:09:02.993Z"
   },
   {
    "duration": 4,
    "start_time": "2021-12-25T16:09:04.102Z"
   },
   {
    "duration": 1202,
    "start_time": "2021-12-25T16:09:05.124Z"
   },
   {
    "duration": 7,
    "start_time": "2021-12-25T16:09:06.328Z"
   },
   {
    "duration": 4,
    "start_time": "2021-12-25T16:09:07.084Z"
   },
   {
    "duration": 5,
    "start_time": "2021-12-25T16:09:07.821Z"
   },
   {
    "duration": 10,
    "start_time": "2021-12-25T16:09:08.326Z"
   },
   {
    "duration": 12,
    "start_time": "2021-12-25T16:09:45.957Z"
   },
   {
    "duration": 6,
    "start_time": "2021-12-25T16:09:49.258Z"
   },
   {
    "duration": 9,
    "start_time": "2021-12-25T16:09:50.392Z"
   },
   {
    "duration": 10,
    "start_time": "2021-12-25T16:10:17.040Z"
   },
   {
    "duration": 5,
    "start_time": "2021-12-25T16:10:20.217Z"
   },
   {
    "duration": 1220,
    "start_time": "2021-12-25T16:10:23.188Z"
   },
   {
    "duration": 763,
    "start_time": "2021-12-25T16:21:02.383Z"
   },
   {
    "duration": 447,
    "start_time": "2021-12-25T16:22:51.326Z"
   },
   {
    "duration": 1021,
    "start_time": "2021-12-25T16:25:10.987Z"
   },
   {
    "duration": 982,
    "start_time": "2021-12-25T16:59:12.526Z"
   },
   {
    "duration": 973,
    "start_time": "2021-12-25T16:59:33.825Z"
   },
   {
    "duration": 1018,
    "start_time": "2021-12-25T17:02:17.085Z"
   },
   {
    "duration": 1231,
    "start_time": "2021-12-25T17:03:01.408Z"
   },
   {
    "duration": 986,
    "start_time": "2021-12-25T17:04:15.931Z"
   },
   {
    "duration": 981,
    "start_time": "2021-12-25T17:04:33.470Z"
   },
   {
    "duration": 1043,
    "start_time": "2021-12-25T17:06:42.157Z"
   },
   {
    "duration": 1106,
    "start_time": "2021-12-25T17:06:51.552Z"
   },
   {
    "duration": 1100,
    "start_time": "2021-12-25T17:07:02.211Z"
   },
   {
    "duration": 1015,
    "start_time": "2021-12-25T17:07:48.106Z"
   },
   {
    "duration": 958,
    "start_time": "2021-12-25T17:18:26.773Z"
   },
   {
    "duration": 1109,
    "start_time": "2021-12-25T17:18:41.510Z"
   },
   {
    "duration": 1019,
    "start_time": "2021-12-25T17:20:00.866Z"
   },
   {
    "duration": 968,
    "start_time": "2021-12-25T17:20:22.539Z"
   },
   {
    "duration": 1106,
    "start_time": "2021-12-25T17:20:54.578Z"
   },
   {
    "duration": 1005,
    "start_time": "2021-12-25T17:21:07.189Z"
   },
   {
    "duration": 1107,
    "start_time": "2021-12-25T17:21:17.651Z"
   },
   {
    "duration": 971,
    "start_time": "2021-12-25T17:21:28.892Z"
   },
   {
    "duration": 1068,
    "start_time": "2021-12-25T17:21:36.628Z"
   },
   {
    "duration": 1073,
    "start_time": "2021-12-25T17:21:45.637Z"
   },
   {
    "duration": 992,
    "start_time": "2021-12-25T17:22:54.010Z"
   },
   {
    "duration": 985,
    "start_time": "2021-12-25T17:23:08.303Z"
   },
   {
    "duration": 1141,
    "start_time": "2021-12-25T17:26:29.409Z"
   },
   {
    "duration": 987,
    "start_time": "2021-12-25T17:27:25.922Z"
   },
   {
    "duration": 1119,
    "start_time": "2021-12-25T17:27:37.507Z"
   },
   {
    "duration": 956,
    "start_time": "2021-12-25T17:27:48.909Z"
   },
   {
    "duration": 949,
    "start_time": "2021-12-25T17:27:54.742Z"
   },
   {
    "duration": 1048,
    "start_time": "2021-12-25T17:28:27.812Z"
   },
   {
    "duration": 954,
    "start_time": "2021-12-25T17:28:35.311Z"
   },
   {
    "duration": 939,
    "start_time": "2021-12-25T17:28:42.789Z"
   },
   {
    "duration": 1108,
    "start_time": "2021-12-25T17:28:56.258Z"
   },
   {
    "duration": 1002,
    "start_time": "2021-12-25T17:29:05.405Z"
   },
   {
    "duration": 1083,
    "start_time": "2021-12-25T17:29:16.846Z"
   },
   {
    "duration": 1011,
    "start_time": "2021-12-25T17:29:26.484Z"
   },
   {
    "duration": 966,
    "start_time": "2021-12-25T17:30:38.328Z"
   },
   {
    "duration": 1084,
    "start_time": "2021-12-25T17:30:57.330Z"
   },
   {
    "duration": 1146,
    "start_time": "2021-12-25T17:31:38.493Z"
   },
   {
    "duration": 64,
    "start_time": "2021-12-25T17:31:49.075Z"
   },
   {
    "duration": 1058,
    "start_time": "2021-12-25T17:31:53.420Z"
   },
   {
    "duration": 914,
    "start_time": "2021-12-25T17:32:02.736Z"
   },
   {
    "duration": 895,
    "start_time": "2021-12-25T17:32:14.592Z"
   },
   {
    "duration": 1080,
    "start_time": "2021-12-25T17:32:33.694Z"
   },
   {
    "duration": 903,
    "start_time": "2021-12-25T17:32:46.691Z"
   },
   {
    "duration": 1040,
    "start_time": "2021-12-25T17:34:14.451Z"
   },
   {
    "duration": 994,
    "start_time": "2021-12-25T17:42:28.085Z"
   },
   {
    "duration": 942,
    "start_time": "2021-12-25T17:42:39.578Z"
   },
   {
    "duration": 1085,
    "start_time": "2021-12-25T17:42:48.919Z"
   },
   {
    "duration": 966,
    "start_time": "2021-12-25T17:42:59.583Z"
   },
   {
    "duration": 938,
    "start_time": "2021-12-25T17:43:09.416Z"
   },
   {
    "duration": 1139,
    "start_time": "2021-12-25T17:43:18.635Z"
   },
   {
    "duration": 951,
    "start_time": "2021-12-25T17:45:56.794Z"
   },
   {
    "duration": 1023,
    "start_time": "2021-12-25T17:46:08.920Z"
   },
   {
    "duration": 972,
    "start_time": "2021-12-25T17:47:20.764Z"
   },
   {
    "duration": 994,
    "start_time": "2021-12-25T17:53:41.987Z"
   },
   {
    "duration": 1128,
    "start_time": "2021-12-25T17:53:53.266Z"
   },
   {
    "duration": 992,
    "start_time": "2021-12-25T17:54:01.111Z"
   },
   {
    "duration": 1072,
    "start_time": "2021-12-25T17:54:10.099Z"
   },
   {
    "duration": 974,
    "start_time": "2021-12-25T17:54:22.597Z"
   },
   {
    "duration": 256,
    "start_time": "2021-12-25T18:00:56.547Z"
   },
   {
    "duration": 267,
    "start_time": "2021-12-25T18:02:38.947Z"
   },
   {
    "duration": 7,
    "start_time": "2021-12-25T18:05:56.510Z"
   },
   {
    "duration": 312,
    "start_time": "2021-12-25T18:35:52.649Z"
   },
   {
    "duration": 5,
    "start_time": "2021-12-25T18:42:27.039Z"
   },
   {
    "duration": 307,
    "start_time": "2021-12-25T18:47:09.879Z"
   },
   {
    "duration": 345,
    "start_time": "2021-12-25T18:47:16.600Z"
   },
   {
    "duration": 1964,
    "start_time": "2021-12-25T18:47:22.674Z"
   },
   {
    "duration": 1055,
    "start_time": "2021-12-25T18:47:36.643Z"
   },
   {
    "duration": 812,
    "start_time": "2021-12-25T18:47:57.984Z"
   },
   {
    "duration": 708,
    "start_time": "2021-12-25T18:48:12.136Z"
   },
   {
    "duration": 675,
    "start_time": "2021-12-25T18:48:26.102Z"
   },
   {
    "duration": 355,
    "start_time": "2021-12-25T18:48:38.970Z"
   },
   {
    "duration": 454,
    "start_time": "2021-12-25T18:48:50.743Z"
   },
   {
    "duration": 260,
    "start_time": "2021-12-25T18:49:01.411Z"
   },
   {
    "duration": 236,
    "start_time": "2021-12-26T09:45:04.959Z"
   },
   {
    "duration": 636,
    "start_time": "2021-12-26T09:45:11.616Z"
   },
   {
    "duration": 51,
    "start_time": "2021-12-26T09:45:12.254Z"
   },
   {
    "duration": 7,
    "start_time": "2021-12-26T09:45:12.307Z"
   },
   {
    "duration": 6,
    "start_time": "2021-12-26T09:45:12.315Z"
   },
   {
    "duration": 9,
    "start_time": "2021-12-26T09:45:12.322Z"
   },
   {
    "duration": 18,
    "start_time": "2021-12-26T09:45:12.332Z"
   },
   {
    "duration": 12,
    "start_time": "2021-12-26T09:45:12.352Z"
   },
   {
    "duration": 27,
    "start_time": "2021-12-26T09:45:12.366Z"
   },
   {
    "duration": 1262,
    "start_time": "2021-12-26T09:45:12.396Z"
   },
   {
    "duration": 6,
    "start_time": "2021-12-26T09:45:13.660Z"
   },
   {
    "duration": 6,
    "start_time": "2021-12-26T09:45:13.668Z"
   },
   {
    "duration": 16,
    "start_time": "2021-12-26T09:45:13.676Z"
   },
   {
    "duration": 8,
    "start_time": "2021-12-26T09:45:13.694Z"
   },
   {
    "duration": 9,
    "start_time": "2021-12-26T09:45:13.703Z"
   },
   {
    "duration": 6,
    "start_time": "2021-12-26T09:45:13.714Z"
   },
   {
    "duration": 8,
    "start_time": "2021-12-26T09:45:13.721Z"
   },
   {
    "duration": 11,
    "start_time": "2021-12-26T09:45:13.730Z"
   },
   {
    "duration": 5,
    "start_time": "2021-12-26T09:45:13.742Z"
   },
   {
    "duration": 1249,
    "start_time": "2021-12-26T09:45:13.748Z"
   },
   {
    "duration": 488,
    "start_time": "2021-12-26T09:45:14.999Z"
   },
   {
    "duration": 29,
    "start_time": "2021-12-26T09:45:15.488Z"
   },
   {
    "duration": 20,
    "start_time": "2021-12-26T09:45:15.519Z"
   },
   {
    "duration": 1089,
    "start_time": "2021-12-26T09:45:15.540Z"
   },
   {
    "duration": 984,
    "start_time": "2021-12-26T09:45:16.631Z"
   },
   {
    "duration": 963,
    "start_time": "2021-12-26T09:45:17.616Z"
   },
   {
    "duration": 275,
    "start_time": "2021-12-26T09:45:18.580Z"
   },
   {
    "duration": 252,
    "start_time": "2021-12-26T09:45:18.858Z"
   },
   {
    "duration": 244,
    "start_time": "2021-12-26T09:45:40.399Z"
   },
   {
    "duration": 238,
    "start_time": "2021-12-26T09:45:51.902Z"
   },
   {
    "duration": 231,
    "start_time": "2021-12-26T09:46:07.440Z"
   },
   {
    "duration": 222,
    "start_time": "2021-12-26T09:46:22.701Z"
   },
   {
    "duration": 248,
    "start_time": "2021-12-26T09:46:35.445Z"
   },
   {
    "duration": 258,
    "start_time": "2021-12-26T09:46:48.218Z"
   },
   {
    "duration": 243,
    "start_time": "2021-12-26T09:47:10.526Z"
   },
   {
    "duration": 1069,
    "start_time": "2021-12-26T09:50:17.784Z"
   },
   {
    "duration": 1017,
    "start_time": "2021-12-26T09:50:23.994Z"
   },
   {
    "duration": 770,
    "start_time": "2021-12-26T09:50:38.344Z"
   },
   {
    "duration": 528,
    "start_time": "2021-12-26T09:50:50.796Z"
   },
   {
    "duration": 345,
    "start_time": "2021-12-26T09:50:58.267Z"
   },
   {
    "duration": 351,
    "start_time": "2021-12-26T09:51:13.353Z"
   },
   {
    "duration": 465,
    "start_time": "2021-12-26T09:51:35.042Z"
   },
   {
    "duration": 39,
    "start_time": "2021-12-26T10:04:54.323Z"
   },
   {
    "duration": 29,
    "start_time": "2021-12-26T10:04:54.364Z"
   },
   {
    "duration": 7,
    "start_time": "2021-12-26T10:04:54.394Z"
   },
   {
    "duration": 9,
    "start_time": "2021-12-26T10:04:54.402Z"
   },
   {
    "duration": 15,
    "start_time": "2021-12-26T10:04:54.413Z"
   },
   {
    "duration": 13,
    "start_time": "2021-12-26T10:04:54.430Z"
   },
   {
    "duration": 3,
    "start_time": "2021-12-26T10:04:54.445Z"
   },
   {
    "duration": 1302,
    "start_time": "2021-12-26T10:04:54.450Z"
   },
   {
    "duration": 5,
    "start_time": "2021-12-26T10:04:55.754Z"
   },
   {
    "duration": 5,
    "start_time": "2021-12-26T10:04:55.761Z"
   },
   {
    "duration": 5,
    "start_time": "2021-12-26T10:04:55.768Z"
   },
   {
    "duration": 22,
    "start_time": "2021-12-26T10:04:55.775Z"
   },
   {
    "duration": 11,
    "start_time": "2021-12-26T10:04:55.798Z"
   },
   {
    "duration": 5,
    "start_time": "2021-12-26T10:04:55.811Z"
   },
   {
    "duration": 9,
    "start_time": "2021-12-26T10:04:55.818Z"
   },
   {
    "duration": 13,
    "start_time": "2021-12-26T10:04:55.828Z"
   },
   {
    "duration": 3,
    "start_time": "2021-12-26T10:04:55.843Z"
   },
   {
    "duration": 1189,
    "start_time": "2021-12-26T10:04:55.848Z"
   },
   {
    "duration": 613,
    "start_time": "2021-12-26T10:04:57.039Z"
   },
   {
    "duration": 38,
    "start_time": "2021-12-26T10:04:57.654Z"
   },
   {
    "duration": 21,
    "start_time": "2021-12-26T10:04:57.694Z"
   },
   {
    "duration": 1006,
    "start_time": "2021-12-26T10:04:57.717Z"
   },
   {
    "duration": 1018,
    "start_time": "2021-12-26T10:04:58.725Z"
   },
   {
    "duration": 967,
    "start_time": "2021-12-26T10:04:59.745Z"
   },
   {
    "duration": 328,
    "start_time": "2021-12-26T10:05:00.714Z"
   },
   {
    "duration": 439,
    "start_time": "2021-12-26T10:05:01.044Z"
   },
   {
    "duration": 609,
    "start_time": "2021-12-26T10:05:01.486Z"
   },
   {
    "duration": 111,
    "start_time": "2021-12-26T10:05:02.101Z"
   },
   {
    "duration": 39,
    "start_time": "2021-12-26T10:05:08.167Z"
   },
   {
    "duration": 8,
    "start_time": "2021-12-26T10:05:09.300Z"
   },
   {
    "duration": 6,
    "start_time": "2021-12-26T10:05:09.853Z"
   },
   {
    "duration": 7,
    "start_time": "2021-12-26T10:05:10.638Z"
   },
   {
    "duration": 9,
    "start_time": "2021-12-26T10:05:12.524Z"
   },
   {
    "duration": 14,
    "start_time": "2021-12-26T10:05:14.424Z"
   },
   {
    "duration": 3,
    "start_time": "2021-12-26T10:05:15.086Z"
   },
   {
    "duration": 1255,
    "start_time": "2021-12-26T10:05:15.990Z"
   },
   {
    "duration": 7,
    "start_time": "2021-12-26T10:05:20.885Z"
   },
   {
    "duration": 4,
    "start_time": "2021-12-26T10:05:22.946Z"
   },
   {
    "duration": 7,
    "start_time": "2021-12-26T10:05:24.176Z"
   },
   {
    "duration": 8,
    "start_time": "2021-12-26T10:05:25.903Z"
   },
   {
    "duration": 11,
    "start_time": "2021-12-26T10:05:28.391Z"
   },
   {
    "duration": 8,
    "start_time": "2021-12-26T10:05:29.593Z"
   },
   {
    "duration": 9,
    "start_time": "2021-12-26T10:05:30.615Z"
   },
   {
    "duration": 12,
    "start_time": "2021-12-26T10:05:31.154Z"
   },
   {
    "duration": 5,
    "start_time": "2021-12-26T10:05:33.584Z"
   },
   {
    "duration": 1219,
    "start_time": "2021-12-26T10:05:35.174Z"
   },
   {
    "duration": 641,
    "start_time": "2021-12-26T10:05:36.395Z"
   },
   {
    "duration": 33,
    "start_time": "2021-12-26T10:05:37.524Z"
   },
   {
    "duration": 24,
    "start_time": "2021-12-26T10:05:49.663Z"
   },
   {
    "duration": 1019,
    "start_time": "2021-12-26T10:05:51.147Z"
   },
   {
    "duration": 1080,
    "start_time": "2021-12-26T10:05:52.442Z"
   },
   {
    "duration": 1039,
    "start_time": "2021-12-26T10:05:54.048Z"
   },
   {
    "duration": 317,
    "start_time": "2021-12-26T10:06:01.204Z"
   },
   {
    "duration": 320,
    "start_time": "2021-12-26T10:06:24.234Z"
   },
   {
    "duration": 269,
    "start_time": "2021-12-26T10:06:28.316Z"
   },
   {
    "duration": 447,
    "start_time": "2021-12-26T10:06:33.728Z"
   },
   {
    "duration": 237,
    "start_time": "2021-12-26T10:06:39.111Z"
   },
   {
    "duration": 247,
    "start_time": "2021-12-26T10:06:48.573Z"
   },
   {
    "duration": 264,
    "start_time": "2021-12-26T10:06:52.733Z"
   },
   {
    "duration": 228,
    "start_time": "2021-12-26T10:07:00.443Z"
   },
   {
    "duration": 242,
    "start_time": "2021-12-26T10:07:09.088Z"
   },
   {
    "duration": 280,
    "start_time": "2021-12-26T10:07:13.887Z"
   },
   {
    "duration": 1015,
    "start_time": "2021-12-26T10:07:40.968Z"
   },
   {
    "duration": 254,
    "start_time": "2021-12-26T10:07:46.276Z"
   },
   {
    "duration": 420,
    "start_time": "2021-12-26T10:08:06.475Z"
   },
   {
    "duration": 209,
    "start_time": "2021-12-26T10:08:38.777Z"
   },
   {
    "duration": 212,
    "start_time": "2021-12-26T10:09:14.086Z"
   },
   {
    "duration": 185,
    "start_time": "2021-12-26T10:09:37.208Z"
   },
   {
    "duration": 194,
    "start_time": "2021-12-26T10:09:58.455Z"
   },
   {
    "duration": 168,
    "start_time": "2021-12-26T10:10:24.700Z"
   },
   {
    "duration": 194,
    "start_time": "2021-12-26T10:12:41.681Z"
   },
   {
    "duration": 234,
    "start_time": "2021-12-26T10:13:04.156Z"
   },
   {
    "duration": 351,
    "start_time": "2021-12-26T10:17:55.233Z"
   },
   {
    "duration": 387,
    "start_time": "2021-12-26T10:18:14.795Z"
   },
   {
    "duration": 420,
    "start_time": "2021-12-26T10:18:50.928Z"
   },
   {
    "duration": 43,
    "start_time": "2021-12-26T10:20:52.727Z"
   },
   {
    "duration": 51,
    "start_time": "2021-12-26T10:21:19.678Z"
   },
   {
    "duration": 232,
    "start_time": "2021-12-26T10:23:12.975Z"
   },
   {
    "duration": 363,
    "start_time": "2021-12-26T10:23:32.182Z"
   },
   {
    "duration": 245,
    "start_time": "2021-12-26T10:23:40.506Z"
   },
   {
    "duration": 379,
    "start_time": "2021-12-26T10:28:27.799Z"
   },
   {
    "duration": 264,
    "start_time": "2021-12-26T10:28:32.407Z"
   },
   {
    "duration": 221,
    "start_time": "2021-12-26T10:28:59.713Z"
   },
   {
    "duration": 271,
    "start_time": "2021-12-26T10:29:42.136Z"
   },
   {
    "duration": 253,
    "start_time": "2021-12-26T10:36:33.024Z"
   },
   {
    "duration": 187,
    "start_time": "2021-12-26T10:40:15.737Z"
   },
   {
    "duration": 108,
    "start_time": "2021-12-26T10:47:46.802Z"
   },
   {
    "duration": 40,
    "start_time": "2021-12-26T10:47:49.255Z"
   },
   {
    "duration": 9,
    "start_time": "2021-12-26T10:47:49.578Z"
   },
   {
    "duration": 6,
    "start_time": "2021-12-26T10:47:49.763Z"
   },
   {
    "duration": 10,
    "start_time": "2021-12-26T10:47:50.104Z"
   },
   {
    "duration": 10,
    "start_time": "2021-12-26T10:47:51.169Z"
   },
   {
    "duration": 14,
    "start_time": "2021-12-26T10:47:52.471Z"
   },
   {
    "duration": 4,
    "start_time": "2021-12-26T10:47:52.907Z"
   },
   {
    "duration": 1552,
    "start_time": "2021-12-26T10:47:54.386Z"
   },
   {
    "duration": 6,
    "start_time": "2021-12-26T10:47:57.931Z"
   },
   {
    "duration": 4,
    "start_time": "2021-12-26T10:47:58.820Z"
   },
   {
    "duration": 7,
    "start_time": "2021-12-26T10:47:59.359Z"
   },
   {
    "duration": 9,
    "start_time": "2021-12-26T10:47:59.736Z"
   },
   {
    "duration": 11,
    "start_time": "2021-12-26T10:48:01.630Z"
   },
   {
    "duration": 9,
    "start_time": "2021-12-26T10:48:02.394Z"
   },
   {
    "duration": 8,
    "start_time": "2021-12-26T10:48:03.850Z"
   },
   {
    "duration": 12,
    "start_time": "2021-12-26T10:48:04.419Z"
   },
   {
    "duration": 5,
    "start_time": "2021-12-26T10:48:06.780Z"
   },
   {
    "duration": 1395,
    "start_time": "2021-12-26T10:48:08.019Z"
   },
   {
    "duration": 547,
    "start_time": "2021-12-26T10:48:09.417Z"
   },
   {
    "duration": 32,
    "start_time": "2021-12-26T10:48:10.993Z"
   },
   {
    "duration": 24,
    "start_time": "2021-12-26T10:48:13.441Z"
   },
   {
    "duration": 1099,
    "start_time": "2021-12-26T10:48:15.167Z"
   },
   {
    "duration": 1124,
    "start_time": "2021-12-26T10:48:16.739Z"
   },
   {
    "duration": 1268,
    "start_time": "2021-12-26T10:48:18.069Z"
   },
   {
    "duration": 316,
    "start_time": "2021-12-26T10:48:21.470Z"
   },
   {
    "duration": 206,
    "start_time": "2021-12-26T10:48:23.548Z"
   },
   {
    "duration": 249,
    "start_time": "2021-12-26T10:48:34.088Z"
   },
   {
    "duration": 206,
    "start_time": "2021-12-26T10:48:53.980Z"
   },
   {
    "duration": 202,
    "start_time": "2021-12-26T10:49:03.244Z"
   },
   {
    "duration": 227,
    "start_time": "2022-01-01T12:25:24.479Z"
   },
   {
    "duration": 674,
    "start_time": "2022-01-01T12:25:32.458Z"
   },
   {
    "duration": 40,
    "start_time": "2022-01-01T12:25:33.133Z"
   },
   {
    "duration": 26,
    "start_time": "2022-01-01T12:25:33.174Z"
   },
   {
    "duration": 8,
    "start_time": "2022-01-01T12:25:33.203Z"
   },
   {
    "duration": 7,
    "start_time": "2022-01-01T12:25:33.213Z"
   },
   {
    "duration": 8,
    "start_time": "2022-01-01T12:25:33.222Z"
   },
   {
    "duration": 13,
    "start_time": "2022-01-01T12:25:33.231Z"
   },
   {
    "duration": 3,
    "start_time": "2022-01-01T12:25:33.246Z"
   },
   {
    "duration": 1410,
    "start_time": "2022-01-01T12:25:33.251Z"
   },
   {
    "duration": 5,
    "start_time": "2022-01-01T12:25:34.663Z"
   },
   {
    "duration": 6,
    "start_time": "2022-01-01T12:25:34.670Z"
   },
   {
    "duration": 7,
    "start_time": "2022-01-01T12:25:34.677Z"
   },
   {
    "duration": 17,
    "start_time": "2022-01-01T12:25:34.692Z"
   },
   {
    "duration": 9,
    "start_time": "2022-01-01T12:25:34.710Z"
   },
   {
    "duration": 6,
    "start_time": "2022-01-01T12:25:34.721Z"
   },
   {
    "duration": 8,
    "start_time": "2022-01-01T12:25:34.728Z"
   },
   {
    "duration": 12,
    "start_time": "2022-01-01T12:25:34.737Z"
   },
   {
    "duration": 5,
    "start_time": "2022-01-01T12:25:34.750Z"
   },
   {
    "duration": 1329,
    "start_time": "2022-01-01T12:25:34.756Z"
   },
   {
    "duration": 509,
    "start_time": "2022-01-01T12:25:36.086Z"
   },
   {
    "duration": 31,
    "start_time": "2022-01-01T12:25:36.600Z"
   },
   {
    "duration": 20,
    "start_time": "2022-01-01T12:25:36.633Z"
   },
   {
    "duration": 1183,
    "start_time": "2022-01-01T12:25:36.655Z"
   },
   {
    "duration": 1087,
    "start_time": "2022-01-01T12:25:37.840Z"
   },
   {
    "duration": 1058,
    "start_time": "2022-01-01T12:25:38.929Z"
   },
   {
    "duration": 321,
    "start_time": "2022-01-01T12:25:39.988Z"
   },
   {
    "duration": 195,
    "start_time": "2022-01-01T12:25:40.311Z"
   },
   {
    "duration": 54,
    "start_time": "2022-01-01T12:25:40.508Z"
   },
   {
    "duration": -145,
    "start_time": "2022-01-01T12:25:40.709Z"
   },
   {
    "duration": -147,
    "start_time": "2022-01-01T12:25:40.712Z"
   },
   {
    "duration": -168,
    "start_time": "2022-01-01T12:25:40.734Z"
   },
   {
    "duration": 6,
    "start_time": "2022-01-01T12:26:36.921Z"
   },
   {
    "duration": 7,
    "start_time": "2022-01-01T12:28:09.180Z"
   },
   {
    "duration": 373,
    "start_time": "2022-01-01T12:58:15.900Z"
   },
   {
    "duration": 195,
    "start_time": "2022-01-01T12:58:19.454Z"
   },
   {
    "duration": 46,
    "start_time": "2022-01-01T12:58:20.070Z"
   },
   {
    "duration": 399,
    "start_time": "2022-01-01T12:59:47.950Z"
   },
   {
    "duration": 357,
    "start_time": "2022-01-01T13:03:02.324Z"
   },
   {
    "duration": 1090,
    "start_time": "2022-01-01T13:12:29.093Z"
   },
   {
    "duration": 970,
    "start_time": "2022-01-01T13:12:41.297Z"
   },
   {
    "duration": 760,
    "start_time": "2022-01-01T13:28:40.066Z"
   },
   {
    "duration": 674,
    "start_time": "2022-01-01T14:01:18.524Z"
   },
   {
    "duration": 667,
    "start_time": "2022-01-01T14:01:24.202Z"
   },
   {
    "duration": 689,
    "start_time": "2022-01-01T14:01:29.638Z"
   },
   {
    "duration": 787,
    "start_time": "2022-01-01T14:01:48.798Z"
   },
   {
    "duration": 705,
    "start_time": "2022-01-01T14:24:30.854Z"
   },
   {
    "duration": 668,
    "start_time": "2022-01-01T14:26:27.708Z"
   },
   {
    "duration": 740,
    "start_time": "2022-01-01T14:26:54.931Z"
   },
   {
    "duration": 664,
    "start_time": "2022-01-01T14:27:45.935Z"
   },
   {
    "duration": 686,
    "start_time": "2022-01-01T14:28:29.343Z"
   },
   {
    "duration": 731,
    "start_time": "2022-01-01T14:28:51.018Z"
   },
   {
    "duration": 675,
    "start_time": "2022-01-01T14:29:21.948Z"
   },
   {
    "duration": 688,
    "start_time": "2022-01-01T14:30:22.095Z"
   },
   {
    "duration": 771,
    "start_time": "2022-01-01T14:30:33.858Z"
   },
   {
    "duration": 698,
    "start_time": "2022-01-01T14:30:59.805Z"
   },
   {
    "duration": 664,
    "start_time": "2022-01-01T14:57:36.175Z"
   },
   {
    "duration": 735,
    "start_time": "2022-01-01T14:57:46.176Z"
   },
   {
    "duration": 709,
    "start_time": "2022-01-01T15:20:19.768Z"
   },
   {
    "duration": 728,
    "start_time": "2022-01-01T15:22:14.305Z"
   },
   {
    "duration": 735,
    "start_time": "2022-01-01T15:35:58.623Z"
   },
   {
    "duration": 607,
    "start_time": "2022-01-01T15:36:20.145Z"
   },
   {
    "duration": 147,
    "start_time": "2022-01-01T15:42:11.769Z"
   },
   {
    "duration": 134,
    "start_time": "2022-01-01T15:43:07.834Z"
   },
   {
    "duration": 132,
    "start_time": "2022-01-01T15:43:12.717Z"
   },
   {
    "duration": 141,
    "start_time": "2022-01-01T15:43:26.663Z"
   },
   {
    "duration": 139,
    "start_time": "2022-01-01T15:45:26.366Z"
   },
   {
    "duration": 142,
    "start_time": "2022-01-01T15:45:30.419Z"
   },
   {
    "duration": 132,
    "start_time": "2022-01-01T15:45:33.806Z"
   },
   {
    "duration": 140,
    "start_time": "2022-01-01T15:45:36.567Z"
   },
   {
    "duration": 452,
    "start_time": "2022-01-01T15:49:05.133Z"
   },
   {
    "duration": 189,
    "start_time": "2022-01-01T15:49:09.432Z"
   },
   {
    "duration": 46,
    "start_time": "2022-01-01T15:51:39.987Z"
   },
   {
    "duration": 33,
    "start_time": "2022-01-01T15:51:59.871Z"
   },
   {
    "duration": 207,
    "start_time": "2022-01-01T15:57:47.332Z"
   },
   {
    "duration": 357,
    "start_time": "2022-01-01T15:57:56.092Z"
   },
   {
    "duration": 362,
    "start_time": "2022-01-01T15:58:08.673Z"
   },
   {
    "duration": 355,
    "start_time": "2022-01-01T15:58:23.511Z"
   },
   {
    "duration": 213,
    "start_time": "2022-01-01T15:58:30.867Z"
   },
   {
    "duration": 284,
    "start_time": "2022-01-01T15:58:50.054Z"
   },
   {
    "duration": 190,
    "start_time": "2022-01-01T15:58:59.674Z"
   },
   {
    "duration": 198,
    "start_time": "2022-01-01T15:59:11.274Z"
   },
   {
    "duration": 199,
    "start_time": "2022-01-01T15:59:22.070Z"
   },
   {
    "duration": 190,
    "start_time": "2022-01-01T16:01:40.303Z"
   },
   {
    "duration": 205,
    "start_time": "2022-01-01T16:01:57.050Z"
   },
   {
    "duration": 360,
    "start_time": "2022-01-01T16:02:03.211Z"
   },
   {
    "duration": 226,
    "start_time": "2022-01-01T16:02:15.623Z"
   },
   {
    "duration": 141,
    "start_time": "2022-01-01T16:04:17.620Z"
   },
   {
    "duration": 224,
    "start_time": "2022-01-01T16:05:20.113Z"
   },
   {
    "duration": 231,
    "start_time": "2022-01-01T16:05:28.111Z"
   },
   {
    "duration": 332,
    "start_time": "2022-01-01T16:05:36.876Z"
   },
   {
    "duration": 282,
    "start_time": "2022-01-01T16:05:47.165Z"
   },
   {
    "duration": 178,
    "start_time": "2022-01-01T16:06:07.010Z"
   },
   {
    "duration": 200,
    "start_time": "2022-01-01T16:06:43.963Z"
   },
   {
    "duration": 225,
    "start_time": "2022-01-01T16:06:49.435Z"
   },
   {
    "duration": 178,
    "start_time": "2022-01-01T16:06:54.711Z"
   },
   {
    "duration": 188,
    "start_time": "2022-01-01T16:07:03.001Z"
   },
   {
    "duration": 177,
    "start_time": "2022-01-01T16:50:24.668Z"
   },
   {
    "duration": 546,
    "start_time": "2022-01-01T17:52:06.687Z"
   },
   {
    "duration": 287,
    "start_time": "2022-01-01T17:52:09.862Z"
   },
   {
    "duration": 135,
    "start_time": "2022-01-01T17:52:11.458Z"
   },
   {
    "duration": 174,
    "start_time": "2022-01-01T17:52:14.198Z"
   },
   {
    "duration": 391,
    "start_time": "2022-01-01T17:58:46.209Z"
   },
   {
    "duration": 137,
    "start_time": "2022-01-01T17:58:47.293Z"
   },
   {
    "duration": 181,
    "start_time": "2022-01-01T17:58:48.455Z"
   },
   {
    "duration": 30,
    "start_time": "2022-01-01T17:58:50.328Z"
   },
   {
    "duration": 17,
    "start_time": "2022-01-01T18:07:37.455Z"
   },
   {
    "duration": 31,
    "start_time": "2022-01-01T18:07:58.336Z"
   },
   {
    "duration": 23,
    "start_time": "2022-01-01T18:09:25.966Z"
   },
   {
    "duration": 22,
    "start_time": "2022-01-01T18:33:38.994Z"
   },
   {
    "duration": 21,
    "start_time": "2022-01-01T18:33:49.781Z"
   },
   {
    "duration": 19,
    "start_time": "2022-01-01T18:34:01.741Z"
   },
   {
    "duration": 18,
    "start_time": "2022-01-01T18:34:33.438Z"
   },
   {
    "duration": 18,
    "start_time": "2022-01-01T18:34:56.843Z"
   },
   {
    "duration": 22,
    "start_time": "2022-01-01T18:40:24.995Z"
   },
   {
    "duration": 222,
    "start_time": "2022-01-01T18:50:46.629Z"
   },
   {
    "duration": 263,
    "start_time": "2022-01-01T18:51:06.602Z"
   },
   {
    "duration": 707,
    "start_time": "2022-01-01T18:52:20.575Z"
   },
   {
    "duration": 59,
    "start_time": "2022-01-01T18:53:12.517Z"
   },
   {
    "duration": 275,
    "start_time": "2022-01-01T18:53:15.164Z"
   },
   {
    "duration": 242,
    "start_time": "2022-01-01T18:53:33.451Z"
   },
   {
    "duration": 712,
    "start_time": "2022-01-01T18:54:46.275Z"
   },
   {
    "duration": 994,
    "start_time": "2022-01-01T18:55:11.340Z"
   },
   {
    "duration": 12,
    "start_time": "2022-01-01T19:13:05.930Z"
   },
   {
    "duration": 21,
    "start_time": "2022-01-01T19:13:31.344Z"
   },
   {
    "duration": 1145,
    "start_time": "2022-01-01T19:17:57.613Z"
   },
   {
    "duration": 183,
    "start_time": "2022-01-01T19:20:45.928Z"
   },
   {
    "duration": 225,
    "start_time": "2022-01-01T19:21:02.311Z"
   },
   {
    "duration": 1010,
    "start_time": "2022-01-01T19:21:04.919Z"
   },
   {
    "duration": 936,
    "start_time": "2022-01-01T19:22:52.881Z"
   },
   {
    "duration": 956,
    "start_time": "2022-01-01T19:23:02.509Z"
   },
   {
    "duration": 701,
    "start_time": "2022-01-01T19:23:37.898Z"
   },
   {
    "duration": 15,
    "start_time": "2022-01-01T19:33:04.699Z"
   },
   {
    "duration": 16,
    "start_time": "2022-01-01T19:33:21.345Z"
   },
   {
    "duration": 248,
    "start_time": "2022-01-01T19:33:25.859Z"
   },
   {
    "duration": 186,
    "start_time": "2022-01-01T19:40:32.447Z"
   },
   {
    "duration": 25,
    "start_time": "2022-01-01T19:41:37.550Z"
   },
   {
    "duration": -205,
    "start_time": "2022-01-01T19:46:36.152Z"
   },
   {
    "duration": -207,
    "start_time": "2022-01-01T19:46:36.156Z"
   },
   {
    "duration": 48808,
    "start_time": "2022-01-01T19:46:53.845Z"
   },
   {
    "duration": 225,
    "start_time": "2022-01-01T19:50:00.025Z"
   },
   {
    "duration": 164,
    "start_time": "2022-01-01T19:50:35.059Z"
   },
   {
    "duration": 176,
    "start_time": "2022-01-01T19:51:34.576Z"
   },
   {
    "duration": 8,
    "start_time": "2022-01-01T19:51:44.342Z"
   },
   {
    "duration": 60,
    "start_time": "2022-01-01T19:51:54.639Z"
   },
   {
    "duration": 2877,
    "start_time": "2022-01-01T19:51:59.268Z"
   },
   {
    "duration": 188,
    "start_time": "2022-01-01T19:56:07.789Z"
   },
   {
    "duration": 344,
    "start_time": "2022-01-01T19:56:25.366Z"
   },
   {
    "duration": 4,
    "start_time": "2022-01-01T19:59:18.749Z"
   },
   {
    "duration": 5,
    "start_time": "2022-01-01T19:59:34.114Z"
   },
   {
    "duration": 7,
    "start_time": "2022-01-01T20:00:22.496Z"
   },
   {
    "duration": 713,
    "start_time": "2022-01-01T20:04:01.031Z"
   },
   {
    "duration": 684,
    "start_time": "2022-01-01T20:04:08.775Z"
   },
   {
    "duration": 632,
    "start_time": "2022-01-01T20:04:23.652Z"
   },
   {
    "duration": 662,
    "start_time": "2022-01-01T20:08:59.402Z"
   },
   {
    "duration": 8,
    "start_time": "2022-01-01T20:17:55.210Z"
   },
   {
    "duration": 227,
    "start_time": "2022-01-01T20:29:31.151Z"
   },
   {
    "duration": 594,
    "start_time": "2022-01-01T20:30:08.321Z"
   },
   {
    "duration": 63,
    "start_time": "2022-01-01T20:32:05.769Z"
   },
   {
    "duration": 217,
    "start_time": "2022-01-01T20:32:14.210Z"
   },
   {
    "duration": 219,
    "start_time": "2022-01-01T20:35:32.978Z"
   },
   {
    "duration": 5,
    "start_time": "2022-01-01T20:36:18.003Z"
   },
   {
    "duration": 526,
    "start_time": "2022-01-01T20:37:39.159Z"
   },
   {
    "duration": 193,
    "start_time": "2022-01-01T20:37:44.375Z"
   },
   {
    "duration": 16,
    "start_time": "2022-01-01T20:38:30.200Z"
   },
   {
    "duration": 16,
    "start_time": "2022-01-01T20:39:16.499Z"
   },
   {
    "duration": 59,
    "start_time": "2022-01-01T20:39:46.146Z"
   },
   {
    "duration": 36,
    "start_time": "2022-01-01T20:39:52.376Z"
   },
   {
    "duration": 18,
    "start_time": "2022-01-01T20:45:28.682Z"
   },
   {
    "duration": 14,
    "start_time": "2022-01-01T20:49:20.606Z"
   },
   {
    "duration": 186,
    "start_time": "2022-01-01T20:50:01.235Z"
   },
   {
    "duration": 15,
    "start_time": "2022-01-01T20:50:15.165Z"
   },
   {
    "duration": 15,
    "start_time": "2022-01-01T20:51:12.586Z"
   },
   {
    "duration": 25,
    "start_time": "2022-01-01T20:52:34.411Z"
   },
   {
    "duration": 23,
    "start_time": "2022-01-01T20:52:44.115Z"
   },
   {
    "duration": 21,
    "start_time": "2022-01-01T20:53:09.454Z"
   },
   {
    "duration": 23,
    "start_time": "2022-01-01T20:53:29.705Z"
   },
   {
    "duration": 14,
    "start_time": "2022-01-01T20:54:57.328Z"
   },
   {
    "duration": 15,
    "start_time": "2022-01-01T20:55:05.150Z"
   },
   {
    "duration": 14,
    "start_time": "2022-01-01T20:55:30.667Z"
   },
   {
    "duration": 17,
    "start_time": "2022-01-01T20:57:19.744Z"
   },
   {
    "duration": 23,
    "start_time": "2022-01-01T20:58:36.241Z"
   },
   {
    "duration": 25,
    "start_time": "2022-01-01T20:59:08.955Z"
   },
   {
    "duration": 15,
    "start_time": "2022-01-01T21:04:38.011Z"
   },
   {
    "duration": 20,
    "start_time": "2022-01-01T21:05:04.073Z"
   },
   {
    "duration": 5,
    "start_time": "2022-01-01T21:06:19.123Z"
   },
   {
    "duration": 4,
    "start_time": "2022-01-01T21:09:45.880Z"
   },
   {
    "duration": 15,
    "start_time": "2022-01-01T21:12:18.458Z"
   },
   {
    "duration": 541,
    "start_time": "2022-01-01T21:12:28.974Z"
   },
   {
    "duration": 22,
    "start_time": "2022-01-01T21:13:21.445Z"
   },
   {
    "duration": 100,
    "start_time": "2022-01-01T21:18:19.750Z"
   },
   {
    "duration": 59,
    "start_time": "2022-01-01T21:18:19.851Z"
   },
   {
    "duration": 6,
    "start_time": "2022-01-01T21:18:19.912Z"
   },
   {
    "duration": 4,
    "start_time": "2022-01-01T21:18:19.920Z"
   },
   {
    "duration": 7,
    "start_time": "2022-01-01T21:18:19.925Z"
   },
   {
    "duration": 8,
    "start_time": "2022-01-01T21:18:19.933Z"
   },
   {
    "duration": 13,
    "start_time": "2022-01-01T21:18:19.943Z"
   },
   {
    "duration": 3,
    "start_time": "2022-01-01T21:18:19.992Z"
   },
   {
    "duration": 1248,
    "start_time": "2022-01-01T21:18:19.998Z"
   },
   {
    "duration": 6,
    "start_time": "2022-01-01T21:18:21.248Z"
   },
   {
    "duration": 6,
    "start_time": "2022-01-01T21:18:21.255Z"
   },
   {
    "duration": 5,
    "start_time": "2022-01-01T21:18:21.263Z"
   },
   {
    "duration": 29,
    "start_time": "2022-01-01T21:18:21.270Z"
   },
   {
    "duration": 10,
    "start_time": "2022-01-01T21:18:21.301Z"
   },
   {
    "duration": 5,
    "start_time": "2022-01-01T21:18:21.313Z"
   },
   {
    "duration": 7,
    "start_time": "2022-01-01T21:18:21.320Z"
   },
   {
    "duration": 13,
    "start_time": "2022-01-01T21:18:21.329Z"
   },
   {
    "duration": 4,
    "start_time": "2022-01-01T21:18:21.343Z"
   },
   {
    "duration": 1176,
    "start_time": "2022-01-01T21:18:21.348Z"
   },
   {
    "duration": 467,
    "start_time": "2022-01-01T21:18:22.526Z"
   },
   {
    "duration": 28,
    "start_time": "2022-01-01T21:18:22.994Z"
   },
   {
    "duration": 20,
    "start_time": "2022-01-01T21:18:23.024Z"
   },
   {
    "duration": 969,
    "start_time": "2022-01-01T21:18:23.046Z"
   },
   {
    "duration": 990,
    "start_time": "2022-01-01T21:18:24.017Z"
   },
   {
    "duration": 921,
    "start_time": "2022-01-01T21:18:25.008Z"
   },
   {
    "duration": 547,
    "start_time": "2022-01-01T21:18:25.931Z"
   },
   {
    "duration": 278,
    "start_time": "2022-01-01T21:18:26.492Z"
   },
   {
    "duration": 144,
    "start_time": "2022-01-01T21:18:26.772Z"
   },
   {
    "duration": 188,
    "start_time": "2022-01-01T21:18:26.917Z"
   },
   {
    "duration": 20,
    "start_time": "2022-01-01T21:18:27.106Z"
   },
   {
    "duration": 666,
    "start_time": "2022-01-01T21:18:27.127Z"
   },
   {
    "duration": 6,
    "start_time": "2022-01-01T21:18:27.795Z"
   },
   {
    "duration": 13,
    "start_time": "2022-01-01T21:18:27.803Z"
   },
   {
    "duration": 13,
    "start_time": "2022-01-01T21:18:27.818Z"
   },
   {
    "duration": 4,
    "start_time": "2022-01-01T21:18:27.832Z"
   },
   {
    "duration": 15,
    "start_time": "2022-01-01T21:18:27.837Z"
   },
   {
    "duration": 58,
    "start_time": "2022-01-01T21:18:27.853Z"
   },
   {
    "duration": 5,
    "start_time": "2022-01-01T21:19:43.228Z"
   },
   {
    "duration": 15,
    "start_time": "2022-01-01T21:20:54.021Z"
   },
   {
    "duration": 4,
    "start_time": "2022-01-01T21:20:55.000Z"
   },
   {
    "duration": 15,
    "start_time": "2022-01-01T21:29:20.597Z"
   },
   {
    "duration": 263,
    "start_time": "2022-01-02T10:33:56.105Z"
   },
   {
    "duration": 699,
    "start_time": "2022-01-02T10:34:02.628Z"
   },
   {
    "duration": 41,
    "start_time": "2022-01-02T10:34:03.328Z"
   },
   {
    "duration": 7,
    "start_time": "2022-01-02T10:34:03.371Z"
   },
   {
    "duration": 17,
    "start_time": "2022-01-02T10:34:03.379Z"
   },
   {
    "duration": 12,
    "start_time": "2022-01-02T10:34:03.398Z"
   },
   {
    "duration": 21,
    "start_time": "2022-01-02T10:34:03.412Z"
   },
   {
    "duration": 13,
    "start_time": "2022-01-02T10:34:03.435Z"
   },
   {
    "duration": 11,
    "start_time": "2022-01-02T10:34:03.450Z"
   },
   {
    "duration": 1181,
    "start_time": "2022-01-02T10:34:03.463Z"
   },
   {
    "duration": 5,
    "start_time": "2022-01-02T10:34:04.645Z"
   },
   {
    "duration": 15,
    "start_time": "2022-01-02T10:34:04.652Z"
   },
   {
    "duration": 10,
    "start_time": "2022-01-02T10:34:04.668Z"
   },
   {
    "duration": 19,
    "start_time": "2022-01-02T10:34:04.679Z"
   },
   {
    "duration": 10,
    "start_time": "2022-01-02T10:34:04.700Z"
   },
   {
    "duration": 8,
    "start_time": "2022-01-02T10:34:04.712Z"
   },
   {
    "duration": 12,
    "start_time": "2022-01-02T10:34:04.721Z"
   },
   {
    "duration": 17,
    "start_time": "2022-01-02T10:34:04.735Z"
   },
   {
    "duration": 7,
    "start_time": "2022-01-02T10:34:04.754Z"
   },
   {
    "duration": 1175,
    "start_time": "2022-01-02T10:34:04.763Z"
   },
   {
    "duration": 426,
    "start_time": "2022-01-02T10:34:05.941Z"
   },
   {
    "duration": 25,
    "start_time": "2022-01-02T10:34:06.369Z"
   },
   {
    "duration": 17,
    "start_time": "2022-01-02T10:34:06.396Z"
   },
   {
    "duration": 971,
    "start_time": "2022-01-02T10:34:06.416Z"
   },
   {
    "duration": 833,
    "start_time": "2022-01-02T10:34:07.389Z"
   },
   {
    "duration": 829,
    "start_time": "2022-01-02T10:34:08.223Z"
   },
   {
    "duration": 478,
    "start_time": "2022-01-02T10:34:09.053Z"
   },
   {
    "duration": 233,
    "start_time": "2022-01-02T10:34:09.533Z"
   },
   {
    "duration": 121,
    "start_time": "2022-01-02T10:34:09.768Z"
   },
   {
    "duration": 155,
    "start_time": "2022-01-02T10:34:09.890Z"
   },
   {
    "duration": 17,
    "start_time": "2022-01-02T10:34:10.046Z"
   },
   {
    "duration": 562,
    "start_time": "2022-01-02T10:34:10.064Z"
   },
   {
    "duration": 15,
    "start_time": "2022-01-02T10:34:10.628Z"
   },
   {
    "duration": 13,
    "start_time": "2022-01-02T10:34:10.645Z"
   },
   {
    "duration": 12,
    "start_time": "2022-01-02T10:34:10.660Z"
   },
   {
    "duration": 5,
    "start_time": "2022-01-02T10:34:10.673Z"
   },
   {
    "duration": 12,
    "start_time": "2022-01-02T10:34:10.679Z"
   },
   {
    "duration": 4,
    "start_time": "2022-01-02T10:34:10.693Z"
   },
   {
    "duration": 111,
    "start_time": "2022-01-02T10:34:10.698Z"
   },
   {
    "duration": 21,
    "start_time": "2022-01-02T10:53:14.934Z"
   },
   {
    "duration": 277,
    "start_time": "2022-01-02T10:54:41.806Z"
   },
   {
    "duration": 226,
    "start_time": "2022-01-02T10:54:48.607Z"
   },
   {
    "duration": 4,
    "start_time": "2022-01-02T10:55:57.979Z"
   },
   {
    "duration": 20,
    "start_time": "2022-01-02T10:56:25.113Z"
   },
   {
    "duration": 288,
    "start_time": "2022-01-02T10:56:38.993Z"
   },
   {
    "duration": 7,
    "start_time": "2022-01-02T10:57:00.097Z"
   },
   {
    "duration": 8,
    "start_time": "2022-01-02T10:57:24.715Z"
   },
   {
    "duration": 8,
    "start_time": "2022-01-02T10:57:34.803Z"
   },
   {
    "duration": 20,
    "start_time": "2022-01-02T11:10:09.977Z"
   },
   {
    "duration": 284,
    "start_time": "2022-01-02T11:10:32.239Z"
   },
   {
    "duration": 267,
    "start_time": "2022-01-02T11:10:54.372Z"
   },
   {
    "duration": 254,
    "start_time": "2022-01-02T11:11:25.004Z"
   },
   {
    "duration": 262,
    "start_time": "2022-01-02T11:11:37.096Z"
   },
   {
    "duration": 253,
    "start_time": "2022-01-02T11:11:47.490Z"
   },
   {
    "duration": 21,
    "start_time": "2022-01-02T11:12:01.021Z"
   },
   {
    "duration": 5,
    "start_time": "2022-01-02T11:16:58.256Z"
   },
   {
    "duration": 7,
    "start_time": "2022-01-02T11:17:08.865Z"
   },
   {
    "duration": 260,
    "start_time": "2022-01-02T11:17:45.390Z"
   },
   {
    "duration": 16,
    "start_time": "2022-01-02T11:19:54.767Z"
   },
   {
    "duration": 20,
    "start_time": "2022-01-02T11:19:59.190Z"
   },
   {
    "duration": 246,
    "start_time": "2022-01-02T11:21:16.178Z"
   },
   {
    "duration": 245,
    "start_time": "2022-01-02T11:22:29.809Z"
   },
   {
    "duration": 21,
    "start_time": "2022-01-02T11:23:18.092Z"
   },
   {
    "duration": 20,
    "start_time": "2022-01-02T11:23:34.256Z"
   },
   {
    "duration": 22,
    "start_time": "2022-01-02T11:25:13.706Z"
   },
   {
    "duration": 22,
    "start_time": "2022-01-02T11:25:21.025Z"
   },
   {
    "duration": 261,
    "start_time": "2022-01-02T12:04:42.706Z"
   },
   {
    "duration": 35,
    "start_time": "2022-01-02T12:04:54.184Z"
   },
   {
    "duration": 260,
    "start_time": "2022-01-02T12:07:35.618Z"
   },
   {
    "duration": 437,
    "start_time": "2022-01-02T12:12:08.149Z"
   },
   {
    "duration": 252,
    "start_time": "2022-01-02T12:15:27.423Z"
   },
   {
    "duration": 276,
    "start_time": "2022-01-02T12:16:31.672Z"
   },
   {
    "duration": 261,
    "start_time": "2022-01-02T12:17:05.467Z"
   },
   {
    "duration": 43,
    "start_time": "2022-01-02T12:17:20.544Z"
   },
   {
    "duration": 17,
    "start_time": "2022-01-02T12:21:22.464Z"
   },
   {
    "duration": 17,
    "start_time": "2022-01-02T12:21:34.269Z"
   },
   {
    "duration": 250,
    "start_time": "2022-01-02T12:22:26.607Z"
   },
   {
    "duration": 276,
    "start_time": "2022-01-02T12:22:31.704Z"
   },
   {
    "duration": 256,
    "start_time": "2022-01-02T12:22:39.097Z"
   },
   {
    "duration": 23,
    "start_time": "2022-01-02T12:22:47.581Z"
   },
   {
    "duration": 18,
    "start_time": "2022-01-02T12:23:04.492Z"
   },
   {
    "duration": 14,
    "start_time": "2022-01-02T12:23:16.234Z"
   },
   {
    "duration": 21,
    "start_time": "2022-01-02T12:23:26.924Z"
   },
   {
    "duration": 22,
    "start_time": "2022-01-02T12:24:22.471Z"
   },
   {
    "duration": 32,
    "start_time": "2022-01-02T12:24:29.717Z"
   },
   {
    "duration": 23,
    "start_time": "2022-01-02T12:34:57.140Z"
   },
   {
    "duration": 6108,
    "start_time": "2022-01-02T12:39:15.803Z"
   },
   {
    "duration": 77,
    "start_time": "2022-01-02T12:39:55.860Z"
   },
   {
    "duration": 5827,
    "start_time": "2022-01-02T12:40:00.272Z"
   },
   {
    "duration": 38,
    "start_time": "2022-01-02T12:42:02.424Z"
   },
   {
    "duration": 274,
    "start_time": "2022-01-02T12:44:08.394Z"
   },
   {
    "duration": 262,
    "start_time": "2022-01-02T12:44:33.225Z"
   },
   {
    "duration": 32,
    "start_time": "2022-01-02T12:45:29.995Z"
   },
   {
    "duration": 380,
    "start_time": "2022-01-02T12:45:54.564Z"
   },
   {
    "duration": 265,
    "start_time": "2022-01-02T12:46:28.280Z"
   },
   {
    "duration": 527,
    "start_time": "2022-01-02T12:47:40.953Z"
   },
   {
    "duration": 6561,
    "start_time": "2022-01-02T13:02:02.076Z"
   },
   {
    "duration": 5970,
    "start_time": "2022-01-02T13:08:04.820Z"
   },
   {
    "duration": 242,
    "start_time": "2022-01-02T13:08:15.109Z"
   },
   {
    "duration": 6090,
    "start_time": "2022-01-02T13:08:21.630Z"
   },
   {
    "duration": 22,
    "start_time": "2022-01-02T13:16:10.615Z"
   },
   {
    "duration": 90,
    "start_time": "2022-01-02T13:16:34.996Z"
   },
   {
    "duration": 62,
    "start_time": "2022-01-02T13:16:35.088Z"
   },
   {
    "duration": 6,
    "start_time": "2022-01-02T13:16:35.152Z"
   },
   {
    "duration": 14,
    "start_time": "2022-01-02T13:16:35.159Z"
   },
   {
    "duration": 10,
    "start_time": "2022-01-02T13:16:35.175Z"
   },
   {
    "duration": 14,
    "start_time": "2022-01-02T13:16:35.186Z"
   },
   {
    "duration": 18,
    "start_time": "2022-01-02T13:16:35.202Z"
   },
   {
    "duration": 20,
    "start_time": "2022-01-02T13:16:35.221Z"
   },
   {
    "duration": 1292,
    "start_time": "2022-01-02T13:16:35.244Z"
   },
   {
    "duration": 6,
    "start_time": "2022-01-02T13:16:36.538Z"
   },
   {
    "duration": 9,
    "start_time": "2022-01-02T13:16:36.546Z"
   },
   {
    "duration": 5,
    "start_time": "2022-01-02T13:16:36.557Z"
   },
   {
    "duration": 11,
    "start_time": "2022-01-02T13:16:36.564Z"
   },
   {
    "duration": 10,
    "start_time": "2022-01-02T13:16:36.577Z"
   },
   {
    "duration": 6,
    "start_time": "2022-01-02T13:16:36.589Z"
   },
   {
    "duration": 47,
    "start_time": "2022-01-02T13:16:36.596Z"
   },
   {
    "duration": 13,
    "start_time": "2022-01-02T13:16:36.645Z"
   },
   {
    "duration": 4,
    "start_time": "2022-01-02T13:16:36.661Z"
   },
   {
    "duration": 1117,
    "start_time": "2022-01-02T13:16:36.666Z"
   },
   {
    "duration": 473,
    "start_time": "2022-01-02T13:16:37.785Z"
   },
   {
    "duration": 26,
    "start_time": "2022-01-02T13:16:38.260Z"
   },
   {
    "duration": 18,
    "start_time": "2022-01-02T13:16:38.287Z"
   },
   {
    "duration": 872,
    "start_time": "2022-01-02T13:16:38.306Z"
   },
   {
    "duration": 886,
    "start_time": "2022-01-02T13:16:39.180Z"
   },
   {
    "duration": 864,
    "start_time": "2022-01-02T13:16:40.068Z"
   },
   {
    "duration": 508,
    "start_time": "2022-01-02T13:16:40.934Z"
   },
   {
    "duration": 256,
    "start_time": "2022-01-02T13:16:41.446Z"
   },
   {
    "duration": 126,
    "start_time": "2022-01-02T13:16:41.704Z"
   },
   {
    "duration": 174,
    "start_time": "2022-01-02T13:16:41.832Z"
   },
   {
    "duration": 18,
    "start_time": "2022-01-02T13:16:42.008Z"
   },
   {
    "duration": 662,
    "start_time": "2022-01-02T13:16:42.027Z"
   },
   {
    "duration": 7,
    "start_time": "2022-01-02T13:16:42.691Z"
   },
   {
    "duration": 30,
    "start_time": "2022-01-02T13:16:42.699Z"
   },
   {
    "duration": 36,
    "start_time": "2022-01-02T13:16:42.731Z"
   },
   {
    "duration": 16,
    "start_time": "2022-01-02T13:16:42.769Z"
   },
   {
    "duration": 45,
    "start_time": "2022-01-02T13:16:42.787Z"
   },
   {
    "duration": 15,
    "start_time": "2022-01-02T13:16:42.834Z"
   },
   {
    "duration": 19,
    "start_time": "2022-01-02T13:16:42.851Z"
   },
   {
    "duration": 22,
    "start_time": "2022-01-02T13:16:42.871Z"
   },
   {
    "duration": 24,
    "start_time": "2022-01-02T13:16:42.895Z"
   },
   {
    "duration": 20,
    "start_time": "2022-01-02T13:17:20.383Z"
   },
   {
    "duration": 309,
    "start_time": "2022-01-02T13:17:57.757Z"
   },
   {
    "duration": 261,
    "start_time": "2022-01-02T13:18:24.406Z"
   },
   {
    "duration": 258,
    "start_time": "2022-01-02T13:19:35.877Z"
   },
   {
    "duration": 81,
    "start_time": "2022-01-02T13:19:55.212Z"
   },
   {
    "duration": 967,
    "start_time": "2022-01-02T13:20:04.884Z"
   },
   {
    "duration": 101,
    "start_time": "2022-01-02T13:20:13.644Z"
   },
   {
    "duration": 35,
    "start_time": "2022-01-02T13:20:13.747Z"
   },
   {
    "duration": 6,
    "start_time": "2022-01-02T13:20:13.784Z"
   },
   {
    "duration": 5,
    "start_time": "2022-01-02T13:20:13.792Z"
   },
   {
    "duration": 6,
    "start_time": "2022-01-02T13:20:13.841Z"
   },
   {
    "duration": 11,
    "start_time": "2022-01-02T13:20:13.849Z"
   },
   {
    "duration": 14,
    "start_time": "2022-01-02T13:20:13.862Z"
   },
   {
    "duration": 4,
    "start_time": "2022-01-02T13:20:13.879Z"
   },
   {
    "duration": 1168,
    "start_time": "2022-01-02T13:20:13.885Z"
   },
   {
    "duration": 5,
    "start_time": "2022-01-02T13:20:15.054Z"
   },
   {
    "duration": 7,
    "start_time": "2022-01-02T13:20:15.061Z"
   },
   {
    "duration": 12,
    "start_time": "2022-01-02T13:20:15.069Z"
   },
   {
    "duration": 14,
    "start_time": "2022-01-02T13:20:15.083Z"
   },
   {
    "duration": 10,
    "start_time": "2022-01-02T13:20:15.099Z"
   },
   {
    "duration": 33,
    "start_time": "2022-01-02T13:20:15.111Z"
   },
   {
    "duration": 10,
    "start_time": "2022-01-02T13:20:15.145Z"
   },
   {
    "duration": 13,
    "start_time": "2022-01-02T13:20:15.156Z"
   },
   {
    "duration": 7,
    "start_time": "2022-01-02T13:20:15.171Z"
   },
   {
    "duration": 1162,
    "start_time": "2022-01-02T13:20:15.180Z"
   },
   {
    "duration": 491,
    "start_time": "2022-01-02T13:20:16.344Z"
   },
   {
    "duration": 27,
    "start_time": "2022-01-02T13:20:16.837Z"
   },
   {
    "duration": 17,
    "start_time": "2022-01-02T13:20:16.865Z"
   },
   {
    "duration": 859,
    "start_time": "2022-01-02T13:20:16.885Z"
   },
   {
    "duration": 935,
    "start_time": "2022-01-02T13:20:17.746Z"
   },
   {
    "duration": 898,
    "start_time": "2022-01-02T13:20:18.683Z"
   },
   {
    "duration": 506,
    "start_time": "2022-01-02T13:20:19.584Z"
   },
   {
    "duration": 253,
    "start_time": "2022-01-02T13:20:20.092Z"
   },
   {
    "duration": 212,
    "start_time": "2022-01-02T13:20:20.347Z"
   },
   {
    "duration": 172,
    "start_time": "2022-01-02T13:20:20.561Z"
   },
   {
    "duration": 19,
    "start_time": "2022-01-02T13:20:20.735Z"
   },
   {
    "duration": 601,
    "start_time": "2022-01-02T13:20:20.755Z"
   },
   {
    "duration": 5,
    "start_time": "2022-01-02T13:20:21.358Z"
   },
   {
    "duration": 18,
    "start_time": "2022-01-02T13:20:21.365Z"
   },
   {
    "duration": 33,
    "start_time": "2022-01-02T13:20:21.384Z"
   },
   {
    "duration": 3,
    "start_time": "2022-01-02T13:20:21.419Z"
   },
   {
    "duration": 24,
    "start_time": "2022-01-02T13:20:21.424Z"
   },
   {
    "duration": 5,
    "start_time": "2022-01-02T13:20:21.449Z"
   },
   {
    "duration": 17,
    "start_time": "2022-01-02T13:20:21.455Z"
   },
   {
    "duration": 19,
    "start_time": "2022-01-02T13:20:21.473Z"
   },
   {
    "duration": 961,
    "start_time": "2022-01-02T13:20:21.493Z"
   },
   {
    "duration": 905,
    "start_time": "2022-01-02T13:21:43.990Z"
   },
   {
    "duration": 30,
    "start_time": "2022-01-02T13:22:11.561Z"
   },
   {
    "duration": 949,
    "start_time": "2022-01-02T13:22:59.544Z"
   },
   {
    "duration": 291,
    "start_time": "2022-01-02T13:24:14.946Z"
   },
   {
    "duration": 187,
    "start_time": "2022-01-02T13:24:31.549Z"
   },
   {
    "duration": 254,
    "start_time": "2022-01-02T13:27:59.036Z"
   },
   {
    "duration": 177,
    "start_time": "2022-01-02T13:28:18.955Z"
   },
   {
    "duration": 176,
    "start_time": "2022-01-02T13:29:06.586Z"
   },
   {
    "duration": 203,
    "start_time": "2022-01-02T13:29:52.710Z"
   },
   {
    "duration": 211,
    "start_time": "2022-01-02T13:30:24.530Z"
   },
   {
    "duration": 216,
    "start_time": "2022-01-02T13:32:02.307Z"
   },
   {
    "duration": 210,
    "start_time": "2022-01-02T13:32:09.932Z"
   },
   {
    "duration": 511,
    "start_time": "2022-01-02T13:32:15.473Z"
   },
   {
    "duration": 235,
    "start_time": "2022-01-02T13:32:23.641Z"
   },
   {
    "duration": 221,
    "start_time": "2022-01-02T13:34:30.553Z"
   },
   {
    "duration": 323,
    "start_time": "2022-01-02T13:34:36.854Z"
   },
   {
    "duration": 223,
    "start_time": "2022-01-02T13:34:59.443Z"
   },
   {
    "duration": 205,
    "start_time": "2022-01-02T13:35:06.658Z"
   },
   {
    "duration": 205,
    "start_time": "2022-01-02T13:35:16.407Z"
   },
   {
    "duration": 209,
    "start_time": "2022-01-02T13:37:28.415Z"
   },
   {
    "duration": 196,
    "start_time": "2022-01-02T13:38:08.959Z"
   },
   {
    "duration": 208,
    "start_time": "2022-01-02T13:38:49.141Z"
   },
   {
    "duration": 192,
    "start_time": "2022-01-02T13:43:43.636Z"
   },
   {
    "duration": 205,
    "start_time": "2022-01-02T14:05:20.607Z"
   },
   {
    "duration": 89,
    "start_time": "2022-01-02T14:05:41.249Z"
   },
   {
    "duration": 34,
    "start_time": "2022-01-02T14:05:41.341Z"
   },
   {
    "duration": 7,
    "start_time": "2022-01-02T14:05:41.376Z"
   },
   {
    "duration": 9,
    "start_time": "2022-01-02T14:05:41.384Z"
   },
   {
    "duration": 47,
    "start_time": "2022-01-02T14:05:41.394Z"
   },
   {
    "duration": 9,
    "start_time": "2022-01-02T14:05:41.442Z"
   },
   {
    "duration": 22,
    "start_time": "2022-01-02T14:05:41.452Z"
   },
   {
    "duration": 3,
    "start_time": "2022-01-02T14:05:41.476Z"
   },
   {
    "duration": 1240,
    "start_time": "2022-01-02T14:05:41.481Z"
   },
   {
    "duration": 6,
    "start_time": "2022-01-02T14:05:42.722Z"
   },
   {
    "duration": 3,
    "start_time": "2022-01-02T14:05:42.741Z"
   },
   {
    "duration": 11,
    "start_time": "2022-01-02T14:05:42.746Z"
   },
   {
    "duration": 10,
    "start_time": "2022-01-02T14:05:42.758Z"
   },
   {
    "duration": 8,
    "start_time": "2022-01-02T14:05:42.770Z"
   },
   {
    "duration": 4,
    "start_time": "2022-01-02T14:05:42.780Z"
   },
   {
    "duration": 7,
    "start_time": "2022-01-02T14:05:42.786Z"
   },
   {
    "duration": 13,
    "start_time": "2022-01-02T14:05:42.794Z"
   },
   {
    "duration": 34,
    "start_time": "2022-01-02T14:05:42.808Z"
   },
   {
    "duration": 1041,
    "start_time": "2022-01-02T14:05:42.844Z"
   },
   {
    "duration": 502,
    "start_time": "2022-01-02T14:05:43.887Z"
   },
   {
    "duration": 25,
    "start_time": "2022-01-02T14:05:44.391Z"
   },
   {
    "duration": 37,
    "start_time": "2022-01-02T14:05:44.418Z"
   },
   {
    "duration": 858,
    "start_time": "2022-01-02T14:05:44.458Z"
   },
   {
    "duration": 893,
    "start_time": "2022-01-02T14:05:45.319Z"
   },
   {
    "duration": 913,
    "start_time": "2022-01-02T14:05:46.214Z"
   },
   {
    "duration": 637,
    "start_time": "2022-01-02T14:05:47.128Z"
   },
   {
    "duration": 241,
    "start_time": "2022-01-02T14:05:47.767Z"
   },
   {
    "duration": 124,
    "start_time": "2022-01-02T14:05:48.009Z"
   },
   {
    "duration": 163,
    "start_time": "2022-01-02T14:05:48.134Z"
   },
   {
    "duration": 18,
    "start_time": "2022-01-02T14:05:48.298Z"
   },
   {
    "duration": 674,
    "start_time": "2022-01-02T14:05:48.317Z"
   },
   {
    "duration": 5,
    "start_time": "2022-01-02T14:05:48.993Z"
   },
   {
    "duration": 12,
    "start_time": "2022-01-02T14:05:49.000Z"
   },
   {
    "duration": 36,
    "start_time": "2022-01-02T14:05:49.013Z"
   },
   {
    "duration": 5,
    "start_time": "2022-01-02T14:05:49.051Z"
   },
   {
    "duration": 12,
    "start_time": "2022-01-02T14:05:49.057Z"
   },
   {
    "duration": 4,
    "start_time": "2022-01-02T14:05:49.071Z"
   },
   {
    "duration": 12,
    "start_time": "2022-01-02T14:05:49.076Z"
   },
   {
    "duration": 54,
    "start_time": "2022-01-02T14:05:49.090Z"
   },
   {
    "duration": 182,
    "start_time": "2022-01-02T14:05:49.146Z"
   },
   {
    "duration": 155,
    "start_time": "2022-01-02T14:05:49.330Z"
   },
   {
    "duration": 148,
    "start_time": "2022-01-02T14:07:16.989Z"
   },
   {
    "duration": 166,
    "start_time": "2022-01-02T14:07:36.695Z"
   },
   {
    "duration": 131,
    "start_time": "2022-01-02T14:08:14.211Z"
   },
   {
    "duration": 131,
    "start_time": "2022-01-02T14:10:14.836Z"
   },
   {
    "duration": 147,
    "start_time": "2022-01-02T14:35:00.644Z"
   },
   {
    "duration": 141,
    "start_time": "2022-01-02T14:35:51.683Z"
   },
   {
    "duration": 90,
    "start_time": "2022-01-02T14:37:43.140Z"
   },
   {
    "duration": 90,
    "start_time": "2022-01-02T14:37:49.230Z"
   },
   {
    "duration": 52,
    "start_time": "2022-01-02T14:37:49.322Z"
   },
   {
    "duration": 6,
    "start_time": "2022-01-02T14:37:49.377Z"
   },
   {
    "duration": 5,
    "start_time": "2022-01-02T14:37:49.385Z"
   },
   {
    "duration": 50,
    "start_time": "2022-01-02T14:37:49.391Z"
   },
   {
    "duration": 9,
    "start_time": "2022-01-02T14:37:49.443Z"
   },
   {
    "duration": 13,
    "start_time": "2022-01-02T14:37:49.453Z"
   },
   {
    "duration": 3,
    "start_time": "2022-01-02T14:37:49.468Z"
   },
   {
    "duration": 1177,
    "start_time": "2022-01-02T14:37:49.473Z"
   },
   {
    "duration": 5,
    "start_time": "2022-01-02T14:37:50.652Z"
   },
   {
    "duration": 6,
    "start_time": "2022-01-02T14:37:50.659Z"
   },
   {
    "duration": 5,
    "start_time": "2022-01-02T14:37:50.667Z"
   },
   {
    "duration": 10,
    "start_time": "2022-01-02T14:37:50.674Z"
   },
   {
    "duration": 8,
    "start_time": "2022-01-02T14:37:50.686Z"
   },
   {
    "duration": 4,
    "start_time": "2022-01-02T14:37:50.696Z"
   },
   {
    "duration": 43,
    "start_time": "2022-01-02T14:37:50.702Z"
   },
   {
    "duration": 11,
    "start_time": "2022-01-02T14:37:50.747Z"
   },
   {
    "duration": 3,
    "start_time": "2022-01-02T14:37:50.759Z"
   },
   {
    "duration": 1126,
    "start_time": "2022-01-02T14:37:50.764Z"
   },
   {
    "duration": 430,
    "start_time": "2022-01-02T14:37:51.892Z"
   },
   {
    "duration": 31,
    "start_time": "2022-01-02T14:37:52.323Z"
   },
   {
    "duration": 19,
    "start_time": "2022-01-02T14:37:52.356Z"
   },
   {
    "duration": 916,
    "start_time": "2022-01-02T14:37:52.378Z"
   },
   {
    "duration": 879,
    "start_time": "2022-01-02T14:37:53.296Z"
   },
   {
    "duration": 923,
    "start_time": "2022-01-02T14:37:54.177Z"
   },
   {
    "duration": 506,
    "start_time": "2022-01-02T14:37:55.102Z"
   },
   {
    "duration": 257,
    "start_time": "2022-01-02T14:37:55.610Z"
   },
   {
    "duration": 126,
    "start_time": "2022-01-02T14:37:55.868Z"
   },
   {
    "duration": 168,
    "start_time": "2022-01-02T14:37:55.995Z"
   },
   {
    "duration": 19,
    "start_time": "2022-01-02T14:37:56.165Z"
   },
   {
    "duration": 695,
    "start_time": "2022-01-02T14:37:56.185Z"
   },
   {
    "duration": 6,
    "start_time": "2022-01-02T14:37:56.881Z"
   },
   {
    "duration": 25,
    "start_time": "2022-01-02T14:37:56.888Z"
   },
   {
    "duration": 13,
    "start_time": "2022-01-02T14:37:56.914Z"
   },
   {
    "duration": 4,
    "start_time": "2022-01-02T14:37:56.941Z"
   },
   {
    "duration": 13,
    "start_time": "2022-01-02T14:37:56.946Z"
   },
   {
    "duration": 3,
    "start_time": "2022-01-02T14:37:56.961Z"
   },
   {
    "duration": 13,
    "start_time": "2022-01-02T14:37:56.966Z"
   },
   {
    "duration": 18,
    "start_time": "2022-01-02T14:37:56.981Z"
   },
   {
    "duration": 181,
    "start_time": "2022-01-02T14:37:57.041Z"
   },
   {
    "duration": 160,
    "start_time": "2022-01-02T14:37:57.224Z"
   },
   {
    "duration": 145,
    "start_time": "2022-01-02T14:38:24.780Z"
   },
   {
    "duration": 154,
    "start_time": "2022-01-02T14:39:00.960Z"
   },
   {
    "duration": 142,
    "start_time": "2022-01-02T14:39:25.824Z"
   },
   {
    "duration": 431,
    "start_time": "2022-01-02T14:39:43.983Z"
   },
   {
    "duration": 144,
    "start_time": "2022-01-02T14:39:50.209Z"
   },
   {
    "duration": 215,
    "start_time": "2022-01-02T14:41:42.513Z"
   },
   {
    "duration": 532,
    "start_time": "2022-01-02T14:42:18.918Z"
   },
   {
    "duration": 215,
    "start_time": "2022-01-02T14:42:59.149Z"
   },
   {
    "duration": 244,
    "start_time": "2022-01-02T14:44:29.072Z"
   },
   {
    "duration": 211,
    "start_time": "2022-01-02T14:53:12.257Z"
   },
   {
    "duration": 8,
    "start_time": "2022-01-02T15:11:53.764Z"
   },
   {
    "duration": 11,
    "start_time": "2022-01-02T15:13:13.918Z"
   },
   {
    "duration": 10,
    "start_time": "2022-01-02T15:13:34.110Z"
   },
   {
    "duration": 15,
    "start_time": "2022-01-02T15:19:43.786Z"
   },
   {
    "duration": 10,
    "start_time": "2022-01-02T15:22:59.437Z"
   },
   {
    "duration": 13,
    "start_time": "2022-01-02T15:23:07.444Z"
   },
   {
    "duration": 6,
    "start_time": "2022-01-02T15:29:44.352Z"
   },
   {
    "duration": 6,
    "start_time": "2022-01-02T15:30:31.939Z"
   },
   {
    "duration": 13,
    "start_time": "2022-01-02T15:31:01.888Z"
   },
   {
    "duration": 79,
    "start_time": "2022-01-02T15:37:04.287Z"
   },
   {
    "duration": 259,
    "start_time": "2022-01-02T15:51:45.338Z"
   },
   {
    "duration": 165,
    "start_time": "2022-01-02T15:51:56.757Z"
   },
   {
    "duration": 101,
    "start_time": "2022-01-02T16:19:15.674Z"
   },
   {
    "duration": 22,
    "start_time": "2022-01-02T16:24:25.202Z"
   },
   {
    "duration": 88,
    "start_time": "2022-01-02T16:26:18.349Z"
   },
   {
    "duration": 37,
    "start_time": "2022-01-02T16:26:18.441Z"
   },
   {
    "duration": 8,
    "start_time": "2022-01-02T16:26:18.480Z"
   },
   {
    "duration": 24,
    "start_time": "2022-01-02T16:26:18.489Z"
   },
   {
    "duration": 33,
    "start_time": "2022-01-02T16:26:18.515Z"
   },
   {
    "duration": 16,
    "start_time": "2022-01-02T16:26:18.550Z"
   },
   {
    "duration": 1151,
    "start_time": "2022-01-02T16:26:18.568Z"
   },
   {
    "duration": 5,
    "start_time": "2022-01-02T16:26:19.722Z"
   },
   {
    "duration": 16,
    "start_time": "2022-01-02T16:26:19.728Z"
   },
   {
    "duration": 22,
    "start_time": "2022-01-02T16:26:19.745Z"
   },
   {
    "duration": 26,
    "start_time": "2022-01-02T16:26:19.768Z"
   },
   {
    "duration": 33,
    "start_time": "2022-01-02T16:26:19.796Z"
   },
   {
    "duration": 10,
    "start_time": "2022-01-02T16:26:19.830Z"
   },
   {
    "duration": 15,
    "start_time": "2022-01-02T16:26:19.842Z"
   },
   {
    "duration": 30,
    "start_time": "2022-01-02T16:26:19.858Z"
   },
   {
    "duration": 24,
    "start_time": "2022-01-02T16:26:19.889Z"
   },
   {
    "duration": 1191,
    "start_time": "2022-01-02T16:26:19.914Z"
   },
   {
    "duration": 456,
    "start_time": "2022-01-02T16:26:21.107Z"
   },
   {
    "duration": 23,
    "start_time": "2022-01-02T16:26:21.564Z"
   },
   {
    "duration": 55,
    "start_time": "2022-01-02T16:26:21.588Z"
   },
   {
    "duration": 1179,
    "start_time": "2022-01-02T16:26:21.644Z"
   },
   {
    "duration": 926,
    "start_time": "2022-01-02T16:26:22.824Z"
   },
   {
    "duration": 834,
    "start_time": "2022-01-02T16:26:23.754Z"
   },
   {
    "duration": 663,
    "start_time": "2022-01-02T16:26:24.590Z"
   },
   {
    "duration": 249,
    "start_time": "2022-01-02T16:26:25.254Z"
   },
   {
    "duration": 126,
    "start_time": "2022-01-02T16:26:25.505Z"
   },
   {
    "duration": 165,
    "start_time": "2022-01-02T16:26:25.641Z"
   },
   {
    "duration": 19,
    "start_time": "2022-01-02T16:26:25.807Z"
   },
   {
    "duration": 589,
    "start_time": "2022-01-02T16:26:25.828Z"
   },
   {
    "duration": 6,
    "start_time": "2022-01-02T16:26:26.419Z"
   },
   {
    "duration": 29,
    "start_time": "2022-01-02T16:26:26.426Z"
   },
   {
    "duration": 24,
    "start_time": "2022-01-02T16:26:26.456Z"
   },
   {
    "duration": 30,
    "start_time": "2022-01-02T16:26:26.481Z"
   },
   {
    "duration": 25,
    "start_time": "2022-01-02T16:26:26.512Z"
   },
   {
    "duration": 20,
    "start_time": "2022-01-02T16:26:26.538Z"
   },
   {
    "duration": 46,
    "start_time": "2022-01-02T16:26:26.559Z"
   },
   {
    "duration": 22,
    "start_time": "2022-01-02T16:26:26.606Z"
   },
   {
    "duration": 187,
    "start_time": "2022-01-02T16:26:26.629Z"
   },
   {
    "duration": 352,
    "start_time": "2022-01-02T16:26:26.818Z"
   },
   {
    "duration": 10,
    "start_time": "2022-01-02T16:26:27.172Z"
   },
   {
    "duration": 46,
    "start_time": "2022-01-02T16:26:27.184Z"
   },
   {
    "duration": 9,
    "start_time": "2022-01-02T16:26:27.231Z"
   },
   {
    "duration": 52,
    "start_time": "2022-01-02T16:26:27.242Z"
   },
   {
    "duration": 929,
    "start_time": "2022-01-03T18:04:14.580Z"
   },
   {
    "duration": 79,
    "start_time": "2022-01-03T18:04:15.511Z"
   },
   {
    "duration": 11,
    "start_time": "2022-01-03T18:04:15.594Z"
   },
   {
    "duration": 7,
    "start_time": "2022-01-03T18:04:15.608Z"
   },
   {
    "duration": 8,
    "start_time": "2022-01-03T18:04:15.618Z"
   },
   {
    "duration": 13,
    "start_time": "2022-01-03T18:04:15.663Z"
   },
   {
    "duration": 2334,
    "start_time": "2022-01-03T18:04:15.679Z"
   },
   {
    "duration": 8,
    "start_time": "2022-01-03T18:04:18.017Z"
   },
   {
    "duration": 4,
    "start_time": "2022-01-03T18:04:18.028Z"
   },
   {
    "duration": 7,
    "start_time": "2022-01-03T18:04:18.035Z"
   },
   {
    "duration": 12,
    "start_time": "2022-01-03T18:04:18.063Z"
   },
   {
    "duration": 13,
    "start_time": "2022-01-03T18:04:18.078Z"
   },
   {
    "duration": 8,
    "start_time": "2022-01-03T18:04:18.094Z"
   },
   {
    "duration": 11,
    "start_time": "2022-01-03T18:04:18.105Z"
   },
   {
    "duration": 57,
    "start_time": "2022-01-03T18:04:18.119Z"
   },
   {
    "duration": 11,
    "start_time": "2022-01-03T18:04:18.178Z"
   },
   {
    "duration": 2291,
    "start_time": "2022-01-03T18:04:18.192Z"
   },
   {
    "duration": 846,
    "start_time": "2022-01-03T18:04:20.486Z"
   },
   {
    "duration": 50,
    "start_time": "2022-01-03T18:04:21.334Z"
   },
   {
    "duration": 30,
    "start_time": "2022-01-03T18:04:21.387Z"
   },
   {
    "duration": 1767,
    "start_time": "2022-01-03T18:04:21.419Z"
   },
   {
    "duration": 1612,
    "start_time": "2022-01-03T18:04:23.189Z"
   },
   {
    "duration": 1478,
    "start_time": "2022-01-03T18:04:24.807Z"
   },
   {
    "duration": 941,
    "start_time": "2022-01-03T18:04:26.288Z"
   },
   {
    "duration": 451,
    "start_time": "2022-01-03T18:04:27.232Z"
   },
   {
    "duration": 225,
    "start_time": "2022-01-03T18:04:27.685Z"
   },
   {
    "duration": 297,
    "start_time": "2022-01-03T18:04:27.913Z"
   },
   {
    "duration": 30,
    "start_time": "2022-01-03T18:04:28.212Z"
   },
   {
    "duration": 1116,
    "start_time": "2022-01-03T18:04:28.263Z"
   },
   {
    "duration": 10,
    "start_time": "2022-01-03T18:04:29.382Z"
   },
   {
    "duration": 19,
    "start_time": "2022-01-03T18:04:29.395Z"
   },
   {
    "duration": 57,
    "start_time": "2022-01-03T18:04:29.416Z"
   },
   {
    "duration": 7,
    "start_time": "2022-01-03T18:04:29.475Z"
   },
   {
    "duration": 22,
    "start_time": "2022-01-03T18:04:29.484Z"
   },
   {
    "duration": 6,
    "start_time": "2022-01-03T18:04:29.508Z"
   },
   {
    "duration": 66,
    "start_time": "2022-01-03T18:04:29.517Z"
   },
   {
    "duration": 34,
    "start_time": "2022-01-03T18:04:29.585Z"
   },
   {
    "duration": 351,
    "start_time": "2022-01-03T18:04:29.622Z"
   },
   {
    "duration": 528,
    "start_time": "2022-01-03T18:04:29.976Z"
   },
   {
    "duration": 17,
    "start_time": "2022-01-03T18:04:30.506Z"
   },
   {
    "duration": 46,
    "start_time": "2022-01-03T18:04:30.526Z"
   },
   {
    "duration": 10,
    "start_time": "2022-01-03T18:04:30.574Z"
   },
   {
    "duration": 31,
    "start_time": "2022-01-03T18:04:30.587Z"
   },
   {
    "duration": 34,
    "start_time": "2022-01-03T18:09:43.359Z"
   },
   {
    "duration": 60,
    "start_time": "2022-01-03T18:11:01.720Z"
   },
   {
    "duration": 291,
    "start_time": "2022-01-03T18:11:57.263Z"
   },
   {
    "duration": 298,
    "start_time": "2022-01-03T18:13:43.907Z"
   },
   {
    "duration": 375,
    "start_time": "2022-01-03T18:14:47.809Z"
   },
   {
    "duration": 19,
    "start_time": "2022-01-03T18:14:54.911Z"
   },
   {
    "duration": 864,
    "start_time": "2022-01-05T10:20:38.315Z"
   },
   {
    "duration": 67,
    "start_time": "2022-01-05T10:20:39.182Z"
   },
   {
    "duration": 9,
    "start_time": "2022-01-05T10:20:39.251Z"
   },
   {
    "duration": 8,
    "start_time": "2022-01-05T10:20:39.263Z"
   },
   {
    "duration": 8,
    "start_time": "2022-01-05T10:20:39.273Z"
   },
   {
    "duration": 49,
    "start_time": "2022-01-05T10:20:39.283Z"
   },
   {
    "duration": 2410,
    "start_time": "2022-01-05T10:20:39.334Z"
   },
   {
    "duration": 9,
    "start_time": "2022-01-05T10:20:41.749Z"
   },
   {
    "duration": 23,
    "start_time": "2022-01-05T10:20:41.762Z"
   },
   {
    "duration": 27,
    "start_time": "2022-01-05T10:20:41.788Z"
   },
   {
    "duration": 26,
    "start_time": "2022-01-05T10:20:41.818Z"
   },
   {
    "duration": 21,
    "start_time": "2022-01-05T10:20:41.846Z"
   },
   {
    "duration": 9,
    "start_time": "2022-01-05T10:20:41.869Z"
   },
   {
    "duration": 27,
    "start_time": "2022-01-05T10:20:41.880Z"
   },
   {
    "duration": 21,
    "start_time": "2022-01-05T10:20:41.910Z"
   },
   {
    "duration": 21,
    "start_time": "2022-01-05T10:20:41.933Z"
   },
   {
    "duration": 1987,
    "start_time": "2022-01-05T10:20:41.956Z"
   },
   {
    "duration": 768,
    "start_time": "2022-01-05T10:20:43.945Z"
   },
   {
    "duration": 42,
    "start_time": "2022-01-05T10:20:44.715Z"
   },
   {
    "duration": 28,
    "start_time": "2022-01-05T10:20:44.759Z"
   },
   {
    "duration": 1611,
    "start_time": "2022-01-05T10:20:44.789Z"
   },
   {
    "duration": 1461,
    "start_time": "2022-01-05T10:20:46.402Z"
   },
   {
    "duration": 1365,
    "start_time": "2022-01-05T10:20:47.869Z"
   },
   {
    "duration": 874,
    "start_time": "2022-01-05T10:20:49.237Z"
   },
   {
    "duration": 464,
    "start_time": "2022-01-05T10:20:50.114Z"
   },
   {
    "duration": 210,
    "start_time": "2022-01-05T10:20:50.581Z"
   },
   {
    "duration": 288,
    "start_time": "2022-01-05T10:20:50.793Z"
   },
   {
    "duration": 48,
    "start_time": "2022-01-05T10:20:51.084Z"
   },
   {
    "duration": 27,
    "start_time": "2022-01-05T10:20:51.136Z"
   },
   {
    "duration": 957,
    "start_time": "2022-01-05T10:20:51.166Z"
   },
   {
    "duration": 273,
    "start_time": "2022-01-05T10:20:52.125Z"
   },
   {
    "duration": 9,
    "start_time": "2022-01-05T10:20:52.400Z"
   },
   {
    "duration": 19,
    "start_time": "2022-01-05T10:20:52.423Z"
   },
   {
    "duration": 18,
    "start_time": "2022-01-05T10:20:52.445Z"
   },
   {
    "duration": 5,
    "start_time": "2022-01-05T10:20:52.465Z"
   },
   {
    "duration": 118,
    "start_time": "2022-01-05T10:20:52.473Z"
   },
   {
    "duration": 6,
    "start_time": "2022-01-05T10:20:52.594Z"
   },
   {
    "duration": 38,
    "start_time": "2022-01-05T10:20:52.603Z"
   },
   {
    "duration": 33,
    "start_time": "2022-01-05T10:20:52.644Z"
   },
   {
    "duration": 321,
    "start_time": "2022-01-05T10:20:52.680Z"
   },
   {
    "duration": 395,
    "start_time": "2022-01-05T10:20:53.003Z"
   },
   {
    "duration": 24,
    "start_time": "2022-01-05T10:20:53.401Z"
   },
   {
    "duration": 21,
    "start_time": "2022-01-05T10:20:53.427Z"
   },
   {
    "duration": 7,
    "start_time": "2022-01-05T10:20:53.451Z"
   },
   {
    "duration": 33,
    "start_time": "2022-01-05T10:20:53.460Z"
   },
   {
    "duration": 122,
    "start_time": "2022-01-05T10:26:00.435Z"
   },
   {
    "duration": 57,
    "start_time": "2022-01-05T10:26:01.688Z"
   },
   {
    "duration": 10,
    "start_time": "2022-01-05T10:26:02.578Z"
   },
   {
    "duration": 7,
    "start_time": "2022-01-05T10:26:02.753Z"
   },
   {
    "duration": 9,
    "start_time": "2022-01-05T10:26:03.162Z"
   },
   {
    "duration": 12,
    "start_time": "2022-01-05T10:26:04.530Z"
   },
   {
    "duration": 1993,
    "start_time": "2022-01-05T10:26:06.060Z"
   },
   {
    "duration": 8,
    "start_time": "2022-01-05T10:26:12.816Z"
   },
   {
    "duration": 4,
    "start_time": "2022-01-05T10:26:13.796Z"
   },
   {
    "duration": 7,
    "start_time": "2022-01-05T10:26:14.853Z"
   },
   {
    "duration": 13,
    "start_time": "2022-01-05T10:26:17.593Z"
   },
   {
    "duration": 17,
    "start_time": "2022-01-05T10:26:20.994Z"
   },
   {
    "duration": 11,
    "start_time": "2022-01-05T10:26:35.531Z"
   },
   {
    "duration": 16,
    "start_time": "2022-01-05T10:26:40.266Z"
   },
   {
    "duration": 16,
    "start_time": "2022-01-05T10:26:40.792Z"
   },
   {
    "duration": 6,
    "start_time": "2022-01-05T10:26:46.100Z"
   },
   {
    "duration": 7404,
    "start_time": "2022-01-05T10:26:47.172Z"
   },
   {
    "duration": 273,
    "start_time": "2022-01-05T10:28:33.527Z"
   },
   {
    "duration": 436,
    "start_time": "2022-01-05T10:29:34.432Z"
   },
   {
    "duration": 1935,
    "start_time": "2022-01-05T10:30:29.272Z"
   },
   {
    "duration": 730,
    "start_time": "2022-01-05T10:30:33.786Z"
   },
   {
    "duration": 36,
    "start_time": "2022-01-05T10:30:36.284Z"
   },
   {
    "duration": 29,
    "start_time": "2022-01-05T10:30:42.682Z"
   },
   {
    "duration": 1533,
    "start_time": "2022-01-05T10:30:44.001Z"
   },
   {
    "duration": 1890,
    "start_time": "2022-01-05T10:33:04.876Z"
   },
   {
    "duration": 1738,
    "start_time": "2022-01-05T10:37:41.131Z"
   },
   {
    "duration": 1840,
    "start_time": "2022-01-05T10:37:54.163Z"
   },
   {
    "duration": 1888,
    "start_time": "2022-01-05T10:39:01.387Z"
   },
   {
    "duration": 1665,
    "start_time": "2022-01-05T10:39:19.131Z"
   },
   {
    "duration": 93,
    "start_time": "2022-01-05T10:41:18.013Z"
   },
   {
    "duration": 1849,
    "start_time": "2022-01-05T10:41:26.690Z"
   },
   {
    "duration": 1705,
    "start_time": "2022-01-05T10:42:12.213Z"
   },
   {
    "duration": 1531,
    "start_time": "2022-01-05T10:48:20.774Z"
   },
   {
    "duration": 1760,
    "start_time": "2022-01-05T10:49:33.519Z"
   },
   {
    "duration": 296,
    "start_time": "2022-01-05T10:53:11.308Z"
   },
   {
    "duration": 990,
    "start_time": "2022-01-05T10:53:27.672Z"
   },
   {
    "duration": 869,
    "start_time": "2022-01-05T10:54:03.175Z"
   },
   {
    "duration": 1367,
    "start_time": "2022-01-05T10:54:54.063Z"
   },
   {
    "duration": 1111,
    "start_time": "2022-01-05T10:55:18.432Z"
   },
   {
    "duration": 1287,
    "start_time": "2022-01-05T10:55:41.951Z"
   },
   {
    "duration": 1236,
    "start_time": "2022-01-05T10:56:08.136Z"
   },
   {
    "duration": 1456,
    "start_time": "2022-01-05T10:57:06.853Z"
   },
   {
    "duration": 1958,
    "start_time": "2022-01-05T10:57:45.210Z"
   },
   {
    "duration": 1310,
    "start_time": "2022-01-05T11:02:40.785Z"
   },
   {
    "duration": 1271,
    "start_time": "2022-01-05T11:03:10.029Z"
   },
   {
    "duration": 1420,
    "start_time": "2022-01-05T11:03:36.677Z"
   },
   {
    "duration": 667,
    "start_time": "2022-01-05T11:04:09.313Z"
   },
   {
    "duration": 754,
    "start_time": "2022-01-05T11:04:22.741Z"
   },
   {
    "duration": 2047,
    "start_time": "2022-01-05T11:06:22.853Z"
   },
   {
    "duration": 2218,
    "start_time": "2022-01-05T11:06:41.282Z"
   },
   {
    "duration": 2119,
    "start_time": "2022-01-05T11:07:36.543Z"
   },
   {
    "duration": 1805,
    "start_time": "2022-01-05T11:07:45.652Z"
   },
   {
    "duration": 1661,
    "start_time": "2022-01-05T11:07:58.222Z"
   },
   {
    "duration": 1692,
    "start_time": "2022-01-05T11:08:11.201Z"
   },
   {
    "duration": 1794,
    "start_time": "2022-01-05T11:10:40.456Z"
   },
   {
    "duration": 1926,
    "start_time": "2022-01-05T11:12:22.152Z"
   },
   {
    "duration": 1969,
    "start_time": "2022-01-05T11:12:49.417Z"
   },
   {
    "duration": 1700,
    "start_time": "2022-01-05T11:13:00.036Z"
   },
   {
    "duration": 1401,
    "start_time": "2022-01-05T11:17:43.337Z"
   },
   {
    "duration": 1448,
    "start_time": "2022-01-05T11:17:54.680Z"
   },
   {
    "duration": 1507,
    "start_time": "2022-01-05T11:18:11.130Z"
   },
   {
    "duration": 1613,
    "start_time": "2022-01-05T11:20:03.656Z"
   },
   {
    "duration": 1150,
    "start_time": "2022-01-05T11:22:34.059Z"
   },
   {
    "duration": 1602,
    "start_time": "2022-01-05T11:22:51.206Z"
   },
   {
    "duration": 1569,
    "start_time": "2022-01-05T11:26:23.168Z"
   },
   {
    "duration": 1858,
    "start_time": "2022-01-05T11:26:40.038Z"
   },
   {
    "duration": 1784,
    "start_time": "2022-01-05T11:27:23.180Z"
   },
   {
    "duration": 1576,
    "start_time": "2022-01-05T11:27:34.962Z"
   },
   {
    "duration": 1853,
    "start_time": "2022-01-05T11:51:44.728Z"
   },
   {
    "duration": 696,
    "start_time": "2022-01-05T12:16:43.733Z"
   },
   {
    "duration": 748,
    "start_time": "2022-01-05T12:17:28.260Z"
   },
   {
    "duration": 759,
    "start_time": "2022-01-05T12:17:42.599Z"
   },
   {
    "duration": 1021,
    "start_time": "2022-01-05T12:17:56.482Z"
   },
   {
    "duration": 1023,
    "start_time": "2022-01-05T12:18:15.267Z"
   },
   {
    "duration": 973,
    "start_time": "2022-01-05T12:18:31.979Z"
   },
   {
    "duration": 979,
    "start_time": "2022-01-05T12:19:30.264Z"
   },
   {
    "duration": 1326,
    "start_time": "2022-01-05T12:19:36.242Z"
   },
   {
    "duration": 621,
    "start_time": "2022-01-05T12:21:11.849Z"
   },
   {
    "duration": 534,
    "start_time": "2022-01-05T12:21:23.698Z"
   },
   {
    "duration": 621,
    "start_time": "2022-01-05T12:21:33.853Z"
   },
   {
    "duration": 1266,
    "start_time": "2022-01-05T12:24:32.208Z"
   },
   {
    "duration": 1179,
    "start_time": "2022-01-05T12:26:36.496Z"
   },
   {
    "duration": 1151,
    "start_time": "2022-01-05T12:27:06.117Z"
   },
   {
    "duration": 1107,
    "start_time": "2022-01-05T12:27:17.336Z"
   },
   {
    "duration": 1150,
    "start_time": "2022-01-05T12:27:22.643Z"
   },
   {
    "duration": 1593,
    "start_time": "2022-01-05T12:27:27.742Z"
   },
   {
    "duration": 1108,
    "start_time": "2022-01-05T12:29:43.726Z"
   },
   {
    "duration": 860,
    "start_time": "2022-01-05T12:30:23.744Z"
   },
   {
    "duration": 594,
    "start_time": "2022-01-05T12:30:33.417Z"
   },
   {
    "duration": 1267,
    "start_time": "2022-01-05T12:33:41.413Z"
   },
   {
    "duration": 1253,
    "start_time": "2022-01-05T12:33:49.245Z"
   },
   {
    "duration": 977,
    "start_time": "2022-01-05T12:33:56.099Z"
   },
   {
    "duration": 1125,
    "start_time": "2022-01-05T12:34:05.885Z"
   },
   {
    "duration": 606,
    "start_time": "2022-01-05T12:34:26.662Z"
   },
   {
    "duration": 464,
    "start_time": "2022-01-05T12:35:35.094Z"
   },
   {
    "duration": 442,
    "start_time": "2022-01-05T12:35:47.702Z"
   },
   {
    "duration": 463,
    "start_time": "2022-01-05T12:36:23.112Z"
   },
   {
    "duration": 590,
    "start_time": "2022-01-05T12:36:33.999Z"
   },
   {
    "duration": 578,
    "start_time": "2022-01-05T12:38:10.082Z"
   },
   {
    "duration": 261,
    "start_time": "2022-01-05T13:03:37.341Z"
   },
   {
    "duration": 311,
    "start_time": "2022-01-05T13:04:04.361Z"
   },
   {
    "duration": 857,
    "start_time": "2022-01-05T13:33:44.514Z"
   },
   {
    "duration": 1593,
    "start_time": "2022-01-05T13:34:39.735Z"
   },
   {
    "duration": 1648,
    "start_time": "2022-01-05T13:35:27.185Z"
   },
   {
    "duration": 1648,
    "start_time": "2022-01-05T13:40:32.328Z"
   },
   {
    "duration": 2130,
    "start_time": "2022-01-05T13:40:41.849Z"
   },
   {
    "duration": 1733,
    "start_time": "2022-01-05T13:40:59.368Z"
   },
   {
    "duration": 1731,
    "start_time": "2022-01-05T13:43:55.543Z"
   },
   {
    "duration": 1723,
    "start_time": "2022-01-05T13:44:25.180Z"
   },
   {
    "duration": 1640,
    "start_time": "2022-01-05T13:44:36.975Z"
   },
   {
    "duration": 1800,
    "start_time": "2022-01-05T13:44:56.808Z"
   },
   {
    "duration": 1526,
    "start_time": "2022-01-05T13:45:22.857Z"
   },
   {
    "duration": 1531,
    "start_time": "2022-01-05T13:48:08.527Z"
   },
   {
    "duration": 929,
    "start_time": "2022-01-05T13:50:42.045Z"
   },
   {
    "duration": 898,
    "start_time": "2022-01-05T13:53:02.187Z"
   },
   {
    "duration": 27,
    "start_time": "2022-01-05T14:59:33.513Z"
   },
   {
    "duration": 128,
    "start_time": "2022-01-05T14:59:56.654Z"
   },
   {
    "duration": 83,
    "start_time": "2022-01-05T14:59:56.785Z"
   },
   {
    "duration": 9,
    "start_time": "2022-01-05T14:59:56.871Z"
   },
   {
    "duration": 43,
    "start_time": "2022-01-05T14:59:56.882Z"
   },
   {
    "duration": 8,
    "start_time": "2022-01-05T14:59:56.927Z"
   },
   {
    "duration": 14,
    "start_time": "2022-01-05T14:59:56.937Z"
   },
   {
    "duration": 2501,
    "start_time": "2022-01-05T14:59:56.953Z"
   },
   {
    "duration": 8,
    "start_time": "2022-01-05T14:59:59.458Z"
   },
   {
    "duration": 8,
    "start_time": "2022-01-05T14:59:59.469Z"
   },
   {
    "duration": 9,
    "start_time": "2022-01-05T14:59:59.480Z"
   },
   {
    "duration": 38,
    "start_time": "2022-01-05T14:59:59.492Z"
   },
   {
    "duration": 15,
    "start_time": "2022-01-05T14:59:59.532Z"
   },
   {
    "duration": 8,
    "start_time": "2022-01-05T14:59:59.550Z"
   },
   {
    "duration": 14,
    "start_time": "2022-01-05T14:59:59.561Z"
   },
   {
    "duration": 54,
    "start_time": "2022-01-05T14:59:59.578Z"
   },
   {
    "duration": 6,
    "start_time": "2022-01-05T14:59:59.634Z"
   },
   {
    "duration": 2343,
    "start_time": "2022-01-05T14:59:59.643Z"
   },
   {
    "duration": 873,
    "start_time": "2022-01-05T15:00:01.988Z"
   },
   {
    "duration": 41,
    "start_time": "2022-01-05T15:00:02.864Z"
   },
   {
    "duration": 34,
    "start_time": "2022-01-05T15:00:02.924Z"
   },
   {
    "duration": 1934,
    "start_time": "2022-01-05T15:00:02.961Z"
   },
   {
    "duration": 1479,
    "start_time": "2022-01-05T15:00:04.897Z"
   },
   {
    "duration": 975,
    "start_time": "2022-01-05T15:00:06.383Z"
   },
   {
    "duration": 351,
    "start_time": "2022-01-05T15:00:07.362Z"
   },
   {
    "duration": 409,
    "start_time": "2022-01-05T15:00:07.716Z"
   },
   {
    "duration": 28,
    "start_time": "2022-01-05T15:00:08.128Z"
   },
   {
    "duration": 25,
    "start_time": "2022-01-05T15:00:08.158Z"
   },
   {
    "duration": 324,
    "start_time": "2022-01-05T15:00:08.186Z"
   },
   {
    "duration": -715,
    "start_time": "2022-01-05T15:00:09.228Z"
   },
   {
    "duration": -728,
    "start_time": "2022-01-05T15:00:09.243Z"
   },
   {
    "duration": -739,
    "start_time": "2022-01-05T15:00:09.256Z"
   },
   {
    "duration": -760,
    "start_time": "2022-01-05T15:00:09.278Z"
   },
   {
    "duration": -781,
    "start_time": "2022-01-05T15:00:09.300Z"
   },
   {
    "duration": -783,
    "start_time": "2022-01-05T15:00:09.303Z"
   },
   {
    "duration": -792,
    "start_time": "2022-01-05T15:00:09.313Z"
   },
   {
    "duration": -794,
    "start_time": "2022-01-05T15:00:09.317Z"
   },
   {
    "duration": -796,
    "start_time": "2022-01-05T15:00:09.320Z"
   },
   {
    "duration": -800,
    "start_time": "2022-01-05T15:00:09.325Z"
   },
   {
    "duration": -806,
    "start_time": "2022-01-05T15:00:09.333Z"
   },
   {
    "duration": -807,
    "start_time": "2022-01-05T15:00:09.336Z"
   },
   {
    "duration": -810,
    "start_time": "2022-01-05T15:00:09.341Z"
   },
   {
    "duration": -815,
    "start_time": "2022-01-05T15:00:09.348Z"
   },
   {
    "duration": -816,
    "start_time": "2022-01-05T15:00:09.351Z"
   },
   {
    "duration": 31,
    "start_time": "2022-01-05T15:00:33.664Z"
   },
   {
    "duration": 41,
    "start_time": "2022-01-05T15:00:47.186Z"
   },
   {
    "duration": 1075,
    "start_time": "2022-01-05T15:05:25.586Z"
   },
   {
    "duration": 991,
    "start_time": "2022-01-05T15:05:46.337Z"
   },
   {
    "duration": 990,
    "start_time": "2022-01-05T15:06:14.420Z"
   },
   {
    "duration": 1018,
    "start_time": "2022-01-05T15:06:51.716Z"
   },
   {
    "duration": 1034,
    "start_time": "2022-01-05T15:07:00.022Z"
   },
   {
    "duration": 1108,
    "start_time": "2022-01-05T15:07:58.702Z"
   },
   {
    "duration": 256,
    "start_time": "2022-01-05T15:08:00.414Z"
   },
   {
    "duration": 1031,
    "start_time": "2022-01-05T15:14:18.345Z"
   },
   {
    "duration": 1647,
    "start_time": "2022-01-05T15:15:05.133Z"
   },
   {
    "duration": 1142,
    "start_time": "2022-01-05T15:18:01.233Z"
   },
   {
    "duration": 970,
    "start_time": "2022-01-05T15:23:38.867Z"
   },
   {
    "duration": 960,
    "start_time": "2022-01-05T15:23:43.935Z"
   },
   {
    "duration": 377,
    "start_time": "2022-01-05T15:29:42.250Z"
   },
   {
    "duration": 1424,
    "start_time": "2022-01-05T15:32:23.526Z"
   },
   {
    "duration": 850,
    "start_time": "2022-01-05T15:37:59.843Z"
   },
   {
    "duration": 1024,
    "start_time": "2022-01-05T15:38:20.425Z"
   },
   {
    "duration": 988,
    "start_time": "2022-01-05T15:38:51.594Z"
   },
   {
    "duration": 148,
    "start_time": "2022-01-05T15:39:11.797Z"
   },
   {
    "duration": 86,
    "start_time": "2022-01-05T15:39:11.948Z"
   },
   {
    "duration": 9,
    "start_time": "2022-01-05T15:39:12.037Z"
   },
   {
    "duration": 13,
    "start_time": "2022-01-05T15:39:12.048Z"
   },
   {
    "duration": 11,
    "start_time": "2022-01-05T15:39:12.064Z"
   },
   {
    "duration": 49,
    "start_time": "2022-01-05T15:39:12.077Z"
   },
   {
    "duration": 2220,
    "start_time": "2022-01-05T15:39:12.129Z"
   },
   {
    "duration": 8,
    "start_time": "2022-01-05T15:39:14.352Z"
   },
   {
    "duration": 9,
    "start_time": "2022-01-05T15:39:14.363Z"
   },
   {
    "duration": 7,
    "start_time": "2022-01-05T15:39:14.375Z"
   },
   {
    "duration": 14,
    "start_time": "2022-01-05T15:39:14.384Z"
   },
   {
    "duration": 15,
    "start_time": "2022-01-05T15:39:14.424Z"
   },
   {
    "duration": 7,
    "start_time": "2022-01-05T15:39:14.441Z"
   },
   {
    "duration": 12,
    "start_time": "2022-01-05T15:39:14.451Z"
   },
   {
    "duration": 17,
    "start_time": "2022-01-05T15:39:14.465Z"
   },
   {
    "duration": 46,
    "start_time": "2022-01-05T15:39:14.484Z"
   },
   {
    "duration": 1963,
    "start_time": "2022-01-05T15:39:14.533Z"
   },
   {
    "duration": 813,
    "start_time": "2022-01-05T15:39:16.498Z"
   },
   {
    "duration": 44,
    "start_time": "2022-01-05T15:39:17.313Z"
   },
   {
    "duration": 30,
    "start_time": "2022-01-05T15:39:17.360Z"
   },
   {
    "duration": 1685,
    "start_time": "2022-01-05T15:39:17.393Z"
   },
   {
    "duration": 1524,
    "start_time": "2022-01-05T15:39:19.081Z"
   },
   {
    "duration": 1468,
    "start_time": "2022-01-05T15:39:20.611Z"
   },
   {
    "duration": 346,
    "start_time": "2022-01-05T15:39:22.083Z"
   },
   {
    "duration": 601,
    "start_time": "2022-01-05T15:39:22.432Z"
   },
   {
    "duration": 33,
    "start_time": "2022-01-05T15:39:23.035Z"
   },
   {
    "duration": 54,
    "start_time": "2022-01-05T15:39:23.071Z"
   },
   {
    "duration": 1047,
    "start_time": "2022-01-05T15:39:23.128Z"
   },
   {
    "duration": 289,
    "start_time": "2022-01-05T15:39:24.178Z"
   },
   {
    "duration": 11,
    "start_time": "2022-01-05T15:39:24.469Z"
   },
   {
    "duration": 43,
    "start_time": "2022-01-05T15:39:24.482Z"
   },
   {
    "duration": 20,
    "start_time": "2022-01-05T15:39:24.528Z"
   },
   {
    "duration": 6,
    "start_time": "2022-01-05T15:39:24.550Z"
   },
   {
    "duration": 19,
    "start_time": "2022-01-05T15:39:24.559Z"
   },
   {
    "duration": 42,
    "start_time": "2022-01-05T15:39:24.581Z"
   },
   {
    "duration": 23,
    "start_time": "2022-01-05T15:39:24.625Z"
   },
   {
    "duration": 74,
    "start_time": "2022-01-05T15:39:24.651Z"
   },
   {
    "duration": 450,
    "start_time": "2022-01-05T15:39:24.728Z"
   },
   {
    "duration": 417,
    "start_time": "2022-01-05T15:39:25.181Z"
   },
   {
    "duration": 26,
    "start_time": "2022-01-05T15:39:25.601Z"
   },
   {
    "duration": 20,
    "start_time": "2022-01-05T15:39:25.630Z"
   },
   {
    "duration": 8,
    "start_time": "2022-01-05T15:39:25.653Z"
   },
   {
    "duration": 59,
    "start_time": "2022-01-05T15:39:25.663Z"
   },
   {
    "duration": 1647,
    "start_time": "2022-01-05T15:39:55.403Z"
   },
   {
    "duration": 1086,
    "start_time": "2022-01-05T15:40:30.919Z"
   },
   {
    "duration": 392,
    "start_time": "2022-01-05T15:46:16.535Z"
   },
   {
    "duration": 32,
    "start_time": "2022-01-05T15:46:18.639Z"
   },
   {
    "duration": 42,
    "start_time": "2022-01-05T15:46:19.410Z"
   },
   {
    "duration": 1642,
    "start_time": "2022-01-05T15:46:22.813Z"
   },
   {
    "duration": 2106,
    "start_time": "2022-01-05T15:47:01.671Z"
   },
   {
    "duration": 1294,
    "start_time": "2022-01-05T15:47:34.050Z"
   },
   {
    "duration": 1089,
    "start_time": "2022-01-05T15:47:39.929Z"
   },
   {
    "duration": 1170,
    "start_time": "2022-01-05T15:51:34.662Z"
   },
   {
    "duration": 25,
    "start_time": "2022-01-05T15:52:13.490Z"
   },
   {
    "duration": 1246,
    "start_time": "2022-01-05T15:52:54.278Z"
   },
   {
    "duration": 274,
    "start_time": "2022-01-05T15:52:57.228Z"
   },
   {
    "duration": 10,
    "start_time": "2022-01-05T15:52:59.302Z"
   },
   {
    "duration": 20,
    "start_time": "2022-01-05T15:53:02.511Z"
   },
   {
    "duration": 20,
    "start_time": "2022-01-05T15:53:11.319Z"
   },
   {
    "duration": 258,
    "start_time": "2022-01-05T15:54:19.731Z"
   },
   {
    "duration": 282,
    "start_time": "2022-01-05T15:59:17.860Z"
   },
   {
    "duration": 303,
    "start_time": "2022-01-05T16:09:14.906Z"
   },
   {
    "duration": 284,
    "start_time": "2022-01-05T16:09:45.721Z"
   },
   {
    "duration": 21,
    "start_time": "2022-01-05T16:10:17.528Z"
   },
   {
    "duration": 21,
    "start_time": "2022-01-05T16:17:19.762Z"
   },
   {
    "duration": 22,
    "start_time": "2022-01-05T16:17:51.561Z"
   },
   {
    "duration": 386,
    "start_time": "2022-01-05T16:24:59.842Z"
   },
   {
    "duration": 17,
    "start_time": "2022-01-05T16:26:16.301Z"
   },
   {
    "duration": 934,
    "start_time": "2022-01-05T16:28:43.694Z"
   },
   {
    "duration": 933,
    "start_time": "2022-01-05T16:30:14.791Z"
   },
   {
    "duration": 935,
    "start_time": "2022-01-05T16:36:46.736Z"
   },
   {
    "duration": 955,
    "start_time": "2022-01-05T16:38:25.154Z"
   },
   {
    "duration": 899,
    "start_time": "2022-01-05T16:43:22.024Z"
   },
   {
    "duration": 20,
    "start_time": "2022-01-05T16:47:36.567Z"
   },
   {
    "duration": 281,
    "start_time": "2022-01-05T16:49:48.951Z"
   },
   {
    "duration": 553,
    "start_time": "2022-01-05T16:53:41.460Z"
   },
   {
    "duration": 649,
    "start_time": "2022-01-05T16:57:42.970Z"
   },
   {
    "duration": 588,
    "start_time": "2022-01-05T17:00:04.787Z"
   },
   {
    "duration": 101,
    "start_time": "2022-01-05T17:11:03.412Z"
   },
   {
    "duration": 444,
    "start_time": "2022-01-05T17:34:36.467Z"
   },
   {
    "duration": 920,
    "start_time": "2022-01-07T17:53:17.153Z"
   },
   {
    "duration": 54,
    "start_time": "2022-01-07T17:53:18.076Z"
   },
   {
    "duration": 34,
    "start_time": "2022-01-07T17:53:18.132Z"
   },
   {
    "duration": 6,
    "start_time": "2022-01-07T17:53:18.168Z"
   },
   {
    "duration": 9,
    "start_time": "2022-01-07T17:53:18.176Z"
   },
   {
    "duration": 12,
    "start_time": "2022-01-07T17:53:18.187Z"
   },
   {
    "duration": 2239,
    "start_time": "2022-01-07T17:53:18.201Z"
   },
   {
    "duration": 15,
    "start_time": "2022-01-07T17:53:20.444Z"
   },
   {
    "duration": 11,
    "start_time": "2022-01-07T17:53:20.462Z"
   },
   {
    "duration": 13,
    "start_time": "2022-01-07T17:53:20.476Z"
   },
   {
    "duration": 21,
    "start_time": "2022-01-07T17:53:20.491Z"
   },
   {
    "duration": 15,
    "start_time": "2022-01-07T17:53:20.515Z"
   },
   {
    "duration": 31,
    "start_time": "2022-01-07T17:53:20.533Z"
   },
   {
    "duration": 13,
    "start_time": "2022-01-07T17:53:20.566Z"
   },
   {
    "duration": 14,
    "start_time": "2022-01-07T17:53:20.582Z"
   },
   {
    "duration": 11,
    "start_time": "2022-01-07T17:53:20.598Z"
   },
   {
    "duration": 2220,
    "start_time": "2022-01-07T17:53:20.611Z"
   },
   {
    "duration": 797,
    "start_time": "2022-01-07T17:53:22.834Z"
   },
   {
    "duration": 49,
    "start_time": "2022-01-07T17:53:23.634Z"
   },
   {
    "duration": 29,
    "start_time": "2022-01-07T17:53:23.686Z"
   },
   {
    "duration": 1931,
    "start_time": "2022-01-07T17:53:23.717Z"
   },
   {
    "duration": 1541,
    "start_time": "2022-01-07T17:53:25.650Z"
   },
   {
    "duration": 915,
    "start_time": "2022-01-07T17:53:27.196Z"
   },
   {
    "duration": 245,
    "start_time": "2022-01-07T17:53:28.114Z"
   },
   {
    "duration": 464,
    "start_time": "2022-01-07T17:53:28.362Z"
   },
   {
    "duration": 43,
    "start_time": "2022-01-07T17:53:28.829Z"
   },
   {
    "duration": 27,
    "start_time": "2022-01-07T17:53:28.875Z"
   },
   {
    "duration": 1103,
    "start_time": "2022-01-07T17:53:28.904Z"
   },
   {
    "duration": 282,
    "start_time": "2022-01-07T17:53:30.009Z"
   },
   {
    "duration": 10,
    "start_time": "2022-01-07T17:53:30.294Z"
   },
   {
    "duration": 22,
    "start_time": "2022-01-07T17:53:30.306Z"
   },
   {
    "duration": 333,
    "start_time": "2022-01-07T17:53:30.331Z"
   },
   {
    "duration": 20,
    "start_time": "2022-01-07T17:53:30.666Z"
   },
   {
    "duration": 300,
    "start_time": "2022-01-07T17:53:30.688Z"
   },
   {
    "duration": 6,
    "start_time": "2022-01-07T17:53:30.991Z"
   },
   {
    "duration": 29,
    "start_time": "2022-01-07T17:53:30.999Z"
   },
   {
    "duration": 59,
    "start_time": "2022-01-07T17:53:31.030Z"
   },
   {
    "duration": 339,
    "start_time": "2022-01-07T17:53:31.091Z"
   },
   {
    "duration": 216,
    "start_time": "2022-01-07T17:53:31.433Z"
   },
   {
    "duration": 18,
    "start_time": "2022-01-07T17:53:31.652Z"
   },
   {
    "duration": 918,
    "start_time": "2022-01-07T17:53:31.672Z"
   },
   {
    "duration": 19,
    "start_time": "2022-01-07T17:53:32.592Z"
   },
   {
    "duration": 8,
    "start_time": "2022-01-07T17:53:32.613Z"
   },
   {
    "duration": 719,
    "start_time": "2022-01-07T17:53:32.623Z"
   },
   {
    "duration": 29,
    "start_time": "2022-01-07T17:53:33.345Z"
   },
   {
    "duration": 937,
    "start_time": "2022-01-07T18:02:44.864Z"
   },
   {
    "duration": 1032,
    "start_time": "2022-01-07T18:02:57.827Z"
   },
   {
    "duration": 762,
    "start_time": "2022-01-07T18:03:08.868Z"
   },
   {
    "duration": 1001,
    "start_time": "2022-01-07T18:03:14.847Z"
   },
   {
    "duration": 1114,
    "start_time": "2022-01-07T18:03:25.225Z"
   },
   {
    "duration": 923,
    "start_time": "2022-01-07T18:04:01.531Z"
   },
   {
    "duration": 738,
    "start_time": "2022-01-07T18:18:32.566Z"
   },
   {
    "duration": 686,
    "start_time": "2022-01-07T18:18:45.592Z"
   },
   {
    "duration": 685,
    "start_time": "2022-01-07T18:18:55.827Z"
   },
   {
    "duration": 611,
    "start_time": "2022-01-07T18:19:21.867Z"
   },
   {
    "duration": 22,
    "start_time": "2022-01-07T20:23:16.363Z"
   },
   {
    "duration": 663,
    "start_time": "2022-01-08T12:40:12.379Z"
   },
   {
    "duration": 50,
    "start_time": "2022-01-08T12:40:13.044Z"
   },
   {
    "duration": 6,
    "start_time": "2022-01-08T12:40:13.097Z"
   },
   {
    "duration": 8,
    "start_time": "2022-01-08T12:40:13.105Z"
   },
   {
    "duration": 7,
    "start_time": "2022-01-08T12:40:13.114Z"
   },
   {
    "duration": 9,
    "start_time": "2022-01-08T12:40:13.123Z"
   },
   {
    "duration": 1463,
    "start_time": "2022-01-08T12:40:13.134Z"
   },
   {
    "duration": 6,
    "start_time": "2022-01-08T12:40:14.599Z"
   },
   {
    "duration": 5,
    "start_time": "2022-01-08T12:40:14.607Z"
   },
   {
    "duration": 8,
    "start_time": "2022-01-08T12:40:14.613Z"
   },
   {
    "duration": 10,
    "start_time": "2022-01-08T12:40:14.622Z"
   },
   {
    "duration": 8,
    "start_time": "2022-01-08T12:40:14.634Z"
   },
   {
    "duration": 6,
    "start_time": "2022-01-08T12:40:14.644Z"
   },
   {
    "duration": 8,
    "start_time": "2022-01-08T12:40:14.651Z"
   },
   {
    "duration": 10,
    "start_time": "2022-01-08T12:40:14.692Z"
   },
   {
    "duration": 5,
    "start_time": "2022-01-08T12:40:14.704Z"
   },
   {
    "duration": 1202,
    "start_time": "2022-01-08T12:40:14.710Z"
   },
   {
    "duration": 479,
    "start_time": "2022-01-08T12:40:15.914Z"
   },
   {
    "duration": 25,
    "start_time": "2022-01-08T12:40:16.395Z"
   },
   {
    "duration": 21,
    "start_time": "2022-01-08T12:40:16.421Z"
   },
   {
    "duration": 1274,
    "start_time": "2022-01-08T12:40:16.444Z"
   },
   {
    "duration": 1002,
    "start_time": "2022-01-08T12:40:17.720Z"
   },
   {
    "duration": 575,
    "start_time": "2022-01-08T12:40:18.725Z"
   },
   {
    "duration": 153,
    "start_time": "2022-01-08T12:40:19.302Z"
   },
   {
    "duration": 318,
    "start_time": "2022-01-08T12:40:19.457Z"
   },
   {
    "duration": 31,
    "start_time": "2022-01-08T12:40:19.777Z"
   },
   {
    "duration": 18,
    "start_time": "2022-01-08T12:40:19.810Z"
   },
   {
    "duration": 768,
    "start_time": "2022-01-08T12:40:19.830Z"
   },
   {
    "duration": 175,
    "start_time": "2022-01-08T12:40:20.599Z"
   },
   {
    "duration": 15,
    "start_time": "2022-01-08T12:40:20.776Z"
   },
   {
    "duration": 13,
    "start_time": "2022-01-08T12:40:20.793Z"
   },
   {
    "duration": 199,
    "start_time": "2022-01-08T12:40:20.808Z"
   },
   {
    "duration": 13,
    "start_time": "2022-01-08T12:40:21.009Z"
   },
   {
    "duration": 196,
    "start_time": "2022-01-08T12:40:21.024Z"
   },
   {
    "duration": 5,
    "start_time": "2022-01-08T12:40:21.221Z"
   },
   {
    "duration": 16,
    "start_time": "2022-01-08T12:40:21.228Z"
   },
   {
    "duration": 21,
    "start_time": "2022-01-08T12:40:21.246Z"
   },
   {
    "duration": 227,
    "start_time": "2022-01-08T12:40:21.269Z"
   },
   {
    "duration": 138,
    "start_time": "2022-01-08T12:40:21.498Z"
   },
   {
    "duration": 10,
    "start_time": "2022-01-08T12:40:21.638Z"
   },
   {
    "duration": 585,
    "start_time": "2022-01-08T12:40:21.649Z"
   },
   {
    "duration": 13,
    "start_time": "2022-01-08T12:40:22.236Z"
   },
   {
    "duration": 5,
    "start_time": "2022-01-08T12:40:22.251Z"
   },
   {
    "duration": 497,
    "start_time": "2022-01-08T12:40:22.257Z"
   },
   {
    "duration": 13,
    "start_time": "2022-01-08T12:40:22.755Z"
   },
   {
    "duration": 528,
    "start_time": "2022-05-15T12:44:39.216Z"
   },
   {
    "duration": 161,
    "start_time": "2022-05-15T12:44:46.814Z"
   },
   {
    "duration": 97,
    "start_time": "2022-05-15T12:47:26.056Z"
   },
   {
    "duration": 97,
    "start_time": "2022-05-15T12:47:53.080Z"
   },
   {
    "duration": 13,
    "start_time": "2022-05-15T12:50:23.210Z"
   },
   {
    "duration": 9,
    "start_time": "2022-05-15T12:50:41.395Z"
   },
   {
    "duration": 12,
    "start_time": "2022-05-15T12:54:03.074Z"
   },
   {
    "duration": 113,
    "start_time": "2022-05-15T13:03:20.129Z"
   },
   {
    "duration": 16,
    "start_time": "2022-05-15T13:03:31.373Z"
   },
   {
    "duration": 153,
    "start_time": "2022-05-15T13:03:38.021Z"
   },
   {
    "duration": 148,
    "start_time": "2022-05-15T13:03:47.942Z"
   },
   {
    "duration": 101,
    "start_time": "2022-05-15T13:03:55.640Z"
   },
   {
    "duration": 144,
    "start_time": "2022-05-15T13:04:03.034Z"
   },
   {
    "duration": 15,
    "start_time": "2022-05-15T13:05:03.198Z"
   },
   {
    "duration": 27,
    "start_time": "2022-05-15T13:05:09.294Z"
   },
   {
    "duration": 28,
    "start_time": "2022-05-15T13:06:12.910Z"
   },
   {
    "duration": 15,
    "start_time": "2022-05-15T13:13:54.527Z"
   },
   {
    "duration": 22,
    "start_time": "2022-05-15T13:14:16.357Z"
   },
   {
    "duration": 6,
    "start_time": "2022-05-15T13:19:14.067Z"
   },
   {
    "duration": 5,
    "start_time": "2022-05-15T13:19:21.541Z"
   },
   {
    "duration": 11,
    "start_time": "2022-05-15T13:26:53.745Z"
   },
   {
    "duration": 7,
    "start_time": "2022-05-15T13:26:57.020Z"
   },
   {
    "duration": 4,
    "start_time": "2022-05-15T13:35:17.062Z"
   },
   {
    "duration": 164,
    "start_time": "2022-05-15T13:35:17.069Z"
   },
   {
    "duration": 110,
    "start_time": "2022-05-15T13:35:17.235Z"
   },
   {
    "duration": 8,
    "start_time": "2022-05-15T13:35:17.348Z"
   },
   {
    "duration": 9,
    "start_time": "2022-05-15T13:35:17.358Z"
   },
   {
    "duration": 18,
    "start_time": "2022-05-15T13:35:17.370Z"
   },
   {
    "duration": 41,
    "start_time": "2022-05-15T13:35:17.390Z"
   },
   {
    "duration": 28,
    "start_time": "2022-05-15T13:35:20.375Z"
   },
   {
    "duration": 20,
    "start_time": "2022-05-15T13:35:21.427Z"
   },
   {
    "duration": 6,
    "start_time": "2022-05-15T13:35:22.290Z"
   },
   {
    "duration": 5,
    "start_time": "2022-05-15T13:35:41.895Z"
   },
   {
    "duration": 1238,
    "start_time": "2022-05-15T13:35:44.102Z"
   },
   {
    "duration": 37,
    "start_time": "2022-05-15T13:36:06.660Z"
   },
   {
    "duration": 6,
    "start_time": "2022-05-15T13:37:04.922Z"
   },
   {
    "duration": 1609,
    "start_time": "2022-05-15T13:37:06.608Z"
   },
   {
    "duration": 37,
    "start_time": "2022-05-15T13:37:08.220Z"
   },
   {
    "duration": 4,
    "start_time": "2022-05-15T13:38:16.090Z"
   },
   {
    "duration": 7,
    "start_time": "2022-05-15T13:38:19.142Z"
   },
   {
    "duration": 3,
    "start_time": "2022-05-15T13:40:16.809Z"
   },
   {
    "duration": 152,
    "start_time": "2022-05-15T13:40:16.815Z"
   },
   {
    "duration": 105,
    "start_time": "2022-05-15T13:40:16.970Z"
   },
   {
    "duration": 8,
    "start_time": "2022-05-15T13:40:17.078Z"
   },
   {
    "duration": 34,
    "start_time": "2022-05-15T13:40:17.090Z"
   },
   {
    "duration": 10,
    "start_time": "2022-05-15T13:40:17.126Z"
   },
   {
    "duration": 16,
    "start_time": "2022-05-15T13:40:17.139Z"
   },
   {
    "duration": 29,
    "start_time": "2022-05-15T13:40:17.157Z"
   },
   {
    "duration": 20,
    "start_time": "2022-05-15T13:40:17.225Z"
   },
   {
    "duration": 6,
    "start_time": "2022-05-15T13:40:26.685Z"
   },
   {
    "duration": 7,
    "start_time": "2022-05-15T13:40:29.041Z"
   },
   {
    "duration": 1297,
    "start_time": "2022-05-15T13:40:33.376Z"
   },
   {
    "duration": 43,
    "start_time": "2022-05-15T13:40:38.025Z"
   },
   {
    "duration": 6,
    "start_time": "2022-05-15T13:44:07.827Z"
   },
   {
    "duration": 2443,
    "start_time": "2022-05-15T13:44:09.570Z"
   },
   {
    "duration": 42,
    "start_time": "2022-05-15T13:44:12.016Z"
   },
   {
    "duration": 4,
    "start_time": "2022-05-15T13:44:45.318Z"
   },
   {
    "duration": 147,
    "start_time": "2022-05-15T13:44:45.325Z"
   },
   {
    "duration": 113,
    "start_time": "2022-05-15T13:44:45.476Z"
   },
   {
    "duration": 9,
    "start_time": "2022-05-15T13:44:45.592Z"
   },
   {
    "duration": 8,
    "start_time": "2022-05-15T13:44:45.624Z"
   },
   {
    "duration": 12,
    "start_time": "2022-05-15T13:44:45.634Z"
   },
   {
    "duration": 16,
    "start_time": "2022-05-15T13:44:45.648Z"
   },
   {
    "duration": 59,
    "start_time": "2022-05-15T13:44:45.667Z"
   },
   {
    "duration": 20,
    "start_time": "2022-05-15T13:44:45.728Z"
   },
   {
    "duration": 7,
    "start_time": "2022-05-15T13:44:45.751Z"
   },
   {
    "duration": 7,
    "start_time": "2022-05-15T13:44:49.345Z"
   },
   {
    "duration": 1315,
    "start_time": "2022-05-15T13:44:50.453Z"
   },
   {
    "duration": 36,
    "start_time": "2022-05-15T13:44:51.771Z"
   },
   {
    "duration": 6,
    "start_time": "2022-05-15T13:45:43.898Z"
   },
   {
    "duration": 5,
    "start_time": "2022-05-15T13:45:57.010Z"
   },
   {
    "duration": 6918,
    "start_time": "2022-05-15T13:45:57.698Z"
   },
   {
    "duration": 7,
    "start_time": "2022-05-15T13:47:37.335Z"
   },
   {
    "duration": 37,
    "start_time": "2022-05-15T13:47:38.220Z"
   },
   {
    "duration": 5,
    "start_time": "2022-05-15T13:47:57.208Z"
   },
   {
    "duration": 40,
    "start_time": "2022-05-15T13:47:57.568Z"
   },
   {
    "duration": 4,
    "start_time": "2022-05-15T13:49:42.921Z"
   },
   {
    "duration": 175,
    "start_time": "2022-05-15T13:49:42.928Z"
   },
   {
    "duration": 105,
    "start_time": "2022-05-15T13:49:43.105Z"
   },
   {
    "duration": 18,
    "start_time": "2022-05-15T13:49:43.213Z"
   },
   {
    "duration": 12,
    "start_time": "2022-05-15T13:49:43.234Z"
   },
   {
    "duration": 11,
    "start_time": "2022-05-15T13:49:43.248Z"
   },
   {
    "duration": 14,
    "start_time": "2022-05-15T13:49:43.261Z"
   },
   {
    "duration": 64,
    "start_time": "2022-05-15T13:49:43.277Z"
   },
   {
    "duration": 20,
    "start_time": "2022-05-15T13:49:43.343Z"
   },
   {
    "duration": 8,
    "start_time": "2022-05-15T13:49:43.365Z"
   },
   {
    "duration": 6,
    "start_time": "2022-05-15T13:49:47.792Z"
   },
   {
    "duration": 1889,
    "start_time": "2022-05-15T13:49:48.361Z"
   },
   {
    "duration": 5,
    "start_time": "2022-05-15T13:52:01.660Z"
   },
   {
    "duration": 159,
    "start_time": "2022-05-15T13:52:01.668Z"
   },
   {
    "duration": 117,
    "start_time": "2022-05-15T13:52:01.831Z"
   },
   {
    "duration": 11,
    "start_time": "2022-05-15T13:52:01.951Z"
   },
   {
    "duration": 13,
    "start_time": "2022-05-15T13:52:01.966Z"
   },
   {
    "duration": 44,
    "start_time": "2022-05-15T13:52:01.981Z"
   },
   {
    "duration": 14,
    "start_time": "2022-05-15T13:52:02.027Z"
   },
   {
    "duration": 42,
    "start_time": "2022-05-15T13:52:02.043Z"
   },
   {
    "duration": 40,
    "start_time": "2022-05-15T13:52:02.087Z"
   },
   {
    "duration": 15,
    "start_time": "2022-05-15T13:52:02.130Z"
   },
   {
    "duration": 7,
    "start_time": "2022-05-15T13:52:04.463Z"
   },
   {
    "duration": 1244,
    "start_time": "2022-05-15T13:52:05.529Z"
   },
   {
    "duration": 37,
    "start_time": "2022-05-15T13:52:09.752Z"
   },
   {
    "duration": 4,
    "start_time": "2022-05-15T13:54:21.097Z"
   },
   {
    "duration": 145,
    "start_time": "2022-05-15T13:54:21.103Z"
   },
   {
    "duration": 112,
    "start_time": "2022-05-15T13:54:21.250Z"
   },
   {
    "duration": 8,
    "start_time": "2022-05-15T13:54:21.364Z"
   },
   {
    "duration": 16,
    "start_time": "2022-05-15T13:54:21.375Z"
   },
   {
    "duration": 24,
    "start_time": "2022-05-15T13:54:21.393Z"
   },
   {
    "duration": 13,
    "start_time": "2022-05-15T13:54:21.423Z"
   },
   {
    "duration": 29,
    "start_time": "2022-05-15T13:54:21.438Z"
   },
   {
    "duration": 20,
    "start_time": "2022-05-15T13:54:21.469Z"
   },
   {
    "duration": 35,
    "start_time": "2022-05-15T13:54:21.491Z"
   },
   {
    "duration": 7,
    "start_time": "2022-05-15T13:54:24.967Z"
   },
   {
    "duration": 1230,
    "start_time": "2022-05-15T13:54:26.715Z"
   },
   {
    "duration": 38,
    "start_time": "2022-05-15T13:54:30.213Z"
   },
   {
    "duration": 8,
    "start_time": "2022-05-15T13:59:17.715Z"
   },
   {
    "duration": 4,
    "start_time": "2022-05-15T13:59:18.916Z"
   },
   {
    "duration": 6,
    "start_time": "2022-05-15T13:59:19.892Z"
   },
   {
    "duration": 12,
    "start_time": "2022-05-15T13:59:25.770Z"
   },
   {
    "duration": 4,
    "start_time": "2022-05-15T14:02:02.830Z"
   },
   {
    "duration": 167,
    "start_time": "2022-05-15T14:02:02.837Z"
   },
   {
    "duration": 108,
    "start_time": "2022-05-15T14:02:03.007Z"
   },
   {
    "duration": 23,
    "start_time": "2022-05-15T14:02:03.125Z"
   },
   {
    "duration": 27,
    "start_time": "2022-05-15T14:02:03.150Z"
   },
   {
    "duration": 34,
    "start_time": "2022-05-15T14:02:03.179Z"
   },
   {
    "duration": 23,
    "start_time": "2022-05-15T14:02:03.216Z"
   },
   {
    "duration": 6,
    "start_time": "2022-05-15T14:02:08.375Z"
   },
   {
    "duration": 29,
    "start_time": "2022-05-15T14:02:10.405Z"
   },
   {
    "duration": 23,
    "start_time": "2022-05-15T14:02:11.490Z"
   },
   {
    "duration": 6,
    "start_time": "2022-05-15T14:02:12.062Z"
   },
   {
    "duration": 1230,
    "start_time": "2022-05-15T14:02:12.519Z"
   },
   {
    "duration": 38,
    "start_time": "2022-05-15T14:02:13.752Z"
   },
   {
    "duration": 8,
    "start_time": "2022-05-15T14:02:15.390Z"
   },
   {
    "duration": 5,
    "start_time": "2022-05-15T14:02:17.195Z"
   },
   {
    "duration": 7,
    "start_time": "2022-05-15T14:02:19.152Z"
   },
   {
    "duration": 16,
    "start_time": "2022-05-15T14:02:20.502Z"
   },
   {
    "duration": 30,
    "start_time": "2022-05-15T14:06:13.021Z"
   },
   {
    "duration": 9,
    "start_time": "2022-05-15T14:06:29.762Z"
   },
   {
    "duration": 11,
    "start_time": "2022-05-15T14:06:32.996Z"
   },
   {
    "duration": 19,
    "start_time": "2022-05-15T14:06:33.788Z"
   },
   {
    "duration": 5,
    "start_time": "2022-05-15T14:06:44.638Z"
   },
   {
    "duration": 11,
    "start_time": "2022-05-15T14:10:39.957Z"
   },
   {
    "duration": 11,
    "start_time": "2022-05-15T14:11:07.955Z"
   },
   {
    "duration": 12,
    "start_time": "2022-05-15T14:11:18.150Z"
   },
   {
    "duration": 10,
    "start_time": "2022-05-15T14:11:37.986Z"
   },
   {
    "duration": 11,
    "start_time": "2022-05-15T14:16:56.750Z"
   },
   {
    "duration": 70,
    "start_time": "2022-05-15T14:19:30.692Z"
   },
   {
    "duration": 22,
    "start_time": "2022-05-15T14:20:53.973Z"
   },
   {
    "duration": 102,
    "start_time": "2022-05-15T14:21:08.335Z"
   },
   {
    "duration": 68,
    "start_time": "2022-05-15T14:21:13.789Z"
   },
   {
    "duration": 1268,
    "start_time": "2022-05-15T14:22:05.203Z"
   },
   {
    "duration": 6,
    "start_time": "2022-05-15T14:22:27.349Z"
   },
   {
    "duration": 47,
    "start_time": "2022-05-15T14:22:29.712Z"
   },
   {
    "duration": 467,
    "start_time": "2022-05-15T14:22:58.242Z"
   },
   {
    "duration": 36,
    "start_time": "2022-05-15T14:23:04.536Z"
   },
   {
    "duration": 28,
    "start_time": "2022-05-15T14:25:05.973Z"
   },
   {
    "duration": 30,
    "start_time": "2022-05-15T14:25:51.632Z"
   },
   {
    "duration": 1605,
    "start_time": "2022-05-15T14:26:35.149Z"
   },
   {
    "duration": 39,
    "start_time": "2022-05-15T14:28:57.890Z"
   },
   {
    "duration": 46,
    "start_time": "2022-05-15T14:30:01.390Z"
   },
   {
    "duration": 28,
    "start_time": "2022-05-15T14:30:40.611Z"
   },
   {
    "duration": 28,
    "start_time": "2022-05-15T14:31:12.081Z"
   },
   {
    "duration": 970,
    "start_time": "2022-05-15T14:31:23.099Z"
   },
   {
    "duration": 11,
    "start_time": "2022-05-15T14:31:58.717Z"
   },
   {
    "duration": 23,
    "start_time": "2022-05-15T14:32:05.242Z"
   },
   {
    "duration": 227,
    "start_time": "2022-05-15T14:32:32.727Z"
   },
   {
    "duration": 249,
    "start_time": "2022-05-15T14:33:03.942Z"
   },
   {
    "duration": 23,
    "start_time": "2022-05-15T14:33:19.636Z"
   },
   {
    "duration": 202,
    "start_time": "2022-05-15T14:33:23.463Z"
   },
   {
    "duration": 7,
    "start_time": "2022-05-15T14:33:29.111Z"
   },
   {
    "duration": 21,
    "start_time": "2022-05-15T14:33:42.989Z"
   },
   {
    "duration": 35,
    "start_time": "2022-05-15T14:34:46.825Z"
   },
   {
    "duration": 374,
    "start_time": "2022-05-15T14:34:56.077Z"
   },
   {
    "duration": 269,
    "start_time": "2022-05-15T14:35:33.924Z"
   },
   {
    "duration": 227,
    "start_time": "2022-05-15T14:35:37.367Z"
   },
   {
    "duration": 16,
    "start_time": "2022-05-15T14:35:42.897Z"
   },
   {
    "duration": 750,
    "start_time": "2022-05-15T14:35:56.423Z"
   },
   {
    "duration": 20,
    "start_time": "2022-05-15T14:36:23.293Z"
   },
   {
    "duration": 7,
    "start_time": "2022-05-15T14:36:29.406Z"
   },
   {
    "duration": 548,
    "start_time": "2022-05-15T14:36:43.512Z"
   },
   {
    "duration": 20,
    "start_time": "2022-05-15T14:36:48.024Z"
   },
   {
    "duration": 5,
    "start_time": "2022-05-15T14:39:09.004Z"
   },
   {
    "duration": 122,
    "start_time": "2022-05-15T14:39:17.594Z"
   },
   {
    "duration": 116,
    "start_time": "2022-05-15T14:40:28.586Z"
   },
   {
    "duration": 4,
    "start_time": "2022-05-15T14:40:39.663Z"
   },
   {
    "duration": 179,
    "start_time": "2022-05-15T14:40:39.670Z"
   },
   {
    "duration": 110,
    "start_time": "2022-05-15T14:40:39.852Z"
   },
   {
    "duration": 8,
    "start_time": "2022-05-15T14:40:39.964Z"
   },
   {
    "duration": 11,
    "start_time": "2022-05-15T14:40:39.976Z"
   },
   {
    "duration": 8,
    "start_time": "2022-05-15T14:40:39.989Z"
   },
   {
    "duration": 13,
    "start_time": "2022-05-15T14:40:40.024Z"
   },
   {
    "duration": 6,
    "start_time": "2022-05-15T14:40:40.040Z"
   },
   {
    "duration": 31,
    "start_time": "2022-05-15T14:40:40.048Z"
   },
   {
    "duration": 54,
    "start_time": "2022-05-15T14:40:40.081Z"
   },
   {
    "duration": 6,
    "start_time": "2022-05-15T14:40:40.139Z"
   },
   {
    "duration": 1250,
    "start_time": "2022-05-15T14:40:40.148Z"
   },
   {
    "duration": 42,
    "start_time": "2022-05-15T14:40:41.400Z"
   },
   {
    "duration": 12,
    "start_time": "2022-05-15T14:40:41.445Z"
   },
   {
    "duration": 7,
    "start_time": "2022-05-15T14:40:41.459Z"
   },
   {
    "duration": 8,
    "start_time": "2022-05-15T14:40:41.468Z"
   },
   {
    "duration": 14,
    "start_time": "2022-05-15T14:40:41.479Z"
   },
   {
    "duration": 21,
    "start_time": "2022-05-15T14:40:41.524Z"
   },
   {
    "duration": 10,
    "start_time": "2022-05-15T14:40:41.547Z"
   },
   {
    "duration": 10,
    "start_time": "2022-05-15T14:40:41.560Z"
   },
   {
    "duration": 51,
    "start_time": "2022-05-15T14:40:41.573Z"
   },
   {
    "duration": 6,
    "start_time": "2022-05-15T14:40:41.627Z"
   },
   {
    "duration": 62,
    "start_time": "2022-05-15T14:40:41.635Z"
   },
   {
    "duration": 579,
    "start_time": "2022-05-15T14:40:41.699Z"
   },
   {
    "duration": 55,
    "start_time": "2022-05-15T14:40:42.280Z"
   },
   {
    "duration": 32,
    "start_time": "2022-05-15T14:40:42.337Z"
   },
   {
    "duration": 1231,
    "start_time": "2022-05-15T14:40:42.372Z"
   },
   {
    "duration": 682,
    "start_time": "2022-05-15T14:40:43.606Z"
   },
   {
    "duration": 210,
    "start_time": "2022-05-15T14:40:44.293Z"
   },
   {
    "duration": 286,
    "start_time": "2022-05-15T14:40:44.506Z"
   },
   {
    "duration": 51,
    "start_time": "2022-05-15T14:40:44.794Z"
   },
   {
    "duration": 27,
    "start_time": "2022-05-15T14:40:44.847Z"
   },
   {
    "duration": 1231,
    "start_time": "2022-05-15T14:40:44.876Z"
   },
   {
    "duration": 21,
    "start_time": "2022-05-15T14:40:46.110Z"
   },
   {
    "duration": 22,
    "start_time": "2022-05-15T14:40:46.133Z"
   },
   {
    "duration": 251,
    "start_time": "2022-05-15T14:40:46.158Z"
   },
   {
    "duration": 30,
    "start_time": "2022-05-15T14:40:46.412Z"
   },
   {
    "duration": 233,
    "start_time": "2022-05-15T14:40:46.445Z"
   },
   {
    "duration": 7,
    "start_time": "2022-05-15T14:40:46.681Z"
   },
   {
    "duration": 42,
    "start_time": "2022-05-15T14:40:46.690Z"
   },
   {
    "duration": 35,
    "start_time": "2022-05-15T14:40:46.734Z"
   },
   {
    "duration": 297,
    "start_time": "2022-05-15T14:40:46.771Z"
   },
   {
    "duration": 253,
    "start_time": "2022-05-15T14:40:47.071Z"
   },
   {
    "duration": 18,
    "start_time": "2022-05-15T14:40:47.327Z"
   },
   {
    "duration": 752,
    "start_time": "2022-05-15T14:40:47.348Z"
   },
   {
    "duration": 35,
    "start_time": "2022-05-15T14:40:48.103Z"
   },
   {
    "duration": 13,
    "start_time": "2022-05-15T14:40:48.140Z"
   },
   {
    "duration": 557,
    "start_time": "2022-05-15T14:40:48.155Z"
   },
   {
    "duration": 31,
    "start_time": "2022-05-15T14:40:48.714Z"
   }
  ],
  "kernelspec": {
   "display_name": "Python 3 (ipykernel)",
   "language": "python",
   "name": "python3"
  },
  "language_info": {
   "codemirror_mode": {
    "name": "ipython",
    "version": 3
   },
   "file_extension": ".py",
   "mimetype": "text/x-python",
   "name": "python",
   "nbconvert_exporter": "python",
   "pygments_lexer": "ipython3",
   "version": "3.9.5"
  },
  "toc": {
   "base_numbering": 1,
   "nav_menu": {},
   "number_sections": true,
   "sideBar": true,
   "skip_h1_title": true,
   "title_cell": "Содержание",
   "title_sidebar": "Contents",
   "toc_cell": true,
   "toc_position": {
    "height": "calc(100% - 180px)",
    "left": "10px",
    "top": "150px",
    "width": "311.969px"
   },
   "toc_section_display": true,
   "toc_window_display": true
  }
 },
 "nbformat": 4,
 "nbformat_minor": 2
}
