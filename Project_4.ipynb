{
 "cells": [
  {
   "cell_type": "markdown",
   "metadata": {},
   "source": [
    "# Определение перспективного тарифа для телеком-компании\n",
    "__________"
   ]
  },
  {
   "cell_type": "markdown",
   "metadata": {
    "toc": true
   },
   "source": [
    "<h1>Содержание<span class=\"tocSkip\"></span></h1>\n",
    "<div class=\"toc\"><ul class=\"toc-item\"><li><span><a href=\"#Описание-исследования\" data-toc-modified-id=\"Описание-исследования-1\"><span class=\"toc-item-num\">1&nbsp;&nbsp;</span>Описание исследования</a></span><ul class=\"toc-item\"><li><span><a href=\"#Цель-исследования\" data-toc-modified-id=\"Цель-исследования-1.1\"><span class=\"toc-item-num\">1.1&nbsp;&nbsp;</span>Цель исследования</a></span></li><li><span><a href=\"#Задачи-исследования\" data-toc-modified-id=\"Задачи-исследования-1.2\"><span class=\"toc-item-num\">1.2&nbsp;&nbsp;</span>Задачи исследования</a></span></li><li><span><a href=\"#Описание-данных\" data-toc-modified-id=\"Описание-данных-1.3\"><span class=\"toc-item-num\">1.3&nbsp;&nbsp;</span>Описание данных</a></span></li><li><span><a href=\"#Описание-тарифов\" data-toc-modified-id=\"Описание-тарифов-1.4\"><span class=\"toc-item-num\">1.4&nbsp;&nbsp;</span>Описание тарифов</a></span></li></ul></li><li><span><a href=\"#Изучение-общей-информации\" data-toc-modified-id=\"Изучение-общей-информации-2\"><span class=\"toc-item-num\">2&nbsp;&nbsp;</span>Изучение общей информации</a></span><ul class=\"toc-item\"><li><span><a href=\"#Вывод\" data-toc-modified-id=\"Вывод-2.1\"><span class=\"toc-item-num\">2.1&nbsp;&nbsp;</span>Вывод</a></span></li></ul></li><li><span><a href=\"#Подготовка-данных\" data-toc-modified-id=\"Подготовка-данных-3\"><span class=\"toc-item-num\">3&nbsp;&nbsp;</span>Подготовка данных</a></span><ul class=\"toc-item\"><li><span><a href=\"#Приведение-данных-к-нужным-типам\" data-toc-modified-id=\"Приведение-данных-к-нужным-типам-3.1\"><span class=\"toc-item-num\">3.1&nbsp;&nbsp;</span>Приведение данных к нужным типам</a></span></li><li><span><a href=\"#Проверка-на-наличие-ошибок\" data-toc-modified-id=\"Проверка-на-наличие-ошибок-3.2\"><span class=\"toc-item-num\">3.2&nbsp;&nbsp;</span>Проверка на наличие ошибок</a></span></li><li><span><a href=\"#Предварительные-расчеты\" data-toc-modified-id=\"Предварительные-расчеты-3.3\"><span class=\"toc-item-num\">3.3&nbsp;&nbsp;</span>Предварительные расчеты</a></span></li><li><span><a href=\"#Вывод\" data-toc-modified-id=\"Вывод-3.4\"><span class=\"toc-item-num\">3.4&nbsp;&nbsp;</span>Вывод</a></span></li></ul></li><li><span><a href=\"#Анализ-данных\" data-toc-modified-id=\"Анализ-данных-4\"><span class=\"toc-item-num\">4&nbsp;&nbsp;</span>Анализ данных</a></span><ul class=\"toc-item\"><li><span><a href=\"#Вывод\" data-toc-modified-id=\"Вывод-4.1\"><span class=\"toc-item-num\">4.1&nbsp;&nbsp;</span>Вывод</a></span></li></ul></li><li><span><a href=\"#Проверка-гипотез\" data-toc-modified-id=\"Проверка-гипотез-5\"><span class=\"toc-item-num\">5&nbsp;&nbsp;</span>Проверка гипотез</a></span><ul class=\"toc-item\"><li><span><a href=\"#Cредняя-выручка-пользователей-тарифов-«Ультра»-и-«Смарт»-различаются\" data-toc-modified-id=\"Cредняя-выручка-пользователей-тарифов-«Ультра»-и-«Смарт»-различаются-5.1\"><span class=\"toc-item-num\">5.1&nbsp;&nbsp;</span>Cредняя выручка пользователей тарифов «Ультра» и «Смарт» различаются</a></span></li><li><span><a href=\"#Cредняя-выручка-пользователей-из-Москвы-отличается-от-выручки-пользователей-из-других-регионов\" data-toc-modified-id=\"Cредняя-выручка-пользователей-из-Москвы-отличается-от-выручки-пользователей-из-других-регионов-5.2\"><span class=\"toc-item-num\">5.2&nbsp;&nbsp;</span>Cредняя выручка пользователей из Москвы отличается от выручки пользователей из других регионов</a></span></li><li><span><a href=\"#Вывод\" data-toc-modified-id=\"Вывод-5.3\"><span class=\"toc-item-num\">5.3&nbsp;&nbsp;</span>Вывод</a></span></li></ul></li><li><span><a href=\"#Общий-вывод\" data-toc-modified-id=\"Общий-вывод-6\"><span class=\"toc-item-num\">6&nbsp;&nbsp;</span>Общий вывод</a></span></li></ul></div>"
   ]
  },
  {
   "cell_type": "markdown",
   "metadata": {},
   "source": [
    "\n",
    "## Описание исследования\n",
    "\n",
    "Компания «Мегалайн» — федеральный оператор сотовой связи - предлагает клиентам два тарифных плана: «Смарт» и «Ультра». Чтобы скорректировать рекламный бюджет, коммерческий департамент хочет понять, какой тариф приносит больше денег.\n",
    "_____\n",
    "\n",
    "### Цель исследования\n",
    "\n",
    "Сделать предварительный анализ тарифов на небольшой выборке клиентов, используя данные 500 пользователей «Мегалайна», проанализировать поведение клиентов и сделать вывод — какой тариф лучше.\n",
    "______\n",
    "\n",
    "### Задачи исследования\n",
    "\n",
    "**1. Изучить общую информацию.**\n",
    "\n",
    "**2. Осуществить подготовку данных.**\n",
    "- Привести данные к нужным типам;\n",
    "- Найти и исправить ошибки в данных;\n",
    "- Посчитать для каждого пользователя:\n",
    " * количество сделанных звонков и израсходованных минут разговора по месяцам;\n",
    " * количество отправленных сообщений по месяцам;\n",
    " * объем израсходованного интернет-трафика по месяцам;\n",
    " * помесячную выручку с каждого пользователя.\n",
    "\n",
    "**3. Провести анализ данных.**\n",
    "* Описать поведение клиентов оператора, исходя из выборки. \n",
    "* Определить сколько минут разговора, сколько сообщений и какой объём интернет-трафика требуется пользователям каждого тарифа в месяц. \n",
    "* Посчитать среднее количество, дисперсию и стандартное отклонение, построить гистограммы и описать распределения.\n",
    " \n",
    "**4. Проверить гипотезы.**\n",
    "* средняя выручка пользователей тарифов «Ультра» и «Смарт» различаются;\n",
    "* средняя выручка пользователей из Москвы отличается от выручки пользователей из других регионов.\n",
    "______\n",
    "    \n",
    "### Описание данных\n",
    "\n",
    "В качестве исходных данных даны 5 таблиц:\n",
    "\n",
    "**Таблица `users` (информация о пользователях):**\n",
    "* `user_id` — уникальный идентификатор пользователя\n",
    "* `first_name` — имя пользователя\n",
    "* `last_name` — фамилия пользователя\n",
    "* `age` — возраст пользователя (годы)\n",
    "* `reg_date` — дата подключения тарифа (день, месяц, год)\n",
    "* `churn_date` — дата прекращения пользования тарифом (если значение пропущено, то тариф ещё действовал на момент выгрузки данных)\n",
    "* `city` — город проживания пользователя\n",
    "* `tarif` — название тарифного плана\n",
    "\n",
    "**Таблица `calls` (информация о звонках):**\n",
    "* `id` — уникальный номер звонка\n",
    "* `call_date` — дата звонка\n",
    "* `duration` — длительность звонка в минутах\n",
    "* `user_id` — идентификатор пользователя, сделавшего звонок\n",
    "\n",
    "**Таблица `messages` (информация о сообщениях):**\n",
    "* `id` — уникальный номер сообщения\n",
    "* `message_date` — дата сообщения\n",
    "* `user_id` — идентификатор пользователя, отправившего сообщение\n",
    "\n",
    "**Таблица `internet` (информация об интернет-сессиях):**\n",
    "* `id` — уникальный номер сессии\n",
    "* `mb_used` — объём потраченного за сессию интернет-трафика (в мегабайтах)\n",
    "* `session_date` — дата интернет-сессии\n",
    "* `user_id` — идентификатор пользователя\n",
    "\n",
    "**Таблица `tariffs` (информация о тарифах):**\n",
    "* `tariff_name` — название тарифа\n",
    "* `rub_monthly_fee` — ежемесячная абонентская плата в рублях\n",
    "* `minutes_included` — количество минут разговора в месяц, включённых в абонентскую плату\n",
    "* `messages_included` — количество сообщений в месяц, включённых в абонентскую плату\n",
    "* `mb_per_month_included` — объём интернет-трафика, включённого в абонентскую плату (в мегабайтах)\n",
    "* `rub_per_minute` — стоимость минуты разговора сверх тарифного пакета (например, если в тарифе 100 минут разговора в месяц, то со 101 минуты будет взиматься плата)\n",
    "* `rub_per_message` — стоимость отправки сообщения сверх тарифного пакета\n",
    "* `rub_per_gb` — стоимость дополнительного гигабайта интернет-трафика сверх тарифного пакета (1 гигабайт = 1024 мегабайта)\n",
    "\n",
    "_______________\n",
    "\n",
    "### Описание тарифов\n",
    "\n",
    "* **Тариф «Смарт»**\n",
    "Ежемесячная плата: 550 рублей\n",
    "Включено 500 минут разговора, 50 сообщений и 15 Гб интернет-трафика\n",
    "Стоимость услуг сверх тарифного пакета: 1. минута разговора: 3 рубля («Мегалайн» всегда округляет вверх значения минут и мегабайтов. Если пользователь проговорил всего 1 секунду, в тарифе засчитывается целая минута); 2. сообщение: 3 рубля; 3. 1 Гб интернет-трафика: 200 рублей.\n",
    "* **Тариф «Ультра»**\n",
    "Ежемесячная плата: 1950 рублей\n",
    "Включено 3000 минут разговора, 1000 сообщений и 30 Гб интернет-трафика\n",
    "Стоимость услуг сверх тарифного пакета: 1. минута разговора: 1 рубль; 2. сообщение: 1 рубль; 3. 1 Гб интернет-трафика: 150 рублей.\n",
    "\n",
    "**Примечание:**\n",
    "«Мегалайн» всегда округляет секунды до минут, а мегабайты — до гигабайт. Каждый звонок округляется отдельно: даже если он длился всего 1 секунду, будет засчитан как 1 минута.\n",
    "Для веб-трафика отдельные сессии не считаются. Вместо этого общая сумма за месяц округляется в бо́льшую сторону. Если абонент использует 1025 мегабайт в этом месяце, с него возьмут плату за 2 гигабайта.\n",
    "\n",
    "\n",
    "\n"
   ]
  },
  {
   "cell_type": "markdown",
   "metadata": {},
   "source": [
    "## Изучение общей информации"
   ]
  },
  {
   "cell_type": "markdown",
   "metadata": {},
   "source": [
    "Для начала откроем файлы с данными и изучим общую информацию."
   ]
  },
  {
   "cell_type": "code",
   "execution_count": 53,
   "metadata": {},
   "outputs": [],
   "source": [
    "import pandas as pd\n",
    "import numpy as np\n",
    "\n",
    "import calendar  \n",
    "import datetime\n",
    "\n",
    "import matplotlib.pyplot as plt\n",
    "import seaborn as sns\n",
    "\n",
    "from scipy import stats as st\n",
    "\n",
    "pd.options.mode.chained_assignment = None"
   ]
  },
  {
   "cell_type": "code",
   "execution_count": 28,
   "metadata": {},
   "outputs": [],
   "source": [
    "users = pd.read_csv('/datasets/users.csv')\n",
    "calls = pd.read_csv('/datasets/calls.csv')\n",
    "messages = pd.read_csv('/datasets/messages.csv')\n",
    "internet = pd.read_csv('/datasets/internet.csv')\n",
    "tariffs = pd.read_csv('/datasets/tariffs.csv')"
   ]
  },
  {
   "cell_type": "code",
   "execution_count": 29,
   "metadata": {},
   "outputs": [
    {
     "name": "stdout",
     "output_type": "stream",
     "text": [
      "\u001b[31m Информация о пользователях \u001b[0m\n",
      "<class 'pandas.core.frame.DataFrame'>\n",
      "RangeIndex: 500 entries, 0 to 499\n",
      "Data columns (total 8 columns):\n",
      " #   Column      Non-Null Count  Dtype \n",
      "---  ------      --------------  ----- \n",
      " 0   user_id     500 non-null    int64 \n",
      " 1   age         500 non-null    int64 \n",
      " 2   churn_date  38 non-null     object\n",
      " 3   city        500 non-null    object\n",
      " 4   first_name  500 non-null    object\n",
      " 5   last_name   500 non-null    object\n",
      " 6   reg_date    500 non-null    object\n",
      " 7   tariff      500 non-null    object\n",
      "dtypes: int64(2), object(6)\n",
      "memory usage: 31.4+ KB\n",
      "None \n",
      "\n",
      "\u001b[31m Информация о звонках \u001b[0m\n",
      "<class 'pandas.core.frame.DataFrame'>\n",
      "RangeIndex: 202607 entries, 0 to 202606\n",
      "Data columns (total 4 columns):\n",
      " #   Column     Non-Null Count   Dtype  \n",
      "---  ------     --------------   -----  \n",
      " 0   id         202607 non-null  object \n",
      " 1   call_date  202607 non-null  object \n",
      " 2   duration   202607 non-null  float64\n",
      " 3   user_id    202607 non-null  int64  \n",
      "dtypes: float64(1), int64(1), object(2)\n",
      "memory usage: 6.2+ MB\n",
      "None \n",
      "\n",
      "\u001b[31m Информация о сообщениях \u001b[0m\n",
      "<class 'pandas.core.frame.DataFrame'>\n",
      "RangeIndex: 123036 entries, 0 to 123035\n",
      "Data columns (total 3 columns):\n",
      " #   Column        Non-Null Count   Dtype \n",
      "---  ------        --------------   ----- \n",
      " 0   id            123036 non-null  object\n",
      " 1   message_date  123036 non-null  object\n",
      " 2   user_id       123036 non-null  int64 \n",
      "dtypes: int64(1), object(2)\n",
      "memory usage: 2.8+ MB\n",
      "None \n",
      "\n",
      "\u001b[31m Информация об интернет-сессиях \u001b[0m\n",
      "<class 'pandas.core.frame.DataFrame'>\n",
      "RangeIndex: 149396 entries, 0 to 149395\n",
      "Data columns (total 5 columns):\n",
      " #   Column        Non-Null Count   Dtype  \n",
      "---  ------        --------------   -----  \n",
      " 0   Unnamed: 0    149396 non-null  int64  \n",
      " 1   id            149396 non-null  object \n",
      " 2   mb_used       149396 non-null  float64\n",
      " 3   session_date  149396 non-null  object \n",
      " 4   user_id       149396 non-null  int64  \n",
      "dtypes: float64(1), int64(2), object(2)\n",
      "memory usage: 5.7+ MB\n",
      "None \n",
      "\n",
      "\u001b[31m Информация о тарифах \u001b[0m\n",
      "<class 'pandas.core.frame.DataFrame'>\n",
      "RangeIndex: 2 entries, 0 to 1\n",
      "Data columns (total 8 columns):\n",
      " #   Column                 Non-Null Count  Dtype \n",
      "---  ------                 --------------  ----- \n",
      " 0   messages_included      2 non-null      int64 \n",
      " 1   mb_per_month_included  2 non-null      int64 \n",
      " 2   minutes_included       2 non-null      int64 \n",
      " 3   rub_monthly_fee        2 non-null      int64 \n",
      " 4   rub_per_gb             2 non-null      int64 \n",
      " 5   rub_per_message        2 non-null      int64 \n",
      " 6   rub_per_minute         2 non-null      int64 \n",
      " 7   tariff_name            2 non-null      object\n",
      "dtypes: int64(7), object(1)\n",
      "memory usage: 256.0+ bytes\n",
      "None\n"
     ]
    }
   ],
   "source": [
    "print('\\033[31m','Информация о пользователях', '\\033[0m')\n",
    "print(users.info(), '\\n')\n",
    "\n",
    "print('\\033[31m','Информация о звонках', '\\033[0m')\n",
    "print(calls.info(), '\\n')\n",
    "\n",
    "print('\\033[31m','Информация о сообщениях','\\033[0m')\n",
    "print(messages.info(), '\\n')\n",
    "\n",
    "print('\\033[31m','Информация об интернет-сессиях', '\\033[0m')\n",
    "print(internet.info(), '\\n')\n",
    "\n",
    "print('\\033[31m','Информация о тарифах', '\\033[0m')\n",
    "print(tariffs.info())"
   ]
  },
  {
   "cell_type": "markdown",
   "metadata": {},
   "source": [
    "Также выведем первые строки каждой таблицы для визуального ознакомления."
   ]
  },
  {
   "cell_type": "code",
   "execution_count": 30,
   "metadata": {},
   "outputs": [
    {
     "name": "stdout",
     "output_type": "stream",
     "text": [
      "\u001b[31m Информация о пользователях \u001b[0m\n"
     ]
    },
    {
     "data": {
      "text/html": [
       "<div>\n",
       "<style scoped>\n",
       "    .dataframe tbody tr th:only-of-type {\n",
       "        vertical-align: middle;\n",
       "    }\n",
       "\n",
       "    .dataframe tbody tr th {\n",
       "        vertical-align: top;\n",
       "    }\n",
       "\n",
       "    .dataframe thead th {\n",
       "        text-align: right;\n",
       "    }\n",
       "</style>\n",
       "<table border=\"1\" class=\"dataframe\">\n",
       "  <thead>\n",
       "    <tr style=\"text-align: right;\">\n",
       "      <th></th>\n",
       "      <th>user_id</th>\n",
       "      <th>age</th>\n",
       "      <th>churn_date</th>\n",
       "      <th>city</th>\n",
       "      <th>first_name</th>\n",
       "      <th>last_name</th>\n",
       "      <th>reg_date</th>\n",
       "      <th>tariff</th>\n",
       "    </tr>\n",
       "  </thead>\n",
       "  <tbody>\n",
       "    <tr>\n",
       "      <th>0</th>\n",
       "      <td>1000</td>\n",
       "      <td>52</td>\n",
       "      <td>NaN</td>\n",
       "      <td>Краснодар</td>\n",
       "      <td>Рафаил</td>\n",
       "      <td>Верещагин</td>\n",
       "      <td>2018-05-25</td>\n",
       "      <td>ultra</td>\n",
       "    </tr>\n",
       "    <tr>\n",
       "      <th>1</th>\n",
       "      <td>1001</td>\n",
       "      <td>41</td>\n",
       "      <td>NaN</td>\n",
       "      <td>Москва</td>\n",
       "      <td>Иван</td>\n",
       "      <td>Ежов</td>\n",
       "      <td>2018-11-01</td>\n",
       "      <td>smart</td>\n",
       "    </tr>\n",
       "    <tr>\n",
       "      <th>2</th>\n",
       "      <td>1002</td>\n",
       "      <td>59</td>\n",
       "      <td>NaN</td>\n",
       "      <td>Стерлитамак</td>\n",
       "      <td>Евгений</td>\n",
       "      <td>Абрамович</td>\n",
       "      <td>2018-06-17</td>\n",
       "      <td>smart</td>\n",
       "    </tr>\n",
       "    <tr>\n",
       "      <th>3</th>\n",
       "      <td>1003</td>\n",
       "      <td>23</td>\n",
       "      <td>NaN</td>\n",
       "      <td>Москва</td>\n",
       "      <td>Белла</td>\n",
       "      <td>Белякова</td>\n",
       "      <td>2018-08-17</td>\n",
       "      <td>ultra</td>\n",
       "    </tr>\n",
       "    <tr>\n",
       "      <th>4</th>\n",
       "      <td>1004</td>\n",
       "      <td>68</td>\n",
       "      <td>NaN</td>\n",
       "      <td>Новокузнецк</td>\n",
       "      <td>Татьяна</td>\n",
       "      <td>Авдеенко</td>\n",
       "      <td>2018-05-14</td>\n",
       "      <td>ultra</td>\n",
       "    </tr>\n",
       "  </tbody>\n",
       "</table>\n",
       "</div>"
      ],
      "text/plain": [
       "   user_id  age churn_date         city first_name  last_name    reg_date  \\\n",
       "0     1000   52        NaN    Краснодар     Рафаил  Верещагин  2018-05-25   \n",
       "1     1001   41        NaN       Москва       Иван       Ежов  2018-11-01   \n",
       "2     1002   59        NaN  Стерлитамак    Евгений  Абрамович  2018-06-17   \n",
       "3     1003   23        NaN       Москва      Белла   Белякова  2018-08-17   \n",
       "4     1004   68        NaN  Новокузнецк    Татьяна   Авдеенко  2018-05-14   \n",
       "\n",
       "  tariff  \n",
       "0  ultra  \n",
       "1  smart  \n",
       "2  smart  \n",
       "3  ultra  \n",
       "4  ultra  "
      ]
     },
     "metadata": {},
     "output_type": "display_data"
    },
    {
     "name": "stdout",
     "output_type": "stream",
     "text": [
      "\u001b[31m Информация о звонках \u001b[0m\n"
     ]
    },
    {
     "data": {
      "text/html": [
       "<div>\n",
       "<style scoped>\n",
       "    .dataframe tbody tr th:only-of-type {\n",
       "        vertical-align: middle;\n",
       "    }\n",
       "\n",
       "    .dataframe tbody tr th {\n",
       "        vertical-align: top;\n",
       "    }\n",
       "\n",
       "    .dataframe thead th {\n",
       "        text-align: right;\n",
       "    }\n",
       "</style>\n",
       "<table border=\"1\" class=\"dataframe\">\n",
       "  <thead>\n",
       "    <tr style=\"text-align: right;\">\n",
       "      <th></th>\n",
       "      <th>id</th>\n",
       "      <th>call_date</th>\n",
       "      <th>duration</th>\n",
       "      <th>user_id</th>\n",
       "    </tr>\n",
       "  </thead>\n",
       "  <tbody>\n",
       "    <tr>\n",
       "      <th>0</th>\n",
       "      <td>1000_0</td>\n",
       "      <td>2018-07-25</td>\n",
       "      <td>0.00</td>\n",
       "      <td>1000</td>\n",
       "    </tr>\n",
       "    <tr>\n",
       "      <th>1</th>\n",
       "      <td>1000_1</td>\n",
       "      <td>2018-08-17</td>\n",
       "      <td>0.00</td>\n",
       "      <td>1000</td>\n",
       "    </tr>\n",
       "    <tr>\n",
       "      <th>2</th>\n",
       "      <td>1000_2</td>\n",
       "      <td>2018-06-11</td>\n",
       "      <td>2.85</td>\n",
       "      <td>1000</td>\n",
       "    </tr>\n",
       "    <tr>\n",
       "      <th>3</th>\n",
       "      <td>1000_3</td>\n",
       "      <td>2018-09-21</td>\n",
       "      <td>13.80</td>\n",
       "      <td>1000</td>\n",
       "    </tr>\n",
       "    <tr>\n",
       "      <th>4</th>\n",
       "      <td>1000_4</td>\n",
       "      <td>2018-12-15</td>\n",
       "      <td>5.18</td>\n",
       "      <td>1000</td>\n",
       "    </tr>\n",
       "  </tbody>\n",
       "</table>\n",
       "</div>"
      ],
      "text/plain": [
       "       id   call_date  duration  user_id\n",
       "0  1000_0  2018-07-25      0.00     1000\n",
       "1  1000_1  2018-08-17      0.00     1000\n",
       "2  1000_2  2018-06-11      2.85     1000\n",
       "3  1000_3  2018-09-21     13.80     1000\n",
       "4  1000_4  2018-12-15      5.18     1000"
      ]
     },
     "metadata": {},
     "output_type": "display_data"
    },
    {
     "name": "stdout",
     "output_type": "stream",
     "text": [
      "\u001b[31m Информация о сообщениях \u001b[0m\n"
     ]
    },
    {
     "data": {
      "text/html": [
       "<div>\n",
       "<style scoped>\n",
       "    .dataframe tbody tr th:only-of-type {\n",
       "        vertical-align: middle;\n",
       "    }\n",
       "\n",
       "    .dataframe tbody tr th {\n",
       "        vertical-align: top;\n",
       "    }\n",
       "\n",
       "    .dataframe thead th {\n",
       "        text-align: right;\n",
       "    }\n",
       "</style>\n",
       "<table border=\"1\" class=\"dataframe\">\n",
       "  <thead>\n",
       "    <tr style=\"text-align: right;\">\n",
       "      <th></th>\n",
       "      <th>id</th>\n",
       "      <th>message_date</th>\n",
       "      <th>user_id</th>\n",
       "    </tr>\n",
       "  </thead>\n",
       "  <tbody>\n",
       "    <tr>\n",
       "      <th>0</th>\n",
       "      <td>1000_0</td>\n",
       "      <td>2018-06-27</td>\n",
       "      <td>1000</td>\n",
       "    </tr>\n",
       "    <tr>\n",
       "      <th>1</th>\n",
       "      <td>1000_1</td>\n",
       "      <td>2018-10-08</td>\n",
       "      <td>1000</td>\n",
       "    </tr>\n",
       "    <tr>\n",
       "      <th>2</th>\n",
       "      <td>1000_2</td>\n",
       "      <td>2018-08-04</td>\n",
       "      <td>1000</td>\n",
       "    </tr>\n",
       "    <tr>\n",
       "      <th>3</th>\n",
       "      <td>1000_3</td>\n",
       "      <td>2018-06-16</td>\n",
       "      <td>1000</td>\n",
       "    </tr>\n",
       "    <tr>\n",
       "      <th>4</th>\n",
       "      <td>1000_4</td>\n",
       "      <td>2018-12-05</td>\n",
       "      <td>1000</td>\n",
       "    </tr>\n",
       "  </tbody>\n",
       "</table>\n",
       "</div>"
      ],
      "text/plain": [
       "       id message_date  user_id\n",
       "0  1000_0   2018-06-27     1000\n",
       "1  1000_1   2018-10-08     1000\n",
       "2  1000_2   2018-08-04     1000\n",
       "3  1000_3   2018-06-16     1000\n",
       "4  1000_4   2018-12-05     1000"
      ]
     },
     "metadata": {},
     "output_type": "display_data"
    },
    {
     "name": "stdout",
     "output_type": "stream",
     "text": [
      "\u001b[31m Информация об интернет-сессиях \u001b[0m\n"
     ]
    },
    {
     "data": {
      "text/html": [
       "<div>\n",
       "<style scoped>\n",
       "    .dataframe tbody tr th:only-of-type {\n",
       "        vertical-align: middle;\n",
       "    }\n",
       "\n",
       "    .dataframe tbody tr th {\n",
       "        vertical-align: top;\n",
       "    }\n",
       "\n",
       "    .dataframe thead th {\n",
       "        text-align: right;\n",
       "    }\n",
       "</style>\n",
       "<table border=\"1\" class=\"dataframe\">\n",
       "  <thead>\n",
       "    <tr style=\"text-align: right;\">\n",
       "      <th></th>\n",
       "      <th>Unnamed: 0</th>\n",
       "      <th>id</th>\n",
       "      <th>mb_used</th>\n",
       "      <th>session_date</th>\n",
       "      <th>user_id</th>\n",
       "    </tr>\n",
       "  </thead>\n",
       "  <tbody>\n",
       "    <tr>\n",
       "      <th>0</th>\n",
       "      <td>0</td>\n",
       "      <td>1000_0</td>\n",
       "      <td>112.95</td>\n",
       "      <td>2018-11-25</td>\n",
       "      <td>1000</td>\n",
       "    </tr>\n",
       "    <tr>\n",
       "      <th>1</th>\n",
       "      <td>1</td>\n",
       "      <td>1000_1</td>\n",
       "      <td>1052.81</td>\n",
       "      <td>2018-09-07</td>\n",
       "      <td>1000</td>\n",
       "    </tr>\n",
       "    <tr>\n",
       "      <th>2</th>\n",
       "      <td>2</td>\n",
       "      <td>1000_2</td>\n",
       "      <td>1197.26</td>\n",
       "      <td>2018-06-25</td>\n",
       "      <td>1000</td>\n",
       "    </tr>\n",
       "    <tr>\n",
       "      <th>3</th>\n",
       "      <td>3</td>\n",
       "      <td>1000_3</td>\n",
       "      <td>550.27</td>\n",
       "      <td>2018-08-22</td>\n",
       "      <td>1000</td>\n",
       "    </tr>\n",
       "    <tr>\n",
       "      <th>4</th>\n",
       "      <td>4</td>\n",
       "      <td>1000_4</td>\n",
       "      <td>302.56</td>\n",
       "      <td>2018-09-24</td>\n",
       "      <td>1000</td>\n",
       "    </tr>\n",
       "  </tbody>\n",
       "</table>\n",
       "</div>"
      ],
      "text/plain": [
       "   Unnamed: 0      id  mb_used session_date  user_id\n",
       "0           0  1000_0   112.95   2018-11-25     1000\n",
       "1           1  1000_1  1052.81   2018-09-07     1000\n",
       "2           2  1000_2  1197.26   2018-06-25     1000\n",
       "3           3  1000_3   550.27   2018-08-22     1000\n",
       "4           4  1000_4   302.56   2018-09-24     1000"
      ]
     },
     "metadata": {},
     "output_type": "display_data"
    },
    {
     "name": "stdout",
     "output_type": "stream",
     "text": [
      "\u001b[31m Информация о тарифах \u001b[0m\n"
     ]
    },
    {
     "data": {
      "text/html": [
       "<div>\n",
       "<style scoped>\n",
       "    .dataframe tbody tr th:only-of-type {\n",
       "        vertical-align: middle;\n",
       "    }\n",
       "\n",
       "    .dataframe tbody tr th {\n",
       "        vertical-align: top;\n",
       "    }\n",
       "\n",
       "    .dataframe thead th {\n",
       "        text-align: right;\n",
       "    }\n",
       "</style>\n",
       "<table border=\"1\" class=\"dataframe\">\n",
       "  <thead>\n",
       "    <tr style=\"text-align: right;\">\n",
       "      <th></th>\n",
       "      <th>messages_included</th>\n",
       "      <th>mb_per_month_included</th>\n",
       "      <th>minutes_included</th>\n",
       "      <th>rub_monthly_fee</th>\n",
       "      <th>rub_per_gb</th>\n",
       "      <th>rub_per_message</th>\n",
       "      <th>rub_per_minute</th>\n",
       "      <th>tariff_name</th>\n",
       "    </tr>\n",
       "  </thead>\n",
       "  <tbody>\n",
       "    <tr>\n",
       "      <th>0</th>\n",
       "      <td>50</td>\n",
       "      <td>15360</td>\n",
       "      <td>500</td>\n",
       "      <td>550</td>\n",
       "      <td>200</td>\n",
       "      <td>3</td>\n",
       "      <td>3</td>\n",
       "      <td>smart</td>\n",
       "    </tr>\n",
       "    <tr>\n",
       "      <th>1</th>\n",
       "      <td>1000</td>\n",
       "      <td>30720</td>\n",
       "      <td>3000</td>\n",
       "      <td>1950</td>\n",
       "      <td>150</td>\n",
       "      <td>1</td>\n",
       "      <td>1</td>\n",
       "      <td>ultra</td>\n",
       "    </tr>\n",
       "  </tbody>\n",
       "</table>\n",
       "</div>"
      ],
      "text/plain": [
       "   messages_included  mb_per_month_included  minutes_included  \\\n",
       "0                 50                  15360               500   \n",
       "1               1000                  30720              3000   \n",
       "\n",
       "   rub_monthly_fee  rub_per_gb  rub_per_message  rub_per_minute tariff_name  \n",
       "0              550         200                3               3       smart  \n",
       "1             1950         150                1               1       ultra  "
      ]
     },
     "metadata": {},
     "output_type": "display_data"
    }
   ],
   "source": [
    "print('\\033[31m','Информация о пользователях','\\033[0m')\n",
    "display(users.head())\n",
    "\n",
    "print('\\033[31m','Информация о звонках','\\033[0m')\n",
    "display(calls.head())\n",
    "\n",
    "print('\\033[31m','Информация о сообщениях','\\033[0m')\n",
    "display(messages.head())\n",
    "\n",
    "print('\\033[31m','Информация об интернет-сессиях','\\033[0m')\n",
    "display(internet.head())\n",
    "\n",
    "print('\\033[31m','Информация о тарифах','\\033[0m')\n",
    "display(tariffs.head())"
   ]
  },
  {
   "cell_type": "markdown",
   "metadata": {},
   "source": [
    "### Вывод"
   ]
  },
  {
   "cell_type": "markdown",
   "metadata": {},
   "source": [
    "В качестве исходных данных предоставлены 5 различных таблиц, содержащих следующую информацию:\n",
    "\n",
    "* В первой таблице `users` содержится информация о различных *500* пользователях оператора \"Мегалайн\": ID, имена, возраст, город проживания пользователей, наименование подключенного тарифа и дата его подключения. Для части пользователей также есть информация о дате прекращения пользования тарифом.\n",
    "* В таблице `calls` содержится информация о совершенных пользователями *202607* звонках: ID пользователей, даты звонков, их продолжительность, ID звонков.    \n",
    "* В таблице `messages` представлены данные о *123036* сообщениях, отправленных пользователями: ID пользователей и ID каждого сообщения, а также дата их отправки.\n",
    "* В таблице `internet` содержатся данные о *149396* интренет-сессиях пользователей: ID пользователей, ID интернет-сессий, дата сессий, а также объём потраченного за сессию интернет-трафика в мегабайтах. Также есть столбец без имени, дублирующий индексацию строк, в  дальнейшем его можно будет удалить. \n",
    "* Также имеется таблица `tariffs`, в которой представлена информация по двум тарифам *Смарт* и *Ультра*: стоимость абоненской платы, количество включенных в план минут, мегабайтов и сообщений, а также их стоимость а случае превышения пакетных лимитов."
   ]
  },
  {
   "cell_type": "markdown",
   "metadata": {},
   "source": [
    "## Подготовка данных"
   ]
  },
  {
   "cell_type": "markdown",
   "metadata": {},
   "source": [
    "### Приведение данных к нужным типам"
   ]
  },
  {
   "cell_type": "markdown",
   "metadata": {},
   "source": [
    "Заменим тип данных в каждом столбце, содержащем информацию о датах."
   ]
  },
  {
   "cell_type": "code",
   "execution_count": 31,
   "metadata": {},
   "outputs": [],
   "source": [
    "users['reg_date'] = pd.to_datetime(users['reg_date'], format='%Y-%m-%d')\n",
    "calls['call_date'] = pd.to_datetime(calls['call_date'],format='%Y-%m-%d')\n",
    "messages['message_date'] = pd.to_datetime(messages['message_date'],format='%Y-%m-%d')\n",
    "internet['session_date'] = pd.to_datetime(internet['session_date'],format='%Y-%m-%d')"
   ]
  },
  {
   "cell_type": "markdown",
   "metadata": {},
   "source": [
    "В столбце с информацией о дате прекращения пользования тарифом имеются пропуски, поэтому для замены типа в этом столбце на datetime предварительно заполним пропуски."
   ]
  },
  {
   "cell_type": "code",
   "execution_count": 32,
   "metadata": {},
   "outputs": [
    {
     "data": {
      "text/html": [
       "<div>\n",
       "<style scoped>\n",
       "    .dataframe tbody tr th:only-of-type {\n",
       "        vertical-align: middle;\n",
       "    }\n",
       "\n",
       "    .dataframe tbody tr th {\n",
       "        vertical-align: top;\n",
       "    }\n",
       "\n",
       "    .dataframe thead th {\n",
       "        text-align: right;\n",
       "    }\n",
       "</style>\n",
       "<table border=\"1\" class=\"dataframe\">\n",
       "  <thead>\n",
       "    <tr style=\"text-align: right;\">\n",
       "      <th></th>\n",
       "      <th>user_id</th>\n",
       "      <th>age</th>\n",
       "      <th>churn_date</th>\n",
       "      <th>city</th>\n",
       "      <th>first_name</th>\n",
       "      <th>last_name</th>\n",
       "      <th>reg_date</th>\n",
       "      <th>tariff</th>\n",
       "    </tr>\n",
       "  </thead>\n",
       "  <tbody>\n",
       "    <tr>\n",
       "      <th>0</th>\n",
       "      <td>1000</td>\n",
       "      <td>52</td>\n",
       "      <td>NaT</td>\n",
       "      <td>Краснодар</td>\n",
       "      <td>Рафаил</td>\n",
       "      <td>Верещагин</td>\n",
       "      <td>2018-05-25</td>\n",
       "      <td>ultra</td>\n",
       "    </tr>\n",
       "    <tr>\n",
       "      <th>1</th>\n",
       "      <td>1001</td>\n",
       "      <td>41</td>\n",
       "      <td>NaT</td>\n",
       "      <td>Москва</td>\n",
       "      <td>Иван</td>\n",
       "      <td>Ежов</td>\n",
       "      <td>2018-11-01</td>\n",
       "      <td>smart</td>\n",
       "    </tr>\n",
       "    <tr>\n",
       "      <th>2</th>\n",
       "      <td>1002</td>\n",
       "      <td>59</td>\n",
       "      <td>NaT</td>\n",
       "      <td>Стерлитамак</td>\n",
       "      <td>Евгений</td>\n",
       "      <td>Абрамович</td>\n",
       "      <td>2018-06-17</td>\n",
       "      <td>smart</td>\n",
       "    </tr>\n",
       "    <tr>\n",
       "      <th>3</th>\n",
       "      <td>1003</td>\n",
       "      <td>23</td>\n",
       "      <td>NaT</td>\n",
       "      <td>Москва</td>\n",
       "      <td>Белла</td>\n",
       "      <td>Белякова</td>\n",
       "      <td>2018-08-17</td>\n",
       "      <td>ultra</td>\n",
       "    </tr>\n",
       "    <tr>\n",
       "      <th>4</th>\n",
       "      <td>1004</td>\n",
       "      <td>68</td>\n",
       "      <td>NaT</td>\n",
       "      <td>Новокузнецк</td>\n",
       "      <td>Татьяна</td>\n",
       "      <td>Авдеенко</td>\n",
       "      <td>2018-05-14</td>\n",
       "      <td>ultra</td>\n",
       "    </tr>\n",
       "  </tbody>\n",
       "</table>\n",
       "</div>"
      ],
      "text/plain": [
       "   user_id  age churn_date         city first_name  last_name   reg_date  \\\n",
       "0     1000   52        NaT    Краснодар     Рафаил  Верещагин 2018-05-25   \n",
       "1     1001   41        NaT       Москва       Иван       Ежов 2018-11-01   \n",
       "2     1002   59        NaT  Стерлитамак    Евгений  Абрамович 2018-06-17   \n",
       "3     1003   23        NaT       Москва      Белла   Белякова 2018-08-17   \n",
       "4     1004   68        NaT  Новокузнецк    Татьяна   Авдеенко 2018-05-14   \n",
       "\n",
       "  tariff  \n",
       "0  ultra  \n",
       "1  smart  \n",
       "2  smart  \n",
       "3  ultra  \n",
       "4  ultra  "
      ]
     },
     "execution_count": 32,
     "metadata": {},
     "output_type": "execute_result"
    }
   ],
   "source": [
    "users['churn_date'] = users['churn_date'].fillna('') \n",
    "users['churn_date'] = pd.to_datetime(users['churn_date'], format='%Y-%m-%d')\n",
    "users.head()"
   ]
  },
  {
   "cell_type": "markdown",
   "metadata": {},
   "source": [
    "### Проверка на наличие ошибок"
   ]
  },
  {
   "cell_type": "markdown",
   "metadata": {},
   "source": [
    "Для проверки данных на наличие ошибок выведем информацию о значениях в столбцах."
   ]
  },
  {
   "cell_type": "code",
   "execution_count": 33,
   "metadata": {},
   "outputs": [
    {
     "name": "stdout",
     "output_type": "stream",
     "text": [
      "\u001b[31mВывод метода describe(): users\u001b[0m\n"
     ]
    },
    {
     "data": {
      "text/html": [
       "<div>\n",
       "<style scoped>\n",
       "    .dataframe tbody tr th:only-of-type {\n",
       "        vertical-align: middle;\n",
       "    }\n",
       "\n",
       "    .dataframe tbody tr th {\n",
       "        vertical-align: top;\n",
       "    }\n",
       "\n",
       "    .dataframe thead th {\n",
       "        text-align: right;\n",
       "    }\n",
       "</style>\n",
       "<table border=\"1\" class=\"dataframe\">\n",
       "  <thead>\n",
       "    <tr style=\"text-align: right;\">\n",
       "      <th></th>\n",
       "      <th>user_id</th>\n",
       "      <th>age</th>\n",
       "      <th>city</th>\n",
       "      <th>first_name</th>\n",
       "      <th>last_name</th>\n",
       "      <th>tariff</th>\n",
       "    </tr>\n",
       "  </thead>\n",
       "  <tbody>\n",
       "    <tr>\n",
       "      <th>count</th>\n",
       "      <td>500.0</td>\n",
       "      <td>500.000</td>\n",
       "      <td>500</td>\n",
       "      <td>500</td>\n",
       "      <td>500</td>\n",
       "      <td>500</td>\n",
       "    </tr>\n",
       "    <tr>\n",
       "      <th>mean</th>\n",
       "      <td>1249.5</td>\n",
       "      <td>46.588</td>\n",
       "      <td>NaN</td>\n",
       "      <td>NaN</td>\n",
       "      <td>NaN</td>\n",
       "      <td>NaN</td>\n",
       "    </tr>\n",
       "    <tr>\n",
       "      <th>min</th>\n",
       "      <td>1000.0</td>\n",
       "      <td>18.000</td>\n",
       "      <td>NaN</td>\n",
       "      <td>NaN</td>\n",
       "      <td>NaN</td>\n",
       "      <td>NaN</td>\n",
       "    </tr>\n",
       "    <tr>\n",
       "      <th>50%</th>\n",
       "      <td>1249.5</td>\n",
       "      <td>46.000</td>\n",
       "      <td>NaN</td>\n",
       "      <td>NaN</td>\n",
       "      <td>NaN</td>\n",
       "      <td>NaN</td>\n",
       "    </tr>\n",
       "    <tr>\n",
       "      <th>max</th>\n",
       "      <td>1499.0</td>\n",
       "      <td>75.000</td>\n",
       "      <td>NaN</td>\n",
       "      <td>NaN</td>\n",
       "      <td>NaN</td>\n",
       "      <td>NaN</td>\n",
       "    </tr>\n",
       "  </tbody>\n",
       "</table>\n",
       "</div>"
      ],
      "text/plain": [
       "       user_id      age city first_name last_name tariff\n",
       "count    500.0  500.000  500        500       500    500\n",
       "mean    1249.5   46.588  NaN        NaN       NaN    NaN\n",
       "min     1000.0   18.000  NaN        NaN       NaN    NaN\n",
       "50%     1249.5   46.000  NaN        NaN       NaN    NaN\n",
       "max     1499.0   75.000  NaN        NaN       NaN    NaN"
      ]
     },
     "metadata": {},
     "output_type": "display_data"
    },
    {
     "name": "stdout",
     "output_type": "stream",
     "text": [
      "\u001b[31mВывод метода describe(): calls\u001b[0m\n"
     ]
    },
    {
     "data": {
      "text/html": [
       "<div>\n",
       "<style scoped>\n",
       "    .dataframe tbody tr th:only-of-type {\n",
       "        vertical-align: middle;\n",
       "    }\n",
       "\n",
       "    .dataframe tbody tr th {\n",
       "        vertical-align: top;\n",
       "    }\n",
       "\n",
       "    .dataframe thead th {\n",
       "        text-align: right;\n",
       "    }\n",
       "</style>\n",
       "<table border=\"1\" class=\"dataframe\">\n",
       "  <thead>\n",
       "    <tr style=\"text-align: right;\">\n",
       "      <th></th>\n",
       "      <th>id</th>\n",
       "      <th>duration</th>\n",
       "      <th>user_id</th>\n",
       "    </tr>\n",
       "  </thead>\n",
       "  <tbody>\n",
       "    <tr>\n",
       "      <th>count</th>\n",
       "      <td>202607</td>\n",
       "      <td>202607.000000</td>\n",
       "      <td>202607.000000</td>\n",
       "    </tr>\n",
       "    <tr>\n",
       "      <th>mean</th>\n",
       "      <td>NaN</td>\n",
       "      <td>6.755887</td>\n",
       "      <td>1253.940619</td>\n",
       "    </tr>\n",
       "    <tr>\n",
       "      <th>min</th>\n",
       "      <td>NaN</td>\n",
       "      <td>0.000000</td>\n",
       "      <td>1000.000000</td>\n",
       "    </tr>\n",
       "    <tr>\n",
       "      <th>50%</th>\n",
       "      <td>NaN</td>\n",
       "      <td>6.000000</td>\n",
       "      <td>1260.000000</td>\n",
       "    </tr>\n",
       "    <tr>\n",
       "      <th>max</th>\n",
       "      <td>NaN</td>\n",
       "      <td>38.000000</td>\n",
       "      <td>1499.000000</td>\n",
       "    </tr>\n",
       "  </tbody>\n",
       "</table>\n",
       "</div>"
      ],
      "text/plain": [
       "           id       duration        user_id\n",
       "count  202607  202607.000000  202607.000000\n",
       "mean      NaN       6.755887    1253.940619\n",
       "min       NaN       0.000000    1000.000000\n",
       "50%       NaN       6.000000    1260.000000\n",
       "max       NaN      38.000000    1499.000000"
      ]
     },
     "metadata": {},
     "output_type": "display_data"
    },
    {
     "name": "stdout",
     "output_type": "stream",
     "text": [
      "\u001b[31mВывод метода describe(): messages\u001b[0m\n"
     ]
    },
    {
     "data": {
      "text/html": [
       "<div>\n",
       "<style scoped>\n",
       "    .dataframe tbody tr th:only-of-type {\n",
       "        vertical-align: middle;\n",
       "    }\n",
       "\n",
       "    .dataframe tbody tr th {\n",
       "        vertical-align: top;\n",
       "    }\n",
       "\n",
       "    .dataframe thead th {\n",
       "        text-align: right;\n",
       "    }\n",
       "</style>\n",
       "<table border=\"1\" class=\"dataframe\">\n",
       "  <thead>\n",
       "    <tr style=\"text-align: right;\">\n",
       "      <th></th>\n",
       "      <th>id</th>\n",
       "      <th>user_id</th>\n",
       "    </tr>\n",
       "  </thead>\n",
       "  <tbody>\n",
       "    <tr>\n",
       "      <th>count</th>\n",
       "      <td>123036</td>\n",
       "      <td>123036.00000</td>\n",
       "    </tr>\n",
       "    <tr>\n",
       "      <th>mean</th>\n",
       "      <td>NaN</td>\n",
       "      <td>1256.98941</td>\n",
       "    </tr>\n",
       "    <tr>\n",
       "      <th>min</th>\n",
       "      <td>NaN</td>\n",
       "      <td>1000.00000</td>\n",
       "    </tr>\n",
       "    <tr>\n",
       "      <th>50%</th>\n",
       "      <td>NaN</td>\n",
       "      <td>1271.00000</td>\n",
       "    </tr>\n",
       "    <tr>\n",
       "      <th>max</th>\n",
       "      <td>NaN</td>\n",
       "      <td>1499.00000</td>\n",
       "    </tr>\n",
       "  </tbody>\n",
       "</table>\n",
       "</div>"
      ],
      "text/plain": [
       "           id       user_id\n",
       "count  123036  123036.00000\n",
       "mean      NaN    1256.98941\n",
       "min       NaN    1000.00000\n",
       "50%       NaN    1271.00000\n",
       "max       NaN    1499.00000"
      ]
     },
     "metadata": {},
     "output_type": "display_data"
    },
    {
     "name": "stdout",
     "output_type": "stream",
     "text": [
      "\u001b[31mВывод метода describe(): internet\u001b[0m\n"
     ]
    },
    {
     "data": {
      "text/html": [
       "<div>\n",
       "<style scoped>\n",
       "    .dataframe tbody tr th:only-of-type {\n",
       "        vertical-align: middle;\n",
       "    }\n",
       "\n",
       "    .dataframe tbody tr th {\n",
       "        vertical-align: top;\n",
       "    }\n",
       "\n",
       "    .dataframe thead th {\n",
       "        text-align: right;\n",
       "    }\n",
       "</style>\n",
       "<table border=\"1\" class=\"dataframe\">\n",
       "  <thead>\n",
       "    <tr style=\"text-align: right;\">\n",
       "      <th></th>\n",
       "      <th>Unnamed: 0</th>\n",
       "      <th>id</th>\n",
       "      <th>mb_used</th>\n",
       "      <th>user_id</th>\n",
       "    </tr>\n",
       "  </thead>\n",
       "  <tbody>\n",
       "    <tr>\n",
       "      <th>count</th>\n",
       "      <td>149396.0</td>\n",
       "      <td>149396</td>\n",
       "      <td>149396.000000</td>\n",
       "      <td>149396.000000</td>\n",
       "    </tr>\n",
       "    <tr>\n",
       "      <th>mean</th>\n",
       "      <td>74697.5</td>\n",
       "      <td>NaN</td>\n",
       "      <td>370.192426</td>\n",
       "      <td>1252.099842</td>\n",
       "    </tr>\n",
       "    <tr>\n",
       "      <th>min</th>\n",
       "      <td>0.0</td>\n",
       "      <td>NaN</td>\n",
       "      <td>0.000000</td>\n",
       "      <td>1000.000000</td>\n",
       "    </tr>\n",
       "    <tr>\n",
       "      <th>50%</th>\n",
       "      <td>74697.5</td>\n",
       "      <td>NaN</td>\n",
       "      <td>348.015000</td>\n",
       "      <td>1251.000000</td>\n",
       "    </tr>\n",
       "    <tr>\n",
       "      <th>max</th>\n",
       "      <td>149395.0</td>\n",
       "      <td>NaN</td>\n",
       "      <td>1724.830000</td>\n",
       "      <td>1499.000000</td>\n",
       "    </tr>\n",
       "  </tbody>\n",
       "</table>\n",
       "</div>"
      ],
      "text/plain": [
       "       Unnamed: 0      id        mb_used        user_id\n",
       "count    149396.0  149396  149396.000000  149396.000000\n",
       "mean      74697.5     NaN     370.192426    1252.099842\n",
       "min           0.0     NaN       0.000000    1000.000000\n",
       "50%       74697.5     NaN     348.015000    1251.000000\n",
       "max      149395.0     NaN    1724.830000    1499.000000"
      ]
     },
     "metadata": {},
     "output_type": "display_data"
    }
   ],
   "source": [
    "for df, name in zip([users, calls, messages, internet], [\"users\", \"calls\", \"messages\", \"internet\"]):\n",
    "    print ('\\033[31m' + f'Вывод метода describe(): {name}' + '\\033[0m')\n",
    "    display(df.describe(include=[np.number, object]).loc[['count','mean','min','50%','max']])"
   ]
  },
  {
   "cell_type": "markdown",
   "metadata": {},
   "source": [
    "Проверив все столбцы, в которых могут содержаться потенциальные ошибки, получили, что все значения находятся в допустимых диапазонах, а все данные, имеющие отношение к датам, ограничиваются 2018 годом."
   ]
  },
  {
   "cell_type": "markdown",
   "metadata": {},
   "source": [
    "Также в таблице `internet` удалим столбец дублирующий индексацию строк."
   ]
  },
  {
   "cell_type": "code",
   "execution_count": 34,
   "metadata": {},
   "outputs": [
    {
     "data": {
      "text/html": [
       "<div>\n",
       "<style scoped>\n",
       "    .dataframe tbody tr th:only-of-type {\n",
       "        vertical-align: middle;\n",
       "    }\n",
       "\n",
       "    .dataframe tbody tr th {\n",
       "        vertical-align: top;\n",
       "    }\n",
       "\n",
       "    .dataframe thead th {\n",
       "        text-align: right;\n",
       "    }\n",
       "</style>\n",
       "<table border=\"1\" class=\"dataframe\">\n",
       "  <thead>\n",
       "    <tr style=\"text-align: right;\">\n",
       "      <th></th>\n",
       "      <th>id</th>\n",
       "      <th>mb_used</th>\n",
       "      <th>session_date</th>\n",
       "      <th>user_id</th>\n",
       "    </tr>\n",
       "  </thead>\n",
       "  <tbody>\n",
       "    <tr>\n",
       "      <th>0</th>\n",
       "      <td>1000_0</td>\n",
       "      <td>112.95</td>\n",
       "      <td>2018-11-25</td>\n",
       "      <td>1000</td>\n",
       "    </tr>\n",
       "    <tr>\n",
       "      <th>1</th>\n",
       "      <td>1000_1</td>\n",
       "      <td>1052.81</td>\n",
       "      <td>2018-09-07</td>\n",
       "      <td>1000</td>\n",
       "    </tr>\n",
       "    <tr>\n",
       "      <th>2</th>\n",
       "      <td>1000_2</td>\n",
       "      <td>1197.26</td>\n",
       "      <td>2018-06-25</td>\n",
       "      <td>1000</td>\n",
       "    </tr>\n",
       "    <tr>\n",
       "      <th>3</th>\n",
       "      <td>1000_3</td>\n",
       "      <td>550.27</td>\n",
       "      <td>2018-08-22</td>\n",
       "      <td>1000</td>\n",
       "    </tr>\n",
       "    <tr>\n",
       "      <th>4</th>\n",
       "      <td>1000_4</td>\n",
       "      <td>302.56</td>\n",
       "      <td>2018-09-24</td>\n",
       "      <td>1000</td>\n",
       "    </tr>\n",
       "  </tbody>\n",
       "</table>\n",
       "</div>"
      ],
      "text/plain": [
       "       id  mb_used session_date  user_id\n",
       "0  1000_0   112.95   2018-11-25     1000\n",
       "1  1000_1  1052.81   2018-09-07     1000\n",
       "2  1000_2  1197.26   2018-06-25     1000\n",
       "3  1000_3   550.27   2018-08-22     1000\n",
       "4  1000_4   302.56   2018-09-24     1000"
      ]
     },
     "metadata": {},
     "output_type": "display_data"
    }
   ],
   "source": [
    "internet.pop('Unnamed: 0')\n",
    "display(internet.head())"
   ]
  },
  {
   "cell_type": "markdown",
   "metadata": {},
   "source": [
    "### Предварительные расчеты"
   ]
  },
  {
   "cell_type": "markdown",
   "metadata": {},
   "source": [
    "Необходимо рассчитать для каждого пользователя:\n",
    "\n",
    "* количество сделанных звонков и израсходованных минут разговора по месяцам;\n",
    "* количество отправленных сообщений по месяцам;\n",
    "* объем израсходованного интернет-трафика по месяцам;\n",
    "* помесячную выручку с каждого пользователя.\n"
   ]
  },
  {
   "cell_type": "markdown",
   "metadata": {},
   "source": [
    "Перед тем, как приступить к дальнейшим расчетам, округлим имеющиеся данные.\n",
    "\n",
    "«Мегалайн» всегда округляет секунды до минут, а мегабайты — до гигабайт. Каждый звонок округляется отдельно: даже если он длился всего 1 секунду, будет засчитан как 1 минута. \n",
    "\n",
    "Для веб-трафика отдельные сессии не считаются. Вместо этого общая сумма за месяц округляется в бо́льшую сторону. Если абонент использует 1025 мегабайт в этом месяце, с него возьмут плату за 2 гигабайта. \n",
    "\n",
    "Cначала в каждую таблицу добавим столбцы с месяцами, отражающими, в какой месяц совершался вход в интернет, отправлялись сообщения и осуществлялись звонки:"
   ]
  },
  {
   "cell_type": "code",
   "execution_count": 35,
   "metadata": {
    "scrolled": true
   },
   "outputs": [
    {
     "data": {
      "text/html": [
       "<div>\n",
       "<style scoped>\n",
       "    .dataframe tbody tr th:only-of-type {\n",
       "        vertical-align: middle;\n",
       "    }\n",
       "\n",
       "    .dataframe tbody tr th {\n",
       "        vertical-align: top;\n",
       "    }\n",
       "\n",
       "    .dataframe thead th {\n",
       "        text-align: right;\n",
       "    }\n",
       "</style>\n",
       "<table border=\"1\" class=\"dataframe\">\n",
       "  <thead>\n",
       "    <tr style=\"text-align: right;\">\n",
       "      <th></th>\n",
       "      <th>id</th>\n",
       "      <th>call_date</th>\n",
       "      <th>duration</th>\n",
       "      <th>user_id</th>\n",
       "      <th>month</th>\n",
       "    </tr>\n",
       "  </thead>\n",
       "  <tbody>\n",
       "    <tr>\n",
       "      <th>0</th>\n",
       "      <td>1000_0</td>\n",
       "      <td>2018-07-25</td>\n",
       "      <td>0.00</td>\n",
       "      <td>1000</td>\n",
       "      <td>7</td>\n",
       "    </tr>\n",
       "    <tr>\n",
       "      <th>1</th>\n",
       "      <td>1000_1</td>\n",
       "      <td>2018-08-17</td>\n",
       "      <td>0.00</td>\n",
       "      <td>1000</td>\n",
       "      <td>8</td>\n",
       "    </tr>\n",
       "    <tr>\n",
       "      <th>2</th>\n",
       "      <td>1000_2</td>\n",
       "      <td>2018-06-11</td>\n",
       "      <td>2.85</td>\n",
       "      <td>1000</td>\n",
       "      <td>6</td>\n",
       "    </tr>\n",
       "    <tr>\n",
       "      <th>3</th>\n",
       "      <td>1000_3</td>\n",
       "      <td>2018-09-21</td>\n",
       "      <td>13.80</td>\n",
       "      <td>1000</td>\n",
       "      <td>9</td>\n",
       "    </tr>\n",
       "    <tr>\n",
       "      <th>4</th>\n",
       "      <td>1000_4</td>\n",
       "      <td>2018-12-15</td>\n",
       "      <td>5.18</td>\n",
       "      <td>1000</td>\n",
       "      <td>12</td>\n",
       "    </tr>\n",
       "  </tbody>\n",
       "</table>\n",
       "</div>"
      ],
      "text/plain": [
       "       id  call_date  duration  user_id  month\n",
       "0  1000_0 2018-07-25      0.00     1000      7\n",
       "1  1000_1 2018-08-17      0.00     1000      8\n",
       "2  1000_2 2018-06-11      2.85     1000      6\n",
       "3  1000_3 2018-09-21     13.80     1000      9\n",
       "4  1000_4 2018-12-15      5.18     1000     12"
      ]
     },
     "metadata": {},
     "output_type": "display_data"
    },
    {
     "data": {
      "text/html": [
       "<div>\n",
       "<style scoped>\n",
       "    .dataframe tbody tr th:only-of-type {\n",
       "        vertical-align: middle;\n",
       "    }\n",
       "\n",
       "    .dataframe tbody tr th {\n",
       "        vertical-align: top;\n",
       "    }\n",
       "\n",
       "    .dataframe thead th {\n",
       "        text-align: right;\n",
       "    }\n",
       "</style>\n",
       "<table border=\"1\" class=\"dataframe\">\n",
       "  <thead>\n",
       "    <tr style=\"text-align: right;\">\n",
       "      <th></th>\n",
       "      <th>id</th>\n",
       "      <th>message_date</th>\n",
       "      <th>user_id</th>\n",
       "      <th>month</th>\n",
       "    </tr>\n",
       "  </thead>\n",
       "  <tbody>\n",
       "    <tr>\n",
       "      <th>0</th>\n",
       "      <td>1000_0</td>\n",
       "      <td>2018-06-27</td>\n",
       "      <td>1000</td>\n",
       "      <td>6</td>\n",
       "    </tr>\n",
       "    <tr>\n",
       "      <th>1</th>\n",
       "      <td>1000_1</td>\n",
       "      <td>2018-10-08</td>\n",
       "      <td>1000</td>\n",
       "      <td>10</td>\n",
       "    </tr>\n",
       "    <tr>\n",
       "      <th>2</th>\n",
       "      <td>1000_2</td>\n",
       "      <td>2018-08-04</td>\n",
       "      <td>1000</td>\n",
       "      <td>8</td>\n",
       "    </tr>\n",
       "    <tr>\n",
       "      <th>3</th>\n",
       "      <td>1000_3</td>\n",
       "      <td>2018-06-16</td>\n",
       "      <td>1000</td>\n",
       "      <td>6</td>\n",
       "    </tr>\n",
       "    <tr>\n",
       "      <th>4</th>\n",
       "      <td>1000_4</td>\n",
       "      <td>2018-12-05</td>\n",
       "      <td>1000</td>\n",
       "      <td>12</td>\n",
       "    </tr>\n",
       "  </tbody>\n",
       "</table>\n",
       "</div>"
      ],
      "text/plain": [
       "       id message_date  user_id  month\n",
       "0  1000_0   2018-06-27     1000      6\n",
       "1  1000_1   2018-10-08     1000     10\n",
       "2  1000_2   2018-08-04     1000      8\n",
       "3  1000_3   2018-06-16     1000      6\n",
       "4  1000_4   2018-12-05     1000     12"
      ]
     },
     "metadata": {},
     "output_type": "display_data"
    },
    {
     "data": {
      "text/html": [
       "<div>\n",
       "<style scoped>\n",
       "    .dataframe tbody tr th:only-of-type {\n",
       "        vertical-align: middle;\n",
       "    }\n",
       "\n",
       "    .dataframe tbody tr th {\n",
       "        vertical-align: top;\n",
       "    }\n",
       "\n",
       "    .dataframe thead th {\n",
       "        text-align: right;\n",
       "    }\n",
       "</style>\n",
       "<table border=\"1\" class=\"dataframe\">\n",
       "  <thead>\n",
       "    <tr style=\"text-align: right;\">\n",
       "      <th></th>\n",
       "      <th>id</th>\n",
       "      <th>mb_used</th>\n",
       "      <th>session_date</th>\n",
       "      <th>user_id</th>\n",
       "      <th>month</th>\n",
       "    </tr>\n",
       "  </thead>\n",
       "  <tbody>\n",
       "    <tr>\n",
       "      <th>0</th>\n",
       "      <td>1000_0</td>\n",
       "      <td>112.95</td>\n",
       "      <td>2018-11-25</td>\n",
       "      <td>1000</td>\n",
       "      <td>11</td>\n",
       "    </tr>\n",
       "    <tr>\n",
       "      <th>1</th>\n",
       "      <td>1000_1</td>\n",
       "      <td>1052.81</td>\n",
       "      <td>2018-09-07</td>\n",
       "      <td>1000</td>\n",
       "      <td>9</td>\n",
       "    </tr>\n",
       "    <tr>\n",
       "      <th>2</th>\n",
       "      <td>1000_2</td>\n",
       "      <td>1197.26</td>\n",
       "      <td>2018-06-25</td>\n",
       "      <td>1000</td>\n",
       "      <td>6</td>\n",
       "    </tr>\n",
       "    <tr>\n",
       "      <th>3</th>\n",
       "      <td>1000_3</td>\n",
       "      <td>550.27</td>\n",
       "      <td>2018-08-22</td>\n",
       "      <td>1000</td>\n",
       "      <td>8</td>\n",
       "    </tr>\n",
       "    <tr>\n",
       "      <th>4</th>\n",
       "      <td>1000_4</td>\n",
       "      <td>302.56</td>\n",
       "      <td>2018-09-24</td>\n",
       "      <td>1000</td>\n",
       "      <td>9</td>\n",
       "    </tr>\n",
       "  </tbody>\n",
       "</table>\n",
       "</div>"
      ],
      "text/plain": [
       "       id  mb_used session_date  user_id  month\n",
       "0  1000_0   112.95   2018-11-25     1000     11\n",
       "1  1000_1  1052.81   2018-09-07     1000      9\n",
       "2  1000_2  1197.26   2018-06-25     1000      6\n",
       "3  1000_3   550.27   2018-08-22     1000      8\n",
       "4  1000_4   302.56   2018-09-24     1000      9"
      ]
     },
     "metadata": {},
     "output_type": "display_data"
    }
   ],
   "source": [
    "calls['month'] = calls['call_date'].dt.month\n",
    "messages['month'] = messages['message_date'].dt.month\n",
    "internet['month'] = internet['session_date'].dt.month\n",
    "\n",
    "display(calls.head())  \n",
    "display(messages.head())  \n",
    "display(internet.head())  "
   ]
  },
  {
   "cell_type": "markdown",
   "metadata": {},
   "source": [
    "Округляем каждый отдельный звонок до минут:"
   ]
  },
  {
   "cell_type": "code",
   "execution_count": 36,
   "metadata": {},
   "outputs": [
    {
     "data": {
      "text/html": [
       "<div>\n",
       "<style scoped>\n",
       "    .dataframe tbody tr th:only-of-type {\n",
       "        vertical-align: middle;\n",
       "    }\n",
       "\n",
       "    .dataframe tbody tr th {\n",
       "        vertical-align: top;\n",
       "    }\n",
       "\n",
       "    .dataframe thead th {\n",
       "        text-align: right;\n",
       "    }\n",
       "</style>\n",
       "<table border=\"1\" class=\"dataframe\">\n",
       "  <thead>\n",
       "    <tr style=\"text-align: right;\">\n",
       "      <th></th>\n",
       "      <th>id</th>\n",
       "      <th>call_date</th>\n",
       "      <th>duration</th>\n",
       "      <th>user_id</th>\n",
       "      <th>month</th>\n",
       "    </tr>\n",
       "  </thead>\n",
       "  <tbody>\n",
       "    <tr>\n",
       "      <th>0</th>\n",
       "      <td>1000_0</td>\n",
       "      <td>2018-07-25</td>\n",
       "      <td>0</td>\n",
       "      <td>1000</td>\n",
       "      <td>7</td>\n",
       "    </tr>\n",
       "    <tr>\n",
       "      <th>1</th>\n",
       "      <td>1000_1</td>\n",
       "      <td>2018-08-17</td>\n",
       "      <td>0</td>\n",
       "      <td>1000</td>\n",
       "      <td>8</td>\n",
       "    </tr>\n",
       "    <tr>\n",
       "      <th>2</th>\n",
       "      <td>1000_2</td>\n",
       "      <td>2018-06-11</td>\n",
       "      <td>3</td>\n",
       "      <td>1000</td>\n",
       "      <td>6</td>\n",
       "    </tr>\n",
       "    <tr>\n",
       "      <th>3</th>\n",
       "      <td>1000_3</td>\n",
       "      <td>2018-09-21</td>\n",
       "      <td>14</td>\n",
       "      <td>1000</td>\n",
       "      <td>9</td>\n",
       "    </tr>\n",
       "    <tr>\n",
       "      <th>4</th>\n",
       "      <td>1000_4</td>\n",
       "      <td>2018-12-15</td>\n",
       "      <td>6</td>\n",
       "      <td>1000</td>\n",
       "      <td>12</td>\n",
       "    </tr>\n",
       "  </tbody>\n",
       "</table>\n",
       "</div>"
      ],
      "text/plain": [
       "       id  call_date  duration  user_id  month\n",
       "0  1000_0 2018-07-25         0     1000      7\n",
       "1  1000_1 2018-08-17         0     1000      8\n",
       "2  1000_2 2018-06-11         3     1000      6\n",
       "3  1000_3 2018-09-21        14     1000      9\n",
       "4  1000_4 2018-12-15         6     1000     12"
      ]
     },
     "metadata": {},
     "output_type": "display_data"
    }
   ],
   "source": [
    "calls['duration'] = np.ceil(calls['duration']).astype('int')\n",
    "display(calls.head())"
   ]
  },
  {
   "cell_type": "markdown",
   "metadata": {},
   "source": [
    "Для веб-трафика общая сумма за месяц округляется в бо́льшую сторону. \n",
    "Сгруппируем данные в таблице `internet` по месяцам и переведем МБ в ГБ, округляя их в большую сторону. "
   ]
  },
  {
   "cell_type": "code",
   "execution_count": 37,
   "metadata": {},
   "outputs": [
    {
     "data": {
      "text/html": [
       "<div>\n",
       "<style scoped>\n",
       "    .dataframe tbody tr th:only-of-type {\n",
       "        vertical-align: middle;\n",
       "    }\n",
       "\n",
       "    .dataframe tbody tr th {\n",
       "        vertical-align: top;\n",
       "    }\n",
       "\n",
       "    .dataframe thead th {\n",
       "        text-align: right;\n",
       "    }\n",
       "</style>\n",
       "<table border=\"1\" class=\"dataframe\">\n",
       "  <thead>\n",
       "    <tr style=\"text-align: right;\">\n",
       "      <th></th>\n",
       "      <th></th>\n",
       "      <th>mb_used</th>\n",
       "      <th>gb_used</th>\n",
       "    </tr>\n",
       "    <tr>\n",
       "      <th>user_id</th>\n",
       "      <th>month</th>\n",
       "      <th></th>\n",
       "      <th></th>\n",
       "    </tr>\n",
       "  </thead>\n",
       "  <tbody>\n",
       "    <tr>\n",
       "      <th rowspan=\"8\" valign=\"top\">1000</th>\n",
       "      <th>5</th>\n",
       "      <td>2253.49</td>\n",
       "      <td>3</td>\n",
       "    </tr>\n",
       "    <tr>\n",
       "      <th>6</th>\n",
       "      <td>23233.77</td>\n",
       "      <td>23</td>\n",
       "    </tr>\n",
       "    <tr>\n",
       "      <th>7</th>\n",
       "      <td>14003.64</td>\n",
       "      <td>14</td>\n",
       "    </tr>\n",
       "    <tr>\n",
       "      <th>8</th>\n",
       "      <td>14055.93</td>\n",
       "      <td>14</td>\n",
       "    </tr>\n",
       "    <tr>\n",
       "      <th>9</th>\n",
       "      <td>14568.91</td>\n",
       "      <td>15</td>\n",
       "    </tr>\n",
       "    <tr>\n",
       "      <th>10</th>\n",
       "      <td>14702.49</td>\n",
       "      <td>15</td>\n",
       "    </tr>\n",
       "    <tr>\n",
       "      <th>11</th>\n",
       "      <td>14756.47</td>\n",
       "      <td>15</td>\n",
       "    </tr>\n",
       "    <tr>\n",
       "      <th>12</th>\n",
       "      <td>9817.61</td>\n",
       "      <td>10</td>\n",
       "    </tr>\n",
       "    <tr>\n",
       "      <th rowspan=\"2\" valign=\"top\">1001</th>\n",
       "      <th>11</th>\n",
       "      <td>18429.34</td>\n",
       "      <td>18</td>\n",
       "    </tr>\n",
       "    <tr>\n",
       "      <th>12</th>\n",
       "      <td>14036.66</td>\n",
       "      <td>14</td>\n",
       "    </tr>\n",
       "  </tbody>\n",
       "</table>\n",
       "</div>"
      ],
      "text/plain": [
       "                mb_used  gb_used\n",
       "user_id month                   \n",
       "1000    5       2253.49        3\n",
       "        6      23233.77       23\n",
       "        7      14003.64       14\n",
       "        8      14055.93       14\n",
       "        9      14568.91       15\n",
       "        10     14702.49       15\n",
       "        11     14756.47       15\n",
       "        12      9817.61       10\n",
       "1001    11     18429.34       18\n",
       "        12     14036.66       14"
      ]
     },
     "metadata": {},
     "output_type": "display_data"
    }
   ],
   "source": [
    "internet_pivot = internet.pivot_table(index=['user_id', 'month'], values = 'mb_used', aggfunc = 'sum')\n",
    "\n",
    "internet_pivot['gb_used'] = np.ceil(internet_pivot['mb_used']/1024).astype('int')\n",
    "display(internet_pivot.head(10))"
   ]
  },
  {
   "cell_type": "markdown",
   "metadata": {},
   "source": [
    "Необходимо рассчитать для каждого пользователя:\n",
    "\n",
    "количество сделанных звонков и израсходованных минут разговора по месяцам;\n",
    "количество отправленных сообщений по месяцам;\n",
    "объем израсходованного интернет-трафика по месяцам;\n",
    "помесячную выручку с каждого пользователя."
   ]
  },
  {
   "cell_type": "markdown",
   "metadata": {},
   "source": [
    "* Рассчитаем количество сделанных звонков и израсходованных минут разговора по месяцам для каждого пользователя:"
   ]
  },
  {
   "cell_type": "code",
   "execution_count": 38,
   "metadata": {},
   "outputs": [
    {
     "data": {
      "text/html": [
       "<div>\n",
       "<style scoped>\n",
       "    .dataframe tbody tr th:only-of-type {\n",
       "        vertical-align: middle;\n",
       "    }\n",
       "\n",
       "    .dataframe tbody tr th {\n",
       "        vertical-align: top;\n",
       "    }\n",
       "\n",
       "    .dataframe thead tr th {\n",
       "        text-align: left;\n",
       "    }\n",
       "\n",
       "    .dataframe thead tr:last-of-type th {\n",
       "        text-align: right;\n",
       "    }\n",
       "</style>\n",
       "<table border=\"1\" class=\"dataframe\">\n",
       "  <thead>\n",
       "    <tr>\n",
       "      <th></th>\n",
       "      <th></th>\n",
       "      <th>count</th>\n",
       "      <th>sum</th>\n",
       "    </tr>\n",
       "    <tr>\n",
       "      <th></th>\n",
       "      <th></th>\n",
       "      <th>duration</th>\n",
       "      <th>duration</th>\n",
       "    </tr>\n",
       "    <tr>\n",
       "      <th>user_id</th>\n",
       "      <th>month</th>\n",
       "      <th></th>\n",
       "      <th></th>\n",
       "    </tr>\n",
       "  </thead>\n",
       "  <tbody>\n",
       "    <tr>\n",
       "      <th rowspan=\"8\" valign=\"top\">1000</th>\n",
       "      <th>5</th>\n",
       "      <td>22</td>\n",
       "      <td>159</td>\n",
       "    </tr>\n",
       "    <tr>\n",
       "      <th>6</th>\n",
       "      <td>43</td>\n",
       "      <td>172</td>\n",
       "    </tr>\n",
       "    <tr>\n",
       "      <th>7</th>\n",
       "      <td>47</td>\n",
       "      <td>340</td>\n",
       "    </tr>\n",
       "    <tr>\n",
       "      <th>8</th>\n",
       "      <td>52</td>\n",
       "      <td>408</td>\n",
       "    </tr>\n",
       "    <tr>\n",
       "      <th>9</th>\n",
       "      <td>58</td>\n",
       "      <td>466</td>\n",
       "    </tr>\n",
       "    <tr>\n",
       "      <th>10</th>\n",
       "      <td>57</td>\n",
       "      <td>350</td>\n",
       "    </tr>\n",
       "    <tr>\n",
       "      <th>11</th>\n",
       "      <td>43</td>\n",
       "      <td>338</td>\n",
       "    </tr>\n",
       "    <tr>\n",
       "      <th>12</th>\n",
       "      <td>46</td>\n",
       "      <td>333</td>\n",
       "    </tr>\n",
       "    <tr>\n",
       "      <th rowspan=\"2\" valign=\"top\">1001</th>\n",
       "      <th>11</th>\n",
       "      <td>59</td>\n",
       "      <td>430</td>\n",
       "    </tr>\n",
       "    <tr>\n",
       "      <th>12</th>\n",
       "      <td>63</td>\n",
       "      <td>414</td>\n",
       "    </tr>\n",
       "    <tr>\n",
       "      <th rowspan=\"5\" valign=\"top\">1002</th>\n",
       "      <th>6</th>\n",
       "      <td>15</td>\n",
       "      <td>117</td>\n",
       "    </tr>\n",
       "    <tr>\n",
       "      <th>7</th>\n",
       "      <td>26</td>\n",
       "      <td>214</td>\n",
       "    </tr>\n",
       "    <tr>\n",
       "      <th>8</th>\n",
       "      <td>42</td>\n",
       "      <td>289</td>\n",
       "    </tr>\n",
       "    <tr>\n",
       "      <th>9</th>\n",
       "      <td>36</td>\n",
       "      <td>206</td>\n",
       "    </tr>\n",
       "    <tr>\n",
       "      <th>10</th>\n",
       "      <td>33</td>\n",
       "      <td>212</td>\n",
       "    </tr>\n",
       "  </tbody>\n",
       "</table>\n",
       "</div>"
      ],
      "text/plain": [
       "                 count      sum\n",
       "              duration duration\n",
       "user_id month                  \n",
       "1000    5           22      159\n",
       "        6           43      172\n",
       "        7           47      340\n",
       "        8           52      408\n",
       "        9           58      466\n",
       "        10          57      350\n",
       "        11          43      338\n",
       "        12          46      333\n",
       "1001    11          59      430\n",
       "        12          63      414\n",
       "1002    6           15      117\n",
       "        7           26      214\n",
       "        8           42      289\n",
       "        9           36      206\n",
       "        10          33      212"
      ]
     },
     "metadata": {},
     "output_type": "display_data"
    }
   ],
   "source": [
    "calls_pivot = calls.pivot_table(index = ['user_id', 'month'], values = 'duration', aggfunc = ['count', 'sum'])\n",
    "display(calls_pivot.head(15))"
   ]
  },
  {
   "cell_type": "markdown",
   "metadata": {},
   "source": [
    "* Рассчитаем количество отправленных сообщений по месяцам:"
   ]
  },
  {
   "cell_type": "code",
   "execution_count": 39,
   "metadata": {},
   "outputs": [
    {
     "data": {
      "text/html": [
       "<div>\n",
       "<style scoped>\n",
       "    .dataframe tbody tr th:only-of-type {\n",
       "        vertical-align: middle;\n",
       "    }\n",
       "\n",
       "    .dataframe tbody tr th {\n",
       "        vertical-align: top;\n",
       "    }\n",
       "\n",
       "    .dataframe thead th {\n",
       "        text-align: right;\n",
       "    }\n",
       "</style>\n",
       "<table border=\"1\" class=\"dataframe\">\n",
       "  <thead>\n",
       "    <tr style=\"text-align: right;\">\n",
       "      <th></th>\n",
       "      <th></th>\n",
       "      <th>id</th>\n",
       "    </tr>\n",
       "    <tr>\n",
       "      <th>user_id</th>\n",
       "      <th>month</th>\n",
       "      <th></th>\n",
       "    </tr>\n",
       "  </thead>\n",
       "  <tbody>\n",
       "    <tr>\n",
       "      <th rowspan=\"8\" valign=\"top\">1000</th>\n",
       "      <th>5</th>\n",
       "      <td>22</td>\n",
       "    </tr>\n",
       "    <tr>\n",
       "      <th>6</th>\n",
       "      <td>60</td>\n",
       "    </tr>\n",
       "    <tr>\n",
       "      <th>7</th>\n",
       "      <td>75</td>\n",
       "    </tr>\n",
       "    <tr>\n",
       "      <th>8</th>\n",
       "      <td>81</td>\n",
       "    </tr>\n",
       "    <tr>\n",
       "      <th>9</th>\n",
       "      <td>57</td>\n",
       "    </tr>\n",
       "    <tr>\n",
       "      <th>10</th>\n",
       "      <td>73</td>\n",
       "    </tr>\n",
       "    <tr>\n",
       "      <th>11</th>\n",
       "      <td>58</td>\n",
       "    </tr>\n",
       "    <tr>\n",
       "      <th>12</th>\n",
       "      <td>70</td>\n",
       "    </tr>\n",
       "    <tr>\n",
       "      <th rowspan=\"2\" valign=\"top\">1002</th>\n",
       "      <th>6</th>\n",
       "      <td>4</td>\n",
       "    </tr>\n",
       "    <tr>\n",
       "      <th>7</th>\n",
       "      <td>11</td>\n",
       "    </tr>\n",
       "  </tbody>\n",
       "</table>\n",
       "</div>"
      ],
      "text/plain": [
       "               id\n",
       "user_id month    \n",
       "1000    5      22\n",
       "        6      60\n",
       "        7      75\n",
       "        8      81\n",
       "        9      57\n",
       "        10     73\n",
       "        11     58\n",
       "        12     70\n",
       "1002    6       4\n",
       "        7      11"
      ]
     },
     "metadata": {},
     "output_type": "display_data"
    }
   ],
   "source": [
    "messages_pivot = messages.pivot_table(index = ['user_id', 'month'], values = 'id', aggfunc = 'count')\n",
    "display(messages_pivot.head(10))"
   ]
  },
  {
   "cell_type": "markdown",
   "metadata": {},
   "source": [
    "* Объем израсходованного интернет-трафика по месяцам был рассчитан ранее:"
   ]
  },
  {
   "cell_type": "code",
   "execution_count": 40,
   "metadata": {},
   "outputs": [
    {
     "data": {
      "text/html": [
       "<div>\n",
       "<style scoped>\n",
       "    .dataframe tbody tr th:only-of-type {\n",
       "        vertical-align: middle;\n",
       "    }\n",
       "\n",
       "    .dataframe tbody tr th {\n",
       "        vertical-align: top;\n",
       "    }\n",
       "\n",
       "    .dataframe thead th {\n",
       "        text-align: right;\n",
       "    }\n",
       "</style>\n",
       "<table border=\"1\" class=\"dataframe\">\n",
       "  <thead>\n",
       "    <tr style=\"text-align: right;\">\n",
       "      <th></th>\n",
       "      <th></th>\n",
       "      <th>mb_used</th>\n",
       "      <th>gb_used</th>\n",
       "    </tr>\n",
       "    <tr>\n",
       "      <th>user_id</th>\n",
       "      <th>month</th>\n",
       "      <th></th>\n",
       "      <th></th>\n",
       "    </tr>\n",
       "  </thead>\n",
       "  <tbody>\n",
       "    <tr>\n",
       "      <th rowspan=\"8\" valign=\"top\">1000</th>\n",
       "      <th>5</th>\n",
       "      <td>2253.49</td>\n",
       "      <td>3</td>\n",
       "    </tr>\n",
       "    <tr>\n",
       "      <th>6</th>\n",
       "      <td>23233.77</td>\n",
       "      <td>23</td>\n",
       "    </tr>\n",
       "    <tr>\n",
       "      <th>7</th>\n",
       "      <td>14003.64</td>\n",
       "      <td>14</td>\n",
       "    </tr>\n",
       "    <tr>\n",
       "      <th>8</th>\n",
       "      <td>14055.93</td>\n",
       "      <td>14</td>\n",
       "    </tr>\n",
       "    <tr>\n",
       "      <th>9</th>\n",
       "      <td>14568.91</td>\n",
       "      <td>15</td>\n",
       "    </tr>\n",
       "    <tr>\n",
       "      <th>10</th>\n",
       "      <td>14702.49</td>\n",
       "      <td>15</td>\n",
       "    </tr>\n",
       "    <tr>\n",
       "      <th>11</th>\n",
       "      <td>14756.47</td>\n",
       "      <td>15</td>\n",
       "    </tr>\n",
       "    <tr>\n",
       "      <th>12</th>\n",
       "      <td>9817.61</td>\n",
       "      <td>10</td>\n",
       "    </tr>\n",
       "    <tr>\n",
       "      <th rowspan=\"2\" valign=\"top\">1001</th>\n",
       "      <th>11</th>\n",
       "      <td>18429.34</td>\n",
       "      <td>18</td>\n",
       "    </tr>\n",
       "    <tr>\n",
       "      <th>12</th>\n",
       "      <td>14036.66</td>\n",
       "      <td>14</td>\n",
       "    </tr>\n",
       "  </tbody>\n",
       "</table>\n",
       "</div>"
      ],
      "text/plain": [
       "                mb_used  gb_used\n",
       "user_id month                   \n",
       "1000    5       2253.49        3\n",
       "        6      23233.77       23\n",
       "        7      14003.64       14\n",
       "        8      14055.93       14\n",
       "        9      14568.91       15\n",
       "        10     14702.49       15\n",
       "        11     14756.47       15\n",
       "        12      9817.61       10\n",
       "1001    11     18429.34       18\n",
       "        12     14036.66       14"
      ]
     },
     "metadata": {},
     "output_type": "display_data"
    }
   ],
   "source": [
    "display(internet_pivot.head(10))"
   ]
  },
  {
   "cell_type": "markdown",
   "metadata": {},
   "source": [
    "Для расчета помесячной выручки с каждого пользователя для удобства объединим данные в одну таблицу."
   ]
  },
  {
   "cell_type": "code",
   "execution_count": 41,
   "metadata": {
    "scrolled": false
   },
   "outputs": [
    {
     "name": "stderr",
     "output_type": "stream",
     "text": [
      "/opt/conda/lib/python3.9/site-packages/pandas/core/reshape/merge.py:648: UserWarning: merging between different levels can give an unintended result (2 levels on the left,1 on the right)\n",
      "  warnings.warn(msg, UserWarning)\n"
     ]
    },
    {
     "data": {
      "text/html": [
       "<div>\n",
       "<style scoped>\n",
       "    .dataframe tbody tr th:only-of-type {\n",
       "        vertical-align: middle;\n",
       "    }\n",
       "\n",
       "    .dataframe tbody tr th {\n",
       "        vertical-align: top;\n",
       "    }\n",
       "\n",
       "    .dataframe thead th {\n",
       "        text-align: right;\n",
       "    }\n",
       "</style>\n",
       "<table border=\"1\" class=\"dataframe\">\n",
       "  <thead>\n",
       "    <tr style=\"text-align: right;\">\n",
       "      <th></th>\n",
       "      <th>user_id</th>\n",
       "      <th>month</th>\n",
       "      <th>calls_count</th>\n",
       "      <th>calls_duration</th>\n",
       "      <th>messages_count</th>\n",
       "      <th>gb_used</th>\n",
       "    </tr>\n",
       "  </thead>\n",
       "  <tbody>\n",
       "    <tr>\n",
       "      <th>0</th>\n",
       "      <td>1000</td>\n",
       "      <td>5</td>\n",
       "      <td>22.0</td>\n",
       "      <td>159.0</td>\n",
       "      <td>22.0</td>\n",
       "      <td>3.0</td>\n",
       "    </tr>\n",
       "    <tr>\n",
       "      <th>1</th>\n",
       "      <td>1000</td>\n",
       "      <td>6</td>\n",
       "      <td>43.0</td>\n",
       "      <td>172.0</td>\n",
       "      <td>60.0</td>\n",
       "      <td>23.0</td>\n",
       "    </tr>\n",
       "    <tr>\n",
       "      <th>2</th>\n",
       "      <td>1000</td>\n",
       "      <td>7</td>\n",
       "      <td>47.0</td>\n",
       "      <td>340.0</td>\n",
       "      <td>75.0</td>\n",
       "      <td>14.0</td>\n",
       "    </tr>\n",
       "    <tr>\n",
       "      <th>3</th>\n",
       "      <td>1000</td>\n",
       "      <td>8</td>\n",
       "      <td>52.0</td>\n",
       "      <td>408.0</td>\n",
       "      <td>81.0</td>\n",
       "      <td>14.0</td>\n",
       "    </tr>\n",
       "    <tr>\n",
       "      <th>4</th>\n",
       "      <td>1000</td>\n",
       "      <td>9</td>\n",
       "      <td>58.0</td>\n",
       "      <td>466.0</td>\n",
       "      <td>57.0</td>\n",
       "      <td>15.0</td>\n",
       "    </tr>\n",
       "    <tr>\n",
       "      <th>5</th>\n",
       "      <td>1000</td>\n",
       "      <td>10</td>\n",
       "      <td>57.0</td>\n",
       "      <td>350.0</td>\n",
       "      <td>73.0</td>\n",
       "      <td>15.0</td>\n",
       "    </tr>\n",
       "    <tr>\n",
       "      <th>6</th>\n",
       "      <td>1000</td>\n",
       "      <td>11</td>\n",
       "      <td>43.0</td>\n",
       "      <td>338.0</td>\n",
       "      <td>58.0</td>\n",
       "      <td>15.0</td>\n",
       "    </tr>\n",
       "    <tr>\n",
       "      <th>7</th>\n",
       "      <td>1000</td>\n",
       "      <td>12</td>\n",
       "      <td>46.0</td>\n",
       "      <td>333.0</td>\n",
       "      <td>70.0</td>\n",
       "      <td>10.0</td>\n",
       "    </tr>\n",
       "    <tr>\n",
       "      <th>8</th>\n",
       "      <td>1001</td>\n",
       "      <td>11</td>\n",
       "      <td>59.0</td>\n",
       "      <td>430.0</td>\n",
       "      <td>NaN</td>\n",
       "      <td>18.0</td>\n",
       "    </tr>\n",
       "    <tr>\n",
       "      <th>9</th>\n",
       "      <td>1001</td>\n",
       "      <td>12</td>\n",
       "      <td>63.0</td>\n",
       "      <td>414.0</td>\n",
       "      <td>NaN</td>\n",
       "      <td>14.0</td>\n",
       "    </tr>\n",
       "  </tbody>\n",
       "</table>\n",
       "</div>"
      ],
      "text/plain": [
       "   user_id  month  calls_count  calls_duration  messages_count  gb_used\n",
       "0     1000      5         22.0           159.0            22.0      3.0\n",
       "1     1000      6         43.0           172.0            60.0     23.0\n",
       "2     1000      7         47.0           340.0            75.0     14.0\n",
       "3     1000      8         52.0           408.0            81.0     14.0\n",
       "4     1000      9         58.0           466.0            57.0     15.0\n",
       "5     1000     10         57.0           350.0            73.0     15.0\n",
       "6     1000     11         43.0           338.0            58.0     15.0\n",
       "7     1000     12         46.0           333.0            70.0     10.0\n",
       "8     1001     11         59.0           430.0             NaN     18.0\n",
       "9     1001     12         63.0           414.0             NaN     14.0"
      ]
     },
     "metadata": {},
     "output_type": "display_data"
    },
    {
     "name": "stdout",
     "output_type": "stream",
     "text": [
      "<class 'pandas.core.frame.DataFrame'>\n",
      "RangeIndex: 3214 entries, 0 to 3213\n",
      "Data columns (total 6 columns):\n",
      " #   Column          Non-Null Count  Dtype  \n",
      "---  ------          --------------  -----  \n",
      " 0   user_id         3214 non-null   int64  \n",
      " 1   month           3214 non-null   int64  \n",
      " 2   calls_count     3174 non-null   float64\n",
      " 3   calls_duration  3174 non-null   float64\n",
      " 4   messages_count  2717 non-null   float64\n",
      " 5   gb_used         3203 non-null   float64\n",
      "dtypes: float64(4), int64(2)\n",
      "memory usage: 150.8 KB\n"
     ]
    }
   ],
   "source": [
    "# Объединяем сводные таблицы\n",
    "df = calls_pivot.join(messages_pivot, on=['user_id', 'month'], how='outer')\n",
    "df = df.join(internet_pivot, on=['user_id','month'], how='outer')\n",
    "\n",
    "# Преобразуем мультиидекс в столбцы\n",
    "df.reset_index(inplace=True)  \n",
    "\n",
    "# Отбрасываем столбец, который не пригодится при анализе\n",
    "df.pop('mb_used')\n",
    "\n",
    "# Для удобства переименовываем столбцы\n",
    "df = df.rename(columns={('count','duration'): 'calls_count', ('sum','duration'): 'calls_duration', 'id': 'messages_count'})\n",
    "\n",
    "display(df.head(10))\n",
    "df.info()\n"
   ]
  },
  {
   "cell_type": "code",
   "execution_count": 42,
   "metadata": {},
   "outputs": [
    {
     "data": {
      "text/html": [
       "<div>\n",
       "<style scoped>\n",
       "    .dataframe tbody tr th:only-of-type {\n",
       "        vertical-align: middle;\n",
       "    }\n",
       "\n",
       "    .dataframe tbody tr th {\n",
       "        vertical-align: top;\n",
       "    }\n",
       "\n",
       "    .dataframe thead th {\n",
       "        text-align: right;\n",
       "    }\n",
       "</style>\n",
       "<table border=\"1\" class=\"dataframe\">\n",
       "  <thead>\n",
       "    <tr style=\"text-align: right;\">\n",
       "      <th></th>\n",
       "      <th>user_id</th>\n",
       "      <th>age</th>\n",
       "      <th>churn_date</th>\n",
       "      <th>city</th>\n",
       "      <th>first_name</th>\n",
       "      <th>last_name</th>\n",
       "      <th>reg_date</th>\n",
       "      <th>tariff</th>\n",
       "    </tr>\n",
       "  </thead>\n",
       "  <tbody>\n",
       "    <tr>\n",
       "      <th>0</th>\n",
       "      <td>1000</td>\n",
       "      <td>52</td>\n",
       "      <td>NaT</td>\n",
       "      <td>Краснодар</td>\n",
       "      <td>Рафаил</td>\n",
       "      <td>Верещагин</td>\n",
       "      <td>2018-05-25</td>\n",
       "      <td>ultra</td>\n",
       "    </tr>\n",
       "    <tr>\n",
       "      <th>1</th>\n",
       "      <td>1001</td>\n",
       "      <td>41</td>\n",
       "      <td>NaT</td>\n",
       "      <td>Москва</td>\n",
       "      <td>Иван</td>\n",
       "      <td>Ежов</td>\n",
       "      <td>2018-11-01</td>\n",
       "      <td>smart</td>\n",
       "    </tr>\n",
       "    <tr>\n",
       "      <th>2</th>\n",
       "      <td>1002</td>\n",
       "      <td>59</td>\n",
       "      <td>NaT</td>\n",
       "      <td>Стерлитамак</td>\n",
       "      <td>Евгений</td>\n",
       "      <td>Абрамович</td>\n",
       "      <td>2018-06-17</td>\n",
       "      <td>smart</td>\n",
       "    </tr>\n",
       "    <tr>\n",
       "      <th>3</th>\n",
       "      <td>1003</td>\n",
       "      <td>23</td>\n",
       "      <td>NaT</td>\n",
       "      <td>Москва</td>\n",
       "      <td>Белла</td>\n",
       "      <td>Белякова</td>\n",
       "      <td>2018-08-17</td>\n",
       "      <td>ultra</td>\n",
       "    </tr>\n",
       "    <tr>\n",
       "      <th>4</th>\n",
       "      <td>1004</td>\n",
       "      <td>68</td>\n",
       "      <td>NaT</td>\n",
       "      <td>Новокузнецк</td>\n",
       "      <td>Татьяна</td>\n",
       "      <td>Авдеенко</td>\n",
       "      <td>2018-05-14</td>\n",
       "      <td>ultra</td>\n",
       "    </tr>\n",
       "    <tr>\n",
       "      <th>...</th>\n",
       "      <td>...</td>\n",
       "      <td>...</td>\n",
       "      <td>...</td>\n",
       "      <td>...</td>\n",
       "      <td>...</td>\n",
       "      <td>...</td>\n",
       "      <td>...</td>\n",
       "      <td>...</td>\n",
       "    </tr>\n",
       "    <tr>\n",
       "      <th>495</th>\n",
       "      <td>1495</td>\n",
       "      <td>65</td>\n",
       "      <td>NaT</td>\n",
       "      <td>Иркутск</td>\n",
       "      <td>Авксентий</td>\n",
       "      <td>Фокин</td>\n",
       "      <td>2018-08-28</td>\n",
       "      <td>ultra</td>\n",
       "    </tr>\n",
       "    <tr>\n",
       "      <th>496</th>\n",
       "      <td>1496</td>\n",
       "      <td>36</td>\n",
       "      <td>NaT</td>\n",
       "      <td>Вологда</td>\n",
       "      <td>Трифон</td>\n",
       "      <td>Блохин</td>\n",
       "      <td>2018-01-27</td>\n",
       "      <td>smart</td>\n",
       "    </tr>\n",
       "    <tr>\n",
       "      <th>497</th>\n",
       "      <td>1497</td>\n",
       "      <td>32</td>\n",
       "      <td>NaT</td>\n",
       "      <td>Челябинск</td>\n",
       "      <td>Каролина</td>\n",
       "      <td>Агеева</td>\n",
       "      <td>2018-10-09</td>\n",
       "      <td>smart</td>\n",
       "    </tr>\n",
       "    <tr>\n",
       "      <th>498</th>\n",
       "      <td>1498</td>\n",
       "      <td>68</td>\n",
       "      <td>2018-10-25</td>\n",
       "      <td>Владикавказ</td>\n",
       "      <td>Всеволод</td>\n",
       "      <td>Акимчин</td>\n",
       "      <td>2018-07-19</td>\n",
       "      <td>smart</td>\n",
       "    </tr>\n",
       "    <tr>\n",
       "      <th>499</th>\n",
       "      <td>1499</td>\n",
       "      <td>35</td>\n",
       "      <td>NaT</td>\n",
       "      <td>Пермь</td>\n",
       "      <td>Гектор</td>\n",
       "      <td>Корнилов</td>\n",
       "      <td>2018-09-27</td>\n",
       "      <td>smart</td>\n",
       "    </tr>\n",
       "  </tbody>\n",
       "</table>\n",
       "<p>500 rows × 8 columns</p>\n",
       "</div>"
      ],
      "text/plain": [
       "     user_id  age churn_date         city first_name  last_name   reg_date  \\\n",
       "0       1000   52        NaT    Краснодар     Рафаил  Верещагин 2018-05-25   \n",
       "1       1001   41        NaT       Москва       Иван       Ежов 2018-11-01   \n",
       "2       1002   59        NaT  Стерлитамак    Евгений  Абрамович 2018-06-17   \n",
       "3       1003   23        NaT       Москва      Белла   Белякова 2018-08-17   \n",
       "4       1004   68        NaT  Новокузнецк    Татьяна   Авдеенко 2018-05-14   \n",
       "..       ...  ...        ...          ...        ...        ...        ...   \n",
       "495     1495   65        NaT      Иркутск  Авксентий      Фокин 2018-08-28   \n",
       "496     1496   36        NaT      Вологда     Трифон     Блохин 2018-01-27   \n",
       "497     1497   32        NaT    Челябинск   Каролина     Агеева 2018-10-09   \n",
       "498     1498   68 2018-10-25  Владикавказ   Всеволод    Акимчин 2018-07-19   \n",
       "499     1499   35        NaT        Пермь     Гектор   Корнилов 2018-09-27   \n",
       "\n",
       "    tariff  \n",
       "0    ultra  \n",
       "1    smart  \n",
       "2    smart  \n",
       "3    ultra  \n",
       "4    ultra  \n",
       "..     ...  \n",
       "495  ultra  \n",
       "496  smart  \n",
       "497  smart  \n",
       "498  smart  \n",
       "499  smart  \n",
       "\n",
       "[500 rows x 8 columns]"
      ]
     },
     "execution_count": 42,
     "metadata": {},
     "output_type": "execute_result"
    }
   ],
   "source": [
    "users"
   ]
  },
  {
   "cell_type": "markdown",
   "metadata": {},
   "source": [
    "Добавим информацию также из таблицы `users`:"
   ]
  },
  {
   "cell_type": "code",
   "execution_count": 43,
   "metadata": {},
   "outputs": [
    {
     "data": {
      "text/html": [
       "<div>\n",
       "<style scoped>\n",
       "    .dataframe tbody tr th:only-of-type {\n",
       "        vertical-align: middle;\n",
       "    }\n",
       "\n",
       "    .dataframe tbody tr th {\n",
       "        vertical-align: top;\n",
       "    }\n",
       "\n",
       "    .dataframe thead th {\n",
       "        text-align: right;\n",
       "    }\n",
       "</style>\n",
       "<table border=\"1\" class=\"dataframe\">\n",
       "  <thead>\n",
       "    <tr style=\"text-align: right;\">\n",
       "      <th></th>\n",
       "      <th>user_id</th>\n",
       "      <th>month</th>\n",
       "      <th>calls_count</th>\n",
       "      <th>calls_duration</th>\n",
       "      <th>messages_count</th>\n",
       "      <th>gb_used</th>\n",
       "      <th>tariff</th>\n",
       "      <th>city</th>\n",
       "    </tr>\n",
       "  </thead>\n",
       "  <tbody>\n",
       "    <tr>\n",
       "      <th>0</th>\n",
       "      <td>1000</td>\n",
       "      <td>5</td>\n",
       "      <td>22</td>\n",
       "      <td>159</td>\n",
       "      <td>22</td>\n",
       "      <td>3</td>\n",
       "      <td>ultra</td>\n",
       "      <td>Краснодар</td>\n",
       "    </tr>\n",
       "    <tr>\n",
       "      <th>1</th>\n",
       "      <td>1000</td>\n",
       "      <td>6</td>\n",
       "      <td>43</td>\n",
       "      <td>172</td>\n",
       "      <td>60</td>\n",
       "      <td>23</td>\n",
       "      <td>ultra</td>\n",
       "      <td>Краснодар</td>\n",
       "    </tr>\n",
       "    <tr>\n",
       "      <th>2</th>\n",
       "      <td>1000</td>\n",
       "      <td>7</td>\n",
       "      <td>47</td>\n",
       "      <td>340</td>\n",
       "      <td>75</td>\n",
       "      <td>14</td>\n",
       "      <td>ultra</td>\n",
       "      <td>Краснодар</td>\n",
       "    </tr>\n",
       "    <tr>\n",
       "      <th>3</th>\n",
       "      <td>1000</td>\n",
       "      <td>8</td>\n",
       "      <td>52</td>\n",
       "      <td>408</td>\n",
       "      <td>81</td>\n",
       "      <td>14</td>\n",
       "      <td>ultra</td>\n",
       "      <td>Краснодар</td>\n",
       "    </tr>\n",
       "    <tr>\n",
       "      <th>4</th>\n",
       "      <td>1000</td>\n",
       "      <td>9</td>\n",
       "      <td>58</td>\n",
       "      <td>466</td>\n",
       "      <td>57</td>\n",
       "      <td>15</td>\n",
       "      <td>ultra</td>\n",
       "      <td>Краснодар</td>\n",
       "    </tr>\n",
       "    <tr>\n",
       "      <th>5</th>\n",
       "      <td>1000</td>\n",
       "      <td>10</td>\n",
       "      <td>57</td>\n",
       "      <td>350</td>\n",
       "      <td>73</td>\n",
       "      <td>15</td>\n",
       "      <td>ultra</td>\n",
       "      <td>Краснодар</td>\n",
       "    </tr>\n",
       "    <tr>\n",
       "      <th>6</th>\n",
       "      <td>1000</td>\n",
       "      <td>11</td>\n",
       "      <td>43</td>\n",
       "      <td>338</td>\n",
       "      <td>58</td>\n",
       "      <td>15</td>\n",
       "      <td>ultra</td>\n",
       "      <td>Краснодар</td>\n",
       "    </tr>\n",
       "    <tr>\n",
       "      <th>7</th>\n",
       "      <td>1000</td>\n",
       "      <td>12</td>\n",
       "      <td>46</td>\n",
       "      <td>333</td>\n",
       "      <td>70</td>\n",
       "      <td>10</td>\n",
       "      <td>ultra</td>\n",
       "      <td>Краснодар</td>\n",
       "    </tr>\n",
       "    <tr>\n",
       "      <th>8</th>\n",
       "      <td>1001</td>\n",
       "      <td>11</td>\n",
       "      <td>59</td>\n",
       "      <td>430</td>\n",
       "      <td>0</td>\n",
       "      <td>18</td>\n",
       "      <td>smart</td>\n",
       "      <td>Москва</td>\n",
       "    </tr>\n",
       "    <tr>\n",
       "      <th>9</th>\n",
       "      <td>1001</td>\n",
       "      <td>12</td>\n",
       "      <td>63</td>\n",
       "      <td>414</td>\n",
       "      <td>0</td>\n",
       "      <td>14</td>\n",
       "      <td>smart</td>\n",
       "      <td>Москва</td>\n",
       "    </tr>\n",
       "  </tbody>\n",
       "</table>\n",
       "</div>"
      ],
      "text/plain": [
       "   user_id  month  calls_count  calls_duration  messages_count  gb_used  \\\n",
       "0     1000      5           22             159              22        3   \n",
       "1     1000      6           43             172              60       23   \n",
       "2     1000      7           47             340              75       14   \n",
       "3     1000      8           52             408              81       14   \n",
       "4     1000      9           58             466              57       15   \n",
       "5     1000     10           57             350              73       15   \n",
       "6     1000     11           43             338              58       15   \n",
       "7     1000     12           46             333              70       10   \n",
       "8     1001     11           59             430               0       18   \n",
       "9     1001     12           63             414               0       14   \n",
       "\n",
       "  tariff       city  \n",
       "0  ultra  Краснодар  \n",
       "1  ultra  Краснодар  \n",
       "2  ultra  Краснодар  \n",
       "3  ultra  Краснодар  \n",
       "4  ultra  Краснодар  \n",
       "5  ultra  Краснодар  \n",
       "6  ultra  Краснодар  \n",
       "7  ultra  Краснодар  \n",
       "8  smart     Москва  \n",
       "9  smart     Москва  "
      ]
     },
     "metadata": {},
     "output_type": "display_data"
    },
    {
     "name": "stdout",
     "output_type": "stream",
     "text": [
      "<class 'pandas.core.frame.DataFrame'>\n",
      "Int64Index: 3214 entries, 0 to 3213\n",
      "Data columns (total 8 columns):\n",
      " #   Column          Non-Null Count  Dtype \n",
      "---  ------          --------------  ----- \n",
      " 0   user_id         3214 non-null   int64 \n",
      " 1   month           3214 non-null   int64 \n",
      " 2   calls_count     3214 non-null   int64 \n",
      " 3   calls_duration  3214 non-null   int64 \n",
      " 4   messages_count  3214 non-null   int64 \n",
      " 5   gb_used         3214 non-null   int64 \n",
      " 6   tariff          3214 non-null   object\n",
      " 7   city            3214 non-null   object\n",
      "dtypes: int64(6), object(2)\n",
      "memory usage: 226.0+ KB\n"
     ]
    },
    {
     "data": {
      "text/plain": [
       "None"
      ]
     },
     "metadata": {},
     "output_type": "display_data"
    }
   ],
   "source": [
    "df = df.merge(users[['user_id', 'tariff', 'city']], how='inner', on='user_id')\n",
    "\n",
    "# Заполняем пропуски нулями\n",
    "df['calls_count'] = df['calls_count'].fillna(0)\n",
    "df['calls_duration'] = df['calls_duration'].fillna(0)\n",
    "df['messages_count'] = df['messages_count'].fillna(0)\n",
    "df['gb_used'] = df['gb_used'].fillna(0)\n",
    "\n",
    "\n",
    "# Меняем тип данных на целый\n",
    "df['calls_count'] = df['calls_count'].astype('int')\n",
    "df['calls_duration'] = df['calls_duration'].astype('int')\n",
    "df['messages_count'] = df['messages_count'].astype('int')\n",
    "df['gb_used'] = df['gb_used'].astype('int')\n",
    "\n",
    "display(df.head(10))\n",
    "display(df.info())"
   ]
  },
  {
   "cell_type": "code",
   "execution_count": 44,
   "metadata": {},
   "outputs": [
    {
     "data": {
      "text/html": [
       "<div>\n",
       "<style scoped>\n",
       "    .dataframe tbody tr th:only-of-type {\n",
       "        vertical-align: middle;\n",
       "    }\n",
       "\n",
       "    .dataframe tbody tr th {\n",
       "        vertical-align: top;\n",
       "    }\n",
       "\n",
       "    .dataframe thead th {\n",
       "        text-align: right;\n",
       "    }\n",
       "</style>\n",
       "<table border=\"1\" class=\"dataframe\">\n",
       "  <thead>\n",
       "    <tr style=\"text-align: right;\">\n",
       "      <th></th>\n",
       "      <th>messages_included</th>\n",
       "      <th>mb_per_month_included</th>\n",
       "      <th>minutes_included</th>\n",
       "      <th>rub_monthly_fee</th>\n",
       "      <th>rub_per_gb</th>\n",
       "      <th>rub_per_message</th>\n",
       "      <th>rub_per_minute</th>\n",
       "      <th>tariff</th>\n",
       "      <th>gb_included</th>\n",
       "    </tr>\n",
       "  </thead>\n",
       "  <tbody>\n",
       "    <tr>\n",
       "      <th>0</th>\n",
       "      <td>50</td>\n",
       "      <td>15360</td>\n",
       "      <td>500</td>\n",
       "      <td>550</td>\n",
       "      <td>200</td>\n",
       "      <td>3</td>\n",
       "      <td>3</td>\n",
       "      <td>smart</td>\n",
       "      <td>15</td>\n",
       "    </tr>\n",
       "    <tr>\n",
       "      <th>1</th>\n",
       "      <td>1000</td>\n",
       "      <td>30720</td>\n",
       "      <td>3000</td>\n",
       "      <td>1950</td>\n",
       "      <td>150</td>\n",
       "      <td>1</td>\n",
       "      <td>1</td>\n",
       "      <td>ultra</td>\n",
       "      <td>30</td>\n",
       "    </tr>\n",
       "  </tbody>\n",
       "</table>\n",
       "</div>"
      ],
      "text/plain": [
       "   messages_included  mb_per_month_included  minutes_included  \\\n",
       "0                 50                  15360               500   \n",
       "1               1000                  30720              3000   \n",
       "\n",
       "   rub_monthly_fee  rub_per_gb  rub_per_message  rub_per_minute tariff  \\\n",
       "0              550         200                3               3  smart   \n",
       "1             1950         150                1               1  ultra   \n",
       "\n",
       "   gb_included  \n",
       "0           15  \n",
       "1           30  "
      ]
     },
     "metadata": {},
     "output_type": "display_data"
    }
   ],
   "source": [
    "tariffs['gb_included'] = (tariffs['mb_per_month_included']/1024).astype('int')\n",
    "tariffs = tariffs.rename(columns={'tariff_name':'tariff'})\n",
    "display(tariffs)"
   ]
  },
  {
   "cell_type": "code",
   "execution_count": 45,
   "metadata": {},
   "outputs": [
    {
     "data": {
      "text/html": [
       "<div>\n",
       "<style scoped>\n",
       "    .dataframe tbody tr th:only-of-type {\n",
       "        vertical-align: middle;\n",
       "    }\n",
       "\n",
       "    .dataframe tbody tr th {\n",
       "        vertical-align: top;\n",
       "    }\n",
       "\n",
       "    .dataframe thead th {\n",
       "        text-align: right;\n",
       "    }\n",
       "</style>\n",
       "<table border=\"1\" class=\"dataframe\">\n",
       "  <thead>\n",
       "    <tr style=\"text-align: right;\">\n",
       "      <th></th>\n",
       "      <th>user_id</th>\n",
       "      <th>month</th>\n",
       "      <th>calls_count</th>\n",
       "      <th>calls_duration</th>\n",
       "      <th>messages_count</th>\n",
       "      <th>gb_used</th>\n",
       "      <th>tariff</th>\n",
       "      <th>city</th>\n",
       "      <th>messages_included</th>\n",
       "      <th>mb_per_month_included</th>\n",
       "      <th>minutes_included</th>\n",
       "      <th>rub_monthly_fee</th>\n",
       "      <th>rub_per_gb</th>\n",
       "      <th>rub_per_message</th>\n",
       "      <th>rub_per_minute</th>\n",
       "      <th>gb_included</th>\n",
       "    </tr>\n",
       "  </thead>\n",
       "  <tbody>\n",
       "    <tr>\n",
       "      <th>0</th>\n",
       "      <td>1000</td>\n",
       "      <td>5</td>\n",
       "      <td>22</td>\n",
       "      <td>159</td>\n",
       "      <td>22</td>\n",
       "      <td>3</td>\n",
       "      <td>ultra</td>\n",
       "      <td>Краснодар</td>\n",
       "      <td>1000</td>\n",
       "      <td>30720</td>\n",
       "      <td>3000</td>\n",
       "      <td>1950</td>\n",
       "      <td>150</td>\n",
       "      <td>1</td>\n",
       "      <td>1</td>\n",
       "      <td>30</td>\n",
       "    </tr>\n",
       "    <tr>\n",
       "      <th>1</th>\n",
       "      <td>1000</td>\n",
       "      <td>6</td>\n",
       "      <td>43</td>\n",
       "      <td>172</td>\n",
       "      <td>60</td>\n",
       "      <td>23</td>\n",
       "      <td>ultra</td>\n",
       "      <td>Краснодар</td>\n",
       "      <td>1000</td>\n",
       "      <td>30720</td>\n",
       "      <td>3000</td>\n",
       "      <td>1950</td>\n",
       "      <td>150</td>\n",
       "      <td>1</td>\n",
       "      <td>1</td>\n",
       "      <td>30</td>\n",
       "    </tr>\n",
       "    <tr>\n",
       "      <th>2</th>\n",
       "      <td>1000</td>\n",
       "      <td>7</td>\n",
       "      <td>47</td>\n",
       "      <td>340</td>\n",
       "      <td>75</td>\n",
       "      <td>14</td>\n",
       "      <td>ultra</td>\n",
       "      <td>Краснодар</td>\n",
       "      <td>1000</td>\n",
       "      <td>30720</td>\n",
       "      <td>3000</td>\n",
       "      <td>1950</td>\n",
       "      <td>150</td>\n",
       "      <td>1</td>\n",
       "      <td>1</td>\n",
       "      <td>30</td>\n",
       "    </tr>\n",
       "    <tr>\n",
       "      <th>3</th>\n",
       "      <td>1000</td>\n",
       "      <td>8</td>\n",
       "      <td>52</td>\n",
       "      <td>408</td>\n",
       "      <td>81</td>\n",
       "      <td>14</td>\n",
       "      <td>ultra</td>\n",
       "      <td>Краснодар</td>\n",
       "      <td>1000</td>\n",
       "      <td>30720</td>\n",
       "      <td>3000</td>\n",
       "      <td>1950</td>\n",
       "      <td>150</td>\n",
       "      <td>1</td>\n",
       "      <td>1</td>\n",
       "      <td>30</td>\n",
       "    </tr>\n",
       "    <tr>\n",
       "      <th>4</th>\n",
       "      <td>1000</td>\n",
       "      <td>9</td>\n",
       "      <td>58</td>\n",
       "      <td>466</td>\n",
       "      <td>57</td>\n",
       "      <td>15</td>\n",
       "      <td>ultra</td>\n",
       "      <td>Краснодар</td>\n",
       "      <td>1000</td>\n",
       "      <td>30720</td>\n",
       "      <td>3000</td>\n",
       "      <td>1950</td>\n",
       "      <td>150</td>\n",
       "      <td>1</td>\n",
       "      <td>1</td>\n",
       "      <td>30</td>\n",
       "    </tr>\n",
       "  </tbody>\n",
       "</table>\n",
       "</div>"
      ],
      "text/plain": [
       "   user_id  month  calls_count  calls_duration  messages_count  gb_used  \\\n",
       "0     1000      5           22             159              22        3   \n",
       "1     1000      6           43             172              60       23   \n",
       "2     1000      7           47             340              75       14   \n",
       "3     1000      8           52             408              81       14   \n",
       "4     1000      9           58             466              57       15   \n",
       "\n",
       "  tariff       city  messages_included  mb_per_month_included  \\\n",
       "0  ultra  Краснодар               1000                  30720   \n",
       "1  ultra  Краснодар               1000                  30720   \n",
       "2  ultra  Краснодар               1000                  30720   \n",
       "3  ultra  Краснодар               1000                  30720   \n",
       "4  ultra  Краснодар               1000                  30720   \n",
       "\n",
       "   minutes_included  rub_monthly_fee  rub_per_gb  rub_per_message  \\\n",
       "0              3000             1950         150                1   \n",
       "1              3000             1950         150                1   \n",
       "2              3000             1950         150                1   \n",
       "3              3000             1950         150                1   \n",
       "4              3000             1950         150                1   \n",
       "\n",
       "   rub_per_minute  gb_included  \n",
       "0               1           30  \n",
       "1               1           30  \n",
       "2               1           30  \n",
       "3               1           30  \n",
       "4               1           30  "
      ]
     },
     "metadata": {},
     "output_type": "display_data"
    }
   ],
   "source": [
    "df = df.merge(tariffs, how='outer', on='tariff')\n",
    "display(df.head())"
   ]
  },
  {
   "cell_type": "markdown",
   "metadata": {},
   "source": [
    "Теперь можно рассчитать помесячную выручку с каждого пользователя. \n",
    "\n",
    "Для этого вычтем бесплатный лимит из суммарного количества звонков, сообщений и интернет-трафика; остаток умножим на значение из тарифного плана; прибавим абонентскую плату, соответствующую тарифному плану."
   ]
  },
  {
   "cell_type": "code",
   "execution_count": 49,
   "metadata": {},
   "outputs": [
    {
     "data": {
      "text/html": [
       "<div>\n",
       "<style scoped>\n",
       "    .dataframe tbody tr th:only-of-type {\n",
       "        vertical-align: middle;\n",
       "    }\n",
       "\n",
       "    .dataframe tbody tr th {\n",
       "        vertical-align: top;\n",
       "    }\n",
       "\n",
       "    .dataframe thead th {\n",
       "        text-align: right;\n",
       "    }\n",
       "</style>\n",
       "<table border=\"1\" class=\"dataframe\">\n",
       "  <thead>\n",
       "    <tr style=\"text-align: right;\">\n",
       "      <th></th>\n",
       "      <th>user_id</th>\n",
       "      <th>month</th>\n",
       "      <th>calls_count</th>\n",
       "      <th>calls_duration</th>\n",
       "      <th>messages_count</th>\n",
       "      <th>gb_used</th>\n",
       "      <th>tariff</th>\n",
       "      <th>city</th>\n",
       "      <th>messages_included</th>\n",
       "      <th>mb_per_month_included</th>\n",
       "      <th>minutes_included</th>\n",
       "      <th>rub_monthly_fee</th>\n",
       "      <th>rub_per_gb</th>\n",
       "      <th>rub_per_message</th>\n",
       "      <th>rub_per_minute</th>\n",
       "      <th>gb_included</th>\n",
       "      <th>revenue</th>\n",
       "    </tr>\n",
       "  </thead>\n",
       "  <tbody>\n",
       "    <tr>\n",
       "      <th>0</th>\n",
       "      <td>1000</td>\n",
       "      <td>5</td>\n",
       "      <td>22</td>\n",
       "      <td>159</td>\n",
       "      <td>22</td>\n",
       "      <td>3</td>\n",
       "      <td>ultra</td>\n",
       "      <td>Краснодар</td>\n",
       "      <td>1000</td>\n",
       "      <td>30720</td>\n",
       "      <td>3000</td>\n",
       "      <td>1950</td>\n",
       "      <td>150</td>\n",
       "      <td>1</td>\n",
       "      <td>1</td>\n",
       "      <td>30</td>\n",
       "      <td>1950</td>\n",
       "    </tr>\n",
       "    <tr>\n",
       "      <th>1</th>\n",
       "      <td>1000</td>\n",
       "      <td>6</td>\n",
       "      <td>43</td>\n",
       "      <td>172</td>\n",
       "      <td>60</td>\n",
       "      <td>23</td>\n",
       "      <td>ultra</td>\n",
       "      <td>Краснодар</td>\n",
       "      <td>1000</td>\n",
       "      <td>30720</td>\n",
       "      <td>3000</td>\n",
       "      <td>1950</td>\n",
       "      <td>150</td>\n",
       "      <td>1</td>\n",
       "      <td>1</td>\n",
       "      <td>30</td>\n",
       "      <td>1950</td>\n",
       "    </tr>\n",
       "    <tr>\n",
       "      <th>2</th>\n",
       "      <td>1000</td>\n",
       "      <td>7</td>\n",
       "      <td>47</td>\n",
       "      <td>340</td>\n",
       "      <td>75</td>\n",
       "      <td>14</td>\n",
       "      <td>ultra</td>\n",
       "      <td>Краснодар</td>\n",
       "      <td>1000</td>\n",
       "      <td>30720</td>\n",
       "      <td>3000</td>\n",
       "      <td>1950</td>\n",
       "      <td>150</td>\n",
       "      <td>1</td>\n",
       "      <td>1</td>\n",
       "      <td>30</td>\n",
       "      <td>1950</td>\n",
       "    </tr>\n",
       "    <tr>\n",
       "      <th>3</th>\n",
       "      <td>1000</td>\n",
       "      <td>8</td>\n",
       "      <td>52</td>\n",
       "      <td>408</td>\n",
       "      <td>81</td>\n",
       "      <td>14</td>\n",
       "      <td>ultra</td>\n",
       "      <td>Краснодар</td>\n",
       "      <td>1000</td>\n",
       "      <td>30720</td>\n",
       "      <td>3000</td>\n",
       "      <td>1950</td>\n",
       "      <td>150</td>\n",
       "      <td>1</td>\n",
       "      <td>1</td>\n",
       "      <td>30</td>\n",
       "      <td>1950</td>\n",
       "    </tr>\n",
       "    <tr>\n",
       "      <th>4</th>\n",
       "      <td>1000</td>\n",
       "      <td>9</td>\n",
       "      <td>58</td>\n",
       "      <td>466</td>\n",
       "      <td>57</td>\n",
       "      <td>15</td>\n",
       "      <td>ultra</td>\n",
       "      <td>Краснодар</td>\n",
       "      <td>1000</td>\n",
       "      <td>30720</td>\n",
       "      <td>3000</td>\n",
       "      <td>1950</td>\n",
       "      <td>150</td>\n",
       "      <td>1</td>\n",
       "      <td>1</td>\n",
       "      <td>30</td>\n",
       "      <td>1950</td>\n",
       "    </tr>\n",
       "    <tr>\n",
       "      <th>...</th>\n",
       "      <td>...</td>\n",
       "      <td>...</td>\n",
       "      <td>...</td>\n",
       "      <td>...</td>\n",
       "      <td>...</td>\n",
       "      <td>...</td>\n",
       "      <td>...</td>\n",
       "      <td>...</td>\n",
       "      <td>...</td>\n",
       "      <td>...</td>\n",
       "      <td>...</td>\n",
       "      <td>...</td>\n",
       "      <td>...</td>\n",
       "      <td>...</td>\n",
       "      <td>...</td>\n",
       "      <td>...</td>\n",
       "      <td>...</td>\n",
       "    </tr>\n",
       "    <tr>\n",
       "      <th>3209</th>\n",
       "      <td>1489</td>\n",
       "      <td>8</td>\n",
       "      <td>0</td>\n",
       "      <td>0</td>\n",
       "      <td>17</td>\n",
       "      <td>11</td>\n",
       "      <td>smart</td>\n",
       "      <td>Санкт-Петербург</td>\n",
       "      <td>50</td>\n",
       "      <td>15360</td>\n",
       "      <td>500</td>\n",
       "      <td>550</td>\n",
       "      <td>200</td>\n",
       "      <td>3</td>\n",
       "      <td>3</td>\n",
       "      <td>15</td>\n",
       "      <td>550</td>\n",
       "    </tr>\n",
       "    <tr>\n",
       "      <th>3210</th>\n",
       "      <td>1489</td>\n",
       "      <td>9</td>\n",
       "      <td>0</td>\n",
       "      <td>0</td>\n",
       "      <td>32</td>\n",
       "      <td>17</td>\n",
       "      <td>smart</td>\n",
       "      <td>Санкт-Петербург</td>\n",
       "      <td>50</td>\n",
       "      <td>15360</td>\n",
       "      <td>500</td>\n",
       "      <td>550</td>\n",
       "      <td>200</td>\n",
       "      <td>3</td>\n",
       "      <td>3</td>\n",
       "      <td>15</td>\n",
       "      <td>950</td>\n",
       "    </tr>\n",
       "    <tr>\n",
       "      <th>3211</th>\n",
       "      <td>1489</td>\n",
       "      <td>10</td>\n",
       "      <td>0</td>\n",
       "      <td>0</td>\n",
       "      <td>21</td>\n",
       "      <td>20</td>\n",
       "      <td>smart</td>\n",
       "      <td>Санкт-Петербург</td>\n",
       "      <td>50</td>\n",
       "      <td>15360</td>\n",
       "      <td>500</td>\n",
       "      <td>550</td>\n",
       "      <td>200</td>\n",
       "      <td>3</td>\n",
       "      <td>3</td>\n",
       "      <td>15</td>\n",
       "      <td>1550</td>\n",
       "    </tr>\n",
       "    <tr>\n",
       "      <th>3212</th>\n",
       "      <td>1489</td>\n",
       "      <td>11</td>\n",
       "      <td>0</td>\n",
       "      <td>0</td>\n",
       "      <td>20</td>\n",
       "      <td>18</td>\n",
       "      <td>smart</td>\n",
       "      <td>Санкт-Петербург</td>\n",
       "      <td>50</td>\n",
       "      <td>15360</td>\n",
       "      <td>500</td>\n",
       "      <td>550</td>\n",
       "      <td>200</td>\n",
       "      <td>3</td>\n",
       "      <td>3</td>\n",
       "      <td>15</td>\n",
       "      <td>1150</td>\n",
       "    </tr>\n",
       "    <tr>\n",
       "      <th>3213</th>\n",
       "      <td>1489</td>\n",
       "      <td>12</td>\n",
       "      <td>0</td>\n",
       "      <td>0</td>\n",
       "      <td>35</td>\n",
       "      <td>17</td>\n",
       "      <td>smart</td>\n",
       "      <td>Санкт-Петербург</td>\n",
       "      <td>50</td>\n",
       "      <td>15360</td>\n",
       "      <td>500</td>\n",
       "      <td>550</td>\n",
       "      <td>200</td>\n",
       "      <td>3</td>\n",
       "      <td>3</td>\n",
       "      <td>15</td>\n",
       "      <td>950</td>\n",
       "    </tr>\n",
       "  </tbody>\n",
       "</table>\n",
       "<p>3214 rows × 17 columns</p>\n",
       "</div>"
      ],
      "text/plain": [
       "      user_id  month  calls_count  calls_duration  messages_count  gb_used  \\\n",
       "0        1000      5           22             159              22        3   \n",
       "1        1000      6           43             172              60       23   \n",
       "2        1000      7           47             340              75       14   \n",
       "3        1000      8           52             408              81       14   \n",
       "4        1000      9           58             466              57       15   \n",
       "...       ...    ...          ...             ...             ...      ...   \n",
       "3209     1489      8            0               0              17       11   \n",
       "3210     1489      9            0               0              32       17   \n",
       "3211     1489     10            0               0              21       20   \n",
       "3212     1489     11            0               0              20       18   \n",
       "3213     1489     12            0               0              35       17   \n",
       "\n",
       "     tariff             city  messages_included  mb_per_month_included  \\\n",
       "0     ultra        Краснодар               1000                  30720   \n",
       "1     ultra        Краснодар               1000                  30720   \n",
       "2     ultra        Краснодар               1000                  30720   \n",
       "3     ultra        Краснодар               1000                  30720   \n",
       "4     ultra        Краснодар               1000                  30720   \n",
       "...     ...              ...                ...                    ...   \n",
       "3209  smart  Санкт-Петербург                 50                  15360   \n",
       "3210  smart  Санкт-Петербург                 50                  15360   \n",
       "3211  smart  Санкт-Петербург                 50                  15360   \n",
       "3212  smart  Санкт-Петербург                 50                  15360   \n",
       "3213  smart  Санкт-Петербург                 50                  15360   \n",
       "\n",
       "      minutes_included  rub_monthly_fee  rub_per_gb  rub_per_message  \\\n",
       "0                 3000             1950         150                1   \n",
       "1                 3000             1950         150                1   \n",
       "2                 3000             1950         150                1   \n",
       "3                 3000             1950         150                1   \n",
       "4                 3000             1950         150                1   \n",
       "...                ...              ...         ...              ...   \n",
       "3209               500              550         200                3   \n",
       "3210               500              550         200                3   \n",
       "3211               500              550         200                3   \n",
       "3212               500              550         200                3   \n",
       "3213               500              550         200                3   \n",
       "\n",
       "      rub_per_minute  gb_included  revenue  \n",
       "0                  1           30     1950  \n",
       "1                  1           30     1950  \n",
       "2                  1           30     1950  \n",
       "3                  1           30     1950  \n",
       "4                  1           30     1950  \n",
       "...              ...          ...      ...  \n",
       "3209               3           15      550  \n",
       "3210               3           15      950  \n",
       "3211               3           15     1550  \n",
       "3212               3           15     1150  \n",
       "3213               3           15      950  \n",
       "\n",
       "[3214 rows x 17 columns]"
      ]
     },
     "metadata": {},
     "output_type": "display_data"
    }
   ],
   "source": [
    "# Функция, позволяющая не учитывать в расчете месячной выручки \n",
    "# потраченные минуты, смс, интернет-трафик, если они не превышают\n",
    "# включенные в пакет лимиты\n",
    "\n",
    "def negative(x):\n",
    "    if x<0:\n",
    "        return 0\n",
    "    else:\n",
    "        return x\n",
    "    \n",
    "    \n",
    "# Создаем новый столбец и заполняем его 0\n",
    "df['revenue'] = 0    \n",
    "\n",
    "# Рассчитываем месячную выручку для каждого пользователя\n",
    "df['revenue'] = (df['calls_duration'] - df['minutes_included']).map(negative) * df['rub_per_minute'] + \\\n",
    "(df['messages_count'] - df['messages_included']).map(negative) * df['rub_per_message'] +\\\n",
    "(df['gb_used'] - df['gb_included']).map(negative) * df['rub_per_gb'] +\\\n",
    "   df['rub_monthly_fee']\n",
    "\n",
    "display(df)"
   ]
  },
  {
   "cell_type": "code",
   "execution_count": 50,
   "metadata": {},
   "outputs": [
    {
     "data": {
      "text/plain": [
       "count    3214.000000\n",
       "mean     1529.076229\n",
       "std       798.251091\n",
       "min       550.000000\n",
       "25%       750.000000\n",
       "50%      1653.500000\n",
       "75%      1950.000000\n",
       "max      6770.000000\n",
       "Name: revenue, dtype: float64"
      ]
     },
     "metadata": {},
     "output_type": "display_data"
    }
   ],
   "source": [
    "display(df['revenue'].describe())"
   ]
  },
  {
   "cell_type": "markdown",
   "metadata": {},
   "source": [
    "### Вывод"
   ]
  },
  {
   "cell_type": "markdown",
   "metadata": {},
   "source": [
    "В данном разделе была произведена подготовка данных:\n",
    "\n",
    "* был заменен тип данных в каждом столбце, содержащем информацию о датах на тип `datetime`; \n",
    "* определены минимальные и максимальные значения параметров с целью проверки данных:\n",
    "  - возраст пользователей составляет от 18 до 75 лет;\n",
    "  - длительность звонков лежит в диапазоне от 0 до 38 минут (звонки с нулевой продолжительностью являются пропущенными, поэтому эти данные не удалялись);\n",
    "  - объем потраченного трафика за 1 сессию составляет от 0 до 1724 МБ;\n",
    "  - все данные о звонках, интернет-сессиях, отправке смс относятся к 2018 году, поэтому следующим шагом были добавлены столбцы, отображающие только месяца, в которые совершались активности;\n",
    "  - для каждого пользователя были рассчитаны количество сделанных звонков и израсходованных минут разговора по месяцам, количество отправленных сообщений по месяцам, объем израсходованного интернет-трафика по месяцам, помесячная выручка с каждого пользователя.\n",
    "    \n",
    "    Было получено, что средняя месячная выручка составила 1529 рублей, минимальная - 550 рублей, что соостветсвует стоимости тарифа \"Смарт\", а максимальная - 6770 рублей. \n"
   ]
  },
  {
   "cell_type": "markdown",
   "metadata": {},
   "source": [
    "## Анализ данных"
   ]
  },
  {
   "cell_type": "markdown",
   "metadata": {},
   "source": [
    "Для понимания поведения клиентов опреатора, необходимо проанализировать cколько минут разговора, сколько сообщений и какой объём интернет-трафика требуется пользователям каждого тарифа в месяц."
   ]
  },
  {
   "cell_type": "markdown",
   "metadata": {},
   "source": [
    "Для начала рассчитаем для трех различных выборок средние значения, а также значения дисперсии - это улучшенная метрика разброса - средний квадрат расстояния между значениями датасета и средним, и другой характеристики меры разброса - стандартного отклонения."
   ]
  },
  {
   "cell_type": "code",
   "execution_count": 21,
   "metadata": {},
   "outputs": [
    {
     "name": "stdout",
     "output_type": "stream",
     "text": [
      "Cредняя продолжительность звонков: 451.24\n",
      "Дисперсия для продолжительности звонков: 58520.44\n",
      "Стандартное отклонение для продолжительности звонков: 241.91 \n",
      "\n",
      "Среднее количество отправленных смс: 38.28\n",
      "Дисперсия для количества отправленных смс: 1306.70\n",
      "Стандартное отклонение для количества отправленных смс: 36.15 \n",
      "\n",
      "Средний объем интернет-траффика: 17.30\n",
      "Дисперсия для объема интернет-траффика: 54.77\n",
      "Стандартное отклонение для объема интернет-траффика: 7.40\n"
     ]
    }
   ],
   "source": [
    "calls_mean = df['calls_duration'].mean()\n",
    "messages_mean = df['messages_count'].mean()\n",
    "internet_mean = df['gb_used'].mean()\n",
    "\n",
    "calls_var = np.var(df['calls_duration'], ddof=1)\n",
    "messages_var = np.var(df['messages_count'], ddof=1)\n",
    "internet_var = np.var(df['gb_used'], ddof=1)\n",
    "\n",
    "calls_std = np.sqrt(calls_var)\n",
    "messages_std = np.sqrt(messages_var)\n",
    "internet_std = np.sqrt(internet_var)\n",
    "\n",
    "\n",
    "print('Cредняя продолжительность звонков:', \"{:3.2f}\".format(calls_mean))\n",
    "print('Дисперсия для продолжительности звонков:', \"{:5.2f}\".format(calls_var))\n",
    "print('Стандартное отклонение для продолжительности звонков:', \"{:3.2f}\".format(calls_std), '\\n')\n",
    "\n",
    "print('Среднее количество отправленных смс:', \"{:3.2f}\".format(messages_mean))\n",
    "print('Дисперсия для количества отправленных смс:', \"{:5.2f}\".format(messages_var))\n",
    "print('Стандартное отклонение для количества отправленных смс:', \"{:3.2f}\".format(messages_std), '\\n')\n",
    "\n",
    "print('Средний объем интернет-траффика:', \"{:3.2f}\".format(internet_mean))\n",
    "print('Дисперсия для объема интернет-траффика:', \"{:3.2f}\".format(internet_var))\n",
    "print('Стандартное отклонение для объема интернет-траффика:', \"{:3.2f}\".format(internet_std))"
   ]
  },
  {
   "cell_type": "markdown",
   "metadata": {},
   "source": [
    "Для нормальных распределений верно правило трёх стандартных отклонений, или правило трёх сигм. Оно гласит: практически все значения (около 99%) находятся в промежутке\n",
    "\n",
    "($\\mu$ - 3$\\sigma$, $\\mu$ + 3$\\sigma$).\n",
    "\n",
    "Определим в каких промежутках лежат большинство значений продолжительности звонков, количества смс и объема использованного интернет-трафика."
   ]
  },
  {
   "cell_type": "code",
   "execution_count": 22,
   "metadata": {},
   "outputs": [
    {
     "name": "stdout",
     "output_type": "stream",
     "text": [
      "Большинство значений продолжительности звонков лежит в промежутке от -274.49 до 1176.97 минут. \n",
      "\n",
      "Большинство значений кол-ва отправленных смс лежит в промежутке от -70 до 147 \n",
      "\n",
      "Большинство значений объема использованного интернет-трафика лежит в промежутке от -4.90 до 39.50 ГБ.\n"
     ]
    }
   ],
   "source": [
    "calls_from = calls_mean - 3 * calls_std\n",
    "calls_to = calls_mean + 3 * calls_std\n",
    "\n",
    "messages_from = messages_mean - 3 * messages_std\n",
    "messages_to = messages_mean + 3 * messages_std\n",
    "\n",
    "internet_from = internet_mean - 3 * internet_std\n",
    "internet_to = internet_mean + 3 * internet_std\n",
    "\n",
    "print('Большинство значений продолжительности звонков лежит в промежутке от', \"{:3.2f}\".format(calls_from), 'до', \"{:3.2f}\".format(calls_to), 'минут.', '\\n')\n",
    "print('Большинство значений кол-ва отправленных смс лежит в промежутке от', \"{:3.0f}\".format(messages_from), 'до', \"{:3.0f}\".format(messages_to), '\\n')\n",
    "print('Большинство значений объема использованного интернет-трафика лежит в промежутке от', \"{:3.2f}\".format(internet_from), 'до', \"{:3.2f}\".format(internet_to), 'ГБ.')"
   ]
  },
  {
   "cell_type": "markdown",
   "metadata": {},
   "source": [
    "Нижняя граница значений для трех параметров оказалась отрицательной. Это значит, что для всех трех выборок распределения имеют положительную скошенность, т.е. распределение не является симметричным, а имеет дополнительные значение справа от пика.\n",
    "\n",
    "Чтобы это проверить, построем гистограммы и выведем характеристики распределения."
   ]
  },
  {
   "cell_type": "code",
   "execution_count": 52,
   "metadata": {},
   "outputs": [
    {
     "name": "stderr",
     "output_type": "stream",
     "text": [
      "/opt/conda/lib/python3.9/site-packages/seaborn/distributions.py:2557: FutureWarning: `distplot` is a deprecated function and will be removed in a future version. Please adapt your code to use either `displot` (a figure-level function with similar flexibility) or `histplot` (an axes-level function for histograms).\n",
      "  warnings.warn(msg, FutureWarning)\n",
      "/opt/conda/lib/python3.9/site-packages/seaborn/distributions.py:2557: FutureWarning: `distplot` is a deprecated function and will be removed in a future version. Please adapt your code to use either `displot` (a figure-level function with similar flexibility) or `histplot` (an axes-level function for histograms).\n",
      "  warnings.warn(msg, FutureWarning)\n",
      "/opt/conda/lib/python3.9/site-packages/seaborn/distributions.py:2557: FutureWarning: `distplot` is a deprecated function and will be removed in a future version. Please adapt your code to use either `displot` (a figure-level function with similar flexibility) or `histplot` (an axes-level function for histograms).\n",
      "  warnings.warn(msg, FutureWarning)\n"
     ]
    },
    {
     "name": "stdout",
     "output_type": "stream",
     "text": [
      "Продолжительность звонков:\n",
      "count    3214.000000\n",
      "mean      451.244866\n",
      "std       241.909978\n",
      "min         0.000000\n",
      "25%       282.000000\n",
      "50%       443.000000\n",
      "75%       589.000000\n",
      "max      1673.000000\n",
      "Name: calls_duration, dtype: float64\n",
      "\n",
      "Отправленные сообщения:\n",
      "count    3214.000000\n",
      "mean       38.281269\n",
      "std        36.148326\n",
      "min         0.000000\n",
      "25%         9.000000\n",
      "50%        30.000000\n",
      "75%        57.000000\n",
      "max       224.000000\n",
      "Name: messages_count, dtype: float64\n",
      "\n",
      "Использованный веб-трафик:\n",
      "count    3214.000000\n",
      "mean       17.299004\n",
      "std         7.400584\n",
      "min         0.000000\n",
      "25%        13.000000\n",
      "50%        17.000000\n",
      "75%        21.000000\n",
      "max        49.000000\n",
      "Name: gb_used, dtype: float64\n"
     ]
    },
    {
     "data": {
      "image/png": "[encoded data removed]",
      "text/plain": [
       "<Figure size 1440x1080 with 3 Axes>"
      ]
     },
     "metadata": {
      "needs_background": "light"
     },
     "output_type": "display_data"
    }
   ],
   "source": [
    "plt.figure(figsize=(20,15))\n",
    "plt.subplot (2,2,1)\n",
    "sns.distplot(df['calls_duration'], hist=True, kde=True, \n",
    "             bins=50, color = 'darkblue', \n",
    "             hist_kws={'edgecolor':'black'},\n",
    "             kde_kws={'linewidth': 5})\n",
    "plt.xlabel(r'Продолжительность звонка, мин')\n",
    "plt.ylabel(r'Плотность частоты')\n",
    "plt.title(r'Гистограмма плотностей продолжительности звонков')\n",
    "\n",
    "\n",
    "plt.subplot (2,2,2)\n",
    "sns.distplot(df['messages_count'], hist=True, kde=True, \n",
    "             bins=50, color = 'darkblue', \n",
    "             hist_kws={'edgecolor':'black'},\n",
    "             kde_kws={'linewidth': 5})\n",
    "plt.xlabel(r'Количество отправленных сообщений, шт.')\n",
    "plt.ylabel(r'Плотность частоты')\n",
    "plt.title(r'Гистограмма плотностей кол-ва оправленных сообщений')\n",
    "\n",
    "\n",
    "plt.subplot (2,2,3)\n",
    "sns.distplot(df['gb_used'], hist=True, kde=True, \n",
    "             bins=50, color = 'darkblue', \n",
    "             hist_kws={'edgecolor':'black'},\n",
    "             kde_kws={'linewidth': 5})\n",
    "plt.xlabel(r'Объем ипользованного веб-трафика, ГБ')\n",
    "plt.ylabel(r'Плотность частоты')\n",
    "plt.title(r'Гистограмма плотностей объема использованного веб-трафика')\n",
    "\n",
    "\n",
    "print('Продолжительность звонков:', '\\n', df['calls_duration'].describe(), '\\n', sep='')\n",
    "print('Отправленные сообщения:', '\\n', df['messages_count'].describe(), '\\n', sep='')\n",
    "print('Использованный веб-трафик:', '\\n', df['gb_used'].describe(), sep='')"
   ]
  },
  {
   "cell_type": "markdown",
   "metadata": {},
   "source": [
    "Проанализируем полученные гистограммы:\n",
    "\n",
    "* На первой гистограмме видно, что пик приходится примерно на 450 минут, что составляет чуть более 7 часов разговора в месяц или в среднем 15 минут разговора в день. Также заметен узкий пик вблизи нуля. Он соответствует пропущенным звонкам.\n",
    "Встречается несколько значений более 1500 минут разговора в месяц, максимальное составляет 1673 минут, почти 28 часов в месяц. Среднее составляет 451 минуту, медиана - 443 минуты. Небольшое различие между этит значениями объясняется наличием нескольких выбросов справа от пика.\n",
    "\n",
    "* На гистограмме плотностей количества отправленных сообщений узкий пик приходится на значение 0 - большое количество пользователей не пользуются функцией отправки смс. Однако максимальное значение составляет 224 сообщения в месяц, что примерно равно ежедневно отправляемым 7 сообщениям в течение месяца. Как видно, очень малое количество пользователей оператора отправляют большое количество смс в месяц: среднее значение составляет 38, а медианное 30 смс/месяц.\n",
    "\n",
    "* На последней гистограмме распределение более равномерное. Есть пользователи, которые в течение месяца не потратили ни гигабайта интернет-трафика в течение месяца, но среднее значение составляет 17,3 ГБ/месяц. Медианное значение пракически такое же - 17 ГБ. Максимальное - 49 ГБ."
   ]
  },
  {
   "cell_type": "markdown",
   "metadata": {},
   "source": [
    "### Вывод"
   ]
  },
  {
   "cell_type": "markdown",
   "metadata": {},
   "source": [
    "В результате анализа данных было получено следующее:\n",
    " \n",
    " * У большинства пользователей продолжительность разговора по телефону не превышает 1177 минут в месяц. Среди всех совершенных звонков небольшую долю составляют звонки с нулевой продолжительностью - пропущенные звоонки. В среднем пользователям необходимо 443 минуты разговора в месяц.\n",
    " \n",
    " * Основная часть пользователей отправляет не более 147 сообщений в месяц. Но достаточно большое количество человек в течение месяца вообще не пользуется функцией отправки СМС, что объясняется тем, что использование мессенджеров бывает гораздо удобнее. В среднем пользователи отправляют около 30 сообщений в месяц.\n",
    " \n",
    " * Для большинства пользователей объем потраченного веб-трафика не превышает 39,5 ГБ в месяц. Только очень небольшое количество пользователей не совершают вход в интернет в течение месяца, а в среднем пользователи тратят около 17 ГБ в месяц."
   ]
  },
  {
   "cell_type": "markdown",
   "metadata": {},
   "source": [
    "## Проверка гипотез"
   ]
  },
  {
   "cell_type": "markdown",
   "metadata": {},
   "source": [
    "### Cредняя выручка пользователей тарифов «Ультра» и «Смарт» различаются"
   ]
  },
  {
   "cell_type": "markdown",
   "metadata": {},
   "source": [
    "В качестве нулевой примем гипотезу о том, что средняя выручка пользователей тарифов \"Ультра\" и \"Смарт\" равны.\n",
    "\n",
    "Альтернативная гипотеза - средняя выручка пользователей тарифов \"Ультра\" и \"Смарт\" различается.\n"
   ]
  },
  {
   "cell_type": "code",
   "execution_count": 24,
   "metadata": {},
   "outputs": [
    {
     "name": "stdout",
     "output_type": "stream",
     "text": [
      "p-значение: 1.4229814360764067e-160\n",
      "Отвергаем нулевую гипотезу\n"
     ]
    }
   ],
   "source": [
    "smart = df[df['tariff'] == 'smart']\n",
    "ultra = df[df['tariff'] == 'ultra']\n",
    "\n",
    "alpha = .05 \n",
    "\n",
    "results = st.ttest_ind(\n",
    "    smart['revenue'], \n",
    "    ultra['revenue'])\n",
    "\n",
    "print('p-значение:', results.pvalue)\n",
    "\n",
    "if results.pvalue < alpha:\n",
    "    print(\"Отвергаем нулевую гипотезу\")\n",
    "else:\n",
    "    print(\"Не получилось отвергнуть нулевую гипотезу\")"
   ]
  },
  {
   "cell_type": "markdown",
   "metadata": {},
   "source": [
    "Получили, что средняя выручка пользователей тарифов \"Ультра\" и \"Смарт\" различны. Это может объясняться тем, что уже разница между стоимостями тарифных планов достаточно сильно различается. \n",
    "\n",
    "Также можно сделать вывод о том, что пользователи тарифа \"Смарт\" не так значительно выходят за лимиты, установленные тарифным планом, чтобы среднее значение потраченных денежных средств на абоненскую плату + средств на оплату звонков, смс, интернета сверх лимита приблизилось к затратам на связь пользователей тарифа \"Ультра\". \n",
    "\n"
   ]
  },
  {
   "cell_type": "markdown",
   "metadata": {},
   "source": [
    "### Cредняя выручка пользователей из Москвы отличается от выручки пользователей из других регионов"
   ]
  },
  {
   "cell_type": "markdown",
   "metadata": {},
   "source": [
    "Нулевую гипотезу сформулируем следующим образом: средняя выручка пользователей из Москвы равна средней выручке пользователей из других городов.\n",
    "\n",
    "Альтернативная гипотеза: средняя выручка пользователей из Москвы отличается от выручки пользователей из других регионов."
   ]
  },
  {
   "cell_type": "code",
   "execution_count": 54,
   "metadata": {},
   "outputs": [
    {
     "name": "stdout",
     "output_type": "stream",
     "text": [
      "p-значение: 0.5257376663729298\n",
      "Не получилось отвергнуть нулевую гипотезу\n"
     ]
    }
   ],
   "source": [
    "moscow = df[df['city'] == 'Москва']\n",
    "region = df[df['city'] != 'Москва']\n",
    "\n",
    "alpha = .05\n",
    "\n",
    "results = st.ttest_ind(\n",
    "    moscow['revenue'], \n",
    "    region['revenue'], equal_var = False)\n",
    "\n",
    "print('p-значение:', results.pvalue)\n",
    "\n",
    "if results.pvalue < alpha:\n",
    "    print(\"Отвергаем нулевую гипотезу\")\n",
    "else:\n",
    "    print(\"Не получилось отвергнуть нулевую гипотезу\")"
   ]
  },
  {
   "cell_type": "markdown",
   "metadata": {},
   "source": [
    "Получаем, что вне зависимости от того, в каком городе находится пользователь, средняя выручка не меняется."
   ]
  },
  {
   "cell_type": "markdown",
   "metadata": {},
   "source": [
    "### Вывод"
   ]
  },
  {
   "cell_type": "markdown",
   "metadata": {},
   "source": [
    "Получили, что выручка не зависит от местоположения пользователя, но на ее величину влияет то, какой тариф выбирается пользователем."
   ]
  },
  {
   "cell_type": "markdown",
   "metadata": {},
   "source": [
    "## Общий вывод"
   ]
  },
  {
   "cell_type": "markdown",
   "metadata": {},
   "source": [
    "* При осуществлении анализа тарифов на небольшой выборке клиентов использовались данные 500 пользователей «Мегалайна». Пользователи при подключении выбирали один из тарифных планов - \"Смарт\" за 550 рублей в месяц или \"Ультра\" стоимостью 1950 рублей в месяц.\n",
    "________\n",
    "\n",
    "* Большая часть пользователей в месяц совершала звонки продолжительностью не более 1177 минут, отправляла не более 147 сообщений и использовала не более 39,5 ГБ веб-трафика. \n",
    "    \n",
    "    Максимальные значения используемых функций пользователями сильно далеки от лимитов более дорогого тарифного плана \"Ультра\", включающего 3000 минут разговора, 1000 СМС, 30 ГБ веб-трафика. Это говорит о том, что возможно необходимо пересмотреть размер лимитов в данном тарифе, так как 1000 сообщений, включенных в тарифный план, почти в 5 раз превышает максимальное значение отправленных сообщений в течение месяца за 2018 год (224 СМС за месяц). Например, установить лимит на 150 СМС в месяц, а за все сообщения, превышающие данный лимит взимать дополнительную плату, что увеличит выручку для компании.\n",
    "\n",
    "________\n",
    " * Средний же пользователь в течение месяца совершал звонки продолжительностью 443 минут, отправлял 30 сообщений и использовал 17 ГБ веб-трафика.\n",
    "\n",
    "   Практически все эти значения не превышают или близки к параметрам, входящим в пакет \"Смарт\", который включает 500 минут разговора, 50 СМС, 15 ГБ интернета. То есть для минимального тарифа \"Смарт\" также возможно снизить количество включенных СМС и количество минут разговора, чтобы получать больше выручки за потраченные сверх лимита СМС и минуты.\n",
    "   \n",
    "_______   \n",
    "* Также были проанализированы несколько гипотез о том, что влияет на величину выручки компании. Получили, что выручка не зависит от того, где находится пользователь тарифа, но на ее величину влияет то, какой тип тарифа выбирается пользователем. \n",
    "\n",
    "  Это может объясняться тем, что уже разница между стоимостями тарифных планов достаточно сильно различается - стоимость плана \"Ультра\" на 1400 рублей выше.\n",
    "\n",
    "  Также можно сделать вывод о том, что пользователи тарифа \"Смарт\" не так значительно выходят за лимиты, установленные тарифным планом, чтобы среднее значение потраченных денежных средств на абоненскую плату + средств на оплату звонков, смс, интернета сверх лимита приблизилось к затратам на связь пользователей тарифа \"Ультра\".\n",
    "__________\n",
    " В итоге получаем, что для клиентов выгоднее тариф \"Смарт\", компания же получит больше выручки от клиентов-пользователей тарифа \"Ультра\".\n",
    "\n"
   ]
  }
 ],
 "metadata": {
  "ExecuteTimeLog": [
   {
    "duration": 754,
    "start_time": "2022-01-13T14:16:44.028Z"
   },
   {
    "duration": 54,
    "start_time": "2022-01-13T14:17:02.337Z"
   },
   {
    "duration": 69,
    "start_time": "2022-01-13T14:18:03.649Z"
   },
   {
    "duration": 501,
    "start_time": "2022-01-13T14:20:11.074Z"
   },
   {
    "duration": 501,
    "start_time": "2022-01-13T14:20:14.080Z"
   },
   {
    "duration": 518,
    "start_time": "2022-01-13T14:20:51.859Z"
   },
   {
    "duration": 536,
    "start_time": "2022-01-13T14:23:23.629Z"
   },
   {
    "duration": 618,
    "start_time": "2022-01-13T14:34:18.921Z"
   },
   {
    "duration": 572,
    "start_time": "2022-01-13T14:34:35.081Z"
   },
   {
    "duration": 579,
    "start_time": "2022-01-13T14:34:47.344Z"
   },
   {
    "duration": 532,
    "start_time": "2022-01-13T14:36:23.542Z"
   },
   {
    "duration": 582,
    "start_time": "2022-01-13T14:36:48.262Z"
   },
   {
    "duration": 544,
    "start_time": "2022-01-13T14:36:55.345Z"
   },
   {
    "duration": 540,
    "start_time": "2022-01-13T14:37:09.089Z"
   },
   {
    "duration": 548,
    "start_time": "2022-01-13T14:38:06.960Z"
   },
   {
    "duration": 547,
    "start_time": "2022-01-13T14:39:51.108Z"
   },
   {
    "duration": 518,
    "start_time": "2022-01-13T14:40:09.888Z"
   },
   {
    "duration": 509,
    "start_time": "2022-01-13T14:41:22.128Z"
   },
   {
    "duration": 29,
    "start_time": "2022-01-13T14:45:39.094Z"
   },
   {
    "duration": 410,
    "start_time": "2022-01-13T14:47:01.078Z"
   },
   {
    "duration": 82,
    "start_time": "2022-01-13T14:51:42.923Z"
   },
   {
    "duration": 24,
    "start_time": "2022-01-13T14:57:27.994Z"
   },
   {
    "duration": 98,
    "start_time": "2022-01-13T14:57:31.876Z"
   },
   {
    "duration": 1376,
    "start_time": "2022-01-13T14:58:48.248Z"
   },
   {
    "duration": 47,
    "start_time": "2022-01-13T14:58:49.628Z"
   },
   {
    "duration": 72,
    "start_time": "2022-01-13T14:58:49.678Z"
   },
   {
    "duration": 321,
    "start_time": "2022-01-13T15:02:08.975Z"
   },
   {
    "duration": 285,
    "start_time": "2022-01-13T15:02:53.867Z"
   },
   {
    "duration": 1396,
    "start_time": "2022-01-13T15:02:59.869Z"
   },
   {
    "duration": 58,
    "start_time": "2022-01-13T15:03:01.268Z"
   },
   {
    "duration": 73,
    "start_time": "2022-01-13T15:03:01.873Z"
   },
   {
    "duration": 349,
    "start_time": "2022-01-13T15:07:49.218Z"
   },
   {
    "duration": 1580,
    "start_time": "2022-01-13T15:07:55.221Z"
   },
   {
    "duration": 45,
    "start_time": "2022-01-13T15:07:56.805Z"
   },
   {
    "duration": 32,
    "start_time": "2022-01-13T15:07:57.549Z"
   },
   {
    "duration": 28,
    "start_time": "2022-01-13T15:07:59.205Z"
   },
   {
    "duration": 19,
    "start_time": "2022-01-13T15:08:21.708Z"
   },
   {
    "duration": 633,
    "start_time": "2022-01-13T15:10:07.151Z"
   },
   {
    "duration": 43,
    "start_time": "2022-01-13T15:10:07.787Z"
   },
   {
    "duration": 23,
    "start_time": "2022-01-13T15:10:07.833Z"
   },
   {
    "duration": 308,
    "start_time": "2022-01-13T15:10:07.860Z"
   },
   {
    "duration": 316,
    "start_time": "2022-01-13T15:15:57.408Z"
   },
   {
    "duration": 527,
    "start_time": "2022-01-13T15:16:31.951Z"
   },
   {
    "duration": 50,
    "start_time": "2022-01-13T15:16:32.480Z"
   },
   {
    "duration": 22,
    "start_time": "2022-01-13T15:16:32.533Z"
   },
   {
    "duration": 489,
    "start_time": "2022-01-13T15:16:32.558Z"
   },
   {
    "duration": 186,
    "start_time": "2022-01-13T15:22:39.545Z"
   },
   {
    "duration": 276,
    "start_time": "2022-01-13T15:25:20.120Z"
   },
   {
    "duration": 80,
    "start_time": "2022-01-13T15:25:45.374Z"
   },
   {
    "duration": 294,
    "start_time": "2022-01-13T15:34:54.347Z"
   },
   {
    "duration": 329,
    "start_time": "2022-01-13T15:35:15.676Z"
   },
   {
    "duration": 313,
    "start_time": "2022-01-13T15:39:13.886Z"
   },
   {
    "duration": 543,
    "start_time": "2022-01-13T15:51:51.225Z"
   },
   {
    "duration": 54,
    "start_time": "2022-01-13T15:51:51.772Z"
   },
   {
    "duration": 23,
    "start_time": "2022-01-13T15:51:51.829Z"
   },
   {
    "duration": 105,
    "start_time": "2022-01-13T15:51:51.854Z"
   },
   {
    "duration": 338,
    "start_time": "2022-01-13T15:59:07.837Z"
   },
   {
    "duration": 1295,
    "start_time": "2022-01-13T15:59:24.045Z"
   },
   {
    "duration": 45,
    "start_time": "2022-01-13T15:59:25.343Z"
   },
   {
    "duration": 32,
    "start_time": "2022-01-13T15:59:25.943Z"
   },
   {
    "duration": 335,
    "start_time": "2022-01-13T15:59:26.679Z"
   },
   {
    "duration": 75,
    "start_time": "2022-01-13T15:59:41.223Z"
   },
   {
    "duration": 65,
    "start_time": "2022-01-13T16:00:29.073Z"
   },
   {
    "duration": 307,
    "start_time": "2022-01-13T16:00:33.918Z"
   },
   {
    "duration": 61,
    "start_time": "2022-01-13T16:00:38.772Z"
   },
   {
    "duration": 52,
    "start_time": "2022-01-13T16:01:18.670Z"
   },
   {
    "duration": 44,
    "start_time": "2022-01-13T16:01:41.480Z"
   },
   {
    "duration": 48,
    "start_time": "2022-01-13T16:03:13.705Z"
   },
   {
    "duration": 64,
    "start_time": "2022-01-13T16:04:28.500Z"
   },
   {
    "duration": 101,
    "start_time": "2022-01-13T16:04:49.669Z"
   },
   {
    "duration": 75,
    "start_time": "2022-01-13T16:04:54.605Z"
   },
   {
    "duration": 118,
    "start_time": "2022-01-13T16:05:19.876Z"
   },
   {
    "duration": 122,
    "start_time": "2022-01-13T16:06:26.902Z"
   },
   {
    "duration": 96,
    "start_time": "2022-01-13T16:26:54.711Z"
   },
   {
    "duration": 79,
    "start_time": "2022-01-13T16:27:00.051Z"
   },
   {
    "duration": 83,
    "start_time": "2022-01-13T16:27:25.414Z"
   },
   {
    "duration": 75,
    "start_time": "2022-01-13T16:27:41.328Z"
   },
   {
    "duration": 90,
    "start_time": "2022-01-13T16:28:01.245Z"
   },
   {
    "duration": 1316,
    "start_time": "2022-01-13T16:31:37.375Z"
   },
   {
    "duration": 42,
    "start_time": "2022-01-13T16:31:38.694Z"
   },
   {
    "duration": 34,
    "start_time": "2022-01-13T16:31:39.332Z"
   },
   {
    "duration": 327,
    "start_time": "2022-01-13T16:31:59.320Z"
   },
   {
    "duration": 1309,
    "start_time": "2022-01-13T16:32:06.232Z"
   },
   {
    "duration": 42,
    "start_time": "2022-01-13T16:32:07.544Z"
   },
   {
    "duration": 64,
    "start_time": "2022-01-13T16:32:07.589Z"
   },
   {
    "duration": 340,
    "start_time": "2022-01-13T16:32:32.811Z"
   },
   {
    "duration": 1385,
    "start_time": "2022-01-13T16:32:38.735Z"
   },
   {
    "duration": 42,
    "start_time": "2022-01-13T16:32:40.124Z"
   },
   {
    "duration": 33,
    "start_time": "2022-01-13T16:32:42.408Z"
   },
   {
    "duration": 484,
    "start_time": "2022-01-13T16:33:44.541Z"
   },
   {
    "duration": 1292,
    "start_time": "2022-01-13T16:33:50.736Z"
   },
   {
    "duration": 38,
    "start_time": "2022-01-13T16:33:52.707Z"
   },
   {
    "duration": 27,
    "start_time": "2022-01-13T16:33:53.914Z"
   },
   {
    "duration": 381,
    "start_time": "2022-01-13T16:33:54.687Z"
   },
   {
    "duration": 93,
    "start_time": "2022-01-13T16:34:06.349Z"
   },
   {
    "duration": 1316,
    "start_time": "2022-01-13T16:51:20.497Z"
   },
   {
    "duration": 39,
    "start_time": "2022-01-13T16:51:21.816Z"
   },
   {
    "duration": 33,
    "start_time": "2022-01-13T16:51:28.159Z"
   },
   {
    "duration": 92,
    "start_time": "2022-01-13T16:51:29.041Z"
   },
   {
    "duration": 359,
    "start_time": "2022-01-13T17:17:27.558Z"
   },
   {
    "duration": 1349,
    "start_time": "2022-01-13T17:17:32.690Z"
   },
   {
    "duration": 37,
    "start_time": "2022-01-13T17:17:34.042Z"
   },
   {
    "duration": 25,
    "start_time": "2022-01-13T17:17:34.245Z"
   },
   {
    "duration": 364,
    "start_time": "2022-01-13T17:17:35.677Z"
   },
   {
    "duration": 105,
    "start_time": "2022-01-13T17:28:39.534Z"
   },
   {
    "duration": 31,
    "start_time": "2022-01-13T17:28:45.224Z"
   },
   {
    "duration": 48,
    "start_time": "2022-01-13T17:36:09.226Z"
   },
   {
    "duration": 55,
    "start_time": "2022-01-13T17:38:21.452Z"
   },
   {
    "duration": 27,
    "start_time": "2022-01-13T17:38:21.945Z"
   },
   {
    "duration": 316,
    "start_time": "2022-01-13T18:59:04.256Z"
   },
   {
    "duration": 297,
    "start_time": "2022-01-13T18:59:11.182Z"
   },
   {
    "duration": 293,
    "start_time": "2022-01-13T18:59:25.970Z"
   },
   {
    "duration": 300,
    "start_time": "2022-01-13T18:59:30.657Z"
   },
   {
    "duration": 297,
    "start_time": "2022-01-13T19:02:50.004Z"
   },
   {
    "duration": 286,
    "start_time": "2022-01-13T19:02:54.767Z"
   },
   {
    "duration": 9,
    "start_time": "2022-01-13T19:06:24.726Z"
   },
   {
    "duration": 19,
    "start_time": "2022-01-13T19:06:42.393Z"
   },
   {
    "duration": 20,
    "start_time": "2022-01-13T19:07:04.498Z"
   },
   {
    "duration": 21,
    "start_time": "2022-01-13T19:07:21.310Z"
   },
   {
    "duration": 6,
    "start_time": "2022-01-13T19:11:06.968Z"
   },
   {
    "duration": 59,
    "start_time": "2022-01-13T19:12:13.304Z"
   },
   {
    "duration": 17,
    "start_time": "2022-01-13T19:12:14.712Z"
   },
   {
    "duration": 57,
    "start_time": "2022-01-13T19:12:45.898Z"
   },
   {
    "duration": 34,
    "start_time": "2022-01-13T19:13:00.025Z"
   },
   {
    "duration": 24,
    "start_time": "2022-01-13T19:28:12.796Z"
   },
   {
    "duration": 4,
    "start_time": "2022-01-13T19:37:46.542Z"
   },
   {
    "duration": 5,
    "start_time": "2022-01-13T19:37:55.046Z"
   },
   {
    "duration": 7,
    "start_time": "2022-01-13T19:38:04.241Z"
   },
   {
    "duration": 7,
    "start_time": "2022-01-13T19:40:29.212Z"
   },
   {
    "duration": 8,
    "start_time": "2022-01-13T19:42:59.373Z"
   },
   {
    "duration": 8,
    "start_time": "2022-01-13T19:43:15.612Z"
   },
   {
    "duration": 9,
    "start_time": "2022-01-13T19:43:31.500Z"
   },
   {
    "duration": 10,
    "start_time": "2022-01-13T19:45:32.245Z"
   },
   {
    "duration": 563,
    "start_time": "2022-01-13T19:45:45.277Z"
   },
   {
    "duration": 53,
    "start_time": "2022-01-13T19:45:46.780Z"
   },
   {
    "duration": 19,
    "start_time": "2022-01-13T19:45:49.341Z"
   },
   {
    "duration": 7791,
    "start_time": "2022-01-13T19:45:50.009Z"
   },
   {
    "duration": -108,
    "start_time": "2022-01-13T19:45:57.911Z"
   },
   {
    "duration": 86,
    "start_time": "2022-01-13T19:47:30.091Z"
   },
   {
    "duration": 11,
    "start_time": "2022-01-13T19:47:33.441Z"
   },
   {
    "duration": 12,
    "start_time": "2022-01-13T19:48:33.053Z"
   },
   {
    "duration": 104,
    "start_time": "2022-01-13T19:50:37.504Z"
   },
   {
    "duration": 13,
    "start_time": "2022-01-13T19:50:42.692Z"
   },
   {
    "duration": 16,
    "start_time": "2022-01-13T19:51:26.275Z"
   },
   {
    "duration": 16,
    "start_time": "2022-01-13T19:52:02.310Z"
   },
   {
    "duration": 19,
    "start_time": "2022-01-13T19:54:08.904Z"
   },
   {
    "duration": 22,
    "start_time": "2022-01-13T19:55:42.932Z"
   },
   {
    "duration": 29,
    "start_time": "2022-01-13T19:57:59.127Z"
   },
   {
    "duration": 25,
    "start_time": "2022-01-13T19:58:51.297Z"
   },
   {
    "duration": 28,
    "start_time": "2022-01-13T19:59:30.894Z"
   },
   {
    "duration": 26,
    "start_time": "2022-01-13T20:01:44.509Z"
   },
   {
    "duration": 27,
    "start_time": "2022-01-13T20:01:52.767Z"
   },
   {
    "duration": 7,
    "start_time": "2022-01-13T20:02:35.127Z"
   },
   {
    "duration": 8,
    "start_time": "2022-01-13T20:04:02.220Z"
   },
   {
    "duration": 860,
    "start_time": "2022-01-14T09:50:22.170Z"
   },
   {
    "duration": 57,
    "start_time": "2022-01-14T09:50:25.022Z"
   },
   {
    "duration": 20,
    "start_time": "2022-01-14T09:50:37.868Z"
   },
   {
    "duration": 102,
    "start_time": "2022-01-14T09:50:44.698Z"
   },
   {
    "duration": 511,
    "start_time": "2022-01-14T10:04:56.428Z"
   },
   {
    "duration": -1142,
    "start_time": "2022-01-14T10:07:04.557Z"
   },
   {
    "duration": 9966,
    "start_time": "2022-01-14T10:07:18.803Z"
   },
   {
    "duration": 670,
    "start_time": "2022-01-14T10:07:40.128Z"
   },
   {
    "duration": 69,
    "start_time": "2022-01-14T10:07:41.772Z"
   },
   {
    "duration": 106,
    "start_time": "2022-01-14T10:07:43.728Z"
   },
   {
    "duration": 20,
    "start_time": "2022-01-14T10:07:44.639Z"
   },
   {
    "duration": 30,
    "start_time": "2022-01-14T10:07:46.144Z"
   },
   {
    "duration": 11059,
    "start_time": "2022-01-14T10:07:48.866Z"
   },
   {
    "duration": 486,
    "start_time": "2022-01-14T10:08:25.373Z"
   },
   {
    "duration": 988,
    "start_time": "2022-01-14T10:10:32.815Z"
   },
   {
    "duration": 3025,
    "start_time": "2022-01-14T10:10:50.609Z"
   },
   {
    "duration": 2598,
    "start_time": "2022-01-14T10:11:07.345Z"
   },
   {
    "duration": 12,
    "start_time": "2022-01-14T10:12:57.930Z"
   },
   {
    "duration": 22,
    "start_time": "2022-01-14T10:13:35.367Z"
   },
   {
    "duration": 16,
    "start_time": "2022-01-14T10:13:45.058Z"
   },
   {
    "duration": 14,
    "start_time": "2022-01-14T10:13:55.788Z"
   },
   {
    "duration": 14,
    "start_time": "2022-01-14T10:14:00.955Z"
   },
   {
    "duration": 10089,
    "start_time": "2022-01-14T10:15:46.619Z"
   },
   {
    "duration": 9815,
    "start_time": "2022-01-14T10:16:07.295Z"
   },
   {
    "duration": 10476,
    "start_time": "2022-01-14T10:16:34.422Z"
   },
   {
    "duration": -1119,
    "start_time": "2022-01-14T10:24:40.095Z"
   },
   {
    "duration": -1122,
    "start_time": "2022-01-14T10:24:40.099Z"
   },
   {
    "duration": -1123,
    "start_time": "2022-01-14T10:24:40.102Z"
   },
   {
    "duration": -1125,
    "start_time": "2022-01-14T10:24:40.105Z"
   },
   {
    "duration": -1125,
    "start_time": "2022-01-14T10:24:40.107Z"
   },
   {
    "duration": -1126,
    "start_time": "2022-01-14T10:24:40.110Z"
   },
   {
    "duration": 491,
    "start_time": "2022-01-14T10:26:34.186Z"
   },
   {
    "duration": 690,
    "start_time": "2022-01-14T10:26:50.782Z"
   },
   {
    "duration": 92,
    "start_time": "2022-01-14T10:26:52.517Z"
   },
   {
    "duration": 110,
    "start_time": "2022-01-14T10:26:55.486Z"
   },
   {
    "duration": 21,
    "start_time": "2022-01-14T10:26:56.972Z"
   },
   {
    "duration": 27,
    "start_time": "2022-01-14T10:26:58.829Z"
   },
   {
    "duration": 9851,
    "start_time": "2022-01-14T10:27:02.350Z"
   },
   {
    "duration": -1161,
    "start_time": "2022-01-14T10:34:31.878Z"
   },
   {
    "duration": -1174,
    "start_time": "2022-01-14T10:34:31.892Z"
   },
   {
    "duration": -1175,
    "start_time": "2022-01-14T10:34:31.894Z"
   },
   {
    "duration": -1176,
    "start_time": "2022-01-14T10:34:31.897Z"
   },
   {
    "duration": -1178,
    "start_time": "2022-01-14T10:34:31.900Z"
   },
   {
    "duration": -1178,
    "start_time": "2022-01-14T10:34:31.902Z"
   },
   {
    "duration": 432,
    "start_time": "2022-01-14T10:37:04.065Z"
   },
   {
    "duration": 675,
    "start_time": "2022-01-14T10:37:30.590Z"
   },
   {
    "duration": 58,
    "start_time": "2022-01-14T10:37:31.804Z"
   },
   {
    "duration": 98,
    "start_time": "2022-01-14T10:37:33.875Z"
   },
   {
    "duration": 21,
    "start_time": "2022-01-14T10:37:34.576Z"
   },
   {
    "duration": 34,
    "start_time": "2022-01-14T10:37:35.614Z"
   },
   {
    "duration": 55,
    "start_time": "2022-01-14T10:37:37.790Z"
   },
   {
    "duration": 655,
    "start_time": "2022-01-14T12:03:04.328Z"
   },
   {
    "duration": 58,
    "start_time": "2022-01-14T12:03:05.225Z"
   },
   {
    "duration": 97,
    "start_time": "2022-01-14T12:03:06.707Z"
   },
   {
    "duration": 21,
    "start_time": "2022-01-14T12:03:07.278Z"
   },
   {
    "duration": 34,
    "start_time": "2022-01-14T12:03:08.264Z"
   },
   {
    "duration": 100,
    "start_time": "2022-01-14T12:09:21.916Z"
   },
   {
    "duration": 15,
    "start_time": "2022-01-14T12:12:13.723Z"
   },
   {
    "duration": 10092,
    "start_time": "2022-01-14T12:12:27.043Z"
   },
   {
    "duration": 679,
    "start_time": "2022-01-14T12:12:46.113Z"
   },
   {
    "duration": 85,
    "start_time": "2022-01-14T12:12:47.515Z"
   },
   {
    "duration": 17,
    "start_time": "2022-01-14T12:12:48.489Z"
   },
   {
    "duration": 949,
    "start_time": "2022-01-14T12:18:34.601Z"
   },
   {
    "duration": 87,
    "start_time": "2022-01-14T12:18:35.615Z"
   },
   {
    "duration": 59,
    "start_time": "2022-01-14T12:21:12.347Z"
   },
   {
    "duration": 94,
    "start_time": "2022-01-14T12:21:16.449Z"
   },
   {
    "duration": 21,
    "start_time": "2022-01-14T12:21:17.819Z"
   },
   {
    "duration": 29,
    "start_time": "2022-01-14T12:21:23.663Z"
   },
   {
    "duration": 13,
    "start_time": "2022-01-14T12:21:30.516Z"
   },
   {
    "duration": 99,
    "start_time": "2022-01-14T12:23:12.125Z"
   },
   {
    "duration": 572,
    "start_time": "2022-01-14T12:23:20.935Z"
   },
   {
    "duration": 17,
    "start_time": "2022-01-14T12:27:01.896Z"
   },
   {
    "duration": 17,
    "start_time": "2022-01-14T12:27:42.238Z"
   },
   {
    "duration": 5,
    "start_time": "2022-01-14T12:27:49.455Z"
   },
   {
    "duration": 128,
    "start_time": "2022-01-14T12:43:14.931Z"
   },
   {
    "duration": 41,
    "start_time": "2022-01-14T12:43:28.698Z"
   },
   {
    "duration": 26,
    "start_time": "2022-01-14T12:54:51.755Z"
   },
   {
    "duration": 32,
    "start_time": "2022-01-14T12:55:05.201Z"
   },
   {
    "duration": 31,
    "start_time": "2022-01-14T12:55:52.641Z"
   },
   {
    "duration": 14,
    "start_time": "2022-01-14T13:01:53.609Z"
   },
   {
    "duration": 398,
    "start_time": "2022-01-14T13:02:07.404Z"
   },
   {
    "duration": 520,
    "start_time": "2022-01-14T13:02:21.131Z"
   },
   {
    "duration": 14,
    "start_time": "2022-01-14T13:02:55.883Z"
   },
   {
    "duration": 12,
    "start_time": "2022-01-14T13:06:27.888Z"
   },
   {
    "duration": 14,
    "start_time": "2022-01-14T13:06:42.459Z"
   },
   {
    "duration": 37,
    "start_time": "2022-01-14T13:06:55.411Z"
   },
   {
    "duration": 14,
    "start_time": "2022-01-14T13:06:57.096Z"
   },
   {
    "duration": 14,
    "start_time": "2022-01-14T13:07:14.911Z"
   },
   {
    "duration": 14,
    "start_time": "2022-01-14T13:09:33.719Z"
   },
   {
    "duration": 19,
    "start_time": "2022-01-14T13:09:45.297Z"
   },
   {
    "duration": 41,
    "start_time": "2022-01-14T13:09:57.449Z"
   },
   {
    "duration": 16,
    "start_time": "2022-01-14T13:10:07.760Z"
   },
   {
    "duration": 97,
    "start_time": "2022-01-14T14:53:44.592Z"
   },
   {
    "duration": 15,
    "start_time": "2022-01-14T14:53:45.600Z"
   },
   {
    "duration": 35,
    "start_time": "2022-01-14T14:53:46.989Z"
   },
   {
    "duration": 27,
    "start_time": "2022-01-14T14:53:58.182Z"
   },
   {
    "duration": 444,
    "start_time": "2022-01-14T14:59:00.416Z"
   },
   {
    "duration": 616,
    "start_time": "2022-01-14T14:59:46.054Z"
   },
   {
    "duration": 72,
    "start_time": "2022-01-14T14:59:46.673Z"
   },
   {
    "duration": 137,
    "start_time": "2022-01-14T14:59:46.748Z"
   },
   {
    "duration": 28,
    "start_time": "2022-01-14T14:59:46.888Z"
   },
   {
    "duration": 28,
    "start_time": "2022-01-14T14:59:46.919Z"
   },
   {
    "duration": 54,
    "start_time": "2022-01-14T14:59:46.949Z"
   },
   {
    "duration": 112,
    "start_time": "2022-01-14T14:59:47.005Z"
   },
   {
    "duration": 18,
    "start_time": "2022-01-14T14:59:47.121Z"
   },
   {
    "duration": 532,
    "start_time": "2022-01-14T14:59:47.144Z"
   },
   {
    "duration": -1228,
    "start_time": "2022-01-14T14:59:48.906Z"
   },
   {
    "duration": -1228,
    "start_time": "2022-01-14T14:59:48.908Z"
   },
   {
    "duration": -1229,
    "start_time": "2022-01-14T14:59:48.910Z"
   },
   {
    "duration": 34,
    "start_time": "2022-01-14T15:00:23.949Z"
   },
   {
    "duration": 383,
    "start_time": "2022-01-14T15:32:43.751Z"
   },
   {
    "duration": 56,
    "start_time": "2022-01-14T15:33:30.189Z"
   },
   {
    "duration": 68,
    "start_time": "2022-01-14T15:36:05.233Z"
   },
   {
    "duration": 61,
    "start_time": "2022-01-14T15:36:22.171Z"
   },
   {
    "duration": 63,
    "start_time": "2022-01-14T15:36:52.426Z"
   },
   {
    "duration": 400,
    "start_time": "2022-01-14T15:53:15.777Z"
   },
   {
    "duration": 46,
    "start_time": "2022-01-14T15:53:42.880Z"
   },
   {
    "duration": 12,
    "start_time": "2022-01-14T16:03:36.571Z"
   },
   {
    "duration": 435,
    "start_time": "2022-01-14T16:21:14.639Z"
   },
   {
    "duration": 409,
    "start_time": "2022-01-14T16:21:36.310Z"
   },
   {
    "duration": 428,
    "start_time": "2022-01-14T16:22:14.419Z"
   },
   {
    "duration": 14,
    "start_time": "2022-01-14T16:27:58.348Z"
   },
   {
    "duration": 31,
    "start_time": "2022-01-14T16:28:56.118Z"
   },
   {
    "duration": 25,
    "start_time": "2022-01-14T16:31:03.295Z"
   },
   {
    "duration": 43,
    "start_time": "2022-01-14T16:31:18.211Z"
   },
   {
    "duration": 66,
    "start_time": "2022-01-14T16:39:08.664Z"
   },
   {
    "duration": 56,
    "start_time": "2022-01-14T16:39:32.796Z"
   },
   {
    "duration": 67,
    "start_time": "2022-01-14T16:40:40.795Z"
   },
   {
    "duration": 61,
    "start_time": "2022-01-14T16:40:52.244Z"
   },
   {
    "duration": 62,
    "start_time": "2022-01-14T16:43:30.144Z"
   },
   {
    "duration": 37,
    "start_time": "2022-01-14T16:43:50.522Z"
   },
   {
    "duration": 63,
    "start_time": "2022-01-14T16:43:58.164Z"
   },
   {
    "duration": 41,
    "start_time": "2022-01-14T16:44:20.538Z"
   },
   {
    "duration": 72,
    "start_time": "2022-01-14T16:45:01.887Z"
   },
   {
    "duration": 42,
    "start_time": "2022-01-14T16:45:42.175Z"
   },
   {
    "duration": 10429,
    "start_time": "2022-01-14T16:48:59.105Z"
   },
   {
    "duration": 51,
    "start_time": "2022-01-14T16:49:59.540Z"
   },
   {
    "duration": 11050,
    "start_time": "2022-01-14T17:02:02.044Z"
   },
   {
    "duration": 11962,
    "start_time": "2022-01-14T17:04:24.333Z"
   },
   {
    "duration": 54,
    "start_time": "2022-01-14T17:05:17.679Z"
   },
   {
    "duration": 10161,
    "start_time": "2022-01-14T17:08:46.676Z"
   },
   {
    "duration": 11198,
    "start_time": "2022-01-14T17:09:03.725Z"
   },
   {
    "duration": 40,
    "start_time": "2022-01-14T17:14:58.988Z"
   },
   {
    "duration": 52,
    "start_time": "2022-01-14T17:15:42.773Z"
   },
   {
    "duration": 373,
    "start_time": "2022-01-14T17:18:22.499Z"
   },
   {
    "duration": 672,
    "start_time": "2022-01-14T17:18:32.302Z"
   },
   {
    "duration": 603,
    "start_time": "2022-01-14T17:18:56.894Z"
   },
   {
    "duration": 54,
    "start_time": "2022-01-14T17:18:57.688Z"
   },
   {
    "duration": 95,
    "start_time": "2022-01-14T17:19:00.106Z"
   },
   {
    "duration": 28,
    "start_time": "2022-01-14T17:19:00.873Z"
   },
   {
    "duration": 35,
    "start_time": "2022-01-14T17:19:02.302Z"
   },
   {
    "duration": 16,
    "start_time": "2022-01-14T17:19:03.980Z"
   },
   {
    "duration": 110,
    "start_time": "2022-01-14T17:19:10.902Z"
   },
   {
    "duration": 18,
    "start_time": "2022-01-14T17:19:20.777Z"
   },
   {
    "duration": 49,
    "start_time": "2022-01-14T17:19:27.881Z"
   },
   {
    "duration": 479,
    "start_time": "2022-01-14T17:19:32.144Z"
   },
   {
    "duration": 613,
    "start_time": "2022-01-14T17:22:34.184Z"
   },
   {
    "duration": 389,
    "start_time": "2022-01-14T17:22:51.272Z"
   },
   {
    "duration": 428,
    "start_time": "2022-01-14T17:22:58.688Z"
   },
   {
    "duration": 40,
    "start_time": "2022-01-14T17:24:47.594Z"
   },
   {
    "duration": 75,
    "start_time": "2022-01-14T17:25:34.657Z"
   },
   {
    "duration": 53,
    "start_time": "2022-01-14T17:25:46.035Z"
   },
   {
    "duration": 12443,
    "start_time": "2022-01-14T17:26:38.119Z"
   },
   {
    "duration": 35,
    "start_time": "2022-01-14T17:27:18.993Z"
   },
   {
    "duration": 51,
    "start_time": "2022-01-14T17:28:22.862Z"
   },
   {
    "duration": 93,
    "start_time": "2022-01-14T17:30:08.124Z"
   },
   {
    "duration": 62,
    "start_time": "2022-01-14T17:32:55.015Z"
   },
   {
    "duration": 50,
    "start_time": "2022-01-14T17:41:16.247Z"
   },
   {
    "duration": 53,
    "start_time": "2022-01-14T17:45:04.196Z"
   },
   {
    "duration": 51,
    "start_time": "2022-01-14T17:48:44.300Z"
   },
   {
    "duration": 440,
    "start_time": "2022-01-14T17:50:34.617Z"
   },
   {
    "duration": 50,
    "start_time": "2022-01-14T17:50:52.216Z"
   },
   {
    "duration": 50,
    "start_time": "2022-01-14T17:53:41.383Z"
   },
   {
    "duration": 48,
    "start_time": "2022-01-14T17:53:57.136Z"
   },
   {
    "duration": 46,
    "start_time": "2022-01-14T17:54:07.599Z"
   },
   {
    "duration": 39,
    "start_time": "2022-01-14T17:59:33.127Z"
   },
   {
    "duration": 10132,
    "start_time": "2022-01-14T18:01:46.309Z"
   },
   {
    "duration": 413,
    "start_time": "2022-01-14T18:06:54.899Z"
   },
   {
    "duration": 386,
    "start_time": "2022-01-14T18:08:17.802Z"
   },
   {
    "duration": 377,
    "start_time": "2022-01-14T18:09:30.470Z"
   },
   {
    "duration": 410,
    "start_time": "2022-01-14T18:10:07.489Z"
   },
   {
    "duration": 40,
    "start_time": "2022-01-14T18:11:30.230Z"
   },
   {
    "duration": 511,
    "start_time": "2022-01-14T18:11:31.456Z"
   },
   {
    "duration": 689,
    "start_time": "2022-01-14T18:12:09.948Z"
   },
   {
    "duration": 53,
    "start_time": "2022-01-14T18:12:51.834Z"
   },
   {
    "duration": 93,
    "start_time": "2022-01-14T18:12:58.607Z"
   },
   {
    "duration": 21,
    "start_time": "2022-01-14T18:12:59.176Z"
   },
   {
    "duration": 31,
    "start_time": "2022-01-14T18:13:00.182Z"
   },
   {
    "duration": 13,
    "start_time": "2022-01-14T18:13:24.190Z"
   },
   {
    "duration": 98,
    "start_time": "2022-01-14T18:13:29.314Z"
   },
   {
    "duration": 22,
    "start_time": "2022-01-14T18:13:33.149Z"
   },
   {
    "duration": 37,
    "start_time": "2022-01-14T18:14:37.492Z"
   },
   {
    "duration": 66,
    "start_time": "2022-01-14T18:14:55.950Z"
   },
   {
    "duration": 46,
    "start_time": "2022-01-14T18:14:57.216Z"
   },
   {
    "duration": 13,
    "start_time": "2022-01-14T18:14:58.713Z"
   },
   {
    "duration": 42,
    "start_time": "2022-01-14T18:15:00.948Z"
   },
   {
    "duration": 479,
    "start_time": "2022-01-14T18:15:01.929Z"
   },
   {
    "duration": 45,
    "start_time": "2022-01-14T18:15:11.887Z"
   },
   {
    "duration": 53,
    "start_time": "2022-01-14T18:21:04.780Z"
   },
   {
    "duration": 49,
    "start_time": "2022-01-14T18:21:54.658Z"
   },
   {
    "duration": 52,
    "start_time": "2022-01-14T18:23:17.938Z"
   },
   {
    "duration": 49,
    "start_time": "2022-01-14T18:27:54.211Z"
   },
   {
    "duration": 24,
    "start_time": "2022-01-14T18:30:05.325Z"
   },
   {
    "duration": 472,
    "start_time": "2022-01-14T18:30:17.132Z"
   },
   {
    "duration": 24,
    "start_time": "2022-01-14T18:30:24.017Z"
   },
   {
    "duration": 48,
    "start_time": "2022-01-14T18:30:56.386Z"
   },
   {
    "duration": 18895,
    "start_time": "2022-01-14T18:36:04.045Z"
   },
   {
    "duration": 631,
    "start_time": "2022-01-14T18:36:42.150Z"
   },
   {
    "duration": 54,
    "start_time": "2022-01-14T18:36:46.753Z"
   },
   {
    "duration": 96,
    "start_time": "2022-01-14T18:36:51.616Z"
   },
   {
    "duration": 21,
    "start_time": "2022-01-14T18:36:52.259Z"
   },
   {
    "duration": 29,
    "start_time": "2022-01-14T18:36:53.247Z"
   },
   {
    "duration": 13,
    "start_time": "2022-01-14T18:36:54.289Z"
   },
   {
    "duration": 97,
    "start_time": "2022-01-14T18:36:55.390Z"
   },
   {
    "duration": 16,
    "start_time": "2022-01-14T18:36:56.409Z"
   },
   {
    "duration": 39,
    "start_time": "2022-01-14T18:36:57.261Z"
   },
   {
    "duration": 66,
    "start_time": "2022-01-14T18:36:58.451Z"
   },
   {
    "duration": 43,
    "start_time": "2022-01-14T18:36:59.340Z"
   },
   {
    "duration": 12,
    "start_time": "2022-01-14T18:37:00.185Z"
   },
   {
    "duration": 51,
    "start_time": "2022-01-14T18:37:00.836Z"
   },
   {
    "duration": 55,
    "start_time": "2022-01-14T18:37:02.124Z"
   },
   {
    "duration": 627,
    "start_time": "2022-01-14T18:37:58.741Z"
   },
   {
    "duration": 54,
    "start_time": "2022-01-14T18:38:00.208Z"
   },
   {
    "duration": 96,
    "start_time": "2022-01-14T18:38:03.031Z"
   },
   {
    "duration": 21,
    "start_time": "2022-01-14T18:38:04.350Z"
   },
   {
    "duration": 29,
    "start_time": "2022-01-14T18:38:06.598Z"
   },
   {
    "duration": 13,
    "start_time": "2022-01-14T18:38:13.131Z"
   },
   {
    "duration": 124,
    "start_time": "2022-01-14T18:38:25.416Z"
   },
   {
    "duration": 18,
    "start_time": "2022-01-14T18:38:30.764Z"
   },
   {
    "duration": 35,
    "start_time": "2022-01-14T18:38:43.497Z"
   },
   {
    "duration": 66,
    "start_time": "2022-01-14T18:38:45.810Z"
   },
   {
    "duration": 40,
    "start_time": "2022-01-14T18:38:46.797Z"
   },
   {
    "duration": 12,
    "start_time": "2022-01-14T18:38:47.605Z"
   },
   {
    "duration": 44,
    "start_time": "2022-01-14T18:38:48.382Z"
   },
   {
    "duration": 47,
    "start_time": "2022-01-14T18:38:49.490Z"
   },
   {
    "duration": 486,
    "start_time": "2022-01-14T18:39:29.885Z"
   },
   {
    "duration": 626,
    "start_time": "2022-01-14T18:39:44.368Z"
   },
   {
    "duration": 105,
    "start_time": "2022-01-14T18:39:44.997Z"
   },
   {
    "duration": 94,
    "start_time": "2022-01-14T18:39:45.887Z"
   },
   {
    "duration": 20,
    "start_time": "2022-01-14T18:39:46.274Z"
   },
   {
    "duration": 30,
    "start_time": "2022-01-14T18:39:46.862Z"
   },
   {
    "duration": 13,
    "start_time": "2022-01-14T18:39:47.453Z"
   },
   {
    "duration": 120,
    "start_time": "2022-01-14T18:39:48.237Z"
   },
   {
    "duration": 19,
    "start_time": "2022-01-14T18:39:48.636Z"
   },
   {
    "duration": 48,
    "start_time": "2022-01-14T18:39:49.023Z"
   },
   {
    "duration": 62,
    "start_time": "2022-01-14T18:39:49.620Z"
   },
   {
    "duration": 41,
    "start_time": "2022-01-14T18:39:50.014Z"
   },
   {
    "duration": 13,
    "start_time": "2022-01-14T18:39:50.417Z"
   },
   {
    "duration": 47,
    "start_time": "2022-01-14T18:39:51.266Z"
   },
   {
    "duration": 475,
    "start_time": "2022-01-14T18:39:52.530Z"
   },
   {
    "duration": 33,
    "start_time": "2022-01-14T18:40:30.134Z"
   },
   {
    "duration": 38,
    "start_time": "2022-01-14T18:44:32.396Z"
   },
   {
    "duration": 10221,
    "start_time": "2022-01-14T18:45:22.883Z"
   },
   {
    "duration": 64,
    "start_time": "2022-01-14T18:45:36.978Z"
   },
   {
    "duration": 1770,
    "start_time": "2022-01-14T18:48:53.529Z"
   },
   {
    "duration": 1564,
    "start_time": "2022-01-14T18:49:09.692Z"
   },
   {
    "duration": 613,
    "start_time": "2022-01-14T18:55:03.478Z"
   },
   {
    "duration": 53,
    "start_time": "2022-01-14T18:55:04.536Z"
   },
   {
    "duration": 124,
    "start_time": "2022-01-14T18:55:06.677Z"
   },
   {
    "duration": 21,
    "start_time": "2022-01-14T18:55:07.305Z"
   },
   {
    "duration": 31,
    "start_time": "2022-01-14T18:55:08.633Z"
   },
   {
    "duration": 13,
    "start_time": "2022-01-14T18:55:09.758Z"
   },
   {
    "duration": 96,
    "start_time": "2022-01-14T18:55:11.669Z"
   },
   {
    "duration": 15,
    "start_time": "2022-01-14T18:55:12.878Z"
   },
   {
    "duration": 38,
    "start_time": "2022-01-14T18:55:54.514Z"
   },
   {
    "duration": 64,
    "start_time": "2022-01-14T18:56:05.543Z"
   },
   {
    "duration": 41,
    "start_time": "2022-01-14T18:56:07.170Z"
   },
   {
    "duration": 14,
    "start_time": "2022-01-14T18:56:26.864Z"
   },
   {
    "duration": 60,
    "start_time": "2022-01-14T18:56:33.592Z"
   },
   {
    "duration": 39,
    "start_time": "2022-01-14T18:56:35.427Z"
   },
   {
    "duration": 428,
    "start_time": "2022-01-14T18:57:00.754Z"
   },
   {
    "duration": 77,
    "start_time": "2022-01-14T18:57:38.890Z"
   },
   {
    "duration": 132,
    "start_time": "2022-01-14T18:57:54.300Z"
   },
   {
    "duration": 629,
    "start_time": "2022-01-14T18:58:06.820Z"
   },
   {
    "duration": 80,
    "start_time": "2022-01-14T18:58:07.452Z"
   },
   {
    "duration": 94,
    "start_time": "2022-01-14T18:58:08.352Z"
   },
   {
    "duration": 21,
    "start_time": "2022-01-14T18:58:08.657Z"
   },
   {
    "duration": 27,
    "start_time": "2022-01-14T18:58:09.309Z"
   },
   {
    "duration": 13,
    "start_time": "2022-01-14T18:58:09.809Z"
   },
   {
    "duration": 100,
    "start_time": "2022-01-14T18:58:10.509Z"
   },
   {
    "duration": 18,
    "start_time": "2022-01-14T18:58:11.131Z"
   },
   {
    "duration": 48,
    "start_time": "2022-01-14T18:58:11.745Z"
   },
   {
    "duration": 86,
    "start_time": "2022-01-14T18:58:12.720Z"
   },
   {
    "duration": 57,
    "start_time": "2022-01-14T18:58:13.332Z"
   },
   {
    "duration": 16,
    "start_time": "2022-01-14T18:58:14.120Z"
   },
   {
    "duration": 61,
    "start_time": "2022-01-14T18:58:14.763Z"
   },
   {
    "duration": 46,
    "start_time": "2022-01-14T18:58:15.624Z"
   },
   {
    "duration": 133,
    "start_time": "2022-01-14T18:58:16.248Z"
   },
   {
    "duration": 131,
    "start_time": "2022-01-14T18:58:55.855Z"
   },
   {
    "duration": 429,
    "start_time": "2022-01-14T19:06:00.565Z"
   },
   {
    "duration": 628,
    "start_time": "2022-01-14T19:06:18.624Z"
   },
   {
    "duration": 85,
    "start_time": "2022-01-14T19:06:19.255Z"
   },
   {
    "duration": 134,
    "start_time": "2022-01-14T19:07:34.807Z"
   },
   {
    "duration": 21,
    "start_time": "2022-01-14T19:07:35.303Z"
   },
   {
    "duration": 35,
    "start_time": "2022-01-14T19:07:35.902Z"
   },
   {
    "duration": 20,
    "start_time": "2022-01-14T19:07:36.427Z"
   },
   {
    "duration": 99,
    "start_time": "2022-01-14T19:07:37.392Z"
   },
   {
    "duration": 15,
    "start_time": "2022-01-14T19:07:37.919Z"
   },
   {
    "duration": 36,
    "start_time": "2022-01-14T19:07:38.320Z"
   },
   {
    "duration": 67,
    "start_time": "2022-01-14T19:07:38.950Z"
   },
   {
    "duration": 63,
    "start_time": "2022-01-14T19:07:39.746Z"
   },
   {
    "duration": 18,
    "start_time": "2022-01-14T19:07:44.653Z"
   },
   {
    "duration": 46,
    "start_time": "2022-01-14T19:07:45.231Z"
   },
   {
    "duration": 35,
    "start_time": "2022-01-14T19:07:46.182Z"
   },
   {
    "duration": 397,
    "start_time": "2022-01-14T19:07:47.087Z"
   },
   {
    "duration": 18,
    "start_time": "2022-01-14T19:08:10.448Z"
   },
   {
    "duration": 839,
    "start_time": "2022-01-14T19:08:23.404Z"
   },
   {
    "duration": 81,
    "start_time": "2022-01-14T19:08:24.247Z"
   },
   {
    "duration": 101,
    "start_time": "2022-01-14T19:08:31.184Z"
   },
   {
    "duration": 30,
    "start_time": "2022-01-14T19:08:31.954Z"
   },
   {
    "duration": 35,
    "start_time": "2022-01-14T19:08:34.147Z"
   },
   {
    "duration": 14,
    "start_time": "2022-01-14T19:08:51.108Z"
   },
   {
    "duration": 96,
    "start_time": "2022-01-14T19:08:52.076Z"
   },
   {
    "duration": 15,
    "start_time": "2022-01-14T19:08:53.545Z"
   },
   {
    "duration": 37,
    "start_time": "2022-01-14T19:09:20.544Z"
   },
   {
    "duration": 63,
    "start_time": "2022-01-14T19:09:27.494Z"
   },
   {
    "duration": 38,
    "start_time": "2022-01-14T19:09:27.857Z"
   },
   {
    "duration": 23,
    "start_time": "2022-01-14T19:09:28.262Z"
   },
   {
    "duration": 42,
    "start_time": "2022-01-14T19:09:28.651Z"
   },
   {
    "duration": 37,
    "start_time": "2022-01-14T19:09:29.085Z"
   },
   {
    "duration": 16,
    "start_time": "2022-01-14T19:09:29.429Z"
   },
   {
    "duration": 14,
    "start_time": "2022-01-14T19:10:04.659Z"
   },
   {
    "duration": 16,
    "start_time": "2022-01-14T19:10:36.261Z"
   },
   {
    "duration": 17,
    "start_time": "2022-01-14T19:10:44.490Z"
   },
   {
    "duration": 14,
    "start_time": "2022-01-14T19:13:53.093Z"
   },
   {
    "duration": 35,
    "start_time": "2022-01-14T19:14:30.432Z"
   },
   {
    "duration": 15,
    "start_time": "2022-01-14T19:18:54.745Z"
   },
   {
    "duration": 1007,
    "start_time": "2022-01-15T07:49:38.007Z"
   },
   {
    "duration": 34,
    "start_time": "2022-01-15T07:49:39.015Z"
   },
   {
    "duration": 86,
    "start_time": "2022-01-15T07:49:39.051Z"
   },
   {
    "duration": 12,
    "start_time": "2022-01-15T07:49:39.138Z"
   },
   {
    "duration": 21,
    "start_time": "2022-01-15T07:49:39.151Z"
   },
   {
    "duration": 8,
    "start_time": "2022-01-15T07:49:39.173Z"
   },
   {
    "duration": 97,
    "start_time": "2022-01-15T07:49:39.182Z"
   },
   {
    "duration": 11,
    "start_time": "2022-01-15T07:49:39.282Z"
   },
   {
    "duration": 57,
    "start_time": "2022-01-15T07:49:39.295Z"
   },
   {
    "duration": 46,
    "start_time": "2022-01-15T07:49:39.354Z"
   },
   {
    "duration": 47,
    "start_time": "2022-01-15T07:49:39.402Z"
   },
   {
    "duration": 8,
    "start_time": "2022-01-15T07:49:39.451Z"
   },
   {
    "duration": 29,
    "start_time": "2022-01-15T07:49:39.461Z"
   },
   {
    "duration": 31,
    "start_time": "2022-01-15T07:49:43.845Z"
   },
   {
    "duration": 30,
    "start_time": "2022-01-15T07:49:56.342Z"
   },
   {
    "duration": 12,
    "start_time": "2022-01-15T09:32:46.971Z"
   },
   {
    "duration": 7,
    "start_time": "2022-01-15T09:33:09.312Z"
   },
   {
    "duration": 8709,
    "start_time": "2022-01-15T09:39:41.288Z"
   },
   {
    "duration": 43,
    "start_time": "2022-01-15T09:40:03.947Z"
   },
   {
    "duration": 489,
    "start_time": "2022-01-15T09:44:07.951Z"
   },
   {
    "duration": 31,
    "start_time": "2022-01-15T09:44:09.346Z"
   },
   {
    "duration": 62,
    "start_time": "2022-01-15T09:44:46.325Z"
   },
   {
    "duration": 14,
    "start_time": "2022-01-15T09:44:48.559Z"
   },
   {
    "duration": 22,
    "start_time": "2022-01-15T09:45:01.418Z"
   },
   {
    "duration": 9,
    "start_time": "2022-01-15T09:45:23.997Z"
   },
   {
    "duration": 61,
    "start_time": "2022-01-15T09:45:27.037Z"
   },
   {
    "duration": 30,
    "start_time": "2022-01-15T09:45:31.426Z"
   },
   {
    "duration": 25,
    "start_time": "2022-01-15T09:45:33.689Z"
   },
   {
    "duration": 50,
    "start_time": "2022-01-15T09:45:35.899Z"
   },
   {
    "duration": 35,
    "start_time": "2022-01-15T09:45:37.437Z"
   },
   {
    "duration": 8,
    "start_time": "2022-01-15T09:45:55.011Z"
   },
   {
    "duration": 39,
    "start_time": "2022-01-15T09:46:05.344Z"
   },
   {
    "duration": 24,
    "start_time": "2022-01-15T09:46:18.157Z"
   },
   {
    "duration": 8054,
    "start_time": "2022-01-15T09:52:35.104Z"
   },
   {
    "duration": 439,
    "start_time": "2022-01-15T09:52:51.156Z"
   },
   {
    "duration": 36,
    "start_time": "2022-01-15T09:52:52.482Z"
   },
   {
    "duration": 58,
    "start_time": "2022-01-15T09:53:00.048Z"
   },
   {
    "duration": 13,
    "start_time": "2022-01-15T09:53:01.516Z"
   },
   {
    "duration": 18,
    "start_time": "2022-01-15T09:53:07.913Z"
   },
   {
    "duration": 8,
    "start_time": "2022-01-15T09:53:09.578Z"
   },
   {
    "duration": 60,
    "start_time": "2022-01-15T09:53:55.847Z"
   },
   {
    "duration": 10,
    "start_time": "2022-01-15T09:53:57.759Z"
   },
   {
    "duration": 23,
    "start_time": "2022-01-15T09:53:59.558Z"
   },
   {
    "duration": 41,
    "start_time": "2022-01-15T09:54:01.282Z"
   },
   {
    "duration": 26,
    "start_time": "2022-01-15T09:54:19.982Z"
   },
   {
    "duration": 8,
    "start_time": "2022-01-15T09:55:28.501Z"
   },
   {
    "duration": 25,
    "start_time": "2022-01-15T09:55:29.968Z"
   },
   {
    "duration": 23,
    "start_time": "2022-01-15T09:55:43.064Z"
   },
   {
    "duration": 9,
    "start_time": "2022-01-15T09:56:19.127Z"
   },
   {
    "duration": 1044,
    "start_time": "2022-01-15T12:51:19.159Z"
   },
   {
    "duration": 40,
    "start_time": "2022-01-15T12:51:20.206Z"
   },
   {
    "duration": 68,
    "start_time": "2022-01-15T12:51:20.247Z"
   },
   {
    "duration": 31,
    "start_time": "2022-01-15T12:51:20.317Z"
   },
   {
    "duration": 27,
    "start_time": "2022-01-15T12:51:20.350Z"
   },
   {
    "duration": 9,
    "start_time": "2022-01-15T12:51:20.379Z"
   },
   {
    "duration": 84,
    "start_time": "2022-01-15T12:51:20.390Z"
   },
   {
    "duration": 10,
    "start_time": "2022-01-15T12:51:20.476Z"
   },
   {
    "duration": 33,
    "start_time": "2022-01-15T12:51:20.488Z"
   },
   {
    "duration": 65,
    "start_time": "2022-01-15T12:51:20.522Z"
   },
   {
    "duration": 28,
    "start_time": "2022-01-15T12:51:20.589Z"
   },
   {
    "duration": 26,
    "start_time": "2022-01-15T12:51:20.619Z"
   },
   {
    "duration": 33,
    "start_time": "2022-01-15T12:51:20.646Z"
   },
   {
    "duration": 26,
    "start_time": "2022-01-15T12:51:20.680Z"
   },
   {
    "duration": 34,
    "start_time": "2022-01-15T12:51:20.708Z"
   },
   {
    "duration": 11,
    "start_time": "2022-01-15T12:51:20.744Z"
   },
   {
    "duration": 85,
    "start_time": "2022-01-15T12:51:43.669Z"
   },
   {
    "duration": 10,
    "start_time": "2022-01-15T12:51:56.478Z"
   },
   {
    "duration": 293,
    "start_time": "2022-01-15T13:32:55.274Z"
   },
   {
    "duration": 413,
    "start_time": "2022-01-15T13:33:28.626Z"
   },
   {
    "duration": 30,
    "start_time": "2022-01-15T13:33:29.041Z"
   },
   {
    "duration": 80,
    "start_time": "2022-01-15T13:33:29.073Z"
   },
   {
    "duration": 12,
    "start_time": "2022-01-15T13:33:29.155Z"
   },
   {
    "duration": 17,
    "start_time": "2022-01-15T13:33:29.168Z"
   },
   {
    "duration": 7,
    "start_time": "2022-01-15T13:33:29.187Z"
   },
   {
    "duration": 84,
    "start_time": "2022-01-15T13:33:29.195Z"
   },
   {
    "duration": 8,
    "start_time": "2022-01-15T13:33:29.281Z"
   },
   {
    "duration": 30,
    "start_time": "2022-01-15T13:33:29.290Z"
   },
   {
    "duration": 57,
    "start_time": "2022-01-15T13:33:29.321Z"
   },
   {
    "duration": 25,
    "start_time": "2022-01-15T13:33:29.379Z"
   },
   {
    "duration": 7,
    "start_time": "2022-01-15T13:33:29.406Z"
   },
   {
    "duration": 49,
    "start_time": "2022-01-15T13:33:29.414Z"
   },
   {
    "duration": 24,
    "start_time": "2022-01-15T13:33:29.465Z"
   },
   {
    "duration": 9,
    "start_time": "2022-01-15T13:33:29.490Z"
   },
   {
    "duration": 10,
    "start_time": "2022-01-15T13:33:29.500Z"
   },
   {
    "duration": 276,
    "start_time": "2022-01-15T13:33:29.511Z"
   },
   {
    "duration": 95,
    "start_time": "2022-01-15T13:37:51.300Z"
   },
   {
    "duration": 79,
    "start_time": "2022-01-15T13:38:06.331Z"
   },
   {
    "duration": 82,
    "start_time": "2022-01-15T13:39:02.961Z"
   },
   {
    "duration": 414,
    "start_time": "2022-01-15T13:39:12.388Z"
   },
   {
    "duration": 29,
    "start_time": "2022-01-15T13:39:12.804Z"
   },
   {
    "duration": 57,
    "start_time": "2022-01-15T13:39:12.841Z"
   },
   {
    "duration": 11,
    "start_time": "2022-01-15T13:39:12.900Z"
   },
   {
    "duration": 35,
    "start_time": "2022-01-15T13:39:12.913Z"
   },
   {
    "duration": 10,
    "start_time": "2022-01-15T13:39:12.950Z"
   },
   {
    "duration": 80,
    "start_time": "2022-01-15T13:39:12.961Z"
   },
   {
    "duration": 10,
    "start_time": "2022-01-15T13:39:13.043Z"
   },
   {
    "duration": 29,
    "start_time": "2022-01-15T13:39:13.056Z"
   },
   {
    "duration": 66,
    "start_time": "2022-01-15T13:39:13.087Z"
   },
   {
    "duration": 27,
    "start_time": "2022-01-15T13:39:13.155Z"
   },
   {
    "duration": 8,
    "start_time": "2022-01-15T13:39:13.183Z"
   },
   {
    "duration": 51,
    "start_time": "2022-01-15T13:39:13.192Z"
   },
   {
    "duration": 27,
    "start_time": "2022-01-15T13:39:13.244Z"
   },
   {
    "duration": 8,
    "start_time": "2022-01-15T13:39:13.272Z"
   },
   {
    "duration": 8,
    "start_time": "2022-01-15T13:39:15.365Z"
   },
   {
    "duration": 174,
    "start_time": "2022-01-15T13:39:21.880Z"
   },
   {
    "duration": 5,
    "start_time": "2022-01-15T13:39:28.677Z"
   },
   {
    "duration": 13,
    "start_time": "2022-01-15T13:39:35.540Z"
   },
   {
    "duration": 14,
    "start_time": "2022-01-15T13:39:42.691Z"
   },
   {
    "duration": 19,
    "start_time": "2022-01-15T13:49:41.429Z"
   },
   {
    "duration": 411,
    "start_time": "2022-01-15T13:49:57.943Z"
   },
   {
    "duration": 29,
    "start_time": "2022-01-15T13:49:58.684Z"
   },
   {
    "duration": 59,
    "start_time": "2022-01-15T13:50:00.959Z"
   },
   {
    "duration": 14,
    "start_time": "2022-01-15T13:50:01.328Z"
   },
   {
    "duration": 21,
    "start_time": "2022-01-15T13:50:01.979Z"
   },
   {
    "duration": 8,
    "start_time": "2022-01-15T13:50:02.659Z"
   },
   {
    "duration": 66,
    "start_time": "2022-01-15T13:50:04.216Z"
   },
   {
    "duration": 10,
    "start_time": "2022-01-15T13:50:05.231Z"
   },
   {
    "duration": 24,
    "start_time": "2022-01-15T13:50:07.817Z"
   },
   {
    "duration": 40,
    "start_time": "2022-01-15T13:50:09.606Z"
   },
   {
    "duration": 27,
    "start_time": "2022-01-15T13:50:10.355Z"
   },
   {
    "duration": 7,
    "start_time": "2022-01-15T13:50:11.462Z"
   },
   {
    "duration": 27,
    "start_time": "2022-01-15T13:50:13.115Z"
   },
   {
    "duration": 29,
    "start_time": "2022-01-15T13:50:15.135Z"
   },
   {
    "duration": 9,
    "start_time": "2022-01-15T13:50:16.302Z"
   },
   {
    "duration": 11,
    "start_time": "2022-01-15T13:50:19.059Z"
   },
   {
    "duration": 16,
    "start_time": "2022-01-15T13:50:19.948Z"
   },
   {
    "duration": 34,
    "start_time": "2022-01-15T14:37:35.404Z"
   },
   {
    "duration": 9,
    "start_time": "2022-01-15T14:38:09.588Z"
   },
   {
    "duration": 18,
    "start_time": "2022-01-15T14:38:29.994Z"
   },
   {
    "duration": 10,
    "start_time": "2022-01-15T14:38:41.242Z"
   },
   {
    "duration": 22,
    "start_time": "2022-01-15T14:39:56.575Z"
   },
   {
    "duration": 494,
    "start_time": "2022-01-15T14:40:31.192Z"
   },
   {
    "duration": 38,
    "start_time": "2022-01-15T14:40:31.902Z"
   },
   {
    "duration": 69,
    "start_time": "2022-01-15T14:40:33.082Z"
   },
   {
    "duration": 15,
    "start_time": "2022-01-15T14:40:33.487Z"
   },
   {
    "duration": 20,
    "start_time": "2022-01-15T14:40:34.211Z"
   },
   {
    "duration": 9,
    "start_time": "2022-01-15T14:40:34.823Z"
   },
   {
    "duration": 67,
    "start_time": "2022-01-15T14:40:35.812Z"
   },
   {
    "duration": 10,
    "start_time": "2022-01-15T14:40:36.399Z"
   },
   {
    "duration": 33,
    "start_time": "2022-01-15T14:40:37.129Z"
   },
   {
    "duration": 45,
    "start_time": "2022-01-15T14:40:38.439Z"
   },
   {
    "duration": 29,
    "start_time": "2022-01-15T14:40:39.297Z"
   },
   {
    "duration": 9,
    "start_time": "2022-01-15T14:40:40.131Z"
   },
   {
    "duration": 28,
    "start_time": "2022-01-15T14:40:41.087Z"
   },
   {
    "duration": 27,
    "start_time": "2022-01-15T14:40:42.080Z"
   },
   {
    "duration": 7,
    "start_time": "2022-01-15T14:40:43.699Z"
   },
   {
    "duration": 11,
    "start_time": "2022-01-15T14:40:44.569Z"
   },
   {
    "duration": 18,
    "start_time": "2022-01-15T14:40:46.281Z"
   },
   {
    "duration": 11,
    "start_time": "2022-01-15T14:41:11.925Z"
   },
   {
    "duration": 279,
    "start_time": "2022-01-15T14:44:41.317Z"
   },
   {
    "duration": 231,
    "start_time": "2022-01-15T14:44:53.802Z"
   },
   {
    "duration": 5762,
    "start_time": "2022-01-15T14:45:11.212Z"
   },
   {
    "duration": 6529,
    "start_time": "2022-01-15T14:45:29.355Z"
   },
   {
    "duration": 12,
    "start_time": "2022-01-15T14:45:47.753Z"
   },
   {
    "duration": 330,
    "start_time": "2022-01-15T14:45:59.250Z"
   },
   {
    "duration": 11,
    "start_time": "2022-01-15T14:48:42.841Z"
   },
   {
    "duration": 9,
    "start_time": "2022-01-15T14:53:03.184Z"
   },
   {
    "duration": 23,
    "start_time": "2022-01-15T14:53:05.544Z"
   },
   {
    "duration": 412,
    "start_time": "2022-01-15T14:53:15.104Z"
   },
   {
    "duration": 38,
    "start_time": "2022-01-15T14:53:15.519Z"
   },
   {
    "duration": 82,
    "start_time": "2022-01-15T14:53:15.559Z"
   },
   {
    "duration": 13,
    "start_time": "2022-01-15T14:53:15.643Z"
   },
   {
    "duration": 35,
    "start_time": "2022-01-15T14:53:15.657Z"
   },
   {
    "duration": 46,
    "start_time": "2022-01-15T14:53:15.693Z"
   },
   {
    "duration": 91,
    "start_time": "2022-01-15T14:53:15.740Z"
   },
   {
    "duration": 9,
    "start_time": "2022-01-15T14:53:15.833Z"
   },
   {
    "duration": 28,
    "start_time": "2022-01-15T14:53:15.845Z"
   },
   {
    "duration": 41,
    "start_time": "2022-01-15T14:53:15.875Z"
   },
   {
    "duration": 43,
    "start_time": "2022-01-15T14:53:15.918Z"
   },
   {
    "duration": 8,
    "start_time": "2022-01-15T14:53:15.963Z"
   },
   {
    "duration": 50,
    "start_time": "2022-01-15T14:53:15.973Z"
   },
   {
    "duration": 29,
    "start_time": "2022-01-15T14:53:16.024Z"
   },
   {
    "duration": 15,
    "start_time": "2022-01-15T14:53:16.055Z"
   },
   {
    "duration": 16,
    "start_time": "2022-01-15T14:53:16.071Z"
   },
   {
    "duration": 19,
    "start_time": "2022-01-15T14:53:19.476Z"
   },
   {
    "duration": 418,
    "start_time": "2022-01-15T14:53:44.609Z"
   },
   {
    "duration": 32,
    "start_time": "2022-01-15T14:53:46.931Z"
   },
   {
    "duration": 60,
    "start_time": "2022-01-15T14:53:52.026Z"
   },
   {
    "duration": 12,
    "start_time": "2022-01-15T14:53:53.183Z"
   },
   {
    "duration": 17,
    "start_time": "2022-01-15T14:53:55.121Z"
   },
   {
    "duration": 12,
    "start_time": "2022-01-15T14:53:56.587Z"
   },
   {
    "duration": 63,
    "start_time": "2022-01-15T14:53:59.117Z"
   },
   {
    "duration": 10,
    "start_time": "2022-01-15T14:54:00.597Z"
   },
   {
    "duration": 27,
    "start_time": "2022-01-15T14:54:12.052Z"
   },
   {
    "duration": 39,
    "start_time": "2022-01-15T14:54:32.855Z"
   },
   {
    "duration": 28,
    "start_time": "2022-01-15T14:54:33.877Z"
   },
   {
    "duration": 9,
    "start_time": "2022-01-15T14:54:34.613Z"
   },
   {
    "duration": 30,
    "start_time": "2022-01-15T14:54:35.138Z"
   },
   {
    "duration": 28,
    "start_time": "2022-01-15T14:54:35.689Z"
   },
   {
    "duration": 11,
    "start_time": "2022-01-15T14:54:35.962Z"
   },
   {
    "duration": 15,
    "start_time": "2022-01-15T14:54:36.266Z"
   },
   {
    "duration": 465,
    "start_time": "2022-01-15T14:58:00.750Z"
   },
   {
    "duration": 34,
    "start_time": "2022-01-15T14:58:01.317Z"
   },
   {
    "duration": 61,
    "start_time": "2022-01-15T14:58:02.901Z"
   },
   {
    "duration": 12,
    "start_time": "2022-01-15T14:58:03.689Z"
   },
   {
    "duration": 17,
    "start_time": "2022-01-15T14:58:04.556Z"
   },
   {
    "duration": 8,
    "start_time": "2022-01-15T14:58:05.475Z"
   },
   {
    "duration": 421,
    "start_time": "2022-01-15T14:58:57.121Z"
   },
   {
    "duration": 29,
    "start_time": "2022-01-15T14:58:59.146Z"
   },
   {
    "duration": 70,
    "start_time": "2022-01-15T14:59:01.148Z"
   },
   {
    "duration": 13,
    "start_time": "2022-01-15T14:59:03.539Z"
   },
   {
    "duration": 19,
    "start_time": "2022-01-15T14:59:05.197Z"
   },
   {
    "duration": 9,
    "start_time": "2022-01-15T14:59:12.172Z"
   },
   {
    "duration": 61,
    "start_time": "2022-01-15T14:59:22.732Z"
   },
   {
    "duration": 9,
    "start_time": "2022-01-15T14:59:25.112Z"
   },
   {
    "duration": 31,
    "start_time": "2022-01-15T14:59:45.584Z"
   },
   {
    "duration": 41,
    "start_time": "2022-01-15T14:59:48.412Z"
   },
   {
    "duration": 27,
    "start_time": "2022-01-15T15:03:11.199Z"
   },
   {
    "duration": 8,
    "start_time": "2022-01-15T15:03:12.276Z"
   },
   {
    "duration": 9,
    "start_time": "2022-01-15T15:04:17.819Z"
   },
   {
    "duration": 17,
    "start_time": "2022-01-15T15:04:18.820Z"
   },
   {
    "duration": 25,
    "start_time": "2022-01-15T15:04:25.170Z"
   },
   {
    "duration": 13,
    "start_time": "2022-01-15T15:04:32.810Z"
   },
   {
    "duration": 12,
    "start_time": "2022-01-15T15:04:57.518Z"
   },
   {
    "duration": 22,
    "start_time": "2022-01-15T15:06:33.923Z"
   },
   {
    "duration": 406,
    "start_time": "2022-01-15T15:06:50.848Z"
   },
   {
    "duration": 30,
    "start_time": "2022-01-15T15:06:51.257Z"
   },
   {
    "duration": 79,
    "start_time": "2022-01-15T15:06:51.289Z"
   },
   {
    "duration": 12,
    "start_time": "2022-01-15T15:06:51.370Z"
   },
   {
    "duration": 19,
    "start_time": "2022-01-15T15:06:51.383Z"
   },
   {
    "duration": 9,
    "start_time": "2022-01-15T15:06:51.403Z"
   },
   {
    "duration": 87,
    "start_time": "2022-01-15T15:06:51.413Z"
   },
   {
    "duration": 8,
    "start_time": "2022-01-15T15:06:51.502Z"
   },
   {
    "duration": 50,
    "start_time": "2022-01-15T15:06:51.512Z"
   },
   {
    "duration": 44,
    "start_time": "2022-01-15T15:06:51.564Z"
   },
   {
    "duration": 39,
    "start_time": "2022-01-15T15:06:51.609Z"
   },
   {
    "duration": 6,
    "start_time": "2022-01-15T15:06:51.650Z"
   },
   {
    "duration": 27,
    "start_time": "2022-01-15T15:06:51.658Z"
   },
   {
    "duration": 24,
    "start_time": "2022-01-15T15:06:51.687Z"
   },
   {
    "duration": 36,
    "start_time": "2022-01-15T15:06:51.712Z"
   },
   {
    "duration": 18,
    "start_time": "2022-01-15T15:06:51.750Z"
   },
   {
    "duration": 434,
    "start_time": "2022-01-15T15:06:51.769Z"
   },
   {
    "duration": 380,
    "start_time": "2022-01-15T15:08:25.190Z"
   },
   {
    "duration": 423,
    "start_time": "2022-01-15T15:10:01.180Z"
   },
   {
    "duration": 6983,
    "start_time": "2022-01-15T15:13:55.103Z"
   },
   {
    "duration": 541,
    "start_time": "2022-01-15T15:14:37.344Z"
   },
   {
    "duration": 584,
    "start_time": "2022-01-15T15:15:04.023Z"
   },
   {
    "duration": 541,
    "start_time": "2022-01-15T15:16:41.499Z"
   },
   {
    "duration": 610,
    "start_time": "2022-01-15T15:19:27.078Z"
   },
   {
    "duration": 571,
    "start_time": "2022-01-15T15:19:54.101Z"
   },
   {
    "duration": 558,
    "start_time": "2022-01-15T15:20:04.220Z"
   },
   {
    "duration": 720,
    "start_time": "2022-01-15T15:20:56.106Z"
   },
   {
    "duration": 7,
    "start_time": "2022-01-15T15:37:05.419Z"
   },
   {
    "duration": 419,
    "start_time": "2022-01-15T15:42:34.036Z"
   },
   {
    "duration": 32,
    "start_time": "2022-01-15T15:42:34.774Z"
   },
   {
    "duration": 60,
    "start_time": "2022-01-15T15:42:36.226Z"
   },
   {
    "duration": 12,
    "start_time": "2022-01-15T15:42:36.616Z"
   },
   {
    "duration": 18,
    "start_time": "2022-01-15T15:42:37.200Z"
   },
   {
    "duration": 8,
    "start_time": "2022-01-15T15:42:37.774Z"
   },
   {
    "duration": 59,
    "start_time": "2022-01-15T15:42:39.086Z"
   },
   {
    "duration": 10,
    "start_time": "2022-01-15T15:42:40.041Z"
   },
   {
    "duration": 25,
    "start_time": "2022-01-15T15:42:41.010Z"
   },
   {
    "duration": 41,
    "start_time": "2022-01-15T15:42:42.261Z"
   },
   {
    "duration": 27,
    "start_time": "2022-01-15T15:42:44.318Z"
   },
   {
    "duration": 7,
    "start_time": "2022-01-15T15:42:45.285Z"
   },
   {
    "duration": 28,
    "start_time": "2022-01-15T15:42:50.619Z"
   },
   {
    "duration": 26,
    "start_time": "2022-01-15T15:42:51.424Z"
   },
   {
    "duration": 10,
    "start_time": "2022-01-15T15:42:51.771Z"
   },
   {
    "duration": 14,
    "start_time": "2022-01-15T15:42:52.272Z"
   },
   {
    "duration": 486,
    "start_time": "2022-01-15T15:42:53.388Z"
   },
   {
    "duration": 8,
    "start_time": "2022-01-15T15:42:55.085Z"
   },
   {
    "duration": 661,
    "start_time": "2022-01-15T16:33:56.318Z"
   },
   {
    "duration": 405,
    "start_time": "2022-01-15T16:35:03.742Z"
   },
   {
    "duration": 256,
    "start_time": "2022-01-15T16:35:22.568Z"
   },
   {
    "duration": 283,
    "start_time": "2022-01-15T16:40:07.333Z"
   },
   {
    "duration": 227,
    "start_time": "2022-01-15T16:40:58.741Z"
   },
   {
    "duration": 235,
    "start_time": "2022-01-15T16:41:08.118Z"
   },
   {
    "duration": 15,
    "start_time": "2022-01-15T16:49:07.442Z"
   },
   {
    "duration": 383,
    "start_time": "2022-01-15T16:54:08.473Z"
   },
   {
    "duration": 316,
    "start_time": "2022-01-16T14:13:05.642Z"
   },
   {
    "duration": 1357,
    "start_time": "2022-01-16T14:13:12.560Z"
   },
   {
    "duration": 57,
    "start_time": "2022-01-16T14:13:13.920Z"
   },
   {
    "duration": 124,
    "start_time": "2022-01-16T14:13:13.980Z"
   },
   {
    "duration": 28,
    "start_time": "2022-01-16T14:13:14.107Z"
   },
   {
    "duration": 29,
    "start_time": "2022-01-16T14:13:14.138Z"
   },
   {
    "duration": 12,
    "start_time": "2022-01-16T14:13:14.169Z"
   },
   {
    "duration": 144,
    "start_time": "2022-01-16T14:13:14.183Z"
   },
   {
    "duration": 15,
    "start_time": "2022-01-16T14:13:14.330Z"
   },
   {
    "duration": 44,
    "start_time": "2022-01-16T14:13:14.347Z"
   },
   {
    "duration": 66,
    "start_time": "2022-01-16T14:13:14.417Z"
   },
   {
    "duration": 54,
    "start_time": "2022-01-16T14:13:14.485Z"
   },
   {
    "duration": 11,
    "start_time": "2022-01-16T14:13:14.542Z"
   },
   {
    "duration": 68,
    "start_time": "2022-01-16T14:13:14.556Z"
   },
   {
    "duration": 42,
    "start_time": "2022-01-16T14:13:14.627Z"
   },
   {
    "duration": 48,
    "start_time": "2022-01-16T14:13:14.671Z"
   },
   {
    "duration": 22,
    "start_time": "2022-01-16T14:13:14.721Z"
   },
   {
    "duration": 1003,
    "start_time": "2022-01-16T14:13:14.745Z"
   },
   {
    "duration": 10,
    "start_time": "2022-01-16T14:13:15.750Z"
   },
   {
    "duration": 7,
    "start_time": "2022-01-16T14:13:15.762Z"
   },
   {
    "duration": 8,
    "start_time": "2022-01-16T14:15:20.037Z"
   },
   {
    "duration": 9,
    "start_time": "2022-01-16T14:27:35.888Z"
   },
   {
    "duration": 8,
    "start_time": "2022-01-16T14:27:59.886Z"
   },
   {
    "duration": 106,
    "start_time": "2022-01-16T14:31:03.434Z"
   },
   {
    "duration": 9,
    "start_time": "2022-01-16T14:31:15.176Z"
   },
   {
    "duration": 8,
    "start_time": "2022-01-16T14:32:03.682Z"
   },
   {
    "duration": 16,
    "start_time": "2022-01-16T14:55:08.053Z"
   },
   {
    "duration": 12,
    "start_time": "2022-01-16T14:55:35.225Z"
   },
   {
    "duration": 12,
    "start_time": "2022-01-16T14:55:52.465Z"
   },
   {
    "duration": 19,
    "start_time": "2022-01-16T15:14:56.043Z"
   },
   {
    "duration": 28,
    "start_time": "2022-01-16T15:15:27.212Z"
   },
   {
    "duration": 20,
    "start_time": "2022-01-16T15:15:51.162Z"
   },
   {
    "duration": 799,
    "start_time": "2022-01-16T15:16:10.035Z"
   },
   {
    "duration": 23,
    "start_time": "2022-01-16T15:16:59.539Z"
   },
   {
    "duration": 10,
    "start_time": "2022-01-16T15:24:23.580Z"
   },
   {
    "duration": 13,
    "start_time": "2022-01-16T15:26:17.320Z"
   },
   {
    "duration": 14,
    "start_time": "2022-01-16T15:33:21.409Z"
   },
   {
    "duration": 10,
    "start_time": "2022-01-16T16:06:50.844Z"
   },
   {
    "duration": 9,
    "start_time": "2022-01-16T16:12:24.845Z"
   },
   {
    "duration": 10,
    "start_time": "2022-01-16T16:12:41.703Z"
   },
   {
    "duration": 9,
    "start_time": "2022-01-16T16:12:49.699Z"
   },
   {
    "duration": 8,
    "start_time": "2022-01-16T16:13:19.750Z"
   },
   {
    "duration": 9,
    "start_time": "2022-01-16T16:14:10.538Z"
   },
   {
    "duration": 12,
    "start_time": "2022-01-16T16:15:51.537Z"
   },
   {
    "duration": 10,
    "start_time": "2022-01-16T16:19:57.376Z"
   },
   {
    "duration": 15,
    "start_time": "2022-01-16T16:26:42.851Z"
   },
   {
    "duration": 10,
    "start_time": "2022-01-16T16:27:09.246Z"
   },
   {
    "duration": 1502,
    "start_time": "2022-01-16T17:11:22.909Z"
   },
   {
    "duration": 430,
    "start_time": "2022-01-16T17:13:26.908Z"
   },
   {
    "duration": 560,
    "start_time": "2022-01-16T17:13:39.131Z"
   },
   {
    "duration": 400,
    "start_time": "2022-01-16T17:14:23.038Z"
   },
   {
    "duration": 623,
    "start_time": "2022-01-16T17:19:02.535Z"
   },
   {
    "duration": 574,
    "start_time": "2022-01-16T17:19:08.380Z"
   },
   {
    "duration": 556,
    "start_time": "2022-01-16T17:19:14.032Z"
   },
   {
    "duration": 556,
    "start_time": "2022-01-16T17:19:18.248Z"
   },
   {
    "duration": 403,
    "start_time": "2022-01-16T17:44:17.642Z"
   },
   {
    "duration": 834,
    "start_time": "2022-01-16T17:45:39.656Z"
   },
   {
    "duration": 910,
    "start_time": "2022-01-16T17:52:53.451Z"
   },
   {
    "duration": 840,
    "start_time": "2022-01-16T17:53:07.686Z"
   },
   {
    "duration": 57,
    "start_time": "2022-01-16T17:53:08.529Z"
   },
   {
    "duration": 132,
    "start_time": "2022-01-16T17:53:08.589Z"
   },
   {
    "duration": 21,
    "start_time": "2022-01-16T17:53:08.723Z"
   },
   {
    "duration": 34,
    "start_time": "2022-01-16T17:53:08.747Z"
   },
   {
    "duration": 13,
    "start_time": "2022-01-16T17:53:08.816Z"
   },
   {
    "duration": 117,
    "start_time": "2022-01-16T17:53:08.832Z"
   },
   {
    "duration": 16,
    "start_time": "2022-01-16T17:53:08.953Z"
   },
   {
    "duration": 71,
    "start_time": "2022-01-16T17:53:08.973Z"
   },
   {
    "duration": 91,
    "start_time": "2022-01-16T17:53:09.047Z"
   },
   {
    "duration": 42,
    "start_time": "2022-01-16T17:53:09.142Z"
   },
   {
    "duration": 40,
    "start_time": "2022-01-16T17:53:09.187Z"
   },
   {
    "duration": 47,
    "start_time": "2022-01-16T17:53:09.230Z"
   },
   {
    "duration": 72,
    "start_time": "2022-01-16T17:53:09.279Z"
   },
   {
    "duration": 16,
    "start_time": "2022-01-16T17:53:09.354Z"
   },
   {
    "duration": 59,
    "start_time": "2022-01-16T17:53:09.372Z"
   },
   {
    "duration": 985,
    "start_time": "2022-01-16T17:53:09.433Z"
   },
   {
    "duration": 10,
    "start_time": "2022-01-16T17:53:10.421Z"
   },
   {
    "duration": 16,
    "start_time": "2022-01-16T17:53:10.434Z"
   },
   {
    "duration": 11,
    "start_time": "2022-01-16T17:53:10.453Z"
   },
   {
    "duration": 99,
    "start_time": "2022-01-16T17:53:10.466Z"
   },
   {
    "duration": -980,
    "start_time": "2022-01-16T17:53:11.548Z"
   },
   {
    "duration": 600,
    "start_time": "2022-01-16T17:55:21.755Z"
   },
   {
    "duration": 1055,
    "start_time": "2022-01-16T17:55:23.154Z"
   },
   {
    "duration": 2138,
    "start_time": "2022-01-16T18:05:12.143Z"
   },
   {
    "duration": 2095,
    "start_time": "2022-01-16T18:05:31.739Z"
   },
   {
    "duration": 2256,
    "start_time": "2022-01-16T18:05:42.865Z"
   },
   {
    "duration": 1570,
    "start_time": "2022-01-16T18:06:48.516Z"
   },
   {
    "duration": 1518,
    "start_time": "2022-01-16T18:07:04.703Z"
   },
   {
    "duration": 1862,
    "start_time": "2022-01-16T18:07:16.690Z"
   },
   {
    "duration": 1903,
    "start_time": "2022-01-16T18:07:25.586Z"
   },
   {
    "duration": 2019,
    "start_time": "2022-01-16T18:08:00.880Z"
   },
   {
    "duration": 2820,
    "start_time": "2022-01-16T18:08:11.426Z"
   },
   {
    "duration": 1987,
    "start_time": "2022-01-16T18:08:21.265Z"
   },
   {
    "duration": 2562,
    "start_time": "2022-01-16T18:09:58.560Z"
   },
   {
    "duration": 2010,
    "start_time": "2022-01-16T18:10:11.054Z"
   },
   {
    "duration": 2002,
    "start_time": "2022-01-16T18:21:01.273Z"
   },
   {
    "duration": 2125,
    "start_time": "2022-01-16T18:21:29.733Z"
   },
   {
    "duration": 1774,
    "start_time": "2022-01-16T18:21:44.957Z"
   },
   {
    "duration": 1724,
    "start_time": "2022-01-16T18:21:55.645Z"
   },
   {
    "duration": 1616,
    "start_time": "2022-01-16T18:23:34.556Z"
   },
   {
    "duration": 1630,
    "start_time": "2022-01-16T18:33:53.162Z"
   },
   {
    "duration": 1717,
    "start_time": "2022-01-16T18:35:09.275Z"
   },
   {
    "duration": 102,
    "start_time": "2022-01-16T19:30:17.965Z"
   },
   {
    "duration": 3408,
    "start_time": "2022-01-16T19:31:22.008Z"
   },
   {
    "duration": 281,
    "start_time": "2022-01-16T19:32:57.576Z"
   },
   {
    "duration": 318,
    "start_time": "2022-01-16T19:33:48.348Z"
   },
   {
    "duration": 594,
    "start_time": "2022-01-16T19:33:56.820Z"
   },
   {
    "duration": 51,
    "start_time": "2022-01-16T19:33:57.417Z"
   },
   {
    "duration": 121,
    "start_time": "2022-01-16T19:33:57.471Z"
   },
   {
    "duration": 31,
    "start_time": "2022-01-16T19:33:57.595Z"
   },
   {
    "duration": 28,
    "start_time": "2022-01-16T19:33:57.628Z"
   },
   {
    "duration": 12,
    "start_time": "2022-01-16T19:33:57.659Z"
   },
   {
    "duration": 147,
    "start_time": "2022-01-16T19:33:57.674Z"
   },
   {
    "duration": 14,
    "start_time": "2022-01-16T19:33:57.827Z"
   },
   {
    "duration": 39,
    "start_time": "2022-01-16T19:33:57.845Z"
   },
   {
    "duration": 64,
    "start_time": "2022-01-16T19:33:57.917Z"
   },
   {
    "duration": 58,
    "start_time": "2022-01-16T19:33:57.984Z"
   },
   {
    "duration": 12,
    "start_time": "2022-01-16T19:33:58.045Z"
   },
   {
    "duration": 64,
    "start_time": "2022-01-16T19:33:58.060Z"
   },
   {
    "duration": 44,
    "start_time": "2022-01-16T19:33:58.127Z"
   },
   {
    "duration": 50,
    "start_time": "2022-01-16T19:33:58.174Z"
   },
   {
    "duration": 23,
    "start_time": "2022-01-16T19:33:58.227Z"
   },
   {
    "duration": 1007,
    "start_time": "2022-01-16T19:33:58.253Z"
   },
   {
    "duration": 11,
    "start_time": "2022-01-16T19:33:59.263Z"
   },
   {
    "duration": 41,
    "start_time": "2022-01-16T19:33:59.277Z"
   },
   {
    "duration": 10,
    "start_time": "2022-01-16T19:33:59.321Z"
   },
   {
    "duration": 2132,
    "start_time": "2022-01-16T19:33:59.334Z"
   },
   {
    "duration": 289,
    "start_time": "2022-01-16T19:34:01.469Z"
   },
   {
    "duration": 6363,
    "start_time": "2022-01-16T19:34:51.412Z"
   },
   {
    "duration": 5,
    "start_time": "2022-01-16T19:35:31.555Z"
   },
   {
    "duration": 3998,
    "start_time": "2022-01-16T19:36:03.718Z"
   },
   {
    "duration": 142,
    "start_time": "2022-01-16T19:38:02.880Z"
   },
   {
    "duration": 28,
    "start_time": "2022-01-16T19:38:12.999Z"
   },
   {
    "duration": 447,
    "start_time": "2022-01-16T19:51:01.353Z"
   },
   {
    "duration": 12,
    "start_time": "2022-01-16T19:51:28.003Z"
   },
   {
    "duration": 11,
    "start_time": "2022-01-16T19:56:50.585Z"
   },
   {
    "duration": 11,
    "start_time": "2022-01-16T19:56:58.665Z"
   },
   {
    "duration": 260,
    "start_time": "2022-01-16T19:58:04.588Z"
   },
   {
    "duration": 11,
    "start_time": "2022-01-16T19:58:12.399Z"
   },
   {
    "duration": 14,
    "start_time": "2022-01-16T20:00:15.765Z"
   },
   {
    "duration": 12,
    "start_time": "2022-01-16T20:00:49.630Z"
   },
   {
    "duration": 82,
    "start_time": "2022-01-16T20:01:46.768Z"
   },
   {
    "duration": 12,
    "start_time": "2022-01-16T20:08:33.653Z"
   },
   {
    "duration": 12,
    "start_time": "2022-01-16T20:08:58.124Z"
   },
   {
    "duration": 12,
    "start_time": "2022-01-16T20:13:18.209Z"
   },
   {
    "duration": 15,
    "start_time": "2022-01-16T20:13:24.931Z"
   },
   {
    "duration": 6,
    "start_time": "2022-01-16T21:00:51.481Z"
   },
   {
    "duration": 1315,
    "start_time": "2022-01-20T03:56:30.721Z"
   },
   {
    "duration": 63,
    "start_time": "2022-01-20T03:56:32.039Z"
   },
   {
    "duration": 128,
    "start_time": "2022-01-20T03:56:32.104Z"
   },
   {
    "duration": 19,
    "start_time": "2022-01-20T03:56:32.235Z"
   },
   {
    "duration": 28,
    "start_time": "2022-01-20T03:56:32.265Z"
   },
   {
    "duration": 12,
    "start_time": "2022-01-20T03:56:32.295Z"
   },
   {
    "duration": 128,
    "start_time": "2022-01-20T03:56:32.310Z"
   },
   {
    "duration": 32,
    "start_time": "2022-01-20T03:56:32.443Z"
   },
   {
    "duration": 50,
    "start_time": "2022-01-20T03:56:32.478Z"
   },
   {
    "duration": 88,
    "start_time": "2022-01-20T03:56:32.531Z"
   },
   {
    "duration": 58,
    "start_time": "2022-01-20T03:56:32.623Z"
   },
   {
    "duration": 12,
    "start_time": "2022-01-20T03:56:32.684Z"
   },
   {
    "duration": 74,
    "start_time": "2022-01-20T03:56:32.699Z"
   },
   {
    "duration": 44,
    "start_time": "2022-01-20T03:56:32.777Z"
   },
   {
    "duration": 52,
    "start_time": "2022-01-20T03:56:32.824Z"
   },
   {
    "duration": 23,
    "start_time": "2022-01-20T03:56:32.880Z"
   },
   {
    "duration": 935,
    "start_time": "2022-01-20T03:56:32.906Z"
   },
   {
    "duration": 23,
    "start_time": "2022-01-20T03:56:33.843Z"
   },
   {
    "duration": 14,
    "start_time": "2022-01-20T03:56:33.868Z"
   },
   {
    "duration": 9,
    "start_time": "2022-01-20T03:56:33.884Z"
   },
   {
    "duration": 2286,
    "start_time": "2022-01-20T03:56:33.895Z"
   },
   {
    "duration": 13,
    "start_time": "2022-01-20T03:56:36.184Z"
   },
   {
    "duration": 11,
    "start_time": "2022-01-20T03:56:36.200Z"
   },
   {
    "duration": 712,
    "start_time": "2022-01-20T04:01:43.969Z"
   },
   {
    "duration": 711,
    "start_time": "2022-01-20T04:02:56.685Z"
   },
   {
    "duration": 8317,
    "start_time": "2022-01-20T04:15:29.744Z"
   },
   {
    "duration": 1354,
    "start_time": "2022-01-20T04:16:00.685Z"
   },
   {
    "duration": 68,
    "start_time": "2022-01-20T04:16:02.043Z"
   },
   {
    "duration": 150,
    "start_time": "2022-01-20T04:16:02.115Z"
   },
   {
    "duration": 21,
    "start_time": "2022-01-20T04:16:02.268Z"
   },
   {
    "duration": 39,
    "start_time": "2022-01-20T04:16:02.291Z"
   },
   {
    "duration": 760,
    "start_time": "2022-01-20T04:16:02.333Z"
   },
   {
    "duration": 13,
    "start_time": "2022-01-20T04:16:03.096Z"
   },
   {
    "duration": 110,
    "start_time": "2022-01-20T04:16:03.113Z"
   },
   {
    "duration": 15,
    "start_time": "2022-01-20T04:16:03.226Z"
   },
   {
    "duration": 48,
    "start_time": "2022-01-20T04:16:03.264Z"
   },
   {
    "duration": 72,
    "start_time": "2022-01-20T04:16:03.314Z"
   },
   {
    "duration": 36,
    "start_time": "2022-01-20T04:16:03.389Z"
   },
   {
    "duration": 12,
    "start_time": "2022-01-20T04:16:03.428Z"
   },
   {
    "duration": 43,
    "start_time": "2022-01-20T04:16:03.464Z"
   },
   {
    "duration": 70,
    "start_time": "2022-01-20T04:16:03.510Z"
   },
   {
    "duration": 16,
    "start_time": "2022-01-20T04:16:03.582Z"
   },
   {
    "duration": 24,
    "start_time": "2022-01-20T04:16:03.600Z"
   },
   {
    "duration": 939,
    "start_time": "2022-01-20T04:16:03.627Z"
   },
   {
    "duration": 16,
    "start_time": "2022-01-20T04:16:04.568Z"
   },
   {
    "duration": 15,
    "start_time": "2022-01-20T04:16:04.586Z"
   },
   {
    "duration": 12,
    "start_time": "2022-01-20T04:16:04.603Z"
   },
   {
    "duration": 49,
    "start_time": "2022-01-20T04:16:04.617Z"
   },
   {
    "duration": 2317,
    "start_time": "2022-01-20T04:16:04.669Z"
   },
   {
    "duration": 12,
    "start_time": "2022-01-20T04:16:06.989Z"
   },
   {
    "duration": 20,
    "start_time": "2022-01-20T04:16:07.004Z"
   },
   {
    "duration": 507,
    "start_time": "2022-05-15T14:45:36.532Z"
   },
   {
    "duration": 633,
    "start_time": "2022-05-15T14:45:44.558Z"
   },
   {
    "duration": 604,
    "start_time": "2022-05-15T14:46:23.245Z"
   },
   {
    "duration": 630,
    "start_time": "2022-05-15T14:48:50.051Z"
   },
   {
    "duration": 103,
    "start_time": "2022-05-15T14:49:33.891Z"
   },
   {
    "duration": 65,
    "start_time": "2022-05-15T14:50:15.477Z"
   },
   {
    "duration": 56,
    "start_time": "2022-05-15T14:52:38.253Z"
   },
   {
    "duration": 110,
    "start_time": "2022-05-15T14:52:59.236Z"
   },
   {
    "duration": 21,
    "start_time": "2022-05-15T14:53:00.140Z"
   },
   {
    "duration": 680,
    "start_time": "2022-05-15T14:53:23.791Z"
   },
   {
    "duration": 120,
    "start_time": "2022-05-15T14:54:44.974Z"
   },
   {
    "duration": 685,
    "start_time": "2022-05-15T14:55:36.821Z"
   },
   {
    "duration": 655,
    "start_time": "2022-05-15T14:56:19.636Z"
   },
   {
    "duration": 14,
    "start_time": "2022-05-15T14:56:32.301Z"
   },
   {
    "duration": 5,
    "start_time": "2022-05-15T14:56:55.014Z"
   },
   {
    "duration": 93,
    "start_time": "2022-05-15T14:57:11.976Z"
   },
   {
    "duration": 14,
    "start_time": "2022-05-15T14:57:21.880Z"
   },
   {
    "duration": 43,
    "start_time": "2022-05-15T14:57:34.230Z"
   },
   {
    "duration": 71,
    "start_time": "2022-05-15T14:57:58.130Z"
   },
   {
    "duration": 38,
    "start_time": "2022-05-15T14:58:00.105Z"
   },
   {
    "duration": 13,
    "start_time": "2022-05-15T14:58:01.947Z"
   },
   {
    "duration": 51,
    "start_time": "2022-05-15T14:58:14.982Z"
   },
   {
    "duration": 25,
    "start_time": "2022-05-15T15:03:00.678Z"
   },
   {
    "duration": 103,
    "start_time": "2022-05-15T15:04:15.870Z"
   },
   {
    "duration": 30,
    "start_time": "2022-05-15T15:04:25.210Z"
   },
   {
    "duration": 53,
    "start_time": "2022-05-15T15:04:58.122Z"
   },
   {
    "duration": 5,
    "start_time": "2022-05-15T15:05:16.012Z"
   },
   {
    "duration": 529,
    "start_time": "2022-05-15T15:05:16.020Z"
   },
   {
    "duration": 109,
    "start_time": "2022-05-15T15:05:16.551Z"
   },
   {
    "duration": 76,
    "start_time": "2022-05-15T15:05:16.663Z"
   },
   {
    "duration": 128,
    "start_time": "2022-05-15T15:05:16.742Z"
   },
   {
    "duration": 20,
    "start_time": "2022-05-15T15:05:16.872Z"
   },
   {
    "duration": 682,
    "start_time": "2022-05-15T15:05:16.895Z"
   },
   {
    "duration": 15,
    "start_time": "2022-05-15T15:05:17.580Z"
   },
   {
    "duration": 129,
    "start_time": "2022-05-15T15:05:17.598Z"
   },
   {
    "duration": 13,
    "start_time": "2022-05-15T15:05:17.729Z"
   },
   {
    "duration": 35,
    "start_time": "2022-05-15T15:05:17.744Z"
   },
   {
    "duration": 97,
    "start_time": "2022-05-15T15:05:17.782Z"
   },
   {
    "duration": 51,
    "start_time": "2022-05-15T15:05:17.883Z"
   },
   {
    "duration": 13,
    "start_time": "2022-05-15T15:05:17.936Z"
   },
   {
    "duration": 76,
    "start_time": "2022-05-15T15:05:17.951Z"
   },
   {
    "duration": 26,
    "start_time": "2022-05-15T15:05:18.029Z"
   },
   {
    "duration": 43,
    "start_time": "2022-05-15T15:05:20.911Z"
   },
   {
    "duration": 17,
    "start_time": "2022-05-15T15:05:34.520Z"
   },
   {
    "duration": 24,
    "start_time": "2022-05-15T15:05:36.886Z"
   },
   {
    "duration": 17,
    "start_time": "2022-05-15T15:08:10.354Z"
   },
   {
    "duration": 40,
    "start_time": "2022-05-15T15:08:16.485Z"
   },
   {
    "duration": 35,
    "start_time": "2022-05-15T15:08:53.144Z"
   },
   {
    "duration": 38,
    "start_time": "2022-05-15T15:09:07.937Z"
   },
   {
    "duration": 11,
    "start_time": "2022-05-15T15:09:30.245Z"
   },
   {
    "duration": 1067,
    "start_time": "2022-05-15T15:11:03.210Z"
   },
   {
    "duration": 1244,
    "start_time": "2022-05-15T15:11:14.787Z"
   },
   {
    "duration": 4,
    "start_time": "2022-05-15T15:11:56.731Z"
   },
   {
    "duration": 12,
    "start_time": "2022-05-15T15:12:16.285Z"
   }
  ],
  "kernelspec": {
   "display_name": "Python 3 (ipykernel)",
   "language": "python",
   "name": "python3"
  },
  "language_info": {
   "codemirror_mode": {
    "name": "ipython",
    "version": 3
   },
   "file_extension": ".py",
   "mimetype": "text/x-python",
   "name": "python",
   "nbconvert_exporter": "python",
   "pygments_lexer": "ipython3",
   "version": "3.9.5"
  },
  "toc": {
   "base_numbering": 1,
   "nav_menu": {},
   "number_sections": true,
   "sideBar": true,
   "skip_h1_title": true,
   "title_cell": "Содержание",
   "title_sidebar": "Contents",
   "toc_cell": true,
   "toc_position": {
    "height": "calc(100% - 180px)",
    "left": "10px",
    "top": "150px",
    "width": "164.988px"
   },
   "toc_section_display": true,
   "toc_window_display": true
  }
 },
 "nbformat": 4,
 "nbformat_minor": 2
}
