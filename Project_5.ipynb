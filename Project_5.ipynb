{
 "cells": [
  {
   "cell_type": "markdown",
   "metadata": {},
   "source": [
    "# Сборный проект\n",
    "________________"
   ]
  },
  {
   "cell_type": "markdown",
   "metadata": {
    "toc": true
   },
   "source": [
    "<h1>Содержание<span class=\"tocSkip\"></span></h1>\n",
    "<div class=\"toc\"><ul class=\"toc-item\"><li><span><a href=\"#Описание-проекта\" data-toc-modified-id=\"Описание-проекта-1\"><span class=\"toc-item-num\">1&nbsp;&nbsp;</span>Описание проекта</a></span><ul class=\"toc-item\"><li><span><a href=\"#Цель-исследования\" data-toc-modified-id=\"Цель-исследования-1.1\"><span class=\"toc-item-num\">1.1&nbsp;&nbsp;</span>Цель исследования</a></span></li><li><span><a href=\"#Задачи\" data-toc-modified-id=\"Задачи-1.2\"><span class=\"toc-item-num\">1.2&nbsp;&nbsp;</span>Задачи</a></span></li><li><span><a href=\"#Исходные-данные\" data-toc-modified-id=\"Исходные-данные-1.3\"><span class=\"toc-item-num\">1.3&nbsp;&nbsp;</span>Исходные данные</a></span></li></ul></li><li><span><a href=\"#Изучение-общей-информации\" data-toc-modified-id=\"Изучение-общей-информации-2\"><span class=\"toc-item-num\">2&nbsp;&nbsp;</span>Изучение общей информации</a></span><ul class=\"toc-item\"><li><span><a href=\"#Вывод\" data-toc-modified-id=\"Вывод-2.1\"><span class=\"toc-item-num\">2.1&nbsp;&nbsp;</span>Вывод</a></span></li></ul></li><li><span><a href=\"#Подготовка-данных\" data-toc-modified-id=\"Подготовка-данных-3\"><span class=\"toc-item-num\">3&nbsp;&nbsp;</span>Подготовка данных</a></span><ul class=\"toc-item\"><li><span><a href=\"#Переименование-столбцов\" data-toc-modified-id=\"Переименование-столбцов-3.1\"><span class=\"toc-item-num\">3.1&nbsp;&nbsp;</span>Переименование столбцов</a></span></li><li><span><a href=\"#Обработка-пропусков\" data-toc-modified-id=\"Обработка-пропусков-3.2\"><span class=\"toc-item-num\">3.2&nbsp;&nbsp;</span>Обработка пропусков</a></span></li><li><span><a href=\"#Замена-типов-данных\" data-toc-modified-id=\"Замена-типов-данных-3.3\"><span class=\"toc-item-num\">3.3&nbsp;&nbsp;</span>Замена типов данных</a></span></li><li><span><a href=\"#Определение-суммарных-продаж\" data-toc-modified-id=\"Определение-суммарных-продаж-3.4\"><span class=\"toc-item-num\">3.4&nbsp;&nbsp;</span>Определение суммарных продаж</a></span></li><li><span><a href=\"#Вывод\" data-toc-modified-id=\"Вывод-3.5\"><span class=\"toc-item-num\">3.5&nbsp;&nbsp;</span>Вывод</a></span></li></ul></li><li><span><a href=\"#Исследовательский-анализ-данных\" data-toc-modified-id=\"Исследовательский-анализ-данных-4\"><span class=\"toc-item-num\">4&nbsp;&nbsp;</span>Исследовательский анализ данных</a></span><ul class=\"toc-item\"><li><span><a href=\"#Анализ-количества-выпускаемых-игр-по-годам\" data-toc-modified-id=\"Анализ-количества-выпускаемых-игр-по-годам-4.1\"><span class=\"toc-item-num\">4.1&nbsp;&nbsp;</span>Анализ количества выпускаемых игр по годам</a></span></li><li><span><a href=\"#Анализ-продаж-по-платформам\" data-toc-modified-id=\"Анализ-продаж-по-платформам-4.2\"><span class=\"toc-item-num\">4.2&nbsp;&nbsp;</span>Анализ продаж по платформам</a></span></li><li><span><a href=\"#Определение-актуального-периода-для-анализа-данных\" data-toc-modified-id=\"Определение-актуального-периода-для-анализа-данных-4.3\"><span class=\"toc-item-num\">4.3&nbsp;&nbsp;</span>Определение актуального периода для анализа данных</a></span></li><li><span><a href=\"#Отбор-потенциально-прибыльных-платформ\" data-toc-modified-id=\"Отбор-потенциально-прибыльных-платформ-4.4\"><span class=\"toc-item-num\">4.4&nbsp;&nbsp;</span>Отбор потенциально прибыльных платформ</a></span></li><li><span><a href=\"#Влияние-на--продажи-внутри-одной-платформы-отзывов-пользователей-и-критиков\" data-toc-modified-id=\"Влияние-на--продажи-внутри-одной-платформы-отзывов-пользователей-и-критиков-4.5\"><span class=\"toc-item-num\">4.5&nbsp;&nbsp;</span>Влияние на  продажи внутри одной платформы отзывов пользователей и критиков</a></span></li><li><span><a href=\"#Анализ-распределения-игр-по-жанрам\" data-toc-modified-id=\"Анализ-распределения-игр-по-жанрам-4.6\"><span class=\"toc-item-num\">4.6&nbsp;&nbsp;</span>Анализ распределения игр по жанрам</a></span></li><li><span><a href=\"#Вывод\" data-toc-modified-id=\"Вывод-4.7\"><span class=\"toc-item-num\">4.7&nbsp;&nbsp;</span>Вывод</a></span></li></ul></li><li><span><a href=\"#Составление-портретов-пользователей\" data-toc-modified-id=\"Составление-портретов-пользователей-5\"><span class=\"toc-item-num\">5&nbsp;&nbsp;</span>Составление портретов пользователей</a></span><ul class=\"toc-item\"><li><span><a href=\"#Вывод\" data-toc-modified-id=\"Вывод-5.1\"><span class=\"toc-item-num\">5.1&nbsp;&nbsp;</span>Вывод</a></span></li></ul></li><li><span><a href=\"#Проверка-гипотез\" data-toc-modified-id=\"Проверка-гипотез-6\"><span class=\"toc-item-num\">6&nbsp;&nbsp;</span>Проверка гипотез</a></span><ul class=\"toc-item\"><li><span><a href=\"#О-равенстве-средних-пользовательских-рейтингов-XOne-и-PC\" data-toc-modified-id=\"О-равенстве-средних-пользовательских-рейтингов-XOne-и-PC-6.1\"><span class=\"toc-item-num\">6.1&nbsp;&nbsp;</span>О равенстве средних пользовательских рейтингов XOne и PC</a></span></li><li><span><a href=\"#О-равенстве-средних-пользовательских\" data-toc-modified-id=\"О-равенстве-средних-пользовательских-6.2\"><span class=\"toc-item-num\">6.2&nbsp;&nbsp;</span>О равенстве средних пользовательских</a></span></li><li><span><a href=\"#Вывод\" data-toc-modified-id=\"Вывод-6.3\"><span class=\"toc-item-num\">6.3&nbsp;&nbsp;</span>Вывод</a></span></li></ul></li><li><span><a href=\"#Общий-вывод\" data-toc-modified-id=\"Общий-вывод-7\"><span class=\"toc-item-num\">7&nbsp;&nbsp;</span>Общий вывод</a></span></li></ul></div>"
   ]
  },
  {
   "cell_type": "markdown",
   "metadata": {},
   "source": [
    "\n",
    "## Описание проекта\n",
    "\n",
    "Проект выполняется для интернет-магазина «Стримчик», который продаёт по всему миру компьютерные игры. Из открытых источников доступны исторические данные о продажах игр, оценки пользователей и экспертов, жанры и платформы (например, Xbox или PlayStation). \n",
    "Нужно выявить определяющие успешность игры закономерности, что позволит сделать ставку на потенциально популярный продукт и спланировать рекламные кампании. Данные предоставлены до 2016 года, кампания планируется на 2017-й. \n",
    "\n",
    "\n",
    "### Цель исследования\n",
    "По предоставленным исторические данным о продажах игр, оценкам пользователей и экспертов, жанрам и платформам выявить определяющие успешность игры закономерности, что позволило бы сделать ставку на потенциально популярный продукт и спланировать рекламные кампани\n",
    "\n",
    "### Задачи\n",
    "\n",
    "**1. Изучение общей информации.**\n",
    "\n",
    "\n",
    "**2. Подготовка данных:**\n",
    "\n",
    "   * Заменить названия столбцов (привести к нижнему регистру);\n",
    "   * Преобразовать данные в нужные типы;\n",
    "   * Обработать пропуски при необходимости;\n",
    "   * Посчитать суммарные продажи во всех регионах и записать их в отдельный столбец.\n",
    "   \n",
    "   \n",
    "**3. Провести исследовательский анализ данных:**\n",
    "\n",
    "   * Проанализировать, сколько игр выпускалось в разные годы;\n",
    "   * Проанализировать то, как менялись продажи по платформам. Выбрать платформы с наибольшими суммарными продажами и построить распределение по годам. Определить, за какой характерный срок появляются новые и исчезают старые платформы;\n",
    "   * Определить актуальный период, по которому можно будет построить прогноз на 2017 год.\n",
    "   * Определить, какие платформы лидируют по продажам, растут или падают. Выбрать несколько потенциально прибыльных платформ.\n",
    "   * Построить график «ящик с усами» по глобальным продажам игр в разбивке по платформам. \n",
    "   * Определить, как влияют на продажи внутри одной популярной платформы отзывы пользователей и критиков. Построить диаграмму рассеяния и рассчитать корреляцию между отзывами и продажами.\n",
    "   * Проанализировать общее распределение игр по жанрам. \n",
    "\n",
    "\n",
    "**4. Составить портрет пользователя каждого региона**\n",
    "\n",
    "Определить для пользователя каждого региона (NA, EU, JP):\n",
    "\n",
    "* Самые популярные платформы (топ-5);\n",
    "* Самые популярные жанры (топ-5);\n",
    "* Влияет ли рейтинг ESRB на продажи в отдельном регионе.\n",
    "\n",
    "\n",
    "**5. Проверить гипотезы:**\n",
    "\n",
    "*\tСредние пользовательские рейтинги платформ Xbox One и PC одинаковые;\n",
    "*\tСредние пользовательские рейтинги жанров Action (англ. «действие», экшен-игры) и Sports (англ. «спортивные соревнования») разные.\n",
    "\n",
    "\n",
    "\n",
    "### Исходные данные\n",
    "\n",
    "Дан датасет, содержащий 11 столбцов:\n",
    "\n",
    "- `Name` — название игры;\n",
    "- `Platform` — платформа;\n",
    "- `Year_of_Release` — год выпуска;\n",
    "- `Genre` — жанр игры;\n",
    "- `NA_sales` — продажи в Северной Америке (миллионы проданных копий);\n",
    "- `EU_sales` — продажи в Европе (миллионы проданных копий);\n",
    "- `JP_sales` — продажи в Японии (миллионы проданных копий);\n",
    "- `Other_sales` — продажи в других странах (миллионы проданных копий);\n",
    "- `Critic_Score` — оценка критиков (максимум 100);\n",
    "- `User_Score` — оценка пользователей (максимум 10);\n",
    "- `Rating` — рейтинг от организации ESRB (англ. Entertainment Software Rating Board). Эта ассоциация определяет рейтинг компьютерных игр и присваивает им подходящую возрастную категорию."
   ]
  },
  {
   "cell_type": "markdown",
   "metadata": {},
   "source": [
    "## Изучение общей информации"
   ]
  },
  {
   "cell_type": "markdown",
   "metadata": {},
   "source": [
    "Для начала импортируем необходимые для работы библиотеки:"
   ]
  },
  {
   "cell_type": "code",
   "execution_count": 33,
   "metadata": {},
   "outputs": [],
   "source": [
    "import pandas as pd\n",
    "import numpy as np\n",
    "import matplotlib.pyplot as plt\n",
    "import seaborn as sns\n",
    "from scipy import stats as st\n",
    "\n",
    "pd.options.mode.chained_assignment = None"
   ]
  },
  {
   "cell_type": "code",
   "execution_count": 34,
   "metadata": {},
   "outputs": [],
   "source": [
    "df = pd.read_csv('/datasets/games.csv')"
   ]
  },
  {
   "cell_type": "markdown",
   "metadata": {},
   "source": [
    "Выдедем первые строки датасета и общую информацию о данных."
   ]
  },
  {
   "cell_type": "code",
   "execution_count": 35,
   "metadata": {},
   "outputs": [
    {
     "data": {
      "text/html": [
       "<div>\n",
       "<style scoped>\n",
       "    .dataframe tbody tr th:only-of-type {\n",
       "        vertical-align: middle;\n",
       "    }\n",
       "\n",
       "    .dataframe tbody tr th {\n",
       "        vertical-align: top;\n",
       "    }\n",
       "\n",
       "    .dataframe thead th {\n",
       "        text-align: right;\n",
       "    }\n",
       "</style>\n",
       "<table border=\"1\" class=\"dataframe\">\n",
       "  <thead>\n",
       "    <tr style=\"text-align: right;\">\n",
       "      <th></th>\n",
       "      <th>Name</th>\n",
       "      <th>Platform</th>\n",
       "      <th>Year_of_Release</th>\n",
       "      <th>Genre</th>\n",
       "      <th>NA_sales</th>\n",
       "      <th>EU_sales</th>\n",
       "      <th>JP_sales</th>\n",
       "      <th>Other_sales</th>\n",
       "      <th>Critic_Score</th>\n",
       "      <th>User_Score</th>\n",
       "      <th>Rating</th>\n",
       "    </tr>\n",
       "  </thead>\n",
       "  <tbody>\n",
       "    <tr>\n",
       "      <th>0</th>\n",
       "      <td>Wii Sports</td>\n",
       "      <td>Wii</td>\n",
       "      <td>2006.0</td>\n",
       "      <td>Sports</td>\n",
       "      <td>41.36</td>\n",
       "      <td>28.96</td>\n",
       "      <td>3.77</td>\n",
       "      <td>8.45</td>\n",
       "      <td>76.0</td>\n",
       "      <td>8</td>\n",
       "      <td>E</td>\n",
       "    </tr>\n",
       "    <tr>\n",
       "      <th>1</th>\n",
       "      <td>Super Mario Bros.</td>\n",
       "      <td>NES</td>\n",
       "      <td>1985.0</td>\n",
       "      <td>Platform</td>\n",
       "      <td>29.08</td>\n",
       "      <td>3.58</td>\n",
       "      <td>6.81</td>\n",
       "      <td>0.77</td>\n",
       "      <td>NaN</td>\n",
       "      <td>NaN</td>\n",
       "      <td>NaN</td>\n",
       "    </tr>\n",
       "    <tr>\n",
       "      <th>2</th>\n",
       "      <td>Mario Kart Wii</td>\n",
       "      <td>Wii</td>\n",
       "      <td>2008.0</td>\n",
       "      <td>Racing</td>\n",
       "      <td>15.68</td>\n",
       "      <td>12.76</td>\n",
       "      <td>3.79</td>\n",
       "      <td>3.29</td>\n",
       "      <td>82.0</td>\n",
       "      <td>8.3</td>\n",
       "      <td>E</td>\n",
       "    </tr>\n",
       "    <tr>\n",
       "      <th>3</th>\n",
       "      <td>Wii Sports Resort</td>\n",
       "      <td>Wii</td>\n",
       "      <td>2009.0</td>\n",
       "      <td>Sports</td>\n",
       "      <td>15.61</td>\n",
       "      <td>10.93</td>\n",
       "      <td>3.28</td>\n",
       "      <td>2.95</td>\n",
       "      <td>80.0</td>\n",
       "      <td>8</td>\n",
       "      <td>E</td>\n",
       "    </tr>\n",
       "    <tr>\n",
       "      <th>4</th>\n",
       "      <td>Pokemon Red/Pokemon Blue</td>\n",
       "      <td>GB</td>\n",
       "      <td>1996.0</td>\n",
       "      <td>Role-Playing</td>\n",
       "      <td>11.27</td>\n",
       "      <td>8.89</td>\n",
       "      <td>10.22</td>\n",
       "      <td>1.00</td>\n",
       "      <td>NaN</td>\n",
       "      <td>NaN</td>\n",
       "      <td>NaN</td>\n",
       "    </tr>\n",
       "    <tr>\n",
       "      <th>5</th>\n",
       "      <td>Tetris</td>\n",
       "      <td>GB</td>\n",
       "      <td>1989.0</td>\n",
       "      <td>Puzzle</td>\n",
       "      <td>23.20</td>\n",
       "      <td>2.26</td>\n",
       "      <td>4.22</td>\n",
       "      <td>0.58</td>\n",
       "      <td>NaN</td>\n",
       "      <td>NaN</td>\n",
       "      <td>NaN</td>\n",
       "    </tr>\n",
       "    <tr>\n",
       "      <th>6</th>\n",
       "      <td>New Super Mario Bros.</td>\n",
       "      <td>DS</td>\n",
       "      <td>2006.0</td>\n",
       "      <td>Platform</td>\n",
       "      <td>11.28</td>\n",
       "      <td>9.14</td>\n",
       "      <td>6.50</td>\n",
       "      <td>2.88</td>\n",
       "      <td>89.0</td>\n",
       "      <td>8.5</td>\n",
       "      <td>E</td>\n",
       "    </tr>\n",
       "    <tr>\n",
       "      <th>7</th>\n",
       "      <td>Wii Play</td>\n",
       "      <td>Wii</td>\n",
       "      <td>2006.0</td>\n",
       "      <td>Misc</td>\n",
       "      <td>13.96</td>\n",
       "      <td>9.18</td>\n",
       "      <td>2.93</td>\n",
       "      <td>2.84</td>\n",
       "      <td>58.0</td>\n",
       "      <td>6.6</td>\n",
       "      <td>E</td>\n",
       "    </tr>\n",
       "    <tr>\n",
       "      <th>8</th>\n",
       "      <td>New Super Mario Bros. Wii</td>\n",
       "      <td>Wii</td>\n",
       "      <td>2009.0</td>\n",
       "      <td>Platform</td>\n",
       "      <td>14.44</td>\n",
       "      <td>6.94</td>\n",
       "      <td>4.70</td>\n",
       "      <td>2.24</td>\n",
       "      <td>87.0</td>\n",
       "      <td>8.4</td>\n",
       "      <td>E</td>\n",
       "    </tr>\n",
       "    <tr>\n",
       "      <th>9</th>\n",
       "      <td>Duck Hunt</td>\n",
       "      <td>NES</td>\n",
       "      <td>1984.0</td>\n",
       "      <td>Shooter</td>\n",
       "      <td>26.93</td>\n",
       "      <td>0.63</td>\n",
       "      <td>0.28</td>\n",
       "      <td>0.47</td>\n",
       "      <td>NaN</td>\n",
       "      <td>NaN</td>\n",
       "      <td>NaN</td>\n",
       "    </tr>\n",
       "  </tbody>\n",
       "</table>\n",
       "</div>"
      ],
      "text/plain": [
       "                        Name Platform  Year_of_Release         Genre  \\\n",
       "0                 Wii Sports      Wii           2006.0        Sports   \n",
       "1          Super Mario Bros.      NES           1985.0      Platform   \n",
       "2             Mario Kart Wii      Wii           2008.0        Racing   \n",
       "3          Wii Sports Resort      Wii           2009.0        Sports   \n",
       "4   Pokemon Red/Pokemon Blue       GB           1996.0  Role-Playing   \n",
       "5                     Tetris       GB           1989.0        Puzzle   \n",
       "6      New Super Mario Bros.       DS           2006.0      Platform   \n",
       "7                   Wii Play      Wii           2006.0          Misc   \n",
       "8  New Super Mario Bros. Wii      Wii           2009.0      Platform   \n",
       "9                  Duck Hunt      NES           1984.0       Shooter   \n",
       "\n",
       "   NA_sales  EU_sales  JP_sales  Other_sales  Critic_Score User_Score Rating  \n",
       "0     41.36     28.96      3.77         8.45          76.0          8      E  \n",
       "1     29.08      3.58      6.81         0.77           NaN        NaN    NaN  \n",
       "2     15.68     12.76      3.79         3.29          82.0        8.3      E  \n",
       "3     15.61     10.93      3.28         2.95          80.0          8      E  \n",
       "4     11.27      8.89     10.22         1.00           NaN        NaN    NaN  \n",
       "5     23.20      2.26      4.22         0.58           NaN        NaN    NaN  \n",
       "6     11.28      9.14      6.50         2.88          89.0        8.5      E  \n",
       "7     13.96      9.18      2.93         2.84          58.0        6.6      E  \n",
       "8     14.44      6.94      4.70         2.24          87.0        8.4      E  \n",
       "9     26.93      0.63      0.28         0.47           NaN        NaN    NaN  "
      ]
     },
     "metadata": {},
     "output_type": "display_data"
    },
    {
     "name": "stdout",
     "output_type": "stream",
     "text": [
      "<class 'pandas.core.frame.DataFrame'>\n",
      "RangeIndex: 16715 entries, 0 to 16714\n",
      "Data columns (total 11 columns):\n",
      " #   Column           Non-Null Count  Dtype  \n",
      "---  ------           --------------  -----  \n",
      " 0   Name             16713 non-null  object \n",
      " 1   Platform         16715 non-null  object \n",
      " 2   Year_of_Release  16446 non-null  float64\n",
      " 3   Genre            16713 non-null  object \n",
      " 4   NA_sales         16715 non-null  float64\n",
      " 5   EU_sales         16715 non-null  float64\n",
      " 6   JP_sales         16715 non-null  float64\n",
      " 7   Other_sales      16715 non-null  float64\n",
      " 8   Critic_Score     8137 non-null   float64\n",
      " 9   User_Score       10014 non-null  object \n",
      " 10  Rating           9949 non-null   object \n",
      "dtypes: float64(6), object(5)\n",
      "memory usage: 1.4+ MB\n",
      "None\n"
     ]
    }
   ],
   "source": [
    "display(df.head(10))\n",
    "print(df.info())"
   ]
  },
  {
   "cell_type": "markdown",
   "metadata": {},
   "source": [
    "Для того чтобы познакомиться с данными подробнее, выведем информацию о количественных значениях в каждом столбце:"
   ]
  },
  {
   "cell_type": "code",
   "execution_count": 36,
   "metadata": {},
   "outputs": [
    {
     "data": {
      "text/html": [
       "<div>\n",
       "<style scoped>\n",
       "    .dataframe tbody tr th:only-of-type {\n",
       "        vertical-align: middle;\n",
       "    }\n",
       "\n",
       "    .dataframe tbody tr th {\n",
       "        vertical-align: top;\n",
       "    }\n",
       "\n",
       "    .dataframe thead th {\n",
       "        text-align: right;\n",
       "    }\n",
       "</style>\n",
       "<table border=\"1\" class=\"dataframe\">\n",
       "  <thead>\n",
       "    <tr style=\"text-align: right;\">\n",
       "      <th></th>\n",
       "      <th>Year_of_Release</th>\n",
       "      <th>NA_sales</th>\n",
       "      <th>EU_sales</th>\n",
       "      <th>JP_sales</th>\n",
       "      <th>Other_sales</th>\n",
       "      <th>Critic_Score</th>\n",
       "    </tr>\n",
       "  </thead>\n",
       "  <tbody>\n",
       "    <tr>\n",
       "      <th>count</th>\n",
       "      <td>16446.000000</td>\n",
       "      <td>16715.000000</td>\n",
       "      <td>16715.00000</td>\n",
       "      <td>16715.000000</td>\n",
       "      <td>16715.000000</td>\n",
       "      <td>8137.000000</td>\n",
       "    </tr>\n",
       "    <tr>\n",
       "      <th>mean</th>\n",
       "      <td>2006.484616</td>\n",
       "      <td>0.263377</td>\n",
       "      <td>0.14506</td>\n",
       "      <td>0.077617</td>\n",
       "      <td>0.047342</td>\n",
       "      <td>68.967679</td>\n",
       "    </tr>\n",
       "    <tr>\n",
       "      <th>min</th>\n",
       "      <td>1980.000000</td>\n",
       "      <td>0.000000</td>\n",
       "      <td>0.00000</td>\n",
       "      <td>0.000000</td>\n",
       "      <td>0.000000</td>\n",
       "      <td>13.000000</td>\n",
       "    </tr>\n",
       "    <tr>\n",
       "      <th>50%</th>\n",
       "      <td>2007.000000</td>\n",
       "      <td>0.080000</td>\n",
       "      <td>0.02000</td>\n",
       "      <td>0.000000</td>\n",
       "      <td>0.010000</td>\n",
       "      <td>71.000000</td>\n",
       "    </tr>\n",
       "    <tr>\n",
       "      <th>max</th>\n",
       "      <td>2016.000000</td>\n",
       "      <td>41.360000</td>\n",
       "      <td>28.96000</td>\n",
       "      <td>10.220000</td>\n",
       "      <td>10.570000</td>\n",
       "      <td>98.000000</td>\n",
       "    </tr>\n",
       "  </tbody>\n",
       "</table>\n",
       "</div>"
      ],
      "text/plain": [
       "       Year_of_Release      NA_sales     EU_sales      JP_sales   Other_sales  \\\n",
       "count     16446.000000  16715.000000  16715.00000  16715.000000  16715.000000   \n",
       "mean       2006.484616      0.263377      0.14506      0.077617      0.047342   \n",
       "min        1980.000000      0.000000      0.00000      0.000000      0.000000   \n",
       "50%        2007.000000      0.080000      0.02000      0.000000      0.010000   \n",
       "max        2016.000000     41.360000     28.96000     10.220000     10.570000   \n",
       "\n",
       "       Critic_Score  \n",
       "count   8137.000000  \n",
       "mean      68.967679  \n",
       "min       13.000000  \n",
       "50%       71.000000  \n",
       "max       98.000000  "
      ]
     },
     "execution_count": 36,
     "metadata": {},
     "output_type": "execute_result"
    }
   ],
   "source": [
    "df.describe().loc[['count','mean','min','50%','max']]"
   ]
  },
  {
   "cell_type": "markdown",
   "metadata": {},
   "source": [
    "Для столбцов `Platform`,  `Genre `, `User_Score` и `Rating` выведем все уникальные значения для поиска потенциальных аномалий:"
   ]
  },
  {
   "cell_type": "code",
   "execution_count": 37,
   "metadata": {},
   "outputs": [
    {
     "name": "stdout",
     "output_type": "stream",
     "text": [
      "\u001b[31mУникальные значения Platform\u001b[0m\n",
      "['Wii' 'NES' 'GB' 'DS' 'X360' 'PS3' 'PS2' 'SNES' 'GBA' 'PS4' '3DS' 'N64'\n",
      " 'PS' 'XB' 'PC' '2600' 'PSP' 'XOne' 'WiiU' 'GC' 'GEN' 'DC' 'PSV' 'SAT'\n",
      " 'SCD' 'WS' 'NG' 'TG16' '3DO' 'GG' 'PCFX']\n",
      "\n",
      "\u001b[31mУникальные значения Genre\u001b[0m\n",
      "['Sports' 'Platform' 'Racing' 'Role-Playing' 'Puzzle' 'Misc' 'Shooter'\n",
      " 'Simulation' 'Action' 'Fighting' 'Adventure' 'Strategy' nan]\n",
      "\n",
      "\u001b[31mУникальные значения User_Score\u001b[0m\n",
      "['8' nan '8.3' '8.5' '6.6' '8.4' '8.6' '7.7' '6.3' '7.4' '8.2' '9' '7.9'\n",
      " '8.1' '8.7' '7.1' '3.4' '5.3' '4.8' '3.2' '8.9' '6.4' '7.8' '7.5' '2.6'\n",
      " '7.2' '9.2' '7' '7.3' '4.3' '7.6' '5.7' '5' '9.1' '6.5' 'tbd' '8.8' '6.9'\n",
      " '9.4' '6.8' '6.1' '6.7' '5.4' '4' '4.9' '4.5' '9.3' '6.2' '4.2' '6' '3.7'\n",
      " '4.1' '5.8' '5.6' '5.5' '4.4' '4.6' '5.9' '3.9' '3.1' '2.9' '5.2' '3.3'\n",
      " '4.7' '5.1' '3.5' '2.5' '1.9' '3' '2.7' '2.2' '2' '9.5' '2.1' '3.6' '2.8'\n",
      " '1.8' '3.8' '0' '1.6' '9.6' '2.4' '1.7' '1.1' '0.3' '1.5' '0.7' '1.2'\n",
      " '2.3' '0.5' '1.3' '0.2' '0.6' '1.4' '0.9' '1' '9.7']\n",
      "\n",
      "\u001b[31mУникальные значения Rating\u001b[0m\n",
      "['E' nan 'M' 'T' 'E10+' 'K-A' 'AO' 'EC' 'RP']\n",
      "\n"
     ]
    }
   ],
   "source": [
    "categories = ['Platform', 'Genre', 'User_Score', 'Rating']\n",
    "\n",
    "for category in categories:\n",
    "    print('\\033[31m', f'Уникальные значения {category}', '\\033[0m', '\\n', df[category].unique(), '\\n', sep='')"
   ]
  },
  {
   "cell_type": "markdown",
   "metadata": {},
   "source": [
    "Определим какое количество строк содержат в столбце `User_Score` значения, записанные как `tbd`:"
   ]
  },
  {
   "cell_type": "code",
   "execution_count": 38,
   "metadata": {},
   "outputs": [
    {
     "name": "stdout",
     "output_type": "stream",
     "text": [
      "2424\n"
     ]
    }
   ],
   "source": [
    "print(df['User_Score'][df['User_Score'] == 'tbd'].count())"
   ]
  },
  {
   "cell_type": "markdown",
   "metadata": {},
   "source": [
    "### Вывод\n",
    "\n",
    "* В таблице даны 11 столбцов и 16715 строк, содержащие исторические данные о продажах игр, информацию об оценках пользователей и экспертов, жанрах и платформах.\n",
    "\n",
    "\n",
    "* Данные представлены типами `float` и `object`. На этапе предобработки данных необходимо будет произвести замену типов в следующих столбцах:\n",
    "   - `Year_of_Release` (год выпуска игры) - заменим на целочисленный тип;\n",
    "   - `User_Score` (оценка пользователей) - заменим на вещественный тип. \n",
    "\n",
    "\n",
    "* В названиях колонок имееются нарушения стиля написания: строчные буквы сочетаются с прописными. На этапе предобработки данных будет необходимо их переименовать.\n",
    "\n",
    "\n",
    "* Видно, что в 6 столбцах имеются пропущенные значения. На следующем этапе определим их количество и заполним пропуски там, где это необходимо и обоснованно. \n",
    "\n",
    "\n",
    "* Получили, что в столбцах, в которых данные представлены в виде значений с плавающей точкой, минимальные и максимальные значения лежат в пределах реальных значений.\n",
    "\n",
    "\n",
    "* В столбцах `Platform`, `Genre`, `User_Score` и `Rating` помимо наличия пропусков некоторых значений не выявлено неявных дубликатов. Однако в столбце `User_Score` встречаются значения, записанные как `tbd` - To Be Determined - то есть еще не определенный пользователями рейтинг. Таких значений достаточно много - 2424, поэтому просто удалять их нельзя, так как это отразится на всем датасете, заменять их средними значениями, сгруппировав игры по жанрам и т.д., будет некорректно - могут исказиться результаты. Поэтому заменим их на NaN."
   ]
  },
  {
   "cell_type": "markdown",
   "metadata": {},
   "source": [
    "## Подготовка данных"
   ]
  },
  {
   "cell_type": "markdown",
   "metadata": {},
   "source": [
    "Подготовим данные к дальнейшему анализу:\n",
    "  \n",
    "* Заменим названия столбцов;\n",
    "* Обработаем пропуски, где это необходимо;\n",
    "* Преобразуем данные в нужные типы;\n",
    "* Посчитаем суммарные продажи во всех регионах и запишем их в отдельный столбец.\n"
   ]
  },
  {
   "cell_type": "markdown",
   "metadata": {},
   "source": [
    "### Переименование столбцов"
   ]
  },
  {
   "cell_type": "markdown",
   "metadata": {},
   "source": [
    "Переименуем столбцы, записав их наименования в нижнем \"змеином\" регистре:"
   ]
  },
  {
   "cell_type": "code",
   "execution_count": 39,
   "metadata": {},
   "outputs": [
    {
     "name": "stdout",
     "output_type": "stream",
     "text": [
      "['name', 'platform', 'year_of_release', 'genre', 'na_sales', 'eu_sales', 'jp_sales', 'other_sales', 'critic_score', 'user_score', 'rating']\n"
     ]
    }
   ],
   "source": [
    "df.columns = df.columns.str.lower()\n",
    "print(list(df.columns))"
   ]
  },
  {
   "cell_type": "markdown",
   "metadata": {},
   "source": [
    "Как видно из выведенного выше, наименования стобцов успешно были переименованы."
   ]
  },
  {
   "cell_type": "markdown",
   "metadata": {},
   "source": [
    "### Обработка пропусков"
   ]
  },
  {
   "cell_type": "markdown",
   "metadata": {},
   "source": [
    "Для начала выведем количество пропусков в каждом столбце датасета:"
   ]
  },
  {
   "cell_type": "code",
   "execution_count": 40,
   "metadata": {},
   "outputs": [
    {
     "name": "stdout",
     "output_type": "stream",
     "text": [
      "name                  2\n",
      "platform              0\n",
      "year_of_release     269\n",
      "genre                 2\n",
      "na_sales              0\n",
      "eu_sales              0\n",
      "jp_sales              0\n",
      "other_sales           0\n",
      "critic_score       8578\n",
      "user_score         6701\n",
      "rating             6766\n",
      "dtype: int64\n"
     ]
    }
   ],
   "source": [
    "print(df.isna().sum())"
   ]
  },
  {
   "cell_type": "markdown",
   "metadata": {},
   "source": [
    "* По 2 пропуска встречается в столбцах `name` и `genre`. Так это очень небольшое количество, данные строчки можно удалить.\n",
    "\n",
    "\n",
    "* В столбце `year_of_release` имеется 269 пропусков - слишком много, чтобы заполнять их вручную с учетом того, что на разных платформах одна и та же игра могла выходить в разные годы. Заполнять такие данные средним некорректно - исказятся результаты. Так как количество пропусков составляет 1,6% от всех данных, то целесообразнее будет удалить строчки с этими пропусками.\n",
    "\n",
    "\n",
    "* В столбцах `critic_score`, `user_score` и `rating`пропусков достаточно много. Так как такие данные, как оценка критиков и пользователей или рейтинг заменить средним нельзя,  то эти пропуски оставляем как есть."
   ]
  },
  {
   "cell_type": "code",
   "execution_count": 41,
   "metadata": {},
   "outputs": [
    {
     "name": "stdout",
     "output_type": "stream",
     "text": [
      "name                  0\n",
      "platform              0\n",
      "year_of_release       0\n",
      "genre                 0\n",
      "na_sales              0\n",
      "eu_sales              0\n",
      "jp_sales              0\n",
      "other_sales           0\n",
      "critic_score       8461\n",
      "user_score         6605\n",
      "rating             6676\n",
      "dtype: int64\n"
     ]
    }
   ],
   "source": [
    "df = df.dropna(subset=['name','genre','year_of_release'])\n",
    "print(df.isna().sum())"
   ]
  },
  {
   "cell_type": "markdown",
   "metadata": {},
   "source": [
    "Как было определено в предыдущем разделе, в столбце `user_score` встречаются значения, записанные как `tbd` - To Be Determined - то есть еще не определенный пользователями рейтинг.\n",
    "\n",
    "Таких значений достаточно много - 2424, поэтому просто удалять их нельзя, так как это отразится на всем датасете, заменять их средними значениями, сгруппировав игры по жанрам и т.д., будет некорректно - могут исказиться результаты. Поэтому заменим их на NaN."
   ]
  },
  {
   "cell_type": "code",
   "execution_count": 42,
   "metadata": {},
   "outputs": [
    {
     "name": "stdout",
     "output_type": "stream",
     "text": [
      "['8' nan '8.3' '8.5' '6.6' '8.4' '8.6' '7.7' '6.3' '7.4' '8.2' '9' '7.9'\n",
      " '8.1' '8.7' '7.1' '3.4' '5.3' '4.8' '3.2' '8.9' '6.4' '7.8' '7.5' '2.6'\n",
      " '7.2' '9.2' '7' '7.3' '4.3' '7.6' '5.7' '5' '9.1' '6.5' '8.8' '6.9' '9.4'\n",
      " '6.8' '6.1' '6.7' '5.4' '4' '4.9' '4.5' '9.3' '6.2' '4.2' '6' '3.7' '4.1'\n",
      " '5.8' '5.6' '5.5' '4.4' '4.6' '5.9' '3.9' '3.1' '2.9' '5.2' '3.3' '4.7'\n",
      " '5.1' '3.5' '2.5' '1.9' '3' '2.7' '2.2' '2' '9.5' '2.1' '3.6' '2.8' '1.8'\n",
      " '3.8' '0' '1.6' '9.6' '2.4' '1.7' '1.1' '0.3' '1.5' '0.7' '1.2' '2.3'\n",
      " '0.5' '1.3' '0.2' '0.6' '1.4' '0.9' '1' '9.7']\n"
     ]
    }
   ],
   "source": [
    "df = df.replace('tbd', np.nan)\n",
    "\n",
    "print(df['user_score'].unique())"
   ]
  },
  {
   "cell_type": "markdown",
   "metadata": {},
   "source": [
    "Как видно, в столбце `rating` содержится достаточно большое количество пропусков. \n",
    "Они могли появиться по нескольким причинам. \n",
    "\n",
    "Во-первых, ассоциация Entertainment Software Rating Board - американская рейтинговая система игр, поэтому игры, выпускаемые в Европе или Азии, могли оцениваться не по этой системе, а например, по рейтинговым системам PEGI или CERO, в результате чего рейтинг по системе ESRB не присваивается.\n",
    "\n",
    "Во-вторых, для определения рейтинга издатель должен сам присылать в ESRB видеоролик, который содержит наиболее впечатляющие и резкие сцены игры и заполнять специальную анкету сведениями о содержании игры. По какой-то причине издатель мог этого не сделать и игра осталась без присвоенного рейтинга.\n",
    "\n",
    "И, в-третьих, компании не обязаны предоставлять игру на определение рейтинга до начала официальных продаж, так как её содержимое может значительно измениться в ходе разработки. Поэтому для части игр рейтинг может быть еще в процессе определения.\n",
    "__________________\n",
    "\n",
    "В связи с этим, пропуски значений рейтинга будем заполнять значениями \"неизвестно\" - \"UNK\", чтобы в дальнейшем не потерять часть данных."
   ]
  },
  {
   "cell_type": "code",
   "execution_count": 43,
   "metadata": {
    "scrolled": true
   },
   "outputs": [],
   "source": [
    "df['rating'] = df['rating'].fillna('UNK')    "
   ]
  },
  {
   "cell_type": "markdown",
   "metadata": {},
   "source": [
    "### Замена типов данных"
   ]
  },
  {
   "cell_type": "markdown",
   "metadata": {},
   "source": [
    "При изучении общей информации о данных, пришли к выводу, о том, что для осуществления дальнейших расчетов, необходимо заменить типы данных в 2 столбцах:\n",
    "\n",
    " - `year_of_release` (год выпуска игры) - заменим на целочисленный тип для удобства проведения рассчетов;\n",
    " \n",
    " - `user_score` (оценка пользователей) - заменим на вещественный тип, чтобы можно было произвоизводить численные операции и операции сравнения с этими данными. "
   ]
  },
  {
   "cell_type": "code",
   "execution_count": 44,
   "metadata": {},
   "outputs": [
    {
     "name": "stdout",
     "output_type": "stream",
     "text": [
      "<class 'pandas.core.frame.DataFrame'>\n",
      "Int64Index: 16444 entries, 0 to 16714\n",
      "Data columns (total 11 columns):\n",
      " #   Column           Non-Null Count  Dtype  \n",
      "---  ------           --------------  -----  \n",
      " 0   name             16444 non-null  object \n",
      " 1   platform         16444 non-null  object \n",
      " 2   year_of_release  16444 non-null  int64  \n",
      " 3   genre            16444 non-null  object \n",
      " 4   na_sales         16444 non-null  float64\n",
      " 5   eu_sales         16444 non-null  float64\n",
      " 6   jp_sales         16444 non-null  float64\n",
      " 7   other_sales      16444 non-null  float64\n",
      " 8   critic_score     7983 non-null   float64\n",
      " 9   user_score       7463 non-null   float64\n",
      " 10  rating           16444 non-null  object \n",
      "dtypes: float64(6), int64(1), object(4)\n",
      "memory usage: 1.5+ MB\n",
      "None\n"
     ]
    }
   ],
   "source": [
    "df['year_of_release'] = df['year_of_release'].astype('int')\n",
    "df['user_score'] = pd.to_numeric(df['user_score'], errors='coerce')\n",
    "\n",
    "print(df.info())"
   ]
  },
  {
   "cell_type": "markdown",
   "metadata": {},
   "source": [
    "Из общей характеристики видно, что типы данных были успешно заменены.\n"
   ]
  },
  {
   "cell_type": "markdown",
   "metadata": {},
   "source": [
    "### Определение суммарных продаж"
   ]
  },
  {
   "cell_type": "markdown",
   "metadata": {},
   "source": [
    "Посчитаем суммарные продажи во всех регионах и запишем их в отдельный столбец `total_sales`."
   ]
  },
  {
   "cell_type": "code",
   "execution_count": 45,
   "metadata": {},
   "outputs": [
    {
     "data": {
      "text/html": [
       "<div>\n",
       "<style scoped>\n",
       "    .dataframe tbody tr th:only-of-type {\n",
       "        vertical-align: middle;\n",
       "    }\n",
       "\n",
       "    .dataframe tbody tr th {\n",
       "        vertical-align: top;\n",
       "    }\n",
       "\n",
       "    .dataframe thead th {\n",
       "        text-align: right;\n",
       "    }\n",
       "</style>\n",
       "<table border=\"1\" class=\"dataframe\">\n",
       "  <thead>\n",
       "    <tr style=\"text-align: right;\">\n",
       "      <th></th>\n",
       "      <th>name</th>\n",
       "      <th>platform</th>\n",
       "      <th>year_of_release</th>\n",
       "      <th>genre</th>\n",
       "      <th>na_sales</th>\n",
       "      <th>eu_sales</th>\n",
       "      <th>jp_sales</th>\n",
       "      <th>other_sales</th>\n",
       "      <th>critic_score</th>\n",
       "      <th>user_score</th>\n",
       "      <th>rating</th>\n",
       "      <th>total_sales</th>\n",
       "    </tr>\n",
       "  </thead>\n",
       "  <tbody>\n",
       "    <tr>\n",
       "      <th>0</th>\n",
       "      <td>Wii Sports</td>\n",
       "      <td>Wii</td>\n",
       "      <td>2006</td>\n",
       "      <td>Sports</td>\n",
       "      <td>41.36</td>\n",
       "      <td>28.96</td>\n",
       "      <td>3.77</td>\n",
       "      <td>8.45</td>\n",
       "      <td>76.0</td>\n",
       "      <td>8.0</td>\n",
       "      <td>E</td>\n",
       "      <td>82.54</td>\n",
       "    </tr>\n",
       "    <tr>\n",
       "      <th>1</th>\n",
       "      <td>Super Mario Bros.</td>\n",
       "      <td>NES</td>\n",
       "      <td>1985</td>\n",
       "      <td>Platform</td>\n",
       "      <td>29.08</td>\n",
       "      <td>3.58</td>\n",
       "      <td>6.81</td>\n",
       "      <td>0.77</td>\n",
       "      <td>NaN</td>\n",
       "      <td>NaN</td>\n",
       "      <td>UNK</td>\n",
       "      <td>40.24</td>\n",
       "    </tr>\n",
       "    <tr>\n",
       "      <th>2</th>\n",
       "      <td>Mario Kart Wii</td>\n",
       "      <td>Wii</td>\n",
       "      <td>2008</td>\n",
       "      <td>Racing</td>\n",
       "      <td>15.68</td>\n",
       "      <td>12.76</td>\n",
       "      <td>3.79</td>\n",
       "      <td>3.29</td>\n",
       "      <td>82.0</td>\n",
       "      <td>8.3</td>\n",
       "      <td>E</td>\n",
       "      <td>35.52</td>\n",
       "    </tr>\n",
       "    <tr>\n",
       "      <th>3</th>\n",
       "      <td>Wii Sports Resort</td>\n",
       "      <td>Wii</td>\n",
       "      <td>2009</td>\n",
       "      <td>Sports</td>\n",
       "      <td>15.61</td>\n",
       "      <td>10.93</td>\n",
       "      <td>3.28</td>\n",
       "      <td>2.95</td>\n",
       "      <td>80.0</td>\n",
       "      <td>8.0</td>\n",
       "      <td>E</td>\n",
       "      <td>32.77</td>\n",
       "    </tr>\n",
       "    <tr>\n",
       "      <th>4</th>\n",
       "      <td>Pokemon Red/Pokemon Blue</td>\n",
       "      <td>GB</td>\n",
       "      <td>1996</td>\n",
       "      <td>Role-Playing</td>\n",
       "      <td>11.27</td>\n",
       "      <td>8.89</td>\n",
       "      <td>10.22</td>\n",
       "      <td>1.00</td>\n",
       "      <td>NaN</td>\n",
       "      <td>NaN</td>\n",
       "      <td>UNK</td>\n",
       "      <td>31.38</td>\n",
       "    </tr>\n",
       "    <tr>\n",
       "      <th>...</th>\n",
       "      <td>...</td>\n",
       "      <td>...</td>\n",
       "      <td>...</td>\n",
       "      <td>...</td>\n",
       "      <td>...</td>\n",
       "      <td>...</td>\n",
       "      <td>...</td>\n",
       "      <td>...</td>\n",
       "      <td>...</td>\n",
       "      <td>...</td>\n",
       "      <td>...</td>\n",
       "      <td>...</td>\n",
       "    </tr>\n",
       "    <tr>\n",
       "      <th>16710</th>\n",
       "      <td>Samurai Warriors: Sanada Maru</td>\n",
       "      <td>PS3</td>\n",
       "      <td>2016</td>\n",
       "      <td>Action</td>\n",
       "      <td>0.00</td>\n",
       "      <td>0.00</td>\n",
       "      <td>0.01</td>\n",
       "      <td>0.00</td>\n",
       "      <td>NaN</td>\n",
       "      <td>NaN</td>\n",
       "      <td>UNK</td>\n",
       "      <td>0.01</td>\n",
       "    </tr>\n",
       "    <tr>\n",
       "      <th>16711</th>\n",
       "      <td>LMA Manager 2007</td>\n",
       "      <td>X360</td>\n",
       "      <td>2006</td>\n",
       "      <td>Sports</td>\n",
       "      <td>0.00</td>\n",
       "      <td>0.01</td>\n",
       "      <td>0.00</td>\n",
       "      <td>0.00</td>\n",
       "      <td>NaN</td>\n",
       "      <td>NaN</td>\n",
       "      <td>UNK</td>\n",
       "      <td>0.01</td>\n",
       "    </tr>\n",
       "    <tr>\n",
       "      <th>16712</th>\n",
       "      <td>Haitaka no Psychedelica</td>\n",
       "      <td>PSV</td>\n",
       "      <td>2016</td>\n",
       "      <td>Adventure</td>\n",
       "      <td>0.00</td>\n",
       "      <td>0.00</td>\n",
       "      <td>0.01</td>\n",
       "      <td>0.00</td>\n",
       "      <td>NaN</td>\n",
       "      <td>NaN</td>\n",
       "      <td>UNK</td>\n",
       "      <td>0.01</td>\n",
       "    </tr>\n",
       "    <tr>\n",
       "      <th>16713</th>\n",
       "      <td>Spirits &amp; Spells</td>\n",
       "      <td>GBA</td>\n",
       "      <td>2003</td>\n",
       "      <td>Platform</td>\n",
       "      <td>0.01</td>\n",
       "      <td>0.00</td>\n",
       "      <td>0.00</td>\n",
       "      <td>0.00</td>\n",
       "      <td>NaN</td>\n",
       "      <td>NaN</td>\n",
       "      <td>UNK</td>\n",
       "      <td>0.01</td>\n",
       "    </tr>\n",
       "    <tr>\n",
       "      <th>16714</th>\n",
       "      <td>Winning Post 8 2016</td>\n",
       "      <td>PSV</td>\n",
       "      <td>2016</td>\n",
       "      <td>Simulation</td>\n",
       "      <td>0.00</td>\n",
       "      <td>0.00</td>\n",
       "      <td>0.01</td>\n",
       "      <td>0.00</td>\n",
       "      <td>NaN</td>\n",
       "      <td>NaN</td>\n",
       "      <td>UNK</td>\n",
       "      <td>0.01</td>\n",
       "    </tr>\n",
       "  </tbody>\n",
       "</table>\n",
       "<p>16444 rows × 12 columns</p>\n",
       "</div>"
      ],
      "text/plain": [
       "                                name platform  year_of_release         genre  \\\n",
       "0                         Wii Sports      Wii             2006        Sports   \n",
       "1                  Super Mario Bros.      NES             1985      Platform   \n",
       "2                     Mario Kart Wii      Wii             2008        Racing   \n",
       "3                  Wii Sports Resort      Wii             2009        Sports   \n",
       "4           Pokemon Red/Pokemon Blue       GB             1996  Role-Playing   \n",
       "...                              ...      ...              ...           ...   \n",
       "16710  Samurai Warriors: Sanada Maru      PS3             2016        Action   \n",
       "16711               LMA Manager 2007     X360             2006        Sports   \n",
       "16712        Haitaka no Psychedelica      PSV             2016     Adventure   \n",
       "16713               Spirits & Spells      GBA             2003      Platform   \n",
       "16714            Winning Post 8 2016      PSV             2016    Simulation   \n",
       "\n",
       "       na_sales  eu_sales  jp_sales  other_sales  critic_score  user_score  \\\n",
       "0         41.36     28.96      3.77         8.45          76.0         8.0   \n",
       "1         29.08      3.58      6.81         0.77           NaN         NaN   \n",
       "2         15.68     12.76      3.79         3.29          82.0         8.3   \n",
       "3         15.61     10.93      3.28         2.95          80.0         8.0   \n",
       "4         11.27      8.89     10.22         1.00           NaN         NaN   \n",
       "...         ...       ...       ...          ...           ...         ...   \n",
       "16710      0.00      0.00      0.01         0.00           NaN         NaN   \n",
       "16711      0.00      0.01      0.00         0.00           NaN         NaN   \n",
       "16712      0.00      0.00      0.01         0.00           NaN         NaN   \n",
       "16713      0.01      0.00      0.00         0.00           NaN         NaN   \n",
       "16714      0.00      0.00      0.01         0.00           NaN         NaN   \n",
       "\n",
       "      rating  total_sales  \n",
       "0          E        82.54  \n",
       "1        UNK        40.24  \n",
       "2          E        35.52  \n",
       "3          E        32.77  \n",
       "4        UNK        31.38  \n",
       "...      ...          ...  \n",
       "16710    UNK         0.01  \n",
       "16711    UNK         0.01  \n",
       "16712    UNK         0.01  \n",
       "16713    UNK         0.01  \n",
       "16714    UNK         0.01  \n",
       "\n",
       "[16444 rows x 12 columns]"
      ]
     },
     "metadata": {},
     "output_type": "display_data"
    }
   ],
   "source": [
    "df['total_sales'] = df['na_sales'] + df['eu_sales'] + df['jp_sales'] + df['other_sales']\n",
    "display(df)"
   ]
  },
  {
   "cell_type": "markdown",
   "metadata": {},
   "source": [
    "Выведем также общую характеристику этих данных:"
   ]
  },
  {
   "cell_type": "code",
   "execution_count": 46,
   "metadata": {},
   "outputs": [
    {
     "data": {
      "text/plain": [
       "count    16444.000000\n",
       "mean         0.536023\n",
       "std          1.558786\n",
       "min          0.000000\n",
       "25%          0.060000\n",
       "50%          0.170000\n",
       "75%          0.470000\n",
       "max         82.540000\n",
       "Name: total_sales, dtype: float64"
      ]
     },
     "execution_count": 46,
     "metadata": {},
     "output_type": "execute_result"
    }
   ],
   "source": [
    "df['total_sales'].describe()"
   ]
  },
  {
   "cell_type": "markdown",
   "metadata": {},
   "source": [
    "### Вывод\n",
    "\n",
    "На этапе подготовки данных были произведены следующие действия:\n",
    "\n",
    "* Переименованы столбцы без нарушения стиля написания.\n",
    "\n",
    "\n",
    "* Обработаны пропуски в данных:\n",
    "  - Были удалены строки с пропусками в столбцах `name`, `genre` и `year_of_release`. \n",
    "  - В столбцах `critic_score`, `user_score` и `rating` пропуски были оставлены.\n",
    "\n",
    "\n",
    "* В столбце `user_score` значения, записанные как \"tbd\", заменены на NaN.\n",
    "\n",
    "\n",
    "* Заменены типы данных в столбцах `year_of_release` на целочисленный тип и `user_score` на вещественный тип.\n",
    "\n",
    "\n",
    "* Расчитаны суммарные продажи во всех регионах и добавлены в отдельный столбец `total_sales`. Размер суммарных продаж составляет от 0 до 82,5 млн проданных копий.\n"
   ]
  },
  {
   "cell_type": "markdown",
   "metadata": {},
   "source": [
    "## Исследовательский анализ данных"
   ]
  },
  {
   "cell_type": "markdown",
   "metadata": {},
   "source": [
    "В рамках проведения исследовательского анализа данных выполним следующие задачи:\n",
    "\n",
    "- определим, как менялось количество выпускаемых игр в разные годы;\n",
    "- проанализируем, как менялись продажи игр по платформам;\n",
    "- выделим актуальный период, на основе которого можно было бы построить прогноз на 2017 год;\n",
    "- выделим несколько потенциально прибыльных платформ;\n",
    "- определим, как влияют на продажи внутри одной популярной платформы отзывы пользователей и критиков, рассчитаем корреляцию между отзывами и продажами;\n",
    "- проанализируем общее распределение игр по жанрам, выделим самые прибыльные жанры и с самыми низкими продажами.\n"
   ]
  },
  {
   "cell_type": "markdown",
   "metadata": {},
   "source": [
    "### Анализ количества выпускаемых игр по годам "
   ]
  },
  {
   "cell_type": "markdown",
   "metadata": {},
   "source": [
    "Сформируем сводную таблицу по количеству выпущенных игр в каждый год. Чтобы проще было оценить распределение, дополнительно построим график распределения выпущенных игр по годам."
   ]
  },
  {
   "cell_type": "code",
   "execution_count": 47,
   "metadata": {},
   "outputs": [
    {
     "data": {
      "text/html": [
       "<div>\n",
       "<style scoped>\n",
       "    .dataframe tbody tr th:only-of-type {\n",
       "        vertical-align: middle;\n",
       "    }\n",
       "\n",
       "    .dataframe tbody tr th {\n",
       "        vertical-align: top;\n",
       "    }\n",
       "\n",
       "    .dataframe thead th {\n",
       "        text-align: right;\n",
       "    }\n",
       "</style>\n",
       "<table border=\"1\" class=\"dataframe\">\n",
       "  <thead>\n",
       "    <tr style=\"text-align: right;\">\n",
       "      <th></th>\n",
       "      <th>name</th>\n",
       "    </tr>\n",
       "    <tr>\n",
       "      <th>year_of_release</th>\n",
       "      <th></th>\n",
       "    </tr>\n",
       "  </thead>\n",
       "  <tbody>\n",
       "    <tr>\n",
       "      <th>1980</th>\n",
       "      <td>9</td>\n",
       "    </tr>\n",
       "    <tr>\n",
       "      <th>1981</th>\n",
       "      <td>46</td>\n",
       "    </tr>\n",
       "    <tr>\n",
       "      <th>1982</th>\n",
       "      <td>36</td>\n",
       "    </tr>\n",
       "    <tr>\n",
       "      <th>1983</th>\n",
       "      <td>17</td>\n",
       "    </tr>\n",
       "    <tr>\n",
       "      <th>1984</th>\n",
       "      <td>14</td>\n",
       "    </tr>\n",
       "    <tr>\n",
       "      <th>1985</th>\n",
       "      <td>14</td>\n",
       "    </tr>\n",
       "    <tr>\n",
       "      <th>1986</th>\n",
       "      <td>21</td>\n",
       "    </tr>\n",
       "    <tr>\n",
       "      <th>1987</th>\n",
       "      <td>16</td>\n",
       "    </tr>\n",
       "    <tr>\n",
       "      <th>1988</th>\n",
       "      <td>15</td>\n",
       "    </tr>\n",
       "    <tr>\n",
       "      <th>1989</th>\n",
       "      <td>17</td>\n",
       "    </tr>\n",
       "    <tr>\n",
       "      <th>1990</th>\n",
       "      <td>16</td>\n",
       "    </tr>\n",
       "    <tr>\n",
       "      <th>1991</th>\n",
       "      <td>41</td>\n",
       "    </tr>\n",
       "    <tr>\n",
       "      <th>1992</th>\n",
       "      <td>43</td>\n",
       "    </tr>\n",
       "    <tr>\n",
       "      <th>1993</th>\n",
       "      <td>60</td>\n",
       "    </tr>\n",
       "    <tr>\n",
       "      <th>1994</th>\n",
       "      <td>121</td>\n",
       "    </tr>\n",
       "    <tr>\n",
       "      <th>1995</th>\n",
       "      <td>219</td>\n",
       "    </tr>\n",
       "    <tr>\n",
       "      <th>1996</th>\n",
       "      <td>263</td>\n",
       "    </tr>\n",
       "    <tr>\n",
       "      <th>1997</th>\n",
       "      <td>289</td>\n",
       "    </tr>\n",
       "    <tr>\n",
       "      <th>1998</th>\n",
       "      <td>379</td>\n",
       "    </tr>\n",
       "    <tr>\n",
       "      <th>1999</th>\n",
       "      <td>338</td>\n",
       "    </tr>\n",
       "    <tr>\n",
       "      <th>2000</th>\n",
       "      <td>350</td>\n",
       "    </tr>\n",
       "    <tr>\n",
       "      <th>2001</th>\n",
       "      <td>482</td>\n",
       "    </tr>\n",
       "    <tr>\n",
       "      <th>2002</th>\n",
       "      <td>829</td>\n",
       "    </tr>\n",
       "    <tr>\n",
       "      <th>2003</th>\n",
       "      <td>775</td>\n",
       "    </tr>\n",
       "    <tr>\n",
       "      <th>2004</th>\n",
       "      <td>762</td>\n",
       "    </tr>\n",
       "    <tr>\n",
       "      <th>2005</th>\n",
       "      <td>939</td>\n",
       "    </tr>\n",
       "    <tr>\n",
       "      <th>2006</th>\n",
       "      <td>1006</td>\n",
       "    </tr>\n",
       "    <tr>\n",
       "      <th>2007</th>\n",
       "      <td>1197</td>\n",
       "    </tr>\n",
       "    <tr>\n",
       "      <th>2008</th>\n",
       "      <td>1427</td>\n",
       "    </tr>\n",
       "    <tr>\n",
       "      <th>2009</th>\n",
       "      <td>1426</td>\n",
       "    </tr>\n",
       "    <tr>\n",
       "      <th>2010</th>\n",
       "      <td>1255</td>\n",
       "    </tr>\n",
       "    <tr>\n",
       "      <th>2011</th>\n",
       "      <td>1136</td>\n",
       "    </tr>\n",
       "    <tr>\n",
       "      <th>2012</th>\n",
       "      <td>653</td>\n",
       "    </tr>\n",
       "    <tr>\n",
       "      <th>2013</th>\n",
       "      <td>544</td>\n",
       "    </tr>\n",
       "    <tr>\n",
       "      <th>2014</th>\n",
       "      <td>581</td>\n",
       "    </tr>\n",
       "    <tr>\n",
       "      <th>2015</th>\n",
       "      <td>606</td>\n",
       "    </tr>\n",
       "    <tr>\n",
       "      <th>2016</th>\n",
       "      <td>502</td>\n",
       "    </tr>\n",
       "  </tbody>\n",
       "</table>\n",
       "</div>"
      ],
      "text/plain": [
       "                 name\n",
       "year_of_release      \n",
       "1980                9\n",
       "1981               46\n",
       "1982               36\n",
       "1983               17\n",
       "1984               14\n",
       "1985               14\n",
       "1986               21\n",
       "1987               16\n",
       "1988               15\n",
       "1989               17\n",
       "1990               16\n",
       "1991               41\n",
       "1992               43\n",
       "1993               60\n",
       "1994              121\n",
       "1995              219\n",
       "1996              263\n",
       "1997              289\n",
       "1998              379\n",
       "1999              338\n",
       "2000              350\n",
       "2001              482\n",
       "2002              829\n",
       "2003              775\n",
       "2004              762\n",
       "2005              939\n",
       "2006             1006\n",
       "2007             1197\n",
       "2008             1427\n",
       "2009             1426\n",
       "2010             1255\n",
       "2011             1136\n",
       "2012              653\n",
       "2013              544\n",
       "2014              581\n",
       "2015              606\n",
       "2016              502"
      ]
     },
     "metadata": {},
     "output_type": "display_data"
    }
   ],
   "source": [
    "display(df.pivot_table(index = 'year_of_release', values = 'name', aggfunc = 'count'))"
   ]
  },
  {
   "cell_type": "code",
   "execution_count": 48,
   "metadata": {},
   "outputs": [
    {
     "data": {
      "image/png": "[encoded data removed]",
      "text/plain": [
       "<Figure size 432x288 with 1 Axes>"
      ]
     },
     "metadata": {
      "needs_background": "light"
     },
     "output_type": "display_data"
    }
   ],
   "source": [
    "df.groupby('year_of_release')['name'].count().plot(marker='o', grid=True)\n",
    "\n",
    "plt.xlabel(r'Год выпуска игры')\n",
    "plt.ylabel(r'Количество выпущенных игр')\n",
    "plt.title(r'Зависимость количества выпущенных игр от года выпуска')\n",
    "plt.show()"
   ]
  },
  {
   "cell_type": "markdown",
   "metadata": {},
   "source": [
    "С 1980 по 1993 года выпускалось небольшое количество игр - до 100 ежегодно, что объясняется тем, что только 1980 год стал отправной точкой для по-настоящему доступных домашних компьютеров и появления портативных карманных игровых устройств.\n",
    "\n",
    "Из полученных данных видно то, что начиная с 1993 года, количество выпускаемых игр начало стремительно расти.  Это связано с тем, что в начале 90-х годов произошли заметные инновации в компьютерных играх - переход от растровой графики к полностью полигональному 3D, снижение популярности аркадных игр и появление нескольких новых жанров - шутер от первого лица, стратегия в реальном времени и MMO. \n",
    "\n",
    "К 2008 году количество выпускаемых игр достигло максимального значения - 1427, затем количество пошло на спад, и к 2015 году количество игр было уже более, чем в 2 раза меньше, по сравнению с 2008 годом.\n",
    "\n",
    "Такая динамика объясняется различными уровнями технологического развития, доступности ПК, игровых консолей, приставок и т.д., появлением новых жанров игр, а также различным уровнем популярности игр в целом.\n",
    "\n",
    "\n",
    "По этой причине было бы некорректно при при последующем анализе и прогнозировании продаж на последующие периоды использовать данные за ранние годы. Поэтому в дальнейшем будем рассматривать периоды, когда количество выпускаемых игр превысило 300 шт./год, - с 1998 по 2016 года.\n"
   ]
  },
  {
   "cell_type": "markdown",
   "metadata": {},
   "source": [
    "### Анализ продаж по платформам\n"
   ]
  },
  {
   "cell_type": "markdown",
   "metadata": {},
   "source": [
    "Определим, как менялись продажи игр по платформам. Для этого выделим платформы с наибольшими суммарными продажами и построим для них распределение по годам."
   ]
  },
  {
   "cell_type": "code",
   "execution_count": 49,
   "metadata": {},
   "outputs": [
    {
     "data": {
      "text/plain": [
       "platform\n",
       "PS2     1233.56\n",
       "X360     961.24\n",
       "PS3      931.34\n",
       "Wii      891.18\n",
       "DS       802.78\n",
       "PS       727.58\n",
       "Name: total_sales, dtype: float64"
      ]
     },
     "metadata": {},
     "output_type": "display_data"
    }
   ],
   "source": [
    "platforms_groupped = df.groupby('platform')['total_sales'].sum().sort_values(ascending = False).head(6)\n",
    "display(platforms_groupped)"
   ]
  },
  {
   "cell_type": "code",
   "execution_count": 50,
   "metadata": {},
   "outputs": [
    {
     "data": {
      "image/png": "[encoded data removed]",
      "text/plain": [
       "<Figure size 1296x720 with 6 Axes>"
      ]
     },
     "metadata": {
      "needs_background": "light"
     },
     "output_type": "display_data"
    }
   ],
   "source": [
    "platform_list = ['PS2', 'X360', 'PS3', 'Wii', 'DS', 'PS']\n",
    "\n",
    "i=1\n",
    "plt.figure(figsize=(18,10))\n",
    "\n",
    "for platform in platform_list:\n",
    "    plt.subplot (2,3,i)\n",
    "    df[df['platform'] == platform].groupby('year_of_release')['total_sales'].sum().plot(marker='o', grid = True)\n",
    "    df[df['platform'] == platform].groupby('year_of_release')['name'].count().plot(marker='o', grid = True)\n",
    "    plt.legend(['total_sales', 'games count'])\n",
    "    plt.xlabel(r'Год выпуска игры')\n",
    "    plt.title(platform)\n",
    "    i += 1\n"
   ]
  },
  {
   "cell_type": "markdown",
   "metadata": {},
   "source": [
    "Разберем полученные графики:\n",
    "    \n",
    "* PlayStation (PS): пик продаж для этой платформы приходится на 1998 год. Игры для этой платформы продавались в 1994-2003 годах.\n",
    "* PlayStation 2 (PS2): пик продаж для этой платформы приходится на 2004 год. Игры для этой платформы продавались в 2000-2011 годах.\n",
    "* Nintendo DS (DS): пик продаж для этой платформы приходится на 2007 год. Игры для этой платформы продавались в 2004-2013 годах.\n",
    "* Xbox 360 (X360): пик продаж для этой платформы приходится на 2010 год. Игры для этой платформы продавались в 2005-2016 годах.\n",
    "* Nintendo Wii (Wii): пик продаж для этой платформы приходится на 2009 год. Игры для этой платформы продавались в 2006-2016 годах.\n",
    "* PlayStation 3 (PS3): пик продаж для этой платформы приходится на 2011 год. Игры для этой платформы продавались в 2006-2016 годах.\n",
    "\n",
    "Исходя из этого, можно сделать вывод о том, что если раньше новые популярные платформы появлялись через 6 лет, то ближе к 2006 году, этот промежуток сократился до года.\n",
    "По каждой из рассмотренных платформ пик суммарных продаж достигался через 3-5 лет после их выхода. В среднем игры на одной платформе выпускались в течение 10 лет. \n",
    "\n",
    "Также видно, что на графике распределения суммарных продаж по годам для платформы DS имеется выброс, относящийся к 1985 году (сама консоль была выпущена в 2004 году)."
   ]
  },
  {
   "cell_type": "markdown",
   "metadata": {},
   "source": [
    "### Определение актуального периода для анализа данных"
   ]
  },
  {
   "cell_type": "markdown",
   "metadata": {},
   "source": [
    "Для построения прогноза на 2017 год необходимо учитывать только данные за актуальный период. В предыдущем пункте мы пришли к выводу о том, что по многим причинам (в основном связанным с недостаточным развитием игровой индустрии на тот момент) данные, относящиеся к ранним периодам необходимо отброcить, и использовать в работе данные с 1998 по 2016 года.\n",
    "\n",
    "Также с учетом того, что время жизни платформы составляет примерно 10-11 лет, а пик суммарных продаж достигается примерно через 3-5 лет, еще немного урежем актуальный период и отберем данные от 2013 года."
   ]
  },
  {
   "cell_type": "code",
   "execution_count": 51,
   "metadata": {},
   "outputs": [],
   "source": [
    "actual_df = df.query('year_of_release > 2012')"
   ]
  },
  {
   "cell_type": "markdown",
   "metadata": {},
   "source": [
    "### Отбор потенциально прибыльных платформ"
   ]
  },
  {
   "cell_type": "markdown",
   "metadata": {},
   "source": [
    "Выведем информацию об объемах суммарных продаж за рассматриваемый период времени для каждой платформы."
   ]
  },
  {
   "cell_type": "code",
   "execution_count": 52,
   "metadata": {},
   "outputs": [
    {
     "data": {
      "text/html": [
       "<div>\n",
       "<style scoped>\n",
       "    .dataframe tbody tr th:only-of-type {\n",
       "        vertical-align: middle;\n",
       "    }\n",
       "\n",
       "    .dataframe tbody tr th {\n",
       "        vertical-align: top;\n",
       "    }\n",
       "\n",
       "    .dataframe thead th {\n",
       "        text-align: right;\n",
       "    }\n",
       "</style>\n",
       "<table border=\"1\" class=\"dataframe\">\n",
       "  <thead>\n",
       "    <tr style=\"text-align: right;\">\n",
       "      <th></th>\n",
       "      <th>total_sales</th>\n",
       "    </tr>\n",
       "    <tr>\n",
       "      <th>platform</th>\n",
       "      <th></th>\n",
       "    </tr>\n",
       "  </thead>\n",
       "  <tbody>\n",
       "    <tr>\n",
       "      <th>PS4</th>\n",
       "      <td>314.14</td>\n",
       "    </tr>\n",
       "    <tr>\n",
       "      <th>PS3</th>\n",
       "      <td>181.43</td>\n",
       "    </tr>\n",
       "    <tr>\n",
       "      <th>XOne</th>\n",
       "      <td>159.32</td>\n",
       "    </tr>\n",
       "    <tr>\n",
       "      <th>3DS</th>\n",
       "      <td>143.25</td>\n",
       "    </tr>\n",
       "    <tr>\n",
       "      <th>X360</th>\n",
       "      <td>136.80</td>\n",
       "    </tr>\n",
       "    <tr>\n",
       "      <th>WiiU</th>\n",
       "      <td>64.63</td>\n",
       "    </tr>\n",
       "    <tr>\n",
       "      <th>PC</th>\n",
       "      <td>39.43</td>\n",
       "    </tr>\n",
       "    <tr>\n",
       "      <th>PSV</th>\n",
       "      <td>32.99</td>\n",
       "    </tr>\n",
       "    <tr>\n",
       "      <th>Wii</th>\n",
       "      <td>13.66</td>\n",
       "    </tr>\n",
       "    <tr>\n",
       "      <th>PSP</th>\n",
       "      <td>3.50</td>\n",
       "    </tr>\n",
       "    <tr>\n",
       "      <th>DS</th>\n",
       "      <td>1.54</td>\n",
       "    </tr>\n",
       "  </tbody>\n",
       "</table>\n",
       "</div>"
      ],
      "text/plain": [
       "          total_sales\n",
       "platform             \n",
       "PS4            314.14\n",
       "PS3            181.43\n",
       "XOne           159.32\n",
       "3DS            143.25\n",
       "X360           136.80\n",
       "WiiU            64.63\n",
       "PC              39.43\n",
       "PSV             32.99\n",
       "Wii             13.66\n",
       "PSP              3.50\n",
       "DS               1.54"
      ]
     },
     "execution_count": 52,
     "metadata": {},
     "output_type": "execute_result"
    }
   ],
   "source": [
    "(actual_df.pivot_table(index=['platform'], \n",
    "                       values = 'total_sales', \n",
    "                       aggfunc='sum')).sort_values(by = 'total_sales', \n",
    "                                                   ascending = False)"
   ]
  },
  {
   "cell_type": "markdown",
   "metadata": {},
   "source": [
    "Самыми прибыльными за рассматриваемый период оказалась платформы PS4, PS3, XOne, 3DS и X360. Но считать их потенциально прибыльными для будущего периода исходя только из этого фактора некорректно, так как темп роста продаж мог замедлиться или вообще упасть до 0 ближе к 2016 году."
   ]
  },
  {
   "cell_type": "markdown",
   "metadata": {},
   "source": [
    "Для того, чтобы отобрать потенциально прибыльные платформы, посмотрим, как менялось количество выпускаемых игр и общая прибыль за рассматриваемый период времени для каждой платформы."
   ]
  },
  {
   "cell_type": "code",
   "execution_count": 53,
   "metadata": {},
   "outputs": [
    {
     "data": {
      "image/png": "[encoded data removed]",
      "text/plain": [
       "<Figure size 1080x2160 with 11 Axes>"
      ]
     },
     "metadata": {
      "needs_background": "light"
     },
     "output_type": "display_data"
    }
   ],
   "source": [
    "platforms = actual_df['platform'].unique()\n",
    "j=1\n",
    "\n",
    "plt.figure(figsize=(15,30))                   \n",
    "for value in platforms:\n",
    "    plt.subplot (6,2,j)\n",
    "    actual_df[actual_df['platform'] == value].groupby('year_of_release')['total_sales'].sum().plot(marker='o', grid = True)\n",
    "    actual_df[actual_df['platform'] == value].groupby('year_of_release')['name'].count().plot(marker='o', grid = True)\n",
    "  \n",
    "    plt.legend(['total_sales', 'games count'])\n",
    "    plt.xlabel(r'Год выпуска игры')\n",
    "    plt.title(value)  \n",
    "    \n",
    "    j += 1\n",
    "           \n",
    "    \n"
   ]
  },
  {
   "cell_type": "markdown",
   "metadata": {},
   "source": [
    "Дополнительно построим график «ящик с усами» по глобальным продажам игр в разбивке по самым перспективным платформам."
   ]
  },
  {
   "cell_type": "code",
   "execution_count": 54,
   "metadata": {},
   "outputs": [
    {
     "data": {
      "text/plain": [
       "(0.0, 3.0)"
      ]
     },
     "execution_count": 54,
     "metadata": {},
     "output_type": "execute_result"
    },
    {
     "data": {
      "image/png": "[encoded data removed]",
      "text/plain": [
       "<Figure size 864x360 with 1 Axes>"
      ]
     },
     "metadata": {
      "needs_background": "light"
     },
     "output_type": "display_data"
    }
   ],
   "source": [
    "top_platforms = actual_df[(actual_df['platform'] == 'PS4') | (actual_df['platform'] == 'XOne') | (actual_df['platform'] == 'PSV')]\n",
    "\n",
    "plt.figure(figsize=(12,5))\n",
    "sns.boxplot(x = top_platforms['platform'], y = top_platforms['total_sales'])\n",
    "plt.title('Диаграмма размаха для самых перспективных платформ')\n",
    "plt.ylim(0, 3)"
   ]
  },
  {
   "cell_type": "markdown",
   "metadata": {},
   "source": [
    "Видно, что практически во всех распределениях для каждой платформы имеются длинные хвосты с высокими значениями, то есть среднее для таких распределений будет куда выше, чем медианное значение.\n",
    "\n",
    "Распределения для PS4 и XOne похожи, медианы находятся практически на одном уровне, размах \"усов\" тоже практически совпадает. Для PSV медиана чуть меньше, как и размах \"усов\".\n",
    "\n",
    "\n",
    "Исходя из этого, можно сделать вывод о том, что для планирования рекламной кампании на 2017, стоит выбрать платформы PS4 или XOne.\n"
   ]
  },
  {
   "cell_type": "markdown",
   "metadata": {},
   "source": [
    "### Влияние на  продажи внутри одной платформы отзывов пользователей и критиков\n"
   ]
  },
  {
   "cell_type": "markdown",
   "metadata": {},
   "source": [
    "Необходимо понимать, как объемы продаж и отзывы пользователей/критиков зависят друг от друга. \n",
    "Для начала построим диграмму рассеяния для этих величин внутри платформы Xbox One.\n"
   ]
  },
  {
   "cell_type": "code",
   "execution_count": 55,
   "metadata": {},
   "outputs": [
    {
     "data": {
      "image/png": "[encoded data removed]",
      "text/plain": [
       "<Figure size 432x288 with 1 Axes>"
      ]
     },
     "metadata": {
      "needs_background": "light"
     },
     "output_type": "display_data"
    },
    {
     "data": {
      "image/png": "[encoded data removed]",
      "text/plain": [
       "<Figure size 432x288 with 1 Axes>"
      ]
     },
     "metadata": {
      "needs_background": "light"
     },
     "output_type": "display_data"
    }
   ],
   "source": [
    "actual_df.query('platform == \"XOne\"').plot(x='critic_score', y='total_sales', kind='scatter', alpha=0.5, grid = True)\n",
    "plt.title(r'Диаграмма рассеяния для суммарных продаж и отзывов критиков')\n",
    "plt.show()  \n",
    "\n",
    "actual_df.query('platform == \"XOne\"').plot(x='user_score', y='total_sales', kind='scatter', alpha=0.5, grid = True)\n",
    "plt.title(r'Диаграмма рассеяния для суммарных продаж и отзывов пользователей')\n",
    "plt.show()  "
   ]
  },
  {
   "cell_type": "markdown",
   "metadata": {},
   "source": [
    "По диаграммам видно, что между объемами продаж и отзывами пользователей прослеживается очень слабая связь - с ростом продаж пользовательские оценки незначительно увеличиваются, на первой же диаграмме прослеживается меньшее количество выбросов и видна более четкая связь между оценками критиков и суммарными продажами игр для рассматриваемой платформы.\n",
    "\n",
    "Оценим зависимости, рассчитав коэффициенты корреляции Спирмена, так как на него минимально влияют имеющиеся выбросы."
   ]
  },
  {
   "cell_type": "code",
   "execution_count": 56,
   "metadata": {},
   "outputs": [
    {
     "name": "stdout",
     "output_type": "stream",
     "text": [
      "Коэфициент корреляции продаж и оценки критиков: 0.53\n",
      "Коэфициент корреляции продаж и оценки пользователей: -0.10\n"
     ]
    }
   ],
   "source": [
    "print('Коэфициент корреляции продаж и оценки критиков:', \"{:.2f}\".format(actual_df.query('platform == \"XOne\"')['total_sales'].corr(actual_df.query('platform == \"XOne\"')['critic_score'], method='spearman')))\n",
    "print('Коэфициент корреляции продаж и оценки пользователей:', \"{:.2f}\".format(actual_df.query('platform == \"XOne\"')['total_sales'].corr(actual_df.query('platform == \"XOne\"')['user_score'], method='spearman')))"
   ]
  },
  {
   "cell_type": "markdown",
   "metadata": {},
   "source": [
    "Получили, что между суммарными продажами и оценками критиков имеется положительная взаимосвязь - продажи растут с увеличением оценки критиков. Между продажами и оценками пользователей корреляция отсутсвует.\n",
    "\n",
    "Проверим полученное, оценив взаимосвязи для двух других популярных платформ."
   ]
  },
  {
   "cell_type": "code",
   "execution_count": 57,
   "metadata": {},
   "outputs": [
    {
     "data": {
      "image/png": "[encoded data removed]",
      "text/plain": [
       "<Figure size 432x288 with 1 Axes>"
      ]
     },
     "metadata": {
      "needs_background": "light"
     },
     "output_type": "display_data"
    },
    {
     "data": {
      "image/png": "[encoded data removed]",
      "text/plain": [
       "<Figure size 432x288 with 1 Axes>"
      ]
     },
     "metadata": {
      "needs_background": "light"
     },
     "output_type": "display_data"
    },
    {
     "name": "stdout",
     "output_type": "stream",
     "text": [
      "PS4 - коэфициент корреляции продаж и оценки критиков: 0.51\n",
      "PS4 - коэфициент корреляции продаж и оценки пользователей: -0.03 \n",
      "\n"
     ]
    },
    {
     "data": {
      "image/png": "[encoded data removed]",
      "text/plain": [
       "<Figure size 432x288 with 1 Axes>"
      ]
     },
     "metadata": {
      "needs_background": "light"
     },
     "output_type": "display_data"
    },
    {
     "data": {
      "image/png": "[encoded data removed]",
      "text/plain": [
       "<Figure size 432x288 with 1 Axes>"
      ]
     },
     "metadata": {
      "needs_background": "light"
     },
     "output_type": "display_data"
    },
    {
     "name": "stdout",
     "output_type": "stream",
     "text": [
      "PSV - коэфициент корреляции продаж и оценки критиков: 0.28\n",
      "PSV - коэфициент корреляции продаж и оценки пользователей: 0.11 \n",
      "\n"
     ]
    }
   ],
   "source": [
    "for platform in ['PS4', 'PSV']:\n",
    "    actual_df[actual_df[\"platform\"] == platform].plot(x='critic_score', y='total_sales', kind='scatter', alpha=0.5, grid = True)\n",
    "    plt.title(platform)\n",
    "    plt.show() \n",
    "    \n",
    "    actual_df[actual_df[\"platform\"] == platform].plot(x='user_score', y='total_sales', kind='scatter', alpha=0.5, grid = True)\n",
    "    plt.title(platform)\n",
    "    plt.show() \n",
    "    \n",
    "    print(platform, '- коэфициент корреляции продаж и оценки критиков:', \"{:.2f}\".format(actual_df[actual_df[\"platform\"] == platform]['total_sales'].corr(actual_df[actual_df[\"platform\"] == platform]['critic_score'], method='spearman')))\n",
    "    print(platform, '- коэфициент корреляции продаж и оценки пользователей:', \"{:.2f}\".format(actual_df[actual_df[\"platform\"] == platform]['total_sales'].corr(actual_df[actual_df[\"platform\"] == platform]['user_score'], method='spearman')), '\\n')"
   ]
  },
  {
   "cell_type": "markdown",
   "metadata": {},
   "source": [
    "Получаем, что действительно объем суммарных продаж растет с увеличением оценок критиков, но связь нельзя назвать сильной. \n",
    "Между объемами продаж и оценками пользователей связь отстуствует, что можно объяснить тем, что пользовательские оценки могут быть достаточно субъективными по сравнению с оценками критиков.\n"
   ]
  },
  {
   "cell_type": "markdown",
   "metadata": {},
   "source": [
    "### Анализ распределения игр по жанрам"
   ]
  },
  {
   "cell_type": "markdown",
   "metadata": {},
   "source": [
    "Для начала выведем сводную таблицу с информацией о суммарных продажах игр, их количестве для каждого жанра и медианные продажи игр."
   ]
  },
  {
   "cell_type": "code",
   "execution_count": 58,
   "metadata": {},
   "outputs": [
    {
     "data": {
      "text/html": [
       "<div>\n",
       "<style scoped>\n",
       "    .dataframe tbody tr th:only-of-type {\n",
       "        vertical-align: middle;\n",
       "    }\n",
       "\n",
       "    .dataframe tbody tr th {\n",
       "        vertical-align: top;\n",
       "    }\n",
       "\n",
       "    .dataframe thead th {\n",
       "        text-align: right;\n",
       "    }\n",
       "</style>\n",
       "<table border=\"1\" class=\"dataframe\">\n",
       "  <thead>\n",
       "    <tr style=\"text-align: right;\">\n",
       "      <th></th>\n",
       "      <th>count</th>\n",
       "      <th>median</th>\n",
       "      <th>sum</th>\n",
       "    </tr>\n",
       "    <tr>\n",
       "      <th>genre</th>\n",
       "      <th></th>\n",
       "      <th></th>\n",
       "      <th></th>\n",
       "    </tr>\n",
       "  </thead>\n",
       "  <tbody>\n",
       "    <tr>\n",
       "      <th>Shooter</th>\n",
       "      <td>187</td>\n",
       "      <td>0.450</td>\n",
       "      <td>232.98</td>\n",
       "    </tr>\n",
       "    <tr>\n",
       "      <th>Sports</th>\n",
       "      <td>214</td>\n",
       "      <td>0.240</td>\n",
       "      <td>150.65</td>\n",
       "    </tr>\n",
       "    <tr>\n",
       "      <th>Platform</th>\n",
       "      <td>74</td>\n",
       "      <td>0.225</td>\n",
       "      <td>42.63</td>\n",
       "    </tr>\n",
       "    <tr>\n",
       "      <th>Role-Playing</th>\n",
       "      <td>292</td>\n",
       "      <td>0.125</td>\n",
       "      <td>145.89</td>\n",
       "    </tr>\n",
       "    <tr>\n",
       "      <th>Fighting</th>\n",
       "      <td>80</td>\n",
       "      <td>0.125</td>\n",
       "      <td>35.31</td>\n",
       "    </tr>\n",
       "    <tr>\n",
       "      <th>Racing</th>\n",
       "      <td>85</td>\n",
       "      <td>0.120</td>\n",
       "      <td>39.89</td>\n",
       "    </tr>\n",
       "    <tr>\n",
       "      <th>Action</th>\n",
       "      <td>766</td>\n",
       "      <td>0.110</td>\n",
       "      <td>321.87</td>\n",
       "    </tr>\n",
       "    <tr>\n",
       "      <th>Simulation</th>\n",
       "      <td>62</td>\n",
       "      <td>0.100</td>\n",
       "      <td>21.76</td>\n",
       "    </tr>\n",
       "    <tr>\n",
       "      <th>Misc</th>\n",
       "      <td>155</td>\n",
       "      <td>0.100</td>\n",
       "      <td>62.82</td>\n",
       "    </tr>\n",
       "    <tr>\n",
       "      <th>Strategy</th>\n",
       "      <td>56</td>\n",
       "      <td>0.080</td>\n",
       "      <td>10.08</td>\n",
       "    </tr>\n",
       "    <tr>\n",
       "      <th>Puzzle</th>\n",
       "      <td>17</td>\n",
       "      <td>0.060</td>\n",
       "      <td>3.17</td>\n",
       "    </tr>\n",
       "    <tr>\n",
       "      <th>Adventure</th>\n",
       "      <td>245</td>\n",
       "      <td>0.030</td>\n",
       "      <td>23.64</td>\n",
       "    </tr>\n",
       "  </tbody>\n",
       "</table>\n",
       "</div>"
      ],
      "text/plain": [
       "              count  median     sum\n",
       "genre                              \n",
       "Shooter         187   0.450  232.98\n",
       "Sports          214   0.240  150.65\n",
       "Platform         74   0.225   42.63\n",
       "Role-Playing    292   0.125  145.89\n",
       "Fighting         80   0.125   35.31\n",
       "Racing           85   0.120   39.89\n",
       "Action          766   0.110  321.87\n",
       "Simulation       62   0.100   21.76\n",
       "Misc            155   0.100   62.82\n",
       "Strategy         56   0.080   10.08\n",
       "Puzzle           17   0.060    3.17\n",
       "Adventure       245   0.030   23.64"
      ]
     },
     "execution_count": 58,
     "metadata": {},
     "output_type": "execute_result"
    }
   ],
   "source": [
    "(actual_df.pivot_table(index = 'genre', \n",
    "                       values = 'total_sales',\n",
    "                       aggfunc = ('sum','count','median'))).sort_values(by='median',\n",
    "                                                                        ascending=False)"
   ]
  },
  {
   "cell_type": "markdown",
   "metadata": {},
   "source": [
    "Самые прибыльные жанры - экшен-игры, шутеры и спортивные симуляторы.\n",
    "Наименьшей прибыльностью отличаются головоломки, стратегии и симуляторы.\n",
    "\n",
    "Больше всего выпускается игр в таких жанрах, как экшен, РПГ и квесты, меньше всего выходит симуляторов, стратегий и головоломок.\n",
    "\n",
    "Если же рассматривать медианные значения продаж, в топ-3 попали такие жанры, как шутеры, спортивные симуляторы и платформеры, в антитоп - стратегии, головоломки и квесты.\n"
   ]
  },
  {
   "cell_type": "markdown",
   "metadata": {},
   "source": [
    "### Вывод"
   ]
  },
  {
   "cell_type": "markdown",
   "metadata": {},
   "source": [
    "В ходе проведение анализа данных было получено следующее:\n",
    "\n",
    "1) Рост числа выпускаемых игр начиная с 1980 года объясняется различным уровнем технологического развития, различной доступностью ПК, игровых консолей, приставок и т.д., появлением новых жанров игр, а также различным уровнем популярности игр в целом.  К 2008 году количество выпускаемых игр достигло максимального значения - 1427, затем оно пошло на спад, и к 2015 году количество игр было уже более, чем в 2 раза меньше, по сравнению с 2008 годом.\n",
    "\n",
    "2) Было определено, что ближе к 2006 году новые платформы начали появляться примерно раз в год. Пик суммарных продаж достигался через 3-5 лет после их выхода. В среднем игры на одной платформе выпускались в течение 10 лет. \n",
    "\n",
    "3) Для построения прогноза на 2017 год необходимо учитывать только данные за актуальный период. По причине низкого развития игровой индустрии в ранние годы и с учетом среднего \"времени жизни\" платформы (10-11 лет) было решено рассматривать период от 2006 до 2016 года.\n",
    "\n",
    "4) Были выделены 3 потенциально прибыльные платформы: PlayStation 4, Xbox One и PlayStation Vita.\n",
    "\n",
    "5) Оценили, харктер влияния оценок критиков и пользователей на продажи игр. Получили, что объем суммарных продаж растет с увеличением оценок критиков, но связь нельзя назвать сильной. Между объемами продаж и оценками пользователей связь отстуствует, что можно объяснить тем, что пользовательские оценки могут быть достаточно субъективными по сравнению с оценками критиков.\n",
    "\n",
    "6) Были выделены самые прибыльные жанры - экшен-игры, шутеры и спортивные симуляторы. Максимальные медианные значения продаж игр в разбивке по жанрам соответствуют шутерам, спортивным симуляторам и платформерам. А больше всего выпускается экшен-игр,РПГ и квестов. "
   ]
  },
  {
   "cell_type": "markdown",
   "metadata": {},
   "source": [
    "## Составление портретов пользователей"
   ]
  },
  {
   "cell_type": "markdown",
   "metadata": {},
   "source": [
    "Определим для пользователя каждого региона (NA, EU, JP):\n",
    "\n",
    "*\tСамые популярные платформы (топ-5)\n",
    "*\tСамые популярные жанры (топ-5)\n",
    "*\tВлияет ли рейтинг ESRB на продажи в отдельном регионе\n"
   ]
  },
  {
   "cell_type": "code",
   "execution_count": 59,
   "metadata": {},
   "outputs": [
    {
     "name": "stdout",
     "output_type": "stream",
     "text": [
      "\n",
      "\u001b[1mТОП-5 популярных платформ в каждом регионе:\u001b[1m\n"
     ]
    },
    {
     "data": {
      "text/html": [
       "<div>\n",
       "<style scoped>\n",
       "    .dataframe tbody tr th:only-of-type {\n",
       "        vertical-align: middle;\n",
       "    }\n",
       "\n",
       "    .dataframe tbody tr th {\n",
       "        vertical-align: top;\n",
       "    }\n",
       "\n",
       "    .dataframe thead th {\n",
       "        text-align: right;\n",
       "    }\n",
       "</style>\n",
       "<table border=\"1\" class=\"dataframe\">\n",
       "  <thead>\n",
       "    <tr style=\"text-align: right;\">\n",
       "      <th></th>\n",
       "      <th>na_sales</th>\n",
       "    </tr>\n",
       "    <tr>\n",
       "      <th>platform</th>\n",
       "      <th></th>\n",
       "    </tr>\n",
       "  </thead>\n",
       "  <tbody>\n",
       "    <tr>\n",
       "      <th>PS4</th>\n",
       "      <td>108.74</td>\n",
       "    </tr>\n",
       "    <tr>\n",
       "      <th>XOne</th>\n",
       "      <td>93.12</td>\n",
       "    </tr>\n",
       "    <tr>\n",
       "      <th>X360</th>\n",
       "      <td>81.66</td>\n",
       "    </tr>\n",
       "    <tr>\n",
       "      <th>PS3</th>\n",
       "      <td>63.50</td>\n",
       "    </tr>\n",
       "    <tr>\n",
       "      <th>3DS</th>\n",
       "      <td>38.20</td>\n",
       "    </tr>\n",
       "  </tbody>\n",
       "</table>\n",
       "</div>"
      ],
      "text/plain": [
       "          na_sales\n",
       "platform          \n",
       "PS4         108.74\n",
       "XOne         93.12\n",
       "X360         81.66\n",
       "PS3          63.50\n",
       "3DS          38.20"
      ]
     },
     "metadata": {},
     "output_type": "display_data"
    },
    {
     "data": {
      "text/html": [
       "<div>\n",
       "<style scoped>\n",
       "    .dataframe tbody tr th:only-of-type {\n",
       "        vertical-align: middle;\n",
       "    }\n",
       "\n",
       "    .dataframe tbody tr th {\n",
       "        vertical-align: top;\n",
       "    }\n",
       "\n",
       "    .dataframe thead th {\n",
       "        text-align: right;\n",
       "    }\n",
       "</style>\n",
       "<table border=\"1\" class=\"dataframe\">\n",
       "  <thead>\n",
       "    <tr style=\"text-align: right;\">\n",
       "      <th></th>\n",
       "      <th>eu_sales</th>\n",
       "    </tr>\n",
       "    <tr>\n",
       "      <th>platform</th>\n",
       "      <th></th>\n",
       "    </tr>\n",
       "  </thead>\n",
       "  <tbody>\n",
       "    <tr>\n",
       "      <th>PS4</th>\n",
       "      <td>141.09</td>\n",
       "    </tr>\n",
       "    <tr>\n",
       "      <th>PS3</th>\n",
       "      <td>67.81</td>\n",
       "    </tr>\n",
       "    <tr>\n",
       "      <th>XOne</th>\n",
       "      <td>51.59</td>\n",
       "    </tr>\n",
       "    <tr>\n",
       "      <th>X360</th>\n",
       "      <td>42.52</td>\n",
       "    </tr>\n",
       "    <tr>\n",
       "      <th>3DS</th>\n",
       "      <td>30.96</td>\n",
       "    </tr>\n",
       "  </tbody>\n",
       "</table>\n",
       "</div>"
      ],
      "text/plain": [
       "          eu_sales\n",
       "platform          \n",
       "PS4         141.09\n",
       "PS3          67.81\n",
       "XOne         51.59\n",
       "X360         42.52\n",
       "3DS          30.96"
      ]
     },
     "metadata": {},
     "output_type": "display_data"
    },
    {
     "data": {
      "text/html": [
       "<div>\n",
       "<style scoped>\n",
       "    .dataframe tbody tr th:only-of-type {\n",
       "        vertical-align: middle;\n",
       "    }\n",
       "\n",
       "    .dataframe tbody tr th {\n",
       "        vertical-align: top;\n",
       "    }\n",
       "\n",
       "    .dataframe thead th {\n",
       "        text-align: right;\n",
       "    }\n",
       "</style>\n",
       "<table border=\"1\" class=\"dataframe\">\n",
       "  <thead>\n",
       "    <tr style=\"text-align: right;\">\n",
       "      <th></th>\n",
       "      <th>jp_sales</th>\n",
       "    </tr>\n",
       "    <tr>\n",
       "      <th>platform</th>\n",
       "      <th></th>\n",
       "    </tr>\n",
       "  </thead>\n",
       "  <tbody>\n",
       "    <tr>\n",
       "      <th>3DS</th>\n",
       "      <td>67.81</td>\n",
       "    </tr>\n",
       "    <tr>\n",
       "      <th>PS3</th>\n",
       "      <td>23.35</td>\n",
       "    </tr>\n",
       "    <tr>\n",
       "      <th>PSV</th>\n",
       "      <td>18.59</td>\n",
       "    </tr>\n",
       "    <tr>\n",
       "      <th>PS4</th>\n",
       "      <td>15.96</td>\n",
       "    </tr>\n",
       "    <tr>\n",
       "      <th>WiiU</th>\n",
       "      <td>10.88</td>\n",
       "    </tr>\n",
       "  </tbody>\n",
       "</table>\n",
       "</div>"
      ],
      "text/plain": [
       "          jp_sales\n",
       "platform          \n",
       "3DS          67.81\n",
       "PS3          23.35\n",
       "PSV          18.59\n",
       "PS4          15.96\n",
       "WiiU         10.88"
      ]
     },
     "metadata": {},
     "output_type": "display_data"
    },
    {
     "name": "stdout",
     "output_type": "stream",
     "text": [
      "\n",
      "\u001b[1mТОП-5 популярных жаров в каждом регионе:\u001b[1m\n"
     ]
    },
    {
     "data": {
      "text/html": [
       "<div>\n",
       "<style scoped>\n",
       "    .dataframe tbody tr th:only-of-type {\n",
       "        vertical-align: middle;\n",
       "    }\n",
       "\n",
       "    .dataframe tbody tr th {\n",
       "        vertical-align: top;\n",
       "    }\n",
       "\n",
       "    .dataframe thead th {\n",
       "        text-align: right;\n",
       "    }\n",
       "</style>\n",
       "<table border=\"1\" class=\"dataframe\">\n",
       "  <thead>\n",
       "    <tr style=\"text-align: right;\">\n",
       "      <th></th>\n",
       "      <th>na_sales</th>\n",
       "    </tr>\n",
       "    <tr>\n",
       "      <th>genre</th>\n",
       "      <th></th>\n",
       "    </tr>\n",
       "  </thead>\n",
       "  <tbody>\n",
       "    <tr>\n",
       "      <th>Action</th>\n",
       "      <td>126.05</td>\n",
       "    </tr>\n",
       "    <tr>\n",
       "      <th>Shooter</th>\n",
       "      <td>109.74</td>\n",
       "    </tr>\n",
       "    <tr>\n",
       "      <th>Sports</th>\n",
       "      <td>65.27</td>\n",
       "    </tr>\n",
       "    <tr>\n",
       "      <th>Role-Playing</th>\n",
       "      <td>46.40</td>\n",
       "    </tr>\n",
       "    <tr>\n",
       "      <th>Misc</th>\n",
       "      <td>27.49</td>\n",
       "    </tr>\n",
       "  </tbody>\n",
       "</table>\n",
       "</div>"
      ],
      "text/plain": [
       "              na_sales\n",
       "genre                 \n",
       "Action          126.05\n",
       "Shooter         109.74\n",
       "Sports           65.27\n",
       "Role-Playing     46.40\n",
       "Misc             27.49"
      ]
     },
     "metadata": {},
     "output_type": "display_data"
    },
    {
     "data": {
      "text/html": [
       "<div>\n",
       "<style scoped>\n",
       "    .dataframe tbody tr th:only-of-type {\n",
       "        vertical-align: middle;\n",
       "    }\n",
       "\n",
       "    .dataframe tbody tr th {\n",
       "        vertical-align: top;\n",
       "    }\n",
       "\n",
       "    .dataframe thead th {\n",
       "        text-align: right;\n",
       "    }\n",
       "</style>\n",
       "<table border=\"1\" class=\"dataframe\">\n",
       "  <thead>\n",
       "    <tr style=\"text-align: right;\">\n",
       "      <th></th>\n",
       "      <th>eu_sales</th>\n",
       "    </tr>\n",
       "    <tr>\n",
       "      <th>genre</th>\n",
       "      <th></th>\n",
       "    </tr>\n",
       "  </thead>\n",
       "  <tbody>\n",
       "    <tr>\n",
       "      <th>Action</th>\n",
       "      <td>118.13</td>\n",
       "    </tr>\n",
       "    <tr>\n",
       "      <th>Shooter</th>\n",
       "      <td>87.86</td>\n",
       "    </tr>\n",
       "    <tr>\n",
       "      <th>Sports</th>\n",
       "      <td>60.52</td>\n",
       "    </tr>\n",
       "    <tr>\n",
       "      <th>Role-Playing</th>\n",
       "      <td>36.97</td>\n",
       "    </tr>\n",
       "    <tr>\n",
       "      <th>Racing</th>\n",
       "      <td>20.19</td>\n",
       "    </tr>\n",
       "  </tbody>\n",
       "</table>\n",
       "</div>"
      ],
      "text/plain": [
       "              eu_sales\n",
       "genre                 \n",
       "Action          118.13\n",
       "Shooter          87.86\n",
       "Sports           60.52\n",
       "Role-Playing     36.97\n",
       "Racing           20.19"
      ]
     },
     "metadata": {},
     "output_type": "display_data"
    },
    {
     "data": {
      "text/html": [
       "<div>\n",
       "<style scoped>\n",
       "    .dataframe tbody tr th:only-of-type {\n",
       "        vertical-align: middle;\n",
       "    }\n",
       "\n",
       "    .dataframe tbody tr th {\n",
       "        vertical-align: top;\n",
       "    }\n",
       "\n",
       "    .dataframe thead th {\n",
       "        text-align: right;\n",
       "    }\n",
       "</style>\n",
       "<table border=\"1\" class=\"dataframe\">\n",
       "  <thead>\n",
       "    <tr style=\"text-align: right;\">\n",
       "      <th></th>\n",
       "      <th>jp_sales</th>\n",
       "    </tr>\n",
       "    <tr>\n",
       "      <th>genre</th>\n",
       "      <th></th>\n",
       "    </tr>\n",
       "  </thead>\n",
       "  <tbody>\n",
       "    <tr>\n",
       "      <th>Role-Playing</th>\n",
       "      <td>51.04</td>\n",
       "    </tr>\n",
       "    <tr>\n",
       "      <th>Action</th>\n",
       "      <td>40.49</td>\n",
       "    </tr>\n",
       "    <tr>\n",
       "      <th>Misc</th>\n",
       "      <td>9.20</td>\n",
       "    </tr>\n",
       "    <tr>\n",
       "      <th>Fighting</th>\n",
       "      <td>7.65</td>\n",
       "    </tr>\n",
       "    <tr>\n",
       "      <th>Shooter</th>\n",
       "      <td>6.61</td>\n",
       "    </tr>\n",
       "  </tbody>\n",
       "</table>\n",
       "</div>"
      ],
      "text/plain": [
       "              jp_sales\n",
       "genre                 \n",
       "Role-Playing     51.04\n",
       "Action           40.49\n",
       "Misc              9.20\n",
       "Fighting          7.65\n",
       "Shooter           6.61"
      ]
     },
     "metadata": {},
     "output_type": "display_data"
    }
   ],
   "source": [
    "regions = ['na_sales', 'eu_sales', 'jp_sales']\n",
    "\n",
    "print('\\n'+'\\033[1m' + 'ТОП-5 популярных платформ в каждом регионе:' + '\\033[1m')\n",
    "\n",
    "for region in regions:\n",
    "    display((actual_df.pivot_table(index = 'platform', values = region , aggfunc = 'sum')).sort_values(by = region, ascending = False).head(5))\n",
    "    \n",
    "\n",
    "print('\\n'+'\\033[1m' + 'ТОП-5 популярных жаров в каждом регионе:' + '\\033[1m')\n",
    "\n",
    "for region in regions:\n",
    "    display((actual_df.pivot_table(index = 'genre', values = region , aggfunc = 'sum')).sort_values(by = region, ascending = False).head(5))\n",
    "    "
   ]
  },
  {
   "cell_type": "markdown",
   "metadata": {},
   "source": [
    "Получаем рейтинг платформ для каждого региона:\n",
    "    \n",
    "   * Северная Америка: PlayStation 4, Xbox One, Xbox 360, PlayStation 3, Nintendo 3DS.\n",
    "   * Европа: PlayStation 4, PlayStation 3, Xbox One, Xbox 360, Nintendo 3DS.\n",
    "   * Япония: Nintendo 3DS, PlayStation 3, PlayStation Vita, PlayStation 4, Nintendo WiiU.     \n",
    "    \n",
    "Видно, что для Северной Америки и Европы в топ-5 входят одни и те же платформы, правда, разместившиеся на разных позициях. Типы платформ представлены различные: и Xbox, и PlayStation, и Nintendo. Игроки из этих регионов в основном предпочитают стационарные игровые консоли. \n",
    "\n",
    "В Японии рейтинг представлен японскими платформами Nintendo и PlayStation. Причем в основном игроки предпочитают именно портативные игровые консоли, в отличие от игроков из Америки и Европы. \n",
    "________________\n",
    "\n",
    "\n",
    "Что касается рейтинга самых популярных жанров, для Европы и Северной Америки они снова практически идентичны. Первые строчки заняли экшен-игры, шутеры, спортивные симуляторы и РПГ. Пятое место для пользователей из Европы заняли гонки, для игроков из Америки - игры, сочетающие в себе несколько жанров.\n",
    "   \n",
    "В Японии самым популярным жанром игры оказались РПГ, экшен-игры, игры, сочетающие несколько жанров, файтинги и шутеры."
   ]
  },
  {
   "cell_type": "markdown",
   "metadata": {},
   "source": [
    "Также определим, влияет ли рейтинг ESRB на продажи в отдельном регионе."
   ]
  },
  {
   "cell_type": "code",
   "execution_count": 60,
   "metadata": {},
   "outputs": [
    {
     "data": {
      "image/png": "[encoded data removed]",
      "text/plain": [
       "<Figure size 576x144 with 1 Axes>"
      ]
     },
     "metadata": {
      "needs_background": "light"
     },
     "output_type": "display_data"
    },
    {
     "data": {
      "image/png": "[encoded data removed]",
      "text/plain": [
       "<Figure size 576x144 with 1 Axes>"
      ]
     },
     "metadata": {
      "needs_background": "light"
     },
     "output_type": "display_data"
    },
    {
     "data": {
      "image/png": "[encoded data removed]",
      "text/plain": [
       "<Figure size 576x144 with 1 Axes>"
      ]
     },
     "metadata": {
      "needs_background": "light"
     },
     "output_type": "display_data"
    }
   ],
   "source": [
    "for region in regions:\n",
    "    plt.figure(figsize=(8,2))\n",
    "    region_pivot = ((actual_df.pivot_table(index = 'rating', values = region, aggfunc = 'sum')).sort_values(by = region)).reset_index()\n",
    "    plt.barh(region_pivot['rating'], region_pivot[region])\n",
    "    plt.title(region)\n",
    "    plt.ylabel(r'Рейтинг')\n",
    "    plt.xlabel(r'Миллионы проданных копий')\n",
    "    plt.show()"
   ]
  },
  {
   "cell_type": "markdown",
   "metadata": {},
   "source": [
    "В Северной Америке и Европе рейтинги опять оказались близкими друг к другу.\n",
    "Первые места заняли игры категории М (\"Mature\" - от 17 лет),  E (\"Everyone\" - для всех),последние - Е10+ (\"Everyone 10 and older\" - от 10 лет) и Т (\"Teen\" - от 13 лет).\n",
    "Для Северной Америки игры без указанной категории заняли второе место по числу проданных копий, для Европы - третье.\n",
    "\n",
    "В Японии первое место по количеству проданных копий заняли игры без определенного рейтинга (потому что в Японии действует своя ассоциация по определению возрастного рейтинга игр - CERO). Далее по популярности в отличие от других регонов располагаются игры категорий Т, Е, М и Е10+.\n"
   ]
  },
  {
   "cell_type": "markdown",
   "metadata": {},
   "source": [
    "Если рассматривать вопрос о том, влияет ли рейтинг ESRB на продажи в каждом регионе, можно сказать, что он наибольшим образом влияет на игры, продаваемые в Северной Америке и Европе.\n"
   ]
  },
  {
   "cell_type": "markdown",
   "metadata": {},
   "source": [
    "### Вывод\n"
   ]
  },
  {
   "cell_type": "markdown",
   "metadata": {},
   "source": [
    "В общих чертах опишем портреты пользователей в каждом регионе:\n",
    "\n",
    "* Северная Америка - любители экшен-игр, шутеров, спортивных симуляторов с рейтингоv M и Е, в которые играют на стационарных платформах PS4, XOne, X360.\n",
    "\n",
    "* Европа - типичный игрок, выбирающий также экшен-игры, шутеры и спортивные симуляторы с рейтингами M и Е, выпущенных на стационарных игровых платформах PS4, PS3, XOne.\n",
    "\n",
    "* Япония - среднестатичтические пользователи выбирают портативные игровые консоли: 3DS и PSV, или стационарную платформу PS3. Любимые жанры: РПГ, экшен-игры и misc с возрастным рейтингом T и Е."
   ]
  },
  {
   "cell_type": "markdown",
   "metadata": {},
   "source": [
    "## Проверка гипотез"
   ]
  },
  {
   "cell_type": "markdown",
   "metadata": {},
   "source": [
    "### О равенстве средних пользовательских рейтингов XOne и PC"
   ]
  },
  {
   "cell_type": "markdown",
   "metadata": {},
   "source": [
    "В качестве нулевой примем гипотезу о том, что средние пользовательские рейтинги платформ Xbox One и PC одинаковые.\n",
    "\n",
    "Альтернативная гипотеза - средние пользовательские рейтинги платформ Xbox One и PC различаются."
   ]
  },
  {
   "cell_type": "code",
   "execution_count": 61,
   "metadata": {},
   "outputs": [
    {
     "name": "stdout",
     "output_type": "stream",
     "text": [
      "p-значение: 0.14012658403611503\n",
      "Не получилось отвергнуть нулевую гипотезу\n"
     ]
    }
   ],
   "source": [
    "xone = actual_df[actual_df['platform'] == 'XOne']\n",
    "pc = actual_df[actual_df['platform'] == 'PC']\n",
    "\n",
    "alpha = .05 \n",
    "\n",
    "results = st.ttest_ind(\n",
    "    xone['user_score'], \n",
    "    pc['user_score'], nan_policy='omit')\n",
    "\n",
    "print('p-значение:', results.pvalue)\n",
    "\n",
    "if results.pvalue < alpha:\n",
    "    print(\"Отвергаем нулевую гипотезу\")\n",
    "else:\n",
    "    print(\"Не получилось отвергнуть нулевую гипотезу\")"
   ]
  },
  {
   "cell_type": "markdown",
   "metadata": {},
   "source": [
    "Получили, что средние пользовательские оценки для Xbox One и PС действительно одинаковые, так как нулевая гипотеза не была отвергнута. "
   ]
  },
  {
   "cell_type": "markdown",
   "metadata": {},
   "source": [
    "### О равенстве средних пользовательских \n"
   ]
  },
  {
   "cell_type": "markdown",
   "metadata": {},
   "source": [
    "В качестве нулевой примем гипотезу о том, что средние пользовательские рейтинги жанров Action и Sports равны.\n",
    "\n",
    "Альтернативная гипотеза - средние пользовательские рейтинги жанров Action и Sports различаются."
   ]
  },
  {
   "cell_type": "code",
   "execution_count": 62,
   "metadata": {},
   "outputs": [
    {
     "name": "stdout",
     "output_type": "stream",
     "text": [
      "p-значение: 1.0517832389139422e-27\n",
      "Отвергаем нулевую гипотезу\n"
     ]
    }
   ],
   "source": [
    "action = actual_df[actual_df['genre'] == 'Action']\n",
    "sports = actual_df[actual_df['genre'] == 'Sports']\n",
    "\n",
    "alpha = .05 \n",
    "\n",
    "results = st.ttest_ind(\n",
    "    action['user_score'], \n",
    "    sports['user_score'], nan_policy='omit')\n",
    "\n",
    "print('p-значение:', results.pvalue)\n",
    "\n",
    "if results.pvalue < alpha:\n",
    "    print(\"Отвергаем нулевую гипотезу\")\n",
    "else:\n",
    "    print(\"Не получилось отвергнуть нулевую гипотезу\")"
   ]
  },
  {
   "cell_type": "markdown",
   "metadata": {},
   "source": [
    " Рассчитанное р-значением оказалось очень небольшим, поэтому нулевая гипотеза нами отверглась.\n",
    "То есть средние пользовательские рейтинги жанров Action и Sports различаются.\n"
   ]
  },
  {
   "cell_type": "markdown",
   "metadata": {},
   "source": [
    "### Вывод"
   ]
  },
  {
   "cell_type": "markdown",
   "metadata": {},
   "source": [
    "По итогам проверки гипотез было получено, что средние пользовательские оценки для платформ Xbox One и PС действительно одинаковые, а средние пользовательские рейтинги жанров Action и Sports различаются.\n"
   ]
  },
  {
   "cell_type": "markdown",
   "metadata": {},
   "source": [
    "## Общий вывод"
   ]
  },
  {
   "cell_type": "markdown",
   "metadata": {},
   "source": [
    "По предоставленным исторические данным о продажах игр, оценкам пользователей и экспертов, жанрам и платформам были выявлены определяющие успешность игры закономерности, что позволяет сделать ставку на потенциально популярный продукт и спланировать рекламные кампании.\n",
    "____________\n",
    "1) На этапе предобработки данных было произведено переименование столбцов, были обработаны пропуски, заменены типы данных и расчитаны суммарные продажи во всех регионах и добавлены в отдельный столбец total_sales. \n",
    " Размер суммарных продаж составил до 82,5 млн проданных копий.\n",
    "\n",
    "2) В ходе проведения анализа данных было определено, что ближе к 2006 году новые платформы начали появляться примерно раз в год. Пик суммарных продаж достигался через 3-5 лет после их выхода. В среднем игры на одной платформе выпускались в течение 10 лет.\n",
    "\n",
    "3) Был выделен актуальный период для построения прогноза на 2017 год. По причине низкого развития игровой индустрии в ранние годы, с учетом среднего \"времени жизни\" платформы (10-11 лет) и времени достижения пика суммарных продаж (3-5 лет) было решено рассматривать период от 2013 до 2016 года.\n",
    "\n",
    "4) Были выделены характеристики потенциально прибыльного продукта. Ему соответсвуют:\n",
    " * платформы: PlayStation 4, Xbox One и PlayStation Vita;\n",
    " * жанры: экшен-игры, шутеры и спортивные симуляторы.\n",
    "\n",
    "5) Произвелась оценка характера влияния определенного критиками и пользователями рейтинга на продажи игр. Получили, что объем суммарных продаж растет с увеличением оценок критиков, но связь нельзя назвать сильной. Между объемами продаж и оценками пользователей связь отстуствует, что можно объяснить тем, что пользовательские оценки могут быть достаточно субъективными по сравнению с оценками критиков.\n",
    "\n",
    "6) Были определены портреты пользователей в каждом регионе:\n",
    "\n",
    "   * Северная Америка - любители экшен-игр, шутеров, спортивных симуляторов с рейтингоv M и Е, в которые играют на стационарных платформах PS4, XOne, X360.\n",
    "\n",
    "   * Европа - игроки, выбирающие экшен-игры, шутеры и спортивные симуляторы с рейтингами M и E, выпущенные на стационарных игровых платформах PS4, PS3, XOne.\n",
    "\n",
    "   * Япония - среднестатичтические пользователи выбирают портативные игровые консоли: 3DS и PSV, или стационарную платформу PS3. Любимые жанры: РПГ, экшен-игры и misc с возрастным рейтингом T и Е.\n",
    "\n",
    "7) По итогам проверки гипотез было получено, что средние пользовательские оценки для платформ Xbox One и PС действительно одинаковые, а средние пользовательские рейтинги жанров Action и Sports различаются.\n",
    "\n",
    "__________\n",
    "**Подводя итог, можно выделить основные характеристики потенциально успешного продукта:**\n",
    "\n",
    "  * *для Северной Америки:*  экшен-игры/шутеры по рейтингу подходящие для всех возрастов, либо для пользователей старше 17 лет, выпускаемые для стационарных игровых консолей Xbox One или PlayStation 4.\n",
    "  \n",
    "  * *для Европы:*  экшен-игры/шутеры по рейтингу подходящие для всех возрастов, либо для пользователей старше 17 лет, выпускаемые для стационарных игровых консолей PlayStation 4 или Xbox One.\n",
    "  \n",
    "  * *для Японии:*  РПГ/экшен-игры, подходящие для всех возрастов, либо для пользователей старше 13 лет, выпускаемые для портативной консоли PlayStation Vita или для стационарных игровых консолей PlayStation 4."
   ]
  }
 ],
 "metadata": {
  "ExecuteTimeLog": [
   {
    "duration": 670,
    "start_time": "2022-01-20T11:45:59.970Z"
   },
   {
    "duration": 12,
    "start_time": "2022-01-20T11:46:28.651Z"
   },
   {
    "duration": 15,
    "start_time": "2022-01-20T11:46:59.292Z"
   },
   {
    "duration": 98,
    "start_time": "2022-01-20T11:47:34.893Z"
   },
   {
    "duration": 5,
    "start_time": "2022-01-20T11:47:49.389Z"
   },
   {
    "duration": 93,
    "start_time": "2022-01-20T11:49:15.259Z"
   },
   {
    "duration": 14,
    "start_time": "2022-01-20T11:49:43.118Z"
   },
   {
    "duration": 8,
    "start_time": "2022-01-20T11:50:50.358Z"
   },
   {
    "duration": 20,
    "start_time": "2022-01-20T11:51:20.648Z"
   },
   {
    "duration": 16,
    "start_time": "2022-01-20T11:51:33.887Z"
   },
   {
    "duration": 30,
    "start_time": "2022-01-20T11:52:11.086Z"
   },
   {
    "duration": 139,
    "start_time": "2022-01-20T11:52:26.737Z"
   },
   {
    "duration": 16,
    "start_time": "2022-01-20T11:53:24.285Z"
   },
   {
    "duration": 86,
    "start_time": "2022-01-20T11:53:46.128Z"
   },
   {
    "duration": 22,
    "start_time": "2022-01-20T11:54:37.415Z"
   },
   {
    "duration": 8,
    "start_time": "2022-01-20T11:55:09.532Z"
   },
   {
    "duration": 304,
    "start_time": "2022-01-20T11:57:20.894Z"
   },
   {
    "duration": 9,
    "start_time": "2022-01-20T11:59:48.112Z"
   },
   {
    "duration": 1376,
    "start_time": "2022-01-20T12:00:05.911Z"
   },
   {
    "duration": 123,
    "start_time": "2022-01-20T12:00:42.416Z"
   },
   {
    "duration": 13,
    "start_time": "2022-01-20T12:02:59.414Z"
   },
   {
    "duration": 5,
    "start_time": "2022-01-20T12:03:37.778Z"
   },
   {
    "duration": 14,
    "start_time": "2022-01-20T12:03:55.535Z"
   },
   {
    "duration": 95,
    "start_time": "2022-01-20T12:07:29.478Z"
   },
   {
    "duration": 55,
    "start_time": "2022-01-20T12:14:30.126Z"
   },
   {
    "duration": 57,
    "start_time": "2022-01-20T12:14:34.694Z"
   },
   {
    "duration": 605,
    "start_time": "2022-01-20T12:15:42.165Z"
   },
   {
    "duration": 3,
    "start_time": "2022-01-20T12:16:11.013Z"
   },
   {
    "duration": 3,
    "start_time": "2022-01-20T12:19:56.871Z"
   },
   {
    "duration": 3,
    "start_time": "2022-01-20T12:20:14.310Z"
   },
   {
    "duration": 53,
    "start_time": "2022-01-20T12:23:11.925Z"
   },
   {
    "duration": 13,
    "start_time": "2022-01-20T12:23:26.147Z"
   },
   {
    "duration": 10,
    "start_time": "2022-01-20T12:23:31.236Z"
   },
   {
    "duration": 5,
    "start_time": "2022-01-20T12:23:32.874Z"
   },
   {
    "duration": 18,
    "start_time": "2022-01-20T12:23:36.795Z"
   },
   {
    "duration": 8,
    "start_time": "2022-01-20T12:23:38.885Z"
   },
   {
    "duration": 15,
    "start_time": "2022-01-20T12:24:17.672Z"
   },
   {
    "duration": 32,
    "start_time": "2022-01-20T12:24:19.093Z"
   },
   {
    "duration": 14,
    "start_time": "2022-01-20T12:24:21.675Z"
   },
   {
    "duration": 24,
    "start_time": "2022-01-20T12:24:22.576Z"
   },
   {
    "duration": 9,
    "start_time": "2022-01-20T12:24:23.011Z"
   },
   {
    "duration": 240,
    "start_time": "2022-01-20T12:24:25.691Z"
   },
   {
    "duration": 9,
    "start_time": "2022-01-20T12:24:28.315Z"
   },
   {
    "duration": 1306,
    "start_time": "2022-01-20T12:24:29.172Z"
   },
   {
    "duration": 12,
    "start_time": "2022-01-20T12:24:31.765Z"
   },
   {
    "duration": 4,
    "start_time": "2022-01-20T12:24:32.611Z"
   },
   {
    "duration": 17,
    "start_time": "2022-01-20T12:24:33.094Z"
   },
   {
    "duration": 4989,
    "start_time": "2022-01-20T12:45:51.087Z"
   },
   {
    "duration": 4250,
    "start_time": "2022-01-20T12:46:20.124Z"
   },
   {
    "duration": 5164,
    "start_time": "2022-01-20T12:46:45.867Z"
   },
   {
    "duration": 5145,
    "start_time": "2022-01-20T12:47:03.297Z"
   },
   {
    "duration": 6786,
    "start_time": "2022-01-20T12:47:23.860Z"
   },
   {
    "duration": 4,
    "start_time": "2022-01-20T12:51:24.323Z"
   },
   {
    "duration": 64,
    "start_time": "2022-01-20T12:51:25.244Z"
   },
   {
    "duration": 13,
    "start_time": "2022-01-20T12:51:25.753Z"
   },
   {
    "duration": 9,
    "start_time": "2022-01-20T12:51:26.184Z"
   },
   {
    "duration": 5,
    "start_time": "2022-01-20T12:51:26.591Z"
   },
   {
    "duration": 13,
    "start_time": "2022-01-20T12:51:27.864Z"
   },
   {
    "duration": 9,
    "start_time": "2022-01-20T12:51:28.579Z"
   },
   {
    "duration": 16,
    "start_time": "2022-01-20T12:51:28.914Z"
   },
   {
    "duration": 28,
    "start_time": "2022-01-20T12:51:29.290Z"
   },
   {
    "duration": 17,
    "start_time": "2022-01-20T12:51:29.983Z"
   },
   {
    "duration": 22,
    "start_time": "2022-01-20T12:51:30.711Z"
   },
   {
    "duration": 10,
    "start_time": "2022-01-20T12:51:31.110Z"
   },
   {
    "duration": 248,
    "start_time": "2022-01-20T12:51:32.375Z"
   },
   {
    "duration": 8,
    "start_time": "2022-01-20T12:51:33.593Z"
   },
   {
    "duration": 1287,
    "start_time": "2022-01-20T12:51:33.846Z"
   },
   {
    "duration": 12,
    "start_time": "2022-01-20T12:51:35.360Z"
   },
   {
    "duration": 6,
    "start_time": "2022-01-20T12:51:36.010Z"
   },
   {
    "duration": 14,
    "start_time": "2022-01-20T12:51:36.545Z"
   },
   {
    "duration": 4998,
    "start_time": "2022-01-20T12:51:37.697Z"
   },
   {
    "duration": 5150,
    "start_time": "2022-01-20T12:52:11.419Z"
   },
   {
    "duration": 5124,
    "start_time": "2022-01-20T12:52:38.670Z"
   },
   {
    "duration": 3892,
    "start_time": "2022-01-20T12:53:13.081Z"
   },
   {
    "duration": 4031,
    "start_time": "2022-01-20T12:53:23.111Z"
   },
   {
    "duration": 4120,
    "start_time": "2022-01-20T12:53:30.870Z"
   },
   {
    "duration": 15,
    "start_time": "2022-01-20T12:55:48.166Z"
   },
   {
    "duration": 14,
    "start_time": "2022-01-20T12:58:00.947Z"
   },
   {
    "duration": 17,
    "start_time": "2022-01-20T12:58:32.387Z"
   },
   {
    "duration": 13,
    "start_time": "2022-01-20T12:58:52.613Z"
   },
   {
    "duration": 3637,
    "start_time": "2022-01-20T13:10:23.524Z"
   },
   {
    "duration": 14,
    "start_time": "2022-01-20T13:30:22.220Z"
   },
   {
    "duration": 13,
    "start_time": "2022-01-20T13:30:57.574Z"
   },
   {
    "duration": 14,
    "start_time": "2022-01-20T13:31:19.469Z"
   },
   {
    "duration": 15,
    "start_time": "2022-01-20T13:37:03.246Z"
   },
   {
    "duration": 22,
    "start_time": "2022-01-20T13:38:40.711Z"
   },
   {
    "duration": 7,
    "start_time": "2022-01-20T13:39:18.792Z"
   },
   {
    "duration": 15,
    "start_time": "2022-01-20T13:39:29.593Z"
   },
   {
    "duration": 15,
    "start_time": "2022-01-20T13:42:22.462Z"
   },
   {
    "duration": 16,
    "start_time": "2022-01-20T13:54:41.851Z"
   },
   {
    "duration": 385,
    "start_time": "2022-01-20T13:59:29.944Z"
   },
   {
    "duration": 282,
    "start_time": "2022-01-20T14:00:11.733Z"
   },
   {
    "duration": 276,
    "start_time": "2022-01-20T14:00:28.787Z"
   },
   {
    "duration": 277,
    "start_time": "2022-01-20T14:01:30.242Z"
   },
   {
    "duration": 283,
    "start_time": "2022-01-20T14:01:57.913Z"
   },
   {
    "duration": 288,
    "start_time": "2022-01-20T14:02:33.756Z"
   },
   {
    "duration": 305,
    "start_time": "2022-01-20T14:03:30.645Z"
   },
   {
    "duration": 359,
    "start_time": "2022-01-20T14:03:37.353Z"
   },
   {
    "duration": 15,
    "start_time": "2022-01-20T14:03:46.794Z"
   },
   {
    "duration": 3900,
    "start_time": "2022-01-20T14:04:29.251Z"
   },
   {
    "duration": 95,
    "start_time": "2022-01-20T14:04:41.123Z"
   },
   {
    "duration": 3823,
    "start_time": "2022-01-20T14:04:48.368Z"
   },
   {
    "duration": 4084,
    "start_time": "2022-01-20T14:12:17.203Z"
   },
   {
    "duration": 13,
    "start_time": "2022-01-20T14:20:53.236Z"
   },
   {
    "duration": 15,
    "start_time": "2022-01-20T14:57:16.550Z"
   },
   {
    "duration": 3836,
    "start_time": "2022-01-20T15:17:01.390Z"
   },
   {
    "duration": 275,
    "start_time": "2022-01-20T15:25:37.009Z"
   },
   {
    "duration": 288,
    "start_time": "2022-01-20T15:25:43.131Z"
   },
   {
    "duration": 305,
    "start_time": "2022-01-20T15:26:17.090Z"
   },
   {
    "duration": 334,
    "start_time": "2022-01-20T15:26:44.780Z"
   },
   {
    "duration": 278,
    "start_time": "2022-01-20T15:28:52.246Z"
   },
   {
    "duration": 24,
    "start_time": "2022-01-20T15:29:03.485Z"
   },
   {
    "duration": 296,
    "start_time": "2022-01-20T15:30:18.226Z"
   },
   {
    "duration": 441,
    "start_time": "2022-01-20T15:30:27.991Z"
   },
   {
    "duration": 484,
    "start_time": "2022-01-20T15:31:00.689Z"
   },
   {
    "duration": 62,
    "start_time": "2022-01-20T15:31:01.641Z"
   },
   {
    "duration": 15,
    "start_time": "2022-01-20T15:31:02.222Z"
   },
   {
    "duration": 10,
    "start_time": "2022-01-20T15:31:02.521Z"
   },
   {
    "duration": 5,
    "start_time": "2022-01-20T15:31:02.802Z"
   },
   {
    "duration": 20,
    "start_time": "2022-01-20T15:31:03.864Z"
   },
   {
    "duration": 13,
    "start_time": "2022-01-20T15:31:04.492Z"
   },
   {
    "duration": 15,
    "start_time": "2022-01-20T15:31:04.785Z"
   },
   {
    "duration": 23,
    "start_time": "2022-01-20T15:31:05.107Z"
   },
   {
    "duration": 16,
    "start_time": "2022-01-20T15:31:05.956Z"
   },
   {
    "duration": 24,
    "start_time": "2022-01-20T15:31:06.640Z"
   },
   {
    "duration": 9,
    "start_time": "2022-01-20T15:31:07.061Z"
   },
   {
    "duration": 233,
    "start_time": "2022-01-20T15:31:08.223Z"
   },
   {
    "duration": 8,
    "start_time": "2022-01-20T15:31:08.955Z"
   },
   {
    "duration": 1334,
    "start_time": "2022-01-20T15:31:09.138Z"
   },
   {
    "duration": 11,
    "start_time": "2022-01-20T15:31:10.474Z"
   },
   {
    "duration": 15,
    "start_time": "2022-01-20T15:31:11.442Z"
   },
   {
    "duration": 3799,
    "start_time": "2022-01-20T15:31:12.284Z"
   },
   {
    "duration": 472,
    "start_time": "2022-01-20T15:31:16.086Z"
   },
   {
    "duration": 186,
    "start_time": "2022-01-20T15:31:29.123Z"
   },
   {
    "duration": 180,
    "start_time": "2022-01-20T15:31:58.204Z"
   },
   {
    "duration": 905,
    "start_time": "2022-01-20T15:32:06.416Z"
   },
   {
    "duration": 232,
    "start_time": "2022-01-20T15:32:13.634Z"
   },
   {
    "duration": 211,
    "start_time": "2022-01-20T15:32:43.974Z"
   },
   {
    "duration": 544,
    "start_time": "2022-01-20T15:33:27.316Z"
   },
   {
    "duration": 465,
    "start_time": "2022-01-20T15:33:43.157Z"
   },
   {
    "duration": 522,
    "start_time": "2022-01-20T15:37:34.596Z"
   },
   {
    "duration": 258,
    "start_time": "2022-01-20T15:38:19.889Z"
   },
   {
    "duration": 214,
    "start_time": "2022-01-20T15:38:25.369Z"
   },
   {
    "duration": 234,
    "start_time": "2022-01-20T15:39:25.548Z"
   },
   {
    "duration": 518,
    "start_time": "2022-01-20T15:41:25.406Z"
   },
   {
    "duration": 633,
    "start_time": "2022-01-20T15:45:13.062Z"
   },
   {
    "duration": 227,
    "start_time": "2022-01-20T15:46:13.836Z"
   },
   {
    "duration": 224,
    "start_time": "2022-01-20T15:46:34.211Z"
   },
   {
    "duration": 560,
    "start_time": "2022-01-20T15:47:01.656Z"
   },
   {
    "duration": 6481,
    "start_time": "2022-01-20T15:54:41.598Z"
   },
   {
    "duration": 15,
    "start_time": "2022-01-20T15:55:03.890Z"
   },
   {
    "duration": 552,
    "start_time": "2022-01-20T16:11:34.834Z"
   },
   {
    "duration": 262,
    "start_time": "2022-01-20T16:11:37.670Z"
   },
   {
    "duration": 356,
    "start_time": "2022-01-21T05:46:55.312Z"
   },
   {
    "duration": 1203,
    "start_time": "2022-01-21T05:47:14.448Z"
   },
   {
    "duration": 53,
    "start_time": "2022-01-21T05:47:15.653Z"
   },
   {
    "duration": 11,
    "start_time": "2022-01-21T05:47:15.708Z"
   },
   {
    "duration": 13,
    "start_time": "2022-01-21T05:47:15.721Z"
   },
   {
    "duration": 6,
    "start_time": "2022-01-21T05:47:15.736Z"
   },
   {
    "duration": 13,
    "start_time": "2022-01-21T05:47:15.743Z"
   },
   {
    "duration": 8,
    "start_time": "2022-01-21T05:47:15.757Z"
   },
   {
    "duration": 12,
    "start_time": "2022-01-21T05:47:15.768Z"
   },
   {
    "duration": 53,
    "start_time": "2022-01-21T05:47:15.782Z"
   },
   {
    "duration": 13,
    "start_time": "2022-01-21T05:47:15.837Z"
   },
   {
    "duration": 17,
    "start_time": "2022-01-21T05:47:15.851Z"
   },
   {
    "duration": 6,
    "start_time": "2022-01-21T05:47:15.870Z"
   },
   {
    "duration": 211,
    "start_time": "2022-01-21T05:47:15.877Z"
   },
   {
    "duration": 7,
    "start_time": "2022-01-21T05:47:16.089Z"
   },
   {
    "duration": 1001,
    "start_time": "2022-01-21T05:47:16.097Z"
   },
   {
    "duration": 10,
    "start_time": "2022-01-21T05:47:17.100Z"
   },
   {
    "duration": 25,
    "start_time": "2022-01-21T05:47:17.112Z"
   },
   {
    "duration": 2851,
    "start_time": "2022-01-21T05:47:17.139Z"
   },
   {
    "duration": 420,
    "start_time": "2022-01-21T05:47:19.992Z"
   },
   {
    "duration": 196,
    "start_time": "2022-01-21T05:47:20.414Z"
   },
   {
    "duration": 486,
    "start_time": "2022-01-21T05:47:25.538Z"
   },
   {
    "duration": 332,
    "start_time": "2022-01-21T05:48:11.996Z"
   },
   {
    "duration": 244,
    "start_time": "2022-01-21T05:49:15.967Z"
   },
   {
    "duration": 236,
    "start_time": "2022-01-21T05:50:34.370Z"
   },
   {
    "duration": 473,
    "start_time": "2022-01-21T05:50:40.542Z"
   },
   {
    "duration": 850,
    "start_time": "2022-01-21T05:50:51.945Z"
   },
   {
    "duration": 290,
    "start_time": "2022-01-21T05:50:59.112Z"
   },
   {
    "duration": 262,
    "start_time": "2022-01-21T05:52:40.785Z"
   },
   {
    "duration": 321,
    "start_time": "2022-01-21T05:52:47.391Z"
   },
   {
    "duration": 469,
    "start_time": "2022-01-21T05:53:37.889Z"
   },
   {
    "duration": 430,
    "start_time": "2022-01-21T05:53:59.771Z"
   },
   {
    "duration": 452,
    "start_time": "2022-01-21T05:54:19.758Z"
   },
   {
    "duration": 499,
    "start_time": "2022-01-21T06:24:19.326Z"
   },
   {
    "duration": 437,
    "start_time": "2022-01-21T06:24:36.621Z"
   },
   {
    "duration": 460,
    "start_time": "2022-01-21T06:32:18.092Z"
   },
   {
    "duration": 757,
    "start_time": "2022-01-21T06:44:06.164Z"
   },
   {
    "duration": 470,
    "start_time": "2022-01-21T06:44:30.848Z"
   },
   {
    "duration": 482,
    "start_time": "2022-01-21T06:44:41.040Z"
   },
   {
    "duration": 470,
    "start_time": "2022-01-21T06:44:48.735Z"
   },
   {
    "duration": 617,
    "start_time": "2022-01-21T06:46:16.610Z"
   },
   {
    "duration": 586,
    "start_time": "2022-01-21T06:46:50.261Z"
   },
   {
    "duration": 600,
    "start_time": "2022-01-21T06:55:40.801Z"
   },
   {
    "duration": 701,
    "start_time": "2022-01-21T06:56:20.415Z"
   },
   {
    "duration": 325,
    "start_time": "2022-01-21T06:56:35.076Z"
   },
   {
    "duration": 548,
    "start_time": "2022-01-21T06:56:46.557Z"
   },
   {
    "duration": 555,
    "start_time": "2022-01-21T06:57:46.154Z"
   },
   {
    "duration": 613,
    "start_time": "2022-01-21T07:09:44.982Z"
   },
   {
    "duration": 162,
    "start_time": "2022-01-21T07:21:23.505Z"
   },
   {
    "duration": 253,
    "start_time": "2022-01-21T07:21:53.408Z"
   },
   {
    "duration": 5,
    "start_time": "2022-01-21T07:24:55.375Z"
   },
   {
    "duration": 5,
    "start_time": "2022-01-21T07:25:10.976Z"
   },
   {
    "duration": 6,
    "start_time": "2022-01-21T07:26:56.868Z"
   },
   {
    "duration": 5,
    "start_time": "2022-01-21T07:27:13.484Z"
   },
   {
    "duration": 8,
    "start_time": "2022-01-21T07:30:08.327Z"
   },
   {
    "duration": 8,
    "start_time": "2022-01-21T07:30:32.671Z"
   },
   {
    "duration": 571,
    "start_time": "2022-01-21T08:00:17.880Z"
   },
   {
    "duration": 591,
    "start_time": "2022-01-21T08:00:30.058Z"
   },
   {
    "duration": 692,
    "start_time": "2022-01-21T08:00:46.688Z"
   },
   {
    "duration": 1188,
    "start_time": "2022-01-21T08:01:00.575Z"
   },
   {
    "duration": 1225,
    "start_time": "2022-01-21T08:02:41.515Z"
   },
   {
    "duration": 1706,
    "start_time": "2022-01-21T08:03:51.543Z"
   },
   {
    "duration": 1566,
    "start_time": "2022-01-21T08:04:06.964Z"
   },
   {
    "duration": 1049,
    "start_time": "2022-01-21T08:04:48.731Z"
   },
   {
    "duration": 1012,
    "start_time": "2022-01-21T08:05:27.632Z"
   },
   {
    "duration": 1204,
    "start_time": "2022-01-21T08:05:41.151Z"
   },
   {
    "duration": 1108,
    "start_time": "2022-01-21T08:06:01.743Z"
   },
   {
    "duration": 1222,
    "start_time": "2022-01-21T08:07:16.528Z"
   },
   {
    "duration": 331,
    "start_time": "2022-01-21T08:09:30.809Z"
   },
   {
    "duration": 725,
    "start_time": "2022-01-21T08:09:55.480Z"
   },
   {
    "duration": 641,
    "start_time": "2022-01-21T08:19:04.527Z"
   },
   {
    "duration": 678,
    "start_time": "2022-01-21T08:19:39.780Z"
   },
   {
    "duration": 554,
    "start_time": "2022-01-21T08:21:28.756Z"
   },
   {
    "duration": 1121,
    "start_time": "2022-01-21T08:24:16.186Z"
   },
   {
    "duration": 483,
    "start_time": "2022-01-21T08:26:53.233Z"
   },
   {
    "duration": 1277,
    "start_time": "2022-01-21T08:27:34.360Z"
   },
   {
    "duration": 1155,
    "start_time": "2022-01-21T08:29:06.488Z"
   },
   {
    "duration": 11,
    "start_time": "2022-01-21T08:31:40.381Z"
   },
   {
    "duration": 13,
    "start_time": "2022-01-21T08:31:59.656Z"
   },
   {
    "duration": 16,
    "start_time": "2022-01-21T08:53:45.587Z"
   },
   {
    "duration": 1204,
    "start_time": "2022-01-21T08:54:55.439Z"
   },
   {
    "duration": 1226,
    "start_time": "2022-01-21T08:55:55.122Z"
   },
   {
    "duration": 936,
    "start_time": "2022-01-21T09:02:49.822Z"
   },
   {
    "duration": 1277,
    "start_time": "2022-01-21T09:03:05.659Z"
   },
   {
    "duration": 317,
    "start_time": "2022-01-21T09:14:22.907Z"
   },
   {
    "duration": 444,
    "start_time": "2022-01-21T09:14:29.126Z"
   },
   {
    "duration": 16,
    "start_time": "2022-01-21T09:14:34.146Z"
   },
   {
    "duration": 350,
    "start_time": "2022-01-21T09:15:10.512Z"
   },
   {
    "duration": 19,
    "start_time": "2022-01-21T09:15:21.916Z"
   },
   {
    "duration": 18,
    "start_time": "2022-01-21T09:15:34.973Z"
   },
   {
    "duration": 745,
    "start_time": "2022-01-21T09:20:03.697Z"
   },
   {
    "duration": 14,
    "start_time": "2022-01-21T09:20:15.351Z"
   },
   {
    "duration": 324,
    "start_time": "2022-01-21T13:17:27.486Z"
   },
   {
    "duration": 1198,
    "start_time": "2022-01-21T13:17:33.176Z"
   },
   {
    "duration": 59,
    "start_time": "2022-01-21T13:17:34.376Z"
   },
   {
    "duration": 12,
    "start_time": "2022-01-21T13:17:34.437Z"
   },
   {
    "duration": 9,
    "start_time": "2022-01-21T13:17:34.451Z"
   },
   {
    "duration": 6,
    "start_time": "2022-01-21T13:17:34.462Z"
   },
   {
    "duration": 14,
    "start_time": "2022-01-21T13:17:34.498Z"
   },
   {
    "duration": 7,
    "start_time": "2022-01-21T13:17:34.514Z"
   },
   {
    "duration": 15,
    "start_time": "2022-01-21T13:17:34.524Z"
   },
   {
    "duration": 23,
    "start_time": "2022-01-21T13:17:34.541Z"
   },
   {
    "duration": 42,
    "start_time": "2022-01-21T13:17:34.566Z"
   },
   {
    "duration": 23,
    "start_time": "2022-01-21T13:17:34.610Z"
   },
   {
    "duration": 11,
    "start_time": "2022-01-21T13:17:34.635Z"
   },
   {
    "duration": 273,
    "start_time": "2022-01-21T13:17:34.647Z"
   },
   {
    "duration": 8,
    "start_time": "2022-01-21T13:17:34.922Z"
   },
   {
    "duration": 1241,
    "start_time": "2022-01-21T13:17:34.932Z"
   },
   {
    "duration": 23,
    "start_time": "2022-01-21T13:17:36.175Z"
   },
   {
    "duration": 15,
    "start_time": "2022-01-21T13:17:36.200Z"
   },
   {
    "duration": 3807,
    "start_time": "2022-01-21T13:17:36.217Z"
   },
   {
    "duration": 259,
    "start_time": "2022-01-21T13:17:40.026Z"
   },
   {
    "duration": 635,
    "start_time": "2022-01-21T13:17:40.287Z"
   },
   {
    "duration": 14,
    "start_time": "2022-01-21T13:17:40.924Z"
   },
   {
    "duration": 1204,
    "start_time": "2022-01-21T13:17:40.940Z"
   },
   {
    "duration": 12,
    "start_time": "2022-01-21T13:17:42.147Z"
   },
   {
    "duration": 22,
    "start_time": "2022-01-21T13:40:42.272Z"
   },
   {
    "duration": 9,
    "start_time": "2022-01-21T13:41:08.936Z"
   },
   {
    "duration": 22,
    "start_time": "2022-01-21T13:41:27.728Z"
   },
   {
    "duration": 8,
    "start_time": "2022-01-21T13:50:53.828Z"
   },
   {
    "duration": 23,
    "start_time": "2022-01-21T13:56:21.917Z"
   },
   {
    "duration": 130,
    "start_time": "2022-01-21T13:57:52.225Z"
   },
   {
    "duration": 330,
    "start_time": "2022-01-21T13:57:57.021Z"
   },
   {
    "duration": 17,
    "start_time": "2022-01-21T13:58:16.036Z"
   },
   {
    "duration": 24,
    "start_time": "2022-01-21T13:58:32.713Z"
   },
   {
    "duration": 17,
    "start_time": "2022-01-21T13:58:44.580Z"
   },
   {
    "duration": 33,
    "start_time": "2022-01-21T14:06:29.932Z"
   },
   {
    "duration": 32,
    "start_time": "2022-01-21T14:12:32.824Z"
   },
   {
    "duration": 35,
    "start_time": "2022-01-21T14:53:04.213Z"
   },
   {
    "duration": 37,
    "start_time": "2022-01-21T14:53:10.002Z"
   },
   {
    "duration": 35,
    "start_time": "2022-01-21T14:53:22.087Z"
   },
   {
    "duration": 36,
    "start_time": "2022-01-21T14:53:25.692Z"
   },
   {
    "duration": 37,
    "start_time": "2022-01-21T14:53:29.989Z"
   },
   {
    "duration": 37,
    "start_time": "2022-01-21T14:53:37.073Z"
   },
   {
    "duration": 36,
    "start_time": "2022-01-21T14:53:47.218Z"
   },
   {
    "duration": 99,
    "start_time": "2022-01-21T14:57:52.709Z"
   },
   {
    "duration": 69,
    "start_time": "2022-01-21T14:58:14.348Z"
   },
   {
    "duration": 73,
    "start_time": "2022-01-21T14:58:21.739Z"
   },
   {
    "duration": 8,
    "start_time": "2022-01-21T16:06:10.883Z"
   },
   {
    "duration": 17,
    "start_time": "2022-01-21T16:07:11.256Z"
   },
   {
    "duration": 23,
    "start_time": "2022-01-21T16:07:31.027Z"
   },
   {
    "duration": 15,
    "start_time": "2022-01-21T16:09:57.064Z"
   },
   {
    "duration": 6,
    "start_time": "2022-01-21T16:11:37.476Z"
   },
   {
    "duration": 20,
    "start_time": "2022-01-21T16:12:06.355Z"
   },
   {
    "duration": 6,
    "start_time": "2022-01-21T16:18:52.490Z"
   },
   {
    "duration": 11,
    "start_time": "2022-01-21T16:20:56.007Z"
   },
   {
    "duration": 7,
    "start_time": "2022-01-21T16:21:14.279Z"
   },
   {
    "duration": 60,
    "start_time": "2022-01-21T16:21:49.916Z"
   },
   {
    "duration": 4,
    "start_time": "2022-01-21T16:53:16.729Z"
   },
   {
    "duration": 14,
    "start_time": "2022-01-21T16:56:37.263Z"
   },
   {
    "duration": 165,
    "start_time": "2022-01-21T16:57:30.059Z"
   },
   {
    "duration": 317,
    "start_time": "2022-01-21T16:59:14.603Z"
   },
   {
    "duration": 271,
    "start_time": "2022-01-21T16:59:30.277Z"
   },
   {
    "duration": 313,
    "start_time": "2022-01-21T16:59:40.541Z"
   },
   {
    "duration": 290,
    "start_time": "2022-01-21T17:01:51.914Z"
   },
   {
    "duration": 271,
    "start_time": "2022-01-21T17:03:30.306Z"
   },
   {
    "duration": 534,
    "start_time": "2022-01-21T17:04:37.810Z"
   },
   {
    "duration": 290,
    "start_time": "2022-01-21T17:04:55.662Z"
   },
   {
    "duration": 283,
    "start_time": "2022-01-21T17:07:30.431Z"
   },
   {
    "duration": 13,
    "start_time": "2022-01-21T17:07:35.446Z"
   },
   {
    "duration": 14,
    "start_time": "2022-01-21T17:08:08.990Z"
   },
   {
    "duration": 81,
    "start_time": "2022-01-21T17:08:28.816Z"
   },
   {
    "duration": 156,
    "start_time": "2022-01-21T17:11:55.879Z"
   },
   {
    "duration": 260,
    "start_time": "2022-01-21T17:14:46.167Z"
   },
   {
    "duration": 286,
    "start_time": "2022-01-21T17:15:02.388Z"
   },
   {
    "duration": 3,
    "start_time": "2022-01-21T17:15:12.053Z"
   },
   {
    "duration": 90,
    "start_time": "2022-01-21T17:15:12.058Z"
   },
   {
    "duration": 11,
    "start_time": "2022-01-21T17:15:12.150Z"
   },
   {
    "duration": 9,
    "start_time": "2022-01-21T17:15:12.163Z"
   },
   {
    "duration": 26,
    "start_time": "2022-01-21T17:15:12.174Z"
   },
   {
    "duration": 17,
    "start_time": "2022-01-21T17:15:12.202Z"
   },
   {
    "duration": 19,
    "start_time": "2022-01-21T17:15:12.221Z"
   },
   {
    "duration": 30,
    "start_time": "2022-01-21T17:15:12.242Z"
   },
   {
    "duration": 25,
    "start_time": "2022-01-21T17:15:12.274Z"
   },
   {
    "duration": 38,
    "start_time": "2022-01-21T17:15:12.301Z"
   },
   {
    "duration": 22,
    "start_time": "2022-01-21T17:15:12.341Z"
   },
   {
    "duration": 15,
    "start_time": "2022-01-21T17:15:12.365Z"
   },
   {
    "duration": 243,
    "start_time": "2022-01-21T17:15:12.382Z"
   },
   {
    "duration": 8,
    "start_time": "2022-01-21T17:15:12.627Z"
   },
   {
    "duration": 1253,
    "start_time": "2022-01-21T17:15:12.637Z"
   },
   {
    "duration": 17,
    "start_time": "2022-01-21T17:15:13.891Z"
   },
   {
    "duration": 14,
    "start_time": "2022-01-21T17:15:13.909Z"
   },
   {
    "duration": 3551,
    "start_time": "2022-01-21T17:15:13.925Z"
   },
   {
    "duration": 321,
    "start_time": "2022-01-21T17:15:17.479Z"
   },
   {
    "duration": 627,
    "start_time": "2022-01-21T17:15:17.802Z"
   },
   {
    "duration": 15,
    "start_time": "2022-01-21T17:15:18.430Z"
   },
   {
    "duration": 1293,
    "start_time": "2022-01-21T17:15:18.447Z"
   },
   {
    "duration": 13,
    "start_time": "2022-01-21T17:15:19.742Z"
   },
   {
    "duration": 87,
    "start_time": "2022-01-21T17:15:19.757Z"
   },
   {
    "duration": 7,
    "start_time": "2022-01-21T17:15:19.846Z"
   },
   {
    "duration": 25,
    "start_time": "2022-01-21T17:15:19.854Z"
   },
   {
    "duration": 346,
    "start_time": "2022-01-21T17:15:19.880Z"
   },
   {
    "duration": 278,
    "start_time": "2022-01-21T17:15:22.220Z"
   },
   {
    "duration": 270,
    "start_time": "2022-01-21T17:15:44.492Z"
   },
   {
    "duration": 293,
    "start_time": "2022-01-21T17:15:50.948Z"
   },
   {
    "duration": 328,
    "start_time": "2022-01-21T17:16:01.888Z"
   },
   {
    "duration": 3,
    "start_time": "2022-01-21T17:16:17.260Z"
   },
   {
    "duration": 53,
    "start_time": "2022-01-21T17:16:17.735Z"
   },
   {
    "duration": 12,
    "start_time": "2022-01-21T17:16:18.175Z"
   },
   {
    "duration": 10,
    "start_time": "2022-01-21T17:16:18.561Z"
   },
   {
    "duration": 6,
    "start_time": "2022-01-21T17:16:19.053Z"
   },
   {
    "duration": 13,
    "start_time": "2022-01-21T17:16:20.608Z"
   },
   {
    "duration": 9,
    "start_time": "2022-01-21T17:16:21.547Z"
   },
   {
    "duration": 14,
    "start_time": "2022-01-21T17:16:21.979Z"
   },
   {
    "duration": 21,
    "start_time": "2022-01-21T17:16:22.429Z"
   },
   {
    "duration": 15,
    "start_time": "2022-01-21T17:16:23.353Z"
   },
   {
    "duration": 22,
    "start_time": "2022-01-21T17:16:24.259Z"
   },
   {
    "duration": 8,
    "start_time": "2022-01-21T17:16:24.696Z"
   },
   {
    "duration": 231,
    "start_time": "2022-01-21T17:16:26.101Z"
   },
   {
    "duration": 7,
    "start_time": "2022-01-21T17:16:27.134Z"
   },
   {
    "duration": 1316,
    "start_time": "2022-01-21T17:16:27.418Z"
   },
   {
    "duration": 12,
    "start_time": "2022-01-21T17:16:28.735Z"
   },
   {
    "duration": 14,
    "start_time": "2022-01-21T17:16:29.475Z"
   },
   {
    "duration": 3605,
    "start_time": "2022-01-21T17:16:30.736Z"
   },
   {
    "duration": 247,
    "start_time": "2022-01-21T17:16:34.343Z"
   },
   {
    "duration": 614,
    "start_time": "2022-01-21T17:16:36.735Z"
   },
   {
    "duration": 15,
    "start_time": "2022-01-21T17:16:38.064Z"
   },
   {
    "duration": 1212,
    "start_time": "2022-01-21T17:16:39.442Z"
   },
   {
    "duration": 16,
    "start_time": "2022-01-21T17:16:41.302Z"
   },
   {
    "duration": 146,
    "start_time": "2022-01-21T17:16:43.999Z"
   },
   {
    "duration": 9,
    "start_time": "2022-01-21T17:16:45.288Z"
   },
   {
    "duration": 4,
    "start_time": "2022-01-21T17:16:46.058Z"
   },
   {
    "duration": 297,
    "start_time": "2022-01-21T17:16:47.405Z"
   },
   {
    "duration": 152,
    "start_time": "2022-01-21T17:17:16.413Z"
   },
   {
    "duration": 157,
    "start_time": "2022-01-21T17:17:50.892Z"
   },
   {
    "duration": 482,
    "start_time": "2022-01-21T17:24:42.600Z"
   },
   {
    "duration": 524,
    "start_time": "2022-01-21T17:30:05.492Z"
   },
   {
    "duration": 405,
    "start_time": "2022-01-21T17:30:24.030Z"
   },
   {
    "duration": 271,
    "start_time": "2022-01-21T17:30:32.426Z"
   },
   {
    "duration": 306,
    "start_time": "2022-01-21T17:30:37.383Z"
   },
   {
    "duration": 638,
    "start_time": "2022-01-21T17:31:25.047Z"
   },
   {
    "duration": 484,
    "start_time": "2022-01-21T17:31:39.405Z"
   },
   {
    "duration": 602,
    "start_time": "2022-01-21T17:32:32.467Z"
   },
   {
    "duration": 498,
    "start_time": "2022-01-21T17:32:40.949Z"
   },
   {
    "duration": 550,
    "start_time": "2022-01-21T17:32:50.741Z"
   },
   {
    "duration": 486,
    "start_time": "2022-01-21T17:33:04.147Z"
   },
   {
    "duration": 469,
    "start_time": "2022-01-21T17:33:13.089Z"
   },
   {
    "duration": 13,
    "start_time": "2022-01-21T17:56:16.893Z"
   },
   {
    "duration": 14,
    "start_time": "2022-01-21T17:56:51.789Z"
   },
   {
    "duration": 3,
    "start_time": "2022-01-21T18:27:38.669Z"
   },
   {
    "duration": 53,
    "start_time": "2022-01-21T18:27:38.674Z"
   },
   {
    "duration": 11,
    "start_time": "2022-01-21T18:27:38.729Z"
   },
   {
    "duration": 10,
    "start_time": "2022-01-21T18:27:38.742Z"
   },
   {
    "duration": 5,
    "start_time": "2022-01-21T18:27:38.754Z"
   },
   {
    "duration": 43,
    "start_time": "2022-01-21T18:27:38.761Z"
   },
   {
    "duration": 8,
    "start_time": "2022-01-21T18:27:38.806Z"
   },
   {
    "duration": 13,
    "start_time": "2022-01-21T18:27:38.816Z"
   },
   {
    "duration": 19,
    "start_time": "2022-01-21T18:27:38.832Z"
   },
   {
    "duration": 15,
    "start_time": "2022-01-21T18:27:38.853Z"
   },
   {
    "duration": 49,
    "start_time": "2022-01-21T18:27:38.870Z"
   },
   {
    "duration": 8,
    "start_time": "2022-01-21T18:27:38.921Z"
   },
   {
    "duration": 240,
    "start_time": "2022-01-21T18:27:38.930Z"
   },
   {
    "duration": 7,
    "start_time": "2022-01-21T18:27:39.172Z"
   },
   {
    "duration": 1310,
    "start_time": "2022-01-21T18:27:39.181Z"
   },
   {
    "duration": 12,
    "start_time": "2022-01-21T18:27:40.498Z"
   },
   {
    "duration": 16,
    "start_time": "2022-01-21T18:27:40.511Z"
   },
   {
    "duration": 3464,
    "start_time": "2022-01-21T18:27:40.529Z"
   },
   {
    "duration": 230,
    "start_time": "2022-01-21T18:27:43.998Z"
   },
   {
    "duration": 617,
    "start_time": "2022-01-21T18:27:44.229Z"
   },
   {
    "duration": 14,
    "start_time": "2022-01-21T18:27:44.848Z"
   },
   {
    "duration": 1373,
    "start_time": "2022-01-21T18:27:44.864Z"
   },
   {
    "duration": 13,
    "start_time": "2022-01-21T18:27:46.238Z"
   },
   {
    "duration": 80,
    "start_time": "2022-01-21T18:27:46.252Z"
   },
   {
    "duration": 7,
    "start_time": "2022-01-21T18:27:46.333Z"
   },
   {
    "duration": 5,
    "start_time": "2022-01-21T18:27:46.341Z"
   },
   {
    "duration": 494,
    "start_time": "2022-01-21T18:27:46.349Z"
   },
   {
    "duration": 9,
    "start_time": "2022-01-21T18:32:58.785Z"
   },
   {
    "duration": 19,
    "start_time": "2022-01-21T18:34:18.322Z"
   },
   {
    "duration": 19,
    "start_time": "2022-01-21T18:34:55.232Z"
   },
   {
    "duration": 8,
    "start_time": "2022-01-21T18:35:31.230Z"
   },
   {
    "duration": 10,
    "start_time": "2022-01-21T18:42:58.341Z"
   },
   {
    "duration": 8,
    "start_time": "2022-01-21T18:45:22.412Z"
   },
   {
    "duration": 8,
    "start_time": "2022-01-21T18:45:38.822Z"
   },
   {
    "duration": 16,
    "start_time": "2022-01-21T18:48:42.098Z"
   },
   {
    "duration": 10,
    "start_time": "2022-01-21T18:48:56.762Z"
   },
   {
    "duration": 11,
    "start_time": "2022-01-21T18:49:01.721Z"
   },
   {
    "duration": 113,
    "start_time": "2022-01-21T18:49:56.182Z"
   },
   {
    "duration": 85,
    "start_time": "2022-01-21T18:50:38.820Z"
   },
   {
    "duration": 3,
    "start_time": "2022-01-21T19:55:25.884Z"
   },
   {
    "duration": 55,
    "start_time": "2022-01-21T19:55:34.207Z"
   },
   {
    "duration": 11,
    "start_time": "2022-01-21T19:55:39.842Z"
   },
   {
    "duration": 10,
    "start_time": "2022-01-21T19:55:50.592Z"
   },
   {
    "duration": 6,
    "start_time": "2022-01-21T19:55:55.651Z"
   },
   {
    "duration": 3,
    "start_time": "2022-01-21T19:58:17.580Z"
   },
   {
    "duration": 52,
    "start_time": "2022-01-21T19:58:18.312Z"
   },
   {
    "duration": 11,
    "start_time": "2022-01-21T19:58:19.070Z"
   },
   {
    "duration": 9,
    "start_time": "2022-01-21T19:58:20.175Z"
   },
   {
    "duration": 5,
    "start_time": "2022-01-21T19:58:21.454Z"
   },
   {
    "duration": 14,
    "start_time": "2022-01-21T19:58:24.201Z"
   },
   {
    "duration": 12,
    "start_time": "2022-01-21T19:58:26.620Z"
   },
   {
    "duration": 14,
    "start_time": "2022-01-21T19:58:41.804Z"
   },
   {
    "duration": 22,
    "start_time": "2022-01-21T19:59:41.365Z"
   },
   {
    "duration": 16,
    "start_time": "2022-01-21T19:59:49.034Z"
   },
   {
    "duration": 529,
    "start_time": "2022-01-21T20:05:36.424Z"
   },
   {
    "duration": 3,
    "start_time": "2022-01-21T20:05:41.788Z"
   },
   {
    "duration": 64,
    "start_time": "2022-01-21T20:05:41.792Z"
   },
   {
    "duration": 11,
    "start_time": "2022-01-21T20:05:41.858Z"
   },
   {
    "duration": 18,
    "start_time": "2022-01-21T20:05:41.871Z"
   },
   {
    "duration": 17,
    "start_time": "2022-01-21T20:05:41.891Z"
   },
   {
    "duration": 29,
    "start_time": "2022-01-21T20:05:41.910Z"
   },
   {
    "duration": 25,
    "start_time": "2022-01-21T20:05:41.941Z"
   },
   {
    "duration": 39,
    "start_time": "2022-01-21T20:05:41.969Z"
   },
   {
    "duration": 20,
    "start_time": "2022-01-21T20:05:42.010Z"
   },
   {
    "duration": 26,
    "start_time": "2022-01-21T20:05:42.031Z"
   },
   {
    "duration": 37,
    "start_time": "2022-01-21T20:05:42.059Z"
   },
   {
    "duration": 7,
    "start_time": "2022-01-21T20:05:42.098Z"
   },
   {
    "duration": 251,
    "start_time": "2022-01-21T20:05:42.107Z"
   },
   {
    "duration": 7,
    "start_time": "2022-01-21T20:05:42.359Z"
   },
   {
    "duration": 1229,
    "start_time": "2022-01-21T20:05:42.368Z"
   },
   {
    "duration": 1282,
    "start_time": "2022-01-21T20:05:47.205Z"
   },
   {
    "duration": 90,
    "start_time": "2022-01-21T20:08:42.001Z"
   },
   {
    "duration": 1867,
    "start_time": "2022-01-21T20:10:30.523Z"
   },
   {
    "duration": 1967,
    "start_time": "2022-01-21T20:10:47.497Z"
   },
   {
    "duration": 1914,
    "start_time": "2022-01-21T20:10:58.519Z"
   },
   {
    "duration": 1914,
    "start_time": "2022-01-21T20:11:19.072Z"
   },
   {
    "duration": 1034,
    "start_time": "2022-01-21T20:11:35.960Z"
   },
   {
    "duration": 1209,
    "start_time": "2022-01-21T20:11:50.677Z"
   },
   {
    "duration": 1289,
    "start_time": "2022-01-21T20:12:16.173Z"
   },
   {
    "duration": 1307,
    "start_time": "2022-01-21T20:12:48.784Z"
   },
   {
    "duration": 7,
    "start_time": "2022-01-21T20:14:41.505Z"
   },
   {
    "duration": 99,
    "start_time": "2022-01-21T20:17:03.430Z"
   },
   {
    "duration": 100,
    "start_time": "2022-01-21T20:17:19.902Z"
   },
   {
    "duration": 99,
    "start_time": "2022-01-21T20:17:25.728Z"
   },
   {
    "duration": 97,
    "start_time": "2022-01-21T20:17:37.144Z"
   },
   {
    "duration": 84,
    "start_time": "2022-01-21T20:17:54.794Z"
   },
   {
    "duration": 88,
    "start_time": "2022-01-21T20:18:21.562Z"
   },
   {
    "duration": 3,
    "start_time": "2022-01-21T20:18:36.289Z"
   },
   {
    "duration": 55,
    "start_time": "2022-01-21T20:18:36.294Z"
   },
   {
    "duration": 11,
    "start_time": "2022-01-21T20:18:36.352Z"
   },
   {
    "duration": 9,
    "start_time": "2022-01-21T20:18:36.365Z"
   },
   {
    "duration": 25,
    "start_time": "2022-01-21T20:18:36.375Z"
   },
   {
    "duration": 13,
    "start_time": "2022-01-21T20:18:36.402Z"
   },
   {
    "duration": 8,
    "start_time": "2022-01-21T20:18:36.416Z"
   },
   {
    "duration": 14,
    "start_time": "2022-01-21T20:18:36.427Z"
   },
   {
    "duration": 19,
    "start_time": "2022-01-21T20:18:36.443Z"
   },
   {
    "duration": 48,
    "start_time": "2022-01-21T20:18:36.464Z"
   },
   {
    "duration": 21,
    "start_time": "2022-01-21T20:18:36.514Z"
   },
   {
    "duration": 8,
    "start_time": "2022-01-21T20:18:36.536Z"
   },
   {
    "duration": 264,
    "start_time": "2022-01-21T20:18:36.546Z"
   },
   {
    "duration": 7,
    "start_time": "2022-01-21T20:18:36.812Z"
   },
   {
    "duration": 1263,
    "start_time": "2022-01-21T20:18:36.821Z"
   },
   {
    "duration": 16,
    "start_time": "2022-01-21T20:18:38.086Z"
   },
   {
    "duration": 14,
    "start_time": "2022-01-21T20:18:38.104Z"
   },
   {
    "duration": 90,
    "start_time": "2022-01-21T20:18:38.119Z"
   },
   {
    "duration": 203,
    "start_time": "2022-01-21T20:19:32.771Z"
   },
   {
    "duration": 2944,
    "start_time": "2022-01-21T20:19:40.789Z"
   },
   {
    "duration": 3293,
    "start_time": "2022-01-21T20:19:59.599Z"
   },
   {
    "duration": 3077,
    "start_time": "2022-01-21T20:20:12.230Z"
   },
   {
    "duration": 2963,
    "start_time": "2022-01-21T20:20:30.159Z"
   },
   {
    "duration": 3380,
    "start_time": "2022-01-21T20:20:42.521Z"
   },
   {
    "duration": 3383,
    "start_time": "2022-01-21T20:20:57.856Z"
   },
   {
    "duration": 3671,
    "start_time": "2022-01-21T20:21:10.745Z"
   },
   {
    "duration": 3968,
    "start_time": "2022-01-21T20:21:29.743Z"
   },
   {
    "duration": 1330,
    "start_time": "2022-01-21T20:26:35.231Z"
   },
   {
    "duration": 1522,
    "start_time": "2022-01-26T18:10:17.265Z"
   },
   {
    "duration": 64,
    "start_time": "2022-01-26T18:10:18.789Z"
   },
   {
    "duration": 13,
    "start_time": "2022-01-26T18:10:18.855Z"
   },
   {
    "duration": 22,
    "start_time": "2022-01-26T18:10:18.870Z"
   },
   {
    "duration": 7,
    "start_time": "2022-01-26T18:10:18.908Z"
   },
   {
    "duration": 21,
    "start_time": "2022-01-26T18:10:18.917Z"
   },
   {
    "duration": 8,
    "start_time": "2022-01-26T18:10:18.940Z"
   },
   {
    "duration": 27,
    "start_time": "2022-01-26T18:10:18.951Z"
   },
   {
    "duration": 47,
    "start_time": "2022-01-26T18:10:18.981Z"
   },
   {
    "duration": 17,
    "start_time": "2022-01-26T18:10:19.030Z"
   },
   {
    "duration": 23,
    "start_time": "2022-01-26T18:10:19.049Z"
   },
   {
    "duration": 35,
    "start_time": "2022-01-26T18:10:19.074Z"
   },
   {
    "duration": 246,
    "start_time": "2022-01-26T18:10:19.111Z"
   },
   {
    "duration": 8,
    "start_time": "2022-01-26T18:10:19.359Z"
   },
   {
    "duration": 1279,
    "start_time": "2022-01-26T18:10:19.370Z"
   },
   {
    "duration": 10,
    "start_time": "2022-01-26T18:10:20.651Z"
   },
   {
    "duration": 27,
    "start_time": "2022-01-26T18:10:20.663Z"
   },
   {
    "duration": 4041,
    "start_time": "2022-01-26T18:10:20.708Z"
   },
   {
    "duration": 262,
    "start_time": "2022-01-26T18:10:24.751Z"
   },
   {
    "duration": 643,
    "start_time": "2022-01-26T18:10:25.015Z"
   },
   {
    "duration": 17,
    "start_time": "2022-01-26T18:10:25.660Z"
   },
   {
    "duration": 1433,
    "start_time": "2022-01-26T18:10:25.679Z"
   },
   {
    "duration": 15,
    "start_time": "2022-01-26T18:10:27.116Z"
   },
   {
    "duration": 102,
    "start_time": "2022-01-26T18:10:27.133Z"
   },
   {
    "duration": 9,
    "start_time": "2022-01-26T18:10:27.236Z"
   },
   {
    "duration": 13,
    "start_time": "2022-01-26T18:10:27.247Z"
   },
   {
    "duration": 520,
    "start_time": "2022-01-26T18:10:27.262Z"
   },
   {
    "duration": 11,
    "start_time": "2022-01-26T18:10:27.784Z"
   },
   {
    "duration": 12,
    "start_time": "2022-01-26T18:10:27.808Z"
   },
   {
    "duration": 6,
    "start_time": "2022-01-26T18:23:16.020Z"
   },
   {
    "duration": 5,
    "start_time": "2022-01-26T18:23:19.024Z"
   },
   {
    "duration": 21,
    "start_time": "2022-01-26T18:24:56.995Z"
   },
   {
    "duration": 2085,
    "start_time": "2022-01-27T12:42:03.534Z"
   },
   {
    "duration": 81,
    "start_time": "2022-01-27T12:42:10.086Z"
   },
   {
    "duration": 19,
    "start_time": "2022-01-27T12:42:11.310Z"
   },
   {
    "duration": 13,
    "start_time": "2022-01-27T12:42:12.859Z"
   },
   {
    "duration": 8,
    "start_time": "2022-01-27T12:42:14.271Z"
   },
   {
    "duration": 18,
    "start_time": "2022-01-27T12:42:30.413Z"
   },
   {
    "duration": 4,
    "start_time": "2022-01-27T12:43:40.725Z"
   },
   {
    "duration": 83,
    "start_time": "2022-01-27T12:43:40.732Z"
   },
   {
    "duration": 30,
    "start_time": "2022-01-27T12:43:40.818Z"
   },
   {
    "duration": 13,
    "start_time": "2022-01-27T12:43:40.850Z"
   },
   {
    "duration": 15,
    "start_time": "2022-01-27T12:43:40.865Z"
   },
   {
    "duration": 15,
    "start_time": "2022-01-27T12:43:42.840Z"
   },
   {
    "duration": 11,
    "start_time": "2022-01-27T12:43:49.861Z"
   },
   {
    "duration": 18,
    "start_time": "2022-01-27T12:43:53.193Z"
   },
   {
    "duration": 30,
    "start_time": "2022-01-27T12:43:56.297Z"
   },
   {
    "duration": 30,
    "start_time": "2022-01-27T12:44:10.098Z"
   },
   {
    "duration": 21,
    "start_time": "2022-01-27T12:44:12.245Z"
   },
   {
    "duration": 34,
    "start_time": "2022-01-27T12:44:33.479Z"
   },
   {
    "duration": 12,
    "start_time": "2022-01-27T12:44:35.601Z"
   },
   {
    "duration": 10,
    "start_time": "2022-01-27T13:28:57.827Z"
   },
   {
    "duration": 19,
    "start_time": "2022-01-27T13:29:10.989Z"
   },
   {
    "duration": 4132,
    "start_time": "2022-01-27T13:29:51.793Z"
   },
   {
    "duration": 28,
    "start_time": "2022-01-27T13:58:35.061Z"
   },
   {
    "duration": 5206,
    "start_time": "2022-01-27T13:58:53.789Z"
   },
   {
    "duration": 4149,
    "start_time": "2022-01-27T13:59:14.234Z"
   },
   {
    "duration": 9,
    "start_time": "2022-01-27T14:10:42.572Z"
   },
   {
    "duration": 23,
    "start_time": "2022-01-27T14:11:03.254Z"
   },
   {
    "duration": 99,
    "start_time": "2022-01-27T15:45:18.378Z"
   },
   {
    "duration": 452,
    "start_time": "2022-01-27T15:45:26.342Z"
   },
   {
    "duration": 4,
    "start_time": "2022-01-27T15:45:32.460Z"
   },
   {
    "duration": 82,
    "start_time": "2022-01-27T15:45:32.467Z"
   },
   {
    "duration": 18,
    "start_time": "2022-01-27T15:45:32.552Z"
   },
   {
    "duration": 13,
    "start_time": "2022-01-27T15:45:32.573Z"
   },
   {
    "duration": 10,
    "start_time": "2022-01-27T15:45:32.589Z"
   },
   {
    "duration": 61,
    "start_time": "2022-01-27T15:45:32.602Z"
   },
   {
    "duration": 10,
    "start_time": "2022-01-27T15:45:32.666Z"
   },
   {
    "duration": 21,
    "start_time": "2022-01-27T15:45:32.680Z"
   },
   {
    "duration": 58,
    "start_time": "2022-01-27T15:45:32.704Z"
   },
   {
    "duration": 23,
    "start_time": "2022-01-27T15:45:32.764Z"
   },
   {
    "duration": 31,
    "start_time": "2022-01-27T15:45:32.790Z"
   },
   {
    "duration": 11,
    "start_time": "2022-01-27T15:45:32.847Z"
   },
   {
    "duration": 348,
    "start_time": "2022-01-27T15:45:32.860Z"
   },
   {
    "duration": 10,
    "start_time": "2022-01-27T15:45:33.211Z"
   },
   {
    "duration": 1884,
    "start_time": "2022-01-27T15:45:33.223Z"
   },
   {
    "duration": 9,
    "start_time": "2022-01-27T15:45:35.109Z"
   },
   {
    "duration": 36,
    "start_time": "2022-01-27T15:45:35.120Z"
   },
   {
    "duration": 3812,
    "start_time": "2022-01-27T15:45:35.159Z"
   },
   {
    "duration": 370,
    "start_time": "2022-01-27T15:45:38.973Z"
   },
   {
    "duration": 820,
    "start_time": "2022-01-27T15:45:39.346Z"
   },
   {
    "duration": 22,
    "start_time": "2022-01-27T15:45:40.168Z"
   },
   {
    "duration": 1677,
    "start_time": "2022-01-27T15:45:40.192Z"
   },
   {
    "duration": 305,
    "start_time": "2022-01-27T15:45:41.873Z"
   },
   {
    "duration": 30,
    "start_time": "2022-01-27T15:46:16.014Z"
   },
   {
    "duration": 109,
    "start_time": "2022-01-27T15:49:07.470Z"
   },
   {
    "duration": 107,
    "start_time": "2022-01-27T15:49:16.410Z"
   },
   {
    "duration": 140,
    "start_time": "2022-01-27T15:49:27.360Z"
   },
   {
    "duration": 95,
    "start_time": "2022-01-27T15:49:36.017Z"
   },
   {
    "duration": 103,
    "start_time": "2022-01-27T15:49:48.934Z"
   },
   {
    "duration": 138,
    "start_time": "2022-01-27T15:49:55.706Z"
   },
   {
    "duration": 92,
    "start_time": "2022-01-27T15:49:59.617Z"
   },
   {
    "duration": 30,
    "start_time": "2022-01-27T15:50:16.062Z"
   },
   {
    "duration": 32,
    "start_time": "2022-01-27T15:51:06.775Z"
   },
   {
    "duration": 33,
    "start_time": "2022-01-27T16:14:51.281Z"
   },
   {
    "duration": 33,
    "start_time": "2022-01-27T16:19:57.696Z"
   },
   {
    "duration": 131,
    "start_time": "2022-01-27T16:55:11.040Z"
   },
   {
    "duration": 8,
    "start_time": "2022-01-27T17:01:50.845Z"
   },
   {
    "duration": 5,
    "start_time": "2022-01-27T17:05:26.888Z"
   },
   {
    "duration": 70,
    "start_time": "2022-01-27T17:05:26.896Z"
   },
   {
    "duration": 22,
    "start_time": "2022-01-27T17:05:26.969Z"
   },
   {
    "duration": 13,
    "start_time": "2022-01-27T17:05:26.993Z"
   },
   {
    "duration": 40,
    "start_time": "2022-01-27T17:05:27.009Z"
   },
   {
    "duration": 15,
    "start_time": "2022-01-27T17:05:27.051Z"
   },
   {
    "duration": 10,
    "start_time": "2022-01-27T17:05:27.070Z"
   },
   {
    "duration": 20,
    "start_time": "2022-01-27T17:05:27.084Z"
   },
   {
    "duration": 70,
    "start_time": "2022-01-27T17:05:27.106Z"
   },
   {
    "duration": 7,
    "start_time": "2022-01-27T17:05:27.179Z"
   },
   {
    "duration": 22,
    "start_time": "2022-01-27T17:05:27.189Z"
   },
   {
    "duration": 67,
    "start_time": "2022-01-27T17:05:27.213Z"
   },
   {
    "duration": 10,
    "start_time": "2022-01-27T17:05:27.282Z"
   },
   {
    "duration": 345,
    "start_time": "2022-01-27T17:05:27.295Z"
   },
   {
    "duration": 11,
    "start_time": "2022-01-27T17:05:27.648Z"
   },
   {
    "duration": 1913,
    "start_time": "2022-01-27T17:05:27.661Z"
   },
   {
    "duration": 8,
    "start_time": "2022-01-27T17:05:29.578Z"
   },
   {
    "duration": 31,
    "start_time": "2022-01-27T17:05:29.589Z"
   },
   {
    "duration": 3670,
    "start_time": "2022-01-27T17:05:29.625Z"
   },
   {
    "duration": 507,
    "start_time": "2022-01-27T17:05:33.297Z"
   },
   {
    "duration": 984,
    "start_time": "2022-01-27T17:05:33.808Z"
   },
   {
    "duration": 23,
    "start_time": "2022-01-27T17:05:34.795Z"
   },
   {
    "duration": 1761,
    "start_time": "2022-01-27T17:05:34.821Z"
   },
   {
    "duration": 30,
    "start_time": "2022-01-27T17:05:36.584Z"
   },
   {
    "duration": 143,
    "start_time": "2022-01-27T17:05:36.617Z"
   },
   {
    "duration": 11,
    "start_time": "2022-01-27T17:05:49.244Z"
   },
   {
    "duration": 681,
    "start_time": "2022-01-27T17:06:43.395Z"
   },
   {
    "duration": 14,
    "start_time": "2022-01-27T17:31:06.897Z"
   },
   {
    "duration": 17,
    "start_time": "2022-01-27T17:31:17.061Z"
   },
   {
    "duration": 1525,
    "start_time": "2022-01-28T13:44:14.754Z"
   },
   {
    "duration": 77,
    "start_time": "2022-01-28T13:44:16.282Z"
   },
   {
    "duration": 21,
    "start_time": "2022-01-28T13:44:16.362Z"
   },
   {
    "duration": 15,
    "start_time": "2022-01-28T13:44:16.386Z"
   },
   {
    "duration": 7,
    "start_time": "2022-01-28T13:44:16.403Z"
   },
   {
    "duration": 15,
    "start_time": "2022-01-28T13:44:16.412Z"
   },
   {
    "duration": 10,
    "start_time": "2022-01-28T13:44:16.470Z"
   },
   {
    "duration": 18,
    "start_time": "2022-01-28T13:44:16.484Z"
   },
   {
    "duration": 65,
    "start_time": "2022-01-28T13:44:16.505Z"
   },
   {
    "duration": 6,
    "start_time": "2022-01-28T13:44:16.572Z"
   },
   {
    "duration": 25,
    "start_time": "2022-01-28T13:44:16.580Z"
   },
   {
    "duration": 37,
    "start_time": "2022-01-28T13:44:16.607Z"
   },
   {
    "duration": 31,
    "start_time": "2022-01-28T13:44:16.646Z"
   },
   {
    "duration": 359,
    "start_time": "2022-01-28T13:44:16.680Z"
   },
   {
    "duration": 10,
    "start_time": "2022-01-28T13:44:17.042Z"
   },
   {
    "duration": 1865,
    "start_time": "2022-01-28T13:44:17.054Z"
   },
   {
    "duration": 8,
    "start_time": "2022-01-28T13:44:18.922Z"
   },
   {
    "duration": 41,
    "start_time": "2022-01-28T13:44:18.932Z"
   },
   {
    "duration": 3812,
    "start_time": "2022-01-28T13:44:18.976Z"
   },
   {
    "duration": 364,
    "start_time": "2022-01-28T13:44:22.791Z"
   },
   {
    "duration": 831,
    "start_time": "2022-01-28T13:44:23.157Z"
   },
   {
    "duration": 21,
    "start_time": "2022-01-28T13:44:23.990Z"
   },
   {
    "duration": 1696,
    "start_time": "2022-01-28T13:44:24.015Z"
   },
   {
    "duration": 29,
    "start_time": "2022-01-28T13:44:25.714Z"
   },
   {
    "duration": 237,
    "start_time": "2022-01-28T13:44:25.745Z"
   },
   {
    "duration": 721,
    "start_time": "2022-01-28T13:44:25.985Z"
   },
   {
    "duration": 13,
    "start_time": "2022-01-28T13:44:26.708Z"
   },
   {
    "duration": 14,
    "start_time": "2022-01-28T13:44:26.723Z"
   },
   {
    "duration": 1549,
    "start_time": "2022-05-15T15:18:59.713Z"
   },
   {
    "duration": 56,
    "start_time": "2022-05-15T15:19:13.128Z"
   },
   {
    "duration": 46,
    "start_time": "2022-05-15T15:19:17.859Z"
   },
   {
    "duration": 6,
    "start_time": "2022-05-15T15:21:07.948Z"
   },
   {
    "duration": 41,
    "start_time": "2022-05-15T15:21:12.279Z"
   },
   {
    "duration": 154,
    "start_time": "2022-05-15T15:23:30.454Z"
   },
   {
    "duration": 13,
    "start_time": "2022-05-15T15:23:42.662Z"
   },
   {
    "duration": 12,
    "start_time": "2022-05-15T15:24:09.546Z"
   },
   {
    "duration": 7,
    "start_time": "2022-05-15T15:24:19.536Z"
   },
   {
    "duration": 7,
    "start_time": "2022-05-15T15:25:09.336Z"
   },
   {
    "duration": 6,
    "start_time": "2022-05-15T15:25:22.140Z"
   },
   {
    "duration": 12,
    "start_time": "2022-05-15T15:27:36.550Z"
   },
   {
    "duration": 12,
    "start_time": "2022-05-15T15:27:50.078Z"
   },
   {
    "duration": 26,
    "start_time": "2022-05-15T15:27:59.290Z"
   },
   {
    "duration": 30,
    "start_time": "2022-05-15T15:28:46.297Z"
   },
   {
    "duration": 42,
    "start_time": "2022-05-15T15:29:03.617Z"
   },
   {
    "duration": 13,
    "start_time": "2022-05-15T15:29:10.064Z"
   },
   {
    "duration": 21,
    "start_time": "2022-05-15T15:29:57.542Z"
   },
   {
    "duration": 298,
    "start_time": "2022-05-15T15:30:04.477Z"
   },
   {
    "duration": 11,
    "start_time": "2022-05-15T15:30:27.826Z"
   },
   {
    "duration": 1302,
    "start_time": "2022-05-15T15:30:29.366Z"
   },
   {
    "duration": 9,
    "start_time": "2022-05-15T15:30:48.523Z"
   },
   {
    "duration": 21,
    "start_time": "2022-05-15T15:31:12.725Z"
   },
   {
    "duration": 4546,
    "start_time": "2022-05-15T15:31:21.740Z"
   },
   {
    "duration": 386,
    "start_time": "2022-05-15T15:31:33.877Z"
   },
   {
    "duration": 781,
    "start_time": "2022-05-15T15:31:50.499Z"
   },
   {
    "duration": 29,
    "start_time": "2022-05-15T15:31:55.351Z"
   },
   {
    "duration": 35,
    "start_time": "2022-05-15T15:32:36.147Z"
   },
   {
    "duration": 114,
    "start_time": "2022-05-15T15:33:07.286Z"
   },
   {
    "duration": 836,
    "start_time": "2022-05-15T15:33:33.358Z"
   },
   {
    "duration": 17,
    "start_time": "2022-05-15T15:34:04.713Z"
   },
   {
    "duration": 13,
    "start_time": "2022-05-15T15:34:23.321Z"
   },
   {
    "duration": 4,
    "start_time": "2022-05-15T15:35:06.863Z"
   },
   {
    "duration": 61,
    "start_time": "2022-05-15T15:35:06.871Z"
   },
   {
    "duration": 42,
    "start_time": "2022-05-15T15:35:06.934Z"
   },
   {
    "duration": 66,
    "start_time": "2022-05-15T15:35:06.979Z"
   },
   {
    "duration": 17,
    "start_time": "2022-05-15T15:35:07.049Z"
   },
   {
    "duration": 11,
    "start_time": "2022-05-15T15:35:07.069Z"
   },
   {
    "duration": 42,
    "start_time": "2022-05-15T15:35:07.084Z"
   },
   {
    "duration": 16,
    "start_time": "2022-05-15T15:35:07.129Z"
   },
   {
    "duration": 27,
    "start_time": "2022-05-15T15:35:07.147Z"
   },
   {
    "duration": 20,
    "start_time": "2022-05-15T15:35:07.177Z"
   },
   {
    "duration": 7,
    "start_time": "2022-05-15T15:35:07.226Z"
   },
   {
    "duration": 34,
    "start_time": "2022-05-15T15:35:07.237Z"
   },
   {
    "duration": 82,
    "start_time": "2022-05-15T15:35:07.274Z"
   },
   {
    "duration": 15,
    "start_time": "2022-05-15T15:35:07.362Z"
   },
   {
    "duration": 59,
    "start_time": "2022-05-15T15:35:07.380Z"
   },
   {
    "duration": 297,
    "start_time": "2022-05-15T15:35:07.442Z"
   },
   {
    "duration": 12,
    "start_time": "2022-05-15T15:35:07.742Z"
   },
   {
    "duration": 1586,
    "start_time": "2022-05-15T15:35:07.757Z"
   },
   {
    "duration": 10,
    "start_time": "2022-05-15T15:35:09.345Z"
   },
   {
    "duration": 28,
    "start_time": "2022-05-15T15:35:09.357Z"
   },
   {
    "duration": 3232,
    "start_time": "2022-05-15T15:35:09.389Z"
   },
   {
    "duration": 285,
    "start_time": "2022-05-15T15:35:12.624Z"
   },
   {
    "duration": 783,
    "start_time": "2022-05-15T15:35:12.912Z"
   },
   {
    "duration": 43,
    "start_time": "2022-05-15T15:35:13.698Z"
   },
   {
    "duration": 1338,
    "start_time": "2022-05-15T15:35:13.744Z"
   },
   {
    "duration": 48,
    "start_time": "2022-05-15T15:35:15.085Z"
   },
   {
    "duration": 153,
    "start_time": "2022-05-15T15:35:15.136Z"
   },
   {
    "duration": 754,
    "start_time": "2022-05-15T15:35:15.292Z"
   },
   {
    "duration": 16,
    "start_time": "2022-05-15T15:35:16.048Z"
   },
   {
    "duration": 16,
    "start_time": "2022-05-15T15:35:16.067Z"
   }
  ],
  "kernelspec": {
   "display_name": "Python 3 (ipykernel)",
   "language": "python",
   "name": "python3"
  },
  "language_info": {
   "codemirror_mode": {
    "name": "ipython",
    "version": 3
   },
   "file_extension": ".py",
   "mimetype": "text/x-python",
   "name": "python",
   "nbconvert_exporter": "python",
   "pygments_lexer": "ipython3",
   "version": "3.9.5"
  },
  "toc": {
   "base_numbering": 1,
   "nav_menu": {},
   "number_sections": true,
   "sideBar": true,
   "skip_h1_title": true,
   "title_cell": "Содержание",
   "title_sidebar": "Contents",
   "toc_cell": true,
   "toc_position": {
    "height": "calc(100% - 180px)",
    "left": "10px",
    "top": "150px",
    "width": "233.102px"
   },
   "toc_section_display": true,
   "toc_window_display": true
  }
 },
 "nbformat": 4,
 "nbformat_minor": 2
}
